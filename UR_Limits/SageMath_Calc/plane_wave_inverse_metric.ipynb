{
 "cells": [
  {
   "cell_type": "code",
   "execution_count": 1,
   "id": "041a298e",
   "metadata": {},
   "outputs": [
    {
     "data": {
      "text/plain": [
       "'Code to compute inverse PW metric'"
      ]
     },
     "execution_count": 1,
     "metadata": {},
     "output_type": "execute_result"
    }
   ],
   "source": [
    "'''Code to compute inverse PW metric'''"
   ]
  },
  {
   "cell_type": "code",
   "execution_count": 5,
   "id": "0208500d",
   "metadata": {},
   "outputs": [
    {
     "name": "stdout",
     "output_type": "stream",
     "text": [
      "4-dimensional Lorentzian manifold M Chart (M, (u, v, x, y)) A_xx(u) A_yy(u) A_xy(u)\n"
     ]
    }
   ],
   "source": [
    "M = Manifold(4, 'M', structure='Lorentzian')\n",
    "X.<u, v, x, y> = M.chart()\n",
    "A_xx = X.function(function('A_xx')(u))\n",
    "A_yy = X.function(function('A_yy')(u))\n",
    "A_xy = X.function(function('A_xy')(u))\n",
    "print(M, X, A_xx, A_yy, A_xy)"
   ]
  },
  {
   "cell_type": "code",
   "execution_count": 9,
   "id": "85065231",
   "metadata": {},
   "outputs": [
    {
     "data": {
      "text/plain": [
       "g = (x^2*A_xx(u) + 2*x*y*A_xy(u) + y^2*A_yy(u)) du⊗du - du⊗dv - dv⊗du + dx⊗dx + dy⊗dy"
      ]
     },
     "execution_count": 9,
     "metadata": {},
     "output_type": "execute_result"
    }
   ],
   "source": [
    "g = M.metric()\n",
    "g[0, 0], g[0, 1], g[1, 0] = A_xx*x*x + A_yy*y*y + 2*A_xy*x*y, -1, -1\n",
    "g[2, 2], g[3, 3] = 1, 1\n",
    "g.display()"
   ]
  },
  {
   "cell_type": "code",
   "execution_count": 19,
   "id": "288f92b2",
   "metadata": {},
   "outputs": [
    {
     "data": {
      "text/plain": [
       "inv_g = -∂/∂u⊗∂/∂v - ∂/∂v⊗∂/∂u + (-x^2*A_xx(u) - 2*x*y*A_xy(u) - y^2*A_yy(u)) ∂/∂v⊗∂/∂v + ∂/∂x⊗∂/∂x + ∂/∂y⊗∂/∂y"
      ]
     },
     "execution_count": 19,
     "metadata": {},
     "output_type": "execute_result"
    }
   ],
   "source": [
    "ginv = g.inverse()\n",
    "ginv.display()"
   ]
  },
  {
   "cell_type": "code",
   "execution_count": 20,
   "id": "6e3b9aa3",
   "metadata": {},
   "outputs": [
    {
     "data": {
      "text/plain": [
       "[1 0 0 0]\n",
       "[0 1 0 0]\n",
       "[0 0 1 0]\n",
       "[0 0 0 1]"
      ]
     },
     "execution_count": 20,
     "metadata": {},
     "output_type": "execute_result"
    }
   ],
   "source": [
    "delta = ginv.down(g)['_{ab}']*g.up(g)['^{bc}']\n",
    "delta[:]"
   ]
  },
  {
   "cell_type": "code",
   "execution_count": 21,
   "id": "12172855",
   "metadata": {},
   "outputs": [
    {
     "data": {
      "text/plain": [
       "Riem(g)^v_xux = A_xx(u) \n",
       "Riem(g)^v_xuy = A_xy(u) \n",
       "Riem(g)^v_yux = A_xy(u) \n",
       "Riem(g)^v_yuy = A_yy(u) \n",
       "Riem(g)^x_uux = A_xx(u) \n",
       "Riem(g)^x_uuy = A_xy(u) \n",
       "Riem(g)^y_uux = A_xy(u) \n",
       "Riem(g)^y_uuy = A_yy(u) "
      ]
     },
     "execution_count": 21,
     "metadata": {},
     "output_type": "execute_result"
    }
   ],
   "source": [
    "riem = g.riemann()\n",
    "riem.display_comp(only_nonredundant=True)"
   ]
  },
  {
   "cell_type": "code",
   "execution_count": 22,
   "id": "59978745",
   "metadata": {},
   "outputs": [
    {
     "data": {
      "text/plain": [
       "X_uxux = -A_xx(u) \n",
       "X_uxuy = -A_xy(u) \n",
       "X_uxxu = A_xx(u) \n",
       "X_uxyu = A_xy(u) \n",
       "X_uyux = -A_xy(u) \n",
       "X_uyuy = -A_yy(u) \n",
       "X_uyxu = A_xy(u) \n",
       "X_uyyu = A_yy(u) \n",
       "X_xuux = A_xx(u) \n",
       "X_xuuy = A_xy(u) \n",
       "X_xuxu = -A_xx(u) \n",
       "X_xuyu = -A_xy(u) \n",
       "X_yuux = A_xy(u) \n",
       "X_yuuy = A_yy(u) \n",
       "X_yuxu = -A_xy(u) \n",
       "X_yuyu = -A_yy(u) "
      ]
     },
     "execution_count": 22,
     "metadata": {},
     "output_type": "execute_result"
    }
   ],
   "source": [
    "riemdown = riem.down(g)\n",
    "riemdown.display_comp()"
   ]
  },
  {
   "cell_type": "code",
   "execution_count": 23,
   "id": "9fae81e6",
   "metadata": {},
   "outputs": [
    {
     "data": {
      "text/plain": [
       "X^vxvx = -A_xx(u) \n",
       "X^vxvy = -A_xy(u) \n",
       "X^vxxv = A_xx(u) \n",
       "X^vxyv = A_xy(u) \n",
       "X^vyvx = -A_xy(u) \n",
       "X^vyvy = -A_yy(u) \n",
       "X^vyxv = A_xy(u) \n",
       "X^vyyv = A_yy(u) \n",
       "X^xvvx = A_xx(u) \n",
       "X^xvvy = A_xy(u) \n",
       "X^xvxv = -A_xx(u) \n",
       "X^xvyv = -A_xy(u) \n",
       "X^yvvx = A_xy(u) \n",
       "X^yvvy = A_yy(u) \n",
       "X^yvxv = -A_xy(u) \n",
       "X^yvyv = -A_yy(u) "
      ]
     },
     "execution_count": 23,
     "metadata": {},
     "output_type": "execute_result"
    }
   ],
   "source": [
    "riemup = riem.up(g)\n",
    "riemup.display_comp()"
   ]
  },
  {
   "cell_type": "code",
   "execution_count": 17,
   "id": "8db2c2eb",
   "metadata": {},
   "outputs": [
    {
     "data": {
      "text/plain": [
       "0"
      ]
     },
     "execution_count": 17,
     "metadata": {},
     "output_type": "execute_result"
    }
   ],
   "source": [
    "'''The Kretschmann invariant'''\n",
    "K = riem.down(g)['_{abcd}'] * riem.up(g)['^{abcd}']\n",
    "K.expr()"
   ]
  },
  {
   "cell_type": "code",
   "execution_count": null,
   "id": "bc389aa5",
   "metadata": {},
   "outputs": [],
   "source": []
  }
 ],
 "metadata": {
  "kernelspec": {
   "display_name": "SageMath 9.7",
   "language": "sage",
   "name": "sagemath"
  },
  "language_info": {
   "codemirror_mode": {
    "name": "ipython",
    "version": 3
   },
   "file_extension": ".py",
   "mimetype": "text/x-python",
   "name": "python",
   "nbconvert_exporter": "python",
   "pygments_lexer": "ipython3",
   "version": "3.8.10"
  }
 },
 "nbformat": 4,
 "nbformat_minor": 5
}
