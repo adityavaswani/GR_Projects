{
 "cells": [
  {
   "cell_type": "code",
   "execution_count": 176,
   "id": "54542fb6",
   "metadata": {},
   "outputs": [],
   "source": [
    "%display latex"
   ]
  },
  {
   "cell_type": "code",
   "execution_count": 177,
   "id": "24e12030",
   "metadata": {},
   "outputs": [
    {
     "data": {
      "text/html": [
       "<html>\\(\\displaystyle \\left(\\begin{array}{rrrr}\n",
       "-1 & 0 & 0 & 0 \\\\\n",
       "0 & 1 & 0 & 0 \\\\\n",
       "0 & 0 & 1 & 0 \\\\\n",
       "0 & 0 & 0 & 1\n",
       "\\end{array}\\right)\\)</html>"
      ],
      "text/latex": [
       "$\\displaystyle \\left(\\begin{array}{rrrr}\n",
       "-1 & 0 & 0 & 0 \\\\\n",
       "0 & 1 & 0 & 0 \\\\\n",
       "0 & 0 & 1 & 0 \\\\\n",
       "0 & 0 & 0 & 1\n",
       "\\end{array}\\right)$"
      ],
      "text/plain": [
       "[-1  0  0  0]\n",
       "[ 0  1  0  0]\n",
       "[ 0  0  1  0]\n",
       "[ 0  0  0  1]"
      ]
     },
     "execution_count": 177,
     "metadata": {},
     "output_type": "execute_result"
    }
   ],
   "source": [
    "M = Manifold(4, 'M', structure='Lorentzian')\n",
    "X.<t, x, y, z> = M.chart(r't:(0,+oo) x:(-oo,+oo) y:(-oo,+oo) z:(-oo,+oo)')\n",
    "g = M.metric('g')\n",
    "g[0, 0], g[1, 1], g[2, 2], g[3, 3] = -1, 1, 1, 1\n",
    "g[:]"
   ]
  },
  {
   "cell_type": "code",
   "execution_count": 178,
   "id": "b20235a1",
   "metadata": {},
   "outputs": [
    {
     "data": {
      "text/html": [
       "<html>\\(\\displaystyle \\left[\\left[\\left[0, 0, 0, 0\\right], \\left[0, 0, 0, 0\\right], \\left[0, 0, 0, 0\\right], \\left[0, 0, 0, 0\\right]\\right], \\left[\\left[0, 0, 0, 0\\right], \\left[0, 0, 0, 0\\right], \\left[0, 0, 0, 0\\right], \\left[0, 0, 0, 0\\right]\\right], \\left[\\left[0, 0, 0, 0\\right], \\left[0, 0, 0, 0\\right], \\left[0, 0, 0, 0\\right], \\left[0, 0, 0, 0\\right]\\right], \\left[\\left[0, 0, 0, 0\\right], \\left[0, 0, 0, 0\\right], \\left[0, 0, 0, 0\\right], \\left[0, 0, 0, 0\\right]\\right]\\right]\\)</html>"
      ],
      "text/latex": [
       "$\\displaystyle \\left[\\left[\\left[0, 0, 0, 0\\right], \\left[0, 0, 0, 0\\right], \\left[0, 0, 0, 0\\right], \\left[0, 0, 0, 0\\right]\\right], \\left[\\left[0, 0, 0, 0\\right], \\left[0, 0, 0, 0\\right], \\left[0, 0, 0, 0\\right], \\left[0, 0, 0, 0\\right]\\right], \\left[\\left[0, 0, 0, 0\\right], \\left[0, 0, 0, 0\\right], \\left[0, 0, 0, 0\\right], \\left[0, 0, 0, 0\\right]\\right], \\left[\\left[0, 0, 0, 0\\right], \\left[0, 0, 0, 0\\right], \\left[0, 0, 0, 0\\right], \\left[0, 0, 0, 0\\right]\\right]\\right]$"
      ],
      "text/plain": [
       "[[[0, 0, 0, 0], [0, 0, 0, 0], [0, 0, 0, 0], [0, 0, 0, 0]],\n",
       " [[0, 0, 0, 0], [0, 0, 0, 0], [0, 0, 0, 0], [0, 0, 0, 0]],\n",
       " [[0, 0, 0, 0], [0, 0, 0, 0], [0, 0, 0, 0], [0, 0, 0, 0]],\n",
       " [[0, 0, 0, 0], [0, 0, 0, 0], [0, 0, 0, 0], [0, 0, 0, 0]]]"
      ]
     },
     "execution_count": 178,
     "metadata": {},
     "output_type": "execute_result"
    }
   ],
   "source": [
    "Gam = g.christoffel_symbols()\n",
    "nab = M.affine_connection('nabla', r'\\nabla')\n",
    "nab[:] = Gam[:]\n",
    "nab[:]"
   ]
  },
  {
   "cell_type": "code",
   "execution_count": 179,
   "id": "cc65d543",
   "metadata": {},
   "outputs": [
    {
     "data": {
      "text/html": [
       "<html>\\(\\displaystyle \\left(M,(t, r, {\\theta}, {\\phi})\\right)\\)</html>"
      ],
      "text/latex": [
       "$\\displaystyle \\left(M,(t, r, {\\theta}, {\\phi})\\right)$"
      ],
      "text/plain": [
       "Chart (M, (t, r, th, ph))"
      ]
     },
     "execution_count": 179,
     "metadata": {},
     "output_type": "execute_result"
    }
   ],
   "source": [
    "Y.<t, r, th, ph> = M.chart(r't:(0,+oo) r:(0,+oo) th:(0,pi):\\theta ph:(0,2*pi):\\phi')\n",
    "Y"
   ]
  },
  {
   "cell_type": "code",
   "execution_count": 180,
   "id": "1f48d80e",
   "metadata": {},
   "outputs": [
    {
     "data": {
      "text/html": [
       "<html>\\(\\displaystyle \\left(M,(t, r, {\\theta}, {\\phi})\\right) \\rightarrow \\left(M,(t, x, y, z)\\right)\\)</html>"
      ],
      "text/latex": [
       "$\\displaystyle \\left(M,(t, r, {\\theta}, {\\phi})\\right) \\rightarrow \\left(M,(t, x, y, z)\\right)$"
      ],
      "text/plain": [
       "Change of coordinates from Chart (M, (t, r, th, ph)) to Chart (M, (t, x, y, z))"
      ]
     },
     "execution_count": 180,
     "metadata": {},
     "output_type": "execute_result"
    }
   ],
   "source": [
    "transit_Y_to_X = Y.transition_map(X, [t, r*sin(th)*cos(ph), r*sin(th)*sin(ph), r*cos(th)])\n",
    "transit_Y_to_X"
   ]
  },
  {
   "cell_type": "code",
   "execution_count": 181,
   "id": "6c186cc8",
   "metadata": {},
   "outputs": [
    {
     "data": {
      "text/html": [
       "<html>\\(\\displaystyle \\left\\{\\begin{array}{lcl} t & = & t \\\\ x & = & r \\cos\\left({\\phi}\\right) \\sin\\left({\\theta}\\right) \\\\ y & = & r \\sin\\left({\\phi}\\right) \\sin\\left({\\theta}\\right) \\\\ z & = & r \\cos\\left({\\theta}\\right) \\end{array}\\right.\\)</html>"
      ],
      "text/latex": [
       "$\\displaystyle \\left\\{\\begin{array}{lcl} t & = & t \\\\ x & = & r \\cos\\left({\\phi}\\right) \\sin\\left({\\theta}\\right) \\\\ y & = & r \\sin\\left({\\phi}\\right) \\sin\\left({\\theta}\\right) \\\\ z & = & r \\cos\\left({\\theta}\\right) \\end{array}\\right.$"
      ],
      "text/plain": [
       "t = t\n",
       "x = r*cos(ph)*sin(th)\n",
       "y = r*sin(ph)*sin(th)\n",
       "z = r*cos(th)"
      ]
     },
     "execution_count": 181,
     "metadata": {},
     "output_type": "execute_result"
    }
   ],
   "source": [
    "transit_Y_to_X.display()"
   ]
  },
  {
   "cell_type": "code",
   "execution_count": 182,
   "id": "5d8c4d72",
   "metadata": {},
   "outputs": [
    {
     "name": "stdout",
     "output_type": "stream",
     "text": [
      "Check of the inverse coordinate transformation:\n",
      "  t == t  *passed*\n",
      "  r == r  *passed*\n",
      "  th == arctan2(r*sin(th), r*cos(th))  **failed**\n",
      "  ph == arctan2(r*sin(ph)*sin(th), r*cos(ph)*sin(th))  **failed**\n",
      "  t == t  *passed*\n",
      "  x == x  *passed*\n",
      "  y == y  *passed*\n",
      "  z == z  *passed*\n",
      "NB: a failed report can reflect a mere lack of simplification.\n"
     ]
    },
    {
     "data": {
      "text/html": [
       "<html>\\(\\displaystyle \\left(M,(t, x, y, z)\\right) \\rightarrow \\left(M,(t, r, {\\theta}, {\\phi})\\right)\\)</html>"
      ],
      "text/latex": [
       "$\\displaystyle \\left(M,(t, x, y, z)\\right) \\rightarrow \\left(M,(t, r, {\\theta}, {\\phi})\\right)$"
      ],
      "text/plain": [
       "Change of coordinates from Chart (M, (t, x, y, z)) to Chart (M, (t, r, th, ph))"
      ]
     },
     "execution_count": 182,
     "metadata": {},
     "output_type": "execute_result"
    }
   ],
   "source": [
    "transit_Y_to_X.set_inverse(t, sqrt(x^2+y^2+z^2), atan2(sqrt(x^2+y^2),z), atan2(y, x))\n",
    "transit_Y_to_X.inverse()"
   ]
  },
  {
   "cell_type": "code",
   "execution_count": 183,
   "id": "32e2cddc",
   "metadata": {},
   "outputs": [
    {
     "data": {
      "text/html": [
       "<html>\\(\\displaystyle \\left\\{\\begin{array}{lcl} t & = & t \\\\ r & = & \\sqrt{x^{2} + y^{2} + z^{2}} \\\\ {\\theta} & = & \\arctan\\left(\\sqrt{x^{2} + y^{2}}, z\\right) \\\\ {\\phi} & = & \\arctan\\left(y, x\\right) \\end{array}\\right.\\)</html>"
      ],
      "text/latex": [
       "$\\displaystyle \\left\\{\\begin{array}{lcl} t & = & t \\\\ r & = & \\sqrt{x^{2} + y^{2} + z^{2}} \\\\ {\\theta} & = & \\arctan\\left(\\sqrt{x^{2} + y^{2}}, z\\right) \\\\ {\\phi} & = & \\arctan\\left(y, x\\right) \\end{array}\\right.$"
      ],
      "text/plain": [
       "t = t\n",
       "r = sqrt(x^2 + y^2 + z^2)\n",
       "th = arctan2(sqrt(x^2 + y^2), z)\n",
       "ph = arctan2(y, x)"
      ]
     },
     "execution_count": 183,
     "metadata": {},
     "output_type": "execute_result"
    }
   ],
   "source": [
    "transit_Y_to_X.inverse().display()"
   ]
  },
  {
   "cell_type": "code",
   "execution_count": 184,
   "id": "948ffcc3",
   "metadata": {},
   "outputs": [
    {
     "data": {
      "text/html": [
       "<html>\\(\\displaystyle \\left[\\left(M, \\left(\\frac{\\partial}{\\partial t },\\frac{\\partial}{\\partial x },\\frac{\\partial}{\\partial y },\\frac{\\partial}{\\partial z }\\right)\\right), \\left(M, \\left(\\frac{\\partial}{\\partial t },\\frac{\\partial}{\\partial r },\\frac{\\partial}{\\partial {\\theta} },\\frac{\\partial}{\\partial {\\phi} }\\right)\\right)\\right]\\)</html>"
      ],
      "text/latex": [
       "$\\displaystyle \\left[\\left(M, \\left(\\frac{\\partial}{\\partial t },\\frac{\\partial}{\\partial x },\\frac{\\partial}{\\partial y },\\frac{\\partial}{\\partial z }\\right)\\right), \\left(M, \\left(\\frac{\\partial}{\\partial t },\\frac{\\partial}{\\partial r },\\frac{\\partial}{\\partial {\\theta} },\\frac{\\partial}{\\partial {\\phi} }\\right)\\right)\\right]$"
      ],
      "text/plain": [
       "[Coordinate frame (M, (∂/∂t,∂/∂x,∂/∂y,∂/∂z)),\n",
       " Coordinate frame (M, (∂/∂t,∂/∂r,∂/∂th,∂/∂ph))]"
      ]
     },
     "execution_count": 184,
     "metadata": {},
     "output_type": "execute_result"
    }
   ],
   "source": [
    "M.frames()[:]"
   ]
  },
  {
   "cell_type": "code",
   "execution_count": 185,
   "id": "e497fbbb",
   "metadata": {},
   "outputs": [
    {
     "data": {
      "text/html": [
       "<html>\\(\\displaystyle \\left(\\left(\\frac{\\partial}{\\partial t }, \\frac{\\partial}{\\partial x }, \\frac{\\partial}{\\partial y }, \\frac{\\partial}{\\partial z }\\right), \\left(\\frac{\\partial}{\\partial t }, \\frac{\\partial}{\\partial r }, \\frac{\\partial}{\\partial {\\theta} }, \\frac{\\partial}{\\partial {\\phi} }\\right)\\right)\\)</html>"
      ],
      "text/latex": [
       "$\\displaystyle \\left(\\left(\\frac{\\partial}{\\partial t }, \\frac{\\partial}{\\partial x }, \\frac{\\partial}{\\partial y }, \\frac{\\partial}{\\partial z }\\right), \\left(\\frac{\\partial}{\\partial t }, \\frac{\\partial}{\\partial r }, \\frac{\\partial}{\\partial {\\theta} }, \\frac{\\partial}{\\partial {\\phi} }\\right)\\right)$"
      ],
      "text/plain": [
       "((Vector field ∂/∂t on the 4-dimensional Lorentzian manifold M,\n",
       "  Vector field ∂/∂x on the 4-dimensional Lorentzian manifold M,\n",
       "  Vector field ∂/∂y on the 4-dimensional Lorentzian manifold M,\n",
       "  Vector field ∂/∂z on the 4-dimensional Lorentzian manifold M),\n",
       " (Vector field ∂/∂t on the 4-dimensional Lorentzian manifold M,\n",
       "  Vector field ∂/∂r on the 4-dimensional Lorentzian manifold M,\n",
       "  Vector field ∂/∂th on the 4-dimensional Lorentzian manifold M,\n",
       "  Vector field ∂/∂ph on the 4-dimensional Lorentzian manifold M))"
      ]
     },
     "execution_count": 185,
     "metadata": {},
     "output_type": "execute_result"
    }
   ],
   "source": [
    "eX = M.frames()[0]\n",
    "eY = M.frames()[1]\n",
    "eX[:], eY[:]"
   ]
  },
  {
   "cell_type": "code",
   "execution_count": 186,
   "id": "32265e61",
   "metadata": {},
   "outputs": [
    {
     "data": {
      "text/html": [
       "<html>\\(\\displaystyle \\left(\\frac{\\partial}{\\partial t }, \\frac{\\partial}{\\partial x }, \\frac{\\partial}{\\partial y }, \\frac{\\partial}{\\partial z }\\right)\\)</html>"
      ],
      "text/latex": [
       "$\\displaystyle \\left(\\frac{\\partial}{\\partial t }, \\frac{\\partial}{\\partial x }, \\frac{\\partial}{\\partial y }, \\frac{\\partial}{\\partial z }\\right)$"
      ],
      "text/plain": [
       "(Vector field ∂/∂t on the 4-dimensional Lorentzian manifold M,\n",
       " Vector field ∂/∂x on the 4-dimensional Lorentzian manifold M,\n",
       " Vector field ∂/∂y on the 4-dimensional Lorentzian manifold M,\n",
       " Vector field ∂/∂z on the 4-dimensional Lorentzian manifold M)"
      ]
     },
     "execution_count": 186,
     "metadata": {},
     "output_type": "execute_result"
    }
   ],
   "source": [
    "M.default_frame()[:]"
   ]
  },
  {
   "cell_type": "code",
   "execution_count": 187,
   "id": "0b25ddb7",
   "metadata": {},
   "outputs": [
    {
     "data": {
      "text/html": [
       "<html>\\(\\displaystyle \\left(\\left[1, 0, 0, 0\\right], \\left[0, 1, 0, 0\\right], \\left[0, 0, 1, 0\\right], \\left[0, 0, 0, 1\\right]\\right)\\)</html>"
      ],
      "text/latex": [
       "$\\displaystyle \\left(\\left[1, 0, 0, 0\\right], \\left[0, 1, 0, 0\\right], \\left[0, 0, 1, 0\\right], \\left[0, 0, 0, 1\\right]\\right)$"
      ],
      "text/plain": [
       "([1, 0, 0, 0], [0, 1, 0, 0], [0, 0, 1, 0], [0, 0, 0, 1])"
      ]
     },
     "execution_count": 187,
     "metadata": {},
     "output_type": "execute_result"
    }
   ],
   "source": [
    "T0 = M.vector_field(name='T_0')\n",
    "T1 = M.vector_field(name='T_1')\n",
    "T2 = M.vector_field(name='T_2')\n",
    "T3 = M.vector_field(name='T_3')\n",
    "T0[:] = [1, 0, 0, 0]\n",
    "T1[:] = [0, 1, 0, 0]\n",
    "T2[:] = [0, 0, 1, 0]\n",
    "T3[:] = [0, 0, 0, 1]\n",
    "T0[:], T1[:], T2[:], T3[:]"
   ]
  },
  {
   "cell_type": "code",
   "execution_count": 188,
   "id": "e5fe9e21",
   "metadata": {},
   "outputs": [
    {
     "data": {
      "text/html": [
       "<html>\\(\\displaystyle \\left(\\left[0, 0, -z, y\\right], \\left[0, z, 0, -x\\right], \\left[0, -y, x, 0\\right]\\right)\\)</html>"
      ],
      "text/latex": [
       "$\\displaystyle \\left(\\left[0, 0, -z, y\\right], \\left[0, z, 0, -x\\right], \\left[0, -y, x, 0\\right]\\right)$"
      ],
      "text/plain": [
       "([0, 0, -z, y], [0, z, 0, -x], [0, -y, x, 0])"
      ]
     },
     "execution_count": 188,
     "metadata": {},
     "output_type": "execute_result"
    }
   ],
   "source": [
    "J1 = M.vector_field(name='J_1')\n",
    "J2 = M.vector_field(name='J_2')\n",
    "J3 = M.vector_field(name='J_3')\n",
    "J1[:] = [0, 0, -z, y]\n",
    "J2[:] = [0, z, 0, -x]\n",
    "J3[:] = [0, -y, x, 0]\n",
    "J1[:], J2[:], J3[:]"
   ]
  },
  {
   "cell_type": "code",
   "execution_count": 189,
   "id": "d43d7f24",
   "metadata": {},
   "outputs": [
    {
     "data": {
      "text/html": [
       "<html>\\(\\displaystyle \\left(\\left[x, t, 0, 0\\right], \\left[y, 0, t, 0\\right], \\left[z, 0, 0, t\\right]\\right)\\)</html>"
      ],
      "text/latex": [
       "$\\displaystyle \\left(\\left[x, t, 0, 0\\right], \\left[y, 0, t, 0\\right], \\left[z, 0, 0, t\\right]\\right)$"
      ],
      "text/plain": [
       "([x, t, 0, 0], [y, 0, t, 0], [z, 0, 0, t])"
      ]
     },
     "execution_count": 189,
     "metadata": {},
     "output_type": "execute_result"
    }
   ],
   "source": [
    "K1 = M.vector_field(name='K_1')\n",
    "K2 = M.vector_field(name='K_2')\n",
    "K3 = M.vector_field(name='K_3')\n",
    "K1[:] = [x, t, 0, 0]\n",
    "K2[:] = [y, 0, t, 0]\n",
    "K3[:] = [z, 0, 0, t]\n",
    "K1[:], K2[:], K3[:]"
   ]
  },
  {
   "cell_type": "code",
   "execution_count": 190,
   "id": "88ceb589",
   "metadata": {},
   "outputs": [
    {
     "data": {
      "text/html": [
       "<html>\\(\\displaystyle K_1 = x \\frac{\\partial}{\\partial t } + t \\frac{\\partial}{\\partial x }\\)</html>"
      ],
      "text/latex": [
       "$\\displaystyle K_1 = x \\frac{\\partial}{\\partial t } + t \\frac{\\partial}{\\partial x }$"
      ],
      "text/plain": [
       "K_1 = x ∂/∂t + t ∂/∂x"
      ]
     },
     "execution_count": 190,
     "metadata": {},
     "output_type": "execute_result"
    }
   ],
   "source": [
    "K1.display()"
   ]
  },
  {
   "cell_type": "code",
   "execution_count": 191,
   "id": "fcfabaa5",
   "metadata": {},
   "outputs": [
    {
     "data": {
      "text/html": [
       "<html>\\(\\displaystyle \\left(T_0 = \\frac{\\partial}{\\partial t }, T_1 = \\cos\\left({\\phi}\\right) \\sin\\left({\\theta}\\right) \\frac{\\partial}{\\partial r } + \\frac{\\cos\\left({\\phi}\\right) \\cos\\left({\\theta}\\right)}{r} \\frac{\\partial}{\\partial {\\theta} } -\\frac{\\sin\\left({\\phi}\\right)}{r \\sin\\left({\\theta}\\right)} \\frac{\\partial}{\\partial {\\phi} }, T_2 = \\sin\\left({\\phi}\\right) \\sin\\left({\\theta}\\right) \\frac{\\partial}{\\partial r } + \\frac{\\cos\\left({\\theta}\\right) \\sin\\left({\\phi}\\right)}{r} \\frac{\\partial}{\\partial {\\theta} } + \\frac{\\cos\\left({\\phi}\\right)}{r \\sin\\left({\\theta}\\right)} \\frac{\\partial}{\\partial {\\phi} }, T_3 = \\cos\\left({\\theta}\\right) \\frac{\\partial}{\\partial r } -\\frac{\\sin\\left({\\theta}\\right)}{r} \\frac{\\partial}{\\partial {\\theta} }\\right)\\)</html>"
      ],
      "text/latex": [
       "$\\displaystyle \\left(T_0 = \\frac{\\partial}{\\partial t }, T_1 = \\cos\\left({\\phi}\\right) \\sin\\left({\\theta}\\right) \\frac{\\partial}{\\partial r } + \\frac{\\cos\\left({\\phi}\\right) \\cos\\left({\\theta}\\right)}{r} \\frac{\\partial}{\\partial {\\theta} } -\\frac{\\sin\\left({\\phi}\\right)}{r \\sin\\left({\\theta}\\right)} \\frac{\\partial}{\\partial {\\phi} }, T_2 = \\sin\\left({\\phi}\\right) \\sin\\left({\\theta}\\right) \\frac{\\partial}{\\partial r } + \\frac{\\cos\\left({\\theta}\\right) \\sin\\left({\\phi}\\right)}{r} \\frac{\\partial}{\\partial {\\theta} } + \\frac{\\cos\\left({\\phi}\\right)}{r \\sin\\left({\\theta}\\right)} \\frac{\\partial}{\\partial {\\phi} }, T_3 = \\cos\\left({\\theta}\\right) \\frac{\\partial}{\\partial r } -\\frac{\\sin\\left({\\theta}\\right)}{r} \\frac{\\partial}{\\partial {\\theta} }\\right)$"
      ],
      "text/plain": [
       "(T_0 = ∂/∂t,\n",
       " T_1 = cos(ph)*sin(th) ∂/∂r + cos(ph)*cos(th)/r ∂/∂th - sin(ph)/(r*sin(th)) ∂/∂ph,\n",
       " T_2 = sin(ph)*sin(th) ∂/∂r + cos(th)*sin(ph)/r ∂/∂th + cos(ph)/(r*sin(th)) ∂/∂ph,\n",
       " T_3 = cos(th) ∂/∂r - sin(th)/r ∂/∂th)"
      ]
     },
     "execution_count": 191,
     "metadata": {},
     "output_type": "execute_result"
    }
   ],
   "source": [
    "T0.display(eY, Y), T1.display(eY, Y), T2.display(eY, Y), T3.display(eY, Y)"
   ]
  },
  {
   "cell_type": "code",
   "execution_count": 192,
   "id": "a505eaa1",
   "metadata": {},
   "outputs": [
    {
     "data": {
      "text/html": [
       "<html>\\(\\displaystyle \\left(J_1 = -\\sin\\left({\\phi}\\right) \\frac{\\partial}{\\partial {\\theta} } -\\frac{\\cos\\left({\\phi}\\right) \\cos\\left({\\theta}\\right)}{\\sin\\left({\\theta}\\right)} \\frac{\\partial}{\\partial {\\phi} }, J_2 = \\cos\\left({\\phi}\\right) \\frac{\\partial}{\\partial {\\theta} } -\\frac{\\cos\\left({\\theta}\\right) \\sin\\left({\\phi}\\right)}{\\sin\\left({\\theta}\\right)} \\frac{\\partial}{\\partial {\\phi} }, J_3 = \\frac{\\partial}{\\partial {\\phi} }\\right)\\)</html>"
      ],
      "text/latex": [
       "$\\displaystyle \\left(J_1 = -\\sin\\left({\\phi}\\right) \\frac{\\partial}{\\partial {\\theta} } -\\frac{\\cos\\left({\\phi}\\right) \\cos\\left({\\theta}\\right)}{\\sin\\left({\\theta}\\right)} \\frac{\\partial}{\\partial {\\phi} }, J_2 = \\cos\\left({\\phi}\\right) \\frac{\\partial}{\\partial {\\theta} } -\\frac{\\cos\\left({\\theta}\\right) \\sin\\left({\\phi}\\right)}{\\sin\\left({\\theta}\\right)} \\frac{\\partial}{\\partial {\\phi} }, J_3 = \\frac{\\partial}{\\partial {\\phi} }\\right)$"
      ],
      "text/plain": [
       "(J_1 = -sin(ph) ∂/∂th - cos(ph)*cos(th)/sin(th) ∂/∂ph,\n",
       " J_2 = cos(ph) ∂/∂th - cos(th)*sin(ph)/sin(th) ∂/∂ph,\n",
       " J_3 = ∂/∂ph)"
      ]
     },
     "execution_count": 192,
     "metadata": {},
     "output_type": "execute_result"
    }
   ],
   "source": [
    "J1.display(eY, Y), J2.display(eY, Y), J3.display(eY, Y)"
   ]
  },
  {
   "cell_type": "code",
   "execution_count": 193,
   "id": "348c5234",
   "metadata": {},
   "outputs": [
    {
     "data": {
      "text/html": [
       "<html>\\(\\displaystyle \\left(K_1 = r \\cos\\left({\\phi}\\right) \\sin\\left({\\theta}\\right) \\frac{\\partial}{\\partial t } + t \\cos\\left({\\phi}\\right) \\sin\\left({\\theta}\\right) \\frac{\\partial}{\\partial r } + \\frac{t \\cos\\left({\\phi}\\right) \\cos\\left({\\theta}\\right)}{r} \\frac{\\partial}{\\partial {\\theta} } -\\frac{t \\sin\\left({\\phi}\\right)}{r \\sin\\left({\\theta}\\right)} \\frac{\\partial}{\\partial {\\phi} }, K_2 = r \\sin\\left({\\phi}\\right) \\sin\\left({\\theta}\\right) \\frac{\\partial}{\\partial t } + t \\sin\\left({\\phi}\\right) \\sin\\left({\\theta}\\right) \\frac{\\partial}{\\partial r } + \\frac{t \\cos\\left({\\theta}\\right) \\sin\\left({\\phi}\\right)}{r} \\frac{\\partial}{\\partial {\\theta} } + \\frac{t \\cos\\left({\\phi}\\right)}{r \\sin\\left({\\theta}\\right)} \\frac{\\partial}{\\partial {\\phi} }, K_3 = r \\cos\\left({\\theta}\\right) \\frac{\\partial}{\\partial t } + t \\cos\\left({\\theta}\\right) \\frac{\\partial}{\\partial r } -\\frac{t \\sin\\left({\\theta}\\right)}{r} \\frac{\\partial}{\\partial {\\theta} }\\right)\\)</html>"
      ],
      "text/latex": [
       "$\\displaystyle \\left(K_1 = r \\cos\\left({\\phi}\\right) \\sin\\left({\\theta}\\right) \\frac{\\partial}{\\partial t } + t \\cos\\left({\\phi}\\right) \\sin\\left({\\theta}\\right) \\frac{\\partial}{\\partial r } + \\frac{t \\cos\\left({\\phi}\\right) \\cos\\left({\\theta}\\right)}{r} \\frac{\\partial}{\\partial {\\theta} } -\\frac{t \\sin\\left({\\phi}\\right)}{r \\sin\\left({\\theta}\\right)} \\frac{\\partial}{\\partial {\\phi} }, K_2 = r \\sin\\left({\\phi}\\right) \\sin\\left({\\theta}\\right) \\frac{\\partial}{\\partial t } + t \\sin\\left({\\phi}\\right) \\sin\\left({\\theta}\\right) \\frac{\\partial}{\\partial r } + \\frac{t \\cos\\left({\\theta}\\right) \\sin\\left({\\phi}\\right)}{r} \\frac{\\partial}{\\partial {\\theta} } + \\frac{t \\cos\\left({\\phi}\\right)}{r \\sin\\left({\\theta}\\right)} \\frac{\\partial}{\\partial {\\phi} }, K_3 = r \\cos\\left({\\theta}\\right) \\frac{\\partial}{\\partial t } + t \\cos\\left({\\theta}\\right) \\frac{\\partial}{\\partial r } -\\frac{t \\sin\\left({\\theta}\\right)}{r} \\frac{\\partial}{\\partial {\\theta} }\\right)$"
      ],
      "text/plain": [
       "(K_1 = r*cos(ph)*sin(th) ∂/∂t + t*cos(ph)*sin(th) ∂/∂r + t*cos(ph)*cos(th)/r ∂/∂th - t*sin(ph)/(r*sin(th)) ∂/∂ph,\n",
       " K_2 = r*sin(ph)*sin(th) ∂/∂t + t*sin(ph)*sin(th) ∂/∂r + t*cos(th)*sin(ph)/r ∂/∂th + t*cos(ph)/(r*sin(th)) ∂/∂ph,\n",
       " K_3 = r*cos(th) ∂/∂t + t*cos(th) ∂/∂r - t*sin(th)/r ∂/∂th)"
      ]
     },
     "execution_count": 193,
     "metadata": {},
     "output_type": "execute_result"
    }
   ],
   "source": [
    "K1.display(eY, Y), K2.display(eY, Y), K3.display(eY, Y)"
   ]
  },
  {
   "cell_type": "code",
   "execution_count": 194,
   "id": "a546350c",
   "metadata": {},
   "outputs": [
    {
     "data": {
      "text/html": [
       "<html>\\(\\displaystyle \\left(s, \\epsilon, m, \\Theta_{0}, \\Phi_{0}\\right)\\)</html>"
      ],
      "text/latex": [
       "$\\displaystyle \\left(s, \\epsilon, m, \\Theta_{0}, \\Phi_{0}\\right)$"
      ],
      "text/plain": [
       "(s, epsilon, m, Theta_0, Phi_0)"
      ]
     },
     "execution_count": 194,
     "metadata": {},
     "output_type": "execute_result"
    }
   ],
   "source": [
    "s, eps, m, th_init, ph_init = var('s, epsilon, m, Theta_0, Phi_0')\n",
    "assume(s>=0)\n",
    "assume(eps>=0)\n",
    "assume(m>0)\n",
    "assume(th_init>=0)\n",
    "assume(ph_init>=0)\n",
    "s, eps, m, th_init, ph_init"
   ]
  },
  {
   "cell_type": "code",
   "execution_count": 195,
   "id": "e98041eb",
   "metadata": {},
   "outputs": [
    {
     "data": {
      "text/html": [
       "<html>\\(\\displaystyle \\left(\\begin{array}{rrrr}\n",
       "-1 & 0 & 0 & 0 \\\\\n",
       "0 & 1 & 0 & 0 \\\\\n",
       "0 & 0 & r^{2} & 0 \\\\\n",
       "0 & 0 & 0 & r^{2} \\sin\\left({\\theta}\\right)^{2}\n",
       "\\end{array}\\right)\\)</html>"
      ],
      "text/latex": [
       "$\\displaystyle \\left(\\begin{array}{rrrr}\n",
       "-1 & 0 & 0 & 0 \\\\\n",
       "0 & 1 & 0 & 0 \\\\\n",
       "0 & 0 & r^{2} & 0 \\\\\n",
       "0 & 0 & 0 & r^{2} \\sin\\left({\\theta}\\right)^{2}\n",
       "\\end{array}\\right)$"
      ],
      "text/plain": [
       "[           -1             0             0             0]\n",
       "[            0             1             0             0]\n",
       "[            0             0           r^2             0]\n",
       "[            0             0             0 r^2*sin(th)^2]"
      ]
     },
     "execution_count": 195,
     "metadata": {},
     "output_type": "execute_result"
    }
   ],
   "source": [
    "g2 = M.tensor_field(0, 2)\n",
    "g2[eY, :] = g[eY, :, Y]\n",
    "g2[eY, :, Y]"
   ]
  },
  {
   "cell_type": "code",
   "execution_count": 196,
   "id": "3ad78f81",
   "metadata": {},
   "outputs": [
    {
     "data": {
      "text/html": [
       "<html>\\(\\displaystyle \\left(M,(U, V, {X^1}, {X^2})\\right)\\)</html>"
      ],
      "text/latex": [
       "$\\displaystyle \\left(M,(U, V, {X^1}, {X^2})\\right)$"
      ],
      "text/plain": [
       "Chart (M, (U, V, X1, X2))"
      ]
     },
     "execution_count": 196,
     "metadata": {},
     "output_type": "execute_result"
    }
   ],
   "source": [
    "Z.<U, V, X1, X2> = M.chart(r'U:(-oo,+oo) V:(-oo,+oo) X1:(-oo,+oo):X^1 X2:(-oo,+oo):X^2')\n",
    "Z"
   ]
  },
  {
   "cell_type": "code",
   "execution_count": 197,
   "id": "e4986031",
   "metadata": {},
   "outputs": [
    {
     "data": {
      "text/html": [
       "<html>\\(\\displaystyle \\left(\\frac{1}{2} \\, V \\epsilon^{2} m + \\frac{U}{m}, -\\frac{1}{2} \\, {\\left(V - \\frac{{X^2}^{2}}{U}\\right)} \\epsilon^{2} m + \\frac{U}{m}, \\frac{{X^1} \\epsilon m}{U} + \\Theta_{0}, \\frac{{X^2} \\epsilon m}{U} + \\Phi_{0}\\right)\\)</html>"
      ],
      "text/latex": [
       "$\\displaystyle \\left(\\frac{1}{2} \\, V \\epsilon^{2} m + \\frac{U}{m}, -\\frac{1}{2} \\, {\\left(V - \\frac{{X^2}^{2}}{U}\\right)} \\epsilon^{2} m + \\frac{U}{m}, \\frac{{X^1} \\epsilon m}{U} + \\Theta_{0}, \\frac{{X^2} \\epsilon m}{U} + \\Phi_{0}\\right)$"
      ],
      "text/plain": [
       "(1/2*V*epsilon^2*m + U/m,\n",
       " -1/2*(V - X2^2/U)*epsilon^2*m + U/m,\n",
       " X1*epsilon*m/U + Theta_0,\n",
       " X2*epsilon*m/U + Phi_0)"
      ]
     },
     "execution_count": 197,
     "metadata": {},
     "output_type": "execute_result"
    }
   ],
   "source": [
    "t_UVX = U/m + eps^2*m*V/2\n",
    "r_UVX = U/m - eps^2*m*(V - X2^2/U)/2\n",
    "th_UVX = th_init + eps*m*X1/U\n",
    "ph_UVX = ph_init + eps*m*X2/U\n",
    "t_UVX, r_UVX, th_UVX, ph_UVX"
   ]
  },
  {
   "cell_type": "code",
   "execution_count": 198,
   "id": "0e3c7db5",
   "metadata": {},
   "outputs": [
    {
     "data": {
      "text/html": [
       "<html>\\(\\displaystyle \\left(M,(U, V, {X^1}, {X^2})\\right) \\rightarrow \\left(M,(t, r, {\\theta}, {\\phi})\\right)\\)</html>"
      ],
      "text/latex": [
       "$\\displaystyle \\left(M,(U, V, {X^1}, {X^2})\\right) \\rightarrow \\left(M,(t, r, {\\theta}, {\\phi})\\right)$"
      ],
      "text/plain": [
       "Change of coordinates from Chart (M, (U, V, X1, X2)) to Chart (M, (t, r, th, ph))"
      ]
     },
     "execution_count": 198,
     "metadata": {},
     "output_type": "execute_result"
    }
   ],
   "source": [
    "ZtoYmap = Z.transition_map(Y, [t_UVX, r_UVX, th_UVX, ph_UVX])\n",
    "ZtoYmap"
   ]
  },
  {
   "cell_type": "code",
   "execution_count": 199,
   "id": "7fbe85d0",
   "metadata": {},
   "outputs": [
    {
     "data": {
      "text/html": [
       "<html>\\(\\displaystyle \\left\\{\\begin{array}{lcl} t & = & \\frac{1}{2} \\, V \\epsilon^{2} m + \\frac{U}{m} \\\\ r & = & -\\frac{1}{2} \\, {\\left(V - \\frac{{X^2}^{2}}{U}\\right)} \\epsilon^{2} m + \\frac{U}{m} \\\\ {\\theta} & = & \\frac{{X^1} \\epsilon m}{U} + \\Theta_{0} \\\\ {\\phi} & = & \\frac{{X^2} \\epsilon m}{U} + \\Phi_{0} \\end{array}\\right.\\)</html>"
      ],
      "text/latex": [
       "$\\displaystyle \\left\\{\\begin{array}{lcl} t & = & \\frac{1}{2} \\, V \\epsilon^{2} m + \\frac{U}{m} \\\\ r & = & -\\frac{1}{2} \\, {\\left(V - \\frac{{X^2}^{2}}{U}\\right)} \\epsilon^{2} m + \\frac{U}{m} \\\\ {\\theta} & = & \\frac{{X^1} \\epsilon m}{U} + \\Theta_{0} \\\\ {\\phi} & = & \\frac{{X^2} \\epsilon m}{U} + \\Phi_{0} \\end{array}\\right.$"
      ],
      "text/plain": [
       "t = 1/2*V*epsilon^2*m + U/m\n",
       "r = -1/2*(V - X2^2/U)*epsilon^2*m + U/m\n",
       "th = X1*epsilon*m/U + Theta_0\n",
       "ph = X2*epsilon*m/U + Phi_0"
      ]
     },
     "execution_count": 199,
     "metadata": {},
     "output_type": "execute_result"
    }
   ],
   "source": [
    "ZtoYmap.display()"
   ]
  },
  {
   "cell_type": "code",
   "execution_count": 200,
   "id": "0aa33249",
   "metadata": {},
   "outputs": [
    {
     "data": {
      "text/html": [
       "<html>\\(\\displaystyle \\left(\\frac{2 \\, m {\\left(r + t\\right)}}{{\\left(\\Phi_{0} - {\\phi}\\right)}^{2} + 4}, \\frac{2 \\, {\\left(t - \\frac{2 \\, {\\left(r + t\\right)}}{{\\left(\\Phi_{0} - {\\phi}\\right)}^{2} + 4}\\right)}}{\\epsilon^{2} m}, -\\frac{2 \\, {\\left(\\Theta_{0} - {\\theta}\\right)} {\\left(r + t\\right)}}{{\\left({\\left(\\Phi_{0} - {\\phi}\\right)}^{2} + 4\\right)} \\epsilon}, -\\frac{2 \\, {\\left(\\Phi_{0} - {\\phi}\\right)} {\\left(r + t\\right)}}{{\\left({\\left(\\Phi_{0} - {\\phi}\\right)}^{2} + 4\\right)} \\epsilon}\\right)\\)</html>"
      ],
      "text/latex": [
       "$\\displaystyle \\left(\\frac{2 \\, m {\\left(r + t\\right)}}{{\\left(\\Phi_{0} - {\\phi}\\right)}^{2} + 4}, \\frac{2 \\, {\\left(t - \\frac{2 \\, {\\left(r + t\\right)}}{{\\left(\\Phi_{0} - {\\phi}\\right)}^{2} + 4}\\right)}}{\\epsilon^{2} m}, -\\frac{2 \\, {\\left(\\Theta_{0} - {\\theta}\\right)} {\\left(r + t\\right)}}{{\\left({\\left(\\Phi_{0} - {\\phi}\\right)}^{2} + 4\\right)} \\epsilon}, -\\frac{2 \\, {\\left(\\Phi_{0} - {\\phi}\\right)} {\\left(r + t\\right)}}{{\\left({\\left(\\Phi_{0} - {\\phi}\\right)}^{2} + 4\\right)} \\epsilon}\\right)$"
      ],
      "text/plain": [
       "(2*m*(r + t)/((Phi_0 - ph)^2 + 4),\n",
       " 2*(t - 2*(r + t)/((Phi_0 - ph)^2 + 4))/(epsilon^2*m),\n",
       " -2*(Theta_0 - th)*(r + t)/(((Phi_0 - ph)^2 + 4)*epsilon),\n",
       " -2*(Phi_0 - ph)*(r + t)/(((Phi_0 - ph)^2 + 4)*epsilon))"
      ]
     },
     "execution_count": 200,
     "metadata": {},
     "output_type": "execute_result"
    }
   ],
   "source": [
    "U_trthph = 2*m*(t+r)/(4 + (ph - ph_init)^2)\n",
    "V_trthph = 2*(t - 2*(t+r)/(4 + (ph - ph_init)^2))/(eps^2*m)\n",
    "X1_trthph = 2*(t+r)*(th - th_init)/(eps*(4 + (ph - ph_init)^2))\n",
    "X2_trthph = 2*(t+r)*(ph - ph_init)/(eps*(4 + (ph - ph_init)^2))\n",
    "U_trthph, V_trthph, X1_trthph, X2_trthph"
   ]
  },
  {
   "cell_type": "code",
   "execution_count": 201,
   "id": "de0ffd30",
   "metadata": {},
   "outputs": [
    {
     "data": {
      "text/html": [
       "<html>\\(\\displaystyle \\left(M,(t, r, {\\theta}, {\\phi})\\right) \\rightarrow \\left(M,(U, V, {X^1}, {X^2})\\right)\\)</html>"
      ],
      "text/latex": [
       "$\\displaystyle \\left(M,(t, r, {\\theta}, {\\phi})\\right) \\rightarrow \\left(M,(U, V, {X^1}, {X^2})\\right)$"
      ],
      "text/plain": [
       "Change of coordinates from Chart (M, (t, r, th, ph)) to Chart (M, (U, V, X1, X2))"
      ]
     },
     "execution_count": 201,
     "metadata": {},
     "output_type": "execute_result"
    }
   ],
   "source": [
    "ZtoYmap.set_inverse(U_trthph, V_trthph, X1_trthph, X2_trthph)\n",
    "ZtoYmap.inverse()"
   ]
  },
  {
   "cell_type": "code",
   "execution_count": 202,
   "id": "6e983c74",
   "metadata": {},
   "outputs": [
    {
     "data": {
      "text/html": [
       "<html>\\(\\displaystyle \\left\\{\\begin{array}{lcl} U & = & \\frac{2 \\, m {\\left(r + t\\right)}}{{\\left(\\Phi_{0} - {\\phi}\\right)}^{2} + 4} \\\\ V & = & \\frac{2 \\, {\\left(t - \\frac{2 \\, {\\left(r + t\\right)}}{{\\left(\\Phi_{0} - {\\phi}\\right)}^{2} + 4}\\right)}}{\\epsilon^{2} m} \\\\ {X^1} & = & -\\frac{2 \\, {\\left(\\Theta_{0} - {\\theta}\\right)} {\\left(r + t\\right)}}{{\\left({\\left(\\Phi_{0} - {\\phi}\\right)}^{2} + 4\\right)} \\epsilon} \\\\ {X^2} & = & -\\frac{2 \\, {\\left(\\Phi_{0} - {\\phi}\\right)} {\\left(r + t\\right)}}{{\\left({\\left(\\Phi_{0} - {\\phi}\\right)}^{2} + 4\\right)} \\epsilon} \\end{array}\\right.\\)</html>"
      ],
      "text/latex": [
       "$\\displaystyle \\left\\{\\begin{array}{lcl} U & = & \\frac{2 \\, m {\\left(r + t\\right)}}{{\\left(\\Phi_{0} - {\\phi}\\right)}^{2} + 4} \\\\ V & = & \\frac{2 \\, {\\left(t - \\frac{2 \\, {\\left(r + t\\right)}}{{\\left(\\Phi_{0} - {\\phi}\\right)}^{2} + 4}\\right)}}{\\epsilon^{2} m} \\\\ {X^1} & = & -\\frac{2 \\, {\\left(\\Theta_{0} - {\\theta}\\right)} {\\left(r + t\\right)}}{{\\left({\\left(\\Phi_{0} - {\\phi}\\right)}^{2} + 4\\right)} \\epsilon} \\\\ {X^2} & = & -\\frac{2 \\, {\\left(\\Phi_{0} - {\\phi}\\right)} {\\left(r + t\\right)}}{{\\left({\\left(\\Phi_{0} - {\\phi}\\right)}^{2} + 4\\right)} \\epsilon} \\end{array}\\right.$"
      ],
      "text/plain": [
       "U = 2*m*(r + t)/((Phi_0 - ph)^2 + 4)\n",
       "V = 2*(t - 2*(r + t)/((Phi_0 - ph)^2 + 4))/(epsilon^2*m)\n",
       "X1 = -2*(Theta_0 - th)*(r + t)/(((Phi_0 - ph)^2 + 4)*epsilon)\n",
       "X2 = -2*(Phi_0 - ph)*(r + t)/(((Phi_0 - ph)^2 + 4)*epsilon)"
      ]
     },
     "execution_count": 202,
     "metadata": {},
     "output_type": "execute_result"
    }
   ],
   "source": [
    "ZtoYmap.inverse().display()"
   ]
  },
  {
   "cell_type": "code",
   "execution_count": 203,
   "id": "2aa1fdd7",
   "metadata": {},
   "outputs": [
    {
     "data": {
      "text/html": [
       "<html>\\(\\displaystyle \\left\\{\\begin{array}{lcl} U & = & U \\\\ V & = & V \\\\ {X^1} & = & {X^1} \\\\ {X^2} & = & {X^2} \\end{array}\\right.\\)</html>"
      ],
      "text/latex": [
       "$\\displaystyle \\left\\{\\begin{array}{lcl} U & = & U \\\\ V & = & V \\\\ {X^1} & = & {X^1} \\\\ {X^2} & = & {X^2} \\end{array}\\right.$"
      ],
      "text/plain": [
       "U = U\n",
       "V = V\n",
       "X1 = X1\n",
       "X2 = X2"
      ]
     },
     "execution_count": 203,
     "metadata": {},
     "output_type": "execute_result"
    }
   ],
   "source": [
    "(ZtoYmap.inverse()*ZtoYmap).display()"
   ]
  },
  {
   "cell_type": "code",
   "execution_count": 204,
   "id": "d7c5befe",
   "metadata": {},
   "outputs": [
    {
     "data": {
      "text/html": [
       "<html>\\(\\displaystyle T_1 = \\cos\\left({\\phi}\\right) \\sin\\left({\\theta}\\right) \\frac{\\partial}{\\partial r } + \\frac{\\cos\\left({\\phi}\\right) \\cos\\left({\\theta}\\right)}{r} \\frac{\\partial}{\\partial {\\theta} } -\\frac{\\sin\\left({\\phi}\\right)}{r \\sin\\left({\\theta}\\right)} \\frac{\\partial}{\\partial {\\phi} }\\)</html>"
      ],
      "text/latex": [
       "$\\displaystyle T_1 = \\cos\\left({\\phi}\\right) \\sin\\left({\\theta}\\right) \\frac{\\partial}{\\partial r } + \\frac{\\cos\\left({\\phi}\\right) \\cos\\left({\\theta}\\right)}{r} \\frac{\\partial}{\\partial {\\theta} } -\\frac{\\sin\\left({\\phi}\\right)}{r \\sin\\left({\\theta}\\right)} \\frac{\\partial}{\\partial {\\phi} }$"
      ],
      "text/plain": [
       "T_1 = cos(ph)*sin(th) ∂/∂r + cos(ph)*cos(th)/r ∂/∂th - sin(ph)/(r*sin(th)) ∂/∂ph"
      ]
     },
     "execution_count": 204,
     "metadata": {},
     "output_type": "execute_result"
    }
   ],
   "source": [
    "T1.display(eY, Y)"
   ]
  },
  {
   "cell_type": "code",
   "execution_count": 205,
   "id": "dc576145",
   "metadata": {},
   "outputs": [
    {
     "data": {
      "text/html": [
       "<html>\\(\\displaystyle \\left[\\left(M, \\left(\\frac{\\partial}{\\partial t },\\frac{\\partial}{\\partial x },\\frac{\\partial}{\\partial y },\\frac{\\partial}{\\partial z }\\right)\\right), \\left(M, \\left(\\frac{\\partial}{\\partial t },\\frac{\\partial}{\\partial r },\\frac{\\partial}{\\partial {\\theta} },\\frac{\\partial}{\\partial {\\phi} }\\right)\\right), \\left(M, \\left(\\frac{\\partial}{\\partial U },\\frac{\\partial}{\\partial V },\\frac{\\partial}{\\partial {X^1} },\\frac{\\partial}{\\partial {X^2} }\\right)\\right)\\right]\\)</html>"
      ],
      "text/latex": [
       "$\\displaystyle \\left[\\left(M, \\left(\\frac{\\partial}{\\partial t },\\frac{\\partial}{\\partial x },\\frac{\\partial}{\\partial y },\\frac{\\partial}{\\partial z }\\right)\\right), \\left(M, \\left(\\frac{\\partial}{\\partial t },\\frac{\\partial}{\\partial r },\\frac{\\partial}{\\partial {\\theta} },\\frac{\\partial}{\\partial {\\phi} }\\right)\\right), \\left(M, \\left(\\frac{\\partial}{\\partial U },\\frac{\\partial}{\\partial V },\\frac{\\partial}{\\partial {X^1} },\\frac{\\partial}{\\partial {X^2} }\\right)\\right)\\right]$"
      ],
      "text/plain": [
       "[Coordinate frame (M, (∂/∂t,∂/∂x,∂/∂y,∂/∂z)),\n",
       " Coordinate frame (M, (∂/∂t,∂/∂r,∂/∂th,∂/∂ph)),\n",
       " Coordinate frame (M, (∂/∂U,∂/∂V,∂/∂X1,∂/∂X2))]"
      ]
     },
     "execution_count": 205,
     "metadata": {},
     "output_type": "execute_result"
    }
   ],
   "source": [
    "M.frames()[:]"
   ]
  },
  {
   "cell_type": "code",
   "execution_count": 206,
   "id": "aa78a2b9",
   "metadata": {},
   "outputs": [
    {
     "data": {
      "text/html": [
       "<html>\\(\\displaystyle \\left(M, \\left(\\frac{\\partial}{\\partial U },\\frac{\\partial}{\\partial V },\\frac{\\partial}{\\partial {X^1} },\\frac{\\partial}{\\partial {X^2} }\\right)\\right)\\)</html>"
      ],
      "text/latex": [
       "$\\displaystyle \\left(M, \\left(\\frac{\\partial}{\\partial U },\\frac{\\partial}{\\partial V },\\frac{\\partial}{\\partial {X^1} },\\frac{\\partial}{\\partial {X^2} }\\right)\\right)$"
      ],
      "text/plain": [
       "Coordinate frame (M, (∂/∂U,∂/∂V,∂/∂X1,∂/∂X2))"
      ]
     },
     "execution_count": 206,
     "metadata": {},
     "output_type": "execute_result"
    }
   ],
   "source": [
    "eZ = M.frames()[2]\n",
    "eZ"
   ]
  },
  {
   "cell_type": "code",
   "execution_count": 207,
   "id": "8f5bbff6",
   "metadata": {},
   "outputs": [
    {
     "data": {
      "text/html": [
       "<html>\\(\\displaystyle \\left[\\frac{2 \\, U^{2} m}{{X^2}^{2} \\epsilon^{2} m^{2} + 4 \\, U^{2}}, \\frac{2 \\, {\\left({X^2}^{2} \\epsilon^{2} m^{2} + 2 \\, U^{2}\\right)}}{{X^2}^{2} \\epsilon^{4} m^{3} + 4 \\, U^{2} \\epsilon^{2} m}, \\frac{2 \\, U {X^1} m}{{X^2}^{2} \\epsilon^{2} m^{2} + 4 \\, U^{2}}, \\frac{2 \\, U {X^2} m}{{X^2}^{2} \\epsilon^{2} m^{2} + 4 \\, U^{2}}\\right]\\)</html>"
      ],
      "text/latex": [
       "$\\displaystyle \\left[\\frac{2 \\, U^{2} m}{{X^2}^{2} \\epsilon^{2} m^{2} + 4 \\, U^{2}}, \\frac{2 \\, {\\left({X^2}^{2} \\epsilon^{2} m^{2} + 2 \\, U^{2}\\right)}}{{X^2}^{2} \\epsilon^{4} m^{3} + 4 \\, U^{2} \\epsilon^{2} m}, \\frac{2 \\, U {X^1} m}{{X^2}^{2} \\epsilon^{2} m^{2} + 4 \\, U^{2}}, \\frac{2 \\, U {X^2} m}{{X^2}^{2} \\epsilon^{2} m^{2} + 4 \\, U^{2}}\\right]$"
      ],
      "text/plain": [
       "[2*U^2*m/(X2^2*epsilon^2*m^2 + 4*U^2),\n",
       " 2*(X2^2*epsilon^2*m^2 + 2*U^2)/(X2^2*epsilon^4*m^3 + 4*U^2*epsilon^2*m),\n",
       " 2*U*X1*m/(X2^2*epsilon^2*m^2 + 4*U^2),\n",
       " 2*U*X2*m/(X2^2*epsilon^2*m^2 + 4*U^2)]"
      ]
     },
     "execution_count": 207,
     "metadata": {},
     "output_type": "execute_result"
    }
   ],
   "source": [
    "T0[eZ, :, Z]"
   ]
  },
  {
   "cell_type": "code",
   "execution_count": 208,
   "id": "85e1c73e",
   "metadata": {},
   "outputs": [
    {
     "data": {
      "text/html": [
       "<html>\\(\\displaystyle \\left[-\\frac{2 \\, {\\left({\\left(2 \\, U^{3} {X^2} \\epsilon m^{2} \\sin\\left(\\Phi_{0}\\right) + {\\left(2 \\, U^{4} m \\cos\\left(\\Phi_{0}\\right) \\sin\\left(\\Theta_{0}\\right)^{2} - {\\left(U^{3} V \\cos\\left(\\Phi_{0}\\right) \\sin\\left(\\Theta_{0}\\right)^{2} - U^{2} {X^2}^{2} \\cos\\left(\\Phi_{0}\\right) \\sin\\left(\\Theta_{0}\\right)^{2}\\right)} \\epsilon^{2} m^{3}\\right)} \\cos\\left(\\frac{{X^1} \\epsilon m}{U}\\right)^{2} + 2 \\, {\\left(2 \\, U^{4} m \\cos\\left(\\Phi_{0}\\right) \\cos\\left(\\Theta_{0}\\right) \\sin\\left(\\Theta_{0}\\right) - {\\left(U^{3} V \\cos\\left(\\Phi_{0}\\right) \\cos\\left(\\Theta_{0}\\right) \\sin\\left(\\Theta_{0}\\right) - U^{2} {X^2}^{2} \\cos\\left(\\Phi_{0}\\right) \\cos\\left(\\Theta_{0}\\right) \\sin\\left(\\Theta_{0}\\right)\\right)} \\epsilon^{2} m^{3}\\right)} \\cos\\left(\\frac{{X^1} \\epsilon m}{U}\\right) \\sin\\left(\\frac{{X^1} \\epsilon m}{U}\\right) + {\\left(2 \\, U^{4} m \\cos\\left(\\Phi_{0}\\right) \\cos\\left(\\Theta_{0}\\right)^{2} - {\\left(U^{3} V \\cos\\left(\\Phi_{0}\\right) \\cos\\left(\\Theta_{0}\\right)^{2} - U^{2} {X^2}^{2} \\cos\\left(\\Phi_{0}\\right) \\cos\\left(\\Theta_{0}\\right)^{2}\\right)} \\epsilon^{2} m^{3}\\right)} \\sin\\left(\\frac{{X^1} \\epsilon m}{U}\\right)^{2}\\right)} \\cos\\left(\\frac{{X^2} \\epsilon m}{U}\\right) + {\\left(2 \\, U^{3} {X^2} \\epsilon m^{2} \\cos\\left(\\Phi_{0}\\right) - {\\left(2 \\, U^{4} m \\sin\\left(\\Phi_{0}\\right) \\sin\\left(\\Theta_{0}\\right)^{2} - {\\left(U^{3} V \\sin\\left(\\Phi_{0}\\right) \\sin\\left(\\Theta_{0}\\right)^{2} - U^{2} {X^2}^{2} \\sin\\left(\\Phi_{0}\\right) \\sin\\left(\\Theta_{0}\\right)^{2}\\right)} \\epsilon^{2} m^{3}\\right)} \\cos\\left(\\frac{{X^1} \\epsilon m}{U}\\right)^{2} - 2 \\, {\\left(2 \\, U^{4} m \\cos\\left(\\Theta_{0}\\right) \\sin\\left(\\Phi_{0}\\right) \\sin\\left(\\Theta_{0}\\right) - {\\left(U^{3} V \\cos\\left(\\Theta_{0}\\right) \\sin\\left(\\Phi_{0}\\right) \\sin\\left(\\Theta_{0}\\right) - U^{2} {X^2}^{2} \\cos\\left(\\Theta_{0}\\right) \\sin\\left(\\Phi_{0}\\right) \\sin\\left(\\Theta_{0}\\right)\\right)} \\epsilon^{2} m^{3}\\right)} \\cos\\left(\\frac{{X^1} \\epsilon m}{U}\\right) \\sin\\left(\\frac{{X^1} \\epsilon m}{U}\\right) - {\\left(2 \\, U^{4} m \\cos\\left(\\Theta_{0}\\right)^{2} \\sin\\left(\\Phi_{0}\\right) - {\\left(U^{3} V \\cos\\left(\\Theta_{0}\\right)^{2} \\sin\\left(\\Phi_{0}\\right) - U^{2} {X^2}^{2} \\cos\\left(\\Theta_{0}\\right)^{2} \\sin\\left(\\Phi_{0}\\right)\\right)} \\epsilon^{2} m^{3}\\right)} \\sin\\left(\\frac{{X^1} \\epsilon m}{U}\\right)^{2}\\right)} \\sin\\left(\\frac{{X^2} \\epsilon m}{U}\\right)\\right)}}{{\\left({\\left(U V {X^2}^{2} \\sin\\left(\\Theta_{0}\\right) - {X^2}^{4} \\sin\\left(\\Theta_{0}\\right)\\right)} \\epsilon^{4} m^{4} + 2 \\, {\\left(2 \\, U^{3} V \\sin\\left(\\Theta_{0}\\right) - 3 \\, U^{2} {X^2}^{2} \\sin\\left(\\Theta_{0}\\right)\\right)} \\epsilon^{2} m^{2} - 8 \\, U^{4} \\sin\\left(\\Theta_{0}\\right)\\right)} \\cos\\left(\\frac{{X^1} \\epsilon m}{U}\\right) + {\\left({\\left(U V {X^2}^{2} \\cos\\left(\\Theta_{0}\\right) - {X^2}^{4} \\cos\\left(\\Theta_{0}\\right)\\right)} \\epsilon^{4} m^{4} + 2 \\, {\\left(2 \\, U^{3} V \\cos\\left(\\Theta_{0}\\right) - 3 \\, U^{2} {X^2}^{2} \\cos\\left(\\Theta_{0}\\right)\\right)} \\epsilon^{2} m^{2} - 8 \\, U^{4} \\cos\\left(\\Theta_{0}\\right)\\right)} \\sin\\left(\\frac{{X^1} \\epsilon m}{U}\\right)}, \\frac{4 \\, {\\left({\\left(2 \\, U^{3} {X^2} \\epsilon m \\sin\\left(\\Phi_{0}\\right) + {\\left(2 \\, U^{4} \\cos\\left(\\Phi_{0}\\right) \\sin\\left(\\Theta_{0}\\right)^{2} - {\\left(U^{3} V \\cos\\left(\\Phi_{0}\\right) \\sin\\left(\\Theta_{0}\\right)^{2} - U^{2} {X^2}^{2} \\cos\\left(\\Phi_{0}\\right) \\sin\\left(\\Theta_{0}\\right)^{2}\\right)} \\epsilon^{2} m^{2}\\right)} \\cos\\left(\\frac{{X^1} \\epsilon m}{U}\\right)^{2} + 2 \\, {\\left(2 \\, U^{4} \\cos\\left(\\Phi_{0}\\right) \\cos\\left(\\Theta_{0}\\right) \\sin\\left(\\Theta_{0}\\right) - {\\left(U^{3} V \\cos\\left(\\Phi_{0}\\right) \\cos\\left(\\Theta_{0}\\right) \\sin\\left(\\Theta_{0}\\right) - U^{2} {X^2}^{2} \\cos\\left(\\Phi_{0}\\right) \\cos\\left(\\Theta_{0}\\right) \\sin\\left(\\Theta_{0}\\right)\\right)} \\epsilon^{2} m^{2}\\right)} \\cos\\left(\\frac{{X^1} \\epsilon m}{U}\\right) \\sin\\left(\\frac{{X^1} \\epsilon m}{U}\\right) + {\\left(2 \\, U^{4} \\cos\\left(\\Phi_{0}\\right) \\cos\\left(\\Theta_{0}\\right)^{2} - {\\left(U^{3} V \\cos\\left(\\Phi_{0}\\right) \\cos\\left(\\Theta_{0}\\right)^{2} - U^{2} {X^2}^{2} \\cos\\left(\\Phi_{0}\\right) \\cos\\left(\\Theta_{0}\\right)^{2}\\right)} \\epsilon^{2} m^{2}\\right)} \\sin\\left(\\frac{{X^1} \\epsilon m}{U}\\right)^{2}\\right)} \\cos\\left(\\frac{{X^2} \\epsilon m}{U}\\right) + {\\left(2 \\, U^{3} {X^2} \\epsilon m \\cos\\left(\\Phi_{0}\\right) - {\\left(2 \\, U^{4} \\sin\\left(\\Phi_{0}\\right) \\sin\\left(\\Theta_{0}\\right)^{2} - {\\left(U^{3} V \\sin\\left(\\Phi_{0}\\right) \\sin\\left(\\Theta_{0}\\right)^{2} - U^{2} {X^2}^{2} \\sin\\left(\\Phi_{0}\\right) \\sin\\left(\\Theta_{0}\\right)^{2}\\right)} \\epsilon^{2} m^{2}\\right)} \\cos\\left(\\frac{{X^1} \\epsilon m}{U}\\right)^{2} - 2 \\, {\\left(2 \\, U^{4} \\cos\\left(\\Theta_{0}\\right) \\sin\\left(\\Phi_{0}\\right) \\sin\\left(\\Theta_{0}\\right) - {\\left(U^{3} V \\cos\\left(\\Theta_{0}\\right) \\sin\\left(\\Phi_{0}\\right) \\sin\\left(\\Theta_{0}\\right) - U^{2} {X^2}^{2} \\cos\\left(\\Theta_{0}\\right) \\sin\\left(\\Phi_{0}\\right) \\sin\\left(\\Theta_{0}\\right)\\right)} \\epsilon^{2} m^{2}\\right)} \\cos\\left(\\frac{{X^1} \\epsilon m}{U}\\right) \\sin\\left(\\frac{{X^1} \\epsilon m}{U}\\right) - {\\left(2 \\, U^{4} \\cos\\left(\\Theta_{0}\\right)^{2} \\sin\\left(\\Phi_{0}\\right) - {\\left(U^{3} V \\cos\\left(\\Theta_{0}\\right)^{2} \\sin\\left(\\Phi_{0}\\right) - U^{2} {X^2}^{2} \\cos\\left(\\Theta_{0}\\right)^{2} \\sin\\left(\\Phi_{0}\\right)\\right)} \\epsilon^{2} m^{2}\\right)} \\sin\\left(\\frac{{X^1} \\epsilon m}{U}\\right)^{2}\\right)} \\sin\\left(\\frac{{X^2} \\epsilon m}{U}\\right)\\right)}}{{\\left({\\left(U V {X^2}^{2} \\sin\\left(\\Theta_{0}\\right) - {X^2}^{4} \\sin\\left(\\Theta_{0}\\right)\\right)} \\epsilon^{6} m^{5} + 2 \\, {\\left(2 \\, U^{3} V \\sin\\left(\\Theta_{0}\\right) - 3 \\, U^{2} {X^2}^{2} \\sin\\left(\\Theta_{0}\\right)\\right)} \\epsilon^{4} m^{3} - 8 \\, U^{4} \\epsilon^{2} m \\sin\\left(\\Theta_{0}\\right)\\right)} \\cos\\left(\\frac{{X^1} \\epsilon m}{U}\\right) + {\\left({\\left(U V {X^2}^{2} \\cos\\left(\\Theta_{0}\\right) - {X^2}^{4} \\cos\\left(\\Theta_{0}\\right)\\right)} \\epsilon^{6} m^{5} + 2 \\, {\\left(2 \\, U^{3} V \\cos\\left(\\Theta_{0}\\right) - 3 \\, U^{2} {X^2}^{2} \\cos\\left(\\Theta_{0}\\right)\\right)} \\epsilon^{4} m^{3} - 8 \\, U^{4} \\epsilon^{2} m \\cos\\left(\\Theta_{0}\\right)\\right)} \\sin\\left(\\frac{{X^1} \\epsilon m}{U}\\right)}, -\\frac{2 \\, {\\left({\\left(2 \\, U^{2} {X^1} {X^2} \\epsilon^{2} m^{2} \\sin\\left(\\Phi_{0}\\right) + {\\left(U^{2} {X^2}^{2} \\epsilon^{2} m^{2} \\cos\\left(\\Phi_{0}\\right) \\cos\\left(\\Theta_{0}\\right) \\sin\\left(\\Theta_{0}\\right) + 2 \\, U^{3} {X^1} \\epsilon m \\cos\\left(\\Phi_{0}\\right) \\sin\\left(\\Theta_{0}\\right)^{2} - {\\left(U^{2} V {X^1} \\cos\\left(\\Phi_{0}\\right) \\sin\\left(\\Theta_{0}\\right)^{2} - U {X^1} {X^2}^{2} \\cos\\left(\\Phi_{0}\\right) \\sin\\left(\\Theta_{0}\\right)^{2}\\right)} \\epsilon^{3} m^{3} + 4 \\, U^{4} \\cos\\left(\\Phi_{0}\\right) \\cos\\left(\\Theta_{0}\\right) \\sin\\left(\\Theta_{0}\\right)\\right)} \\cos\\left(\\frac{{X^1} \\epsilon m}{U}\\right)^{2} + {\\left({\\left(\\cos\\left(\\Phi_{0}\\right) \\cos\\left(\\Theta_{0}\\right)^{2} - \\cos\\left(\\Phi_{0}\\right) \\sin\\left(\\Theta_{0}\\right)^{2}\\right)} U^{2} {X^2}^{2} \\epsilon^{2} m^{2} + 4 \\, U^{3} {X^1} \\epsilon m \\cos\\left(\\Phi_{0}\\right) \\cos\\left(\\Theta_{0}\\right) \\sin\\left(\\Theta_{0}\\right) - 2 \\, {\\left(U^{2} V {X^1} \\cos\\left(\\Phi_{0}\\right) \\cos\\left(\\Theta_{0}\\right) \\sin\\left(\\Theta_{0}\\right) - U {X^1} {X^2}^{2} \\cos\\left(\\Phi_{0}\\right) \\cos\\left(\\Theta_{0}\\right) \\sin\\left(\\Theta_{0}\\right)\\right)} \\epsilon^{3} m^{3} + 4 \\, {\\left(\\cos\\left(\\Phi_{0}\\right) \\cos\\left(\\Theta_{0}\\right)^{2} - \\cos\\left(\\Phi_{0}\\right) \\sin\\left(\\Theta_{0}\\right)^{2}\\right)} U^{4}\\right)} \\cos\\left(\\frac{{X^1} \\epsilon m}{U}\\right) \\sin\\left(\\frac{{X^1} \\epsilon m}{U}\\right) - {\\left(U^{2} {X^2}^{2} \\epsilon^{2} m^{2} \\cos\\left(\\Phi_{0}\\right) \\cos\\left(\\Theta_{0}\\right) \\sin\\left(\\Theta_{0}\\right) - 2 \\, U^{3} {X^1} \\epsilon m \\cos\\left(\\Phi_{0}\\right) \\cos\\left(\\Theta_{0}\\right)^{2} + {\\left(U^{2} V {X^1} \\cos\\left(\\Phi_{0}\\right) \\cos\\left(\\Theta_{0}\\right)^{2} - U {X^1} {X^2}^{2} \\cos\\left(\\Phi_{0}\\right) \\cos\\left(\\Theta_{0}\\right)^{2}\\right)} \\epsilon^{3} m^{3} + 4 \\, U^{4} \\cos\\left(\\Phi_{0}\\right) \\cos\\left(\\Theta_{0}\\right) \\sin\\left(\\Theta_{0}\\right)\\right)} \\sin\\left(\\frac{{X^1} \\epsilon m}{U}\\right)^{2}\\right)} \\cos\\left(\\frac{{X^2} \\epsilon m}{U}\\right) + {\\left(2 \\, U^{2} {X^1} {X^2} \\epsilon^{2} m^{2} \\cos\\left(\\Phi_{0}\\right) - {\\left(U^{2} {X^2}^{2} \\epsilon^{2} m^{2} \\cos\\left(\\Theta_{0}\\right) \\sin\\left(\\Phi_{0}\\right) \\sin\\left(\\Theta_{0}\\right) + 2 \\, U^{3} {X^1} \\epsilon m \\sin\\left(\\Phi_{0}\\right) \\sin\\left(\\Theta_{0}\\right)^{2} - {\\left(U^{2} V {X^1} \\sin\\left(\\Phi_{0}\\right) \\sin\\left(\\Theta_{0}\\right)^{2} - U {X^1} {X^2}^{2} \\sin\\left(\\Phi_{0}\\right) \\sin\\left(\\Theta_{0}\\right)^{2}\\right)} \\epsilon^{3} m^{3} + 4 \\, U^{4} \\cos\\left(\\Theta_{0}\\right) \\sin\\left(\\Phi_{0}\\right) \\sin\\left(\\Theta_{0}\\right)\\right)} \\cos\\left(\\frac{{X^1} \\epsilon m}{U}\\right)^{2} - {\\left({\\left(\\cos\\left(\\Theta_{0}\\right)^{2} \\sin\\left(\\Phi_{0}\\right) - \\sin\\left(\\Phi_{0}\\right) \\sin\\left(\\Theta_{0}\\right)^{2}\\right)} U^{2} {X^2}^{2} \\epsilon^{2} m^{2} + 4 \\, U^{3} {X^1} \\epsilon m \\cos\\left(\\Theta_{0}\\right) \\sin\\left(\\Phi_{0}\\right) \\sin\\left(\\Theta_{0}\\right) - 2 \\, {\\left(U^{2} V {X^1} \\cos\\left(\\Theta_{0}\\right) \\sin\\left(\\Phi_{0}\\right) \\sin\\left(\\Theta_{0}\\right) - U {X^1} {X^2}^{2} \\cos\\left(\\Theta_{0}\\right) \\sin\\left(\\Phi_{0}\\right) \\sin\\left(\\Theta_{0}\\right)\\right)} \\epsilon^{3} m^{3} + 4 \\, {\\left(\\cos\\left(\\Theta_{0}\\right)^{2} \\sin\\left(\\Phi_{0}\\right) - \\sin\\left(\\Phi_{0}\\right) \\sin\\left(\\Theta_{0}\\right)^{2}\\right)} U^{4}\\right)} \\cos\\left(\\frac{{X^1} \\epsilon m}{U}\\right) \\sin\\left(\\frac{{X^1} \\epsilon m}{U}\\right) + {\\left(U^{2} {X^2}^{2} \\epsilon^{2} m^{2} \\cos\\left(\\Theta_{0}\\right) \\sin\\left(\\Phi_{0}\\right) \\sin\\left(\\Theta_{0}\\right) - 2 \\, U^{3} {X^1} \\epsilon m \\cos\\left(\\Theta_{0}\\right)^{2} \\sin\\left(\\Phi_{0}\\right) + {\\left(U^{2} V {X^1} \\cos\\left(\\Theta_{0}\\right)^{2} \\sin\\left(\\Phi_{0}\\right) - U {X^1} {X^2}^{2} \\cos\\left(\\Theta_{0}\\right)^{2} \\sin\\left(\\Phi_{0}\\right)\\right)} \\epsilon^{3} m^{3} + 4 \\, U^{4} \\cos\\left(\\Theta_{0}\\right) \\sin\\left(\\Phi_{0}\\right) \\sin\\left(\\Theta_{0}\\right)\\right)} \\sin\\left(\\frac{{X^1} \\epsilon m}{U}\\right)^{2}\\right)} \\sin\\left(\\frac{{X^2} \\epsilon m}{U}\\right)\\right)}}{{\\left({\\left(U V {X^2}^{2} \\sin\\left(\\Theta_{0}\\right) - {X^2}^{4} \\sin\\left(\\Theta_{0}\\right)\\right)} \\epsilon^{5} m^{4} + 2 \\, {\\left(2 \\, U^{3} V \\sin\\left(\\Theta_{0}\\right) - 3 \\, U^{2} {X^2}^{2} \\sin\\left(\\Theta_{0}\\right)\\right)} \\epsilon^{3} m^{2} - 8 \\, U^{4} \\epsilon \\sin\\left(\\Theta_{0}\\right)\\right)} \\cos\\left(\\frac{{X^1} \\epsilon m}{U}\\right) + {\\left({\\left(U V {X^2}^{2} \\cos\\left(\\Theta_{0}\\right) - {X^2}^{4} \\cos\\left(\\Theta_{0}\\right)\\right)} \\epsilon^{5} m^{4} + 2 \\, {\\left(2 \\, U^{3} V \\cos\\left(\\Theta_{0}\\right) - 3 \\, U^{2} {X^2}^{2} \\cos\\left(\\Theta_{0}\\right)\\right)} \\epsilon^{3} m^{2} - 8 \\, U^{4} \\epsilon \\cos\\left(\\Theta_{0}\\right)\\right)} \\sin\\left(\\frac{{X^1} \\epsilon m}{U}\\right)}, -\\frac{2 \\, {\\left({\\left(U^{2} {X^2}^{2} \\epsilon^{2} m^{2} \\sin\\left(\\Phi_{0}\\right) - 4 \\, U^{4} \\sin\\left(\\Phi_{0}\\right) + {\\left(2 \\, U^{3} {X^2} \\epsilon m \\cos\\left(\\Phi_{0}\\right) \\sin\\left(\\Theta_{0}\\right)^{2} - {\\left(U^{2} V {X^2} \\cos\\left(\\Phi_{0}\\right) \\sin\\left(\\Theta_{0}\\right)^{2} - U {X^2}^{3} \\cos\\left(\\Phi_{0}\\right) \\sin\\left(\\Theta_{0}\\right)^{2}\\right)} \\epsilon^{3} m^{3}\\right)} \\cos\\left(\\frac{{X^1} \\epsilon m}{U}\\right)^{2} + 2 \\, {\\left(2 \\, U^{3} {X^2} \\epsilon m \\cos\\left(\\Phi_{0}\\right) \\cos\\left(\\Theta_{0}\\right) \\sin\\left(\\Theta_{0}\\right) - {\\left(U^{2} V {X^2} \\cos\\left(\\Phi_{0}\\right) \\cos\\left(\\Theta_{0}\\right) \\sin\\left(\\Theta_{0}\\right) - U {X^2}^{3} \\cos\\left(\\Phi_{0}\\right) \\cos\\left(\\Theta_{0}\\right) \\sin\\left(\\Theta_{0}\\right)\\right)} \\epsilon^{3} m^{3}\\right)} \\cos\\left(\\frac{{X^1} \\epsilon m}{U}\\right) \\sin\\left(\\frac{{X^1} \\epsilon m}{U}\\right) + {\\left(2 \\, U^{3} {X^2} \\epsilon m \\cos\\left(\\Phi_{0}\\right) \\cos\\left(\\Theta_{0}\\right)^{2} - {\\left(U^{2} V {X^2} \\cos\\left(\\Phi_{0}\\right) \\cos\\left(\\Theta_{0}\\right)^{2} - U {X^2}^{3} \\cos\\left(\\Phi_{0}\\right) \\cos\\left(\\Theta_{0}\\right)^{2}\\right)} \\epsilon^{3} m^{3}\\right)} \\sin\\left(\\frac{{X^1} \\epsilon m}{U}\\right)^{2}\\right)} \\cos\\left(\\frac{{X^2} \\epsilon m}{U}\\right) + {\\left(U^{2} {X^2}^{2} \\epsilon^{2} m^{2} \\cos\\left(\\Phi_{0}\\right) - 4 \\, U^{4} \\cos\\left(\\Phi_{0}\\right) - {\\left(2 \\, U^{3} {X^2} \\epsilon m \\sin\\left(\\Phi_{0}\\right) \\sin\\left(\\Theta_{0}\\right)^{2} - {\\left(U^{2} V {X^2} \\sin\\left(\\Phi_{0}\\right) \\sin\\left(\\Theta_{0}\\right)^{2} - U {X^2}^{3} \\sin\\left(\\Phi_{0}\\right) \\sin\\left(\\Theta_{0}\\right)^{2}\\right)} \\epsilon^{3} m^{3}\\right)} \\cos\\left(\\frac{{X^1} \\epsilon m}{U}\\right)^{2} - 2 \\, {\\left(2 \\, U^{3} {X^2} \\epsilon m \\cos\\left(\\Theta_{0}\\right) \\sin\\left(\\Phi_{0}\\right) \\sin\\left(\\Theta_{0}\\right) - {\\left(U^{2} V {X^2} \\cos\\left(\\Theta_{0}\\right) \\sin\\left(\\Phi_{0}\\right) \\sin\\left(\\Theta_{0}\\right) - U {X^2}^{3} \\cos\\left(\\Theta_{0}\\right) \\sin\\left(\\Phi_{0}\\right) \\sin\\left(\\Theta_{0}\\right)\\right)} \\epsilon^{3} m^{3}\\right)} \\cos\\left(\\frac{{X^1} \\epsilon m}{U}\\right) \\sin\\left(\\frac{{X^1} \\epsilon m}{U}\\right) - {\\left(2 \\, U^{3} {X^2} \\epsilon m \\cos\\left(\\Theta_{0}\\right)^{2} \\sin\\left(\\Phi_{0}\\right) - {\\left(U^{2} V {X^2} \\cos\\left(\\Theta_{0}\\right)^{2} \\sin\\left(\\Phi_{0}\\right) - U {X^2}^{3} \\cos\\left(\\Theta_{0}\\right)^{2} \\sin\\left(\\Phi_{0}\\right)\\right)} \\epsilon^{3} m^{3}\\right)} \\sin\\left(\\frac{{X^1} \\epsilon m}{U}\\right)^{2}\\right)} \\sin\\left(\\frac{{X^2} \\epsilon m}{U}\\right)\\right)}}{{\\left({\\left(U V {X^2}^{2} \\sin\\left(\\Theta_{0}\\right) - {X^2}^{4} \\sin\\left(\\Theta_{0}\\right)\\right)} \\epsilon^{5} m^{4} + 2 \\, {\\left(2 \\, U^{3} V \\sin\\left(\\Theta_{0}\\right) - 3 \\, U^{2} {X^2}^{2} \\sin\\left(\\Theta_{0}\\right)\\right)} \\epsilon^{3} m^{2} - 8 \\, U^{4} \\epsilon \\sin\\left(\\Theta_{0}\\right)\\right)} \\cos\\left(\\frac{{X^1} \\epsilon m}{U}\\right) + {\\left({\\left(U V {X^2}^{2} \\cos\\left(\\Theta_{0}\\right) - {X^2}^{4} \\cos\\left(\\Theta_{0}\\right)\\right)} \\epsilon^{5} m^{4} + 2 \\, {\\left(2 \\, U^{3} V \\cos\\left(\\Theta_{0}\\right) - 3 \\, U^{2} {X^2}^{2} \\cos\\left(\\Theta_{0}\\right)\\right)} \\epsilon^{3} m^{2} - 8 \\, U^{4} \\epsilon \\cos\\left(\\Theta_{0}\\right)\\right)} \\sin\\left(\\frac{{X^1} \\epsilon m}{U}\\right)}\\right]\\)</html>"
      ],
      "text/latex": [
       "$\\displaystyle \\left[-\\frac{2 \\, {\\left({\\left(2 \\, U^{3} {X^2} \\epsilon m^{2} \\sin\\left(\\Phi_{0}\\right) + {\\left(2 \\, U^{4} m \\cos\\left(\\Phi_{0}\\right) \\sin\\left(\\Theta_{0}\\right)^{2} - {\\left(U^{3} V \\cos\\left(\\Phi_{0}\\right) \\sin\\left(\\Theta_{0}\\right)^{2} - U^{2} {X^2}^{2} \\cos\\left(\\Phi_{0}\\right) \\sin\\left(\\Theta_{0}\\right)^{2}\\right)} \\epsilon^{2} m^{3}\\right)} \\cos\\left(\\frac{{X^1} \\epsilon m}{U}\\right)^{2} + 2 \\, {\\left(2 \\, U^{4} m \\cos\\left(\\Phi_{0}\\right) \\cos\\left(\\Theta_{0}\\right) \\sin\\left(\\Theta_{0}\\right) - {\\left(U^{3} V \\cos\\left(\\Phi_{0}\\right) \\cos\\left(\\Theta_{0}\\right) \\sin\\left(\\Theta_{0}\\right) - U^{2} {X^2}^{2} \\cos\\left(\\Phi_{0}\\right) \\cos\\left(\\Theta_{0}\\right) \\sin\\left(\\Theta_{0}\\right)\\right)} \\epsilon^{2} m^{3}\\right)} \\cos\\left(\\frac{{X^1} \\epsilon m}{U}\\right) \\sin\\left(\\frac{{X^1} \\epsilon m}{U}\\right) + {\\left(2 \\, U^{4} m \\cos\\left(\\Phi_{0}\\right) \\cos\\left(\\Theta_{0}\\right)^{2} - {\\left(U^{3} V \\cos\\left(\\Phi_{0}\\right) \\cos\\left(\\Theta_{0}\\right)^{2} - U^{2} {X^2}^{2} \\cos\\left(\\Phi_{0}\\right) \\cos\\left(\\Theta_{0}\\right)^{2}\\right)} \\epsilon^{2} m^{3}\\right)} \\sin\\left(\\frac{{X^1} \\epsilon m}{U}\\right)^{2}\\right)} \\cos\\left(\\frac{{X^2} \\epsilon m}{U}\\right) + {\\left(2 \\, U^{3} {X^2} \\epsilon m^{2} \\cos\\left(\\Phi_{0}\\right) - {\\left(2 \\, U^{4} m \\sin\\left(\\Phi_{0}\\right) \\sin\\left(\\Theta_{0}\\right)^{2} - {\\left(U^{3} V \\sin\\left(\\Phi_{0}\\right) \\sin\\left(\\Theta_{0}\\right)^{2} - U^{2} {X^2}^{2} \\sin\\left(\\Phi_{0}\\right) \\sin\\left(\\Theta_{0}\\right)^{2}\\right)} \\epsilon^{2} m^{3}\\right)} \\cos\\left(\\frac{{X^1} \\epsilon m}{U}\\right)^{2} - 2 \\, {\\left(2 \\, U^{4} m \\cos\\left(\\Theta_{0}\\right) \\sin\\left(\\Phi_{0}\\right) \\sin\\left(\\Theta_{0}\\right) - {\\left(U^{3} V \\cos\\left(\\Theta_{0}\\right) \\sin\\left(\\Phi_{0}\\right) \\sin\\left(\\Theta_{0}\\right) - U^{2} {X^2}^{2} \\cos\\left(\\Theta_{0}\\right) \\sin\\left(\\Phi_{0}\\right) \\sin\\left(\\Theta_{0}\\right)\\right)} \\epsilon^{2} m^{3}\\right)} \\cos\\left(\\frac{{X^1} \\epsilon m}{U}\\right) \\sin\\left(\\frac{{X^1} \\epsilon m}{U}\\right) - {\\left(2 \\, U^{4} m \\cos\\left(\\Theta_{0}\\right)^{2} \\sin\\left(\\Phi_{0}\\right) - {\\left(U^{3} V \\cos\\left(\\Theta_{0}\\right)^{2} \\sin\\left(\\Phi_{0}\\right) - U^{2} {X^2}^{2} \\cos\\left(\\Theta_{0}\\right)^{2} \\sin\\left(\\Phi_{0}\\right)\\right)} \\epsilon^{2} m^{3}\\right)} \\sin\\left(\\frac{{X^1} \\epsilon m}{U}\\right)^{2}\\right)} \\sin\\left(\\frac{{X^2} \\epsilon m}{U}\\right)\\right)}}{{\\left({\\left(U V {X^2}^{2} \\sin\\left(\\Theta_{0}\\right) - {X^2}^{4} \\sin\\left(\\Theta_{0}\\right)\\right)} \\epsilon^{4} m^{4} + 2 \\, {\\left(2 \\, U^{3} V \\sin\\left(\\Theta_{0}\\right) - 3 \\, U^{2} {X^2}^{2} \\sin\\left(\\Theta_{0}\\right)\\right)} \\epsilon^{2} m^{2} - 8 \\, U^{4} \\sin\\left(\\Theta_{0}\\right)\\right)} \\cos\\left(\\frac{{X^1} \\epsilon m}{U}\\right) + {\\left({\\left(U V {X^2}^{2} \\cos\\left(\\Theta_{0}\\right) - {X^2}^{4} \\cos\\left(\\Theta_{0}\\right)\\right)} \\epsilon^{4} m^{4} + 2 \\, {\\left(2 \\, U^{3} V \\cos\\left(\\Theta_{0}\\right) - 3 \\, U^{2} {X^2}^{2} \\cos\\left(\\Theta_{0}\\right)\\right)} \\epsilon^{2} m^{2} - 8 \\, U^{4} \\cos\\left(\\Theta_{0}\\right)\\right)} \\sin\\left(\\frac{{X^1} \\epsilon m}{U}\\right)}, \\frac{4 \\, {\\left({\\left(2 \\, U^{3} {X^2} \\epsilon m \\sin\\left(\\Phi_{0}\\right) + {\\left(2 \\, U^{4} \\cos\\left(\\Phi_{0}\\right) \\sin\\left(\\Theta_{0}\\right)^{2} - {\\left(U^{3} V \\cos\\left(\\Phi_{0}\\right) \\sin\\left(\\Theta_{0}\\right)^{2} - U^{2} {X^2}^{2} \\cos\\left(\\Phi_{0}\\right) \\sin\\left(\\Theta_{0}\\right)^{2}\\right)} \\epsilon^{2} m^{2}\\right)} \\cos\\left(\\frac{{X^1} \\epsilon m}{U}\\right)^{2} + 2 \\, {\\left(2 \\, U^{4} \\cos\\left(\\Phi_{0}\\right) \\cos\\left(\\Theta_{0}\\right) \\sin\\left(\\Theta_{0}\\right) - {\\left(U^{3} V \\cos\\left(\\Phi_{0}\\right) \\cos\\left(\\Theta_{0}\\right) \\sin\\left(\\Theta_{0}\\right) - U^{2} {X^2}^{2} \\cos\\left(\\Phi_{0}\\right) \\cos\\left(\\Theta_{0}\\right) \\sin\\left(\\Theta_{0}\\right)\\right)} \\epsilon^{2} m^{2}\\right)} \\cos\\left(\\frac{{X^1} \\epsilon m}{U}\\right) \\sin\\left(\\frac{{X^1} \\epsilon m}{U}\\right) + {\\left(2 \\, U^{4} \\cos\\left(\\Phi_{0}\\right) \\cos\\left(\\Theta_{0}\\right)^{2} - {\\left(U^{3} V \\cos\\left(\\Phi_{0}\\right) \\cos\\left(\\Theta_{0}\\right)^{2} - U^{2} {X^2}^{2} \\cos\\left(\\Phi_{0}\\right) \\cos\\left(\\Theta_{0}\\right)^{2}\\right)} \\epsilon^{2} m^{2}\\right)} \\sin\\left(\\frac{{X^1} \\epsilon m}{U}\\right)^{2}\\right)} \\cos\\left(\\frac{{X^2} \\epsilon m}{U}\\right) + {\\left(2 \\, U^{3} {X^2} \\epsilon m \\cos\\left(\\Phi_{0}\\right) - {\\left(2 \\, U^{4} \\sin\\left(\\Phi_{0}\\right) \\sin\\left(\\Theta_{0}\\right)^{2} - {\\left(U^{3} V \\sin\\left(\\Phi_{0}\\right) \\sin\\left(\\Theta_{0}\\right)^{2} - U^{2} {X^2}^{2} \\sin\\left(\\Phi_{0}\\right) \\sin\\left(\\Theta_{0}\\right)^{2}\\right)} \\epsilon^{2} m^{2}\\right)} \\cos\\left(\\frac{{X^1} \\epsilon m}{U}\\right)^{2} - 2 \\, {\\left(2 \\, U^{4} \\cos\\left(\\Theta_{0}\\right) \\sin\\left(\\Phi_{0}\\right) \\sin\\left(\\Theta_{0}\\right) - {\\left(U^{3} V \\cos\\left(\\Theta_{0}\\right) \\sin\\left(\\Phi_{0}\\right) \\sin\\left(\\Theta_{0}\\right) - U^{2} {X^2}^{2} \\cos\\left(\\Theta_{0}\\right) \\sin\\left(\\Phi_{0}\\right) \\sin\\left(\\Theta_{0}\\right)\\right)} \\epsilon^{2} m^{2}\\right)} \\cos\\left(\\frac{{X^1} \\epsilon m}{U}\\right) \\sin\\left(\\frac{{X^1} \\epsilon m}{U}\\right) - {\\left(2 \\, U^{4} \\cos\\left(\\Theta_{0}\\right)^{2} \\sin\\left(\\Phi_{0}\\right) - {\\left(U^{3} V \\cos\\left(\\Theta_{0}\\right)^{2} \\sin\\left(\\Phi_{0}\\right) - U^{2} {X^2}^{2} \\cos\\left(\\Theta_{0}\\right)^{2} \\sin\\left(\\Phi_{0}\\right)\\right)} \\epsilon^{2} m^{2}\\right)} \\sin\\left(\\frac{{X^1} \\epsilon m}{U}\\right)^{2}\\right)} \\sin\\left(\\frac{{X^2} \\epsilon m}{U}\\right)\\right)}}{{\\left({\\left(U V {X^2}^{2} \\sin\\left(\\Theta_{0}\\right) - {X^2}^{4} \\sin\\left(\\Theta_{0}\\right)\\right)} \\epsilon^{6} m^{5} + 2 \\, {\\left(2 \\, U^{3} V \\sin\\left(\\Theta_{0}\\right) - 3 \\, U^{2} {X^2}^{2} \\sin\\left(\\Theta_{0}\\right)\\right)} \\epsilon^{4} m^{3} - 8 \\, U^{4} \\epsilon^{2} m \\sin\\left(\\Theta_{0}\\right)\\right)} \\cos\\left(\\frac{{X^1} \\epsilon m}{U}\\right) + {\\left({\\left(U V {X^2}^{2} \\cos\\left(\\Theta_{0}\\right) - {X^2}^{4} \\cos\\left(\\Theta_{0}\\right)\\right)} \\epsilon^{6} m^{5} + 2 \\, {\\left(2 \\, U^{3} V \\cos\\left(\\Theta_{0}\\right) - 3 \\, U^{2} {X^2}^{2} \\cos\\left(\\Theta_{0}\\right)\\right)} \\epsilon^{4} m^{3} - 8 \\, U^{4} \\epsilon^{2} m \\cos\\left(\\Theta_{0}\\right)\\right)} \\sin\\left(\\frac{{X^1} \\epsilon m}{U}\\right)}, -\\frac{2 \\, {\\left({\\left(2 \\, U^{2} {X^1} {X^2} \\epsilon^{2} m^{2} \\sin\\left(\\Phi_{0}\\right) + {\\left(U^{2} {X^2}^{2} \\epsilon^{2} m^{2} \\cos\\left(\\Phi_{0}\\right) \\cos\\left(\\Theta_{0}\\right) \\sin\\left(\\Theta_{0}\\right) + 2 \\, U^{3} {X^1} \\epsilon m \\cos\\left(\\Phi_{0}\\right) \\sin\\left(\\Theta_{0}\\right)^{2} - {\\left(U^{2} V {X^1} \\cos\\left(\\Phi_{0}\\right) \\sin\\left(\\Theta_{0}\\right)^{2} - U {X^1} {X^2}^{2} \\cos\\left(\\Phi_{0}\\right) \\sin\\left(\\Theta_{0}\\right)^{2}\\right)} \\epsilon^{3} m^{3} + 4 \\, U^{4} \\cos\\left(\\Phi_{0}\\right) \\cos\\left(\\Theta_{0}\\right) \\sin\\left(\\Theta_{0}\\right)\\right)} \\cos\\left(\\frac{{X^1} \\epsilon m}{U}\\right)^{2} + {\\left({\\left(\\cos\\left(\\Phi_{0}\\right) \\cos\\left(\\Theta_{0}\\right)^{2} - \\cos\\left(\\Phi_{0}\\right) \\sin\\left(\\Theta_{0}\\right)^{2}\\right)} U^{2} {X^2}^{2} \\epsilon^{2} m^{2} + 4 \\, U^{3} {X^1} \\epsilon m \\cos\\left(\\Phi_{0}\\right) \\cos\\left(\\Theta_{0}\\right) \\sin\\left(\\Theta_{0}\\right) - 2 \\, {\\left(U^{2} V {X^1} \\cos\\left(\\Phi_{0}\\right) \\cos\\left(\\Theta_{0}\\right) \\sin\\left(\\Theta_{0}\\right) - U {X^1} {X^2}^{2} \\cos\\left(\\Phi_{0}\\right) \\cos\\left(\\Theta_{0}\\right) \\sin\\left(\\Theta_{0}\\right)\\right)} \\epsilon^{3} m^{3} + 4 \\, {\\left(\\cos\\left(\\Phi_{0}\\right) \\cos\\left(\\Theta_{0}\\right)^{2} - \\cos\\left(\\Phi_{0}\\right) \\sin\\left(\\Theta_{0}\\right)^{2}\\right)} U^{4}\\right)} \\cos\\left(\\frac{{X^1} \\epsilon m}{U}\\right) \\sin\\left(\\frac{{X^1} \\epsilon m}{U}\\right) - {\\left(U^{2} {X^2}^{2} \\epsilon^{2} m^{2} \\cos\\left(\\Phi_{0}\\right) \\cos\\left(\\Theta_{0}\\right) \\sin\\left(\\Theta_{0}\\right) - 2 \\, U^{3} {X^1} \\epsilon m \\cos\\left(\\Phi_{0}\\right) \\cos\\left(\\Theta_{0}\\right)^{2} + {\\left(U^{2} V {X^1} \\cos\\left(\\Phi_{0}\\right) \\cos\\left(\\Theta_{0}\\right)^{2} - U {X^1} {X^2}^{2} \\cos\\left(\\Phi_{0}\\right) \\cos\\left(\\Theta_{0}\\right)^{2}\\right)} \\epsilon^{3} m^{3} + 4 \\, U^{4} \\cos\\left(\\Phi_{0}\\right) \\cos\\left(\\Theta_{0}\\right) \\sin\\left(\\Theta_{0}\\right)\\right)} \\sin\\left(\\frac{{X^1} \\epsilon m}{U}\\right)^{2}\\right)} \\cos\\left(\\frac{{X^2} \\epsilon m}{U}\\right) + {\\left(2 \\, U^{2} {X^1} {X^2} \\epsilon^{2} m^{2} \\cos\\left(\\Phi_{0}\\right) - {\\left(U^{2} {X^2}^{2} \\epsilon^{2} m^{2} \\cos\\left(\\Theta_{0}\\right) \\sin\\left(\\Phi_{0}\\right) \\sin\\left(\\Theta_{0}\\right) + 2 \\, U^{3} {X^1} \\epsilon m \\sin\\left(\\Phi_{0}\\right) \\sin\\left(\\Theta_{0}\\right)^{2} - {\\left(U^{2} V {X^1} \\sin\\left(\\Phi_{0}\\right) \\sin\\left(\\Theta_{0}\\right)^{2} - U {X^1} {X^2}^{2} \\sin\\left(\\Phi_{0}\\right) \\sin\\left(\\Theta_{0}\\right)^{2}\\right)} \\epsilon^{3} m^{3} + 4 \\, U^{4} \\cos\\left(\\Theta_{0}\\right) \\sin\\left(\\Phi_{0}\\right) \\sin\\left(\\Theta_{0}\\right)\\right)} \\cos\\left(\\frac{{X^1} \\epsilon m}{U}\\right)^{2} - {\\left({\\left(\\cos\\left(\\Theta_{0}\\right)^{2} \\sin\\left(\\Phi_{0}\\right) - \\sin\\left(\\Phi_{0}\\right) \\sin\\left(\\Theta_{0}\\right)^{2}\\right)} U^{2} {X^2}^{2} \\epsilon^{2} m^{2} + 4 \\, U^{3} {X^1} \\epsilon m \\cos\\left(\\Theta_{0}\\right) \\sin\\left(\\Phi_{0}\\right) \\sin\\left(\\Theta_{0}\\right) - 2 \\, {\\left(U^{2} V {X^1} \\cos\\left(\\Theta_{0}\\right) \\sin\\left(\\Phi_{0}\\right) \\sin\\left(\\Theta_{0}\\right) - U {X^1} {X^2}^{2} \\cos\\left(\\Theta_{0}\\right) \\sin\\left(\\Phi_{0}\\right) \\sin\\left(\\Theta_{0}\\right)\\right)} \\epsilon^{3} m^{3} + 4 \\, {\\left(\\cos\\left(\\Theta_{0}\\right)^{2} \\sin\\left(\\Phi_{0}\\right) - \\sin\\left(\\Phi_{0}\\right) \\sin\\left(\\Theta_{0}\\right)^{2}\\right)} U^{4}\\right)} \\cos\\left(\\frac{{X^1} \\epsilon m}{U}\\right) \\sin\\left(\\frac{{X^1} \\epsilon m}{U}\\right) + {\\left(U^{2} {X^2}^{2} \\epsilon^{2} m^{2} \\cos\\left(\\Theta_{0}\\right) \\sin\\left(\\Phi_{0}\\right) \\sin\\left(\\Theta_{0}\\right) - 2 \\, U^{3} {X^1} \\epsilon m \\cos\\left(\\Theta_{0}\\right)^{2} \\sin\\left(\\Phi_{0}\\right) + {\\left(U^{2} V {X^1} \\cos\\left(\\Theta_{0}\\right)^{2} \\sin\\left(\\Phi_{0}\\right) - U {X^1} {X^2}^{2} \\cos\\left(\\Theta_{0}\\right)^{2} \\sin\\left(\\Phi_{0}\\right)\\right)} \\epsilon^{3} m^{3} + 4 \\, U^{4} \\cos\\left(\\Theta_{0}\\right) \\sin\\left(\\Phi_{0}\\right) \\sin\\left(\\Theta_{0}\\right)\\right)} \\sin\\left(\\frac{{X^1} \\epsilon m}{U}\\right)^{2}\\right)} \\sin\\left(\\frac{{X^2} \\epsilon m}{U}\\right)\\right)}}{{\\left({\\left(U V {X^2}^{2} \\sin\\left(\\Theta_{0}\\right) - {X^2}^{4} \\sin\\left(\\Theta_{0}\\right)\\right)} \\epsilon^{5} m^{4} + 2 \\, {\\left(2 \\, U^{3} V \\sin\\left(\\Theta_{0}\\right) - 3 \\, U^{2} {X^2}^{2} \\sin\\left(\\Theta_{0}\\right)\\right)} \\epsilon^{3} m^{2} - 8 \\, U^{4} \\epsilon \\sin\\left(\\Theta_{0}\\right)\\right)} \\cos\\left(\\frac{{X^1} \\epsilon m}{U}\\right) + {\\left({\\left(U V {X^2}^{2} \\cos\\left(\\Theta_{0}\\right) - {X^2}^{4} \\cos\\left(\\Theta_{0}\\right)\\right)} \\epsilon^{5} m^{4} + 2 \\, {\\left(2 \\, U^{3} V \\cos\\left(\\Theta_{0}\\right) - 3 \\, U^{2} {X^2}^{2} \\cos\\left(\\Theta_{0}\\right)\\right)} \\epsilon^{3} m^{2} - 8 \\, U^{4} \\epsilon \\cos\\left(\\Theta_{0}\\right)\\right)} \\sin\\left(\\frac{{X^1} \\epsilon m}{U}\\right)}, -\\frac{2 \\, {\\left({\\left(U^{2} {X^2}^{2} \\epsilon^{2} m^{2} \\sin\\left(\\Phi_{0}\\right) - 4 \\, U^{4} \\sin\\left(\\Phi_{0}\\right) + {\\left(2 \\, U^{3} {X^2} \\epsilon m \\cos\\left(\\Phi_{0}\\right) \\sin\\left(\\Theta_{0}\\right)^{2} - {\\left(U^{2} V {X^2} \\cos\\left(\\Phi_{0}\\right) \\sin\\left(\\Theta_{0}\\right)^{2} - U {X^2}^{3} \\cos\\left(\\Phi_{0}\\right) \\sin\\left(\\Theta_{0}\\right)^{2}\\right)} \\epsilon^{3} m^{3}\\right)} \\cos\\left(\\frac{{X^1} \\epsilon m}{U}\\right)^{2} + 2 \\, {\\left(2 \\, U^{3} {X^2} \\epsilon m \\cos\\left(\\Phi_{0}\\right) \\cos\\left(\\Theta_{0}\\right) \\sin\\left(\\Theta_{0}\\right) - {\\left(U^{2} V {X^2} \\cos\\left(\\Phi_{0}\\right) \\cos\\left(\\Theta_{0}\\right) \\sin\\left(\\Theta_{0}\\right) - U {X^2}^{3} \\cos\\left(\\Phi_{0}\\right) \\cos\\left(\\Theta_{0}\\right) \\sin\\left(\\Theta_{0}\\right)\\right)} \\epsilon^{3} m^{3}\\right)} \\cos\\left(\\frac{{X^1} \\epsilon m}{U}\\right) \\sin\\left(\\frac{{X^1} \\epsilon m}{U}\\right) + {\\left(2 \\, U^{3} {X^2} \\epsilon m \\cos\\left(\\Phi_{0}\\right) \\cos\\left(\\Theta_{0}\\right)^{2} - {\\left(U^{2} V {X^2} \\cos\\left(\\Phi_{0}\\right) \\cos\\left(\\Theta_{0}\\right)^{2} - U {X^2}^{3} \\cos\\left(\\Phi_{0}\\right) \\cos\\left(\\Theta_{0}\\right)^{2}\\right)} \\epsilon^{3} m^{3}\\right)} \\sin\\left(\\frac{{X^1} \\epsilon m}{U}\\right)^{2}\\right)} \\cos\\left(\\frac{{X^2} \\epsilon m}{U}\\right) + {\\left(U^{2} {X^2}^{2} \\epsilon^{2} m^{2} \\cos\\left(\\Phi_{0}\\right) - 4 \\, U^{4} \\cos\\left(\\Phi_{0}\\right) - {\\left(2 \\, U^{3} {X^2} \\epsilon m \\sin\\left(\\Phi_{0}\\right) \\sin\\left(\\Theta_{0}\\right)^{2} - {\\left(U^{2} V {X^2} \\sin\\left(\\Phi_{0}\\right) \\sin\\left(\\Theta_{0}\\right)^{2} - U {X^2}^{3} \\sin\\left(\\Phi_{0}\\right) \\sin\\left(\\Theta_{0}\\right)^{2}\\right)} \\epsilon^{3} m^{3}\\right)} \\cos\\left(\\frac{{X^1} \\epsilon m}{U}\\right)^{2} - 2 \\, {\\left(2 \\, U^{3} {X^2} \\epsilon m \\cos\\left(\\Theta_{0}\\right) \\sin\\left(\\Phi_{0}\\right) \\sin\\left(\\Theta_{0}\\right) - {\\left(U^{2} V {X^2} \\cos\\left(\\Theta_{0}\\right) \\sin\\left(\\Phi_{0}\\right) \\sin\\left(\\Theta_{0}\\right) - U {X^2}^{3} \\cos\\left(\\Theta_{0}\\right) \\sin\\left(\\Phi_{0}\\right) \\sin\\left(\\Theta_{0}\\right)\\right)} \\epsilon^{3} m^{3}\\right)} \\cos\\left(\\frac{{X^1} \\epsilon m}{U}\\right) \\sin\\left(\\frac{{X^1} \\epsilon m}{U}\\right) - {\\left(2 \\, U^{3} {X^2} \\epsilon m \\cos\\left(\\Theta_{0}\\right)^{2} \\sin\\left(\\Phi_{0}\\right) - {\\left(U^{2} V {X^2} \\cos\\left(\\Theta_{0}\\right)^{2} \\sin\\left(\\Phi_{0}\\right) - U {X^2}^{3} \\cos\\left(\\Theta_{0}\\right)^{2} \\sin\\left(\\Phi_{0}\\right)\\right)} \\epsilon^{3} m^{3}\\right)} \\sin\\left(\\frac{{X^1} \\epsilon m}{U}\\right)^{2}\\right)} \\sin\\left(\\frac{{X^2} \\epsilon m}{U}\\right)\\right)}}{{\\left({\\left(U V {X^2}^{2} \\sin\\left(\\Theta_{0}\\right) - {X^2}^{4} \\sin\\left(\\Theta_{0}\\right)\\right)} \\epsilon^{5} m^{4} + 2 \\, {\\left(2 \\, U^{3} V \\sin\\left(\\Theta_{0}\\right) - 3 \\, U^{2} {X^2}^{2} \\sin\\left(\\Theta_{0}\\right)\\right)} \\epsilon^{3} m^{2} - 8 \\, U^{4} \\epsilon \\sin\\left(\\Theta_{0}\\right)\\right)} \\cos\\left(\\frac{{X^1} \\epsilon m}{U}\\right) + {\\left({\\left(U V {X^2}^{2} \\cos\\left(\\Theta_{0}\\right) - {X^2}^{4} \\cos\\left(\\Theta_{0}\\right)\\right)} \\epsilon^{5} m^{4} + 2 \\, {\\left(2 \\, U^{3} V \\cos\\left(\\Theta_{0}\\right) - 3 \\, U^{2} {X^2}^{2} \\cos\\left(\\Theta_{0}\\right)\\right)} \\epsilon^{3} m^{2} - 8 \\, U^{4} \\epsilon \\cos\\left(\\Theta_{0}\\right)\\right)} \\sin\\left(\\frac{{X^1} \\epsilon m}{U}\\right)}\\right]$"
      ],
      "text/plain": [
       "[-2*((2*U^3*X2*epsilon*m^2*sin(Phi_0) + (2*U^4*m*cos(Phi_0)*sin(Theta_0)^2 - (U^3*V*cos(Phi_0)*sin(Theta_0)^2 - U^2*X2^2*cos(Phi_0)*sin(Theta_0)^2)*epsilon^2*m^3)*cos(X1*epsilon*m/U)^2 + 2*(2*U^4*m*cos(Phi_0)*cos(Theta_0)*sin(Theta_0) - (U^3*V*cos(Phi_0)*cos(Theta_0)*sin(Theta_0) - U^2*X2^2*cos(Phi_0)*cos(Theta_0)*sin(Theta_0))*epsilon^2*m^3)*cos(X1*epsilon*m/U)*sin(X1*epsilon*m/U) + (2*U^4*m*cos(Phi_0)*cos(Theta_0)^2 - (U^3*V*cos(Phi_0)*cos(Theta_0)^2 - U^2*X2^2*cos(Phi_0)*cos(Theta_0)^2)*epsilon^2*m^3)*sin(X1*epsilon*m/U)^2)*cos(X2*epsilon*m/U) + (2*U^3*X2*epsilon*m^2*cos(Phi_0) - (2*U^4*m*sin(Phi_0)*sin(Theta_0)^2 - (U^3*V*sin(Phi_0)*sin(Theta_0)^2 - U^2*X2^2*sin(Phi_0)*sin(Theta_0)^2)*epsilon^2*m^3)*cos(X1*epsilon*m/U)^2 - 2*(2*U^4*m*cos(Theta_0)*sin(Phi_0)*sin(Theta_0) - (U^3*V*cos(Theta_0)*sin(Phi_0)*sin(Theta_0) - U^2*X2^2*cos(Theta_0)*sin(Phi_0)*sin(Theta_0))*epsilon^2*m^3)*cos(X1*epsilon*m/U)*sin(X1*epsilon*m/U) - (2*U^4*m*cos(Theta_0)^2*sin(Phi_0) - (U^3*V*cos(Theta_0)^2*sin(Phi_0) - U^2*X2^2*cos(Theta_0)^2*sin(Phi_0))*epsilon^2*m^3)*sin(X1*epsilon*m/U)^2)*sin(X2*epsilon*m/U))/(((U*V*X2^2*sin(Theta_0) - X2^4*sin(Theta_0))*epsilon^4*m^4 + 2*(2*U^3*V*sin(Theta_0) - 3*U^2*X2^2*sin(Theta_0))*epsilon^2*m^2 - 8*U^4*sin(Theta_0))*cos(X1*epsilon*m/U) + ((U*V*X2^2*cos(Theta_0) - X2^4*cos(Theta_0))*epsilon^4*m^4 + 2*(2*U^3*V*cos(Theta_0) - 3*U^2*X2^2*cos(Theta_0))*epsilon^2*m^2 - 8*U^4*cos(Theta_0))*sin(X1*epsilon*m/U)),\n",
       " 4*((2*U^3*X2*epsilon*m*sin(Phi_0) + (2*U^4*cos(Phi_0)*sin(Theta_0)^2 - (U^3*V*cos(Phi_0)*sin(Theta_0)^2 - U^2*X2^2*cos(Phi_0)*sin(Theta_0)^2)*epsilon^2*m^2)*cos(X1*epsilon*m/U)^2 + 2*(2*U^4*cos(Phi_0)*cos(Theta_0)*sin(Theta_0) - (U^3*V*cos(Phi_0)*cos(Theta_0)*sin(Theta_0) - U^2*X2^2*cos(Phi_0)*cos(Theta_0)*sin(Theta_0))*epsilon^2*m^2)*cos(X1*epsilon*m/U)*sin(X1*epsilon*m/U) + (2*U^4*cos(Phi_0)*cos(Theta_0)^2 - (U^3*V*cos(Phi_0)*cos(Theta_0)^2 - U^2*X2^2*cos(Phi_0)*cos(Theta_0)^2)*epsilon^2*m^2)*sin(X1*epsilon*m/U)^2)*cos(X2*epsilon*m/U) + (2*U^3*X2*epsilon*m*cos(Phi_0) - (2*U^4*sin(Phi_0)*sin(Theta_0)^2 - (U^3*V*sin(Phi_0)*sin(Theta_0)^2 - U^2*X2^2*sin(Phi_0)*sin(Theta_0)^2)*epsilon^2*m^2)*cos(X1*epsilon*m/U)^2 - 2*(2*U^4*cos(Theta_0)*sin(Phi_0)*sin(Theta_0) - (U^3*V*cos(Theta_0)*sin(Phi_0)*sin(Theta_0) - U^2*X2^2*cos(Theta_0)*sin(Phi_0)*sin(Theta_0))*epsilon^2*m^2)*cos(X1*epsilon*m/U)*sin(X1*epsilon*m/U) - (2*U^4*cos(Theta_0)^2*sin(Phi_0) - (U^3*V*cos(Theta_0)^2*sin(Phi_0) - U^2*X2^2*cos(Theta_0)^2*sin(Phi_0))*epsilon^2*m^2)*sin(X1*epsilon*m/U)^2)*sin(X2*epsilon*m/U))/(((U*V*X2^2*sin(Theta_0) - X2^4*sin(Theta_0))*epsilon^6*m^5 + 2*(2*U^3*V*sin(Theta_0) - 3*U^2*X2^2*sin(Theta_0))*epsilon^4*m^3 - 8*U^4*epsilon^2*m*sin(Theta_0))*cos(X1*epsilon*m/U) + ((U*V*X2^2*cos(Theta_0) - X2^4*cos(Theta_0))*epsilon^6*m^5 + 2*(2*U^3*V*cos(Theta_0) - 3*U^2*X2^2*cos(Theta_0))*epsilon^4*m^3 - 8*U^4*epsilon^2*m*cos(Theta_0))*sin(X1*epsilon*m/U)),\n",
       " -2*((2*U^2*X1*X2*epsilon^2*m^2*sin(Phi_0) + (U^2*X2^2*epsilon^2*m^2*cos(Phi_0)*cos(Theta_0)*sin(Theta_0) + 2*U^3*X1*epsilon*m*cos(Phi_0)*sin(Theta_0)^2 - (U^2*V*X1*cos(Phi_0)*sin(Theta_0)^2 - U*X1*X2^2*cos(Phi_0)*sin(Theta_0)^2)*epsilon^3*m^3 + 4*U^4*cos(Phi_0)*cos(Theta_0)*sin(Theta_0))*cos(X1*epsilon*m/U)^2 + ((cos(Phi_0)*cos(Theta_0)^2 - cos(Phi_0)*sin(Theta_0)^2)*U^2*X2^2*epsilon^2*m^2 + 4*U^3*X1*epsilon*m*cos(Phi_0)*cos(Theta_0)*sin(Theta_0) - 2*(U^2*V*X1*cos(Phi_0)*cos(Theta_0)*sin(Theta_0) - U*X1*X2^2*cos(Phi_0)*cos(Theta_0)*sin(Theta_0))*epsilon^3*m^3 + 4*(cos(Phi_0)*cos(Theta_0)^2 - cos(Phi_0)*sin(Theta_0)^2)*U^4)*cos(X1*epsilon*m/U)*sin(X1*epsilon*m/U) - (U^2*X2^2*epsilon^2*m^2*cos(Phi_0)*cos(Theta_0)*sin(Theta_0) - 2*U^3*X1*epsilon*m*cos(Phi_0)*cos(Theta_0)^2 + (U^2*V*X1*cos(Phi_0)*cos(Theta_0)^2 - U*X1*X2^2*cos(Phi_0)*cos(Theta_0)^2)*epsilon^3*m^3 + 4*U^4*cos(Phi_0)*cos(Theta_0)*sin(Theta_0))*sin(X1*epsilon*m/U)^2)*cos(X2*epsilon*m/U) + (2*U^2*X1*X2*epsilon^2*m^2*cos(Phi_0) - (U^2*X2^2*epsilon^2*m^2*cos(Theta_0)*sin(Phi_0)*sin(Theta_0) + 2*U^3*X1*epsilon*m*sin(Phi_0)*sin(Theta_0)^2 - (U^2*V*X1*sin(Phi_0)*sin(Theta_0)^2 - U*X1*X2^2*sin(Phi_0)*sin(Theta_0)^2)*epsilon^3*m^3 + 4*U^4*cos(Theta_0)*sin(Phi_0)*sin(Theta_0))*cos(X1*epsilon*m/U)^2 - ((cos(Theta_0)^2*sin(Phi_0) - sin(Phi_0)*sin(Theta_0)^2)*U^2*X2^2*epsilon^2*m^2 + 4*U^3*X1*epsilon*m*cos(Theta_0)*sin(Phi_0)*sin(Theta_0) - 2*(U^2*V*X1*cos(Theta_0)*sin(Phi_0)*sin(Theta_0) - U*X1*X2^2*cos(Theta_0)*sin(Phi_0)*sin(Theta_0))*epsilon^3*m^3 + 4*(cos(Theta_0)^2*sin(Phi_0) - sin(Phi_0)*sin(Theta_0)^2)*U^4)*cos(X1*epsilon*m/U)*sin(X1*epsilon*m/U) + (U^2*X2^2*epsilon^2*m^2*cos(Theta_0)*sin(Phi_0)*sin(Theta_0) - 2*U^3*X1*epsilon*m*cos(Theta_0)^2*sin(Phi_0) + (U^2*V*X1*cos(Theta_0)^2*sin(Phi_0) - U*X1*X2^2*cos(Theta_0)^2*sin(Phi_0))*epsilon^3*m^3 + 4*U^4*cos(Theta_0)*sin(Phi_0)*sin(Theta_0))*sin(X1*epsilon*m/U)^2)*sin(X2*epsilon*m/U))/(((U*V*X2^2*sin(Theta_0) - X2^4*sin(Theta_0))*epsilon^5*m^4 + 2*(2*U^3*V*sin(Theta_0) - 3*U^2*X2^2*sin(Theta_0))*epsilon^3*m^2 - 8*U^4*epsilon*sin(Theta_0))*cos(X1*epsilon*m/U) + ((U*V*X2^2*cos(Theta_0) - X2^4*cos(Theta_0))*epsilon^5*m^4 + 2*(2*U^3*V*cos(Theta_0) - 3*U^2*X2^2*cos(Theta_0))*epsilon^3*m^2 - 8*U^4*epsilon*cos(Theta_0))*sin(X1*epsilon*m/U)),\n",
       " -2*((U^2*X2^2*epsilon^2*m^2*sin(Phi_0) - 4*U^4*sin(Phi_0) + (2*U^3*X2*epsilon*m*cos(Phi_0)*sin(Theta_0)^2 - (U^2*V*X2*cos(Phi_0)*sin(Theta_0)^2 - U*X2^3*cos(Phi_0)*sin(Theta_0)^2)*epsilon^3*m^3)*cos(X1*epsilon*m/U)^2 + 2*(2*U^3*X2*epsilon*m*cos(Phi_0)*cos(Theta_0)*sin(Theta_0) - (U^2*V*X2*cos(Phi_0)*cos(Theta_0)*sin(Theta_0) - U*X2^3*cos(Phi_0)*cos(Theta_0)*sin(Theta_0))*epsilon^3*m^3)*cos(X1*epsilon*m/U)*sin(X1*epsilon*m/U) + (2*U^3*X2*epsilon*m*cos(Phi_0)*cos(Theta_0)^2 - (U^2*V*X2*cos(Phi_0)*cos(Theta_0)^2 - U*X2^3*cos(Phi_0)*cos(Theta_0)^2)*epsilon^3*m^3)*sin(X1*epsilon*m/U)^2)*cos(X2*epsilon*m/U) + (U^2*X2^2*epsilon^2*m^2*cos(Phi_0) - 4*U^4*cos(Phi_0) - (2*U^3*X2*epsilon*m*sin(Phi_0)*sin(Theta_0)^2 - (U^2*V*X2*sin(Phi_0)*sin(Theta_0)^2 - U*X2^3*sin(Phi_0)*sin(Theta_0)^2)*epsilon^3*m^3)*cos(X1*epsilon*m/U)^2 - 2*(2*U^3*X2*epsilon*m*cos(Theta_0)*sin(Phi_0)*sin(Theta_0) - (U^2*V*X2*cos(Theta_0)*sin(Phi_0)*sin(Theta_0) - U*X2^3*cos(Theta_0)*sin(Phi_0)*sin(Theta_0))*epsilon^3*m^3)*cos(X1*epsilon*m/U)*sin(X1*epsilon*m/U) - (2*U^3*X2*epsilon*m*cos(Theta_0)^2*sin(Phi_0) - (U^2*V*X2*cos(Theta_0)^2*sin(Phi_0) - U*X2^3*cos(Theta_0)^2*sin(Phi_0))*epsilon^3*m^3)*sin(X1*epsilon*m/U)^2)*sin(X2*epsilon*m/U))/(((U*V*X2^2*sin(Theta_0) - X2^4*sin(Theta_0))*epsilon^5*m^4 + 2*(2*U^3*V*sin(Theta_0) - 3*U^2*X2^2*sin(Theta_0))*epsilon^3*m^2 - 8*U^4*epsilon*sin(Theta_0))*cos(X1*epsilon*m/U) + ((U*V*X2^2*cos(Theta_0) - X2^4*cos(Theta_0))*epsilon^5*m^4 + 2*(2*U^3*V*cos(Theta_0) - 3*U^2*X2^2*cos(Theta_0))*epsilon^3*m^2 - 8*U^4*epsilon*cos(Theta_0))*sin(X1*epsilon*m/U))]"
      ]
     },
     "execution_count": 208,
     "metadata": {},
     "output_type": "execute_result"
    }
   ],
   "source": [
    "T1[eZ, :, Z]"
   ]
  },
  {
   "cell_type": "code",
   "execution_count": 209,
   "id": "ac7e75d2",
   "metadata": {},
   "outputs": [
    {
     "data": {
      "text/html": [
       "<html>\\(\\displaystyle \\left(M,(u, v, {x_1}, {x_2})\\right)\\)</html>"
      ],
      "text/latex": [
       "$\\displaystyle \\left(M,(u, v, {x_1}, {x_2})\\right)$"
      ],
      "text/plain": [
       "Chart (M, (u, v, x1, x2))"
      ]
     },
     "execution_count": 209,
     "metadata": {},
     "output_type": "execute_result"
    }
   ],
   "source": [
    "W.<u, v, x1, x2> = M.chart(r'u:(-oo,+oo) v:(-oo,+oo) x1:(-oo,+oo):x_1 x2:(-oo,+oo):x_2')\n",
    "W"
   ]
  },
  {
   "cell_type": "code",
   "execution_count": 210,
   "id": "3e6c3388",
   "metadata": {},
   "outputs": [
    {
     "data": {
      "text/html": [
       "<html>\\(\\displaystyle \\left(\\begin{array}{rrrr}\n",
       "\\frac{{\\left(U^{2} V^{2} {X^1}^{2} - 2 \\, U V {X^1}^{2} {X^2}^{2} + {X^1}^{2} {X^2}^{4}\\right)} \\epsilon^{6} m^{4} - {\\left(4 \\, U^{3} V {X^1}^{2} - 4 \\, U^{2} {X^1}^{2} {X^2}^{2} - U^{2} {X^2}^{4}\\right)} \\epsilon^{4} m^{2} + 4 \\, {\\left(U^{4} {X^1}^{2} - U^{4} {X^2}^{2}\\right)} \\epsilon^{2} + {\\left({\\left(U^{2} V^{2} {X^2}^{2} \\sin\\left(\\Theta_{0}\\right)^{2} - 2 \\, U V {X^2}^{4} \\sin\\left(\\Theta_{0}\\right)^{2} + {X^2}^{6} \\sin\\left(\\Theta_{0}\\right)^{2}\\right)} \\epsilon^{6} m^{4} + 4 \\, U^{4} {X^2}^{2} \\epsilon^{2} \\sin\\left(\\Theta_{0}\\right)^{2} - 4 \\, {\\left(U^{3} V {X^2}^{2} \\sin\\left(\\Theta_{0}\\right)^{2} - U^{2} {X^2}^{4} \\sin\\left(\\Theta_{0}\\right)^{2}\\right)} \\epsilon^{4} m^{2}\\right)} \\cos\\left(\\frac{{X^1} \\epsilon m}{U}\\right)^{2} + 2 \\, {\\left({\\left(U^{2} V^{2} {X^2}^{2} \\cos\\left(\\Theta_{0}\\right) \\sin\\left(\\Theta_{0}\\right) - 2 \\, U V {X^2}^{4} \\cos\\left(\\Theta_{0}\\right) \\sin\\left(\\Theta_{0}\\right) + {X^2}^{6} \\cos\\left(\\Theta_{0}\\right) \\sin\\left(\\Theta_{0}\\right)\\right)} \\epsilon^{6} m^{4} + 4 \\, U^{4} {X^2}^{2} \\epsilon^{2} \\cos\\left(\\Theta_{0}\\right) \\sin\\left(\\Theta_{0}\\right) - 4 \\, {\\left(U^{3} V {X^2}^{2} \\cos\\left(\\Theta_{0}\\right) \\sin\\left(\\Theta_{0}\\right) - U^{2} {X^2}^{4} \\cos\\left(\\Theta_{0}\\right) \\sin\\left(\\Theta_{0}\\right)\\right)} \\epsilon^{4} m^{2}\\right)} \\cos\\left(\\frac{{X^1} \\epsilon m}{U}\\right) \\sin\\left(\\frac{{X^1} \\epsilon m}{U}\\right) + {\\left({\\left(U^{2} V^{2} {X^2}^{2} \\cos\\left(\\Theta_{0}\\right)^{2} - 2 \\, U V {X^2}^{4} \\cos\\left(\\Theta_{0}\\right)^{2} + {X^2}^{6} \\cos\\left(\\Theta_{0}\\right)^{2}\\right)} \\epsilon^{6} m^{4} + 4 \\, U^{4} {X^2}^{2} \\epsilon^{2} \\cos\\left(\\Theta_{0}\\right)^{2} - 4 \\, {\\left(U^{3} V {X^2}^{2} \\cos\\left(\\Theta_{0}\\right)^{2} - U^{2} {X^2}^{4} \\cos\\left(\\Theta_{0}\\right)^{2}\\right)} \\epsilon^{4} m^{2}\\right)} \\sin\\left(\\frac{{X^1} \\epsilon m}{U}\\right)^{2}}{4 \\, U^{6}} & \\frac{{X^2}^{2} \\epsilon^{4} m^{2} - 4 \\, U^{2} \\epsilon^{2}}{4 \\, U^{2}} & -\\frac{{\\left(U^{2} V^{2} {X^1} - 2 \\, U V {X^1} {X^2}^{2} + {X^1} {X^2}^{4}\\right)} \\epsilon^{6} m^{4} + 4 \\, U^{4} {X^1} \\epsilon^{2} - 4 \\, {\\left(U^{3} V {X^1} - U^{2} {X^1} {X^2}^{2}\\right)} \\epsilon^{4} m^{2}}{4 \\, U^{5}} & -\\frac{2 \\, U^{2} {X^2}^{3} \\epsilon^{4} m^{2} - 4 \\, U^{4} {X^2} \\epsilon^{2} + {\\left({\\left(U^{2} V^{2} {X^2} \\sin\\left(\\Theta_{0}\\right)^{2} - 2 \\, U V {X^2}^{3} \\sin\\left(\\Theta_{0}\\right)^{2} + {X^2}^{5} \\sin\\left(\\Theta_{0}\\right)^{2}\\right)} \\epsilon^{6} m^{4} + 4 \\, U^{4} {X^2} \\epsilon^{2} \\sin\\left(\\Theta_{0}\\right)^{2} - 4 \\, {\\left(U^{3} V {X^2} \\sin\\left(\\Theta_{0}\\right)^{2} - U^{2} {X^2}^{3} \\sin\\left(\\Theta_{0}\\right)^{2}\\right)} \\epsilon^{4} m^{2}\\right)} \\cos\\left(\\frac{{X^1} \\epsilon m}{U}\\right)^{2} + 2 \\, {\\left({\\left(U^{2} V^{2} {X^2} \\cos\\left(\\Theta_{0}\\right) \\sin\\left(\\Theta_{0}\\right) - 2 \\, U V {X^2}^{3} \\cos\\left(\\Theta_{0}\\right) \\sin\\left(\\Theta_{0}\\right) + {X^2}^{5} \\cos\\left(\\Theta_{0}\\right) \\sin\\left(\\Theta_{0}\\right)\\right)} \\epsilon^{6} m^{4} + 4 \\, U^{4} {X^2} \\epsilon^{2} \\cos\\left(\\Theta_{0}\\right) \\sin\\left(\\Theta_{0}\\right) - 4 \\, {\\left(U^{3} V {X^2} \\cos\\left(\\Theta_{0}\\right) \\sin\\left(\\Theta_{0}\\right) - U^{2} {X^2}^{3} \\cos\\left(\\Theta_{0}\\right) \\sin\\left(\\Theta_{0}\\right)\\right)} \\epsilon^{4} m^{2}\\right)} \\cos\\left(\\frac{{X^1} \\epsilon m}{U}\\right) \\sin\\left(\\frac{{X^1} \\epsilon m}{U}\\right) + {\\left({\\left(U^{2} V^{2} {X^2} \\cos\\left(\\Theta_{0}\\right)^{2} - 2 \\, U V {X^2}^{3} \\cos\\left(\\Theta_{0}\\right)^{2} + {X^2}^{5} \\cos\\left(\\Theta_{0}\\right)^{2}\\right)} \\epsilon^{6} m^{4} + 4 \\, U^{4} {X^2} \\epsilon^{2} \\cos\\left(\\Theta_{0}\\right)^{2} - 4 \\, {\\left(U^{3} V {X^2} \\cos\\left(\\Theta_{0}\\right)^{2} - U^{2} {X^2}^{3} \\cos\\left(\\Theta_{0}\\right)^{2}\\right)} \\epsilon^{4} m^{2}\\right)} \\sin\\left(\\frac{{X^1} \\epsilon m}{U}\\right)^{2}}{4 \\, U^{5}} \\\\\n",
       "\\frac{{X^2}^{2} \\epsilon^{4} m^{2} - 4 \\, U^{2} \\epsilon^{2}}{4 \\, U^{2}} & 0 & 0 & -\\frac{{X^2} \\epsilon^{4} m^{2}}{2 \\, U} \\\\\n",
       "-\\frac{{\\left(U^{2} V^{2} {X^1} - 2 \\, U V {X^1} {X^2}^{2} + {X^1} {X^2}^{4}\\right)} \\epsilon^{6} m^{4} + 4 \\, U^{4} {X^1} \\epsilon^{2} - 4 \\, {\\left(U^{3} V {X^1} - U^{2} {X^1} {X^2}^{2}\\right)} \\epsilon^{4} m^{2}}{4 \\, U^{5}} & 0 & \\frac{{\\left(U^{2} V^{2} - 2 \\, U V {X^2}^{2} + {X^2}^{4}\\right)} \\epsilon^{6} m^{4} - 4 \\, {\\left(U^{3} V - U^{2} {X^2}^{2}\\right)} \\epsilon^{4} m^{2} + 4 \\, U^{4} \\epsilon^{2}}{4 \\, U^{4}} & 0 \\\\\n",
       "-\\frac{2 \\, U^{2} {X^2}^{3} \\epsilon^{4} m^{2} - 4 \\, U^{4} {X^2} \\epsilon^{2} + {\\left({\\left(U^{2} V^{2} {X^2} \\sin\\left(\\Theta_{0}\\right)^{2} - 2 \\, U V {X^2}^{3} \\sin\\left(\\Theta_{0}\\right)^{2} + {X^2}^{5} \\sin\\left(\\Theta_{0}\\right)^{2}\\right)} \\epsilon^{6} m^{4} + 4 \\, U^{4} {X^2} \\epsilon^{2} \\sin\\left(\\Theta_{0}\\right)^{2} - 4 \\, {\\left(U^{3} V {X^2} \\sin\\left(\\Theta_{0}\\right)^{2} - U^{2} {X^2}^{3} \\sin\\left(\\Theta_{0}\\right)^{2}\\right)} \\epsilon^{4} m^{2}\\right)} \\cos\\left(\\frac{{X^1} \\epsilon m}{U}\\right)^{2} + 2 \\, {\\left({\\left(U^{2} V^{2} {X^2} \\cos\\left(\\Theta_{0}\\right) \\sin\\left(\\Theta_{0}\\right) - 2 \\, U V {X^2}^{3} \\cos\\left(\\Theta_{0}\\right) \\sin\\left(\\Theta_{0}\\right) + {X^2}^{5} \\cos\\left(\\Theta_{0}\\right) \\sin\\left(\\Theta_{0}\\right)\\right)} \\epsilon^{6} m^{4} + 4 \\, U^{4} {X^2} \\epsilon^{2} \\cos\\left(\\Theta_{0}\\right) \\sin\\left(\\Theta_{0}\\right) - 4 \\, {\\left(U^{3} V {X^2} \\cos\\left(\\Theta_{0}\\right) \\sin\\left(\\Theta_{0}\\right) - U^{2} {X^2}^{3} \\cos\\left(\\Theta_{0}\\right) \\sin\\left(\\Theta_{0}\\right)\\right)} \\epsilon^{4} m^{2}\\right)} \\cos\\left(\\frac{{X^1} \\epsilon m}{U}\\right) \\sin\\left(\\frac{{X^1} \\epsilon m}{U}\\right) + {\\left({\\left(U^{2} V^{2} {X^2} \\cos\\left(\\Theta_{0}\\right)^{2} - 2 \\, U V {X^2}^{3} \\cos\\left(\\Theta_{0}\\right)^{2} + {X^2}^{5} \\cos\\left(\\Theta_{0}\\right)^{2}\\right)} \\epsilon^{6} m^{4} + 4 \\, U^{4} {X^2} \\epsilon^{2} \\cos\\left(\\Theta_{0}\\right)^{2} - 4 \\, {\\left(U^{3} V {X^2} \\cos\\left(\\Theta_{0}\\right)^{2} - U^{2} {X^2}^{3} \\cos\\left(\\Theta_{0}\\right)^{2}\\right)} \\epsilon^{4} m^{2}\\right)} \\sin\\left(\\frac{{X^1} \\epsilon m}{U}\\right)^{2}}{4 \\, U^{5}} & -\\frac{{X^2} \\epsilon^{4} m^{2}}{2 \\, U} & 0 & \\frac{4 \\, U^{2} {X^2}^{2} \\epsilon^{4} m^{2} + {\\left({\\left(U^{2} V^{2} \\sin\\left(\\Theta_{0}\\right)^{2} - 2 \\, U V {X^2}^{2} \\sin\\left(\\Theta_{0}\\right)^{2} + {X^2}^{4} \\sin\\left(\\Theta_{0}\\right)^{2}\\right)} \\epsilon^{6} m^{4} + 4 \\, U^{4} \\epsilon^{2} \\sin\\left(\\Theta_{0}\\right)^{2} - 4 \\, {\\left(U^{3} V \\sin\\left(\\Theta_{0}\\right)^{2} - U^{2} {X^2}^{2} \\sin\\left(\\Theta_{0}\\right)^{2}\\right)} \\epsilon^{4} m^{2}\\right)} \\cos\\left(\\frac{{X^1} \\epsilon m}{U}\\right)^{2} + 2 \\, {\\left({\\left(U^{2} V^{2} \\cos\\left(\\Theta_{0}\\right) \\sin\\left(\\Theta_{0}\\right) - 2 \\, U V {X^2}^{2} \\cos\\left(\\Theta_{0}\\right) \\sin\\left(\\Theta_{0}\\right) + {X^2}^{4} \\cos\\left(\\Theta_{0}\\right) \\sin\\left(\\Theta_{0}\\right)\\right)} \\epsilon^{6} m^{4} + 4 \\, U^{4} \\epsilon^{2} \\cos\\left(\\Theta_{0}\\right) \\sin\\left(\\Theta_{0}\\right) - 4 \\, {\\left(U^{3} V \\cos\\left(\\Theta_{0}\\right) \\sin\\left(\\Theta_{0}\\right) - U^{2} {X^2}^{2} \\cos\\left(\\Theta_{0}\\right) \\sin\\left(\\Theta_{0}\\right)\\right)} \\epsilon^{4} m^{2}\\right)} \\cos\\left(\\frac{{X^1} \\epsilon m}{U}\\right) \\sin\\left(\\frac{{X^1} \\epsilon m}{U}\\right) + {\\left({\\left(U^{2} V^{2} \\cos\\left(\\Theta_{0}\\right)^{2} - 2 \\, U V {X^2}^{2} \\cos\\left(\\Theta_{0}\\right)^{2} + {X^2}^{4} \\cos\\left(\\Theta_{0}\\right)^{2}\\right)} \\epsilon^{6} m^{4} + 4 \\, U^{4} \\epsilon^{2} \\cos\\left(\\Theta_{0}\\right)^{2} - 4 \\, {\\left(U^{3} V \\cos\\left(\\Theta_{0}\\right)^{2} - U^{2} {X^2}^{2} \\cos\\left(\\Theta_{0}\\right)^{2}\\right)} \\epsilon^{4} m^{2}\\right)} \\sin\\left(\\frac{{X^1} \\epsilon m}{U}\\right)^{2}}{4 \\, U^{4}}\n",
       "\\end{array}\\right)\\)</html>"
      ],
      "text/latex": [
       "$\\displaystyle \\left(\\begin{array}{rrrr}\n",
       "\\frac{{\\left(U^{2} V^{2} {X^1}^{2} - 2 \\, U V {X^1}^{2} {X^2}^{2} + {X^1}^{2} {X^2}^{4}\\right)} \\epsilon^{6} m^{4} - {\\left(4 \\, U^{3} V {X^1}^{2} - 4 \\, U^{2} {X^1}^{2} {X^2}^{2} - U^{2} {X^2}^{4}\\right)} \\epsilon^{4} m^{2} + 4 \\, {\\left(U^{4} {X^1}^{2} - U^{4} {X^2}^{2}\\right)} \\epsilon^{2} + {\\left({\\left(U^{2} V^{2} {X^2}^{2} \\sin\\left(\\Theta_{0}\\right)^{2} - 2 \\, U V {X^2}^{4} \\sin\\left(\\Theta_{0}\\right)^{2} + {X^2}^{6} \\sin\\left(\\Theta_{0}\\right)^{2}\\right)} \\epsilon^{6} m^{4} + 4 \\, U^{4} {X^2}^{2} \\epsilon^{2} \\sin\\left(\\Theta_{0}\\right)^{2} - 4 \\, {\\left(U^{3} V {X^2}^{2} \\sin\\left(\\Theta_{0}\\right)^{2} - U^{2} {X^2}^{4} \\sin\\left(\\Theta_{0}\\right)^{2}\\right)} \\epsilon^{4} m^{2}\\right)} \\cos\\left(\\frac{{X^1} \\epsilon m}{U}\\right)^{2} + 2 \\, {\\left({\\left(U^{2} V^{2} {X^2}^{2} \\cos\\left(\\Theta_{0}\\right) \\sin\\left(\\Theta_{0}\\right) - 2 \\, U V {X^2}^{4} \\cos\\left(\\Theta_{0}\\right) \\sin\\left(\\Theta_{0}\\right) + {X^2}^{6} \\cos\\left(\\Theta_{0}\\right) \\sin\\left(\\Theta_{0}\\right)\\right)} \\epsilon^{6} m^{4} + 4 \\, U^{4} {X^2}^{2} \\epsilon^{2} \\cos\\left(\\Theta_{0}\\right) \\sin\\left(\\Theta_{0}\\right) - 4 \\, {\\left(U^{3} V {X^2}^{2} \\cos\\left(\\Theta_{0}\\right) \\sin\\left(\\Theta_{0}\\right) - U^{2} {X^2}^{4} \\cos\\left(\\Theta_{0}\\right) \\sin\\left(\\Theta_{0}\\right)\\right)} \\epsilon^{4} m^{2}\\right)} \\cos\\left(\\frac{{X^1} \\epsilon m}{U}\\right) \\sin\\left(\\frac{{X^1} \\epsilon m}{U}\\right) + {\\left({\\left(U^{2} V^{2} {X^2}^{2} \\cos\\left(\\Theta_{0}\\right)^{2} - 2 \\, U V {X^2}^{4} \\cos\\left(\\Theta_{0}\\right)^{2} + {X^2}^{6} \\cos\\left(\\Theta_{0}\\right)^{2}\\right)} \\epsilon^{6} m^{4} + 4 \\, U^{4} {X^2}^{2} \\epsilon^{2} \\cos\\left(\\Theta_{0}\\right)^{2} - 4 \\, {\\left(U^{3} V {X^2}^{2} \\cos\\left(\\Theta_{0}\\right)^{2} - U^{2} {X^2}^{4} \\cos\\left(\\Theta_{0}\\right)^{2}\\right)} \\epsilon^{4} m^{2}\\right)} \\sin\\left(\\frac{{X^1} \\epsilon m}{U}\\right)^{2}}{4 \\, U^{6}} & \\frac{{X^2}^{2} \\epsilon^{4} m^{2} - 4 \\, U^{2} \\epsilon^{2}}{4 \\, U^{2}} & -\\frac{{\\left(U^{2} V^{2} {X^1} - 2 \\, U V {X^1} {X^2}^{2} + {X^1} {X^2}^{4}\\right)} \\epsilon^{6} m^{4} + 4 \\, U^{4} {X^1} \\epsilon^{2} - 4 \\, {\\left(U^{3} V {X^1} - U^{2} {X^1} {X^2}^{2}\\right)} \\epsilon^{4} m^{2}}{4 \\, U^{5}} & -\\frac{2 \\, U^{2} {X^2}^{3} \\epsilon^{4} m^{2} - 4 \\, U^{4} {X^2} \\epsilon^{2} + {\\left({\\left(U^{2} V^{2} {X^2} \\sin\\left(\\Theta_{0}\\right)^{2} - 2 \\, U V {X^2}^{3} \\sin\\left(\\Theta_{0}\\right)^{2} + {X^2}^{5} \\sin\\left(\\Theta_{0}\\right)^{2}\\right)} \\epsilon^{6} m^{4} + 4 \\, U^{4} {X^2} \\epsilon^{2} \\sin\\left(\\Theta_{0}\\right)^{2} - 4 \\, {\\left(U^{3} V {X^2} \\sin\\left(\\Theta_{0}\\right)^{2} - U^{2} {X^2}^{3} \\sin\\left(\\Theta_{0}\\right)^{2}\\right)} \\epsilon^{4} m^{2}\\right)} \\cos\\left(\\frac{{X^1} \\epsilon m}{U}\\right)^{2} + 2 \\, {\\left({\\left(U^{2} V^{2} {X^2} \\cos\\left(\\Theta_{0}\\right) \\sin\\left(\\Theta_{0}\\right) - 2 \\, U V {X^2}^{3} \\cos\\left(\\Theta_{0}\\right) \\sin\\left(\\Theta_{0}\\right) + {X^2}^{5} \\cos\\left(\\Theta_{0}\\right) \\sin\\left(\\Theta_{0}\\right)\\right)} \\epsilon^{6} m^{4} + 4 \\, U^{4} {X^2} \\epsilon^{2} \\cos\\left(\\Theta_{0}\\right) \\sin\\left(\\Theta_{0}\\right) - 4 \\, {\\left(U^{3} V {X^2} \\cos\\left(\\Theta_{0}\\right) \\sin\\left(\\Theta_{0}\\right) - U^{2} {X^2}^{3} \\cos\\left(\\Theta_{0}\\right) \\sin\\left(\\Theta_{0}\\right)\\right)} \\epsilon^{4} m^{2}\\right)} \\cos\\left(\\frac{{X^1} \\epsilon m}{U}\\right) \\sin\\left(\\frac{{X^1} \\epsilon m}{U}\\right) + {\\left({\\left(U^{2} V^{2} {X^2} \\cos\\left(\\Theta_{0}\\right)^{2} - 2 \\, U V {X^2}^{3} \\cos\\left(\\Theta_{0}\\right)^{2} + {X^2}^{5} \\cos\\left(\\Theta_{0}\\right)^{2}\\right)} \\epsilon^{6} m^{4} + 4 \\, U^{4} {X^2} \\epsilon^{2} \\cos\\left(\\Theta_{0}\\right)^{2} - 4 \\, {\\left(U^{3} V {X^2} \\cos\\left(\\Theta_{0}\\right)^{2} - U^{2} {X^2}^{3} \\cos\\left(\\Theta_{0}\\right)^{2}\\right)} \\epsilon^{4} m^{2}\\right)} \\sin\\left(\\frac{{X^1} \\epsilon m}{U}\\right)^{2}}{4 \\, U^{5}} \\\\\n",
       "\\frac{{X^2}^{2} \\epsilon^{4} m^{2} - 4 \\, U^{2} \\epsilon^{2}}{4 \\, U^{2}} & 0 & 0 & -\\frac{{X^2} \\epsilon^{4} m^{2}}{2 \\, U} \\\\\n",
       "-\\frac{{\\left(U^{2} V^{2} {X^1} - 2 \\, U V {X^1} {X^2}^{2} + {X^1} {X^2}^{4}\\right)} \\epsilon^{6} m^{4} + 4 \\, U^{4} {X^1} \\epsilon^{2} - 4 \\, {\\left(U^{3} V {X^1} - U^{2} {X^1} {X^2}^{2}\\right)} \\epsilon^{4} m^{2}}{4 \\, U^{5}} & 0 & \\frac{{\\left(U^{2} V^{2} - 2 \\, U V {X^2}^{2} + {X^2}^{4}\\right)} \\epsilon^{6} m^{4} - 4 \\, {\\left(U^{3} V - U^{2} {X^2}^{2}\\right)} \\epsilon^{4} m^{2} + 4 \\, U^{4} \\epsilon^{2}}{4 \\, U^{4}} & 0 \\\\\n",
       "-\\frac{2 \\, U^{2} {X^2}^{3} \\epsilon^{4} m^{2} - 4 \\, U^{4} {X^2} \\epsilon^{2} + {\\left({\\left(U^{2} V^{2} {X^2} \\sin\\left(\\Theta_{0}\\right)^{2} - 2 \\, U V {X^2}^{3} \\sin\\left(\\Theta_{0}\\right)^{2} + {X^2}^{5} \\sin\\left(\\Theta_{0}\\right)^{2}\\right)} \\epsilon^{6} m^{4} + 4 \\, U^{4} {X^2} \\epsilon^{2} \\sin\\left(\\Theta_{0}\\right)^{2} - 4 \\, {\\left(U^{3} V {X^2} \\sin\\left(\\Theta_{0}\\right)^{2} - U^{2} {X^2}^{3} \\sin\\left(\\Theta_{0}\\right)^{2}\\right)} \\epsilon^{4} m^{2}\\right)} \\cos\\left(\\frac{{X^1} \\epsilon m}{U}\\right)^{2} + 2 \\, {\\left({\\left(U^{2} V^{2} {X^2} \\cos\\left(\\Theta_{0}\\right) \\sin\\left(\\Theta_{0}\\right) - 2 \\, U V {X^2}^{3} \\cos\\left(\\Theta_{0}\\right) \\sin\\left(\\Theta_{0}\\right) + {X^2}^{5} \\cos\\left(\\Theta_{0}\\right) \\sin\\left(\\Theta_{0}\\right)\\right)} \\epsilon^{6} m^{4} + 4 \\, U^{4} {X^2} \\epsilon^{2} \\cos\\left(\\Theta_{0}\\right) \\sin\\left(\\Theta_{0}\\right) - 4 \\, {\\left(U^{3} V {X^2} \\cos\\left(\\Theta_{0}\\right) \\sin\\left(\\Theta_{0}\\right) - U^{2} {X^2}^{3} \\cos\\left(\\Theta_{0}\\right) \\sin\\left(\\Theta_{0}\\right)\\right)} \\epsilon^{4} m^{2}\\right)} \\cos\\left(\\frac{{X^1} \\epsilon m}{U}\\right) \\sin\\left(\\frac{{X^1} \\epsilon m}{U}\\right) + {\\left({\\left(U^{2} V^{2} {X^2} \\cos\\left(\\Theta_{0}\\right)^{2} - 2 \\, U V {X^2}^{3} \\cos\\left(\\Theta_{0}\\right)^{2} + {X^2}^{5} \\cos\\left(\\Theta_{0}\\right)^{2}\\right)} \\epsilon^{6} m^{4} + 4 \\, U^{4} {X^2} \\epsilon^{2} \\cos\\left(\\Theta_{0}\\right)^{2} - 4 \\, {\\left(U^{3} V {X^2} \\cos\\left(\\Theta_{0}\\right)^{2} - U^{2} {X^2}^{3} \\cos\\left(\\Theta_{0}\\right)^{2}\\right)} \\epsilon^{4} m^{2}\\right)} \\sin\\left(\\frac{{X^1} \\epsilon m}{U}\\right)^{2}}{4 \\, U^{5}} & -\\frac{{X^2} \\epsilon^{4} m^{2}}{2 \\, U} & 0 & \\frac{4 \\, U^{2} {X^2}^{2} \\epsilon^{4} m^{2} + {\\left({\\left(U^{2} V^{2} \\sin\\left(\\Theta_{0}\\right)^{2} - 2 \\, U V {X^2}^{2} \\sin\\left(\\Theta_{0}\\right)^{2} + {X^2}^{4} \\sin\\left(\\Theta_{0}\\right)^{2}\\right)} \\epsilon^{6} m^{4} + 4 \\, U^{4} \\epsilon^{2} \\sin\\left(\\Theta_{0}\\right)^{2} - 4 \\, {\\left(U^{3} V \\sin\\left(\\Theta_{0}\\right)^{2} - U^{2} {X^2}^{2} \\sin\\left(\\Theta_{0}\\right)^{2}\\right)} \\epsilon^{4} m^{2}\\right)} \\cos\\left(\\frac{{X^1} \\epsilon m}{U}\\right)^{2} + 2 \\, {\\left({\\left(U^{2} V^{2} \\cos\\left(\\Theta_{0}\\right) \\sin\\left(\\Theta_{0}\\right) - 2 \\, U V {X^2}^{2} \\cos\\left(\\Theta_{0}\\right) \\sin\\left(\\Theta_{0}\\right) + {X^2}^{4} \\cos\\left(\\Theta_{0}\\right) \\sin\\left(\\Theta_{0}\\right)\\right)} \\epsilon^{6} m^{4} + 4 \\, U^{4} \\epsilon^{2} \\cos\\left(\\Theta_{0}\\right) \\sin\\left(\\Theta_{0}\\right) - 4 \\, {\\left(U^{3} V \\cos\\left(\\Theta_{0}\\right) \\sin\\left(\\Theta_{0}\\right) - U^{2} {X^2}^{2} \\cos\\left(\\Theta_{0}\\right) \\sin\\left(\\Theta_{0}\\right)\\right)} \\epsilon^{4} m^{2}\\right)} \\cos\\left(\\frac{{X^1} \\epsilon m}{U}\\right) \\sin\\left(\\frac{{X^1} \\epsilon m}{U}\\right) + {\\left({\\left(U^{2} V^{2} \\cos\\left(\\Theta_{0}\\right)^{2} - 2 \\, U V {X^2}^{2} \\cos\\left(\\Theta_{0}\\right)^{2} + {X^2}^{4} \\cos\\left(\\Theta_{0}\\right)^{2}\\right)} \\epsilon^{6} m^{4} + 4 \\, U^{4} \\epsilon^{2} \\cos\\left(\\Theta_{0}\\right)^{2} - 4 \\, {\\left(U^{3} V \\cos\\left(\\Theta_{0}\\right)^{2} - U^{2} {X^2}^{2} \\cos\\left(\\Theta_{0}\\right)^{2}\\right)} \\epsilon^{4} m^{2}\\right)} \\sin\\left(\\frac{{X^1} \\epsilon m}{U}\\right)^{2}}{4 \\, U^{4}}\n",
       "\\end{array}\\right)$"
      ],
      "text/plain": [
       "[1/4*((U^2*V^2*X1^2 - 2*U*V*X1^2*X2^2 + X1^2*X2^4)*epsilon^6*m^4 - (4*U^3*V*X1^2 - 4*U^2*X1^2*X2^2 - U^2*X2^4)*epsilon^4*m^2 + 4*(U^4*X1^2 - U^4*X2^2)*epsilon^2 + ((U^2*V^2*X2^2*sin(Theta_0)^2 - 2*U*V*X2^4*sin(Theta_0)^2 + X2^6*sin(Theta_0)^2)*epsilon^6*m^4 + 4*U^4*X2^2*epsilon^2*sin(Theta_0)^2 - 4*(U^3*V*X2^2*sin(Theta_0)^2 - U^2*X2^4*sin(Theta_0)^2)*epsilon^4*m^2)*cos(X1*epsilon*m/U)^2 + 2*((U^2*V^2*X2^2*cos(Theta_0)*sin(Theta_0) - 2*U*V*X2^4*cos(Theta_0)*sin(Theta_0) + X2^6*cos(Theta_0)*sin(Theta_0))*epsilon^6*m^4 + 4*U^4*X2^2*epsilon^2*cos(Theta_0)*sin(Theta_0) - 4*(U^3*V*X2^2*cos(Theta_0)*sin(Theta_0) - U^2*X2^4*cos(Theta_0)*sin(Theta_0))*epsilon^4*m^2)*cos(X1*epsilon*m/U)*sin(X1*epsilon*m/U) + ((U^2*V^2*X2^2*cos(Theta_0)^2 - 2*U*V*X2^4*cos(Theta_0)^2 + X2^6*cos(Theta_0)^2)*epsilon^6*m^4 + 4*U^4*X2^2*epsilon^2*cos(Theta_0)^2 - 4*(U^3*V*X2^2*cos(Theta_0)^2 - U^2*X2^4*cos(Theta_0)^2)*epsilon^4*m^2)*sin(X1*epsilon*m/U)^2)/U^6                                                                                                                                                                                                                                                                                                                                                                                                                                                                                                                                                                                                                                                                                                                                                                                                                                                                                                                               1/4*(X2^2*epsilon^4*m^2 - 4*U^2*epsilon^2)/U^2                                                                                                                                                                                                                                                                                                                                                                                                                                                                                                                                                                                                                                                                                                                                                                                                                                              -1/4*((U^2*V^2*X1 - 2*U*V*X1*X2^2 + X1*X2^4)*epsilon^6*m^4 + 4*U^4*X1*epsilon^2 - 4*(U^3*V*X1 - U^2*X1*X2^2)*epsilon^4*m^2)/U^5                                                                                                                               -1/4*(2*U^2*X2^3*epsilon^4*m^2 - 4*U^4*X2*epsilon^2 + ((U^2*V^2*X2*sin(Theta_0)^2 - 2*U*V*X2^3*sin(Theta_0)^2 + X2^5*sin(Theta_0)^2)*epsilon^6*m^4 + 4*U^4*X2*epsilon^2*sin(Theta_0)^2 - 4*(U^3*V*X2*sin(Theta_0)^2 - U^2*X2^3*sin(Theta_0)^2)*epsilon^4*m^2)*cos(X1*epsilon*m/U)^2 + 2*((U^2*V^2*X2*cos(Theta_0)*sin(Theta_0) - 2*U*V*X2^3*cos(Theta_0)*sin(Theta_0) + X2^5*cos(Theta_0)*sin(Theta_0))*epsilon^6*m^4 + 4*U^4*X2*epsilon^2*cos(Theta_0)*sin(Theta_0) - 4*(U^3*V*X2*cos(Theta_0)*sin(Theta_0) - U^2*X2^3*cos(Theta_0)*sin(Theta_0))*epsilon^4*m^2)*cos(X1*epsilon*m/U)*sin(X1*epsilon*m/U) + ((U^2*V^2*X2*cos(Theta_0)^2 - 2*U*V*X2^3*cos(Theta_0)^2 + X2^5*cos(Theta_0)^2)*epsilon^6*m^4 + 4*U^4*X2*epsilon^2*cos(Theta_0)^2 - 4*(U^3*V*X2*cos(Theta_0)^2 - U^2*X2^3*cos(Theta_0)^2)*epsilon^4*m^2)*sin(X1*epsilon*m/U)^2)/U^5]\n",
       "[                                                                                                                                                                                                                                                                                                                                                                                                                                                                                                                                                                                                                                                                                                                                                                                                                                                                                                                              1/4*(X2^2*epsilon^4*m^2 - 4*U^2*epsilon^2)/U^2                                                                                                                                                                                                                                                                                                                                                                                                                                                                                                                                                                                                                                                                                                                                                                                                                                                                                                                                                                            0                                                                                                                                                                                                                                                                                                                                                                                                                                                                                                                                                                                                                                                                                                                                                                                                                                                                                                                                                                            0                                                                                                                                                                                                                                                                                                                                                                                                                                                                                                                                                                                                                                                                                                                                                                                                                                                                                                                                                      -1/2*X2*epsilon^4*m^2/U]\n",
       "[                                                                                                                                                                                                                                                                                                                                                                                                                                                                                                                                                                                                                                                                                                                                                                                                                                             -1/4*((U^2*V^2*X1 - 2*U*V*X1*X2^2 + X1*X2^4)*epsilon^6*m^4 + 4*U^4*X1*epsilon^2 - 4*(U^3*V*X1 - U^2*X1*X2^2)*epsilon^4*m^2)/U^5                                                                                                                                                                                                                                                                                                                                                                                                                                                                                                                                                                                                                                                                                                                                                                                                                                                                                                                                                                            0                                                                                                                                                                                                                                                                                                                                                                                                                                                                                                                                                                                                                                                                                                                                                                                                                                                                 1/4*((U^2*V^2 - 2*U*V*X2^2 + X2^4)*epsilon^6*m^4 - 4*(U^3*V - U^2*X2^2)*epsilon^4*m^2 + 4*U^4*epsilon^2)/U^4                                                                                                                                                                                                                                                                                                                                                                                                                                                                                                                                                                                                                                                                                                                                                                                                                                                                                                                                                                            0]\n",
       "[                                                                                                                              -1/4*(2*U^2*X2^3*epsilon^4*m^2 - 4*U^4*X2*epsilon^2 + ((U^2*V^2*X2*sin(Theta_0)^2 - 2*U*V*X2^3*sin(Theta_0)^2 + X2^5*sin(Theta_0)^2)*epsilon^6*m^4 + 4*U^4*X2*epsilon^2*sin(Theta_0)^2 - 4*(U^3*V*X2*sin(Theta_0)^2 - U^2*X2^3*sin(Theta_0)^2)*epsilon^4*m^2)*cos(X1*epsilon*m/U)^2 + 2*((U^2*V^2*X2*cos(Theta_0)*sin(Theta_0) - 2*U*V*X2^3*cos(Theta_0)*sin(Theta_0) + X2^5*cos(Theta_0)*sin(Theta_0))*epsilon^6*m^4 + 4*U^4*X2*epsilon^2*cos(Theta_0)*sin(Theta_0) - 4*(U^3*V*X2*cos(Theta_0)*sin(Theta_0) - U^2*X2^3*cos(Theta_0)*sin(Theta_0))*epsilon^4*m^2)*cos(X1*epsilon*m/U)*sin(X1*epsilon*m/U) + ((U^2*V^2*X2*cos(Theta_0)^2 - 2*U*V*X2^3*cos(Theta_0)^2 + X2^5*cos(Theta_0)^2)*epsilon^6*m^4 + 4*U^4*X2*epsilon^2*cos(Theta_0)^2 - 4*(U^3*V*X2*cos(Theta_0)^2 - U^2*X2^3*cos(Theta_0)^2)*epsilon^4*m^2)*sin(X1*epsilon*m/U)^2)/U^5                                                                                                                                                                                                                                                                                                                                                                                                                                                                                                                                                                                                                                                                                                                                                                                                                                                                                                                                                      -1/2*X2*epsilon^4*m^2/U                                                                                                                                                                                                                                                                                                                                                                                                                                                                                                                                                                                                                                                                                                                                                                                                                                                                                                                                                                            0                                                                                                                                                                                1/4*(4*U^2*X2^2*epsilon^4*m^2 + ((U^2*V^2*sin(Theta_0)^2 - 2*U*V*X2^2*sin(Theta_0)^2 + X2^4*sin(Theta_0)^2)*epsilon^6*m^4 + 4*U^4*epsilon^2*sin(Theta_0)^2 - 4*(U^3*V*sin(Theta_0)^2 - U^2*X2^2*sin(Theta_0)^2)*epsilon^4*m^2)*cos(X1*epsilon*m/U)^2 + 2*((U^2*V^2*cos(Theta_0)*sin(Theta_0) - 2*U*V*X2^2*cos(Theta_0)*sin(Theta_0) + X2^4*cos(Theta_0)*sin(Theta_0))*epsilon^6*m^4 + 4*U^4*epsilon^2*cos(Theta_0)*sin(Theta_0) - 4*(U^3*V*cos(Theta_0)*sin(Theta_0) - U^2*X2^2*cos(Theta_0)*sin(Theta_0))*epsilon^4*m^2)*cos(X1*epsilon*m/U)*sin(X1*epsilon*m/U) + ((U^2*V^2*cos(Theta_0)^2 - 2*U*V*X2^2*cos(Theta_0)^2 + X2^4*cos(Theta_0)^2)*epsilon^6*m^4 + 4*U^4*epsilon^2*cos(Theta_0)^2 - 4*(U^3*V*cos(Theta_0)^2 - U^2*X2^2*cos(Theta_0)^2)*epsilon^4*m^2)*sin(X1*epsilon*m/U)^2)/U^4]"
      ]
     },
     "execution_count": 210,
     "metadata": {},
     "output_type": "execute_result"
    }
   ],
   "source": [
    "g[eZ, :, Z]"
   ]
  },
  {
   "cell_type": "code",
   "execution_count": 217,
   "id": "c43a4cb8",
   "metadata": {},
   "outputs": [
    {
     "data": {
      "text/html": [
       "<html>\\(\\displaystyle \\mbox{Tensor field of type (0,2) on the 4-dimensional Lorentzian manifold M}\\)</html>"
      ],
      "text/latex": [
       "$\\displaystyle \\mbox{Tensor field of type (0,2) on the 4-dimensional Lorentzian manifold M}$"
      ],
      "text/plain": [
       "Tensor field of type (0,2) on the 4-dimensional Lorentzian manifold M"
      ]
     },
     "execution_count": 217,
     "metadata": {},
     "output_type": "execute_result"
    }
   ],
   "source": [
    "g_UVX = M.tensor_field(0, 2)\n",
    "g_UVX"
   ]
  },
  {
   "cell_type": "code",
   "execution_count": 224,
   "id": "90da7f2e",
   "metadata": {},
   "outputs": [],
   "source": [
    "for i in range(4):\n",
    "    for j in range(4):\n",
    "        g_UVX[eZ, i, j, Z] = g[eZ, i, j, Z].expr().taylor(eps, 0, 2)"
   ]
  },
  {
   "cell_type": "code",
   "execution_count": 225,
   "id": "3307a512",
   "metadata": {},
   "outputs": [
    {
     "data": {
      "text/html": [
       "<html>\\(\\displaystyle \\left(\\begin{array}{rrrr}\n",
       "\\frac{{\\left({\\left(\\sin\\left(\\Theta_{0}\\right)^{2} - 1\\right)} {X^2}^{2} + {X^1}^{2}\\right)} \\epsilon^{2}}{U^{2}} & -\\epsilon^{2} & -\\frac{{X^1} \\epsilon^{2}}{U} & -\\frac{{\\left(\\sin\\left(\\Theta_{0}\\right)^{2} - 1\\right)} {X^2} \\epsilon^{2}}{U} \\\\\n",
       "-\\epsilon^{2} & 0 & 0 & 0 \\\\\n",
       "-\\frac{{X^1} \\epsilon^{2}}{U} & 0 & \\epsilon^{2} & 0 \\\\\n",
       "-\\frac{{\\left(\\sin\\left(\\Theta_{0}\\right)^{2} - 1\\right)} {X^2} \\epsilon^{2}}{U} & 0 & 0 & \\epsilon^{2} \\sin\\left(\\Theta_{0}\\right)^{2}\n",
       "\\end{array}\\right)\\)</html>"
      ],
      "text/latex": [
       "$\\displaystyle \\left(\\begin{array}{rrrr}\n",
       "\\frac{{\\left({\\left(\\sin\\left(\\Theta_{0}\\right)^{2} - 1\\right)} {X^2}^{2} + {X^1}^{2}\\right)} \\epsilon^{2}}{U^{2}} & -\\epsilon^{2} & -\\frac{{X^1} \\epsilon^{2}}{U} & -\\frac{{\\left(\\sin\\left(\\Theta_{0}\\right)^{2} - 1\\right)} {X^2} \\epsilon^{2}}{U} \\\\\n",
       "-\\epsilon^{2} & 0 & 0 & 0 \\\\\n",
       "-\\frac{{X^1} \\epsilon^{2}}{U} & 0 & \\epsilon^{2} & 0 \\\\\n",
       "-\\frac{{\\left(\\sin\\left(\\Theta_{0}\\right)^{2} - 1\\right)} {X^2} \\epsilon^{2}}{U} & 0 & 0 & \\epsilon^{2} \\sin\\left(\\Theta_{0}\\right)^{2}\n",
       "\\end{array}\\right)$"
      ],
      "text/plain": [
       "[((sin(Theta_0)^2 - 1)*X2^2 + X1^2)*epsilon^2/U^2                                       -epsilon^2                                  -X1*epsilon^2/U             -(sin(Theta_0)^2 - 1)*X2*epsilon^2/U]\n",
       "[                                      -epsilon^2                                                0                                                0                                                0]\n",
       "[                                 -X1*epsilon^2/U                                                0                                        epsilon^2                                                0]\n",
       "[            -(sin(Theta_0)^2 - 1)*X2*epsilon^2/U                                                0                                                0                         epsilon^2*sin(Theta_0)^2]"
      ]
     },
     "execution_count": 225,
     "metadata": {},
     "output_type": "execute_result"
    }
   ],
   "source": [
    "g_UVX[eZ, :, Z]"
   ]
  },
  {
   "cell_type": "code",
   "execution_count": null,
   "id": "c1c4bc60",
   "metadata": {},
   "outputs": [],
   "source": []
  }
 ],
 "metadata": {
  "kernelspec": {
   "display_name": "SageMath 9.7",
   "language": "sage",
   "name": "sagemath"
  },
  "language_info": {
   "codemirror_mode": {
    "name": "ipython",
    "version": 3
   },
   "file_extension": ".py",
   "mimetype": "text/x-python",
   "name": "python",
   "nbconvert_exporter": "python",
   "pygments_lexer": "ipython3",
   "version": "3.8.10"
  }
 },
 "nbformat": 4,
 "nbformat_minor": 5
}
