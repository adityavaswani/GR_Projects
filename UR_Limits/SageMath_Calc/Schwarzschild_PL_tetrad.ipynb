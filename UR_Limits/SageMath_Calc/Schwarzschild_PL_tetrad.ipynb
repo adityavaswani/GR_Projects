{
 "cells": [
  {
   "cell_type": "markdown",
   "id": "de62f282",
   "metadata": {},
   "source": [
    "Sage script to be used in conjunction with ``Schwarzschild_PL_complete_analysis''. Here, we calculate the elements of the parallel-propagated quasi-null frame $(\\dot{Z}, N, E_i)$ when the angular momentum of the equatorial timelike geodesics in Schwarzschid spacetime scales with the energy as $l = \\kappa E = \\kappa/\\epsilon$ where $\\epsilon = 1/E$ is the Penrose limit parameter."
   ]
  },
  {
   "cell_type": "code",
   "execution_count": 155,
   "id": "adef619e",
   "metadata": {},
   "outputs": [],
   "source": [
    "%display latex"
   ]
  },
  {
   "cell_type": "markdown",
   "id": "e7e90c9b",
   "metadata": {},
   "source": [
    "Define the manifold to be Lorentzian and the coordinates to be $(t, r, \\theta, \\phi)$"
   ]
  },
  {
   "cell_type": "code",
   "execution_count": 156,
   "id": "229109f0",
   "metadata": {},
   "outputs": [
    {
     "data": {
      "text/html": [
       "<html>\\(\\displaystyle \\left(M,(t, r, {\\theta}, {\\phi})\\right)\\)</html>"
      ],
      "text/latex": [
       "$\\displaystyle \\left(M,(t, r, {\\theta}, {\\phi})\\right)$"
      ],
      "text/plain": [
       "Chart (M, (t, r, th, ph))"
      ]
     },
     "execution_count": 156,
     "metadata": {},
     "output_type": "execute_result"
    }
   ],
   "source": [
    "M = Manifold(4, 'M', structure='Lorentzian')\n",
    "X.<t, r, th, ph> = M.chart(r't:(0,+oo) r:(0,+oo) th:(0,pi):\\theta ph:(0,2*pi):\\phi')\n",
    "X"
   ]
  },
  {
   "cell_type": "markdown",
   "id": "7a9b48e2",
   "metadata": {},
   "source": [
    "Define the variables $m, \\kappa, s, \\epsilon$ that correspond to the mass of the Schwarzschild black hole, the proportionality factor between the angular momentum and energy of the test particles (on geodesic trajectories), the affine parameter along the geodesics, and the Penrose limit parameter respectively."
   ]
  },
  {
   "cell_type": "code",
   "execution_count": 157,
   "id": "072c82c1",
   "metadata": {},
   "outputs": [
    {
     "data": {
      "text/html": [
       "<html>\\(\\displaystyle -\\frac{2 \\, m}{r} + 1\\)</html>"
      ],
      "text/latex": [
       "$\\displaystyle -\\frac{2 \\, m}{r} + 1$"
      ],
      "text/plain": [
       "-2*m/r + 1"
      ]
     },
     "execution_count": 157,
     "metadata": {},
     "output_type": "execute_result"
    }
   ],
   "source": [
    "m, kap, s, eps = var('m, kappa, s, epsilon')\n",
    "assume(m>0)\n",
    "assume(kap>=0)\n",
    "assume(s>=0)\n",
    "assume(eps>=0)\n",
    "f = 1 - 2*m/r\n",
    "f"
   ]
  },
  {
   "cell_type": "markdown",
   "id": "b55bb1ee",
   "metadata": {},
   "source": [
    "Define the metric $g_{ab}$ in standard Schwarzschild form and compute the Christoffel symbols and Riemann curvature components. Also set $\\theta = \\pi/2$ to restrict to the equatorial plane.\n",
    "\n",
    "Note that while we can use the ``apply_map'' attribute to substitute $\\theta = \\pi/2$ in tensor components, we cannot do the same for the Christoffel symbols. Thus we will have to substitute $\\theta = \\pi/2$ each time we compute the covariant derivative.\n",
    "\n",
    "Instead, we define the function ``cov_deriv_eq'' that we can call instead of doing this substitution each time,"
   ]
  },
  {
   "cell_type": "code",
   "execution_count": 174,
   "id": "96c5d84f",
   "metadata": {},
   "outputs": [
    {
     "data": {
      "text/html": [
       "<html>\\(\\displaystyle \\left(\\begin{array}{rrrr}\n",
       "\\frac{2 \\, m}{r} - 1 & 0 & 0 & 0 \\\\\n",
       "0 & -\\frac{1}{\\frac{2 \\, m}{r} - 1} & 0 & 0 \\\\\n",
       "0 & 0 & r^{2} & 0 \\\\\n",
       "0 & 0 & 0 & r^{2} \\sin\\left({\\theta}\\right)^{2}\n",
       "\\end{array}\\right)\\)</html>"
      ],
      "text/latex": [
       "$\\displaystyle \\left(\\begin{array}{rrrr}\n",
       "\\frac{2 \\, m}{r} - 1 & 0 & 0 & 0 \\\\\n",
       "0 & -\\frac{1}{\\frac{2 \\, m}{r} - 1} & 0 & 0 \\\\\n",
       "0 & 0 & r^{2} & 0 \\\\\n",
       "0 & 0 & 0 & r^{2} \\sin\\left({\\theta}\\right)^{2}\n",
       "\\end{array}\\right)$"
      ],
      "text/plain": [
       "[     2*m/r - 1              0              0              0]\n",
       "[             0 -1/(2*m/r - 1)              0              0]\n",
       "[             0              0            r^2              0]\n",
       "[             0              0              0  r^2*sin(th)^2]"
      ]
     },
     "execution_count": 174,
     "metadata": {},
     "output_type": "execute_result"
    }
   ],
   "source": [
    "g = M.metric('g')\n",
    "g[0, 0], g[1, 1], g[2, 2], g[3, 3] = -(1 - 2*m/r), 1/(1 - 2*m/r), r^2, r^2*sin(th)^2\n",
    "g[:]"
   ]
  },
  {
   "cell_type": "code",
   "execution_count": 175,
   "id": "19aada20",
   "metadata": {},
   "outputs": [
    {
     "data": {
      "text/html": [
       "<html>\\(\\displaystyle \\left[\\left[\\left[0, -\\frac{m}{2 \\, m r - r^{2}}, 0, 0\\right], \\left[-\\frac{m}{2 \\, m r - r^{2}}, 0, 0, 0\\right], \\left[0, 0, 0, 0\\right], \\left[0, 0, 0, 0\\right]\\right], \\left[\\left[-\\frac{2 \\, m^{2} - m r}{r^{3}}, 0, 0, 0\\right], \\left[0, \\frac{m}{2 \\, m r - r^{2}}, 0, 0\\right], \\left[0, 0, 2 \\, m - r, 0\\right], \\left[0, 0, 0, {\\left(2 \\, m - r\\right)} \\sin\\left({\\theta}\\right)^{2}\\right]\\right], \\left[\\left[0, 0, 0, 0\\right], \\left[0, 0, \\frac{1}{r}, 0\\right], \\left[0, \\frac{1}{r}, 0, 0\\right], \\left[0, 0, 0, -\\cos\\left({\\theta}\\right) \\sin\\left({\\theta}\\right)\\right]\\right], \\left[\\left[0, 0, 0, 0\\right], \\left[0, 0, 0, \\frac{1}{r}\\right], \\left[0, 0, 0, \\frac{\\cos\\left({\\theta}\\right)}{\\sin\\left({\\theta}\\right)}\\right], \\left[0, \\frac{1}{r}, \\frac{\\cos\\left({\\theta}\\right)}{\\sin\\left({\\theta}\\right)}, 0\\right]\\right]\\right]\\)</html>"
      ],
      "text/latex": [
       "$\\displaystyle \\left[\\left[\\left[0, -\\frac{m}{2 \\, m r - r^{2}}, 0, 0\\right], \\left[-\\frac{m}{2 \\, m r - r^{2}}, 0, 0, 0\\right], \\left[0, 0, 0, 0\\right], \\left[0, 0, 0, 0\\right]\\right], \\left[\\left[-\\frac{2 \\, m^{2} - m r}{r^{3}}, 0, 0, 0\\right], \\left[0, \\frac{m}{2 \\, m r - r^{2}}, 0, 0\\right], \\left[0, 0, 2 \\, m - r, 0\\right], \\left[0, 0, 0, {\\left(2 \\, m - r\\right)} \\sin\\left({\\theta}\\right)^{2}\\right]\\right], \\left[\\left[0, 0, 0, 0\\right], \\left[0, 0, \\frac{1}{r}, 0\\right], \\left[0, \\frac{1}{r}, 0, 0\\right], \\left[0, 0, 0, -\\cos\\left({\\theta}\\right) \\sin\\left({\\theta}\\right)\\right]\\right], \\left[\\left[0, 0, 0, 0\\right], \\left[0, 0, 0, \\frac{1}{r}\\right], \\left[0, 0, 0, \\frac{\\cos\\left({\\theta}\\right)}{\\sin\\left({\\theta}\\right)}\\right], \\left[0, \\frac{1}{r}, \\frac{\\cos\\left({\\theta}\\right)}{\\sin\\left({\\theta}\\right)}, 0\\right]\\right]\\right]$"
      ],
      "text/plain": [
       "[[[0, -m/(2*m*r - r^2), 0, 0],\n",
       "  [-m/(2*m*r - r^2), 0, 0, 0],\n",
       "  [0, 0, 0, 0],\n",
       "  [0, 0, 0, 0]],\n",
       " [[-(2*m^2 - m*r)/r^3, 0, 0, 0],\n",
       "  [0, m/(2*m*r - r^2), 0, 0],\n",
       "  [0, 0, 2*m - r, 0],\n",
       "  [0, 0, 0, (2*m - r)*sin(th)^2]],\n",
       " [[0, 0, 0, 0], [0, 0, 1/r, 0], [0, 1/r, 0, 0], [0, 0, 0, -cos(th)*sin(th)]],\n",
       " [[0, 0, 0, 0],\n",
       "  [0, 0, 0, 1/r],\n",
       "  [0, 0, 0, cos(th)/sin(th)],\n",
       "  [0, 1/r, cos(th)/sin(th), 0]]]"
      ]
     },
     "execution_count": 175,
     "metadata": {},
     "output_type": "execute_result"
    }
   ],
   "source": [
    "Gam = g.christoffel_symbols()\n",
    "nab = M.affine_connection(name=r'\\nabla')\n",
    "nab[:] = Gam[:]\n",
    "nab[:]"
   ]
  },
  {
   "cell_type": "code",
   "execution_count": 176,
   "id": "7566e661",
   "metadata": {},
   "outputs": [
    {
     "data": {
      "text/html": [
       "<html>\\(\\displaystyle \\begin{array}{lcl} \\mathrm{Riem}\\left(g\\right)_{ \\phantom{\\, t} \\, r \\, t \\, r }^{ \\, t \\phantom{\\, r} \\phantom{\\, t} \\phantom{\\, r} } & = & -\\frac{2 \\, m}{2 \\, m r^{2} - r^{3}} \\\\ \\mathrm{Riem}\\left(g\\right)_{ \\phantom{\\, t} \\, r \\, r \\, t }^{ \\, t \\phantom{\\, r} \\phantom{\\, r} \\phantom{\\, t} } & = & \\frac{2 \\, m}{2 \\, m r^{2} - r^{3}} \\\\ \\mathrm{Riem}\\left(g\\right)_{ \\phantom{\\, t} \\, {\\theta} \\, t \\, {\\theta} }^{ \\, t \\phantom{\\, {\\theta}} \\phantom{\\, t} \\phantom{\\, {\\theta}} } & = & -\\frac{m}{r} \\\\ \\mathrm{Riem}\\left(g\\right)_{ \\phantom{\\, t} \\, {\\theta} \\, {\\theta} \\, t }^{ \\, t \\phantom{\\, {\\theta}} \\phantom{\\, {\\theta}} \\phantom{\\, t} } & = & \\frac{m}{r} \\\\ \\mathrm{Riem}\\left(g\\right)_{ \\phantom{\\, t} \\, {\\phi} \\, t \\, {\\phi} }^{ \\, t \\phantom{\\, {\\phi}} \\phantom{\\, t} \\phantom{\\, {\\phi}} } & = & -\\frac{m \\sin\\left({\\theta}\\right)^{2}}{r} \\\\ \\mathrm{Riem}\\left(g\\right)_{ \\phantom{\\, t} \\, {\\phi} \\, {\\phi} \\, t }^{ \\, t \\phantom{\\, {\\phi}} \\phantom{\\, {\\phi}} \\phantom{\\, t} } & = & \\frac{m \\sin\\left({\\theta}\\right)^{2}}{r} \\\\ \\mathrm{Riem}\\left(g\\right)_{ \\phantom{\\, r} \\, t \\, t \\, r }^{ \\, r \\phantom{\\, t} \\phantom{\\, t} \\phantom{\\, r} } & = & -\\frac{2 \\, {\\left(2 \\, m^{2} - m r\\right)}}{r^{4}} \\\\ \\mathrm{Riem}\\left(g\\right)_{ \\phantom{\\, r} \\, t \\, r \\, t }^{ \\, r \\phantom{\\, t} \\phantom{\\, r} \\phantom{\\, t} } & = & \\frac{2 \\, {\\left(2 \\, m^{2} - m r\\right)}}{r^{4}} \\\\ \\mathrm{Riem}\\left(g\\right)_{ \\phantom{\\, r} \\, {\\theta} \\, r \\, {\\theta} }^{ \\, r \\phantom{\\, {\\theta}} \\phantom{\\, r} \\phantom{\\, {\\theta}} } & = & -\\frac{m}{r} \\\\ \\mathrm{Riem}\\left(g\\right)_{ \\phantom{\\, r} \\, {\\theta} \\, {\\theta} \\, r }^{ \\, r \\phantom{\\, {\\theta}} \\phantom{\\, {\\theta}} \\phantom{\\, r} } & = & \\frac{m}{r} \\\\ \\mathrm{Riem}\\left(g\\right)_{ \\phantom{\\, r} \\, {\\phi} \\, r \\, {\\phi} }^{ \\, r \\phantom{\\, {\\phi}} \\phantom{\\, r} \\phantom{\\, {\\phi}} } & = & -\\frac{m \\sin\\left({\\theta}\\right)^{2}}{r} \\\\ \\mathrm{Riem}\\left(g\\right)_{ \\phantom{\\, r} \\, {\\phi} \\, {\\phi} \\, r }^{ \\, r \\phantom{\\, {\\phi}} \\phantom{\\, {\\phi}} \\phantom{\\, r} } & = & \\frac{m \\sin\\left({\\theta}\\right)^{2}}{r} \\\\ \\mathrm{Riem}\\left(g\\right)_{ \\phantom{\\, {\\theta}} \\, t \\, t \\, {\\theta} }^{ \\, {\\theta} \\phantom{\\, t} \\phantom{\\, t} \\phantom{\\, {\\theta}} } & = & \\frac{2 \\, m^{2} - m r}{r^{4}} \\\\ \\mathrm{Riem}\\left(g\\right)_{ \\phantom{\\, {\\theta}} \\, t \\, {\\theta} \\, t }^{ \\, {\\theta} \\phantom{\\, t} \\phantom{\\, {\\theta}} \\phantom{\\, t} } & = & -\\frac{2 \\, m^{2} - m r}{r^{4}} \\\\ \\mathrm{Riem}\\left(g\\right)_{ \\phantom{\\, {\\theta}} \\, r \\, r \\, {\\theta} }^{ \\, {\\theta} \\phantom{\\, r} \\phantom{\\, r} \\phantom{\\, {\\theta}} } & = & -\\frac{m}{2 \\, m r^{2} - r^{3}} \\\\ \\mathrm{Riem}\\left(g\\right)_{ \\phantom{\\, {\\theta}} \\, r \\, {\\theta} \\, r }^{ \\, {\\theta} \\phantom{\\, r} \\phantom{\\, {\\theta}} \\phantom{\\, r} } & = & \\frac{m}{2 \\, m r^{2} - r^{3}} \\\\ \\mathrm{Riem}\\left(g\\right)_{ \\phantom{\\, {\\theta}} \\, {\\phi} \\, {\\theta} \\, {\\phi} }^{ \\, {\\theta} \\phantom{\\, {\\phi}} \\phantom{\\, {\\theta}} \\phantom{\\, {\\phi}} } & = & \\frac{2 \\, m \\sin\\left({\\theta}\\right)^{2}}{r} \\\\ \\mathrm{Riem}\\left(g\\right)_{ \\phantom{\\, {\\theta}} \\, {\\phi} \\, {\\phi} \\, {\\theta} }^{ \\, {\\theta} \\phantom{\\, {\\phi}} \\phantom{\\, {\\phi}} \\phantom{\\, {\\theta}} } & = & -\\frac{2 \\, m \\sin\\left({\\theta}\\right)^{2}}{r} \\\\ \\mathrm{Riem}\\left(g\\right)_{ \\phantom{\\, {\\phi}} \\, t \\, t \\, {\\phi} }^{ \\, {\\phi} \\phantom{\\, t} \\phantom{\\, t} \\phantom{\\, {\\phi}} } & = & \\frac{2 \\, m^{2} - m r}{r^{4}} \\\\ \\mathrm{Riem}\\left(g\\right)_{ \\phantom{\\, {\\phi}} \\, t \\, {\\phi} \\, t }^{ \\, {\\phi} \\phantom{\\, t} \\phantom{\\, {\\phi}} \\phantom{\\, t} } & = & -\\frac{2 \\, m^{2} - m r}{r^{4}} \\\\ \\mathrm{Riem}\\left(g\\right)_{ \\phantom{\\, {\\phi}} \\, r \\, r \\, {\\phi} }^{ \\, {\\phi} \\phantom{\\, r} \\phantom{\\, r} \\phantom{\\, {\\phi}} } & = & -\\frac{m}{2 \\, m r^{2} - r^{3}} \\\\ \\mathrm{Riem}\\left(g\\right)_{ \\phantom{\\, {\\phi}} \\, r \\, {\\phi} \\, r }^{ \\, {\\phi} \\phantom{\\, r} \\phantom{\\, {\\phi}} \\phantom{\\, r} } & = & \\frac{m}{2 \\, m r^{2} - r^{3}} \\\\ \\mathrm{Riem}\\left(g\\right)_{ \\phantom{\\, {\\phi}} \\, {\\theta} \\, {\\theta} \\, {\\phi} }^{ \\, {\\phi} \\phantom{\\, {\\theta}} \\phantom{\\, {\\theta}} \\phantom{\\, {\\phi}} } & = & -\\frac{2 \\, m}{r} \\\\ \\mathrm{Riem}\\left(g\\right)_{ \\phantom{\\, {\\phi}} \\, {\\theta} \\, {\\phi} \\, {\\theta} }^{ \\, {\\phi} \\phantom{\\, {\\theta}} \\phantom{\\, {\\phi}} \\phantom{\\, {\\theta}} } & = & \\frac{2 \\, m}{r} \\end{array}\\)</html>"
      ],
      "text/latex": [
       "$\\displaystyle \\begin{array}{lcl} \\mathrm{Riem}\\left(g\\right)_{ \\phantom{\\, t} \\, r \\, t \\, r }^{ \\, t \\phantom{\\, r} \\phantom{\\, t} \\phantom{\\, r} } & = & -\\frac{2 \\, m}{2 \\, m r^{2} - r^{3}} \\\\ \\mathrm{Riem}\\left(g\\right)_{ \\phantom{\\, t} \\, r \\, r \\, t }^{ \\, t \\phantom{\\, r} \\phantom{\\, r} \\phantom{\\, t} } & = & \\frac{2 \\, m}{2 \\, m r^{2} - r^{3}} \\\\ \\mathrm{Riem}\\left(g\\right)_{ \\phantom{\\, t} \\, {\\theta} \\, t \\, {\\theta} }^{ \\, t \\phantom{\\, {\\theta}} \\phantom{\\, t} \\phantom{\\, {\\theta}} } & = & -\\frac{m}{r} \\\\ \\mathrm{Riem}\\left(g\\right)_{ \\phantom{\\, t} \\, {\\theta} \\, {\\theta} \\, t }^{ \\, t \\phantom{\\, {\\theta}} \\phantom{\\, {\\theta}} \\phantom{\\, t} } & = & \\frac{m}{r} \\\\ \\mathrm{Riem}\\left(g\\right)_{ \\phantom{\\, t} \\, {\\phi} \\, t \\, {\\phi} }^{ \\, t \\phantom{\\, {\\phi}} \\phantom{\\, t} \\phantom{\\, {\\phi}} } & = & -\\frac{m \\sin\\left({\\theta}\\right)^{2}}{r} \\\\ \\mathrm{Riem}\\left(g\\right)_{ \\phantom{\\, t} \\, {\\phi} \\, {\\phi} \\, t }^{ \\, t \\phantom{\\, {\\phi}} \\phantom{\\, {\\phi}} \\phantom{\\, t} } & = & \\frac{m \\sin\\left({\\theta}\\right)^{2}}{r} \\\\ \\mathrm{Riem}\\left(g\\right)_{ \\phantom{\\, r} \\, t \\, t \\, r }^{ \\, r \\phantom{\\, t} \\phantom{\\, t} \\phantom{\\, r} } & = & -\\frac{2 \\, {\\left(2 \\, m^{2} - m r\\right)}}{r^{4}} \\\\ \\mathrm{Riem}\\left(g\\right)_{ \\phantom{\\, r} \\, t \\, r \\, t }^{ \\, r \\phantom{\\, t} \\phantom{\\, r} \\phantom{\\, t} } & = & \\frac{2 \\, {\\left(2 \\, m^{2} - m r\\right)}}{r^{4}} \\\\ \\mathrm{Riem}\\left(g\\right)_{ \\phantom{\\, r} \\, {\\theta} \\, r \\, {\\theta} }^{ \\, r \\phantom{\\, {\\theta}} \\phantom{\\, r} \\phantom{\\, {\\theta}} } & = & -\\frac{m}{r} \\\\ \\mathrm{Riem}\\left(g\\right)_{ \\phantom{\\, r} \\, {\\theta} \\, {\\theta} \\, r }^{ \\, r \\phantom{\\, {\\theta}} \\phantom{\\, {\\theta}} \\phantom{\\, r} } & = & \\frac{m}{r} \\\\ \\mathrm{Riem}\\left(g\\right)_{ \\phantom{\\, r} \\, {\\phi} \\, r \\, {\\phi} }^{ \\, r \\phantom{\\, {\\phi}} \\phantom{\\, r} \\phantom{\\, {\\phi}} } & = & -\\frac{m \\sin\\left({\\theta}\\right)^{2}}{r} \\\\ \\mathrm{Riem}\\left(g\\right)_{ \\phantom{\\, r} \\, {\\phi} \\, {\\phi} \\, r }^{ \\, r \\phantom{\\, {\\phi}} \\phantom{\\, {\\phi}} \\phantom{\\, r} } & = & \\frac{m \\sin\\left({\\theta}\\right)^{2}}{r} \\\\ \\mathrm{Riem}\\left(g\\right)_{ \\phantom{\\, {\\theta}} \\, t \\, t \\, {\\theta} }^{ \\, {\\theta} \\phantom{\\, t} \\phantom{\\, t} \\phantom{\\, {\\theta}} } & = & \\frac{2 \\, m^{2} - m r}{r^{4}} \\\\ \\mathrm{Riem}\\left(g\\right)_{ \\phantom{\\, {\\theta}} \\, t \\, {\\theta} \\, t }^{ \\, {\\theta} \\phantom{\\, t} \\phantom{\\, {\\theta}} \\phantom{\\, t} } & = & -\\frac{2 \\, m^{2} - m r}{r^{4}} \\\\ \\mathrm{Riem}\\left(g\\right)_{ \\phantom{\\, {\\theta}} \\, r \\, r \\, {\\theta} }^{ \\, {\\theta} \\phantom{\\, r} \\phantom{\\, r} \\phantom{\\, {\\theta}} } & = & -\\frac{m}{2 \\, m r^{2} - r^{3}} \\\\ \\mathrm{Riem}\\left(g\\right)_{ \\phantom{\\, {\\theta}} \\, r \\, {\\theta} \\, r }^{ \\, {\\theta} \\phantom{\\, r} \\phantom{\\, {\\theta}} \\phantom{\\, r} } & = & \\frac{m}{2 \\, m r^{2} - r^{3}} \\\\ \\mathrm{Riem}\\left(g\\right)_{ \\phantom{\\, {\\theta}} \\, {\\phi} \\, {\\theta} \\, {\\phi} }^{ \\, {\\theta} \\phantom{\\, {\\phi}} \\phantom{\\, {\\theta}} \\phantom{\\, {\\phi}} } & = & \\frac{2 \\, m \\sin\\left({\\theta}\\right)^{2}}{r} \\\\ \\mathrm{Riem}\\left(g\\right)_{ \\phantom{\\, {\\theta}} \\, {\\phi} \\, {\\phi} \\, {\\theta} }^{ \\, {\\theta} \\phantom{\\, {\\phi}} \\phantom{\\, {\\phi}} \\phantom{\\, {\\theta}} } & = & -\\frac{2 \\, m \\sin\\left({\\theta}\\right)^{2}}{r} \\\\ \\mathrm{Riem}\\left(g\\right)_{ \\phantom{\\, {\\phi}} \\, t \\, t \\, {\\phi} }^{ \\, {\\phi} \\phantom{\\, t} \\phantom{\\, t} \\phantom{\\, {\\phi}} } & = & \\frac{2 \\, m^{2} - m r}{r^{4}} \\\\ \\mathrm{Riem}\\left(g\\right)_{ \\phantom{\\, {\\phi}} \\, t \\, {\\phi} \\, t }^{ \\, {\\phi} \\phantom{\\, t} \\phantom{\\, {\\phi}} \\phantom{\\, t} } & = & -\\frac{2 \\, m^{2} - m r}{r^{4}} \\\\ \\mathrm{Riem}\\left(g\\right)_{ \\phantom{\\, {\\phi}} \\, r \\, r \\, {\\phi} }^{ \\, {\\phi} \\phantom{\\, r} \\phantom{\\, r} \\phantom{\\, {\\phi}} } & = & -\\frac{m}{2 \\, m r^{2} - r^{3}} \\\\ \\mathrm{Riem}\\left(g\\right)_{ \\phantom{\\, {\\phi}} \\, r \\, {\\phi} \\, r }^{ \\, {\\phi} \\phantom{\\, r} \\phantom{\\, {\\phi}} \\phantom{\\, r} } & = & \\frac{m}{2 \\, m r^{2} - r^{3}} \\\\ \\mathrm{Riem}\\left(g\\right)_{ \\phantom{\\, {\\phi}} \\, {\\theta} \\, {\\theta} \\, {\\phi} }^{ \\, {\\phi} \\phantom{\\, {\\theta}} \\phantom{\\, {\\theta}} \\phantom{\\, {\\phi}} } & = & -\\frac{2 \\, m}{r} \\\\ \\mathrm{Riem}\\left(g\\right)_{ \\phantom{\\, {\\phi}} \\, {\\theta} \\, {\\phi} \\, {\\theta} }^{ \\, {\\phi} \\phantom{\\, {\\theta}} \\phantom{\\, {\\phi}} \\phantom{\\, {\\theta}} } & = & \\frac{2 \\, m}{r} \\end{array}$"
      ],
      "text/plain": [
       "Riem(g)^t_r,t,r = -2*m/(2*m*r^2 - r^3) \n",
       "Riem(g)^t_r,r,t = 2*m/(2*m*r^2 - r^3) \n",
       "Riem(g)^t_th,t,th = -m/r \n",
       "Riem(g)^t_th,th,t = m/r \n",
       "Riem(g)^t_ph,t,ph = -m*sin(th)^2/r \n",
       "Riem(g)^t_ph,ph,t = m*sin(th)^2/r \n",
       "Riem(g)^r_t,t,r = -2*(2*m^2 - m*r)/r^4 \n",
       "Riem(g)^r_t,r,t = 2*(2*m^2 - m*r)/r^4 \n",
       "Riem(g)^r_th,r,th = -m/r \n",
       "Riem(g)^r_th,th,r = m/r \n",
       "Riem(g)^r_ph,r,ph = -m*sin(th)^2/r \n",
       "Riem(g)^r_ph,ph,r = m*sin(th)^2/r \n",
       "Riem(g)^th_t,t,th = (2*m^2 - m*r)/r^4 \n",
       "Riem(g)^th_t,th,t = -(2*m^2 - m*r)/r^4 \n",
       "Riem(g)^th_r,r,th = -m/(2*m*r^2 - r^3) \n",
       "Riem(g)^th_r,th,r = m/(2*m*r^2 - r^3) \n",
       "Riem(g)^th_ph,th,ph = 2*m*sin(th)^2/r \n",
       "Riem(g)^th_ph,ph,th = -2*m*sin(th)^2/r \n",
       "Riem(g)^ph_t,t,ph = (2*m^2 - m*r)/r^4 \n",
       "Riem(g)^ph_t,ph,t = -(2*m^2 - m*r)/r^4 \n",
       "Riem(g)^ph_r,r,ph = -m/(2*m*r^2 - r^3) \n",
       "Riem(g)^ph_r,ph,r = m/(2*m*r^2 - r^3) \n",
       "Riem(g)^ph_th,th,ph = -2*m/r \n",
       "Riem(g)^ph_th,ph,th = 2*m/r "
      ]
     },
     "execution_count": 176,
     "metadata": {},
     "output_type": "execute_result"
    }
   ],
   "source": [
    "riem = g.riemann()\n",
    "riem.display_comp()"
   ]
  },
  {
   "cell_type": "code",
   "execution_count": 177,
   "id": "010523fc",
   "metadata": {},
   "outputs": [
    {
     "data": {
      "text/html": [
       "<html>\\(\\displaystyle \\left(\\begin{array}{rrrr}\n",
       "\\frac{2 \\, m}{r} - 1 & 0 & 0 & 0 \\\\\n",
       "0 & -\\frac{1}{\\frac{2 \\, m}{r} - 1} & 0 & 0 \\\\\n",
       "0 & 0 & r^{2} & 0 \\\\\n",
       "0 & 0 & 0 & r^{2}\n",
       "\\end{array}\\right)\\)</html>"
      ],
      "text/latex": [
       "$\\displaystyle \\left(\\begin{array}{rrrr}\n",
       "\\frac{2 \\, m}{r} - 1 & 0 & 0 & 0 \\\\\n",
       "0 & -\\frac{1}{\\frac{2 \\, m}{r} - 1} & 0 & 0 \\\\\n",
       "0 & 0 & r^{2} & 0 \\\\\n",
       "0 & 0 & 0 & r^{2}\n",
       "\\end{array}\\right)$"
      ],
      "text/plain": [
       "[     2*m/r - 1              0              0              0]\n",
       "[             0 -1/(2*m/r - 1)              0              0]\n",
       "[             0              0            r^2              0]\n",
       "[             0              0              0            r^2]"
      ]
     },
     "execution_count": 177,
     "metadata": {},
     "output_type": "execute_result"
    }
   ],
   "source": [
    "g.apply_map(lambda cmp: cmp.subs({th:pi/2}))\n",
    "g[:]"
   ]
  },
  {
   "cell_type": "code",
   "execution_count": 178,
   "id": "e5017999",
   "metadata": {},
   "outputs": [
    {
     "data": {
      "text/html": [
       "<html>\\(\\displaystyle \\begin{array}{lcl} \\mathrm{Riem}\\left(g\\right)_{ \\phantom{\\, t} \\, r \\, t \\, r }^{ \\, t \\phantom{\\, r} \\phantom{\\, t} \\phantom{\\, r} } & = & -\\frac{2 \\, m}{2 \\, m r^{2} - r^{3}} \\\\ \\mathrm{Riem}\\left(g\\right)_{ \\phantom{\\, t} \\, r \\, r \\, t }^{ \\, t \\phantom{\\, r} \\phantom{\\, r} \\phantom{\\, t} } & = & \\frac{2 \\, m}{2 \\, m r^{2} - r^{3}} \\\\ \\mathrm{Riem}\\left(g\\right)_{ \\phantom{\\, t} \\, {\\theta} \\, t \\, {\\theta} }^{ \\, t \\phantom{\\, {\\theta}} \\phantom{\\, t} \\phantom{\\, {\\theta}} } & = & -\\frac{m}{r} \\\\ \\mathrm{Riem}\\left(g\\right)_{ \\phantom{\\, t} \\, {\\theta} \\, {\\theta} \\, t }^{ \\, t \\phantom{\\, {\\theta}} \\phantom{\\, {\\theta}} \\phantom{\\, t} } & = & \\frac{m}{r} \\\\ \\mathrm{Riem}\\left(g\\right)_{ \\phantom{\\, t} \\, {\\phi} \\, t \\, {\\phi} }^{ \\, t \\phantom{\\, {\\phi}} \\phantom{\\, t} \\phantom{\\, {\\phi}} } & = & -\\frac{m}{r} \\\\ \\mathrm{Riem}\\left(g\\right)_{ \\phantom{\\, t} \\, {\\phi} \\, {\\phi} \\, t }^{ \\, t \\phantom{\\, {\\phi}} \\phantom{\\, {\\phi}} \\phantom{\\, t} } & = & \\frac{m}{r} \\\\ \\mathrm{Riem}\\left(g\\right)_{ \\phantom{\\, r} \\, t \\, t \\, r }^{ \\, r \\phantom{\\, t} \\phantom{\\, t} \\phantom{\\, r} } & = & -\\frac{2 \\, {\\left(2 \\, m^{2} - m r\\right)}}{r^{4}} \\\\ \\mathrm{Riem}\\left(g\\right)_{ \\phantom{\\, r} \\, t \\, r \\, t }^{ \\, r \\phantom{\\, t} \\phantom{\\, r} \\phantom{\\, t} } & = & \\frac{2 \\, {\\left(2 \\, m^{2} - m r\\right)}}{r^{4}} \\\\ \\mathrm{Riem}\\left(g\\right)_{ \\phantom{\\, r} \\, {\\theta} \\, r \\, {\\theta} }^{ \\, r \\phantom{\\, {\\theta}} \\phantom{\\, r} \\phantom{\\, {\\theta}} } & = & -\\frac{m}{r} \\\\ \\mathrm{Riem}\\left(g\\right)_{ \\phantom{\\, r} \\, {\\theta} \\, {\\theta} \\, r }^{ \\, r \\phantom{\\, {\\theta}} \\phantom{\\, {\\theta}} \\phantom{\\, r} } & = & \\frac{m}{r} \\\\ \\mathrm{Riem}\\left(g\\right)_{ \\phantom{\\, r} \\, {\\phi} \\, r \\, {\\phi} }^{ \\, r \\phantom{\\, {\\phi}} \\phantom{\\, r} \\phantom{\\, {\\phi}} } & = & -\\frac{m}{r} \\\\ \\mathrm{Riem}\\left(g\\right)_{ \\phantom{\\, r} \\, {\\phi} \\, {\\phi} \\, r }^{ \\, r \\phantom{\\, {\\phi}} \\phantom{\\, {\\phi}} \\phantom{\\, r} } & = & \\frac{m}{r} \\\\ \\mathrm{Riem}\\left(g\\right)_{ \\phantom{\\, {\\theta}} \\, t \\, t \\, {\\theta} }^{ \\, {\\theta} \\phantom{\\, t} \\phantom{\\, t} \\phantom{\\, {\\theta}} } & = & \\frac{2 \\, m^{2} - m r}{r^{4}} \\\\ \\mathrm{Riem}\\left(g\\right)_{ \\phantom{\\, {\\theta}} \\, t \\, {\\theta} \\, t }^{ \\, {\\theta} \\phantom{\\, t} \\phantom{\\, {\\theta}} \\phantom{\\, t} } & = & -\\frac{2 \\, m^{2} - m r}{r^{4}} \\\\ \\mathrm{Riem}\\left(g\\right)_{ \\phantom{\\, {\\theta}} \\, r \\, r \\, {\\theta} }^{ \\, {\\theta} \\phantom{\\, r} \\phantom{\\, r} \\phantom{\\, {\\theta}} } & = & -\\frac{m}{2 \\, m r^{2} - r^{3}} \\\\ \\mathrm{Riem}\\left(g\\right)_{ \\phantom{\\, {\\theta}} \\, r \\, {\\theta} \\, r }^{ \\, {\\theta} \\phantom{\\, r} \\phantom{\\, {\\theta}} \\phantom{\\, r} } & = & \\frac{m}{2 \\, m r^{2} - r^{3}} \\\\ \\mathrm{Riem}\\left(g\\right)_{ \\phantom{\\, {\\theta}} \\, {\\phi} \\, {\\theta} \\, {\\phi} }^{ \\, {\\theta} \\phantom{\\, {\\phi}} \\phantom{\\, {\\theta}} \\phantom{\\, {\\phi}} } & = & \\frac{2 \\, m}{r} \\\\ \\mathrm{Riem}\\left(g\\right)_{ \\phantom{\\, {\\theta}} \\, {\\phi} \\, {\\phi} \\, {\\theta} }^{ \\, {\\theta} \\phantom{\\, {\\phi}} \\phantom{\\, {\\phi}} \\phantom{\\, {\\theta}} } & = & -\\frac{2 \\, m}{r} \\\\ \\mathrm{Riem}\\left(g\\right)_{ \\phantom{\\, {\\phi}} \\, t \\, t \\, {\\phi} }^{ \\, {\\phi} \\phantom{\\, t} \\phantom{\\, t} \\phantom{\\, {\\phi}} } & = & \\frac{2 \\, m^{2} - m r}{r^{4}} \\\\ \\mathrm{Riem}\\left(g\\right)_{ \\phantom{\\, {\\phi}} \\, t \\, {\\phi} \\, t }^{ \\, {\\phi} \\phantom{\\, t} \\phantom{\\, {\\phi}} \\phantom{\\, t} } & = & -\\frac{2 \\, m^{2} - m r}{r^{4}} \\\\ \\mathrm{Riem}\\left(g\\right)_{ \\phantom{\\, {\\phi}} \\, r \\, r \\, {\\phi} }^{ \\, {\\phi} \\phantom{\\, r} \\phantom{\\, r} \\phantom{\\, {\\phi}} } & = & -\\frac{m}{2 \\, m r^{2} - r^{3}} \\\\ \\mathrm{Riem}\\left(g\\right)_{ \\phantom{\\, {\\phi}} \\, r \\, {\\phi} \\, r }^{ \\, {\\phi} \\phantom{\\, r} \\phantom{\\, {\\phi}} \\phantom{\\, r} } & = & \\frac{m}{2 \\, m r^{2} - r^{3}} \\\\ \\mathrm{Riem}\\left(g\\right)_{ \\phantom{\\, {\\phi}} \\, {\\theta} \\, {\\theta} \\, {\\phi} }^{ \\, {\\phi} \\phantom{\\, {\\theta}} \\phantom{\\, {\\theta}} \\phantom{\\, {\\phi}} } & = & -\\frac{2 \\, m}{r} \\\\ \\mathrm{Riem}\\left(g\\right)_{ \\phantom{\\, {\\phi}} \\, {\\theta} \\, {\\phi} \\, {\\theta} }^{ \\, {\\phi} \\phantom{\\, {\\theta}} \\phantom{\\, {\\phi}} \\phantom{\\, {\\theta}} } & = & \\frac{2 \\, m}{r} \\end{array}\\)</html>"
      ],
      "text/latex": [
       "$\\displaystyle \\begin{array}{lcl} \\mathrm{Riem}\\left(g\\right)_{ \\phantom{\\, t} \\, r \\, t \\, r }^{ \\, t \\phantom{\\, r} \\phantom{\\, t} \\phantom{\\, r} } & = & -\\frac{2 \\, m}{2 \\, m r^{2} - r^{3}} \\\\ \\mathrm{Riem}\\left(g\\right)_{ \\phantom{\\, t} \\, r \\, r \\, t }^{ \\, t \\phantom{\\, r} \\phantom{\\, r} \\phantom{\\, t} } & = & \\frac{2 \\, m}{2 \\, m r^{2} - r^{3}} \\\\ \\mathrm{Riem}\\left(g\\right)_{ \\phantom{\\, t} \\, {\\theta} \\, t \\, {\\theta} }^{ \\, t \\phantom{\\, {\\theta}} \\phantom{\\, t} \\phantom{\\, {\\theta}} } & = & -\\frac{m}{r} \\\\ \\mathrm{Riem}\\left(g\\right)_{ \\phantom{\\, t} \\, {\\theta} \\, {\\theta} \\, t }^{ \\, t \\phantom{\\, {\\theta}} \\phantom{\\, {\\theta}} \\phantom{\\, t} } & = & \\frac{m}{r} \\\\ \\mathrm{Riem}\\left(g\\right)_{ \\phantom{\\, t} \\, {\\phi} \\, t \\, {\\phi} }^{ \\, t \\phantom{\\, {\\phi}} \\phantom{\\, t} \\phantom{\\, {\\phi}} } & = & -\\frac{m}{r} \\\\ \\mathrm{Riem}\\left(g\\right)_{ \\phantom{\\, t} \\, {\\phi} \\, {\\phi} \\, t }^{ \\, t \\phantom{\\, {\\phi}} \\phantom{\\, {\\phi}} \\phantom{\\, t} } & = & \\frac{m}{r} \\\\ \\mathrm{Riem}\\left(g\\right)_{ \\phantom{\\, r} \\, t \\, t \\, r }^{ \\, r \\phantom{\\, t} \\phantom{\\, t} \\phantom{\\, r} } & = & -\\frac{2 \\, {\\left(2 \\, m^{2} - m r\\right)}}{r^{4}} \\\\ \\mathrm{Riem}\\left(g\\right)_{ \\phantom{\\, r} \\, t \\, r \\, t }^{ \\, r \\phantom{\\, t} \\phantom{\\, r} \\phantom{\\, t} } & = & \\frac{2 \\, {\\left(2 \\, m^{2} - m r\\right)}}{r^{4}} \\\\ \\mathrm{Riem}\\left(g\\right)_{ \\phantom{\\, r} \\, {\\theta} \\, r \\, {\\theta} }^{ \\, r \\phantom{\\, {\\theta}} \\phantom{\\, r} \\phantom{\\, {\\theta}} } & = & -\\frac{m}{r} \\\\ \\mathrm{Riem}\\left(g\\right)_{ \\phantom{\\, r} \\, {\\theta} \\, {\\theta} \\, r }^{ \\, r \\phantom{\\, {\\theta}} \\phantom{\\, {\\theta}} \\phantom{\\, r} } & = & \\frac{m}{r} \\\\ \\mathrm{Riem}\\left(g\\right)_{ \\phantom{\\, r} \\, {\\phi} \\, r \\, {\\phi} }^{ \\, r \\phantom{\\, {\\phi}} \\phantom{\\, r} \\phantom{\\, {\\phi}} } & = & -\\frac{m}{r} \\\\ \\mathrm{Riem}\\left(g\\right)_{ \\phantom{\\, r} \\, {\\phi} \\, {\\phi} \\, r }^{ \\, r \\phantom{\\, {\\phi}} \\phantom{\\, {\\phi}} \\phantom{\\, r} } & = & \\frac{m}{r} \\\\ \\mathrm{Riem}\\left(g\\right)_{ \\phantom{\\, {\\theta}} \\, t \\, t \\, {\\theta} }^{ \\, {\\theta} \\phantom{\\, t} \\phantom{\\, t} \\phantom{\\, {\\theta}} } & = & \\frac{2 \\, m^{2} - m r}{r^{4}} \\\\ \\mathrm{Riem}\\left(g\\right)_{ \\phantom{\\, {\\theta}} \\, t \\, {\\theta} \\, t }^{ \\, {\\theta} \\phantom{\\, t} \\phantom{\\, {\\theta}} \\phantom{\\, t} } & = & -\\frac{2 \\, m^{2} - m r}{r^{4}} \\\\ \\mathrm{Riem}\\left(g\\right)_{ \\phantom{\\, {\\theta}} \\, r \\, r \\, {\\theta} }^{ \\, {\\theta} \\phantom{\\, r} \\phantom{\\, r} \\phantom{\\, {\\theta}} } & = & -\\frac{m}{2 \\, m r^{2} - r^{3}} \\\\ \\mathrm{Riem}\\left(g\\right)_{ \\phantom{\\, {\\theta}} \\, r \\, {\\theta} \\, r }^{ \\, {\\theta} \\phantom{\\, r} \\phantom{\\, {\\theta}} \\phantom{\\, r} } & = & \\frac{m}{2 \\, m r^{2} - r^{3}} \\\\ \\mathrm{Riem}\\left(g\\right)_{ \\phantom{\\, {\\theta}} \\, {\\phi} \\, {\\theta} \\, {\\phi} }^{ \\, {\\theta} \\phantom{\\, {\\phi}} \\phantom{\\, {\\theta}} \\phantom{\\, {\\phi}} } & = & \\frac{2 \\, m}{r} \\\\ \\mathrm{Riem}\\left(g\\right)_{ \\phantom{\\, {\\theta}} \\, {\\phi} \\, {\\phi} \\, {\\theta} }^{ \\, {\\theta} \\phantom{\\, {\\phi}} \\phantom{\\, {\\phi}} \\phantom{\\, {\\theta}} } & = & -\\frac{2 \\, m}{r} \\\\ \\mathrm{Riem}\\left(g\\right)_{ \\phantom{\\, {\\phi}} \\, t \\, t \\, {\\phi} }^{ \\, {\\phi} \\phantom{\\, t} \\phantom{\\, t} \\phantom{\\, {\\phi}} } & = & \\frac{2 \\, m^{2} - m r}{r^{4}} \\\\ \\mathrm{Riem}\\left(g\\right)_{ \\phantom{\\, {\\phi}} \\, t \\, {\\phi} \\, t }^{ \\, {\\phi} \\phantom{\\, t} \\phantom{\\, {\\phi}} \\phantom{\\, t} } & = & -\\frac{2 \\, m^{2} - m r}{r^{4}} \\\\ \\mathrm{Riem}\\left(g\\right)_{ \\phantom{\\, {\\phi}} \\, r \\, r \\, {\\phi} }^{ \\, {\\phi} \\phantom{\\, r} \\phantom{\\, r} \\phantom{\\, {\\phi}} } & = & -\\frac{m}{2 \\, m r^{2} - r^{3}} \\\\ \\mathrm{Riem}\\left(g\\right)_{ \\phantom{\\, {\\phi}} \\, r \\, {\\phi} \\, r }^{ \\, {\\phi} \\phantom{\\, r} \\phantom{\\, {\\phi}} \\phantom{\\, r} } & = & \\frac{m}{2 \\, m r^{2} - r^{3}} \\\\ \\mathrm{Riem}\\left(g\\right)_{ \\phantom{\\, {\\phi}} \\, {\\theta} \\, {\\theta} \\, {\\phi} }^{ \\, {\\phi} \\phantom{\\, {\\theta}} \\phantom{\\, {\\theta}} \\phantom{\\, {\\phi}} } & = & -\\frac{2 \\, m}{r} \\\\ \\mathrm{Riem}\\left(g\\right)_{ \\phantom{\\, {\\phi}} \\, {\\theta} \\, {\\phi} \\, {\\theta} }^{ \\, {\\phi} \\phantom{\\, {\\theta}} \\phantom{\\, {\\phi}} \\phantom{\\, {\\theta}} } & = & \\frac{2 \\, m}{r} \\end{array}$"
      ],
      "text/plain": [
       "Riem(g)^t_r,t,r = -2*m/(2*m*r^2 - r^3) \n",
       "Riem(g)^t_r,r,t = 2*m/(2*m*r^2 - r^3) \n",
       "Riem(g)^t_th,t,th = -m/r \n",
       "Riem(g)^t_th,th,t = m/r \n",
       "Riem(g)^t_ph,t,ph = -m/r \n",
       "Riem(g)^t_ph,ph,t = m/r \n",
       "Riem(g)^r_t,t,r = -2*(2*m^2 - m*r)/r^4 \n",
       "Riem(g)^r_t,r,t = 2*(2*m^2 - m*r)/r^4 \n",
       "Riem(g)^r_th,r,th = -m/r \n",
       "Riem(g)^r_th,th,r = m/r \n",
       "Riem(g)^r_ph,r,ph = -m/r \n",
       "Riem(g)^r_ph,ph,r = m/r \n",
       "Riem(g)^th_t,t,th = (2*m^2 - m*r)/r^4 \n",
       "Riem(g)^th_t,th,t = -(2*m^2 - m*r)/r^4 \n",
       "Riem(g)^th_r,r,th = -m/(2*m*r^2 - r^3) \n",
       "Riem(g)^th_r,th,r = m/(2*m*r^2 - r^3) \n",
       "Riem(g)^th_ph,th,ph = 2*m/r \n",
       "Riem(g)^th_ph,ph,th = -2*m/r \n",
       "Riem(g)^ph_t,t,ph = (2*m^2 - m*r)/r^4 \n",
       "Riem(g)^ph_t,ph,t = -(2*m^2 - m*r)/r^4 \n",
       "Riem(g)^ph_r,r,ph = -m/(2*m*r^2 - r^3) \n",
       "Riem(g)^ph_r,ph,r = m/(2*m*r^2 - r^3) \n",
       "Riem(g)^ph_th,th,ph = -2*m/r \n",
       "Riem(g)^ph_th,ph,th = 2*m/r "
      ]
     },
     "execution_count": 178,
     "metadata": {},
     "output_type": "execute_result"
    }
   ],
   "source": [
    "riem.apply_map(lambda x: x.subs({th:pi/2}))\n",
    "riem.display_comp()"
   ]
  },
  {
   "cell_type": "code",
   "execution_count": 201,
   "id": "a36efed9",
   "metadata": {},
   "outputs": [],
   "source": [
    "def D_cov_eq(inp_vec):\n",
    "    D_cov_eq_vec = nab(inp_vec)\n",
    "    D_cov_eq_vec.apply_map(lambda cmp: cmp.subs({th:pi/2}))\n",
    "    \n",
    "    return D_cov_eq_vec"
   ]
  },
  {
   "cell_type": "markdown",
   "id": "cf9373d1",
   "metadata": {},
   "source": [
    "When the angular momentum scales in this way with the energy, the tangent vector to the (equatorial) timelike geodesics has the components\n",
    "$\n",
    "\\partial_U t = \\frac{1}{f(r)}, \\qquad \\partial_U \\phi = \\frac{\\kappa}{r^2}, \\\\\n",
    "\\partial_U r = \\sqrt{1 - f(r) \\frac{\\kappa^2}{r^2} - \\epsilon^2 f(r)}, \\qquad \\partial_U \\theta = 0.\n",
    "$\n",
    "\n",
    "In the ultrarelativistic limit ($\\epsilon \\to 0$), the tangent vector to the limiting curve is $\\dot{Z}^a = \\bigg ( \\frac{1}{f(r_0)}, \\sqrt{1 - f(r_0) \\frac{\\kappa^2}{r_0^2}}, 0, \\frac{\\kappa}{r_0^2} \\bigg )$, where $r_0 (s) = r(s, \\epsilon = 0)$.\n",
    "\n",
    "As a first step, we will check that this is indeed the tangent vector to an affinely parametrised null geodesic. Then, we will construct the parallel-propagated quasi-null frame along it."
   ]
  },
  {
   "cell_type": "code",
   "execution_count": 202,
   "id": "192efeb0",
   "metadata": {},
   "outputs": [
    {
     "data": {
      "text/html": [
       "<html>\\(\\displaystyle \\left[-\\frac{1}{\\frac{2 \\, m}{r} - 1}, \\sqrt{\\frac{\\kappa^{2} {\\left(\\frac{2 \\, m}{r} - 1\\right)}}{r^{2}} + 1}, 0, \\frac{\\kappa}{r^{2}}\\right]\\)</html>"
      ],
      "text/latex": [
       "$\\displaystyle \\left[-\\frac{1}{\\frac{2 \\, m}{r} - 1}, \\sqrt{\\frac{\\kappa^{2} {\\left(\\frac{2 \\, m}{r} - 1\\right)}}{r^{2}} + 1}, 0, \\frac{\\kappa}{r^{2}}\\right]$"
      ],
      "text/plain": [
       "[-1/(2*m/r - 1), sqrt(kappa^2*(2*m/r - 1)/r^2 + 1), 0, kappa/r^2]"
      ]
     },
     "execution_count": 202,
     "metadata": {},
     "output_type": "execute_result"
    }
   ],
   "source": [
    "assume(r>2*m)\n",
    "Zdot = M.vector_field(name=r'\\dot{Z}')\n",
    "Zdot[:] = [1/f, sqrt(1 - f*kap^2/r^2), 0, kap / r^2]\n",
    "Zdot[:]"
   ]
  },
  {
   "cell_type": "code",
   "execution_count": 203,
   "id": "c2460c3d",
   "metadata": {},
   "outputs": [
    {
     "data": {
      "text/html": [
       "<html>\\(\\displaystyle \\begin{array}{llcl} g\\left(\\dot{Z},\\dot{Z}\\right):& M & \\longrightarrow & \\mathbb{R} \\\\ & \\left(t, r, {\\theta}, {\\phi}\\right) & \\longmapsto & 0 \\end{array}\\)</html>"
      ],
      "text/latex": [
       "$\\displaystyle \\begin{array}{llcl} g\\left(\\dot{Z},\\dot{Z}\\right):& M & \\longrightarrow & \\mathbb{R} \\\\ & \\left(t, r, {\\theta}, {\\phi}\\right) & \\longmapsto & 0 \\end{array}$"
      ],
      "text/plain": [
       "g(\\dot{Z},\\dot{Z}): M → ℝ\n",
       "   (t, r, th, ph) ↦ 0"
      ]
     },
     "execution_count": 203,
     "metadata": {},
     "output_type": "execute_result"
    }
   ],
   "source": [
    "g(Zdot, Zdot).display()"
   ]
  },
  {
   "cell_type": "code",
   "execution_count": 207,
   "id": "21e24f42",
   "metadata": {},
   "outputs": [
    {
     "data": {
      "text/html": [
       "<html>\\(\\displaystyle \\left[0, 0, 0, 0\\right]\\)</html>"
      ],
      "text/latex": [
       "$\\displaystyle \\left[0, 0, 0, 0\\right]$"
      ],
      "text/plain": [
       "[0, 0, 0, 0]"
      ]
     },
     "execution_count": 207,
     "metadata": {},
     "output_type": "execute_result"
    }
   ],
   "source": [
    "accZdot = (D_cov_eq(Zdot)).contract(Zdot)\n",
    "accZdot[:]"
   ]
  },
  {
   "cell_type": "markdown",
   "id": "7df05bcf",
   "metadata": {},
   "source": [
    "Thus, $\\dot{Z}$ defined above is tangent to an affinely parametrised null geodesic.\n",
    "\n",
    "To construct the quasi-null frame $(\\dot{Z}, N, E^i)$, we use the inner product relations $g (\\dot{Z}, N) = -1, g(E_i, E_j) = \\delta_{ij}$, with all other inner products vanishing.\n",
    "\n",
    "Since $\\dot{Z}$ has vanishing $\\theta$ component, we can set $E_1 = (0, 0, 1/r, 0)$, where $r$ is evaluated along the null geodesic. We first check that this satisfies $g(E_1, E_1) = 1, g(\\dot{Z}, E_1) = 0$, and is parallel-transported along the null geodesic."
   ]
  },
  {
   "cell_type": "code",
   "execution_count": 208,
   "id": "2b26e7d4",
   "metadata": {},
   "outputs": [
    {
     "data": {
      "text/html": [
       "<html>\\(\\displaystyle \\left[0, 0, \\frac{1}{r}, 0\\right]\\)</html>"
      ],
      "text/latex": [
       "$\\displaystyle \\left[0, 0, \\frac{1}{r}, 0\\right]$"
      ],
      "text/plain": [
       "[0, 0, 1/r, 0]"
      ]
     },
     "execution_count": 208,
     "metadata": {},
     "output_type": "execute_result"
    }
   ],
   "source": [
    "E1 = M.vector_field(name='E_1')\n",
    "E1[:] = [0, 0, 1/r, 0]\n",
    "E1[:]"
   ]
  },
  {
   "cell_type": "code",
   "execution_count": 209,
   "id": "e8705c51",
   "metadata": {},
   "outputs": [
    {
     "data": {
      "text/html": [
       "<html>\\(\\displaystyle \\left(\\begin{array}{llcl} g\\left(\\dot{Z},E_1\\right):& M & \\longrightarrow & \\mathbb{R} \\\\ & \\left(t, r, {\\theta}, {\\phi}\\right) & \\longmapsto & 0 \\end{array}, \\begin{array}{llcl} g\\left(E_1,E_1\\right):& M & \\longrightarrow & \\mathbb{R} \\\\ & \\left(t, r, {\\theta}, {\\phi}\\right) & \\longmapsto & 1 \\end{array}\\right)\\)</html>"
      ],
      "text/latex": [
       "$\\displaystyle \\left(\\begin{array}{llcl} g\\left(\\dot{Z},E_1\\right):& M & \\longrightarrow & \\mathbb{R} \\\\ & \\left(t, r, {\\theta}, {\\phi}\\right) & \\longmapsto & 0 \\end{array}, \\begin{array}{llcl} g\\left(E_1,E_1\\right):& M & \\longrightarrow & \\mathbb{R} \\\\ & \\left(t, r, {\\theta}, {\\phi}\\right) & \\longmapsto & 1 \\end{array}\\right)$"
      ],
      "text/plain": [
       "(g(\\dot{Z},E_1): M → ℝ\n",
       "    (t, r, th, ph) ↦ 0,\n",
       " g(E_1,E_1): M → ℝ\n",
       "    (t, r, th, ph) ↦ 1)"
      ]
     },
     "execution_count": 209,
     "metadata": {},
     "output_type": "execute_result"
    }
   ],
   "source": [
    "g(Zdot, E1).display(), g(E1, E1).display()"
   ]
  },
  {
   "cell_type": "code",
   "execution_count": 210,
   "id": "78a03990",
   "metadata": {},
   "outputs": [
    {
     "data": {
      "text/html": [
       "<html>\\(\\displaystyle \\left[0, 0, 0, 0\\right]\\)</html>"
      ],
      "text/latex": [
       "$\\displaystyle \\left[0, 0, 0, 0\\right]$"
      ],
      "text/plain": [
       "[0, 0, 0, 0]"
      ]
     },
     "execution_count": 210,
     "metadata": {},
     "output_type": "execute_result"
    }
   ],
   "source": [
    "accE1 = (D_cov_eq(E1)).contract(Zdot)\n",
    "accE1[:]"
   ]
  },
  {
   "cell_type": "markdown",
   "id": "6ba18fbf",
   "metadata": {},
   "source": [
    "$E_1$ defined above is spatially normalised to unity and parallel transported along the curve, as expected.\n",
    "\n",
    "Next, define the vector fields $N = [a_N, b_N, 0, c_N]$ and $E_2 = [a_2, b_2, 0, c_2]$, and solve the algebraic inner product relations."
   ]
  },
  {
   "cell_type": "code",
   "execution_count": 211,
   "id": "7f22fa1a",
   "metadata": {},
   "outputs": [
    {
     "data": {
      "text/html": [
       "<html>\\(\\displaystyle \\left(\\left[a_{N}, b_{N}, 0, c_{N}\\right], \\left[a_{2}, b_{2}, 0, c_{2}\\right]\\right)\\)</html>"
      ],
      "text/latex": [
       "$\\displaystyle \\left(\\left[a_{N}, b_{N}, 0, c_{N}\\right], \\left[a_{2}, b_{2}, 0, c_{2}\\right]\\right)$"
      ],
      "text/plain": [
       "([a_N, b_N, 0, c_N], [a_2, b_2, 0, c_2])"
      ]
     },
     "execution_count": 211,
     "metadata": {},
     "output_type": "execute_result"
    }
   ],
   "source": [
    "N = M.vector_field(name='N')\n",
    "E2 = M.vector_field(name='E_2')\n",
    "aN, bN, cN = var('a_N, b_N, c_N')\n",
    "a2, b2, c2 = var('a_2, b_2, c_2')\n",
    "N[:] = [aN, bN, 0, cN]\n",
    "E2[:] = [a2, b2, 0, c2]\n",
    "N[:], E2[:]"
   ]
  },
  {
   "cell_type": "code",
   "execution_count": 212,
   "id": "34a38ca0",
   "metadata": {},
   "outputs": [
    {
     "data": {
      "text/html": [
       "<html>\\(\\displaystyle \\left(-\\frac{\\sqrt{2 \\, \\kappa^{2} m - \\kappa^{2} r + r^{3}} b_{N} - {\\left(2 \\, {\\left(c_{N} \\kappa - a_{N}\\right)} m - {\\left(c_{N} \\kappa - a_{N}\\right)} r\\right)} \\sqrt{r}}{{\\left(2 \\, m - r\\right)} \\sqrt{r}}, \\frac{2 \\, c_{N}^{2} m r^{3} - c_{N}^{2} r^{4} + 4 \\, a_{N}^{2} m^{2} - 4 \\, a_{N}^{2} m r + {\\left(a_{N}^{2} - b_{N}^{2}\\right)} r^{2}}{2 \\, m r - r^{2}}, \\frac{2 \\, c_{2} c_{N} m r^{3} - c_{2} c_{N} r^{4} + 4 \\, a_{2} a_{N} m^{2} - 4 \\, a_{2} a_{N} m r + {\\left(a_{2} a_{N} - b_{2} b_{N}\\right)} r^{2}}{2 \\, m r - r^{2}}\\right)\\)</html>"
      ],
      "text/latex": [
       "$\\displaystyle \\left(-\\frac{\\sqrt{2 \\, \\kappa^{2} m - \\kappa^{2} r + r^{3}} b_{N} - {\\left(2 \\, {\\left(c_{N} \\kappa - a_{N}\\right)} m - {\\left(c_{N} \\kappa - a_{N}\\right)} r\\right)} \\sqrt{r}}{{\\left(2 \\, m - r\\right)} \\sqrt{r}}, \\frac{2 \\, c_{N}^{2} m r^{3} - c_{N}^{2} r^{4} + 4 \\, a_{N}^{2} m^{2} - 4 \\, a_{N}^{2} m r + {\\left(a_{N}^{2} - b_{N}^{2}\\right)} r^{2}}{2 \\, m r - r^{2}}, \\frac{2 \\, c_{2} c_{N} m r^{3} - c_{2} c_{N} r^{4} + 4 \\, a_{2} a_{N} m^{2} - 4 \\, a_{2} a_{N} m r + {\\left(a_{2} a_{N} - b_{2} b_{N}\\right)} r^{2}}{2 \\, m r - r^{2}}\\right)$"
      ],
      "text/plain": [
       "(-(sqrt(2*kappa^2*m - kappa^2*r + r^3)*b_N - (2*(c_N*kappa - a_N)*m - (c_N*kappa - a_N)*r)*sqrt(r))/((2*m - r)*sqrt(r)),\n",
       " (2*c_N^2*m*r^3 - c_N^2*r^4 + 4*a_N^2*m^2 - 4*a_N^2*m*r + (a_N^2 - b_N^2)*r^2)/(2*m*r - r^2),\n",
       " (2*c_2*c_N*m*r^3 - c_2*c_N*r^4 + 4*a_2*a_N*m^2 - 4*a_2*a_N*m*r + (a_2*a_N - b_2*b_N)*r^2)/(2*m*r - r^2))"
      ]
     },
     "execution_count": 212,
     "metadata": {},
     "output_type": "execute_result"
    }
   ],
   "source": [
    "gZdotN = g(Zdot, N).expr()\n",
    "gNN = g(N, N).expr()\n",
    "gNE2 = g(N, E2).expr()\n",
    "gZdotN, gNN, gNE2"
   ]
  },
  {
   "cell_type": "code",
   "execution_count": 213,
   "id": "c4332065",
   "metadata": {},
   "outputs": [
    {
     "data": {
      "text/html": [
       "<html>\\(\\displaystyle \\left(-\\frac{\\sqrt{2 \\, \\kappa^{2} m - \\kappa^{2} r + r^{3}} b_{2} - {\\left(2 \\, {\\left(c_{2} \\kappa - a_{2}\\right)} m - {\\left(c_{2} \\kappa - a_{2}\\right)} r\\right)} \\sqrt{r}}{{\\left(2 \\, m - r\\right)} \\sqrt{r}}, \\frac{2 \\, c_{2}^{2} m r^{3} - c_{2}^{2} r^{4} + 4 \\, a_{2}^{2} m^{2} - 4 \\, a_{2}^{2} m r + {\\left(a_{2}^{2} - b_{2}^{2}\\right)} r^{2}}{2 \\, m r - r^{2}}\\right)\\)</html>"
      ],
      "text/latex": [
       "$\\displaystyle \\left(-\\frac{\\sqrt{2 \\, \\kappa^{2} m - \\kappa^{2} r + r^{3}} b_{2} - {\\left(2 \\, {\\left(c_{2} \\kappa - a_{2}\\right)} m - {\\left(c_{2} \\kappa - a_{2}\\right)} r\\right)} \\sqrt{r}}{{\\left(2 \\, m - r\\right)} \\sqrt{r}}, \\frac{2 \\, c_{2}^{2} m r^{3} - c_{2}^{2} r^{4} + 4 \\, a_{2}^{2} m^{2} - 4 \\, a_{2}^{2} m r + {\\left(a_{2}^{2} - b_{2}^{2}\\right)} r^{2}}{2 \\, m r - r^{2}}\\right)$"
      ],
      "text/plain": [
       "(-(sqrt(2*kappa^2*m - kappa^2*r + r^3)*b_2 - (2*(c_2*kappa - a_2)*m - (c_2*kappa - a_2)*r)*sqrt(r))/((2*m - r)*sqrt(r)),\n",
       " (2*c_2^2*m*r^3 - c_2^2*r^4 + 4*a_2^2*m^2 - 4*a_2^2*m*r + (a_2^2 - b_2^2)*r^2)/(2*m*r - r^2))"
      ]
     },
     "execution_count": 213,
     "metadata": {},
     "output_type": "execute_result"
    }
   ],
   "source": [
    "gZdotE2 = g(Zdot, E2).expr()\n",
    "gE2E2 = g(E2, E2).expr()\n",
    "gZdotE2, gE2E2"
   ]
  },
  {
   "cell_type": "markdown",
   "id": "31b360eb",
   "metadata": {},
   "source": [
    "Transform this into a system of equations by using the orthogonality relations $\\dot{Z} \\cdot N = -1$, $N \\cdot N = 0$, $\\dot{Z} \\cdot E_2 = 0$, $E_2 \\cdot E_2 = 1$, and $N \\cdot E_2 = 0$."
   ]
  },
  {
   "cell_type": "code",
   "execution_count": 214,
   "id": "9d11afc9",
   "metadata": {},
   "outputs": [
    {
     "data": {
      "text/html": [
       "<html>\\(\\displaystyle \\left(-\\frac{\\sqrt{2 \\, \\kappa^{2} m - \\kappa^{2} r + r^{3}} b_{N} - {\\left(2 \\, {\\left(c_{N} \\kappa - a_{N}\\right)} m - {\\left(c_{N} \\kappa - a_{N}\\right)} r\\right)} \\sqrt{r}}{{\\left(2 \\, m - r\\right)} \\sqrt{r}} = \\left(-1\\right), \\frac{2 \\, c_{N}^{2} m r^{3} - c_{N}^{2} r^{4} + 4 \\, a_{N}^{2} m^{2} - 4 \\, a_{N}^{2} m r + {\\left(a_{N}^{2} - b_{N}^{2}\\right)} r^{2}}{2 \\, m r - r^{2}} = 0, \\frac{2 \\, c_{2} c_{N} m r^{3} - c_{2} c_{N} r^{4} + 4 \\, a_{2} a_{N} m^{2} - 4 \\, a_{2} a_{N} m r + {\\left(a_{2} a_{N} - b_{2} b_{N}\\right)} r^{2}}{2 \\, m r - r^{2}} = 0, -\\frac{\\sqrt{2 \\, \\kappa^{2} m - \\kappa^{2} r + r^{3}} b_{2} - {\\left(2 \\, {\\left(c_{2} \\kappa - a_{2}\\right)} m - {\\left(c_{2} \\kappa - a_{2}\\right)} r\\right)} \\sqrt{r}}{{\\left(2 \\, m - r\\right)} \\sqrt{r}} = 0, \\frac{2 \\, c_{2}^{2} m r^{3} - c_{2}^{2} r^{4} + 4 \\, a_{2}^{2} m^{2} - 4 \\, a_{2}^{2} m r + {\\left(a_{2}^{2} - b_{2}^{2}\\right)} r^{2}}{2 \\, m r - r^{2}} = 1\\right)\\)</html>"
      ],
      "text/latex": [
       "$\\displaystyle \\left(-\\frac{\\sqrt{2 \\, \\kappa^{2} m - \\kappa^{2} r + r^{3}} b_{N} - {\\left(2 \\, {\\left(c_{N} \\kappa - a_{N}\\right)} m - {\\left(c_{N} \\kappa - a_{N}\\right)} r\\right)} \\sqrt{r}}{{\\left(2 \\, m - r\\right)} \\sqrt{r}} = \\left(-1\\right), \\frac{2 \\, c_{N}^{2} m r^{3} - c_{N}^{2} r^{4} + 4 \\, a_{N}^{2} m^{2} - 4 \\, a_{N}^{2} m r + {\\left(a_{N}^{2} - b_{N}^{2}\\right)} r^{2}}{2 \\, m r - r^{2}} = 0, \\frac{2 \\, c_{2} c_{N} m r^{3} - c_{2} c_{N} r^{4} + 4 \\, a_{2} a_{N} m^{2} - 4 \\, a_{2} a_{N} m r + {\\left(a_{2} a_{N} - b_{2} b_{N}\\right)} r^{2}}{2 \\, m r - r^{2}} = 0, -\\frac{\\sqrt{2 \\, \\kappa^{2} m - \\kappa^{2} r + r^{3}} b_{2} - {\\left(2 \\, {\\left(c_{2} \\kappa - a_{2}\\right)} m - {\\left(c_{2} \\kappa - a_{2}\\right)} r\\right)} \\sqrt{r}}{{\\left(2 \\, m - r\\right)} \\sqrt{r}} = 0, \\frac{2 \\, c_{2}^{2} m r^{3} - c_{2}^{2} r^{4} + 4 \\, a_{2}^{2} m^{2} - 4 \\, a_{2}^{2} m r + {\\left(a_{2}^{2} - b_{2}^{2}\\right)} r^{2}}{2 \\, m r - r^{2}} = 1\\right)$"
      ],
      "text/plain": [
       "(-(sqrt(2*kappa^2*m - kappa^2*r + r^3)*b_N - (2*(c_N*kappa - a_N)*m - (c_N*kappa - a_N)*r)*sqrt(r))/((2*m - r)*sqrt(r)) == -1,\n",
       " (2*c_N^2*m*r^3 - c_N^2*r^4 + 4*a_N^2*m^2 - 4*a_N^2*m*r + (a_N^2 - b_N^2)*r^2)/(2*m*r - r^2) == 0,\n",
       " (2*c_2*c_N*m*r^3 - c_2*c_N*r^4 + 4*a_2*a_N*m^2 - 4*a_2*a_N*m*r + (a_2*a_N - b_2*b_N)*r^2)/(2*m*r - r^2) == 0,\n",
       " -(sqrt(2*kappa^2*m - kappa^2*r + r^3)*b_2 - (2*(c_2*kappa - a_2)*m - (c_2*kappa - a_2)*r)*sqrt(r))/((2*m - r)*sqrt(r)) == 0,\n",
       " (2*c_2^2*m*r^3 - c_2^2*r^4 + 4*a_2^2*m^2 - 4*a_2^2*m*r + (a_2^2 - b_2^2)*r^2)/(2*m*r - r^2) == 1)"
      ]
     },
     "execution_count": 214,
     "metadata": {},
     "output_type": "execute_result"
    }
   ],
   "source": [
    "eq1 = gZdotN == -1\n",
    "eq2 = gNN == 0\n",
    "eq3 = gNE2 == 0\n",
    "eq4 = gZdotE2 == 0\n",
    "eq5 = gE2E2 == 1\n",
    "eq1, eq2, eq3, eq4, eq5"
   ]
  },
  {
   "cell_type": "code",
   "execution_count": 215,
   "id": "f9701ed7",
   "metadata": {
    "scrolled": false
   },
   "outputs": [
    {
     "data": {
      "text/html": [
       "<html>\\(\\displaystyle \\left(\\left[a_{N} = -\\frac{2 \\, m r_{9}^{2} - {\\left(r_{9}^{2} + 1\\right)} r}{2 \\, r}, b_{N} = \\frac{8 \\, \\kappa m^{2} r r_{9} - 8 \\, \\kappa m r^{2} r_{9} + 2 \\, \\kappa r^{3} r_{9} + {\\left(4 \\, m^{2} r_{9}^{2} - 2 \\, {\\left(2 \\, r_{9}^{2} - 1\\right)} m r + {\\left(r_{9}^{2} - 1\\right)} r^{2}\\right)} \\sqrt{2 \\, \\kappa^{2} m - \\kappa^{2} r + r^{3}} \\sqrt{r}}{2 \\, r^{4}}, c_{N} = \\frac{4 \\, \\kappa m^{2} r_{9}^{2} - 2 \\, {\\left(2 \\, r_{9}^{2} - 1\\right)} \\kappa m r + {\\left(r_{9}^{2} - 1\\right)} \\kappa r^{2} + 2 \\, \\sqrt{2 \\, \\kappa^{2} m - \\kappa^{2} r + r^{3}} {\\left(2 \\, m r_{9} - r r_{9}\\right)} \\sqrt{r}}{2 \\, r^{4}}, a_{2} = r_{9}, b_{2} = -\\frac{2 \\, \\kappa m r - \\kappa r^{2} + \\sqrt{2 \\, \\kappa^{2} m - \\kappa^{2} r + r^{3}} {\\left(2 \\, m r_{9} - r r_{9}\\right)} \\sqrt{r}}{r^{3}}, c_{2} = -\\frac{2 \\, \\kappa m r_{9} - \\kappa r r_{9} + \\sqrt{2 \\, \\kappa^{2} m - \\kappa^{2} r + r^{3}} \\sqrt{r}}{r^{3}}\\right], \\left[a_{N} = -\\frac{2 \\, m r_{10}^{2} - {\\left(r_{10}^{2} + 1\\right)} r}{2 \\, r}, b_{N} = -\\frac{8 \\, \\kappa m^{2} r r_{10} - 8 \\, \\kappa m r^{2} r_{10} + 2 \\, \\kappa r^{3} r_{10} - {\\left(4 \\, m^{2} r_{10}^{2} - 2 \\, {\\left(2 \\, r_{10}^{2} - 1\\right)} m r + {\\left(r_{10}^{2} - 1\\right)} r^{2}\\right)} \\sqrt{2 \\, \\kappa^{2} m - \\kappa^{2} r + r^{3}} \\sqrt{r}}{2 \\, r^{4}}, c_{N} = \\frac{4 \\, \\kappa m^{2} r_{10}^{2} - 2 \\, {\\left(2 \\, r_{10}^{2} - 1\\right)} \\kappa m r + {\\left(r_{10}^{2} - 1\\right)} \\kappa r^{2} - 2 \\, \\sqrt{2 \\, \\kappa^{2} m - \\kappa^{2} r + r^{3}} {\\left(2 \\, m r_{10} - r r_{10}\\right)} \\sqrt{r}}{2 \\, r^{4}}, a_{2} = r_{10}, b_{2} = \\frac{2 \\, \\kappa m r - \\kappa r^{2} - \\sqrt{2 \\, \\kappa^{2} m - \\kappa^{2} r + r^{3}} {\\left(2 \\, m r_{10} - r r_{10}\\right)} \\sqrt{r}}{r^{3}}, c_{2} = -\\frac{2 \\, \\kappa m r_{10} - \\kappa r r_{10} - \\sqrt{2 \\, \\kappa^{2} m - \\kappa^{2} r + r^{3}} \\sqrt{r}}{r^{3}}\\right]\\right)\\)</html>"
      ],
      "text/latex": [
       "$\\displaystyle \\left(\\left[a_{N} = -\\frac{2 \\, m r_{9}^{2} - {\\left(r_{9}^{2} + 1\\right)} r}{2 \\, r}, b_{N} = \\frac{8 \\, \\kappa m^{2} r r_{9} - 8 \\, \\kappa m r^{2} r_{9} + 2 \\, \\kappa r^{3} r_{9} + {\\left(4 \\, m^{2} r_{9}^{2} - 2 \\, {\\left(2 \\, r_{9}^{2} - 1\\right)} m r + {\\left(r_{9}^{2} - 1\\right)} r^{2}\\right)} \\sqrt{2 \\, \\kappa^{2} m - \\kappa^{2} r + r^{3}} \\sqrt{r}}{2 \\, r^{4}}, c_{N} = \\frac{4 \\, \\kappa m^{2} r_{9}^{2} - 2 \\, {\\left(2 \\, r_{9}^{2} - 1\\right)} \\kappa m r + {\\left(r_{9}^{2} - 1\\right)} \\kappa r^{2} + 2 \\, \\sqrt{2 \\, \\kappa^{2} m - \\kappa^{2} r + r^{3}} {\\left(2 \\, m r_{9} - r r_{9}\\right)} \\sqrt{r}}{2 \\, r^{4}}, a_{2} = r_{9}, b_{2} = -\\frac{2 \\, \\kappa m r - \\kappa r^{2} + \\sqrt{2 \\, \\kappa^{2} m - \\kappa^{2} r + r^{3}} {\\left(2 \\, m r_{9} - r r_{9}\\right)} \\sqrt{r}}{r^{3}}, c_{2} = -\\frac{2 \\, \\kappa m r_{9} - \\kappa r r_{9} + \\sqrt{2 \\, \\kappa^{2} m - \\kappa^{2} r + r^{3}} \\sqrt{r}}{r^{3}}\\right], \\left[a_{N} = -\\frac{2 \\, m r_{10}^{2} - {\\left(r_{10}^{2} + 1\\right)} r}{2 \\, r}, b_{N} = -\\frac{8 \\, \\kappa m^{2} r r_{10} - 8 \\, \\kappa m r^{2} r_{10} + 2 \\, \\kappa r^{3} r_{10} - {\\left(4 \\, m^{2} r_{10}^{2} - 2 \\, {\\left(2 \\, r_{10}^{2} - 1\\right)} m r + {\\left(r_{10}^{2} - 1\\right)} r^{2}\\right)} \\sqrt{2 \\, \\kappa^{2} m - \\kappa^{2} r + r^{3}} \\sqrt{r}}{2 \\, r^{4}}, c_{N} = \\frac{4 \\, \\kappa m^{2} r_{10}^{2} - 2 \\, {\\left(2 \\, r_{10}^{2} - 1\\right)} \\kappa m r + {\\left(r_{10}^{2} - 1\\right)} \\kappa r^{2} - 2 \\, \\sqrt{2 \\, \\kappa^{2} m - \\kappa^{2} r + r^{3}} {\\left(2 \\, m r_{10} - r r_{10}\\right)} \\sqrt{r}}{2 \\, r^{4}}, a_{2} = r_{10}, b_{2} = \\frac{2 \\, \\kappa m r - \\kappa r^{2} - \\sqrt{2 \\, \\kappa^{2} m - \\kappa^{2} r + r^{3}} {\\left(2 \\, m r_{10} - r r_{10}\\right)} \\sqrt{r}}{r^{3}}, c_{2} = -\\frac{2 \\, \\kappa m r_{10} - \\kappa r r_{10} - \\sqrt{2 \\, \\kappa^{2} m - \\kappa^{2} r + r^{3}} \\sqrt{r}}{r^{3}}\\right]\\right)$"
      ],
      "text/plain": [
       "([a_N == -1/2*(2*m*r9^2 - (r9^2 + 1)*r)/r,\n",
       "  b_N == 1/2*(8*kappa*m^2*r*r9 - 8*kappa*m*r^2*r9 + 2*kappa*r^3*r9 + (4*m^2*r9^2 - 2*(2*r9^2 - 1)*m*r + (r9^2 - 1)*r^2)*sqrt(2*kappa^2*m - kappa^2*r + r^3)*sqrt(r))/r^4,\n",
       "  c_N == 1/2*(4*kappa*m^2*r9^2 - 2*(2*r9^2 - 1)*kappa*m*r + (r9^2 - 1)*kappa*r^2 + 2*sqrt(2*kappa^2*m - kappa^2*r + r^3)*(2*m*r9 - r*r9)*sqrt(r))/r^4,\n",
       "  a_2 == r9,\n",
       "  b_2 == -(2*kappa*m*r - kappa*r^2 + sqrt(2*kappa^2*m - kappa^2*r + r^3)*(2*m*r9 - r*r9)*sqrt(r))/r^3,\n",
       "  c_2 == -(2*kappa*m*r9 - kappa*r*r9 + sqrt(2*kappa^2*m - kappa^2*r + r^3)*sqrt(r))/r^3],\n",
       " [a_N == -1/2*(2*m*r10^2 - (r10^2 + 1)*r)/r,\n",
       "  b_N == -1/2*(8*kappa*m^2*r*r10 - 8*kappa*m*r^2*r10 + 2*kappa*r^3*r10 - (4*m^2*r10^2 - 2*(2*r10^2 - 1)*m*r + (r10^2 - 1)*r^2)*sqrt(2*kappa^2*m - kappa^2*r + r^3)*sqrt(r))/r^4,\n",
       "  c_N == 1/2*(4*kappa*m^2*r10^2 - 2*(2*r10^2 - 1)*kappa*m*r + (r10^2 - 1)*kappa*r^2 - 2*sqrt(2*kappa^2*m - kappa^2*r + r^3)*(2*m*r10 - r*r10)*sqrt(r))/r^4,\n",
       "  a_2 == r10,\n",
       "  b_2 == (2*kappa*m*r - kappa*r^2 - sqrt(2*kappa^2*m - kappa^2*r + r^3)*(2*m*r10 - r*r10)*sqrt(r))/r^3,\n",
       "  c_2 == -(2*kappa*m*r10 - kappa*r*r10 - sqrt(2*kappa^2*m - kappa^2*r + r^3)*sqrt(r))/r^3])"
      ]
     },
     "execution_count": 215,
     "metadata": {},
     "output_type": "execute_result"
    }
   ],
   "source": [
    "[sol1, sol2] = solve([eq1, eq2, eq3, eq4, eq5], aN, bN, cN, a2, b2, c2)\n",
    "sol1, sol2"
   ]
  },
  {
   "cell_type": "markdown",
   "id": "7647bbc1",
   "metadata": {},
   "source": [
    "The solutions above are expressed in terms of the variable $r_7 = a_2$ or $r_8 = a_2$. But since the component $a_2$ could be a function of the coordinates, we need to introduce the function $q (t, r, \\theta, \\phi) \\equiv r_7$ (or $r_8$)."
   ]
  },
  {
   "cell_type": "code",
   "execution_count": 216,
   "id": "45300169",
   "metadata": {},
   "outputs": [
    {
     "data": {
      "text/html": [
       "<html>\\(\\displaystyle q\\left(r\\right)\\)</html>"
      ],
      "text/latex": [
       "$\\displaystyle q\\left(r\\right)$"
      ],
      "text/plain": [
       "q(r)"
      ]
     },
     "execution_count": 216,
     "metadata": {},
     "output_type": "execute_result"
    }
   ],
   "source": [
    "q = function('q')(r)\n",
    "q"
   ]
  },
  {
   "cell_type": "code",
   "execution_count": 217,
   "id": "810ec0ea",
   "metadata": {},
   "outputs": [
    {
     "data": {
      "text/html": [
       "<html>\\(\\displaystyle \\left(-\\frac{2 \\, m q\\left(r\\right)^{2} - {\\left(q\\left(r\\right)^{2} + 1\\right)} r}{2 \\, r}, \\frac{8 \\, \\kappa m^{2} r q\\left(r\\right) - 8 \\, \\kappa m r^{2} q\\left(r\\right) + 2 \\, \\kappa r^{3} q\\left(r\\right) + {\\left(4 \\, m^{2} q\\left(r\\right)^{2} - 2 \\, {\\left(2 \\, q\\left(r\\right)^{2} - 1\\right)} m r + {\\left(q\\left(r\\right)^{2} - 1\\right)} r^{2}\\right)} \\sqrt{2 \\, \\kappa^{2} m - \\kappa^{2} r + r^{3}} \\sqrt{r}}{2 \\, r^{4}}, \\frac{4 \\, \\kappa m^{2} q\\left(r\\right)^{2} - 2 \\, {\\left(2 \\, q\\left(r\\right)^{2} - 1\\right)} \\kappa m r + {\\left(q\\left(r\\right)^{2} - 1\\right)} \\kappa r^{2} + 2 \\, \\sqrt{2 \\, \\kappa^{2} m - \\kappa^{2} r + r^{3}} {\\left(2 \\, m q\\left(r\\right) - r q\\left(r\\right)\\right)} \\sqrt{r}}{2 \\, r^{4}}\\right)\\)</html>"
      ],
      "text/latex": [
       "$\\displaystyle \\left(-\\frac{2 \\, m q\\left(r\\right)^{2} - {\\left(q\\left(r\\right)^{2} + 1\\right)} r}{2 \\, r}, \\frac{8 \\, \\kappa m^{2} r q\\left(r\\right) - 8 \\, \\kappa m r^{2} q\\left(r\\right) + 2 \\, \\kappa r^{3} q\\left(r\\right) + {\\left(4 \\, m^{2} q\\left(r\\right)^{2} - 2 \\, {\\left(2 \\, q\\left(r\\right)^{2} - 1\\right)} m r + {\\left(q\\left(r\\right)^{2} - 1\\right)} r^{2}\\right)} \\sqrt{2 \\, \\kappa^{2} m - \\kappa^{2} r + r^{3}} \\sqrt{r}}{2 \\, r^{4}}, \\frac{4 \\, \\kappa m^{2} q\\left(r\\right)^{2} - 2 \\, {\\left(2 \\, q\\left(r\\right)^{2} - 1\\right)} \\kappa m r + {\\left(q\\left(r\\right)^{2} - 1\\right)} \\kappa r^{2} + 2 \\, \\sqrt{2 \\, \\kappa^{2} m - \\kappa^{2} r + r^{3}} {\\left(2 \\, m q\\left(r\\right) - r q\\left(r\\right)\\right)} \\sqrt{r}}{2 \\, r^{4}}\\right)$"
      ],
      "text/plain": [
       "(-1/2*(2*m*q(r)^2 - (q(r)^2 + 1)*r)/r,\n",
       " 1/2*(8*kappa*m^2*r*q(r) - 8*kappa*m*r^2*q(r) + 2*kappa*r^3*q(r) + (4*m^2*q(r)^2 - 2*(2*q(r)^2 - 1)*m*r + (q(r)^2 - 1)*r^2)*sqrt(2*kappa^2*m - kappa^2*r + r^3)*sqrt(r))/r^4,\n",
       " 1/2*(4*kappa*m^2*q(r)^2 - 2*(2*q(r)^2 - 1)*kappa*m*r + (q(r)^2 - 1)*kappa*r^2 + 2*sqrt(2*kappa^2*m - kappa^2*r + r^3)*(2*m*q(r) - r*q(r))*sqrt(r))/r^4)"
      ]
     },
     "execution_count": 217,
     "metadata": {},
     "output_type": "execute_result"
    }
   ],
   "source": [
    "r9, r10 = var('r9, r10')\n",
    "Nt = sol1[0].rhs().subs({r9:q})\n",
    "Nr = sol1[1].rhs().subs({r9:q})\n",
    "Nph = sol1[2].rhs().subs({r9:q})\n",
    "Nt, Nr, Nph"
   ]
  },
  {
   "cell_type": "code",
   "execution_count": 218,
   "id": "434a6b74",
   "metadata": {},
   "outputs": [
    {
     "data": {
      "text/html": [
       "<html>\\(\\displaystyle \\left[-\\frac{2 \\, m q\\left(r\\right)^{2} - {\\left(q\\left(r\\right)^{2} + 1\\right)} r}{2 \\, r}, \\frac{8 \\, \\kappa m^{2} r q\\left(r\\right) - 8 \\, \\kappa m r^{2} q\\left(r\\right) + 2 \\, \\kappa r^{3} q\\left(r\\right) + {\\left(4 \\, m^{2} q\\left(r\\right)^{2} - 2 \\, {\\left(2 \\, q\\left(r\\right)^{2} - 1\\right)} m r + {\\left(q\\left(r\\right)^{2} - 1\\right)} r^{2}\\right)} \\sqrt{2 \\, \\kappa^{2} m - \\kappa^{2} r + r^{3}} \\sqrt{r}}{2 \\, r^{4}}, 0, \\frac{4 \\, \\kappa m^{2} q\\left(r\\right)^{2} - 2 \\, {\\left(2 \\, q\\left(r\\right)^{2} - 1\\right)} \\kappa m r + {\\left(q\\left(r\\right)^{2} - 1\\right)} \\kappa r^{2} + 2 \\, \\sqrt{2 \\, \\kappa^{2} m - \\kappa^{2} r + r^{3}} {\\left(2 \\, m q\\left(r\\right) - r q\\left(r\\right)\\right)} \\sqrt{r}}{2 \\, r^{4}}\\right]\\)</html>"
      ],
      "text/latex": [
       "$\\displaystyle \\left[-\\frac{2 \\, m q\\left(r\\right)^{2} - {\\left(q\\left(r\\right)^{2} + 1\\right)} r}{2 \\, r}, \\frac{8 \\, \\kappa m^{2} r q\\left(r\\right) - 8 \\, \\kappa m r^{2} q\\left(r\\right) + 2 \\, \\kappa r^{3} q\\left(r\\right) + {\\left(4 \\, m^{2} q\\left(r\\right)^{2} - 2 \\, {\\left(2 \\, q\\left(r\\right)^{2} - 1\\right)} m r + {\\left(q\\left(r\\right)^{2} - 1\\right)} r^{2}\\right)} \\sqrt{2 \\, \\kappa^{2} m - \\kappa^{2} r + r^{3}} \\sqrt{r}}{2 \\, r^{4}}, 0, \\frac{4 \\, \\kappa m^{2} q\\left(r\\right)^{2} - 2 \\, {\\left(2 \\, q\\left(r\\right)^{2} - 1\\right)} \\kappa m r + {\\left(q\\left(r\\right)^{2} - 1\\right)} \\kappa r^{2} + 2 \\, \\sqrt{2 \\, \\kappa^{2} m - \\kappa^{2} r + r^{3}} {\\left(2 \\, m q\\left(r\\right) - r q\\left(r\\right)\\right)} \\sqrt{r}}{2 \\, r^{4}}\\right]$"
      ],
      "text/plain": [
       "[-1/2*(2*m*q(r)^2 - (q(r)^2 + 1)*r)/r,\n",
       " 1/2*(8*kappa*m^2*r*q(r) - 8*kappa*m*r^2*q(r) + 2*kappa*r^3*q(r) + (4*m^2*q(r)^2 - 2*(2*q(r)^2 - 1)*m*r + (q(r)^2 - 1)*r^2)*sqrt(2*kappa^2*m - kappa^2*r + r^3)*sqrt(r))/r^4,\n",
       " 0,\n",
       " 1/2*(4*kappa*m^2*q(r)^2 - 2*(2*q(r)^2 - 1)*kappa*m*r + (q(r)^2 - 1)*kappa*r^2 + 2*sqrt(2*kappa^2*m - kappa^2*r + r^3)*(2*m*q(r) - r*q(r))*sqrt(r))/r^4]"
      ]
     },
     "execution_count": 218,
     "metadata": {},
     "output_type": "execute_result"
    }
   ],
   "source": [
    "N[:] = [Nt, Nr, 0, Nph]\n",
    "N[:]"
   ]
  },
  {
   "cell_type": "code",
   "execution_count": 219,
   "id": "5e3140ea",
   "metadata": {},
   "outputs": [
    {
     "data": {
      "text/html": [
       "<html>\\(\\displaystyle \\begin{array}{llcl} g\\left(N,N\\right):& M & \\longrightarrow & \\mathbb{R} \\\\ & \\left(t, r, {\\theta}, {\\phi}\\right) & \\longmapsto & 0 \\end{array}\\)</html>"
      ],
      "text/latex": [
       "$\\displaystyle \\begin{array}{llcl} g\\left(N,N\\right):& M & \\longrightarrow & \\mathbb{R} \\\\ & \\left(t, r, {\\theta}, {\\phi}\\right) & \\longmapsto & 0 \\end{array}$"
      ],
      "text/plain": [
       "g(N,N): M → ℝ\n",
       "   (t, r, th, ph) ↦ 0"
      ]
     },
     "execution_count": 219,
     "metadata": {},
     "output_type": "execute_result"
    }
   ],
   "source": [
    "g(N, N).display()"
   ]
  },
  {
   "cell_type": "code",
   "execution_count": 220,
   "id": "3e67061d",
   "metadata": {},
   "outputs": [
    {
     "data": {
      "text/html": [
       "<html>\\(\\displaystyle \\left[\\frac{\\kappa m \\sqrt{r} q\\left(r\\right) + \\sqrt{2 \\, \\kappa^{2} m - \\kappa^{2} r + r^{3}} {\\left(2 \\, m q\\left(r\\right)^{2} - {\\left(2 \\, m r - r^{2}\\right)} q\\left(r\\right) \\frac{\\partial\\,q}{\\partial r}\\right)}}{r^{\\frac{7}{2}}}, -\\frac{{\\left(2 \\, \\kappa^{2} m^{2} r - \\kappa^{2} m r^{2} + 2 \\, {\\left(4 \\, \\kappa^{2} m^{3} - 4 \\, \\kappa^{2} m^{2} r + \\kappa^{2} m r^{2} + 2 \\, m^{2} r^{3} - m r^{4}\\right)} q\\left(r\\right)^{2} - {\\left(8 \\, \\kappa^{2} m^{3} r - 12 \\, \\kappa^{2} m^{2} r^{2} + 6 \\, \\kappa^{2} m r^{3} - 4 \\, m r^{5} + r^{6} - {\\left(\\kappa^{2} - 4 \\, m^{2}\\right)} r^{4}\\right)} q\\left(r\\right) \\frac{\\partial\\,q}{\\partial r}\\right)} \\sqrt{2 \\, \\kappa^{2} m - \\kappa^{2} r + r^{3}} + {\\left(3 \\, {\\left(4 \\, \\kappa^{3} m^{3} - 4 \\, \\kappa^{3} m^{2} r + \\kappa^{3} m r^{2} + 2 \\, \\kappa m^{2} r^{3} - \\kappa m r^{4}\\right)} q\\left(r\\right) - {\\left(8 \\, \\kappa^{3} m^{3} r - 12 \\, \\kappa^{3} m^{2} r^{2} + 6 \\, \\kappa^{3} m r^{3} - 4 \\, \\kappa m r^{5} + \\kappa r^{6} - {\\left(\\kappa^{3} - 4 \\, \\kappa m^{2}\\right)} r^{4}\\right)} \\frac{\\partial\\,q}{\\partial r}\\right)} \\sqrt{r}}{\\sqrt{2 \\, \\kappa^{2} m - \\kappa^{2} r + r^{3}} r^{6}}, 0, -\\frac{2 \\, \\kappa^{3} m^{2} r - \\kappa^{3} m r^{2} + \\kappa m r^{4} + 2 \\, {\\left(4 \\, \\kappa^{3} m^{3} - 4 \\, \\kappa^{3} m^{2} r + \\kappa^{3} m r^{2} + 2 \\, \\kappa m^{2} r^{3} - \\kappa m r^{4}\\right)} q\\left(r\\right)^{2} - {\\left(8 \\, \\kappa^{3} m^{3} r - 12 \\, \\kappa^{3} m^{2} r^{2} + 6 \\, \\kappa^{3} m r^{3} - 4 \\, \\kappa m r^{5} + \\kappa r^{6} - {\\left(\\kappa^{3} - 4 \\, \\kappa m^{2}\\right)} r^{4}\\right)} q\\left(r\\right) \\frac{\\partial\\,q}{\\partial r} + \\sqrt{2 \\, \\kappa^{2} m - \\kappa^{2} r + r^{3}} {\\left({\\left(6 \\, \\kappa^{2} m^{2} - 3 \\, \\kappa^{2} m r + 2 \\, m r^{3}\\right)} q\\left(r\\right) - {\\left(4 \\, \\kappa^{2} m^{2} r - 4 \\, \\kappa^{2} m r^{2} + \\kappa^{2} r^{3} + 2 \\, m r^{4} - r^{5}\\right)} \\frac{\\partial\\,q}{\\partial r}\\right)} \\sqrt{r}}{\\sqrt{2 \\, \\kappa^{2} m - \\kappa^{2} r + r^{3}} r^{\\frac{13}{2}}}\\right]\\)</html>"
      ],
      "text/latex": [
       "$\\displaystyle \\left[\\frac{\\kappa m \\sqrt{r} q\\left(r\\right) + \\sqrt{2 \\, \\kappa^{2} m - \\kappa^{2} r + r^{3}} {\\left(2 \\, m q\\left(r\\right)^{2} - {\\left(2 \\, m r - r^{2}\\right)} q\\left(r\\right) \\frac{\\partial\\,q}{\\partial r}\\right)}}{r^{\\frac{7}{2}}}, -\\frac{{\\left(2 \\, \\kappa^{2} m^{2} r - \\kappa^{2} m r^{2} + 2 \\, {\\left(4 \\, \\kappa^{2} m^{3} - 4 \\, \\kappa^{2} m^{2} r + \\kappa^{2} m r^{2} + 2 \\, m^{2} r^{3} - m r^{4}\\right)} q\\left(r\\right)^{2} - {\\left(8 \\, \\kappa^{2} m^{3} r - 12 \\, \\kappa^{2} m^{2} r^{2} + 6 \\, \\kappa^{2} m r^{3} - 4 \\, m r^{5} + r^{6} - {\\left(\\kappa^{2} - 4 \\, m^{2}\\right)} r^{4}\\right)} q\\left(r\\right) \\frac{\\partial\\,q}{\\partial r}\\right)} \\sqrt{2 \\, \\kappa^{2} m - \\kappa^{2} r + r^{3}} + {\\left(3 \\, {\\left(4 \\, \\kappa^{3} m^{3} - 4 \\, \\kappa^{3} m^{2} r + \\kappa^{3} m r^{2} + 2 \\, \\kappa m^{2} r^{3} - \\kappa m r^{4}\\right)} q\\left(r\\right) - {\\left(8 \\, \\kappa^{3} m^{3} r - 12 \\, \\kappa^{3} m^{2} r^{2} + 6 \\, \\kappa^{3} m r^{3} - 4 \\, \\kappa m r^{5} + \\kappa r^{6} - {\\left(\\kappa^{3} - 4 \\, \\kappa m^{2}\\right)} r^{4}\\right)} \\frac{\\partial\\,q}{\\partial r}\\right)} \\sqrt{r}}{\\sqrt{2 \\, \\kappa^{2} m - \\kappa^{2} r + r^{3}} r^{6}}, 0, -\\frac{2 \\, \\kappa^{3} m^{2} r - \\kappa^{3} m r^{2} + \\kappa m r^{4} + 2 \\, {\\left(4 \\, \\kappa^{3} m^{3} - 4 \\, \\kappa^{3} m^{2} r + \\kappa^{3} m r^{2} + 2 \\, \\kappa m^{2} r^{3} - \\kappa m r^{4}\\right)} q\\left(r\\right)^{2} - {\\left(8 \\, \\kappa^{3} m^{3} r - 12 \\, \\kappa^{3} m^{2} r^{2} + 6 \\, \\kappa^{3} m r^{3} - 4 \\, \\kappa m r^{5} + \\kappa r^{6} - {\\left(\\kappa^{3} - 4 \\, \\kappa m^{2}\\right)} r^{4}\\right)} q\\left(r\\right) \\frac{\\partial\\,q}{\\partial r} + \\sqrt{2 \\, \\kappa^{2} m - \\kappa^{2} r + r^{3}} {\\left({\\left(6 \\, \\kappa^{2} m^{2} - 3 \\, \\kappa^{2} m r + 2 \\, m r^{3}\\right)} q\\left(r\\right) - {\\left(4 \\, \\kappa^{2} m^{2} r - 4 \\, \\kappa^{2} m r^{2} + \\kappa^{2} r^{3} + 2 \\, m r^{4} - r^{5}\\right)} \\frac{\\partial\\,q}{\\partial r}\\right)} \\sqrt{r}}{\\sqrt{2 \\, \\kappa^{2} m - \\kappa^{2} r + r^{3}} r^{\\frac{13}{2}}}\\right]$"
      ],
      "text/plain": [
       "[(kappa*m*sqrt(r)*q(r) + sqrt(2*kappa^2*m - kappa^2*r + r^3)*(2*m*q(r)^2 - (2*m*r - r^2)*q(r)*d(q)/dr))/r^(7/2),\n",
       " -((2*kappa^2*m^2*r - kappa^2*m*r^2 + 2*(4*kappa^2*m^3 - 4*kappa^2*m^2*r + kappa^2*m*r^2 + 2*m^2*r^3 - m*r^4)*q(r)^2 - (8*kappa^2*m^3*r - 12*kappa^2*m^2*r^2 + 6*kappa^2*m*r^3 - 4*m*r^5 + r^6 - (kappa^2 - 4*m^2)*r^4)*q(r)*d(q)/dr)*sqrt(2*kappa^2*m - kappa^2*r + r^3) + (3*(4*kappa^3*m^3 - 4*kappa^3*m^2*r + kappa^3*m*r^2 + 2*kappa*m^2*r^3 - kappa*m*r^4)*q(r) - (8*kappa^3*m^3*r - 12*kappa^3*m^2*r^2 + 6*kappa^3*m*r^3 - 4*kappa*m*r^5 + kappa*r^6 - (kappa^3 - 4*kappa*m^2)*r^4)*d(q)/dr)*sqrt(r))/(sqrt(2*kappa^2*m - kappa^2*r + r^3)*r^6),\n",
       " 0,\n",
       " -(2*kappa^3*m^2*r - kappa^3*m*r^2 + kappa*m*r^4 + 2*(4*kappa^3*m^3 - 4*kappa^3*m^2*r + kappa^3*m*r^2 + 2*kappa*m^2*r^3 - kappa*m*r^4)*q(r)^2 - (8*kappa^3*m^3*r - 12*kappa^3*m^2*r^2 + 6*kappa^3*m*r^3 - 4*kappa*m*r^5 + kappa*r^6 - (kappa^3 - 4*kappa*m^2)*r^4)*q(r)*d(q)/dr + sqrt(2*kappa^2*m - kappa^2*r + r^3)*((6*kappa^2*m^2 - 3*kappa^2*m*r + 2*m*r^3)*q(r) - (4*kappa^2*m^2*r - 4*kappa^2*m*r^2 + kappa^2*r^3 + 2*m*r^4 - r^5)*d(q)/dr)*sqrt(r))/(sqrt(2*kappa^2*m - kappa^2*r + r^3)*r^(13/2))]"
      ]
     },
     "execution_count": 220,
     "metadata": {},
     "output_type": "execute_result"
    }
   ],
   "source": [
    "Ds_N = (D_cov_eq(N)).contract(Zdot)\n",
    "Ds_N[:]"
   ]
  },
  {
   "cell_type": "code",
   "execution_count": 221,
   "id": "92bba46f",
   "metadata": {},
   "outputs": [
    {
     "data": {
      "text/html": [
       "<html>\\(\\displaystyle \\kappa m \\sqrt{r} + \\sqrt{2 \\, \\kappa^{2} m - \\kappa^{2} r + r^{3}} {\\left(2 \\, m q\\left(r\\right) - {\\left(2 \\, m r - r^{2}\\right)} \\frac{\\partial}{\\partial r}q\\left(r\\right)\\right)} = 0\\)</html>"
      ],
      "text/latex": [
       "$\\displaystyle \\kappa m \\sqrt{r} + \\sqrt{2 \\, \\kappa^{2} m - \\kappa^{2} r + r^{3}} {\\left(2 \\, m q\\left(r\\right) - {\\left(2 \\, m r - r^{2}\\right)} \\frac{\\partial}{\\partial r}q\\left(r\\right)\\right)} = 0$"
      ],
      "text/plain": [
       "kappa*m*sqrt(r) + sqrt(2*kappa^2*m - kappa^2*r + r^3)*(2*m*q(r) - (2*m*r - r^2)*diff(q(r), r)) == 0"
      ]
     },
     "execution_count": 221,
     "metadata": {},
     "output_type": "execute_result"
    }
   ],
   "source": [
    "accN_t_eq1 = Ds_N[0].expr() == 0\n",
    "accN_t_eq2 = (accN_t_eq1*r^(7/2)/q).simplify_full()\n",
    "accN_t_eq2"
   ]
  },
  {
   "cell_type": "code",
   "execution_count": 223,
   "id": "45607969",
   "metadata": {},
   "outputs": [
    {
     "data": {
      "text/html": [
       "<html>\\(\\displaystyle -\\frac{\\partial}{\\partial r}q\\left(r\\right) = -\\frac{\\frac{\\kappa m \\sqrt{r}}{\\sqrt{2 \\, \\kappa^{2} m - \\kappa^{2} r + r^{3}}} + 2 \\, m q\\left(r\\right)}{2 \\, m r - r^{2}}\\)</html>"
      ],
      "text/latex": [
       "$\\displaystyle -\\frac{\\partial}{\\partial r}q\\left(r\\right) = -\\frac{\\frac{\\kappa m \\sqrt{r}}{\\sqrt{2 \\, \\kappa^{2} m - \\kappa^{2} r + r^{3}}} + 2 \\, m q\\left(r\\right)}{2 \\, m r - r^{2}}$"
      ],
      "text/plain": [
       "-diff(q(r), r) == -(kappa*m*sqrt(r)/sqrt(2*kappa^2*m - kappa^2*r + r^3) + 2*m*q(r))/(2*m*r - r^2)"
      ]
     },
     "execution_count": 223,
     "metadata": {},
     "output_type": "execute_result"
    }
   ],
   "source": [
    "accN_t_eq3 = (((accN_t_eq2 - kap*m*sqrt(r))/sqrt(2*kap^2*m - kap^2*r + r^3) - 2*m*q)/(2*m*r - r^2))\n",
    "accN_t_eq3"
   ]
  },
  {
   "cell_type": "code",
   "execution_count": 224,
   "id": "abbacf84",
   "metadata": {},
   "outputs": [
    {
     "data": {
      "text/html": [
       "<html>\\(\\displaystyle -{\\left(\\kappa m \\int -\\frac{\\sqrt{r} e^{\\left(m {\\left(\\frac{\\log\\left(-2 \\, m + r\\right)}{m} - \\frac{\\log\\left(r\\right)}{m}\\right)}\\right)}}{\\sqrt{2 \\, \\kappa^{2} m - \\kappa^{2} r + r^{3}} {\\left(2 \\, m r - r^{2}\\right)}}\\,{d r} - C\\right)} e^{\\left(-m {\\left(\\frac{\\log\\left(-2 \\, m + r\\right)}{m} - \\frac{\\log\\left(r\\right)}{m}\\right)}\\right)}\\)</html>"
      ],
      "text/latex": [
       "$\\displaystyle -{\\left(\\kappa m \\int -\\frac{\\sqrt{r} e^{\\left(m {\\left(\\frac{\\log\\left(-2 \\, m + r\\right)}{m} - \\frac{\\log\\left(r\\right)}{m}\\right)}\\right)}}{\\sqrt{2 \\, \\kappa^{2} m - \\kappa^{2} r + r^{3}} {\\left(2 \\, m r - r^{2}\\right)}}\\,{d r} - C\\right)} e^{\\left(-m {\\left(\\frac{\\log\\left(-2 \\, m + r\\right)}{m} - \\frac{\\log\\left(r\\right)}{m}\\right)}\\right)}$"
      ],
      "text/plain": [
       "-(kappa*m*integrate(-sqrt(r)*e^(m*(log(-2*m + r)/m - log(r)/m))/(sqrt(2*kappa^2*m - kappa^2*r + r^3)*(2*m*r - r^2)), r) - _C)*e^(-m*(log(-2*m + r)/m - log(r)/m))"
      ]
     },
     "execution_count": 224,
     "metadata": {},
     "output_type": "execute_result"
    }
   ],
   "source": [
    "desolve(accN_t_eq3, q, ivar=r)"
   ]
  },
  {
   "cell_type": "code",
   "execution_count": 225,
   "id": "a94ef395",
   "metadata": {},
   "outputs": [
    {
     "data": {
      "text/html": [
       "<html>\\(\\displaystyle \\left(q\\left(r\\right), -\\frac{2 \\, \\kappa m r - \\kappa r^{2} + \\sqrt{2 \\, \\kappa^{2} m - \\kappa^{2} r + r^{3}} {\\left(2 \\, m q\\left(r\\right) - r q\\left(r\\right)\\right)} \\sqrt{r}}{r^{3}}, -\\frac{2 \\, \\kappa m q\\left(r\\right) - \\kappa r q\\left(r\\right) + \\sqrt{2 \\, \\kappa^{2} m - \\kappa^{2} r + r^{3}} \\sqrt{r}}{r^{3}}\\right)\\)</html>"
      ],
      "text/latex": [
       "$\\displaystyle \\left(q\\left(r\\right), -\\frac{2 \\, \\kappa m r - \\kappa r^{2} + \\sqrt{2 \\, \\kappa^{2} m - \\kappa^{2} r + r^{3}} {\\left(2 \\, m q\\left(r\\right) - r q\\left(r\\right)\\right)} \\sqrt{r}}{r^{3}}, -\\frac{2 \\, \\kappa m q\\left(r\\right) - \\kappa r q\\left(r\\right) + \\sqrt{2 \\, \\kappa^{2} m - \\kappa^{2} r + r^{3}} \\sqrt{r}}{r^{3}}\\right)$"
      ],
      "text/plain": [
       "(q(r),\n",
       " -(2*kappa*m*r - kappa*r^2 + sqrt(2*kappa^2*m - kappa^2*r + r^3)*(2*m*q(r) - r*q(r))*sqrt(r))/r^3,\n",
       " -(2*kappa*m*q(r) - kappa*r*q(r) + sqrt(2*kappa^2*m - kappa^2*r + r^3)*sqrt(r))/r^3)"
      ]
     },
     "execution_count": 225,
     "metadata": {},
     "output_type": "execute_result"
    }
   ],
   "source": [
    "E2t = sol1[3].rhs().subs({r9:q})\n",
    "E2r = sol1[4].rhs().subs({r9:q})\n",
    "E2ph = sol1[5].rhs().subs({r9:q})\n",
    "E2t, E2r, E2ph"
   ]
  },
  {
   "cell_type": "code",
   "execution_count": 226,
   "id": "d0c6718b",
   "metadata": {},
   "outputs": [
    {
     "data": {
      "text/html": [
       "<html>\\(\\displaystyle \\left[q\\left(r\\right), -\\frac{2 \\, \\kappa m r - \\kappa r^{2} + \\sqrt{2 \\, \\kappa^{2} m - \\kappa^{2} r + r^{3}} {\\left(2 \\, m q\\left(r\\right) - r q\\left(r\\right)\\right)} \\sqrt{r}}{r^{3}}, 0, -\\frac{2 \\, \\kappa m q\\left(r\\right) - \\kappa r q\\left(r\\right) + \\sqrt{2 \\, \\kappa^{2} m - \\kappa^{2} r + r^{3}} \\sqrt{r}}{r^{3}}\\right]\\)</html>"
      ],
      "text/latex": [
       "$\\displaystyle \\left[q\\left(r\\right), -\\frac{2 \\, \\kappa m r - \\kappa r^{2} + \\sqrt{2 \\, \\kappa^{2} m - \\kappa^{2} r + r^{3}} {\\left(2 \\, m q\\left(r\\right) - r q\\left(r\\right)\\right)} \\sqrt{r}}{r^{3}}, 0, -\\frac{2 \\, \\kappa m q\\left(r\\right) - \\kappa r q\\left(r\\right) + \\sqrt{2 \\, \\kappa^{2} m - \\kappa^{2} r + r^{3}} \\sqrt{r}}{r^{3}}\\right]$"
      ],
      "text/plain": [
       "[q(r),\n",
       " -(2*kappa*m*r - kappa*r^2 + sqrt(2*kappa^2*m - kappa^2*r + r^3)*(2*m*q(r) - r*q(r))*sqrt(r))/r^3,\n",
       " 0,\n",
       " -(2*kappa*m*q(r) - kappa*r*q(r) + sqrt(2*kappa^2*m - kappa^2*r + r^3)*sqrt(r))/r^3]"
      ]
     },
     "execution_count": 226,
     "metadata": {},
     "output_type": "execute_result"
    }
   ],
   "source": [
    "E2[:] = [E2t, E2r, 0, E2ph]\n",
    "E2[:]"
   ]
  },
  {
   "cell_type": "code",
   "execution_count": 227,
   "id": "203e3cc4",
   "metadata": {},
   "outputs": [
    {
     "data": {
      "text/html": [
       "<html>\\(\\displaystyle \\begin{array}{llcl} g\\left(E_2,E_2\\right):& M & \\longrightarrow & \\mathbb{R} \\\\ & \\left(t, r, {\\theta}, {\\phi}\\right) & \\longmapsto & 1 \\end{array}\\)</html>"
      ],
      "text/latex": [
       "$\\displaystyle \\begin{array}{llcl} g\\left(E_2,E_2\\right):& M & \\longrightarrow & \\mathbb{R} \\\\ & \\left(t, r, {\\theta}, {\\phi}\\right) & \\longmapsto & 1 \\end{array}$"
      ],
      "text/plain": [
       "g(E_2,E_2): M → ℝ\n",
       "   (t, r, th, ph) ↦ 1"
      ]
     },
     "execution_count": 227,
     "metadata": {},
     "output_type": "execute_result"
    }
   ],
   "source": [
    "g(E2, E2).display()"
   ]
  },
  {
   "cell_type": "code",
   "execution_count": 228,
   "id": "c9818038",
   "metadata": {},
   "outputs": [
    {
     "data": {
      "text/html": [
       "<html>\\(\\displaystyle \\left[-\\frac{\\kappa m \\sqrt{r} + \\sqrt{2 \\, \\kappa^{2} m - \\kappa^{2} r + r^{3}} {\\left(2 \\, m q\\left(r\\right) - {\\left(2 \\, m r - r^{2}\\right)} \\frac{\\partial\\,q}{\\partial r}\\right)}}{{\\left(2 \\, m r^{2} - r^{3}\\right)} \\sqrt{r}}, \\frac{\\sqrt{2 \\, \\kappa^{2} m - \\kappa^{2} r + r^{3}} {\\left(2 \\, {\\left(2 \\, \\kappa^{2} m^{2} - \\kappa^{2} m r + m r^{3}\\right)} q\\left(r\\right) - {\\left(4 \\, \\kappa^{2} m^{2} r - 4 \\, \\kappa^{2} m r^{2} + \\kappa^{2} r^{3} + 2 \\, m r^{4} - r^{5}\\right)} \\frac{\\partial\\,q}{\\partial r}\\right)} + {\\left(2 \\, \\kappa^{3} m^{2} - \\kappa^{3} m r + \\kappa m r^{3}\\right)} \\sqrt{r}}{\\sqrt{2 \\, \\kappa^{2} m - \\kappa^{2} r + r^{3}} r^{5}}, 0, \\frac{\\sqrt{2 \\, \\kappa^{2} m - \\kappa^{2} r + r^{3}} \\kappa^{2} m \\sqrt{r} + 2 \\, {\\left(2 \\, \\kappa^{3} m^{2} - \\kappa^{3} m r + \\kappa m r^{3}\\right)} q\\left(r\\right) - {\\left(4 \\, \\kappa^{3} m^{2} r - 4 \\, \\kappa^{3} m r^{2} + \\kappa^{3} r^{3} + 2 \\, \\kappa m r^{4} - \\kappa r^{5}\\right)} \\frac{\\partial\\,q}{\\partial r}}{\\sqrt{2 \\, \\kappa^{2} m - \\kappa^{2} r + r^{3}} r^{\\frac{11}{2}}}\\right]\\)</html>"
      ],
      "text/latex": [
       "$\\displaystyle \\left[-\\frac{\\kappa m \\sqrt{r} + \\sqrt{2 \\, \\kappa^{2} m - \\kappa^{2} r + r^{3}} {\\left(2 \\, m q\\left(r\\right) - {\\left(2 \\, m r - r^{2}\\right)} \\frac{\\partial\\,q}{\\partial r}\\right)}}{{\\left(2 \\, m r^{2} - r^{3}\\right)} \\sqrt{r}}, \\frac{\\sqrt{2 \\, \\kappa^{2} m - \\kappa^{2} r + r^{3}} {\\left(2 \\, {\\left(2 \\, \\kappa^{2} m^{2} - \\kappa^{2} m r + m r^{3}\\right)} q\\left(r\\right) - {\\left(4 \\, \\kappa^{2} m^{2} r - 4 \\, \\kappa^{2} m r^{2} + \\kappa^{2} r^{3} + 2 \\, m r^{4} - r^{5}\\right)} \\frac{\\partial\\,q}{\\partial r}\\right)} + {\\left(2 \\, \\kappa^{3} m^{2} - \\kappa^{3} m r + \\kappa m r^{3}\\right)} \\sqrt{r}}{\\sqrt{2 \\, \\kappa^{2} m - \\kappa^{2} r + r^{3}} r^{5}}, 0, \\frac{\\sqrt{2 \\, \\kappa^{2} m - \\kappa^{2} r + r^{3}} \\kappa^{2} m \\sqrt{r} + 2 \\, {\\left(2 \\, \\kappa^{3} m^{2} - \\kappa^{3} m r + \\kappa m r^{3}\\right)} q\\left(r\\right) - {\\left(4 \\, \\kappa^{3} m^{2} r - 4 \\, \\kappa^{3} m r^{2} + \\kappa^{3} r^{3} + 2 \\, \\kappa m r^{4} - \\kappa r^{5}\\right)} \\frac{\\partial\\,q}{\\partial r}}{\\sqrt{2 \\, \\kappa^{2} m - \\kappa^{2} r + r^{3}} r^{\\frac{11}{2}}}\\right]$"
      ],
      "text/plain": [
       "[-(kappa*m*sqrt(r) + sqrt(2*kappa^2*m - kappa^2*r + r^3)*(2*m*q(r) - (2*m*r - r^2)*d(q)/dr))/((2*m*r^2 - r^3)*sqrt(r)),\n",
       " (sqrt(2*kappa^2*m - kappa^2*r + r^3)*(2*(2*kappa^2*m^2 - kappa^2*m*r + m*r^3)*q(r) - (4*kappa^2*m^2*r - 4*kappa^2*m*r^2 + kappa^2*r^3 + 2*m*r^4 - r^5)*d(q)/dr) + (2*kappa^3*m^2 - kappa^3*m*r + kappa*m*r^3)*sqrt(r))/(sqrt(2*kappa^2*m - kappa^2*r + r^3)*r^5),\n",
       " 0,\n",
       " (sqrt(2*kappa^2*m - kappa^2*r + r^3)*kappa^2*m*sqrt(r) + 2*(2*kappa^3*m^2 - kappa^3*m*r + kappa*m*r^3)*q(r) - (4*kappa^3*m^2*r - 4*kappa^3*m*r^2 + kappa^3*r^3 + 2*kappa*m*r^4 - kappa*r^5)*d(q)/dr)/(sqrt(2*kappa^2*m - kappa^2*r + r^3)*r^(11/2))]"
      ]
     },
     "execution_count": 228,
     "metadata": {},
     "output_type": "execute_result"
    }
   ],
   "source": [
    "accE2 = (D_cov_eq(E2)).contract(Zdot)\n",
    "accE2[:]"
   ]
  },
  {
   "cell_type": "code",
   "execution_count": 229,
   "id": "aed9d8e1",
   "metadata": {},
   "outputs": [
    {
     "data": {
      "text/html": [
       "<html>\\(\\displaystyle \\left(\\left[-\\frac{1}{\\frac{2 \\, m}{r} - 1}, \\sqrt{\\frac{\\kappa^{2} {\\left(\\frac{2 \\, m}{r} - 1\\right)}}{r^{2}} + 1}, 0, \\frac{\\kappa}{r^{2}}\\right], \\left[-\\frac{2 \\, m q\\left(r\\right)^{2} - {\\left(q\\left(r\\right)^{2} + 1\\right)} r}{2 \\, r}, \\frac{8 \\, \\kappa m^{2} r q\\left(r\\right) - 8 \\, \\kappa m r^{2} q\\left(r\\right) + 2 \\, \\kappa r^{3} q\\left(r\\right) + {\\left(4 \\, m^{2} q\\left(r\\right)^{2} - 2 \\, {\\left(2 \\, q\\left(r\\right)^{2} - 1\\right)} m r + {\\left(q\\left(r\\right)^{2} - 1\\right)} r^{2}\\right)} \\sqrt{2 \\, \\kappa^{2} m - \\kappa^{2} r + r^{3}} \\sqrt{r}}{2 \\, r^{4}}, 0, \\frac{4 \\, \\kappa m^{2} q\\left(r\\right)^{2} - 2 \\, {\\left(2 \\, q\\left(r\\right)^{2} - 1\\right)} \\kappa m r + {\\left(q\\left(r\\right)^{2} - 1\\right)} \\kappa r^{2} + 2 \\, \\sqrt{2 \\, \\kappa^{2} m - \\kappa^{2} r + r^{3}} {\\left(2 \\, m q\\left(r\\right) - r q\\left(r\\right)\\right)} \\sqrt{r}}{2 \\, r^{4}}\\right], \\left[0, 0, \\frac{1}{r}, 0\\right], \\left[q\\left(r\\right), -\\frac{2 \\, \\kappa m r - \\kappa r^{2} + \\sqrt{2 \\, \\kappa^{2} m - \\kappa^{2} r + r^{3}} {\\left(2 \\, m q\\left(r\\right) - r q\\left(r\\right)\\right)} \\sqrt{r}}{r^{3}}, 0, -\\frac{2 \\, \\kappa m q\\left(r\\right) - \\kappa r q\\left(r\\right) + \\sqrt{2 \\, \\kappa^{2} m - \\kappa^{2} r + r^{3}} \\sqrt{r}}{r^{3}}\\right]\\right)\\)</html>"
      ],
      "text/latex": [
       "$\\displaystyle \\left(\\left[-\\frac{1}{\\frac{2 \\, m}{r} - 1}, \\sqrt{\\frac{\\kappa^{2} {\\left(\\frac{2 \\, m}{r} - 1\\right)}}{r^{2}} + 1}, 0, \\frac{\\kappa}{r^{2}}\\right], \\left[-\\frac{2 \\, m q\\left(r\\right)^{2} - {\\left(q\\left(r\\right)^{2} + 1\\right)} r}{2 \\, r}, \\frac{8 \\, \\kappa m^{2} r q\\left(r\\right) - 8 \\, \\kappa m r^{2} q\\left(r\\right) + 2 \\, \\kappa r^{3} q\\left(r\\right) + {\\left(4 \\, m^{2} q\\left(r\\right)^{2} - 2 \\, {\\left(2 \\, q\\left(r\\right)^{2} - 1\\right)} m r + {\\left(q\\left(r\\right)^{2} - 1\\right)} r^{2}\\right)} \\sqrt{2 \\, \\kappa^{2} m - \\kappa^{2} r + r^{3}} \\sqrt{r}}{2 \\, r^{4}}, 0, \\frac{4 \\, \\kappa m^{2} q\\left(r\\right)^{2} - 2 \\, {\\left(2 \\, q\\left(r\\right)^{2} - 1\\right)} \\kappa m r + {\\left(q\\left(r\\right)^{2} - 1\\right)} \\kappa r^{2} + 2 \\, \\sqrt{2 \\, \\kappa^{2} m - \\kappa^{2} r + r^{3}} {\\left(2 \\, m q\\left(r\\right) - r q\\left(r\\right)\\right)} \\sqrt{r}}{2 \\, r^{4}}\\right], \\left[0, 0, \\frac{1}{r}, 0\\right], \\left[q\\left(r\\right), -\\frac{2 \\, \\kappa m r - \\kappa r^{2} + \\sqrt{2 \\, \\kappa^{2} m - \\kappa^{2} r + r^{3}} {\\left(2 \\, m q\\left(r\\right) - r q\\left(r\\right)\\right)} \\sqrt{r}}{r^{3}}, 0, -\\frac{2 \\, \\kappa m q\\left(r\\right) - \\kappa r q\\left(r\\right) + \\sqrt{2 \\, \\kappa^{2} m - \\kappa^{2} r + r^{3}} \\sqrt{r}}{r^{3}}\\right]\\right)$"
      ],
      "text/plain": [
       "([-1/(2*m/r - 1), sqrt(kappa^2*(2*m/r - 1)/r^2 + 1), 0, kappa/r^2],\n",
       " [-1/2*(2*m*q(r)^2 - (q(r)^2 + 1)*r)/r,\n",
       "  1/2*(8*kappa*m^2*r*q(r) - 8*kappa*m*r^2*q(r) + 2*kappa*r^3*q(r) + (4*m^2*q(r)^2 - 2*(2*q(r)^2 - 1)*m*r + (q(r)^2 - 1)*r^2)*sqrt(2*kappa^2*m - kappa^2*r + r^3)*sqrt(r))/r^4,\n",
       "  0,\n",
       "  1/2*(4*kappa*m^2*q(r)^2 - 2*(2*q(r)^2 - 1)*kappa*m*r + (q(r)^2 - 1)*kappa*r^2 + 2*sqrt(2*kappa^2*m - kappa^2*r + r^3)*(2*m*q(r) - r*q(r))*sqrt(r))/r^4],\n",
       " [0, 0, 1/r, 0],\n",
       " [q(r),\n",
       "  -(2*kappa*m*r - kappa*r^2 + sqrt(2*kappa^2*m - kappa^2*r + r^3)*(2*m*q(r) - r*q(r))*sqrt(r))/r^3,\n",
       "  0,\n",
       "  -(2*kappa*m*q(r) - kappa*r*q(r) + sqrt(2*kappa^2*m - kappa^2*r + r^3)*sqrt(r))/r^3])"
      ]
     },
     "execution_count": 229,
     "metadata": {},
     "output_type": "execute_result"
    }
   ],
   "source": [
    "Zdot[:], N[:], E1[:], E2[:]"
   ]
  },
  {
   "cell_type": "code",
   "execution_count": 230,
   "id": "46832104",
   "metadata": {},
   "outputs": [
    {
     "data": {
      "text/html": [
       "<html>\\(\\displaystyle \\left[-1, -\\frac{\\sqrt{2 \\, \\kappa^{2} m - \\kappa^{2} r + r^{3}}}{{\\left(2 \\, m - r\\right)} \\sqrt{r}}, 0, \\kappa\\right]\\)</html>"
      ],
      "text/latex": [
       "$\\displaystyle \\left[-1, -\\frac{\\sqrt{2 \\, \\kappa^{2} m - \\kappa^{2} r + r^{3}}}{{\\left(2 \\, m - r\\right)} \\sqrt{r}}, 0, \\kappa\\right]$"
      ],
      "text/plain": [
       "[-1, -sqrt(2*kappa^2*m - kappa^2*r + r^3)/((2*m - r)*sqrt(r)), 0, kappa]"
      ]
     },
     "execution_count": 230,
     "metadata": {},
     "output_type": "execute_result"
    }
   ],
   "source": [
    "Zdot_down = Zdot.down(g)\n",
    "Zdot_down[:]"
   ]
  },
  {
   "cell_type": "code",
   "execution_count": 231,
   "id": "2002b01d",
   "metadata": {},
   "outputs": [
    {
     "data": {
      "text/html": [
       "<html>\\(\\displaystyle \\left(-\\frac{3 \\, \\kappa^{2} m}{r^{5}}, 0, \\frac{3 \\, \\kappa^{2} m}{r^{5}}\\right)\\)</html>"
      ],
      "text/latex": [
       "$\\displaystyle \\left(-\\frac{3 \\, \\kappa^{2} m}{r^{5}}, 0, \\frac{3 \\, \\kappa^{2} m}{r^{5}}\\right)$"
      ],
      "text/plain": [
       "(-3*kappa^2*m/r^5, 0, 3*kappa^2*m/r^5)"
      ]
     },
     "execution_count": 231,
     "metadata": {},
     "output_type": "execute_result"
    }
   ],
   "source": [
    "pw11 = riem(Zdot_down, E1, E1, Zdot).expr()\n",
    "pw12 = riem(Zdot_down, E1, E2, Zdot).expr()\n",
    "pw22 = riem(Zdot_down, E2, E2, Zdot).expr()\n",
    "pw11, pw12, pw22"
   ]
  },
  {
   "cell_type": "markdown",
   "id": "3dcf1ed1",
   "metadata": {},
   "source": [
    "Thus we see that the Penrose limit spacetime is described by a traceless waveform matrix, in accordance with what we expect, since the exterior Schwarzschild spacetime is a vacuum solution to the Einstein Field Equations. Furthermore, if the reference null geodesic is radial ($\\kappa = 0$), then the Penrose limit spacetime is flat space, since all components of the waveform matrix vanish identically.\n",
    "\n",
    "Essentially, this analysis tells us how to construct the parallel-propagated quasi-null frame $(\\dot{Z}, N, E_i)$ for the case when the angular momentum of the timelike curves scales with their energies $l = \\kappa E = \\kappa / \\epsilon$. We see that\n",
    "$\n",
    "\\dot{Z} = \n",
    "$"
   ]
  },
  {
   "cell_type": "code",
   "execution_count": null,
   "id": "a4549772",
   "metadata": {},
   "outputs": [],
   "source": []
  }
 ],
 "metadata": {
  "kernelspec": {
   "display_name": "SageMath 9.7",
   "language": "sage",
   "name": "sagemath"
  },
  "language_info": {
   "codemirror_mode": {
    "name": "ipython",
    "version": 3
   },
   "file_extension": ".py",
   "mimetype": "text/x-python",
   "name": "python",
   "nbconvert_exporter": "python",
   "pygments_lexer": "ipython3",
   "version": "3.8.10"
  }
 },
 "nbformat": 4,
 "nbformat_minor": 5
}
