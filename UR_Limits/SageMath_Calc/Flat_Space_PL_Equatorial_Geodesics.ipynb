{
 "cells": [
  {
   "cell_type": "markdown",
   "id": "2d502dac",
   "metadata": {},
   "source": [
    "We would like to explicitly analyse how Killing fields map from the original spacetime into the Penrose limit, as well as how the limiting fields can be lifted back to the full spacetime. As a case study, we will look at radial geodesics in the equatorial submanifold of Minkowski spacetime."
   ]
  },
  {
   "cell_type": "code",
   "execution_count": 509,
   "id": "7c5e7c26",
   "metadata": {},
   "outputs": [],
   "source": [
    "%display latex"
   ]
  },
  {
   "cell_type": "code",
   "execution_count": 797,
   "id": "29dd48fa",
   "metadata": {},
   "outputs": [
    {
     "data": {
      "text/html": [
       "<html>\\(\\displaystyle \\left(\\begin{array}{rrrr}\n",
       "-1 & 0 & 0 & 0 \\\\\n",
       "0 & 1 & 0 & 0 \\\\\n",
       "0 & 0 & r^{2} & 0 \\\\\n",
       "0 & 0 & 0 & r^{2} \\sin\\left({\\theta}\\right)^{2}\n",
       "\\end{array}\\right)\\)</html>"
      ],
      "text/latex": [
       "$\\displaystyle \\left(\\begin{array}{rrrr}\n",
       "-1 & 0 & 0 & 0 \\\\\n",
       "0 & 1 & 0 & 0 \\\\\n",
       "0 & 0 & r^{2} & 0 \\\\\n",
       "0 & 0 & 0 & r^{2} \\sin\\left({\\theta}\\right)^{2}\n",
       "\\end{array}\\right)$"
      ],
      "text/plain": [
       "[           -1             0             0             0]\n",
       "[            0             1             0             0]\n",
       "[            0             0           r^2             0]\n",
       "[            0             0             0 r^2*sin(th)^2]"
      ]
     },
     "execution_count": 797,
     "metadata": {},
     "output_type": "execute_result"
    }
   ],
   "source": [
    "M = Manifold(4, 'M', structure='Lorentzian')\n",
    "X.<t, r, th, ph> = M.chart(r't:(0,+oo) r:(-oo,+oo) th:(0,pi):\\theta ph:(0,2*pi):\\phi')\n",
    "g = M.metric('g')\n",
    "g[0, 0], g[1, 1], g[2, 2], g[3, 3] = -1, 1, r^2, r^2*sin(th)^2\n",
    "g[:]"
   ]
  },
  {
   "cell_type": "code",
   "execution_count": 798,
   "id": "addd3f1a",
   "metadata": {},
   "outputs": [
    {
     "data": {
      "text/html": [
       "<html>\\(\\displaystyle \\left[\\left[\\left[0, 0, 0, 0\\right], \\left[0, 0, 0, 0\\right], \\left[0, 0, 0, 0\\right], \\left[0, 0, 0, 0\\right]\\right], \\left[\\left[0, 0, 0, 0\\right], \\left[0, 0, 0, 0\\right], \\left[0, 0, -r, 0\\right], \\left[0, 0, 0, -r \\sin\\left({\\theta}\\right)^{2}\\right]\\right], \\left[\\left[0, 0, 0, 0\\right], \\left[0, 0, \\frac{1}{r}, 0\\right], \\left[0, \\frac{1}{r}, 0, 0\\right], \\left[0, 0, 0, -\\cos\\left({\\theta}\\right) \\sin\\left({\\theta}\\right)\\right]\\right], \\left[\\left[0, 0, 0, 0\\right], \\left[0, 0, 0, \\frac{1}{r}\\right], \\left[0, 0, 0, \\frac{\\cos\\left({\\theta}\\right)}{\\sin\\left({\\theta}\\right)}\\right], \\left[0, \\frac{1}{r}, \\frac{\\cos\\left({\\theta}\\right)}{\\sin\\left({\\theta}\\right)}, 0\\right]\\right]\\right]\\)</html>"
      ],
      "text/latex": [
       "$\\displaystyle \\left[\\left[\\left[0, 0, 0, 0\\right], \\left[0, 0, 0, 0\\right], \\left[0, 0, 0, 0\\right], \\left[0, 0, 0, 0\\right]\\right], \\left[\\left[0, 0, 0, 0\\right], \\left[0, 0, 0, 0\\right], \\left[0, 0, -r, 0\\right], \\left[0, 0, 0, -r \\sin\\left({\\theta}\\right)^{2}\\right]\\right], \\left[\\left[0, 0, 0, 0\\right], \\left[0, 0, \\frac{1}{r}, 0\\right], \\left[0, \\frac{1}{r}, 0, 0\\right], \\left[0, 0, 0, -\\cos\\left({\\theta}\\right) \\sin\\left({\\theta}\\right)\\right]\\right], \\left[\\left[0, 0, 0, 0\\right], \\left[0, 0, 0, \\frac{1}{r}\\right], \\left[0, 0, 0, \\frac{\\cos\\left({\\theta}\\right)}{\\sin\\left({\\theta}\\right)}\\right], \\left[0, \\frac{1}{r}, \\frac{\\cos\\left({\\theta}\\right)}{\\sin\\left({\\theta}\\right)}, 0\\right]\\right]\\right]$"
      ],
      "text/plain": [
       "[[[0, 0, 0, 0], [0, 0, 0, 0], [0, 0, 0, 0], [0, 0, 0, 0]],\n",
       " [[0, 0, 0, 0], [0, 0, 0, 0], [0, 0, -r, 0], [0, 0, 0, -r*sin(th)^2]],\n",
       " [[0, 0, 0, 0], [0, 0, 1/r, 0], [0, 1/r, 0, 0], [0, 0, 0, -cos(th)*sin(th)]],\n",
       " [[0, 0, 0, 0],\n",
       "  [0, 0, 0, 1/r],\n",
       "  [0, 0, 0, cos(th)/sin(th)],\n",
       "  [0, 1/r, cos(th)/sin(th), 0]]]"
      ]
     },
     "execution_count": 798,
     "metadata": {},
     "output_type": "execute_result"
    }
   ],
   "source": [
    "Gam = g.christoffel_symbols()\n",
    "nab = M.affine_connection(name=r'\\nabla')\n",
    "nab[:] = Gam[:]\n",
    "nab[:]"
   ]
  },
  {
   "cell_type": "code",
   "execution_count": 799,
   "id": "5abf9cfd",
   "metadata": {},
   "outputs": [
    {
     "data": {
      "text/html": [
       "<html>\\(\\displaystyle \\)</html>"
      ],
      "text/latex": [
       "$\\displaystyle $"
      ],
      "text/plain": []
     },
     "execution_count": 799,
     "metadata": {},
     "output_type": "execute_result"
    }
   ],
   "source": [
    "riem = g.riemann()\n",
    "riem.display_comp()"
   ]
  },
  {
   "cell_type": "markdown",
   "id": "886ed61b",
   "metadata": {},
   "source": [
    "Restrict the motion to the $\\theta = \\pi / 2$ submanifold. Furthermore, since the we cannot use the \"apply_map\" function for the Christoffel symbols, we will need to use the apply_map each time the covariant derivative is computed."
   ]
  },
  {
   "cell_type": "code",
   "execution_count": 800,
   "id": "72d99a8f",
   "metadata": {},
   "outputs": [
    {
     "data": {
      "text/html": [
       "<html>\\(\\displaystyle \\left(\\begin{array}{rrrr}\n",
       "-1 & 0 & 0 & 0 \\\\\n",
       "0 & 1 & 0 & 0 \\\\\n",
       "0 & 0 & r^{2} & 0 \\\\\n",
       "0 & 0 & 0 & r^{2}\n",
       "\\end{array}\\right)\\)</html>"
      ],
      "text/latex": [
       "$\\displaystyle \\left(\\begin{array}{rrrr}\n",
       "-1 & 0 & 0 & 0 \\\\\n",
       "0 & 1 & 0 & 0 \\\\\n",
       "0 & 0 & r^{2} & 0 \\\\\n",
       "0 & 0 & 0 & r^{2}\n",
       "\\end{array}\\right)$"
      ],
      "text/plain": [
       "[ -1   0   0   0]\n",
       "[  0   1   0   0]\n",
       "[  0   0 r^2   0]\n",
       "[  0   0   0 r^2]"
      ]
     },
     "execution_count": 800,
     "metadata": {},
     "output_type": "execute_result"
    }
   ],
   "source": [
    "g.apply_map(lambda x: x.subs({th:pi/2}))\n",
    "g[:]"
   ]
  },
  {
   "cell_type": "code",
   "execution_count": 801,
   "id": "54d18aa6",
   "metadata": {},
   "outputs": [
    {
     "data": {
      "text/html": [
       "<html>\\(\\displaystyle \\)</html>"
      ],
      "text/latex": [
       "$\\displaystyle $"
      ],
      "text/plain": []
     },
     "execution_count": 801,
     "metadata": {},
     "output_type": "execute_result"
    }
   ],
   "source": [
    "riem.apply_map(lambda cmp: cmp.subs({th:pi/2}))\n",
    "riem.display_comp()"
   ]
  },
  {
   "cell_type": "markdown",
   "id": "d43d8b81",
   "metadata": {},
   "source": [
    "Timelike geodesics in the equatorial submanifold are described by the Lagrangian\n",
    "$\n",
    "2 \\mathcal{L} = -\\dot{t}^2 + \\dot{r}^2 + r^2 \\dot{\\phi}^2,\n",
    "$\n",
    "where $\\dot{t} = \\partial_{\\tau} t$ is the proper-time derivative of $t$.\n",
    "\n",
    "Since $(t, \\phi)$ are cyclic variables, we can define the corresponding conserved quantities as the energy and angular momentum respectively,\n",
    "$\n",
    "\\frac{\\partial \\mathcal{L}}{\\partial \\dot{t}} = - \\frac{E}{m} \\quad \\implies \\quad \\dot{t} = \\frac{E}{m}, \\\\\n",
    "\\frac{\\partial \\mathcal{L}}{\\partial \\dot{\\phi}} = \\frac{l}{m} \\quad \\implies \\quad \\dot{\\phi} = \\frac{l}{m r^2}.\n",
    "$\n",
    "\n",
    "We now define the 4-momentum $p_{a'} = m g_{a' b'} \\partial_{\\tau} x^{b'}$. This gives us $p_t = m (-1) \\dot{t} = -E$, and $p_{\\phi} = m (r^2) \\dot{\\phi} = l$. Also, since $\\theta = \\pi/2$ is fixed, we have $p_{\\theta} = 0$. We now use the on-shell condition for the timelike geodesics $g^{a' b'} p_{a'} p_{b'} = -m^2$, which allows us to write the differential equation for $r$:\n",
    "$\n",
    "\\partial_{\\tau} r = E^2 - m^2 - \\frac{l^2}{r^2}.\n",
    "$\n",
    "\n",
    "Introducing the affine parameter $s = E \\tau$ and the Penrose limit parameter $\\epsilon = 1/E$, the components of the tangent vector to the timelike geodesics become:\n",
    "$\n",
    "\\partial_s t = 1/m, \\qquad \\partial_s \\phi = \\epsilon \\frac{l}{m r^2}, \\\\\n",
    "\\partial_s r = \\frac{1}{m} \\sqrt{1 - \\epsilon^2 \\bigg ( m^2 + \\frac{l^2}{r^2} \\bigg )}, \\qquad \\partial_s \\theta = 0.\n",
    "$\n",
    "\n",
    "If this is to be an ultrarelativistic family, then the limit $\\epsilon \\to 0$ should result in an affinely parametrised null geodesic. However, this limit will depend of the functional form of the angular momentum $l$. For instance, the angular momentum may not scale with the energy $E$, or it might scale linearly (as two simple cases).\n",
    "\n",
    "Case 1: The angular momentum does not scale with energy. The limiting tangent vector is $\\dot{z}^a = \\frac{1}{m} (1, 1, 0, 0)$, which is indeed tangent to an affinely parametrised (radial) null geodesic $z^a (s) = \\big ( \\frac{s}{m}, \\frac{s}{m}, \\frac{\\pi}{2}, \\Phi_0 \\big )$, where $\\Phi_0$ is the fixed angle that the radial null geodesic makes.\n",
    "\n",
    "Case 2: The angular momentum scales linearly with energy as $l = \\kappa E = \\kappa / \\epsilon$. Then, the limiting tangent vector is $\\dot{Z}^a = \\frac{1}{m} \\big ( 1, \\sqrt{1 - \\frac{\\kappa^2}{r_0^2}}, 0, \\frac{\\kappa}{r_0^2} \\big )$, where $r_0 = r(s, \\epsilon = 0)$.\n",
    "\n",
    "For now, consider case 1 since it is simpler. In this case, we can construct the parallel-propagated quasi-null frame $( \\dot{z}^a, n^a, e^a_i )$ as\n",
    "$\n",
    "\\dot{z}^a = \\frac{1}{m} (1, 1, 0, 0), \\qquad n^a = \\frac{m}{2} (1, -1, 0, 0), \\\\\n",
    "e^a_1 = \\frac{1}{r_0} (0, 0, 1, 0), \\qquad e^a_2 = \\frac{1}{r_0} (0, 0, 0, 1).\n",
    "$\n",
    "\n",
    "We can then use the outside-in coincidence limits to calculate the form of the functions $( \\mathcal{U}, \\mathcal{V}, \\mathcal{X}^i )$, which at leading order correspond to the coordinates in the Penrose limit spacetime.\n",
    "\n",
    "First, we need to define the parameters $m, l, \\Phi_0, s, \\epsilon$ as the mass of the timelike particles, their angular momentum, the angle made by the radial null geodesic, the affine parameter, and the Penrose limit parameter respectively. Also define the vector field $\\partial_s Y^{a'}$, and construct the quasi-null parallel-propagated frame and check that this results in a consistent ultrarelativistic family."
   ]
  },
  {
   "cell_type": "code",
   "execution_count": 802,
   "id": "c8026c04",
   "metadata": {},
   "outputs": [
    {
     "data": {
      "text/html": [
       "<html>\\(\\displaystyle \\left(m, l, \\Phi_{0}, \\Theta_{0}, s, \\epsilon\\right)\\)</html>"
      ],
      "text/latex": [
       "$\\displaystyle \\left(m, l, \\Phi_{0}, \\Theta_{0}, s, \\epsilon\\right)$"
      ],
      "text/plain": [
       "(m, l, Phi_0, Theta_0, s, epsilon)"
      ]
     },
     "execution_count": 802,
     "metadata": {},
     "output_type": "execute_result"
    }
   ],
   "source": [
    "m, l, ph_init, th_init, s, eps = var('m, l, Phi_0, Theta_0, s, epsilon')\n",
    "assume(m>0)\n",
    "assume(l>=0)\n",
    "assume(ph_init>=0)\n",
    "assume(th_init>=0)\n",
    "assume(s>=0)\n",
    "assume(eps>=0)\n",
    "m, l, ph_init, th_init, s, eps"
   ]
  },
  {
   "cell_type": "code",
   "execution_count": 516,
   "id": "23dcb98c",
   "metadata": {},
   "outputs": [
    {
     "data": {
      "text/html": [
       "<html>\\(\\displaystyle \\left[\\frac{1}{m}, \\frac{\\sqrt{-{\\left(m^{2} + \\frac{l^{2}}{r^{2}}\\right)} \\epsilon^{2} + 1}}{m}, 0, \\frac{\\epsilon l}{m r^{2}}\\right]\\)</html>"
      ],
      "text/latex": [
       "$\\displaystyle \\left[\\frac{1}{m}, \\frac{\\sqrt{-{\\left(m^{2} + \\frac{l^{2}}{r^{2}}\\right)} \\epsilon^{2} + 1}}{m}, 0, \\frac{\\epsilon l}{m r^{2}}\\right]$"
      ],
      "text/plain": [
       "[1/m, sqrt(-(m^2 + l^2/r^2)*epsilon^2 + 1)/m, 0, epsilon*l/(m*r^2)]"
      ]
     },
     "execution_count": 516,
     "metadata": {},
     "output_type": "execute_result"
    }
   ],
   "source": [
    "dsY = M.vector_field(name=r'\\partial_{s} Y')\n",
    "dsY[:] = [1/m, (1/m)*sqrt(1 - eps^2*(m^2 + l^2/r^2)), 0, eps*l/(m*r^2)]\n",
    "dsY[:]"
   ]
  },
  {
   "cell_type": "code",
   "execution_count": 517,
   "id": "63732bef",
   "metadata": {},
   "outputs": [
    {
     "data": {
      "text/html": [
       "<html>\\(\\displaystyle -\\epsilon^{2}\\)</html>"
      ],
      "text/latex": [
       "$\\displaystyle -\\epsilon^{2}$"
      ],
      "text/plain": [
       "-epsilon^2"
      ]
     },
     "execution_count": 517,
     "metadata": {},
     "output_type": "execute_result"
    }
   ],
   "source": [
    "gdsYdsY = g(dsY, dsY).expr()\n",
    "gdsYdsY"
   ]
  },
  {
   "cell_type": "code",
   "execution_count": 518,
   "id": "4335173e",
   "metadata": {},
   "outputs": [
    {
     "data": {
      "text/html": [
       "<html>\\(\\displaystyle \\left[\\frac{1}{m}, \\frac{1}{m}, 0, 0\\right]\\)</html>"
      ],
      "text/latex": [
       "$\\displaystyle \\left[\\frac{1}{m}, \\frac{1}{m}, 0, 0\\right]$"
      ],
      "text/plain": [
       "[1/m, 1/m, 0, 0]"
      ]
     },
     "execution_count": 518,
     "metadata": {},
     "output_type": "execute_result"
    }
   ],
   "source": [
    "zdot = dsY.copy()\n",
    "zdot.apply_map(lambda cmp: cmp.subs({eps:0}))\n",
    "zdot[:]"
   ]
  },
  {
   "cell_type": "code",
   "execution_count": 519,
   "id": "ec1804b4",
   "metadata": {},
   "outputs": [
    {
     "data": {
      "text/html": [
       "<html>\\(\\displaystyle 0\\)</html>"
      ],
      "text/latex": [
       "$\\displaystyle 0$"
      ],
      "text/plain": [
       "0"
      ]
     },
     "execution_count": 519,
     "metadata": {},
     "output_type": "execute_result"
    }
   ],
   "source": [
    "gzdotzdot = g(zdot, zdot).expr()\n",
    "gzdotzdot"
   ]
  },
  {
   "cell_type": "code",
   "execution_count": 520,
   "id": "27fe8cce",
   "metadata": {},
   "outputs": [
    {
     "data": {
      "text/html": [
       "<html>\\(\\displaystyle \\left[0, 0, 0, 0\\right]\\)</html>"
      ],
      "text/latex": [
       "$\\displaystyle \\left[0, 0, 0, 0\\right]$"
      ],
      "text/plain": [
       "[0, 0, 0, 0]"
      ]
     },
     "execution_count": 520,
     "metadata": {},
     "output_type": "execute_result"
    }
   ],
   "source": [
    "acc_zdot = nab(zdot).contract(zdot)\n",
    "acc_zdot.apply_map(lambda cmp: cmp.subs({th:pi/2}))\n",
    "acc_zdot[:]"
   ]
  },
  {
   "cell_type": "code",
   "execution_count": 521,
   "id": "c25d474c",
   "metadata": {},
   "outputs": [
    {
     "data": {
      "text/html": [
       "<html>\\(\\displaystyle \\left(\\frac{s}{m}, \\frac{s}{m}, \\Phi_{0}\\right)\\)</html>"
      ],
      "text/latex": [
       "$\\displaystyle \\left(\\frac{s}{m}, \\frac{s}{m}, \\Phi_{0}\\right)$"
      ],
      "text/plain": [
       "(s/m, s/m, Phi_0)"
      ]
     },
     "execution_count": 521,
     "metadata": {},
     "output_type": "execute_result"
    }
   ],
   "source": [
    "t0_sol = zdot[0].expr().integrate(s)\n",
    "r0_sol = zdot[1].expr().integrate(s)\n",
    "ph0_sol = zdot[3].expr().integrate(s) + ph_init\n",
    "t0_sol, r0_sol, ph0_sol"
   ]
  },
  {
   "cell_type": "markdown",
   "id": "58238460",
   "metadata": {},
   "source": [
    "Thus $\\dot{z}$ is clearly tangent to an affinely parametrised null geodesic described by $z^a (s) = ( s/m, s/m, \\pi/2, \\Phi_0 )$, where we have chosen the integration constants in the $t, r$ coordinates to vanish. Next, we setup the quasi-null frame defined above, and check that it is indeed parallel transported and quasi-null."
   ]
  },
  {
   "cell_type": "code",
   "execution_count": 522,
   "id": "b3c3322b",
   "metadata": {},
   "outputs": [
    {
     "data": {
      "text/html": [
       "<html>\\(\\displaystyle \\left(\\left[\\frac{1}{2} \\, m, -\\frac{1}{2} \\, m, 0, 0\\right], \\left[0, 0, \\frac{1}{r}, 0\\right], \\left[0, 0, 0, \\frac{1}{r}\\right]\\right)\\)</html>"
      ],
      "text/latex": [
       "$\\displaystyle \\left(\\left[\\frac{1}{2} \\, m, -\\frac{1}{2} \\, m, 0, 0\\right], \\left[0, 0, \\frac{1}{r}, 0\\right], \\left[0, 0, 0, \\frac{1}{r}\\right]\\right)$"
      ],
      "text/plain": [
       "([1/2*m, -1/2*m, 0, 0], [0, 0, 1/r, 0], [0, 0, 0, 1/r])"
      ]
     },
     "execution_count": 522,
     "metadata": {},
     "output_type": "execute_result"
    }
   ],
   "source": [
    "n = M.vector_field(name='n')\n",
    "e1 = M.vector_field(name='e_1')\n",
    "e2 = M.vector_field(name='e_2')\n",
    "n[:] = [m/2, -m/2, 0, 0]\n",
    "e1[:] = [0, 0, 1/r, 0]\n",
    "e2[:] = [0, 0, 0, 1/r]\n",
    "n[:], e1[:], e2[:]"
   ]
  },
  {
   "cell_type": "code",
   "execution_count": 523,
   "id": "a71a5506",
   "metadata": {},
   "outputs": [
    {
     "data": {
      "text/html": [
       "<html>\\(\\displaystyle \\left(\\begin{array}{llcl} & M & \\longrightarrow & \\mathbb{R} \\\\ & \\left(t, r, {\\theta}, {\\phi}\\right) & \\longmapsto & -1 \\end{array}, \\begin{array}{llcl} & M & \\longrightarrow & \\mathbb{R} \\\\ & \\left(t, r, {\\theta}, {\\phi}\\right) & \\longmapsto & 0 \\end{array}, \\begin{array}{llcl} & M & \\longrightarrow & \\mathbb{R} \\\\ & \\left(t, r, {\\theta}, {\\phi}\\right) & \\longmapsto & 0 \\end{array}\\right)\\)</html>"
      ],
      "text/latex": [
       "$\\displaystyle \\left(\\begin{array}{llcl} & M & \\longrightarrow & \\mathbb{R} \\\\ & \\left(t, r, {\\theta}, {\\phi}\\right) & \\longmapsto & -1 \\end{array}, \\begin{array}{llcl} & M & \\longrightarrow & \\mathbb{R} \\\\ & \\left(t, r, {\\theta}, {\\phi}\\right) & \\longmapsto & 0 \\end{array}, \\begin{array}{llcl} & M & \\longrightarrow & \\mathbb{R} \\\\ & \\left(t, r, {\\theta}, {\\phi}\\right) & \\longmapsto & 0 \\end{array}\\right)$"
      ],
      "text/plain": [
       "(M → ℝ\n",
       " (t, r, th, ph) ↦ -1,\n",
       " M → ℝ\n",
       " (t, r, th, ph) ↦ 0,\n",
       " M → ℝ\n",
       " (t, r, th, ph) ↦ 0)"
      ]
     },
     "execution_count": 523,
     "metadata": {},
     "output_type": "execute_result"
    }
   ],
   "source": [
    "g(zdot, n).display(), g(zdot, e1).display(), g(zdot, e2).display()"
   ]
  },
  {
   "cell_type": "code",
   "execution_count": 524,
   "id": "78116c23",
   "metadata": {},
   "outputs": [
    {
     "data": {
      "text/html": [
       "<html>\\(\\displaystyle \\left(\\begin{array}{llcl} g\\left(n,n\\right):& M & \\longrightarrow & \\mathbb{R} \\\\ & \\left(t, r, {\\theta}, {\\phi}\\right) & \\longmapsto & 0 \\end{array}, \\begin{array}{llcl} g\\left(n,e_1\\right):& M & \\longrightarrow & \\mathbb{R} \\\\ & \\left(t, r, {\\theta}, {\\phi}\\right) & \\longmapsto & 0 \\end{array}, \\begin{array}{llcl} g\\left(n,e_2\\right):& M & \\longrightarrow & \\mathbb{R} \\\\ & \\left(t, r, {\\theta}, {\\phi}\\right) & \\longmapsto & 0 \\end{array}\\right)\\)</html>"
      ],
      "text/latex": [
       "$\\displaystyle \\left(\\begin{array}{llcl} g\\left(n,n\\right):& M & \\longrightarrow & \\mathbb{R} \\\\ & \\left(t, r, {\\theta}, {\\phi}\\right) & \\longmapsto & 0 \\end{array}, \\begin{array}{llcl} g\\left(n,e_1\\right):& M & \\longrightarrow & \\mathbb{R} \\\\ & \\left(t, r, {\\theta}, {\\phi}\\right) & \\longmapsto & 0 \\end{array}, \\begin{array}{llcl} g\\left(n,e_2\\right):& M & \\longrightarrow & \\mathbb{R} \\\\ & \\left(t, r, {\\theta}, {\\phi}\\right) & \\longmapsto & 0 \\end{array}\\right)$"
      ],
      "text/plain": [
       "(g(n,n): M → ℝ\n",
       "    (t, r, th, ph) ↦ 0,\n",
       " g(n,e_1): M → ℝ\n",
       "    (t, r, th, ph) ↦ 0,\n",
       " g(n,e_2): M → ℝ\n",
       "    (t, r, th, ph) ↦ 0)"
      ]
     },
     "execution_count": 524,
     "metadata": {},
     "output_type": "execute_result"
    }
   ],
   "source": [
    "g(n, n).display(), g(n, e1).display(), g(n, e2).display()"
   ]
  },
  {
   "cell_type": "code",
   "execution_count": 525,
   "id": "95ecdac5",
   "metadata": {},
   "outputs": [
    {
     "data": {
      "text/html": [
       "<html>\\(\\displaystyle \\left(\\begin{array}{llcl} g\\left(e_1,e_1\\right):& M & \\longrightarrow & \\mathbb{R} \\\\ & \\left(t, r, {\\theta}, {\\phi}\\right) & \\longmapsto & 1 \\end{array}, \\begin{array}{llcl} g\\left(e_1,e_2\\right):& M & \\longrightarrow & \\mathbb{R} \\\\ & \\left(t, r, {\\theta}, {\\phi}\\right) & \\longmapsto & 0 \\end{array}, \\begin{array}{llcl} g\\left(e_2,e_2\\right):& M & \\longrightarrow & \\mathbb{R} \\\\ & \\left(t, r, {\\theta}, {\\phi}\\right) & \\longmapsto & 1 \\end{array}\\right)\\)</html>"
      ],
      "text/latex": [
       "$\\displaystyle \\left(\\begin{array}{llcl} g\\left(e_1,e_1\\right):& M & \\longrightarrow & \\mathbb{R} \\\\ & \\left(t, r, {\\theta}, {\\phi}\\right) & \\longmapsto & 1 \\end{array}, \\begin{array}{llcl} g\\left(e_1,e_2\\right):& M & \\longrightarrow & \\mathbb{R} \\\\ & \\left(t, r, {\\theta}, {\\phi}\\right) & \\longmapsto & 0 \\end{array}, \\begin{array}{llcl} g\\left(e_2,e_2\\right):& M & \\longrightarrow & \\mathbb{R} \\\\ & \\left(t, r, {\\theta}, {\\phi}\\right) & \\longmapsto & 1 \\end{array}\\right)$"
      ],
      "text/plain": [
       "(g(e_1,e_1): M → ℝ\n",
       "    (t, r, th, ph) ↦ 1,\n",
       " g(e_1,e_2): M → ℝ\n",
       "    (t, r, th, ph) ↦ 0,\n",
       " g(e_2,e_2): M → ℝ\n",
       "    (t, r, th, ph) ↦ 1)"
      ]
     },
     "execution_count": 525,
     "metadata": {},
     "output_type": "execute_result"
    }
   ],
   "source": [
    "g(e1, e1).display(), g(e1, e2).display(), g(e2, e2).display()"
   ]
  },
  {
   "cell_type": "code",
   "execution_count": 526,
   "id": "b3a262cc",
   "metadata": {},
   "outputs": [
    {
     "data": {
      "text/html": [
       "<html>\\(\\displaystyle \\left(\\left[0, 0, 0, 0\\right], \\left[0, 0, 0, 0\\right], \\left[0, 0, 0, 0\\right]\\right)\\)</html>"
      ],
      "text/latex": [
       "$\\displaystyle \\left(\\left[0, 0, 0, 0\\right], \\left[0, 0, 0, 0\\right], \\left[0, 0, 0, 0\\right]\\right)$"
      ],
      "text/plain": [
       "([0, 0, 0, 0], [0, 0, 0, 0], [0, 0, 0, 0])"
      ]
     },
     "execution_count": 526,
     "metadata": {},
     "output_type": "execute_result"
    }
   ],
   "source": [
    "acc_n = nab(n).contract(zdot)\n",
    "acc_n.apply_map(lambda cmp: cmp.subs({th:pi/2}))\n",
    "acc_e1 = nab(e1).contract(zdot)\n",
    "acc_e1.apply_map(lambda cmp: cmp.subs({th:pi/2}))\n",
    "acc_e2 = nab(e2).contract(zdot)\n",
    "acc_e2.apply_map(lambda cmp: cmp.subs({th:pi/2}))\n",
    "acc_n[:], acc_e1[:], acc_e2[:]"
   ]
  },
  {
   "cell_type": "markdown",
   "id": "5ab136ca",
   "metadata": {},
   "source": [
    "Thus the frame is quasi-null and parallel-propagated.\n",
    "\n",
    "Now we define the functions $( U (s, \\epsilon), V (s, \\epsilon), X^i (s, \\epsilon) )$, which at $\\epsilon = 0$ correspond to the Brinkmann coordinates in the PW spacetime. Since the limiting value $\\lim_{\\epsilon \\to 0} \\partial_s Y^{a'} = \\dot{z}^a$, we have $[U] = s$.\n",
    "\n",
    "Next, define the deviation vector $\\xi^{a'} = \\partial_{\\epsilon} Y^{a'} = ( \\xi^t (s, \\epsilon), \\xi^r (s, \\epsilon), 0, \\xi^{\\phi} (s, \\epsilon) )$, where $\\xi^{\\theta} = \\partial_{\\epsilon} \\theta = 0$ since $\\theta = \\pi/2$ is fixed. From the outside-in theory, this has a coincidence limit $[\\xi^{a'}] = \\dot{z}^a [\\partial_{\\epsilon} U] + e^a_i [X^i]$. By equating these expressions, we can relate $\\xi^t (s, 0), \\xi^r (s, 0), \\cdots$ with $( [U], [V], [X^i] )$."
   ]
  },
  {
   "cell_type": "code",
   "execution_count": 527,
   "id": "38cb7b9e",
   "metadata": {},
   "outputs": [
    {
     "data": {
      "text/html": [
       "<html>\\(\\displaystyle \\left(U\\left(s, \\epsilon\\right), V\\left(s, \\epsilon\\right), X_{1}\\left(s, \\epsilon\\right), X_{2}\\left(s, \\epsilon\\right), s\\right)\\)</html>"
      ],
      "text/latex": [
       "$\\displaystyle \\left(U\\left(s, \\epsilon\\right), V\\left(s, \\epsilon\\right), X_{1}\\left(s, \\epsilon\\right), X_{2}\\left(s, \\epsilon\\right), s\\right)$"
      ],
      "text/plain": [
       "(U(s, epsilon), V(s, epsilon), X_1(s, epsilon), X_2(s, epsilon), s)"
      ]
     },
     "execution_count": 527,
     "metadata": {},
     "output_type": "execute_result"
    }
   ],
   "source": [
    "U = function('U')(s, eps)\n",
    "V = function('V')(s, eps)\n",
    "X1 = function('X_1')(s, eps)\n",
    "X2 = function('X_2')(s, eps)\n",
    "U_O1_sol = s\n",
    "U, V, X1, X2, U_O1_sol"
   ]
  },
  {
   "cell_type": "code",
   "execution_count": 528,
   "id": "5402a6d5",
   "metadata": {},
   "outputs": [
    {
     "data": {
      "text/html": [
       "<html>\\(\\displaystyle \\left[\\xi_{t}\\left(s, \\epsilon\\right), \\xi_{r}\\left(s, \\epsilon\\right), 0, \\xi_{\\phi}\\left(s, \\epsilon\\right)\\right]\\)</html>"
      ],
      "text/latex": [
       "$\\displaystyle \\left[\\xi_{t}\\left(s, \\epsilon\\right), \\xi_{r}\\left(s, \\epsilon\\right), 0, \\xi_{\\phi}\\left(s, \\epsilon\\right)\\right]$"
      ],
      "text/plain": [
       "[xi_t(s, epsilon), xi_r(s, epsilon), 0, xi_phi(s, epsilon)]"
      ]
     },
     "execution_count": 528,
     "metadata": {},
     "output_type": "execute_result"
    }
   ],
   "source": [
    "xi = M.vector_field(name=r'\\xi')\n",
    "xi_t = function('xi_t')(s, eps)\n",
    "xi_r = function('xi_r')(s, eps)\n",
    "xi_ph = function('xi_phi')(s, eps)\n",
    "xi[:] = [xi_t, xi_r, 0, xi_ph]\n",
    "xi[:]"
   ]
  },
  {
   "cell_type": "code",
   "execution_count": 529,
   "id": "fbd5e9e9",
   "metadata": {},
   "outputs": [
    {
     "data": {
      "text/html": [
       "<html>\\(\\displaystyle \\left[\\xi_{t}\\left(s, 0\\right), \\xi_{r}\\left(s, 0\\right), 0, \\xi_{\\phi}\\left(s, 0\\right)\\right]\\)</html>"
      ],
      "text/latex": [
       "$\\displaystyle \\left[\\xi_{t}\\left(s, 0\\right), \\xi_{r}\\left(s, 0\\right), 0, \\xi_{\\phi}\\left(s, 0\\right)\\right]$"
      ],
      "text/plain": [
       "[xi_t(s, 0), xi_r(s, 0), 0, xi_phi(s, 0)]"
      ]
     },
     "execution_count": 529,
     "metadata": {},
     "output_type": "execute_result"
    }
   ],
   "source": [
    "xi_CL = xi.copy()\n",
    "xi_CL.apply_map(lambda cmp: cmp.subs({eps:0}))\n",
    "xi_CL[:]"
   ]
  },
  {
   "cell_type": "code",
   "execution_count": 530,
   "id": "946d581c",
   "metadata": {},
   "outputs": [
    {
     "data": {
      "text/html": [
       "<html>\\(\\displaystyle \\left(\\xi_{t}\\left(s, 0\\right), \\xi_{r}\\left(s, 0\\right), \\xi_{\\phi}\\left(s, 0\\right), \\mathrm{D}_{0}\\left(U\\right)\\left(s, 0\\right), \\mathrm{D}_{1}\\left(U\\right)\\left(s, 0\\right), \\mathrm{D}_{0}\\left(V\\right)\\left(s, 0\\right), X_{1}\\left(s, 0\\right), \\mathrm{D}_{0}\\left(X_{1}\\right)\\left(s, 0\\right), X_{2}\\left(s, 0\\right), \\mathrm{D}_{0}\\left(X_{2}\\right)\\left(s, 0\\right)\\right)\\)</html>"
      ],
      "text/latex": [
       "$\\displaystyle \\left(\\xi_{t}\\left(s, 0\\right), \\xi_{r}\\left(s, 0\\right), \\xi_{\\phi}\\left(s, 0\\right), \\mathrm{D}_{0}\\left(U\\right)\\left(s, 0\\right), \\mathrm{D}_{1}\\left(U\\right)\\left(s, 0\\right), \\mathrm{D}_{0}\\left(V\\right)\\left(s, 0\\right), X_{1}\\left(s, 0\\right), \\mathrm{D}_{0}\\left(X_{1}\\right)\\left(s, 0\\right), X_{2}\\left(s, 0\\right), \\mathrm{D}_{0}\\left(X_{2}\\right)\\left(s, 0\\right)\\right)$"
      ],
      "text/plain": [
       "(xi_t(s, 0),\n",
       " xi_r(s, 0),\n",
       " xi_phi(s, 0),\n",
       " D[0](U)(s, 0),\n",
       " D[1](U)(s, 0),\n",
       " D[0](V)(s, 0),\n",
       " X_1(s, 0),\n",
       " D[0](X_1)(s, 0),\n",
       " X_2(s, 0),\n",
       " D[0](X_2)(s, 0))"
      ]
     },
     "execution_count": 530,
     "metadata": {},
     "output_type": "execute_result"
    }
   ],
   "source": [
    "xi_t_0 = xi_t.subs({eps:0})\n",
    "xi_r_0 = xi_r.subs({eps:0})\n",
    "xi_ph_0 = xi_ph.subs({eps:0})\n",
    "dsU0 = U.diff(s, 1).subs({eps:0})\n",
    "depsU0 = U.diff(eps, 1).subs({eps:0})\n",
    "dsV0 = V.diff(s, 1).subs({eps:0})\n",
    "X1_0 = X1.subs({eps:0})\n",
    "dsX1_0 = X1.diff(s, 1).subs({eps:0})\n",
    "X2_0 = X2.subs({eps:0})\n",
    "dsX2_0 = X2.diff(s, 1).subs({eps:0})\n",
    "xi_t_0, xi_r_0,xi_ph_0, dsU0, depsU0, dsV0, X1_0, dsX1_0, X2_0, dsX2_0"
   ]
  },
  {
   "cell_type": "code",
   "execution_count": 531,
   "id": "dfd1bcd1",
   "metadata": {},
   "outputs": [
    {
     "data": {
      "text/html": [
       "<html>\\(\\displaystyle \\left[\\frac{\\frac{\\partial\\,U}{\\partial 0}}{m}, \\frac{\\frac{\\partial\\,U}{\\partial 0}}{m}, \\frac{X_{1}\\left(s, 0\\right)}{r}, \\frac{X_{2}\\left(s, 0\\right)}{r}\\right]\\)</html>"
      ],
      "text/latex": [
       "$\\displaystyle \\left[\\frac{\\frac{\\partial\\,U}{\\partial 0}}{m}, \\frac{\\frac{\\partial\\,U}{\\partial 0}}{m}, \\frac{X_{1}\\left(s, 0\\right)}{r}, \\frac{X_{2}\\left(s, 0\\right)}{r}\\right]$"
      ],
      "text/plain": [
       "[d(U)/d0/m, d(U)/d0/m, X_1(s, 0)/r, X_2(s, 0)/r]"
      ]
     },
     "execution_count": 531,
     "metadata": {},
     "output_type": "execute_result"
    }
   ],
   "source": [
    "xi_CL_out_in = zdot*depsU0 + e1*X1_0 + e2*X2_0\n",
    "xi_CL_out_in[:]"
   ]
  },
  {
   "cell_type": "markdown",
   "id": "484a0c2d",
   "metadata": {},
   "source": [
    "Comparing the various components of \"xi_CL\" and \"xi_CL_out_in\", we get"
   ]
  },
  {
   "cell_type": "code",
   "execution_count": 532,
   "id": "6b5046a7",
   "metadata": {},
   "outputs": [
    {
     "data": {
      "text/html": [
       "<html>\\(\\displaystyle \\xi_{t}\\left(s, 0\\right) = \\frac{\\mathrm{D}_{1}\\left(U\\right)\\left(s, 0\\right)}{m}\\)</html>"
      ],
      "text/latex": [
       "$\\displaystyle \\xi_{t}\\left(s, 0\\right) = \\frac{\\mathrm{D}_{1}\\left(U\\right)\\left(s, 0\\right)}{m}$"
      ],
      "text/plain": [
       "xi_t(s, 0) == D[1](U)(s, 0)/m"
      ]
     },
     "execution_count": 532,
     "metadata": {},
     "output_type": "execute_result"
    }
   ],
   "source": [
    "xi_comp_t_eq1 = xi_CL[0].expr() == xi_CL_out_in[0].expr()\n",
    "xi_comp_t_eq1"
   ]
  },
  {
   "cell_type": "code",
   "execution_count": 533,
   "id": "e6ee3976",
   "metadata": {},
   "outputs": [
    {
     "data": {
      "text/html": [
       "<html>\\(\\displaystyle \\xi_{r}\\left(s, 0\\right) = \\frac{\\mathrm{D}_{1}\\left(U\\right)\\left(s, 0\\right)}{m}\\)</html>"
      ],
      "text/latex": [
       "$\\displaystyle \\xi_{r}\\left(s, 0\\right) = \\frac{\\mathrm{D}_{1}\\left(U\\right)\\left(s, 0\\right)}{m}$"
      ],
      "text/plain": [
       "xi_r(s, 0) == D[1](U)(s, 0)/m"
      ]
     },
     "execution_count": 533,
     "metadata": {},
     "output_type": "execute_result"
    }
   ],
   "source": [
    "xi_comp_r_eq1 = xi_CL[1].expr() == xi_CL_out_in[1].expr()\n",
    "xi_comp_r_eq1"
   ]
  },
  {
   "cell_type": "code",
   "execution_count": 534,
   "id": "71499dde",
   "metadata": {},
   "outputs": [
    {
     "data": {
      "text/html": [
       "<html>\\(\\displaystyle 0 = \\frac{X_{1}\\left(s, 0\\right)}{r}\\)</html>"
      ],
      "text/latex": [
       "$\\displaystyle 0 = \\frac{X_{1}\\left(s, 0\\right)}{r}$"
      ],
      "text/plain": [
       "0 == X_1(s, 0)/r"
      ]
     },
     "execution_count": 534,
     "metadata": {},
     "output_type": "execute_result"
    }
   ],
   "source": [
    "xi_comp_th_eq1 = xi_CL[2].expr() == xi_CL_out_in[2].expr()\n",
    "xi_comp_th_eq1"
   ]
  },
  {
   "cell_type": "markdown",
   "id": "655acca1",
   "metadata": {},
   "source": [
    "From this it follows that $X_1 (s, \\epsilon = 0) = [X^1] (s) = 0$."
   ]
  },
  {
   "cell_type": "code",
   "execution_count": 535,
   "id": "efa275d9",
   "metadata": {},
   "outputs": [
    {
     "data": {
      "text/html": [
       "<html>\\(\\displaystyle 0\\)</html>"
      ],
      "text/latex": [
       "$\\displaystyle 0$"
      ],
      "text/plain": [
       "0"
      ]
     },
     "execution_count": 535,
     "metadata": {},
     "output_type": "execute_result"
    }
   ],
   "source": [
    "X1_O1_sol = 0\n",
    "X1_O1_sol"
   ]
  },
  {
   "cell_type": "code",
   "execution_count": 536,
   "id": "246740e7",
   "metadata": {},
   "outputs": [
    {
     "data": {
      "text/html": [
       "<html>\\(\\displaystyle \\xi_{\\phi}\\left(s, 0\\right) = \\frac{X_{2}\\left(s, 0\\right)}{r}\\)</html>"
      ],
      "text/latex": [
       "$\\displaystyle \\xi_{\\phi}\\left(s, 0\\right) = \\frac{X_{2}\\left(s, 0\\right)}{r}$"
      ],
      "text/plain": [
       "xi_phi(s, 0) == X_2(s, 0)/r"
      ]
     },
     "execution_count": 536,
     "metadata": {},
     "output_type": "execute_result"
    }
   ],
   "source": [
    "xi_comp_ph_eq1 = xi_CL[3].expr() == xi_CL_out_in[3].expr()\n",
    "xi_comp_ph_eq1"
   ]
  },
  {
   "cell_type": "markdown",
   "id": "5e27c9e1",
   "metadata": {},
   "source": [
    "Next, we compute the covariant $\\epsilon$-derivative of the tangent vector directly, and through the outside-in approach. This again allows us to relate $\\xi^t (s, 0), \\xi^r (s, \\epsilon = 0), \\cdots$ with $( [U], [V], [X^i] )$.\n",
    "\n",
    "From the outside-in expressions, we have $[ D_{\\epsilon s} Y^{a'} ] = \\dot{z}^a [\\partial_{\\epsilon s} U] + e^a_i [\\partial_s X^i]$.\n",
    "\n",
    "To compute the covariant derivative directly, we define the custom function (which ensures differentiation of scalar factors of $\\epsilon$ that the standard covariant derivative implemented by Sage often misses)."
   ]
  },
  {
   "cell_type": "code",
   "execution_count": 537,
   "id": "005e3312",
   "metadata": {},
   "outputs": [],
   "source": [
    "def D_eps(inp_vec):\n",
    "    D_eps_vec = M.vector_field(name=r'D_{\\epsilon}V')\n",
    "    for i in range(4):\n",
    "        D_eps_vec[i] = inp_vec[i].expr().diff(eps, 1) + nab(inp_vec).contract(xi)[i]\n",
    "    \n",
    "    return D_eps_vec"
   ]
  },
  {
   "cell_type": "code",
   "execution_count": 538,
   "id": "a507266a",
   "metadata": {},
   "outputs": [
    {
     "data": {
      "text/html": [
       "<html>\\(\\displaystyle \\left[0, -\\frac{{\\left(\\epsilon^{3} l^{3} r + {\\left(\\epsilon^{3} l m^{2} - \\epsilon l\\right)} r^{3}\\right)} \\xi_{\\phi}\\left(s, \\epsilon\\right) - {\\left(\\epsilon m^{2} r^{3} - \\epsilon^{2} l^{2} \\xi_{r}\\left(s, \\epsilon\\right) + \\epsilon l^{2} r\\right)} \\sqrt{-\\epsilon^{2} l^{2} - {\\left(\\epsilon^{2} m^{2} - 1\\right)} r^{2}}}{\\epsilon^{2} l^{2} m r^{2} + {\\left(\\epsilon^{2} m^{3} - m\\right)} r^{4}}, 0, -\\frac{\\epsilon l \\xi_{r}\\left(s, \\epsilon\\right) - \\sqrt{-\\epsilon^{2} l^{2} - {\\left(\\epsilon^{2} m^{2} - 1\\right)} r^{2}} r \\xi_{\\phi}\\left(s, \\epsilon\\right) - l r}{m r^{3}}\\right]\\)</html>"
      ],
      "text/latex": [
       "$\\displaystyle \\left[0, -\\frac{{\\left(\\epsilon^{3} l^{3} r + {\\left(\\epsilon^{3} l m^{2} - \\epsilon l\\right)} r^{3}\\right)} \\xi_{\\phi}\\left(s, \\epsilon\\right) - {\\left(\\epsilon m^{2} r^{3} - \\epsilon^{2} l^{2} \\xi_{r}\\left(s, \\epsilon\\right) + \\epsilon l^{2} r\\right)} \\sqrt{-\\epsilon^{2} l^{2} - {\\left(\\epsilon^{2} m^{2} - 1\\right)} r^{2}}}{\\epsilon^{2} l^{2} m r^{2} + {\\left(\\epsilon^{2} m^{3} - m\\right)} r^{4}}, 0, -\\frac{\\epsilon l \\xi_{r}\\left(s, \\epsilon\\right) - \\sqrt{-\\epsilon^{2} l^{2} - {\\left(\\epsilon^{2} m^{2} - 1\\right)} r^{2}} r \\xi_{\\phi}\\left(s, \\epsilon\\right) - l r}{m r^{3}}\\right]$"
      ],
      "text/plain": [
       "[0,\n",
       " -((epsilon^3*l^3*r + (epsilon^3*l*m^2 - epsilon*l)*r^3)*xi_phi(s, epsilon) - (epsilon*m^2*r^3 - epsilon^2*l^2*xi_r(s, epsilon) + epsilon*l^2*r)*sqrt(-epsilon^2*l^2 - (epsilon^2*m^2 - 1)*r^2))/(epsilon^2*l^2*m*r^2 + (epsilon^2*m^3 - m)*r^4),\n",
       " 0,\n",
       " -(epsilon*l*xi_r(s, epsilon) - sqrt(-epsilon^2*l^2 - (epsilon^2*m^2 - 1)*r^2)*r*xi_phi(s, epsilon) - l*r)/(m*r^3)]"
      ]
     },
     "execution_count": 538,
     "metadata": {},
     "output_type": "execute_result"
    }
   ],
   "source": [
    "assume(r>0)\n",
    "Deps_dsY = M.vector_field(name=r'D_{\\epsilon s} Y')\n",
    "Deps_dsY = D_eps(dsY)\n",
    "Deps_dsY.apply_map(lambda cmp: cmp.subs({th:pi/2}))\n",
    "Deps_dsY[:]"
   ]
  },
  {
   "cell_type": "code",
   "execution_count": 539,
   "id": "4cfe83c5",
   "metadata": {},
   "outputs": [
    {
     "data": {
      "text/html": [
       "<html>\\(\\displaystyle \\left[0, 0, 0, \\frac{r^{2} \\xi_{\\phi}\\left(s, 0\\right) + l r}{m r^{3}}\\right]\\)</html>"
      ],
      "text/latex": [
       "$\\displaystyle \\left[0, 0, 0, \\frac{r^{2} \\xi_{\\phi}\\left(s, 0\\right) + l r}{m r^{3}}\\right]$"
      ],
      "text/plain": [
       "[0, 0, 0, (r^2*xi_phi(s, 0) + l*r)/(m*r^3)]"
      ]
     },
     "execution_count": 539,
     "metadata": {},
     "output_type": "execute_result"
    }
   ],
   "source": [
    "Deps_dsY_CL = Deps_dsY.copy()\n",
    "Deps_dsY_CL.apply_map(lambda cmp: cmp.subs({eps:0}))\n",
    "Deps_dsY_CL[:]"
   ]
  },
  {
   "cell_type": "code",
   "execution_count": 540,
   "id": "135a0019",
   "metadata": {},
   "outputs": [
    {
     "data": {
      "text/html": [
       "<html>\\(\\displaystyle \\left(\\mathrm{D}_{0, 1}\\left(U\\right)\\left(s, 0\\right), \\mathrm{D}_{0}\\left(X_{1}\\right)\\left(s, 0\\right), \\mathrm{D}_{0}\\left(X_{2}\\right)\\left(s, 0\\right)\\right)\\)</html>"
      ],
      "text/latex": [
       "$\\displaystyle \\left(\\mathrm{D}_{0, 1}\\left(U\\right)\\left(s, 0\\right), \\mathrm{D}_{0}\\left(X_{1}\\right)\\left(s, 0\\right), \\mathrm{D}_{0}\\left(X_{2}\\right)\\left(s, 0\\right)\\right)$"
      ],
      "text/plain": [
       "(D[0, 1](U)(s, 0), D[0](X_1)(s, 0), D[0](X_2)(s, 0))"
      ]
     },
     "execution_count": 540,
     "metadata": {},
     "output_type": "execute_result"
    }
   ],
   "source": [
    "deps_s_U0 = U.diff(s, 1).diff(eps, 1).subs({eps:0})\n",
    "dsX1_0 = X1.diff(s, 1).subs({eps:0})\n",
    "dsX2_0 = X2.diff(s, 1).subs({eps:0})\n",
    "deps_s_U0, dsX1_0, dsX2_0"
   ]
  },
  {
   "cell_type": "code",
   "execution_count": 541,
   "id": "0e946437",
   "metadata": {},
   "outputs": [
    {
     "data": {
      "text/html": [
       "<html>\\(\\displaystyle \\left[\\frac{\\frac{\\partial^2\\,U}{\\partial s\\partial 0}}{m}, \\frac{\\frac{\\partial^2\\,U}{\\partial s\\partial 0}}{m}, \\frac{\\frac{\\partial\\,X_{1}}{\\partial s}}{r}, \\frac{\\frac{\\partial\\,X_{2}}{\\partial s}}{r}\\right]\\)</html>"
      ],
      "text/latex": [
       "$\\displaystyle \\left[\\frac{\\frac{\\partial^2\\,U}{\\partial s\\partial 0}}{m}, \\frac{\\frac{\\partial^2\\,U}{\\partial s\\partial 0}}{m}, \\frac{\\frac{\\partial\\,X_{1}}{\\partial s}}{r}, \\frac{\\frac{\\partial\\,X_{2}}{\\partial s}}{r}\\right]$"
      ],
      "text/plain": [
       "[d^2(U)/dsd0/m, d^2(U)/dsd0/m, d(X_1)/ds/r, d(X_2)/ds/r]"
      ]
     },
     "execution_count": 541,
     "metadata": {},
     "output_type": "execute_result"
    }
   ],
   "source": [
    "Deps_dsY_out_in_CL = zdot*deps_s_U0 + e1*dsX1_0 + e2*dsX2_0\n",
    "Deps_dsY_out_in_CL[:]"
   ]
  },
  {
   "cell_type": "code",
   "execution_count": 542,
   "id": "e9a486c1",
   "metadata": {},
   "outputs": [
    {
     "data": {
      "text/html": [
       "<html>\\(\\displaystyle 0 = \\mathrm{D}_{0, 1}\\left(U\\right)\\left(s, 0\\right)\\)</html>"
      ],
      "text/latex": [
       "$\\displaystyle 0 = \\mathrm{D}_{0, 1}\\left(U\\right)\\left(s, 0\\right)$"
      ],
      "text/plain": [
       "0 == D[0, 1](U)(s, 0)"
      ]
     },
     "execution_count": 542,
     "metadata": {},
     "output_type": "execute_result"
    }
   ],
   "source": [
    "DepssY_comp_t_eq1 = Deps_dsY_CL[0].expr()*m == Deps_dsY_out_in_CL[0].expr()*m\n",
    "DepssY_comp_t_eq1"
   ]
  },
  {
   "cell_type": "code",
   "execution_count": 543,
   "id": "2cbb3e02",
   "metadata": {},
   "outputs": [
    {
     "data": {
      "text/html": [
       "<html>\\(\\displaystyle \\left(f_{U}\\left(s\\right), \\frac{\\partial}{\\partial s}f_{U}\\left(s\\right)\\right)\\)</html>"
      ],
      "text/latex": [
       "$\\displaystyle \\left(f_{U}\\left(s\\right), \\frac{\\partial}{\\partial s}f_{U}\\left(s\\right)\\right)$"
      ],
      "text/plain": [
       "(f_U(s), diff(f_U(s), s))"
      ]
     },
     "execution_count": 543,
     "metadata": {},
     "output_type": "execute_result"
    }
   ],
   "source": [
    "fU = function('f_U')(s)\n",
    "dfU = fU.diff(s, 1)\n",
    "fU, dfU"
   ]
  },
  {
   "cell_type": "code",
   "execution_count": 544,
   "id": "fbbcd537",
   "metadata": {},
   "outputs": [
    {
     "data": {
      "text/html": [
       "<html>\\(\\displaystyle 0 = \\frac{\\partial}{\\partial s}f_{U}\\left(s\\right)\\)</html>"
      ],
      "text/latex": [
       "$\\displaystyle 0 = \\frac{\\partial}{\\partial s}f_{U}\\left(s\\right)$"
      ],
      "text/plain": [
       "0 == diff(f_U(s), s)"
      ]
     },
     "execution_count": 544,
     "metadata": {},
     "output_type": "execute_result"
    }
   ],
   "source": [
    "DepssY_comp_t_eq2 = DepssY_comp_t_eq1.subs({deps_s_U0:dfU})\n",
    "DepssY_comp_t_eq2"
   ]
  },
  {
   "cell_type": "code",
   "execution_count": 545,
   "id": "62363de6",
   "metadata": {},
   "outputs": [
    {
     "data": {
      "text/html": [
       "<html>\\(\\displaystyle C\\)</html>"
      ],
      "text/latex": [
       "$\\displaystyle C$"
      ],
      "text/plain": [
       "_C"
      ]
     },
     "execution_count": 545,
     "metadata": {},
     "output_type": "execute_result"
    }
   ],
   "source": [
    "desolve(DepssY_comp_t_eq2, fU, ivar=s)"
   ]
  },
  {
   "cell_type": "code",
   "execution_count": 546,
   "id": "33fb0363",
   "metadata": {},
   "outputs": [
    {
     "data": {
      "text/html": [
       "<html>\\(\\displaystyle C_{U} \\epsilon + s\\)</html>"
      ],
      "text/latex": [
       "$\\displaystyle C_{U} \\epsilon + s$"
      ],
      "text/plain": [
       "C_U*epsilon + s"
      ]
     },
     "execution_count": 546,
     "metadata": {},
     "output_type": "execute_result"
    }
   ],
   "source": [
    "CU = var('C_U')\n",
    "U_Oeps_sol = U_O1_sol + eps*CU\n",
    "U_Oeps_sol"
   ]
  },
  {
   "cell_type": "code",
   "execution_count": 547,
   "id": "239a13de",
   "metadata": {},
   "outputs": [
    {
     "data": {
      "text/html": [
       "<html>\\(\\displaystyle 0 = \\mathrm{D}_{0, 1}\\left(U\\right)\\left(s, 0\\right)\\)</html>"
      ],
      "text/latex": [
       "$\\displaystyle 0 = \\mathrm{D}_{0, 1}\\left(U\\right)\\left(s, 0\\right)$"
      ],
      "text/plain": [
       "0 == D[0, 1](U)(s, 0)"
      ]
     },
     "execution_count": 547,
     "metadata": {},
     "output_type": "execute_result"
    }
   ],
   "source": [
    "DepssY_comp_r_eq1 = Deps_dsY_CL[1].expr()*m == Deps_dsY_out_in_CL[1].expr()*m\n",
    "DepssY_comp_r_eq1"
   ]
  },
  {
   "cell_type": "code",
   "execution_count": 548,
   "id": "de8a18d8",
   "metadata": {},
   "outputs": [
    {
     "data": {
      "text/html": [
       "<html>\\(\\displaystyle 0 = \\mathrm{D}_{0}\\left(X_{1}\\right)\\left(s, 0\\right)\\)</html>"
      ],
      "text/latex": [
       "$\\displaystyle 0 = \\mathrm{D}_{0}\\left(X_{1}\\right)\\left(s, 0\\right)$"
      ],
      "text/plain": [
       "0 == D[0](X_1)(s, 0)"
      ]
     },
     "execution_count": 548,
     "metadata": {},
     "output_type": "execute_result"
    }
   ],
   "source": [
    "DepssY_comp_th_eq1 = Deps_dsY_CL[2].expr()*r == Deps_dsY_out_in_CL[2].expr()*r\n",
    "DepssY_comp_th_eq1"
   ]
  },
  {
   "cell_type": "markdown",
   "id": "adef0569",
   "metadata": {},
   "source": [
    "This is consistent with our earlier result that $[X^1] = 0$."
   ]
  },
  {
   "cell_type": "code",
   "execution_count": 549,
   "id": "54869246",
   "metadata": {},
   "outputs": [
    {
     "data": {
      "text/html": [
       "<html>\\(\\displaystyle \\frac{l + X_{2}\\left(s, 0\\right)}{s} = \\mathrm{D}_{0}\\left(X_{2}\\right)\\left(s, 0\\right)\\)</html>"
      ],
      "text/latex": [
       "$\\displaystyle \\frac{l + X_{2}\\left(s, 0\\right)}{s} = \\mathrm{D}_{0}\\left(X_{2}\\right)\\left(s, 0\\right)$"
      ],
      "text/plain": [
       "(l + X_2(s, 0))/s == D[0](X_2)(s, 0)"
      ]
     },
     "execution_count": 549,
     "metadata": {},
     "output_type": "execute_result"
    }
   ],
   "source": [
    "DepssY_comp_ph_eq1 = ((Deps_dsY_CL[3].expr() == Deps_dsY_out_in_CL[3].expr())*r)\\\n",
    ".subs({xi_ph_0:xi_comp_ph_eq1.rhs()}).subs({r:r0_sol}).simplify_full()\n",
    "DepssY_comp_ph_eq1"
   ]
  },
  {
   "cell_type": "code",
   "execution_count": 550,
   "id": "7978c9f9",
   "metadata": {},
   "outputs": [
    {
     "data": {
      "text/html": [
       "<html>\\(\\displaystyle \\left(f_{2}\\left(s\\right), \\frac{\\partial}{\\partial s}f_{2}\\left(s\\right)\\right)\\)</html>"
      ],
      "text/latex": [
       "$\\displaystyle \\left(f_{2}\\left(s\\right), \\frac{\\partial}{\\partial s}f_{2}\\left(s\\right)\\right)$"
      ],
      "text/plain": [
       "(f_2(s), diff(f_2(s), s))"
      ]
     },
     "execution_count": 550,
     "metadata": {},
     "output_type": "execute_result"
    }
   ],
   "source": [
    "f2 = function('f_2')(s)\n",
    "df2 = f2.diff(s, 1)\n",
    "f2, df2"
   ]
  },
  {
   "cell_type": "code",
   "execution_count": 551,
   "id": "cc90c902",
   "metadata": {},
   "outputs": [
    {
     "data": {
      "text/html": [
       "<html>\\(\\displaystyle \\frac{l + f_{2}\\left(s\\right)}{s} = \\frac{\\partial}{\\partial s}f_{2}\\left(s\\right)\\)</html>"
      ],
      "text/latex": [
       "$\\displaystyle \\frac{l + f_{2}\\left(s\\right)}{s} = \\frac{\\partial}{\\partial s}f_{2}\\left(s\\right)$"
      ],
      "text/plain": [
       "(l + f_2(s))/s == diff(f_2(s), s)"
      ]
     },
     "execution_count": 551,
     "metadata": {},
     "output_type": "execute_result"
    }
   ],
   "source": [
    "DepssY_comp_ph_eq2 = DepssY_comp_ph_eq1.subs({X2_0:f2}).subs({dsX2_0:df2})\n",
    "DepssY_comp_ph_eq2"
   ]
  },
  {
   "cell_type": "code",
   "execution_count": 552,
   "id": "3ca6dd05",
   "metadata": {},
   "outputs": [
    {
     "data": {
      "text/html": [
       "<html>\\(\\displaystyle {\\left(C - \\frac{l}{s}\\right)} s\\)</html>"
      ],
      "text/latex": [
       "$\\displaystyle {\\left(C - \\frac{l}{s}\\right)} s$"
      ],
      "text/plain": [
       "(_C - l/s)*s"
      ]
     },
     "execution_count": 552,
     "metadata": {},
     "output_type": "execute_result"
    }
   ],
   "source": [
    "desolve(DepssY_comp_ph_eq2, f2, ivar=s)"
   ]
  },
  {
   "cell_type": "code",
   "execution_count": 553,
   "id": "ae498a98",
   "metadata": {},
   "outputs": [
    {
     "data": {
      "text/html": [
       "<html>\\(\\displaystyle C_{2} s - l\\)</html>"
      ],
      "text/latex": [
       "$\\displaystyle C_{2} s - l$"
      ],
      "text/plain": [
       "C_2*s - l"
      ]
     },
     "execution_count": 553,
     "metadata": {},
     "output_type": "execute_result"
    }
   ],
   "source": [
    "C2 = var('C_2')\n",
    "X2_O1_sol = C2*s - l\n",
    "X2_O1_sol"
   ]
  },
  {
   "cell_type": "markdown",
   "id": "be253d2c",
   "metadata": {},
   "source": [
    "At this point, we find that \n",
    "$\n",
    "U (s, \\epsilon) = s + \\epsilon C_U + \\mathcal{O} (\\epsilon^2), \\\\\n",
    "X^1 (s, \\epsilon) = 0 + \\mathcal{O} (\\epsilon), \\\\\n",
    "X^2 (s, \\epsilon) = C_2 s - l + \\mathcal{O} (\\epsilon).\n",
    "$\n",
    "\n",
    "To determine the leading order behaviour of $V (s, \\epsilon)$, we plug the above results into the expression for the line element\n",
    "$\n",
    "g_{a' b'} \\partial_s Y^{a'} \\partial_s Y^{b'} = \\epsilon^2 \\big ( -2 [ \\partial_s U \\partial_s V ] + [ \\partial_s X^i \\partial_s X_i ] \\big )\n",
    "$, where we have used the fact that the Penrose limit spacetime corresponding to our system is also flat space with a vanishing waveform matrix."
   ]
  },
  {
   "cell_type": "code",
   "execution_count": 554,
   "id": "e832d1a5",
   "metadata": {},
   "outputs": [
    {
     "data": {
      "text/html": [
       "<html>\\(\\displaystyle C_{2}\\)</html>"
      ],
      "text/latex": [
       "$\\displaystyle C_{2}$"
      ],
      "text/plain": [
       "C_2"
      ]
     },
     "execution_count": 554,
     "metadata": {},
     "output_type": "execute_result"
    }
   ],
   "source": [
    "dsX2_O1_sol = X2_O1_sol.diff(s, 1)\n",
    "dsX2_O1_sol"
   ]
  },
  {
   "cell_type": "code",
   "execution_count": 555,
   "id": "e55146e0",
   "metadata": {},
   "outputs": [
    {
     "data": {
      "text/html": [
       "<html>\\(\\displaystyle -\\epsilon^{2}\\)</html>"
      ],
      "text/latex": [
       "$\\displaystyle -\\epsilon^{2}$"
      ],
      "text/plain": [
       "-epsilon^2"
      ]
     },
     "execution_count": 555,
     "metadata": {},
     "output_type": "execute_result"
    }
   ],
   "source": [
    "gdsYdsY = g(dsY, dsY).expr()\n",
    "gdsYdsY"
   ]
  },
  {
   "cell_type": "code",
   "execution_count": 556,
   "id": "590a59ce",
   "metadata": {},
   "outputs": [
    {
     "data": {
      "text/html": [
       "<html>\\(\\displaystyle -\\epsilon^{2} = -{\\left(2 \\, \\mathrm{D}_{0}\\left(U\\right)\\left(s, 0\\right) \\mathrm{D}_{0}\\left(V\\right)\\left(s, 0\\right) - \\mathrm{D}_{0}\\left(X_{1}\\right)\\left(s, 0\\right)^{2} - \\mathrm{D}_{0}\\left(X_{2}\\right)\\left(s, 0\\right)^{2}\\right)} \\epsilon^{2}\\)</html>"
      ],
      "text/latex": [
       "$\\displaystyle -\\epsilon^{2} = -{\\left(2 \\, \\mathrm{D}_{0}\\left(U\\right)\\left(s, 0\\right) \\mathrm{D}_{0}\\left(V\\right)\\left(s, 0\\right) - \\mathrm{D}_{0}\\left(X_{1}\\right)\\left(s, 0\\right)^{2} - \\mathrm{D}_{0}\\left(X_{2}\\right)\\left(s, 0\\right)^{2}\\right)} \\epsilon^{2}$"
      ],
      "text/plain": [
       "-epsilon^2 == -(2*D[0](U)(s, 0)*D[0](V)(s, 0) - D[0](X_1)(s, 0)^2 - D[0](X_2)(s, 0)^2)*epsilon^2"
      ]
     },
     "execution_count": 556,
     "metadata": {},
     "output_type": "execute_result"
    }
   ],
   "source": [
    "LO_line_el_eq1 = gdsYdsY == eps^2*( -2*dsU0*dsV0 + dsX1_0*dsX1_0 + dsX2_0*dsX2_0 )\n",
    "LO_line_el_eq1"
   ]
  },
  {
   "cell_type": "code",
   "execution_count": 557,
   "id": "aa7e5a9d",
   "metadata": {},
   "outputs": [
    {
     "data": {
      "text/html": [
       "<html>\\(\\displaystyle \\frac{1}{2} \\, C_{2}^{2} + \\frac{1}{2} = \\mathrm{D}_{0}\\left(V\\right)\\left(s, 0\\right)\\)</html>"
      ],
      "text/latex": [
       "$\\displaystyle \\frac{1}{2} \\, C_{2}^{2} + \\frac{1}{2} = \\mathrm{D}_{0}\\left(V\\right)\\left(s, 0\\right)$"
      ],
      "text/plain": [
       "1/2*C_2^2 + 1/2 == D[0](V)(s, 0)"
      ]
     },
     "execution_count": 557,
     "metadata": {},
     "output_type": "execute_result"
    }
   ],
   "source": [
    "LO_line_el_eq2 = ((LO_line_el_eq1/(-eps^2)).subs({dsX1_0:0}).subs({dsX2_0:dsX2_O1_sol}).subs({dsU0:1}) + C2^2)/2\n",
    "LO_line_el_eq2"
   ]
  },
  {
   "cell_type": "code",
   "execution_count": 558,
   "id": "53dc3d66",
   "metadata": {},
   "outputs": [
    {
     "data": {
      "text/html": [
       "<html>\\(\\displaystyle \\left(\\frac{1}{2} \\, {\\left(C_{2}^{2} + 1\\right)} s + C_{V}, \\frac{1}{2} \\, C_{2}^{2} + \\frac{1}{2}\\right)\\)</html>"
      ],
      "text/latex": [
       "$\\displaystyle \\left(\\frac{1}{2} \\, {\\left(C_{2}^{2} + 1\\right)} s + C_{V}, \\frac{1}{2} \\, C_{2}^{2} + \\frac{1}{2}\\right)$"
      ],
      "text/plain": [
       "(1/2*(C_2^2 + 1)*s + C_V, 1/2*C_2^2 + 1/2)"
      ]
     },
     "execution_count": 558,
     "metadata": {},
     "output_type": "execute_result"
    }
   ],
   "source": [
    "CV = var('C_V')\n",
    "V0_sol = s*(C2^2 + 1)/2 + CV\n",
    "dsV0_sol = V0_sol.diff(s, 1).subs({eps:0})\n",
    "V0_sol, dsV0_sol"
   ]
  },
  {
   "cell_type": "markdown",
   "id": "1c3eeb3c",
   "metadata": {},
   "source": [
    "Thus, we have determined the behaviour of the functions $(U, V, X^i)$ to be\n",
    "$\n",
    "U (s, \\epsilon) = s + \\epsilon C_U + \\mathcal{O} (\\epsilon^2), \\\\\n",
    "V (s, \\epsilon) = \\frac{C_2^2 + 1}{2} s + C_V, \\\\\n",
    "X^1 (s, \\epsilon) = 0 + \\mathcal{O} (\\epsilon), \\\\\n",
    "X^2 (s, \\epsilon) = C_2 s - l + \\mathcal{O} (\\epsilon).\n",
    "$\n",
    "\n",
    "\n",
    "We can now plug these values back into the coincidence limit of the deviation vector to determine the first order correction to the original coordinates. For instance, the $t$-component of the CL of the deviation vector gives the relation $\\xi_t (s, 0) = \\frac{1}{m} \\partial_{\\epsilon} U \\rvert_{\\epsilon = 0}$. But we know that $[\\xi^t] \\equiv \\xi_t (s, 0) = \\partial_{\\epsilon} t \\rvert_{\\epsilon = 0}$. Thus, we have $\\partial_{\\epsilon} t \\rvert_{\\epsilon = 0} = \\frac{1}{m} \\partial_{\\epsilon} U \\rvert_{\\epsilon = 0} = \\frac{C_U}{m}$, from which it follows that $t (s, \\epsilon) = \\frac{s}{m} + \\epsilon \\frac{C_U}{m} + \\mathcal{O} (\\epsilon^2)$."
   ]
  },
  {
   "cell_type": "code",
   "execution_count": 559,
   "id": "85037bad",
   "metadata": {},
   "outputs": [
    {
     "data": {
      "text/html": [
       "<html>\\(\\displaystyle C_{U}\\)</html>"
      ],
      "text/latex": [
       "$\\displaystyle C_{U}$"
      ],
      "text/plain": [
       "C_U"
      ]
     },
     "execution_count": 559,
     "metadata": {},
     "output_type": "execute_result"
    }
   ],
   "source": [
    "depsU0_sol = U_Oeps_sol.diff(eps, 1).subs({eps:0})\n",
    "depsU0_sol"
   ]
  },
  {
   "cell_type": "code",
   "execution_count": 560,
   "id": "07bfb27a",
   "metadata": {},
   "outputs": [
    {
     "data": {
      "text/html": [
       "<html>\\(\\displaystyle \\frac{C_{U} \\epsilon}{m} + \\frac{s}{m}\\)</html>"
      ],
      "text/latex": [
       "$\\displaystyle \\frac{C_{U} \\epsilon}{m} + \\frac{s}{m}$"
      ],
      "text/plain": [
       "C_U*epsilon/m + s/m"
      ]
     },
     "execution_count": 560,
     "metadata": {},
     "output_type": "execute_result"
    }
   ],
   "source": [
    "t_Oeps_sol = (t0_sol + eps*xi_t_0).subs({xi_t_0:xi_comp_t_eq1.rhs()}).subs({depsU0:depsU0_sol})\n",
    "t_Oeps_sol"
   ]
  },
  {
   "cell_type": "code",
   "execution_count": 561,
   "id": "22ed1b29",
   "metadata": {},
   "outputs": [
    {
     "data": {
      "text/html": [
       "<html>\\(\\displaystyle \\frac{C_{U} \\epsilon}{m} + \\frac{s}{m}\\)</html>"
      ],
      "text/latex": [
       "$\\displaystyle \\frac{C_{U} \\epsilon}{m} + \\frac{s}{m}$"
      ],
      "text/plain": [
       "C_U*epsilon/m + s/m"
      ]
     },
     "execution_count": 561,
     "metadata": {},
     "output_type": "execute_result"
    }
   ],
   "source": [
    "r_Oeps_sol = (r0_sol + eps*xi_r_0).subs({xi_r_0:xi_comp_r_eq1.rhs()}).subs({depsU0:depsU0_sol})\n",
    "r_Oeps_sol"
   ]
  },
  {
   "cell_type": "code",
   "execution_count": 562,
   "id": "e5c25602",
   "metadata": {},
   "outputs": [
    {
     "data": {
      "text/html": [
       "<html>\\(\\displaystyle \\frac{{\\left(C_{2} s - l\\right)} \\epsilon m}{s} + \\Phi_{0}\\)</html>"
      ],
      "text/latex": [
       "$\\displaystyle \\frac{{\\left(C_{2} s - l\\right)} \\epsilon m}{s} + \\Phi_{0}$"
      ],
      "text/plain": [
       "(C_2*s - l)*epsilon*m/s + Phi_0"
      ]
     },
     "execution_count": 562,
     "metadata": {},
     "output_type": "execute_result"
    }
   ],
   "source": [
    "ph_Oeps_sol = (ph0_sol + eps*xi_ph_0).subs({xi_ph_0:xi_comp_ph_eq1.rhs()}).subs({r:r0_sol}).subs({X2_0:X2_O1_sol})\n",
    "ph_Oeps_sol"
   ]
  },
  {
   "cell_type": "markdown",
   "id": "25b1e353",
   "metadata": {},
   "source": [
    "Thus, the first order correction to the original coordinates are\n",
    "$\n",
    "t (s, \\epsilon) = \\frac{s + \\epsilon C_U}{m} + \\mathcal{O} (\\epsilon^2) = \\frac{U (s, \\epsilon)}{m} + \\mathcal{O} (\\epsilon^2), \\\\\n",
    "r (s, \\epsilon) = \\frac{s + \\epsilon C_U}{m} + \\mathcal{O} (\\epsilon^2) = \\frac{U (s, \\epsilon)}{m} + \\mathcal{O} (\\epsilon^2), \\\\\n",
    "\\theta (s, \\epsilon) = \\frac{\\pi}{2}, \\\\\n",
    "\\phi (s, \\epsilon) = \\Phi_0 + \\epsilon \\frac{[X^2]}{r_0} = \\Phi_0 + \\epsilon \\frac{m X^2}{U} + \\mathcal{O} (\\epsilon^2) = \\Phi_0 + \\epsilon m \\big ( C_2 - \\frac{l}{s} \\big ) + \\mathcal{O} (\\epsilon^2).\n",
    "$\n",
    "\n",
    "We can now compute the Jacobian matrix $J^{a'}{}_{A} = \\frac{\\partial x^{a'}}{\\partial x^A}$ with $x^{a'} = (t, r, \\theta, \\phi)$, and $x^A = (U, V, X^i)$."
   ]
  },
  {
   "cell_type": "code",
   "execution_count": 563,
   "id": "5520af4c",
   "metadata": {},
   "outputs": [
    {
     "data": {
      "text/html": [
       "<html>\\(\\displaystyle \\frac{1}{2} \\, \\pi\\)</html>"
      ],
      "text/latex": [
       "$\\displaystyle \\frac{1}{2} \\, \\pi$"
      ],
      "text/plain": [
       "1/2*pi"
      ]
     },
     "execution_count": 563,
     "metadata": {},
     "output_type": "execute_result"
    }
   ],
   "source": [
    "th_Oeps_sol = pi/2\n",
    "th_Oeps_sol"
   ]
  },
  {
   "cell_type": "code",
   "execution_count": 564,
   "id": "52dab8be",
   "metadata": {},
   "outputs": [
    {
     "data": {
      "text/html": [
       "<html>\\(\\displaystyle \\left(\\frac{C_{U} \\epsilon}{m} + \\frac{s}{m}, \\frac{C_{U} \\epsilon}{m} + \\frac{s}{m}, \\frac{1}{2} \\, \\pi, \\frac{{\\left(C_{2} s - l\\right)} \\epsilon m}{s} + \\Phi_{0}\\right)\\)</html>"
      ],
      "text/latex": [
       "$\\displaystyle \\left(\\frac{C_{U} \\epsilon}{m} + \\frac{s}{m}, \\frac{C_{U} \\epsilon}{m} + \\frac{s}{m}, \\frac{1}{2} \\, \\pi, \\frac{{\\left(C_{2} s - l\\right)} \\epsilon m}{s} + \\Phi_{0}\\right)$"
      ],
      "text/plain": [
       "(C_U*epsilon/m + s/m,\n",
       " C_U*epsilon/m + s/m,\n",
       " 1/2*pi,\n",
       " (C_2*s - l)*epsilon*m/s + Phi_0)"
      ]
     },
     "execution_count": 564,
     "metadata": {},
     "output_type": "execute_result"
    }
   ],
   "source": [
    "t_Oeps_sol, r_Oeps_sol, th_Oeps_sol, ph_Oeps_sol"
   ]
  },
  {
   "cell_type": "code",
   "execution_count": 565,
   "id": "c9d96904",
   "metadata": {},
   "outputs": [
    {
     "data": {
      "text/html": [
       "<html>\\(\\displaystyle \\left(\\frac{U\\left(s, \\epsilon\\right)}{m}, \\frac{U\\left(s, \\epsilon\\right)}{m}, \\frac{1}{2} \\, \\pi, \\frac{\\epsilon m X_{2}\\left(s, \\epsilon\\right)}{U\\left(s, \\epsilon\\right)} + \\Phi_{0}\\right)\\)</html>"
      ],
      "text/latex": [
       "$\\displaystyle \\left(\\frac{U\\left(s, \\epsilon\\right)}{m}, \\frac{U\\left(s, \\epsilon\\right)}{m}, \\frac{1}{2} \\, \\pi, \\frac{\\epsilon m X_{2}\\left(s, \\epsilon\\right)}{U\\left(s, \\epsilon\\right)} + \\Phi_{0}\\right)$"
      ],
      "text/plain": [
       "(U(s, epsilon)/m,\n",
       " U(s, epsilon)/m,\n",
       " 1/2*pi,\n",
       " epsilon*m*X_2(s, epsilon)/U(s, epsilon) + Phi_0)"
      ]
     },
     "execution_count": 565,
     "metadata": {},
     "output_type": "execute_result"
    }
   ],
   "source": [
    "t_UVX_rel = U/m\n",
    "r_UVX_rel = U/m\n",
    "th_UVX_rel = pi/2\n",
    "ph_UVX_rel = ph_init + eps*m*X2/U\n",
    "t_UVX_rel, r_UVX_rel, th_UVX_rel, ph_UVX_rel"
   ]
  },
  {
   "cell_type": "code",
   "execution_count": 566,
   "id": "f0f36ef4",
   "metadata": {},
   "outputs": [
    {
     "data": {
      "text/html": [
       "<html>\\(\\displaystyle \\left(\\begin{array}{rrr}\n",
       "\\frac{1}{m} & 0 & 0 \\\\\n",
       "\\frac{1}{m} & 0 & 0 \\\\\n",
       "-\\frac{\\epsilon m X_{2}\\left(s, \\epsilon\\right)}{U\\left(s, \\epsilon\\right)^{2}} & 0 & \\frac{\\epsilon m}{U\\left(s, \\epsilon\\right)}\n",
       "\\end{array}\\right)\\)</html>"
      ],
      "text/latex": [
       "$\\displaystyle \\left(\\begin{array}{rrr}\n",
       "\\frac{1}{m} & 0 & 0 \\\\\n",
       "\\frac{1}{m} & 0 & 0 \\\\\n",
       "-\\frac{\\epsilon m X_{2}\\left(s, \\epsilon\\right)}{U\\left(s, \\epsilon\\right)^{2}} & 0 & \\frac{\\epsilon m}{U\\left(s, \\epsilon\\right)}\n",
       "\\end{array}\\right)$"
      ],
      "text/plain": [
       "[                                       1/m                                          0                                          0]\n",
       "[                                       1/m                                          0                                          0]\n",
       "[-epsilon*m*X_2(s, epsilon)/U(s, epsilon)^2                                          0                    epsilon*m/U(s, epsilon)]"
      ]
     },
     "execution_count": 566,
     "metadata": {},
     "output_type": "execute_result"
    }
   ],
   "source": [
    "jac = matrix([[1/m, 0, 0], [1/m, 0, 0], [-eps*m*X2/U^2, 0, eps*m/U]])\n",
    "jac[:]"
   ]
  },
  {
   "cell_type": "code",
   "execution_count": 567,
   "id": "6e7d14c3",
   "metadata": {},
   "outputs": [
    {
     "data": {
      "text/html": [
       "<html>\\(\\displaystyle 0\\)</html>"
      ],
      "text/latex": [
       "$\\displaystyle 0$"
      ],
      "text/plain": [
       "0"
      ]
     },
     "execution_count": 567,
     "metadata": {},
     "output_type": "execute_result"
    }
   ],
   "source": [
    "jac.determinant()"
   ]
  },
  {
   "cell_type": "markdown",
   "id": "1240e570",
   "metadata": {},
   "source": [
    "Clearly up to $\\mathcal{O} (\\epsilon^2)$, the Jacobian is singular and thus not invertible. We would like to go one order higher and check this again.\n",
    "\n",
    "The second $\\epsilon$-derivative of the tangent vector in the outside-in formalism has the following coincidence limit (where we have chosen $\\lambda (\\epsilon) = \\epsilon$)\n",
    "$\n",
    "[ D_{\\epsilon \\epsilon s} Y^{a'} ] = R^{a}{}_{c d b} \\dot{z}^b \\dot{z}^c e^d_i [ X^i \\partial_s U \\partial_{\\epsilon} U ] + R^{a}{}_{d c b} \\dot{b} e^c_i e^d_j [ X^i X^j \\partial_s U ] + \\dot{z}^a [\\partial_{\\epsilon \\epsilon s} U] + 2 ( e^a_i [\\partial_{\\epsilon s} X^i] + n^a [\\partial_s V] ).\n",
    "$\n",
    "\n",
    "In our case, since the Riemann tensor components all vanish, this simplifies to\n",
    "$\n",
    "[ D_{\\epsilon \\epsilon s} Y^{a'} ] = \\dot{z}^a [ \\partial_{\\epsilon \\epsilon s} U ] + 2 ( e^a_i [ \\partial_{\\epsilon s} X^i ] + n^a [ \\partial_s V ] )\n",
    "$"
   ]
  },
  {
   "cell_type": "code",
   "execution_count": 568,
   "id": "8ae9e762",
   "metadata": {},
   "outputs": [
    {
     "data": {
      "text/html": [
       "<html>\\(\\displaystyle \\left[0, \\frac{2 \\, {\\left(\\epsilon^{5} l^{5} r + {\\left(\\epsilon^{5} l m^{4} - 2 \\, \\epsilon^{3} l m^{2} + \\epsilon l\\right)} r^{5} + 2 \\, {\\left(\\epsilon^{5} l^{3} m^{2} - \\epsilon^{3} l^{3}\\right)} r^{3}\\right)} \\xi_{\\phi}\\left(s, \\epsilon\\right) \\xi_{r}\\left(s, \\epsilon\\right) - 2 \\, {\\left(\\epsilon^{4} l^{5} r^{2} + {\\left(\\epsilon^{4} l m^{4} - 2 \\, \\epsilon^{2} l m^{2} + l\\right)} r^{6} + 2 \\, {\\left(\\epsilon^{4} l^{3} m^{2} - \\epsilon^{2} l^{3}\\right)} r^{4}\\right)} \\xi_{\\phi}\\left(s, \\epsilon\\right) - {\\left(\\epsilon^{5} l^{5} r^{2} + {\\left(\\epsilon^{5} l m^{4} - 2 \\, \\epsilon^{3} l m^{2} + \\epsilon l\\right)} r^{6} + 2 \\, {\\left(\\epsilon^{5} l^{3} m^{2} - \\epsilon^{3} l^{3}\\right)} r^{4}\\right)} \\frac{\\partial\\,\\xi_{\\phi}}{\\partial \\epsilon} - {\\left(m^{2} r^{6} + l^{2} r^{4} + {\\left(\\epsilon^{4} l^{4} r^{2} + {\\left(\\epsilon^{4} m^{4} - 2 \\, \\epsilon^{2} m^{2} + 1\\right)} r^{6} + 2 \\, {\\left(\\epsilon^{4} l^{2} m^{2} - \\epsilon^{2} l^{2}\\right)} r^{4}\\right)} \\xi_{\\phi}\\left(s, \\epsilon\\right)^{2} - {\\left(2 \\, \\epsilon^{4} l^{4} + 3 \\, {\\left(\\epsilon^{4} l^{2} m^{2} - \\epsilon^{2} l^{2}\\right)} r^{2}\\right)} \\xi_{r}\\left(s, \\epsilon\\right)^{2} + 2 \\, {\\left(\\epsilon^{3} l^{4} r + {\\left(\\epsilon^{3} l^{2} m^{2} - 2 \\, \\epsilon l^{2}\\right)} r^{3}\\right)} \\xi_{r}\\left(s, \\epsilon\\right) + {\\left(\\epsilon^{4} l^{4} r + {\\left(\\epsilon^{4} l^{2} m^{2} - \\epsilon^{2} l^{2}\\right)} r^{3}\\right)} \\frac{\\partial\\,\\xi_{r}}{\\partial \\epsilon}\\right)} \\sqrt{-\\epsilon^{2} l^{2} - {\\left(\\epsilon^{2} m^{2} - 1\\right)} r^{2}}}{\\epsilon^{4} l^{4} m r^{3} + {\\left(\\epsilon^{4} m^{5} - 2 \\, \\epsilon^{2} m^{3} + m\\right)} r^{7} + 2 \\, {\\left(\\epsilon^{4} l^{2} m^{3} - \\epsilon^{2} l^{2} m\\right)} r^{5}}, 0, -\\frac{{\\left(\\epsilon^{3} l^{3} r^{2} + {\\left(\\epsilon^{3} l m^{2} - \\epsilon l\\right)} r^{4}\\right)} \\xi_{\\phi}\\left(s, \\epsilon\\right)^{2} - 2 \\, {\\left(\\epsilon^{3} l^{3} + {\\left(\\epsilon^{3} l m^{2} - \\epsilon l\\right)} r^{2}\\right)} \\xi_{r}\\left(s, \\epsilon\\right)^{2} + 2 \\, {\\left(\\epsilon^{2} l^{3} r + {\\left(\\epsilon^{2} l m^{2} - l\\right)} r^{3}\\right)} \\xi_{r}\\left(s, \\epsilon\\right) + {\\left(\\epsilon^{3} l^{3} r + {\\left(\\epsilon^{3} l m^{2} - \\epsilon l\\right)} r^{3}\\right)} \\frac{\\partial\\,\\xi_{r}}{\\partial \\epsilon} + {\\left(2 \\, \\epsilon^{2} l^{2} r \\xi_{\\phi}\\left(s, \\epsilon\\right) \\xi_{r}\\left(s, \\epsilon\\right) - 2 \\, {\\left(\\epsilon m^{2} r^{4} + \\epsilon l^{2} r^{2}\\right)} \\xi_{\\phi}\\left(s, \\epsilon\\right) - {\\left(\\epsilon^{2} l^{2} r^{2} + {\\left(\\epsilon^{2} m^{2} - 1\\right)} r^{4}\\right)} \\frac{\\partial\\,\\xi_{\\phi}}{\\partial \\epsilon}\\right)} \\sqrt{-\\epsilon^{2} l^{2} - {\\left(\\epsilon^{2} m^{2} - 1\\right)} r^{2}}}{\\epsilon^{2} l^{2} m r^{4} + {\\left(\\epsilon^{2} m^{3} - m\\right)} r^{6}}\\right]\\)</html>"
      ],
      "text/latex": [
       "$\\displaystyle \\left[0, \\frac{2 \\, {\\left(\\epsilon^{5} l^{5} r + {\\left(\\epsilon^{5} l m^{4} - 2 \\, \\epsilon^{3} l m^{2} + \\epsilon l\\right)} r^{5} + 2 \\, {\\left(\\epsilon^{5} l^{3} m^{2} - \\epsilon^{3} l^{3}\\right)} r^{3}\\right)} \\xi_{\\phi}\\left(s, \\epsilon\\right) \\xi_{r}\\left(s, \\epsilon\\right) - 2 \\, {\\left(\\epsilon^{4} l^{5} r^{2} + {\\left(\\epsilon^{4} l m^{4} - 2 \\, \\epsilon^{2} l m^{2} + l\\right)} r^{6} + 2 \\, {\\left(\\epsilon^{4} l^{3} m^{2} - \\epsilon^{2} l^{3}\\right)} r^{4}\\right)} \\xi_{\\phi}\\left(s, \\epsilon\\right) - {\\left(\\epsilon^{5} l^{5} r^{2} + {\\left(\\epsilon^{5} l m^{4} - 2 \\, \\epsilon^{3} l m^{2} + \\epsilon l\\right)} r^{6} + 2 \\, {\\left(\\epsilon^{5} l^{3} m^{2} - \\epsilon^{3} l^{3}\\right)} r^{4}\\right)} \\frac{\\partial\\,\\xi_{\\phi}}{\\partial \\epsilon} - {\\left(m^{2} r^{6} + l^{2} r^{4} + {\\left(\\epsilon^{4} l^{4} r^{2} + {\\left(\\epsilon^{4} m^{4} - 2 \\, \\epsilon^{2} m^{2} + 1\\right)} r^{6} + 2 \\, {\\left(\\epsilon^{4} l^{2} m^{2} - \\epsilon^{2} l^{2}\\right)} r^{4}\\right)} \\xi_{\\phi}\\left(s, \\epsilon\\right)^{2} - {\\left(2 \\, \\epsilon^{4} l^{4} + 3 \\, {\\left(\\epsilon^{4} l^{2} m^{2} - \\epsilon^{2} l^{2}\\right)} r^{2}\\right)} \\xi_{r}\\left(s, \\epsilon\\right)^{2} + 2 \\, {\\left(\\epsilon^{3} l^{4} r + {\\left(\\epsilon^{3} l^{2} m^{2} - 2 \\, \\epsilon l^{2}\\right)} r^{3}\\right)} \\xi_{r}\\left(s, \\epsilon\\right) + {\\left(\\epsilon^{4} l^{4} r + {\\left(\\epsilon^{4} l^{2} m^{2} - \\epsilon^{2} l^{2}\\right)} r^{3}\\right)} \\frac{\\partial\\,\\xi_{r}}{\\partial \\epsilon}\\right)} \\sqrt{-\\epsilon^{2} l^{2} - {\\left(\\epsilon^{2} m^{2} - 1\\right)} r^{2}}}{\\epsilon^{4} l^{4} m r^{3} + {\\left(\\epsilon^{4} m^{5} - 2 \\, \\epsilon^{2} m^{3} + m\\right)} r^{7} + 2 \\, {\\left(\\epsilon^{4} l^{2} m^{3} - \\epsilon^{2} l^{2} m\\right)} r^{5}}, 0, -\\frac{{\\left(\\epsilon^{3} l^{3} r^{2} + {\\left(\\epsilon^{3} l m^{2} - \\epsilon l\\right)} r^{4}\\right)} \\xi_{\\phi}\\left(s, \\epsilon\\right)^{2} - 2 \\, {\\left(\\epsilon^{3} l^{3} + {\\left(\\epsilon^{3} l m^{2} - \\epsilon l\\right)} r^{2}\\right)} \\xi_{r}\\left(s, \\epsilon\\right)^{2} + 2 \\, {\\left(\\epsilon^{2} l^{3} r + {\\left(\\epsilon^{2} l m^{2} - l\\right)} r^{3}\\right)} \\xi_{r}\\left(s, \\epsilon\\right) + {\\left(\\epsilon^{3} l^{3} r + {\\left(\\epsilon^{3} l m^{2} - \\epsilon l\\right)} r^{3}\\right)} \\frac{\\partial\\,\\xi_{r}}{\\partial \\epsilon} + {\\left(2 \\, \\epsilon^{2} l^{2} r \\xi_{\\phi}\\left(s, \\epsilon\\right) \\xi_{r}\\left(s, \\epsilon\\right) - 2 \\, {\\left(\\epsilon m^{2} r^{4} + \\epsilon l^{2} r^{2}\\right)} \\xi_{\\phi}\\left(s, \\epsilon\\right) - {\\left(\\epsilon^{2} l^{2} r^{2} + {\\left(\\epsilon^{2} m^{2} - 1\\right)} r^{4}\\right)} \\frac{\\partial\\,\\xi_{\\phi}}{\\partial \\epsilon}\\right)} \\sqrt{-\\epsilon^{2} l^{2} - {\\left(\\epsilon^{2} m^{2} - 1\\right)} r^{2}}}{\\epsilon^{2} l^{2} m r^{4} + {\\left(\\epsilon^{2} m^{3} - m\\right)} r^{6}}\\right]$"
      ],
      "text/plain": [
       "[0,\n",
       " (2*(epsilon^5*l^5*r + (epsilon^5*l*m^4 - 2*epsilon^3*l*m^2 + epsilon*l)*r^5 + 2*(epsilon^5*l^3*m^2 - epsilon^3*l^3)*r^3)*xi_phi(s, epsilon)*xi_r(s, epsilon) - 2*(epsilon^4*l^5*r^2 + (epsilon^4*l*m^4 - 2*epsilon^2*l*m^2 + l)*r^6 + 2*(epsilon^4*l^3*m^2 - epsilon^2*l^3)*r^4)*xi_phi(s, epsilon) - (epsilon^5*l^5*r^2 + (epsilon^5*l*m^4 - 2*epsilon^3*l*m^2 + epsilon*l)*r^6 + 2*(epsilon^5*l^3*m^2 - epsilon^3*l^3)*r^4)*d(xi_phi)/depsilon - (m^2*r^6 + l^2*r^4 + (epsilon^4*l^4*r^2 + (epsilon^4*m^4 - 2*epsilon^2*m^2 + 1)*r^6 + 2*(epsilon^4*l^2*m^2 - epsilon^2*l^2)*r^4)*xi_phi(s, epsilon)^2 - (2*epsilon^4*l^4 + 3*(epsilon^4*l^2*m^2 - epsilon^2*l^2)*r^2)*xi_r(s, epsilon)^2 + 2*(epsilon^3*l^4*r + (epsilon^3*l^2*m^2 - 2*epsilon*l^2)*r^3)*xi_r(s, epsilon) + (epsilon^4*l^4*r + (epsilon^4*l^2*m^2 - epsilon^2*l^2)*r^3)*d(xi_r)/depsilon)*sqrt(-epsilon^2*l^2 - (epsilon^2*m^2 - 1)*r^2))/(epsilon^4*l^4*m*r^3 + (epsilon^4*m^5 - 2*epsilon^2*m^3 + m)*r^7 + 2*(epsilon^4*l^2*m^3 - epsilon^2*l^2*m)*r^5),\n",
       " 0,\n",
       " -((epsilon^3*l^3*r^2 + (epsilon^3*l*m^2 - epsilon*l)*r^4)*xi_phi(s, epsilon)^2 - 2*(epsilon^3*l^3 + (epsilon^3*l*m^2 - epsilon*l)*r^2)*xi_r(s, epsilon)^2 + 2*(epsilon^2*l^3*r + (epsilon^2*l*m^2 - l)*r^3)*xi_r(s, epsilon) + (epsilon^3*l^3*r + (epsilon^3*l*m^2 - epsilon*l)*r^3)*d(xi_r)/depsilon + (2*epsilon^2*l^2*r*xi_phi(s, epsilon)*xi_r(s, epsilon) - 2*(epsilon*m^2*r^4 + epsilon*l^2*r^2)*xi_phi(s, epsilon) - (epsilon^2*l^2*r^2 + (epsilon^2*m^2 - 1)*r^4)*d(xi_phi)/depsilon)*sqrt(-epsilon^2*l^2 - (epsilon^2*m^2 - 1)*r^2))/(epsilon^2*l^2*m*r^4 + (epsilon^2*m^3 - m)*r^6)]"
      ]
     },
     "execution_count": 568,
     "metadata": {},
     "output_type": "execute_result"
    }
   ],
   "source": [
    "Deps2_dsY = D_eps(Deps_dsY)\n",
    "Deps2_dsY.apply_map(lambda cmp: cmp.subs({th:pi/2}))\n",
    "Deps2_dsY[:]"
   ]
  },
  {
   "cell_type": "code",
   "execution_count": 569,
   "id": "ff920490",
   "metadata": {},
   "outputs": [
    {
     "data": {
      "text/html": [
       "<html>\\(\\displaystyle \\left[0, -\\frac{2 \\, l r^{6} \\xi_{\\phi}\\left(s, 0\\right) + {\\left(m^{2} r^{6} + r^{6} \\xi_{\\phi}\\left(s, 0\\right)^{2} + l^{2} r^{4}\\right)} r}{m r^{7}}, 0, \\frac{r^{5} \\frac{\\partial\\,\\xi_{\\phi}}{\\partial 0} - 2 \\, l r^{3} \\xi_{r}\\left(s, 0\\right)}{m r^{6}}\\right]\\)</html>"
      ],
      "text/latex": [
       "$\\displaystyle \\left[0, -\\frac{2 \\, l r^{6} \\xi_{\\phi}\\left(s, 0\\right) + {\\left(m^{2} r^{6} + r^{6} \\xi_{\\phi}\\left(s, 0\\right)^{2} + l^{2} r^{4}\\right)} r}{m r^{7}}, 0, \\frac{r^{5} \\frac{\\partial\\,\\xi_{\\phi}}{\\partial 0} - 2 \\, l r^{3} \\xi_{r}\\left(s, 0\\right)}{m r^{6}}\\right]$"
      ],
      "text/plain": [
       "[0,\n",
       " -(2*l*r^6*xi_phi(s, 0) + (m^2*r^6 + r^6*xi_phi(s, 0)^2 + l^2*r^4)*r)/(m*r^7),\n",
       " 0,\n",
       " (r^5*d(xi_phi)/d0 - 2*l*r^3*xi_r(s, 0))/(m*r^6)]"
      ]
     },
     "execution_count": 569,
     "metadata": {},
     "output_type": "execute_result"
    }
   ],
   "source": [
    "Deps2_dsY_CL = Deps2_dsY.copy()\n",
    "Deps2_dsY_CL.apply_map(lambda cmp: cmp.subs({eps:0}))\n",
    "Deps2_dsY_CL[:]"
   ]
  },
  {
   "cell_type": "code",
   "execution_count": 570,
   "id": "774a9813",
   "metadata": {},
   "outputs": [
    {
     "data": {
      "text/html": [
       "<html>\\(\\displaystyle \\left(\\mathrm{D}_{0, 1, 1}\\left(U\\right)\\left(s, 0\\right), \\mathrm{D}_{0, 1}\\left(X_{1}\\right)\\left(s, 0\\right), \\mathrm{D}_{0, 1}\\left(X_{2}\\right)\\left(s, 0\\right)\\right)\\)</html>"
      ],
      "text/latex": [
       "$\\displaystyle \\left(\\mathrm{D}_{0, 1, 1}\\left(U\\right)\\left(s, 0\\right), \\mathrm{D}_{0, 1}\\left(X_{1}\\right)\\left(s, 0\\right), \\mathrm{D}_{0, 1}\\left(X_{2}\\right)\\left(s, 0\\right)\\right)$"
      ],
      "text/plain": [
       "(D[0, 1, 1](U)(s, 0), D[0, 1](X_1)(s, 0), D[0, 1](X_2)(s, 0))"
      ]
     },
     "execution_count": 570,
     "metadata": {},
     "output_type": "execute_result"
    }
   ],
   "source": [
    "deps2sU0 = U.diff(s, 1).diff(eps, 2).subs({eps:0})\n",
    "depssX1_0 = X1.diff(s, 1).diff(eps, 1).subs({eps:0})\n",
    "depssX2_0 = X2.diff(s, 1).diff(eps, 1).subs({eps:0})\n",
    "deps2sU0, depssX1_0, depssX2_0"
   ]
  },
  {
   "cell_type": "code",
   "execution_count": 571,
   "id": "97e050a1",
   "metadata": {},
   "outputs": [
    {
     "data": {
      "text/html": [
       "<html>\\(\\displaystyle \\left[\\frac{m^{2} \\frac{\\partial\\,V}{\\partial s} + \\frac{\\partial^3\\,U}{\\partial s\\partial 0 ^ 2}}{m}, -\\frac{m^{2} \\frac{\\partial\\,V}{\\partial s} - \\frac{\\partial^3\\,U}{\\partial s\\partial 0 ^ 2}}{m}, \\frac{2 \\, \\frac{\\partial^2\\,X_{1}}{\\partial s\\partial 0}}{r}, \\frac{2 \\, \\frac{\\partial^2\\,X_{2}}{\\partial s\\partial 0}}{r}\\right]\\)</html>"
      ],
      "text/latex": [
       "$\\displaystyle \\left[\\frac{m^{2} \\frac{\\partial\\,V}{\\partial s} + \\frac{\\partial^3\\,U}{\\partial s\\partial 0 ^ 2}}{m}, -\\frac{m^{2} \\frac{\\partial\\,V}{\\partial s} - \\frac{\\partial^3\\,U}{\\partial s\\partial 0 ^ 2}}{m}, \\frac{2 \\, \\frac{\\partial^2\\,X_{1}}{\\partial s\\partial 0}}{r}, \\frac{2 \\, \\frac{\\partial^2\\,X_{2}}{\\partial s\\partial 0}}{r}\\right]$"
      ],
      "text/plain": [
       "[(m^2*d(V)/ds + d^3(U)/dsd0^2)/m,\n",
       " -(m^2*d(V)/ds - d^3(U)/dsd0^2)/m,\n",
       " 2*d^2(X_1)/dsd0/r,\n",
       " 2*d^2(X_2)/dsd0/r]"
      ]
     },
     "execution_count": 571,
     "metadata": {},
     "output_type": "execute_result"
    }
   ],
   "source": [
    "Deps2_dsY_out_in_CL = zdot*deps2sU0 + e1*depssX1_0*2 + e2*depssX2_0*2 + n*dsV0*2\n",
    "Deps2_dsY_out_in_CL[:]"
   ]
  },
  {
   "cell_type": "code",
   "execution_count": 572,
   "id": "c894433a",
   "metadata": {},
   "outputs": [
    {
     "data": {
      "text/html": [
       "<html>\\(\\displaystyle 0 = m^{2} \\mathrm{D}_{0}\\left(V\\right)\\left(s, 0\\right) + \\mathrm{D}_{0, 1, 1}\\left(U\\right)\\left(s, 0\\right)\\)</html>"
      ],
      "text/latex": [
       "$\\displaystyle 0 = m^{2} \\mathrm{D}_{0}\\left(V\\right)\\left(s, 0\\right) + \\mathrm{D}_{0, 1, 1}\\left(U\\right)\\left(s, 0\\right)$"
      ],
      "text/plain": [
       "0 == m^2*D[0](V)(s, 0) + D[0, 1, 1](U)(s, 0)"
      ]
     },
     "execution_count": 572,
     "metadata": {},
     "output_type": "execute_result"
    }
   ],
   "source": [
    "O2_t_eq1 = (Deps2_dsY_CL[0].expr() == Deps2_dsY_out_in_CL[0].expr())*m\n",
    "O2_t_eq1"
   ]
  },
  {
   "cell_type": "code",
   "execution_count": 573,
   "id": "f24e02d7",
   "metadata": {},
   "outputs": [
    {
     "data": {
      "text/html": [
       "<html>\\(\\displaystyle -\\frac{1}{2} \\, {\\left(C_{2}^{2} + 1\\right)} m^{2} = \\mathrm{D}_{0, 1, 1}\\left(U\\right)\\left(s, 0\\right)\\)</html>"
      ],
      "text/latex": [
       "$\\displaystyle -\\frac{1}{2} \\, {\\left(C_{2}^{2} + 1\\right)} m^{2} = \\mathrm{D}_{0, 1, 1}\\left(U\\right)\\left(s, 0\\right)$"
      ],
      "text/plain": [
       "-1/2*(C_2^2 + 1)*m^2 == D[0, 1, 1](U)(s, 0)"
      ]
     },
     "execution_count": 573,
     "metadata": {},
     "output_type": "execute_result"
    }
   ],
   "source": [
    "O2_t_eq2 = O2_t_eq1.subs({dsV0:dsV0_sol}) - dsV0_sol*m^2\n",
    "O2_t_eq2"
   ]
  },
  {
   "cell_type": "code",
   "execution_count": 574,
   "id": "309ae0c9",
   "metadata": {},
   "outputs": [
    {
     "data": {
      "text/html": [
       "<html>\\(\\displaystyle \\left(-\\frac{1}{4} \\, {\\left({\\left(C_{2}^{2} + 1\\right)} m^{2} s - 2 \\, C_{U_{2}}\\right)} \\epsilon^{2} + C_{U} \\epsilon + s, -\\frac{1}{2} \\, {\\left(C_{2}^{2} + 1\\right)} m^{2}\\right)\\)</html>"
      ],
      "text/latex": [
       "$\\displaystyle \\left(-\\frac{1}{4} \\, {\\left({\\left(C_{2}^{2} + 1\\right)} m^{2} s - 2 \\, C_{U_{2}}\\right)} \\epsilon^{2} + C_{U} \\epsilon + s, -\\frac{1}{2} \\, {\\left(C_{2}^{2} + 1\\right)} m^{2}\\right)$"
      ],
      "text/plain": [
       "(-1/4*((C_2^2 + 1)*m^2*s - 2*C_U2)*epsilon^2 + C_U*epsilon + s,\n",
       " -1/2*(C_2^2 + 1)*m^2)"
      ]
     },
     "execution_count": 574,
     "metadata": {},
     "output_type": "execute_result"
    }
   ],
   "source": [
    "CU2 = var('C_U2')\n",
    "U_Oeps2_sol = U_Oeps_sol + (eps^2/2)*(O2_t_eq2.lhs().integrate(s) + CU2)\n",
    "deps2sU0_sol = U_Oeps2_sol.diff(s, 1).diff(eps, 2).subs({eps:0})\n",
    "U_Oeps2_sol, deps2sU0_sol"
   ]
  },
  {
   "cell_type": "code",
   "execution_count": 575,
   "id": "5ef871fb",
   "metadata": {},
   "outputs": [
    {
     "data": {
      "text/html": [
       "<html>\\(\\displaystyle -\\frac{2 \\, l r^{6} \\xi_{\\phi}\\left(s, 0\\right) + {\\left(m^{2} r^{6} + r^{6} \\xi_{\\phi}\\left(s, 0\\right)^{2} + l^{2} r^{4}\\right)} r}{m r^{7}} = -\\frac{m^{2} \\mathrm{D}_{0}\\left(V\\right)\\left(s, 0\\right) - \\mathrm{D}_{0, 1, 1}\\left(U\\right)\\left(s, 0\\right)}{m}\\)</html>"
      ],
      "text/latex": [
       "$\\displaystyle -\\frac{2 \\, l r^{6} \\xi_{\\phi}\\left(s, 0\\right) + {\\left(m^{2} r^{6} + r^{6} \\xi_{\\phi}\\left(s, 0\\right)^{2} + l^{2} r^{4}\\right)} r}{m r^{7}} = -\\frac{m^{2} \\mathrm{D}_{0}\\left(V\\right)\\left(s, 0\\right) - \\mathrm{D}_{0, 1, 1}\\left(U\\right)\\left(s, 0\\right)}{m}$"
      ],
      "text/plain": [
       "-(2*l*r^6*xi_phi(s, 0) + (m^2*r^6 + r^6*xi_phi(s, 0)^2 + l^2*r^4)*r)/(m*r^7) == -(m^2*D[0](V)(s, 0) - D[0, 1, 1](U)(s, 0))/m"
      ]
     },
     "execution_count": 575,
     "metadata": {},
     "output_type": "execute_result"
    }
   ],
   "source": [
    "O2_r_eq1 = Deps2_dsY_CL[1].expr() == Deps2_dsY_out_in_CL[1].expr()\n",
    "O2_r_eq1"
   ]
  },
  {
   "cell_type": "code",
   "execution_count": 576,
   "id": "b7bc908a",
   "metadata": {},
   "outputs": [
    {
     "data": {
      "text/html": [
       "<html>\\(\\displaystyle -{\\left(C_{2}^{2} + 1\\right)} m = -{\\left(C_{2}^{2} + 1\\right)} m\\)</html>"
      ],
      "text/latex": [
       "$\\displaystyle -{\\left(C_{2}^{2} + 1\\right)} m = -{\\left(C_{2}^{2} + 1\\right)} m$"
      ],
      "text/plain": [
       "-(C_2^2 + 1)*m == -(C_2^2 + 1)*m"
      ]
     },
     "execution_count": 576,
     "metadata": {},
     "output_type": "execute_result"
    }
   ],
   "source": [
    "O2_r_eq2 = O2_r_eq1.subs({xi_ph_0:xi_comp_ph_eq1.rhs()}).subs({X2_0:X2_O1_sol})\\\n",
    ".subs({r:r0_sol}).subs({dsV0:dsV0_sol}).subs({deps2sU0:deps2sU0_sol}).simplify_full()\n",
    "O2_r_eq2"
   ]
  },
  {
   "cell_type": "markdown",
   "id": "b16f05ed",
   "metadata": {},
   "source": [
    "This is consistent with the above solution for $U (s, \\epsilon) = s + \\epsilon C_U - \\frac{\\epsilon^2}{4} ( ( C_2^2 + 1 ) m^2 s - 2 C_{U_2} )$, where $C_U, C_{U_2}$ are integration constants independent of $s, \\epsilon$."
   ]
  },
  {
   "cell_type": "code",
   "execution_count": 577,
   "id": "defce5f1",
   "metadata": {},
   "outputs": [
    {
     "data": {
      "text/html": [
       "<html>\\(\\displaystyle 0 = \\mathrm{D}_{0, 1}\\left(X_{1}\\right)\\left(s, 0\\right)\\)</html>"
      ],
      "text/latex": [
       "$\\displaystyle 0 = \\mathrm{D}_{0, 1}\\left(X_{1}\\right)\\left(s, 0\\right)$"
      ],
      "text/plain": [
       "0 == D[0, 1](X_1)(s, 0)"
      ]
     },
     "execution_count": 577,
     "metadata": {},
     "output_type": "execute_result"
    }
   ],
   "source": [
    "O2_th_eq1 = (Deps2_dsY_CL[2].expr() == Deps2_dsY_out_in_CL[2].expr())*r/2\n",
    "O2_th_eq1"
   ]
  },
  {
   "cell_type": "code",
   "execution_count": 578,
   "id": "f6561ff6",
   "metadata": {},
   "outputs": [
    {
     "data": {
      "text/html": [
       "<html>\\(\\displaystyle C_{1} \\epsilon\\)</html>"
      ],
      "text/latex": [
       "$\\displaystyle C_{1} \\epsilon$"
      ],
      "text/plain": [
       "C_1*epsilon"
      ]
     },
     "execution_count": 578,
     "metadata": {},
     "output_type": "execute_result"
    }
   ],
   "source": [
    "C1 = var('C_1')\n",
    "X1_Oeps_sol = X1_O1_sol + eps*C1\n",
    "X1_Oeps_sol"
   ]
  },
  {
   "cell_type": "code",
   "execution_count": 579,
   "id": "dcc121da",
   "metadata": {},
   "outputs": [
    {
     "data": {
      "text/html": [
       "<html>\\(\\displaystyle -\\frac{2 \\, l m^{2} \\xi_{r}\\left(s, 0\\right) - s^{2} \\mathrm{D}_{1}\\left(\\xi_{\\phi}\\right)\\left(s, 0\\right)}{m s^{2}} = 2 \\, \\mathrm{D}_{0, 1}\\left(X_{2}\\right)\\left(s, 0\\right)\\)</html>"
      ],
      "text/latex": [
       "$\\displaystyle -\\frac{2 \\, l m^{2} \\xi_{r}\\left(s, 0\\right) - s^{2} \\mathrm{D}_{1}\\left(\\xi_{\\phi}\\right)\\left(s, 0\\right)}{m s^{2}} = 2 \\, \\mathrm{D}_{0, 1}\\left(X_{2}\\right)\\left(s, 0\\right)$"
      ],
      "text/plain": [
       "-(2*l*m^2*xi_r(s, 0) - s^2*D[1](xi_phi)(s, 0))/(m*s^2) == 2*D[0, 1](X_2)(s, 0)"
      ]
     },
     "execution_count": 579,
     "metadata": {},
     "output_type": "execute_result"
    }
   ],
   "source": [
    "O2_ph_eq1 = ((Deps2_dsY_CL[3].expr() == Deps2_dsY_out_in_CL[3].expr())*r).subs({r:r0_sol}).simplify_full()\n",
    "O2_ph_eq1"
   ]
  },
  {
   "cell_type": "markdown",
   "id": "5e7a3628",
   "metadata": {},
   "source": [
    "To proceed further, we need to know the derivative $\\partial_{\\epsilon} \\xi^{\\phi} \\rvert_{\\epsilon = 0} \\equiv D_1 (\\xi^{\\phi}) (s, 0)$, which we can compute from the covariant $\\epsilon$-derivative $[D_{\\epsilon} \\xi^{a'}] = \\dot{z}^a [\\partial_{\\epsilon \\epsilon} U] + 2 ( e^a_i [\\partial_{\\epsilon} X^i] + n^a [V] )$."
   ]
  },
  {
   "cell_type": "code",
   "execution_count": 580,
   "id": "dac9beac",
   "metadata": {},
   "outputs": [
    {
     "data": {
      "text/html": [
       "<html>\\(\\displaystyle \\left[\\frac{\\partial\\,\\xi_{t}}{\\partial \\epsilon}, -r \\xi_{\\phi}\\left(s, \\epsilon\\right)^{2} + \\frac{\\partial\\,\\xi_{r}}{\\partial \\epsilon}, 0, \\frac{2 \\, \\xi_{\\phi}\\left(s, \\epsilon\\right) \\xi_{r}\\left(s, \\epsilon\\right) + r \\frac{\\partial\\,\\xi_{\\phi}}{\\partial \\epsilon}}{r}\\right]\\)</html>"
      ],
      "text/latex": [
       "$\\displaystyle \\left[\\frac{\\partial\\,\\xi_{t}}{\\partial \\epsilon}, -r \\xi_{\\phi}\\left(s, \\epsilon\\right)^{2} + \\frac{\\partial\\,\\xi_{r}}{\\partial \\epsilon}, 0, \\frac{2 \\, \\xi_{\\phi}\\left(s, \\epsilon\\right) \\xi_{r}\\left(s, \\epsilon\\right) + r \\frac{\\partial\\,\\xi_{\\phi}}{\\partial \\epsilon}}{r}\\right]$"
      ],
      "text/plain": [
       "[d(xi_t)/depsilon,\n",
       " -r*xi_phi(s, epsilon)^2 + d(xi_r)/depsilon,\n",
       " 0,\n",
       " (2*xi_phi(s, epsilon)*xi_r(s, epsilon) + r*d(xi_phi)/depsilon)/r]"
      ]
     },
     "execution_count": 580,
     "metadata": {},
     "output_type": "execute_result"
    }
   ],
   "source": [
    "Deps_xi = D_eps(xi)\n",
    "Deps_xi.apply_map(lambda cmp: cmp.subs({th:pi/2}))\n",
    "Deps_xi[:]"
   ]
  },
  {
   "cell_type": "code",
   "execution_count": 581,
   "id": "6f34df0e",
   "metadata": {},
   "outputs": [
    {
     "data": {
      "text/html": [
       "<html>\\(\\displaystyle \\left[\\frac{\\partial\\,\\xi_{t}}{\\partial 0}, -r \\xi_{\\phi}\\left(s, 0\\right)^{2} + \\frac{\\partial\\,\\xi_{r}}{\\partial 0}, 0, \\frac{2 \\, \\xi_{\\phi}\\left(s, 0\\right) \\xi_{r}\\left(s, 0\\right) + r \\frac{\\partial\\,\\xi_{\\phi}}{\\partial 0}}{r}\\right]\\)</html>"
      ],
      "text/latex": [
       "$\\displaystyle \\left[\\frac{\\partial\\,\\xi_{t}}{\\partial 0}, -r \\xi_{\\phi}\\left(s, 0\\right)^{2} + \\frac{\\partial\\,\\xi_{r}}{\\partial 0}, 0, \\frac{2 \\, \\xi_{\\phi}\\left(s, 0\\right) \\xi_{r}\\left(s, 0\\right) + r \\frac{\\partial\\,\\xi_{\\phi}}{\\partial 0}}{r}\\right]$"
      ],
      "text/plain": [
       "[d(xi_t)/d0,\n",
       " -r*xi_phi(s, 0)^2 + d(xi_r)/d0,\n",
       " 0,\n",
       " (2*xi_phi(s, 0)*xi_r(s, 0) + r*d(xi_phi)/d0)/r]"
      ]
     },
     "execution_count": 581,
     "metadata": {},
     "output_type": "execute_result"
    }
   ],
   "source": [
    "Deps_xi_CL = Deps_xi.copy()\n",
    "Deps_xi_CL.apply_map(lambda cmp: cmp.subs({eps:0}))\n",
    "Deps_xi_CL[:]"
   ]
  },
  {
   "cell_type": "code",
   "execution_count": 582,
   "id": "0fe2a8b8",
   "metadata": {},
   "outputs": [
    {
     "data": {
      "text/html": [
       "<html>\\(\\displaystyle \\left(\\mathrm{D}_{1, 1}\\left(U\\right)\\left(s, 0\\right), -\\frac{1}{2} \\, {\\left(C_{2}^{2} + 1\\right)} m^{2} s + C_{U_{2}}, \\mathrm{D}_{1}\\left(X_{1}\\right)\\left(s, 0\\right), \\mathrm{D}_{1}\\left(X_{2}\\right)\\left(s, 0\\right), V\\left(s, 0\\right)\\right)\\)</html>"
      ],
      "text/latex": [
       "$\\displaystyle \\left(\\mathrm{D}_{1, 1}\\left(U\\right)\\left(s, 0\\right), -\\frac{1}{2} \\, {\\left(C_{2}^{2} + 1\\right)} m^{2} s + C_{U_{2}}, \\mathrm{D}_{1}\\left(X_{1}\\right)\\left(s, 0\\right), \\mathrm{D}_{1}\\left(X_{2}\\right)\\left(s, 0\\right), V\\left(s, 0\\right)\\right)$"
      ],
      "text/plain": [
       "(D[1, 1](U)(s, 0),\n",
       " -1/2*(C_2^2 + 1)*m^2*s + C_U2,\n",
       " D[1](X_1)(s, 0),\n",
       " D[1](X_2)(s, 0),\n",
       " V(s, 0))"
      ]
     },
     "execution_count": 582,
     "metadata": {},
     "output_type": "execute_result"
    }
   ],
   "source": [
    "deps2U0 = U.diff(eps, 2).subs({eps:0})\n",
    "deps2U0_sol = U_Oeps2_sol.diff(eps, 2).subs({eps:0})\n",
    "depsX1_0 = X1.diff(eps, 1).subs({eps:0})\n",
    "depsX2_0 = X2.diff(eps, 1).subs({eps:0})\n",
    "V0 = V.subs({eps:0})\n",
    "deps2U0, deps2U0_sol, depsX1_0, depsX2_0, V0"
   ]
  },
  {
   "cell_type": "code",
   "execution_count": 583,
   "id": "ed8c09d2",
   "metadata": {},
   "outputs": [
    {
     "data": {
      "text/html": [
       "<html>\\(\\displaystyle \\left[\\frac{m^{2} V\\left(s, 0\\right) + \\frac{\\partial^2\\,U}{\\partial 0 ^ 2}}{m}, -\\frac{m^{2} V\\left(s, 0\\right) - \\frac{\\partial^2\\,U}{\\partial 0 ^ 2}}{m}, \\frac{2 \\, \\frac{\\partial\\,X_{1}}{\\partial 0}}{r}, \\frac{2 \\, \\frac{\\partial\\,X_{2}}{\\partial 0}}{r}\\right]\\)</html>"
      ],
      "text/latex": [
       "$\\displaystyle \\left[\\frac{m^{2} V\\left(s, 0\\right) + \\frac{\\partial^2\\,U}{\\partial 0 ^ 2}}{m}, -\\frac{m^{2} V\\left(s, 0\\right) - \\frac{\\partial^2\\,U}{\\partial 0 ^ 2}}{m}, \\frac{2 \\, \\frac{\\partial\\,X_{1}}{\\partial 0}}{r}, \\frac{2 \\, \\frac{\\partial\\,X_{2}}{\\partial 0}}{r}\\right]$"
      ],
      "text/plain": [
       "[(m^2*V(s, 0) + d^2(U)/d0^2)/m,\n",
       " -(m^2*V(s, 0) - d^2(U)/d0^2)/m,\n",
       " 2*d(X_1)/d0/r,\n",
       " 2*d(X_2)/d0/r]"
      ]
     },
     "execution_count": 583,
     "metadata": {},
     "output_type": "execute_result"
    }
   ],
   "source": [
    "Deps_xi_OI_CL = zdot*deps2U0 + e1*depsX1_0*2 + e2*depsX2_0*2 + n*V0*2\n",
    "Deps_xi_OI_CL[:]"
   ]
  },
  {
   "cell_type": "code",
   "execution_count": 584,
   "id": "3b2a1dd8",
   "metadata": {},
   "outputs": [
    {
     "data": {
      "text/html": [
       "<html>\\(\\displaystyle \\mathrm{D}_{1}\\left(\\xi_{t}\\right)\\left(s, 0\\right) = \\frac{m^{2} V\\left(s, 0\\right) + \\mathrm{D}_{1, 1}\\left(U\\right)\\left(s, 0\\right)}{m}\\)</html>"
      ],
      "text/latex": [
       "$\\displaystyle \\mathrm{D}_{1}\\left(\\xi_{t}\\right)\\left(s, 0\\right) = \\frac{m^{2} V\\left(s, 0\\right) + \\mathrm{D}_{1, 1}\\left(U\\right)\\left(s, 0\\right)}{m}$"
      ],
      "text/plain": [
       "D[1](xi_t)(s, 0) == (m^2*V(s, 0) + D[1, 1](U)(s, 0))/m"
      ]
     },
     "execution_count": 584,
     "metadata": {},
     "output_type": "execute_result"
    }
   ],
   "source": [
    "Dxi_comp_t_eq1 = Deps_xi_CL[0].expr() == Deps_xi_OI_CL[0].expr()\n",
    "Dxi_comp_t_eq1"
   ]
  },
  {
   "cell_type": "code",
   "execution_count": 585,
   "id": "90b418dc",
   "metadata": {},
   "outputs": [
    {
     "data": {
      "text/html": [
       "<html>\\(\\displaystyle \\mathrm{D}_{1}\\left(\\xi_{t}\\right)\\left(s, 0\\right) = \\frac{C_{V} m^{2} + C_{U_{2}}}{m}\\)</html>"
      ],
      "text/latex": [
       "$\\displaystyle \\mathrm{D}_{1}\\left(\\xi_{t}\\right)\\left(s, 0\\right) = \\frac{C_{V} m^{2} + C_{U_{2}}}{m}$"
      ],
      "text/plain": [
       "D[1](xi_t)(s, 0) == (C_V*m^2 + C_U2)/m"
      ]
     },
     "execution_count": 585,
     "metadata": {},
     "output_type": "execute_result"
    }
   ],
   "source": [
    "Dxi_comp_t_eq2 = Dxi_comp_t_eq1.subs({V0:V0_sol}).subs({deps2U0:deps2U0_sol}).simplify_full()\n",
    "Dxi_comp_t_eq2"
   ]
  },
  {
   "cell_type": "code",
   "execution_count": 586,
   "id": "bd581fb3",
   "metadata": {},
   "outputs": [
    {
     "data": {
      "text/html": [
       "<html>\\(\\displaystyle \\frac{{\\left(C_{V} m^{2} + C_{U_{2}}\\right)} \\epsilon^{2}}{2 \\, m} + \\frac{C_{U} \\epsilon}{m} + \\frac{s}{m}\\)</html>"
      ],
      "text/latex": [
       "$\\displaystyle \\frac{{\\left(C_{V} m^{2} + C_{U_{2}}\\right)} \\epsilon^{2}}{2 \\, m} + \\frac{C_{U} \\epsilon}{m} + \\frac{s}{m}$"
      ],
      "text/plain": [
       "1/2*(C_V*m^2 + C_U2)*epsilon^2/m + C_U*epsilon/m + s/m"
      ]
     },
     "execution_count": 586,
     "metadata": {},
     "output_type": "execute_result"
    }
   ],
   "source": [
    "t_Oeps2_sol = t_Oeps_sol + Dxi_comp_t_eq2.rhs().integrate(eps).integrate(eps)\n",
    "t_Oeps2_sol"
   ]
  },
  {
   "cell_type": "code",
   "execution_count": 587,
   "id": "ba61daac",
   "metadata": {},
   "outputs": [
    {
     "data": {
      "text/html": [
       "<html>\\(\\displaystyle -r \\xi_{\\phi}\\left(s, 0\\right)^{2} + \\mathrm{D}_{1}\\left(\\xi_{r}\\right)\\left(s, 0\\right) = -\\frac{m^{2} V\\left(s, 0\\right) - \\mathrm{D}_{1, 1}\\left(U\\right)\\left(s, 0\\right)}{m}\\)</html>"
      ],
      "text/latex": [
       "$\\displaystyle -r \\xi_{\\phi}\\left(s, 0\\right)^{2} + \\mathrm{D}_{1}\\left(\\xi_{r}\\right)\\left(s, 0\\right) = -\\frac{m^{2} V\\left(s, 0\\right) - \\mathrm{D}_{1, 1}\\left(U\\right)\\left(s, 0\\right)}{m}$"
      ],
      "text/plain": [
       "-r*xi_phi(s, 0)^2 + D[1](xi_r)(s, 0) == -(m^2*V(s, 0) - D[1, 1](U)(s, 0))/m"
      ]
     },
     "execution_count": 587,
     "metadata": {},
     "output_type": "execute_result"
    }
   ],
   "source": [
    "Dxi_comp_r_eq1 = Deps_xi_CL[1].expr() == Deps_xi_OI_CL[1].expr()\n",
    "Dxi_comp_r_eq1"
   ]
  },
  {
   "cell_type": "code",
   "execution_count": 588,
   "id": "9b27e9a8",
   "metadata": {},
   "outputs": [
    {
     "data": {
      "text/html": [
       "<html>\\(\\displaystyle -\\frac{{\\left(C_{2} s - l\\right)}^{2} m}{s} + \\mathrm{D}_{1}\\left(\\xi_{r}\\right)\\left(s, 0\\right) = -\\frac{{\\left(C_{2}^{2} + 1\\right)} m^{2} s + {\\left({\\left(C_{2}^{2} + 1\\right)} s + 2 \\, C_{V}\\right)} m^{2} - 2 \\, C_{U_{2}}}{2 \\, m}\\)</html>"
      ],
      "text/latex": [
       "$\\displaystyle -\\frac{{\\left(C_{2} s - l\\right)}^{2} m}{s} + \\mathrm{D}_{1}\\left(\\xi_{r}\\right)\\left(s, 0\\right) = -\\frac{{\\left(C_{2}^{2} + 1\\right)} m^{2} s + {\\left({\\left(C_{2}^{2} + 1\\right)} s + 2 \\, C_{V}\\right)} m^{2} - 2 \\, C_{U_{2}}}{2 \\, m}$"
      ],
      "text/plain": [
       "-(C_2*s - l)^2*m/s + D[1](xi_r)(s, 0) == -1/2*((C_2^2 + 1)*m^2*s + ((C_2^2 + 1)*s + 2*C_V)*m^2 - 2*C_U2)/m"
      ]
     },
     "execution_count": 588,
     "metadata": {},
     "output_type": "execute_result"
    }
   ],
   "source": [
    "Dxi_comp_r_eq2 = Dxi_comp_r_eq1.subs({xi_ph_0:xi_comp_ph_eq1.rhs()}).subs({X2_0:X2_O1_sol}).subs({V0:V0_sol})\\\n",
    ".subs({deps2U0:deps2U0_sol}).subs({r:r0_sol})\n",
    "Dxi_comp_r_eq2"
   ]
  },
  {
   "cell_type": "code",
   "execution_count": 589,
   "id": "79d45d63",
   "metadata": {},
   "outputs": [
    {
     "data": {
      "text/html": [
       "<html>\\(\\displaystyle -\\frac{{\\left(C_{2}^{2} + 1\\right)} m^{2} s + C_{V} m^{2} - C_{U_{2}}}{m}\\)</html>"
      ],
      "text/latex": [
       "$\\displaystyle -\\frac{{\\left(C_{2}^{2} + 1\\right)} m^{2} s + C_{V} m^{2} - C_{U_{2}}}{m}$"
      ],
      "text/plain": [
       "-((C_2^2 + 1)*m^2*s + C_V*m^2 - C_U2)/m"
      ]
     },
     "execution_count": 589,
     "metadata": {},
     "output_type": "execute_result"
    }
   ],
   "source": [
    "Dxi_r_rhs_simp = Dxi_comp_r_eq2.rhs().simplify_full()\n",
    "Dxi_r_rhs_simp"
   ]
  },
  {
   "cell_type": "code",
   "execution_count": 590,
   "id": "53c5fc51",
   "metadata": {},
   "outputs": [
    {
     "data": {
      "text/html": [
       "<html>\\(\\displaystyle \\mathrm{D}_{1}\\left(\\xi_{r}\\right)\\left(s, 0\\right) = \\frac{{\\left(C_{2} s - l\\right)}^{2} m}{s} - \\frac{{\\left(C_{2}^{2} + 1\\right)} m^{2} s + C_{V} m^{2} - C_{U_{2}}}{m}\\)</html>"
      ],
      "text/latex": [
       "$\\displaystyle \\mathrm{D}_{1}\\left(\\xi_{r}\\right)\\left(s, 0\\right) = \\frac{{\\left(C_{2} s - l\\right)}^{2} m}{s} - \\frac{{\\left(C_{2}^{2} + 1\\right)} m^{2} s + C_{V} m^{2} - C_{U_{2}}}{m}$"
      ],
      "text/plain": [
       "D[1](xi_r)(s, 0) == (C_2*s - l)^2*m/s - ((C_2^2 + 1)*m^2*s + C_V*m^2 - C_U2)/m"
      ]
     },
     "execution_count": 590,
     "metadata": {},
     "output_type": "execute_result"
    }
   ],
   "source": [
    "Dxi_comp_r_eq3 = (Dxi_comp_r_eq2.subs({Dxi_comp_r_eq2.rhs():Dxi_r_rhs_simp}) + m*(C2*s - l)^2/s)\n",
    "Dxi_comp_r_eq3"
   ]
  },
  {
   "cell_type": "code",
   "execution_count": 591,
   "id": "f1a9a2bf",
   "metadata": {},
   "outputs": [
    {
     "data": {
      "text/html": [
       "<html>\\(\\displaystyle \\frac{1}{2} \\, {\\left(\\frac{{\\left(C_{2} s - l\\right)}^{2} m}{s} - \\frac{{\\left(C_{2}^{2} + 1\\right)} m^{2} s + C_{V} m^{2} - C_{U_{2}}}{m}\\right)} \\epsilon^{2} + \\frac{C_{U} \\epsilon}{m} + \\frac{s}{m}\\)</html>"
      ],
      "text/latex": [
       "$\\displaystyle \\frac{1}{2} \\, {\\left(\\frac{{\\left(C_{2} s - l\\right)}^{2} m}{s} - \\frac{{\\left(C_{2}^{2} + 1\\right)} m^{2} s + C_{V} m^{2} - C_{U_{2}}}{m}\\right)} \\epsilon^{2} + \\frac{C_{U} \\epsilon}{m} + \\frac{s}{m}$"
      ],
      "text/plain": [
       "1/2*((C_2*s - l)^2*m/s - ((C_2^2 + 1)*m^2*s + C_V*m^2 - C_U2)/m)*epsilon^2 + C_U*epsilon/m + s/m"
      ]
     },
     "execution_count": 591,
     "metadata": {},
     "output_type": "execute_result"
    }
   ],
   "source": [
    "r_Oeps2_sol = r_Oeps_sol + Dxi_comp_r_eq3.rhs().integrate(eps).integrate(eps)\n",
    "r_Oeps2_sol"
   ]
  },
  {
   "cell_type": "code",
   "execution_count": 592,
   "id": "9ad236d4",
   "metadata": {},
   "outputs": [
    {
     "data": {
      "text/html": [
       "<html>\\(\\displaystyle 0 = \\mathrm{D}_{1}\\left(X_{1}\\right)\\left(s, 0\\right)\\)</html>"
      ],
      "text/latex": [
       "$\\displaystyle 0 = \\mathrm{D}_{1}\\left(X_{1}\\right)\\left(s, 0\\right)$"
      ],
      "text/plain": [
       "0 == D[1](X_1)(s, 0)"
      ]
     },
     "execution_count": 592,
     "metadata": {},
     "output_type": "execute_result"
    }
   ],
   "source": [
    "Dxi_comp_th_eq1 = (Deps_xi_CL[2].expr() == Deps_xi_OI_CL[2].expr())*r/2\n",
    "Dxi_comp_th_eq1"
   ]
  },
  {
   "cell_type": "code",
   "execution_count": 593,
   "id": "1af89f56",
   "metadata": {},
   "outputs": [
    {
     "data": {
      "text/html": [
       "<html>\\(\\displaystyle C_{1} \\epsilon\\)</html>"
      ],
      "text/latex": [
       "$\\displaystyle C_{1} \\epsilon$"
      ],
      "text/plain": [
       "C_1*epsilon"
      ]
     },
     "execution_count": 593,
     "metadata": {},
     "output_type": "execute_result"
    }
   ],
   "source": [
    "X1_Oeps_sol"
   ]
  },
  {
   "cell_type": "markdown",
   "id": "1954f914",
   "metadata": {},
   "source": [
    "From our earlier analysis, we had that $X^1 (s, \\epsilon) = 0 + \\epsilon C_1 + \\mathcal{O} (\\epsilon^2)$. However, the above equation $0 = [\\partial_{\\epsilon} X^1] \\implies C_1 = 0$. Thus, $X^1 (s, \\epsilon) = 0 + \\mathcal{O} (\\epsilon^2)$."
   ]
  },
  {
   "cell_type": "code",
   "execution_count": 594,
   "id": "3943f5dc",
   "metadata": {},
   "outputs": [
    {
     "data": {
      "text/html": [
       "<html>\\(\\displaystyle 0\\)</html>"
      ],
      "text/latex": [
       "$\\displaystyle 0$"
      ],
      "text/plain": [
       "0"
      ]
     },
     "execution_count": 594,
     "metadata": {},
     "output_type": "execute_result"
    }
   ],
   "source": [
    "X1_Oeps_sol = 0\n",
    "X1_Oeps_sol"
   ]
  },
  {
   "cell_type": "code",
   "execution_count": 595,
   "id": "0316933c",
   "metadata": {},
   "outputs": [
    {
     "data": {
      "text/html": [
       "<html>\\(\\displaystyle \\xi_{\\phi}\\left(s, 0\\right) \\xi_{r}\\left(s, 0\\right) + \\frac{1}{2} \\, r \\mathrm{D}_{1}\\left(\\xi_{\\phi}\\right)\\left(s, 0\\right) = \\mathrm{D}_{1}\\left(X_{2}\\right)\\left(s, 0\\right)\\)</html>"
      ],
      "text/latex": [
       "$\\displaystyle \\xi_{\\phi}\\left(s, 0\\right) \\xi_{r}\\left(s, 0\\right) + \\frac{1}{2} \\, r \\mathrm{D}_{1}\\left(\\xi_{\\phi}\\right)\\left(s, 0\\right) = \\mathrm{D}_{1}\\left(X_{2}\\right)\\left(s, 0\\right)$"
      ],
      "text/plain": [
       "xi_phi(s, 0)*xi_r(s, 0) + 1/2*r*D[1](xi_phi)(s, 0) == D[1](X_2)(s, 0)"
      ]
     },
     "execution_count": 595,
     "metadata": {},
     "output_type": "execute_result"
    }
   ],
   "source": [
    "Dxi_comp_ph_eq1 = (Deps_xi_CL[3].expr() == Deps_xi_OI_CL[3].expr())*r/2\n",
    "Dxi_comp_ph_eq1"
   ]
  },
  {
   "cell_type": "code",
   "execution_count": 596,
   "id": "d6875605",
   "metadata": {},
   "outputs": [
    {
     "data": {
      "text/html": [
       "<html>\\(\\displaystyle \\frac{{\\left(C_{2} s - l\\right)} C_{U}}{s} + \\frac{s \\mathrm{D}_{1}\\left(\\xi_{\\phi}\\right)\\left(s, 0\\right)}{2 \\, m} = \\mathrm{D}_{1}\\left(X_{2}\\right)\\left(s, 0\\right)\\)</html>"
      ],
      "text/latex": [
       "$\\displaystyle \\frac{{\\left(C_{2} s - l\\right)} C_{U}}{s} + \\frac{s \\mathrm{D}_{1}\\left(\\xi_{\\phi}\\right)\\left(s, 0\\right)}{2 \\, m} = \\mathrm{D}_{1}\\left(X_{2}\\right)\\left(s, 0\\right)$"
      ],
      "text/plain": [
       "(C_2*s - l)*C_U/s + 1/2*s*D[1](xi_phi)(s, 0)/m == D[1](X_2)(s, 0)"
      ]
     },
     "execution_count": 596,
     "metadata": {},
     "output_type": "execute_result"
    }
   ],
   "source": [
    "Dxi_comp_ph_eq2 = Dxi_comp_ph_eq1.subs({xi_ph_0:xi_comp_ph_eq1.rhs()}).subs({xi_r_0:xi_comp_r_eq1.rhs()})\\\n",
    ".subs({X2_0:X2_O1_sol}).subs({depsU0:depsU0_sol}).subs({r:r0_sol})\n",
    "Dxi_comp_ph_eq2"
   ]
  },
  {
   "cell_type": "code",
   "execution_count": 597,
   "id": "31e49d41",
   "metadata": {},
   "outputs": [
    {
     "data": {
      "text/html": [
       "<html>\\(\\displaystyle \\mathrm{D}_{1}\\left(\\xi_{\\phi}\\right)\\left(s, 0\\right) = -\\frac{2 \\, {\\left(C_{2} C_{U} m s - C_{U} l m - m s \\mathrm{D}_{1}\\left(X_{2}\\right)\\left(s, 0\\right)\\right)}}{s^{2}}\\)</html>"
      ],
      "text/latex": [
       "$\\displaystyle \\mathrm{D}_{1}\\left(\\xi_{\\phi}\\right)\\left(s, 0\\right) = -\\frac{2 \\, {\\left(C_{2} C_{U} m s - C_{U} l m - m s \\mathrm{D}_{1}\\left(X_{2}\\right)\\left(s, 0\\right)\\right)}}{s^{2}}$"
      ],
      "text/plain": [
       "D[1](xi_phi)(s, 0) == -2*(C_2*C_U*m*s - C_U*l*m - m*s*D[1](X_2)(s, 0))/s^2"
      ]
     },
     "execution_count": 597,
     "metadata": {},
     "output_type": "execute_result"
    }
   ],
   "source": [
    "Dxi_comp_ph_eq3 = ((Dxi_comp_ph_eq2 - CU*(C2*s - l)/s)*2*m/s).simplify_full()\n",
    "Dxi_comp_ph_eq3"
   ]
  },
  {
   "cell_type": "markdown",
   "id": "452169ab",
   "metadata": {},
   "source": [
    "We can now substitute this in our earlier expression ``O2_ph_eq1''"
   ]
  },
  {
   "cell_type": "code",
   "execution_count": 598,
   "id": "fb3832a0",
   "metadata": {},
   "outputs": [
    {
     "data": {
      "text/html": [
       "<html>\\(\\displaystyle \\mathrm{D}_{1}\\left(\\xi_{\\phi}\\right)\\left(s, 0\\right)\\)</html>"
      ],
      "text/latex": [
       "$\\displaystyle \\mathrm{D}_{1}\\left(\\xi_{\\phi}\\right)\\left(s, 0\\right)$"
      ],
      "text/plain": [
       "D[1](xi_phi)(s, 0)"
      ]
     },
     "execution_count": 598,
     "metadata": {},
     "output_type": "execute_result"
    }
   ],
   "source": [
    "deps_xiph0 = xi_ph.diff(eps, 1).subs({eps:0})\n",
    "deps_xiph0"
   ]
  },
  {
   "cell_type": "code",
   "execution_count": 599,
   "id": "f5498400",
   "metadata": {},
   "outputs": [
    {
     "data": {
      "text/html": [
       "<html>\\(\\displaystyle -\\frac{C_{2} C_{U} - \\mathrm{D}_{1}\\left(X_{2}\\right)\\left(s, 0\\right)}{s} = \\mathrm{D}_{0, 1}\\left(X_{2}\\right)\\left(s, 0\\right)\\)</html>"
      ],
      "text/latex": [
       "$\\displaystyle -\\frac{C_{2} C_{U} - \\mathrm{D}_{1}\\left(X_{2}\\right)\\left(s, 0\\right)}{s} = \\mathrm{D}_{0, 1}\\left(X_{2}\\right)\\left(s, 0\\right)$"
      ],
      "text/plain": [
       "-(C_2*C_U - D[1](X_2)(s, 0))/s == D[0, 1](X_2)(s, 0)"
      ]
     },
     "execution_count": 599,
     "metadata": {},
     "output_type": "execute_result"
    }
   ],
   "source": [
    "O2_ph_eq2 = (O2_ph_eq1/2).subs({deps_xiph0:Dxi_comp_ph_eq3.rhs()}).subs({xi_r_0:xi_comp_r_eq1.rhs()})\\\n",
    ".subs({depsU0:depsU0_sol}).factor()\n",
    "O2_ph_eq2"
   ]
  },
  {
   "cell_type": "code",
   "execution_count": 600,
   "id": "d5fc0136",
   "metadata": {},
   "outputs": [
    {
     "data": {
      "text/html": [
       "<html>\\(\\displaystyle \\left(F\\left(s\\right), \\frac{\\partial}{\\partial s}F\\left(s\\right)\\right)\\)</html>"
      ],
      "text/latex": [
       "$\\displaystyle \\left(F\\left(s\\right), \\frac{\\partial}{\\partial s}F\\left(s\\right)\\right)$"
      ],
      "text/plain": [
       "(F(s), diff(F(s), s))"
      ]
     },
     "execution_count": 600,
     "metadata": {},
     "output_type": "execute_result"
    }
   ],
   "source": [
    "F = function('F')(s)\n",
    "dF = F.diff(s, 1)\n",
    "F, dF"
   ]
  },
  {
   "cell_type": "code",
   "execution_count": 601,
   "id": "67e198da",
   "metadata": {},
   "outputs": [
    {
     "data": {
      "text/html": [
       "<html>\\(\\displaystyle -\\frac{C_{2} C_{U} - F\\left(s\\right)}{s} = \\frac{\\partial}{\\partial s}F\\left(s\\right)\\)</html>"
      ],
      "text/latex": [
       "$\\displaystyle -\\frac{C_{2} C_{U} - F\\left(s\\right)}{s} = \\frac{\\partial}{\\partial s}F\\left(s\\right)$"
      ],
      "text/plain": [
       "-(C_2*C_U - F(s))/s == diff(F(s), s)"
      ]
     },
     "execution_count": 601,
     "metadata": {},
     "output_type": "execute_result"
    }
   ],
   "source": [
    "O2_ph_eq3 = O2_ph_eq2.subs({depsX2_0:F}).subs({depssX2_0:dF})\n",
    "O2_ph_eq3"
   ]
  },
  {
   "cell_type": "code",
   "execution_count": 602,
   "id": "69384c0d",
   "metadata": {},
   "outputs": [
    {
     "data": {
      "text/html": [
       "<html>\\(\\displaystyle {\\left(C + \\frac{C_{2} C_{U}}{s}\\right)} s\\)</html>"
      ],
      "text/latex": [
       "$\\displaystyle {\\left(C + \\frac{C_{2} C_{U}}{s}\\right)} s$"
      ],
      "text/plain": [
       "(_C + C_2*C_U/s)*s"
      ]
     },
     "execution_count": 602,
     "metadata": {},
     "output_type": "execute_result"
    }
   ],
   "source": [
    "desolve(O2_ph_eq3, F, ivar=s)"
   ]
  },
  {
   "cell_type": "code",
   "execution_count": 603,
   "id": "1f810ab7",
   "metadata": {},
   "outputs": [
    {
     "data": {
      "text/html": [
       "<html>\\(\\displaystyle C_{22}\\)</html>"
      ],
      "text/latex": [
       "$\\displaystyle C_{22}$"
      ],
      "text/plain": [
       "C_22"
      ]
     },
     "execution_count": 603,
     "metadata": {},
     "output_type": "execute_result"
    }
   ],
   "source": [
    "C22 = var('C_22')\n",
    "C22"
   ]
  },
  {
   "cell_type": "code",
   "execution_count": 604,
   "id": "14998650",
   "metadata": {},
   "outputs": [
    {
     "data": {
      "text/html": [
       "<html>\\(\\displaystyle {\\left(C_{2} C_{U} + C_{22} s\\right)} \\epsilon + C_{2} s - l\\)</html>"
      ],
      "text/latex": [
       "$\\displaystyle {\\left(C_{2} C_{U} + C_{22} s\\right)} \\epsilon + C_{2} s - l$"
      ],
      "text/plain": [
       "(C_2*C_U + C_22*s)*epsilon + C_2*s - l"
      ]
     },
     "execution_count": 604,
     "metadata": {},
     "output_type": "execute_result"
    }
   ],
   "source": [
    "X2_Oeps_sol = X2_O1_sol + eps*(C22*s + C2*CU)\n",
    "X2_Oeps_sol"
   ]
  },
  {
   "cell_type": "code",
   "execution_count": 605,
   "id": "bc5ad369",
   "metadata": {},
   "outputs": [
    {
     "data": {
      "text/html": [
       "<html>\\(\\displaystyle C_{2} C_{U} + C_{22} s\\)</html>"
      ],
      "text/latex": [
       "$\\displaystyle C_{2} C_{U} + C_{22} s$"
      ],
      "text/plain": [
       "C_2*C_U + C_22*s"
      ]
     },
     "execution_count": 605,
     "metadata": {},
     "output_type": "execute_result"
    }
   ],
   "source": [
    "depsX2_0_sol = X2_Oeps_sol.diff(eps, 1).subs({eps:0})\n",
    "depsX2_0_sol"
   ]
  },
  {
   "cell_type": "code",
   "execution_count": 606,
   "id": "edc6b0e7",
   "metadata": {},
   "outputs": [
    {
     "data": {
      "text/html": [
       "<html>\\(\\displaystyle \\mathrm{D}_{1}\\left(\\xi_{\\phi}\\right)\\left(s, 0\\right) = -\\frac{2 \\, {\\left(C_{2} C_{U} m s - C_{U} l m - m s \\mathrm{D}_{1}\\left(X_{2}\\right)\\left(s, 0\\right)\\right)}}{s^{2}}\\)</html>"
      ],
      "text/latex": [
       "$\\displaystyle \\mathrm{D}_{1}\\left(\\xi_{\\phi}\\right)\\left(s, 0\\right) = -\\frac{2 \\, {\\left(C_{2} C_{U} m s - C_{U} l m - m s \\mathrm{D}_{1}\\left(X_{2}\\right)\\left(s, 0\\right)\\right)}}{s^{2}}$"
      ],
      "text/plain": [
       "D[1](xi_phi)(s, 0) == -2*(C_2*C_U*m*s - C_U*l*m - m*s*D[1](X_2)(s, 0))/s^2"
      ]
     },
     "execution_count": 606,
     "metadata": {},
     "output_type": "execute_result"
    }
   ],
   "source": [
    "Dxi_comp_ph_eq3"
   ]
  },
  {
   "cell_type": "code",
   "execution_count": 607,
   "id": "21e131e4",
   "metadata": {},
   "outputs": [
    {
     "data": {
      "text/html": [
       "<html>\\(\\displaystyle \\mathrm{D}_{1}\\left(\\xi_{\\phi}\\right)\\left(s, 0\\right) = \\frac{2 \\, {\\left(C_{22} m s^{2} + C_{U} l m\\right)}}{s^{2}}\\)</html>"
      ],
      "text/latex": [
       "$\\displaystyle \\mathrm{D}_{1}\\left(\\xi_{\\phi}\\right)\\left(s, 0\\right) = \\frac{2 \\, {\\left(C_{22} m s^{2} + C_{U} l m\\right)}}{s^{2}}$"
      ],
      "text/plain": [
       "D[1](xi_phi)(s, 0) == 2*(C_22*m*s^2 + C_U*l*m)/s^2"
      ]
     },
     "execution_count": 607,
     "metadata": {},
     "output_type": "execute_result"
    }
   ],
   "source": [
    "Dxi_comp_ph_eq4 = Dxi_comp_ph_eq3.subs({depsX2_0:depsX2_0_sol}).simplify_full()\n",
    "Dxi_comp_ph_eq4"
   ]
  },
  {
   "cell_type": "code",
   "execution_count": 608,
   "id": "0f40dd8c",
   "metadata": {},
   "outputs": [
    {
     "data": {
      "text/html": [
       "<html>\\(\\displaystyle \\frac{{\\left(C_{2} s - l\\right)} \\epsilon m}{s} + \\Phi_{0} + \\frac{{\\left(C_{22} m s^{2} + C_{U} l m\\right)} \\epsilon^{2}}{s^{2}}\\)</html>"
      ],
      "text/latex": [
       "$\\displaystyle \\frac{{\\left(C_{2} s - l\\right)} \\epsilon m}{s} + \\Phi_{0} + \\frac{{\\left(C_{22} m s^{2} + C_{U} l m\\right)} \\epsilon^{2}}{s^{2}}$"
      ],
      "text/plain": [
       "(C_2*s - l)*epsilon*m/s + Phi_0 + (C_22*m*s^2 + C_U*l*m)*epsilon^2/s^2"
      ]
     },
     "execution_count": 608,
     "metadata": {},
     "output_type": "execute_result"
    }
   ],
   "source": [
    "Cph1, Cph2 = var('C_phi1, C_phi2')\n",
    "ph_Oeps2_sol = ph_Oeps_sol + Dxi_comp_ph_eq4.rhs().integrate(eps).integrate(eps)\n",
    "ph_Oeps2_sol"
   ]
  },
  {
   "cell_type": "code",
   "execution_count": 609,
   "id": "84ae9870",
   "metadata": {},
   "outputs": [
    {
     "data": {
      "text/html": [
       "<html>\\(\\displaystyle \\frac{1}{2} \\, {\\left(\\frac{{\\left(C_{2} s - l\\right)}^{2} m}{s} - \\frac{{\\left(C_{2}^{2} + 1\\right)} m^{2} s + C_{V} m^{2} - C_{U_{2}}}{m}\\right)} \\epsilon^{2} + \\frac{C_{U} \\epsilon}{m} + \\frac{s}{m}\\)</html>"
      ],
      "text/latex": [
       "$\\displaystyle \\frac{1}{2} \\, {\\left(\\frac{{\\left(C_{2} s - l\\right)}^{2} m}{s} - \\frac{{\\left(C_{2}^{2} + 1\\right)} m^{2} s + C_{V} m^{2} - C_{U_{2}}}{m}\\right)} \\epsilon^{2} + \\frac{C_{U} \\epsilon}{m} + \\frac{s}{m}$"
      ],
      "text/plain": [
       "1/2*((C_2*s - l)^2*m/s - ((C_2^2 + 1)*m^2*s + C_V*m^2 - C_U2)/m)*epsilon^2 + C_U*epsilon/m + s/m"
      ]
     },
     "execution_count": 609,
     "metadata": {},
     "output_type": "execute_result"
    }
   ],
   "source": [
    "r_Oeps2_sol"
   ]
  },
  {
   "cell_type": "markdown",
   "id": "dba48f5a",
   "metadata": {},
   "source": [
    "Essentially, by this point, we have derived\n",
    "$\n",
    "U (s, \\epsilon) = s + \\epsilon C_U - \\frac{\\epsilon^2}{4} ( ( C_2^2 + 1 )m^2 s - 2 C_{U_2} ) + \\mathcal{O} (\\epsilon^3), \\\\\n",
    "V (s, \\epsilon) = \\frac{C_2^2 + 1}{2} s + C_V + \\mathcal{O} (\\epsilon), \\\\\n",
    "X^1 (s, \\epsilon) = 0 + \\mathcal{O} (\\epsilon^2), \\\\\n",
    "X^2 (s, \\epsilon) = C_2 s - l + \\epsilon ( C_{22} s + C_2 C_U ) + \\mathcal{O} (\\epsilon^2).\n",
    "$\n",
    "\n",
    "We also have the correction to the coordinates\n",
    "$\n",
    "t (s, \\epsilon) = \\frac{s}{m} + \\epsilon \\frac{C_U}{m} + \\epsilon^2 \\frac{C_V m^2 + C_{U_2}}{2 m} + \\mathcal{O} (\\epsilon^3), \\\\\n",
    "r (s, \\epsilon) = \\frac{s}{m} + \\epsilon \\frac{C_U}{m} + \\frac{\\epsilon^2}{2} \\bigg ( \\frac{m ( C_2 s - l )^2}{s} - \\frac{( C_2^2 + 1 ) m^2 s + C_V m^2 - C_{U_2}}{m} \\bigg ) + \\mathcal{O} (\\epsilon^3), \\\\\n",
    "\\theta (s, \\epsilon) = \\frac{\\pi}{2}, \\\\\n",
    "\\phi (s, \\epsilon) = \\Phi_0 + \\epsilon \\frac{m ( C_2 s - l )}{s} + \\epsilon^2 \\frac{C_{22} m s^2 + C_U l m}{s^2} + \\mathcal{O} (\\epsilon^3).\n",
    "$"
   ]
  },
  {
   "cell_type": "code",
   "execution_count": 610,
   "id": "69826ddd",
   "metadata": {},
   "outputs": [
    {
     "data": {
      "text/html": [
       "<html>\\(\\displaystyle 0\\)</html>"
      ],
      "text/latex": [
       "$\\displaystyle 0$"
      ],
      "text/plain": [
       "0"
      ]
     },
     "execution_count": 610,
     "metadata": {},
     "output_type": "execute_result"
    }
   ],
   "source": [
    "t_trans_PWcoord = (t_Oeps2_sol - U_Oeps2_sol/m - eps^2*m*V0_sol/2).simplify_full()\n",
    "t_trans_PWcoord"
   ]
  },
  {
   "cell_type": "code",
   "execution_count": 611,
   "id": "980d08e0",
   "metadata": {},
   "outputs": [
    {
     "data": {
      "text/html": [
       "<html>\\(\\displaystyle -\\frac{{\\left(C_{2} C_{U} \\epsilon + C_{22} \\epsilon s + 2 \\, C_{2} s - 2 \\, l\\right)} {\\left(C_{2} C_{U} + C_{22} s\\right)} \\epsilon^{3} m}{2 \\, s}\\)</html>"
      ],
      "text/latex": [
       "$\\displaystyle -\\frac{{\\left(C_{2} C_{U} \\epsilon + C_{22} \\epsilon s + 2 \\, C_{2} s - 2 \\, l\\right)} {\\left(C_{2} C_{U} + C_{22} s\\right)} \\epsilon^{3} m}{2 \\, s}$"
      ],
      "text/plain": [
       "-1/2*(C_2*C_U*epsilon + C_22*epsilon*s + 2*C_2*s - 2*l)*(C_2*C_U + C_22*s)*epsilon^3*m/s"
      ]
     },
     "execution_count": 611,
     "metadata": {},
     "output_type": "execute_result"
    }
   ],
   "source": [
    "r_trans_PWcoord = (r_Oeps2_sol - U_Oeps2_sol/m + eps^2*m*V0_sol/2 - eps^2*m*X2_Oeps_sol^2/(2*s)).factor()\n",
    "r_trans_PWcoord"
   ]
  },
  {
   "cell_type": "markdown",
   "id": "3d29c0bd",
   "metadata": {},
   "source": [
    "Clearly, this surviving term in r_trans_PWcoord is $\\mathcal{O} (\\epsilon^3)$ and thus constitutes part of the error term, since we are only interested in the transformation up to $\\mathcal{O} (\\epsilon^2)$.\n",
    "\n",
    "Now we can identify the $s$ in the denominator as $s = U (s, \\epsilon) - \\epsilon C_U + \\mathcal{O} (\\epsilon^2)$. Thus, $\\frac{1}{s} = \\frac{1}{U (s, \\epsilon)} \\big ( 1 - \\epsilon C_U + \\mathcal{O} (\\epsilon^2) \\big )^{-1} \\approx \\frac{1}{U (s, \\epsilon)} + \\mathcal{O} (\\epsilon)$. But since the remaining term in r_trans_PWcoord is already $\\mathcal{O} (\\epsilon^3)$, this substitution does not affect the relevant terms (only the higher order error terms are affected). Thus we have\n",
    "$\n",
    "r (U, V, X^i) = \\frac{U}{m} - \\epsilon^2 \\frac{m}{2} \\big ( V - \\frac{(X^2)^2}{U} \\big ) + \\mathcal{O} (\\epsilon^3).\n",
    "$\n",
    "\n",
    "Note that since we could also choose $s = 2 \\frac{V (s, \\epsilon) - C_V}{(C_2^2 + 1)} + \\mathcal{O} (\\epsilon)$, an equally valid transformation would be \n",
    "$\n",
    "r (U, V, X^i) = \\frac{U}{m} - \\epsilon^2 \\frac{m}{2} \\big ( V - \\frac{(X^2)^2 (C_2^2 + 1)}{V - C_V} \\big ) + \\mathcal{O} (\\epsilon^3),\n",
    "$\n",
    "which differs from the previous expression only by an error term of order $\\mathcal{O} (\\epsilon^3)$."
   ]
  },
  {
   "cell_type": "code",
   "execution_count": 612,
   "id": "a413629a",
   "metadata": {},
   "outputs": [
    {
     "data": {
      "text/html": [
       "<html>\\(\\displaystyle \\frac{4 \\, {\\left({\\left(C_{2} C_{U} + C_{22} s\\right)} \\epsilon + C_{2} s - l\\right)} \\epsilon m}{{\\left({\\left(C_{2}^{2} + 1\\right)} m^{2} s - 2 \\, C_{U_{2}}\\right)} \\epsilon^{2} - 4 \\, C_{U} \\epsilon - 4 \\, s} + \\frac{{\\left(C_{2} s - l\\right)} \\epsilon m}{s} + \\frac{{\\left(C_{22} m s^{2} + C_{U} l m\\right)} \\epsilon^{2}}{s^{2}}\\)</html>"
      ],
      "text/latex": [
       "$\\displaystyle \\frac{4 \\, {\\left({\\left(C_{2} C_{U} + C_{22} s\\right)} \\epsilon + C_{2} s - l\\right)} \\epsilon m}{{\\left({\\left(C_{2}^{2} + 1\\right)} m^{2} s - 2 \\, C_{U_{2}}\\right)} \\epsilon^{2} - 4 \\, C_{U} \\epsilon - 4 \\, s} + \\frac{{\\left(C_{2} s - l\\right)} \\epsilon m}{s} + \\frac{{\\left(C_{22} m s^{2} + C_{U} l m\\right)} \\epsilon^{2}}{s^{2}}$"
      ],
      "text/plain": [
       "4*((C_2*C_U + C_22*s)*epsilon + C_2*s - l)*epsilon*m/(((C_2^2 + 1)*m^2*s - 2*C_U2)*epsilon^2 - 4*C_U*epsilon - 4*s) + (C_2*s - l)*epsilon*m/s + (C_22*m*s^2 + C_U*l*m)*epsilon^2/s^2"
      ]
     },
     "execution_count": 612,
     "metadata": {},
     "output_type": "execute_result"
    }
   ],
   "source": [
    "ph_trans_PWcoord = ph_Oeps2_sol - ph_init - eps*m*X2_Oeps_sol/U_Oeps2_sol\n",
    "ph_trans_PWcoord"
   ]
  },
  {
   "cell_type": "code",
   "execution_count": 613,
   "id": "3927b459",
   "metadata": {},
   "outputs": [
    {
     "data": {
      "text/html": [
       "<html>\\(\\displaystyle 0\\)</html>"
      ],
      "text/latex": [
       "$\\displaystyle 0$"
      ],
      "text/plain": [
       "0"
      ]
     },
     "execution_count": 613,
     "metadata": {},
     "output_type": "execute_result"
    }
   ],
   "source": [
    "ph_trans_PWcoord.taylor(eps, 0, 2)"
   ]
  },
  {
   "cell_type": "markdown",
   "id": "e13c1204",
   "metadata": {},
   "source": [
    "Thus choosing $\\phi ( U, V, X^{i} ) = \\Phi_{0} + \\epsilon \\frac{m X^{2} (s, \\epsilon)}{U (s, \\epsilon)}$ has the first nonzero term only at $\\mathcal{O} (\\epsilon^3)$.\n",
    "\n",
    "Thus, we have the following relation between the coordinates $( t, r, \\phi )$ and $( U, V, X^2 )$:\n",
    "$\n",
    "t (X^A) = \\frac{U}{m} + \\frac{\\epsilon^2}{2} m V + \\mathcal{O} (\\epsilon^3), \\\\\n",
    "r (X^A) = \\frac{U}{m} - \\frac{\\epsilon^2}{2} m \\big ( V - \\frac{(X^2)^2}{U} \\big ) + \\mathcal{O} (\\epsilon^3), \\\\\n",
    "\\phi (X^A) = \\Phi_0 + \\epsilon m \\frac{X^2}{U} + \\mathcal{O} (\\epsilon^3).\n",
    "$\n",
    "\n",
    "At this order, we can quickly compute the inverse transformation as well, resulting in\n",
    "$\n",
    "U (x^{a'}) = \\frac{2 m (t + r)}{4 + ( \\phi - \\Phi_0 )^2} + \\cdots, \\\\\n",
    "V (x^{a'}) = \\frac{2}{\\epsilon^2 m} \\bigg ( t - 2 \\frac{t + r}{4 + (\\phi - \\Phi_0)^2} \\bigg ) + \\cdots, \\\\\n",
    "X^2 (x^{a'}) = \\frac{2}{\\epsilon} \\frac{( t + r ) ( \\phi - \\Phi_0 )}{4 + ( \\phi - \\Phi_0 )^2} + \\cdots\n",
    "$\n"
   ]
  },
  {
   "cell_type": "code",
   "execution_count": 614,
   "id": "cdda40b4",
   "metadata": {},
   "outputs": [
    {
     "data": {
      "text/html": [
       "<html>\\(\\displaystyle \\left(\\frac{2 \\, m {\\left(r + t\\right)}}{{\\left(\\Phi_{0} - {\\phi}\\right)}^{2} + 4}, \\frac{2 \\, {\\left(t - \\frac{2 \\, {\\left(r + t\\right)}}{{\\left(\\Phi_{0} - {\\phi}\\right)}^{2} + 4}\\right)}}{\\epsilon^{2} m}, 0, -\\frac{2 \\, {\\left(\\Phi_{0} - {\\phi}\\right)} {\\left(r + t\\right)}}{{\\left({\\left(\\Phi_{0} - {\\phi}\\right)}^{2} + 4\\right)} \\epsilon}\\right)\\)</html>"
      ],
      "text/latex": [
       "$\\displaystyle \\left(\\frac{2 \\, m {\\left(r + t\\right)}}{{\\left(\\Phi_{0} - {\\phi}\\right)}^{2} + 4}, \\frac{2 \\, {\\left(t - \\frac{2 \\, {\\left(r + t\\right)}}{{\\left(\\Phi_{0} - {\\phi}\\right)}^{2} + 4}\\right)}}{\\epsilon^{2} m}, 0, -\\frac{2 \\, {\\left(\\Phi_{0} - {\\phi}\\right)} {\\left(r + t\\right)}}{{\\left({\\left(\\Phi_{0} - {\\phi}\\right)}^{2} + 4\\right)} \\epsilon}\\right)$"
      ],
      "text/plain": [
       "(2*m*(r + t)/((Phi_0 - ph)^2 + 4),\n",
       " 2*(t - 2*(r + t)/((Phi_0 - ph)^2 + 4))/(epsilon^2*m),\n",
       " 0,\n",
       " -2*(Phi_0 - ph)*(r + t)/(((Phi_0 - ph)^2 + 4)*epsilon))"
      ]
     },
     "execution_count": 614,
     "metadata": {},
     "output_type": "execute_result"
    }
   ],
   "source": [
    "U_eq = 2*m*(t + r)/(4 + (ph - ph_init)^2)\n",
    "V_eq = 2*(t - 2*(t + r)/(4 + (ph - ph_init)^2))/(eps^2*m)\n",
    "X1_eq = 0\n",
    "X2_eq = 2*(t + r)*(ph - ph_init)/(eps*(4 + (ph - ph_init)^2))\n",
    "U_eq, V_eq, X1_eq, X2_eq"
   ]
  },
  {
   "cell_type": "code",
   "execution_count": 615,
   "id": "5402ca73",
   "metadata": {},
   "outputs": [
    {
     "data": {
      "text/html": [
       "<html>\\(\\displaystyle \\left(\\begin{array}{rrrr}\n",
       "\\frac{2 \\, m}{{\\left(\\Phi_{0} - {\\phi}\\right)}^{2} + 4} & \\frac{2 \\, m}{{\\left(\\Phi_{0} - {\\phi}\\right)}^{2} + 4} & 0 & \\frac{4 \\, {\\left(\\Phi_{0} - {\\phi}\\right)} m {\\left(r + t\\right)}}{{\\left({\\left(\\Phi_{0} - {\\phi}\\right)}^{2} + 4\\right)}^{2}} \\\\\n",
       "-\\frac{2 \\, {\\left(\\frac{2}{{\\left(\\Phi_{0} - {\\phi}\\right)}^{2} + 4} - 1\\right)}}{\\epsilon^{2} m} & -\\frac{4}{{\\left({\\left(\\Phi_{0} - {\\phi}\\right)}^{2} + 4\\right)} \\epsilon^{2} m} & 0 & -\\frac{8 \\, {\\left(\\Phi_{0} - {\\phi}\\right)} {\\left(r + t\\right)}}{{\\left({\\left(\\Phi_{0} - {\\phi}\\right)}^{2} + 4\\right)}^{2} \\epsilon^{2} m} \\\\\n",
       "0 & 0 & 0 & 0 \\\\\n",
       "-\\frac{2 \\, {\\left(\\Phi_{0} - {\\phi}\\right)}}{{\\left({\\left(\\Phi_{0} - {\\phi}\\right)}^{2} + 4\\right)} \\epsilon} & -\\frac{2 \\, {\\left(\\Phi_{0} - {\\phi}\\right)}}{{\\left({\\left(\\Phi_{0} - {\\phi}\\right)}^{2} + 4\\right)} \\epsilon} & 0 & -\\frac{4 \\, {\\left(\\Phi_{0} - {\\phi}\\right)}^{2} {\\left(r + t\\right)}}{{\\left({\\left(\\Phi_{0} - {\\phi}\\right)}^{2} + 4\\right)}^{2} \\epsilon} + \\frac{2 \\, {\\left(r + t\\right)}}{{\\left({\\left(\\Phi_{0} - {\\phi}\\right)}^{2} + 4\\right)} \\epsilon}\n",
       "\\end{array}\\right)\\)</html>"
      ],
      "text/latex": [
       "$\\displaystyle \\left(\\begin{array}{rrrr}\n",
       "\\frac{2 \\, m}{{\\left(\\Phi_{0} - {\\phi}\\right)}^{2} + 4} & \\frac{2 \\, m}{{\\left(\\Phi_{0} - {\\phi}\\right)}^{2} + 4} & 0 & \\frac{4 \\, {\\left(\\Phi_{0} - {\\phi}\\right)} m {\\left(r + t\\right)}}{{\\left({\\left(\\Phi_{0} - {\\phi}\\right)}^{2} + 4\\right)}^{2}} \\\\\n",
       "-\\frac{2 \\, {\\left(\\frac{2}{{\\left(\\Phi_{0} - {\\phi}\\right)}^{2} + 4} - 1\\right)}}{\\epsilon^{2} m} & -\\frac{4}{{\\left({\\left(\\Phi_{0} - {\\phi}\\right)}^{2} + 4\\right)} \\epsilon^{2} m} & 0 & -\\frac{8 \\, {\\left(\\Phi_{0} - {\\phi}\\right)} {\\left(r + t\\right)}}{{\\left({\\left(\\Phi_{0} - {\\phi}\\right)}^{2} + 4\\right)}^{2} \\epsilon^{2} m} \\\\\n",
       "0 & 0 & 0 & 0 \\\\\n",
       "-\\frac{2 \\, {\\left(\\Phi_{0} - {\\phi}\\right)}}{{\\left({\\left(\\Phi_{0} - {\\phi}\\right)}^{2} + 4\\right)} \\epsilon} & -\\frac{2 \\, {\\left(\\Phi_{0} - {\\phi}\\right)}}{{\\left({\\left(\\Phi_{0} - {\\phi}\\right)}^{2} + 4\\right)} \\epsilon} & 0 & -\\frac{4 \\, {\\left(\\Phi_{0} - {\\phi}\\right)}^{2} {\\left(r + t\\right)}}{{\\left({\\left(\\Phi_{0} - {\\phi}\\right)}^{2} + 4\\right)}^{2} \\epsilon} + \\frac{2 \\, {\\left(r + t\\right)}}{{\\left({\\left(\\Phi_{0} - {\\phi}\\right)}^{2} + 4\\right)} \\epsilon}\n",
       "\\end{array}\\right)$"
      ],
      "text/plain": [
       "[                                                                             2*m/((Phi_0 - ph)^2 + 4)                                                                              2*m/((Phi_0 - ph)^2 + 4)                                                                                                     0                                                       4*(Phi_0 - ph)*m*(r + t)/((Phi_0 - ph)^2 + 4)^2]\n",
       "[                                                        -2*(2/((Phi_0 - ph)^2 + 4) - 1)/(epsilon^2*m)                                                                 -4/(((Phi_0 - ph)^2 + 4)*epsilon^2*m)                                                                                                     0                                          -8*(Phi_0 - ph)*(r + t)/(((Phi_0 - ph)^2 + 4)^2*epsilon^2*m)]\n",
       "[                                                                                                    0                                                                                                     0                                                                                                     0                                                                                                     0]\n",
       "[                                                       -2*(Phi_0 - ph)/(((Phi_0 - ph)^2 + 4)*epsilon)                                                        -2*(Phi_0 - ph)/(((Phi_0 - ph)^2 + 4)*epsilon)                                                                                                     0 -4*(Phi_0 - ph)^2*(r + t)/(((Phi_0 - ph)^2 + 4)^2*epsilon) + 2*(r + t)/(((Phi_0 - ph)^2 + 4)*epsilon)]"
      ]
     },
     "execution_count": 615,
     "metadata": {},
     "output_type": "execute_result"
    }
   ],
   "source": [
    "jac_eq = jacobian([U_eq, V_eq, X1_eq, X2_eq], [t, r, th, ph])\n",
    "jac_eq[:]"
   ]
  },
  {
   "cell_type": "code",
   "execution_count": 633,
   "id": "175575e9",
   "metadata": {},
   "outputs": [
    {
     "data": {
      "text/html": [
       "<html>\\(\\displaystyle \\left(U_{c}, V_{c}, X_{\\mathit{1c}}, X_{\\mathit{2c}}\\right)\\)</html>"
      ],
      "text/latex": [
       "$\\displaystyle \\left(U_{c}, V_{c}, X_{\\mathit{1c}}, X_{\\mathit{2c}}\\right)$"
      ],
      "text/plain": [
       "(U_c, V_c, X_1c, X_2c)"
      ]
     },
     "execution_count": 633,
     "metadata": {},
     "output_type": "execute_result"
    }
   ],
   "source": [
    "Uc, Vc, X1c, X2c = var('U_c, V_c, X_1c, X_2c')\n",
    "Uc, Vc, X1c, X2c"
   ]
  },
  {
   "cell_type": "code",
   "execution_count": 753,
   "id": "14a2f64b",
   "metadata": {},
   "outputs": [],
   "source": [
    "def sph_to_scaled_FNC(inp_vec):\n",
    "    t_UVX = Uc/m + eps^2*m*Vc/2\n",
    "    r_UVX = Uc/m - eps^2*m*(Vc - X2c^2/Uc)/2\n",
    "    th_UVX = th_init + eps*m*X1c/Uc\n",
    "    ph_UVX = ph_init + eps*m*X2c/Uc\n",
    "    \n",
    "    vec_UVX = M.vector_field()\n",
    "    vec_UVX[:] = [0, 0, 0, 0]\n",
    "    \n",
    "    for i in range(4):\n",
    "        for j in range(4):\n",
    "            vec_UVX[i] += jac_eq[i, j]*inp_vec[j]\n",
    "    \n",
    "    vec_UVX.apply_map(lambda k: k.subs({t:t_UVX}))\n",
    "    vec_UVX.apply_map(lambda k: k.subs({r:r_UVX}))\n",
    "    vec_UVX.apply_map(lambda k: k.subs({th:th_UVX}))\n",
    "    vec_UVX.apply_map(lambda k: k.subs({ph:ph_UVX}))\n",
    "    \n",
    "    for i in range(4):\n",
    "        vec_UVX[i] = vec_UVX[i].expr().simplify_full()\n",
    "\n",
    "    vec_UVX.apply_map(factor)\n",
    "    \n",
    "    return vec_UVX"
   ]
  },
  {
   "cell_type": "code",
   "execution_count": 754,
   "id": "0345a407",
   "metadata": {},
   "outputs": [],
   "source": [
    "def eps_exp_vec(inp_vec):\n",
    "    vec_taylor = M.vector_field()\n",
    "    \n",
    "    for i in range(4):\n",
    "        vec_taylor[i] = inp_vec[i].expr().taylor(eps, 0, 1)\n",
    "        \n",
    "    return vec_taylor"
   ]
  },
  {
   "cell_type": "code",
   "execution_count": 755,
   "id": "f2eb005b",
   "metadata": {},
   "outputs": [
    {
     "data": {
      "text/html": [
       "<html>\\(\\displaystyle \\left[1, 0, 0, 0\\right]\\)</html>"
      ],
      "text/latex": [
       "$\\displaystyle \\left[1, 0, 0, 0\\right]$"
      ],
      "text/plain": [
       "[1, 0, 0, 0]"
      ]
     },
     "execution_count": 755,
     "metadata": {},
     "output_type": "execute_result"
    }
   ],
   "source": [
    "T0_eq = M.vector_field()\n",
    "T0_eq[:] = [1, 0, 0, 0]\n",
    "T0_eq[:]"
   ]
  },
  {
   "cell_type": "code",
   "execution_count": 756,
   "id": "42cfeed3",
   "metadata": {},
   "outputs": [
    {
     "data": {
      "text/html": [
       "<html>\\(\\displaystyle \\left[\\frac{2 \\, U_{c}^{2} m}{X_{\\mathit{2c}}^{2} \\epsilon^{2} m^{2} + 4 \\, U_{c}^{2}}, \\frac{2 \\, {\\left(X_{\\mathit{2c}}^{2} \\epsilon^{2} m^{2} + 2 \\, U_{c}^{2}\\right)}}{{\\left(X_{\\mathit{2c}}^{2} \\epsilon^{2} m^{2} + 4 \\, U_{c}^{2}\\right)} \\epsilon^{2} m}, 0, \\frac{2 \\, U_{c} X_{\\mathit{2c}} m}{X_{\\mathit{2c}}^{2} \\epsilon^{2} m^{2} + 4 \\, U_{c}^{2}}\\right]\\)</html>"
      ],
      "text/latex": [
       "$\\displaystyle \\left[\\frac{2 \\, U_{c}^{2} m}{X_{\\mathit{2c}}^{2} \\epsilon^{2} m^{2} + 4 \\, U_{c}^{2}}, \\frac{2 \\, {\\left(X_{\\mathit{2c}}^{2} \\epsilon^{2} m^{2} + 2 \\, U_{c}^{2}\\right)}}{{\\left(X_{\\mathit{2c}}^{2} \\epsilon^{2} m^{2} + 4 \\, U_{c}^{2}\\right)} \\epsilon^{2} m}, 0, \\frac{2 \\, U_{c} X_{\\mathit{2c}} m}{X_{\\mathit{2c}}^{2} \\epsilon^{2} m^{2} + 4 \\, U_{c}^{2}}\\right]$"
      ],
      "text/plain": [
       "[2*U_c^2*m/(X_2c^2*epsilon^2*m^2 + 4*U_c^2),\n",
       " 2*(X_2c^2*epsilon^2*m^2 + 2*U_c^2)/((X_2c^2*epsilon^2*m^2 + 4*U_c^2)*epsilon^2*m),\n",
       " 0,\n",
       " 2*U_c*X_2c*m/(X_2c^2*epsilon^2*m^2 + 4*U_c^2)]"
      ]
     },
     "execution_count": 756,
     "metadata": {},
     "output_type": "execute_result"
    }
   ],
   "source": [
    "T0_eq_UVX = sph_to_scaled_FNC(T0_eq)\n",
    "T0_eq_UVX[:]"
   ]
  },
  {
   "cell_type": "code",
   "execution_count": 757,
   "id": "3f117a64",
   "metadata": {},
   "outputs": [
    {
     "data": {
      "text/html": [
       "<html>\\(\\displaystyle \\left[\\frac{2 \\, U_{c}^{2} \\epsilon^{2} m}{X_{\\mathit{2c}}^{2} \\epsilon^{2} m^{2} + 4 \\, U_{c}^{2}}, \\frac{2 \\, {\\left(X_{\\mathit{2c}}^{2} \\epsilon^{2} m^{2} + 2 \\, U_{c}^{2}\\right)}}{X_{\\mathit{2c}}^{2} \\epsilon^{2} m^{3} + 4 \\, U_{c}^{2} m}, 0, \\frac{2 \\, U_{c} X_{\\mathit{2c}} \\epsilon^{2} m}{X_{\\mathit{2c}}^{2} \\epsilon^{2} m^{2} + 4 \\, U_{c}^{2}}\\right]\\)</html>"
      ],
      "text/latex": [
       "$\\displaystyle \\left[\\frac{2 \\, U_{c}^{2} \\epsilon^{2} m}{X_{\\mathit{2c}}^{2} \\epsilon^{2} m^{2} + 4 \\, U_{c}^{2}}, \\frac{2 \\, {\\left(X_{\\mathit{2c}}^{2} \\epsilon^{2} m^{2} + 2 \\, U_{c}^{2}\\right)}}{X_{\\mathit{2c}}^{2} \\epsilon^{2} m^{3} + 4 \\, U_{c}^{2} m}, 0, \\frac{2 \\, U_{c} X_{\\mathit{2c}} \\epsilon^{2} m}{X_{\\mathit{2c}}^{2} \\epsilon^{2} m^{2} + 4 \\, U_{c}^{2}}\\right]$"
      ],
      "text/plain": [
       "[2*U_c^2*epsilon^2*m/(X_2c^2*epsilon^2*m^2 + 4*U_c^2),\n",
       " 2*(X_2c^2*epsilon^2*m^2 + 2*U_c^2)/(X_2c^2*epsilon^2*m^3 + 4*U_c^2*m),\n",
       " 0,\n",
       " 2*U_c*X_2c*epsilon^2*m/(X_2c^2*epsilon^2*m^2 + 4*U_c^2)]"
      ]
     },
     "execution_count": 757,
     "metadata": {},
     "output_type": "execute_result"
    }
   ],
   "source": [
    "T0_eq_UVX_eps = T0_eq_UVX*eps^2\n",
    "T0_eq_UVX_eps[:]"
   ]
  },
  {
   "cell_type": "code",
   "execution_count": 758,
   "id": "5d1d3bf7",
   "metadata": {},
   "outputs": [
    {
     "data": {
      "text/html": [
       "<html>\\(\\displaystyle \\left[0, \\frac{1}{m}, 0, 0\\right]\\)</html>"
      ],
      "text/latex": [
       "$\\displaystyle \\left[0, \\frac{1}{m}, 0, 0\\right]$"
      ],
      "text/plain": [
       "[0, 1/m, 0, 0]"
      ]
     },
     "execution_count": 758,
     "metadata": {},
     "output_type": "execute_result"
    }
   ],
   "source": [
    "T0_eq_UVX_CL = T0_eq_UVX_eps.copy()\n",
    "T0_eq_UVX_CL.apply_map(lambda tmp: tmp.subs({eps:0}))\n",
    "T0_eq_UVX_CL[:]"
   ]
  },
  {
   "cell_type": "code",
   "execution_count": 759,
   "id": "1f9ab51d",
   "metadata": {},
   "outputs": [
    {
     "data": {
      "text/html": [
       "<html>\\(\\displaystyle \\left[0, \\cos\\left({\\phi}\\right), 0, -\\frac{\\sin\\left({\\phi}\\right)}{r}\\right]\\)</html>"
      ],
      "text/latex": [
       "$\\displaystyle \\left[0, \\cos\\left({\\phi}\\right), 0, -\\frac{\\sin\\left({\\phi}\\right)}{r}\\right]$"
      ],
      "text/plain": [
       "[0, cos(ph), 0, -sin(ph)/r]"
      ]
     },
     "execution_count": 759,
     "metadata": {},
     "output_type": "execute_result"
    }
   ],
   "source": [
    "T1_eq = M.vector_field()\n",
    "T1_eq[:] = [0, cos(ph), 0, -sin(ph)/r]\n",
    "T1_eq[:]"
   ]
  },
  {
   "cell_type": "code",
   "execution_count": 760,
   "id": "ee0de3e2",
   "metadata": {},
   "outputs": [
    {
     "data": {
      "text/html": [
       "<html>\\(\\displaystyle \\left[\\frac{2 \\, {\\left(U_{c} V_{c} \\epsilon^{2} m^{2} \\cos\\left(\\frac{X_{\\mathit{2c}} \\epsilon m}{U_{c}}\\right) \\cos\\left(\\Phi_{0}\\right) - X_{\\mathit{2c}}^{2} \\epsilon^{2} m^{2} \\cos\\left(\\frac{X_{\\mathit{2c}} \\epsilon m}{U_{c}}\\right) \\cos\\left(\\Phi_{0}\\right) - U_{c} V_{c} \\epsilon^{2} m^{2} \\sin\\left(\\frac{X_{\\mathit{2c}} \\epsilon m}{U_{c}}\\right) \\sin\\left(\\Phi_{0}\\right) + X_{\\mathit{2c}}^{2} \\epsilon^{2} m^{2} \\sin\\left(\\frac{X_{\\mathit{2c}} \\epsilon m}{U_{c}}\\right) \\sin\\left(\\Phi_{0}\\right) - 2 \\, U_{c} X_{\\mathit{2c}} \\epsilon m \\cos\\left(\\Phi_{0}\\right) \\sin\\left(\\frac{X_{\\mathit{2c}} \\epsilon m}{U_{c}}\\right) - 2 \\, U_{c} X_{\\mathit{2c}} \\epsilon m \\cos\\left(\\frac{X_{\\mathit{2c}} \\epsilon m}{U_{c}}\\right) \\sin\\left(\\Phi_{0}\\right) - 2 \\, U_{c}^{2} \\cos\\left(\\frac{X_{\\mathit{2c}} \\epsilon m}{U_{c}}\\right) \\cos\\left(\\Phi_{0}\\right) + 2 \\, U_{c}^{2} \\sin\\left(\\frac{X_{\\mathit{2c}} \\epsilon m}{U_{c}}\\right) \\sin\\left(\\Phi_{0}\\right)\\right)} U_{c}^{2} m}{{\\left(U_{c} V_{c} \\epsilon^{2} m^{2} - X_{\\mathit{2c}}^{2} \\epsilon^{2} m^{2} - 2 \\, U_{c}^{2}\\right)} {\\left(X_{\\mathit{2c}}^{2} \\epsilon^{2} m^{2} + 4 \\, U_{c}^{2}\\right)}}, -\\frac{4 \\, {\\left(U_{c} V_{c} \\epsilon^{2} m^{2} \\cos\\left(\\frac{X_{\\mathit{2c}} \\epsilon m}{U_{c}}\\right) \\cos\\left(\\Phi_{0}\\right) - X_{\\mathit{2c}}^{2} \\epsilon^{2} m^{2} \\cos\\left(\\frac{X_{\\mathit{2c}} \\epsilon m}{U_{c}}\\right) \\cos\\left(\\Phi_{0}\\right) - U_{c} V_{c} \\epsilon^{2} m^{2} \\sin\\left(\\frac{X_{\\mathit{2c}} \\epsilon m}{U_{c}}\\right) \\sin\\left(\\Phi_{0}\\right) + X_{\\mathit{2c}}^{2} \\epsilon^{2} m^{2} \\sin\\left(\\frac{X_{\\mathit{2c}} \\epsilon m}{U_{c}}\\right) \\sin\\left(\\Phi_{0}\\right) - 2 \\, U_{c} X_{\\mathit{2c}} \\epsilon m \\cos\\left(\\Phi_{0}\\right) \\sin\\left(\\frac{X_{\\mathit{2c}} \\epsilon m}{U_{c}}\\right) - 2 \\, U_{c} X_{\\mathit{2c}} \\epsilon m \\cos\\left(\\frac{X_{\\mathit{2c}} \\epsilon m}{U_{c}}\\right) \\sin\\left(\\Phi_{0}\\right) - 2 \\, U_{c}^{2} \\cos\\left(\\frac{X_{\\mathit{2c}} \\epsilon m}{U_{c}}\\right) \\cos\\left(\\Phi_{0}\\right) + 2 \\, U_{c}^{2} \\sin\\left(\\frac{X_{\\mathit{2c}} \\epsilon m}{U_{c}}\\right) \\sin\\left(\\Phi_{0}\\right)\\right)} U_{c}^{2}}{{\\left(U_{c} V_{c} \\epsilon^{2} m^{2} - X_{\\mathit{2c}}^{2} \\epsilon^{2} m^{2} - 2 \\, U_{c}^{2}\\right)} {\\left(X_{\\mathit{2c}}^{2} \\epsilon^{2} m^{2} + 4 \\, U_{c}^{2}\\right)} \\epsilon^{2} m}, 0, \\frac{2 \\, {\\left(U_{c} V_{c} X_{\\mathit{2c}} \\epsilon^{3} m^{3} \\cos\\left(\\frac{X_{\\mathit{2c}} \\epsilon m}{U_{c}}\\right) \\cos\\left(\\Phi_{0}\\right) - X_{\\mathit{2c}}^{3} \\epsilon^{3} m^{3} \\cos\\left(\\frac{X_{\\mathit{2c}} \\epsilon m}{U_{c}}\\right) \\cos\\left(\\Phi_{0}\\right) - U_{c} V_{c} X_{\\mathit{2c}} \\epsilon^{3} m^{3} \\sin\\left(\\frac{X_{\\mathit{2c}} \\epsilon m}{U_{c}}\\right) \\sin\\left(\\Phi_{0}\\right) + X_{\\mathit{2c}}^{3} \\epsilon^{3} m^{3} \\sin\\left(\\frac{X_{\\mathit{2c}} \\epsilon m}{U_{c}}\\right) \\sin\\left(\\Phi_{0}\\right) - U_{c} X_{\\mathit{2c}}^{2} \\epsilon^{2} m^{2} \\cos\\left(\\Phi_{0}\\right) \\sin\\left(\\frac{X_{\\mathit{2c}} \\epsilon m}{U_{c}}\\right) - U_{c} X_{\\mathit{2c}}^{2} \\epsilon^{2} m^{2} \\cos\\left(\\frac{X_{\\mathit{2c}} \\epsilon m}{U_{c}}\\right) \\sin\\left(\\Phi_{0}\\right) - 2 \\, U_{c}^{2} X_{\\mathit{2c}} \\epsilon m \\cos\\left(\\frac{X_{\\mathit{2c}} \\epsilon m}{U_{c}}\\right) \\cos\\left(\\Phi_{0}\\right) + 2 \\, U_{c}^{2} X_{\\mathit{2c}} \\epsilon m \\sin\\left(\\frac{X_{\\mathit{2c}} \\epsilon m}{U_{c}}\\right) \\sin\\left(\\Phi_{0}\\right) + 4 \\, U_{c}^{3} \\cos\\left(\\Phi_{0}\\right) \\sin\\left(\\frac{X_{\\mathit{2c}} \\epsilon m}{U_{c}}\\right) + 4 \\, U_{c}^{3} \\cos\\left(\\frac{X_{\\mathit{2c}} \\epsilon m}{U_{c}}\\right) \\sin\\left(\\Phi_{0}\\right)\\right)} U_{c}}{{\\left(U_{c} V_{c} \\epsilon^{2} m^{2} - X_{\\mathit{2c}}^{2} \\epsilon^{2} m^{2} - 2 \\, U_{c}^{2}\\right)} {\\left(X_{\\mathit{2c}}^{2} \\epsilon^{2} m^{2} + 4 \\, U_{c}^{2}\\right)} \\epsilon}\\right]\\)</html>"
      ],
      "text/latex": [
       "$\\displaystyle \\left[\\frac{2 \\, {\\left(U_{c} V_{c} \\epsilon^{2} m^{2} \\cos\\left(\\frac{X_{\\mathit{2c}} \\epsilon m}{U_{c}}\\right) \\cos\\left(\\Phi_{0}\\right) - X_{\\mathit{2c}}^{2} \\epsilon^{2} m^{2} \\cos\\left(\\frac{X_{\\mathit{2c}} \\epsilon m}{U_{c}}\\right) \\cos\\left(\\Phi_{0}\\right) - U_{c} V_{c} \\epsilon^{2} m^{2} \\sin\\left(\\frac{X_{\\mathit{2c}} \\epsilon m}{U_{c}}\\right) \\sin\\left(\\Phi_{0}\\right) + X_{\\mathit{2c}}^{2} \\epsilon^{2} m^{2} \\sin\\left(\\frac{X_{\\mathit{2c}} \\epsilon m}{U_{c}}\\right) \\sin\\left(\\Phi_{0}\\right) - 2 \\, U_{c} X_{\\mathit{2c}} \\epsilon m \\cos\\left(\\Phi_{0}\\right) \\sin\\left(\\frac{X_{\\mathit{2c}} \\epsilon m}{U_{c}}\\right) - 2 \\, U_{c} X_{\\mathit{2c}} \\epsilon m \\cos\\left(\\frac{X_{\\mathit{2c}} \\epsilon m}{U_{c}}\\right) \\sin\\left(\\Phi_{0}\\right) - 2 \\, U_{c}^{2} \\cos\\left(\\frac{X_{\\mathit{2c}} \\epsilon m}{U_{c}}\\right) \\cos\\left(\\Phi_{0}\\right) + 2 \\, U_{c}^{2} \\sin\\left(\\frac{X_{\\mathit{2c}} \\epsilon m}{U_{c}}\\right) \\sin\\left(\\Phi_{0}\\right)\\right)} U_{c}^{2} m}{{\\left(U_{c} V_{c} \\epsilon^{2} m^{2} - X_{\\mathit{2c}}^{2} \\epsilon^{2} m^{2} - 2 \\, U_{c}^{2}\\right)} {\\left(X_{\\mathit{2c}}^{2} \\epsilon^{2} m^{2} + 4 \\, U_{c}^{2}\\right)}}, -\\frac{4 \\, {\\left(U_{c} V_{c} \\epsilon^{2} m^{2} \\cos\\left(\\frac{X_{\\mathit{2c}} \\epsilon m}{U_{c}}\\right) \\cos\\left(\\Phi_{0}\\right) - X_{\\mathit{2c}}^{2} \\epsilon^{2} m^{2} \\cos\\left(\\frac{X_{\\mathit{2c}} \\epsilon m}{U_{c}}\\right) \\cos\\left(\\Phi_{0}\\right) - U_{c} V_{c} \\epsilon^{2} m^{2} \\sin\\left(\\frac{X_{\\mathit{2c}} \\epsilon m}{U_{c}}\\right) \\sin\\left(\\Phi_{0}\\right) + X_{\\mathit{2c}}^{2} \\epsilon^{2} m^{2} \\sin\\left(\\frac{X_{\\mathit{2c}} \\epsilon m}{U_{c}}\\right) \\sin\\left(\\Phi_{0}\\right) - 2 \\, U_{c} X_{\\mathit{2c}} \\epsilon m \\cos\\left(\\Phi_{0}\\right) \\sin\\left(\\frac{X_{\\mathit{2c}} \\epsilon m}{U_{c}}\\right) - 2 \\, U_{c} X_{\\mathit{2c}} \\epsilon m \\cos\\left(\\frac{X_{\\mathit{2c}} \\epsilon m}{U_{c}}\\right) \\sin\\left(\\Phi_{0}\\right) - 2 \\, U_{c}^{2} \\cos\\left(\\frac{X_{\\mathit{2c}} \\epsilon m}{U_{c}}\\right) \\cos\\left(\\Phi_{0}\\right) + 2 \\, U_{c}^{2} \\sin\\left(\\frac{X_{\\mathit{2c}} \\epsilon m}{U_{c}}\\right) \\sin\\left(\\Phi_{0}\\right)\\right)} U_{c}^{2}}{{\\left(U_{c} V_{c} \\epsilon^{2} m^{2} - X_{\\mathit{2c}}^{2} \\epsilon^{2} m^{2} - 2 \\, U_{c}^{2}\\right)} {\\left(X_{\\mathit{2c}}^{2} \\epsilon^{2} m^{2} + 4 \\, U_{c}^{2}\\right)} \\epsilon^{2} m}, 0, \\frac{2 \\, {\\left(U_{c} V_{c} X_{\\mathit{2c}} \\epsilon^{3} m^{3} \\cos\\left(\\frac{X_{\\mathit{2c}} \\epsilon m}{U_{c}}\\right) \\cos\\left(\\Phi_{0}\\right) - X_{\\mathit{2c}}^{3} \\epsilon^{3} m^{3} \\cos\\left(\\frac{X_{\\mathit{2c}} \\epsilon m}{U_{c}}\\right) \\cos\\left(\\Phi_{0}\\right) - U_{c} V_{c} X_{\\mathit{2c}} \\epsilon^{3} m^{3} \\sin\\left(\\frac{X_{\\mathit{2c}} \\epsilon m}{U_{c}}\\right) \\sin\\left(\\Phi_{0}\\right) + X_{\\mathit{2c}}^{3} \\epsilon^{3} m^{3} \\sin\\left(\\frac{X_{\\mathit{2c}} \\epsilon m}{U_{c}}\\right) \\sin\\left(\\Phi_{0}\\right) - U_{c} X_{\\mathit{2c}}^{2} \\epsilon^{2} m^{2} \\cos\\left(\\Phi_{0}\\right) \\sin\\left(\\frac{X_{\\mathit{2c}} \\epsilon m}{U_{c}}\\right) - U_{c} X_{\\mathit{2c}}^{2} \\epsilon^{2} m^{2} \\cos\\left(\\frac{X_{\\mathit{2c}} \\epsilon m}{U_{c}}\\right) \\sin\\left(\\Phi_{0}\\right) - 2 \\, U_{c}^{2} X_{\\mathit{2c}} \\epsilon m \\cos\\left(\\frac{X_{\\mathit{2c}} \\epsilon m}{U_{c}}\\right) \\cos\\left(\\Phi_{0}\\right) + 2 \\, U_{c}^{2} X_{\\mathit{2c}} \\epsilon m \\sin\\left(\\frac{X_{\\mathit{2c}} \\epsilon m}{U_{c}}\\right) \\sin\\left(\\Phi_{0}\\right) + 4 \\, U_{c}^{3} \\cos\\left(\\Phi_{0}\\right) \\sin\\left(\\frac{X_{\\mathit{2c}} \\epsilon m}{U_{c}}\\right) + 4 \\, U_{c}^{3} \\cos\\left(\\frac{X_{\\mathit{2c}} \\epsilon m}{U_{c}}\\right) \\sin\\left(\\Phi_{0}\\right)\\right)} U_{c}}{{\\left(U_{c} V_{c} \\epsilon^{2} m^{2} - X_{\\mathit{2c}}^{2} \\epsilon^{2} m^{2} - 2 \\, U_{c}^{2}\\right)} {\\left(X_{\\mathit{2c}}^{2} \\epsilon^{2} m^{2} + 4 \\, U_{c}^{2}\\right)} \\epsilon}\\right]$"
      ],
      "text/plain": [
       "[2*(U_c*V_c*epsilon^2*m^2*cos(X_2c*epsilon*m/U_c)*cos(Phi_0) - X_2c^2*epsilon^2*m^2*cos(X_2c*epsilon*m/U_c)*cos(Phi_0) - U_c*V_c*epsilon^2*m^2*sin(X_2c*epsilon*m/U_c)*sin(Phi_0) + X_2c^2*epsilon^2*m^2*sin(X_2c*epsilon*m/U_c)*sin(Phi_0) - 2*U_c*X_2c*epsilon*m*cos(Phi_0)*sin(X_2c*epsilon*m/U_c) - 2*U_c*X_2c*epsilon*m*cos(X_2c*epsilon*m/U_c)*sin(Phi_0) - 2*U_c^2*cos(X_2c*epsilon*m/U_c)*cos(Phi_0) + 2*U_c^2*sin(X_2c*epsilon*m/U_c)*sin(Phi_0))*U_c^2*m/((U_c*V_c*epsilon^2*m^2 - X_2c^2*epsilon^2*m^2 - 2*U_c^2)*(X_2c^2*epsilon^2*m^2 + 4*U_c^2)),\n",
       " -4*(U_c*V_c*epsilon^2*m^2*cos(X_2c*epsilon*m/U_c)*cos(Phi_0) - X_2c^2*epsilon^2*m^2*cos(X_2c*epsilon*m/U_c)*cos(Phi_0) - U_c*V_c*epsilon^2*m^2*sin(X_2c*epsilon*m/U_c)*sin(Phi_0) + X_2c^2*epsilon^2*m^2*sin(X_2c*epsilon*m/U_c)*sin(Phi_0) - 2*U_c*X_2c*epsilon*m*cos(Phi_0)*sin(X_2c*epsilon*m/U_c) - 2*U_c*X_2c*epsilon*m*cos(X_2c*epsilon*m/U_c)*sin(Phi_0) - 2*U_c^2*cos(X_2c*epsilon*m/U_c)*cos(Phi_0) + 2*U_c^2*sin(X_2c*epsilon*m/U_c)*sin(Phi_0))*U_c^2/((U_c*V_c*epsilon^2*m^2 - X_2c^2*epsilon^2*m^2 - 2*U_c^2)*(X_2c^2*epsilon^2*m^2 + 4*U_c^2)*epsilon^2*m),\n",
       " 0,\n",
       " 2*(U_c*V_c*X_2c*epsilon^3*m^3*cos(X_2c*epsilon*m/U_c)*cos(Phi_0) - X_2c^3*epsilon^3*m^3*cos(X_2c*epsilon*m/U_c)*cos(Phi_0) - U_c*V_c*X_2c*epsilon^3*m^3*sin(X_2c*epsilon*m/U_c)*sin(Phi_0) + X_2c^3*epsilon^3*m^3*sin(X_2c*epsilon*m/U_c)*sin(Phi_0) - U_c*X_2c^2*epsilon^2*m^2*cos(Phi_0)*sin(X_2c*epsilon*m/U_c) - U_c*X_2c^2*epsilon^2*m^2*cos(X_2c*epsilon*m/U_c)*sin(Phi_0) - 2*U_c^2*X_2c*epsilon*m*cos(X_2c*epsilon*m/U_c)*cos(Phi_0) + 2*U_c^2*X_2c*epsilon*m*sin(X_2c*epsilon*m/U_c)*sin(Phi_0) + 4*U_c^3*cos(Phi_0)*sin(X_2c*epsilon*m/U_c) + 4*U_c^3*cos(X_2c*epsilon*m/U_c)*sin(Phi_0))*U_c/((U_c*V_c*epsilon^2*m^2 - X_2c^2*epsilon^2*m^2 - 2*U_c^2)*(X_2c^2*epsilon^2*m^2 + 4*U_c^2)*epsilon)]"
      ]
     },
     "execution_count": 760,
     "metadata": {},
     "output_type": "execute_result"
    }
   ],
   "source": [
    "T1_eq_UVX = sph_to_scaled_FNC(T1_eq)\n",
    "T1_eq_UVX[:]"
   ]
  },
  {
   "cell_type": "code",
   "execution_count": 761,
   "id": "d6814f89",
   "metadata": {},
   "outputs": [
    {
     "data": {
      "text/html": [
       "<html>\\(\\displaystyle \\left[-\\frac{2 \\, {\\left({\\left(2 \\, U_{c}^{3} X_{\\mathit{2c}} \\epsilon^{3} m^{2} \\sin\\left(\\Phi_{0}\\right) - {\\left(U_{c}^{3} V_{c} \\cos\\left(\\Phi_{0}\\right) - U_{c}^{2} X_{\\mathit{2c}}^{2} \\cos\\left(\\Phi_{0}\\right)\\right)} \\epsilon^{4} m^{3} + 2 \\, U_{c}^{4} \\epsilon^{2} m \\cos\\left(\\Phi_{0}\\right)\\right)} \\cos\\left(\\frac{X_{\\mathit{2c}} \\epsilon m}{U_{c}}\\right) + {\\left(2 \\, U_{c}^{3} X_{\\mathit{2c}} \\epsilon^{3} m^{2} \\cos\\left(\\Phi_{0}\\right) + {\\left(U_{c}^{3} V_{c} \\sin\\left(\\Phi_{0}\\right) - U_{c}^{2} X_{\\mathit{2c}}^{2} \\sin\\left(\\Phi_{0}\\right)\\right)} \\epsilon^{4} m^{3} - 2 \\, U_{c}^{4} \\epsilon^{2} m \\sin\\left(\\Phi_{0}\\right)\\right)} \\sin\\left(\\frac{X_{\\mathit{2c}} \\epsilon m}{U_{c}}\\right)\\right)}}{{\\left(U_{c} V_{c} X_{\\mathit{2c}}^{2} - X_{\\mathit{2c}}^{4}\\right)} \\epsilon^{4} m^{4} + 2 \\, {\\left(2 \\, U_{c}^{3} V_{c} - 3 \\, U_{c}^{2} X_{\\mathit{2c}}^{2}\\right)} \\epsilon^{2} m^{2} - 8 \\, U_{c}^{4}}, \\frac{4 \\, {\\left({\\left(2 \\, U_{c}^{3} X_{\\mathit{2c}} \\epsilon m \\sin\\left(\\Phi_{0}\\right) - {\\left(U_{c}^{3} V_{c} \\cos\\left(\\Phi_{0}\\right) - U_{c}^{2} X_{\\mathit{2c}}^{2} \\cos\\left(\\Phi_{0}\\right)\\right)} \\epsilon^{2} m^{2} + 2 \\, U_{c}^{4} \\cos\\left(\\Phi_{0}\\right)\\right)} \\cos\\left(\\frac{X_{\\mathit{2c}} \\epsilon m}{U_{c}}\\right) + {\\left(2 \\, U_{c}^{3} X_{\\mathit{2c}} \\epsilon m \\cos\\left(\\Phi_{0}\\right) + {\\left(U_{c}^{3} V_{c} \\sin\\left(\\Phi_{0}\\right) - U_{c}^{2} X_{\\mathit{2c}}^{2} \\sin\\left(\\Phi_{0}\\right)\\right)} \\epsilon^{2} m^{2} - 2 \\, U_{c}^{4} \\sin\\left(\\Phi_{0}\\right)\\right)} \\sin\\left(\\frac{X_{\\mathit{2c}} \\epsilon m}{U_{c}}\\right)\\right)}}{{\\left(U_{c} V_{c} X_{\\mathit{2c}}^{2} - X_{\\mathit{2c}}^{4}\\right)} \\epsilon^{4} m^{5} + 2 \\, {\\left(2 \\, U_{c}^{3} V_{c} - 3 \\, U_{c}^{2} X_{\\mathit{2c}}^{2}\\right)} \\epsilon^{2} m^{3} - 8 \\, U_{c}^{4} m}, 0, -\\frac{2 \\, {\\left({\\left(U_{c}^{2} X_{\\mathit{2c}}^{2} \\epsilon^{3} m^{2} \\sin\\left(\\Phi_{0}\\right) - {\\left(U_{c}^{2} V_{c} X_{\\mathit{2c}} \\cos\\left(\\Phi_{0}\\right) - U_{c} X_{\\mathit{2c}}^{3} \\cos\\left(\\Phi_{0}\\right)\\right)} \\epsilon^{4} m^{3} + 2 \\, U_{c}^{3} X_{\\mathit{2c}} \\epsilon^{2} m \\cos\\left(\\Phi_{0}\\right) - 4 \\, U_{c}^{4} \\epsilon \\sin\\left(\\Phi_{0}\\right)\\right)} \\cos\\left(\\frac{X_{\\mathit{2c}} \\epsilon m}{U_{c}}\\right) + {\\left(U_{c}^{2} X_{\\mathit{2c}}^{2} \\epsilon^{3} m^{2} \\cos\\left(\\Phi_{0}\\right) + {\\left(U_{c}^{2} V_{c} X_{\\mathit{2c}} \\sin\\left(\\Phi_{0}\\right) - U_{c} X_{\\mathit{2c}}^{3} \\sin\\left(\\Phi_{0}\\right)\\right)} \\epsilon^{4} m^{3} - 2 \\, U_{c}^{3} X_{\\mathit{2c}} \\epsilon^{2} m \\sin\\left(\\Phi_{0}\\right) - 4 \\, U_{c}^{4} \\epsilon \\cos\\left(\\Phi_{0}\\right)\\right)} \\sin\\left(\\frac{X_{\\mathit{2c}} \\epsilon m}{U_{c}}\\right)\\right)}}{{\\left(U_{c} V_{c} X_{\\mathit{2c}}^{2} - X_{\\mathit{2c}}^{4}\\right)} \\epsilon^{4} m^{4} + 2 \\, {\\left(2 \\, U_{c}^{3} V_{c} - 3 \\, U_{c}^{2} X_{\\mathit{2c}}^{2}\\right)} \\epsilon^{2} m^{2} - 8 \\, U_{c}^{4}}\\right]\\)</html>"
      ],
      "text/latex": [
       "$\\displaystyle \\left[-\\frac{2 \\, {\\left({\\left(2 \\, U_{c}^{3} X_{\\mathit{2c}} \\epsilon^{3} m^{2} \\sin\\left(\\Phi_{0}\\right) - {\\left(U_{c}^{3} V_{c} \\cos\\left(\\Phi_{0}\\right) - U_{c}^{2} X_{\\mathit{2c}}^{2} \\cos\\left(\\Phi_{0}\\right)\\right)} \\epsilon^{4} m^{3} + 2 \\, U_{c}^{4} \\epsilon^{2} m \\cos\\left(\\Phi_{0}\\right)\\right)} \\cos\\left(\\frac{X_{\\mathit{2c}} \\epsilon m}{U_{c}}\\right) + {\\left(2 \\, U_{c}^{3} X_{\\mathit{2c}} \\epsilon^{3} m^{2} \\cos\\left(\\Phi_{0}\\right) + {\\left(U_{c}^{3} V_{c} \\sin\\left(\\Phi_{0}\\right) - U_{c}^{2} X_{\\mathit{2c}}^{2} \\sin\\left(\\Phi_{0}\\right)\\right)} \\epsilon^{4} m^{3} - 2 \\, U_{c}^{4} \\epsilon^{2} m \\sin\\left(\\Phi_{0}\\right)\\right)} \\sin\\left(\\frac{X_{\\mathit{2c}} \\epsilon m}{U_{c}}\\right)\\right)}}{{\\left(U_{c} V_{c} X_{\\mathit{2c}}^{2} - X_{\\mathit{2c}}^{4}\\right)} \\epsilon^{4} m^{4} + 2 \\, {\\left(2 \\, U_{c}^{3} V_{c} - 3 \\, U_{c}^{2} X_{\\mathit{2c}}^{2}\\right)} \\epsilon^{2} m^{2} - 8 \\, U_{c}^{4}}, \\frac{4 \\, {\\left({\\left(2 \\, U_{c}^{3} X_{\\mathit{2c}} \\epsilon m \\sin\\left(\\Phi_{0}\\right) - {\\left(U_{c}^{3} V_{c} \\cos\\left(\\Phi_{0}\\right) - U_{c}^{2} X_{\\mathit{2c}}^{2} \\cos\\left(\\Phi_{0}\\right)\\right)} \\epsilon^{2} m^{2} + 2 \\, U_{c}^{4} \\cos\\left(\\Phi_{0}\\right)\\right)} \\cos\\left(\\frac{X_{\\mathit{2c}} \\epsilon m}{U_{c}}\\right) + {\\left(2 \\, U_{c}^{3} X_{\\mathit{2c}} \\epsilon m \\cos\\left(\\Phi_{0}\\right) + {\\left(U_{c}^{3} V_{c} \\sin\\left(\\Phi_{0}\\right) - U_{c}^{2} X_{\\mathit{2c}}^{2} \\sin\\left(\\Phi_{0}\\right)\\right)} \\epsilon^{2} m^{2} - 2 \\, U_{c}^{4} \\sin\\left(\\Phi_{0}\\right)\\right)} \\sin\\left(\\frac{X_{\\mathit{2c}} \\epsilon m}{U_{c}}\\right)\\right)}}{{\\left(U_{c} V_{c} X_{\\mathit{2c}}^{2} - X_{\\mathit{2c}}^{4}\\right)} \\epsilon^{4} m^{5} + 2 \\, {\\left(2 \\, U_{c}^{3} V_{c} - 3 \\, U_{c}^{2} X_{\\mathit{2c}}^{2}\\right)} \\epsilon^{2} m^{3} - 8 \\, U_{c}^{4} m}, 0, -\\frac{2 \\, {\\left({\\left(U_{c}^{2} X_{\\mathit{2c}}^{2} \\epsilon^{3} m^{2} \\sin\\left(\\Phi_{0}\\right) - {\\left(U_{c}^{2} V_{c} X_{\\mathit{2c}} \\cos\\left(\\Phi_{0}\\right) - U_{c} X_{\\mathit{2c}}^{3} \\cos\\left(\\Phi_{0}\\right)\\right)} \\epsilon^{4} m^{3} + 2 \\, U_{c}^{3} X_{\\mathit{2c}} \\epsilon^{2} m \\cos\\left(\\Phi_{0}\\right) - 4 \\, U_{c}^{4} \\epsilon \\sin\\left(\\Phi_{0}\\right)\\right)} \\cos\\left(\\frac{X_{\\mathit{2c}} \\epsilon m}{U_{c}}\\right) + {\\left(U_{c}^{2} X_{\\mathit{2c}}^{2} \\epsilon^{3} m^{2} \\cos\\left(\\Phi_{0}\\right) + {\\left(U_{c}^{2} V_{c} X_{\\mathit{2c}} \\sin\\left(\\Phi_{0}\\right) - U_{c} X_{\\mathit{2c}}^{3} \\sin\\left(\\Phi_{0}\\right)\\right)} \\epsilon^{4} m^{3} - 2 \\, U_{c}^{3} X_{\\mathit{2c}} \\epsilon^{2} m \\sin\\left(\\Phi_{0}\\right) - 4 \\, U_{c}^{4} \\epsilon \\cos\\left(\\Phi_{0}\\right)\\right)} \\sin\\left(\\frac{X_{\\mathit{2c}} \\epsilon m}{U_{c}}\\right)\\right)}}{{\\left(U_{c} V_{c} X_{\\mathit{2c}}^{2} - X_{\\mathit{2c}}^{4}\\right)} \\epsilon^{4} m^{4} + 2 \\, {\\left(2 \\, U_{c}^{3} V_{c} - 3 \\, U_{c}^{2} X_{\\mathit{2c}}^{2}\\right)} \\epsilon^{2} m^{2} - 8 \\, U_{c}^{4}}\\right]$"
      ],
      "text/plain": [
       "[-2*((2*U_c^3*X_2c*epsilon^3*m^2*sin(Phi_0) - (U_c^3*V_c*cos(Phi_0) - U_c^2*X_2c^2*cos(Phi_0))*epsilon^4*m^3 + 2*U_c^4*epsilon^2*m*cos(Phi_0))*cos(X_2c*epsilon*m/U_c) + (2*U_c^3*X_2c*epsilon^3*m^2*cos(Phi_0) + (U_c^3*V_c*sin(Phi_0) - U_c^2*X_2c^2*sin(Phi_0))*epsilon^4*m^3 - 2*U_c^4*epsilon^2*m*sin(Phi_0))*sin(X_2c*epsilon*m/U_c))/((U_c*V_c*X_2c^2 - X_2c^4)*epsilon^4*m^4 + 2*(2*U_c^3*V_c - 3*U_c^2*X_2c^2)*epsilon^2*m^2 - 8*U_c^4),\n",
       " 4*((2*U_c^3*X_2c*epsilon*m*sin(Phi_0) - (U_c^3*V_c*cos(Phi_0) - U_c^2*X_2c^2*cos(Phi_0))*epsilon^2*m^2 + 2*U_c^4*cos(Phi_0))*cos(X_2c*epsilon*m/U_c) + (2*U_c^3*X_2c*epsilon*m*cos(Phi_0) + (U_c^3*V_c*sin(Phi_0) - U_c^2*X_2c^2*sin(Phi_0))*epsilon^2*m^2 - 2*U_c^4*sin(Phi_0))*sin(X_2c*epsilon*m/U_c))/((U_c*V_c*X_2c^2 - X_2c^4)*epsilon^4*m^5 + 2*(2*U_c^3*V_c - 3*U_c^2*X_2c^2)*epsilon^2*m^3 - 8*U_c^4*m),\n",
       " 0,\n",
       " -2*((U_c^2*X_2c^2*epsilon^3*m^2*sin(Phi_0) - (U_c^2*V_c*X_2c*cos(Phi_0) - U_c*X_2c^3*cos(Phi_0))*epsilon^4*m^3 + 2*U_c^3*X_2c*epsilon^2*m*cos(Phi_0) - 4*U_c^4*epsilon*sin(Phi_0))*cos(X_2c*epsilon*m/U_c) + (U_c^2*X_2c^2*epsilon^3*m^2*cos(Phi_0) + (U_c^2*V_c*X_2c*sin(Phi_0) - U_c*X_2c^3*sin(Phi_0))*epsilon^4*m^3 - 2*U_c^3*X_2c*epsilon^2*m*sin(Phi_0) - 4*U_c^4*epsilon*cos(Phi_0))*sin(X_2c*epsilon*m/U_c))/((U_c*V_c*X_2c^2 - X_2c^4)*epsilon^4*m^4 + 2*(2*U_c^3*V_c - 3*U_c^2*X_2c^2)*epsilon^2*m^2 - 8*U_c^4)]"
      ]
     },
     "execution_count": 761,
     "metadata": {},
     "output_type": "execute_result"
    }
   ],
   "source": [
    "T1_eq_UVX_eps = T1_eq_UVX*eps^2\n",
    "T1_eq_UVX_eps[:]"
   ]
  },
  {
   "cell_type": "code",
   "execution_count": 762,
   "id": "a104e778",
   "metadata": {},
   "outputs": [
    {
     "data": {
      "text/html": [
       "<html>\\(\\displaystyle \\left[0, -\\frac{\\cos\\left(\\Phi_{0}\\right)}{m}, 0, 0\\right]\\)</html>"
      ],
      "text/latex": [
       "$\\displaystyle \\left[0, -\\frac{\\cos\\left(\\Phi_{0}\\right)}{m}, 0, 0\\right]$"
      ],
      "text/plain": [
       "[0, -cos(Phi_0)/m, 0, 0]"
      ]
     },
     "execution_count": 762,
     "metadata": {},
     "output_type": "execute_result"
    }
   ],
   "source": [
    "T1_eq_UVX_CL = T1_eq_UVX_eps.copy()\n",
    "T1_eq_UVX_CL.apply_map(lambda tmp: tmp.subs({eps:0}))\n",
    "T1_eq_UVX_CL[:]"
   ]
  },
  {
   "cell_type": "code",
   "execution_count": 763,
   "id": "38f4f818",
   "metadata": {},
   "outputs": [
    {
     "data": {
      "text/html": [
       "<html>\\(\\displaystyle \\left[0, \\sin\\left({\\phi}\\right), 0, \\frac{\\cos\\left({\\phi}\\right)}{r}\\right]\\)</html>"
      ],
      "text/latex": [
       "$\\displaystyle \\left[0, \\sin\\left({\\phi}\\right), 0, \\frac{\\cos\\left({\\phi}\\right)}{r}\\right]$"
      ],
      "text/plain": [
       "[0, sin(ph), 0, cos(ph)/r]"
      ]
     },
     "execution_count": 763,
     "metadata": {},
     "output_type": "execute_result"
    }
   ],
   "source": [
    "T2_eq = M.vector_field()\n",
    "T2_eq[:] = [0, sin(ph), 0, cos(ph)/r]\n",
    "T2_eq[:]"
   ]
  },
  {
   "cell_type": "code",
   "execution_count": 764,
   "id": "cfb307a1",
   "metadata": {},
   "outputs": [
    {
     "data": {
      "text/html": [
       "<html>\\(\\displaystyle \\left[\\frac{2 \\, {\\left(U_{c} V_{c} \\epsilon^{2} m^{2} \\cos\\left(\\Phi_{0}\\right) \\sin\\left(\\frac{X_{\\mathit{2c}} \\epsilon m}{U_{c}}\\right) - X_{\\mathit{2c}}^{2} \\epsilon^{2} m^{2} \\cos\\left(\\Phi_{0}\\right) \\sin\\left(\\frac{X_{\\mathit{2c}} \\epsilon m}{U_{c}}\\right) + U_{c} V_{c} \\epsilon^{2} m^{2} \\cos\\left(\\frac{X_{\\mathit{2c}} \\epsilon m}{U_{c}}\\right) \\sin\\left(\\Phi_{0}\\right) - X_{\\mathit{2c}}^{2} \\epsilon^{2} m^{2} \\cos\\left(\\frac{X_{\\mathit{2c}} \\epsilon m}{U_{c}}\\right) \\sin\\left(\\Phi_{0}\\right) + 2 \\, U_{c} X_{\\mathit{2c}} \\epsilon m \\cos\\left(\\frac{X_{\\mathit{2c}} \\epsilon m}{U_{c}}\\right) \\cos\\left(\\Phi_{0}\\right) - 2 \\, U_{c} X_{\\mathit{2c}} \\epsilon m \\sin\\left(\\frac{X_{\\mathit{2c}} \\epsilon m}{U_{c}}\\right) \\sin\\left(\\Phi_{0}\\right) - 2 \\, U_{c}^{2} \\cos\\left(\\Phi_{0}\\right) \\sin\\left(\\frac{X_{\\mathit{2c}} \\epsilon m}{U_{c}}\\right) - 2 \\, U_{c}^{2} \\cos\\left(\\frac{X_{\\mathit{2c}} \\epsilon m}{U_{c}}\\right) \\sin\\left(\\Phi_{0}\\right)\\right)} U_{c}^{2} m}{{\\left(U_{c} V_{c} \\epsilon^{2} m^{2} - X_{\\mathit{2c}}^{2} \\epsilon^{2} m^{2} - 2 \\, U_{c}^{2}\\right)} {\\left(X_{\\mathit{2c}}^{2} \\epsilon^{2} m^{2} + 4 \\, U_{c}^{2}\\right)}}, -\\frac{4 \\, {\\left(U_{c} V_{c} \\epsilon^{2} m^{2} \\cos\\left(\\Phi_{0}\\right) \\sin\\left(\\frac{X_{\\mathit{2c}} \\epsilon m}{U_{c}}\\right) - X_{\\mathit{2c}}^{2} \\epsilon^{2} m^{2} \\cos\\left(\\Phi_{0}\\right) \\sin\\left(\\frac{X_{\\mathit{2c}} \\epsilon m}{U_{c}}\\right) + U_{c} V_{c} \\epsilon^{2} m^{2} \\cos\\left(\\frac{X_{\\mathit{2c}} \\epsilon m}{U_{c}}\\right) \\sin\\left(\\Phi_{0}\\right) - X_{\\mathit{2c}}^{2} \\epsilon^{2} m^{2} \\cos\\left(\\frac{X_{\\mathit{2c}} \\epsilon m}{U_{c}}\\right) \\sin\\left(\\Phi_{0}\\right) + 2 \\, U_{c} X_{\\mathit{2c}} \\epsilon m \\cos\\left(\\frac{X_{\\mathit{2c}} \\epsilon m}{U_{c}}\\right) \\cos\\left(\\Phi_{0}\\right) - 2 \\, U_{c} X_{\\mathit{2c}} \\epsilon m \\sin\\left(\\frac{X_{\\mathit{2c}} \\epsilon m}{U_{c}}\\right) \\sin\\left(\\Phi_{0}\\right) - 2 \\, U_{c}^{2} \\cos\\left(\\Phi_{0}\\right) \\sin\\left(\\frac{X_{\\mathit{2c}} \\epsilon m}{U_{c}}\\right) - 2 \\, U_{c}^{2} \\cos\\left(\\frac{X_{\\mathit{2c}} \\epsilon m}{U_{c}}\\right) \\sin\\left(\\Phi_{0}\\right)\\right)} U_{c}^{2}}{{\\left(U_{c} V_{c} \\epsilon^{2} m^{2} - X_{\\mathit{2c}}^{2} \\epsilon^{2} m^{2} - 2 \\, U_{c}^{2}\\right)} {\\left(X_{\\mathit{2c}}^{2} \\epsilon^{2} m^{2} + 4 \\, U_{c}^{2}\\right)} \\epsilon^{2} m}, 0, \\frac{2 \\, {\\left(U_{c} V_{c} X_{\\mathit{2c}} \\epsilon^{3} m^{3} \\cos\\left(\\Phi_{0}\\right) \\sin\\left(\\frac{X_{\\mathit{2c}} \\epsilon m}{U_{c}}\\right) - X_{\\mathit{2c}}^{3} \\epsilon^{3} m^{3} \\cos\\left(\\Phi_{0}\\right) \\sin\\left(\\frac{X_{\\mathit{2c}} \\epsilon m}{U_{c}}\\right) + U_{c} V_{c} X_{\\mathit{2c}} \\epsilon^{3} m^{3} \\cos\\left(\\frac{X_{\\mathit{2c}} \\epsilon m}{U_{c}}\\right) \\sin\\left(\\Phi_{0}\\right) - X_{\\mathit{2c}}^{3} \\epsilon^{3} m^{3} \\cos\\left(\\frac{X_{\\mathit{2c}} \\epsilon m}{U_{c}}\\right) \\sin\\left(\\Phi_{0}\\right) + U_{c} X_{\\mathit{2c}}^{2} \\epsilon^{2} m^{2} \\cos\\left(\\frac{X_{\\mathit{2c}} \\epsilon m}{U_{c}}\\right) \\cos\\left(\\Phi_{0}\\right) - U_{c} X_{\\mathit{2c}}^{2} \\epsilon^{2} m^{2} \\sin\\left(\\frac{X_{\\mathit{2c}} \\epsilon m}{U_{c}}\\right) \\sin\\left(\\Phi_{0}\\right) - 2 \\, U_{c}^{2} X_{\\mathit{2c}} \\epsilon m \\cos\\left(\\Phi_{0}\\right) \\sin\\left(\\frac{X_{\\mathit{2c}} \\epsilon m}{U_{c}}\\right) - 2 \\, U_{c}^{2} X_{\\mathit{2c}} \\epsilon m \\cos\\left(\\frac{X_{\\mathit{2c}} \\epsilon m}{U_{c}}\\right) \\sin\\left(\\Phi_{0}\\right) - 4 \\, U_{c}^{3} \\cos\\left(\\frac{X_{\\mathit{2c}} \\epsilon m}{U_{c}}\\right) \\cos\\left(\\Phi_{0}\\right) + 4 \\, U_{c}^{3} \\sin\\left(\\frac{X_{\\mathit{2c}} \\epsilon m}{U_{c}}\\right) \\sin\\left(\\Phi_{0}\\right)\\right)} U_{c}}{{\\left(U_{c} V_{c} \\epsilon^{2} m^{2} - X_{\\mathit{2c}}^{2} \\epsilon^{2} m^{2} - 2 \\, U_{c}^{2}\\right)} {\\left(X_{\\mathit{2c}}^{2} \\epsilon^{2} m^{2} + 4 \\, U_{c}^{2}\\right)} \\epsilon}\\right]\\)</html>"
      ],
      "text/latex": [
       "$\\displaystyle \\left[\\frac{2 \\, {\\left(U_{c} V_{c} \\epsilon^{2} m^{2} \\cos\\left(\\Phi_{0}\\right) \\sin\\left(\\frac{X_{\\mathit{2c}} \\epsilon m}{U_{c}}\\right) - X_{\\mathit{2c}}^{2} \\epsilon^{2} m^{2} \\cos\\left(\\Phi_{0}\\right) \\sin\\left(\\frac{X_{\\mathit{2c}} \\epsilon m}{U_{c}}\\right) + U_{c} V_{c} \\epsilon^{2} m^{2} \\cos\\left(\\frac{X_{\\mathit{2c}} \\epsilon m}{U_{c}}\\right) \\sin\\left(\\Phi_{0}\\right) - X_{\\mathit{2c}}^{2} \\epsilon^{2} m^{2} \\cos\\left(\\frac{X_{\\mathit{2c}} \\epsilon m}{U_{c}}\\right) \\sin\\left(\\Phi_{0}\\right) + 2 \\, U_{c} X_{\\mathit{2c}} \\epsilon m \\cos\\left(\\frac{X_{\\mathit{2c}} \\epsilon m}{U_{c}}\\right) \\cos\\left(\\Phi_{0}\\right) - 2 \\, U_{c} X_{\\mathit{2c}} \\epsilon m \\sin\\left(\\frac{X_{\\mathit{2c}} \\epsilon m}{U_{c}}\\right) \\sin\\left(\\Phi_{0}\\right) - 2 \\, U_{c}^{2} \\cos\\left(\\Phi_{0}\\right) \\sin\\left(\\frac{X_{\\mathit{2c}} \\epsilon m}{U_{c}}\\right) - 2 \\, U_{c}^{2} \\cos\\left(\\frac{X_{\\mathit{2c}} \\epsilon m}{U_{c}}\\right) \\sin\\left(\\Phi_{0}\\right)\\right)} U_{c}^{2} m}{{\\left(U_{c} V_{c} \\epsilon^{2} m^{2} - X_{\\mathit{2c}}^{2} \\epsilon^{2} m^{2} - 2 \\, U_{c}^{2}\\right)} {\\left(X_{\\mathit{2c}}^{2} \\epsilon^{2} m^{2} + 4 \\, U_{c}^{2}\\right)}}, -\\frac{4 \\, {\\left(U_{c} V_{c} \\epsilon^{2} m^{2} \\cos\\left(\\Phi_{0}\\right) \\sin\\left(\\frac{X_{\\mathit{2c}} \\epsilon m}{U_{c}}\\right) - X_{\\mathit{2c}}^{2} \\epsilon^{2} m^{2} \\cos\\left(\\Phi_{0}\\right) \\sin\\left(\\frac{X_{\\mathit{2c}} \\epsilon m}{U_{c}}\\right) + U_{c} V_{c} \\epsilon^{2} m^{2} \\cos\\left(\\frac{X_{\\mathit{2c}} \\epsilon m}{U_{c}}\\right) \\sin\\left(\\Phi_{0}\\right) - X_{\\mathit{2c}}^{2} \\epsilon^{2} m^{2} \\cos\\left(\\frac{X_{\\mathit{2c}} \\epsilon m}{U_{c}}\\right) \\sin\\left(\\Phi_{0}\\right) + 2 \\, U_{c} X_{\\mathit{2c}} \\epsilon m \\cos\\left(\\frac{X_{\\mathit{2c}} \\epsilon m}{U_{c}}\\right) \\cos\\left(\\Phi_{0}\\right) - 2 \\, U_{c} X_{\\mathit{2c}} \\epsilon m \\sin\\left(\\frac{X_{\\mathit{2c}} \\epsilon m}{U_{c}}\\right) \\sin\\left(\\Phi_{0}\\right) - 2 \\, U_{c}^{2} \\cos\\left(\\Phi_{0}\\right) \\sin\\left(\\frac{X_{\\mathit{2c}} \\epsilon m}{U_{c}}\\right) - 2 \\, U_{c}^{2} \\cos\\left(\\frac{X_{\\mathit{2c}} \\epsilon m}{U_{c}}\\right) \\sin\\left(\\Phi_{0}\\right)\\right)} U_{c}^{2}}{{\\left(U_{c} V_{c} \\epsilon^{2} m^{2} - X_{\\mathit{2c}}^{2} \\epsilon^{2} m^{2} - 2 \\, U_{c}^{2}\\right)} {\\left(X_{\\mathit{2c}}^{2} \\epsilon^{2} m^{2} + 4 \\, U_{c}^{2}\\right)} \\epsilon^{2} m}, 0, \\frac{2 \\, {\\left(U_{c} V_{c} X_{\\mathit{2c}} \\epsilon^{3} m^{3} \\cos\\left(\\Phi_{0}\\right) \\sin\\left(\\frac{X_{\\mathit{2c}} \\epsilon m}{U_{c}}\\right) - X_{\\mathit{2c}}^{3} \\epsilon^{3} m^{3} \\cos\\left(\\Phi_{0}\\right) \\sin\\left(\\frac{X_{\\mathit{2c}} \\epsilon m}{U_{c}}\\right) + U_{c} V_{c} X_{\\mathit{2c}} \\epsilon^{3} m^{3} \\cos\\left(\\frac{X_{\\mathit{2c}} \\epsilon m}{U_{c}}\\right) \\sin\\left(\\Phi_{0}\\right) - X_{\\mathit{2c}}^{3} \\epsilon^{3} m^{3} \\cos\\left(\\frac{X_{\\mathit{2c}} \\epsilon m}{U_{c}}\\right) \\sin\\left(\\Phi_{0}\\right) + U_{c} X_{\\mathit{2c}}^{2} \\epsilon^{2} m^{2} \\cos\\left(\\frac{X_{\\mathit{2c}} \\epsilon m}{U_{c}}\\right) \\cos\\left(\\Phi_{0}\\right) - U_{c} X_{\\mathit{2c}}^{2} \\epsilon^{2} m^{2} \\sin\\left(\\frac{X_{\\mathit{2c}} \\epsilon m}{U_{c}}\\right) \\sin\\left(\\Phi_{0}\\right) - 2 \\, U_{c}^{2} X_{\\mathit{2c}} \\epsilon m \\cos\\left(\\Phi_{0}\\right) \\sin\\left(\\frac{X_{\\mathit{2c}} \\epsilon m}{U_{c}}\\right) - 2 \\, U_{c}^{2} X_{\\mathit{2c}} \\epsilon m \\cos\\left(\\frac{X_{\\mathit{2c}} \\epsilon m}{U_{c}}\\right) \\sin\\left(\\Phi_{0}\\right) - 4 \\, U_{c}^{3} \\cos\\left(\\frac{X_{\\mathit{2c}} \\epsilon m}{U_{c}}\\right) \\cos\\left(\\Phi_{0}\\right) + 4 \\, U_{c}^{3} \\sin\\left(\\frac{X_{\\mathit{2c}} \\epsilon m}{U_{c}}\\right) \\sin\\left(\\Phi_{0}\\right)\\right)} U_{c}}{{\\left(U_{c} V_{c} \\epsilon^{2} m^{2} - X_{\\mathit{2c}}^{2} \\epsilon^{2} m^{2} - 2 \\, U_{c}^{2}\\right)} {\\left(X_{\\mathit{2c}}^{2} \\epsilon^{2} m^{2} + 4 \\, U_{c}^{2}\\right)} \\epsilon}\\right]$"
      ],
      "text/plain": [
       "[2*(U_c*V_c*epsilon^2*m^2*cos(Phi_0)*sin(X_2c*epsilon*m/U_c) - X_2c^2*epsilon^2*m^2*cos(Phi_0)*sin(X_2c*epsilon*m/U_c) + U_c*V_c*epsilon^2*m^2*cos(X_2c*epsilon*m/U_c)*sin(Phi_0) - X_2c^2*epsilon^2*m^2*cos(X_2c*epsilon*m/U_c)*sin(Phi_0) + 2*U_c*X_2c*epsilon*m*cos(X_2c*epsilon*m/U_c)*cos(Phi_0) - 2*U_c*X_2c*epsilon*m*sin(X_2c*epsilon*m/U_c)*sin(Phi_0) - 2*U_c^2*cos(Phi_0)*sin(X_2c*epsilon*m/U_c) - 2*U_c^2*cos(X_2c*epsilon*m/U_c)*sin(Phi_0))*U_c^2*m/((U_c*V_c*epsilon^2*m^2 - X_2c^2*epsilon^2*m^2 - 2*U_c^2)*(X_2c^2*epsilon^2*m^2 + 4*U_c^2)),\n",
       " -4*(U_c*V_c*epsilon^2*m^2*cos(Phi_0)*sin(X_2c*epsilon*m/U_c) - X_2c^2*epsilon^2*m^2*cos(Phi_0)*sin(X_2c*epsilon*m/U_c) + U_c*V_c*epsilon^2*m^2*cos(X_2c*epsilon*m/U_c)*sin(Phi_0) - X_2c^2*epsilon^2*m^2*cos(X_2c*epsilon*m/U_c)*sin(Phi_0) + 2*U_c*X_2c*epsilon*m*cos(X_2c*epsilon*m/U_c)*cos(Phi_0) - 2*U_c*X_2c*epsilon*m*sin(X_2c*epsilon*m/U_c)*sin(Phi_0) - 2*U_c^2*cos(Phi_0)*sin(X_2c*epsilon*m/U_c) - 2*U_c^2*cos(X_2c*epsilon*m/U_c)*sin(Phi_0))*U_c^2/((U_c*V_c*epsilon^2*m^2 - X_2c^2*epsilon^2*m^2 - 2*U_c^2)*(X_2c^2*epsilon^2*m^2 + 4*U_c^2)*epsilon^2*m),\n",
       " 0,\n",
       " 2*(U_c*V_c*X_2c*epsilon^3*m^3*cos(Phi_0)*sin(X_2c*epsilon*m/U_c) - X_2c^3*epsilon^3*m^3*cos(Phi_0)*sin(X_2c*epsilon*m/U_c) + U_c*V_c*X_2c*epsilon^3*m^3*cos(X_2c*epsilon*m/U_c)*sin(Phi_0) - X_2c^3*epsilon^3*m^3*cos(X_2c*epsilon*m/U_c)*sin(Phi_0) + U_c*X_2c^2*epsilon^2*m^2*cos(X_2c*epsilon*m/U_c)*cos(Phi_0) - U_c*X_2c^2*epsilon^2*m^2*sin(X_2c*epsilon*m/U_c)*sin(Phi_0) - 2*U_c^2*X_2c*epsilon*m*cos(Phi_0)*sin(X_2c*epsilon*m/U_c) - 2*U_c^2*X_2c*epsilon*m*cos(X_2c*epsilon*m/U_c)*sin(Phi_0) - 4*U_c^3*cos(X_2c*epsilon*m/U_c)*cos(Phi_0) + 4*U_c^3*sin(X_2c*epsilon*m/U_c)*sin(Phi_0))*U_c/((U_c*V_c*epsilon^2*m^2 - X_2c^2*epsilon^2*m^2 - 2*U_c^2)*(X_2c^2*epsilon^2*m^2 + 4*U_c^2)*epsilon)]"
      ]
     },
     "execution_count": 764,
     "metadata": {},
     "output_type": "execute_result"
    }
   ],
   "source": [
    "T2_eq_UVX = sph_to_scaled_FNC(T2_eq)\n",
    "T2_eq_UVX[:]"
   ]
  },
  {
   "cell_type": "code",
   "execution_count": 765,
   "id": "a3274a0b",
   "metadata": {},
   "outputs": [
    {
     "data": {
      "text/html": [
       "<html>\\(\\displaystyle \\left[\\frac{2 \\, {\\left({\\left(2 \\, U_{c}^{3} X_{\\mathit{2c}} \\epsilon^{3} m^{2} \\cos\\left(\\Phi_{0}\\right) + {\\left(U_{c}^{3} V_{c} \\sin\\left(\\Phi_{0}\\right) - U_{c}^{2} X_{\\mathit{2c}}^{2} \\sin\\left(\\Phi_{0}\\right)\\right)} \\epsilon^{4} m^{3} - 2 \\, U_{c}^{4} \\epsilon^{2} m \\sin\\left(\\Phi_{0}\\right)\\right)} \\cos\\left(\\frac{X_{\\mathit{2c}} \\epsilon m}{U_{c}}\\right) - {\\left(2 \\, U_{c}^{3} X_{\\mathit{2c}} \\epsilon^{3} m^{2} \\sin\\left(\\Phi_{0}\\right) - {\\left(U_{c}^{3} V_{c} \\cos\\left(\\Phi_{0}\\right) - U_{c}^{2} X_{\\mathit{2c}}^{2} \\cos\\left(\\Phi_{0}\\right)\\right)} \\epsilon^{4} m^{3} + 2 \\, U_{c}^{4} \\epsilon^{2} m \\cos\\left(\\Phi_{0}\\right)\\right)} \\sin\\left(\\frac{X_{\\mathit{2c}} \\epsilon m}{U_{c}}\\right)\\right)}}{{\\left(U_{c} V_{c} X_{\\mathit{2c}}^{2} - X_{\\mathit{2c}}^{4}\\right)} \\epsilon^{4} m^{4} + 2 \\, {\\left(2 \\, U_{c}^{3} V_{c} - 3 \\, U_{c}^{2} X_{\\mathit{2c}}^{2}\\right)} \\epsilon^{2} m^{2} - 8 \\, U_{c}^{4}}, -\\frac{4 \\, {\\left({\\left(2 \\, U_{c}^{3} X_{\\mathit{2c}} \\epsilon m \\cos\\left(\\Phi_{0}\\right) + {\\left(U_{c}^{3} V_{c} \\sin\\left(\\Phi_{0}\\right) - U_{c}^{2} X_{\\mathit{2c}}^{2} \\sin\\left(\\Phi_{0}\\right)\\right)} \\epsilon^{2} m^{2} - 2 \\, U_{c}^{4} \\sin\\left(\\Phi_{0}\\right)\\right)} \\cos\\left(\\frac{X_{\\mathit{2c}} \\epsilon m}{U_{c}}\\right) - {\\left(2 \\, U_{c}^{3} X_{\\mathit{2c}} \\epsilon m \\sin\\left(\\Phi_{0}\\right) - {\\left(U_{c}^{3} V_{c} \\cos\\left(\\Phi_{0}\\right) - U_{c}^{2} X_{\\mathit{2c}}^{2} \\cos\\left(\\Phi_{0}\\right)\\right)} \\epsilon^{2} m^{2} + 2 \\, U_{c}^{4} \\cos\\left(\\Phi_{0}\\right)\\right)} \\sin\\left(\\frac{X_{\\mathit{2c}} \\epsilon m}{U_{c}}\\right)\\right)}}{{\\left(U_{c} V_{c} X_{\\mathit{2c}}^{2} - X_{\\mathit{2c}}^{4}\\right)} \\epsilon^{4} m^{5} + 2 \\, {\\left(2 \\, U_{c}^{3} V_{c} - 3 \\, U_{c}^{2} X_{\\mathit{2c}}^{2}\\right)} \\epsilon^{2} m^{3} - 8 \\, U_{c}^{4} m}, 0, \\frac{2 \\, {\\left({\\left(U_{c}^{2} X_{\\mathit{2c}}^{2} \\epsilon^{3} m^{2} \\cos\\left(\\Phi_{0}\\right) + {\\left(U_{c}^{2} V_{c} X_{\\mathit{2c}} \\sin\\left(\\Phi_{0}\\right) - U_{c} X_{\\mathit{2c}}^{3} \\sin\\left(\\Phi_{0}\\right)\\right)} \\epsilon^{4} m^{3} - 2 \\, U_{c}^{3} X_{\\mathit{2c}} \\epsilon^{2} m \\sin\\left(\\Phi_{0}\\right) - 4 \\, U_{c}^{4} \\epsilon \\cos\\left(\\Phi_{0}\\right)\\right)} \\cos\\left(\\frac{X_{\\mathit{2c}} \\epsilon m}{U_{c}}\\right) - {\\left(U_{c}^{2} X_{\\mathit{2c}}^{2} \\epsilon^{3} m^{2} \\sin\\left(\\Phi_{0}\\right) - {\\left(U_{c}^{2} V_{c} X_{\\mathit{2c}} \\cos\\left(\\Phi_{0}\\right) - U_{c} X_{\\mathit{2c}}^{3} \\cos\\left(\\Phi_{0}\\right)\\right)} \\epsilon^{4} m^{3} + 2 \\, U_{c}^{3} X_{\\mathit{2c}} \\epsilon^{2} m \\cos\\left(\\Phi_{0}\\right) - 4 \\, U_{c}^{4} \\epsilon \\sin\\left(\\Phi_{0}\\right)\\right)} \\sin\\left(\\frac{X_{\\mathit{2c}} \\epsilon m}{U_{c}}\\right)\\right)}}{{\\left(U_{c} V_{c} X_{\\mathit{2c}}^{2} - X_{\\mathit{2c}}^{4}\\right)} \\epsilon^{4} m^{4} + 2 \\, {\\left(2 \\, U_{c}^{3} V_{c} - 3 \\, U_{c}^{2} X_{\\mathit{2c}}^{2}\\right)} \\epsilon^{2} m^{2} - 8 \\, U_{c}^{4}}\\right]\\)</html>"
      ],
      "text/latex": [
       "$\\displaystyle \\left[\\frac{2 \\, {\\left({\\left(2 \\, U_{c}^{3} X_{\\mathit{2c}} \\epsilon^{3} m^{2} \\cos\\left(\\Phi_{0}\\right) + {\\left(U_{c}^{3} V_{c} \\sin\\left(\\Phi_{0}\\right) - U_{c}^{2} X_{\\mathit{2c}}^{2} \\sin\\left(\\Phi_{0}\\right)\\right)} \\epsilon^{4} m^{3} - 2 \\, U_{c}^{4} \\epsilon^{2} m \\sin\\left(\\Phi_{0}\\right)\\right)} \\cos\\left(\\frac{X_{\\mathit{2c}} \\epsilon m}{U_{c}}\\right) - {\\left(2 \\, U_{c}^{3} X_{\\mathit{2c}} \\epsilon^{3} m^{2} \\sin\\left(\\Phi_{0}\\right) - {\\left(U_{c}^{3} V_{c} \\cos\\left(\\Phi_{0}\\right) - U_{c}^{2} X_{\\mathit{2c}}^{2} \\cos\\left(\\Phi_{0}\\right)\\right)} \\epsilon^{4} m^{3} + 2 \\, U_{c}^{4} \\epsilon^{2} m \\cos\\left(\\Phi_{0}\\right)\\right)} \\sin\\left(\\frac{X_{\\mathit{2c}} \\epsilon m}{U_{c}}\\right)\\right)}}{{\\left(U_{c} V_{c} X_{\\mathit{2c}}^{2} - X_{\\mathit{2c}}^{4}\\right)} \\epsilon^{4} m^{4} + 2 \\, {\\left(2 \\, U_{c}^{3} V_{c} - 3 \\, U_{c}^{2} X_{\\mathit{2c}}^{2}\\right)} \\epsilon^{2} m^{2} - 8 \\, U_{c}^{4}}, -\\frac{4 \\, {\\left({\\left(2 \\, U_{c}^{3} X_{\\mathit{2c}} \\epsilon m \\cos\\left(\\Phi_{0}\\right) + {\\left(U_{c}^{3} V_{c} \\sin\\left(\\Phi_{0}\\right) - U_{c}^{2} X_{\\mathit{2c}}^{2} \\sin\\left(\\Phi_{0}\\right)\\right)} \\epsilon^{2} m^{2} - 2 \\, U_{c}^{4} \\sin\\left(\\Phi_{0}\\right)\\right)} \\cos\\left(\\frac{X_{\\mathit{2c}} \\epsilon m}{U_{c}}\\right) - {\\left(2 \\, U_{c}^{3} X_{\\mathit{2c}} \\epsilon m \\sin\\left(\\Phi_{0}\\right) - {\\left(U_{c}^{3} V_{c} \\cos\\left(\\Phi_{0}\\right) - U_{c}^{2} X_{\\mathit{2c}}^{2} \\cos\\left(\\Phi_{0}\\right)\\right)} \\epsilon^{2} m^{2} + 2 \\, U_{c}^{4} \\cos\\left(\\Phi_{0}\\right)\\right)} \\sin\\left(\\frac{X_{\\mathit{2c}} \\epsilon m}{U_{c}}\\right)\\right)}}{{\\left(U_{c} V_{c} X_{\\mathit{2c}}^{2} - X_{\\mathit{2c}}^{4}\\right)} \\epsilon^{4} m^{5} + 2 \\, {\\left(2 \\, U_{c}^{3} V_{c} - 3 \\, U_{c}^{2} X_{\\mathit{2c}}^{2}\\right)} \\epsilon^{2} m^{3} - 8 \\, U_{c}^{4} m}, 0, \\frac{2 \\, {\\left({\\left(U_{c}^{2} X_{\\mathit{2c}}^{2} \\epsilon^{3} m^{2} \\cos\\left(\\Phi_{0}\\right) + {\\left(U_{c}^{2} V_{c} X_{\\mathit{2c}} \\sin\\left(\\Phi_{0}\\right) - U_{c} X_{\\mathit{2c}}^{3} \\sin\\left(\\Phi_{0}\\right)\\right)} \\epsilon^{4} m^{3} - 2 \\, U_{c}^{3} X_{\\mathit{2c}} \\epsilon^{2} m \\sin\\left(\\Phi_{0}\\right) - 4 \\, U_{c}^{4} \\epsilon \\cos\\left(\\Phi_{0}\\right)\\right)} \\cos\\left(\\frac{X_{\\mathit{2c}} \\epsilon m}{U_{c}}\\right) - {\\left(U_{c}^{2} X_{\\mathit{2c}}^{2} \\epsilon^{3} m^{2} \\sin\\left(\\Phi_{0}\\right) - {\\left(U_{c}^{2} V_{c} X_{\\mathit{2c}} \\cos\\left(\\Phi_{0}\\right) - U_{c} X_{\\mathit{2c}}^{3} \\cos\\left(\\Phi_{0}\\right)\\right)} \\epsilon^{4} m^{3} + 2 \\, U_{c}^{3} X_{\\mathit{2c}} \\epsilon^{2} m \\cos\\left(\\Phi_{0}\\right) - 4 \\, U_{c}^{4} \\epsilon \\sin\\left(\\Phi_{0}\\right)\\right)} \\sin\\left(\\frac{X_{\\mathit{2c}} \\epsilon m}{U_{c}}\\right)\\right)}}{{\\left(U_{c} V_{c} X_{\\mathit{2c}}^{2} - X_{\\mathit{2c}}^{4}\\right)} \\epsilon^{4} m^{4} + 2 \\, {\\left(2 \\, U_{c}^{3} V_{c} - 3 \\, U_{c}^{2} X_{\\mathit{2c}}^{2}\\right)} \\epsilon^{2} m^{2} - 8 \\, U_{c}^{4}}\\right]$"
      ],
      "text/plain": [
       "[2*((2*U_c^3*X_2c*epsilon^3*m^2*cos(Phi_0) + (U_c^3*V_c*sin(Phi_0) - U_c^2*X_2c^2*sin(Phi_0))*epsilon^4*m^3 - 2*U_c^4*epsilon^2*m*sin(Phi_0))*cos(X_2c*epsilon*m/U_c) - (2*U_c^3*X_2c*epsilon^3*m^2*sin(Phi_0) - (U_c^3*V_c*cos(Phi_0) - U_c^2*X_2c^2*cos(Phi_0))*epsilon^4*m^3 + 2*U_c^4*epsilon^2*m*cos(Phi_0))*sin(X_2c*epsilon*m/U_c))/((U_c*V_c*X_2c^2 - X_2c^4)*epsilon^4*m^4 + 2*(2*U_c^3*V_c - 3*U_c^2*X_2c^2)*epsilon^2*m^2 - 8*U_c^4),\n",
       " -4*((2*U_c^3*X_2c*epsilon*m*cos(Phi_0) + (U_c^3*V_c*sin(Phi_0) - U_c^2*X_2c^2*sin(Phi_0))*epsilon^2*m^2 - 2*U_c^4*sin(Phi_0))*cos(X_2c*epsilon*m/U_c) - (2*U_c^3*X_2c*epsilon*m*sin(Phi_0) - (U_c^3*V_c*cos(Phi_0) - U_c^2*X_2c^2*cos(Phi_0))*epsilon^2*m^2 + 2*U_c^4*cos(Phi_0))*sin(X_2c*epsilon*m/U_c))/((U_c*V_c*X_2c^2 - X_2c^4)*epsilon^4*m^5 + 2*(2*U_c^3*V_c - 3*U_c^2*X_2c^2)*epsilon^2*m^3 - 8*U_c^4*m),\n",
       " 0,\n",
       " 2*((U_c^2*X_2c^2*epsilon^3*m^2*cos(Phi_0) + (U_c^2*V_c*X_2c*sin(Phi_0) - U_c*X_2c^3*sin(Phi_0))*epsilon^4*m^3 - 2*U_c^3*X_2c*epsilon^2*m*sin(Phi_0) - 4*U_c^4*epsilon*cos(Phi_0))*cos(X_2c*epsilon*m/U_c) - (U_c^2*X_2c^2*epsilon^3*m^2*sin(Phi_0) - (U_c^2*V_c*X_2c*cos(Phi_0) - U_c*X_2c^3*cos(Phi_0))*epsilon^4*m^3 + 2*U_c^3*X_2c*epsilon^2*m*cos(Phi_0) - 4*U_c^4*epsilon*sin(Phi_0))*sin(X_2c*epsilon*m/U_c))/((U_c*V_c*X_2c^2 - X_2c^4)*epsilon^4*m^4 + 2*(2*U_c^3*V_c - 3*U_c^2*X_2c^2)*epsilon^2*m^2 - 8*U_c^4)]"
      ]
     },
     "execution_count": 765,
     "metadata": {},
     "output_type": "execute_result"
    }
   ],
   "source": [
    "T2_eq_UVX_eps = T2_eq_UVX*eps^2\n",
    "T2_eq_UVX_eps[:]"
   ]
  },
  {
   "cell_type": "code",
   "execution_count": 766,
   "id": "9895a72f",
   "metadata": {},
   "outputs": [
    {
     "data": {
      "text/html": [
       "<html>\\(\\displaystyle \\left[0, -\\frac{\\sin\\left(\\Phi_{0}\\right)}{m}, 0, 0\\right]\\)</html>"
      ],
      "text/latex": [
       "$\\displaystyle \\left[0, -\\frac{\\sin\\left(\\Phi_{0}\\right)}{m}, 0, 0\\right]$"
      ],
      "text/plain": [
       "[0, -sin(Phi_0)/m, 0, 0]"
      ]
     },
     "execution_count": 766,
     "metadata": {},
     "output_type": "execute_result"
    }
   ],
   "source": [
    "T2_eq_UVX_CL = T2_eq_UVX_eps.copy()\n",
    "T2_eq_UVX_CL.apply_map(lambda tmp: tmp.subs({eps:0}))\n",
    "T2_eq_UVX_CL[:]"
   ]
  },
  {
   "cell_type": "markdown",
   "id": "72197d48",
   "metadata": {},
   "source": [
    "Clearly, $T_0, T_1, T_2$ are linearly dependent at coincidence. But from the hereditary argument, we can't lose Killing vectors in the Penrose limit. Thus, we should be able to construct linearly independent Killing fields from the scaled vectors T0_eq_UVX, T1_eq_UVX, and T2_eq_UVX."
   ]
  },
  {
   "cell_type": "code",
   "execution_count": 767,
   "id": "30f87cf7",
   "metadata": {},
   "outputs": [
    {
     "data": {
      "text/html": [
       "<html>\\(\\displaystyle \\left[m \\cos\\left(\\Phi_{0}\\right), -\\frac{{\\left(3 \\, U_{c} V_{c} X_{\\mathit{2c}} \\sin\\left(\\Phi_{0}\\right) - 5 \\, X_{\\mathit{2c}}^{3} \\sin\\left(\\Phi_{0}\\right)\\right)} \\epsilon m^{2}}{6 \\, U_{c}^{3}}, 0, -\\frac{{\\left(U_{c} V_{c} \\sin\\left(\\Phi_{0}\\right) - 2 \\, X_{\\mathit{2c}}^{2} \\sin\\left(\\Phi_{0}\\right)\\right)} \\epsilon m^{2}}{2 \\, U_{c}^{2}} - \\frac{\\sin\\left(\\Phi_{0}\\right)}{\\epsilon}\\right]\\)</html>"
      ],
      "text/latex": [
       "$\\displaystyle \\left[m \\cos\\left(\\Phi_{0}\\right), -\\frac{{\\left(3 \\, U_{c} V_{c} X_{\\mathit{2c}} \\sin\\left(\\Phi_{0}\\right) - 5 \\, X_{\\mathit{2c}}^{3} \\sin\\left(\\Phi_{0}\\right)\\right)} \\epsilon m^{2}}{6 \\, U_{c}^{3}}, 0, -\\frac{{\\left(U_{c} V_{c} \\sin\\left(\\Phi_{0}\\right) - 2 \\, X_{\\mathit{2c}}^{2} \\sin\\left(\\Phi_{0}\\right)\\right)} \\epsilon m^{2}}{2 \\, U_{c}^{2}} - \\frac{\\sin\\left(\\Phi_{0}\\right)}{\\epsilon}\\right]$"
      ],
      "text/plain": [
       "[m*cos(Phi_0),\n",
       " -1/6*(3*U_c*V_c*X_2c*sin(Phi_0) - 5*X_2c^3*sin(Phi_0))*epsilon*m^2/U_c^3,\n",
       " 0,\n",
       " -1/2*(U_c*V_c*sin(Phi_0) - 2*X_2c^2*sin(Phi_0))*epsilon*m^2/U_c^2 - sin(Phi_0)/epsilon]"
      ]
     },
     "execution_count": 767,
     "metadata": {},
     "output_type": "execute_result"
    }
   ],
   "source": [
    "T01_eq_UVX = T0_eq_UVX*cos(ph_init) + T1_eq_UVX\n",
    "T01_eq_UVX_simp = eps_exp_vec(T01_eq_UVX)\n",
    "T01_eq_UVX_simp[:]"
   ]
  },
  {
   "cell_type": "code",
   "execution_count": 768,
   "id": "49d291c8",
   "metadata": {},
   "outputs": [
    {
     "data": {
      "text/html": [
       "<html>\\(\\displaystyle \\left[\\epsilon m \\cos\\left(\\Phi_{0}\\right), -\\frac{{\\left(3 \\, U_{c} V_{c} X_{\\mathit{2c}} \\sin\\left(\\Phi_{0}\\right) - 5 \\, X_{\\mathit{2c}}^{3} \\sin\\left(\\Phi_{0}\\right)\\right)} \\epsilon^{2} m^{2}}{6 \\, U_{c}^{3}}, 0, -\\frac{{\\left(U_{c} V_{c} \\sin\\left(\\Phi_{0}\\right) - 2 \\, X_{\\mathit{2c}}^{2} \\sin\\left(\\Phi_{0}\\right)\\right)} \\epsilon^{2} m^{2} + 2 \\, U_{c}^{2} \\sin\\left(\\Phi_{0}\\right)}{2 \\, U_{c}^{2}}\\right]\\)</html>"
      ],
      "text/latex": [
       "$\\displaystyle \\left[\\epsilon m \\cos\\left(\\Phi_{0}\\right), -\\frac{{\\left(3 \\, U_{c} V_{c} X_{\\mathit{2c}} \\sin\\left(\\Phi_{0}\\right) - 5 \\, X_{\\mathit{2c}}^{3} \\sin\\left(\\Phi_{0}\\right)\\right)} \\epsilon^{2} m^{2}}{6 \\, U_{c}^{3}}, 0, -\\frac{{\\left(U_{c} V_{c} \\sin\\left(\\Phi_{0}\\right) - 2 \\, X_{\\mathit{2c}}^{2} \\sin\\left(\\Phi_{0}\\right)\\right)} \\epsilon^{2} m^{2} + 2 \\, U_{c}^{2} \\sin\\left(\\Phi_{0}\\right)}{2 \\, U_{c}^{2}}\\right]$"
      ],
      "text/plain": [
       "[epsilon*m*cos(Phi_0),\n",
       " -1/6*(3*U_c*V_c*X_2c*sin(Phi_0) - 5*X_2c^3*sin(Phi_0))*epsilon^2*m^2/U_c^3,\n",
       " 0,\n",
       " -1/2*((U_c*V_c*sin(Phi_0) - 2*X_2c^2*sin(Phi_0))*epsilon^2*m^2 + 2*U_c^2*sin(Phi_0))/U_c^2]"
      ]
     },
     "execution_count": 768,
     "metadata": {},
     "output_type": "execute_result"
    }
   ],
   "source": [
    "T01_eq_UVX_eps = T01_eq_UVX_simp*eps\n",
    "T01_eq_UVX_eps[:]"
   ]
  },
  {
   "cell_type": "code",
   "execution_count": 769,
   "id": "c14016cb",
   "metadata": {},
   "outputs": [
    {
     "data": {
      "text/html": [
       "<html>\\(\\displaystyle \\left[0, 0, 0, -\\sin\\left(\\Phi_{0}\\right)\\right]\\)</html>"
      ],
      "text/latex": [
       "$\\displaystyle \\left[0, 0, 0, -\\sin\\left(\\Phi_{0}\\right)\\right]$"
      ],
      "text/plain": [
       "[0, 0, 0, -sin(Phi_0)]"
      ]
     },
     "execution_count": 769,
     "metadata": {},
     "output_type": "execute_result"
    }
   ],
   "source": [
    "T01_eq_UVX_CL = T01_eq_UVX_eps.copy()\n",
    "T01_eq_UVX_CL.apply_map(lambda tmp: tmp.subs({eps:0}))\n",
    "T01_eq_UVX_CL[:]"
   ]
  },
  {
   "cell_type": "code",
   "execution_count": 770,
   "id": "de4989ed",
   "metadata": {},
   "outputs": [
    {
     "data": {
      "text/html": [
       "<html>\\(\\displaystyle \\left[m \\sin\\left(\\Phi_{0}\\right), \\frac{{\\left(3 \\, U_{c} V_{c} X_{\\mathit{2c}} \\cos\\left(\\Phi_{0}\\right) - 5 \\, X_{\\mathit{2c}}^{3} \\cos\\left(\\Phi_{0}\\right)\\right)} \\epsilon m^{2}}{6 \\, U_{c}^{3}}, 0, \\frac{{\\left(U_{c} V_{c} \\cos\\left(\\Phi_{0}\\right) - 2 \\, X_{\\mathit{2c}}^{2} \\cos\\left(\\Phi_{0}\\right)\\right)} \\epsilon m^{2}}{2 \\, U_{c}^{2}} + \\frac{\\cos\\left(\\Phi_{0}\\right)}{\\epsilon}\\right]\\)</html>"
      ],
      "text/latex": [
       "$\\displaystyle \\left[m \\sin\\left(\\Phi_{0}\\right), \\frac{{\\left(3 \\, U_{c} V_{c} X_{\\mathit{2c}} \\cos\\left(\\Phi_{0}\\right) - 5 \\, X_{\\mathit{2c}}^{3} \\cos\\left(\\Phi_{0}\\right)\\right)} \\epsilon m^{2}}{6 \\, U_{c}^{3}}, 0, \\frac{{\\left(U_{c} V_{c} \\cos\\left(\\Phi_{0}\\right) - 2 \\, X_{\\mathit{2c}}^{2} \\cos\\left(\\Phi_{0}\\right)\\right)} \\epsilon m^{2}}{2 \\, U_{c}^{2}} + \\frac{\\cos\\left(\\Phi_{0}\\right)}{\\epsilon}\\right]$"
      ],
      "text/plain": [
       "[m*sin(Phi_0),\n",
       " 1/6*(3*U_c*V_c*X_2c*cos(Phi_0) - 5*X_2c^3*cos(Phi_0))*epsilon*m^2/U_c^3,\n",
       " 0,\n",
       " 1/2*(U_c*V_c*cos(Phi_0) - 2*X_2c^2*cos(Phi_0))*epsilon*m^2/U_c^2 + cos(Phi_0)/epsilon]"
      ]
     },
     "execution_count": 770,
     "metadata": {},
     "output_type": "execute_result"
    }
   ],
   "source": [
    "T02_eq_UVX = T0_eq_UVX*sin(ph_init) + T2_eq_UVX\n",
    "T02_eq_UVX_simp = eps_exp_vec(T02_eq_UVX)\n",
    "T02_eq_UVX_simp[:]"
   ]
  },
  {
   "cell_type": "code",
   "execution_count": 771,
   "id": "32e8955f",
   "metadata": {},
   "outputs": [
    {
     "data": {
      "text/html": [
       "<html>\\(\\displaystyle \\left[0, 0, 0, \\cos\\left(\\Phi_{0}\\right)\\right]\\)</html>"
      ],
      "text/latex": [
       "$\\displaystyle \\left[0, 0, 0, \\cos\\left(\\Phi_{0}\\right)\\right]$"
      ],
      "text/plain": [
       "[0, 0, 0, cos(Phi_0)]"
      ]
     },
     "execution_count": 771,
     "metadata": {},
     "output_type": "execute_result"
    }
   ],
   "source": [
    "T02_eq_UVX_eps = T02_eq_UVX_simp*eps\n",
    "T02_eq_UVX_CL = T02_eq_UVX_eps.copy()\n",
    "T02_eq_UVX_CL.apply_map(lambda tmp: tmp.subs({eps:0}))\n",
    "T02_eq_UVX_CL[:]"
   ]
  },
  {
   "cell_type": "markdown",
   "id": "e36d5c12",
   "metadata": {},
   "source": [
    "We find that $T_{01}$ and $T_{02}$ are linearly independent of $T_0$ but linearly dependent on each other. So we continue the algorithm."
   ]
  },
  {
   "cell_type": "code",
   "execution_count": 794,
   "id": "e0008709",
   "metadata": {},
   "outputs": [
    {
     "data": {
      "text/html": [
       "<html>\\(\\displaystyle \\left[m, 0, 0, 0\\right]\\)</html>"
      ],
      "text/latex": [
       "$\\displaystyle \\left[m, 0, 0, 0\\right]$"
      ],
      "text/plain": [
       "[m, 0, 0, 0]"
      ]
     },
     "execution_count": 794,
     "metadata": {},
     "output_type": "execute_result"
    }
   ],
   "source": [
    "T012_eq_UVX = T01_eq_UVX*cos(ph_init) + T02_eq_UVX*sin(ph_init)\n",
    "T012_eq_UVX_simp = eps_exp_vec(T012_eq_UVX)\n",
    "T012_eq_UVX_CL = T012_eq_UVX_simp.copy()\n",
    "T012_eq_UVX_CL[:]"
   ]
  },
  {
   "cell_type": "markdown",
   "id": "7a196ac4",
   "metadata": {},
   "source": [
    "Thus the vectors $T_0, T_{01}, T_{012}$, constructed from the Minkowski Killing vectors corresponding to translation invariance along $(t, x, y)$ are Killing vectors of the PL spacetime. However, for this system restricted to the equatorial submanifold, we can construct 3 more Killing fields, corresponding to boosts along $x$- and $y$-directions, as well as rotations in the $x-y$ plane."
   ]
  },
  {
   "cell_type": "code",
   "execution_count": 775,
   "id": "64bb9dd1",
   "metadata": {},
   "outputs": [
    {
     "data": {
      "text/html": [
       "<html>\\(\\displaystyle \\left[0, 0, 0, 1\\right]\\)</html>"
      ],
      "text/latex": [
       "$\\displaystyle \\left[0, 0, 0, 1\\right]$"
      ],
      "text/plain": [
       "[0, 0, 0, 1]"
      ]
     },
     "execution_count": 775,
     "metadata": {},
     "output_type": "execute_result"
    }
   ],
   "source": [
    "J3_eq = M.vector_field()\n",
    "J3_eq[:] = [0, 0, 0, 1]\n",
    "J3_eq[:]"
   ]
  },
  {
   "cell_type": "code",
   "execution_count": 776,
   "id": "2f243987",
   "metadata": {},
   "outputs": [
    {
     "data": {
      "text/html": [
       "<html>\\(\\displaystyle \\left[-\\frac{2 \\, U_{c}^{2} X_{\\mathit{2c}} \\epsilon m}{X_{\\mathit{2c}}^{2} \\epsilon^{2} m^{2} + 4 \\, U_{c}^{2}}, \\frac{4 \\, U_{c}^{2} X_{\\mathit{2c}}}{{\\left(X_{\\mathit{2c}}^{2} \\epsilon^{2} m^{2} + 4 \\, U_{c}^{2}\\right)} \\epsilon m}, 0, -\\frac{{\\left(X_{\\mathit{2c}} \\epsilon m + 2 \\, U_{c}\\right)} {\\left(X_{\\mathit{2c}} \\epsilon m - 2 \\, U_{c}\\right)} U_{c}}{{\\left(X_{\\mathit{2c}}^{2} \\epsilon^{2} m^{2} + 4 \\, U_{c}^{2}\\right)} \\epsilon m}\\right]\\)</html>"
      ],
      "text/latex": [
       "$\\displaystyle \\left[-\\frac{2 \\, U_{c}^{2} X_{\\mathit{2c}} \\epsilon m}{X_{\\mathit{2c}}^{2} \\epsilon^{2} m^{2} + 4 \\, U_{c}^{2}}, \\frac{4 \\, U_{c}^{2} X_{\\mathit{2c}}}{{\\left(X_{\\mathit{2c}}^{2} \\epsilon^{2} m^{2} + 4 \\, U_{c}^{2}\\right)} \\epsilon m}, 0, -\\frac{{\\left(X_{\\mathit{2c}} \\epsilon m + 2 \\, U_{c}\\right)} {\\left(X_{\\mathit{2c}} \\epsilon m - 2 \\, U_{c}\\right)} U_{c}}{{\\left(X_{\\mathit{2c}}^{2} \\epsilon^{2} m^{2} + 4 \\, U_{c}^{2}\\right)} \\epsilon m}\\right]$"
      ],
      "text/plain": [
       "[-2*U_c^2*X_2c*epsilon*m/(X_2c^2*epsilon^2*m^2 + 4*U_c^2),\n",
       " 4*U_c^2*X_2c/((X_2c^2*epsilon^2*m^2 + 4*U_c^2)*epsilon*m),\n",
       " 0,\n",
       " -(X_2c*epsilon*m + 2*U_c)*(X_2c*epsilon*m - 2*U_c)*U_c/((X_2c^2*epsilon^2*m^2 + 4*U_c^2)*epsilon*m)]"
      ]
     },
     "execution_count": 776,
     "metadata": {},
     "output_type": "execute_result"
    }
   ],
   "source": [
    "J3_eq_UVX = sph_to_scaled_FNC(J3_eq)\n",
    "J3_eq_UVX[:]"
   ]
  },
  {
   "cell_type": "code",
   "execution_count": 778,
   "id": "ffc72963",
   "metadata": {},
   "outputs": [
    {
     "data": {
      "text/html": [
       "<html>\\(\\displaystyle \\left[0, \\frac{X_{\\mathit{2c}}}{m}, 0, \\frac{U_{c}}{m}\\right]\\)</html>"
      ],
      "text/latex": [
       "$\\displaystyle \\left[0, \\frac{X_{\\mathit{2c}}}{m}, 0, \\frac{U_{c}}{m}\\right]$"
      ],
      "text/plain": [
       "[0, X_2c/m, 0, U_c/m]"
      ]
     },
     "execution_count": 778,
     "metadata": {},
     "output_type": "execute_result"
    }
   ],
   "source": [
    "J3_eq_UVX_eps = J3_eq_UVX*eps\n",
    "J3_eq_UVX_CL = J3_eq_UVX_eps.copy()\n",
    "J3_eq_UVX_CL.apply_map(lambda tmp: tmp.subs({eps:0}))\n",
    "J3_eq_UVX_CL[:]"
   ]
  },
  {
   "cell_type": "code",
   "execution_count": 779,
   "id": "6f58da28",
   "metadata": {},
   "outputs": [
    {
     "data": {
      "text/html": [
       "<html>\\(\\displaystyle \\left[r \\cos\\left({\\phi}\\right), t \\cos\\left({\\phi}\\right), 0, -\\frac{t \\sin\\left({\\phi}\\right)}{r}\\right]\\)</html>"
      ],
      "text/latex": [
       "$\\displaystyle \\left[r \\cos\\left({\\phi}\\right), t \\cos\\left({\\phi}\\right), 0, -\\frac{t \\sin\\left({\\phi}\\right)}{r}\\right]$"
      ],
      "text/plain": [
       "[r*cos(ph), t*cos(ph), 0, -t*sin(ph)/r]"
      ]
     },
     "execution_count": 779,
     "metadata": {},
     "output_type": "execute_result"
    }
   ],
   "source": [
    "K1_eq = M.vector_field()\n",
    "K1_eq[:] = [r*cos(ph), t*cos(ph), 0, -t*sin(ph)/r]\n",
    "K1_eq[:]"
   ]
  },
  {
   "cell_type": "code",
   "execution_count": 780,
   "id": "0a5f4487",
   "metadata": {},
   "outputs": [
    {
     "data": {
      "text/html": [
       "<html>\\(\\displaystyle \\left[\\frac{{\\left(U_{c} V_{c} X_{\\mathit{2c}}^{2} \\epsilon^{4} m^{4} \\cos\\left(\\frac{X_{\\mathit{2c}} \\epsilon m}{U_{c}}\\right) \\cos\\left(\\Phi_{0}\\right) - X_{\\mathit{2c}}^{4} \\epsilon^{4} m^{4} \\cos\\left(\\frac{X_{\\mathit{2c}} \\epsilon m}{U_{c}}\\right) \\cos\\left(\\Phi_{0}\\right) - U_{c} V_{c} X_{\\mathit{2c}}^{2} \\epsilon^{4} m^{4} \\sin\\left(\\frac{X_{\\mathit{2c}} \\epsilon m}{U_{c}}\\right) \\sin\\left(\\Phi_{0}\\right) + X_{\\mathit{2c}}^{4} \\epsilon^{4} m^{4} \\sin\\left(\\frac{X_{\\mathit{2c}} \\epsilon m}{U_{c}}\\right) \\sin\\left(\\Phi_{0}\\right) - 2 \\, U_{c}^{2} V_{c} X_{\\mathit{2c}} \\epsilon^{3} m^{3} \\cos\\left(\\Phi_{0}\\right) \\sin\\left(\\frac{X_{\\mathit{2c}} \\epsilon m}{U_{c}}\\right) - 2 \\, U_{c}^{2} V_{c} X_{\\mathit{2c}} \\epsilon^{3} m^{3} \\cos\\left(\\frac{X_{\\mathit{2c}} \\epsilon m}{U_{c}}\\right) \\sin\\left(\\Phi_{0}\\right) + 4 \\, U_{c}^{3} V_{c} \\epsilon^{2} m^{2} \\cos\\left(\\frac{X_{\\mathit{2c}} \\epsilon m}{U_{c}}\\right) \\cos\\left(\\Phi_{0}\\right) - 6 \\, U_{c}^{2} X_{\\mathit{2c}}^{2} \\epsilon^{2} m^{2} \\cos\\left(\\frac{X_{\\mathit{2c}} \\epsilon m}{U_{c}}\\right) \\cos\\left(\\Phi_{0}\\right) - 4 \\, U_{c}^{3} V_{c} \\epsilon^{2} m^{2} \\sin\\left(\\frac{X_{\\mathit{2c}} \\epsilon m}{U_{c}}\\right) \\sin\\left(\\Phi_{0}\\right) + 6 \\, U_{c}^{2} X_{\\mathit{2c}}^{2} \\epsilon^{2} m^{2} \\sin\\left(\\frac{X_{\\mathit{2c}} \\epsilon m}{U_{c}}\\right) \\sin\\left(\\Phi_{0}\\right) - 4 \\, U_{c}^{3} X_{\\mathit{2c}} \\epsilon m \\cos\\left(\\Phi_{0}\\right) \\sin\\left(\\frac{X_{\\mathit{2c}} \\epsilon m}{U_{c}}\\right) - 4 \\, U_{c}^{3} X_{\\mathit{2c}} \\epsilon m \\cos\\left(\\frac{X_{\\mathit{2c}} \\epsilon m}{U_{c}}\\right) \\sin\\left(\\Phi_{0}\\right) - 8 \\, U_{c}^{4} \\cos\\left(\\frac{X_{\\mathit{2c}} \\epsilon m}{U_{c}}\\right) \\cos\\left(\\Phi_{0}\\right) + 8 \\, U_{c}^{4} \\sin\\left(\\frac{X_{\\mathit{2c}} \\epsilon m}{U_{c}}\\right) \\sin\\left(\\Phi_{0}\\right)\\right)} U_{c}}{{\\left(U_{c} V_{c} \\epsilon^{2} m^{2} - X_{\\mathit{2c}}^{2} \\epsilon^{2} m^{2} - 2 \\, U_{c}^{2}\\right)} {\\left(X_{\\mathit{2c}}^{2} \\epsilon^{2} m^{2} + 4 \\, U_{c}^{2}\\right)}}, -\\frac{U_{c}^{2} V_{c}^{2} X_{\\mathit{2c}}^{2} \\epsilon^{5} m^{5} \\cos\\left(\\frac{X_{\\mathit{2c}} \\epsilon m}{U_{c}}\\right) \\cos\\left(\\Phi_{0}\\right) - 2 \\, U_{c} V_{c} X_{\\mathit{2c}}^{4} \\epsilon^{5} m^{5} \\cos\\left(\\frac{X_{\\mathit{2c}} \\epsilon m}{U_{c}}\\right) \\cos\\left(\\Phi_{0}\\right) + X_{\\mathit{2c}}^{6} \\epsilon^{5} m^{5} \\cos\\left(\\frac{X_{\\mathit{2c}} \\epsilon m}{U_{c}}\\right) \\cos\\left(\\Phi_{0}\\right) - U_{c}^{2} V_{c}^{2} X_{\\mathit{2c}}^{2} \\epsilon^{5} m^{5} \\sin\\left(\\frac{X_{\\mathit{2c}} \\epsilon m}{U_{c}}\\right) \\sin\\left(\\Phi_{0}\\right) + 2 \\, U_{c} V_{c} X_{\\mathit{2c}}^{4} \\epsilon^{5} m^{5} \\sin\\left(\\frac{X_{\\mathit{2c}} \\epsilon m}{U_{c}}\\right) \\sin\\left(\\Phi_{0}\\right) - X_{\\mathit{2c}}^{6} \\epsilon^{5} m^{5} \\sin\\left(\\frac{X_{\\mathit{2c}} \\epsilon m}{U_{c}}\\right) \\sin\\left(\\Phi_{0}\\right) + 4 \\, U_{c}^{4} V_{c}^{2} \\epsilon^{3} m^{3} \\cos\\left(\\frac{X_{\\mathit{2c}} \\epsilon m}{U_{c}}\\right) \\cos\\left(\\Phi_{0}\\right) - 10 \\, U_{c}^{3} V_{c} X_{\\mathit{2c}}^{2} \\epsilon^{3} m^{3} \\cos\\left(\\frac{X_{\\mathit{2c}} \\epsilon m}{U_{c}}\\right) \\cos\\left(\\Phi_{0}\\right) + 6 \\, U_{c}^{2} X_{\\mathit{2c}}^{4} \\epsilon^{3} m^{3} \\cos\\left(\\frac{X_{\\mathit{2c}} \\epsilon m}{U_{c}}\\right) \\cos\\left(\\Phi_{0}\\right) - 4 \\, U_{c}^{4} V_{c}^{2} \\epsilon^{3} m^{3} \\sin\\left(\\frac{X_{\\mathit{2c}} \\epsilon m}{U_{c}}\\right) \\sin\\left(\\Phi_{0}\\right) + 10 \\, U_{c}^{3} V_{c} X_{\\mathit{2c}}^{2} \\epsilon^{3} m^{3} \\sin\\left(\\frac{X_{\\mathit{2c}} \\epsilon m}{U_{c}}\\right) \\sin\\left(\\Phi_{0}\\right) - 6 \\, U_{c}^{2} X_{\\mathit{2c}}^{4} \\epsilon^{3} m^{3} \\sin\\left(\\frac{X_{\\mathit{2c}} \\epsilon m}{U_{c}}\\right) \\sin\\left(\\Phi_{0}\\right) - 4 \\, U_{c}^{4} V_{c} X_{\\mathit{2c}} \\epsilon^{2} m^{2} \\cos\\left(\\Phi_{0}\\right) \\sin\\left(\\frac{X_{\\mathit{2c}} \\epsilon m}{U_{c}}\\right) - 4 \\, U_{c}^{4} V_{c} X_{\\mathit{2c}} \\epsilon^{2} m^{2} \\cos\\left(\\frac{X_{\\mathit{2c}} \\epsilon m}{U_{c}}\\right) \\sin\\left(\\Phi_{0}\\right) - 8 \\, U_{c}^{5} V_{c} \\epsilon m \\cos\\left(\\frac{X_{\\mathit{2c}} \\epsilon m}{U_{c}}\\right) \\cos\\left(\\Phi_{0}\\right) + 8 \\, U_{c}^{4} X_{\\mathit{2c}}^{2} \\epsilon m \\cos\\left(\\frac{X_{\\mathit{2c}} \\epsilon m}{U_{c}}\\right) \\cos\\left(\\Phi_{0}\\right) + 8 \\, U_{c}^{5} V_{c} \\epsilon m \\sin\\left(\\frac{X_{\\mathit{2c}} \\epsilon m}{U_{c}}\\right) \\sin\\left(\\Phi_{0}\\right) - 8 \\, U_{c}^{4} X_{\\mathit{2c}}^{2} \\epsilon m \\sin\\left(\\frac{X_{\\mathit{2c}} \\epsilon m}{U_{c}}\\right) \\sin\\left(\\Phi_{0}\\right) - 8 \\, U_{c}^{5} X_{\\mathit{2c}} \\cos\\left(\\Phi_{0}\\right) \\sin\\left(\\frac{X_{\\mathit{2c}} \\epsilon m}{U_{c}}\\right) - 8 \\, U_{c}^{5} X_{\\mathit{2c}} \\cos\\left(\\frac{X_{\\mathit{2c}} \\epsilon m}{U_{c}}\\right) \\sin\\left(\\Phi_{0}\\right)}{{\\left(U_{c} V_{c} \\epsilon^{2} m^{2} - X_{\\mathit{2c}}^{2} \\epsilon^{2} m^{2} - 2 \\, U_{c}^{2}\\right)} {\\left(X_{\\mathit{2c}}^{2} \\epsilon^{2} m^{2} + 4 \\, U_{c}^{2}\\right)} U_{c} \\epsilon m}, 0, \\frac{U_{c} V_{c} X_{\\mathit{2c}}^{3} \\epsilon^{5} m^{5} \\cos\\left(\\frac{X_{\\mathit{2c}} \\epsilon m}{U_{c}}\\right) \\cos\\left(\\Phi_{0}\\right) - X_{\\mathit{2c}}^{5} \\epsilon^{5} m^{5} \\cos\\left(\\frac{X_{\\mathit{2c}} \\epsilon m}{U_{c}}\\right) \\cos\\left(\\Phi_{0}\\right) - U_{c} V_{c} X_{\\mathit{2c}}^{3} \\epsilon^{5} m^{5} \\sin\\left(\\frac{X_{\\mathit{2c}} \\epsilon m}{U_{c}}\\right) \\sin\\left(\\Phi_{0}\\right) + X_{\\mathit{2c}}^{5} \\epsilon^{5} m^{5} \\sin\\left(\\frac{X_{\\mathit{2c}} \\epsilon m}{U_{c}}\\right) \\sin\\left(\\Phi_{0}\\right) - U_{c}^{2} V_{c} X_{\\mathit{2c}}^{2} \\epsilon^{4} m^{4} \\cos\\left(\\Phi_{0}\\right) \\sin\\left(\\frac{X_{\\mathit{2c}} \\epsilon m}{U_{c}}\\right) - U_{c}^{2} V_{c} X_{\\mathit{2c}}^{2} \\epsilon^{4} m^{4} \\cos\\left(\\frac{X_{\\mathit{2c}} \\epsilon m}{U_{c}}\\right) \\sin\\left(\\Phi_{0}\\right) + 4 \\, U_{c}^{3} V_{c} X_{\\mathit{2c}} \\epsilon^{3} m^{3} \\cos\\left(\\frac{X_{\\mathit{2c}} \\epsilon m}{U_{c}}\\right) \\cos\\left(\\Phi_{0}\\right) - 6 \\, U_{c}^{2} X_{\\mathit{2c}}^{3} \\epsilon^{3} m^{3} \\cos\\left(\\frac{X_{\\mathit{2c}} \\epsilon m}{U_{c}}\\right) \\cos\\left(\\Phi_{0}\\right) - 4 \\, U_{c}^{3} V_{c} X_{\\mathit{2c}} \\epsilon^{3} m^{3} \\sin\\left(\\frac{X_{\\mathit{2c}} \\epsilon m}{U_{c}}\\right) \\sin\\left(\\Phi_{0}\\right) + 6 \\, U_{c}^{2} X_{\\mathit{2c}}^{3} \\epsilon^{3} m^{3} \\sin\\left(\\frac{X_{\\mathit{2c}} \\epsilon m}{U_{c}}\\right) \\sin\\left(\\Phi_{0}\\right) + 4 \\, U_{c}^{4} V_{c} \\epsilon^{2} m^{2} \\cos\\left(\\Phi_{0}\\right) \\sin\\left(\\frac{X_{\\mathit{2c}} \\epsilon m}{U_{c}}\\right) - 2 \\, U_{c}^{3} X_{\\mathit{2c}}^{2} \\epsilon^{2} m^{2} \\cos\\left(\\Phi_{0}\\right) \\sin\\left(\\frac{X_{\\mathit{2c}} \\epsilon m}{U_{c}}\\right) + 4 \\, U_{c}^{4} V_{c} \\epsilon^{2} m^{2} \\cos\\left(\\frac{X_{\\mathit{2c}} \\epsilon m}{U_{c}}\\right) \\sin\\left(\\Phi_{0}\\right) - 2 \\, U_{c}^{3} X_{\\mathit{2c}}^{2} \\epsilon^{2} m^{2} \\cos\\left(\\frac{X_{\\mathit{2c}} \\epsilon m}{U_{c}}\\right) \\sin\\left(\\Phi_{0}\\right) - 8 \\, U_{c}^{4} X_{\\mathit{2c}} \\epsilon m \\cos\\left(\\frac{X_{\\mathit{2c}} \\epsilon m}{U_{c}}\\right) \\cos\\left(\\Phi_{0}\\right) + 8 \\, U_{c}^{4} X_{\\mathit{2c}} \\epsilon m \\sin\\left(\\frac{X_{\\mathit{2c}} \\epsilon m}{U_{c}}\\right) \\sin\\left(\\Phi_{0}\\right) + 8 \\, U_{c}^{5} \\cos\\left(\\Phi_{0}\\right) \\sin\\left(\\frac{X_{\\mathit{2c}} \\epsilon m}{U_{c}}\\right) + 8 \\, U_{c}^{5} \\cos\\left(\\frac{X_{\\mathit{2c}} \\epsilon m}{U_{c}}\\right) \\sin\\left(\\Phi_{0}\\right)}{{\\left(U_{c} V_{c} \\epsilon^{2} m^{2} - X_{\\mathit{2c}}^{2} \\epsilon^{2} m^{2} - 2 \\, U_{c}^{2}\\right)} {\\left(X_{\\mathit{2c}}^{2} \\epsilon^{2} m^{2} + 4 \\, U_{c}^{2}\\right)} \\epsilon m}\\right]\\)</html>"
      ],
      "text/latex": [
       "$\\displaystyle \\left[\\frac{{\\left(U_{c} V_{c} X_{\\mathit{2c}}^{2} \\epsilon^{4} m^{4} \\cos\\left(\\frac{X_{\\mathit{2c}} \\epsilon m}{U_{c}}\\right) \\cos\\left(\\Phi_{0}\\right) - X_{\\mathit{2c}}^{4} \\epsilon^{4} m^{4} \\cos\\left(\\frac{X_{\\mathit{2c}} \\epsilon m}{U_{c}}\\right) \\cos\\left(\\Phi_{0}\\right) - U_{c} V_{c} X_{\\mathit{2c}}^{2} \\epsilon^{4} m^{4} \\sin\\left(\\frac{X_{\\mathit{2c}} \\epsilon m}{U_{c}}\\right) \\sin\\left(\\Phi_{0}\\right) + X_{\\mathit{2c}}^{4} \\epsilon^{4} m^{4} \\sin\\left(\\frac{X_{\\mathit{2c}} \\epsilon m}{U_{c}}\\right) \\sin\\left(\\Phi_{0}\\right) - 2 \\, U_{c}^{2} V_{c} X_{\\mathit{2c}} \\epsilon^{3} m^{3} \\cos\\left(\\Phi_{0}\\right) \\sin\\left(\\frac{X_{\\mathit{2c}} \\epsilon m}{U_{c}}\\right) - 2 \\, U_{c}^{2} V_{c} X_{\\mathit{2c}} \\epsilon^{3} m^{3} \\cos\\left(\\frac{X_{\\mathit{2c}} \\epsilon m}{U_{c}}\\right) \\sin\\left(\\Phi_{0}\\right) + 4 \\, U_{c}^{3} V_{c} \\epsilon^{2} m^{2} \\cos\\left(\\frac{X_{\\mathit{2c}} \\epsilon m}{U_{c}}\\right) \\cos\\left(\\Phi_{0}\\right) - 6 \\, U_{c}^{2} X_{\\mathit{2c}}^{2} \\epsilon^{2} m^{2} \\cos\\left(\\frac{X_{\\mathit{2c}} \\epsilon m}{U_{c}}\\right) \\cos\\left(\\Phi_{0}\\right) - 4 \\, U_{c}^{3} V_{c} \\epsilon^{2} m^{2} \\sin\\left(\\frac{X_{\\mathit{2c}} \\epsilon m}{U_{c}}\\right) \\sin\\left(\\Phi_{0}\\right) + 6 \\, U_{c}^{2} X_{\\mathit{2c}}^{2} \\epsilon^{2} m^{2} \\sin\\left(\\frac{X_{\\mathit{2c}} \\epsilon m}{U_{c}}\\right) \\sin\\left(\\Phi_{0}\\right) - 4 \\, U_{c}^{3} X_{\\mathit{2c}} \\epsilon m \\cos\\left(\\Phi_{0}\\right) \\sin\\left(\\frac{X_{\\mathit{2c}} \\epsilon m}{U_{c}}\\right) - 4 \\, U_{c}^{3} X_{\\mathit{2c}} \\epsilon m \\cos\\left(\\frac{X_{\\mathit{2c}} \\epsilon m}{U_{c}}\\right) \\sin\\left(\\Phi_{0}\\right) - 8 \\, U_{c}^{4} \\cos\\left(\\frac{X_{\\mathit{2c}} \\epsilon m}{U_{c}}\\right) \\cos\\left(\\Phi_{0}\\right) + 8 \\, U_{c}^{4} \\sin\\left(\\frac{X_{\\mathit{2c}} \\epsilon m}{U_{c}}\\right) \\sin\\left(\\Phi_{0}\\right)\\right)} U_{c}}{{\\left(U_{c} V_{c} \\epsilon^{2} m^{2} - X_{\\mathit{2c}}^{2} \\epsilon^{2} m^{2} - 2 \\, U_{c}^{2}\\right)} {\\left(X_{\\mathit{2c}}^{2} \\epsilon^{2} m^{2} + 4 \\, U_{c}^{2}\\right)}}, -\\frac{U_{c}^{2} V_{c}^{2} X_{\\mathit{2c}}^{2} \\epsilon^{5} m^{5} \\cos\\left(\\frac{X_{\\mathit{2c}} \\epsilon m}{U_{c}}\\right) \\cos\\left(\\Phi_{0}\\right) - 2 \\, U_{c} V_{c} X_{\\mathit{2c}}^{4} \\epsilon^{5} m^{5} \\cos\\left(\\frac{X_{\\mathit{2c}} \\epsilon m}{U_{c}}\\right) \\cos\\left(\\Phi_{0}\\right) + X_{\\mathit{2c}}^{6} \\epsilon^{5} m^{5} \\cos\\left(\\frac{X_{\\mathit{2c}} \\epsilon m}{U_{c}}\\right) \\cos\\left(\\Phi_{0}\\right) - U_{c}^{2} V_{c}^{2} X_{\\mathit{2c}}^{2} \\epsilon^{5} m^{5} \\sin\\left(\\frac{X_{\\mathit{2c}} \\epsilon m}{U_{c}}\\right) \\sin\\left(\\Phi_{0}\\right) + 2 \\, U_{c} V_{c} X_{\\mathit{2c}}^{4} \\epsilon^{5} m^{5} \\sin\\left(\\frac{X_{\\mathit{2c}} \\epsilon m}{U_{c}}\\right) \\sin\\left(\\Phi_{0}\\right) - X_{\\mathit{2c}}^{6} \\epsilon^{5} m^{5} \\sin\\left(\\frac{X_{\\mathit{2c}} \\epsilon m}{U_{c}}\\right) \\sin\\left(\\Phi_{0}\\right) + 4 \\, U_{c}^{4} V_{c}^{2} \\epsilon^{3} m^{3} \\cos\\left(\\frac{X_{\\mathit{2c}} \\epsilon m}{U_{c}}\\right) \\cos\\left(\\Phi_{0}\\right) - 10 \\, U_{c}^{3} V_{c} X_{\\mathit{2c}}^{2} \\epsilon^{3} m^{3} \\cos\\left(\\frac{X_{\\mathit{2c}} \\epsilon m}{U_{c}}\\right) \\cos\\left(\\Phi_{0}\\right) + 6 \\, U_{c}^{2} X_{\\mathit{2c}}^{4} \\epsilon^{3} m^{3} \\cos\\left(\\frac{X_{\\mathit{2c}} \\epsilon m}{U_{c}}\\right) \\cos\\left(\\Phi_{0}\\right) - 4 \\, U_{c}^{4} V_{c}^{2} \\epsilon^{3} m^{3} \\sin\\left(\\frac{X_{\\mathit{2c}} \\epsilon m}{U_{c}}\\right) \\sin\\left(\\Phi_{0}\\right) + 10 \\, U_{c}^{3} V_{c} X_{\\mathit{2c}}^{2} \\epsilon^{3} m^{3} \\sin\\left(\\frac{X_{\\mathit{2c}} \\epsilon m}{U_{c}}\\right) \\sin\\left(\\Phi_{0}\\right) - 6 \\, U_{c}^{2} X_{\\mathit{2c}}^{4} \\epsilon^{3} m^{3} \\sin\\left(\\frac{X_{\\mathit{2c}} \\epsilon m}{U_{c}}\\right) \\sin\\left(\\Phi_{0}\\right) - 4 \\, U_{c}^{4} V_{c} X_{\\mathit{2c}} \\epsilon^{2} m^{2} \\cos\\left(\\Phi_{0}\\right) \\sin\\left(\\frac{X_{\\mathit{2c}} \\epsilon m}{U_{c}}\\right) - 4 \\, U_{c}^{4} V_{c} X_{\\mathit{2c}} \\epsilon^{2} m^{2} \\cos\\left(\\frac{X_{\\mathit{2c}} \\epsilon m}{U_{c}}\\right) \\sin\\left(\\Phi_{0}\\right) - 8 \\, U_{c}^{5} V_{c} \\epsilon m \\cos\\left(\\frac{X_{\\mathit{2c}} \\epsilon m}{U_{c}}\\right) \\cos\\left(\\Phi_{0}\\right) + 8 \\, U_{c}^{4} X_{\\mathit{2c}}^{2} \\epsilon m \\cos\\left(\\frac{X_{\\mathit{2c}} \\epsilon m}{U_{c}}\\right) \\cos\\left(\\Phi_{0}\\right) + 8 \\, U_{c}^{5} V_{c} \\epsilon m \\sin\\left(\\frac{X_{\\mathit{2c}} \\epsilon m}{U_{c}}\\right) \\sin\\left(\\Phi_{0}\\right) - 8 \\, U_{c}^{4} X_{\\mathit{2c}}^{2} \\epsilon m \\sin\\left(\\frac{X_{\\mathit{2c}} \\epsilon m}{U_{c}}\\right) \\sin\\left(\\Phi_{0}\\right) - 8 \\, U_{c}^{5} X_{\\mathit{2c}} \\cos\\left(\\Phi_{0}\\right) \\sin\\left(\\frac{X_{\\mathit{2c}} \\epsilon m}{U_{c}}\\right) - 8 \\, U_{c}^{5} X_{\\mathit{2c}} \\cos\\left(\\frac{X_{\\mathit{2c}} \\epsilon m}{U_{c}}\\right) \\sin\\left(\\Phi_{0}\\right)}{{\\left(U_{c} V_{c} \\epsilon^{2} m^{2} - X_{\\mathit{2c}}^{2} \\epsilon^{2} m^{2} - 2 \\, U_{c}^{2}\\right)} {\\left(X_{\\mathit{2c}}^{2} \\epsilon^{2} m^{2} + 4 \\, U_{c}^{2}\\right)} U_{c} \\epsilon m}, 0, \\frac{U_{c} V_{c} X_{\\mathit{2c}}^{3} \\epsilon^{5} m^{5} \\cos\\left(\\frac{X_{\\mathit{2c}} \\epsilon m}{U_{c}}\\right) \\cos\\left(\\Phi_{0}\\right) - X_{\\mathit{2c}}^{5} \\epsilon^{5} m^{5} \\cos\\left(\\frac{X_{\\mathit{2c}} \\epsilon m}{U_{c}}\\right) \\cos\\left(\\Phi_{0}\\right) - U_{c} V_{c} X_{\\mathit{2c}}^{3} \\epsilon^{5} m^{5} \\sin\\left(\\frac{X_{\\mathit{2c}} \\epsilon m}{U_{c}}\\right) \\sin\\left(\\Phi_{0}\\right) + X_{\\mathit{2c}}^{5} \\epsilon^{5} m^{5} \\sin\\left(\\frac{X_{\\mathit{2c}} \\epsilon m}{U_{c}}\\right) \\sin\\left(\\Phi_{0}\\right) - U_{c}^{2} V_{c} X_{\\mathit{2c}}^{2} \\epsilon^{4} m^{4} \\cos\\left(\\Phi_{0}\\right) \\sin\\left(\\frac{X_{\\mathit{2c}} \\epsilon m}{U_{c}}\\right) - U_{c}^{2} V_{c} X_{\\mathit{2c}}^{2} \\epsilon^{4} m^{4} \\cos\\left(\\frac{X_{\\mathit{2c}} \\epsilon m}{U_{c}}\\right) \\sin\\left(\\Phi_{0}\\right) + 4 \\, U_{c}^{3} V_{c} X_{\\mathit{2c}} \\epsilon^{3} m^{3} \\cos\\left(\\frac{X_{\\mathit{2c}} \\epsilon m}{U_{c}}\\right) \\cos\\left(\\Phi_{0}\\right) - 6 \\, U_{c}^{2} X_{\\mathit{2c}}^{3} \\epsilon^{3} m^{3} \\cos\\left(\\frac{X_{\\mathit{2c}} \\epsilon m}{U_{c}}\\right) \\cos\\left(\\Phi_{0}\\right) - 4 \\, U_{c}^{3} V_{c} X_{\\mathit{2c}} \\epsilon^{3} m^{3} \\sin\\left(\\frac{X_{\\mathit{2c}} \\epsilon m}{U_{c}}\\right) \\sin\\left(\\Phi_{0}\\right) + 6 \\, U_{c}^{2} X_{\\mathit{2c}}^{3} \\epsilon^{3} m^{3} \\sin\\left(\\frac{X_{\\mathit{2c}} \\epsilon m}{U_{c}}\\right) \\sin\\left(\\Phi_{0}\\right) + 4 \\, U_{c}^{4} V_{c} \\epsilon^{2} m^{2} \\cos\\left(\\Phi_{0}\\right) \\sin\\left(\\frac{X_{\\mathit{2c}} \\epsilon m}{U_{c}}\\right) - 2 \\, U_{c}^{3} X_{\\mathit{2c}}^{2} \\epsilon^{2} m^{2} \\cos\\left(\\Phi_{0}\\right) \\sin\\left(\\frac{X_{\\mathit{2c}} \\epsilon m}{U_{c}}\\right) + 4 \\, U_{c}^{4} V_{c} \\epsilon^{2} m^{2} \\cos\\left(\\frac{X_{\\mathit{2c}} \\epsilon m}{U_{c}}\\right) \\sin\\left(\\Phi_{0}\\right) - 2 \\, U_{c}^{3} X_{\\mathit{2c}}^{2} \\epsilon^{2} m^{2} \\cos\\left(\\frac{X_{\\mathit{2c}} \\epsilon m}{U_{c}}\\right) \\sin\\left(\\Phi_{0}\\right) - 8 \\, U_{c}^{4} X_{\\mathit{2c}} \\epsilon m \\cos\\left(\\frac{X_{\\mathit{2c}} \\epsilon m}{U_{c}}\\right) \\cos\\left(\\Phi_{0}\\right) + 8 \\, U_{c}^{4} X_{\\mathit{2c}} \\epsilon m \\sin\\left(\\frac{X_{\\mathit{2c}} \\epsilon m}{U_{c}}\\right) \\sin\\left(\\Phi_{0}\\right) + 8 \\, U_{c}^{5} \\cos\\left(\\Phi_{0}\\right) \\sin\\left(\\frac{X_{\\mathit{2c}} \\epsilon m}{U_{c}}\\right) + 8 \\, U_{c}^{5} \\cos\\left(\\frac{X_{\\mathit{2c}} \\epsilon m}{U_{c}}\\right) \\sin\\left(\\Phi_{0}\\right)}{{\\left(U_{c} V_{c} \\epsilon^{2} m^{2} - X_{\\mathit{2c}}^{2} \\epsilon^{2} m^{2} - 2 \\, U_{c}^{2}\\right)} {\\left(X_{\\mathit{2c}}^{2} \\epsilon^{2} m^{2} + 4 \\, U_{c}^{2}\\right)} \\epsilon m}\\right]$"
      ],
      "text/plain": [
       "[(U_c*V_c*X_2c^2*epsilon^4*m^4*cos(X_2c*epsilon*m/U_c)*cos(Phi_0) - X_2c^4*epsilon^4*m^4*cos(X_2c*epsilon*m/U_c)*cos(Phi_0) - U_c*V_c*X_2c^2*epsilon^4*m^4*sin(X_2c*epsilon*m/U_c)*sin(Phi_0) + X_2c^4*epsilon^4*m^4*sin(X_2c*epsilon*m/U_c)*sin(Phi_0) - 2*U_c^2*V_c*X_2c*epsilon^3*m^3*cos(Phi_0)*sin(X_2c*epsilon*m/U_c) - 2*U_c^2*V_c*X_2c*epsilon^3*m^3*cos(X_2c*epsilon*m/U_c)*sin(Phi_0) + 4*U_c^3*V_c*epsilon^2*m^2*cos(X_2c*epsilon*m/U_c)*cos(Phi_0) - 6*U_c^2*X_2c^2*epsilon^2*m^2*cos(X_2c*epsilon*m/U_c)*cos(Phi_0) - 4*U_c^3*V_c*epsilon^2*m^2*sin(X_2c*epsilon*m/U_c)*sin(Phi_0) + 6*U_c^2*X_2c^2*epsilon^2*m^2*sin(X_2c*epsilon*m/U_c)*sin(Phi_0) - 4*U_c^3*X_2c*epsilon*m*cos(Phi_0)*sin(X_2c*epsilon*m/U_c) - 4*U_c^3*X_2c*epsilon*m*cos(X_2c*epsilon*m/U_c)*sin(Phi_0) - 8*U_c^4*cos(X_2c*epsilon*m/U_c)*cos(Phi_0) + 8*U_c^4*sin(X_2c*epsilon*m/U_c)*sin(Phi_0))*U_c/((U_c*V_c*epsilon^2*m^2 - X_2c^2*epsilon^2*m^2 - 2*U_c^2)*(X_2c^2*epsilon^2*m^2 + 4*U_c^2)),\n",
       " -(U_c^2*V_c^2*X_2c^2*epsilon^5*m^5*cos(X_2c*epsilon*m/U_c)*cos(Phi_0) - 2*U_c*V_c*X_2c^4*epsilon^5*m^5*cos(X_2c*epsilon*m/U_c)*cos(Phi_0) + X_2c^6*epsilon^5*m^5*cos(X_2c*epsilon*m/U_c)*cos(Phi_0) - U_c^2*V_c^2*X_2c^2*epsilon^5*m^5*sin(X_2c*epsilon*m/U_c)*sin(Phi_0) + 2*U_c*V_c*X_2c^4*epsilon^5*m^5*sin(X_2c*epsilon*m/U_c)*sin(Phi_0) - X_2c^6*epsilon^5*m^5*sin(X_2c*epsilon*m/U_c)*sin(Phi_0) + 4*U_c^4*V_c^2*epsilon^3*m^3*cos(X_2c*epsilon*m/U_c)*cos(Phi_0) - 10*U_c^3*V_c*X_2c^2*epsilon^3*m^3*cos(X_2c*epsilon*m/U_c)*cos(Phi_0) + 6*U_c^2*X_2c^4*epsilon^3*m^3*cos(X_2c*epsilon*m/U_c)*cos(Phi_0) - 4*U_c^4*V_c^2*epsilon^3*m^3*sin(X_2c*epsilon*m/U_c)*sin(Phi_0) + 10*U_c^3*V_c*X_2c^2*epsilon^3*m^3*sin(X_2c*epsilon*m/U_c)*sin(Phi_0) - 6*U_c^2*X_2c^4*epsilon^3*m^3*sin(X_2c*epsilon*m/U_c)*sin(Phi_0) - 4*U_c^4*V_c*X_2c*epsilon^2*m^2*cos(Phi_0)*sin(X_2c*epsilon*m/U_c) - 4*U_c^4*V_c*X_2c*epsilon^2*m^2*cos(X_2c*epsilon*m/U_c)*sin(Phi_0) - 8*U_c^5*V_c*epsilon*m*cos(X_2c*epsilon*m/U_c)*cos(Phi_0) + 8*U_c^4*X_2c^2*epsilon*m*cos(X_2c*epsilon*m/U_c)*cos(Phi_0) + 8*U_c^5*V_c*epsilon*m*sin(X_2c*epsilon*m/U_c)*sin(Phi_0) - 8*U_c^4*X_2c^2*epsilon*m*sin(X_2c*epsilon*m/U_c)*sin(Phi_0) - 8*U_c^5*X_2c*cos(Phi_0)*sin(X_2c*epsilon*m/U_c) - 8*U_c^5*X_2c*cos(X_2c*epsilon*m/U_c)*sin(Phi_0))/((U_c*V_c*epsilon^2*m^2 - X_2c^2*epsilon^2*m^2 - 2*U_c^2)*(X_2c^2*epsilon^2*m^2 + 4*U_c^2)*U_c*epsilon*m),\n",
       " 0,\n",
       " (U_c*V_c*X_2c^3*epsilon^5*m^5*cos(X_2c*epsilon*m/U_c)*cos(Phi_0) - X_2c^5*epsilon^5*m^5*cos(X_2c*epsilon*m/U_c)*cos(Phi_0) - U_c*V_c*X_2c^3*epsilon^5*m^5*sin(X_2c*epsilon*m/U_c)*sin(Phi_0) + X_2c^5*epsilon^5*m^5*sin(X_2c*epsilon*m/U_c)*sin(Phi_0) - U_c^2*V_c*X_2c^2*epsilon^4*m^4*cos(Phi_0)*sin(X_2c*epsilon*m/U_c) - U_c^2*V_c*X_2c^2*epsilon^4*m^4*cos(X_2c*epsilon*m/U_c)*sin(Phi_0) + 4*U_c^3*V_c*X_2c*epsilon^3*m^3*cos(X_2c*epsilon*m/U_c)*cos(Phi_0) - 6*U_c^2*X_2c^3*epsilon^3*m^3*cos(X_2c*epsilon*m/U_c)*cos(Phi_0) - 4*U_c^3*V_c*X_2c*epsilon^3*m^3*sin(X_2c*epsilon*m/U_c)*sin(Phi_0) + 6*U_c^2*X_2c^3*epsilon^3*m^3*sin(X_2c*epsilon*m/U_c)*sin(Phi_0) + 4*U_c^4*V_c*epsilon^2*m^2*cos(Phi_0)*sin(X_2c*epsilon*m/U_c) - 2*U_c^3*X_2c^2*epsilon^2*m^2*cos(Phi_0)*sin(X_2c*epsilon*m/U_c) + 4*U_c^4*V_c*epsilon^2*m^2*cos(X_2c*epsilon*m/U_c)*sin(Phi_0) - 2*U_c^3*X_2c^2*epsilon^2*m^2*cos(X_2c*epsilon*m/U_c)*sin(Phi_0) - 8*U_c^4*X_2c*epsilon*m*cos(X_2c*epsilon*m/U_c)*cos(Phi_0) + 8*U_c^4*X_2c*epsilon*m*sin(X_2c*epsilon*m/U_c)*sin(Phi_0) + 8*U_c^5*cos(Phi_0)*sin(X_2c*epsilon*m/U_c) + 8*U_c^5*cos(X_2c*epsilon*m/U_c)*sin(Phi_0))/((U_c*V_c*epsilon^2*m^2 - X_2c^2*epsilon^2*m^2 - 2*U_c^2)*(X_2c^2*epsilon^2*m^2 + 4*U_c^2)*epsilon*m)]"
      ]
     },
     "execution_count": 780,
     "metadata": {},
     "output_type": "execute_result"
    }
   ],
   "source": [
    "K1_eq_UVX = sph_to_scaled_FNC(K1_eq)\n",
    "K1_eq_UVX[:]"
   ]
  },
  {
   "cell_type": "code",
   "execution_count": 781,
   "id": "b323e212",
   "metadata": {},
   "outputs": [
    {
     "data": {
      "text/html": [
       "<html>\\(\\displaystyle \\left[0, -\\frac{X_{\\mathit{2c}} \\sin\\left(\\Phi_{0}\\right)}{m}, 0, -\\frac{U_{c} \\sin\\left(\\Phi_{0}\\right)}{m}\\right]\\)</html>"
      ],
      "text/latex": [
       "$\\displaystyle \\left[0, -\\frac{X_{\\mathit{2c}} \\sin\\left(\\Phi_{0}\\right)}{m}, 0, -\\frac{U_{c} \\sin\\left(\\Phi_{0}\\right)}{m}\\right]$"
      ],
      "text/plain": [
       "[0, -X_2c*sin(Phi_0)/m, 0, -U_c*sin(Phi_0)/m]"
      ]
     },
     "execution_count": 781,
     "metadata": {},
     "output_type": "execute_result"
    }
   ],
   "source": [
    "K1_eq_UVX_eps = K1_eq_UVX*eps\n",
    "K1_eq_UVX_CL = K1_eq_UVX_eps.copy()\n",
    "K1_eq_UVX_CL.apply_map(lambda tmp: tmp.subs({eps:0}))\n",
    "K1_eq_UVX_CL[:]"
   ]
  },
  {
   "cell_type": "code",
   "execution_count": 782,
   "id": "c2da9920",
   "metadata": {},
   "outputs": [
    {
     "data": {
      "text/html": [
       "<html>\\(\\displaystyle \\left[r \\sin\\left({\\phi}\\right), t \\sin\\left({\\phi}\\right), 0, \\frac{t \\cos\\left({\\phi}\\right)}{r}\\right]\\)</html>"
      ],
      "text/latex": [
       "$\\displaystyle \\left[r \\sin\\left({\\phi}\\right), t \\sin\\left({\\phi}\\right), 0, \\frac{t \\cos\\left({\\phi}\\right)}{r}\\right]$"
      ],
      "text/plain": [
       "[r*sin(ph), t*sin(ph), 0, t*cos(ph)/r]"
      ]
     },
     "execution_count": 782,
     "metadata": {},
     "output_type": "execute_result"
    }
   ],
   "source": [
    "K2_eq = M.vector_field()\n",
    "K2_eq[:] = [r*sin(ph), t*sin(ph), 0, t*cos(ph)/r]\n",
    "K2_eq[:]"
   ]
  },
  {
   "cell_type": "code",
   "execution_count": 783,
   "id": "231cddc6",
   "metadata": {},
   "outputs": [
    {
     "data": {
      "text/html": [
       "<html>\\(\\displaystyle \\left[\\frac{{\\left(U_{c} V_{c} X_{\\mathit{2c}}^{2} \\epsilon^{4} m^{4} \\cos\\left(\\Phi_{0}\\right) \\sin\\left(\\frac{X_{\\mathit{2c}} \\epsilon m}{U_{c}}\\right) - X_{\\mathit{2c}}^{4} \\epsilon^{4} m^{4} \\cos\\left(\\Phi_{0}\\right) \\sin\\left(\\frac{X_{\\mathit{2c}} \\epsilon m}{U_{c}}\\right) + U_{c} V_{c} X_{\\mathit{2c}}^{2} \\epsilon^{4} m^{4} \\cos\\left(\\frac{X_{\\mathit{2c}} \\epsilon m}{U_{c}}\\right) \\sin\\left(\\Phi_{0}\\right) - X_{\\mathit{2c}}^{4} \\epsilon^{4} m^{4} \\cos\\left(\\frac{X_{\\mathit{2c}} \\epsilon m}{U_{c}}\\right) \\sin\\left(\\Phi_{0}\\right) + 2 \\, U_{c}^{2} V_{c} X_{\\mathit{2c}} \\epsilon^{3} m^{3} \\cos\\left(\\frac{X_{\\mathit{2c}} \\epsilon m}{U_{c}}\\right) \\cos\\left(\\Phi_{0}\\right) - 2 \\, U_{c}^{2} V_{c} X_{\\mathit{2c}} \\epsilon^{3} m^{3} \\sin\\left(\\frac{X_{\\mathit{2c}} \\epsilon m}{U_{c}}\\right) \\sin\\left(\\Phi_{0}\\right) + 4 \\, U_{c}^{3} V_{c} \\epsilon^{2} m^{2} \\cos\\left(\\Phi_{0}\\right) \\sin\\left(\\frac{X_{\\mathit{2c}} \\epsilon m}{U_{c}}\\right) - 6 \\, U_{c}^{2} X_{\\mathit{2c}}^{2} \\epsilon^{2} m^{2} \\cos\\left(\\Phi_{0}\\right) \\sin\\left(\\frac{X_{\\mathit{2c}} \\epsilon m}{U_{c}}\\right) + 4 \\, U_{c}^{3} V_{c} \\epsilon^{2} m^{2} \\cos\\left(\\frac{X_{\\mathit{2c}} \\epsilon m}{U_{c}}\\right) \\sin\\left(\\Phi_{0}\\right) - 6 \\, U_{c}^{2} X_{\\mathit{2c}}^{2} \\epsilon^{2} m^{2} \\cos\\left(\\frac{X_{\\mathit{2c}} \\epsilon m}{U_{c}}\\right) \\sin\\left(\\Phi_{0}\\right) + 4 \\, U_{c}^{3} X_{\\mathit{2c}} \\epsilon m \\cos\\left(\\frac{X_{\\mathit{2c}} \\epsilon m}{U_{c}}\\right) \\cos\\left(\\Phi_{0}\\right) - 4 \\, U_{c}^{3} X_{\\mathit{2c}} \\epsilon m \\sin\\left(\\frac{X_{\\mathit{2c}} \\epsilon m}{U_{c}}\\right) \\sin\\left(\\Phi_{0}\\right) - 8 \\, U_{c}^{4} \\cos\\left(\\Phi_{0}\\right) \\sin\\left(\\frac{X_{\\mathit{2c}} \\epsilon m}{U_{c}}\\right) - 8 \\, U_{c}^{4} \\cos\\left(\\frac{X_{\\mathit{2c}} \\epsilon m}{U_{c}}\\right) \\sin\\left(\\Phi_{0}\\right)\\right)} U_{c}}{{\\left(U_{c} V_{c} \\epsilon^{2} m^{2} - X_{\\mathit{2c}}^{2} \\epsilon^{2} m^{2} - 2 \\, U_{c}^{2}\\right)} {\\left(X_{\\mathit{2c}}^{2} \\epsilon^{2} m^{2} + 4 \\, U_{c}^{2}\\right)}}, -\\frac{U_{c}^{2} V_{c}^{2} X_{\\mathit{2c}}^{2} \\epsilon^{5} m^{5} \\cos\\left(\\Phi_{0}\\right) \\sin\\left(\\frac{X_{\\mathit{2c}} \\epsilon m}{U_{c}}\\right) - 2 \\, U_{c} V_{c} X_{\\mathit{2c}}^{4} \\epsilon^{5} m^{5} \\cos\\left(\\Phi_{0}\\right) \\sin\\left(\\frac{X_{\\mathit{2c}} \\epsilon m}{U_{c}}\\right) + X_{\\mathit{2c}}^{6} \\epsilon^{5} m^{5} \\cos\\left(\\Phi_{0}\\right) \\sin\\left(\\frac{X_{\\mathit{2c}} \\epsilon m}{U_{c}}\\right) + U_{c}^{2} V_{c}^{2} X_{\\mathit{2c}}^{2} \\epsilon^{5} m^{5} \\cos\\left(\\frac{X_{\\mathit{2c}} \\epsilon m}{U_{c}}\\right) \\sin\\left(\\Phi_{0}\\right) - 2 \\, U_{c} V_{c} X_{\\mathit{2c}}^{4} \\epsilon^{5} m^{5} \\cos\\left(\\frac{X_{\\mathit{2c}} \\epsilon m}{U_{c}}\\right) \\sin\\left(\\Phi_{0}\\right) + X_{\\mathit{2c}}^{6} \\epsilon^{5} m^{5} \\cos\\left(\\frac{X_{\\mathit{2c}} \\epsilon m}{U_{c}}\\right) \\sin\\left(\\Phi_{0}\\right) + 4 \\, U_{c}^{4} V_{c}^{2} \\epsilon^{3} m^{3} \\cos\\left(\\Phi_{0}\\right) \\sin\\left(\\frac{X_{\\mathit{2c}} \\epsilon m}{U_{c}}\\right) - 10 \\, U_{c}^{3} V_{c} X_{\\mathit{2c}}^{2} \\epsilon^{3} m^{3} \\cos\\left(\\Phi_{0}\\right) \\sin\\left(\\frac{X_{\\mathit{2c}} \\epsilon m}{U_{c}}\\right) + 6 \\, U_{c}^{2} X_{\\mathit{2c}}^{4} \\epsilon^{3} m^{3} \\cos\\left(\\Phi_{0}\\right) \\sin\\left(\\frac{X_{\\mathit{2c}} \\epsilon m}{U_{c}}\\right) + 4 \\, U_{c}^{4} V_{c}^{2} \\epsilon^{3} m^{3} \\cos\\left(\\frac{X_{\\mathit{2c}} \\epsilon m}{U_{c}}\\right) \\sin\\left(\\Phi_{0}\\right) - 10 \\, U_{c}^{3} V_{c} X_{\\mathit{2c}}^{2} \\epsilon^{3} m^{3} \\cos\\left(\\frac{X_{\\mathit{2c}} \\epsilon m}{U_{c}}\\right) \\sin\\left(\\Phi_{0}\\right) + 6 \\, U_{c}^{2} X_{\\mathit{2c}}^{4} \\epsilon^{3} m^{3} \\cos\\left(\\frac{X_{\\mathit{2c}} \\epsilon m}{U_{c}}\\right) \\sin\\left(\\Phi_{0}\\right) + 4 \\, U_{c}^{4} V_{c} X_{\\mathit{2c}} \\epsilon^{2} m^{2} \\cos\\left(\\frac{X_{\\mathit{2c}} \\epsilon m}{U_{c}}\\right) \\cos\\left(\\Phi_{0}\\right) - 4 \\, U_{c}^{4} V_{c} X_{\\mathit{2c}} \\epsilon^{2} m^{2} \\sin\\left(\\frac{X_{\\mathit{2c}} \\epsilon m}{U_{c}}\\right) \\sin\\left(\\Phi_{0}\\right) - 8 \\, U_{c}^{5} V_{c} \\epsilon m \\cos\\left(\\Phi_{0}\\right) \\sin\\left(\\frac{X_{\\mathit{2c}} \\epsilon m}{U_{c}}\\right) + 8 \\, U_{c}^{4} X_{\\mathit{2c}}^{2} \\epsilon m \\cos\\left(\\Phi_{0}\\right) \\sin\\left(\\frac{X_{\\mathit{2c}} \\epsilon m}{U_{c}}\\right) - 8 \\, U_{c}^{5} V_{c} \\epsilon m \\cos\\left(\\frac{X_{\\mathit{2c}} \\epsilon m}{U_{c}}\\right) \\sin\\left(\\Phi_{0}\\right) + 8 \\, U_{c}^{4} X_{\\mathit{2c}}^{2} \\epsilon m \\cos\\left(\\frac{X_{\\mathit{2c}} \\epsilon m}{U_{c}}\\right) \\sin\\left(\\Phi_{0}\\right) + 8 \\, U_{c}^{5} X_{\\mathit{2c}} \\cos\\left(\\frac{X_{\\mathit{2c}} \\epsilon m}{U_{c}}\\right) \\cos\\left(\\Phi_{0}\\right) - 8 \\, U_{c}^{5} X_{\\mathit{2c}} \\sin\\left(\\frac{X_{\\mathit{2c}} \\epsilon m}{U_{c}}\\right) \\sin\\left(\\Phi_{0}\\right)}{{\\left(U_{c} V_{c} \\epsilon^{2} m^{2} - X_{\\mathit{2c}}^{2} \\epsilon^{2} m^{2} - 2 \\, U_{c}^{2}\\right)} {\\left(X_{\\mathit{2c}}^{2} \\epsilon^{2} m^{2} + 4 \\, U_{c}^{2}\\right)} U_{c} \\epsilon m}, 0, \\frac{U_{c} V_{c} X_{\\mathit{2c}}^{3} \\epsilon^{5} m^{5} \\cos\\left(\\Phi_{0}\\right) \\sin\\left(\\frac{X_{\\mathit{2c}} \\epsilon m}{U_{c}}\\right) - X_{\\mathit{2c}}^{5} \\epsilon^{5} m^{5} \\cos\\left(\\Phi_{0}\\right) \\sin\\left(\\frac{X_{\\mathit{2c}} \\epsilon m}{U_{c}}\\right) + U_{c} V_{c} X_{\\mathit{2c}}^{3} \\epsilon^{5} m^{5} \\cos\\left(\\frac{X_{\\mathit{2c}} \\epsilon m}{U_{c}}\\right) \\sin\\left(\\Phi_{0}\\right) - X_{\\mathit{2c}}^{5} \\epsilon^{5} m^{5} \\cos\\left(\\frac{X_{\\mathit{2c}} \\epsilon m}{U_{c}}\\right) \\sin\\left(\\Phi_{0}\\right) + U_{c}^{2} V_{c} X_{\\mathit{2c}}^{2} \\epsilon^{4} m^{4} \\cos\\left(\\frac{X_{\\mathit{2c}} \\epsilon m}{U_{c}}\\right) \\cos\\left(\\Phi_{0}\\right) - U_{c}^{2} V_{c} X_{\\mathit{2c}}^{2} \\epsilon^{4} m^{4} \\sin\\left(\\frac{X_{\\mathit{2c}} \\epsilon m}{U_{c}}\\right) \\sin\\left(\\Phi_{0}\\right) + 4 \\, U_{c}^{3} V_{c} X_{\\mathit{2c}} \\epsilon^{3} m^{3} \\cos\\left(\\Phi_{0}\\right) \\sin\\left(\\frac{X_{\\mathit{2c}} \\epsilon m}{U_{c}}\\right) - 6 \\, U_{c}^{2} X_{\\mathit{2c}}^{3} \\epsilon^{3} m^{3} \\cos\\left(\\Phi_{0}\\right) \\sin\\left(\\frac{X_{\\mathit{2c}} \\epsilon m}{U_{c}}\\right) + 4 \\, U_{c}^{3} V_{c} X_{\\mathit{2c}} \\epsilon^{3} m^{3} \\cos\\left(\\frac{X_{\\mathit{2c}} \\epsilon m}{U_{c}}\\right) \\sin\\left(\\Phi_{0}\\right) - 6 \\, U_{c}^{2} X_{\\mathit{2c}}^{3} \\epsilon^{3} m^{3} \\cos\\left(\\frac{X_{\\mathit{2c}} \\epsilon m}{U_{c}}\\right) \\sin\\left(\\Phi_{0}\\right) - 4 \\, U_{c}^{4} V_{c} \\epsilon^{2} m^{2} \\cos\\left(\\frac{X_{\\mathit{2c}} \\epsilon m}{U_{c}}\\right) \\cos\\left(\\Phi_{0}\\right) + 2 \\, U_{c}^{3} X_{\\mathit{2c}}^{2} \\epsilon^{2} m^{2} \\cos\\left(\\frac{X_{\\mathit{2c}} \\epsilon m}{U_{c}}\\right) \\cos\\left(\\Phi_{0}\\right) + 4 \\, U_{c}^{4} V_{c} \\epsilon^{2} m^{2} \\sin\\left(\\frac{X_{\\mathit{2c}} \\epsilon m}{U_{c}}\\right) \\sin\\left(\\Phi_{0}\\right) - 2 \\, U_{c}^{3} X_{\\mathit{2c}}^{2} \\epsilon^{2} m^{2} \\sin\\left(\\frac{X_{\\mathit{2c}} \\epsilon m}{U_{c}}\\right) \\sin\\left(\\Phi_{0}\\right) - 8 \\, U_{c}^{4} X_{\\mathit{2c}} \\epsilon m \\cos\\left(\\Phi_{0}\\right) \\sin\\left(\\frac{X_{\\mathit{2c}} \\epsilon m}{U_{c}}\\right) - 8 \\, U_{c}^{4} X_{\\mathit{2c}} \\epsilon m \\cos\\left(\\frac{X_{\\mathit{2c}} \\epsilon m}{U_{c}}\\right) \\sin\\left(\\Phi_{0}\\right) - 8 \\, U_{c}^{5} \\cos\\left(\\frac{X_{\\mathit{2c}} \\epsilon m}{U_{c}}\\right) \\cos\\left(\\Phi_{0}\\right) + 8 \\, U_{c}^{5} \\sin\\left(\\frac{X_{\\mathit{2c}} \\epsilon m}{U_{c}}\\right) \\sin\\left(\\Phi_{0}\\right)}{{\\left(U_{c} V_{c} \\epsilon^{2} m^{2} - X_{\\mathit{2c}}^{2} \\epsilon^{2} m^{2} - 2 \\, U_{c}^{2}\\right)} {\\left(X_{\\mathit{2c}}^{2} \\epsilon^{2} m^{2} + 4 \\, U_{c}^{2}\\right)} \\epsilon m}\\right]\\)</html>"
      ],
      "text/latex": [
       "$\\displaystyle \\left[\\frac{{\\left(U_{c} V_{c} X_{\\mathit{2c}}^{2} \\epsilon^{4} m^{4} \\cos\\left(\\Phi_{0}\\right) \\sin\\left(\\frac{X_{\\mathit{2c}} \\epsilon m}{U_{c}}\\right) - X_{\\mathit{2c}}^{4} \\epsilon^{4} m^{4} \\cos\\left(\\Phi_{0}\\right) \\sin\\left(\\frac{X_{\\mathit{2c}} \\epsilon m}{U_{c}}\\right) + U_{c} V_{c} X_{\\mathit{2c}}^{2} \\epsilon^{4} m^{4} \\cos\\left(\\frac{X_{\\mathit{2c}} \\epsilon m}{U_{c}}\\right) \\sin\\left(\\Phi_{0}\\right) - X_{\\mathit{2c}}^{4} \\epsilon^{4} m^{4} \\cos\\left(\\frac{X_{\\mathit{2c}} \\epsilon m}{U_{c}}\\right) \\sin\\left(\\Phi_{0}\\right) + 2 \\, U_{c}^{2} V_{c} X_{\\mathit{2c}} \\epsilon^{3} m^{3} \\cos\\left(\\frac{X_{\\mathit{2c}} \\epsilon m}{U_{c}}\\right) \\cos\\left(\\Phi_{0}\\right) - 2 \\, U_{c}^{2} V_{c} X_{\\mathit{2c}} \\epsilon^{3} m^{3} \\sin\\left(\\frac{X_{\\mathit{2c}} \\epsilon m}{U_{c}}\\right) \\sin\\left(\\Phi_{0}\\right) + 4 \\, U_{c}^{3} V_{c} \\epsilon^{2} m^{2} \\cos\\left(\\Phi_{0}\\right) \\sin\\left(\\frac{X_{\\mathit{2c}} \\epsilon m}{U_{c}}\\right) - 6 \\, U_{c}^{2} X_{\\mathit{2c}}^{2} \\epsilon^{2} m^{2} \\cos\\left(\\Phi_{0}\\right) \\sin\\left(\\frac{X_{\\mathit{2c}} \\epsilon m}{U_{c}}\\right) + 4 \\, U_{c}^{3} V_{c} \\epsilon^{2} m^{2} \\cos\\left(\\frac{X_{\\mathit{2c}} \\epsilon m}{U_{c}}\\right) \\sin\\left(\\Phi_{0}\\right) - 6 \\, U_{c}^{2} X_{\\mathit{2c}}^{2} \\epsilon^{2} m^{2} \\cos\\left(\\frac{X_{\\mathit{2c}} \\epsilon m}{U_{c}}\\right) \\sin\\left(\\Phi_{0}\\right) + 4 \\, U_{c}^{3} X_{\\mathit{2c}} \\epsilon m \\cos\\left(\\frac{X_{\\mathit{2c}} \\epsilon m}{U_{c}}\\right) \\cos\\left(\\Phi_{0}\\right) - 4 \\, U_{c}^{3} X_{\\mathit{2c}} \\epsilon m \\sin\\left(\\frac{X_{\\mathit{2c}} \\epsilon m}{U_{c}}\\right) \\sin\\left(\\Phi_{0}\\right) - 8 \\, U_{c}^{4} \\cos\\left(\\Phi_{0}\\right) \\sin\\left(\\frac{X_{\\mathit{2c}} \\epsilon m}{U_{c}}\\right) - 8 \\, U_{c}^{4} \\cos\\left(\\frac{X_{\\mathit{2c}} \\epsilon m}{U_{c}}\\right) \\sin\\left(\\Phi_{0}\\right)\\right)} U_{c}}{{\\left(U_{c} V_{c} \\epsilon^{2} m^{2} - X_{\\mathit{2c}}^{2} \\epsilon^{2} m^{2} - 2 \\, U_{c}^{2}\\right)} {\\left(X_{\\mathit{2c}}^{2} \\epsilon^{2} m^{2} + 4 \\, U_{c}^{2}\\right)}}, -\\frac{U_{c}^{2} V_{c}^{2} X_{\\mathit{2c}}^{2} \\epsilon^{5} m^{5} \\cos\\left(\\Phi_{0}\\right) \\sin\\left(\\frac{X_{\\mathit{2c}} \\epsilon m}{U_{c}}\\right) - 2 \\, U_{c} V_{c} X_{\\mathit{2c}}^{4} \\epsilon^{5} m^{5} \\cos\\left(\\Phi_{0}\\right) \\sin\\left(\\frac{X_{\\mathit{2c}} \\epsilon m}{U_{c}}\\right) + X_{\\mathit{2c}}^{6} \\epsilon^{5} m^{5} \\cos\\left(\\Phi_{0}\\right) \\sin\\left(\\frac{X_{\\mathit{2c}} \\epsilon m}{U_{c}}\\right) + U_{c}^{2} V_{c}^{2} X_{\\mathit{2c}}^{2} \\epsilon^{5} m^{5} \\cos\\left(\\frac{X_{\\mathit{2c}} \\epsilon m}{U_{c}}\\right) \\sin\\left(\\Phi_{0}\\right) - 2 \\, U_{c} V_{c} X_{\\mathit{2c}}^{4} \\epsilon^{5} m^{5} \\cos\\left(\\frac{X_{\\mathit{2c}} \\epsilon m}{U_{c}}\\right) \\sin\\left(\\Phi_{0}\\right) + X_{\\mathit{2c}}^{6} \\epsilon^{5} m^{5} \\cos\\left(\\frac{X_{\\mathit{2c}} \\epsilon m}{U_{c}}\\right) \\sin\\left(\\Phi_{0}\\right) + 4 \\, U_{c}^{4} V_{c}^{2} \\epsilon^{3} m^{3} \\cos\\left(\\Phi_{0}\\right) \\sin\\left(\\frac{X_{\\mathit{2c}} \\epsilon m}{U_{c}}\\right) - 10 \\, U_{c}^{3} V_{c} X_{\\mathit{2c}}^{2} \\epsilon^{3} m^{3} \\cos\\left(\\Phi_{0}\\right) \\sin\\left(\\frac{X_{\\mathit{2c}} \\epsilon m}{U_{c}}\\right) + 6 \\, U_{c}^{2} X_{\\mathit{2c}}^{4} \\epsilon^{3} m^{3} \\cos\\left(\\Phi_{0}\\right) \\sin\\left(\\frac{X_{\\mathit{2c}} \\epsilon m}{U_{c}}\\right) + 4 \\, U_{c}^{4} V_{c}^{2} \\epsilon^{3} m^{3} \\cos\\left(\\frac{X_{\\mathit{2c}} \\epsilon m}{U_{c}}\\right) \\sin\\left(\\Phi_{0}\\right) - 10 \\, U_{c}^{3} V_{c} X_{\\mathit{2c}}^{2} \\epsilon^{3} m^{3} \\cos\\left(\\frac{X_{\\mathit{2c}} \\epsilon m}{U_{c}}\\right) \\sin\\left(\\Phi_{0}\\right) + 6 \\, U_{c}^{2} X_{\\mathit{2c}}^{4} \\epsilon^{3} m^{3} \\cos\\left(\\frac{X_{\\mathit{2c}} \\epsilon m}{U_{c}}\\right) \\sin\\left(\\Phi_{0}\\right) + 4 \\, U_{c}^{4} V_{c} X_{\\mathit{2c}} \\epsilon^{2} m^{2} \\cos\\left(\\frac{X_{\\mathit{2c}} \\epsilon m}{U_{c}}\\right) \\cos\\left(\\Phi_{0}\\right) - 4 \\, U_{c}^{4} V_{c} X_{\\mathit{2c}} \\epsilon^{2} m^{2} \\sin\\left(\\frac{X_{\\mathit{2c}} \\epsilon m}{U_{c}}\\right) \\sin\\left(\\Phi_{0}\\right) - 8 \\, U_{c}^{5} V_{c} \\epsilon m \\cos\\left(\\Phi_{0}\\right) \\sin\\left(\\frac{X_{\\mathit{2c}} \\epsilon m}{U_{c}}\\right) + 8 \\, U_{c}^{4} X_{\\mathit{2c}}^{2} \\epsilon m \\cos\\left(\\Phi_{0}\\right) \\sin\\left(\\frac{X_{\\mathit{2c}} \\epsilon m}{U_{c}}\\right) - 8 \\, U_{c}^{5} V_{c} \\epsilon m \\cos\\left(\\frac{X_{\\mathit{2c}} \\epsilon m}{U_{c}}\\right) \\sin\\left(\\Phi_{0}\\right) + 8 \\, U_{c}^{4} X_{\\mathit{2c}}^{2} \\epsilon m \\cos\\left(\\frac{X_{\\mathit{2c}} \\epsilon m}{U_{c}}\\right) \\sin\\left(\\Phi_{0}\\right) + 8 \\, U_{c}^{5} X_{\\mathit{2c}} \\cos\\left(\\frac{X_{\\mathit{2c}} \\epsilon m}{U_{c}}\\right) \\cos\\left(\\Phi_{0}\\right) - 8 \\, U_{c}^{5} X_{\\mathit{2c}} \\sin\\left(\\frac{X_{\\mathit{2c}} \\epsilon m}{U_{c}}\\right) \\sin\\left(\\Phi_{0}\\right)}{{\\left(U_{c} V_{c} \\epsilon^{2} m^{2} - X_{\\mathit{2c}}^{2} \\epsilon^{2} m^{2} - 2 \\, U_{c}^{2}\\right)} {\\left(X_{\\mathit{2c}}^{2} \\epsilon^{2} m^{2} + 4 \\, U_{c}^{2}\\right)} U_{c} \\epsilon m}, 0, \\frac{U_{c} V_{c} X_{\\mathit{2c}}^{3} \\epsilon^{5} m^{5} \\cos\\left(\\Phi_{0}\\right) \\sin\\left(\\frac{X_{\\mathit{2c}} \\epsilon m}{U_{c}}\\right) - X_{\\mathit{2c}}^{5} \\epsilon^{5} m^{5} \\cos\\left(\\Phi_{0}\\right) \\sin\\left(\\frac{X_{\\mathit{2c}} \\epsilon m}{U_{c}}\\right) + U_{c} V_{c} X_{\\mathit{2c}}^{3} \\epsilon^{5} m^{5} \\cos\\left(\\frac{X_{\\mathit{2c}} \\epsilon m}{U_{c}}\\right) \\sin\\left(\\Phi_{0}\\right) - X_{\\mathit{2c}}^{5} \\epsilon^{5} m^{5} \\cos\\left(\\frac{X_{\\mathit{2c}} \\epsilon m}{U_{c}}\\right) \\sin\\left(\\Phi_{0}\\right) + U_{c}^{2} V_{c} X_{\\mathit{2c}}^{2} \\epsilon^{4} m^{4} \\cos\\left(\\frac{X_{\\mathit{2c}} \\epsilon m}{U_{c}}\\right) \\cos\\left(\\Phi_{0}\\right) - U_{c}^{2} V_{c} X_{\\mathit{2c}}^{2} \\epsilon^{4} m^{4} \\sin\\left(\\frac{X_{\\mathit{2c}} \\epsilon m}{U_{c}}\\right) \\sin\\left(\\Phi_{0}\\right) + 4 \\, U_{c}^{3} V_{c} X_{\\mathit{2c}} \\epsilon^{3} m^{3} \\cos\\left(\\Phi_{0}\\right) \\sin\\left(\\frac{X_{\\mathit{2c}} \\epsilon m}{U_{c}}\\right) - 6 \\, U_{c}^{2} X_{\\mathit{2c}}^{3} \\epsilon^{3} m^{3} \\cos\\left(\\Phi_{0}\\right) \\sin\\left(\\frac{X_{\\mathit{2c}} \\epsilon m}{U_{c}}\\right) + 4 \\, U_{c}^{3} V_{c} X_{\\mathit{2c}} \\epsilon^{3} m^{3} \\cos\\left(\\frac{X_{\\mathit{2c}} \\epsilon m}{U_{c}}\\right) \\sin\\left(\\Phi_{0}\\right) - 6 \\, U_{c}^{2} X_{\\mathit{2c}}^{3} \\epsilon^{3} m^{3} \\cos\\left(\\frac{X_{\\mathit{2c}} \\epsilon m}{U_{c}}\\right) \\sin\\left(\\Phi_{0}\\right) - 4 \\, U_{c}^{4} V_{c} \\epsilon^{2} m^{2} \\cos\\left(\\frac{X_{\\mathit{2c}} \\epsilon m}{U_{c}}\\right) \\cos\\left(\\Phi_{0}\\right) + 2 \\, U_{c}^{3} X_{\\mathit{2c}}^{2} \\epsilon^{2} m^{2} \\cos\\left(\\frac{X_{\\mathit{2c}} \\epsilon m}{U_{c}}\\right) \\cos\\left(\\Phi_{0}\\right) + 4 \\, U_{c}^{4} V_{c} \\epsilon^{2} m^{2} \\sin\\left(\\frac{X_{\\mathit{2c}} \\epsilon m}{U_{c}}\\right) \\sin\\left(\\Phi_{0}\\right) - 2 \\, U_{c}^{3} X_{\\mathit{2c}}^{2} \\epsilon^{2} m^{2} \\sin\\left(\\frac{X_{\\mathit{2c}} \\epsilon m}{U_{c}}\\right) \\sin\\left(\\Phi_{0}\\right) - 8 \\, U_{c}^{4} X_{\\mathit{2c}} \\epsilon m \\cos\\left(\\Phi_{0}\\right) \\sin\\left(\\frac{X_{\\mathit{2c}} \\epsilon m}{U_{c}}\\right) - 8 \\, U_{c}^{4} X_{\\mathit{2c}} \\epsilon m \\cos\\left(\\frac{X_{\\mathit{2c}} \\epsilon m}{U_{c}}\\right) \\sin\\left(\\Phi_{0}\\right) - 8 \\, U_{c}^{5} \\cos\\left(\\frac{X_{\\mathit{2c}} \\epsilon m}{U_{c}}\\right) \\cos\\left(\\Phi_{0}\\right) + 8 \\, U_{c}^{5} \\sin\\left(\\frac{X_{\\mathit{2c}} \\epsilon m}{U_{c}}\\right) \\sin\\left(\\Phi_{0}\\right)}{{\\left(U_{c} V_{c} \\epsilon^{2} m^{2} - X_{\\mathit{2c}}^{2} \\epsilon^{2} m^{2} - 2 \\, U_{c}^{2}\\right)} {\\left(X_{\\mathit{2c}}^{2} \\epsilon^{2} m^{2} + 4 \\, U_{c}^{2}\\right)} \\epsilon m}\\right]$"
      ],
      "text/plain": [
       "[(U_c*V_c*X_2c^2*epsilon^4*m^4*cos(Phi_0)*sin(X_2c*epsilon*m/U_c) - X_2c^4*epsilon^4*m^4*cos(Phi_0)*sin(X_2c*epsilon*m/U_c) + U_c*V_c*X_2c^2*epsilon^4*m^4*cos(X_2c*epsilon*m/U_c)*sin(Phi_0) - X_2c^4*epsilon^4*m^4*cos(X_2c*epsilon*m/U_c)*sin(Phi_0) + 2*U_c^2*V_c*X_2c*epsilon^3*m^3*cos(X_2c*epsilon*m/U_c)*cos(Phi_0) - 2*U_c^2*V_c*X_2c*epsilon^3*m^3*sin(X_2c*epsilon*m/U_c)*sin(Phi_0) + 4*U_c^3*V_c*epsilon^2*m^2*cos(Phi_0)*sin(X_2c*epsilon*m/U_c) - 6*U_c^2*X_2c^2*epsilon^2*m^2*cos(Phi_0)*sin(X_2c*epsilon*m/U_c) + 4*U_c^3*V_c*epsilon^2*m^2*cos(X_2c*epsilon*m/U_c)*sin(Phi_0) - 6*U_c^2*X_2c^2*epsilon^2*m^2*cos(X_2c*epsilon*m/U_c)*sin(Phi_0) + 4*U_c^3*X_2c*epsilon*m*cos(X_2c*epsilon*m/U_c)*cos(Phi_0) - 4*U_c^3*X_2c*epsilon*m*sin(X_2c*epsilon*m/U_c)*sin(Phi_0) - 8*U_c^4*cos(Phi_0)*sin(X_2c*epsilon*m/U_c) - 8*U_c^4*cos(X_2c*epsilon*m/U_c)*sin(Phi_0))*U_c/((U_c*V_c*epsilon^2*m^2 - X_2c^2*epsilon^2*m^2 - 2*U_c^2)*(X_2c^2*epsilon^2*m^2 + 4*U_c^2)),\n",
       " -(U_c^2*V_c^2*X_2c^2*epsilon^5*m^5*cos(Phi_0)*sin(X_2c*epsilon*m/U_c) - 2*U_c*V_c*X_2c^4*epsilon^5*m^5*cos(Phi_0)*sin(X_2c*epsilon*m/U_c) + X_2c^6*epsilon^5*m^5*cos(Phi_0)*sin(X_2c*epsilon*m/U_c) + U_c^2*V_c^2*X_2c^2*epsilon^5*m^5*cos(X_2c*epsilon*m/U_c)*sin(Phi_0) - 2*U_c*V_c*X_2c^4*epsilon^5*m^5*cos(X_2c*epsilon*m/U_c)*sin(Phi_0) + X_2c^6*epsilon^5*m^5*cos(X_2c*epsilon*m/U_c)*sin(Phi_0) + 4*U_c^4*V_c^2*epsilon^3*m^3*cos(Phi_0)*sin(X_2c*epsilon*m/U_c) - 10*U_c^3*V_c*X_2c^2*epsilon^3*m^3*cos(Phi_0)*sin(X_2c*epsilon*m/U_c) + 6*U_c^2*X_2c^4*epsilon^3*m^3*cos(Phi_0)*sin(X_2c*epsilon*m/U_c) + 4*U_c^4*V_c^2*epsilon^3*m^3*cos(X_2c*epsilon*m/U_c)*sin(Phi_0) - 10*U_c^3*V_c*X_2c^2*epsilon^3*m^3*cos(X_2c*epsilon*m/U_c)*sin(Phi_0) + 6*U_c^2*X_2c^4*epsilon^3*m^3*cos(X_2c*epsilon*m/U_c)*sin(Phi_0) + 4*U_c^4*V_c*X_2c*epsilon^2*m^2*cos(X_2c*epsilon*m/U_c)*cos(Phi_0) - 4*U_c^4*V_c*X_2c*epsilon^2*m^2*sin(X_2c*epsilon*m/U_c)*sin(Phi_0) - 8*U_c^5*V_c*epsilon*m*cos(Phi_0)*sin(X_2c*epsilon*m/U_c) + 8*U_c^4*X_2c^2*epsilon*m*cos(Phi_0)*sin(X_2c*epsilon*m/U_c) - 8*U_c^5*V_c*epsilon*m*cos(X_2c*epsilon*m/U_c)*sin(Phi_0) + 8*U_c^4*X_2c^2*epsilon*m*cos(X_2c*epsilon*m/U_c)*sin(Phi_0) + 8*U_c^5*X_2c*cos(X_2c*epsilon*m/U_c)*cos(Phi_0) - 8*U_c^5*X_2c*sin(X_2c*epsilon*m/U_c)*sin(Phi_0))/((U_c*V_c*epsilon^2*m^2 - X_2c^2*epsilon^2*m^2 - 2*U_c^2)*(X_2c^2*epsilon^2*m^2 + 4*U_c^2)*U_c*epsilon*m),\n",
       " 0,\n",
       " (U_c*V_c*X_2c^3*epsilon^5*m^5*cos(Phi_0)*sin(X_2c*epsilon*m/U_c) - X_2c^5*epsilon^5*m^5*cos(Phi_0)*sin(X_2c*epsilon*m/U_c) + U_c*V_c*X_2c^3*epsilon^5*m^5*cos(X_2c*epsilon*m/U_c)*sin(Phi_0) - X_2c^5*epsilon^5*m^5*cos(X_2c*epsilon*m/U_c)*sin(Phi_0) + U_c^2*V_c*X_2c^2*epsilon^4*m^4*cos(X_2c*epsilon*m/U_c)*cos(Phi_0) - U_c^2*V_c*X_2c^2*epsilon^4*m^4*sin(X_2c*epsilon*m/U_c)*sin(Phi_0) + 4*U_c^3*V_c*X_2c*epsilon^3*m^3*cos(Phi_0)*sin(X_2c*epsilon*m/U_c) - 6*U_c^2*X_2c^3*epsilon^3*m^3*cos(Phi_0)*sin(X_2c*epsilon*m/U_c) + 4*U_c^3*V_c*X_2c*epsilon^3*m^3*cos(X_2c*epsilon*m/U_c)*sin(Phi_0) - 6*U_c^2*X_2c^3*epsilon^3*m^3*cos(X_2c*epsilon*m/U_c)*sin(Phi_0) - 4*U_c^4*V_c*epsilon^2*m^2*cos(X_2c*epsilon*m/U_c)*cos(Phi_0) + 2*U_c^3*X_2c^2*epsilon^2*m^2*cos(X_2c*epsilon*m/U_c)*cos(Phi_0) + 4*U_c^4*V_c*epsilon^2*m^2*sin(X_2c*epsilon*m/U_c)*sin(Phi_0) - 2*U_c^3*X_2c^2*epsilon^2*m^2*sin(X_2c*epsilon*m/U_c)*sin(Phi_0) - 8*U_c^4*X_2c*epsilon*m*cos(Phi_0)*sin(X_2c*epsilon*m/U_c) - 8*U_c^4*X_2c*epsilon*m*cos(X_2c*epsilon*m/U_c)*sin(Phi_0) - 8*U_c^5*cos(X_2c*epsilon*m/U_c)*cos(Phi_0) + 8*U_c^5*sin(X_2c*epsilon*m/U_c)*sin(Phi_0))/((U_c*V_c*epsilon^2*m^2 - X_2c^2*epsilon^2*m^2 - 2*U_c^2)*(X_2c^2*epsilon^2*m^2 + 4*U_c^2)*epsilon*m)]"
      ]
     },
     "execution_count": 783,
     "metadata": {},
     "output_type": "execute_result"
    }
   ],
   "source": [
    "K2_eq_UVX = sph_to_scaled_FNC(K2_eq)\n",
    "K2_eq_UVX[:]"
   ]
  },
  {
   "cell_type": "code",
   "execution_count": 784,
   "id": "cba359a8",
   "metadata": {},
   "outputs": [
    {
     "data": {
      "text/html": [
       "<html>\\(\\displaystyle \\left[0, \\frac{X_{\\mathit{2c}} \\cos\\left(\\Phi_{0}\\right)}{m}, 0, \\frac{U_{c} \\cos\\left(\\Phi_{0}\\right)}{m}\\right]\\)</html>"
      ],
      "text/latex": [
       "$\\displaystyle \\left[0, \\frac{X_{\\mathit{2c}} \\cos\\left(\\Phi_{0}\\right)}{m}, 0, \\frac{U_{c} \\cos\\left(\\Phi_{0}\\right)}{m}\\right]$"
      ],
      "text/plain": [
       "[0, X_2c*cos(Phi_0)/m, 0, U_c*cos(Phi_0)/m]"
      ]
     },
     "execution_count": 784,
     "metadata": {},
     "output_type": "execute_result"
    }
   ],
   "source": [
    "K2_eq_UVX_eps = K2_eq_UVX*eps\n",
    "K2_eq_UVX_CL = K2_eq_UVX_eps.copy()\n",
    "K2_eq_UVX_CL.apply_map(lambda tmp: tmp.subs({eps:0}))\n",
    "K2_eq_UVX_CL[:]"
   ]
  },
  {
   "cell_type": "code",
   "execution_count": 786,
   "id": "7ae7e1a7",
   "metadata": {},
   "outputs": [
    {
     "data": {
      "text/html": [
       "<html>\\(\\displaystyle \\left[-X_{\\mathit{2c}} \\epsilon m \\sin\\left(\\Phi_{0}\\right) + U_{c} \\cos\\left(\\Phi_{0}\\right), -V_{c} \\cos\\left(\\Phi_{0}\\right), 0, -V_{c} \\epsilon m \\sin\\left(\\Phi_{0}\\right)\\right]\\)</html>"
      ],
      "text/latex": [
       "$\\displaystyle \\left[-X_{\\mathit{2c}} \\epsilon m \\sin\\left(\\Phi_{0}\\right) + U_{c} \\cos\\left(\\Phi_{0}\\right), -V_{c} \\cos\\left(\\Phi_{0}\\right), 0, -V_{c} \\epsilon m \\sin\\left(\\Phi_{0}\\right)\\right]$"
      ],
      "text/plain": [
       "[-X_2c*epsilon*m*sin(Phi_0) + U_c*cos(Phi_0),\n",
       " -V_c*cos(Phi_0),\n",
       " 0,\n",
       " -V_c*epsilon*m*sin(Phi_0)]"
      ]
     },
     "execution_count": 786,
     "metadata": {},
     "output_type": "execute_result"
    }
   ],
   "source": [
    "J3K1_eq_UVX = J3_eq_UVX*sin(ph_init) + K1_eq_UVX\n",
    "J3K1_eq_UVX_simp = eps_exp_vec(J3K1_eq_UVX)\n",
    "J3K1_eq_UVX_simp[:]"
   ]
  },
  {
   "cell_type": "code",
   "execution_count": 787,
   "id": "8ccae55f",
   "metadata": {},
   "outputs": [
    {
     "data": {
      "text/html": [
       "<html>\\(\\displaystyle \\left[U_{c} \\cos\\left(\\Phi_{0}\\right), -V_{c} \\cos\\left(\\Phi_{0}\\right), 0, 0\\right]\\)</html>"
      ],
      "text/latex": [
       "$\\displaystyle \\left[U_{c} \\cos\\left(\\Phi_{0}\\right), -V_{c} \\cos\\left(\\Phi_{0}\\right), 0, 0\\right]$"
      ],
      "text/plain": [
       "[U_c*cos(Phi_0), -V_c*cos(Phi_0), 0, 0]"
      ]
     },
     "execution_count": 787,
     "metadata": {},
     "output_type": "execute_result"
    }
   ],
   "source": [
    "J3K1_eq_UVX_CL = J3K1_eq_UVX_simp.copy()\n",
    "J3K1_eq_UVX_CL.apply_map(lambda tmp: tmp.subs({eps:0}))\n",
    "J3K1_eq_UVX_CL[:]"
   ]
  },
  {
   "cell_type": "code",
   "execution_count": 788,
   "id": "a72d232e",
   "metadata": {},
   "outputs": [
    {
     "data": {
      "text/html": [
       "<html>\\(\\displaystyle \\left[-X_{\\mathit{2c}} \\epsilon m \\cos\\left(\\Phi_{0}\\right) - U_{c} \\sin\\left(\\Phi_{0}\\right), V_{c} \\sin\\left(\\Phi_{0}\\right), 0, -V_{c} \\epsilon m \\cos\\left(\\Phi_{0}\\right)\\right]\\)</html>"
      ],
      "text/latex": [
       "$\\displaystyle \\left[-X_{\\mathit{2c}} \\epsilon m \\cos\\left(\\Phi_{0}\\right) - U_{c} \\sin\\left(\\Phi_{0}\\right), V_{c} \\sin\\left(\\Phi_{0}\\right), 0, -V_{c} \\epsilon m \\cos\\left(\\Phi_{0}\\right)\\right]$"
      ],
      "text/plain": [
       "[-X_2c*epsilon*m*cos(Phi_0) - U_c*sin(Phi_0),\n",
       " V_c*sin(Phi_0),\n",
       " 0,\n",
       " -V_c*epsilon*m*cos(Phi_0)]"
      ]
     },
     "execution_count": 788,
     "metadata": {},
     "output_type": "execute_result"
    }
   ],
   "source": [
    "J3K2_eq_UVX = J3_eq_UVX*cos(ph_init) - K2_eq_UVX\n",
    "J3K2_eq_UVX_simp = eps_exp_vec(J3K2_eq_UVX)\n",
    "J3K2_eq_UVX_simp[:]"
   ]
  },
  {
   "cell_type": "code",
   "execution_count": 789,
   "id": "e73b2140",
   "metadata": {},
   "outputs": [
    {
     "data": {
      "text/html": [
       "<html>\\(\\displaystyle \\left[-U_{c} \\sin\\left(\\Phi_{0}\\right), V_{c} \\sin\\left(\\Phi_{0}\\right), 0, 0\\right]\\)</html>"
      ],
      "text/latex": [
       "$\\displaystyle \\left[-U_{c} \\sin\\left(\\Phi_{0}\\right), V_{c} \\sin\\left(\\Phi_{0}\\right), 0, 0\\right]$"
      ],
      "text/plain": [
       "[-U_c*sin(Phi_0), V_c*sin(Phi_0), 0, 0]"
      ]
     },
     "execution_count": 789,
     "metadata": {},
     "output_type": "execute_result"
    }
   ],
   "source": [
    "J3K2_eq_UVX_CL = J3K2_eq_UVX_simp.copy()\n",
    "J3K2_eq_UVX_CL.apply_map(lambda tmp: tmp.subs({eps:0}))\n",
    "J3K2_eq_UVX_CL[:]"
   ]
  },
  {
   "cell_type": "code",
   "execution_count": 791,
   "id": "7d810635",
   "metadata": {},
   "outputs": [
    {
     "data": {
      "text/html": [
       "<html>\\(\\displaystyle \\left[-X_{\\mathit{2c}} \\epsilon m, 0, 0, -V_{c} \\epsilon m\\right]\\)</html>"
      ],
      "text/latex": [
       "$\\displaystyle \\left[-X_{\\mathit{2c}} \\epsilon m, 0, 0, -V_{c} \\epsilon m\\right]$"
      ],
      "text/plain": [
       "[-X_2c*epsilon*m, 0, 0, -V_c*epsilon*m]"
      ]
     },
     "execution_count": 791,
     "metadata": {},
     "output_type": "execute_result"
    }
   ],
   "source": [
    "J3K12_eq_UVX = J3K1_eq_UVX*sin(ph_init) + J3K2_eq_UVX*cos(ph_init)\n",
    "J3K12_eq_UVX_simp = eps_exp_vec(J3K12_eq_UVX)\n",
    "J3K12_eq_UVX_simp[:]"
   ]
  },
  {
   "cell_type": "code",
   "execution_count": 792,
   "id": "49ae41fa",
   "metadata": {},
   "outputs": [
    {
     "data": {
      "text/html": [
       "<html>\\(\\displaystyle \\left[-X_{\\mathit{2c}} m, 0, 0, -V_{c} m\\right]\\)</html>"
      ],
      "text/latex": [
       "$\\displaystyle \\left[-X_{\\mathit{2c}} m, 0, 0, -V_{c} m\\right]$"
      ],
      "text/plain": [
       "[-X_2c*m, 0, 0, -V_c*m]"
      ]
     },
     "execution_count": 792,
     "metadata": {},
     "output_type": "execute_result"
    }
   ],
   "source": [
    "J3K12_eq_UVX_eps = J3K12_eq_UVX_simp/eps\n",
    "J3K12_eq_UVX_CL = J3K12_eq_UVX_eps.copy()\n",
    "J3K12_eq_UVX_CL.apply_map(lambda tmp: tmp.subs({eps:0}))\n",
    "J3K12_eq_UVX_CL[:]"
   ]
  },
  {
   "cell_type": "code",
   "execution_count": 795,
   "id": "14c79f52",
   "metadata": {},
   "outputs": [
    {
     "data": {
      "text/html": [
       "<html>\\(\\displaystyle \\left(\\left[0, \\frac{1}{m}, 0, 0\\right], \\left[0, 0, 0, -\\sin\\left(\\Phi_{0}\\right)\\right], \\left[m, 0, 0, 0\\right]\\right)\\)</html>"
      ],
      "text/latex": [
       "$\\displaystyle \\left(\\left[0, \\frac{1}{m}, 0, 0\\right], \\left[0, 0, 0, -\\sin\\left(\\Phi_{0}\\right)\\right], \\left[m, 0, 0, 0\\right]\\right)$"
      ],
      "text/plain": [
       "([0, 1/m, 0, 0], [0, 0, 0, -sin(Phi_0)], [m, 0, 0, 0])"
      ]
     },
     "execution_count": 795,
     "metadata": {},
     "output_type": "execute_result"
    }
   ],
   "source": [
    "T0_eq_UVX_CL[:], T01_eq_UVX_CL[:], T012_eq_UVX_CL[:]"
   ]
  },
  {
   "cell_type": "code",
   "execution_count": 796,
   "id": "4f815223",
   "metadata": {},
   "outputs": [
    {
     "data": {
      "text/html": [
       "<html>\\(\\displaystyle \\left(\\left[0, \\frac{X_{\\mathit{2c}}}{m}, 0, \\frac{U_{c}}{m}\\right], \\left[U_{c} \\cos\\left(\\Phi_{0}\\right), -V_{c} \\cos\\left(\\Phi_{0}\\right), 0, 0\\right], \\left[-X_{\\mathit{2c}} m, 0, 0, -V_{c} m\\right]\\right)\\)</html>"
      ],
      "text/latex": [
       "$\\displaystyle \\left(\\left[0, \\frac{X_{\\mathit{2c}}}{m}, 0, \\frac{U_{c}}{m}\\right], \\left[U_{c} \\cos\\left(\\Phi_{0}\\right), -V_{c} \\cos\\left(\\Phi_{0}\\right), 0, 0\\right], \\left[-X_{\\mathit{2c}} m, 0, 0, -V_{c} m\\right]\\right)$"
      ],
      "text/plain": [
       "([0, X_2c/m, 0, U_c/m],\n",
       " [U_c*cos(Phi_0), -V_c*cos(Phi_0), 0, 0],\n",
       " [-X_2c*m, 0, 0, -V_c*m])"
      ]
     },
     "execution_count": 796,
     "metadata": {},
     "output_type": "execute_result"
    }
   ],
   "source": [
    "J3_eq_UVX_CL[:], J3K1_eq_UVX_CL[:], J3K12_eq_UVX_CL[:]"
   ]
  },
  {
   "cell_type": "markdown",
   "id": "51670b41",
   "metadata": {},
   "source": [
    "\n",
    "\n",
    "Note that $\\theta$ (if not fixed) transforms analogously to $\\phi$, i.e. $\\theta = \\Theta_0 + \\epsilon e^{\\theta}_1 [X^1] + \\frac{\\epsilon^2}{2} 2 e^{\\theta}_1 [\\partial_{\\epsilon}X^1] + \\cdots$ (essentially using the perturbative expression $Y^{a'} = Y_0^{a'} + \\epsilon [\\xi^{a'}] + \\frac{\\epsilon^2}{2} [D_{\\epsilon} \\xi^{a'}] + \\cdots$). The $\\theta$ expression can be further rewritten as $\\theta = \\Theta_0 + \\epsilon e^{\\theta}_1 ( [X^1] + \\epsilon [\\partial_{\\epsilon} X^1] + \\cdots ) \\approx \\Theta_0 + \\frac{\\epsilon m}{s} X^1 \\approx \\Theta_0 + \\frac{\\epsilon m X^2}{U} + \\frac{\\epsilon^2 C_U^2}{U^2} + \\cdots$ To make this accurate up to $\\mathcal{O} (\\epsilon^3)$, we can set $C_U = 0$.\n",
    "\n",
    "Thus, we have the following relation between the coordinates $( t, r, \\phi )$ and $( U, V, X^2 )$:\n",
    "$\n",
    "t (X^A) = \\frac{U}{m} + \\frac{\\epsilon^2}{2} m V + \\mathcal{O} (\\epsilon^3), \\\\\n",
    "r (X^A) = \\frac{U}{m} - \\frac{\\epsilon^2}{2} m \\big ( V - \\frac{(X^2)^2}{U} \\big ) + \\mathcal{O} (\\epsilon^3), \\\\\n",
    "\\theta (X^A) = \\Theta_0 + \\epsilon m \\frac{X^1}{U} + \\mathcal{O} (\\epsilon^3), \\\\\n",
    "\\phi (X^A) = \\Phi_0 + \\epsilon m \\frac{X^2}{U} + \\mathcal{O} (\\epsilon^3).\n",
    "$\n",
    "\n",
    "At this order, we can quickly compute the inverse transformation as well, resulting in\n",
    "$\n",
    "U (x^{a'}) = \\frac{2 m (t + r)}{4 + ( \\phi - \\Phi_0 )^2} + \\cdots, \\\\\n",
    "V (x^{a'}) = \\frac{2}{\\epsilon^2 m} \\bigg ( t - 2 \\frac{t + r}{4 + (\\phi - \\Phi_0)^2} \\bigg ) + \\cdots, \\\\\n",
    "X^1 (x^{a'}) = \\frac{2 (t + r) (\\theta - \\Theta_0)}{\\epsilon ( 4 + (\\phi - \\Phi_0)^2 )} + \\cdots, \\\\\n",
    "X^2 (x^{a'}) = \\frac{2}{\\epsilon} \\frac{( t + r ) ( \\phi - \\Phi_0 )}{4 + ( \\phi - \\Phi_0 )^2} + \\cdots\n",
    "$\n",
    "\n",
    "Below, we compute the Jacobian of the full transformation to understand how Killing vector fields transform."
   ]
  },
  {
   "cell_type": "code",
   "execution_count": 426,
   "id": "ccdbde4b",
   "metadata": {},
   "outputs": [
    {
     "data": {
      "text/html": [
       "<html>\\(\\displaystyle \\left(\\frac{2 \\, m {\\left(r + t\\right)}}{{\\left(\\Phi_{0} - {\\phi}\\right)}^{2} + 4}, \\frac{2 \\, {\\left(t - \\frac{2 \\, {\\left(r + t\\right)}}{{\\left(\\Phi_{0} - {\\phi}\\right)}^{2} + 4}\\right)}}{\\epsilon^{2} m}, -\\frac{2 \\, {\\left(\\Theta_{0} - {\\theta}\\right)} {\\left(r + t\\right)}}{{\\left({\\left(\\Phi_{0} - {\\phi}\\right)}^{2} + 4\\right)} \\epsilon}, -\\frac{2 \\, {\\left(\\Phi_{0} - {\\phi}\\right)} {\\left(r + t\\right)}}{{\\left({\\left(\\Phi_{0} - {\\phi}\\right)}^{2} + 4\\right)} \\epsilon}\\right)\\)</html>"
      ],
      "text/latex": [
       "$\\displaystyle \\left(\\frac{2 \\, m {\\left(r + t\\right)}}{{\\left(\\Phi_{0} - {\\phi}\\right)}^{2} + 4}, \\frac{2 \\, {\\left(t - \\frac{2 \\, {\\left(r + t\\right)}}{{\\left(\\Phi_{0} - {\\phi}\\right)}^{2} + 4}\\right)}}{\\epsilon^{2} m}, -\\frac{2 \\, {\\left(\\Theta_{0} - {\\theta}\\right)} {\\left(r + t\\right)}}{{\\left({\\left(\\Phi_{0} - {\\phi}\\right)}^{2} + 4\\right)} \\epsilon}, -\\frac{2 \\, {\\left(\\Phi_{0} - {\\phi}\\right)} {\\left(r + t\\right)}}{{\\left({\\left(\\Phi_{0} - {\\phi}\\right)}^{2} + 4\\right)} \\epsilon}\\right)$"
      ],
      "text/plain": [
       "(2*m*(r + t)/((Phi_0 - ph)^2 + 4),\n",
       " 2*(t - 2*(r + t)/((Phi_0 - ph)^2 + 4))/(epsilon^2*m),\n",
       " -2*(Theta_0 - th)*(r + t)/(((Phi_0 - ph)^2 + 4)*epsilon),\n",
       " -2*(Phi_0 - ph)*(r + t)/(((Phi_0 - ph)^2 + 4)*epsilon))"
      ]
     },
     "execution_count": 426,
     "metadata": {},
     "output_type": "execute_result"
    }
   ],
   "source": [
    "U_trph = 2*m*(t + r)/(4 + (ph - ph_init)^2)\n",
    "V_trph = 2*(t - 2*(t + r)/(4 + (ph - ph_init)^2))/(eps^2*m)\n",
    "X1_trph = 2*(t + r)*(th - th_init)/(eps*(4 + (ph - ph_init)^2))\n",
    "X2_trph = 2*(t + r)*(ph - ph_init)/(eps*(4 + (ph - ph_init)^2))\n",
    "U_trph, V_trph, X1_trph, X2_trph"
   ]
  },
  {
   "cell_type": "code",
   "execution_count": 427,
   "id": "8f2af7b0",
   "metadata": {},
   "outputs": [
    {
     "data": {
      "text/html": [
       "<html>\\(\\displaystyle \\left(\\begin{array}{rrrr}\n",
       "\\frac{2 \\, m}{{\\left(\\Phi_{0} - {\\phi}\\right)}^{2} + 4} & \\frac{2 \\, m}{{\\left(\\Phi_{0} - {\\phi}\\right)}^{2} + 4} & 0 & \\frac{4 \\, {\\left(\\Phi_{0} - {\\phi}\\right)} m {\\left(r + t\\right)}}{{\\left({\\left(\\Phi_{0} - {\\phi}\\right)}^{2} + 4\\right)}^{2}} \\\\\n",
       "-\\frac{2 \\, {\\left(\\frac{2}{{\\left(\\Phi_{0} - {\\phi}\\right)}^{2} + 4} - 1\\right)}}{\\epsilon^{2} m} & -\\frac{4}{{\\left({\\left(\\Phi_{0} - {\\phi}\\right)}^{2} + 4\\right)} \\epsilon^{2} m} & 0 & -\\frac{8 \\, {\\left(\\Phi_{0} - {\\phi}\\right)} {\\left(r + t\\right)}}{{\\left({\\left(\\Phi_{0} - {\\phi}\\right)}^{2} + 4\\right)}^{2} \\epsilon^{2} m} \\\\\n",
       "-\\frac{2 \\, {\\left(\\Theta_{0} - {\\theta}\\right)}}{{\\left({\\left(\\Phi_{0} - {\\phi}\\right)}^{2} + 4\\right)} \\epsilon} & -\\frac{2 \\, {\\left(\\Theta_{0} - {\\theta}\\right)}}{{\\left({\\left(\\Phi_{0} - {\\phi}\\right)}^{2} + 4\\right)} \\epsilon} & \\frac{2 \\, {\\left(r + t\\right)}}{{\\left({\\left(\\Phi_{0} - {\\phi}\\right)}^{2} + 4\\right)} \\epsilon} & -\\frac{4 \\, {\\left(\\Phi_{0} - {\\phi}\\right)} {\\left(\\Theta_{0} - {\\theta}\\right)} {\\left(r + t\\right)}}{{\\left({\\left(\\Phi_{0} - {\\phi}\\right)}^{2} + 4\\right)}^{2} \\epsilon} \\\\\n",
       "-\\frac{2 \\, {\\left(\\Phi_{0} - {\\phi}\\right)}}{{\\left({\\left(\\Phi_{0} - {\\phi}\\right)}^{2} + 4\\right)} \\epsilon} & -\\frac{2 \\, {\\left(\\Phi_{0} - {\\phi}\\right)}}{{\\left({\\left(\\Phi_{0} - {\\phi}\\right)}^{2} + 4\\right)} \\epsilon} & 0 & -\\frac{4 \\, {\\left(\\Phi_{0} - {\\phi}\\right)}^{2} {\\left(r + t\\right)}}{{\\left({\\left(\\Phi_{0} - {\\phi}\\right)}^{2} + 4\\right)}^{2} \\epsilon} + \\frac{2 \\, {\\left(r + t\\right)}}{{\\left({\\left(\\Phi_{0} - {\\phi}\\right)}^{2} + 4\\right)} \\epsilon}\n",
       "\\end{array}\\right)\\)</html>"
      ],
      "text/latex": [
       "$\\displaystyle \\left(\\begin{array}{rrrr}\n",
       "\\frac{2 \\, m}{{\\left(\\Phi_{0} - {\\phi}\\right)}^{2} + 4} & \\frac{2 \\, m}{{\\left(\\Phi_{0} - {\\phi}\\right)}^{2} + 4} & 0 & \\frac{4 \\, {\\left(\\Phi_{0} - {\\phi}\\right)} m {\\left(r + t\\right)}}{{\\left({\\left(\\Phi_{0} - {\\phi}\\right)}^{2} + 4\\right)}^{2}} \\\\\n",
       "-\\frac{2 \\, {\\left(\\frac{2}{{\\left(\\Phi_{0} - {\\phi}\\right)}^{2} + 4} - 1\\right)}}{\\epsilon^{2} m} & -\\frac{4}{{\\left({\\left(\\Phi_{0} - {\\phi}\\right)}^{2} + 4\\right)} \\epsilon^{2} m} & 0 & -\\frac{8 \\, {\\left(\\Phi_{0} - {\\phi}\\right)} {\\left(r + t\\right)}}{{\\left({\\left(\\Phi_{0} - {\\phi}\\right)}^{2} + 4\\right)}^{2} \\epsilon^{2} m} \\\\\n",
       "-\\frac{2 \\, {\\left(\\Theta_{0} - {\\theta}\\right)}}{{\\left({\\left(\\Phi_{0} - {\\phi}\\right)}^{2} + 4\\right)} \\epsilon} & -\\frac{2 \\, {\\left(\\Theta_{0} - {\\theta}\\right)}}{{\\left({\\left(\\Phi_{0} - {\\phi}\\right)}^{2} + 4\\right)} \\epsilon} & \\frac{2 \\, {\\left(r + t\\right)}}{{\\left({\\left(\\Phi_{0} - {\\phi}\\right)}^{2} + 4\\right)} \\epsilon} & -\\frac{4 \\, {\\left(\\Phi_{0} - {\\phi}\\right)} {\\left(\\Theta_{0} - {\\theta}\\right)} {\\left(r + t\\right)}}{{\\left({\\left(\\Phi_{0} - {\\phi}\\right)}^{2} + 4\\right)}^{2} \\epsilon} \\\\\n",
       "-\\frac{2 \\, {\\left(\\Phi_{0} - {\\phi}\\right)}}{{\\left({\\left(\\Phi_{0} - {\\phi}\\right)}^{2} + 4\\right)} \\epsilon} & -\\frac{2 \\, {\\left(\\Phi_{0} - {\\phi}\\right)}}{{\\left({\\left(\\Phi_{0} - {\\phi}\\right)}^{2} + 4\\right)} \\epsilon} & 0 & -\\frac{4 \\, {\\left(\\Phi_{0} - {\\phi}\\right)}^{2} {\\left(r + t\\right)}}{{\\left({\\left(\\Phi_{0} - {\\phi}\\right)}^{2} + 4\\right)}^{2} \\epsilon} + \\frac{2 \\, {\\left(r + t\\right)}}{{\\left({\\left(\\Phi_{0} - {\\phi}\\right)}^{2} + 4\\right)} \\epsilon}\n",
       "\\end{array}\\right)$"
      ],
      "text/plain": [
       "[                                                                             2*m/((Phi_0 - ph)^2 + 4)                                                                              2*m/((Phi_0 - ph)^2 + 4)                                                                                                     0                                                       4*(Phi_0 - ph)*m*(r + t)/((Phi_0 - ph)^2 + 4)^2]\n",
       "[                                                        -2*(2/((Phi_0 - ph)^2 + 4) - 1)/(epsilon^2*m)                                                                 -4/(((Phi_0 - ph)^2 + 4)*epsilon^2*m)                                                                                                     0                                          -8*(Phi_0 - ph)*(r + t)/(((Phi_0 - ph)^2 + 4)^2*epsilon^2*m)]\n",
       "[                                                     -2*(Theta_0 - th)/(((Phi_0 - ph)^2 + 4)*epsilon)                                                      -2*(Theta_0 - th)/(((Phi_0 - ph)^2 + 4)*epsilon)                                                              2*(r + t)/(((Phi_0 - ph)^2 + 4)*epsilon)                               -4*(Phi_0 - ph)*(Theta_0 - th)*(r + t)/(((Phi_0 - ph)^2 + 4)^2*epsilon)]\n",
       "[                                                       -2*(Phi_0 - ph)/(((Phi_0 - ph)^2 + 4)*epsilon)                                                        -2*(Phi_0 - ph)/(((Phi_0 - ph)^2 + 4)*epsilon)                                                                                                     0 -4*(Phi_0 - ph)^2*(r + t)/(((Phi_0 - ph)^2 + 4)^2*epsilon) + 2*(r + t)/(((Phi_0 - ph)^2 + 4)*epsilon)]"
      ]
     },
     "execution_count": 427,
     "metadata": {},
     "output_type": "execute_result"
    }
   ],
   "source": [
    "jacOeps2 = jacobian( [U_trph,V_trph, X1_trph, X2_trph], [t,r,th,ph])\n",
    "jacOeps2[:]"
   ]
  },
  {
   "cell_type": "code",
   "execution_count": 430,
   "id": "f32ad2e7",
   "metadata": {},
   "outputs": [
    {
     "data": {
      "text/html": [
       "<html>\\(\\displaystyle \\left(U_{c}, V_{c}, X_{\\mathit{1c}}, X_{\\mathit{2c}}\\right)\\)</html>"
      ],
      "text/latex": [
       "$\\displaystyle \\left(U_{c}, V_{c}, X_{\\mathit{1c}}, X_{\\mathit{2c}}\\right)$"
      ],
      "text/plain": [
       "(U_c, V_c, X_1c, X_2c)"
      ]
     },
     "execution_count": 430,
     "metadata": {},
     "output_type": "execute_result"
    }
   ],
   "source": []
  },
  {
   "cell_type": "code",
   "execution_count": 431,
   "id": "f39efa99",
   "metadata": {},
   "outputs": [
    {
     "data": {
      "text/html": [
       "<html>\\(\\displaystyle \\left(\\frac{1}{2} \\, V_{c} \\epsilon^{2} m + \\frac{U_{c}}{m}, -\\frac{1}{2} \\, {\\left(V_{c} - \\frac{X_{\\mathit{2c}}^{2}}{U_{c}}\\right)} \\epsilon^{2} m + \\frac{U_{c}}{m}, \\frac{X_{\\mathit{1c}} \\epsilon m}{U_{c}} + \\Theta_{0}, \\frac{X_{\\mathit{2c}} \\epsilon m}{U_{c}} + \\Phi_{0}\\right)\\)</html>"
      ],
      "text/latex": [
       "$\\displaystyle \\left(\\frac{1}{2} \\, V_{c} \\epsilon^{2} m + \\frac{U_{c}}{m}, -\\frac{1}{2} \\, {\\left(V_{c} - \\frac{X_{\\mathit{2c}}^{2}}{U_{c}}\\right)} \\epsilon^{2} m + \\frac{U_{c}}{m}, \\frac{X_{\\mathit{1c}} \\epsilon m}{U_{c}} + \\Theta_{0}, \\frac{X_{\\mathit{2c}} \\epsilon m}{U_{c}} + \\Phi_{0}\\right)$"
      ],
      "text/plain": [
       "(1/2*V_c*epsilon^2*m + U_c/m,\n",
       " -1/2*(V_c - X_2c^2/U_c)*epsilon^2*m + U_c/m,\n",
       " X_1c*epsilon*m/U_c + Theta_0,\n",
       " X_2c*epsilon*m/U_c + Phi_0)"
      ]
     },
     "execution_count": 431,
     "metadata": {},
     "output_type": "execute_result"
    }
   ],
   "source": []
  },
  {
   "cell_type": "code",
   "execution_count": null,
   "id": "07244182",
   "metadata": {},
   "outputs": [],
   "source": []
  },
  {
   "cell_type": "code",
   "execution_count": 429,
   "id": "286012df",
   "metadata": {},
   "outputs": [
    {
     "data": {
      "text/html": [
       "<html>\\(\\displaystyle \\left(\\frac{2 \\, m}{\\Phi_{0}^{2} - 2 \\, \\Phi_{0} {\\phi} + {\\phi}^{2} + 4}, -\\frac{2 \\, {\\left(\\Phi_{0}^{2} - 2 \\, \\Phi_{0} {\\phi} + {\\phi}^{2} + 2\\right)}}{2 \\, \\Phi_{0} \\epsilon^{2} m {\\phi} - \\epsilon^{2} m {\\phi}^{2} - {\\left(\\Phi_{0}^{2} + 4\\right)} \\epsilon^{2} m}, \\frac{2 \\, {\\left(\\Theta_{0} - {\\theta}\\right)}}{2 \\, \\Phi_{0} \\epsilon {\\phi} - \\epsilon {\\phi}^{2} - {\\left(\\Phi_{0}^{2} + 4\\right)} \\epsilon}, \\frac{2 \\, {\\left(\\Phi_{0} - {\\phi}\\right)}}{2 \\, \\Phi_{0} \\epsilon {\\phi} - \\epsilon {\\phi}^{2} - {\\left(\\Phi_{0}^{2} + 4\\right)} \\epsilon}\\right)\\)</html>"
      ],
      "text/latex": [
       "$\\displaystyle \\left(\\frac{2 \\, m}{\\Phi_{0}^{2} - 2 \\, \\Phi_{0} {\\phi} + {\\phi}^{2} + 4}, -\\frac{2 \\, {\\left(\\Phi_{0}^{2} - 2 \\, \\Phi_{0} {\\phi} + {\\phi}^{2} + 2\\right)}}{2 \\, \\Phi_{0} \\epsilon^{2} m {\\phi} - \\epsilon^{2} m {\\phi}^{2} - {\\left(\\Phi_{0}^{2} + 4\\right)} \\epsilon^{2} m}, \\frac{2 \\, {\\left(\\Theta_{0} - {\\theta}\\right)}}{2 \\, \\Phi_{0} \\epsilon {\\phi} - \\epsilon {\\phi}^{2} - {\\left(\\Phi_{0}^{2} + 4\\right)} \\epsilon}, \\frac{2 \\, {\\left(\\Phi_{0} - {\\phi}\\right)}}{2 \\, \\Phi_{0} \\epsilon {\\phi} - \\epsilon {\\phi}^{2} - {\\left(\\Phi_{0}^{2} + 4\\right)} \\epsilon}\\right)$"
      ],
      "text/plain": [
       "(2*m/(Phi_0^2 - 2*Phi_0*ph + ph^2 + 4),\n",
       " -2*(Phi_0^2 - 2*Phi_0*ph + ph^2 + 2)/(2*Phi_0*epsilon^2*m*ph - epsilon^2*m*ph^2 - (Phi_0^2 + 4)*epsilon^2*m),\n",
       " 2*(Theta_0 - th)/(2*Phi_0*epsilon*ph - epsilon*ph^2 - (Phi_0^2 + 4)*epsilon),\n",
       " 2*(Phi_0 - ph)/(2*Phi_0*epsilon*ph - epsilon*ph^2 - (Phi_0^2 + 4)*epsilon))"
      ]
     },
     "execution_count": 429,
     "metadata": {},
     "output_type": "execute_result"
    }
   ],
   "source": [
    "T0_U = jacOeps2[0, 0]*T0[0] + jacOeps2[0, 1]*T0[1] + jacOeps2[0, 2]*T0[2] + jacOeps2[0, 3]*T0[3]\n",
    "T0_V = jacOeps2[1, 0]*T0[0] + jacOeps2[1, 1]*T0[1] + jacOeps2[1, 2]*T0[2] + jacOeps2[1, 3]*T0[3]\n",
    "T0_X1 = jacOeps2[2, 0]*T0[0] + jacOeps2[2, 1]*T0[1] + jacOeps2[2, 2]*T0[2] + jacOeps2[2, 3]*T0[3]\n",
    "T0_X2 = jacOeps2[3, 0]*T0[0] + jacOeps2[3, 1]*T0[1] + jacOeps2[3, 2]*T0[2] + jacOeps2[3, 3]*T0[3]\n",
    "T0_U, T0_V, T0_X1, T0_X2"
   ]
  },
  {
   "cell_type": "code",
   "execution_count": 432,
   "id": "72127a93",
   "metadata": {},
   "outputs": [
    {
     "data": {
      "text/html": [
       "<html>\\(\\displaystyle \\left(\\frac{2 \\, U_{c}^{2} m}{X_{\\mathit{2c}}^{2} \\epsilon^{2} m^{2} + 4 \\, U_{c}^{2}}, \\frac{2 \\, {\\left(X_{\\mathit{2c}}^{2} \\epsilon^{2} m^{2} + 2 \\, U_{c}^{2}\\right)}}{{\\left(X_{\\mathit{2c}}^{2} \\epsilon^{2} m^{2} + 4 \\, U_{c}^{2}\\right)} \\epsilon^{2} m}, \\frac{2 \\, U_{c} X_{\\mathit{1c}} m}{X_{\\mathit{2c}}^{2} \\epsilon^{2} m^{2} + 4 \\, U_{c}^{2}}, \\frac{2 \\, U_{c} X_{\\mathit{2c}} m}{X_{\\mathit{2c}}^{2} \\epsilon^{2} m^{2} + 4 \\, U_{c}^{2}}\\right)\\)</html>"
      ],
      "text/latex": [
       "$\\displaystyle \\left(\\frac{2 \\, U_{c}^{2} m}{X_{\\mathit{2c}}^{2} \\epsilon^{2} m^{2} + 4 \\, U_{c}^{2}}, \\frac{2 \\, {\\left(X_{\\mathit{2c}}^{2} \\epsilon^{2} m^{2} + 2 \\, U_{c}^{2}\\right)}}{{\\left(X_{\\mathit{2c}}^{2} \\epsilon^{2} m^{2} + 4 \\, U_{c}^{2}\\right)} \\epsilon^{2} m}, \\frac{2 \\, U_{c} X_{\\mathit{1c}} m}{X_{\\mathit{2c}}^{2} \\epsilon^{2} m^{2} + 4 \\, U_{c}^{2}}, \\frac{2 \\, U_{c} X_{\\mathit{2c}} m}{X_{\\mathit{2c}}^{2} \\epsilon^{2} m^{2} + 4 \\, U_{c}^{2}}\\right)$"
      ],
      "text/plain": [
       "(2*U_c^2*m/(X_2c^2*epsilon^2*m^2 + 4*U_c^2),\n",
       " 2*(X_2c^2*epsilon^2*m^2 + 2*U_c^2)/((X_2c^2*epsilon^2*m^2 + 4*U_c^2)*epsilon^2*m),\n",
       " 2*U_c*X_1c*m/(X_2c^2*epsilon^2*m^2 + 4*U_c^2),\n",
       " 2*U_c*X_2c*m/(X_2c^2*epsilon^2*m^2 + 4*U_c^2))"
      ]
     },
     "execution_count": 432,
     "metadata": {},
     "output_type": "execute_result"
    }
   ],
   "source": [
    "T0_U_simp = T0_U.expr().subs({ph:ph_UVX}).simplify_full().factor()\n",
    "T0_V_simp = T0_V.expr().subs({ph:ph_UVX}).simplify_full().factor()\n",
    "T0_X1_simp = T0_X1.expr().subs({th:th_UVX}).subs({ph:ph_UVX}).simplify_full().factor()\n",
    "T0_X2_simp = T0_X2.expr().subs({ph:ph_UVX}).simplify_full().factor()\n",
    "T0_U_simp, T0_V_simp, T0_X1_simp, T0_X2_simp"
   ]
  },
  {
   "cell_type": "code",
   "execution_count": 433,
   "id": "334bf8e0",
   "metadata": {},
   "outputs": [
    {
     "data": {
      "text/html": [
       "<html>\\(\\displaystyle \\left[\\frac{2 \\, U_{c}^{2} m}{X_{\\mathit{2c}}^{2} \\epsilon^{2} m^{2} + 4 \\, U_{c}^{2}}, \\frac{2 \\, {\\left(X_{\\mathit{2c}}^{2} \\epsilon^{2} m^{2} + 2 \\, U_{c}^{2}\\right)}}{{\\left(X_{\\mathit{2c}}^{2} \\epsilon^{2} m^{2} + 4 \\, U_{c}^{2}\\right)} \\epsilon^{2} m}, \\frac{2 \\, U_{c} X_{\\mathit{1c}} m}{X_{\\mathit{2c}}^{2} \\epsilon^{2} m^{2} + 4 \\, U_{c}^{2}}, \\frac{2 \\, U_{c} X_{\\mathit{2c}} m}{X_{\\mathit{2c}}^{2} \\epsilon^{2} m^{2} + 4 \\, U_{c}^{2}}\\right]\\)</html>"
      ],
      "text/latex": [
       "$\\displaystyle \\left[\\frac{2 \\, U_{c}^{2} m}{X_{\\mathit{2c}}^{2} \\epsilon^{2} m^{2} + 4 \\, U_{c}^{2}}, \\frac{2 \\, {\\left(X_{\\mathit{2c}}^{2} \\epsilon^{2} m^{2} + 2 \\, U_{c}^{2}\\right)}}{{\\left(X_{\\mathit{2c}}^{2} \\epsilon^{2} m^{2} + 4 \\, U_{c}^{2}\\right)} \\epsilon^{2} m}, \\frac{2 \\, U_{c} X_{\\mathit{1c}} m}{X_{\\mathit{2c}}^{2} \\epsilon^{2} m^{2} + 4 \\, U_{c}^{2}}, \\frac{2 \\, U_{c} X_{\\mathit{2c}} m}{X_{\\mathit{2c}}^{2} \\epsilon^{2} m^{2} + 4 \\, U_{c}^{2}}\\right]$"
      ],
      "text/plain": [
       "[2*U_c^2*m/(X_2c^2*epsilon^2*m^2 + 4*U_c^2),\n",
       " 2*(X_2c^2*epsilon^2*m^2 + 2*U_c^2)/((X_2c^2*epsilon^2*m^2 + 4*U_c^2)*epsilon^2*m),\n",
       " 2*U_c*X_1c*m/(X_2c^2*epsilon^2*m^2 + 4*U_c^2),\n",
       " 2*U_c*X_2c*m/(X_2c^2*epsilon^2*m^2 + 4*U_c^2)]"
      ]
     },
     "execution_count": 433,
     "metadata": {},
     "output_type": "execute_result"
    }
   ],
   "source": [
    "T0_UVX = M.vector_field()\n",
    "T0_UVX[:] = [T0_U_simp, T0_V_simp, T0_X1_simp, T0_X2_simp]\n",
    "T0_UVX[:]"
   ]
  },
  {
   "cell_type": "code",
   "execution_count": 434,
   "id": "74ecdb93",
   "metadata": {},
   "outputs": [
    {
     "data": {
      "text/html": [
       "<html>\\(\\displaystyle \\left[0, \\frac{1}{m}, 0, 0\\right]\\)</html>"
      ],
      "text/latex": [
       "$\\displaystyle \\left[0, \\frac{1}{m}, 0, 0\\right]$"
      ],
      "text/plain": [
       "[0, 1/m, 0, 0]"
      ]
     },
     "execution_count": 434,
     "metadata": {},
     "output_type": "execute_result"
    }
   ],
   "source": [
    "T0_UVX_CL = T0_UVX*eps^2\n",
    "T0_UVX_CL.apply_map(lambda tmp: tmp.subs({eps:0}))\n",
    "T0_UVX_CL[:]"
   ]
  },
  {
   "cell_type": "code",
   "execution_count": 435,
   "id": "45192ff1",
   "metadata": {},
   "outputs": [
    {
     "data": {
      "text/html": [
       "<html>\\(\\displaystyle \\left[0, \\cos\\left({\\phi}\\right) \\sin\\left({\\theta}\\right), \\frac{\\cos\\left({\\phi}\\right) \\cos\\left({\\theta}\\right)}{r}, -\\frac{\\sin\\left({\\phi}\\right)}{r \\sin\\left({\\theta}\\right)}\\right]\\)</html>"
      ],
      "text/latex": [
       "$\\displaystyle \\left[0, \\cos\\left({\\phi}\\right) \\sin\\left({\\theta}\\right), \\frac{\\cos\\left({\\phi}\\right) \\cos\\left({\\theta}\\right)}{r}, -\\frac{\\sin\\left({\\phi}\\right)}{r \\sin\\left({\\theta}\\right)}\\right]$"
      ],
      "text/plain": [
       "[0, cos(ph)*sin(th), cos(ph)*cos(th)/r, -sin(ph)/(r*sin(th))]"
      ]
     },
     "execution_count": 435,
     "metadata": {},
     "output_type": "execute_result"
    }
   ],
   "source": []
  },
  {
   "cell_type": "code",
   "execution_count": 436,
   "id": "96011ed7",
   "metadata": {},
   "outputs": [
    {
     "data": {
      "text/html": [
       "<html>\\(\\displaystyle \\left(-\\frac{2 \\, {\\left({\\left(2 \\, \\Phi_{0} m {\\phi} - m {\\phi}^{2} - {\\left(\\Phi_{0}^{2} + 4\\right)} m\\right)} r \\cos\\left({\\phi}\\right) \\sin\\left({\\theta}\\right)^{2} + 2 \\, {\\left(\\Phi_{0} m - m {\\phi}\\right)} r \\sin\\left({\\phi}\\right) + 2 \\, {\\left(\\Phi_{0} m - m {\\phi}\\right)} t \\sin\\left({\\phi}\\right)\\right)}}{{\\left(\\Phi_{0}^{4} - 4 \\, \\Phi_{0} {\\phi}^{3} + {\\phi}^{4} + 2 \\, {\\left(3 \\, \\Phi_{0}^{2} + 4\\right)} {\\phi}^{2} + 8 \\, \\Phi_{0}^{2} - 4 \\, {\\left(\\Phi_{0}^{3} + 4 \\, \\Phi_{0}\\right)} {\\phi} + 16\\right)} r \\sin\\left({\\theta}\\right)}, \\frac{4 \\, {\\left({\\left(\\Phi_{0}^{2} - 2 \\, \\Phi_{0} {\\phi} + {\\phi}^{2} + 4\\right)} r \\cos\\left({\\phi}\\right) \\sin\\left({\\theta}\\right)^{2} - 2 \\, {\\left(\\Phi_{0} - {\\phi}\\right)} r \\sin\\left({\\phi}\\right) - 2 \\, {\\left(\\Phi_{0} - {\\phi}\\right)} t \\sin\\left({\\phi}\\right)\\right)}}{{\\left(4 \\, \\Phi_{0} \\epsilon^{2} m {\\phi}^{3} - \\epsilon^{2} m {\\phi}^{4} - 2 \\, {\\left(3 \\, \\Phi_{0}^{2} + 4\\right)} \\epsilon^{2} m {\\phi}^{2} + 4 \\, {\\left(\\Phi_{0}^{3} + 4 \\, \\Phi_{0}\\right)} \\epsilon^{2} m {\\phi} - {\\left(\\Phi_{0}^{4} + 8 \\, \\Phi_{0}^{2} + 16\\right)} \\epsilon^{2} m\\right)} r \\sin\\left({\\theta}\\right)}, -\\frac{2 \\, {\\left(2 \\, {\\left(\\Phi_{0} \\Theta_{0} - \\Theta_{0} {\\phi}\\right)} r \\sin\\left({\\phi}\\right) + 2 \\, {\\left(\\Phi_{0} \\Theta_{0} - \\Theta_{0} {\\phi}\\right)} t \\sin\\left({\\phi}\\right) + {\\left({\\left(\\Phi_{0}^{2} - 2 \\, \\Phi_{0} {\\phi} + {\\phi}^{2} + 4\\right)} r \\cos\\left({\\phi}\\right) + {\\left(\\Phi_{0}^{2} - 2 \\, \\Phi_{0} {\\phi} + {\\phi}^{2} + 4\\right)} t \\cos\\left({\\phi}\\right)\\right)} \\cos\\left({\\theta}\\right) \\sin\\left({\\theta}\\right) + {\\left({\\left(\\Phi_{0}^{2} - 2 \\, \\Phi_{0} {\\phi} + {\\phi}^{2} + 4\\right)} r {\\theta} \\cos\\left({\\phi}\\right) + {\\left(2 \\, \\Phi_{0} \\Theta_{0} {\\phi} - \\Theta_{0} {\\phi}^{2} - {\\left(\\Phi_{0}^{2} + 4\\right)} \\Theta_{0}\\right)} r \\cos\\left({\\phi}\\right)\\right)} \\sin\\left({\\theta}\\right)^{2} - 2 \\, {\\left({\\left(\\Phi_{0} - {\\phi}\\right)} r \\sin\\left({\\phi}\\right) + {\\left(\\Phi_{0} - {\\phi}\\right)} t \\sin\\left({\\phi}\\right)\\right)} {\\theta}\\right)}}{{\\left(4 \\, \\Phi_{0} \\epsilon {\\phi}^{3} - \\epsilon {\\phi}^{4} - 2 \\, {\\left(3 \\, \\Phi_{0}^{2} + 4\\right)} \\epsilon {\\phi}^{2} + 4 \\, {\\left(\\Phi_{0}^{3} + 4 \\, \\Phi_{0}\\right)} \\epsilon {\\phi} - {\\left(\\Phi_{0}^{4} + 8 \\, \\Phi_{0}^{2} + 16\\right)} \\epsilon\\right)} r \\sin\\left({\\theta}\\right)}, \\frac{2 \\, {\\left({\\left(\\Phi_{0}^{3} + 3 \\, \\Phi_{0} {\\phi}^{2} - {\\phi}^{3} - {\\left(3 \\, \\Phi_{0}^{2} + 4\\right)} {\\phi} + 4 \\, \\Phi_{0}\\right)} r \\cos\\left({\\phi}\\right) \\sin\\left({\\theta}\\right)^{2} - {\\left(\\Phi_{0}^{2} - 2 \\, \\Phi_{0} {\\phi} + {\\phi}^{2} - 4\\right)} r \\sin\\left({\\phi}\\right) - {\\left(\\Phi_{0}^{2} - 2 \\, \\Phi_{0} {\\phi} + {\\phi}^{2} - 4\\right)} t \\sin\\left({\\phi}\\right)\\right)}}{{\\left(4 \\, \\Phi_{0} \\epsilon {\\phi}^{3} - \\epsilon {\\phi}^{4} - 2 \\, {\\left(3 \\, \\Phi_{0}^{2} + 4\\right)} \\epsilon {\\phi}^{2} + 4 \\, {\\left(\\Phi_{0}^{3} + 4 \\, \\Phi_{0}\\right)} \\epsilon {\\phi} - {\\left(\\Phi_{0}^{4} + 8 \\, \\Phi_{0}^{2} + 16\\right)} \\epsilon\\right)} r \\sin\\left({\\theta}\\right)}\\right)\\)</html>"
      ],
      "text/latex": [
       "$\\displaystyle \\left(-\\frac{2 \\, {\\left({\\left(2 \\, \\Phi_{0} m {\\phi} - m {\\phi}^{2} - {\\left(\\Phi_{0}^{2} + 4\\right)} m\\right)} r \\cos\\left({\\phi}\\right) \\sin\\left({\\theta}\\right)^{2} + 2 \\, {\\left(\\Phi_{0} m - m {\\phi}\\right)} r \\sin\\left({\\phi}\\right) + 2 \\, {\\left(\\Phi_{0} m - m {\\phi}\\right)} t \\sin\\left({\\phi}\\right)\\right)}}{{\\left(\\Phi_{0}^{4} - 4 \\, \\Phi_{0} {\\phi}^{3} + {\\phi}^{4} + 2 \\, {\\left(3 \\, \\Phi_{0}^{2} + 4\\right)} {\\phi}^{2} + 8 \\, \\Phi_{0}^{2} - 4 \\, {\\left(\\Phi_{0}^{3} + 4 \\, \\Phi_{0}\\right)} {\\phi} + 16\\right)} r \\sin\\left({\\theta}\\right)}, \\frac{4 \\, {\\left({\\left(\\Phi_{0}^{2} - 2 \\, \\Phi_{0} {\\phi} + {\\phi}^{2} + 4\\right)} r \\cos\\left({\\phi}\\right) \\sin\\left({\\theta}\\right)^{2} - 2 \\, {\\left(\\Phi_{0} - {\\phi}\\right)} r \\sin\\left({\\phi}\\right) - 2 \\, {\\left(\\Phi_{0} - {\\phi}\\right)} t \\sin\\left({\\phi}\\right)\\right)}}{{\\left(4 \\, \\Phi_{0} \\epsilon^{2} m {\\phi}^{3} - \\epsilon^{2} m {\\phi}^{4} - 2 \\, {\\left(3 \\, \\Phi_{0}^{2} + 4\\right)} \\epsilon^{2} m {\\phi}^{2} + 4 \\, {\\left(\\Phi_{0}^{3} + 4 \\, \\Phi_{0}\\right)} \\epsilon^{2} m {\\phi} - {\\left(\\Phi_{0}^{4} + 8 \\, \\Phi_{0}^{2} + 16\\right)} \\epsilon^{2} m\\right)} r \\sin\\left({\\theta}\\right)}, -\\frac{2 \\, {\\left(2 \\, {\\left(\\Phi_{0} \\Theta_{0} - \\Theta_{0} {\\phi}\\right)} r \\sin\\left({\\phi}\\right) + 2 \\, {\\left(\\Phi_{0} \\Theta_{0} - \\Theta_{0} {\\phi}\\right)} t \\sin\\left({\\phi}\\right) + {\\left({\\left(\\Phi_{0}^{2} - 2 \\, \\Phi_{0} {\\phi} + {\\phi}^{2} + 4\\right)} r \\cos\\left({\\phi}\\right) + {\\left(\\Phi_{0}^{2} - 2 \\, \\Phi_{0} {\\phi} + {\\phi}^{2} + 4\\right)} t \\cos\\left({\\phi}\\right)\\right)} \\cos\\left({\\theta}\\right) \\sin\\left({\\theta}\\right) + {\\left({\\left(\\Phi_{0}^{2} - 2 \\, \\Phi_{0} {\\phi} + {\\phi}^{2} + 4\\right)} r {\\theta} \\cos\\left({\\phi}\\right) + {\\left(2 \\, \\Phi_{0} \\Theta_{0} {\\phi} - \\Theta_{0} {\\phi}^{2} - {\\left(\\Phi_{0}^{2} + 4\\right)} \\Theta_{0}\\right)} r \\cos\\left({\\phi}\\right)\\right)} \\sin\\left({\\theta}\\right)^{2} - 2 \\, {\\left({\\left(\\Phi_{0} - {\\phi}\\right)} r \\sin\\left({\\phi}\\right) + {\\left(\\Phi_{0} - {\\phi}\\right)} t \\sin\\left({\\phi}\\right)\\right)} {\\theta}\\right)}}{{\\left(4 \\, \\Phi_{0} \\epsilon {\\phi}^{3} - \\epsilon {\\phi}^{4} - 2 \\, {\\left(3 \\, \\Phi_{0}^{2} + 4\\right)} \\epsilon {\\phi}^{2} + 4 \\, {\\left(\\Phi_{0}^{3} + 4 \\, \\Phi_{0}\\right)} \\epsilon {\\phi} - {\\left(\\Phi_{0}^{4} + 8 \\, \\Phi_{0}^{2} + 16\\right)} \\epsilon\\right)} r \\sin\\left({\\theta}\\right)}, \\frac{2 \\, {\\left({\\left(\\Phi_{0}^{3} + 3 \\, \\Phi_{0} {\\phi}^{2} - {\\phi}^{3} - {\\left(3 \\, \\Phi_{0}^{2} + 4\\right)} {\\phi} + 4 \\, \\Phi_{0}\\right)} r \\cos\\left({\\phi}\\right) \\sin\\left({\\theta}\\right)^{2} - {\\left(\\Phi_{0}^{2} - 2 \\, \\Phi_{0} {\\phi} + {\\phi}^{2} - 4\\right)} r \\sin\\left({\\phi}\\right) - {\\left(\\Phi_{0}^{2} - 2 \\, \\Phi_{0} {\\phi} + {\\phi}^{2} - 4\\right)} t \\sin\\left({\\phi}\\right)\\right)}}{{\\left(4 \\, \\Phi_{0} \\epsilon {\\phi}^{3} - \\epsilon {\\phi}^{4} - 2 \\, {\\left(3 \\, \\Phi_{0}^{2} + 4\\right)} \\epsilon {\\phi}^{2} + 4 \\, {\\left(\\Phi_{0}^{3} + 4 \\, \\Phi_{0}\\right)} \\epsilon {\\phi} - {\\left(\\Phi_{0}^{4} + 8 \\, \\Phi_{0}^{2} + 16\\right)} \\epsilon\\right)} r \\sin\\left({\\theta}\\right)}\\right)$"
      ],
      "text/plain": [
       "(-2*((2*Phi_0*m*ph - m*ph^2 - (Phi_0^2 + 4)*m)*r*cos(ph)*sin(th)^2 + 2*(Phi_0*m - m*ph)*r*sin(ph) + 2*(Phi_0*m - m*ph)*t*sin(ph))/((Phi_0^4 - 4*Phi_0*ph^3 + ph^4 + 2*(3*Phi_0^2 + 4)*ph^2 + 8*Phi_0^2 - 4*(Phi_0^3 + 4*Phi_0)*ph + 16)*r*sin(th)),\n",
       " 4*((Phi_0^2 - 2*Phi_0*ph + ph^2 + 4)*r*cos(ph)*sin(th)^2 - 2*(Phi_0 - ph)*r*sin(ph) - 2*(Phi_0 - ph)*t*sin(ph))/((4*Phi_0*epsilon^2*m*ph^3 - epsilon^2*m*ph^4 - 2*(3*Phi_0^2 + 4)*epsilon^2*m*ph^2 + 4*(Phi_0^3 + 4*Phi_0)*epsilon^2*m*ph - (Phi_0^4 + 8*Phi_0^2 + 16)*epsilon^2*m)*r*sin(th)),\n",
       " -2*(2*(Phi_0*Theta_0 - Theta_0*ph)*r*sin(ph) + 2*(Phi_0*Theta_0 - Theta_0*ph)*t*sin(ph) + ((Phi_0^2 - 2*Phi_0*ph + ph^2 + 4)*r*cos(ph) + (Phi_0^2 - 2*Phi_0*ph + ph^2 + 4)*t*cos(ph))*cos(th)*sin(th) + ((Phi_0^2 - 2*Phi_0*ph + ph^2 + 4)*r*th*cos(ph) + (2*Phi_0*Theta_0*ph - Theta_0*ph^2 - (Phi_0^2 + 4)*Theta_0)*r*cos(ph))*sin(th)^2 - 2*((Phi_0 - ph)*r*sin(ph) + (Phi_0 - ph)*t*sin(ph))*th)/((4*Phi_0*epsilon*ph^3 - epsilon*ph^4 - 2*(3*Phi_0^2 + 4)*epsilon*ph^2 + 4*(Phi_0^3 + 4*Phi_0)*epsilon*ph - (Phi_0^4 + 8*Phi_0^2 + 16)*epsilon)*r*sin(th)),\n",
       " 2*((Phi_0^3 + 3*Phi_0*ph^2 - ph^3 - (3*Phi_0^2 + 4)*ph + 4*Phi_0)*r*cos(ph)*sin(th)^2 - (Phi_0^2 - 2*Phi_0*ph + ph^2 - 4)*r*sin(ph) - (Phi_0^2 - 2*Phi_0*ph + ph^2 - 4)*t*sin(ph))/((4*Phi_0*epsilon*ph^3 - epsilon*ph^4 - 2*(3*Phi_0^2 + 4)*epsilon*ph^2 + 4*(Phi_0^3 + 4*Phi_0)*epsilon*ph - (Phi_0^4 + 8*Phi_0^2 + 16)*epsilon)*r*sin(th)))"
      ]
     },
     "execution_count": 436,
     "metadata": {},
     "output_type": "execute_result"
    }
   ],
   "source": [
    "T1_U = jacOeps2[0, 0]*T1[0] + jacOeps2[0, 1]*T1[1] + jacOeps2[0, 2]*T1[2] + jacOeps2[0, 3]*T1[3]\n",
    "T1_V = jacOeps2[1, 0]*T1[0] + jacOeps2[1, 1]*T1[1] + jacOeps2[1, 2]*T1[2] + jacOeps2[1, 3]*T1[3]\n",
    "T1_X1 = jacOeps2[2, 0]*T1[0] + jacOeps2[2, 1]*T1[1] + jacOeps2[2, 2]*T1[2] + jacOeps2[2, 3]*T1[3]\n",
    "T1_X2 = jacOeps2[3, 0]*T1[0] + jacOeps2[3, 1]*T1[1] + jacOeps2[3, 2]*T1[2] + jacOeps2[3, 3]*T1[3]\n",
    "T1_U, T1_V, T1_X1, T1_X2"
   ]
  },
  {
   "cell_type": "code",
   "execution_count": 437,
   "id": "a50c3909",
   "metadata": {},
   "outputs": [
    {
     "data": {
      "text/html": [
       "<html>\\(\\displaystyle \\left(\\frac{1}{2} \\, m \\cos\\left(\\Phi_{0}\\right) \\sin\\left(\\Theta_{0}\\right) + \\frac{{\\left(X_{\\mathit{1c}} \\cos\\left(\\Phi_{0}\\right) \\cos\\left(\\Theta_{0}\\right) \\sin\\left(\\Theta_{0}\\right) - {\\left(\\sin\\left(\\Phi_{0}\\right) \\sin\\left(\\Theta_{0}\\right)^{2} - \\sin\\left(\\Phi_{0}\\right)\\right)} X_{\\mathit{2c}}\\right)} \\epsilon m^{2}}{2 \\, U_{c} \\sin\\left(\\Theta_{0}\\right)}, -\\frac{\\cos\\left(\\Phi_{0}\\right) \\sin\\left(\\Theta_{0}\\right)}{\\epsilon^{2} m} + \\frac{{\\left(2 \\, X_{\\mathit{1c}}^{3} \\cos\\left(\\Phi_{0}\\right) \\cos\\left(\\Theta_{0}\\right) \\sin\\left(\\Theta_{0}\\right)^{3} + 3 \\, {\\left(3 \\, \\cos\\left(\\Phi_{0}\\right) \\cos\\left(\\Theta_{0}\\right) \\sin\\left(\\Theta_{0}\\right)^{3} + 4 \\, \\cos\\left(\\Phi_{0}\\right) \\cos\\left(\\Theta_{0}\\right) \\sin\\left(\\Theta_{0}\\right)\\right)} X_{\\mathit{1c}} X_{\\mathit{2c}}^{2} - 5 \\, {\\left(\\sin\\left(\\Phi_{0}\\right) \\sin\\left(\\Theta_{0}\\right)^{4} - 3 \\, \\sin\\left(\\Phi_{0}\\right) \\sin\\left(\\Theta_{0}\\right)^{2}\\right)} X_{\\mathit{2c}}^{3} - 6 \\, {\\left(U_{c} V_{c} \\sin\\left(\\Phi_{0}\\right) \\sin\\left(\\Theta_{0}\\right)^{2} + {\\left(\\sin\\left(\\Phi_{0}\\right) \\sin\\left(\\Theta_{0}\\right)^{4} + 2 \\, \\cos\\left(\\Theta_{0}\\right)^{2} \\sin\\left(\\Phi_{0}\\right) + \\sin\\left(\\Phi_{0}\\right) \\sin\\left(\\Theta_{0}\\right)^{2}\\right)} X_{\\mathit{1c}}^{2}\\right)} X_{\\mathit{2c}}\\right)} \\epsilon m^{2}}{12 \\, U_{c}^{3} \\sin\\left(\\Theta_{0}\\right)^{3}} + \\frac{{\\left(2 \\, X_{\\mathit{1c}}^{2} \\cos\\left(\\Phi_{0}\\right) \\sin\\left(\\Theta_{0}\\right)^{3} + 4 \\, {\\left(\\cos\\left(\\Theta_{0}\\right) \\sin\\left(\\Phi_{0}\\right) \\sin\\left(\\Theta_{0}\\right)^{2} + \\cos\\left(\\Theta_{0}\\right) \\sin\\left(\\Phi_{0}\\right)\\right)} X_{\\mathit{1c}} X_{\\mathit{2c}} + {\\left(3 \\, \\cos\\left(\\Phi_{0}\\right) \\sin\\left(\\Theta_{0}\\right)^{3} - 4 \\, \\cos\\left(\\Phi_{0}\\right) \\sin\\left(\\Theta_{0}\\right)\\right)} X_{\\mathit{2c}}^{2}\\right)} m}{4 \\, U_{c}^{2} \\sin\\left(\\Theta_{0}\\right)^{2}} - \\frac{X_{\\mathit{1c}} \\cos\\left(\\Phi_{0}\\right) \\cos\\left(\\Theta_{0}\\right) \\sin\\left(\\Theta_{0}\\right) - {\\left(\\sin\\left(\\Phi_{0}\\right) \\sin\\left(\\Theta_{0}\\right)^{2} - \\sin\\left(\\Phi_{0}\\right)\\right)} X_{\\mathit{2c}}}{U_{c} \\epsilon \\sin\\left(\\Theta_{0}\\right)}, -\\frac{{\\left(2 \\, X_{\\mathit{2c}} \\cos\\left(\\Theta_{0}\\right) \\sin\\left(\\Phi_{0}\\right) + X_{\\mathit{1c}} \\cos\\left(\\Phi_{0}\\right) \\sin\\left(\\Theta_{0}\\right)\\right)} m}{2 \\, U_{c}} + \\frac{\\cos\\left(\\Phi_{0}\\right) \\cos\\left(\\Theta_{0}\\right)}{\\epsilon} + \\frac{{\\left(U_{c} V_{c} \\cos\\left(\\Phi_{0}\\right) \\cos\\left(\\Theta_{0}\\right) \\sin\\left(\\Theta_{0}\\right) - 2 \\, X_{\\mathit{2c}}^{2} \\cos\\left(\\Phi_{0}\\right) \\cos\\left(\\Theta_{0}\\right) \\sin\\left(\\Theta_{0}\\right) + {\\left(\\sin\\left(\\Phi_{0}\\right) \\sin\\left(\\Theta_{0}\\right)^{2} + \\sin\\left(\\Phi_{0}\\right)\\right)} X_{\\mathit{1c}} X_{\\mathit{2c}}\\right)} \\epsilon m^{2}}{2 \\, U_{c}^{2} \\sin\\left(\\Theta_{0}\\right)}, -\\frac{{\\left(U_{c} V_{c} \\sin\\left(\\Phi_{0}\\right) \\sin\\left(\\Theta_{0}\\right)^{2} + {\\left(2 \\, \\cos\\left(\\Theta_{0}\\right)^{2} \\sin\\left(\\Phi_{0}\\right) + \\sin\\left(\\Phi_{0}\\right) \\sin\\left(\\Theta_{0}\\right)^{2}\\right)} X_{\\mathit{1c}}^{2} - {\\left(\\cos\\left(\\Phi_{0}\\right) \\cos\\left(\\Theta_{0}\\right) \\sin\\left(\\Theta_{0}\\right)^{3} + 2 \\, \\cos\\left(\\Phi_{0}\\right) \\cos\\left(\\Theta_{0}\\right) \\sin\\left(\\Theta_{0}\\right)\\right)} X_{\\mathit{1c}} X_{\\mathit{2c}} + {\\left(\\sin\\left(\\Phi_{0}\\right) \\sin\\left(\\Theta_{0}\\right)^{4} - 3 \\, \\sin\\left(\\Phi_{0}\\right) \\sin\\left(\\Theta_{0}\\right)^{2}\\right)} X_{\\mathit{2c}}^{2}\\right)} \\epsilon m^{2}}{2 \\, U_{c}^{2} \\sin\\left(\\Theta_{0}\\right)^{3}} + \\frac{{\\left(2 \\, X_{\\mathit{1c}} \\cos\\left(\\Theta_{0}\\right) \\sin\\left(\\Phi_{0}\\right) + {\\left(\\cos\\left(\\Phi_{0}\\right) \\sin\\left(\\Theta_{0}\\right)^{3} - 2 \\, \\cos\\left(\\Phi_{0}\\right) \\sin\\left(\\Theta_{0}\\right)\\right)} X_{\\mathit{2c}}\\right)} m}{2 \\, U_{c} \\sin\\left(\\Theta_{0}\\right)^{2}} - \\frac{\\sin\\left(\\Phi_{0}\\right)}{\\epsilon \\sin\\left(\\Theta_{0}\\right)}\\right)\\)</html>"
      ],
      "text/latex": [
       "$\\displaystyle \\left(\\frac{1}{2} \\, m \\cos\\left(\\Phi_{0}\\right) \\sin\\left(\\Theta_{0}\\right) + \\frac{{\\left(X_{\\mathit{1c}} \\cos\\left(\\Phi_{0}\\right) \\cos\\left(\\Theta_{0}\\right) \\sin\\left(\\Theta_{0}\\right) - {\\left(\\sin\\left(\\Phi_{0}\\right) \\sin\\left(\\Theta_{0}\\right)^{2} - \\sin\\left(\\Phi_{0}\\right)\\right)} X_{\\mathit{2c}}\\right)} \\epsilon m^{2}}{2 \\, U_{c} \\sin\\left(\\Theta_{0}\\right)}, -\\frac{\\cos\\left(\\Phi_{0}\\right) \\sin\\left(\\Theta_{0}\\right)}{\\epsilon^{2} m} + \\frac{{\\left(2 \\, X_{\\mathit{1c}}^{3} \\cos\\left(\\Phi_{0}\\right) \\cos\\left(\\Theta_{0}\\right) \\sin\\left(\\Theta_{0}\\right)^{3} + 3 \\, {\\left(3 \\, \\cos\\left(\\Phi_{0}\\right) \\cos\\left(\\Theta_{0}\\right) \\sin\\left(\\Theta_{0}\\right)^{3} + 4 \\, \\cos\\left(\\Phi_{0}\\right) \\cos\\left(\\Theta_{0}\\right) \\sin\\left(\\Theta_{0}\\right)\\right)} X_{\\mathit{1c}} X_{\\mathit{2c}}^{2} - 5 \\, {\\left(\\sin\\left(\\Phi_{0}\\right) \\sin\\left(\\Theta_{0}\\right)^{4} - 3 \\, \\sin\\left(\\Phi_{0}\\right) \\sin\\left(\\Theta_{0}\\right)^{2}\\right)} X_{\\mathit{2c}}^{3} - 6 \\, {\\left(U_{c} V_{c} \\sin\\left(\\Phi_{0}\\right) \\sin\\left(\\Theta_{0}\\right)^{2} + {\\left(\\sin\\left(\\Phi_{0}\\right) \\sin\\left(\\Theta_{0}\\right)^{4} + 2 \\, \\cos\\left(\\Theta_{0}\\right)^{2} \\sin\\left(\\Phi_{0}\\right) + \\sin\\left(\\Phi_{0}\\right) \\sin\\left(\\Theta_{0}\\right)^{2}\\right)} X_{\\mathit{1c}}^{2}\\right)} X_{\\mathit{2c}}\\right)} \\epsilon m^{2}}{12 \\, U_{c}^{3} \\sin\\left(\\Theta_{0}\\right)^{3}} + \\frac{{\\left(2 \\, X_{\\mathit{1c}}^{2} \\cos\\left(\\Phi_{0}\\right) \\sin\\left(\\Theta_{0}\\right)^{3} + 4 \\, {\\left(\\cos\\left(\\Theta_{0}\\right) \\sin\\left(\\Phi_{0}\\right) \\sin\\left(\\Theta_{0}\\right)^{2} + \\cos\\left(\\Theta_{0}\\right) \\sin\\left(\\Phi_{0}\\right)\\right)} X_{\\mathit{1c}} X_{\\mathit{2c}} + {\\left(3 \\, \\cos\\left(\\Phi_{0}\\right) \\sin\\left(\\Theta_{0}\\right)^{3} - 4 \\, \\cos\\left(\\Phi_{0}\\right) \\sin\\left(\\Theta_{0}\\right)\\right)} X_{\\mathit{2c}}^{2}\\right)} m}{4 \\, U_{c}^{2} \\sin\\left(\\Theta_{0}\\right)^{2}} - \\frac{X_{\\mathit{1c}} \\cos\\left(\\Phi_{0}\\right) \\cos\\left(\\Theta_{0}\\right) \\sin\\left(\\Theta_{0}\\right) - {\\left(\\sin\\left(\\Phi_{0}\\right) \\sin\\left(\\Theta_{0}\\right)^{2} - \\sin\\left(\\Phi_{0}\\right)\\right)} X_{\\mathit{2c}}}{U_{c} \\epsilon \\sin\\left(\\Theta_{0}\\right)}, -\\frac{{\\left(2 \\, X_{\\mathit{2c}} \\cos\\left(\\Theta_{0}\\right) \\sin\\left(\\Phi_{0}\\right) + X_{\\mathit{1c}} \\cos\\left(\\Phi_{0}\\right) \\sin\\left(\\Theta_{0}\\right)\\right)} m}{2 \\, U_{c}} + \\frac{\\cos\\left(\\Phi_{0}\\right) \\cos\\left(\\Theta_{0}\\right)}{\\epsilon} + \\frac{{\\left(U_{c} V_{c} \\cos\\left(\\Phi_{0}\\right) \\cos\\left(\\Theta_{0}\\right) \\sin\\left(\\Theta_{0}\\right) - 2 \\, X_{\\mathit{2c}}^{2} \\cos\\left(\\Phi_{0}\\right) \\cos\\left(\\Theta_{0}\\right) \\sin\\left(\\Theta_{0}\\right) + {\\left(\\sin\\left(\\Phi_{0}\\right) \\sin\\left(\\Theta_{0}\\right)^{2} + \\sin\\left(\\Phi_{0}\\right)\\right)} X_{\\mathit{1c}} X_{\\mathit{2c}}\\right)} \\epsilon m^{2}}{2 \\, U_{c}^{2} \\sin\\left(\\Theta_{0}\\right)}, -\\frac{{\\left(U_{c} V_{c} \\sin\\left(\\Phi_{0}\\right) \\sin\\left(\\Theta_{0}\\right)^{2} + {\\left(2 \\, \\cos\\left(\\Theta_{0}\\right)^{2} \\sin\\left(\\Phi_{0}\\right) + \\sin\\left(\\Phi_{0}\\right) \\sin\\left(\\Theta_{0}\\right)^{2}\\right)} X_{\\mathit{1c}}^{2} - {\\left(\\cos\\left(\\Phi_{0}\\right) \\cos\\left(\\Theta_{0}\\right) \\sin\\left(\\Theta_{0}\\right)^{3} + 2 \\, \\cos\\left(\\Phi_{0}\\right) \\cos\\left(\\Theta_{0}\\right) \\sin\\left(\\Theta_{0}\\right)\\right)} X_{\\mathit{1c}} X_{\\mathit{2c}} + {\\left(\\sin\\left(\\Phi_{0}\\right) \\sin\\left(\\Theta_{0}\\right)^{4} - 3 \\, \\sin\\left(\\Phi_{0}\\right) \\sin\\left(\\Theta_{0}\\right)^{2}\\right)} X_{\\mathit{2c}}^{2}\\right)} \\epsilon m^{2}}{2 \\, U_{c}^{2} \\sin\\left(\\Theta_{0}\\right)^{3}} + \\frac{{\\left(2 \\, X_{\\mathit{1c}} \\cos\\left(\\Theta_{0}\\right) \\sin\\left(\\Phi_{0}\\right) + {\\left(\\cos\\left(\\Phi_{0}\\right) \\sin\\left(\\Theta_{0}\\right)^{3} - 2 \\, \\cos\\left(\\Phi_{0}\\right) \\sin\\left(\\Theta_{0}\\right)\\right)} X_{\\mathit{2c}}\\right)} m}{2 \\, U_{c} \\sin\\left(\\Theta_{0}\\right)^{2}} - \\frac{\\sin\\left(\\Phi_{0}\\right)}{\\epsilon \\sin\\left(\\Theta_{0}\\right)}\\right)$"
      ],
      "text/plain": [
       "(1/2*m*cos(Phi_0)*sin(Theta_0) + 1/2*(X_1c*cos(Phi_0)*cos(Theta_0)*sin(Theta_0) - (sin(Phi_0)*sin(Theta_0)^2 - sin(Phi_0))*X_2c)*epsilon*m^2/(U_c*sin(Theta_0)),\n",
       " -cos(Phi_0)*sin(Theta_0)/(epsilon^2*m) + 1/12*(2*X_1c^3*cos(Phi_0)*cos(Theta_0)*sin(Theta_0)^3 + 3*(3*cos(Phi_0)*cos(Theta_0)*sin(Theta_0)^3 + 4*cos(Phi_0)*cos(Theta_0)*sin(Theta_0))*X_1c*X_2c^2 - 5*(sin(Phi_0)*sin(Theta_0)^4 - 3*sin(Phi_0)*sin(Theta_0)^2)*X_2c^3 - 6*(U_c*V_c*sin(Phi_0)*sin(Theta_0)^2 + (sin(Phi_0)*sin(Theta_0)^4 + 2*cos(Theta_0)^2*sin(Phi_0) + sin(Phi_0)*sin(Theta_0)^2)*X_1c^2)*X_2c)*epsilon*m^2/(U_c^3*sin(Theta_0)^3) + 1/4*(2*X_1c^2*cos(Phi_0)*sin(Theta_0)^3 + 4*(cos(Theta_0)*sin(Phi_0)*sin(Theta_0)^2 + cos(Theta_0)*sin(Phi_0))*X_1c*X_2c + (3*cos(Phi_0)*sin(Theta_0)^3 - 4*cos(Phi_0)*sin(Theta_0))*X_2c^2)*m/(U_c^2*sin(Theta_0)^2) - (X_1c*cos(Phi_0)*cos(Theta_0)*sin(Theta_0) - (sin(Phi_0)*sin(Theta_0)^2 - sin(Phi_0))*X_2c)/(U_c*epsilon*sin(Theta_0)),\n",
       " -1/2*(2*X_2c*cos(Theta_0)*sin(Phi_0) + X_1c*cos(Phi_0)*sin(Theta_0))*m/U_c + cos(Phi_0)*cos(Theta_0)/epsilon + 1/2*(U_c*V_c*cos(Phi_0)*cos(Theta_0)*sin(Theta_0) - 2*X_2c^2*cos(Phi_0)*cos(Theta_0)*sin(Theta_0) + (sin(Phi_0)*sin(Theta_0)^2 + sin(Phi_0))*X_1c*X_2c)*epsilon*m^2/(U_c^2*sin(Theta_0)),\n",
       " -1/2*(U_c*V_c*sin(Phi_0)*sin(Theta_0)^2 + (2*cos(Theta_0)^2*sin(Phi_0) + sin(Phi_0)*sin(Theta_0)^2)*X_1c^2 - (cos(Phi_0)*cos(Theta_0)*sin(Theta_0)^3 + 2*cos(Phi_0)*cos(Theta_0)*sin(Theta_0))*X_1c*X_2c + (sin(Phi_0)*sin(Theta_0)^4 - 3*sin(Phi_0)*sin(Theta_0)^2)*X_2c^2)*epsilon*m^2/(U_c^2*sin(Theta_0)^3) + 1/2*(2*X_1c*cos(Theta_0)*sin(Phi_0) + (cos(Phi_0)*sin(Theta_0)^3 - 2*cos(Phi_0)*sin(Theta_0))*X_2c)*m/(U_c*sin(Theta_0)^2) - sin(Phi_0)/(epsilon*sin(Theta_0)))"
      ]
     },
     "execution_count": 437,
     "metadata": {},
     "output_type": "execute_result"
    }
   ],
   "source": [
    "T1_U_simp = T1_U.factor().expr().subs({ph:ph_UVX}).subs({th:th_UVX}).subs({r:r_UVX}).subs({t:t_UVX})\\\n",
    ".taylor(eps, 0, 1)\n",
    "T1_V_simp = T1_V.factor().expr().subs({ph:ph_UVX}).subs({th:th_UVX}).subs({r:r_UVX}).subs({t:t_UVX})\\\n",
    ".taylor(eps, 0, 1)\n",
    "T1_X1_simp = T1_X1.factor().expr().subs({ph:ph_UVX}).subs({th:th_UVX}).subs({r:r_UVX}).subs({t:t_UVX})\\\n",
    ".taylor(eps, 0, 1)\n",
    "T1_X2_simp = T1_X2.factor().expr().subs({ph:ph_UVX}).subs({r:r_UVX}).subs({th:th_UVX}).subs({t:t_UVX})\\\n",
    ".taylor(eps, 0, 1)\n",
    "T1_U_simp, T1_V_simp, T1_X1_simp, T1_X2_simp"
   ]
  },
  {
   "cell_type": "code",
   "execution_count": 438,
   "id": "259646b7",
   "metadata": {},
   "outputs": [
    {
     "data": {
      "text/html": [
       "<html>\\(\\displaystyle \\left[\\frac{1}{2} \\, m \\cos\\left(\\Phi_{0}\\right) \\sin\\left(\\Theta_{0}\\right) + \\frac{{\\left(X_{\\mathit{1c}} \\cos\\left(\\Phi_{0}\\right) \\cos\\left(\\Theta_{0}\\right) \\sin\\left(\\Theta_{0}\\right) - {\\left(\\sin\\left(\\Phi_{0}\\right) \\sin\\left(\\Theta_{0}\\right)^{2} - \\sin\\left(\\Phi_{0}\\right)\\right)} X_{\\mathit{2c}}\\right)} \\epsilon m^{2}}{2 \\, U_{c} \\sin\\left(\\Theta_{0}\\right)}, -\\frac{\\cos\\left(\\Phi_{0}\\right) \\sin\\left(\\Theta_{0}\\right)}{\\epsilon^{2} m} + \\frac{{\\left(2 \\, X_{\\mathit{1c}}^{3} \\cos\\left(\\Phi_{0}\\right) \\cos\\left(\\Theta_{0}\\right) \\sin\\left(\\Theta_{0}\\right)^{3} + 3 \\, {\\left(3 \\, \\cos\\left(\\Phi_{0}\\right) \\cos\\left(\\Theta_{0}\\right) \\sin\\left(\\Theta_{0}\\right)^{3} + 4 \\, \\cos\\left(\\Phi_{0}\\right) \\cos\\left(\\Theta_{0}\\right) \\sin\\left(\\Theta_{0}\\right)\\right)} X_{\\mathit{1c}} X_{\\mathit{2c}}^{2} - 5 \\, {\\left(\\sin\\left(\\Phi_{0}\\right) \\sin\\left(\\Theta_{0}\\right)^{4} - 3 \\, \\sin\\left(\\Phi_{0}\\right) \\sin\\left(\\Theta_{0}\\right)^{2}\\right)} X_{\\mathit{2c}}^{3} - 6 \\, {\\left(U_{c} V_{c} \\sin\\left(\\Phi_{0}\\right) \\sin\\left(\\Theta_{0}\\right)^{2} + {\\left(\\sin\\left(\\Phi_{0}\\right) \\sin\\left(\\Theta_{0}\\right)^{4} + 2 \\, \\cos\\left(\\Theta_{0}\\right)^{2} \\sin\\left(\\Phi_{0}\\right) + \\sin\\left(\\Phi_{0}\\right) \\sin\\left(\\Theta_{0}\\right)^{2}\\right)} X_{\\mathit{1c}}^{2}\\right)} X_{\\mathit{2c}}\\right)} \\epsilon m^{2}}{12 \\, U_{c}^{3} \\sin\\left(\\Theta_{0}\\right)^{3}} + \\frac{{\\left(2 \\, X_{\\mathit{1c}}^{2} \\cos\\left(\\Phi_{0}\\right) \\sin\\left(\\Theta_{0}\\right)^{3} + 4 \\, {\\left(\\cos\\left(\\Theta_{0}\\right) \\sin\\left(\\Phi_{0}\\right) \\sin\\left(\\Theta_{0}\\right)^{2} + \\cos\\left(\\Theta_{0}\\right) \\sin\\left(\\Phi_{0}\\right)\\right)} X_{\\mathit{1c}} X_{\\mathit{2c}} + {\\left(3 \\, \\cos\\left(\\Phi_{0}\\right) \\sin\\left(\\Theta_{0}\\right)^{3} - 4 \\, \\cos\\left(\\Phi_{0}\\right) \\sin\\left(\\Theta_{0}\\right)\\right)} X_{\\mathit{2c}}^{2}\\right)} m}{4 \\, U_{c}^{2} \\sin\\left(\\Theta_{0}\\right)^{2}} - \\frac{X_{\\mathit{1c}} \\cos\\left(\\Phi_{0}\\right) \\cos\\left(\\Theta_{0}\\right) \\sin\\left(\\Theta_{0}\\right) - {\\left(\\sin\\left(\\Phi_{0}\\right) \\sin\\left(\\Theta_{0}\\right)^{2} - \\sin\\left(\\Phi_{0}\\right)\\right)} X_{\\mathit{2c}}}{U_{c} \\epsilon \\sin\\left(\\Theta_{0}\\right)}, -\\frac{{\\left(2 \\, X_{\\mathit{2c}} \\cos\\left(\\Theta_{0}\\right) \\sin\\left(\\Phi_{0}\\right) + X_{\\mathit{1c}} \\cos\\left(\\Phi_{0}\\right) \\sin\\left(\\Theta_{0}\\right)\\right)} m}{2 \\, U_{c}} + \\frac{\\cos\\left(\\Phi_{0}\\right) \\cos\\left(\\Theta_{0}\\right)}{\\epsilon} + \\frac{{\\left(U_{c} V_{c} \\cos\\left(\\Phi_{0}\\right) \\cos\\left(\\Theta_{0}\\right) \\sin\\left(\\Theta_{0}\\right) - 2 \\, X_{\\mathit{2c}}^{2} \\cos\\left(\\Phi_{0}\\right) \\cos\\left(\\Theta_{0}\\right) \\sin\\left(\\Theta_{0}\\right) + {\\left(\\sin\\left(\\Phi_{0}\\right) \\sin\\left(\\Theta_{0}\\right)^{2} + \\sin\\left(\\Phi_{0}\\right)\\right)} X_{\\mathit{1c}} X_{\\mathit{2c}}\\right)} \\epsilon m^{2}}{2 \\, U_{c}^{2} \\sin\\left(\\Theta_{0}\\right)}, -\\frac{{\\left(U_{c} V_{c} \\sin\\left(\\Phi_{0}\\right) \\sin\\left(\\Theta_{0}\\right)^{2} + {\\left(2 \\, \\cos\\left(\\Theta_{0}\\right)^{2} \\sin\\left(\\Phi_{0}\\right) + \\sin\\left(\\Phi_{0}\\right) \\sin\\left(\\Theta_{0}\\right)^{2}\\right)} X_{\\mathit{1c}}^{2} - {\\left(\\cos\\left(\\Phi_{0}\\right) \\cos\\left(\\Theta_{0}\\right) \\sin\\left(\\Theta_{0}\\right)^{3} + 2 \\, \\cos\\left(\\Phi_{0}\\right) \\cos\\left(\\Theta_{0}\\right) \\sin\\left(\\Theta_{0}\\right)\\right)} X_{\\mathit{1c}} X_{\\mathit{2c}} + {\\left(\\sin\\left(\\Phi_{0}\\right) \\sin\\left(\\Theta_{0}\\right)^{4} - 3 \\, \\sin\\left(\\Phi_{0}\\right) \\sin\\left(\\Theta_{0}\\right)^{2}\\right)} X_{\\mathit{2c}}^{2}\\right)} \\epsilon m^{2}}{2 \\, U_{c}^{2} \\sin\\left(\\Theta_{0}\\right)^{3}} + \\frac{{\\left(2 \\, X_{\\mathit{1c}} \\cos\\left(\\Theta_{0}\\right) \\sin\\left(\\Phi_{0}\\right) + {\\left(\\cos\\left(\\Phi_{0}\\right) \\sin\\left(\\Theta_{0}\\right)^{3} - 2 \\, \\cos\\left(\\Phi_{0}\\right) \\sin\\left(\\Theta_{0}\\right)\\right)} X_{\\mathit{2c}}\\right)} m}{2 \\, U_{c} \\sin\\left(\\Theta_{0}\\right)^{2}} - \\frac{\\sin\\left(\\Phi_{0}\\right)}{\\epsilon \\sin\\left(\\Theta_{0}\\right)}\\right]\\)</html>"
      ],
      "text/latex": [
       "$\\displaystyle \\left[\\frac{1}{2} \\, m \\cos\\left(\\Phi_{0}\\right) \\sin\\left(\\Theta_{0}\\right) + \\frac{{\\left(X_{\\mathit{1c}} \\cos\\left(\\Phi_{0}\\right) \\cos\\left(\\Theta_{0}\\right) \\sin\\left(\\Theta_{0}\\right) - {\\left(\\sin\\left(\\Phi_{0}\\right) \\sin\\left(\\Theta_{0}\\right)^{2} - \\sin\\left(\\Phi_{0}\\right)\\right)} X_{\\mathit{2c}}\\right)} \\epsilon m^{2}}{2 \\, U_{c} \\sin\\left(\\Theta_{0}\\right)}, -\\frac{\\cos\\left(\\Phi_{0}\\right) \\sin\\left(\\Theta_{0}\\right)}{\\epsilon^{2} m} + \\frac{{\\left(2 \\, X_{\\mathit{1c}}^{3} \\cos\\left(\\Phi_{0}\\right) \\cos\\left(\\Theta_{0}\\right) \\sin\\left(\\Theta_{0}\\right)^{3} + 3 \\, {\\left(3 \\, \\cos\\left(\\Phi_{0}\\right) \\cos\\left(\\Theta_{0}\\right) \\sin\\left(\\Theta_{0}\\right)^{3} + 4 \\, \\cos\\left(\\Phi_{0}\\right) \\cos\\left(\\Theta_{0}\\right) \\sin\\left(\\Theta_{0}\\right)\\right)} X_{\\mathit{1c}} X_{\\mathit{2c}}^{2} - 5 \\, {\\left(\\sin\\left(\\Phi_{0}\\right) \\sin\\left(\\Theta_{0}\\right)^{4} - 3 \\, \\sin\\left(\\Phi_{0}\\right) \\sin\\left(\\Theta_{0}\\right)^{2}\\right)} X_{\\mathit{2c}}^{3} - 6 \\, {\\left(U_{c} V_{c} \\sin\\left(\\Phi_{0}\\right) \\sin\\left(\\Theta_{0}\\right)^{2} + {\\left(\\sin\\left(\\Phi_{0}\\right) \\sin\\left(\\Theta_{0}\\right)^{4} + 2 \\, \\cos\\left(\\Theta_{0}\\right)^{2} \\sin\\left(\\Phi_{0}\\right) + \\sin\\left(\\Phi_{0}\\right) \\sin\\left(\\Theta_{0}\\right)^{2}\\right)} X_{\\mathit{1c}}^{2}\\right)} X_{\\mathit{2c}}\\right)} \\epsilon m^{2}}{12 \\, U_{c}^{3} \\sin\\left(\\Theta_{0}\\right)^{3}} + \\frac{{\\left(2 \\, X_{\\mathit{1c}}^{2} \\cos\\left(\\Phi_{0}\\right) \\sin\\left(\\Theta_{0}\\right)^{3} + 4 \\, {\\left(\\cos\\left(\\Theta_{0}\\right) \\sin\\left(\\Phi_{0}\\right) \\sin\\left(\\Theta_{0}\\right)^{2} + \\cos\\left(\\Theta_{0}\\right) \\sin\\left(\\Phi_{0}\\right)\\right)} X_{\\mathit{1c}} X_{\\mathit{2c}} + {\\left(3 \\, \\cos\\left(\\Phi_{0}\\right) \\sin\\left(\\Theta_{0}\\right)^{3} - 4 \\, \\cos\\left(\\Phi_{0}\\right) \\sin\\left(\\Theta_{0}\\right)\\right)} X_{\\mathit{2c}}^{2}\\right)} m}{4 \\, U_{c}^{2} \\sin\\left(\\Theta_{0}\\right)^{2}} - \\frac{X_{\\mathit{1c}} \\cos\\left(\\Phi_{0}\\right) \\cos\\left(\\Theta_{0}\\right) \\sin\\left(\\Theta_{0}\\right) - {\\left(\\sin\\left(\\Phi_{0}\\right) \\sin\\left(\\Theta_{0}\\right)^{2} - \\sin\\left(\\Phi_{0}\\right)\\right)} X_{\\mathit{2c}}}{U_{c} \\epsilon \\sin\\left(\\Theta_{0}\\right)}, -\\frac{{\\left(2 \\, X_{\\mathit{2c}} \\cos\\left(\\Theta_{0}\\right) \\sin\\left(\\Phi_{0}\\right) + X_{\\mathit{1c}} \\cos\\left(\\Phi_{0}\\right) \\sin\\left(\\Theta_{0}\\right)\\right)} m}{2 \\, U_{c}} + \\frac{\\cos\\left(\\Phi_{0}\\right) \\cos\\left(\\Theta_{0}\\right)}{\\epsilon} + \\frac{{\\left(U_{c} V_{c} \\cos\\left(\\Phi_{0}\\right) \\cos\\left(\\Theta_{0}\\right) \\sin\\left(\\Theta_{0}\\right) - 2 \\, X_{\\mathit{2c}}^{2} \\cos\\left(\\Phi_{0}\\right) \\cos\\left(\\Theta_{0}\\right) \\sin\\left(\\Theta_{0}\\right) + {\\left(\\sin\\left(\\Phi_{0}\\right) \\sin\\left(\\Theta_{0}\\right)^{2} + \\sin\\left(\\Phi_{0}\\right)\\right)} X_{\\mathit{1c}} X_{\\mathit{2c}}\\right)} \\epsilon m^{2}}{2 \\, U_{c}^{2} \\sin\\left(\\Theta_{0}\\right)}, -\\frac{{\\left(U_{c} V_{c} \\sin\\left(\\Phi_{0}\\right) \\sin\\left(\\Theta_{0}\\right)^{2} + {\\left(2 \\, \\cos\\left(\\Theta_{0}\\right)^{2} \\sin\\left(\\Phi_{0}\\right) + \\sin\\left(\\Phi_{0}\\right) \\sin\\left(\\Theta_{0}\\right)^{2}\\right)} X_{\\mathit{1c}}^{2} - {\\left(\\cos\\left(\\Phi_{0}\\right) \\cos\\left(\\Theta_{0}\\right) \\sin\\left(\\Theta_{0}\\right)^{3} + 2 \\, \\cos\\left(\\Phi_{0}\\right) \\cos\\left(\\Theta_{0}\\right) \\sin\\left(\\Theta_{0}\\right)\\right)} X_{\\mathit{1c}} X_{\\mathit{2c}} + {\\left(\\sin\\left(\\Phi_{0}\\right) \\sin\\left(\\Theta_{0}\\right)^{4} - 3 \\, \\sin\\left(\\Phi_{0}\\right) \\sin\\left(\\Theta_{0}\\right)^{2}\\right)} X_{\\mathit{2c}}^{2}\\right)} \\epsilon m^{2}}{2 \\, U_{c}^{2} \\sin\\left(\\Theta_{0}\\right)^{3}} + \\frac{{\\left(2 \\, X_{\\mathit{1c}} \\cos\\left(\\Theta_{0}\\right) \\sin\\left(\\Phi_{0}\\right) + {\\left(\\cos\\left(\\Phi_{0}\\right) \\sin\\left(\\Theta_{0}\\right)^{3} - 2 \\, \\cos\\left(\\Phi_{0}\\right) \\sin\\left(\\Theta_{0}\\right)\\right)} X_{\\mathit{2c}}\\right)} m}{2 \\, U_{c} \\sin\\left(\\Theta_{0}\\right)^{2}} - \\frac{\\sin\\left(\\Phi_{0}\\right)}{\\epsilon \\sin\\left(\\Theta_{0}\\right)}\\right]$"
      ],
      "text/plain": [
       "[1/2*m*cos(Phi_0)*sin(Theta_0) + 1/2*(X_1c*cos(Phi_0)*cos(Theta_0)*sin(Theta_0) - (sin(Phi_0)*sin(Theta_0)^2 - sin(Phi_0))*X_2c)*epsilon*m^2/(U_c*sin(Theta_0)),\n",
       " -cos(Phi_0)*sin(Theta_0)/(epsilon^2*m) + 1/12*(2*X_1c^3*cos(Phi_0)*cos(Theta_0)*sin(Theta_0)^3 + 3*(3*cos(Phi_0)*cos(Theta_0)*sin(Theta_0)^3 + 4*cos(Phi_0)*cos(Theta_0)*sin(Theta_0))*X_1c*X_2c^2 - 5*(sin(Phi_0)*sin(Theta_0)^4 - 3*sin(Phi_0)*sin(Theta_0)^2)*X_2c^3 - 6*(U_c*V_c*sin(Phi_0)*sin(Theta_0)^2 + (sin(Phi_0)*sin(Theta_0)^4 + 2*cos(Theta_0)^2*sin(Phi_0) + sin(Phi_0)*sin(Theta_0)^2)*X_1c^2)*X_2c)*epsilon*m^2/(U_c^3*sin(Theta_0)^3) + 1/4*(2*X_1c^2*cos(Phi_0)*sin(Theta_0)^3 + 4*(cos(Theta_0)*sin(Phi_0)*sin(Theta_0)^2 + cos(Theta_0)*sin(Phi_0))*X_1c*X_2c + (3*cos(Phi_0)*sin(Theta_0)^3 - 4*cos(Phi_0)*sin(Theta_0))*X_2c^2)*m/(U_c^2*sin(Theta_0)^2) - (X_1c*cos(Phi_0)*cos(Theta_0)*sin(Theta_0) - (sin(Phi_0)*sin(Theta_0)^2 - sin(Phi_0))*X_2c)/(U_c*epsilon*sin(Theta_0)),\n",
       " -1/2*(2*X_2c*cos(Theta_0)*sin(Phi_0) + X_1c*cos(Phi_0)*sin(Theta_0))*m/U_c + cos(Phi_0)*cos(Theta_0)/epsilon + 1/2*(U_c*V_c*cos(Phi_0)*cos(Theta_0)*sin(Theta_0) - 2*X_2c^2*cos(Phi_0)*cos(Theta_0)*sin(Theta_0) + (sin(Phi_0)*sin(Theta_0)^2 + sin(Phi_0))*X_1c*X_2c)*epsilon*m^2/(U_c^2*sin(Theta_0)),\n",
       " -1/2*(U_c*V_c*sin(Phi_0)*sin(Theta_0)^2 + (2*cos(Theta_0)^2*sin(Phi_0) + sin(Phi_0)*sin(Theta_0)^2)*X_1c^2 - (cos(Phi_0)*cos(Theta_0)*sin(Theta_0)^3 + 2*cos(Phi_0)*cos(Theta_0)*sin(Theta_0))*X_1c*X_2c + (sin(Phi_0)*sin(Theta_0)^4 - 3*sin(Phi_0)*sin(Theta_0)^2)*X_2c^2)*epsilon*m^2/(U_c^2*sin(Theta_0)^3) + 1/2*(2*X_1c*cos(Theta_0)*sin(Phi_0) + (cos(Phi_0)*sin(Theta_0)^3 - 2*cos(Phi_0)*sin(Theta_0))*X_2c)*m/(U_c*sin(Theta_0)^2) - sin(Phi_0)/(epsilon*sin(Theta_0))]"
      ]
     },
     "execution_count": 438,
     "metadata": {},
     "output_type": "execute_result"
    }
   ],
   "source": [
    "T1_UVX = M.vector_field()\n",
    "T1_UVX[:] = [T1_U_simp, T1_V_simp, T1_X1_simp, T1_X2_simp]\n",
    "T1_UVX[:]"
   ]
  },
  {
   "cell_type": "code",
   "execution_count": 439,
   "id": "a5b0f4d0",
   "metadata": {},
   "outputs": [
    {
     "data": {
      "text/html": [
       "<html>\\(\\displaystyle \\left[\\frac{{\\left(X_{\\mathit{2c}} \\cos\\left(\\Theta_{0}\\right)^{2} \\sin\\left(\\Phi_{0}\\right) + X_{\\mathit{1c}} \\cos\\left(\\Phi_{0}\\right) \\cos\\left(\\Theta_{0}\\right) \\sin\\left(\\Theta_{0}\\right)\\right)} \\epsilon^{3} m^{2} - {\\left(\\cos\\left(\\Phi_{0}\\right) \\cos\\left(\\Theta_{0}\\right)^{2} - \\cos\\left(\\Phi_{0}\\right)\\right)} U_{c} \\epsilon^{2} m}{2 \\, U_{c} \\sin\\left(\\Theta_{0}\\right)}, -\\frac{12 \\, U_{c}^{3} \\cos\\left(\\Phi_{0}\\right) \\sin\\left(\\Theta_{0}\\right)^{4} - {\\left(2 \\, X_{\\mathit{1c}}^{3} \\cos\\left(\\Phi_{0}\\right) \\cos\\left(\\Theta_{0}\\right) \\sin\\left(\\Theta_{0}\\right)^{3} + 3 \\, {\\left(3 \\, \\cos\\left(\\Phi_{0}\\right) \\cos\\left(\\Theta_{0}\\right) \\sin\\left(\\Theta_{0}\\right)^{3} + 4 \\, \\cos\\left(\\Phi_{0}\\right) \\cos\\left(\\Theta_{0}\\right) \\sin\\left(\\Theta_{0}\\right)\\right)} X_{\\mathit{1c}} X_{\\mathit{2c}}^{2} - 5 \\, {\\left(\\sin\\left(\\Phi_{0}\\right) \\sin\\left(\\Theta_{0}\\right)^{4} - 3 \\, \\sin\\left(\\Phi_{0}\\right) \\sin\\left(\\Theta_{0}\\right)^{2}\\right)} X_{\\mathit{2c}}^{3} - 6 \\, {\\left(U_{c} V_{c} \\sin\\left(\\Phi_{0}\\right) \\sin\\left(\\Theta_{0}\\right)^{2} + {\\left(\\sin\\left(\\Phi_{0}\\right) \\sin\\left(\\Theta_{0}\\right)^{4} - \\sin\\left(\\Phi_{0}\\right) \\sin\\left(\\Theta_{0}\\right)^{2} + 2 \\, \\sin\\left(\\Phi_{0}\\right)\\right)} X_{\\mathit{1c}}^{2}\\right)} X_{\\mathit{2c}}\\right)} \\epsilon^{3} m^{3} - 3 \\, {\\left(2 \\, U_{c} X_{\\mathit{1c}}^{2} \\cos\\left(\\Phi_{0}\\right) \\sin\\left(\\Theta_{0}\\right)^{4} + 4 \\, {\\left(\\cos\\left(\\Theta_{0}\\right) \\sin\\left(\\Phi_{0}\\right) \\sin\\left(\\Theta_{0}\\right)^{3} + \\cos\\left(\\Theta_{0}\\right) \\sin\\left(\\Phi_{0}\\right) \\sin\\left(\\Theta_{0}\\right)\\right)} U_{c} X_{\\mathit{1c}} X_{\\mathit{2c}} + {\\left(3 \\, \\cos\\left(\\Phi_{0}\\right) \\sin\\left(\\Theta_{0}\\right)^{4} - 4 \\, \\cos\\left(\\Phi_{0}\\right) \\sin\\left(\\Theta_{0}\\right)^{2}\\right)} U_{c} X_{\\mathit{2c}}^{2}\\right)} \\epsilon^{2} m^{2} + 12 \\, {\\left(U_{c}^{2} X_{\\mathit{1c}} \\cos\\left(\\Phi_{0}\\right) \\cos\\left(\\Theta_{0}\\right) \\sin\\left(\\Theta_{0}\\right)^{3} - {\\left(\\sin\\left(\\Phi_{0}\\right) \\sin\\left(\\Theta_{0}\\right)^{4} - \\sin\\left(\\Phi_{0}\\right) \\sin\\left(\\Theta_{0}\\right)^{2}\\right)} U_{c}^{2} X_{\\mathit{2c}}\\right)} \\epsilon m}{12 \\, U_{c}^{3} m \\sin\\left(\\Theta_{0}\\right)^{3}}, \\frac{{\\left(U_{c} V_{c} \\cos\\left(\\Phi_{0}\\right) \\cos\\left(\\Theta_{0}\\right) \\sin\\left(\\Theta_{0}\\right) - 2 \\, X_{\\mathit{2c}}^{2} \\cos\\left(\\Phi_{0}\\right) \\cos\\left(\\Theta_{0}\\right) \\sin\\left(\\Theta_{0}\\right) + {\\left(\\sin\\left(\\Phi_{0}\\right) \\sin\\left(\\Theta_{0}\\right)^{2} + \\sin\\left(\\Phi_{0}\\right)\\right)} X_{\\mathit{1c}} X_{\\mathit{2c}}\\right)} \\epsilon^{3} m^{2} + 2 \\, U_{c}^{2} \\epsilon \\cos\\left(\\Phi_{0}\\right) \\cos\\left(\\Theta_{0}\\right) \\sin\\left(\\Theta_{0}\\right) - {\\left(2 \\, U_{c} X_{\\mathit{2c}} \\cos\\left(\\Theta_{0}\\right) \\sin\\left(\\Phi_{0}\\right) \\sin\\left(\\Theta_{0}\\right) + U_{c} X_{\\mathit{1c}} \\cos\\left(\\Phi_{0}\\right) \\sin\\left(\\Theta_{0}\\right)^{2}\\right)} \\epsilon^{2} m}{2 \\, U_{c}^{2} \\sin\\left(\\Theta_{0}\\right)}, -\\frac{{\\left(U_{c} V_{c} \\sin\\left(\\Phi_{0}\\right) \\sin\\left(\\Theta_{0}\\right)^{2} - {\\left(\\sin\\left(\\Phi_{0}\\right) \\sin\\left(\\Theta_{0}\\right)^{2} - 2 \\, \\sin\\left(\\Phi_{0}\\right)\\right)} X_{\\mathit{1c}}^{2} - {\\left(\\cos\\left(\\Phi_{0}\\right) \\cos\\left(\\Theta_{0}\\right) \\sin\\left(\\Theta_{0}\\right)^{3} + 2 \\, \\cos\\left(\\Phi_{0}\\right) \\cos\\left(\\Theta_{0}\\right) \\sin\\left(\\Theta_{0}\\right)\\right)} X_{\\mathit{1c}} X_{\\mathit{2c}} + {\\left(\\sin\\left(\\Phi_{0}\\right) \\sin\\left(\\Theta_{0}\\right)^{4} - 3 \\, \\sin\\left(\\Phi_{0}\\right) \\sin\\left(\\Theta_{0}\\right)^{2}\\right)} X_{\\mathit{2c}}^{2}\\right)} \\epsilon^{3} m^{2} + 2 \\, U_{c}^{2} \\epsilon \\sin\\left(\\Phi_{0}\\right) \\sin\\left(\\Theta_{0}\\right)^{2} - {\\left(2 \\, U_{c} X_{\\mathit{1c}} \\cos\\left(\\Theta_{0}\\right) \\sin\\left(\\Phi_{0}\\right) \\sin\\left(\\Theta_{0}\\right) + {\\left(\\cos\\left(\\Phi_{0}\\right) \\sin\\left(\\Theta_{0}\\right)^{4} - 2 \\, \\cos\\left(\\Phi_{0}\\right) \\sin\\left(\\Theta_{0}\\right)^{2}\\right)} U_{c} X_{\\mathit{2c}}\\right)} \\epsilon^{2} m}{2 \\, U_{c}^{2} \\sin\\left(\\Theta_{0}\\right)^{3}}\\right]\\)</html>"
      ],
      "text/latex": [
       "$\\displaystyle \\left[\\frac{{\\left(X_{\\mathit{2c}} \\cos\\left(\\Theta_{0}\\right)^{2} \\sin\\left(\\Phi_{0}\\right) + X_{\\mathit{1c}} \\cos\\left(\\Phi_{0}\\right) \\cos\\left(\\Theta_{0}\\right) \\sin\\left(\\Theta_{0}\\right)\\right)} \\epsilon^{3} m^{2} - {\\left(\\cos\\left(\\Phi_{0}\\right) \\cos\\left(\\Theta_{0}\\right)^{2} - \\cos\\left(\\Phi_{0}\\right)\\right)} U_{c} \\epsilon^{2} m}{2 \\, U_{c} \\sin\\left(\\Theta_{0}\\right)}, -\\frac{12 \\, U_{c}^{3} \\cos\\left(\\Phi_{0}\\right) \\sin\\left(\\Theta_{0}\\right)^{4} - {\\left(2 \\, X_{\\mathit{1c}}^{3} \\cos\\left(\\Phi_{0}\\right) \\cos\\left(\\Theta_{0}\\right) \\sin\\left(\\Theta_{0}\\right)^{3} + 3 \\, {\\left(3 \\, \\cos\\left(\\Phi_{0}\\right) \\cos\\left(\\Theta_{0}\\right) \\sin\\left(\\Theta_{0}\\right)^{3} + 4 \\, \\cos\\left(\\Phi_{0}\\right) \\cos\\left(\\Theta_{0}\\right) \\sin\\left(\\Theta_{0}\\right)\\right)} X_{\\mathit{1c}} X_{\\mathit{2c}}^{2} - 5 \\, {\\left(\\sin\\left(\\Phi_{0}\\right) \\sin\\left(\\Theta_{0}\\right)^{4} - 3 \\, \\sin\\left(\\Phi_{0}\\right) \\sin\\left(\\Theta_{0}\\right)^{2}\\right)} X_{\\mathit{2c}}^{3} - 6 \\, {\\left(U_{c} V_{c} \\sin\\left(\\Phi_{0}\\right) \\sin\\left(\\Theta_{0}\\right)^{2} + {\\left(\\sin\\left(\\Phi_{0}\\right) \\sin\\left(\\Theta_{0}\\right)^{4} - \\sin\\left(\\Phi_{0}\\right) \\sin\\left(\\Theta_{0}\\right)^{2} + 2 \\, \\sin\\left(\\Phi_{0}\\right)\\right)} X_{\\mathit{1c}}^{2}\\right)} X_{\\mathit{2c}}\\right)} \\epsilon^{3} m^{3} - 3 \\, {\\left(2 \\, U_{c} X_{\\mathit{1c}}^{2} \\cos\\left(\\Phi_{0}\\right) \\sin\\left(\\Theta_{0}\\right)^{4} + 4 \\, {\\left(\\cos\\left(\\Theta_{0}\\right) \\sin\\left(\\Phi_{0}\\right) \\sin\\left(\\Theta_{0}\\right)^{3} + \\cos\\left(\\Theta_{0}\\right) \\sin\\left(\\Phi_{0}\\right) \\sin\\left(\\Theta_{0}\\right)\\right)} U_{c} X_{\\mathit{1c}} X_{\\mathit{2c}} + {\\left(3 \\, \\cos\\left(\\Phi_{0}\\right) \\sin\\left(\\Theta_{0}\\right)^{4} - 4 \\, \\cos\\left(\\Phi_{0}\\right) \\sin\\left(\\Theta_{0}\\right)^{2}\\right)} U_{c} X_{\\mathit{2c}}^{2}\\right)} \\epsilon^{2} m^{2} + 12 \\, {\\left(U_{c}^{2} X_{\\mathit{1c}} \\cos\\left(\\Phi_{0}\\right) \\cos\\left(\\Theta_{0}\\right) \\sin\\left(\\Theta_{0}\\right)^{3} - {\\left(\\sin\\left(\\Phi_{0}\\right) \\sin\\left(\\Theta_{0}\\right)^{4} - \\sin\\left(\\Phi_{0}\\right) \\sin\\left(\\Theta_{0}\\right)^{2}\\right)} U_{c}^{2} X_{\\mathit{2c}}\\right)} \\epsilon m}{12 \\, U_{c}^{3} m \\sin\\left(\\Theta_{0}\\right)^{3}}, \\frac{{\\left(U_{c} V_{c} \\cos\\left(\\Phi_{0}\\right) \\cos\\left(\\Theta_{0}\\right) \\sin\\left(\\Theta_{0}\\right) - 2 \\, X_{\\mathit{2c}}^{2} \\cos\\left(\\Phi_{0}\\right) \\cos\\left(\\Theta_{0}\\right) \\sin\\left(\\Theta_{0}\\right) + {\\left(\\sin\\left(\\Phi_{0}\\right) \\sin\\left(\\Theta_{0}\\right)^{2} + \\sin\\left(\\Phi_{0}\\right)\\right)} X_{\\mathit{1c}} X_{\\mathit{2c}}\\right)} \\epsilon^{3} m^{2} + 2 \\, U_{c}^{2} \\epsilon \\cos\\left(\\Phi_{0}\\right) \\cos\\left(\\Theta_{0}\\right) \\sin\\left(\\Theta_{0}\\right) - {\\left(2 \\, U_{c} X_{\\mathit{2c}} \\cos\\left(\\Theta_{0}\\right) \\sin\\left(\\Phi_{0}\\right) \\sin\\left(\\Theta_{0}\\right) + U_{c} X_{\\mathit{1c}} \\cos\\left(\\Phi_{0}\\right) \\sin\\left(\\Theta_{0}\\right)^{2}\\right)} \\epsilon^{2} m}{2 \\, U_{c}^{2} \\sin\\left(\\Theta_{0}\\right)}, -\\frac{{\\left(U_{c} V_{c} \\sin\\left(\\Phi_{0}\\right) \\sin\\left(\\Theta_{0}\\right)^{2} - {\\left(\\sin\\left(\\Phi_{0}\\right) \\sin\\left(\\Theta_{0}\\right)^{2} - 2 \\, \\sin\\left(\\Phi_{0}\\right)\\right)} X_{\\mathit{1c}}^{2} - {\\left(\\cos\\left(\\Phi_{0}\\right) \\cos\\left(\\Theta_{0}\\right) \\sin\\left(\\Theta_{0}\\right)^{3} + 2 \\, \\cos\\left(\\Phi_{0}\\right) \\cos\\left(\\Theta_{0}\\right) \\sin\\left(\\Theta_{0}\\right)\\right)} X_{\\mathit{1c}} X_{\\mathit{2c}} + {\\left(\\sin\\left(\\Phi_{0}\\right) \\sin\\left(\\Theta_{0}\\right)^{4} - 3 \\, \\sin\\left(\\Phi_{0}\\right) \\sin\\left(\\Theta_{0}\\right)^{2}\\right)} X_{\\mathit{2c}}^{2}\\right)} \\epsilon^{3} m^{2} + 2 \\, U_{c}^{2} \\epsilon \\sin\\left(\\Phi_{0}\\right) \\sin\\left(\\Theta_{0}\\right)^{2} - {\\left(2 \\, U_{c} X_{\\mathit{1c}} \\cos\\left(\\Theta_{0}\\right) \\sin\\left(\\Phi_{0}\\right) \\sin\\left(\\Theta_{0}\\right) + {\\left(\\cos\\left(\\Phi_{0}\\right) \\sin\\left(\\Theta_{0}\\right)^{4} - 2 \\, \\cos\\left(\\Phi_{0}\\right) \\sin\\left(\\Theta_{0}\\right)^{2}\\right)} U_{c} X_{\\mathit{2c}}\\right)} \\epsilon^{2} m}{2 \\, U_{c}^{2} \\sin\\left(\\Theta_{0}\\right)^{3}}\\right]$"
      ],
      "text/plain": [
       "[1/2*((X_2c*cos(Theta_0)^2*sin(Phi_0) + X_1c*cos(Phi_0)*cos(Theta_0)*sin(Theta_0))*epsilon^3*m^2 - (cos(Phi_0)*cos(Theta_0)^2 - cos(Phi_0))*U_c*epsilon^2*m)/(U_c*sin(Theta_0)),\n",
       " -1/12*(12*U_c^3*cos(Phi_0)*sin(Theta_0)^4 - (2*X_1c^3*cos(Phi_0)*cos(Theta_0)*sin(Theta_0)^3 + 3*(3*cos(Phi_0)*cos(Theta_0)*sin(Theta_0)^3 + 4*cos(Phi_0)*cos(Theta_0)*sin(Theta_0))*X_1c*X_2c^2 - 5*(sin(Phi_0)*sin(Theta_0)^4 - 3*sin(Phi_0)*sin(Theta_0)^2)*X_2c^3 - 6*(U_c*V_c*sin(Phi_0)*sin(Theta_0)^2 + (sin(Phi_0)*sin(Theta_0)^4 - sin(Phi_0)*sin(Theta_0)^2 + 2*sin(Phi_0))*X_1c^2)*X_2c)*epsilon^3*m^3 - 3*(2*U_c*X_1c^2*cos(Phi_0)*sin(Theta_0)^4 + 4*(cos(Theta_0)*sin(Phi_0)*sin(Theta_0)^3 + cos(Theta_0)*sin(Phi_0)*sin(Theta_0))*U_c*X_1c*X_2c + (3*cos(Phi_0)*sin(Theta_0)^4 - 4*cos(Phi_0)*sin(Theta_0)^2)*U_c*X_2c^2)*epsilon^2*m^2 + 12*(U_c^2*X_1c*cos(Phi_0)*cos(Theta_0)*sin(Theta_0)^3 - (sin(Phi_0)*sin(Theta_0)^4 - sin(Phi_0)*sin(Theta_0)^2)*U_c^2*X_2c)*epsilon*m)/(U_c^3*m*sin(Theta_0)^3),\n",
       " 1/2*((U_c*V_c*cos(Phi_0)*cos(Theta_0)*sin(Theta_0) - 2*X_2c^2*cos(Phi_0)*cos(Theta_0)*sin(Theta_0) + (sin(Phi_0)*sin(Theta_0)^2 + sin(Phi_0))*X_1c*X_2c)*epsilon^3*m^2 + 2*U_c^2*epsilon*cos(Phi_0)*cos(Theta_0)*sin(Theta_0) - (2*U_c*X_2c*cos(Theta_0)*sin(Phi_0)*sin(Theta_0) + U_c*X_1c*cos(Phi_0)*sin(Theta_0)^2)*epsilon^2*m)/(U_c^2*sin(Theta_0)),\n",
       " -1/2*((U_c*V_c*sin(Phi_0)*sin(Theta_0)^2 - (sin(Phi_0)*sin(Theta_0)^2 - 2*sin(Phi_0))*X_1c^2 - (cos(Phi_0)*cos(Theta_0)*sin(Theta_0)^3 + 2*cos(Phi_0)*cos(Theta_0)*sin(Theta_0))*X_1c*X_2c + (sin(Phi_0)*sin(Theta_0)^4 - 3*sin(Phi_0)*sin(Theta_0)^2)*X_2c^2)*epsilon^3*m^2 + 2*U_c^2*epsilon*sin(Phi_0)*sin(Theta_0)^2 - (2*U_c*X_1c*cos(Theta_0)*sin(Phi_0)*sin(Theta_0) + (cos(Phi_0)*sin(Theta_0)^4 - 2*cos(Phi_0)*sin(Theta_0)^2)*U_c*X_2c)*epsilon^2*m)/(U_c^2*sin(Theta_0)^3)]"
      ]
     },
     "execution_count": 439,
     "metadata": {},
     "output_type": "execute_result"
    }
   ],
   "source": [
    "T1_UVX_eps = T1_UVX*eps^2\n",
    "T1_UVX_eps[:]"
   ]
  },
  {
   "cell_type": "code",
   "execution_count": 440,
   "id": "f02d1d70",
   "metadata": {},
   "outputs": [
    {
     "data": {
      "text/html": [
       "<html>\\(\\displaystyle \\left[0, -\\frac{\\cos\\left(\\Phi_{0}\\right) \\sin\\left(\\Theta_{0}\\right)}{m}, 0, 0\\right]\\)</html>"
      ],
      "text/latex": [
       "$\\displaystyle \\left[0, -\\frac{\\cos\\left(\\Phi_{0}\\right) \\sin\\left(\\Theta_{0}\\right)}{m}, 0, 0\\right]$"
      ],
      "text/plain": [
       "[0, -cos(Phi_0)*sin(Theta_0)/m, 0, 0]"
      ]
     },
     "execution_count": 440,
     "metadata": {},
     "output_type": "execute_result"
    }
   ],
   "source": [
    "T1_UVX_CL = T1_UVX_eps.copy()\n",
    "T1_UVX_CL.apply_map(lambda x: x.subs({eps:0}))\n",
    "T1_UVX_CL[:]"
   ]
  },
  {
   "cell_type": "code",
   "execution_count": 441,
   "id": "7f3a29e7",
   "metadata": {},
   "outputs": [
    {
     "data": {
      "text/html": [
       "<html>\\(\\displaystyle \\left[0, \\sin\\left({\\phi}\\right) \\sin\\left({\\theta}\\right), \\frac{\\cos\\left({\\theta}\\right) \\sin\\left({\\phi}\\right)}{r}, \\frac{\\cos\\left({\\phi}\\right)}{r \\sin\\left({\\theta}\\right)}\\right]\\)</html>"
      ],
      "text/latex": [
       "$\\displaystyle \\left[0, \\sin\\left({\\phi}\\right) \\sin\\left({\\theta}\\right), \\frac{\\cos\\left({\\theta}\\right) \\sin\\left({\\phi}\\right)}{r}, \\frac{\\cos\\left({\\phi}\\right)}{r \\sin\\left({\\theta}\\right)}\\right]$"
      ],
      "text/plain": [
       "[0, sin(ph)*sin(th), cos(th)*sin(ph)/r, cos(ph)/(r*sin(th))]"
      ]
     },
     "execution_count": 441,
     "metadata": {},
     "output_type": "execute_result"
    }
   ],
   "source": [
    "T2 = M.vector_field(name='T_2')\n",
    "T2[:] = [0, sin(ph)*sin(th), sin(ph)*cos(th)/r, cos(ph)/(r*sin(th))]\n",
    "T2[:]"
   ]
  },
  {
   "cell_type": "code",
   "execution_count": 442,
   "id": "b04bc55a",
   "metadata": {},
   "outputs": [
    {
     "data": {
      "text/html": [
       "<html>\\(\\displaystyle \\left(-\\frac{2 \\, {\\left({\\left(2 \\, \\Phi_{0} m {\\phi} - m {\\phi}^{2} - {\\left(\\Phi_{0}^{2} + 4\\right)} m\\right)} r \\sin\\left({\\phi}\\right) \\sin\\left({\\theta}\\right)^{2} - 2 \\, {\\left(\\Phi_{0} m - m {\\phi}\\right)} r \\cos\\left({\\phi}\\right) - 2 \\, {\\left(\\Phi_{0} m - m {\\phi}\\right)} t \\cos\\left({\\phi}\\right)\\right)}}{{\\left(\\Phi_{0}^{4} - 4 \\, \\Phi_{0} {\\phi}^{3} + {\\phi}^{4} + 2 \\, {\\left(3 \\, \\Phi_{0}^{2} + 4\\right)} {\\phi}^{2} + 8 \\, \\Phi_{0}^{2} - 4 \\, {\\left(\\Phi_{0}^{3} + 4 \\, \\Phi_{0}\\right)} {\\phi} + 16\\right)} r \\sin\\left({\\theta}\\right)}, \\frac{4 \\, {\\left({\\left(\\Phi_{0}^{2} - 2 \\, \\Phi_{0} {\\phi} + {\\phi}^{2} + 4\\right)} r \\sin\\left({\\phi}\\right) \\sin\\left({\\theta}\\right)^{2} + 2 \\, {\\left(\\Phi_{0} - {\\phi}\\right)} r \\cos\\left({\\phi}\\right) + 2 \\, {\\left(\\Phi_{0} - {\\phi}\\right)} t \\cos\\left({\\phi}\\right)\\right)}}{{\\left(4 \\, \\Phi_{0} \\epsilon^{2} m {\\phi}^{3} - \\epsilon^{2} m {\\phi}^{4} - 2 \\, {\\left(3 \\, \\Phi_{0}^{2} + 4\\right)} \\epsilon^{2} m {\\phi}^{2} + 4 \\, {\\left(\\Phi_{0}^{3} + 4 \\, \\Phi_{0}\\right)} \\epsilon^{2} m {\\phi} - {\\left(\\Phi_{0}^{4} + 8 \\, \\Phi_{0}^{2} + 16\\right)} \\epsilon^{2} m\\right)} r \\sin\\left({\\theta}\\right)}, \\frac{2 \\, {\\left(2 \\, {\\left(\\Phi_{0} \\Theta_{0} - \\Theta_{0} {\\phi}\\right)} r \\cos\\left({\\phi}\\right) + 2 \\, {\\left(\\Phi_{0} \\Theta_{0} - \\Theta_{0} {\\phi}\\right)} t \\cos\\left({\\phi}\\right) - {\\left({\\left(\\Phi_{0}^{2} - 2 \\, \\Phi_{0} {\\phi} + {\\phi}^{2} + 4\\right)} r \\sin\\left({\\phi}\\right) + {\\left(\\Phi_{0}^{2} - 2 \\, \\Phi_{0} {\\phi} + {\\phi}^{2} + 4\\right)} t \\sin\\left({\\phi}\\right)\\right)} \\cos\\left({\\theta}\\right) \\sin\\left({\\theta}\\right) - {\\left({\\left(\\Phi_{0}^{2} - 2 \\, \\Phi_{0} {\\phi} + {\\phi}^{2} + 4\\right)} r {\\theta} \\sin\\left({\\phi}\\right) + {\\left(2 \\, \\Phi_{0} \\Theta_{0} {\\phi} - \\Theta_{0} {\\phi}^{2} - {\\left(\\Phi_{0}^{2} + 4\\right)} \\Theta_{0}\\right)} r \\sin\\left({\\phi}\\right)\\right)} \\sin\\left({\\theta}\\right)^{2} - 2 \\, {\\left({\\left(\\Phi_{0} - {\\phi}\\right)} r \\cos\\left({\\phi}\\right) + {\\left(\\Phi_{0} - {\\phi}\\right)} t \\cos\\left({\\phi}\\right)\\right)} {\\theta}\\right)}}{{\\left(4 \\, \\Phi_{0} \\epsilon {\\phi}^{3} - \\epsilon {\\phi}^{4} - 2 \\, {\\left(3 \\, \\Phi_{0}^{2} + 4\\right)} \\epsilon {\\phi}^{2} + 4 \\, {\\left(\\Phi_{0}^{3} + 4 \\, \\Phi_{0}\\right)} \\epsilon {\\phi} - {\\left(\\Phi_{0}^{4} + 8 \\, \\Phi_{0}^{2} + 16\\right)} \\epsilon\\right)} r \\sin\\left({\\theta}\\right)}, \\frac{2 \\, {\\left({\\left(\\Phi_{0}^{3} + 3 \\, \\Phi_{0} {\\phi}^{2} - {\\phi}^{3} - {\\left(3 \\, \\Phi_{0}^{2} + 4\\right)} {\\phi} + 4 \\, \\Phi_{0}\\right)} r \\sin\\left({\\phi}\\right) \\sin\\left({\\theta}\\right)^{2} + {\\left(\\Phi_{0}^{2} - 2 \\, \\Phi_{0} {\\phi} + {\\phi}^{2} - 4\\right)} r \\cos\\left({\\phi}\\right) + {\\left(\\Phi_{0}^{2} - 2 \\, \\Phi_{0} {\\phi} + {\\phi}^{2} - 4\\right)} t \\cos\\left({\\phi}\\right)\\right)}}{{\\left(4 \\, \\Phi_{0} \\epsilon {\\phi}^{3} - \\epsilon {\\phi}^{4} - 2 \\, {\\left(3 \\, \\Phi_{0}^{2} + 4\\right)} \\epsilon {\\phi}^{2} + 4 \\, {\\left(\\Phi_{0}^{3} + 4 \\, \\Phi_{0}\\right)} \\epsilon {\\phi} - {\\left(\\Phi_{0}^{4} + 8 \\, \\Phi_{0}^{2} + 16\\right)} \\epsilon\\right)} r \\sin\\left({\\theta}\\right)}\\right)\\)</html>"
      ],
      "text/latex": [
       "$\\displaystyle \\left(-\\frac{2 \\, {\\left({\\left(2 \\, \\Phi_{0} m {\\phi} - m {\\phi}^{2} - {\\left(\\Phi_{0}^{2} + 4\\right)} m\\right)} r \\sin\\left({\\phi}\\right) \\sin\\left({\\theta}\\right)^{2} - 2 \\, {\\left(\\Phi_{0} m - m {\\phi}\\right)} r \\cos\\left({\\phi}\\right) - 2 \\, {\\left(\\Phi_{0} m - m {\\phi}\\right)} t \\cos\\left({\\phi}\\right)\\right)}}{{\\left(\\Phi_{0}^{4} - 4 \\, \\Phi_{0} {\\phi}^{3} + {\\phi}^{4} + 2 \\, {\\left(3 \\, \\Phi_{0}^{2} + 4\\right)} {\\phi}^{2} + 8 \\, \\Phi_{0}^{2} - 4 \\, {\\left(\\Phi_{0}^{3} + 4 \\, \\Phi_{0}\\right)} {\\phi} + 16\\right)} r \\sin\\left({\\theta}\\right)}, \\frac{4 \\, {\\left({\\left(\\Phi_{0}^{2} - 2 \\, \\Phi_{0} {\\phi} + {\\phi}^{2} + 4\\right)} r \\sin\\left({\\phi}\\right) \\sin\\left({\\theta}\\right)^{2} + 2 \\, {\\left(\\Phi_{0} - {\\phi}\\right)} r \\cos\\left({\\phi}\\right) + 2 \\, {\\left(\\Phi_{0} - {\\phi}\\right)} t \\cos\\left({\\phi}\\right)\\right)}}{{\\left(4 \\, \\Phi_{0} \\epsilon^{2} m {\\phi}^{3} - \\epsilon^{2} m {\\phi}^{4} - 2 \\, {\\left(3 \\, \\Phi_{0}^{2} + 4\\right)} \\epsilon^{2} m {\\phi}^{2} + 4 \\, {\\left(\\Phi_{0}^{3} + 4 \\, \\Phi_{0}\\right)} \\epsilon^{2} m {\\phi} - {\\left(\\Phi_{0}^{4} + 8 \\, \\Phi_{0}^{2} + 16\\right)} \\epsilon^{2} m\\right)} r \\sin\\left({\\theta}\\right)}, \\frac{2 \\, {\\left(2 \\, {\\left(\\Phi_{0} \\Theta_{0} - \\Theta_{0} {\\phi}\\right)} r \\cos\\left({\\phi}\\right) + 2 \\, {\\left(\\Phi_{0} \\Theta_{0} - \\Theta_{0} {\\phi}\\right)} t \\cos\\left({\\phi}\\right) - {\\left({\\left(\\Phi_{0}^{2} - 2 \\, \\Phi_{0} {\\phi} + {\\phi}^{2} + 4\\right)} r \\sin\\left({\\phi}\\right) + {\\left(\\Phi_{0}^{2} - 2 \\, \\Phi_{0} {\\phi} + {\\phi}^{2} + 4\\right)} t \\sin\\left({\\phi}\\right)\\right)} \\cos\\left({\\theta}\\right) \\sin\\left({\\theta}\\right) - {\\left({\\left(\\Phi_{0}^{2} - 2 \\, \\Phi_{0} {\\phi} + {\\phi}^{2} + 4\\right)} r {\\theta} \\sin\\left({\\phi}\\right) + {\\left(2 \\, \\Phi_{0} \\Theta_{0} {\\phi} - \\Theta_{0} {\\phi}^{2} - {\\left(\\Phi_{0}^{2} + 4\\right)} \\Theta_{0}\\right)} r \\sin\\left({\\phi}\\right)\\right)} \\sin\\left({\\theta}\\right)^{2} - 2 \\, {\\left({\\left(\\Phi_{0} - {\\phi}\\right)} r \\cos\\left({\\phi}\\right) + {\\left(\\Phi_{0} - {\\phi}\\right)} t \\cos\\left({\\phi}\\right)\\right)} {\\theta}\\right)}}{{\\left(4 \\, \\Phi_{0} \\epsilon {\\phi}^{3} - \\epsilon {\\phi}^{4} - 2 \\, {\\left(3 \\, \\Phi_{0}^{2} + 4\\right)} \\epsilon {\\phi}^{2} + 4 \\, {\\left(\\Phi_{0}^{3} + 4 \\, \\Phi_{0}\\right)} \\epsilon {\\phi} - {\\left(\\Phi_{0}^{4} + 8 \\, \\Phi_{0}^{2} + 16\\right)} \\epsilon\\right)} r \\sin\\left({\\theta}\\right)}, \\frac{2 \\, {\\left({\\left(\\Phi_{0}^{3} + 3 \\, \\Phi_{0} {\\phi}^{2} - {\\phi}^{3} - {\\left(3 \\, \\Phi_{0}^{2} + 4\\right)} {\\phi} + 4 \\, \\Phi_{0}\\right)} r \\sin\\left({\\phi}\\right) \\sin\\left({\\theta}\\right)^{2} + {\\left(\\Phi_{0}^{2} - 2 \\, \\Phi_{0} {\\phi} + {\\phi}^{2} - 4\\right)} r \\cos\\left({\\phi}\\right) + {\\left(\\Phi_{0}^{2} - 2 \\, \\Phi_{0} {\\phi} + {\\phi}^{2} - 4\\right)} t \\cos\\left({\\phi}\\right)\\right)}}{{\\left(4 \\, \\Phi_{0} \\epsilon {\\phi}^{3} - \\epsilon {\\phi}^{4} - 2 \\, {\\left(3 \\, \\Phi_{0}^{2} + 4\\right)} \\epsilon {\\phi}^{2} + 4 \\, {\\left(\\Phi_{0}^{3} + 4 \\, \\Phi_{0}\\right)} \\epsilon {\\phi} - {\\left(\\Phi_{0}^{4} + 8 \\, \\Phi_{0}^{2} + 16\\right)} \\epsilon\\right)} r \\sin\\left({\\theta}\\right)}\\right)$"
      ],
      "text/plain": [
       "(-2*((2*Phi_0*m*ph - m*ph^2 - (Phi_0^2 + 4)*m)*r*sin(ph)*sin(th)^2 - 2*(Phi_0*m - m*ph)*r*cos(ph) - 2*(Phi_0*m - m*ph)*t*cos(ph))/((Phi_0^4 - 4*Phi_0*ph^3 + ph^4 + 2*(3*Phi_0^2 + 4)*ph^2 + 8*Phi_0^2 - 4*(Phi_0^3 + 4*Phi_0)*ph + 16)*r*sin(th)),\n",
       " 4*((Phi_0^2 - 2*Phi_0*ph + ph^2 + 4)*r*sin(ph)*sin(th)^2 + 2*(Phi_0 - ph)*r*cos(ph) + 2*(Phi_0 - ph)*t*cos(ph))/((4*Phi_0*epsilon^2*m*ph^3 - epsilon^2*m*ph^4 - 2*(3*Phi_0^2 + 4)*epsilon^2*m*ph^2 + 4*(Phi_0^3 + 4*Phi_0)*epsilon^2*m*ph - (Phi_0^4 + 8*Phi_0^2 + 16)*epsilon^2*m)*r*sin(th)),\n",
       " 2*(2*(Phi_0*Theta_0 - Theta_0*ph)*r*cos(ph) + 2*(Phi_0*Theta_0 - Theta_0*ph)*t*cos(ph) - ((Phi_0^2 - 2*Phi_0*ph + ph^2 + 4)*r*sin(ph) + (Phi_0^2 - 2*Phi_0*ph + ph^2 + 4)*t*sin(ph))*cos(th)*sin(th) - ((Phi_0^2 - 2*Phi_0*ph + ph^2 + 4)*r*th*sin(ph) + (2*Phi_0*Theta_0*ph - Theta_0*ph^2 - (Phi_0^2 + 4)*Theta_0)*r*sin(ph))*sin(th)^2 - 2*((Phi_0 - ph)*r*cos(ph) + (Phi_0 - ph)*t*cos(ph))*th)/((4*Phi_0*epsilon*ph^3 - epsilon*ph^4 - 2*(3*Phi_0^2 + 4)*epsilon*ph^2 + 4*(Phi_0^3 + 4*Phi_0)*epsilon*ph - (Phi_0^4 + 8*Phi_0^2 + 16)*epsilon)*r*sin(th)),\n",
       " 2*((Phi_0^3 + 3*Phi_0*ph^2 - ph^3 - (3*Phi_0^2 + 4)*ph + 4*Phi_0)*r*sin(ph)*sin(th)^2 + (Phi_0^2 - 2*Phi_0*ph + ph^2 - 4)*r*cos(ph) + (Phi_0^2 - 2*Phi_0*ph + ph^2 - 4)*t*cos(ph))/((4*Phi_0*epsilon*ph^3 - epsilon*ph^4 - 2*(3*Phi_0^2 + 4)*epsilon*ph^2 + 4*(Phi_0^3 + 4*Phi_0)*epsilon*ph - (Phi_0^4 + 8*Phi_0^2 + 16)*epsilon)*r*sin(th)))"
      ]
     },
     "execution_count": 442,
     "metadata": {},
     "output_type": "execute_result"
    }
   ],
   "source": [
    "T2_U = jacOeps2[0, 0]*T2[0] + jacOeps2[0, 1]*T2[1] + jacOeps2[0, 2]*T2[2] + jacOeps2[0, 3]*T2[3]\n",
    "T2_V = jacOeps2[1, 0]*T2[0] + jacOeps2[1, 1]*T2[1] + jacOeps2[1, 2]*T2[2] + jacOeps2[1, 3]*T2[3]\n",
    "T2_X1 = jacOeps2[2, 0]*T2[0] + jacOeps2[2, 1]*T2[1] + jacOeps2[2, 2]*T2[2] + jacOeps2[2, 3]*T2[3]\n",
    "T2_X2 = jacOeps2[3, 0]*T2[0] + jacOeps2[3, 1]*T2[1] + jacOeps2[3, 2]*T2[2] + jacOeps2[3, 3]*T2[3]\n",
    "T2_U, T2_V, T2_X1, T2_X2"
   ]
  },
  {
   "cell_type": "code",
   "execution_count": 443,
   "id": "ae7d84d7",
   "metadata": {},
   "outputs": [
    {
     "data": {
      "text/html": [
       "<html>\\(\\displaystyle \\left(\\frac{1}{2} \\, m \\sin\\left(\\Phi_{0}\\right) \\sin\\left(\\Theta_{0}\\right) + \\frac{{\\left(X_{\\mathit{1c}} \\cos\\left(\\Theta_{0}\\right) \\sin\\left(\\Phi_{0}\\right) \\sin\\left(\\Theta_{0}\\right) + {\\left(\\cos\\left(\\Phi_{0}\\right) \\sin\\left(\\Theta_{0}\\right)^{2} - \\cos\\left(\\Phi_{0}\\right)\\right)} X_{\\mathit{2c}}\\right)} \\epsilon m^{2}}{2 \\, U_{c} \\sin\\left(\\Theta_{0}\\right)}, -\\frac{\\sin\\left(\\Phi_{0}\\right) \\sin\\left(\\Theta_{0}\\right)}{\\epsilon^{2} m} + \\frac{{\\left(2 \\, X_{\\mathit{1c}}^{3} \\cos\\left(\\Theta_{0}\\right) \\sin\\left(\\Phi_{0}\\right) \\sin\\left(\\Theta_{0}\\right)^{3} + 3 \\, {\\left(3 \\, \\cos\\left(\\Theta_{0}\\right) \\sin\\left(\\Phi_{0}\\right) \\sin\\left(\\Theta_{0}\\right)^{3} + 4 \\, \\cos\\left(\\Theta_{0}\\right) \\sin\\left(\\Phi_{0}\\right) \\sin\\left(\\Theta_{0}\\right)\\right)} X_{\\mathit{1c}} X_{\\mathit{2c}}^{2} + 5 \\, {\\left(\\cos\\left(\\Phi_{0}\\right) \\sin\\left(\\Theta_{0}\\right)^{4} - 3 \\, \\cos\\left(\\Phi_{0}\\right) \\sin\\left(\\Theta_{0}\\right)^{2}\\right)} X_{\\mathit{2c}}^{3} + 6 \\, {\\left(U_{c} V_{c} \\cos\\left(\\Phi_{0}\\right) \\sin\\left(\\Theta_{0}\\right)^{2} + {\\left(\\cos\\left(\\Phi_{0}\\right) \\sin\\left(\\Theta_{0}\\right)^{4} + 2 \\, \\cos\\left(\\Phi_{0}\\right) \\cos\\left(\\Theta_{0}\\right)^{2} + \\cos\\left(\\Phi_{0}\\right) \\sin\\left(\\Theta_{0}\\right)^{2}\\right)} X_{\\mathit{1c}}^{2}\\right)} X_{\\mathit{2c}}\\right)} \\epsilon m^{2}}{12 \\, U_{c}^{3} \\sin\\left(\\Theta_{0}\\right)^{3}} + \\frac{{\\left(2 \\, X_{\\mathit{1c}}^{2} \\sin\\left(\\Phi_{0}\\right) \\sin\\left(\\Theta_{0}\\right)^{3} - 4 \\, {\\left(\\cos\\left(\\Phi_{0}\\right) \\cos\\left(\\Theta_{0}\\right) \\sin\\left(\\Theta_{0}\\right)^{2} + \\cos\\left(\\Phi_{0}\\right) \\cos\\left(\\Theta_{0}\\right)\\right)} X_{\\mathit{1c}} X_{\\mathit{2c}} + {\\left(3 \\, \\sin\\left(\\Phi_{0}\\right) \\sin\\left(\\Theta_{0}\\right)^{3} - 4 \\, \\sin\\left(\\Phi_{0}\\right) \\sin\\left(\\Theta_{0}\\right)\\right)} X_{\\mathit{2c}}^{2}\\right)} m}{4 \\, U_{c}^{2} \\sin\\left(\\Theta_{0}\\right)^{2}} - \\frac{X_{\\mathit{1c}} \\cos\\left(\\Theta_{0}\\right) \\sin\\left(\\Phi_{0}\\right) \\sin\\left(\\Theta_{0}\\right) + {\\left(\\cos\\left(\\Phi_{0}\\right) \\sin\\left(\\Theta_{0}\\right)^{2} - \\cos\\left(\\Phi_{0}\\right)\\right)} X_{\\mathit{2c}}}{U_{c} \\epsilon \\sin\\left(\\Theta_{0}\\right)}, \\frac{{\\left(2 \\, X_{\\mathit{2c}} \\cos\\left(\\Phi_{0}\\right) \\cos\\left(\\Theta_{0}\\right) - X_{\\mathit{1c}} \\sin\\left(\\Phi_{0}\\right) \\sin\\left(\\Theta_{0}\\right)\\right)} m}{2 \\, U_{c}} + \\frac{\\cos\\left(\\Theta_{0}\\right) \\sin\\left(\\Phi_{0}\\right)}{\\epsilon} + \\frac{{\\left(U_{c} V_{c} \\cos\\left(\\Theta_{0}\\right) \\sin\\left(\\Phi_{0}\\right) \\sin\\left(\\Theta_{0}\\right) - 2 \\, X_{\\mathit{2c}}^{2} \\cos\\left(\\Theta_{0}\\right) \\sin\\left(\\Phi_{0}\\right) \\sin\\left(\\Theta_{0}\\right) - {\\left(\\cos\\left(\\Phi_{0}\\right) \\sin\\left(\\Theta_{0}\\right)^{2} + \\cos\\left(\\Phi_{0}\\right)\\right)} X_{\\mathit{1c}} X_{\\mathit{2c}}\\right)} \\epsilon m^{2}}{2 \\, U_{c}^{2} \\sin\\left(\\Theta_{0}\\right)}, \\frac{{\\left(U_{c} V_{c} \\cos\\left(\\Phi_{0}\\right) \\sin\\left(\\Theta_{0}\\right)^{2} + {\\left(2 \\, \\cos\\left(\\Phi_{0}\\right) \\cos\\left(\\Theta_{0}\\right)^{2} + \\cos\\left(\\Phi_{0}\\right) \\sin\\left(\\Theta_{0}\\right)^{2}\\right)} X_{\\mathit{1c}}^{2} + {\\left(\\cos\\left(\\Theta_{0}\\right) \\sin\\left(\\Phi_{0}\\right) \\sin\\left(\\Theta_{0}\\right)^{3} + 2 \\, \\cos\\left(\\Theta_{0}\\right) \\sin\\left(\\Phi_{0}\\right) \\sin\\left(\\Theta_{0}\\right)\\right)} X_{\\mathit{1c}} X_{\\mathit{2c}} + {\\left(\\cos\\left(\\Phi_{0}\\right) \\sin\\left(\\Theta_{0}\\right)^{4} - 3 \\, \\cos\\left(\\Phi_{0}\\right) \\sin\\left(\\Theta_{0}\\right)^{2}\\right)} X_{\\mathit{2c}}^{2}\\right)} \\epsilon m^{2}}{2 \\, U_{c}^{2} \\sin\\left(\\Theta_{0}\\right)^{3}} - \\frac{{\\left(2 \\, X_{\\mathit{1c}} \\cos\\left(\\Phi_{0}\\right) \\cos\\left(\\Theta_{0}\\right) - {\\left(\\sin\\left(\\Phi_{0}\\right) \\sin\\left(\\Theta_{0}\\right)^{3} - 2 \\, \\sin\\left(\\Phi_{0}\\right) \\sin\\left(\\Theta_{0}\\right)\\right)} X_{\\mathit{2c}}\\right)} m}{2 \\, U_{c} \\sin\\left(\\Theta_{0}\\right)^{2}} + \\frac{\\cos\\left(\\Phi_{0}\\right)}{\\epsilon \\sin\\left(\\Theta_{0}\\right)}\\right)\\)</html>"
      ],
      "text/latex": [
       "$\\displaystyle \\left(\\frac{1}{2} \\, m \\sin\\left(\\Phi_{0}\\right) \\sin\\left(\\Theta_{0}\\right) + \\frac{{\\left(X_{\\mathit{1c}} \\cos\\left(\\Theta_{0}\\right) \\sin\\left(\\Phi_{0}\\right) \\sin\\left(\\Theta_{0}\\right) + {\\left(\\cos\\left(\\Phi_{0}\\right) \\sin\\left(\\Theta_{0}\\right)^{2} - \\cos\\left(\\Phi_{0}\\right)\\right)} X_{\\mathit{2c}}\\right)} \\epsilon m^{2}}{2 \\, U_{c} \\sin\\left(\\Theta_{0}\\right)}, -\\frac{\\sin\\left(\\Phi_{0}\\right) \\sin\\left(\\Theta_{0}\\right)}{\\epsilon^{2} m} + \\frac{{\\left(2 \\, X_{\\mathit{1c}}^{3} \\cos\\left(\\Theta_{0}\\right) \\sin\\left(\\Phi_{0}\\right) \\sin\\left(\\Theta_{0}\\right)^{3} + 3 \\, {\\left(3 \\, \\cos\\left(\\Theta_{0}\\right) \\sin\\left(\\Phi_{0}\\right) \\sin\\left(\\Theta_{0}\\right)^{3} + 4 \\, \\cos\\left(\\Theta_{0}\\right) \\sin\\left(\\Phi_{0}\\right) \\sin\\left(\\Theta_{0}\\right)\\right)} X_{\\mathit{1c}} X_{\\mathit{2c}}^{2} + 5 \\, {\\left(\\cos\\left(\\Phi_{0}\\right) \\sin\\left(\\Theta_{0}\\right)^{4} - 3 \\, \\cos\\left(\\Phi_{0}\\right) \\sin\\left(\\Theta_{0}\\right)^{2}\\right)} X_{\\mathit{2c}}^{3} + 6 \\, {\\left(U_{c} V_{c} \\cos\\left(\\Phi_{0}\\right) \\sin\\left(\\Theta_{0}\\right)^{2} + {\\left(\\cos\\left(\\Phi_{0}\\right) \\sin\\left(\\Theta_{0}\\right)^{4} + 2 \\, \\cos\\left(\\Phi_{0}\\right) \\cos\\left(\\Theta_{0}\\right)^{2} + \\cos\\left(\\Phi_{0}\\right) \\sin\\left(\\Theta_{0}\\right)^{2}\\right)} X_{\\mathit{1c}}^{2}\\right)} X_{\\mathit{2c}}\\right)} \\epsilon m^{2}}{12 \\, U_{c}^{3} \\sin\\left(\\Theta_{0}\\right)^{3}} + \\frac{{\\left(2 \\, X_{\\mathit{1c}}^{2} \\sin\\left(\\Phi_{0}\\right) \\sin\\left(\\Theta_{0}\\right)^{3} - 4 \\, {\\left(\\cos\\left(\\Phi_{0}\\right) \\cos\\left(\\Theta_{0}\\right) \\sin\\left(\\Theta_{0}\\right)^{2} + \\cos\\left(\\Phi_{0}\\right) \\cos\\left(\\Theta_{0}\\right)\\right)} X_{\\mathit{1c}} X_{\\mathit{2c}} + {\\left(3 \\, \\sin\\left(\\Phi_{0}\\right) \\sin\\left(\\Theta_{0}\\right)^{3} - 4 \\, \\sin\\left(\\Phi_{0}\\right) \\sin\\left(\\Theta_{0}\\right)\\right)} X_{\\mathit{2c}}^{2}\\right)} m}{4 \\, U_{c}^{2} \\sin\\left(\\Theta_{0}\\right)^{2}} - \\frac{X_{\\mathit{1c}} \\cos\\left(\\Theta_{0}\\right) \\sin\\left(\\Phi_{0}\\right) \\sin\\left(\\Theta_{0}\\right) + {\\left(\\cos\\left(\\Phi_{0}\\right) \\sin\\left(\\Theta_{0}\\right)^{2} - \\cos\\left(\\Phi_{0}\\right)\\right)} X_{\\mathit{2c}}}{U_{c} \\epsilon \\sin\\left(\\Theta_{0}\\right)}, \\frac{{\\left(2 \\, X_{\\mathit{2c}} \\cos\\left(\\Phi_{0}\\right) \\cos\\left(\\Theta_{0}\\right) - X_{\\mathit{1c}} \\sin\\left(\\Phi_{0}\\right) \\sin\\left(\\Theta_{0}\\right)\\right)} m}{2 \\, U_{c}} + \\frac{\\cos\\left(\\Theta_{0}\\right) \\sin\\left(\\Phi_{0}\\right)}{\\epsilon} + \\frac{{\\left(U_{c} V_{c} \\cos\\left(\\Theta_{0}\\right) \\sin\\left(\\Phi_{0}\\right) \\sin\\left(\\Theta_{0}\\right) - 2 \\, X_{\\mathit{2c}}^{2} \\cos\\left(\\Theta_{0}\\right) \\sin\\left(\\Phi_{0}\\right) \\sin\\left(\\Theta_{0}\\right) - {\\left(\\cos\\left(\\Phi_{0}\\right) \\sin\\left(\\Theta_{0}\\right)^{2} + \\cos\\left(\\Phi_{0}\\right)\\right)} X_{\\mathit{1c}} X_{\\mathit{2c}}\\right)} \\epsilon m^{2}}{2 \\, U_{c}^{2} \\sin\\left(\\Theta_{0}\\right)}, \\frac{{\\left(U_{c} V_{c} \\cos\\left(\\Phi_{0}\\right) \\sin\\left(\\Theta_{0}\\right)^{2} + {\\left(2 \\, \\cos\\left(\\Phi_{0}\\right) \\cos\\left(\\Theta_{0}\\right)^{2} + \\cos\\left(\\Phi_{0}\\right) \\sin\\left(\\Theta_{0}\\right)^{2}\\right)} X_{\\mathit{1c}}^{2} + {\\left(\\cos\\left(\\Theta_{0}\\right) \\sin\\left(\\Phi_{0}\\right) \\sin\\left(\\Theta_{0}\\right)^{3} + 2 \\, \\cos\\left(\\Theta_{0}\\right) \\sin\\left(\\Phi_{0}\\right) \\sin\\left(\\Theta_{0}\\right)\\right)} X_{\\mathit{1c}} X_{\\mathit{2c}} + {\\left(\\cos\\left(\\Phi_{0}\\right) \\sin\\left(\\Theta_{0}\\right)^{4} - 3 \\, \\cos\\left(\\Phi_{0}\\right) \\sin\\left(\\Theta_{0}\\right)^{2}\\right)} X_{\\mathit{2c}}^{2}\\right)} \\epsilon m^{2}}{2 \\, U_{c}^{2} \\sin\\left(\\Theta_{0}\\right)^{3}} - \\frac{{\\left(2 \\, X_{\\mathit{1c}} \\cos\\left(\\Phi_{0}\\right) \\cos\\left(\\Theta_{0}\\right) - {\\left(\\sin\\left(\\Phi_{0}\\right) \\sin\\left(\\Theta_{0}\\right)^{3} - 2 \\, \\sin\\left(\\Phi_{0}\\right) \\sin\\left(\\Theta_{0}\\right)\\right)} X_{\\mathit{2c}}\\right)} m}{2 \\, U_{c} \\sin\\left(\\Theta_{0}\\right)^{2}} + \\frac{\\cos\\left(\\Phi_{0}\\right)}{\\epsilon \\sin\\left(\\Theta_{0}\\right)}\\right)$"
      ],
      "text/plain": [
       "(1/2*m*sin(Phi_0)*sin(Theta_0) + 1/2*(X_1c*cos(Theta_0)*sin(Phi_0)*sin(Theta_0) + (cos(Phi_0)*sin(Theta_0)^2 - cos(Phi_0))*X_2c)*epsilon*m^2/(U_c*sin(Theta_0)),\n",
       " -sin(Phi_0)*sin(Theta_0)/(epsilon^2*m) + 1/12*(2*X_1c^3*cos(Theta_0)*sin(Phi_0)*sin(Theta_0)^3 + 3*(3*cos(Theta_0)*sin(Phi_0)*sin(Theta_0)^3 + 4*cos(Theta_0)*sin(Phi_0)*sin(Theta_0))*X_1c*X_2c^2 + 5*(cos(Phi_0)*sin(Theta_0)^4 - 3*cos(Phi_0)*sin(Theta_0)^2)*X_2c^3 + 6*(U_c*V_c*cos(Phi_0)*sin(Theta_0)^2 + (cos(Phi_0)*sin(Theta_0)^4 + 2*cos(Phi_0)*cos(Theta_0)^2 + cos(Phi_0)*sin(Theta_0)^2)*X_1c^2)*X_2c)*epsilon*m^2/(U_c^3*sin(Theta_0)^3) + 1/4*(2*X_1c^2*sin(Phi_0)*sin(Theta_0)^3 - 4*(cos(Phi_0)*cos(Theta_0)*sin(Theta_0)^2 + cos(Phi_0)*cos(Theta_0))*X_1c*X_2c + (3*sin(Phi_0)*sin(Theta_0)^3 - 4*sin(Phi_0)*sin(Theta_0))*X_2c^2)*m/(U_c^2*sin(Theta_0)^2) - (X_1c*cos(Theta_0)*sin(Phi_0)*sin(Theta_0) + (cos(Phi_0)*sin(Theta_0)^2 - cos(Phi_0))*X_2c)/(U_c*epsilon*sin(Theta_0)),\n",
       " 1/2*(2*X_2c*cos(Phi_0)*cos(Theta_0) - X_1c*sin(Phi_0)*sin(Theta_0))*m/U_c + cos(Theta_0)*sin(Phi_0)/epsilon + 1/2*(U_c*V_c*cos(Theta_0)*sin(Phi_0)*sin(Theta_0) - 2*X_2c^2*cos(Theta_0)*sin(Phi_0)*sin(Theta_0) - (cos(Phi_0)*sin(Theta_0)^2 + cos(Phi_0))*X_1c*X_2c)*epsilon*m^2/(U_c^2*sin(Theta_0)),\n",
       " 1/2*(U_c*V_c*cos(Phi_0)*sin(Theta_0)^2 + (2*cos(Phi_0)*cos(Theta_0)^2 + cos(Phi_0)*sin(Theta_0)^2)*X_1c^2 + (cos(Theta_0)*sin(Phi_0)*sin(Theta_0)^3 + 2*cos(Theta_0)*sin(Phi_0)*sin(Theta_0))*X_1c*X_2c + (cos(Phi_0)*sin(Theta_0)^4 - 3*cos(Phi_0)*sin(Theta_0)^2)*X_2c^2)*epsilon*m^2/(U_c^2*sin(Theta_0)^3) - 1/2*(2*X_1c*cos(Phi_0)*cos(Theta_0) - (sin(Phi_0)*sin(Theta_0)^3 - 2*sin(Phi_0)*sin(Theta_0))*X_2c)*m/(U_c*sin(Theta_0)^2) + cos(Phi_0)/(epsilon*sin(Theta_0)))"
      ]
     },
     "execution_count": 443,
     "metadata": {},
     "output_type": "execute_result"
    }
   ],
   "source": [
    "T2_U_simp = T2_U.expr().subs({ph:ph_UVX}).subs({th:th_UVX}).subs({r:r_UVX}).subs({t:t_UVX}).taylor(eps, 0, 1)\n",
    "T2_V_simp = T2_V.expr().subs({ph:ph_UVX}).subs({th:th_UVX}).subs({r:r_UVX}).subs({t:t_UVX}).taylor(eps, 0, 1)\n",
    "T2_X1_simp = T2_X1.expr().subs({ph:ph_UVX}).subs({th:th_UVX}).subs({r:r_UVX}).subs({t:t_UVX}).taylor(eps, 0, 1)\n",
    "T2_X2_simp = T2_X2.expr().subs({ph:ph_UVX}).subs({th:th_UVX}).subs({r:r_UVX}).subs({t:t_UVX}).taylor(eps, 0, 1)\n",
    "T2_U_simp, T2_V_simp, T2_X1_simp, T2_X2_simp"
   ]
  },
  {
   "cell_type": "code",
   "execution_count": 444,
   "id": "14410927",
   "metadata": {},
   "outputs": [
    {
     "data": {
      "text/html": [
       "<html>\\(\\displaystyle \\left[\\frac{1}{2} \\, m \\sin\\left(\\Phi_{0}\\right) \\sin\\left(\\Theta_{0}\\right) + \\frac{{\\left(X_{\\mathit{1c}} \\cos\\left(\\Theta_{0}\\right) \\sin\\left(\\Phi_{0}\\right) \\sin\\left(\\Theta_{0}\\right) + {\\left(\\cos\\left(\\Phi_{0}\\right) \\sin\\left(\\Theta_{0}\\right)^{2} - \\cos\\left(\\Phi_{0}\\right)\\right)} X_{\\mathit{2c}}\\right)} \\epsilon m^{2}}{2 \\, U_{c} \\sin\\left(\\Theta_{0}\\right)}, -\\frac{\\sin\\left(\\Phi_{0}\\right) \\sin\\left(\\Theta_{0}\\right)}{\\epsilon^{2} m} + \\frac{{\\left(2 \\, X_{\\mathit{1c}}^{3} \\cos\\left(\\Theta_{0}\\right) \\sin\\left(\\Phi_{0}\\right) \\sin\\left(\\Theta_{0}\\right)^{3} + 3 \\, {\\left(3 \\, \\cos\\left(\\Theta_{0}\\right) \\sin\\left(\\Phi_{0}\\right) \\sin\\left(\\Theta_{0}\\right)^{3} + 4 \\, \\cos\\left(\\Theta_{0}\\right) \\sin\\left(\\Phi_{0}\\right) \\sin\\left(\\Theta_{0}\\right)\\right)} X_{\\mathit{1c}} X_{\\mathit{2c}}^{2} + 5 \\, {\\left(\\cos\\left(\\Phi_{0}\\right) \\sin\\left(\\Theta_{0}\\right)^{4} - 3 \\, \\cos\\left(\\Phi_{0}\\right) \\sin\\left(\\Theta_{0}\\right)^{2}\\right)} X_{\\mathit{2c}}^{3} + 6 \\, {\\left(U_{c} V_{c} \\cos\\left(\\Phi_{0}\\right) \\sin\\left(\\Theta_{0}\\right)^{2} + {\\left(\\cos\\left(\\Phi_{0}\\right) \\sin\\left(\\Theta_{0}\\right)^{4} + 2 \\, \\cos\\left(\\Phi_{0}\\right) \\cos\\left(\\Theta_{0}\\right)^{2} + \\cos\\left(\\Phi_{0}\\right) \\sin\\left(\\Theta_{0}\\right)^{2}\\right)} X_{\\mathit{1c}}^{2}\\right)} X_{\\mathit{2c}}\\right)} \\epsilon m^{2}}{12 \\, U_{c}^{3} \\sin\\left(\\Theta_{0}\\right)^{3}} + \\frac{{\\left(2 \\, X_{\\mathit{1c}}^{2} \\sin\\left(\\Phi_{0}\\right) \\sin\\left(\\Theta_{0}\\right)^{3} - 4 \\, {\\left(\\cos\\left(\\Phi_{0}\\right) \\cos\\left(\\Theta_{0}\\right) \\sin\\left(\\Theta_{0}\\right)^{2} + \\cos\\left(\\Phi_{0}\\right) \\cos\\left(\\Theta_{0}\\right)\\right)} X_{\\mathit{1c}} X_{\\mathit{2c}} + {\\left(3 \\, \\sin\\left(\\Phi_{0}\\right) \\sin\\left(\\Theta_{0}\\right)^{3} - 4 \\, \\sin\\left(\\Phi_{0}\\right) \\sin\\left(\\Theta_{0}\\right)\\right)} X_{\\mathit{2c}}^{2}\\right)} m}{4 \\, U_{c}^{2} \\sin\\left(\\Theta_{0}\\right)^{2}} - \\frac{X_{\\mathit{1c}} \\cos\\left(\\Theta_{0}\\right) \\sin\\left(\\Phi_{0}\\right) \\sin\\left(\\Theta_{0}\\right) + {\\left(\\cos\\left(\\Phi_{0}\\right) \\sin\\left(\\Theta_{0}\\right)^{2} - \\cos\\left(\\Phi_{0}\\right)\\right)} X_{\\mathit{2c}}}{U_{c} \\epsilon \\sin\\left(\\Theta_{0}\\right)}, \\frac{{\\left(2 \\, X_{\\mathit{2c}} \\cos\\left(\\Phi_{0}\\right) \\cos\\left(\\Theta_{0}\\right) - X_{\\mathit{1c}} \\sin\\left(\\Phi_{0}\\right) \\sin\\left(\\Theta_{0}\\right)\\right)} m}{2 \\, U_{c}} + \\frac{\\cos\\left(\\Theta_{0}\\right) \\sin\\left(\\Phi_{0}\\right)}{\\epsilon} + \\frac{{\\left(U_{c} V_{c} \\cos\\left(\\Theta_{0}\\right) \\sin\\left(\\Phi_{0}\\right) \\sin\\left(\\Theta_{0}\\right) - 2 \\, X_{\\mathit{2c}}^{2} \\cos\\left(\\Theta_{0}\\right) \\sin\\left(\\Phi_{0}\\right) \\sin\\left(\\Theta_{0}\\right) - {\\left(\\cos\\left(\\Phi_{0}\\right) \\sin\\left(\\Theta_{0}\\right)^{2} + \\cos\\left(\\Phi_{0}\\right)\\right)} X_{\\mathit{1c}} X_{\\mathit{2c}}\\right)} \\epsilon m^{2}}{2 \\, U_{c}^{2} \\sin\\left(\\Theta_{0}\\right)}, \\frac{{\\left(U_{c} V_{c} \\cos\\left(\\Phi_{0}\\right) \\sin\\left(\\Theta_{0}\\right)^{2} + {\\left(2 \\, \\cos\\left(\\Phi_{0}\\right) \\cos\\left(\\Theta_{0}\\right)^{2} + \\cos\\left(\\Phi_{0}\\right) \\sin\\left(\\Theta_{0}\\right)^{2}\\right)} X_{\\mathit{1c}}^{2} + {\\left(\\cos\\left(\\Theta_{0}\\right) \\sin\\left(\\Phi_{0}\\right) \\sin\\left(\\Theta_{0}\\right)^{3} + 2 \\, \\cos\\left(\\Theta_{0}\\right) \\sin\\left(\\Phi_{0}\\right) \\sin\\left(\\Theta_{0}\\right)\\right)} X_{\\mathit{1c}} X_{\\mathit{2c}} + {\\left(\\cos\\left(\\Phi_{0}\\right) \\sin\\left(\\Theta_{0}\\right)^{4} - 3 \\, \\cos\\left(\\Phi_{0}\\right) \\sin\\left(\\Theta_{0}\\right)^{2}\\right)} X_{\\mathit{2c}}^{2}\\right)} \\epsilon m^{2}}{2 \\, U_{c}^{2} \\sin\\left(\\Theta_{0}\\right)^{3}} - \\frac{{\\left(2 \\, X_{\\mathit{1c}} \\cos\\left(\\Phi_{0}\\right) \\cos\\left(\\Theta_{0}\\right) - {\\left(\\sin\\left(\\Phi_{0}\\right) \\sin\\left(\\Theta_{0}\\right)^{3} - 2 \\, \\sin\\left(\\Phi_{0}\\right) \\sin\\left(\\Theta_{0}\\right)\\right)} X_{\\mathit{2c}}\\right)} m}{2 \\, U_{c} \\sin\\left(\\Theta_{0}\\right)^{2}} + \\frac{\\cos\\left(\\Phi_{0}\\right)}{\\epsilon \\sin\\left(\\Theta_{0}\\right)}\\right]\\)</html>"
      ],
      "text/latex": [
       "$\\displaystyle \\left[\\frac{1}{2} \\, m \\sin\\left(\\Phi_{0}\\right) \\sin\\left(\\Theta_{0}\\right) + \\frac{{\\left(X_{\\mathit{1c}} \\cos\\left(\\Theta_{0}\\right) \\sin\\left(\\Phi_{0}\\right) \\sin\\left(\\Theta_{0}\\right) + {\\left(\\cos\\left(\\Phi_{0}\\right) \\sin\\left(\\Theta_{0}\\right)^{2} - \\cos\\left(\\Phi_{0}\\right)\\right)} X_{\\mathit{2c}}\\right)} \\epsilon m^{2}}{2 \\, U_{c} \\sin\\left(\\Theta_{0}\\right)}, -\\frac{\\sin\\left(\\Phi_{0}\\right) \\sin\\left(\\Theta_{0}\\right)}{\\epsilon^{2} m} + \\frac{{\\left(2 \\, X_{\\mathit{1c}}^{3} \\cos\\left(\\Theta_{0}\\right) \\sin\\left(\\Phi_{0}\\right) \\sin\\left(\\Theta_{0}\\right)^{3} + 3 \\, {\\left(3 \\, \\cos\\left(\\Theta_{0}\\right) \\sin\\left(\\Phi_{0}\\right) \\sin\\left(\\Theta_{0}\\right)^{3} + 4 \\, \\cos\\left(\\Theta_{0}\\right) \\sin\\left(\\Phi_{0}\\right) \\sin\\left(\\Theta_{0}\\right)\\right)} X_{\\mathit{1c}} X_{\\mathit{2c}}^{2} + 5 \\, {\\left(\\cos\\left(\\Phi_{0}\\right) \\sin\\left(\\Theta_{0}\\right)^{4} - 3 \\, \\cos\\left(\\Phi_{0}\\right) \\sin\\left(\\Theta_{0}\\right)^{2}\\right)} X_{\\mathit{2c}}^{3} + 6 \\, {\\left(U_{c} V_{c} \\cos\\left(\\Phi_{0}\\right) \\sin\\left(\\Theta_{0}\\right)^{2} + {\\left(\\cos\\left(\\Phi_{0}\\right) \\sin\\left(\\Theta_{0}\\right)^{4} + 2 \\, \\cos\\left(\\Phi_{0}\\right) \\cos\\left(\\Theta_{0}\\right)^{2} + \\cos\\left(\\Phi_{0}\\right) \\sin\\left(\\Theta_{0}\\right)^{2}\\right)} X_{\\mathit{1c}}^{2}\\right)} X_{\\mathit{2c}}\\right)} \\epsilon m^{2}}{12 \\, U_{c}^{3} \\sin\\left(\\Theta_{0}\\right)^{3}} + \\frac{{\\left(2 \\, X_{\\mathit{1c}}^{2} \\sin\\left(\\Phi_{0}\\right) \\sin\\left(\\Theta_{0}\\right)^{3} - 4 \\, {\\left(\\cos\\left(\\Phi_{0}\\right) \\cos\\left(\\Theta_{0}\\right) \\sin\\left(\\Theta_{0}\\right)^{2} + \\cos\\left(\\Phi_{0}\\right) \\cos\\left(\\Theta_{0}\\right)\\right)} X_{\\mathit{1c}} X_{\\mathit{2c}} + {\\left(3 \\, \\sin\\left(\\Phi_{0}\\right) \\sin\\left(\\Theta_{0}\\right)^{3} - 4 \\, \\sin\\left(\\Phi_{0}\\right) \\sin\\left(\\Theta_{0}\\right)\\right)} X_{\\mathit{2c}}^{2}\\right)} m}{4 \\, U_{c}^{2} \\sin\\left(\\Theta_{0}\\right)^{2}} - \\frac{X_{\\mathit{1c}} \\cos\\left(\\Theta_{0}\\right) \\sin\\left(\\Phi_{0}\\right) \\sin\\left(\\Theta_{0}\\right) + {\\left(\\cos\\left(\\Phi_{0}\\right) \\sin\\left(\\Theta_{0}\\right)^{2} - \\cos\\left(\\Phi_{0}\\right)\\right)} X_{\\mathit{2c}}}{U_{c} \\epsilon \\sin\\left(\\Theta_{0}\\right)}, \\frac{{\\left(2 \\, X_{\\mathit{2c}} \\cos\\left(\\Phi_{0}\\right) \\cos\\left(\\Theta_{0}\\right) - X_{\\mathit{1c}} \\sin\\left(\\Phi_{0}\\right) \\sin\\left(\\Theta_{0}\\right)\\right)} m}{2 \\, U_{c}} + \\frac{\\cos\\left(\\Theta_{0}\\right) \\sin\\left(\\Phi_{0}\\right)}{\\epsilon} + \\frac{{\\left(U_{c} V_{c} \\cos\\left(\\Theta_{0}\\right) \\sin\\left(\\Phi_{0}\\right) \\sin\\left(\\Theta_{0}\\right) - 2 \\, X_{\\mathit{2c}}^{2} \\cos\\left(\\Theta_{0}\\right) \\sin\\left(\\Phi_{0}\\right) \\sin\\left(\\Theta_{0}\\right) - {\\left(\\cos\\left(\\Phi_{0}\\right) \\sin\\left(\\Theta_{0}\\right)^{2} + \\cos\\left(\\Phi_{0}\\right)\\right)} X_{\\mathit{1c}} X_{\\mathit{2c}}\\right)} \\epsilon m^{2}}{2 \\, U_{c}^{2} \\sin\\left(\\Theta_{0}\\right)}, \\frac{{\\left(U_{c} V_{c} \\cos\\left(\\Phi_{0}\\right) \\sin\\left(\\Theta_{0}\\right)^{2} + {\\left(2 \\, \\cos\\left(\\Phi_{0}\\right) \\cos\\left(\\Theta_{0}\\right)^{2} + \\cos\\left(\\Phi_{0}\\right) \\sin\\left(\\Theta_{0}\\right)^{2}\\right)} X_{\\mathit{1c}}^{2} + {\\left(\\cos\\left(\\Theta_{0}\\right) \\sin\\left(\\Phi_{0}\\right) \\sin\\left(\\Theta_{0}\\right)^{3} + 2 \\, \\cos\\left(\\Theta_{0}\\right) \\sin\\left(\\Phi_{0}\\right) \\sin\\left(\\Theta_{0}\\right)\\right)} X_{\\mathit{1c}} X_{\\mathit{2c}} + {\\left(\\cos\\left(\\Phi_{0}\\right) \\sin\\left(\\Theta_{0}\\right)^{4} - 3 \\, \\cos\\left(\\Phi_{0}\\right) \\sin\\left(\\Theta_{0}\\right)^{2}\\right)} X_{\\mathit{2c}}^{2}\\right)} \\epsilon m^{2}}{2 \\, U_{c}^{2} \\sin\\left(\\Theta_{0}\\right)^{3}} - \\frac{{\\left(2 \\, X_{\\mathit{1c}} \\cos\\left(\\Phi_{0}\\right) \\cos\\left(\\Theta_{0}\\right) - {\\left(\\sin\\left(\\Phi_{0}\\right) \\sin\\left(\\Theta_{0}\\right)^{3} - 2 \\, \\sin\\left(\\Phi_{0}\\right) \\sin\\left(\\Theta_{0}\\right)\\right)} X_{\\mathit{2c}}\\right)} m}{2 \\, U_{c} \\sin\\left(\\Theta_{0}\\right)^{2}} + \\frac{\\cos\\left(\\Phi_{0}\\right)}{\\epsilon \\sin\\left(\\Theta_{0}\\right)}\\right]$"
      ],
      "text/plain": [
       "[1/2*m*sin(Phi_0)*sin(Theta_0) + 1/2*(X_1c*cos(Theta_0)*sin(Phi_0)*sin(Theta_0) + (cos(Phi_0)*sin(Theta_0)^2 - cos(Phi_0))*X_2c)*epsilon*m^2/(U_c*sin(Theta_0)),\n",
       " -sin(Phi_0)*sin(Theta_0)/(epsilon^2*m) + 1/12*(2*X_1c^3*cos(Theta_0)*sin(Phi_0)*sin(Theta_0)^3 + 3*(3*cos(Theta_0)*sin(Phi_0)*sin(Theta_0)^3 + 4*cos(Theta_0)*sin(Phi_0)*sin(Theta_0))*X_1c*X_2c^2 + 5*(cos(Phi_0)*sin(Theta_0)^4 - 3*cos(Phi_0)*sin(Theta_0)^2)*X_2c^3 + 6*(U_c*V_c*cos(Phi_0)*sin(Theta_0)^2 + (cos(Phi_0)*sin(Theta_0)^4 + 2*cos(Phi_0)*cos(Theta_0)^2 + cos(Phi_0)*sin(Theta_0)^2)*X_1c^2)*X_2c)*epsilon*m^2/(U_c^3*sin(Theta_0)^3) + 1/4*(2*X_1c^2*sin(Phi_0)*sin(Theta_0)^3 - 4*(cos(Phi_0)*cos(Theta_0)*sin(Theta_0)^2 + cos(Phi_0)*cos(Theta_0))*X_1c*X_2c + (3*sin(Phi_0)*sin(Theta_0)^3 - 4*sin(Phi_0)*sin(Theta_0))*X_2c^2)*m/(U_c^2*sin(Theta_0)^2) - (X_1c*cos(Theta_0)*sin(Phi_0)*sin(Theta_0) + (cos(Phi_0)*sin(Theta_0)^2 - cos(Phi_0))*X_2c)/(U_c*epsilon*sin(Theta_0)),\n",
       " 1/2*(2*X_2c*cos(Phi_0)*cos(Theta_0) - X_1c*sin(Phi_0)*sin(Theta_0))*m/U_c + cos(Theta_0)*sin(Phi_0)/epsilon + 1/2*(U_c*V_c*cos(Theta_0)*sin(Phi_0)*sin(Theta_0) - 2*X_2c^2*cos(Theta_0)*sin(Phi_0)*sin(Theta_0) - (cos(Phi_0)*sin(Theta_0)^2 + cos(Phi_0))*X_1c*X_2c)*epsilon*m^2/(U_c^2*sin(Theta_0)),\n",
       " 1/2*(U_c*V_c*cos(Phi_0)*sin(Theta_0)^2 + (2*cos(Phi_0)*cos(Theta_0)^2 + cos(Phi_0)*sin(Theta_0)^2)*X_1c^2 + (cos(Theta_0)*sin(Phi_0)*sin(Theta_0)^3 + 2*cos(Theta_0)*sin(Phi_0)*sin(Theta_0))*X_1c*X_2c + (cos(Phi_0)*sin(Theta_0)^4 - 3*cos(Phi_0)*sin(Theta_0)^2)*X_2c^2)*epsilon*m^2/(U_c^2*sin(Theta_0)^3) - 1/2*(2*X_1c*cos(Phi_0)*cos(Theta_0) - (sin(Phi_0)*sin(Theta_0)^3 - 2*sin(Phi_0)*sin(Theta_0))*X_2c)*m/(U_c*sin(Theta_0)^2) + cos(Phi_0)/(epsilon*sin(Theta_0))]"
      ]
     },
     "execution_count": 444,
     "metadata": {},
     "output_type": "execute_result"
    }
   ],
   "source": [
    "T2_UVX = M.vector_field()\n",
    "T2_UVX[:] = [T2_U_simp, T2_V_simp, T2_X1_simp, T2_X2_simp]\n",
    "T2_UVX[:]"
   ]
  },
  {
   "cell_type": "code",
   "execution_count": 445,
   "id": "1ecb5e70",
   "metadata": {},
   "outputs": [
    {
     "data": {
      "text/html": [
       "<html>\\(\\displaystyle \\left[\\frac{U_{c} \\epsilon^{2} m \\sin\\left(\\Phi_{0}\\right) \\sin\\left(\\Theta_{0}\\right)^{2} + {\\left(X_{\\mathit{1c}} \\cos\\left(\\Theta_{0}\\right) \\sin\\left(\\Phi_{0}\\right) \\sin\\left(\\Theta_{0}\\right) + {\\left(\\cos\\left(\\Phi_{0}\\right) \\sin\\left(\\Theta_{0}\\right)^{2} - \\cos\\left(\\Phi_{0}\\right)\\right)} X_{\\mathit{2c}}\\right)} \\epsilon^{3} m^{2}}{2 \\, U_{c} \\sin\\left(\\Theta_{0}\\right)}, -\\frac{12 \\, U_{c}^{3} \\sin\\left(\\Phi_{0}\\right) \\sin\\left(\\Theta_{0}\\right)^{4} - {\\left(2 \\, X_{\\mathit{1c}}^{3} \\cos\\left(\\Theta_{0}\\right) \\sin\\left(\\Phi_{0}\\right) \\sin\\left(\\Theta_{0}\\right)^{3} + 3 \\, {\\left(3 \\, \\cos\\left(\\Theta_{0}\\right) \\sin\\left(\\Phi_{0}\\right) \\sin\\left(\\Theta_{0}\\right)^{3} + 4 \\, \\cos\\left(\\Theta_{0}\\right) \\sin\\left(\\Phi_{0}\\right) \\sin\\left(\\Theta_{0}\\right)\\right)} X_{\\mathit{1c}} X_{\\mathit{2c}}^{2} + 5 \\, {\\left(\\cos\\left(\\Phi_{0}\\right) \\sin\\left(\\Theta_{0}\\right)^{4} - 3 \\, \\cos\\left(\\Phi_{0}\\right) \\sin\\left(\\Theta_{0}\\right)^{2}\\right)} X_{\\mathit{2c}}^{3} + 6 \\, {\\left(U_{c} V_{c} \\cos\\left(\\Phi_{0}\\right) \\sin\\left(\\Theta_{0}\\right)^{2} + {\\left(\\cos\\left(\\Phi_{0}\\right) \\sin\\left(\\Theta_{0}\\right)^{4} - \\cos\\left(\\Phi_{0}\\right) \\sin\\left(\\Theta_{0}\\right)^{2} + 2 \\, \\cos\\left(\\Phi_{0}\\right)\\right)} X_{\\mathit{1c}}^{2}\\right)} X_{\\mathit{2c}}\\right)} \\epsilon^{3} m^{3} - 3 \\, {\\left(2 \\, U_{c} X_{\\mathit{1c}}^{2} \\sin\\left(\\Phi_{0}\\right) \\sin\\left(\\Theta_{0}\\right)^{4} - 4 \\, {\\left(\\cos\\left(\\Phi_{0}\\right) \\cos\\left(\\Theta_{0}\\right) \\sin\\left(\\Theta_{0}\\right)^{3} + \\cos\\left(\\Phi_{0}\\right) \\cos\\left(\\Theta_{0}\\right) \\sin\\left(\\Theta_{0}\\right)\\right)} U_{c} X_{\\mathit{1c}} X_{\\mathit{2c}} + {\\left(3 \\, \\sin\\left(\\Phi_{0}\\right) \\sin\\left(\\Theta_{0}\\right)^{4} - 4 \\, \\sin\\left(\\Phi_{0}\\right) \\sin\\left(\\Theta_{0}\\right)^{2}\\right)} U_{c} X_{\\mathit{2c}}^{2}\\right)} \\epsilon^{2} m^{2} + 12 \\, {\\left(U_{c}^{2} X_{\\mathit{1c}} \\cos\\left(\\Theta_{0}\\right) \\sin\\left(\\Phi_{0}\\right) \\sin\\left(\\Theta_{0}\\right)^{3} + {\\left(\\cos\\left(\\Phi_{0}\\right) \\sin\\left(\\Theta_{0}\\right)^{4} - \\cos\\left(\\Phi_{0}\\right) \\sin\\left(\\Theta_{0}\\right)^{2}\\right)} U_{c}^{2} X_{\\mathit{2c}}\\right)} \\epsilon m}{12 \\, U_{c}^{3} m \\sin\\left(\\Theta_{0}\\right)^{3}}, \\frac{{\\left(U_{c} V_{c} \\cos\\left(\\Theta_{0}\\right) \\sin\\left(\\Phi_{0}\\right) \\sin\\left(\\Theta_{0}\\right) - 2 \\, X_{\\mathit{2c}}^{2} \\cos\\left(\\Theta_{0}\\right) \\sin\\left(\\Phi_{0}\\right) \\sin\\left(\\Theta_{0}\\right) - {\\left(\\cos\\left(\\Phi_{0}\\right) \\sin\\left(\\Theta_{0}\\right)^{2} + \\cos\\left(\\Phi_{0}\\right)\\right)} X_{\\mathit{1c}} X_{\\mathit{2c}}\\right)} \\epsilon^{3} m^{2} + 2 \\, U_{c}^{2} \\epsilon \\cos\\left(\\Theta_{0}\\right) \\sin\\left(\\Phi_{0}\\right) \\sin\\left(\\Theta_{0}\\right) + {\\left(2 \\, U_{c} X_{\\mathit{2c}} \\cos\\left(\\Phi_{0}\\right) \\cos\\left(\\Theta_{0}\\right) \\sin\\left(\\Theta_{0}\\right) - U_{c} X_{\\mathit{1c}} \\sin\\left(\\Phi_{0}\\right) \\sin\\left(\\Theta_{0}\\right)^{2}\\right)} \\epsilon^{2} m}{2 \\, U_{c}^{2} \\sin\\left(\\Theta_{0}\\right)}, \\frac{{\\left(U_{c} V_{c} \\cos\\left(\\Phi_{0}\\right) \\sin\\left(\\Theta_{0}\\right)^{2} - {\\left(\\cos\\left(\\Phi_{0}\\right) \\sin\\left(\\Theta_{0}\\right)^{2} - 2 \\, \\cos\\left(\\Phi_{0}\\right)\\right)} X_{\\mathit{1c}}^{2} + {\\left(\\cos\\left(\\Theta_{0}\\right) \\sin\\left(\\Phi_{0}\\right) \\sin\\left(\\Theta_{0}\\right)^{3} + 2 \\, \\cos\\left(\\Theta_{0}\\right) \\sin\\left(\\Phi_{0}\\right) \\sin\\left(\\Theta_{0}\\right)\\right)} X_{\\mathit{1c}} X_{\\mathit{2c}} + {\\left(\\cos\\left(\\Phi_{0}\\right) \\sin\\left(\\Theta_{0}\\right)^{4} - 3 \\, \\cos\\left(\\Phi_{0}\\right) \\sin\\left(\\Theta_{0}\\right)^{2}\\right)} X_{\\mathit{2c}}^{2}\\right)} \\epsilon^{3} m^{2} + 2 \\, U_{c}^{2} \\epsilon \\cos\\left(\\Phi_{0}\\right) \\sin\\left(\\Theta_{0}\\right)^{2} - {\\left(2 \\, U_{c} X_{\\mathit{1c}} \\cos\\left(\\Phi_{0}\\right) \\cos\\left(\\Theta_{0}\\right) \\sin\\left(\\Theta_{0}\\right) - {\\left(\\sin\\left(\\Phi_{0}\\right) \\sin\\left(\\Theta_{0}\\right)^{4} - 2 \\, \\sin\\left(\\Phi_{0}\\right) \\sin\\left(\\Theta_{0}\\right)^{2}\\right)} U_{c} X_{\\mathit{2c}}\\right)} \\epsilon^{2} m}{2 \\, U_{c}^{2} \\sin\\left(\\Theta_{0}\\right)^{3}}\\right]\\)</html>"
      ],
      "text/latex": [
       "$\\displaystyle \\left[\\frac{U_{c} \\epsilon^{2} m \\sin\\left(\\Phi_{0}\\right) \\sin\\left(\\Theta_{0}\\right)^{2} + {\\left(X_{\\mathit{1c}} \\cos\\left(\\Theta_{0}\\right) \\sin\\left(\\Phi_{0}\\right) \\sin\\left(\\Theta_{0}\\right) + {\\left(\\cos\\left(\\Phi_{0}\\right) \\sin\\left(\\Theta_{0}\\right)^{2} - \\cos\\left(\\Phi_{0}\\right)\\right)} X_{\\mathit{2c}}\\right)} \\epsilon^{3} m^{2}}{2 \\, U_{c} \\sin\\left(\\Theta_{0}\\right)}, -\\frac{12 \\, U_{c}^{3} \\sin\\left(\\Phi_{0}\\right) \\sin\\left(\\Theta_{0}\\right)^{4} - {\\left(2 \\, X_{\\mathit{1c}}^{3} \\cos\\left(\\Theta_{0}\\right) \\sin\\left(\\Phi_{0}\\right) \\sin\\left(\\Theta_{0}\\right)^{3} + 3 \\, {\\left(3 \\, \\cos\\left(\\Theta_{0}\\right) \\sin\\left(\\Phi_{0}\\right) \\sin\\left(\\Theta_{0}\\right)^{3} + 4 \\, \\cos\\left(\\Theta_{0}\\right) \\sin\\left(\\Phi_{0}\\right) \\sin\\left(\\Theta_{0}\\right)\\right)} X_{\\mathit{1c}} X_{\\mathit{2c}}^{2} + 5 \\, {\\left(\\cos\\left(\\Phi_{0}\\right) \\sin\\left(\\Theta_{0}\\right)^{4} - 3 \\, \\cos\\left(\\Phi_{0}\\right) \\sin\\left(\\Theta_{0}\\right)^{2}\\right)} X_{\\mathit{2c}}^{3} + 6 \\, {\\left(U_{c} V_{c} \\cos\\left(\\Phi_{0}\\right) \\sin\\left(\\Theta_{0}\\right)^{2} + {\\left(\\cos\\left(\\Phi_{0}\\right) \\sin\\left(\\Theta_{0}\\right)^{4} - \\cos\\left(\\Phi_{0}\\right) \\sin\\left(\\Theta_{0}\\right)^{2} + 2 \\, \\cos\\left(\\Phi_{0}\\right)\\right)} X_{\\mathit{1c}}^{2}\\right)} X_{\\mathit{2c}}\\right)} \\epsilon^{3} m^{3} - 3 \\, {\\left(2 \\, U_{c} X_{\\mathit{1c}}^{2} \\sin\\left(\\Phi_{0}\\right) \\sin\\left(\\Theta_{0}\\right)^{4} - 4 \\, {\\left(\\cos\\left(\\Phi_{0}\\right) \\cos\\left(\\Theta_{0}\\right) \\sin\\left(\\Theta_{0}\\right)^{3} + \\cos\\left(\\Phi_{0}\\right) \\cos\\left(\\Theta_{0}\\right) \\sin\\left(\\Theta_{0}\\right)\\right)} U_{c} X_{\\mathit{1c}} X_{\\mathit{2c}} + {\\left(3 \\, \\sin\\left(\\Phi_{0}\\right) \\sin\\left(\\Theta_{0}\\right)^{4} - 4 \\, \\sin\\left(\\Phi_{0}\\right) \\sin\\left(\\Theta_{0}\\right)^{2}\\right)} U_{c} X_{\\mathit{2c}}^{2}\\right)} \\epsilon^{2} m^{2} + 12 \\, {\\left(U_{c}^{2} X_{\\mathit{1c}} \\cos\\left(\\Theta_{0}\\right) \\sin\\left(\\Phi_{0}\\right) \\sin\\left(\\Theta_{0}\\right)^{3} + {\\left(\\cos\\left(\\Phi_{0}\\right) \\sin\\left(\\Theta_{0}\\right)^{4} - \\cos\\left(\\Phi_{0}\\right) \\sin\\left(\\Theta_{0}\\right)^{2}\\right)} U_{c}^{2} X_{\\mathit{2c}}\\right)} \\epsilon m}{12 \\, U_{c}^{3} m \\sin\\left(\\Theta_{0}\\right)^{3}}, \\frac{{\\left(U_{c} V_{c} \\cos\\left(\\Theta_{0}\\right) \\sin\\left(\\Phi_{0}\\right) \\sin\\left(\\Theta_{0}\\right) - 2 \\, X_{\\mathit{2c}}^{2} \\cos\\left(\\Theta_{0}\\right) \\sin\\left(\\Phi_{0}\\right) \\sin\\left(\\Theta_{0}\\right) - {\\left(\\cos\\left(\\Phi_{0}\\right) \\sin\\left(\\Theta_{0}\\right)^{2} + \\cos\\left(\\Phi_{0}\\right)\\right)} X_{\\mathit{1c}} X_{\\mathit{2c}}\\right)} \\epsilon^{3} m^{2} + 2 \\, U_{c}^{2} \\epsilon \\cos\\left(\\Theta_{0}\\right) \\sin\\left(\\Phi_{0}\\right) \\sin\\left(\\Theta_{0}\\right) + {\\left(2 \\, U_{c} X_{\\mathit{2c}} \\cos\\left(\\Phi_{0}\\right) \\cos\\left(\\Theta_{0}\\right) \\sin\\left(\\Theta_{0}\\right) - U_{c} X_{\\mathit{1c}} \\sin\\left(\\Phi_{0}\\right) \\sin\\left(\\Theta_{0}\\right)^{2}\\right)} \\epsilon^{2} m}{2 \\, U_{c}^{2} \\sin\\left(\\Theta_{0}\\right)}, \\frac{{\\left(U_{c} V_{c} \\cos\\left(\\Phi_{0}\\right) \\sin\\left(\\Theta_{0}\\right)^{2} - {\\left(\\cos\\left(\\Phi_{0}\\right) \\sin\\left(\\Theta_{0}\\right)^{2} - 2 \\, \\cos\\left(\\Phi_{0}\\right)\\right)} X_{\\mathit{1c}}^{2} + {\\left(\\cos\\left(\\Theta_{0}\\right) \\sin\\left(\\Phi_{0}\\right) \\sin\\left(\\Theta_{0}\\right)^{3} + 2 \\, \\cos\\left(\\Theta_{0}\\right) \\sin\\left(\\Phi_{0}\\right) \\sin\\left(\\Theta_{0}\\right)\\right)} X_{\\mathit{1c}} X_{\\mathit{2c}} + {\\left(\\cos\\left(\\Phi_{0}\\right) \\sin\\left(\\Theta_{0}\\right)^{4} - 3 \\, \\cos\\left(\\Phi_{0}\\right) \\sin\\left(\\Theta_{0}\\right)^{2}\\right)} X_{\\mathit{2c}}^{2}\\right)} \\epsilon^{3} m^{2} + 2 \\, U_{c}^{2} \\epsilon \\cos\\left(\\Phi_{0}\\right) \\sin\\left(\\Theta_{0}\\right)^{2} - {\\left(2 \\, U_{c} X_{\\mathit{1c}} \\cos\\left(\\Phi_{0}\\right) \\cos\\left(\\Theta_{0}\\right) \\sin\\left(\\Theta_{0}\\right) - {\\left(\\sin\\left(\\Phi_{0}\\right) \\sin\\left(\\Theta_{0}\\right)^{4} - 2 \\, \\sin\\left(\\Phi_{0}\\right) \\sin\\left(\\Theta_{0}\\right)^{2}\\right)} U_{c} X_{\\mathit{2c}}\\right)} \\epsilon^{2} m}{2 \\, U_{c}^{2} \\sin\\left(\\Theta_{0}\\right)^{3}}\\right]$"
      ],
      "text/plain": [
       "[1/2*(U_c*epsilon^2*m*sin(Phi_0)*sin(Theta_0)^2 + (X_1c*cos(Theta_0)*sin(Phi_0)*sin(Theta_0) + (cos(Phi_0)*sin(Theta_0)^2 - cos(Phi_0))*X_2c)*epsilon^3*m^2)/(U_c*sin(Theta_0)),\n",
       " -1/12*(12*U_c^3*sin(Phi_0)*sin(Theta_0)^4 - (2*X_1c^3*cos(Theta_0)*sin(Phi_0)*sin(Theta_0)^3 + 3*(3*cos(Theta_0)*sin(Phi_0)*sin(Theta_0)^3 + 4*cos(Theta_0)*sin(Phi_0)*sin(Theta_0))*X_1c*X_2c^2 + 5*(cos(Phi_0)*sin(Theta_0)^4 - 3*cos(Phi_0)*sin(Theta_0)^2)*X_2c^3 + 6*(U_c*V_c*cos(Phi_0)*sin(Theta_0)^2 + (cos(Phi_0)*sin(Theta_0)^4 - cos(Phi_0)*sin(Theta_0)^2 + 2*cos(Phi_0))*X_1c^2)*X_2c)*epsilon^3*m^3 - 3*(2*U_c*X_1c^2*sin(Phi_0)*sin(Theta_0)^4 - 4*(cos(Phi_0)*cos(Theta_0)*sin(Theta_0)^3 + cos(Phi_0)*cos(Theta_0)*sin(Theta_0))*U_c*X_1c*X_2c + (3*sin(Phi_0)*sin(Theta_0)^4 - 4*sin(Phi_0)*sin(Theta_0)^2)*U_c*X_2c^2)*epsilon^2*m^2 + 12*(U_c^2*X_1c*cos(Theta_0)*sin(Phi_0)*sin(Theta_0)^3 + (cos(Phi_0)*sin(Theta_0)^4 - cos(Phi_0)*sin(Theta_0)^2)*U_c^2*X_2c)*epsilon*m)/(U_c^3*m*sin(Theta_0)^3),\n",
       " 1/2*((U_c*V_c*cos(Theta_0)*sin(Phi_0)*sin(Theta_0) - 2*X_2c^2*cos(Theta_0)*sin(Phi_0)*sin(Theta_0) - (cos(Phi_0)*sin(Theta_0)^2 + cos(Phi_0))*X_1c*X_2c)*epsilon^3*m^2 + 2*U_c^2*epsilon*cos(Theta_0)*sin(Phi_0)*sin(Theta_0) + (2*U_c*X_2c*cos(Phi_0)*cos(Theta_0)*sin(Theta_0) - U_c*X_1c*sin(Phi_0)*sin(Theta_0)^2)*epsilon^2*m)/(U_c^2*sin(Theta_0)),\n",
       " 1/2*((U_c*V_c*cos(Phi_0)*sin(Theta_0)^2 - (cos(Phi_0)*sin(Theta_0)^2 - 2*cos(Phi_0))*X_1c^2 + (cos(Theta_0)*sin(Phi_0)*sin(Theta_0)^3 + 2*cos(Theta_0)*sin(Phi_0)*sin(Theta_0))*X_1c*X_2c + (cos(Phi_0)*sin(Theta_0)^4 - 3*cos(Phi_0)*sin(Theta_0)^2)*X_2c^2)*epsilon^3*m^2 + 2*U_c^2*epsilon*cos(Phi_0)*sin(Theta_0)^2 - (2*U_c*X_1c*cos(Phi_0)*cos(Theta_0)*sin(Theta_0) - (sin(Phi_0)*sin(Theta_0)^4 - 2*sin(Phi_0)*sin(Theta_0)^2)*U_c*X_2c)*epsilon^2*m)/(U_c^2*sin(Theta_0)^3)]"
      ]
     },
     "execution_count": 445,
     "metadata": {},
     "output_type": "execute_result"
    }
   ],
   "source": [
    "T2_UVX_eps = T2_UVX*eps^2\n",
    "T2_UVX_eps[:]"
   ]
  },
  {
   "cell_type": "code",
   "execution_count": 446,
   "id": "3e2f1b3d",
   "metadata": {},
   "outputs": [
    {
     "data": {
      "text/html": [
       "<html>\\(\\displaystyle \\left[0, -\\frac{\\sin\\left(\\Phi_{0}\\right) \\sin\\left(\\Theta_{0}\\right)}{m}, 0, 0\\right]\\)</html>"
      ],
      "text/latex": [
       "$\\displaystyle \\left[0, -\\frac{\\sin\\left(\\Phi_{0}\\right) \\sin\\left(\\Theta_{0}\\right)}{m}, 0, 0\\right]$"
      ],
      "text/plain": [
       "[0, -sin(Phi_0)*sin(Theta_0)/m, 0, 0]"
      ]
     },
     "execution_count": 446,
     "metadata": {},
     "output_type": "execute_result"
    }
   ],
   "source": [
    "T2_UVX_CL = T2_UVX_eps.copy()\n",
    "T2_UVX_CL.apply_map(lambda tmp: tmp.subs({eps:0}))\n",
    "T2_UVX_CL[:]"
   ]
  },
  {
   "cell_type": "code",
   "execution_count": 447,
   "id": "c26e8391",
   "metadata": {},
   "outputs": [
    {
     "data": {
      "text/html": [
       "<html>\\(\\displaystyle \\left[0, \\cos\\left({\\theta}\\right), -\\frac{\\sin\\left({\\theta}\\right)}{r}, 0\\right]\\)</html>"
      ],
      "text/latex": [
       "$\\displaystyle \\left[0, \\cos\\left({\\theta}\\right), -\\frac{\\sin\\left({\\theta}\\right)}{r}, 0\\right]$"
      ],
      "text/plain": [
       "[0, cos(th), -sin(th)/r, 0]"
      ]
     },
     "execution_count": 447,
     "metadata": {},
     "output_type": "execute_result"
    }
   ],
   "source": [
    "T3 = M.vector_field(name='T_3')\n",
    "T3[:] = [0, cos(th), -sin(th)/r, 0]\n",
    "T3[:]"
   ]
  },
  {
   "cell_type": "code",
   "execution_count": 448,
   "id": "ed02c0d2",
   "metadata": {},
   "outputs": [
    {
     "data": {
      "text/html": [
       "<html>\\(\\displaystyle \\left(\\frac{2 \\, m \\cos\\left({\\theta}\\right)}{\\Phi_{0}^{2} - 2 \\, \\Phi_{0} {\\phi} + {\\phi}^{2} + 4}, \\frac{4 \\, \\cos\\left({\\theta}\\right)}{2 \\, \\Phi_{0} \\epsilon^{2} m {\\phi} - \\epsilon^{2} m {\\phi}^{2} - {\\left(\\Phi_{0}^{2} + 4\\right)} \\epsilon^{2} m}, \\frac{2 \\, {\\left({\\left(\\Theta_{0} r - r {\\theta}\\right)} \\cos\\left({\\theta}\\right) + {\\left(r + t\\right)} \\sin\\left({\\theta}\\right)\\right)}}{{\\left(2 \\, \\Phi_{0} \\epsilon {\\phi} - \\epsilon {\\phi}^{2} - {\\left(\\Phi_{0}^{2} + 4\\right)} \\epsilon\\right)} r}, \\frac{2 \\, {\\left(\\Phi_{0} - {\\phi}\\right)} \\cos\\left({\\theta}\\right)}{2 \\, \\Phi_{0} \\epsilon {\\phi} - \\epsilon {\\phi}^{2} - {\\left(\\Phi_{0}^{2} + 4\\right)} \\epsilon}\\right)\\)</html>"
      ],
      "text/latex": [
       "$\\displaystyle \\left(\\frac{2 \\, m \\cos\\left({\\theta}\\right)}{\\Phi_{0}^{2} - 2 \\, \\Phi_{0} {\\phi} + {\\phi}^{2} + 4}, \\frac{4 \\, \\cos\\left({\\theta}\\right)}{2 \\, \\Phi_{0} \\epsilon^{2} m {\\phi} - \\epsilon^{2} m {\\phi}^{2} - {\\left(\\Phi_{0}^{2} + 4\\right)} \\epsilon^{2} m}, \\frac{2 \\, {\\left({\\left(\\Theta_{0} r - r {\\theta}\\right)} \\cos\\left({\\theta}\\right) + {\\left(r + t\\right)} \\sin\\left({\\theta}\\right)\\right)}}{{\\left(2 \\, \\Phi_{0} \\epsilon {\\phi} - \\epsilon {\\phi}^{2} - {\\left(\\Phi_{0}^{2} + 4\\right)} \\epsilon\\right)} r}, \\frac{2 \\, {\\left(\\Phi_{0} - {\\phi}\\right)} \\cos\\left({\\theta}\\right)}{2 \\, \\Phi_{0} \\epsilon {\\phi} - \\epsilon {\\phi}^{2} - {\\left(\\Phi_{0}^{2} + 4\\right)} \\epsilon}\\right)$"
      ],
      "text/plain": [
       "(2*m*cos(th)/(Phi_0^2 - 2*Phi_0*ph + ph^2 + 4),\n",
       " 4*cos(th)/(2*Phi_0*epsilon^2*m*ph - epsilon^2*m*ph^2 - (Phi_0^2 + 4)*epsilon^2*m),\n",
       " 2*((Theta_0*r - r*th)*cos(th) + (r + t)*sin(th))/((2*Phi_0*epsilon*ph - epsilon*ph^2 - (Phi_0^2 + 4)*epsilon)*r),\n",
       " 2*(Phi_0 - ph)*cos(th)/(2*Phi_0*epsilon*ph - epsilon*ph^2 - (Phi_0^2 + 4)*epsilon))"
      ]
     },
     "execution_count": 448,
     "metadata": {},
     "output_type": "execute_result"
    }
   ],
   "source": [
    "T3_U = jacOeps2[0, 0]*T3[0] + jacOeps2[0, 1]*T3[1] + jacOeps2[0, 2]*T3[2] + jacOeps2[0, 3]*T3[3]\n",
    "T3_V = jacOeps2[1, 0]*T3[0] + jacOeps2[1, 1]*T3[1] + jacOeps2[1, 2]*T3[2] + jacOeps2[1, 3]*T3[3]\n",
    "T3_X1 = jacOeps2[2, 0]*T3[0] + jacOeps2[2, 1]*T3[1] + jacOeps2[2, 2]*T3[2] + jacOeps2[2, 3]*T3[3]\n",
    "T3_X2 = jacOeps2[3, 0]*T3[0] + jacOeps2[3, 1]*T3[1] + jacOeps2[3, 2]*T3[2] + jacOeps2[3, 3]*T3[3]\n",
    "T3_U, T3_V, T3_X1, T3_X2"
   ]
  },
  {
   "cell_type": "code",
   "execution_count": 449,
   "id": "e3aedbe0",
   "metadata": {},
   "outputs": [
    {
     "data": {
      "text/html": [
       "<html>\\(\\displaystyle \\left(-\\frac{X_{\\mathit{1c}} \\epsilon m^{2} \\sin\\left(\\Theta_{0}\\right)}{2 \\, U_{c}} + \\frac{1}{2} \\, m \\cos\\left(\\Theta_{0}\\right), -\\frac{{\\left(2 \\, X_{\\mathit{1c}}^{3} \\sin\\left(\\Theta_{0}\\right) + 3 \\, X_{\\mathit{1c}} X_{\\mathit{2c}}^{2} \\sin\\left(\\Theta_{0}\\right)\\right)} \\epsilon m^{2}}{12 \\, U_{c}^{3}} + \\frac{{\\left(2 \\, X_{\\mathit{1c}}^{2} \\cos\\left(\\Theta_{0}\\right) + X_{\\mathit{2c}}^{2} \\cos\\left(\\Theta_{0}\\right)\\right)} m}{4 \\, U_{c}^{2}} + \\frac{X_{\\mathit{1c}} \\sin\\left(\\Theta_{0}\\right)}{U_{c} \\epsilon} - \\frac{\\cos\\left(\\Theta_{0}\\right)}{\\epsilon^{2} m}, \\frac{{\\left(2 \\, X_{\\mathit{2c}} \\cos\\left(\\Phi_{0}\\right) \\cos\\left(\\Theta_{0}\\right) - X_{\\mathit{1c}} \\sin\\left(\\Phi_{0}\\right) \\sin\\left(\\Theta_{0}\\right)\\right)} m}{2 \\, U_{c}} + \\frac{\\cos\\left(\\Theta_{0}\\right) \\sin\\left(\\Phi_{0}\\right)}{\\epsilon} + \\frac{{\\left(U_{c} V_{c} \\cos\\left(\\Theta_{0}\\right) \\sin\\left(\\Phi_{0}\\right) \\sin\\left(\\Theta_{0}\\right) - 2 \\, X_{\\mathit{2c}}^{2} \\cos\\left(\\Theta_{0}\\right) \\sin\\left(\\Phi_{0}\\right) \\sin\\left(\\Theta_{0}\\right) - {\\left(\\cos\\left(\\Phi_{0}\\right) \\sin\\left(\\Theta_{0}\\right)^{2} + \\cos\\left(\\Phi_{0}\\right)\\right)} X_{\\mathit{1c}} X_{\\mathit{2c}}\\right)} \\epsilon m^{2}}{2 \\, U_{c}^{2} \\sin\\left(\\Theta_{0}\\right)}, \\frac{{\\left(U_{c} V_{c} \\cos\\left(\\Phi_{0}\\right) \\sin\\left(\\Theta_{0}\\right)^{2} + {\\left(2 \\, \\cos\\left(\\Phi_{0}\\right) \\cos\\left(\\Theta_{0}\\right)^{2} + \\cos\\left(\\Phi_{0}\\right) \\sin\\left(\\Theta_{0}\\right)^{2}\\right)} X_{\\mathit{1c}}^{2} + {\\left(\\cos\\left(\\Theta_{0}\\right) \\sin\\left(\\Phi_{0}\\right) \\sin\\left(\\Theta_{0}\\right)^{3} + 2 \\, \\cos\\left(\\Theta_{0}\\right) \\sin\\left(\\Phi_{0}\\right) \\sin\\left(\\Theta_{0}\\right)\\right)} X_{\\mathit{1c}} X_{\\mathit{2c}} + {\\left(\\cos\\left(\\Phi_{0}\\right) \\sin\\left(\\Theta_{0}\\right)^{4} - 3 \\, \\cos\\left(\\Phi_{0}\\right) \\sin\\left(\\Theta_{0}\\right)^{2}\\right)} X_{\\mathit{2c}}^{2}\\right)} \\epsilon m^{2}}{2 \\, U_{c}^{2} \\sin\\left(\\Theta_{0}\\right)^{3}} - \\frac{{\\left(2 \\, X_{\\mathit{1c}} \\cos\\left(\\Phi_{0}\\right) \\cos\\left(\\Theta_{0}\\right) - {\\left(\\sin\\left(\\Phi_{0}\\right) \\sin\\left(\\Theta_{0}\\right)^{3} - 2 \\, \\sin\\left(\\Phi_{0}\\right) \\sin\\left(\\Theta_{0}\\right)\\right)} X_{\\mathit{2c}}\\right)} m}{2 \\, U_{c} \\sin\\left(\\Theta_{0}\\right)^{2}} + \\frac{\\cos\\left(\\Phi_{0}\\right)}{\\epsilon \\sin\\left(\\Theta_{0}\\right)}\\right)\\)</html>"
      ],
      "text/latex": [
       "$\\displaystyle \\left(-\\frac{X_{\\mathit{1c}} \\epsilon m^{2} \\sin\\left(\\Theta_{0}\\right)}{2 \\, U_{c}} + \\frac{1}{2} \\, m \\cos\\left(\\Theta_{0}\\right), -\\frac{{\\left(2 \\, X_{\\mathit{1c}}^{3} \\sin\\left(\\Theta_{0}\\right) + 3 \\, X_{\\mathit{1c}} X_{\\mathit{2c}}^{2} \\sin\\left(\\Theta_{0}\\right)\\right)} \\epsilon m^{2}}{12 \\, U_{c}^{3}} + \\frac{{\\left(2 \\, X_{\\mathit{1c}}^{2} \\cos\\left(\\Theta_{0}\\right) + X_{\\mathit{2c}}^{2} \\cos\\left(\\Theta_{0}\\right)\\right)} m}{4 \\, U_{c}^{2}} + \\frac{X_{\\mathit{1c}} \\sin\\left(\\Theta_{0}\\right)}{U_{c} \\epsilon} - \\frac{\\cos\\left(\\Theta_{0}\\right)}{\\epsilon^{2} m}, \\frac{{\\left(2 \\, X_{\\mathit{2c}} \\cos\\left(\\Phi_{0}\\right) \\cos\\left(\\Theta_{0}\\right) - X_{\\mathit{1c}} \\sin\\left(\\Phi_{0}\\right) \\sin\\left(\\Theta_{0}\\right)\\right)} m}{2 \\, U_{c}} + \\frac{\\cos\\left(\\Theta_{0}\\right) \\sin\\left(\\Phi_{0}\\right)}{\\epsilon} + \\frac{{\\left(U_{c} V_{c} \\cos\\left(\\Theta_{0}\\right) \\sin\\left(\\Phi_{0}\\right) \\sin\\left(\\Theta_{0}\\right) - 2 \\, X_{\\mathit{2c}}^{2} \\cos\\left(\\Theta_{0}\\right) \\sin\\left(\\Phi_{0}\\right) \\sin\\left(\\Theta_{0}\\right) - {\\left(\\cos\\left(\\Phi_{0}\\right) \\sin\\left(\\Theta_{0}\\right)^{2} + \\cos\\left(\\Phi_{0}\\right)\\right)} X_{\\mathit{1c}} X_{\\mathit{2c}}\\right)} \\epsilon m^{2}}{2 \\, U_{c}^{2} \\sin\\left(\\Theta_{0}\\right)}, \\frac{{\\left(U_{c} V_{c} \\cos\\left(\\Phi_{0}\\right) \\sin\\left(\\Theta_{0}\\right)^{2} + {\\left(2 \\, \\cos\\left(\\Phi_{0}\\right) \\cos\\left(\\Theta_{0}\\right)^{2} + \\cos\\left(\\Phi_{0}\\right) \\sin\\left(\\Theta_{0}\\right)^{2}\\right)} X_{\\mathit{1c}}^{2} + {\\left(\\cos\\left(\\Theta_{0}\\right) \\sin\\left(\\Phi_{0}\\right) \\sin\\left(\\Theta_{0}\\right)^{3} + 2 \\, \\cos\\left(\\Theta_{0}\\right) \\sin\\left(\\Phi_{0}\\right) \\sin\\left(\\Theta_{0}\\right)\\right)} X_{\\mathit{1c}} X_{\\mathit{2c}} + {\\left(\\cos\\left(\\Phi_{0}\\right) \\sin\\left(\\Theta_{0}\\right)^{4} - 3 \\, \\cos\\left(\\Phi_{0}\\right) \\sin\\left(\\Theta_{0}\\right)^{2}\\right)} X_{\\mathit{2c}}^{2}\\right)} \\epsilon m^{2}}{2 \\, U_{c}^{2} \\sin\\left(\\Theta_{0}\\right)^{3}} - \\frac{{\\left(2 \\, X_{\\mathit{1c}} \\cos\\left(\\Phi_{0}\\right) \\cos\\left(\\Theta_{0}\\right) - {\\left(\\sin\\left(\\Phi_{0}\\right) \\sin\\left(\\Theta_{0}\\right)^{3} - 2 \\, \\sin\\left(\\Phi_{0}\\right) \\sin\\left(\\Theta_{0}\\right)\\right)} X_{\\mathit{2c}}\\right)} m}{2 \\, U_{c} \\sin\\left(\\Theta_{0}\\right)^{2}} + \\frac{\\cos\\left(\\Phi_{0}\\right)}{\\epsilon \\sin\\left(\\Theta_{0}\\right)}\\right)$"
      ],
      "text/plain": [
       "(-1/2*X_1c*epsilon*m^2*sin(Theta_0)/U_c + 1/2*m*cos(Theta_0),\n",
       " -1/12*(2*X_1c^3*sin(Theta_0) + 3*X_1c*X_2c^2*sin(Theta_0))*epsilon*m^2/U_c^3 + 1/4*(2*X_1c^2*cos(Theta_0) + X_2c^2*cos(Theta_0))*m/U_c^2 + X_1c*sin(Theta_0)/(U_c*epsilon) - cos(Theta_0)/(epsilon^2*m),\n",
       " 1/2*(2*X_2c*cos(Phi_0)*cos(Theta_0) - X_1c*sin(Phi_0)*sin(Theta_0))*m/U_c + cos(Theta_0)*sin(Phi_0)/epsilon + 1/2*(U_c*V_c*cos(Theta_0)*sin(Phi_0)*sin(Theta_0) - 2*X_2c^2*cos(Theta_0)*sin(Phi_0)*sin(Theta_0) - (cos(Phi_0)*sin(Theta_0)^2 + cos(Phi_0))*X_1c*X_2c)*epsilon*m^2/(U_c^2*sin(Theta_0)),\n",
       " 1/2*(U_c*V_c*cos(Phi_0)*sin(Theta_0)^2 + (2*cos(Phi_0)*cos(Theta_0)^2 + cos(Phi_0)*sin(Theta_0)^2)*X_1c^2 + (cos(Theta_0)*sin(Phi_0)*sin(Theta_0)^3 + 2*cos(Theta_0)*sin(Phi_0)*sin(Theta_0))*X_1c*X_2c + (cos(Phi_0)*sin(Theta_0)^4 - 3*cos(Phi_0)*sin(Theta_0)^2)*X_2c^2)*epsilon*m^2/(U_c^2*sin(Theta_0)^3) - 1/2*(2*X_1c*cos(Phi_0)*cos(Theta_0) - (sin(Phi_0)*sin(Theta_0)^3 - 2*sin(Phi_0)*sin(Theta_0))*X_2c)*m/(U_c*sin(Theta_0)^2) + cos(Phi_0)/(epsilon*sin(Theta_0)))"
      ]
     },
     "execution_count": 449,
     "metadata": {},
     "output_type": "execute_result"
    }
   ],
   "source": [
    "T3_U_simp = T3_U.expr().subs({ph:ph_UVX}).subs({th:th_UVX}).subs({r:r_UVX}).subs({t:t_UVX}).taylor(eps, 0, 1)\n",
    "T3_V_simp = T3_V.expr().subs({ph:ph_UVX}).subs({th:th_UVX}).subs({r:r_UVX}).subs({t:t_UVX}).taylor(eps, 0, 1)\n",
    "T3_X1_simp = T3_X1.expr().subs({ph:ph_UVX}).subs({th:th_UVX}).subs({r:r_UVX}).subs({t:t_UVX}).taylor(eps, 0, 1)\n",
    "T3_X2_simp = T3_X2.expr().subs({ph:ph_UVX}).subs({th:th_UVX}).subs({r:r_UVX}).subs({t:t_UVX}).taylor(eps, 0, 1)\n",
    "T3_U_simp, T3_V_simp, T2_X1_simp, T2_X2_simp"
   ]
  },
  {
   "cell_type": "code",
   "execution_count": 450,
   "id": "3d982365",
   "metadata": {},
   "outputs": [
    {
     "data": {
      "text/html": [
       "<html>\\(\\displaystyle \\left[-\\frac{X_{\\mathit{1c}} \\epsilon m^{2} \\sin\\left(\\Theta_{0}\\right)}{2 \\, U_{c}} + \\frac{1}{2} \\, m \\cos\\left(\\Theta_{0}\\right), -\\frac{{\\left(2 \\, X_{\\mathit{1c}}^{3} \\sin\\left(\\Theta_{0}\\right) + 3 \\, X_{\\mathit{1c}} X_{\\mathit{2c}}^{2} \\sin\\left(\\Theta_{0}\\right)\\right)} \\epsilon m^{2}}{12 \\, U_{c}^{3}} + \\frac{{\\left(2 \\, X_{\\mathit{1c}}^{2} \\cos\\left(\\Theta_{0}\\right) + X_{\\mathit{2c}}^{2} \\cos\\left(\\Theta_{0}\\right)\\right)} m}{4 \\, U_{c}^{2}} + \\frac{X_{\\mathit{1c}} \\sin\\left(\\Theta_{0}\\right)}{U_{c} \\epsilon} - \\frac{\\cos\\left(\\Theta_{0}\\right)}{\\epsilon^{2} m}, -\\frac{{\\left(U_{c} V_{c} \\sin\\left(\\Theta_{0}\\right) - X_{\\mathit{2c}}^{2} \\sin\\left(\\Theta_{0}\\right)\\right)} \\epsilon m^{2}}{2 \\, U_{c}^{2}} - \\frac{X_{\\mathit{1c}} m \\cos\\left(\\Theta_{0}\\right)}{2 \\, U_{c}} - \\frac{\\sin\\left(\\Theta_{0}\\right)}{\\epsilon}, -\\frac{X_{\\mathit{1c}} X_{\\mathit{2c}} \\epsilon m^{2} \\sin\\left(\\Theta_{0}\\right)}{2 \\, U_{c}^{2}} + \\frac{X_{\\mathit{2c}} m \\cos\\left(\\Theta_{0}\\right)}{2 \\, U_{c}}\\right]\\)</html>"
      ],
      "text/latex": [
       "$\\displaystyle \\left[-\\frac{X_{\\mathit{1c}} \\epsilon m^{2} \\sin\\left(\\Theta_{0}\\right)}{2 \\, U_{c}} + \\frac{1}{2} \\, m \\cos\\left(\\Theta_{0}\\right), -\\frac{{\\left(2 \\, X_{\\mathit{1c}}^{3} \\sin\\left(\\Theta_{0}\\right) + 3 \\, X_{\\mathit{1c}} X_{\\mathit{2c}}^{2} \\sin\\left(\\Theta_{0}\\right)\\right)} \\epsilon m^{2}}{12 \\, U_{c}^{3}} + \\frac{{\\left(2 \\, X_{\\mathit{1c}}^{2} \\cos\\left(\\Theta_{0}\\right) + X_{\\mathit{2c}}^{2} \\cos\\left(\\Theta_{0}\\right)\\right)} m}{4 \\, U_{c}^{2}} + \\frac{X_{\\mathit{1c}} \\sin\\left(\\Theta_{0}\\right)}{U_{c} \\epsilon} - \\frac{\\cos\\left(\\Theta_{0}\\right)}{\\epsilon^{2} m}, -\\frac{{\\left(U_{c} V_{c} \\sin\\left(\\Theta_{0}\\right) - X_{\\mathit{2c}}^{2} \\sin\\left(\\Theta_{0}\\right)\\right)} \\epsilon m^{2}}{2 \\, U_{c}^{2}} - \\frac{X_{\\mathit{1c}} m \\cos\\left(\\Theta_{0}\\right)}{2 \\, U_{c}} - \\frac{\\sin\\left(\\Theta_{0}\\right)}{\\epsilon}, -\\frac{X_{\\mathit{1c}} X_{\\mathit{2c}} \\epsilon m^{2} \\sin\\left(\\Theta_{0}\\right)}{2 \\, U_{c}^{2}} + \\frac{X_{\\mathit{2c}} m \\cos\\left(\\Theta_{0}\\right)}{2 \\, U_{c}}\\right]$"
      ],
      "text/plain": [
       "[-1/2*X_1c*epsilon*m^2*sin(Theta_0)/U_c + 1/2*m*cos(Theta_0),\n",
       " -1/12*(2*X_1c^3*sin(Theta_0) + 3*X_1c*X_2c^2*sin(Theta_0))*epsilon*m^2/U_c^3 + 1/4*(2*X_1c^2*cos(Theta_0) + X_2c^2*cos(Theta_0))*m/U_c^2 + X_1c*sin(Theta_0)/(U_c*epsilon) - cos(Theta_0)/(epsilon^2*m),\n",
       " -1/2*(U_c*V_c*sin(Theta_0) - X_2c^2*sin(Theta_0))*epsilon*m^2/U_c^2 - 1/2*X_1c*m*cos(Theta_0)/U_c - sin(Theta_0)/epsilon,\n",
       " -1/2*X_1c*X_2c*epsilon*m^2*sin(Theta_0)/U_c^2 + 1/2*X_2c*m*cos(Theta_0)/U_c]"
      ]
     },
     "execution_count": 450,
     "metadata": {},
     "output_type": "execute_result"
    }
   ],
   "source": [
    "T3_UVX = M.vector_field()\n",
    "T3_UVX[:] = [T3_U_simp, T3_V_simp, T3_X1_simp, T3_X2_simp]\n",
    "T3_UVX[:]"
   ]
  },
  {
   "cell_type": "code",
   "execution_count": 451,
   "id": "b1913e01",
   "metadata": {},
   "outputs": [
    {
     "data": {
      "text/html": [
       "<html>\\(\\displaystyle \\left[-\\frac{X_{\\mathit{1c}} \\epsilon^{3} m^{2} \\sin\\left(\\Theta_{0}\\right) - U_{c} \\epsilon^{2} m \\cos\\left(\\Theta_{0}\\right)}{2 \\, U_{c}}, -\\frac{{\\left(2 \\, X_{\\mathit{1c}}^{3} \\sin\\left(\\Theta_{0}\\right) + 3 \\, X_{\\mathit{1c}} X_{\\mathit{2c}}^{2} \\sin\\left(\\Theta_{0}\\right)\\right)} \\epsilon^{3} m^{3} - 12 \\, U_{c}^{2} X_{\\mathit{1c}} \\epsilon m \\sin\\left(\\Theta_{0}\\right) - 3 \\, {\\left(2 \\, U_{c} X_{\\mathit{1c}}^{2} \\cos\\left(\\Theta_{0}\\right) + U_{c} X_{\\mathit{2c}}^{2} \\cos\\left(\\Theta_{0}\\right)\\right)} \\epsilon^{2} m^{2} + 12 \\, U_{c}^{3} \\cos\\left(\\Theta_{0}\\right)}{12 \\, U_{c}^{3} m}, -\\frac{{\\left(U_{c} V_{c} \\sin\\left(\\Theta_{0}\\right) - X_{\\mathit{2c}}^{2} \\sin\\left(\\Theta_{0}\\right)\\right)} \\epsilon^{3} m^{2} + U_{c} X_{\\mathit{1c}} \\epsilon^{2} m \\cos\\left(\\Theta_{0}\\right) + 2 \\, U_{c}^{2} \\epsilon \\sin\\left(\\Theta_{0}\\right)}{2 \\, U_{c}^{2}}, -\\frac{X_{\\mathit{1c}} X_{\\mathit{2c}} \\epsilon^{3} m^{2} \\sin\\left(\\Theta_{0}\\right) - U_{c} X_{\\mathit{2c}} \\epsilon^{2} m \\cos\\left(\\Theta_{0}\\right)}{2 \\, U_{c}^{2}}\\right]\\)</html>"
      ],
      "text/latex": [
       "$\\displaystyle \\left[-\\frac{X_{\\mathit{1c}} \\epsilon^{3} m^{2} \\sin\\left(\\Theta_{0}\\right) - U_{c} \\epsilon^{2} m \\cos\\left(\\Theta_{0}\\right)}{2 \\, U_{c}}, -\\frac{{\\left(2 \\, X_{\\mathit{1c}}^{3} \\sin\\left(\\Theta_{0}\\right) + 3 \\, X_{\\mathit{1c}} X_{\\mathit{2c}}^{2} \\sin\\left(\\Theta_{0}\\right)\\right)} \\epsilon^{3} m^{3} - 12 \\, U_{c}^{2} X_{\\mathit{1c}} \\epsilon m \\sin\\left(\\Theta_{0}\\right) - 3 \\, {\\left(2 \\, U_{c} X_{\\mathit{1c}}^{2} \\cos\\left(\\Theta_{0}\\right) + U_{c} X_{\\mathit{2c}}^{2} \\cos\\left(\\Theta_{0}\\right)\\right)} \\epsilon^{2} m^{2} + 12 \\, U_{c}^{3} \\cos\\left(\\Theta_{0}\\right)}{12 \\, U_{c}^{3} m}, -\\frac{{\\left(U_{c} V_{c} \\sin\\left(\\Theta_{0}\\right) - X_{\\mathit{2c}}^{2} \\sin\\left(\\Theta_{0}\\right)\\right)} \\epsilon^{3} m^{2} + U_{c} X_{\\mathit{1c}} \\epsilon^{2} m \\cos\\left(\\Theta_{0}\\right) + 2 \\, U_{c}^{2} \\epsilon \\sin\\left(\\Theta_{0}\\right)}{2 \\, U_{c}^{2}}, -\\frac{X_{\\mathit{1c}} X_{\\mathit{2c}} \\epsilon^{3} m^{2} \\sin\\left(\\Theta_{0}\\right) - U_{c} X_{\\mathit{2c}} \\epsilon^{2} m \\cos\\left(\\Theta_{0}\\right)}{2 \\, U_{c}^{2}}\\right]$"
      ],
      "text/plain": [
       "[-1/2*(X_1c*epsilon^3*m^2*sin(Theta_0) - U_c*epsilon^2*m*cos(Theta_0))/U_c,\n",
       " -1/12*((2*X_1c^3*sin(Theta_0) + 3*X_1c*X_2c^2*sin(Theta_0))*epsilon^3*m^3 - 12*U_c^2*X_1c*epsilon*m*sin(Theta_0) - 3*(2*U_c*X_1c^2*cos(Theta_0) + U_c*X_2c^2*cos(Theta_0))*epsilon^2*m^2 + 12*U_c^3*cos(Theta_0))/(U_c^3*m),\n",
       " -1/2*((U_c*V_c*sin(Theta_0) - X_2c^2*sin(Theta_0))*epsilon^3*m^2 + U_c*X_1c*epsilon^2*m*cos(Theta_0) + 2*U_c^2*epsilon*sin(Theta_0))/U_c^2,\n",
       " -1/2*(X_1c*X_2c*epsilon^3*m^2*sin(Theta_0) - U_c*X_2c*epsilon^2*m*cos(Theta_0))/U_c^2]"
      ]
     },
     "execution_count": 451,
     "metadata": {},
     "output_type": "execute_result"
    }
   ],
   "source": [
    "T3_UVX_eps = T3_UVX*eps^2\n",
    "T3_UVX_eps[:]"
   ]
  },
  {
   "cell_type": "code",
   "execution_count": 452,
   "id": "21ff5ce0",
   "metadata": {},
   "outputs": [
    {
     "data": {
      "text/html": [
       "<html>\\(\\displaystyle \\left[0, -\\frac{\\cos\\left(\\Theta_{0}\\right)}{m}, 0, 0\\right]\\)</html>"
      ],
      "text/latex": [
       "$\\displaystyle \\left[0, -\\frac{\\cos\\left(\\Theta_{0}\\right)}{m}, 0, 0\\right]$"
      ],
      "text/plain": [
       "[0, -cos(Theta_0)/m, 0, 0]"
      ]
     },
     "execution_count": 452,
     "metadata": {},
     "output_type": "execute_result"
    }
   ],
   "source": [
    "T3_UVX_CL = T3_UVX_eps.copy()\n",
    "T3_UVX_CL.apply_map(lambda tmp: tmp.subs({eps:0}))\n",
    "T3_UVX_CL[:]"
   ]
  },
  {
   "cell_type": "markdown",
   "id": "bb879290",
   "metadata": {},
   "source": [
    "We find that the limiting vector fields T0_CL, T1_CL, T2_CL, T3_CL, are all linearly dependent. So we need to construct linearly independent linear combinations of T0, T1, T2, T3."
   ]
  },
  {
   "cell_type": "code",
   "execution_count": 454,
   "id": "9e5d10d0",
   "metadata": {},
   "outputs": [
    {
     "data": {
      "text/html": [
       "<html>\\(\\displaystyle \\left(\\left[0, \\frac{1}{m}, 0, 0\\right], \\left[0, -\\frac{\\cos\\left(\\Phi_{0}\\right) \\sin\\left(\\Theta_{0}\\right)}{m}, 0, 0\\right]\\right)\\)</html>"
      ],
      "text/latex": [
       "$\\displaystyle \\left(\\left[0, \\frac{1}{m}, 0, 0\\right], \\left[0, -\\frac{\\cos\\left(\\Phi_{0}\\right) \\sin\\left(\\Theta_{0}\\right)}{m}, 0, 0\\right]\\right)$"
      ],
      "text/plain": [
       "([0, 1/m, 0, 0], [0, -cos(Phi_0)*sin(Theta_0)/m, 0, 0])"
      ]
     },
     "execution_count": 454,
     "metadata": {},
     "output_type": "execute_result"
    }
   ],
   "source": [
    "T0_UVX_CL[:], T1_UVX_CL[:]"
   ]
  },
  {
   "cell_type": "code",
   "execution_count": 455,
   "id": "8328b194",
   "metadata": {},
   "outputs": [
    {
     "data": {
      "text/html": [
       "<html>\\(\\displaystyle \\left[-\\frac{{\\left(\\cos\\left(\\Phi_{0}\\right) \\cos\\left(\\Theta_{0}\\right)^{2} - \\cos\\left(\\Phi_{0}\\right)\\right)} U_{c} X_{\\mathit{2c}}^{2} \\epsilon^{2} m^{3} - {\\left(X_{\\mathit{2c}}^{3} \\cos\\left(\\Theta_{0}\\right)^{2} \\sin\\left(\\Phi_{0}\\right) + X_{\\mathit{1c}} X_{\\mathit{2c}}^{2} \\cos\\left(\\Phi_{0}\\right) \\cos\\left(\\Theta_{0}\\right) \\sin\\left(\\Theta_{0}\\right)\\right)} \\epsilon^{3} m^{4} + 8 \\, {\\left(\\cos\\left(\\Phi_{0}\\right) \\cos\\left(\\Theta_{0}\\right)^{2} - \\cos\\left(\\Phi_{0}\\right)\\right)} U_{c}^{3} m - 4 \\, {\\left(U_{c}^{2} X_{\\mathit{2c}} \\cos\\left(\\Theta_{0}\\right)^{2} \\sin\\left(\\Phi_{0}\\right) + U_{c}^{2} X_{\\mathit{1c}} \\cos\\left(\\Phi_{0}\\right) \\cos\\left(\\Theta_{0}\\right) \\sin\\left(\\Theta_{0}\\right)\\right)} \\epsilon m^{2}}{2 \\, {\\left(U_{c} X_{\\mathit{2c}}^{2} \\epsilon^{2} m^{2} \\sin\\left(\\Theta_{0}\\right) + 4 \\, U_{c}^{3} \\sin\\left(\\Theta_{0}\\right)\\right)}}, -\\frac{48 \\, U_{c}^{4} X_{\\mathit{1c}} \\cos\\left(\\Phi_{0}\\right) \\cos\\left(\\Theta_{0}\\right) \\sin\\left(\\Theta_{0}\\right)^{3} - {\\left(2 \\, X_{\\mathit{1c}}^{3} X_{\\mathit{2c}}^{2} \\cos\\left(\\Phi_{0}\\right) \\cos\\left(\\Theta_{0}\\right) \\sin\\left(\\Theta_{0}\\right)^{3} + 3 \\, {\\left(3 \\, \\cos\\left(\\Phi_{0}\\right) \\cos\\left(\\Theta_{0}\\right) \\sin\\left(\\Theta_{0}\\right)^{3} + 4 \\, \\cos\\left(\\Phi_{0}\\right) \\cos\\left(\\Theta_{0}\\right) \\sin\\left(\\Theta_{0}\\right)\\right)} X_{\\mathit{1c}} X_{\\mathit{2c}}^{4} - 5 \\, {\\left(\\sin\\left(\\Phi_{0}\\right) \\sin\\left(\\Theta_{0}\\right)^{4} - 3 \\, \\sin\\left(\\Phi_{0}\\right) \\sin\\left(\\Theta_{0}\\right)^{2}\\right)} X_{\\mathit{2c}}^{5} - 6 \\, {\\left(U_{c} V_{c} \\sin\\left(\\Phi_{0}\\right) \\sin\\left(\\Theta_{0}\\right)^{2} + {\\left(\\sin\\left(\\Phi_{0}\\right) \\sin\\left(\\Theta_{0}\\right)^{4} - \\sin\\left(\\Phi_{0}\\right) \\sin\\left(\\Theta_{0}\\right)^{2} + 2 \\, \\sin\\left(\\Phi_{0}\\right)\\right)} X_{\\mathit{1c}}^{2}\\right)} X_{\\mathit{2c}}^{3}\\right)} \\epsilon^{4} m^{4} - 3 \\, {\\left(2 \\, U_{c} X_{\\mathit{1c}}^{2} X_{\\mathit{2c}}^{2} \\cos\\left(\\Phi_{0}\\right) \\sin\\left(\\Theta_{0}\\right)^{4} + 4 \\, {\\left(\\cos\\left(\\Theta_{0}\\right) \\sin\\left(\\Phi_{0}\\right) \\sin\\left(\\Theta_{0}\\right)^{3} + \\cos\\left(\\Theta_{0}\\right) \\sin\\left(\\Phi_{0}\\right) \\sin\\left(\\Theta_{0}\\right)\\right)} U_{c} X_{\\mathit{1c}} X_{\\mathit{2c}}^{3} + {\\left(3 \\, \\cos\\left(\\Phi_{0}\\right) \\sin\\left(\\Theta_{0}\\right)^{4} - 4 \\, \\cos\\left(\\Phi_{0}\\right) \\sin\\left(\\Theta_{0}\\right)^{2}\\right)} U_{c} X_{\\mathit{2c}}^{4}\\right)} \\epsilon^{3} m^{3} - 48 \\, {\\left(\\sin\\left(\\Phi_{0}\\right) \\sin\\left(\\Theta_{0}\\right)^{4} - \\sin\\left(\\Phi_{0}\\right) \\sin\\left(\\Theta_{0}\\right)^{2}\\right)} U_{c}^{4} X_{\\mathit{2c}} - 8 \\, {\\left(U_{c}^{2} X_{\\mathit{1c}}^{3} \\cos\\left(\\Phi_{0}\\right) \\cos\\left(\\Theta_{0}\\right) \\sin\\left(\\Theta_{0}\\right)^{3} + 3 \\, {\\left(\\cos\\left(\\Phi_{0}\\right) \\cos\\left(\\Theta_{0}\\right) \\sin\\left(\\Theta_{0}\\right)^{3} + 2 \\, \\cos\\left(\\Phi_{0}\\right) \\cos\\left(\\Theta_{0}\\right) \\sin\\left(\\Theta_{0}\\right)\\right)} U_{c}^{2} X_{\\mathit{1c}} X_{\\mathit{2c}}^{2} - {\\left(\\sin\\left(\\Phi_{0}\\right) \\sin\\left(\\Theta_{0}\\right)^{4} - 6 \\, \\sin\\left(\\Phi_{0}\\right) \\sin\\left(\\Theta_{0}\\right)^{2}\\right)} U_{c}^{2} X_{\\mathit{2c}}^{3} - 3 \\, {\\left(U_{c}^{3} V_{c} \\sin\\left(\\Phi_{0}\\right) \\sin\\left(\\Theta_{0}\\right)^{2} + {\\left(\\sin\\left(\\Phi_{0}\\right) \\sin\\left(\\Theta_{0}\\right)^{4} - \\sin\\left(\\Phi_{0}\\right) \\sin\\left(\\Theta_{0}\\right)^{2} + 2 \\, \\sin\\left(\\Phi_{0}\\right)\\right)} U_{c}^{2} X_{\\mathit{1c}}^{2}\\right)} X_{\\mathit{2c}}\\right)} \\epsilon^{2} m^{2} - 24 \\, {\\left(U_{c}^{3} X_{\\mathit{1c}}^{2} \\cos\\left(\\Phi_{0}\\right) \\sin\\left(\\Theta_{0}\\right)^{4} + 2 \\, {\\left(\\cos\\left(\\Theta_{0}\\right) \\sin\\left(\\Phi_{0}\\right) \\sin\\left(\\Theta_{0}\\right)^{3} + \\cos\\left(\\Theta_{0}\\right) \\sin\\left(\\Phi_{0}\\right) \\sin\\left(\\Theta_{0}\\right)\\right)} U_{c}^{3} X_{\\mathit{1c}} X_{\\mathit{2c}} + 2 \\, {\\left(\\cos\\left(\\Phi_{0}\\right) \\sin\\left(\\Theta_{0}\\right)^{4} - \\cos\\left(\\Phi_{0}\\right) \\sin\\left(\\Theta_{0}\\right)^{2}\\right)} U_{c}^{3} X_{\\mathit{2c}}^{2}\\right)} \\epsilon m}{12 \\, {\\left(U_{c}^{3} X_{\\mathit{2c}}^{2} \\epsilon^{3} m^{2} \\sin\\left(\\Theta_{0}\\right)^{3} + 4 \\, U_{c}^{5} \\epsilon \\sin\\left(\\Theta_{0}\\right)^{3}\\right)}}, \\frac{{\\left(U_{c} V_{c} X_{\\mathit{2c}}^{2} \\cos\\left(\\Phi_{0}\\right) \\cos\\left(\\Theta_{0}\\right) \\sin\\left(\\Theta_{0}\\right) - 2 \\, X_{\\mathit{2c}}^{4} \\cos\\left(\\Phi_{0}\\right) \\cos\\left(\\Theta_{0}\\right) \\sin\\left(\\Theta_{0}\\right) + {\\left(\\sin\\left(\\Phi_{0}\\right) \\sin\\left(\\Theta_{0}\\right)^{2} + \\sin\\left(\\Phi_{0}\\right)\\right)} X_{\\mathit{1c}} X_{\\mathit{2c}}^{3}\\right)} \\epsilon^{4} m^{4} - 8 \\, U_{c}^{3} X_{\\mathit{2c}} \\epsilon m \\cos\\left(\\Theta_{0}\\right) \\sin\\left(\\Phi_{0}\\right) \\sin\\left(\\Theta_{0}\\right) - {\\left(2 \\, U_{c} X_{\\mathit{2c}}^{3} \\cos\\left(\\Theta_{0}\\right) \\sin\\left(\\Phi_{0}\\right) \\sin\\left(\\Theta_{0}\\right) + U_{c} X_{\\mathit{1c}} X_{\\mathit{2c}}^{2} \\cos\\left(\\Phi_{0}\\right) \\sin\\left(\\Theta_{0}\\right)^{2}\\right)} \\epsilon^{3} m^{3} + 8 \\, U_{c}^{4} \\cos\\left(\\Phi_{0}\\right) \\cos\\left(\\Theta_{0}\\right) \\sin\\left(\\Theta_{0}\\right) + 2 \\, {\\left(2 \\, U_{c}^{3} V_{c} \\cos\\left(\\Phi_{0}\\right) \\cos\\left(\\Theta_{0}\\right) \\sin\\left(\\Theta_{0}\\right) - 3 \\, U_{c}^{2} X_{\\mathit{2c}}^{2} \\cos\\left(\\Phi_{0}\\right) \\cos\\left(\\Theta_{0}\\right) \\sin\\left(\\Theta_{0}\\right) + 2 \\, {\\left(\\sin\\left(\\Phi_{0}\\right) \\sin\\left(\\Theta_{0}\\right)^{2} + \\sin\\left(\\Phi_{0}\\right)\\right)} U_{c}^{2} X_{\\mathit{1c}} X_{\\mathit{2c}}\\right)} \\epsilon^{2} m^{2}}{2 \\, {\\left(U_{c}^{2} X_{\\mathit{2c}}^{2} \\epsilon^{3} m^{2} \\sin\\left(\\Theta_{0}\\right) + 4 \\, U_{c}^{4} \\epsilon \\sin\\left(\\Theta_{0}\\right)\\right)}}, \\frac{{\\left({\\left(\\cos\\left(\\Phi_{0}\\right) \\cos\\left(\\Theta_{0}\\right) \\sin\\left(\\Theta_{0}\\right)^{3} + 2 \\, \\cos\\left(\\Phi_{0}\\right) \\cos\\left(\\Theta_{0}\\right) \\sin\\left(\\Theta_{0}\\right)\\right)} X_{\\mathit{1c}} X_{\\mathit{2c}}^{3} - {\\left(\\sin\\left(\\Phi_{0}\\right) \\sin\\left(\\Theta_{0}\\right)^{4} - 3 \\, \\sin\\left(\\Phi_{0}\\right) \\sin\\left(\\Theta_{0}\\right)^{2}\\right)} X_{\\mathit{2c}}^{4} - {\\left(U_{c} V_{c} \\sin\\left(\\Phi_{0}\\right) \\sin\\left(\\Theta_{0}\\right)^{2} - {\\left(\\sin\\left(\\Phi_{0}\\right) \\sin\\left(\\Theta_{0}\\right)^{2} - 2 \\, \\sin\\left(\\Phi_{0}\\right)\\right)} X_{\\mathit{1c}}^{2}\\right)} X_{\\mathit{2c}}^{2}\\right)} \\epsilon^{4} m^{4} + {\\left(2 \\, U_{c} X_{\\mathit{1c}} X_{\\mathit{2c}}^{2} \\cos\\left(\\Theta_{0}\\right) \\sin\\left(\\Phi_{0}\\right) \\sin\\left(\\Theta_{0}\\right) + {\\left(\\cos\\left(\\Phi_{0}\\right) \\sin\\left(\\Theta_{0}\\right)^{4} - 2 \\, \\cos\\left(\\Phi_{0}\\right) \\sin\\left(\\Theta_{0}\\right)^{2}\\right)} U_{c} X_{\\mathit{2c}}^{3}\\right)} \\epsilon^{3} m^{3} - 8 \\, U_{c}^{4} \\sin\\left(\\Phi_{0}\\right) \\sin\\left(\\Theta_{0}\\right)^{2} - 2 \\, {\\left(2 \\, U_{c}^{3} V_{c} \\sin\\left(\\Phi_{0}\\right) \\sin\\left(\\Theta_{0}\\right)^{2} - 2 \\, {\\left(\\sin\\left(\\Phi_{0}\\right) \\sin\\left(\\Theta_{0}\\right)^{2} - 2 \\, \\sin\\left(\\Phi_{0}\\right)\\right)} U_{c}^{2} X_{\\mathit{1c}}^{2} - 2 \\, {\\left(\\cos\\left(\\Phi_{0}\\right) \\cos\\left(\\Theta_{0}\\right) \\sin\\left(\\Theta_{0}\\right)^{3} + 2 \\, \\cos\\left(\\Phi_{0}\\right) \\cos\\left(\\Theta_{0}\\right) \\sin\\left(\\Theta_{0}\\right)\\right)} U_{c}^{2} X_{\\mathit{1c}} X_{\\mathit{2c}} + {\\left(2 \\, \\sin\\left(\\Phi_{0}\\right) \\sin\\left(\\Theta_{0}\\right)^{4} - 5 \\, \\sin\\left(\\Phi_{0}\\right) \\sin\\left(\\Theta_{0}\\right)^{2}\\right)} U_{c}^{2} X_{\\mathit{2c}}^{2}\\right)} \\epsilon^{2} m^{2} + 8 \\, {\\left(U_{c}^{3} X_{\\mathit{1c}} \\cos\\left(\\Theta_{0}\\right) \\sin\\left(\\Phi_{0}\\right) \\sin\\left(\\Theta_{0}\\right) + {\\left(\\cos\\left(\\Phi_{0}\\right) \\sin\\left(\\Theta_{0}\\right)^{4} - \\cos\\left(\\Phi_{0}\\right) \\sin\\left(\\Theta_{0}\\right)^{2}\\right)} U_{c}^{3} X_{\\mathit{2c}}\\right)} \\epsilon m}{2 \\, {\\left(U_{c}^{2} X_{\\mathit{2c}}^{2} \\epsilon^{3} m^{2} \\sin\\left(\\Theta_{0}\\right)^{3} + 4 \\, U_{c}^{4} \\epsilon \\sin\\left(\\Theta_{0}\\right)^{3}\\right)}}\\right]\\)</html>"
      ],
      "text/latex": [
       "$\\displaystyle \\left[-\\frac{{\\left(\\cos\\left(\\Phi_{0}\\right) \\cos\\left(\\Theta_{0}\\right)^{2} - \\cos\\left(\\Phi_{0}\\right)\\right)} U_{c} X_{\\mathit{2c}}^{2} \\epsilon^{2} m^{3} - {\\left(X_{\\mathit{2c}}^{3} \\cos\\left(\\Theta_{0}\\right)^{2} \\sin\\left(\\Phi_{0}\\right) + X_{\\mathit{1c}} X_{\\mathit{2c}}^{2} \\cos\\left(\\Phi_{0}\\right) \\cos\\left(\\Theta_{0}\\right) \\sin\\left(\\Theta_{0}\\right)\\right)} \\epsilon^{3} m^{4} + 8 \\, {\\left(\\cos\\left(\\Phi_{0}\\right) \\cos\\left(\\Theta_{0}\\right)^{2} - \\cos\\left(\\Phi_{0}\\right)\\right)} U_{c}^{3} m - 4 \\, {\\left(U_{c}^{2} X_{\\mathit{2c}} \\cos\\left(\\Theta_{0}\\right)^{2} \\sin\\left(\\Phi_{0}\\right) + U_{c}^{2} X_{\\mathit{1c}} \\cos\\left(\\Phi_{0}\\right) \\cos\\left(\\Theta_{0}\\right) \\sin\\left(\\Theta_{0}\\right)\\right)} \\epsilon m^{2}}{2 \\, {\\left(U_{c} X_{\\mathit{2c}}^{2} \\epsilon^{2} m^{2} \\sin\\left(\\Theta_{0}\\right) + 4 \\, U_{c}^{3} \\sin\\left(\\Theta_{0}\\right)\\right)}}, -\\frac{48 \\, U_{c}^{4} X_{\\mathit{1c}} \\cos\\left(\\Phi_{0}\\right) \\cos\\left(\\Theta_{0}\\right) \\sin\\left(\\Theta_{0}\\right)^{3} - {\\left(2 \\, X_{\\mathit{1c}}^{3} X_{\\mathit{2c}}^{2} \\cos\\left(\\Phi_{0}\\right) \\cos\\left(\\Theta_{0}\\right) \\sin\\left(\\Theta_{0}\\right)^{3} + 3 \\, {\\left(3 \\, \\cos\\left(\\Phi_{0}\\right) \\cos\\left(\\Theta_{0}\\right) \\sin\\left(\\Theta_{0}\\right)^{3} + 4 \\, \\cos\\left(\\Phi_{0}\\right) \\cos\\left(\\Theta_{0}\\right) \\sin\\left(\\Theta_{0}\\right)\\right)} X_{\\mathit{1c}} X_{\\mathit{2c}}^{4} - 5 \\, {\\left(\\sin\\left(\\Phi_{0}\\right) \\sin\\left(\\Theta_{0}\\right)^{4} - 3 \\, \\sin\\left(\\Phi_{0}\\right) \\sin\\left(\\Theta_{0}\\right)^{2}\\right)} X_{\\mathit{2c}}^{5} - 6 \\, {\\left(U_{c} V_{c} \\sin\\left(\\Phi_{0}\\right) \\sin\\left(\\Theta_{0}\\right)^{2} + {\\left(\\sin\\left(\\Phi_{0}\\right) \\sin\\left(\\Theta_{0}\\right)^{4} - \\sin\\left(\\Phi_{0}\\right) \\sin\\left(\\Theta_{0}\\right)^{2} + 2 \\, \\sin\\left(\\Phi_{0}\\right)\\right)} X_{\\mathit{1c}}^{2}\\right)} X_{\\mathit{2c}}^{3}\\right)} \\epsilon^{4} m^{4} - 3 \\, {\\left(2 \\, U_{c} X_{\\mathit{1c}}^{2} X_{\\mathit{2c}}^{2} \\cos\\left(\\Phi_{0}\\right) \\sin\\left(\\Theta_{0}\\right)^{4} + 4 \\, {\\left(\\cos\\left(\\Theta_{0}\\right) \\sin\\left(\\Phi_{0}\\right) \\sin\\left(\\Theta_{0}\\right)^{3} + \\cos\\left(\\Theta_{0}\\right) \\sin\\left(\\Phi_{0}\\right) \\sin\\left(\\Theta_{0}\\right)\\right)} U_{c} X_{\\mathit{1c}} X_{\\mathit{2c}}^{3} + {\\left(3 \\, \\cos\\left(\\Phi_{0}\\right) \\sin\\left(\\Theta_{0}\\right)^{4} - 4 \\, \\cos\\left(\\Phi_{0}\\right) \\sin\\left(\\Theta_{0}\\right)^{2}\\right)} U_{c} X_{\\mathit{2c}}^{4}\\right)} \\epsilon^{3} m^{3} - 48 \\, {\\left(\\sin\\left(\\Phi_{0}\\right) \\sin\\left(\\Theta_{0}\\right)^{4} - \\sin\\left(\\Phi_{0}\\right) \\sin\\left(\\Theta_{0}\\right)^{2}\\right)} U_{c}^{4} X_{\\mathit{2c}} - 8 \\, {\\left(U_{c}^{2} X_{\\mathit{1c}}^{3} \\cos\\left(\\Phi_{0}\\right) \\cos\\left(\\Theta_{0}\\right) \\sin\\left(\\Theta_{0}\\right)^{3} + 3 \\, {\\left(\\cos\\left(\\Phi_{0}\\right) \\cos\\left(\\Theta_{0}\\right) \\sin\\left(\\Theta_{0}\\right)^{3} + 2 \\, \\cos\\left(\\Phi_{0}\\right) \\cos\\left(\\Theta_{0}\\right) \\sin\\left(\\Theta_{0}\\right)\\right)} U_{c}^{2} X_{\\mathit{1c}} X_{\\mathit{2c}}^{2} - {\\left(\\sin\\left(\\Phi_{0}\\right) \\sin\\left(\\Theta_{0}\\right)^{4} - 6 \\, \\sin\\left(\\Phi_{0}\\right) \\sin\\left(\\Theta_{0}\\right)^{2}\\right)} U_{c}^{2} X_{\\mathit{2c}}^{3} - 3 \\, {\\left(U_{c}^{3} V_{c} \\sin\\left(\\Phi_{0}\\right) \\sin\\left(\\Theta_{0}\\right)^{2} + {\\left(\\sin\\left(\\Phi_{0}\\right) \\sin\\left(\\Theta_{0}\\right)^{4} - \\sin\\left(\\Phi_{0}\\right) \\sin\\left(\\Theta_{0}\\right)^{2} + 2 \\, \\sin\\left(\\Phi_{0}\\right)\\right)} U_{c}^{2} X_{\\mathit{1c}}^{2}\\right)} X_{\\mathit{2c}}\\right)} \\epsilon^{2} m^{2} - 24 \\, {\\left(U_{c}^{3} X_{\\mathit{1c}}^{2} \\cos\\left(\\Phi_{0}\\right) \\sin\\left(\\Theta_{0}\\right)^{4} + 2 \\, {\\left(\\cos\\left(\\Theta_{0}\\right) \\sin\\left(\\Phi_{0}\\right) \\sin\\left(\\Theta_{0}\\right)^{3} + \\cos\\left(\\Theta_{0}\\right) \\sin\\left(\\Phi_{0}\\right) \\sin\\left(\\Theta_{0}\\right)\\right)} U_{c}^{3} X_{\\mathit{1c}} X_{\\mathit{2c}} + 2 \\, {\\left(\\cos\\left(\\Phi_{0}\\right) \\sin\\left(\\Theta_{0}\\right)^{4} - \\cos\\left(\\Phi_{0}\\right) \\sin\\left(\\Theta_{0}\\right)^{2}\\right)} U_{c}^{3} X_{\\mathit{2c}}^{2}\\right)} \\epsilon m}{12 \\, {\\left(U_{c}^{3} X_{\\mathit{2c}}^{2} \\epsilon^{3} m^{2} \\sin\\left(\\Theta_{0}\\right)^{3} + 4 \\, U_{c}^{5} \\epsilon \\sin\\left(\\Theta_{0}\\right)^{3}\\right)}}, \\frac{{\\left(U_{c} V_{c} X_{\\mathit{2c}}^{2} \\cos\\left(\\Phi_{0}\\right) \\cos\\left(\\Theta_{0}\\right) \\sin\\left(\\Theta_{0}\\right) - 2 \\, X_{\\mathit{2c}}^{4} \\cos\\left(\\Phi_{0}\\right) \\cos\\left(\\Theta_{0}\\right) \\sin\\left(\\Theta_{0}\\right) + {\\left(\\sin\\left(\\Phi_{0}\\right) \\sin\\left(\\Theta_{0}\\right)^{2} + \\sin\\left(\\Phi_{0}\\right)\\right)} X_{\\mathit{1c}} X_{\\mathit{2c}}^{3}\\right)} \\epsilon^{4} m^{4} - 8 \\, U_{c}^{3} X_{\\mathit{2c}} \\epsilon m \\cos\\left(\\Theta_{0}\\right) \\sin\\left(\\Phi_{0}\\right) \\sin\\left(\\Theta_{0}\\right) - {\\left(2 \\, U_{c} X_{\\mathit{2c}}^{3} \\cos\\left(\\Theta_{0}\\right) \\sin\\left(\\Phi_{0}\\right) \\sin\\left(\\Theta_{0}\\right) + U_{c} X_{\\mathit{1c}} X_{\\mathit{2c}}^{2} \\cos\\left(\\Phi_{0}\\right) \\sin\\left(\\Theta_{0}\\right)^{2}\\right)} \\epsilon^{3} m^{3} + 8 \\, U_{c}^{4} \\cos\\left(\\Phi_{0}\\right) \\cos\\left(\\Theta_{0}\\right) \\sin\\left(\\Theta_{0}\\right) + 2 \\, {\\left(2 \\, U_{c}^{3} V_{c} \\cos\\left(\\Phi_{0}\\right) \\cos\\left(\\Theta_{0}\\right) \\sin\\left(\\Theta_{0}\\right) - 3 \\, U_{c}^{2} X_{\\mathit{2c}}^{2} \\cos\\left(\\Phi_{0}\\right) \\cos\\left(\\Theta_{0}\\right) \\sin\\left(\\Theta_{0}\\right) + 2 \\, {\\left(\\sin\\left(\\Phi_{0}\\right) \\sin\\left(\\Theta_{0}\\right)^{2} + \\sin\\left(\\Phi_{0}\\right)\\right)} U_{c}^{2} X_{\\mathit{1c}} X_{\\mathit{2c}}\\right)} \\epsilon^{2} m^{2}}{2 \\, {\\left(U_{c}^{2} X_{\\mathit{2c}}^{2} \\epsilon^{3} m^{2} \\sin\\left(\\Theta_{0}\\right) + 4 \\, U_{c}^{4} \\epsilon \\sin\\left(\\Theta_{0}\\right)\\right)}}, \\frac{{\\left({\\left(\\cos\\left(\\Phi_{0}\\right) \\cos\\left(\\Theta_{0}\\right) \\sin\\left(\\Theta_{0}\\right)^{3} + 2 \\, \\cos\\left(\\Phi_{0}\\right) \\cos\\left(\\Theta_{0}\\right) \\sin\\left(\\Theta_{0}\\right)\\right)} X_{\\mathit{1c}} X_{\\mathit{2c}}^{3} - {\\left(\\sin\\left(\\Phi_{0}\\right) \\sin\\left(\\Theta_{0}\\right)^{4} - 3 \\, \\sin\\left(\\Phi_{0}\\right) \\sin\\left(\\Theta_{0}\\right)^{2}\\right)} X_{\\mathit{2c}}^{4} - {\\left(U_{c} V_{c} \\sin\\left(\\Phi_{0}\\right) \\sin\\left(\\Theta_{0}\\right)^{2} - {\\left(\\sin\\left(\\Phi_{0}\\right) \\sin\\left(\\Theta_{0}\\right)^{2} - 2 \\, \\sin\\left(\\Phi_{0}\\right)\\right)} X_{\\mathit{1c}}^{2}\\right)} X_{\\mathit{2c}}^{2}\\right)} \\epsilon^{4} m^{4} + {\\left(2 \\, U_{c} X_{\\mathit{1c}} X_{\\mathit{2c}}^{2} \\cos\\left(\\Theta_{0}\\right) \\sin\\left(\\Phi_{0}\\right) \\sin\\left(\\Theta_{0}\\right) + {\\left(\\cos\\left(\\Phi_{0}\\right) \\sin\\left(\\Theta_{0}\\right)^{4} - 2 \\, \\cos\\left(\\Phi_{0}\\right) \\sin\\left(\\Theta_{0}\\right)^{2}\\right)} U_{c} X_{\\mathit{2c}}^{3}\\right)} \\epsilon^{3} m^{3} - 8 \\, U_{c}^{4} \\sin\\left(\\Phi_{0}\\right) \\sin\\left(\\Theta_{0}\\right)^{2} - 2 \\, {\\left(2 \\, U_{c}^{3} V_{c} \\sin\\left(\\Phi_{0}\\right) \\sin\\left(\\Theta_{0}\\right)^{2} - 2 \\, {\\left(\\sin\\left(\\Phi_{0}\\right) \\sin\\left(\\Theta_{0}\\right)^{2} - 2 \\, \\sin\\left(\\Phi_{0}\\right)\\right)} U_{c}^{2} X_{\\mathit{1c}}^{2} - 2 \\, {\\left(\\cos\\left(\\Phi_{0}\\right) \\cos\\left(\\Theta_{0}\\right) \\sin\\left(\\Theta_{0}\\right)^{3} + 2 \\, \\cos\\left(\\Phi_{0}\\right) \\cos\\left(\\Theta_{0}\\right) \\sin\\left(\\Theta_{0}\\right)\\right)} U_{c}^{2} X_{\\mathit{1c}} X_{\\mathit{2c}} + {\\left(2 \\, \\sin\\left(\\Phi_{0}\\right) \\sin\\left(\\Theta_{0}\\right)^{4} - 5 \\, \\sin\\left(\\Phi_{0}\\right) \\sin\\left(\\Theta_{0}\\right)^{2}\\right)} U_{c}^{2} X_{\\mathit{2c}}^{2}\\right)} \\epsilon^{2} m^{2} + 8 \\, {\\left(U_{c}^{3} X_{\\mathit{1c}} \\cos\\left(\\Theta_{0}\\right) \\sin\\left(\\Phi_{0}\\right) \\sin\\left(\\Theta_{0}\\right) + {\\left(\\cos\\left(\\Phi_{0}\\right) \\sin\\left(\\Theta_{0}\\right)^{4} - \\cos\\left(\\Phi_{0}\\right) \\sin\\left(\\Theta_{0}\\right)^{2}\\right)} U_{c}^{3} X_{\\mathit{2c}}\\right)} \\epsilon m}{2 \\, {\\left(U_{c}^{2} X_{\\mathit{2c}}^{2} \\epsilon^{3} m^{2} \\sin\\left(\\Theta_{0}\\right)^{3} + 4 \\, U_{c}^{4} \\epsilon \\sin\\left(\\Theta_{0}\\right)^{3}\\right)}}\\right]$"
      ],
      "text/plain": [
       "[-1/2*((cos(Phi_0)*cos(Theta_0)^2 - cos(Phi_0))*U_c*X_2c^2*epsilon^2*m^3 - (X_2c^3*cos(Theta_0)^2*sin(Phi_0) + X_1c*X_2c^2*cos(Phi_0)*cos(Theta_0)*sin(Theta_0))*epsilon^3*m^4 + 8*(cos(Phi_0)*cos(Theta_0)^2 - cos(Phi_0))*U_c^3*m - 4*(U_c^2*X_2c*cos(Theta_0)^2*sin(Phi_0) + U_c^2*X_1c*cos(Phi_0)*cos(Theta_0)*sin(Theta_0))*epsilon*m^2)/(U_c*X_2c^2*epsilon^2*m^2*sin(Theta_0) + 4*U_c^3*sin(Theta_0)),\n",
       " -1/12*(48*U_c^4*X_1c*cos(Phi_0)*cos(Theta_0)*sin(Theta_0)^3 - (2*X_1c^3*X_2c^2*cos(Phi_0)*cos(Theta_0)*sin(Theta_0)^3 + 3*(3*cos(Phi_0)*cos(Theta_0)*sin(Theta_0)^3 + 4*cos(Phi_0)*cos(Theta_0)*sin(Theta_0))*X_1c*X_2c^4 - 5*(sin(Phi_0)*sin(Theta_0)^4 - 3*sin(Phi_0)*sin(Theta_0)^2)*X_2c^5 - 6*(U_c*V_c*sin(Phi_0)*sin(Theta_0)^2 + (sin(Phi_0)*sin(Theta_0)^4 - sin(Phi_0)*sin(Theta_0)^2 + 2*sin(Phi_0))*X_1c^2)*X_2c^3)*epsilon^4*m^4 - 3*(2*U_c*X_1c^2*X_2c^2*cos(Phi_0)*sin(Theta_0)^4 + 4*(cos(Theta_0)*sin(Phi_0)*sin(Theta_0)^3 + cos(Theta_0)*sin(Phi_0)*sin(Theta_0))*U_c*X_1c*X_2c^3 + (3*cos(Phi_0)*sin(Theta_0)^4 - 4*cos(Phi_0)*sin(Theta_0)^2)*U_c*X_2c^4)*epsilon^3*m^3 - 48*(sin(Phi_0)*sin(Theta_0)^4 - sin(Phi_0)*sin(Theta_0)^2)*U_c^4*X_2c - 8*(U_c^2*X_1c^3*cos(Phi_0)*cos(Theta_0)*sin(Theta_0)^3 + 3*(cos(Phi_0)*cos(Theta_0)*sin(Theta_0)^3 + 2*cos(Phi_0)*cos(Theta_0)*sin(Theta_0))*U_c^2*X_1c*X_2c^2 - (sin(Phi_0)*sin(Theta_0)^4 - 6*sin(Phi_0)*sin(Theta_0)^2)*U_c^2*X_2c^3 - 3*(U_c^3*V_c*sin(Phi_0)*sin(Theta_0)^2 + (sin(Phi_0)*sin(Theta_0)^4 - sin(Phi_0)*sin(Theta_0)^2 + 2*sin(Phi_0))*U_c^2*X_1c^2)*X_2c)*epsilon^2*m^2 - 24*(U_c^3*X_1c^2*cos(Phi_0)*sin(Theta_0)^4 + 2*(cos(Theta_0)*sin(Phi_0)*sin(Theta_0)^3 + cos(Theta_0)*sin(Phi_0)*sin(Theta_0))*U_c^3*X_1c*X_2c + 2*(cos(Phi_0)*sin(Theta_0)^4 - cos(Phi_0)*sin(Theta_0)^2)*U_c^3*X_2c^2)*epsilon*m)/(U_c^3*X_2c^2*epsilon^3*m^2*sin(Theta_0)^3 + 4*U_c^5*epsilon*sin(Theta_0)^3),\n",
       " 1/2*((U_c*V_c*X_2c^2*cos(Phi_0)*cos(Theta_0)*sin(Theta_0) - 2*X_2c^4*cos(Phi_0)*cos(Theta_0)*sin(Theta_0) + (sin(Phi_0)*sin(Theta_0)^2 + sin(Phi_0))*X_1c*X_2c^3)*epsilon^4*m^4 - 8*U_c^3*X_2c*epsilon*m*cos(Theta_0)*sin(Phi_0)*sin(Theta_0) - (2*U_c*X_2c^3*cos(Theta_0)*sin(Phi_0)*sin(Theta_0) + U_c*X_1c*X_2c^2*cos(Phi_0)*sin(Theta_0)^2)*epsilon^3*m^3 + 8*U_c^4*cos(Phi_0)*cos(Theta_0)*sin(Theta_0) + 2*(2*U_c^3*V_c*cos(Phi_0)*cos(Theta_0)*sin(Theta_0) - 3*U_c^2*X_2c^2*cos(Phi_0)*cos(Theta_0)*sin(Theta_0) + 2*(sin(Phi_0)*sin(Theta_0)^2 + sin(Phi_0))*U_c^2*X_1c*X_2c)*epsilon^2*m^2)/(U_c^2*X_2c^2*epsilon^3*m^2*sin(Theta_0) + 4*U_c^4*epsilon*sin(Theta_0)),\n",
       " 1/2*(((cos(Phi_0)*cos(Theta_0)*sin(Theta_0)^3 + 2*cos(Phi_0)*cos(Theta_0)*sin(Theta_0))*X_1c*X_2c^3 - (sin(Phi_0)*sin(Theta_0)^4 - 3*sin(Phi_0)*sin(Theta_0)^2)*X_2c^4 - (U_c*V_c*sin(Phi_0)*sin(Theta_0)^2 - (sin(Phi_0)*sin(Theta_0)^2 - 2*sin(Phi_0))*X_1c^2)*X_2c^2)*epsilon^4*m^4 + (2*U_c*X_1c*X_2c^2*cos(Theta_0)*sin(Phi_0)*sin(Theta_0) + (cos(Phi_0)*sin(Theta_0)^4 - 2*cos(Phi_0)*sin(Theta_0)^2)*U_c*X_2c^3)*epsilon^3*m^3 - 8*U_c^4*sin(Phi_0)*sin(Theta_0)^2 - 2*(2*U_c^3*V_c*sin(Phi_0)*sin(Theta_0)^2 - 2*(sin(Phi_0)*sin(Theta_0)^2 - 2*sin(Phi_0))*U_c^2*X_1c^2 - 2*(cos(Phi_0)*cos(Theta_0)*sin(Theta_0)^3 + 2*cos(Phi_0)*cos(Theta_0)*sin(Theta_0))*U_c^2*X_1c*X_2c + (2*sin(Phi_0)*sin(Theta_0)^4 - 5*sin(Phi_0)*sin(Theta_0)^2)*U_c^2*X_2c^2)*epsilon^2*m^2 + 8*(U_c^3*X_1c*cos(Theta_0)*sin(Phi_0)*sin(Theta_0) + (cos(Phi_0)*sin(Theta_0)^4 - cos(Phi_0)*sin(Theta_0)^2)*U_c^3*X_2c)*epsilon*m)/(U_c^2*X_2c^2*epsilon^3*m^2*sin(Theta_0)^3 + 4*U_c^4*epsilon*sin(Theta_0)^3)]"
      ]
     },
     "execution_count": 455,
     "metadata": {},
     "output_type": "execute_result"
    }
   ],
   "source": [
    "T01 = T0_UVX*cos(ph_init)*sin(th_init) + T1_UVX\n",
    "T01[:]"
   ]
  },
  {
   "cell_type": "code",
   "execution_count": 456,
   "id": "3391653c",
   "metadata": {},
   "outputs": [
    {
     "data": {
      "text/html": [
       "<html>\\(\\displaystyle \\left[-\\frac{{\\left(\\cos\\left(\\Phi_{0}\\right) \\cos\\left(\\Theta_{0}\\right)^{2} - \\cos\\left(\\Phi_{0}\\right)\\right)} U_{c} X_{\\mathit{2c}}^{2} \\epsilon^{3} m^{3} - {\\left(X_{\\mathit{2c}}^{3} \\cos\\left(\\Theta_{0}\\right)^{2} \\sin\\left(\\Phi_{0}\\right) + X_{\\mathit{1c}} X_{\\mathit{2c}}^{2} \\cos\\left(\\Phi_{0}\\right) \\cos\\left(\\Theta_{0}\\right) \\sin\\left(\\Theta_{0}\\right)\\right)} \\epsilon^{4} m^{4} + 8 \\, {\\left(\\cos\\left(\\Phi_{0}\\right) \\cos\\left(\\Theta_{0}\\right)^{2} - \\cos\\left(\\Phi_{0}\\right)\\right)} U_{c}^{3} \\epsilon m - 4 \\, {\\left(U_{c}^{2} X_{\\mathit{2c}} \\cos\\left(\\Theta_{0}\\right)^{2} \\sin\\left(\\Phi_{0}\\right) + U_{c}^{2} X_{\\mathit{1c}} \\cos\\left(\\Phi_{0}\\right) \\cos\\left(\\Theta_{0}\\right) \\sin\\left(\\Theta_{0}\\right)\\right)} \\epsilon^{2} m^{2}}{2 \\, {\\left(U_{c} X_{\\mathit{2c}}^{2} \\epsilon^{2} m^{2} \\sin\\left(\\Theta_{0}\\right) + 4 \\, U_{c}^{3} \\sin\\left(\\Theta_{0}\\right)\\right)}}, -\\frac{48 \\, U_{c}^{4} X_{\\mathit{1c}} \\cos\\left(\\Phi_{0}\\right) \\cos\\left(\\Theta_{0}\\right) \\sin\\left(\\Theta_{0}\\right)^{3} - {\\left(2 \\, X_{\\mathit{1c}}^{3} X_{\\mathit{2c}}^{2} \\cos\\left(\\Phi_{0}\\right) \\cos\\left(\\Theta_{0}\\right) \\sin\\left(\\Theta_{0}\\right)^{3} + 3 \\, {\\left(3 \\, \\cos\\left(\\Phi_{0}\\right) \\cos\\left(\\Theta_{0}\\right) \\sin\\left(\\Theta_{0}\\right)^{3} + 4 \\, \\cos\\left(\\Phi_{0}\\right) \\cos\\left(\\Theta_{0}\\right) \\sin\\left(\\Theta_{0}\\right)\\right)} X_{\\mathit{1c}} X_{\\mathit{2c}}^{4} - 5 \\, {\\left(\\sin\\left(\\Phi_{0}\\right) \\sin\\left(\\Theta_{0}\\right)^{4} - 3 \\, \\sin\\left(\\Phi_{0}\\right) \\sin\\left(\\Theta_{0}\\right)^{2}\\right)} X_{\\mathit{2c}}^{5} - 6 \\, {\\left(U_{c} V_{c} \\sin\\left(\\Phi_{0}\\right) \\sin\\left(\\Theta_{0}\\right)^{2} + {\\left(\\sin\\left(\\Phi_{0}\\right) \\sin\\left(\\Theta_{0}\\right)^{4} - \\sin\\left(\\Phi_{0}\\right) \\sin\\left(\\Theta_{0}\\right)^{2} + 2 \\, \\sin\\left(\\Phi_{0}\\right)\\right)} X_{\\mathit{1c}}^{2}\\right)} X_{\\mathit{2c}}^{3}\\right)} \\epsilon^{4} m^{4} - 3 \\, {\\left(2 \\, U_{c} X_{\\mathit{1c}}^{2} X_{\\mathit{2c}}^{2} \\cos\\left(\\Phi_{0}\\right) \\sin\\left(\\Theta_{0}\\right)^{4} + 4 \\, {\\left(\\cos\\left(\\Theta_{0}\\right) \\sin\\left(\\Phi_{0}\\right) \\sin\\left(\\Theta_{0}\\right)^{3} + \\cos\\left(\\Theta_{0}\\right) \\sin\\left(\\Phi_{0}\\right) \\sin\\left(\\Theta_{0}\\right)\\right)} U_{c} X_{\\mathit{1c}} X_{\\mathit{2c}}^{3} + {\\left(3 \\, \\cos\\left(\\Phi_{0}\\right) \\sin\\left(\\Theta_{0}\\right)^{4} - 4 \\, \\cos\\left(\\Phi_{0}\\right) \\sin\\left(\\Theta_{0}\\right)^{2}\\right)} U_{c} X_{\\mathit{2c}}^{4}\\right)} \\epsilon^{3} m^{3} - 48 \\, {\\left(\\sin\\left(\\Phi_{0}\\right) \\sin\\left(\\Theta_{0}\\right)^{4} - \\sin\\left(\\Phi_{0}\\right) \\sin\\left(\\Theta_{0}\\right)^{2}\\right)} U_{c}^{4} X_{\\mathit{2c}} - 8 \\, {\\left(U_{c}^{2} X_{\\mathit{1c}}^{3} \\cos\\left(\\Phi_{0}\\right) \\cos\\left(\\Theta_{0}\\right) \\sin\\left(\\Theta_{0}\\right)^{3} + 3 \\, {\\left(\\cos\\left(\\Phi_{0}\\right) \\cos\\left(\\Theta_{0}\\right) \\sin\\left(\\Theta_{0}\\right)^{3} + 2 \\, \\cos\\left(\\Phi_{0}\\right) \\cos\\left(\\Theta_{0}\\right) \\sin\\left(\\Theta_{0}\\right)\\right)} U_{c}^{2} X_{\\mathit{1c}} X_{\\mathit{2c}}^{2} - {\\left(\\sin\\left(\\Phi_{0}\\right) \\sin\\left(\\Theta_{0}\\right)^{4} - 6 \\, \\sin\\left(\\Phi_{0}\\right) \\sin\\left(\\Theta_{0}\\right)^{2}\\right)} U_{c}^{2} X_{\\mathit{2c}}^{3} - 3 \\, {\\left(U_{c}^{3} V_{c} \\sin\\left(\\Phi_{0}\\right) \\sin\\left(\\Theta_{0}\\right)^{2} + {\\left(\\sin\\left(\\Phi_{0}\\right) \\sin\\left(\\Theta_{0}\\right)^{4} - \\sin\\left(\\Phi_{0}\\right) \\sin\\left(\\Theta_{0}\\right)^{2} + 2 \\, \\sin\\left(\\Phi_{0}\\right)\\right)} U_{c}^{2} X_{\\mathit{1c}}^{2}\\right)} X_{\\mathit{2c}}\\right)} \\epsilon^{2} m^{2} - 24 \\, {\\left(U_{c}^{3} X_{\\mathit{1c}}^{2} \\cos\\left(\\Phi_{0}\\right) \\sin\\left(\\Theta_{0}\\right)^{4} + 2 \\, {\\left(\\cos\\left(\\Theta_{0}\\right) \\sin\\left(\\Phi_{0}\\right) \\sin\\left(\\Theta_{0}\\right)^{3} + \\cos\\left(\\Theta_{0}\\right) \\sin\\left(\\Phi_{0}\\right) \\sin\\left(\\Theta_{0}\\right)\\right)} U_{c}^{3} X_{\\mathit{1c}} X_{\\mathit{2c}} + 2 \\, {\\left(\\cos\\left(\\Phi_{0}\\right) \\sin\\left(\\Theta_{0}\\right)^{4} - \\cos\\left(\\Phi_{0}\\right) \\sin\\left(\\Theta_{0}\\right)^{2}\\right)} U_{c}^{3} X_{\\mathit{2c}}^{2}\\right)} \\epsilon m}{12 \\, {\\left(U_{c}^{3} X_{\\mathit{2c}}^{2} \\epsilon^{2} m^{2} \\sin\\left(\\Theta_{0}\\right)^{3} + 4 \\, U_{c}^{5} \\sin\\left(\\Theta_{0}\\right)^{3}\\right)}}, \\frac{{\\left(U_{c} V_{c} X_{\\mathit{2c}}^{2} \\cos\\left(\\Phi_{0}\\right) \\cos\\left(\\Theta_{0}\\right) \\sin\\left(\\Theta_{0}\\right) - 2 \\, X_{\\mathit{2c}}^{4} \\cos\\left(\\Phi_{0}\\right) \\cos\\left(\\Theta_{0}\\right) \\sin\\left(\\Theta_{0}\\right) + {\\left(\\sin\\left(\\Phi_{0}\\right) \\sin\\left(\\Theta_{0}\\right)^{2} + \\sin\\left(\\Phi_{0}\\right)\\right)} X_{\\mathit{1c}} X_{\\mathit{2c}}^{3}\\right)} \\epsilon^{4} m^{4} - 8 \\, U_{c}^{3} X_{\\mathit{2c}} \\epsilon m \\cos\\left(\\Theta_{0}\\right) \\sin\\left(\\Phi_{0}\\right) \\sin\\left(\\Theta_{0}\\right) - {\\left(2 \\, U_{c} X_{\\mathit{2c}}^{3} \\cos\\left(\\Theta_{0}\\right) \\sin\\left(\\Phi_{0}\\right) \\sin\\left(\\Theta_{0}\\right) + U_{c} X_{\\mathit{1c}} X_{\\mathit{2c}}^{2} \\cos\\left(\\Phi_{0}\\right) \\sin\\left(\\Theta_{0}\\right)^{2}\\right)} \\epsilon^{3} m^{3} + 8 \\, U_{c}^{4} \\cos\\left(\\Phi_{0}\\right) \\cos\\left(\\Theta_{0}\\right) \\sin\\left(\\Theta_{0}\\right) + 2 \\, {\\left(2 \\, U_{c}^{3} V_{c} \\cos\\left(\\Phi_{0}\\right) \\cos\\left(\\Theta_{0}\\right) \\sin\\left(\\Theta_{0}\\right) - 3 \\, U_{c}^{2} X_{\\mathit{2c}}^{2} \\cos\\left(\\Phi_{0}\\right) \\cos\\left(\\Theta_{0}\\right) \\sin\\left(\\Theta_{0}\\right) + 2 \\, {\\left(\\sin\\left(\\Phi_{0}\\right) \\sin\\left(\\Theta_{0}\\right)^{2} + \\sin\\left(\\Phi_{0}\\right)\\right)} U_{c}^{2} X_{\\mathit{1c}} X_{\\mathit{2c}}\\right)} \\epsilon^{2} m^{2}}{2 \\, {\\left(U_{c}^{2} X_{\\mathit{2c}}^{2} \\epsilon^{2} m^{2} \\sin\\left(\\Theta_{0}\\right) + 4 \\, U_{c}^{4} \\sin\\left(\\Theta_{0}\\right)\\right)}}, \\frac{{\\left({\\left(\\cos\\left(\\Phi_{0}\\right) \\cos\\left(\\Theta_{0}\\right) \\sin\\left(\\Theta_{0}\\right)^{3} + 2 \\, \\cos\\left(\\Phi_{0}\\right) \\cos\\left(\\Theta_{0}\\right) \\sin\\left(\\Theta_{0}\\right)\\right)} X_{\\mathit{1c}} X_{\\mathit{2c}}^{3} - {\\left(\\sin\\left(\\Phi_{0}\\right) \\sin\\left(\\Theta_{0}\\right)^{4} - 3 \\, \\sin\\left(\\Phi_{0}\\right) \\sin\\left(\\Theta_{0}\\right)^{2}\\right)} X_{\\mathit{2c}}^{4} - {\\left(U_{c} V_{c} \\sin\\left(\\Phi_{0}\\right) \\sin\\left(\\Theta_{0}\\right)^{2} - {\\left(\\sin\\left(\\Phi_{0}\\right) \\sin\\left(\\Theta_{0}\\right)^{2} - 2 \\, \\sin\\left(\\Phi_{0}\\right)\\right)} X_{\\mathit{1c}}^{2}\\right)} X_{\\mathit{2c}}^{2}\\right)} \\epsilon^{4} m^{4} + {\\left(2 \\, U_{c} X_{\\mathit{1c}} X_{\\mathit{2c}}^{2} \\cos\\left(\\Theta_{0}\\right) \\sin\\left(\\Phi_{0}\\right) \\sin\\left(\\Theta_{0}\\right) + {\\left(\\cos\\left(\\Phi_{0}\\right) \\sin\\left(\\Theta_{0}\\right)^{4} - 2 \\, \\cos\\left(\\Phi_{0}\\right) \\sin\\left(\\Theta_{0}\\right)^{2}\\right)} U_{c} X_{\\mathit{2c}}^{3}\\right)} \\epsilon^{3} m^{3} - 8 \\, U_{c}^{4} \\sin\\left(\\Phi_{0}\\right) \\sin\\left(\\Theta_{0}\\right)^{2} - 2 \\, {\\left(2 \\, U_{c}^{3} V_{c} \\sin\\left(\\Phi_{0}\\right) \\sin\\left(\\Theta_{0}\\right)^{2} - 2 \\, {\\left(\\sin\\left(\\Phi_{0}\\right) \\sin\\left(\\Theta_{0}\\right)^{2} - 2 \\, \\sin\\left(\\Phi_{0}\\right)\\right)} U_{c}^{2} X_{\\mathit{1c}}^{2} - 2 \\, {\\left(\\cos\\left(\\Phi_{0}\\right) \\cos\\left(\\Theta_{0}\\right) \\sin\\left(\\Theta_{0}\\right)^{3} + 2 \\, \\cos\\left(\\Phi_{0}\\right) \\cos\\left(\\Theta_{0}\\right) \\sin\\left(\\Theta_{0}\\right)\\right)} U_{c}^{2} X_{\\mathit{1c}} X_{\\mathit{2c}} + {\\left(2 \\, \\sin\\left(\\Phi_{0}\\right) \\sin\\left(\\Theta_{0}\\right)^{4} - 5 \\, \\sin\\left(\\Phi_{0}\\right) \\sin\\left(\\Theta_{0}\\right)^{2}\\right)} U_{c}^{2} X_{\\mathit{2c}}^{2}\\right)} \\epsilon^{2} m^{2} + 8 \\, {\\left(U_{c}^{3} X_{\\mathit{1c}} \\cos\\left(\\Theta_{0}\\right) \\sin\\left(\\Phi_{0}\\right) \\sin\\left(\\Theta_{0}\\right) + {\\left(\\cos\\left(\\Phi_{0}\\right) \\sin\\left(\\Theta_{0}\\right)^{4} - \\cos\\left(\\Phi_{0}\\right) \\sin\\left(\\Theta_{0}\\right)^{2}\\right)} U_{c}^{3} X_{\\mathit{2c}}\\right)} \\epsilon m}{2 \\, {\\left(U_{c}^{2} X_{\\mathit{2c}}^{2} \\epsilon^{2} m^{2} \\sin\\left(\\Theta_{0}\\right)^{3} + 4 \\, U_{c}^{4} \\sin\\left(\\Theta_{0}\\right)^{3}\\right)}}\\right]\\)</html>"
      ],
      "text/latex": [
       "$\\displaystyle \\left[-\\frac{{\\left(\\cos\\left(\\Phi_{0}\\right) \\cos\\left(\\Theta_{0}\\right)^{2} - \\cos\\left(\\Phi_{0}\\right)\\right)} U_{c} X_{\\mathit{2c}}^{2} \\epsilon^{3} m^{3} - {\\left(X_{\\mathit{2c}}^{3} \\cos\\left(\\Theta_{0}\\right)^{2} \\sin\\left(\\Phi_{0}\\right) + X_{\\mathit{1c}} X_{\\mathit{2c}}^{2} \\cos\\left(\\Phi_{0}\\right) \\cos\\left(\\Theta_{0}\\right) \\sin\\left(\\Theta_{0}\\right)\\right)} \\epsilon^{4} m^{4} + 8 \\, {\\left(\\cos\\left(\\Phi_{0}\\right) \\cos\\left(\\Theta_{0}\\right)^{2} - \\cos\\left(\\Phi_{0}\\right)\\right)} U_{c}^{3} \\epsilon m - 4 \\, {\\left(U_{c}^{2} X_{\\mathit{2c}} \\cos\\left(\\Theta_{0}\\right)^{2} \\sin\\left(\\Phi_{0}\\right) + U_{c}^{2} X_{\\mathit{1c}} \\cos\\left(\\Phi_{0}\\right) \\cos\\left(\\Theta_{0}\\right) \\sin\\left(\\Theta_{0}\\right)\\right)} \\epsilon^{2} m^{2}}{2 \\, {\\left(U_{c} X_{\\mathit{2c}}^{2} \\epsilon^{2} m^{2} \\sin\\left(\\Theta_{0}\\right) + 4 \\, U_{c}^{3} \\sin\\left(\\Theta_{0}\\right)\\right)}}, -\\frac{48 \\, U_{c}^{4} X_{\\mathit{1c}} \\cos\\left(\\Phi_{0}\\right) \\cos\\left(\\Theta_{0}\\right) \\sin\\left(\\Theta_{0}\\right)^{3} - {\\left(2 \\, X_{\\mathit{1c}}^{3} X_{\\mathit{2c}}^{2} \\cos\\left(\\Phi_{0}\\right) \\cos\\left(\\Theta_{0}\\right) \\sin\\left(\\Theta_{0}\\right)^{3} + 3 \\, {\\left(3 \\, \\cos\\left(\\Phi_{0}\\right) \\cos\\left(\\Theta_{0}\\right) \\sin\\left(\\Theta_{0}\\right)^{3} + 4 \\, \\cos\\left(\\Phi_{0}\\right) \\cos\\left(\\Theta_{0}\\right) \\sin\\left(\\Theta_{0}\\right)\\right)} X_{\\mathit{1c}} X_{\\mathit{2c}}^{4} - 5 \\, {\\left(\\sin\\left(\\Phi_{0}\\right) \\sin\\left(\\Theta_{0}\\right)^{4} - 3 \\, \\sin\\left(\\Phi_{0}\\right) \\sin\\left(\\Theta_{0}\\right)^{2}\\right)} X_{\\mathit{2c}}^{5} - 6 \\, {\\left(U_{c} V_{c} \\sin\\left(\\Phi_{0}\\right) \\sin\\left(\\Theta_{0}\\right)^{2} + {\\left(\\sin\\left(\\Phi_{0}\\right) \\sin\\left(\\Theta_{0}\\right)^{4} - \\sin\\left(\\Phi_{0}\\right) \\sin\\left(\\Theta_{0}\\right)^{2} + 2 \\, \\sin\\left(\\Phi_{0}\\right)\\right)} X_{\\mathit{1c}}^{2}\\right)} X_{\\mathit{2c}}^{3}\\right)} \\epsilon^{4} m^{4} - 3 \\, {\\left(2 \\, U_{c} X_{\\mathit{1c}}^{2} X_{\\mathit{2c}}^{2} \\cos\\left(\\Phi_{0}\\right) \\sin\\left(\\Theta_{0}\\right)^{4} + 4 \\, {\\left(\\cos\\left(\\Theta_{0}\\right) \\sin\\left(\\Phi_{0}\\right) \\sin\\left(\\Theta_{0}\\right)^{3} + \\cos\\left(\\Theta_{0}\\right) \\sin\\left(\\Phi_{0}\\right) \\sin\\left(\\Theta_{0}\\right)\\right)} U_{c} X_{\\mathit{1c}} X_{\\mathit{2c}}^{3} + {\\left(3 \\, \\cos\\left(\\Phi_{0}\\right) \\sin\\left(\\Theta_{0}\\right)^{4} - 4 \\, \\cos\\left(\\Phi_{0}\\right) \\sin\\left(\\Theta_{0}\\right)^{2}\\right)} U_{c} X_{\\mathit{2c}}^{4}\\right)} \\epsilon^{3} m^{3} - 48 \\, {\\left(\\sin\\left(\\Phi_{0}\\right) \\sin\\left(\\Theta_{0}\\right)^{4} - \\sin\\left(\\Phi_{0}\\right) \\sin\\left(\\Theta_{0}\\right)^{2}\\right)} U_{c}^{4} X_{\\mathit{2c}} - 8 \\, {\\left(U_{c}^{2} X_{\\mathit{1c}}^{3} \\cos\\left(\\Phi_{0}\\right) \\cos\\left(\\Theta_{0}\\right) \\sin\\left(\\Theta_{0}\\right)^{3} + 3 \\, {\\left(\\cos\\left(\\Phi_{0}\\right) \\cos\\left(\\Theta_{0}\\right) \\sin\\left(\\Theta_{0}\\right)^{3} + 2 \\, \\cos\\left(\\Phi_{0}\\right) \\cos\\left(\\Theta_{0}\\right) \\sin\\left(\\Theta_{0}\\right)\\right)} U_{c}^{2} X_{\\mathit{1c}} X_{\\mathit{2c}}^{2} - {\\left(\\sin\\left(\\Phi_{0}\\right) \\sin\\left(\\Theta_{0}\\right)^{4} - 6 \\, \\sin\\left(\\Phi_{0}\\right) \\sin\\left(\\Theta_{0}\\right)^{2}\\right)} U_{c}^{2} X_{\\mathit{2c}}^{3} - 3 \\, {\\left(U_{c}^{3} V_{c} \\sin\\left(\\Phi_{0}\\right) \\sin\\left(\\Theta_{0}\\right)^{2} + {\\left(\\sin\\left(\\Phi_{0}\\right) \\sin\\left(\\Theta_{0}\\right)^{4} - \\sin\\left(\\Phi_{0}\\right) \\sin\\left(\\Theta_{0}\\right)^{2} + 2 \\, \\sin\\left(\\Phi_{0}\\right)\\right)} U_{c}^{2} X_{\\mathit{1c}}^{2}\\right)} X_{\\mathit{2c}}\\right)} \\epsilon^{2} m^{2} - 24 \\, {\\left(U_{c}^{3} X_{\\mathit{1c}}^{2} \\cos\\left(\\Phi_{0}\\right) \\sin\\left(\\Theta_{0}\\right)^{4} + 2 \\, {\\left(\\cos\\left(\\Theta_{0}\\right) \\sin\\left(\\Phi_{0}\\right) \\sin\\left(\\Theta_{0}\\right)^{3} + \\cos\\left(\\Theta_{0}\\right) \\sin\\left(\\Phi_{0}\\right) \\sin\\left(\\Theta_{0}\\right)\\right)} U_{c}^{3} X_{\\mathit{1c}} X_{\\mathit{2c}} + 2 \\, {\\left(\\cos\\left(\\Phi_{0}\\right) \\sin\\left(\\Theta_{0}\\right)^{4} - \\cos\\left(\\Phi_{0}\\right) \\sin\\left(\\Theta_{0}\\right)^{2}\\right)} U_{c}^{3} X_{\\mathit{2c}}^{2}\\right)} \\epsilon m}{12 \\, {\\left(U_{c}^{3} X_{\\mathit{2c}}^{2} \\epsilon^{2} m^{2} \\sin\\left(\\Theta_{0}\\right)^{3} + 4 \\, U_{c}^{5} \\sin\\left(\\Theta_{0}\\right)^{3}\\right)}}, \\frac{{\\left(U_{c} V_{c} X_{\\mathit{2c}}^{2} \\cos\\left(\\Phi_{0}\\right) \\cos\\left(\\Theta_{0}\\right) \\sin\\left(\\Theta_{0}\\right) - 2 \\, X_{\\mathit{2c}}^{4} \\cos\\left(\\Phi_{0}\\right) \\cos\\left(\\Theta_{0}\\right) \\sin\\left(\\Theta_{0}\\right) + {\\left(\\sin\\left(\\Phi_{0}\\right) \\sin\\left(\\Theta_{0}\\right)^{2} + \\sin\\left(\\Phi_{0}\\right)\\right)} X_{\\mathit{1c}} X_{\\mathit{2c}}^{3}\\right)} \\epsilon^{4} m^{4} - 8 \\, U_{c}^{3} X_{\\mathit{2c}} \\epsilon m \\cos\\left(\\Theta_{0}\\right) \\sin\\left(\\Phi_{0}\\right) \\sin\\left(\\Theta_{0}\\right) - {\\left(2 \\, U_{c} X_{\\mathit{2c}}^{3} \\cos\\left(\\Theta_{0}\\right) \\sin\\left(\\Phi_{0}\\right) \\sin\\left(\\Theta_{0}\\right) + U_{c} X_{\\mathit{1c}} X_{\\mathit{2c}}^{2} \\cos\\left(\\Phi_{0}\\right) \\sin\\left(\\Theta_{0}\\right)^{2}\\right)} \\epsilon^{3} m^{3} + 8 \\, U_{c}^{4} \\cos\\left(\\Phi_{0}\\right) \\cos\\left(\\Theta_{0}\\right) \\sin\\left(\\Theta_{0}\\right) + 2 \\, {\\left(2 \\, U_{c}^{3} V_{c} \\cos\\left(\\Phi_{0}\\right) \\cos\\left(\\Theta_{0}\\right) \\sin\\left(\\Theta_{0}\\right) - 3 \\, U_{c}^{2} X_{\\mathit{2c}}^{2} \\cos\\left(\\Phi_{0}\\right) \\cos\\left(\\Theta_{0}\\right) \\sin\\left(\\Theta_{0}\\right) + 2 \\, {\\left(\\sin\\left(\\Phi_{0}\\right) \\sin\\left(\\Theta_{0}\\right)^{2} + \\sin\\left(\\Phi_{0}\\right)\\right)} U_{c}^{2} X_{\\mathit{1c}} X_{\\mathit{2c}}\\right)} \\epsilon^{2} m^{2}}{2 \\, {\\left(U_{c}^{2} X_{\\mathit{2c}}^{2} \\epsilon^{2} m^{2} \\sin\\left(\\Theta_{0}\\right) + 4 \\, U_{c}^{4} \\sin\\left(\\Theta_{0}\\right)\\right)}}, \\frac{{\\left({\\left(\\cos\\left(\\Phi_{0}\\right) \\cos\\left(\\Theta_{0}\\right) \\sin\\left(\\Theta_{0}\\right)^{3} + 2 \\, \\cos\\left(\\Phi_{0}\\right) \\cos\\left(\\Theta_{0}\\right) \\sin\\left(\\Theta_{0}\\right)\\right)} X_{\\mathit{1c}} X_{\\mathit{2c}}^{3} - {\\left(\\sin\\left(\\Phi_{0}\\right) \\sin\\left(\\Theta_{0}\\right)^{4} - 3 \\, \\sin\\left(\\Phi_{0}\\right) \\sin\\left(\\Theta_{0}\\right)^{2}\\right)} X_{\\mathit{2c}}^{4} - {\\left(U_{c} V_{c} \\sin\\left(\\Phi_{0}\\right) \\sin\\left(\\Theta_{0}\\right)^{2} - {\\left(\\sin\\left(\\Phi_{0}\\right) \\sin\\left(\\Theta_{0}\\right)^{2} - 2 \\, \\sin\\left(\\Phi_{0}\\right)\\right)} X_{\\mathit{1c}}^{2}\\right)} X_{\\mathit{2c}}^{2}\\right)} \\epsilon^{4} m^{4} + {\\left(2 \\, U_{c} X_{\\mathit{1c}} X_{\\mathit{2c}}^{2} \\cos\\left(\\Theta_{0}\\right) \\sin\\left(\\Phi_{0}\\right) \\sin\\left(\\Theta_{0}\\right) + {\\left(\\cos\\left(\\Phi_{0}\\right) \\sin\\left(\\Theta_{0}\\right)^{4} - 2 \\, \\cos\\left(\\Phi_{0}\\right) \\sin\\left(\\Theta_{0}\\right)^{2}\\right)} U_{c} X_{\\mathit{2c}}^{3}\\right)} \\epsilon^{3} m^{3} - 8 \\, U_{c}^{4} \\sin\\left(\\Phi_{0}\\right) \\sin\\left(\\Theta_{0}\\right)^{2} - 2 \\, {\\left(2 \\, U_{c}^{3} V_{c} \\sin\\left(\\Phi_{0}\\right) \\sin\\left(\\Theta_{0}\\right)^{2} - 2 \\, {\\left(\\sin\\left(\\Phi_{0}\\right) \\sin\\left(\\Theta_{0}\\right)^{2} - 2 \\, \\sin\\left(\\Phi_{0}\\right)\\right)} U_{c}^{2} X_{\\mathit{1c}}^{2} - 2 \\, {\\left(\\cos\\left(\\Phi_{0}\\right) \\cos\\left(\\Theta_{0}\\right) \\sin\\left(\\Theta_{0}\\right)^{3} + 2 \\, \\cos\\left(\\Phi_{0}\\right) \\cos\\left(\\Theta_{0}\\right) \\sin\\left(\\Theta_{0}\\right)\\right)} U_{c}^{2} X_{\\mathit{1c}} X_{\\mathit{2c}} + {\\left(2 \\, \\sin\\left(\\Phi_{0}\\right) \\sin\\left(\\Theta_{0}\\right)^{4} - 5 \\, \\sin\\left(\\Phi_{0}\\right) \\sin\\left(\\Theta_{0}\\right)^{2}\\right)} U_{c}^{2} X_{\\mathit{2c}}^{2}\\right)} \\epsilon^{2} m^{2} + 8 \\, {\\left(U_{c}^{3} X_{\\mathit{1c}} \\cos\\left(\\Theta_{0}\\right) \\sin\\left(\\Phi_{0}\\right) \\sin\\left(\\Theta_{0}\\right) + {\\left(\\cos\\left(\\Phi_{0}\\right) \\sin\\left(\\Theta_{0}\\right)^{4} - \\cos\\left(\\Phi_{0}\\right) \\sin\\left(\\Theta_{0}\\right)^{2}\\right)} U_{c}^{3} X_{\\mathit{2c}}\\right)} \\epsilon m}{2 \\, {\\left(U_{c}^{2} X_{\\mathit{2c}}^{2} \\epsilon^{2} m^{2} \\sin\\left(\\Theta_{0}\\right)^{3} + 4 \\, U_{c}^{4} \\sin\\left(\\Theta_{0}\\right)^{3}\\right)}}\\right]$"
      ],
      "text/plain": [
       "[-1/2*((cos(Phi_0)*cos(Theta_0)^2 - cos(Phi_0))*U_c*X_2c^2*epsilon^3*m^3 - (X_2c^3*cos(Theta_0)^2*sin(Phi_0) + X_1c*X_2c^2*cos(Phi_0)*cos(Theta_0)*sin(Theta_0))*epsilon^4*m^4 + 8*(cos(Phi_0)*cos(Theta_0)^2 - cos(Phi_0))*U_c^3*epsilon*m - 4*(U_c^2*X_2c*cos(Theta_0)^2*sin(Phi_0) + U_c^2*X_1c*cos(Phi_0)*cos(Theta_0)*sin(Theta_0))*epsilon^2*m^2)/(U_c*X_2c^2*epsilon^2*m^2*sin(Theta_0) + 4*U_c^3*sin(Theta_0)),\n",
       " -1/12*(48*U_c^4*X_1c*cos(Phi_0)*cos(Theta_0)*sin(Theta_0)^3 - (2*X_1c^3*X_2c^2*cos(Phi_0)*cos(Theta_0)*sin(Theta_0)^3 + 3*(3*cos(Phi_0)*cos(Theta_0)*sin(Theta_0)^3 + 4*cos(Phi_0)*cos(Theta_0)*sin(Theta_0))*X_1c*X_2c^4 - 5*(sin(Phi_0)*sin(Theta_0)^4 - 3*sin(Phi_0)*sin(Theta_0)^2)*X_2c^5 - 6*(U_c*V_c*sin(Phi_0)*sin(Theta_0)^2 + (sin(Phi_0)*sin(Theta_0)^4 - sin(Phi_0)*sin(Theta_0)^2 + 2*sin(Phi_0))*X_1c^2)*X_2c^3)*epsilon^4*m^4 - 3*(2*U_c*X_1c^2*X_2c^2*cos(Phi_0)*sin(Theta_0)^4 + 4*(cos(Theta_0)*sin(Phi_0)*sin(Theta_0)^3 + cos(Theta_0)*sin(Phi_0)*sin(Theta_0))*U_c*X_1c*X_2c^3 + (3*cos(Phi_0)*sin(Theta_0)^4 - 4*cos(Phi_0)*sin(Theta_0)^2)*U_c*X_2c^4)*epsilon^3*m^3 - 48*(sin(Phi_0)*sin(Theta_0)^4 - sin(Phi_0)*sin(Theta_0)^2)*U_c^4*X_2c - 8*(U_c^2*X_1c^3*cos(Phi_0)*cos(Theta_0)*sin(Theta_0)^3 + 3*(cos(Phi_0)*cos(Theta_0)*sin(Theta_0)^3 + 2*cos(Phi_0)*cos(Theta_0)*sin(Theta_0))*U_c^2*X_1c*X_2c^2 - (sin(Phi_0)*sin(Theta_0)^4 - 6*sin(Phi_0)*sin(Theta_0)^2)*U_c^2*X_2c^3 - 3*(U_c^3*V_c*sin(Phi_0)*sin(Theta_0)^2 + (sin(Phi_0)*sin(Theta_0)^4 - sin(Phi_0)*sin(Theta_0)^2 + 2*sin(Phi_0))*U_c^2*X_1c^2)*X_2c)*epsilon^2*m^2 - 24*(U_c^3*X_1c^2*cos(Phi_0)*sin(Theta_0)^4 + 2*(cos(Theta_0)*sin(Phi_0)*sin(Theta_0)^3 + cos(Theta_0)*sin(Phi_0)*sin(Theta_0))*U_c^3*X_1c*X_2c + 2*(cos(Phi_0)*sin(Theta_0)^4 - cos(Phi_0)*sin(Theta_0)^2)*U_c^3*X_2c^2)*epsilon*m)/(U_c^3*X_2c^2*epsilon^2*m^2*sin(Theta_0)^3 + 4*U_c^5*sin(Theta_0)^3),\n",
       " 1/2*((U_c*V_c*X_2c^2*cos(Phi_0)*cos(Theta_0)*sin(Theta_0) - 2*X_2c^4*cos(Phi_0)*cos(Theta_0)*sin(Theta_0) + (sin(Phi_0)*sin(Theta_0)^2 + sin(Phi_0))*X_1c*X_2c^3)*epsilon^4*m^4 - 8*U_c^3*X_2c*epsilon*m*cos(Theta_0)*sin(Phi_0)*sin(Theta_0) - (2*U_c*X_2c^3*cos(Theta_0)*sin(Phi_0)*sin(Theta_0) + U_c*X_1c*X_2c^2*cos(Phi_0)*sin(Theta_0)^2)*epsilon^3*m^3 + 8*U_c^4*cos(Phi_0)*cos(Theta_0)*sin(Theta_0) + 2*(2*U_c^3*V_c*cos(Phi_0)*cos(Theta_0)*sin(Theta_0) - 3*U_c^2*X_2c^2*cos(Phi_0)*cos(Theta_0)*sin(Theta_0) + 2*(sin(Phi_0)*sin(Theta_0)^2 + sin(Phi_0))*U_c^2*X_1c*X_2c)*epsilon^2*m^2)/(U_c^2*X_2c^2*epsilon^2*m^2*sin(Theta_0) + 4*U_c^4*sin(Theta_0)),\n",
       " 1/2*(((cos(Phi_0)*cos(Theta_0)*sin(Theta_0)^3 + 2*cos(Phi_0)*cos(Theta_0)*sin(Theta_0))*X_1c*X_2c^3 - (sin(Phi_0)*sin(Theta_0)^4 - 3*sin(Phi_0)*sin(Theta_0)^2)*X_2c^4 - (U_c*V_c*sin(Phi_0)*sin(Theta_0)^2 - (sin(Phi_0)*sin(Theta_0)^2 - 2*sin(Phi_0))*X_1c^2)*X_2c^2)*epsilon^4*m^4 + (2*U_c*X_1c*X_2c^2*cos(Theta_0)*sin(Phi_0)*sin(Theta_0) + (cos(Phi_0)*sin(Theta_0)^4 - 2*cos(Phi_0)*sin(Theta_0)^2)*U_c*X_2c^3)*epsilon^3*m^3 - 8*U_c^4*sin(Phi_0)*sin(Theta_0)^2 - 2*(2*U_c^3*V_c*sin(Phi_0)*sin(Theta_0)^2 - 2*(sin(Phi_0)*sin(Theta_0)^2 - 2*sin(Phi_0))*U_c^2*X_1c^2 - 2*(cos(Phi_0)*cos(Theta_0)*sin(Theta_0)^3 + 2*cos(Phi_0)*cos(Theta_0)*sin(Theta_0))*U_c^2*X_1c*X_2c + (2*sin(Phi_0)*sin(Theta_0)^4 - 5*sin(Phi_0)*sin(Theta_0)^2)*U_c^2*X_2c^2)*epsilon^2*m^2 + 8*(U_c^3*X_1c*cos(Theta_0)*sin(Phi_0)*sin(Theta_0) + (cos(Phi_0)*sin(Theta_0)^4 - cos(Phi_0)*sin(Theta_0)^2)*U_c^3*X_2c)*epsilon*m)/(U_c^2*X_2c^2*epsilon^2*m^2*sin(Theta_0)^3 + 4*U_c^4*sin(Theta_0)^3)]"
      ]
     },
     "execution_count": 456,
     "metadata": {},
     "output_type": "execute_result"
    }
   ],
   "source": [
    "T01_eps = T01*eps\n",
    "T01_eps[:]"
   ]
  },
  {
   "cell_type": "code",
   "execution_count": 459,
   "id": "7592286d",
   "metadata": {},
   "outputs": [
    {
     "data": {
      "text/html": [
       "<html>\\(\\displaystyle \\left[0, -\\frac{U_{c}^{4} X_{\\mathit{1c}} \\cos\\left(\\Phi_{0}\\right) \\cos\\left(\\Theta_{0}\\right) \\sin\\left(\\Theta_{0}\\right)^{3} - {\\left(\\sin\\left(\\Phi_{0}\\right) \\sin\\left(\\Theta_{0}\\right)^{4} - \\sin\\left(\\Phi_{0}\\right) \\sin\\left(\\Theta_{0}\\right)^{2}\\right)} U_{c}^{4} X_{\\mathit{2c}}}{U_{c}^{5} \\sin\\left(\\Theta_{0}\\right)^{3}}, \\cos\\left(\\Phi_{0}\\right) \\cos\\left(\\Theta_{0}\\right), -\\frac{\\sin\\left(\\Phi_{0}\\right)}{\\sin\\left(\\Theta_{0}\\right)}\\right]\\)</html>"
      ],
      "text/latex": [
       "$\\displaystyle \\left[0, -\\frac{U_{c}^{4} X_{\\mathit{1c}} \\cos\\left(\\Phi_{0}\\right) \\cos\\left(\\Theta_{0}\\right) \\sin\\left(\\Theta_{0}\\right)^{3} - {\\left(\\sin\\left(\\Phi_{0}\\right) \\sin\\left(\\Theta_{0}\\right)^{4} - \\sin\\left(\\Phi_{0}\\right) \\sin\\left(\\Theta_{0}\\right)^{2}\\right)} U_{c}^{4} X_{\\mathit{2c}}}{U_{c}^{5} \\sin\\left(\\Theta_{0}\\right)^{3}}, \\cos\\left(\\Phi_{0}\\right) \\cos\\left(\\Theta_{0}\\right), -\\frac{\\sin\\left(\\Phi_{0}\\right)}{\\sin\\left(\\Theta_{0}\\right)}\\right]$"
      ],
      "text/plain": [
       "[0,\n",
       " -(U_c^4*X_1c*cos(Phi_0)*cos(Theta_0)*sin(Theta_0)^3 - (sin(Phi_0)*sin(Theta_0)^4 - sin(Phi_0)*sin(Theta_0)^2)*U_c^4*X_2c)/(U_c^5*sin(Theta_0)^3),\n",
       " cos(Phi_0)*cos(Theta_0),\n",
       " -sin(Phi_0)/sin(Theta_0)]"
      ]
     },
     "execution_count": 459,
     "metadata": {},
     "output_type": "execute_result"
    }
   ],
   "source": [
    "T01_CL = T01_eps.copy()\n",
    "T01_CL.apply_map(lambda tmp: tmp.subs({eps:0}))\n",
    "T01_CL[:]"
   ]
  },
  {
   "cell_type": "code",
   "execution_count": 460,
   "id": "1284aef9",
   "metadata": {},
   "outputs": [
    {
     "data": {
      "text/html": [
       "<html>\\(\\displaystyle \\left[0, -\\frac{X_{\\mathit{1c}} \\cos\\left(\\Phi_{0}\\right) \\cos\\left(\\Theta_{0}\\right) \\sin\\left(\\Theta_{0}\\right) - X_{\\mathit{2c}} \\sin\\left(\\Phi_{0}\\right) \\sin\\left(\\Theta_{0}\\right)^{2} + X_{\\mathit{2c}} \\sin\\left(\\Phi_{0}\\right)}{U_{c} \\sin\\left(\\Theta_{0}\\right)}, \\cos\\left(\\Phi_{0}\\right) \\cos\\left(\\Theta_{0}\\right), -\\frac{\\sin\\left(\\Phi_{0}\\right)}{\\sin\\left(\\Theta_{0}\\right)}\\right]\\)</html>"
      ],
      "text/latex": [
       "$\\displaystyle \\left[0, -\\frac{X_{\\mathit{1c}} \\cos\\left(\\Phi_{0}\\right) \\cos\\left(\\Theta_{0}\\right) \\sin\\left(\\Theta_{0}\\right) - X_{\\mathit{2c}} \\sin\\left(\\Phi_{0}\\right) \\sin\\left(\\Theta_{0}\\right)^{2} + X_{\\mathit{2c}} \\sin\\left(\\Phi_{0}\\right)}{U_{c} \\sin\\left(\\Theta_{0}\\right)}, \\cos\\left(\\Phi_{0}\\right) \\cos\\left(\\Theta_{0}\\right), -\\frac{\\sin\\left(\\Phi_{0}\\right)}{\\sin\\left(\\Theta_{0}\\right)}\\right]$"
      ],
      "text/plain": [
       "[0,\n",
       " -(X_1c*cos(Phi_0)*cos(Theta_0)*sin(Theta_0) - X_2c*sin(Phi_0)*sin(Theta_0)^2 + X_2c*sin(Phi_0))/(U_c*sin(Theta_0)),\n",
       " cos(Phi_0)*cos(Theta_0),\n",
       " -sin(Phi_0)/sin(Theta_0)]"
      ]
     },
     "execution_count": 460,
     "metadata": {},
     "output_type": "execute_result"
    }
   ],
   "source": [
    "T01_CL[:] = [T01_CL[0].expr(), T01_CL[1].expr().factor(), T01_CL[2].expr(), T01_CL[3].expr()]\n",
    "T01_CL[:]"
   ]
  },
  {
   "cell_type": "code",
   "execution_count": null,
   "id": "b28d0b16",
   "metadata": {},
   "outputs": [],
   "source": [
    "T02 = T"
   ]
  },
  {
   "cell_type": "code",
   "execution_count": 128,
   "id": "810a62ad",
   "metadata": {},
   "outputs": [
    {
     "data": {
      "text/html": [
       "<html>\\(\\displaystyle \\left[0, 0, 0, 1\\right]\\)</html>"
      ],
      "text/latex": [
       "$\\displaystyle \\left[0, 0, 0, 1\\right]$"
      ],
      "text/plain": [
       "[0, 0, 0, 1]"
      ]
     },
     "execution_count": 128,
     "metadata": {},
     "output_type": "execute_result"
    }
   ],
   "source": [
    "J3 = M.vector_field(name='J_3')\n",
    "J3[:] = [0, 0, 0, 1]\n",
    "J3[:]"
   ]
  },
  {
   "cell_type": "code",
   "execution_count": 129,
   "id": "ee4e67be",
   "metadata": {},
   "outputs": [
    {
     "data": {
      "text/html": [
       "<html>\\(\\displaystyle \\left(\\frac{4 \\, {\\left({\\left(\\Phi_{0} m - m {\\phi}\\right)} r + {\\left(\\Phi_{0} m - m {\\phi}\\right)} t\\right)}}{\\Phi_{0}^{4} - 4 \\, \\Phi_{0} {\\phi}^{3} + {\\phi}^{4} + 2 \\, {\\left(3 \\, \\Phi_{0}^{2} + 4\\right)} {\\phi}^{2} + 8 \\, \\Phi_{0}^{2} - 4 \\, {\\left(\\Phi_{0}^{3} + 4 \\, \\Phi_{0}\\right)} {\\phi} + 16}, \\frac{8 \\, {\\left({\\left(\\Phi_{0} - {\\phi}\\right)} r + {\\left(\\Phi_{0} - {\\phi}\\right)} t\\right)}}{4 \\, \\Phi_{0} \\epsilon^{2} m {\\phi}^{3} - \\epsilon^{2} m {\\phi}^{4} - 2 \\, {\\left(3 \\, \\Phi_{0}^{2} + 4\\right)} \\epsilon^{2} m {\\phi}^{2} + 4 \\, {\\left(\\Phi_{0}^{3} + 4 \\, \\Phi_{0}\\right)} \\epsilon^{2} m {\\phi} - {\\left(\\Phi_{0}^{4} + 8 \\, \\Phi_{0}^{2} + 16\\right)} \\epsilon^{2} m}, \\frac{2 \\, {\\left({\\left(\\Phi_{0}^{2} - 2 \\, \\Phi_{0} {\\phi} + {\\phi}^{2} - 4\\right)} r + {\\left(\\Phi_{0}^{2} - 2 \\, \\Phi_{0} {\\phi} + {\\phi}^{2} - 4\\right)} t\\right)}}{4 \\, \\Phi_{0} \\epsilon {\\phi}^{3} - \\epsilon {\\phi}^{4} - 2 \\, {\\left(3 \\, \\Phi_{0}^{2} + 4\\right)} \\epsilon {\\phi}^{2} + 4 \\, {\\left(\\Phi_{0}^{3} + 4 \\, \\Phi_{0}\\right)} \\epsilon {\\phi} - {\\left(\\Phi_{0}^{4} + 8 \\, \\Phi_{0}^{2} + 16\\right)} \\epsilon}\\right)\\)</html>"
      ],
      "text/latex": [
       "$\\displaystyle \\left(\\frac{4 \\, {\\left({\\left(\\Phi_{0} m - m {\\phi}\\right)} r + {\\left(\\Phi_{0} m - m {\\phi}\\right)} t\\right)}}{\\Phi_{0}^{4} - 4 \\, \\Phi_{0} {\\phi}^{3} + {\\phi}^{4} + 2 \\, {\\left(3 \\, \\Phi_{0}^{2} + 4\\right)} {\\phi}^{2} + 8 \\, \\Phi_{0}^{2} - 4 \\, {\\left(\\Phi_{0}^{3} + 4 \\, \\Phi_{0}\\right)} {\\phi} + 16}, \\frac{8 \\, {\\left({\\left(\\Phi_{0} - {\\phi}\\right)} r + {\\left(\\Phi_{0} - {\\phi}\\right)} t\\right)}}{4 \\, \\Phi_{0} \\epsilon^{2} m {\\phi}^{3} - \\epsilon^{2} m {\\phi}^{4} - 2 \\, {\\left(3 \\, \\Phi_{0}^{2} + 4\\right)} \\epsilon^{2} m {\\phi}^{2} + 4 \\, {\\left(\\Phi_{0}^{3} + 4 \\, \\Phi_{0}\\right)} \\epsilon^{2} m {\\phi} - {\\left(\\Phi_{0}^{4} + 8 \\, \\Phi_{0}^{2} + 16\\right)} \\epsilon^{2} m}, \\frac{2 \\, {\\left({\\left(\\Phi_{0}^{2} - 2 \\, \\Phi_{0} {\\phi} + {\\phi}^{2} - 4\\right)} r + {\\left(\\Phi_{0}^{2} - 2 \\, \\Phi_{0} {\\phi} + {\\phi}^{2} - 4\\right)} t\\right)}}{4 \\, \\Phi_{0} \\epsilon {\\phi}^{3} - \\epsilon {\\phi}^{4} - 2 \\, {\\left(3 \\, \\Phi_{0}^{2} + 4\\right)} \\epsilon {\\phi}^{2} + 4 \\, {\\left(\\Phi_{0}^{3} + 4 \\, \\Phi_{0}\\right)} \\epsilon {\\phi} - {\\left(\\Phi_{0}^{4} + 8 \\, \\Phi_{0}^{2} + 16\\right)} \\epsilon}\\right)$"
      ],
      "text/plain": [
       "(4*((Phi_0*m - m*ph)*r + (Phi_0*m - m*ph)*t)/(Phi_0^4 - 4*Phi_0*ph^3 + ph^4 + 2*(3*Phi_0^2 + 4)*ph^2 + 8*Phi_0^2 - 4*(Phi_0^3 + 4*Phi_0)*ph + 16),\n",
       " 8*((Phi_0 - ph)*r + (Phi_0 - ph)*t)/(4*Phi_0*epsilon^2*m*ph^3 - epsilon^2*m*ph^4 - 2*(3*Phi_0^2 + 4)*epsilon^2*m*ph^2 + 4*(Phi_0^3 + 4*Phi_0)*epsilon^2*m*ph - (Phi_0^4 + 8*Phi_0^2 + 16)*epsilon^2*m),\n",
       " 2*((Phi_0^2 - 2*Phi_0*ph + ph^2 - 4)*r + (Phi_0^2 - 2*Phi_0*ph + ph^2 - 4)*t)/(4*Phi_0*epsilon*ph^3 - epsilon*ph^4 - 2*(3*Phi_0^2 + 4)*epsilon*ph^2 + 4*(Phi_0^3 + 4*Phi_0)*epsilon*ph - (Phi_0^4 + 8*Phi_0^2 + 16)*epsilon))"
      ]
     },
     "execution_count": 129,
     "metadata": {},
     "output_type": "execute_result"
    }
   ],
   "source": [
    "J3_U = jacOeps2[0, 0]*J3[0] + jacOeps2[0, 1]*J3[1] + jacOeps2[0, 2]*J3[3]\n",
    "J3_V = jacOeps2[1, 0]*J3[0] + jacOeps2[1, 1]*J3[1] + jacOeps2[1, 2]*J3[3]\n",
    "J3_X2 = jacOeps2[2, 0]*J3[0] + jacOeps2[2, 1]*J3[1] + jacOeps2[2, 2]*J3[3]\n",
    "J3_U, J3_V, J3_X2"
   ]
  },
  {
   "cell_type": "code",
   "execution_count": 130,
   "id": "d0564c20",
   "metadata": {},
   "outputs": [
    {
     "data": {
      "text/html": [
       "<html>\\(\\displaystyle -\\frac{2 \\, U_{c}^{2} X_{\\mathit{2c}} \\epsilon m}{X_{\\mathit{2c}}^{2} \\epsilon^{2} m^{2} + 4 \\, U_{c}^{2}}\\)</html>"
      ],
      "text/latex": [
       "$\\displaystyle -\\frac{2 \\, U_{c}^{2} X_{\\mathit{2c}} \\epsilon m}{X_{\\mathit{2c}}^{2} \\epsilon^{2} m^{2} + 4 \\, U_{c}^{2}}$"
      ],
      "text/plain": [
       "-2*U_c^2*X_2c*epsilon*m/(X_2c^2*epsilon^2*m^2 + 4*U_c^2)"
      ]
     },
     "execution_count": 130,
     "metadata": {},
     "output_type": "execute_result"
    }
   ],
   "source": [
    "J3_U_simp = J3_U.factor().expr().subs({ph:ph_UVX}).subs({r:r_UVX}).subs({t:t_UVX}).simplify_full().factor()\n",
    "J3_U_simp"
   ]
  },
  {
   "cell_type": "code",
   "execution_count": 131,
   "id": "3b74ae17",
   "metadata": {},
   "outputs": [
    {
     "data": {
      "text/html": [
       "<html>\\(\\displaystyle \\frac{4 \\, U_{c}^{2} X_{\\mathit{2c}}}{{\\left(X_{\\mathit{2c}}^{2} \\epsilon^{2} m^{2} + 4 \\, U_{c}^{2}\\right)} \\epsilon m}\\)</html>"
      ],
      "text/latex": [
       "$\\displaystyle \\frac{4 \\, U_{c}^{2} X_{\\mathit{2c}}}{{\\left(X_{\\mathit{2c}}^{2} \\epsilon^{2} m^{2} + 4 \\, U_{c}^{2}\\right)} \\epsilon m}$"
      ],
      "text/plain": [
       "4*U_c^2*X_2c/((X_2c^2*epsilon^2*m^2 + 4*U_c^2)*epsilon*m)"
      ]
     },
     "execution_count": 131,
     "metadata": {},
     "output_type": "execute_result"
    }
   ],
   "source": [
    "J3_V_simp = J3_V.factor().expr().subs({ph:ph_UVX}).subs({r:r_UVX}).subs({t:t_UVX}).simplify_full().factor()\n",
    "J3_V_simp"
   ]
  },
  {
   "cell_type": "code",
   "execution_count": 132,
   "id": "62fe8126",
   "metadata": {},
   "outputs": [
    {
     "data": {
      "text/html": [
       "<html>\\(\\displaystyle -\\frac{{\\left(X_{\\mathit{2c}} \\epsilon m + 2 \\, U_{c}\\right)} {\\left(X_{\\mathit{2c}} \\epsilon m - 2 \\, U_{c}\\right)} U_{c}}{{\\left(X_{\\mathit{2c}}^{2} \\epsilon^{2} m^{2} + 4 \\, U_{c}^{2}\\right)} \\epsilon m}\\)</html>"
      ],
      "text/latex": [
       "$\\displaystyle -\\frac{{\\left(X_{\\mathit{2c}} \\epsilon m + 2 \\, U_{c}\\right)} {\\left(X_{\\mathit{2c}} \\epsilon m - 2 \\, U_{c}\\right)} U_{c}}{{\\left(X_{\\mathit{2c}}^{2} \\epsilon^{2} m^{2} + 4 \\, U_{c}^{2}\\right)} \\epsilon m}$"
      ],
      "text/plain": [
       "-(X_2c*epsilon*m + 2*U_c)*(X_2c*epsilon*m - 2*U_c)*U_c/((X_2c^2*epsilon^2*m^2 + 4*U_c^2)*epsilon*m)"
      ]
     },
     "execution_count": 132,
     "metadata": {},
     "output_type": "execute_result"
    }
   ],
   "source": [
    "J3_X2_simp = J3_X2.factor().expr().subs({ph:ph_UVX}).subs({r:r_UVX}).subs({t:t_UVX}).simplify_full().factor()\n",
    "J3_X2_simp"
   ]
  },
  {
   "cell_type": "code",
   "execution_count": 133,
   "id": "9b43e1b9",
   "metadata": {},
   "outputs": [
    {
     "data": {
      "text/html": [
       "<html>\\(\\displaystyle \\left[-\\frac{2 \\, U_{c}^{2} X_{\\mathit{2c}} \\epsilon m}{X_{\\mathit{2c}}^{2} \\epsilon^{2} m^{2} + 4 \\, U_{c}^{2}}, \\frac{4 \\, U_{c}^{2} X_{\\mathit{2c}}}{{\\left(X_{\\mathit{2c}}^{2} \\epsilon^{2} m^{2} + 4 \\, U_{c}^{2}\\right)} \\epsilon m}, 0, -\\frac{{\\left(X_{\\mathit{2c}} \\epsilon m + 2 \\, U_{c}\\right)} {\\left(X_{\\mathit{2c}} \\epsilon m - 2 \\, U_{c}\\right)} U_{c}}{{\\left(X_{\\mathit{2c}}^{2} \\epsilon^{2} m^{2} + 4 \\, U_{c}^{2}\\right)} \\epsilon m}\\right]\\)</html>"
      ],
      "text/latex": [
       "$\\displaystyle \\left[-\\frac{2 \\, U_{c}^{2} X_{\\mathit{2c}} \\epsilon m}{X_{\\mathit{2c}}^{2} \\epsilon^{2} m^{2} + 4 \\, U_{c}^{2}}, \\frac{4 \\, U_{c}^{2} X_{\\mathit{2c}}}{{\\left(X_{\\mathit{2c}}^{2} \\epsilon^{2} m^{2} + 4 \\, U_{c}^{2}\\right)} \\epsilon m}, 0, -\\frac{{\\left(X_{\\mathit{2c}} \\epsilon m + 2 \\, U_{c}\\right)} {\\left(X_{\\mathit{2c}} \\epsilon m - 2 \\, U_{c}\\right)} U_{c}}{{\\left(X_{\\mathit{2c}}^{2} \\epsilon^{2} m^{2} + 4 \\, U_{c}^{2}\\right)} \\epsilon m}\\right]$"
      ],
      "text/plain": [
       "[-2*U_c^2*X_2c*epsilon*m/(X_2c^2*epsilon^2*m^2 + 4*U_c^2),\n",
       " 4*U_c^2*X_2c/((X_2c^2*epsilon^2*m^2 + 4*U_c^2)*epsilon*m),\n",
       " 0,\n",
       " -(X_2c*epsilon*m + 2*U_c)*(X_2c*epsilon*m - 2*U_c)*U_c/((X_2c^2*epsilon^2*m^2 + 4*U_c^2)*epsilon*m)]"
      ]
     },
     "execution_count": 133,
     "metadata": {},
     "output_type": "execute_result"
    }
   ],
   "source": [
    "J3_UVX = M.vector_field()\n",
    "J3_UVX[:] = [J3_U_simp, J3_V_simp, 0, J3_X2_simp]\n",
    "J3_UVX[:]"
   ]
  },
  {
   "cell_type": "code",
   "execution_count": 134,
   "id": "a2524dfa",
   "metadata": {},
   "outputs": [
    {
     "data": {
      "text/html": [
       "<html>\\(\\displaystyle \\left[-\\frac{2 \\, U_{c}^{2} X_{\\mathit{2c}} \\epsilon^{2} m}{X_{\\mathit{2c}}^{2} \\epsilon^{2} m^{2} + 4 \\, U_{c}^{2}}, \\frac{4 \\, U_{c}^{2} X_{\\mathit{2c}}}{X_{\\mathit{2c}}^{2} \\epsilon^{2} m^{3} + 4 \\, U_{c}^{2} m}, 0, -\\frac{U_{c} X_{\\mathit{2c}}^{2} \\epsilon^{2} m^{2} - 4 \\, U_{c}^{3}}{X_{\\mathit{2c}}^{2} \\epsilon^{2} m^{3} + 4 \\, U_{c}^{2} m}\\right]\\)</html>"
      ],
      "text/latex": [
       "$\\displaystyle \\left[-\\frac{2 \\, U_{c}^{2} X_{\\mathit{2c}} \\epsilon^{2} m}{X_{\\mathit{2c}}^{2} \\epsilon^{2} m^{2} + 4 \\, U_{c}^{2}}, \\frac{4 \\, U_{c}^{2} X_{\\mathit{2c}}}{X_{\\mathit{2c}}^{2} \\epsilon^{2} m^{3} + 4 \\, U_{c}^{2} m}, 0, -\\frac{U_{c} X_{\\mathit{2c}}^{2} \\epsilon^{2} m^{2} - 4 \\, U_{c}^{3}}{X_{\\mathit{2c}}^{2} \\epsilon^{2} m^{3} + 4 \\, U_{c}^{2} m}\\right]$"
      ],
      "text/plain": [
       "[-2*U_c^2*X_2c*epsilon^2*m/(X_2c^2*epsilon^2*m^2 + 4*U_c^2),\n",
       " 4*U_c^2*X_2c/(X_2c^2*epsilon^2*m^3 + 4*U_c^2*m),\n",
       " 0,\n",
       " -(U_c*X_2c^2*epsilon^2*m^2 - 4*U_c^3)/(X_2c^2*epsilon^2*m^3 + 4*U_c^2*m)]"
      ]
     },
     "execution_count": 134,
     "metadata": {},
     "output_type": "execute_result"
    }
   ],
   "source": [
    "J3_UVX_eps = J3_UVX*eps\n",
    "J3_UVX_eps[:]"
   ]
  },
  {
   "cell_type": "code",
   "execution_count": 135,
   "id": "653ade2c",
   "metadata": {},
   "outputs": [
    {
     "data": {
      "text/html": [
       "<html>\\(\\displaystyle \\left[0, \\frac{X_{\\mathit{2c}}}{m}, 0, \\frac{U_{c}}{m}\\right]\\)</html>"
      ],
      "text/latex": [
       "$\\displaystyle \\left[0, \\frac{X_{\\mathit{2c}}}{m}, 0, \\frac{U_{c}}{m}\\right]$"
      ],
      "text/plain": [
       "[0, X_2c/m, 0, U_c/m]"
      ]
     },
     "execution_count": 135,
     "metadata": {},
     "output_type": "execute_result"
    }
   ],
   "source": [
    "J3_UVX_CL = J3_UVX_eps.copy()\n",
    "J3_UVX_CL.apply_map(lambda x: x.subs({eps:0}))\n",
    "J3_UVX_CL[:]"
   ]
  },
  {
   "cell_type": "code",
   "execution_count": 144,
   "id": "eed93676",
   "metadata": {},
   "outputs": [
    {
     "data": {
      "text/html": [
       "<html>\\(\\displaystyle \\left[r \\cos\\left({\\phi}\\right), t \\cos\\left({\\phi}\\right), 0, -\\frac{t \\sin\\left({\\phi}\\right)}{r}\\right]\\)</html>"
      ],
      "text/latex": [
       "$\\displaystyle \\left[r \\cos\\left({\\phi}\\right), t \\cos\\left({\\phi}\\right), 0, -\\frac{t \\sin\\left({\\phi}\\right)}{r}\\right]$"
      ],
      "text/plain": [
       "[r*cos(ph), t*cos(ph), 0, -t*sin(ph)/r]"
      ]
     },
     "execution_count": 144,
     "metadata": {},
     "output_type": "execute_result"
    }
   ],
   "source": [
    "K1 = M.vector_field(name='K_1')\n",
    "K1[:] = [r*cos(ph), t*cos(ph), 0, -t*sin(ph)/r]\n",
    "K1[:]"
   ]
  },
  {
   "cell_type": "code",
   "execution_count": 145,
   "id": "956e0201",
   "metadata": {},
   "outputs": [
    {
     "data": {
      "text/html": [
       "<html>\\(\\displaystyle \\left(-\\frac{2 \\, {\\left({\\left(2 \\, \\Phi_{0} m {\\phi} - m {\\phi}^{2} - {\\left(\\Phi_{0}^{2} + 4\\right)} m\\right)} r^{2} \\cos\\left({\\phi}\\right) + 2 \\, {\\left(\\Phi_{0} m - m {\\phi}\\right)} t^{2} \\sin\\left({\\phi}\\right) + {\\left({\\left(2 \\, \\Phi_{0} m {\\phi} - m {\\phi}^{2} - {\\left(\\Phi_{0}^{2} + 4\\right)} m\\right)} \\cos\\left({\\phi}\\right) + 2 \\, {\\left(\\Phi_{0} m - m {\\phi}\\right)} \\sin\\left({\\phi}\\right)\\right)} r t\\right)}}{{\\left(\\Phi_{0}^{4} - 4 \\, \\Phi_{0} {\\phi}^{3} + {\\phi}^{4} + 2 \\, {\\left(3 \\, \\Phi_{0}^{2} + 4\\right)} {\\phi}^{2} + 8 \\, \\Phi_{0}^{2} - 4 \\, {\\left(\\Phi_{0}^{3} + 4 \\, \\Phi_{0}\\right)} {\\phi} + 16\\right)} r}, -\\frac{2 \\, {\\left({\\left(\\Phi_{0}^{4} - 4 \\, \\Phi_{0} {\\phi}^{3} + {\\phi}^{4} + 6 \\, {\\left(\\Phi_{0}^{2} + 1\\right)} {\\phi}^{2} + 6 \\, \\Phi_{0}^{2} - 4 \\, {\\left(\\Phi_{0}^{3} + 3 \\, \\Phi_{0}\\right)} {\\phi} + 8\\right)} r^{2} \\cos\\left({\\phi}\\right) + 4 \\, {\\left(\\Phi_{0} - {\\phi}\\right)} t^{2} \\sin\\left({\\phi}\\right) - 2 \\, {\\left({\\left(\\Phi_{0}^{2} - 2 \\, \\Phi_{0} {\\phi} + {\\phi}^{2} + 4\\right)} \\cos\\left({\\phi}\\right) - 2 \\, {\\left(\\Phi_{0} - {\\phi}\\right)} \\sin\\left({\\phi}\\right)\\right)} r t\\right)}}{{\\left(4 \\, \\Phi_{0} \\epsilon^{2} m {\\phi}^{3} - \\epsilon^{2} m {\\phi}^{4} - 2 \\, {\\left(3 \\, \\Phi_{0}^{2} + 4\\right)} \\epsilon^{2} m {\\phi}^{2} + 4 \\, {\\left(\\Phi_{0}^{3} + 4 \\, \\Phi_{0}\\right)} \\epsilon^{2} m {\\phi} - {\\left(\\Phi_{0}^{4} + 8 \\, \\Phi_{0}^{2} + 16\\right)} \\epsilon^{2} m\\right)} r}, \\frac{2 \\, {\\left({\\left(\\Phi_{0}^{3} + 3 \\, \\Phi_{0} {\\phi}^{2} - {\\phi}^{3} - {\\left(3 \\, \\Phi_{0}^{2} + 4\\right)} {\\phi} + 4 \\, \\Phi_{0}\\right)} r^{2} \\cos\\left({\\phi}\\right) - {\\left(\\Phi_{0}^{2} - 2 \\, \\Phi_{0} {\\phi} + {\\phi}^{2} - 4\\right)} t^{2} \\sin\\left({\\phi}\\right) + {\\left({\\left(\\Phi_{0}^{3} + 3 \\, \\Phi_{0} {\\phi}^{2} - {\\phi}^{3} - {\\left(3 \\, \\Phi_{0}^{2} + 4\\right)} {\\phi} + 4 \\, \\Phi_{0}\\right)} \\cos\\left({\\phi}\\right) - {\\left(\\Phi_{0}^{2} - 2 \\, \\Phi_{0} {\\phi} + {\\phi}^{2} - 4\\right)} \\sin\\left({\\phi}\\right)\\right)} r t\\right)}}{{\\left(4 \\, \\Phi_{0} \\epsilon {\\phi}^{3} - \\epsilon {\\phi}^{4} - 2 \\, {\\left(3 \\, \\Phi_{0}^{2} + 4\\right)} \\epsilon {\\phi}^{2} + 4 \\, {\\left(\\Phi_{0}^{3} + 4 \\, \\Phi_{0}\\right)} \\epsilon {\\phi} - {\\left(\\Phi_{0}^{4} + 8 \\, \\Phi_{0}^{2} + 16\\right)} \\epsilon\\right)} r}\\right)\\)</html>"
      ],
      "text/latex": [
       "$\\displaystyle \\left(-\\frac{2 \\, {\\left({\\left(2 \\, \\Phi_{0} m {\\phi} - m {\\phi}^{2} - {\\left(\\Phi_{0}^{2} + 4\\right)} m\\right)} r^{2} \\cos\\left({\\phi}\\right) + 2 \\, {\\left(\\Phi_{0} m - m {\\phi}\\right)} t^{2} \\sin\\left({\\phi}\\right) + {\\left({\\left(2 \\, \\Phi_{0} m {\\phi} - m {\\phi}^{2} - {\\left(\\Phi_{0}^{2} + 4\\right)} m\\right)} \\cos\\left({\\phi}\\right) + 2 \\, {\\left(\\Phi_{0} m - m {\\phi}\\right)} \\sin\\left({\\phi}\\right)\\right)} r t\\right)}}{{\\left(\\Phi_{0}^{4} - 4 \\, \\Phi_{0} {\\phi}^{3} + {\\phi}^{4} + 2 \\, {\\left(3 \\, \\Phi_{0}^{2} + 4\\right)} {\\phi}^{2} + 8 \\, \\Phi_{0}^{2} - 4 \\, {\\left(\\Phi_{0}^{3} + 4 \\, \\Phi_{0}\\right)} {\\phi} + 16\\right)} r}, -\\frac{2 \\, {\\left({\\left(\\Phi_{0}^{4} - 4 \\, \\Phi_{0} {\\phi}^{3} + {\\phi}^{4} + 6 \\, {\\left(\\Phi_{0}^{2} + 1\\right)} {\\phi}^{2} + 6 \\, \\Phi_{0}^{2} - 4 \\, {\\left(\\Phi_{0}^{3} + 3 \\, \\Phi_{0}\\right)} {\\phi} + 8\\right)} r^{2} \\cos\\left({\\phi}\\right) + 4 \\, {\\left(\\Phi_{0} - {\\phi}\\right)} t^{2} \\sin\\left({\\phi}\\right) - 2 \\, {\\left({\\left(\\Phi_{0}^{2} - 2 \\, \\Phi_{0} {\\phi} + {\\phi}^{2} + 4\\right)} \\cos\\left({\\phi}\\right) - 2 \\, {\\left(\\Phi_{0} - {\\phi}\\right)} \\sin\\left({\\phi}\\right)\\right)} r t\\right)}}{{\\left(4 \\, \\Phi_{0} \\epsilon^{2} m {\\phi}^{3} - \\epsilon^{2} m {\\phi}^{4} - 2 \\, {\\left(3 \\, \\Phi_{0}^{2} + 4\\right)} \\epsilon^{2} m {\\phi}^{2} + 4 \\, {\\left(\\Phi_{0}^{3} + 4 \\, \\Phi_{0}\\right)} \\epsilon^{2} m {\\phi} - {\\left(\\Phi_{0}^{4} + 8 \\, \\Phi_{0}^{2} + 16\\right)} \\epsilon^{2} m\\right)} r}, \\frac{2 \\, {\\left({\\left(\\Phi_{0}^{3} + 3 \\, \\Phi_{0} {\\phi}^{2} - {\\phi}^{3} - {\\left(3 \\, \\Phi_{0}^{2} + 4\\right)} {\\phi} + 4 \\, \\Phi_{0}\\right)} r^{2} \\cos\\left({\\phi}\\right) - {\\left(\\Phi_{0}^{2} - 2 \\, \\Phi_{0} {\\phi} + {\\phi}^{2} - 4\\right)} t^{2} \\sin\\left({\\phi}\\right) + {\\left({\\left(\\Phi_{0}^{3} + 3 \\, \\Phi_{0} {\\phi}^{2} - {\\phi}^{3} - {\\left(3 \\, \\Phi_{0}^{2} + 4\\right)} {\\phi} + 4 \\, \\Phi_{0}\\right)} \\cos\\left({\\phi}\\right) - {\\left(\\Phi_{0}^{2} - 2 \\, \\Phi_{0} {\\phi} + {\\phi}^{2} - 4\\right)} \\sin\\left({\\phi}\\right)\\right)} r t\\right)}}{{\\left(4 \\, \\Phi_{0} \\epsilon {\\phi}^{3} - \\epsilon {\\phi}^{4} - 2 \\, {\\left(3 \\, \\Phi_{0}^{2} + 4\\right)} \\epsilon {\\phi}^{2} + 4 \\, {\\left(\\Phi_{0}^{3} + 4 \\, \\Phi_{0}\\right)} \\epsilon {\\phi} - {\\left(\\Phi_{0}^{4} + 8 \\, \\Phi_{0}^{2} + 16\\right)} \\epsilon\\right)} r}\\right)$"
      ],
      "text/plain": [
       "(-2*((2*Phi_0*m*ph - m*ph^2 - (Phi_0^2 + 4)*m)*r^2*cos(ph) + 2*(Phi_0*m - m*ph)*t^2*sin(ph) + ((2*Phi_0*m*ph - m*ph^2 - (Phi_0^2 + 4)*m)*cos(ph) + 2*(Phi_0*m - m*ph)*sin(ph))*r*t)/((Phi_0^4 - 4*Phi_0*ph^3 + ph^4 + 2*(3*Phi_0^2 + 4)*ph^2 + 8*Phi_0^2 - 4*(Phi_0^3 + 4*Phi_0)*ph + 16)*r),\n",
       " -2*((Phi_0^4 - 4*Phi_0*ph^3 + ph^4 + 6*(Phi_0^2 + 1)*ph^2 + 6*Phi_0^2 - 4*(Phi_0^3 + 3*Phi_0)*ph + 8)*r^2*cos(ph) + 4*(Phi_0 - ph)*t^2*sin(ph) - 2*((Phi_0^2 - 2*Phi_0*ph + ph^2 + 4)*cos(ph) - 2*(Phi_0 - ph)*sin(ph))*r*t)/((4*Phi_0*epsilon^2*m*ph^3 - epsilon^2*m*ph^4 - 2*(3*Phi_0^2 + 4)*epsilon^2*m*ph^2 + 4*(Phi_0^3 + 4*Phi_0)*epsilon^2*m*ph - (Phi_0^4 + 8*Phi_0^2 + 16)*epsilon^2*m)*r),\n",
       " 2*((Phi_0^3 + 3*Phi_0*ph^2 - ph^3 - (3*Phi_0^2 + 4)*ph + 4*Phi_0)*r^2*cos(ph) - (Phi_0^2 - 2*Phi_0*ph + ph^2 - 4)*t^2*sin(ph) + ((Phi_0^3 + 3*Phi_0*ph^2 - ph^3 - (3*Phi_0^2 + 4)*ph + 4*Phi_0)*cos(ph) - (Phi_0^2 - 2*Phi_0*ph + ph^2 - 4)*sin(ph))*r*t)/((4*Phi_0*epsilon*ph^3 - epsilon*ph^4 - 2*(3*Phi_0^2 + 4)*epsilon*ph^2 + 4*(Phi_0^3 + 4*Phi_0)*epsilon*ph - (Phi_0^4 + 8*Phi_0^2 + 16)*epsilon)*r))"
      ]
     },
     "execution_count": 145,
     "metadata": {},
     "output_type": "execute_result"
    }
   ],
   "source": [
    "K1_U = jacOeps2[0, 0]*K1[0] + jacOeps2[0, 1]*K1[1] + jacOeps2[0, 2]*K1[3]\n",
    "K1_V = jacOeps2[1, 0]*K1[0] + jacOeps2[1, 1]*K1[1] + jacOeps2[1, 2]*K1[3]\n",
    "K1_X2 = jacOeps2[2, 0]*K1[0] + jacOeps2[2, 1]*K1[1] + jacOeps2[2, 2]*K1[3]\n",
    "K1_U, K1_V, K1_X2"
   ]
  },
  {
   "cell_type": "code",
   "execution_count": 146,
   "id": "09b3314a",
   "metadata": {},
   "outputs": [
    {
     "data": {
      "text/html": [
       "<html>\\(\\displaystyle \\left(-\\frac{1}{2} \\, X_{\\mathit{2c}} \\epsilon m \\sin\\left(\\Phi_{0}\\right) + U_{c} \\cos\\left(\\Phi_{0}\\right), \\frac{X_{\\mathit{2c}}^{3} \\epsilon m \\sin\\left(\\Phi_{0}\\right)}{4 \\, U_{c}^{2}} - V_{c} \\cos\\left(\\Phi_{0}\\right) - \\frac{X_{\\mathit{2c}} \\sin\\left(\\Phi_{0}\\right)}{\\epsilon m}, -\\frac{{\\left(2 \\, U_{c} V_{c} \\sin\\left(\\Phi_{0}\\right) - X_{\\mathit{2c}}^{2} \\sin\\left(\\Phi_{0}\\right)\\right)} \\epsilon m}{2 \\, U_{c}} - \\frac{U_{c} \\sin\\left(\\Phi_{0}\\right)}{\\epsilon m}\\right)\\)</html>"
      ],
      "text/latex": [
       "$\\displaystyle \\left(-\\frac{1}{2} \\, X_{\\mathit{2c}} \\epsilon m \\sin\\left(\\Phi_{0}\\right) + U_{c} \\cos\\left(\\Phi_{0}\\right), \\frac{X_{\\mathit{2c}}^{3} \\epsilon m \\sin\\left(\\Phi_{0}\\right)}{4 \\, U_{c}^{2}} - V_{c} \\cos\\left(\\Phi_{0}\\right) - \\frac{X_{\\mathit{2c}} \\sin\\left(\\Phi_{0}\\right)}{\\epsilon m}, -\\frac{{\\left(2 \\, U_{c} V_{c} \\sin\\left(\\Phi_{0}\\right) - X_{\\mathit{2c}}^{2} \\sin\\left(\\Phi_{0}\\right)\\right)} \\epsilon m}{2 \\, U_{c}} - \\frac{U_{c} \\sin\\left(\\Phi_{0}\\right)}{\\epsilon m}\\right)$"
      ],
      "text/plain": [
       "(-1/2*X_2c*epsilon*m*sin(Phi_0) + U_c*cos(Phi_0),\n",
       " 1/4*X_2c^3*epsilon*m*sin(Phi_0)/U_c^2 - V_c*cos(Phi_0) - X_2c*sin(Phi_0)/(epsilon*m),\n",
       " -1/2*(2*U_c*V_c*sin(Phi_0) - X_2c^2*sin(Phi_0))*epsilon*m/U_c - U_c*sin(Phi_0)/(epsilon*m))"
      ]
     },
     "execution_count": 146,
     "metadata": {},
     "output_type": "execute_result"
    }
   ],
   "source": [
    "K1_U_simp = K1_U.expr().subs({ph:ph_UVX}).subs({r:r_UVX}).subs({t:t_UVX}).taylor(eps, 0, 1)\n",
    "K1_V_simp = K1_V.expr().subs({ph:ph_UVX}).subs({r:r_UVX}).subs({t:t_UVX}).taylor(eps, 0, 1)\n",
    "K1_X2_simp = K1_X2.expr().subs({ph:ph_UVX}).subs({r:r_UVX}).subs({t:t_UVX}).taylor(eps, 0, 1)\n",
    "K1_U_simp, K1_V_simp, K1_X2_simp"
   ]
  },
  {
   "cell_type": "code",
   "execution_count": 147,
   "id": "26ba6fe8",
   "metadata": {},
   "outputs": [
    {
     "data": {
      "text/html": [
       "<html>\\(\\displaystyle \\left[-\\frac{1}{2} \\, X_{\\mathit{2c}} \\epsilon m \\sin\\left(\\Phi_{0}\\right) + U_{c} \\cos\\left(\\Phi_{0}\\right), \\frac{X_{\\mathit{2c}}^{3} \\epsilon m \\sin\\left(\\Phi_{0}\\right)}{4 \\, U_{c}^{2}} - V_{c} \\cos\\left(\\Phi_{0}\\right) - \\frac{X_{\\mathit{2c}} \\sin\\left(\\Phi_{0}\\right)}{\\epsilon m}, 0, -\\frac{{\\left(2 \\, U_{c} V_{c} \\sin\\left(\\Phi_{0}\\right) - X_{\\mathit{2c}}^{2} \\sin\\left(\\Phi_{0}\\right)\\right)} \\epsilon m}{2 \\, U_{c}} - \\frac{U_{c} \\sin\\left(\\Phi_{0}\\right)}{\\epsilon m}\\right]\\)</html>"
      ],
      "text/latex": [
       "$\\displaystyle \\left[-\\frac{1}{2} \\, X_{\\mathit{2c}} \\epsilon m \\sin\\left(\\Phi_{0}\\right) + U_{c} \\cos\\left(\\Phi_{0}\\right), \\frac{X_{\\mathit{2c}}^{3} \\epsilon m \\sin\\left(\\Phi_{0}\\right)}{4 \\, U_{c}^{2}} - V_{c} \\cos\\left(\\Phi_{0}\\right) - \\frac{X_{\\mathit{2c}} \\sin\\left(\\Phi_{0}\\right)}{\\epsilon m}, 0, -\\frac{{\\left(2 \\, U_{c} V_{c} \\sin\\left(\\Phi_{0}\\right) - X_{\\mathit{2c}}^{2} \\sin\\left(\\Phi_{0}\\right)\\right)} \\epsilon m}{2 \\, U_{c}} - \\frac{U_{c} \\sin\\left(\\Phi_{0}\\right)}{\\epsilon m}\\right]$"
      ],
      "text/plain": [
       "[-1/2*X_2c*epsilon*m*sin(Phi_0) + U_c*cos(Phi_0),\n",
       " 1/4*X_2c^3*epsilon*m*sin(Phi_0)/U_c^2 - V_c*cos(Phi_0) - X_2c*sin(Phi_0)/(epsilon*m),\n",
       " 0,\n",
       " -1/2*(2*U_c*V_c*sin(Phi_0) - X_2c^2*sin(Phi_0))*epsilon*m/U_c - U_c*sin(Phi_0)/(epsilon*m)]"
      ]
     },
     "execution_count": 147,
     "metadata": {},
     "output_type": "execute_result"
    }
   ],
   "source": [
    "K1_UVX = M.vector_field()\n",
    "K1_UVX[:] = [K1_U_simp, K1_V_simp, 0, K1_X2_simp]\n",
    "K1_UVX[:]"
   ]
  },
  {
   "cell_type": "code",
   "execution_count": 148,
   "id": "6e66357a",
   "metadata": {},
   "outputs": [
    {
     "data": {
      "text/html": [
       "<html>\\(\\displaystyle \\left[-\\frac{1}{2} \\, X_{\\mathit{2c}} \\epsilon^{2} m \\sin\\left(\\Phi_{0}\\right) + U_{c} \\epsilon \\cos\\left(\\Phi_{0}\\right), \\frac{X_{\\mathit{2c}}^{3} \\epsilon^{2} m^{2} \\sin\\left(\\Phi_{0}\\right) - 4 \\, U_{c}^{2} V_{c} \\epsilon m \\cos\\left(\\Phi_{0}\\right) - 4 \\, U_{c}^{2} X_{\\mathit{2c}} \\sin\\left(\\Phi_{0}\\right)}{4 \\, U_{c}^{2} m}, 0, -\\frac{{\\left(2 \\, U_{c} V_{c} \\sin\\left(\\Phi_{0}\\right) - X_{\\mathit{2c}}^{2} \\sin\\left(\\Phi_{0}\\right)\\right)} \\epsilon^{2} m^{2} + 2 \\, U_{c}^{2} \\sin\\left(\\Phi_{0}\\right)}{2 \\, U_{c} m}\\right]\\)</html>"
      ],
      "text/latex": [
       "$\\displaystyle \\left[-\\frac{1}{2} \\, X_{\\mathit{2c}} \\epsilon^{2} m \\sin\\left(\\Phi_{0}\\right) + U_{c} \\epsilon \\cos\\left(\\Phi_{0}\\right), \\frac{X_{\\mathit{2c}}^{3} \\epsilon^{2} m^{2} \\sin\\left(\\Phi_{0}\\right) - 4 \\, U_{c}^{2} V_{c} \\epsilon m \\cos\\left(\\Phi_{0}\\right) - 4 \\, U_{c}^{2} X_{\\mathit{2c}} \\sin\\left(\\Phi_{0}\\right)}{4 \\, U_{c}^{2} m}, 0, -\\frac{{\\left(2 \\, U_{c} V_{c} \\sin\\left(\\Phi_{0}\\right) - X_{\\mathit{2c}}^{2} \\sin\\left(\\Phi_{0}\\right)\\right)} \\epsilon^{2} m^{2} + 2 \\, U_{c}^{2} \\sin\\left(\\Phi_{0}\\right)}{2 \\, U_{c} m}\\right]$"
      ],
      "text/plain": [
       "[-1/2*X_2c*epsilon^2*m*sin(Phi_0) + U_c*epsilon*cos(Phi_0),\n",
       " 1/4*(X_2c^3*epsilon^2*m^2*sin(Phi_0) - 4*U_c^2*V_c*epsilon*m*cos(Phi_0) - 4*U_c^2*X_2c*sin(Phi_0))/(U_c^2*m),\n",
       " 0,\n",
       " -1/2*((2*U_c*V_c*sin(Phi_0) - X_2c^2*sin(Phi_0))*epsilon^2*m^2 + 2*U_c^2*sin(Phi_0))/(U_c*m)]"
      ]
     },
     "execution_count": 148,
     "metadata": {},
     "output_type": "execute_result"
    }
   ],
   "source": [
    "K1_UVX_eps = K1_UVX*eps\n",
    "K1_UVX_eps[:]"
   ]
  },
  {
   "cell_type": "code",
   "execution_count": 149,
   "id": "673b8186",
   "metadata": {},
   "outputs": [
    {
     "data": {
      "text/html": [
       "<html>\\(\\displaystyle \\left[0, -\\frac{X_{\\mathit{2c}} \\sin\\left(\\Phi_{0}\\right)}{m}, 0, -\\frac{U_{c} \\sin\\left(\\Phi_{0}\\right)}{m}\\right]\\)</html>"
      ],
      "text/latex": [
       "$\\displaystyle \\left[0, -\\frac{X_{\\mathit{2c}} \\sin\\left(\\Phi_{0}\\right)}{m}, 0, -\\frac{U_{c} \\sin\\left(\\Phi_{0}\\right)}{m}\\right]$"
      ],
      "text/plain": [
       "[0, -X_2c*sin(Phi_0)/m, 0, -U_c*sin(Phi_0)/m]"
      ]
     },
     "execution_count": 149,
     "metadata": {},
     "output_type": "execute_result"
    }
   ],
   "source": [
    "K1_UVX_CL = K1_UVX_eps.copy()\n",
    "K1_UVX_CL.apply_map(lambda tmp: tmp.subs({eps:0}))\n",
    "K1_UVX_CL[:]"
   ]
  },
  {
   "cell_type": "code",
   "execution_count": 150,
   "id": "95a0ed6e",
   "metadata": {},
   "outputs": [
    {
     "data": {
      "text/html": [
       "<html>\\(\\displaystyle \\left[r \\sin\\left({\\phi}\\right), t \\sin\\left({\\phi}\\right), 0, \\frac{t \\cos\\left({\\phi}\\right)}{r}\\right]\\)</html>"
      ],
      "text/latex": [
       "$\\displaystyle \\left[r \\sin\\left({\\phi}\\right), t \\sin\\left({\\phi}\\right), 0, \\frac{t \\cos\\left({\\phi}\\right)}{r}\\right]$"
      ],
      "text/plain": [
       "[r*sin(ph), t*sin(ph), 0, t*cos(ph)/r]"
      ]
     },
     "execution_count": 150,
     "metadata": {},
     "output_type": "execute_result"
    }
   ],
   "source": [
    "K2 = M.vector_field(name='K_2')\n",
    "K2[:] = [r*sin(ph), t*sin(ph), 0, t*cos(ph)/r]\n",
    "K2[:]"
   ]
  },
  {
   "cell_type": "code",
   "execution_count": 151,
   "id": "1a265069",
   "metadata": {},
   "outputs": [
    {
     "data": {
      "text/html": [
       "<html>\\(\\displaystyle \\left(\\frac{2 \\, {\\left(2 \\, {\\left(\\Phi_{0} m - m {\\phi}\\right)} t^{2} \\cos\\left({\\phi}\\right) - {\\left(2 \\, \\Phi_{0} m {\\phi} - m {\\phi}^{2} - {\\left(\\Phi_{0}^{2} + 4\\right)} m\\right)} r^{2} \\sin\\left({\\phi}\\right) + {\\left(2 \\, {\\left(\\Phi_{0} m - m {\\phi}\\right)} \\cos\\left({\\phi}\\right) - {\\left(2 \\, \\Phi_{0} m {\\phi} - m {\\phi}^{2} - {\\left(\\Phi_{0}^{2} + 4\\right)} m\\right)} \\sin\\left({\\phi}\\right)\\right)} r t\\right)}}{{\\left(\\Phi_{0}^{4} - 4 \\, \\Phi_{0} {\\phi}^{3} + {\\phi}^{4} + 2 \\, {\\left(3 \\, \\Phi_{0}^{2} + 4\\right)} {\\phi}^{2} + 8 \\, \\Phi_{0}^{2} - 4 \\, {\\left(\\Phi_{0}^{3} + 4 \\, \\Phi_{0}\\right)} {\\phi} + 16\\right)} r}, \\frac{2 \\, {\\left(4 \\, {\\left(\\Phi_{0} - {\\phi}\\right)} t^{2} \\cos\\left({\\phi}\\right) - {\\left(\\Phi_{0}^{4} - 4 \\, \\Phi_{0} {\\phi}^{3} + {\\phi}^{4} + 6 \\, {\\left(\\Phi_{0}^{2} + 1\\right)} {\\phi}^{2} + 6 \\, \\Phi_{0}^{2} - 4 \\, {\\left(\\Phi_{0}^{3} + 3 \\, \\Phi_{0}\\right)} {\\phi} + 8\\right)} r^{2} \\sin\\left({\\phi}\\right) + 2 \\, {\\left(2 \\, {\\left(\\Phi_{0} - {\\phi}\\right)} \\cos\\left({\\phi}\\right) + {\\left(\\Phi_{0}^{2} - 2 \\, \\Phi_{0} {\\phi} + {\\phi}^{2} + 4\\right)} \\sin\\left({\\phi}\\right)\\right)} r t\\right)}}{{\\left(4 \\, \\Phi_{0} \\epsilon^{2} m {\\phi}^{3} - \\epsilon^{2} m {\\phi}^{4} - 2 \\, {\\left(3 \\, \\Phi_{0}^{2} + 4\\right)} \\epsilon^{2} m {\\phi}^{2} + 4 \\, {\\left(\\Phi_{0}^{3} + 4 \\, \\Phi_{0}\\right)} \\epsilon^{2} m {\\phi} - {\\left(\\Phi_{0}^{4} + 8 \\, \\Phi_{0}^{2} + 16\\right)} \\epsilon^{2} m\\right)} r}, \\frac{2 \\, {\\left({\\left(\\Phi_{0}^{2} - 2 \\, \\Phi_{0} {\\phi} + {\\phi}^{2} - 4\\right)} t^{2} \\cos\\left({\\phi}\\right) + {\\left(\\Phi_{0}^{3} + 3 \\, \\Phi_{0} {\\phi}^{2} - {\\phi}^{3} - {\\left(3 \\, \\Phi_{0}^{2} + 4\\right)} {\\phi} + 4 \\, \\Phi_{0}\\right)} r^{2} \\sin\\left({\\phi}\\right) + {\\left({\\left(\\Phi_{0}^{2} - 2 \\, \\Phi_{0} {\\phi} + {\\phi}^{2} - 4\\right)} \\cos\\left({\\phi}\\right) + {\\left(\\Phi_{0}^{3} + 3 \\, \\Phi_{0} {\\phi}^{2} - {\\phi}^{3} - {\\left(3 \\, \\Phi_{0}^{2} + 4\\right)} {\\phi} + 4 \\, \\Phi_{0}\\right)} \\sin\\left({\\phi}\\right)\\right)} r t\\right)}}{{\\left(4 \\, \\Phi_{0} \\epsilon {\\phi}^{3} - \\epsilon {\\phi}^{4} - 2 \\, {\\left(3 \\, \\Phi_{0}^{2} + 4\\right)} \\epsilon {\\phi}^{2} + 4 \\, {\\left(\\Phi_{0}^{3} + 4 \\, \\Phi_{0}\\right)} \\epsilon {\\phi} - {\\left(\\Phi_{0}^{4} + 8 \\, \\Phi_{0}^{2} + 16\\right)} \\epsilon\\right)} r}\\right)\\)</html>"
      ],
      "text/latex": [
       "$\\displaystyle \\left(\\frac{2 \\, {\\left(2 \\, {\\left(\\Phi_{0} m - m {\\phi}\\right)} t^{2} \\cos\\left({\\phi}\\right) - {\\left(2 \\, \\Phi_{0} m {\\phi} - m {\\phi}^{2} - {\\left(\\Phi_{0}^{2} + 4\\right)} m\\right)} r^{2} \\sin\\left({\\phi}\\right) + {\\left(2 \\, {\\left(\\Phi_{0} m - m {\\phi}\\right)} \\cos\\left({\\phi}\\right) - {\\left(2 \\, \\Phi_{0} m {\\phi} - m {\\phi}^{2} - {\\left(\\Phi_{0}^{2} + 4\\right)} m\\right)} \\sin\\left({\\phi}\\right)\\right)} r t\\right)}}{{\\left(\\Phi_{0}^{4} - 4 \\, \\Phi_{0} {\\phi}^{3} + {\\phi}^{4} + 2 \\, {\\left(3 \\, \\Phi_{0}^{2} + 4\\right)} {\\phi}^{2} + 8 \\, \\Phi_{0}^{2} - 4 \\, {\\left(\\Phi_{0}^{3} + 4 \\, \\Phi_{0}\\right)} {\\phi} + 16\\right)} r}, \\frac{2 \\, {\\left(4 \\, {\\left(\\Phi_{0} - {\\phi}\\right)} t^{2} \\cos\\left({\\phi}\\right) - {\\left(\\Phi_{0}^{4} - 4 \\, \\Phi_{0} {\\phi}^{3} + {\\phi}^{4} + 6 \\, {\\left(\\Phi_{0}^{2} + 1\\right)} {\\phi}^{2} + 6 \\, \\Phi_{0}^{2} - 4 \\, {\\left(\\Phi_{0}^{3} + 3 \\, \\Phi_{0}\\right)} {\\phi} + 8\\right)} r^{2} \\sin\\left({\\phi}\\right) + 2 \\, {\\left(2 \\, {\\left(\\Phi_{0} - {\\phi}\\right)} \\cos\\left({\\phi}\\right) + {\\left(\\Phi_{0}^{2} - 2 \\, \\Phi_{0} {\\phi} + {\\phi}^{2} + 4\\right)} \\sin\\left({\\phi}\\right)\\right)} r t\\right)}}{{\\left(4 \\, \\Phi_{0} \\epsilon^{2} m {\\phi}^{3} - \\epsilon^{2} m {\\phi}^{4} - 2 \\, {\\left(3 \\, \\Phi_{0}^{2} + 4\\right)} \\epsilon^{2} m {\\phi}^{2} + 4 \\, {\\left(\\Phi_{0}^{3} + 4 \\, \\Phi_{0}\\right)} \\epsilon^{2} m {\\phi} - {\\left(\\Phi_{0}^{4} + 8 \\, \\Phi_{0}^{2} + 16\\right)} \\epsilon^{2} m\\right)} r}, \\frac{2 \\, {\\left({\\left(\\Phi_{0}^{2} - 2 \\, \\Phi_{0} {\\phi} + {\\phi}^{2} - 4\\right)} t^{2} \\cos\\left({\\phi}\\right) + {\\left(\\Phi_{0}^{3} + 3 \\, \\Phi_{0} {\\phi}^{2} - {\\phi}^{3} - {\\left(3 \\, \\Phi_{0}^{2} + 4\\right)} {\\phi} + 4 \\, \\Phi_{0}\\right)} r^{2} \\sin\\left({\\phi}\\right) + {\\left({\\left(\\Phi_{0}^{2} - 2 \\, \\Phi_{0} {\\phi} + {\\phi}^{2} - 4\\right)} \\cos\\left({\\phi}\\right) + {\\left(\\Phi_{0}^{3} + 3 \\, \\Phi_{0} {\\phi}^{2} - {\\phi}^{3} - {\\left(3 \\, \\Phi_{0}^{2} + 4\\right)} {\\phi} + 4 \\, \\Phi_{0}\\right)} \\sin\\left({\\phi}\\right)\\right)} r t\\right)}}{{\\left(4 \\, \\Phi_{0} \\epsilon {\\phi}^{3} - \\epsilon {\\phi}^{4} - 2 \\, {\\left(3 \\, \\Phi_{0}^{2} + 4\\right)} \\epsilon {\\phi}^{2} + 4 \\, {\\left(\\Phi_{0}^{3} + 4 \\, \\Phi_{0}\\right)} \\epsilon {\\phi} - {\\left(\\Phi_{0}^{4} + 8 \\, \\Phi_{0}^{2} + 16\\right)} \\epsilon\\right)} r}\\right)$"
      ],
      "text/plain": [
       "(2*(2*(Phi_0*m - m*ph)*t^2*cos(ph) - (2*Phi_0*m*ph - m*ph^2 - (Phi_0^2 + 4)*m)*r^2*sin(ph) + (2*(Phi_0*m - m*ph)*cos(ph) - (2*Phi_0*m*ph - m*ph^2 - (Phi_0^2 + 4)*m)*sin(ph))*r*t)/((Phi_0^4 - 4*Phi_0*ph^3 + ph^4 + 2*(3*Phi_0^2 + 4)*ph^2 + 8*Phi_0^2 - 4*(Phi_0^3 + 4*Phi_0)*ph + 16)*r),\n",
       " 2*(4*(Phi_0 - ph)*t^2*cos(ph) - (Phi_0^4 - 4*Phi_0*ph^3 + ph^4 + 6*(Phi_0^2 + 1)*ph^2 + 6*Phi_0^2 - 4*(Phi_0^3 + 3*Phi_0)*ph + 8)*r^2*sin(ph) + 2*(2*(Phi_0 - ph)*cos(ph) + (Phi_0^2 - 2*Phi_0*ph + ph^2 + 4)*sin(ph))*r*t)/((4*Phi_0*epsilon^2*m*ph^3 - epsilon^2*m*ph^4 - 2*(3*Phi_0^2 + 4)*epsilon^2*m*ph^2 + 4*(Phi_0^3 + 4*Phi_0)*epsilon^2*m*ph - (Phi_0^4 + 8*Phi_0^2 + 16)*epsilon^2*m)*r),\n",
       " 2*((Phi_0^2 - 2*Phi_0*ph + ph^2 - 4)*t^2*cos(ph) + (Phi_0^3 + 3*Phi_0*ph^2 - ph^3 - (3*Phi_0^2 + 4)*ph + 4*Phi_0)*r^2*sin(ph) + ((Phi_0^2 - 2*Phi_0*ph + ph^2 - 4)*cos(ph) + (Phi_0^3 + 3*Phi_0*ph^2 - ph^3 - (3*Phi_0^2 + 4)*ph + 4*Phi_0)*sin(ph))*r*t)/((4*Phi_0*epsilon*ph^3 - epsilon*ph^4 - 2*(3*Phi_0^2 + 4)*epsilon*ph^2 + 4*(Phi_0^3 + 4*Phi_0)*epsilon*ph - (Phi_0^4 + 8*Phi_0^2 + 16)*epsilon)*r))"
      ]
     },
     "execution_count": 151,
     "metadata": {},
     "output_type": "execute_result"
    }
   ],
   "source": [
    "K2_U = jacOeps2[0, 0]*K2[0] + jacOeps2[0, 1]*K2[1] + jacOeps2[0, 2]*K2[3]\n",
    "K2_V = jacOeps2[1, 0]*K2[0] + jacOeps2[1, 1]*K2[1] + jacOeps2[1, 2]*K2[3]\n",
    "K2_X2 = jacOeps2[2, 0]*K2[0] + jacOeps2[2, 1]*K2[1] + jacOeps2[2, 2]*K2[3]\n",
    "K2_U, K2_V, K2_X2"
   ]
  },
  {
   "cell_type": "code",
   "execution_count": 152,
   "id": "10b0844f",
   "metadata": {},
   "outputs": [
    {
     "data": {
      "text/html": [
       "<html>\\(\\displaystyle \\left(\\frac{1}{2} \\, X_{\\mathit{2c}} \\epsilon m \\cos\\left(\\Phi_{0}\\right) + U_{c} \\sin\\left(\\Phi_{0}\\right), -\\frac{X_{\\mathit{2c}}^{3} \\epsilon m \\cos\\left(\\Phi_{0}\\right)}{4 \\, U_{c}^{2}} - V_{c} \\sin\\left(\\Phi_{0}\\right) + \\frac{X_{\\mathit{2c}} \\cos\\left(\\Phi_{0}\\right)}{\\epsilon m}, \\frac{{\\left(2 \\, U_{c} V_{c} \\cos\\left(\\Phi_{0}\\right) - X_{\\mathit{2c}}^{2} \\cos\\left(\\Phi_{0}\\right)\\right)} \\epsilon m}{2 \\, U_{c}} + \\frac{U_{c} \\cos\\left(\\Phi_{0}\\right)}{\\epsilon m}\\right)\\)</html>"
      ],
      "text/latex": [
       "$\\displaystyle \\left(\\frac{1}{2} \\, X_{\\mathit{2c}} \\epsilon m \\cos\\left(\\Phi_{0}\\right) + U_{c} \\sin\\left(\\Phi_{0}\\right), -\\frac{X_{\\mathit{2c}}^{3} \\epsilon m \\cos\\left(\\Phi_{0}\\right)}{4 \\, U_{c}^{2}} - V_{c} \\sin\\left(\\Phi_{0}\\right) + \\frac{X_{\\mathit{2c}} \\cos\\left(\\Phi_{0}\\right)}{\\epsilon m}, \\frac{{\\left(2 \\, U_{c} V_{c} \\cos\\left(\\Phi_{0}\\right) - X_{\\mathit{2c}}^{2} \\cos\\left(\\Phi_{0}\\right)\\right)} \\epsilon m}{2 \\, U_{c}} + \\frac{U_{c} \\cos\\left(\\Phi_{0}\\right)}{\\epsilon m}\\right)$"
      ],
      "text/plain": [
       "(1/2*X_2c*epsilon*m*cos(Phi_0) + U_c*sin(Phi_0),\n",
       " -1/4*X_2c^3*epsilon*m*cos(Phi_0)/U_c^2 - V_c*sin(Phi_0) + X_2c*cos(Phi_0)/(epsilon*m),\n",
       " 1/2*(2*U_c*V_c*cos(Phi_0) - X_2c^2*cos(Phi_0))*epsilon*m/U_c + U_c*cos(Phi_0)/(epsilon*m))"
      ]
     },
     "execution_count": 152,
     "metadata": {},
     "output_type": "execute_result"
    }
   ],
   "source": [
    "K2_U_simp = K2_U.expr().subs({ph:ph_UVX}).subs({r:r_UVX}).subs({t:t_UVX}).taylor(eps, 0, 1)\n",
    "K2_V_simp = K2_V.expr().subs({ph:ph_UVX}).subs({r:r_UVX}).subs({t:t_UVX}).taylor(eps, 0, 1)\n",
    "K2_X2_simp = K2_X2.expr().subs({ph:ph_UVX}).subs({r:r_UVX}).subs({t:t_UVX}).taylor(eps, 0, 1)\n",
    "K2_U_simp, K2_V_simp, K2_X2_simp"
   ]
  },
  {
   "cell_type": "code",
   "execution_count": 153,
   "id": "d51cfd94",
   "metadata": {},
   "outputs": [
    {
     "data": {
      "text/html": [
       "<html>\\(\\displaystyle \\left[\\frac{1}{2} \\, X_{\\mathit{2c}} \\epsilon m \\cos\\left(\\Phi_{0}\\right) + U_{c} \\sin\\left(\\Phi_{0}\\right), -\\frac{X_{\\mathit{2c}}^{3} \\epsilon m \\cos\\left(\\Phi_{0}\\right)}{4 \\, U_{c}^{2}} - V_{c} \\sin\\left(\\Phi_{0}\\right) + \\frac{X_{\\mathit{2c}} \\cos\\left(\\Phi_{0}\\right)}{\\epsilon m}, 0, \\frac{{\\left(2 \\, U_{c} V_{c} \\cos\\left(\\Phi_{0}\\right) - X_{\\mathit{2c}}^{2} \\cos\\left(\\Phi_{0}\\right)\\right)} \\epsilon m}{2 \\, U_{c}} + \\frac{U_{c} \\cos\\left(\\Phi_{0}\\right)}{\\epsilon m}\\right]\\)</html>"
      ],
      "text/latex": [
       "$\\displaystyle \\left[\\frac{1}{2} \\, X_{\\mathit{2c}} \\epsilon m \\cos\\left(\\Phi_{0}\\right) + U_{c} \\sin\\left(\\Phi_{0}\\right), -\\frac{X_{\\mathit{2c}}^{3} \\epsilon m \\cos\\left(\\Phi_{0}\\right)}{4 \\, U_{c}^{2}} - V_{c} \\sin\\left(\\Phi_{0}\\right) + \\frac{X_{\\mathit{2c}} \\cos\\left(\\Phi_{0}\\right)}{\\epsilon m}, 0, \\frac{{\\left(2 \\, U_{c} V_{c} \\cos\\left(\\Phi_{0}\\right) - X_{\\mathit{2c}}^{2} \\cos\\left(\\Phi_{0}\\right)\\right)} \\epsilon m}{2 \\, U_{c}} + \\frac{U_{c} \\cos\\left(\\Phi_{0}\\right)}{\\epsilon m}\\right]$"
      ],
      "text/plain": [
       "[1/2*X_2c*epsilon*m*cos(Phi_0) + U_c*sin(Phi_0),\n",
       " -1/4*X_2c^3*epsilon*m*cos(Phi_0)/U_c^2 - V_c*sin(Phi_0) + X_2c*cos(Phi_0)/(epsilon*m),\n",
       " 0,\n",
       " 1/2*(2*U_c*V_c*cos(Phi_0) - X_2c^2*cos(Phi_0))*epsilon*m/U_c + U_c*cos(Phi_0)/(epsilon*m)]"
      ]
     },
     "execution_count": 153,
     "metadata": {},
     "output_type": "execute_result"
    }
   ],
   "source": [
    "K2_UVX = M.vector_field()\n",
    "K2_UVX[:] = [K2_U_simp, K2_V_simp, 0, K2_X2_simp]\n",
    "K2_UVX[:]"
   ]
  },
  {
   "cell_type": "code",
   "execution_count": 154,
   "id": "86d7fd09",
   "metadata": {},
   "outputs": [
    {
     "data": {
      "text/html": [
       "<html>\\(\\displaystyle \\left[\\frac{1}{2} \\, X_{\\mathit{2c}} \\epsilon^{2} m \\cos\\left(\\Phi_{0}\\right) + U_{c} \\epsilon \\sin\\left(\\Phi_{0}\\right), -\\frac{X_{\\mathit{2c}}^{3} \\epsilon^{2} m^{2} \\cos\\left(\\Phi_{0}\\right) + 4 \\, U_{c}^{2} V_{c} \\epsilon m \\sin\\left(\\Phi_{0}\\right) - 4 \\, U_{c}^{2} X_{\\mathit{2c}} \\cos\\left(\\Phi_{0}\\right)}{4 \\, U_{c}^{2} m}, 0, \\frac{{\\left(2 \\, U_{c} V_{c} \\cos\\left(\\Phi_{0}\\right) - X_{\\mathit{2c}}^{2} \\cos\\left(\\Phi_{0}\\right)\\right)} \\epsilon^{2} m^{2} + 2 \\, U_{c}^{2} \\cos\\left(\\Phi_{0}\\right)}{2 \\, U_{c} m}\\right]\\)</html>"
      ],
      "text/latex": [
       "$\\displaystyle \\left[\\frac{1}{2} \\, X_{\\mathit{2c}} \\epsilon^{2} m \\cos\\left(\\Phi_{0}\\right) + U_{c} \\epsilon \\sin\\left(\\Phi_{0}\\right), -\\frac{X_{\\mathit{2c}}^{3} \\epsilon^{2} m^{2} \\cos\\left(\\Phi_{0}\\right) + 4 \\, U_{c}^{2} V_{c} \\epsilon m \\sin\\left(\\Phi_{0}\\right) - 4 \\, U_{c}^{2} X_{\\mathit{2c}} \\cos\\left(\\Phi_{0}\\right)}{4 \\, U_{c}^{2} m}, 0, \\frac{{\\left(2 \\, U_{c} V_{c} \\cos\\left(\\Phi_{0}\\right) - X_{\\mathit{2c}}^{2} \\cos\\left(\\Phi_{0}\\right)\\right)} \\epsilon^{2} m^{2} + 2 \\, U_{c}^{2} \\cos\\left(\\Phi_{0}\\right)}{2 \\, U_{c} m}\\right]$"
      ],
      "text/plain": [
       "[1/2*X_2c*epsilon^2*m*cos(Phi_0) + U_c*epsilon*sin(Phi_0),\n",
       " -1/4*(X_2c^3*epsilon^2*m^2*cos(Phi_0) + 4*U_c^2*V_c*epsilon*m*sin(Phi_0) - 4*U_c^2*X_2c*cos(Phi_0))/(U_c^2*m),\n",
       " 0,\n",
       " 1/2*((2*U_c*V_c*cos(Phi_0) - X_2c^2*cos(Phi_0))*epsilon^2*m^2 + 2*U_c^2*cos(Phi_0))/(U_c*m)]"
      ]
     },
     "execution_count": 154,
     "metadata": {},
     "output_type": "execute_result"
    }
   ],
   "source": [
    "K2_UVX_eps = K2_UVX*eps\n",
    "K2_UVX_eps[:]"
   ]
  },
  {
   "cell_type": "code",
   "execution_count": 175,
   "id": "5d3da3b2",
   "metadata": {},
   "outputs": [
    {
     "data": {
      "text/html": [
       "<html>\\(\\displaystyle \\left[0, \\frac{X_{\\mathit{2c}} \\cos\\left(\\Phi_{0}\\right)}{m}, 0, \\frac{U_{c} \\cos\\left(\\Phi_{0}\\right)}{m}\\right]\\)</html>"
      ],
      "text/latex": [
       "$\\displaystyle \\left[0, \\frac{X_{\\mathit{2c}} \\cos\\left(\\Phi_{0}\\right)}{m}, 0, \\frac{U_{c} \\cos\\left(\\Phi_{0}\\right)}{m}\\right]$"
      ],
      "text/plain": [
       "[0, X_2c*cos(Phi_0)/m, 0, U_c*cos(Phi_0)/m]"
      ]
     },
     "execution_count": 175,
     "metadata": {},
     "output_type": "execute_result"
    }
   ],
   "source": [
    "K2_UVX_CL = K2_UVX_eps.copy()\n",
    "K2_UVX_CL.apply_map(lambda tmp: tmp.subs({eps:0}))\n",
    "K2_UVX_CL[:]"
   ]
  },
  {
   "cell_type": "code",
   "execution_count": 184,
   "id": "38562057",
   "metadata": {},
   "outputs": [
    {
     "data": {
      "text/html": [
       "<html>\\(\\displaystyle \\left[\\frac{1}{2} \\, m \\cos\\left(\\Phi_{0}\\right), -\\frac{X_{\\mathit{2c}}^{2} m \\cos\\left(\\Phi_{0}\\right)}{4 \\, U_{c}^{2}} - \\frac{{\\left(3 \\, U_{c} V_{c} X_{\\mathit{2c}} \\sin\\left(\\Phi_{0}\\right) - 5 \\, X_{\\mathit{2c}}^{3} \\sin\\left(\\Phi_{0}\\right)\\right)} \\epsilon m^{2}}{6 \\, U_{c}^{3}} - \\frac{\\cos\\left(\\Phi_{0}\\right)}{\\epsilon^{2} m}, 0, -\\frac{{\\left(U_{c} V_{c} \\sin\\left(\\Phi_{0}\\right) - 2 \\, X_{\\mathit{2c}}^{2} \\sin\\left(\\Phi_{0}\\right)\\right)} \\epsilon m^{2}}{2 \\, U_{c}^{2}} - \\frac{X_{\\mathit{2c}} m \\cos\\left(\\Phi_{0}\\right)}{2 \\, U_{c}} - \\frac{\\sin\\left(\\Phi_{0}\\right)}{\\epsilon}\\right]\\)</html>"
      ],
      "text/latex": [
       "$\\displaystyle \\left[\\frac{1}{2} \\, m \\cos\\left(\\Phi_{0}\\right), -\\frac{X_{\\mathit{2c}}^{2} m \\cos\\left(\\Phi_{0}\\right)}{4 \\, U_{c}^{2}} - \\frac{{\\left(3 \\, U_{c} V_{c} X_{\\mathit{2c}} \\sin\\left(\\Phi_{0}\\right) - 5 \\, X_{\\mathit{2c}}^{3} \\sin\\left(\\Phi_{0}\\right)\\right)} \\epsilon m^{2}}{6 \\, U_{c}^{3}} - \\frac{\\cos\\left(\\Phi_{0}\\right)}{\\epsilon^{2} m}, 0, -\\frac{{\\left(U_{c} V_{c} \\sin\\left(\\Phi_{0}\\right) - 2 \\, X_{\\mathit{2c}}^{2} \\sin\\left(\\Phi_{0}\\right)\\right)} \\epsilon m^{2}}{2 \\, U_{c}^{2}} - \\frac{X_{\\mathit{2c}} m \\cos\\left(\\Phi_{0}\\right)}{2 \\, U_{c}} - \\frac{\\sin\\left(\\Phi_{0}\\right)}{\\epsilon}\\right]$"
      ],
      "text/plain": [
       "[1/2*m*cos(Phi_0),\n",
       " -1/4*X_2c^2*m*cos(Phi_0)/U_c^2 - 1/6*(3*U_c*V_c*X_2c*sin(Phi_0) - 5*X_2c^3*sin(Phi_0))*epsilon*m^2/U_c^3 - cos(Phi_0)/(epsilon^2*m),\n",
       " 0,\n",
       " -1/2*(U_c*V_c*sin(Phi_0) - 2*X_2c^2*sin(Phi_0))*epsilon*m^2/U_c^2 - 1/2*X_2c*m*cos(Phi_0)/U_c - sin(Phi_0)/epsilon]"
      ]
     },
     "execution_count": 184,
     "metadata": {},
     "output_type": "execute_result"
    }
   ],
   "source": [
    "T1_UVX[:]"
   ]
  },
  {
   "cell_type": "code",
   "execution_count": 185,
   "id": "12271557",
   "metadata": {},
   "outputs": [
    {
     "data": {
      "text/html": [
       "<html>\\(\\displaystyle \\left[\\frac{1}{2} \\, m \\sin\\left(\\Phi_{0}\\right), -\\frac{X_{\\mathit{2c}}^{2} m \\sin\\left(\\Phi_{0}\\right)}{4 \\, U_{c}^{2}} + \\frac{{\\left(3 \\, U_{c} V_{c} X_{\\mathit{2c}} \\cos\\left(\\Phi_{0}\\right) - 5 \\, X_{\\mathit{2c}}^{3} \\cos\\left(\\Phi_{0}\\right)\\right)} \\epsilon m^{2}}{6 \\, U_{c}^{3}} - \\frac{\\sin\\left(\\Phi_{0}\\right)}{\\epsilon^{2} m}, 0, \\frac{{\\left(U_{c} V_{c} \\cos\\left(\\Phi_{0}\\right) - 2 \\, X_{\\mathit{2c}}^{2} \\cos\\left(\\Phi_{0}\\right)\\right)} \\epsilon m^{2}}{2 \\, U_{c}^{2}} - \\frac{X_{\\mathit{2c}} m \\sin\\left(\\Phi_{0}\\right)}{2 \\, U_{c}} + \\frac{\\cos\\left(\\Phi_{0}\\right)}{\\epsilon}\\right]\\)</html>"
      ],
      "text/latex": [
       "$\\displaystyle \\left[\\frac{1}{2} \\, m \\sin\\left(\\Phi_{0}\\right), -\\frac{X_{\\mathit{2c}}^{2} m \\sin\\left(\\Phi_{0}\\right)}{4 \\, U_{c}^{2}} + \\frac{{\\left(3 \\, U_{c} V_{c} X_{\\mathit{2c}} \\cos\\left(\\Phi_{0}\\right) - 5 \\, X_{\\mathit{2c}}^{3} \\cos\\left(\\Phi_{0}\\right)\\right)} \\epsilon m^{2}}{6 \\, U_{c}^{3}} - \\frac{\\sin\\left(\\Phi_{0}\\right)}{\\epsilon^{2} m}, 0, \\frac{{\\left(U_{c} V_{c} \\cos\\left(\\Phi_{0}\\right) - 2 \\, X_{\\mathit{2c}}^{2} \\cos\\left(\\Phi_{0}\\right)\\right)} \\epsilon m^{2}}{2 \\, U_{c}^{2}} - \\frac{X_{\\mathit{2c}} m \\sin\\left(\\Phi_{0}\\right)}{2 \\, U_{c}} + \\frac{\\cos\\left(\\Phi_{0}\\right)}{\\epsilon}\\right]$"
      ],
      "text/plain": [
       "[1/2*m*sin(Phi_0),\n",
       " -1/4*X_2c^2*m*sin(Phi_0)/U_c^2 + 1/6*(3*U_c*V_c*X_2c*cos(Phi_0) - 5*X_2c^3*cos(Phi_0))*epsilon*m^2/U_c^3 - sin(Phi_0)/(epsilon^2*m),\n",
       " 0,\n",
       " 1/2*(U_c*V_c*cos(Phi_0) - 2*X_2c^2*cos(Phi_0))*epsilon*m^2/U_c^2 - 1/2*X_2c*m*sin(Phi_0)/U_c + cos(Phi_0)/epsilon]"
      ]
     },
     "execution_count": 185,
     "metadata": {},
     "output_type": "execute_result"
    }
   ],
   "source": [
    "T2_UVX[:]"
   ]
  },
  {
   "cell_type": "code",
   "execution_count": 187,
   "id": "fd2d2cf1",
   "metadata": {},
   "outputs": [
    {
     "data": {
      "text/html": [
       "<html>\\(\\displaystyle \\left[0, -\\frac{{\\left(3 \\, U_{c} V_{c} X_{\\mathit{2c}} - 5 \\, X_{\\mathit{2c}}^{3}\\right)} \\epsilon m^{2}}{6 \\, U_{c}^{3}}, 0, -\\frac{{\\left(U_{c} V_{c} - 2 \\, X_{\\mathit{2c}}^{2}\\right)} \\epsilon^{2} m^{2} + 2 \\, U_{c}^{2}}{2 \\, U_{c}^{2} \\epsilon}\\right]\\)</html>"
      ],
      "text/latex": [
       "$\\displaystyle \\left[0, -\\frac{{\\left(3 \\, U_{c} V_{c} X_{\\mathit{2c}} - 5 \\, X_{\\mathit{2c}}^{3}\\right)} \\epsilon m^{2}}{6 \\, U_{c}^{3}}, 0, -\\frac{{\\left(U_{c} V_{c} - 2 \\, X_{\\mathit{2c}}^{2}\\right)} \\epsilon^{2} m^{2} + 2 \\, U_{c}^{2}}{2 \\, U_{c}^{2} \\epsilon}\\right]$"
      ],
      "text/plain": [
       "[0,\n",
       " -1/6*(3*U_c*V_c*X_2c - 5*X_2c^3)*epsilon*m^2/U_c^3,\n",
       " 0,\n",
       " -1/2*((U_c*V_c - 2*X_2c^2)*epsilon^2*m^2 + 2*U_c^2)/(U_c^2*epsilon)]"
      ]
     },
     "execution_count": 187,
     "metadata": {},
     "output_type": "execute_result"
    }
   ],
   "source": [
    "T2bar = T1_UVX*sin(ph_init) - T2_UVX*cos(ph_init)\n",
    "T2bar[:]"
   ]
  },
  {
   "cell_type": "code",
   "execution_count": 188,
   "id": "24aefe95",
   "metadata": {},
   "outputs": [
    {
     "data": {
      "text/html": [
       "<html>\\(\\displaystyle \\left[0, -\\frac{{\\left(3 \\, U_{c} V_{c} X_{\\mathit{2c}} - 5 \\, X_{\\mathit{2c}}^{3}\\right)} \\epsilon^{2} m^{2}}{6 \\, U_{c}^{3}}, 0, -\\frac{{\\left(U_{c} V_{c} - 2 \\, X_{\\mathit{2c}}^{2}\\right)} \\epsilon^{2} m^{2} + 2 \\, U_{c}^{2}}{2 \\, U_{c}^{2}}\\right]\\)</html>"
      ],
      "text/latex": [
       "$\\displaystyle \\left[0, -\\frac{{\\left(3 \\, U_{c} V_{c} X_{\\mathit{2c}} - 5 \\, X_{\\mathit{2c}}^{3}\\right)} \\epsilon^{2} m^{2}}{6 \\, U_{c}^{3}}, 0, -\\frac{{\\left(U_{c} V_{c} - 2 \\, X_{\\mathit{2c}}^{2}\\right)} \\epsilon^{2} m^{2} + 2 \\, U_{c}^{2}}{2 \\, U_{c}^{2}}\\right]$"
      ],
      "text/plain": [
       "[0,\n",
       " -1/6*(3*U_c*V_c*X_2c - 5*X_2c^3)*epsilon^2*m^2/U_c^3,\n",
       " 0,\n",
       " -1/2*((U_c*V_c - 2*X_2c^2)*epsilon^2*m^2 + 2*U_c^2)/U_c^2]"
      ]
     },
     "execution_count": 188,
     "metadata": {},
     "output_type": "execute_result"
    }
   ],
   "source": [
    "T2bar_eps = T2bar*eps\n",
    "T2bar_eps[:]"
   ]
  },
  {
   "cell_type": "code",
   "execution_count": 189,
   "id": "9f8598f7",
   "metadata": {},
   "outputs": [
    {
     "data": {
      "text/html": [
       "<html>\\(\\displaystyle \\left[0, 0, 0, -1\\right]\\)</html>"
      ],
      "text/latex": [
       "$\\displaystyle \\left[0, 0, 0, -1\\right]$"
      ],
      "text/plain": [
       "[0, 0, 0, -1]"
      ]
     },
     "execution_count": 189,
     "metadata": {},
     "output_type": "execute_result"
    }
   ],
   "source": [
    "T2bar_CL = T2bar_eps.copy()\n",
    "T2bar_CL.apply_map(lambda tmp: tmp.subs({eps:0}))\n",
    "T2bar_CL[:]"
   ]
  },
  {
   "cell_type": "code",
   "execution_count": 190,
   "id": "d9c02db7",
   "metadata": {},
   "outputs": [
    {
     "data": {
      "text/html": [
       "<html>\\(\\displaystyle \\left[\\frac{2 \\, U_{c}^{2} m}{X_{\\mathit{2c}}^{2} \\epsilon^{2} m^{2} + 4 \\, U_{c}^{2}}, \\frac{2 \\, {\\left(X_{\\mathit{2c}}^{2} \\epsilon^{2} m^{2} + 2 \\, U_{c}^{2}\\right)}}{{\\left(X_{\\mathit{2c}}^{2} \\epsilon^{2} m^{2} + 4 \\, U_{c}^{2}\\right)} \\epsilon^{2} m}, 0, \\frac{2 \\, U_{c} X_{\\mathit{2c}} m}{X_{\\mathit{2c}}^{2} \\epsilon^{2} m^{2} + 4 \\, U_{c}^{2}}\\right]\\)</html>"
      ],
      "text/latex": [
       "$\\displaystyle \\left[\\frac{2 \\, U_{c}^{2} m}{X_{\\mathit{2c}}^{2} \\epsilon^{2} m^{2} + 4 \\, U_{c}^{2}}, \\frac{2 \\, {\\left(X_{\\mathit{2c}}^{2} \\epsilon^{2} m^{2} + 2 \\, U_{c}^{2}\\right)}}{{\\left(X_{\\mathit{2c}}^{2} \\epsilon^{2} m^{2} + 4 \\, U_{c}^{2}\\right)} \\epsilon^{2} m}, 0, \\frac{2 \\, U_{c} X_{\\mathit{2c}} m}{X_{\\mathit{2c}}^{2} \\epsilon^{2} m^{2} + 4 \\, U_{c}^{2}}\\right]$"
      ],
      "text/plain": [
       "[2*U_c^2*m/(X_2c^2*epsilon^2*m^2 + 4*U_c^2),\n",
       " 2*(X_2c^2*epsilon^2*m^2 + 2*U_c^2)/((X_2c^2*epsilon^2*m^2 + 4*U_c^2)*epsilon^2*m),\n",
       " 0,\n",
       " 2*U_c*X_2c*m/(X_2c^2*epsilon^2*m^2 + 4*U_c^2)]"
      ]
     },
     "execution_count": 190,
     "metadata": {},
     "output_type": "execute_result"
    }
   ],
   "source": [
    "T0_UVX[:]"
   ]
  },
  {
   "cell_type": "code",
   "execution_count": 194,
   "id": "0d9ebcb2",
   "metadata": {},
   "outputs": [
    {
     "data": {
      "text/html": [
       "<html>\\(\\displaystyle \\left[\\frac{X_{\\mathit{2c}}^{2} \\epsilon^{2} m^{3} \\cos\\left(\\Phi_{0}\\right) + 8 \\, U_{c}^{2} m \\cos\\left(\\Phi_{0}\\right)}{2 \\, {\\left(X_{\\mathit{2c}}^{2} \\epsilon^{2} m^{2} + 4 \\, U_{c}^{2}\\right)}}, -\\frac{3 \\, U_{c} X_{\\mathit{2c}}^{4} \\epsilon^{2} m^{3} \\cos\\left(\\Phi_{0}\\right) + 2 \\, {\\left(3 \\, U_{c} V_{c} X_{\\mathit{2c}}^{3} \\sin\\left(\\Phi_{0}\\right) - 5 \\, X_{\\mathit{2c}}^{5} \\sin\\left(\\Phi_{0}\\right)\\right)} \\epsilon^{3} m^{4} + 8 \\, {\\left(3 \\, U_{c}^{3} V_{c} X_{\\mathit{2c}} \\sin\\left(\\Phi_{0}\\right) - 5 \\, U_{c}^{2} X_{\\mathit{2c}}^{3} \\sin\\left(\\Phi_{0}\\right)\\right)} \\epsilon m^{2}}{12 \\, {\\left(U_{c}^{3} X_{\\mathit{2c}}^{2} \\epsilon^{2} m^{2} + 4 \\, U_{c}^{5}\\right)}}, 0, -\\frac{U_{c} X_{\\mathit{2c}}^{3} \\epsilon^{3} m^{3} \\cos\\left(\\Phi_{0}\\right) + {\\left(U_{c} V_{c} X_{\\mathit{2c}}^{2} \\sin\\left(\\Phi_{0}\\right) - 2 \\, X_{\\mathit{2c}}^{4} \\sin\\left(\\Phi_{0}\\right)\\right)} \\epsilon^{4} m^{4} + 2 \\, {\\left(2 \\, U_{c}^{3} V_{c} \\sin\\left(\\Phi_{0}\\right) - 3 \\, U_{c}^{2} X_{\\mathit{2c}}^{2} \\sin\\left(\\Phi_{0}\\right)\\right)} \\epsilon^{2} m^{2} + 8 \\, U_{c}^{4} \\sin\\left(\\Phi_{0}\\right)}{2 \\, {\\left(U_{c}^{2} X_{\\mathit{2c}}^{2} \\epsilon^{3} m^{2} + 4 \\, U_{c}^{4} \\epsilon\\right)}}\\right]\\)</html>"
      ],
      "text/latex": [
       "$\\displaystyle \\left[\\frac{X_{\\mathit{2c}}^{2} \\epsilon^{2} m^{3} \\cos\\left(\\Phi_{0}\\right) + 8 \\, U_{c}^{2} m \\cos\\left(\\Phi_{0}\\right)}{2 \\, {\\left(X_{\\mathit{2c}}^{2} \\epsilon^{2} m^{2} + 4 \\, U_{c}^{2}\\right)}}, -\\frac{3 \\, U_{c} X_{\\mathit{2c}}^{4} \\epsilon^{2} m^{3} \\cos\\left(\\Phi_{0}\\right) + 2 \\, {\\left(3 \\, U_{c} V_{c} X_{\\mathit{2c}}^{3} \\sin\\left(\\Phi_{0}\\right) - 5 \\, X_{\\mathit{2c}}^{5} \\sin\\left(\\Phi_{0}\\right)\\right)} \\epsilon^{3} m^{4} + 8 \\, {\\left(3 \\, U_{c}^{3} V_{c} X_{\\mathit{2c}} \\sin\\left(\\Phi_{0}\\right) - 5 \\, U_{c}^{2} X_{\\mathit{2c}}^{3} \\sin\\left(\\Phi_{0}\\right)\\right)} \\epsilon m^{2}}{12 \\, {\\left(U_{c}^{3} X_{\\mathit{2c}}^{2} \\epsilon^{2} m^{2} + 4 \\, U_{c}^{5}\\right)}}, 0, -\\frac{U_{c} X_{\\mathit{2c}}^{3} \\epsilon^{3} m^{3} \\cos\\left(\\Phi_{0}\\right) + {\\left(U_{c} V_{c} X_{\\mathit{2c}}^{2} \\sin\\left(\\Phi_{0}\\right) - 2 \\, X_{\\mathit{2c}}^{4} \\sin\\left(\\Phi_{0}\\right)\\right)} \\epsilon^{4} m^{4} + 2 \\, {\\left(2 \\, U_{c}^{3} V_{c} \\sin\\left(\\Phi_{0}\\right) - 3 \\, U_{c}^{2} X_{\\mathit{2c}}^{2} \\sin\\left(\\Phi_{0}\\right)\\right)} \\epsilon^{2} m^{2} + 8 \\, U_{c}^{4} \\sin\\left(\\Phi_{0}\\right)}{2 \\, {\\left(U_{c}^{2} X_{\\mathit{2c}}^{2} \\epsilon^{3} m^{2} + 4 \\, U_{c}^{4} \\epsilon\\right)}}\\right]$"
      ],
      "text/plain": [
       "[1/2*(X_2c^2*epsilon^2*m^3*cos(Phi_0) + 8*U_c^2*m*cos(Phi_0))/(X_2c^2*epsilon^2*m^2 + 4*U_c^2),\n",
       " -1/12*(3*U_c*X_2c^4*epsilon^2*m^3*cos(Phi_0) + 2*(3*U_c*V_c*X_2c^3*sin(Phi_0) - 5*X_2c^5*sin(Phi_0))*epsilon^3*m^4 + 8*(3*U_c^3*V_c*X_2c*sin(Phi_0) - 5*U_c^2*X_2c^3*sin(Phi_0))*epsilon*m^2)/(U_c^3*X_2c^2*epsilon^2*m^2 + 4*U_c^5),\n",
       " 0,\n",
       " -1/2*(U_c*X_2c^3*epsilon^3*m^3*cos(Phi_0) + (U_c*V_c*X_2c^2*sin(Phi_0) - 2*X_2c^4*sin(Phi_0))*epsilon^4*m^4 + 2*(2*U_c^3*V_c*sin(Phi_0) - 3*U_c^2*X_2c^2*sin(Phi_0))*epsilon^2*m^2 + 8*U_c^4*sin(Phi_0))/(U_c^2*X_2c^2*epsilon^3*m^2 + 4*U_c^4*epsilon)]"
      ]
     },
     "execution_count": 194,
     "metadata": {},
     "output_type": "execute_result"
    }
   ],
   "source": [
    "T01bar = T0_UVX*cos(ph_init) + T1_UVX\n",
    "T01bar[:]"
   ]
  },
  {
   "cell_type": "code",
   "execution_count": 195,
   "id": "858f4e91",
   "metadata": {},
   "outputs": [
    {
     "data": {
      "text/html": [
       "<html>\\(\\displaystyle \\left[\\frac{X_{\\mathit{2c}}^{2} \\epsilon^{3} m^{3} \\cos\\left(\\Phi_{0}\\right) + 8 \\, U_{c}^{2} \\epsilon m \\cos\\left(\\Phi_{0}\\right)}{2 \\, {\\left(X_{\\mathit{2c}}^{2} \\epsilon^{2} m^{2} + 4 \\, U_{c}^{2}\\right)}}, -\\frac{3 \\, U_{c} X_{\\mathit{2c}}^{4} \\epsilon^{3} m^{3} \\cos\\left(\\Phi_{0}\\right) + 2 \\, {\\left(3 \\, U_{c} V_{c} X_{\\mathit{2c}}^{3} \\sin\\left(\\Phi_{0}\\right) - 5 \\, X_{\\mathit{2c}}^{5} \\sin\\left(\\Phi_{0}\\right)\\right)} \\epsilon^{4} m^{4} + 8 \\, {\\left(3 \\, U_{c}^{3} V_{c} X_{\\mathit{2c}} \\sin\\left(\\Phi_{0}\\right) - 5 \\, U_{c}^{2} X_{\\mathit{2c}}^{3} \\sin\\left(\\Phi_{0}\\right)\\right)} \\epsilon^{2} m^{2}}{12 \\, {\\left(U_{c}^{3} X_{\\mathit{2c}}^{2} \\epsilon^{2} m^{2} + 4 \\, U_{c}^{5}\\right)}}, 0, -\\frac{U_{c} X_{\\mathit{2c}}^{3} \\epsilon^{3} m^{3} \\cos\\left(\\Phi_{0}\\right) + {\\left(U_{c} V_{c} X_{\\mathit{2c}}^{2} \\sin\\left(\\Phi_{0}\\right) - 2 \\, X_{\\mathit{2c}}^{4} \\sin\\left(\\Phi_{0}\\right)\\right)} \\epsilon^{4} m^{4} + 2 \\, {\\left(2 \\, U_{c}^{3} V_{c} \\sin\\left(\\Phi_{0}\\right) - 3 \\, U_{c}^{2} X_{\\mathit{2c}}^{2} \\sin\\left(\\Phi_{0}\\right)\\right)} \\epsilon^{2} m^{2} + 8 \\, U_{c}^{4} \\sin\\left(\\Phi_{0}\\right)}{2 \\, {\\left(U_{c}^{2} X_{\\mathit{2c}}^{2} \\epsilon^{2} m^{2} + 4 \\, U_{c}^{4}\\right)}}\\right]\\)</html>"
      ],
      "text/latex": [
       "$\\displaystyle \\left[\\frac{X_{\\mathit{2c}}^{2} \\epsilon^{3} m^{3} \\cos\\left(\\Phi_{0}\\right) + 8 \\, U_{c}^{2} \\epsilon m \\cos\\left(\\Phi_{0}\\right)}{2 \\, {\\left(X_{\\mathit{2c}}^{2} \\epsilon^{2} m^{2} + 4 \\, U_{c}^{2}\\right)}}, -\\frac{3 \\, U_{c} X_{\\mathit{2c}}^{4} \\epsilon^{3} m^{3} \\cos\\left(\\Phi_{0}\\right) + 2 \\, {\\left(3 \\, U_{c} V_{c} X_{\\mathit{2c}}^{3} \\sin\\left(\\Phi_{0}\\right) - 5 \\, X_{\\mathit{2c}}^{5} \\sin\\left(\\Phi_{0}\\right)\\right)} \\epsilon^{4} m^{4} + 8 \\, {\\left(3 \\, U_{c}^{3} V_{c} X_{\\mathit{2c}} \\sin\\left(\\Phi_{0}\\right) - 5 \\, U_{c}^{2} X_{\\mathit{2c}}^{3} \\sin\\left(\\Phi_{0}\\right)\\right)} \\epsilon^{2} m^{2}}{12 \\, {\\left(U_{c}^{3} X_{\\mathit{2c}}^{2} \\epsilon^{2} m^{2} + 4 \\, U_{c}^{5}\\right)}}, 0, -\\frac{U_{c} X_{\\mathit{2c}}^{3} \\epsilon^{3} m^{3} \\cos\\left(\\Phi_{0}\\right) + {\\left(U_{c} V_{c} X_{\\mathit{2c}}^{2} \\sin\\left(\\Phi_{0}\\right) - 2 \\, X_{\\mathit{2c}}^{4} \\sin\\left(\\Phi_{0}\\right)\\right)} \\epsilon^{4} m^{4} + 2 \\, {\\left(2 \\, U_{c}^{3} V_{c} \\sin\\left(\\Phi_{0}\\right) - 3 \\, U_{c}^{2} X_{\\mathit{2c}}^{2} \\sin\\left(\\Phi_{0}\\right)\\right)} \\epsilon^{2} m^{2} + 8 \\, U_{c}^{4} \\sin\\left(\\Phi_{0}\\right)}{2 \\, {\\left(U_{c}^{2} X_{\\mathit{2c}}^{2} \\epsilon^{2} m^{2} + 4 \\, U_{c}^{4}\\right)}}\\right]$"
      ],
      "text/plain": [
       "[1/2*(X_2c^2*epsilon^3*m^3*cos(Phi_0) + 8*U_c^2*epsilon*m*cos(Phi_0))/(X_2c^2*epsilon^2*m^2 + 4*U_c^2),\n",
       " -1/12*(3*U_c*X_2c^4*epsilon^3*m^3*cos(Phi_0) + 2*(3*U_c*V_c*X_2c^3*sin(Phi_0) - 5*X_2c^5*sin(Phi_0))*epsilon^4*m^4 + 8*(3*U_c^3*V_c*X_2c*sin(Phi_0) - 5*U_c^2*X_2c^3*sin(Phi_0))*epsilon^2*m^2)/(U_c^3*X_2c^2*epsilon^2*m^2 + 4*U_c^5),\n",
       " 0,\n",
       " -1/2*(U_c*X_2c^3*epsilon^3*m^3*cos(Phi_0) + (U_c*V_c*X_2c^2*sin(Phi_0) - 2*X_2c^4*sin(Phi_0))*epsilon^4*m^4 + 2*(2*U_c^3*V_c*sin(Phi_0) - 3*U_c^2*X_2c^2*sin(Phi_0))*epsilon^2*m^2 + 8*U_c^4*sin(Phi_0))/(U_c^2*X_2c^2*epsilon^2*m^2 + 4*U_c^4)]"
      ]
     },
     "execution_count": 195,
     "metadata": {},
     "output_type": "execute_result"
    }
   ],
   "source": [
    "T01bar_eps = T1bar*eps\n",
    "T01bar_eps[:]"
   ]
  },
  {
   "cell_type": "code",
   "execution_count": 196,
   "id": "19bb4f83",
   "metadata": {},
   "outputs": [
    {
     "data": {
      "text/html": [
       "<html>\\(\\displaystyle \\left[0, 0, 0, -\\sin\\left(\\Phi_{0}\\right)\\right]\\)</html>"
      ],
      "text/latex": [
       "$\\displaystyle \\left[0, 0, 0, -\\sin\\left(\\Phi_{0}\\right)\\right]$"
      ],
      "text/plain": [
       "[0, 0, 0, -sin(Phi_0)]"
      ]
     },
     "execution_count": 196,
     "metadata": {},
     "output_type": "execute_result"
    }
   ],
   "source": [
    "T01bar_CL = T1bar_eps.copy()\n",
    "T01bar_CL.apply_map(lambda tmp: tmp.subs({eps:0}))\n",
    "T01bar_CL[:]"
   ]
  },
  {
   "cell_type": "code",
   "execution_count": 197,
   "id": "702ac216",
   "metadata": {},
   "outputs": [
    {
     "data": {
      "text/html": [
       "<html>\\(\\displaystyle \\left[\\frac{X_{\\mathit{2c}}^{2} \\epsilon^{2} m^{3} \\sin\\left(\\Phi_{0}\\right) + 8 \\, U_{c}^{2} m \\sin\\left(\\Phi_{0}\\right)}{2 \\, {\\left(X_{\\mathit{2c}}^{2} \\epsilon^{2} m^{2} + 4 \\, U_{c}^{2}\\right)}}, -\\frac{3 \\, U_{c} X_{\\mathit{2c}}^{4} \\epsilon^{2} m^{3} \\sin\\left(\\Phi_{0}\\right) - 2 \\, {\\left(3 \\, U_{c} V_{c} X_{\\mathit{2c}}^{3} \\cos\\left(\\Phi_{0}\\right) - 5 \\, X_{\\mathit{2c}}^{5} \\cos\\left(\\Phi_{0}\\right)\\right)} \\epsilon^{3} m^{4} - 8 \\, {\\left(3 \\, U_{c}^{3} V_{c} X_{\\mathit{2c}} \\cos\\left(\\Phi_{0}\\right) - 5 \\, U_{c}^{2} X_{\\mathit{2c}}^{3} \\cos\\left(\\Phi_{0}\\right)\\right)} \\epsilon m^{2}}{12 \\, {\\left(U_{c}^{3} X_{\\mathit{2c}}^{2} \\epsilon^{2} m^{2} + 4 \\, U_{c}^{5}\\right)}}, 0, -\\frac{U_{c} X_{\\mathit{2c}}^{3} \\epsilon^{3} m^{3} \\sin\\left(\\Phi_{0}\\right) - {\\left(U_{c} V_{c} X_{\\mathit{2c}}^{2} \\cos\\left(\\Phi_{0}\\right) - 2 \\, X_{\\mathit{2c}}^{4} \\cos\\left(\\Phi_{0}\\right)\\right)} \\epsilon^{4} m^{4} - 2 \\, {\\left(2 \\, U_{c}^{3} V_{c} \\cos\\left(\\Phi_{0}\\right) - 3 \\, U_{c}^{2} X_{\\mathit{2c}}^{2} \\cos\\left(\\Phi_{0}\\right)\\right)} \\epsilon^{2} m^{2} - 8 \\, U_{c}^{4} \\cos\\left(\\Phi_{0}\\right)}{2 \\, {\\left(U_{c}^{2} X_{\\mathit{2c}}^{2} \\epsilon^{3} m^{2} + 4 \\, U_{c}^{4} \\epsilon\\right)}}\\right]\\)</html>"
      ],
      "text/latex": [
       "$\\displaystyle \\left[\\frac{X_{\\mathit{2c}}^{2} \\epsilon^{2} m^{3} \\sin\\left(\\Phi_{0}\\right) + 8 \\, U_{c}^{2} m \\sin\\left(\\Phi_{0}\\right)}{2 \\, {\\left(X_{\\mathit{2c}}^{2} \\epsilon^{2} m^{2} + 4 \\, U_{c}^{2}\\right)}}, -\\frac{3 \\, U_{c} X_{\\mathit{2c}}^{4} \\epsilon^{2} m^{3} \\sin\\left(\\Phi_{0}\\right) - 2 \\, {\\left(3 \\, U_{c} V_{c} X_{\\mathit{2c}}^{3} \\cos\\left(\\Phi_{0}\\right) - 5 \\, X_{\\mathit{2c}}^{5} \\cos\\left(\\Phi_{0}\\right)\\right)} \\epsilon^{3} m^{4} - 8 \\, {\\left(3 \\, U_{c}^{3} V_{c} X_{\\mathit{2c}} \\cos\\left(\\Phi_{0}\\right) - 5 \\, U_{c}^{2} X_{\\mathit{2c}}^{3} \\cos\\left(\\Phi_{0}\\right)\\right)} \\epsilon m^{2}}{12 \\, {\\left(U_{c}^{3} X_{\\mathit{2c}}^{2} \\epsilon^{2} m^{2} + 4 \\, U_{c}^{5}\\right)}}, 0, -\\frac{U_{c} X_{\\mathit{2c}}^{3} \\epsilon^{3} m^{3} \\sin\\left(\\Phi_{0}\\right) - {\\left(U_{c} V_{c} X_{\\mathit{2c}}^{2} \\cos\\left(\\Phi_{0}\\right) - 2 \\, X_{\\mathit{2c}}^{4} \\cos\\left(\\Phi_{0}\\right)\\right)} \\epsilon^{4} m^{4} - 2 \\, {\\left(2 \\, U_{c}^{3} V_{c} \\cos\\left(\\Phi_{0}\\right) - 3 \\, U_{c}^{2} X_{\\mathit{2c}}^{2} \\cos\\left(\\Phi_{0}\\right)\\right)} \\epsilon^{2} m^{2} - 8 \\, U_{c}^{4} \\cos\\left(\\Phi_{0}\\right)}{2 \\, {\\left(U_{c}^{2} X_{\\mathit{2c}}^{2} \\epsilon^{3} m^{2} + 4 \\, U_{c}^{4} \\epsilon\\right)}}\\right]$"
      ],
      "text/plain": [
       "[1/2*(X_2c^2*epsilon^2*m^3*sin(Phi_0) + 8*U_c^2*m*sin(Phi_0))/(X_2c^2*epsilon^2*m^2 + 4*U_c^2),\n",
       " -1/12*(3*U_c*X_2c^4*epsilon^2*m^3*sin(Phi_0) - 2*(3*U_c*V_c*X_2c^3*cos(Phi_0) - 5*X_2c^5*cos(Phi_0))*epsilon^3*m^4 - 8*(3*U_c^3*V_c*X_2c*cos(Phi_0) - 5*U_c^2*X_2c^3*cos(Phi_0))*epsilon*m^2)/(U_c^3*X_2c^2*epsilon^2*m^2 + 4*U_c^5),\n",
       " 0,\n",
       " -1/2*(U_c*X_2c^3*epsilon^3*m^3*sin(Phi_0) - (U_c*V_c*X_2c^2*cos(Phi_0) - 2*X_2c^4*cos(Phi_0))*epsilon^4*m^4 - 2*(2*U_c^3*V_c*cos(Phi_0) - 3*U_c^2*X_2c^2*cos(Phi_0))*epsilon^2*m^2 - 8*U_c^4*cos(Phi_0))/(U_c^2*X_2c^2*epsilon^3*m^2 + 4*U_c^4*epsilon)]"
      ]
     },
     "execution_count": 197,
     "metadata": {},
     "output_type": "execute_result"
    }
   ],
   "source": [
    "T02bar = T0_UVX*sin(ph_init) + T2_UVX\n",
    "T02bar[:]"
   ]
  },
  {
   "cell_type": "code",
   "execution_count": 198,
   "id": "07d2263c",
   "metadata": {},
   "outputs": [
    {
     "data": {
      "text/html": [
       "<html>\\(\\displaystyle \\left[\\frac{X_{\\mathit{2c}}^{2} \\epsilon^{3} m^{3} \\sin\\left(\\Phi_{0}\\right) + 8 \\, U_{c}^{2} \\epsilon m \\sin\\left(\\Phi_{0}\\right)}{2 \\, {\\left(X_{\\mathit{2c}}^{2} \\epsilon^{2} m^{2} + 4 \\, U_{c}^{2}\\right)}}, -\\frac{3 \\, U_{c} X_{\\mathit{2c}}^{4} \\epsilon^{3} m^{3} \\sin\\left(\\Phi_{0}\\right) - 2 \\, {\\left(3 \\, U_{c} V_{c} X_{\\mathit{2c}}^{3} \\cos\\left(\\Phi_{0}\\right) - 5 \\, X_{\\mathit{2c}}^{5} \\cos\\left(\\Phi_{0}\\right)\\right)} \\epsilon^{4} m^{4} - 8 \\, {\\left(3 \\, U_{c}^{3} V_{c} X_{\\mathit{2c}} \\cos\\left(\\Phi_{0}\\right) - 5 \\, U_{c}^{2} X_{\\mathit{2c}}^{3} \\cos\\left(\\Phi_{0}\\right)\\right)} \\epsilon^{2} m^{2}}{12 \\, {\\left(U_{c}^{3} X_{\\mathit{2c}}^{2} \\epsilon^{2} m^{2} + 4 \\, U_{c}^{5}\\right)}}, 0, -\\frac{U_{c} X_{\\mathit{2c}}^{3} \\epsilon^{3} m^{3} \\sin\\left(\\Phi_{0}\\right) - {\\left(U_{c} V_{c} X_{\\mathit{2c}}^{2} \\cos\\left(\\Phi_{0}\\right) - 2 \\, X_{\\mathit{2c}}^{4} \\cos\\left(\\Phi_{0}\\right)\\right)} \\epsilon^{4} m^{4} - 2 \\, {\\left(2 \\, U_{c}^{3} V_{c} \\cos\\left(\\Phi_{0}\\right) - 3 \\, U_{c}^{2} X_{\\mathit{2c}}^{2} \\cos\\left(\\Phi_{0}\\right)\\right)} \\epsilon^{2} m^{2} - 8 \\, U_{c}^{4} \\cos\\left(\\Phi_{0}\\right)}{2 \\, {\\left(U_{c}^{2} X_{\\mathit{2c}}^{2} \\epsilon^{2} m^{2} + 4 \\, U_{c}^{4}\\right)}}\\right]\\)</html>"
      ],
      "text/latex": [
       "$\\displaystyle \\left[\\frac{X_{\\mathit{2c}}^{2} \\epsilon^{3} m^{3} \\sin\\left(\\Phi_{0}\\right) + 8 \\, U_{c}^{2} \\epsilon m \\sin\\left(\\Phi_{0}\\right)}{2 \\, {\\left(X_{\\mathit{2c}}^{2} \\epsilon^{2} m^{2} + 4 \\, U_{c}^{2}\\right)}}, -\\frac{3 \\, U_{c} X_{\\mathit{2c}}^{4} \\epsilon^{3} m^{3} \\sin\\left(\\Phi_{0}\\right) - 2 \\, {\\left(3 \\, U_{c} V_{c} X_{\\mathit{2c}}^{3} \\cos\\left(\\Phi_{0}\\right) - 5 \\, X_{\\mathit{2c}}^{5} \\cos\\left(\\Phi_{0}\\right)\\right)} \\epsilon^{4} m^{4} - 8 \\, {\\left(3 \\, U_{c}^{3} V_{c} X_{\\mathit{2c}} \\cos\\left(\\Phi_{0}\\right) - 5 \\, U_{c}^{2} X_{\\mathit{2c}}^{3} \\cos\\left(\\Phi_{0}\\right)\\right)} \\epsilon^{2} m^{2}}{12 \\, {\\left(U_{c}^{3} X_{\\mathit{2c}}^{2} \\epsilon^{2} m^{2} + 4 \\, U_{c}^{5}\\right)}}, 0, -\\frac{U_{c} X_{\\mathit{2c}}^{3} \\epsilon^{3} m^{3} \\sin\\left(\\Phi_{0}\\right) - {\\left(U_{c} V_{c} X_{\\mathit{2c}}^{2} \\cos\\left(\\Phi_{0}\\right) - 2 \\, X_{\\mathit{2c}}^{4} \\cos\\left(\\Phi_{0}\\right)\\right)} \\epsilon^{4} m^{4} - 2 \\, {\\left(2 \\, U_{c}^{3} V_{c} \\cos\\left(\\Phi_{0}\\right) - 3 \\, U_{c}^{2} X_{\\mathit{2c}}^{2} \\cos\\left(\\Phi_{0}\\right)\\right)} \\epsilon^{2} m^{2} - 8 \\, U_{c}^{4} \\cos\\left(\\Phi_{0}\\right)}{2 \\, {\\left(U_{c}^{2} X_{\\mathit{2c}}^{2} \\epsilon^{2} m^{2} + 4 \\, U_{c}^{4}\\right)}}\\right]$"
      ],
      "text/plain": [
       "[1/2*(X_2c^2*epsilon^3*m^3*sin(Phi_0) + 8*U_c^2*epsilon*m*sin(Phi_0))/(X_2c^2*epsilon^2*m^2 + 4*U_c^2),\n",
       " -1/12*(3*U_c*X_2c^4*epsilon^3*m^3*sin(Phi_0) - 2*(3*U_c*V_c*X_2c^3*cos(Phi_0) - 5*X_2c^5*cos(Phi_0))*epsilon^4*m^4 - 8*(3*U_c^3*V_c*X_2c*cos(Phi_0) - 5*U_c^2*X_2c^3*cos(Phi_0))*epsilon^2*m^2)/(U_c^3*X_2c^2*epsilon^2*m^2 + 4*U_c^5),\n",
       " 0,\n",
       " -1/2*(U_c*X_2c^3*epsilon^3*m^3*sin(Phi_0) - (U_c*V_c*X_2c^2*cos(Phi_0) - 2*X_2c^4*cos(Phi_0))*epsilon^4*m^4 - 2*(2*U_c^3*V_c*cos(Phi_0) - 3*U_c^2*X_2c^2*cos(Phi_0))*epsilon^2*m^2 - 8*U_c^4*cos(Phi_0))/(U_c^2*X_2c^2*epsilon^2*m^2 + 4*U_c^4)]"
      ]
     },
     "execution_count": 198,
     "metadata": {},
     "output_type": "execute_result"
    }
   ],
   "source": [
    "T02bar_eps = T02bar*eps\n",
    "T02bar_eps[:]"
   ]
  },
  {
   "cell_type": "code",
   "execution_count": 199,
   "id": "ae6f048d",
   "metadata": {},
   "outputs": [
    {
     "data": {
      "text/html": [
       "<html>\\(\\displaystyle \\left[0, 0, 0, \\cos\\left(\\Phi_{0}\\right)\\right]\\)</html>"
      ],
      "text/latex": [
       "$\\displaystyle \\left[0, 0, 0, \\cos\\left(\\Phi_{0}\\right)\\right]$"
      ],
      "text/plain": [
       "[0, 0, 0, cos(Phi_0)]"
      ]
     },
     "execution_count": 199,
     "metadata": {},
     "output_type": "execute_result"
    }
   ],
   "source": [
    "T02bar_CL = T02bar_eps.copy()\n",
    "T02bar_CL.apply_map(lambda tmp: tmp.subs({eps:0}))\n",
    "T02bar_CL[:]"
   ]
  },
  {
   "cell_type": "code",
   "execution_count": 201,
   "id": "d86be2cf",
   "metadata": {},
   "outputs": [
    {
     "data": {
      "text/html": [
       "<html>\\(\\displaystyle \\left[\\frac{X_{\\mathit{2c}}^{2} \\epsilon^{2} m^{3} + 8 \\, U_{c}^{2} m}{2 \\, {\\left(X_{\\mathit{2c}}^{2} \\epsilon^{2} m^{2} + 4 \\, U_{c}^{2}\\right)}}, -\\frac{X_{\\mathit{2c}}^{4} \\epsilon^{2} m^{3}}{4 \\, {\\left(U_{c}^{2} X_{\\mathit{2c}}^{2} \\epsilon^{2} m^{2} + 4 \\, U_{c}^{4}\\right)}}, 0, -\\frac{X_{\\mathit{2c}}^{3} \\epsilon^{2} m^{3}}{2 \\, {\\left(U_{c} X_{\\mathit{2c}}^{2} \\epsilon^{2} m^{2} + 4 \\, U_{c}^{3}\\right)}}\\right]\\)</html>"
      ],
      "text/latex": [
       "$\\displaystyle \\left[\\frac{X_{\\mathit{2c}}^{2} \\epsilon^{2} m^{3} + 8 \\, U_{c}^{2} m}{2 \\, {\\left(X_{\\mathit{2c}}^{2} \\epsilon^{2} m^{2} + 4 \\, U_{c}^{2}\\right)}}, -\\frac{X_{\\mathit{2c}}^{4} \\epsilon^{2} m^{3}}{4 \\, {\\left(U_{c}^{2} X_{\\mathit{2c}}^{2} \\epsilon^{2} m^{2} + 4 \\, U_{c}^{4}\\right)}}, 0, -\\frac{X_{\\mathit{2c}}^{3} \\epsilon^{2} m^{3}}{2 \\, {\\left(U_{c} X_{\\mathit{2c}}^{2} \\epsilon^{2} m^{2} + 4 \\, U_{c}^{3}\\right)}}\\right]$"
      ],
      "text/plain": [
       "[1/2*(X_2c^2*epsilon^2*m^3 + 8*U_c^2*m)/(X_2c^2*epsilon^2*m^2 + 4*U_c^2),\n",
       " -1/4*X_2c^4*epsilon^2*m^3/(U_c^2*X_2c^2*epsilon^2*m^2 + 4*U_c^4),\n",
       " 0,\n",
       " -1/2*X_2c^3*epsilon^2*m^3/(U_c*X_2c^2*epsilon^2*m^2 + 4*U_c^3)]"
      ]
     },
     "execution_count": 201,
     "metadata": {},
     "output_type": "execute_result"
    }
   ],
   "source": [
    "T12bar = T01bar*cos(ph_init) + T02bar*sin(ph_init)\n",
    "T12bar[:]"
   ]
  },
  {
   "cell_type": "code",
   "execution_count": 202,
   "id": "a4f51929",
   "metadata": {},
   "outputs": [
    {
     "data": {
      "text/html": [
       "<html>\\(\\displaystyle \\left[m, 0, 0, 0\\right]\\)</html>"
      ],
      "text/latex": [
       "$\\displaystyle \\left[m, 0, 0, 0\\right]$"
      ],
      "text/plain": [
       "[m, 0, 0, 0]"
      ]
     },
     "execution_count": 202,
     "metadata": {},
     "output_type": "execute_result"
    }
   ],
   "source": [
    "T12bar_CL = T12bar.copy()\n",
    "T12bar_CL.apply_map(lambda tmp: tmp.subs({eps:0}))\n",
    "T12bar_CL[:]"
   ]
  },
  {
   "cell_type": "code",
   "execution_count": 206,
   "id": "bf7b5a48",
   "metadata": {},
   "outputs": [
    {
     "data": {
      "text/html": [
       "<html>\\(\\displaystyle \\left(\\left[0, \\frac{1}{m}, 0, 0\\right], \\left[m, 0, 0, 0\\right], \\left[0, 0, 0, -\\sin\\left(\\Phi_{0}\\right)\\right]\\right)\\)</html>"
      ],
      "text/latex": [
       "$\\displaystyle \\left(\\left[0, \\frac{1}{m}, 0, 0\\right], \\left[m, 0, 0, 0\\right], \\left[0, 0, 0, -\\sin\\left(\\Phi_{0}\\right)\\right]\\right)$"
      ],
      "text/plain": [
       "([0, 1/m, 0, 0], [m, 0, 0, 0], [0, 0, 0, -sin(Phi_0)])"
      ]
     },
     "execution_count": 206,
     "metadata": {},
     "output_type": "execute_result"
    }
   ],
   "source": [
    "T0_UVX_CL[:], T12bar_CL[:], T1bar_CL[:]"
   ]
  },
  {
   "cell_type": "code",
   "execution_count": 209,
   "id": "fb9c9ed6",
   "metadata": {},
   "outputs": [
    {
     "data": {
      "text/html": [
       "<html>\\(\\displaystyle \\left[-\\frac{X_{\\mathit{2c}}^{3} \\epsilon^{3} m^{3} \\sin\\left(\\Phi_{0}\\right) - 2 \\, U_{c} X_{\\mathit{2c}}^{2} \\epsilon^{2} m^{2} \\cos\\left(\\Phi_{0}\\right) + 8 \\, U_{c}^{2} X_{\\mathit{2c}} \\epsilon m \\sin\\left(\\Phi_{0}\\right) - 8 \\, U_{c}^{3} \\cos\\left(\\Phi_{0}\\right)}{2 \\, {\\left(X_{\\mathit{2c}}^{2} \\epsilon^{2} m^{2} + 4 \\, U_{c}^{2}\\right)}}, \\frac{X_{\\mathit{2c}}^{5} \\epsilon^{3} m^{3} \\sin\\left(\\Phi_{0}\\right) - 4 \\, U_{c}^{2} V_{c} X_{\\mathit{2c}}^{2} \\epsilon^{2} m^{2} \\cos\\left(\\Phi_{0}\\right) - 16 \\, U_{c}^{4} V_{c} \\cos\\left(\\Phi_{0}\\right)}{4 \\, {\\left(U_{c}^{2} X_{\\mathit{2c}}^{2} \\epsilon^{2} m^{2} + 4 \\, U_{c}^{4}\\right)}}, 0, -\\frac{{\\left(2 \\, U_{c} V_{c} X_{\\mathit{2c}}^{2} \\sin\\left(\\Phi_{0}\\right) - X_{\\mathit{2c}}^{4} \\sin\\left(\\Phi_{0}\\right)\\right)} \\epsilon^{3} m^{3} + 8 \\, U_{c}^{3} V_{c} \\epsilon m \\sin\\left(\\Phi_{0}\\right)}{2 \\, {\\left(U_{c} X_{\\mathit{2c}}^{2} \\epsilon^{2} m^{2} + 4 \\, U_{c}^{3}\\right)}}\\right]\\)</html>"
      ],
      "text/latex": [
       "$\\displaystyle \\left[-\\frac{X_{\\mathit{2c}}^{3} \\epsilon^{3} m^{3} \\sin\\left(\\Phi_{0}\\right) - 2 \\, U_{c} X_{\\mathit{2c}}^{2} \\epsilon^{2} m^{2} \\cos\\left(\\Phi_{0}\\right) + 8 \\, U_{c}^{2} X_{\\mathit{2c}} \\epsilon m \\sin\\left(\\Phi_{0}\\right) - 8 \\, U_{c}^{3} \\cos\\left(\\Phi_{0}\\right)}{2 \\, {\\left(X_{\\mathit{2c}}^{2} \\epsilon^{2} m^{2} + 4 \\, U_{c}^{2}\\right)}}, \\frac{X_{\\mathit{2c}}^{5} \\epsilon^{3} m^{3} \\sin\\left(\\Phi_{0}\\right) - 4 \\, U_{c}^{2} V_{c} X_{\\mathit{2c}}^{2} \\epsilon^{2} m^{2} \\cos\\left(\\Phi_{0}\\right) - 16 \\, U_{c}^{4} V_{c} \\cos\\left(\\Phi_{0}\\right)}{4 \\, {\\left(U_{c}^{2} X_{\\mathit{2c}}^{2} \\epsilon^{2} m^{2} + 4 \\, U_{c}^{4}\\right)}}, 0, -\\frac{{\\left(2 \\, U_{c} V_{c} X_{\\mathit{2c}}^{2} \\sin\\left(\\Phi_{0}\\right) - X_{\\mathit{2c}}^{4} \\sin\\left(\\Phi_{0}\\right)\\right)} \\epsilon^{3} m^{3} + 8 \\, U_{c}^{3} V_{c} \\epsilon m \\sin\\left(\\Phi_{0}\\right)}{2 \\, {\\left(U_{c} X_{\\mathit{2c}}^{2} \\epsilon^{2} m^{2} + 4 \\, U_{c}^{3}\\right)}}\\right]$"
      ],
      "text/plain": [
       "[-1/2*(X_2c^3*epsilon^3*m^3*sin(Phi_0) - 2*U_c*X_2c^2*epsilon^2*m^2*cos(Phi_0) + 8*U_c^2*X_2c*epsilon*m*sin(Phi_0) - 8*U_c^3*cos(Phi_0))/(X_2c^2*epsilon^2*m^2 + 4*U_c^2),\n",
       " 1/4*(X_2c^5*epsilon^3*m^3*sin(Phi_0) - 4*U_c^2*V_c*X_2c^2*epsilon^2*m^2*cos(Phi_0) - 16*U_c^4*V_c*cos(Phi_0))/(U_c^2*X_2c^2*epsilon^2*m^2 + 4*U_c^4),\n",
       " 0,\n",
       " -1/2*((2*U_c*V_c*X_2c^2*sin(Phi_0) - X_2c^4*sin(Phi_0))*epsilon^3*m^3 + 8*U_c^3*V_c*epsilon*m*sin(Phi_0))/(U_c*X_2c^2*epsilon^2*m^2 + 4*U_c^3)]"
      ]
     },
     "execution_count": 209,
     "metadata": {},
     "output_type": "execute_result"
    }
   ],
   "source": [
    "J3K1bar = J3_UVX*sin(ph_init) + K1_UVX\n",
    "J3K1bar[:]"
   ]
  },
  {
   "cell_type": "code",
   "execution_count": 210,
   "id": "42663eed",
   "metadata": {},
   "outputs": [
    {
     "data": {
      "text/html": [
       "<html>\\(\\displaystyle \\left[U_{c} \\cos\\left(\\Phi_{0}\\right), -V_{c} \\cos\\left(\\Phi_{0}\\right), 0, 0\\right]\\)</html>"
      ],
      "text/latex": [
       "$\\displaystyle \\left[U_{c} \\cos\\left(\\Phi_{0}\\right), -V_{c} \\cos\\left(\\Phi_{0}\\right), 0, 0\\right]$"
      ],
      "text/plain": [
       "[U_c*cos(Phi_0), -V_c*cos(Phi_0), 0, 0]"
      ]
     },
     "execution_count": 210,
     "metadata": {},
     "output_type": "execute_result"
    }
   ],
   "source": [
    "J3K1bar_CL = J3K1bar.copy()\n",
    "J3K1bar_CL.apply_map(lambda tmp: tmp.subs({eps:0}))\n",
    "J3K1bar_CL[:]"
   ]
  },
  {
   "cell_type": "code",
   "execution_count": 215,
   "id": "ce34d288",
   "metadata": {},
   "outputs": [
    {
     "data": {
      "text/html": [
       "<html>\\(\\displaystyle \\left[-\\frac{X_{\\mathit{2c}}^{3} \\epsilon^{3} m^{3} \\cos\\left(\\Phi_{0}\\right) + 2 \\, U_{c} X_{\\mathit{2c}}^{2} \\epsilon^{2} m^{2} \\sin\\left(\\Phi_{0}\\right) + 8 \\, U_{c}^{2} X_{\\mathit{2c}} \\epsilon m \\cos\\left(\\Phi_{0}\\right) + 8 \\, U_{c}^{3} \\sin\\left(\\Phi_{0}\\right)}{2 \\, {\\left(X_{\\mathit{2c}}^{2} \\epsilon^{2} m^{2} + 4 \\, U_{c}^{2}\\right)}}, \\frac{X_{\\mathit{2c}}^{5} \\epsilon^{3} m^{3} \\cos\\left(\\Phi_{0}\\right) + 4 \\, U_{c}^{2} V_{c} X_{\\mathit{2c}}^{2} \\epsilon^{2} m^{2} \\sin\\left(\\Phi_{0}\\right) + 16 \\, U_{c}^{4} V_{c} \\sin\\left(\\Phi_{0}\\right)}{4 \\, {\\left(U_{c}^{2} X_{\\mathit{2c}}^{2} \\epsilon^{2} m^{2} + 4 \\, U_{c}^{4}\\right)}}, 0, -\\frac{{\\left(2 \\, U_{c} V_{c} X_{\\mathit{2c}}^{2} \\cos\\left(\\Phi_{0}\\right) - X_{\\mathit{2c}}^{4} \\cos\\left(\\Phi_{0}\\right)\\right)} \\epsilon^{3} m^{3} + 8 \\, U_{c}^{3} V_{c} \\epsilon m \\cos\\left(\\Phi_{0}\\right)}{2 \\, {\\left(U_{c} X_{\\mathit{2c}}^{2} \\epsilon^{2} m^{2} + 4 \\, U_{c}^{3}\\right)}}\\right]\\)</html>"
      ],
      "text/latex": [
       "$\\displaystyle \\left[-\\frac{X_{\\mathit{2c}}^{3} \\epsilon^{3} m^{3} \\cos\\left(\\Phi_{0}\\right) + 2 \\, U_{c} X_{\\mathit{2c}}^{2} \\epsilon^{2} m^{2} \\sin\\left(\\Phi_{0}\\right) + 8 \\, U_{c}^{2} X_{\\mathit{2c}} \\epsilon m \\cos\\left(\\Phi_{0}\\right) + 8 \\, U_{c}^{3} \\sin\\left(\\Phi_{0}\\right)}{2 \\, {\\left(X_{\\mathit{2c}}^{2} \\epsilon^{2} m^{2} + 4 \\, U_{c}^{2}\\right)}}, \\frac{X_{\\mathit{2c}}^{5} \\epsilon^{3} m^{3} \\cos\\left(\\Phi_{0}\\right) + 4 \\, U_{c}^{2} V_{c} X_{\\mathit{2c}}^{2} \\epsilon^{2} m^{2} \\sin\\left(\\Phi_{0}\\right) + 16 \\, U_{c}^{4} V_{c} \\sin\\left(\\Phi_{0}\\right)}{4 \\, {\\left(U_{c}^{2} X_{\\mathit{2c}}^{2} \\epsilon^{2} m^{2} + 4 \\, U_{c}^{4}\\right)}}, 0, -\\frac{{\\left(2 \\, U_{c} V_{c} X_{\\mathit{2c}}^{2} \\cos\\left(\\Phi_{0}\\right) - X_{\\mathit{2c}}^{4} \\cos\\left(\\Phi_{0}\\right)\\right)} \\epsilon^{3} m^{3} + 8 \\, U_{c}^{3} V_{c} \\epsilon m \\cos\\left(\\Phi_{0}\\right)}{2 \\, {\\left(U_{c} X_{\\mathit{2c}}^{2} \\epsilon^{2} m^{2} + 4 \\, U_{c}^{3}\\right)}}\\right]$"
      ],
      "text/plain": [
       "[-1/2*(X_2c^3*epsilon^3*m^3*cos(Phi_0) + 2*U_c*X_2c^2*epsilon^2*m^2*sin(Phi_0) + 8*U_c^2*X_2c*epsilon*m*cos(Phi_0) + 8*U_c^3*sin(Phi_0))/(X_2c^2*epsilon^2*m^2 + 4*U_c^2),\n",
       " 1/4*(X_2c^5*epsilon^3*m^3*cos(Phi_0) + 4*U_c^2*V_c*X_2c^2*epsilon^2*m^2*sin(Phi_0) + 16*U_c^4*V_c*sin(Phi_0))/(U_c^2*X_2c^2*epsilon^2*m^2 + 4*U_c^4),\n",
       " 0,\n",
       " -1/2*((2*U_c*V_c*X_2c^2*cos(Phi_0) - X_2c^4*cos(Phi_0))*epsilon^3*m^3 + 8*U_c^3*V_c*epsilon*m*cos(Phi_0))/(U_c*X_2c^2*epsilon^2*m^2 + 4*U_c^3)]"
      ]
     },
     "execution_count": 215,
     "metadata": {},
     "output_type": "execute_result"
    }
   ],
   "source": [
    "J3K2bar = J3_UVX*cos(ph_init) - K2_UVX\n",
    "J3K2bar[:]"
   ]
  },
  {
   "cell_type": "code",
   "execution_count": 218,
   "id": "03e21845",
   "metadata": {},
   "outputs": [
    {
     "data": {
      "text/html": [
       "<html>\\(\\displaystyle \\left[-U_{c} \\sin\\left(\\Phi_{0}\\right), V_{c} \\sin\\left(\\Phi_{0}\\right), 0, 0\\right]\\)</html>"
      ],
      "text/latex": [
       "$\\displaystyle \\left[-U_{c} \\sin\\left(\\Phi_{0}\\right), V_{c} \\sin\\left(\\Phi_{0}\\right), 0, 0\\right]$"
      ],
      "text/plain": [
       "[-U_c*sin(Phi_0), V_c*sin(Phi_0), 0, 0]"
      ]
     },
     "execution_count": 218,
     "metadata": {},
     "output_type": "execute_result"
    }
   ],
   "source": [
    "J3K2bar_CL = J3K2bar.copy()\n",
    "J3K2bar_CL.apply_map(lambda tmp: tmp.subs({eps:0}))\n",
    "J3K2bar_CL[:]"
   ]
  },
  {
   "cell_type": "code",
   "execution_count": 219,
   "id": "28ba14d8",
   "metadata": {},
   "outputs": [
    {
     "data": {
      "text/html": [
       "<html>\\(\\displaystyle \\left[-\\frac{X_{\\mathit{2c}}^{3} \\epsilon^{3} m^{3} + 8 \\, U_{c}^{2} X_{\\mathit{2c}} \\epsilon m}{2 \\, {\\left(X_{\\mathit{2c}}^{2} \\epsilon^{2} m^{2} + 4 \\, U_{c}^{2}\\right)}}, \\frac{X_{\\mathit{2c}}^{5} \\epsilon^{3} m^{3}}{4 \\, {\\left(U_{c}^{2} X_{\\mathit{2c}}^{2} \\epsilon^{2} m^{2} + 4 \\, U_{c}^{4}\\right)}}, 0, -\\frac{{\\left(2 \\, U_{c} V_{c} X_{\\mathit{2c}}^{2} - X_{\\mathit{2c}}^{4}\\right)} \\epsilon^{3} m^{3} + 8 \\, U_{c}^{3} V_{c} \\epsilon m}{2 \\, {\\left(U_{c} X_{\\mathit{2c}}^{2} \\epsilon^{2} m^{2} + 4 \\, U_{c}^{3}\\right)}}\\right]\\)</html>"
      ],
      "text/latex": [
       "$\\displaystyle \\left[-\\frac{X_{\\mathit{2c}}^{3} \\epsilon^{3} m^{3} + 8 \\, U_{c}^{2} X_{\\mathit{2c}} \\epsilon m}{2 \\, {\\left(X_{\\mathit{2c}}^{2} \\epsilon^{2} m^{2} + 4 \\, U_{c}^{2}\\right)}}, \\frac{X_{\\mathit{2c}}^{5} \\epsilon^{3} m^{3}}{4 \\, {\\left(U_{c}^{2} X_{\\mathit{2c}}^{2} \\epsilon^{2} m^{2} + 4 \\, U_{c}^{4}\\right)}}, 0, -\\frac{{\\left(2 \\, U_{c} V_{c} X_{\\mathit{2c}}^{2} - X_{\\mathit{2c}}^{4}\\right)} \\epsilon^{3} m^{3} + 8 \\, U_{c}^{3} V_{c} \\epsilon m}{2 \\, {\\left(U_{c} X_{\\mathit{2c}}^{2} \\epsilon^{2} m^{2} + 4 \\, U_{c}^{3}\\right)}}\\right]$"
      ],
      "text/plain": [
       "[-1/2*(X_2c^3*epsilon^3*m^3 + 8*U_c^2*X_2c*epsilon*m)/(X_2c^2*epsilon^2*m^2 + 4*U_c^2),\n",
       " 1/4*X_2c^5*epsilon^3*m^3/(U_c^2*X_2c^2*epsilon^2*m^2 + 4*U_c^4),\n",
       " 0,\n",
       " -1/2*((2*U_c*V_c*X_2c^2 - X_2c^4)*epsilon^3*m^3 + 8*U_c^3*V_c*epsilon*m)/(U_c*X_2c^2*epsilon^2*m^2 + 4*U_c^3)]"
      ]
     },
     "execution_count": 219,
     "metadata": {},
     "output_type": "execute_result"
    }
   ],
   "source": [
    "J3K1K2bar = J3K1bar*sin(ph_init) + J3K2bar*cos(ph_init)\n",
    "J3K1K2bar[:]"
   ]
  },
  {
   "cell_type": "code",
   "execution_count": 220,
   "id": "954c90c0",
   "metadata": {},
   "outputs": [
    {
     "data": {
      "text/html": [
       "<html>\\(\\displaystyle \\left[-\\frac{X_{\\mathit{2c}}^{3} \\epsilon^{3} m^{3} + 8 \\, U_{c}^{2} X_{\\mathit{2c}} \\epsilon m}{2 \\, {\\left(X_{\\mathit{2c}}^{2} \\epsilon^{2} m^{2} + 4 \\, U_{c}^{2}\\right)} \\epsilon}, \\frac{X_{\\mathit{2c}}^{5} \\epsilon^{2} m^{3}}{4 \\, {\\left(U_{c}^{2} X_{\\mathit{2c}}^{2} \\epsilon^{2} m^{2} + 4 \\, U_{c}^{4}\\right)}}, 0, -\\frac{{\\left(2 \\, U_{c} V_{c} X_{\\mathit{2c}}^{2} - X_{\\mathit{2c}}^{4}\\right)} \\epsilon^{3} m^{3} + 8 \\, U_{c}^{3} V_{c} \\epsilon m}{2 \\, {\\left(U_{c} X_{\\mathit{2c}}^{2} \\epsilon^{2} m^{2} + 4 \\, U_{c}^{3}\\right)} \\epsilon}\\right]\\)</html>"
      ],
      "text/latex": [
       "$\\displaystyle \\left[-\\frac{X_{\\mathit{2c}}^{3} \\epsilon^{3} m^{3} + 8 \\, U_{c}^{2} X_{\\mathit{2c}} \\epsilon m}{2 \\, {\\left(X_{\\mathit{2c}}^{2} \\epsilon^{2} m^{2} + 4 \\, U_{c}^{2}\\right)} \\epsilon}, \\frac{X_{\\mathit{2c}}^{5} \\epsilon^{2} m^{3}}{4 \\, {\\left(U_{c}^{2} X_{\\mathit{2c}}^{2} \\epsilon^{2} m^{2} + 4 \\, U_{c}^{4}\\right)}}, 0, -\\frac{{\\left(2 \\, U_{c} V_{c} X_{\\mathit{2c}}^{2} - X_{\\mathit{2c}}^{4}\\right)} \\epsilon^{3} m^{3} + 8 \\, U_{c}^{3} V_{c} \\epsilon m}{2 \\, {\\left(U_{c} X_{\\mathit{2c}}^{2} \\epsilon^{2} m^{2} + 4 \\, U_{c}^{3}\\right)} \\epsilon}\\right]$"
      ],
      "text/plain": [
       "[-1/2*(X_2c^3*epsilon^3*m^3 + 8*U_c^2*X_2c*epsilon*m)/((X_2c^2*epsilon^2*m^2 + 4*U_c^2)*epsilon),\n",
       " 1/4*X_2c^5*epsilon^2*m^3/(U_c^2*X_2c^2*epsilon^2*m^2 + 4*U_c^4),\n",
       " 0,\n",
       " -1/2*((2*U_c*V_c*X_2c^2 - X_2c^4)*epsilon^3*m^3 + 8*U_c^3*V_c*epsilon*m)/((U_c*X_2c^2*epsilon^2*m^2 + 4*U_c^3)*epsilon)]"
      ]
     },
     "execution_count": 220,
     "metadata": {},
     "output_type": "execute_result"
    }
   ],
   "source": [
    "J3K1K2bar_eps = J3K1K2bar/eps\n",
    "J3K1K2bar_eps[:]"
   ]
  },
  {
   "cell_type": "code",
   "execution_count": 225,
   "id": "7692c25f",
   "metadata": {},
   "outputs": [
    {
     "data": {
      "text/html": [
       "<html>\\(\\displaystyle \\left(-\\frac{X_{\\mathit{2c}}^{3} \\epsilon^{2} m^{3} + 8 \\, U_{c}^{2} X_{\\mathit{2c}} m}{2 \\, {\\left(X_{\\mathit{2c}}^{2} \\epsilon^{2} m^{2} + 4 \\, U_{c}^{2}\\right)}}, -\\frac{{\\left(2 \\, U_{c} V_{c} X_{\\mathit{2c}}^{2} - X_{\\mathit{2c}}^{4}\\right)} \\epsilon^{2} m^{3} + 8 \\, U_{c}^{3} V_{c} m}{2 \\, {\\left(U_{c} X_{\\mathit{2c}}^{2} \\epsilon^{2} m^{2} + 4 \\, U_{c}^{3}\\right)}}\\right)\\)</html>"
      ],
      "text/latex": [
       "$\\displaystyle \\left(-\\frac{X_{\\mathit{2c}}^{3} \\epsilon^{2} m^{3} + 8 \\, U_{c}^{2} X_{\\mathit{2c}} m}{2 \\, {\\left(X_{\\mathit{2c}}^{2} \\epsilon^{2} m^{2} + 4 \\, U_{c}^{2}\\right)}}, -\\frac{{\\left(2 \\, U_{c} V_{c} X_{\\mathit{2c}}^{2} - X_{\\mathit{2c}}^{4}\\right)} \\epsilon^{2} m^{3} + 8 \\, U_{c}^{3} V_{c} m}{2 \\, {\\left(U_{c} X_{\\mathit{2c}}^{2} \\epsilon^{2} m^{2} + 4 \\, U_{c}^{3}\\right)}}\\right)$"
      ],
      "text/plain": [
       "(-1/2*(X_2c^3*epsilon^2*m^3 + 8*U_c^2*X_2c*m)/(X_2c^2*epsilon^2*m^2 + 4*U_c^2),\n",
       " -1/2*((2*U_c*V_c*X_2c^2 - X_2c^4)*epsilon^2*m^3 + 8*U_c^3*V_c*m)/(U_c*X_2c^2*epsilon^2*m^2 + 4*U_c^3))"
      ]
     },
     "execution_count": 225,
     "metadata": {},
     "output_type": "execute_result"
    }
   ],
   "source": [
    "J3K1K2bar_eps[0].expr().simplify_full(), J3K1K2bar_eps[3].expr().simplify_full()"
   ]
  },
  {
   "cell_type": "code",
   "execution_count": 227,
   "id": "17dd5dc4",
   "metadata": {},
   "outputs": [
    {
     "data": {
      "text/html": [
       "<html>\\(\\displaystyle \\left[-X_{\\mathit{2c}} m, 0, 0, -V_{c} m\\right]\\)</html>"
      ],
      "text/latex": [
       "$\\displaystyle \\left[-X_{\\mathit{2c}} m, 0, 0, -V_{c} m\\right]$"
      ],
      "text/plain": [
       "[-X_2c*m, 0, 0, -V_c*m]"
      ]
     },
     "execution_count": 227,
     "metadata": {},
     "output_type": "execute_result"
    }
   ],
   "source": [
    "J3K1K2bar_CL = J3K1K2bar_eps.copy()\n",
    "J3K1K2bar_CL[0] = J3K1K2bar_eps[0].expr().simplify_full()\n",
    "J3K1K2bar_CL[3] = J3K1K2bar_eps[3].expr().simplify_full()\n",
    "J3K1K2bar_CL.apply_map(lambda tmp: tmp.subs({eps:0}))\n",
    "J3K1K2bar_CL[:]"
   ]
  },
  {
   "cell_type": "code",
   "execution_count": 231,
   "id": "2011f84d",
   "metadata": {},
   "outputs": [
    {
     "data": {
      "text/html": [
       "<html>\\(\\displaystyle \\left(\\left[0, \\frac{X_{\\mathit{2c}}}{m}, 0, \\frac{U_{c}}{m}\\right], \\left[U_{c} \\cos\\left(\\Phi_{0}\\right), -V_{c} \\cos\\left(\\Phi_{0}\\right), 0, 0\\right], \\left[-X_{\\mathit{2c}} m, 0, 0, -V_{c} m\\right]\\right)\\)</html>"
      ],
      "text/latex": [
       "$\\displaystyle \\left(\\left[0, \\frac{X_{\\mathit{2c}}}{m}, 0, \\frac{U_{c}}{m}\\right], \\left[U_{c} \\cos\\left(\\Phi_{0}\\right), -V_{c} \\cos\\left(\\Phi_{0}\\right), 0, 0\\right], \\left[-X_{\\mathit{2c}} m, 0, 0, -V_{c} m\\right]\\right)$"
      ],
      "text/plain": [
       "([0, X_2c/m, 0, U_c/m],\n",
       " [U_c*cos(Phi_0), -V_c*cos(Phi_0), 0, 0],\n",
       " [-X_2c*m, 0, 0, -V_c*m])"
      ]
     },
     "execution_count": 231,
     "metadata": {},
     "output_type": "execute_result"
    }
   ],
   "source": [
    "J3_UVX_CL[:], J3K1bar_CL[:], J3K1K2bar_CL[:]"
   ]
  },
  {
   "cell_type": "code",
   "execution_count": 233,
   "id": "f52d68bb",
   "metadata": {},
   "outputs": [
    {
     "data": {
      "text/html": [
       "<html>\\(\\displaystyle \\left(\\left[0, \\frac{1}{m}, 0, 0\\right], \\left[m, 0, 0, 0\\right], \\left[0, 0, 0, -\\sin\\left(\\Phi_{0}\\right)\\right]\\right)\\)</html>"
      ],
      "text/latex": [
       "$\\displaystyle \\left(\\left[0, \\frac{1}{m}, 0, 0\\right], \\left[m, 0, 0, 0\\right], \\left[0, 0, 0, -\\sin\\left(\\Phi_{0}\\right)\\right]\\right)$"
      ],
      "text/plain": [
       "([0, 1/m, 0, 0], [m, 0, 0, 0], [0, 0, 0, -sin(Phi_0)])"
      ]
     },
     "execution_count": 233,
     "metadata": {},
     "output_type": "execute_result"
    }
   ],
   "source": [
    "T0_UVX_CL[:], T12bar_CL[:], T1bar_CL[:]"
   ]
  },
  {
   "cell_type": "code",
   "execution_count": null,
   "id": "e058df93",
   "metadata": {},
   "outputs": [],
   "source": []
  }
 ],
 "metadata": {
  "kernelspec": {
   "display_name": "SageMath 9.7",
   "language": "sage",
   "name": "sagemath"
  },
  "language_info": {
   "codemirror_mode": {
    "name": "ipython",
    "version": 3
   },
   "file_extension": ".py",
   "mimetype": "text/x-python",
   "name": "python",
   "nbconvert_exporter": "python",
   "pygments_lexer": "ipython3",
   "version": "3.8.10"
  }
 },
 "nbformat": 4,
 "nbformat_minor": 5
}
