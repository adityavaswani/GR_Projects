{
 "cells": [
  {
   "cell_type": "code",
   "execution_count": 44,
   "id": "a7a0d0bb",
   "metadata": {},
   "outputs": [],
   "source": [
    "%display latex"
   ]
  },
  {
   "cell_type": "code",
   "execution_count": 49,
   "id": "650ab41d",
   "metadata": {},
   "outputs": [
    {
     "data": {
      "text/html": [
       "<html>\\(\\displaystyle \\left(\\begin{array}{rrrr}\n",
       "0 & -1 & 0 & 0 \\\\\n",
       "-1 & 0 & 0 & 0 \\\\\n",
       "0 & 0 & 1 & 0 \\\\\n",
       "0 & 0 & 0 & 1\n",
       "\\end{array}\\right)\\)</html>"
      ],
      "text/latex": [
       "$\\displaystyle \\left(\\begin{array}{rrrr}\n",
       "0 & -1 & 0 & 0 \\\\\n",
       "-1 & 0 & 0 & 0 \\\\\n",
       "0 & 0 & 1 & 0 \\\\\n",
       "0 & 0 & 0 & 1\n",
       "\\end{array}\\right)$"
      ],
      "text/plain": [
       "[ 0 -1  0  0]\n",
       "[-1  0  0  0]\n",
       "[ 0  0  1  0]\n",
       "[ 0  0  0  1]"
      ]
     },
     "execution_count": 49,
     "metadata": {},
     "output_type": "execute_result"
    }
   ],
   "source": [
    "M = Manifold(4, 'M', structure='Lorentzian')\n",
    "X.<u, v, x, y> = M.chart(r'u:(0,+oo) v:(-oo,+oo) x:(-oo,+oo) y:(-oo,+oo)')\n",
    "g = M.metric('g')\n",
    "g[0, 1], g[1, 0], g[2, 2], g[3, 3] = -1, -1, 1, 1\n",
    "g[:]"
   ]
  },
  {
   "cell_type": "code",
   "execution_count": 50,
   "id": "1464c6e6",
   "metadata": {},
   "outputs": [
    {
     "data": {
      "text/html": [
       "<html>\\(\\displaystyle \\left(\\begin{array}{rrrr}\n",
       "0 & -1 & 0 & 0 \\\\\n",
       "-1 & 0 & 0 & 0 \\\\\n",
       "0 & 0 & 1 & 0 \\\\\n",
       "0 & 0 & 0 & 1\n",
       "\\end{array}\\right)\\)</html>"
      ],
      "text/latex": [
       "$\\displaystyle \\left(\\begin{array}{rrrr}\n",
       "0 & -1 & 0 & 0 \\\\\n",
       "-1 & 0 & 0 & 0 \\\\\n",
       "0 & 0 & 1 & 0 \\\\\n",
       "0 & 0 & 0 & 1\n",
       "\\end{array}\\right)$"
      ],
      "text/plain": [
       "[ 0 -1  0  0]\n",
       "[-1  0  0  0]\n",
       "[ 0  0  1  0]\n",
       "[ 0  0  0  1]"
      ]
     },
     "execution_count": 50,
     "metadata": {},
     "output_type": "execute_result"
    }
   ],
   "source": [
    "ginv = g.inverse()\n",
    "ginv[:]"
   ]
  },
  {
   "cell_type": "code",
   "execution_count": 51,
   "id": "51687c22",
   "metadata": {},
   "outputs": [
    {
     "data": {
      "text/html": [
       "<html>\\(\\displaystyle \\left[\\left[\\left[0, 0, 0, 0\\right], \\left[0, 0, 0, 0\\right], \\left[0, 0, 0, 0\\right], \\left[0, 0, 0, 0\\right]\\right], \\left[\\left[0, 0, 0, 0\\right], \\left[0, 0, 0, 0\\right], \\left[0, 0, 0, 0\\right], \\left[0, 0, 0, 0\\right]\\right], \\left[\\left[0, 0, 0, 0\\right], \\left[0, 0, 0, 0\\right], \\left[0, 0, 0, 0\\right], \\left[0, 0, 0, 0\\right]\\right], \\left[\\left[0, 0, 0, 0\\right], \\left[0, 0, 0, 0\\right], \\left[0, 0, 0, 0\\right], \\left[0, 0, 0, 0\\right]\\right]\\right]\\)</html>"
      ],
      "text/latex": [
       "$\\displaystyle \\left[\\left[\\left[0, 0, 0, 0\\right], \\left[0, 0, 0, 0\\right], \\left[0, 0, 0, 0\\right], \\left[0, 0, 0, 0\\right]\\right], \\left[\\left[0, 0, 0, 0\\right], \\left[0, 0, 0, 0\\right], \\left[0, 0, 0, 0\\right], \\left[0, 0, 0, 0\\right]\\right], \\left[\\left[0, 0, 0, 0\\right], \\left[0, 0, 0, 0\\right], \\left[0, 0, 0, 0\\right], \\left[0, 0, 0, 0\\right]\\right], \\left[\\left[0, 0, 0, 0\\right], \\left[0, 0, 0, 0\\right], \\left[0, 0, 0, 0\\right], \\left[0, 0, 0, 0\\right]\\right]\\right]$"
      ],
      "text/plain": [
       "[[[0, 0, 0, 0], [0, 0, 0, 0], [0, 0, 0, 0], [0, 0, 0, 0]],\n",
       " [[0, 0, 0, 0], [0, 0, 0, 0], [0, 0, 0, 0], [0, 0, 0, 0]],\n",
       " [[0, 0, 0, 0], [0, 0, 0, 0], [0, 0, 0, 0], [0, 0, 0, 0]],\n",
       " [[0, 0, 0, 0], [0, 0, 0, 0], [0, 0, 0, 0], [0, 0, 0, 0]]]"
      ]
     },
     "execution_count": 51,
     "metadata": {},
     "output_type": "execute_result"
    }
   ],
   "source": [
    "Gam = g.christoffel_symbols()\n",
    "nab = M.affine_connection('nabla', r'\\nabla')\n",
    "nab[:] = Gam[:]\n",
    "nab[:]"
   ]
  },
  {
   "cell_type": "code",
   "execution_count": 53,
   "id": "f38c03fd",
   "metadata": {},
   "outputs": [
    {
     "data": {
      "text/html": [
       "<html>\\(\\displaystyle \\left(m, q, Q, \\kappa, \\epsilon, r\\right)\\)</html>"
      ],
      "text/latex": [
       "$\\displaystyle \\left(m, q, Q, \\kappa, \\epsilon, r\\right)$"
      ],
      "text/plain": [
       "(m, q, Q, kappa, epsilon, r)"
      ]
     },
     "execution_count": 53,
     "metadata": {},
     "output_type": "execute_result"
    }
   ],
   "source": [
    "s, eps, m, q, Q, kap, r = var('s, epsilon, m, q, Q, kappa, r')\n",
    "assume(m>0)\n",
    "assume(eps>=0)\n",
    "assume(kap>0)\n",
    "assume(q>0)\n",
    "assume(Q>0)\n",
    "assume(r>0)\n",
    "m, q, Q, kap, eps, r"
   ]
  },
  {
   "cell_type": "code",
   "execution_count": 54,
   "id": "507f48ee",
   "metadata": {},
   "outputs": [
    {
     "data": {
      "text/html": [
       "<html>\\(\\displaystyle \\left(\\begin{array}{rrrr}\n",
       "0 & 0 & f_{1}\\left(s\\right) & f_{2}\\left(s\\right) \\\\\n",
       "0 & 0 & 0 & 0 \\\\\n",
       "-f_{1}\\left(s\\right) & 0 & 0 & 0 \\\\\n",
       "-f_{2}\\left(s\\right) & 0 & 0 & 0\n",
       "\\end{array}\\right)\\)</html>"
      ],
      "text/latex": [
       "$\\displaystyle \\left(\\begin{array}{rrrr}\n",
       "0 & 0 & f_{1}\\left(s\\right) & f_{2}\\left(s\\right) \\\\\n",
       "0 & 0 & 0 & 0 \\\\\n",
       "-f_{1}\\left(s\\right) & 0 & 0 & 0 \\\\\n",
       "-f_{2}\\left(s\\right) & 0 & 0 & 0\n",
       "\\end{array}\\right)$"
      ],
      "text/plain": [
       "[      0       0  f_1(s)  f_2(s)]\n",
       "[      0       0       0       0]\n",
       "[-f_1(s)       0       0       0]\n",
       "[-f_2(s)       0       0       0]"
      ]
     },
     "execution_count": 54,
     "metadata": {},
     "output_type": "execute_result"
    }
   ],
   "source": [
    "F = M.tensor_field(0, 2, name='F')\n",
    "f1 = function('f_1')(s)\n",
    "f2 = function('f_2')(s)\n",
    "F[0, 2], F[0, 3], F[2, 0], F[3, 0] = f1, f2, -f1, -f2\n",
    "F[:]"
   ]
  },
  {
   "cell_type": "code",
   "execution_count": 55,
   "id": "8115c766",
   "metadata": {},
   "outputs": [
    {
     "data": {
      "text/html": [
       "<html>\\(\\displaystyle \\left(\\begin{array}{rrrr}\n",
       "0 & 0 & 0 & 0 \\\\\n",
       "0 & 0 & -f_{1}\\left(s\\right) & -f_{2}\\left(s\\right) \\\\\n",
       "-f_{1}\\left(s\\right) & 0 & 0 & 0 \\\\\n",
       "-f_{2}\\left(s\\right) & 0 & 0 & 0\n",
       "\\end{array}\\right)\\)</html>"
      ],
      "text/latex": [
       "$\\displaystyle \\left(\\begin{array}{rrrr}\n",
       "0 & 0 & 0 & 0 \\\\\n",
       "0 & 0 & -f_{1}\\left(s\\right) & -f_{2}\\left(s\\right) \\\\\n",
       "-f_{1}\\left(s\\right) & 0 & 0 & 0 \\\\\n",
       "-f_{2}\\left(s\\right) & 0 & 0 & 0\n",
       "\\end{array}\\right)$"
      ],
      "text/plain": [
       "[      0       0       0       0]\n",
       "[      0       0 -f_1(s) -f_2(s)]\n",
       "[-f_1(s)       0       0       0]\n",
       "[-f_2(s)       0       0       0]"
      ]
     },
     "execution_count": 55,
     "metadata": {},
     "output_type": "execute_result"
    }
   ],
   "source": [
    "Fmix = F.up(g, 0)\n",
    "Fmix[:]"
   ]
  },
  {
   "cell_type": "code",
   "execution_count": 43,
   "id": "3b3c37ce",
   "metadata": {},
   "outputs": [
    {
     "data": {
      "text/html": [
       "<html>\\(\\displaystyle \\partial_s Y\\)</html>"
      ],
      "text/latex": [
       "$\\displaystyle \\partial_s Y$"
      ],
      "text/plain": [
       "Vector field \\partial_s Y on the 4-dimensional Lorentzian manifold M"
      ]
     },
     "execution_count": 43,
     "metadata": {},
     "output_type": "execute_result"
    }
   ],
   "source": [
    "dsY = M.vector_field(name=r'\\partial_s Y')\n",
    "dsY"
   ]
  },
  {
   "cell_type": "code",
   "execution_count": null,
   "id": "cf789d34",
   "metadata": {},
   "outputs": [],
   "source": []
  }
 ],
 "metadata": {
  "kernelspec": {
   "display_name": "SageMath 9.7",
   "language": "sage",
   "name": "sagemath"
  },
  "language_info": {
   "codemirror_mode": {
    "name": "ipython",
    "version": 3
   },
   "file_extension": ".py",
   "mimetype": "text/x-python",
   "name": "python",
   "nbconvert_exporter": "python",
   "pygments_lexer": "ipython3",
   "version": "3.8.10"
  }
 },
 "nbformat": 4,
 "nbformat_minor": 5
}
