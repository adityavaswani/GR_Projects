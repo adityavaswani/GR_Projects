{
 "cells": [
  {
   "cell_type": "code",
   "execution_count": 1,
   "id": "e30bb269",
   "metadata": {},
   "outputs": [],
   "source": [
    "# Code to hopefully calculate Riemann curvature components of pp wave metrics."
   ]
  },
  {
   "cell_type": "code",
   "execution_count": 1,
   "id": "49e79a68",
   "metadata": {},
   "outputs": [],
   "source": [
    "%display latex"
   ]
  },
  {
   "cell_type": "code",
   "execution_count": 2,
   "id": "efc304ca",
   "metadata": {},
   "outputs": [
    {
     "data": {
      "text/html": [
       "<html>\\(\\displaystyle M\\)</html>"
      ],
      "text/latex": [
       "$\\displaystyle M$"
      ],
      "text/plain": [
       "4-dimensional Lorentzian manifold M"
      ]
     },
     "execution_count": 2,
     "metadata": {},
     "output_type": "execute_result"
    }
   ],
   "source": [
    "M = Manifold(4, 'M', structure='Lorentzian')\n",
    "M"
   ]
  },
  {
   "cell_type": "code",
   "execution_count": 3,
   "id": "a52df8e1",
   "metadata": {},
   "outputs": [
    {
     "data": {
      "text/html": [
       "<html>\\(\\displaystyle \\left(M,(u, v, x, y)\\right)\\)</html>"
      ],
      "text/latex": [
       "$\\displaystyle \\left(M,(u, v, x, y)\\right)$"
      ],
      "text/plain": [
       "Chart (M, (u, v, x, y))"
      ]
     },
     "execution_count": 3,
     "metadata": {},
     "output_type": "execute_result"
    }
   ],
   "source": [
    "X.<u, v, x, y> = M.chart()\n",
    "X"
   ]
  },
  {
   "cell_type": "code",
   "execution_count": 4,
   "id": "8e582d75",
   "metadata": {},
   "outputs": [
    {
     "name": "stdout",
     "output_type": "stream",
     "text": [
      "K(u, x, y) B(u, x, y) C(u, x, y)\n"
     ]
    }
   ],
   "source": [
    "K = X.function(function('K')(u, x, y))\n",
    "B = X.function(function('B')(u, x, y))\n",
    "C = X.function(function('C')(u, x, y))\n",
    "print(K, B, C)"
   ]
  },
  {
   "cell_type": "code",
   "execution_count": 5,
   "id": "88c4954e",
   "metadata": {},
   "outputs": [
    {
     "data": {
      "text/html": [
       "<html>\\(\\displaystyle g\\)</html>"
      ],
      "text/latex": [
       "$\\displaystyle g$"
      ],
      "text/plain": [
       "Lorentzian metric g on the 4-dimensional Lorentzian manifold M"
      ]
     },
     "execution_count": 5,
     "metadata": {},
     "output_type": "execute_result"
    }
   ],
   "source": [
    "g = M.metric()\n",
    "g"
   ]
  },
  {
   "cell_type": "code",
   "execution_count": 6,
   "id": "05ceb098",
   "metadata": {},
   "outputs": [
    {
     "data": {
      "text/html": [
       "<html>\\(\\displaystyle g = K\\left(u, x, y\\right) \\mathrm{d} u\\otimes \\mathrm{d} u -\\mathrm{d} u\\otimes \\mathrm{d} v + B\\left(u, x, y\\right) \\mathrm{d} u\\otimes \\mathrm{d} x + C\\left(u, x, y\\right) \\mathrm{d} u\\otimes \\mathrm{d} y -\\mathrm{d} v\\otimes \\mathrm{d} u + B\\left(u, x, y\\right) \\mathrm{d} x\\otimes \\mathrm{d} u +\\mathrm{d} x\\otimes \\mathrm{d} x + C\\left(u, x, y\\right) \\mathrm{d} y\\otimes \\mathrm{d} u +\\mathrm{d} y\\otimes \\mathrm{d} y\\)</html>"
      ],
      "text/latex": [
       "$\\displaystyle g = K\\left(u, x, y\\right) \\mathrm{d} u\\otimes \\mathrm{d} u -\\mathrm{d} u\\otimes \\mathrm{d} v + B\\left(u, x, y\\right) \\mathrm{d} u\\otimes \\mathrm{d} x + C\\left(u, x, y\\right) \\mathrm{d} u\\otimes \\mathrm{d} y -\\mathrm{d} v\\otimes \\mathrm{d} u + B\\left(u, x, y\\right) \\mathrm{d} x\\otimes \\mathrm{d} u +\\mathrm{d} x\\otimes \\mathrm{d} x + C\\left(u, x, y\\right) \\mathrm{d} y\\otimes \\mathrm{d} u +\\mathrm{d} y\\otimes \\mathrm{d} y$"
      ],
      "text/plain": [
       "g = K(u, x, y) du⊗du - du⊗dv + B(u, x, y) du⊗dx + C(u, x, y) du⊗dy - dv⊗du + B(u, x, y) dx⊗du + dx⊗dx + C(u, x, y) dy⊗du + dy⊗dy"
      ]
     },
     "execution_count": 6,
     "metadata": {},
     "output_type": "execute_result"
    }
   ],
   "source": [
    "g[0, 0], g[0, 1], g[1, 0], g[0, 2], g[2, 0], g[0, 3], g[3, 0], g[2, 2], g[3, 3] = K, -1, -1, B, B, C, C, 1, 1\n",
    "g.display()"
   ]
  },
  {
   "cell_type": "code",
   "execution_count": 7,
   "id": "c499913a",
   "metadata": {},
   "outputs": [
    {
     "data": {
      "text/html": [
       "<html>\\(\\displaystyle \\left(\\begin{array}{rrrr}\n",
       "K\\left(u, x, y\\right) & -1 & B\\left(u, x, y\\right) & C\\left(u, x, y\\right) \\\\\n",
       "-1 & 0 & 0 & 0 \\\\\n",
       "B\\left(u, x, y\\right) & 0 & 1 & 0 \\\\\n",
       "C\\left(u, x, y\\right) & 0 & 0 & 1\n",
       "\\end{array}\\right)\\)</html>"
      ],
      "text/latex": [
       "$\\displaystyle \\left(\\begin{array}{rrrr}\n",
       "K\\left(u, x, y\\right) & -1 & B\\left(u, x, y\\right) & C\\left(u, x, y\\right) \\\\\n",
       "-1 & 0 & 0 & 0 \\\\\n",
       "B\\left(u, x, y\\right) & 0 & 1 & 0 \\\\\n",
       "C\\left(u, x, y\\right) & 0 & 0 & 1\n",
       "\\end{array}\\right)$"
      ],
      "text/plain": [
       "[K(u, x, y)         -1 B(u, x, y) C(u, x, y)]\n",
       "[        -1          0          0          0]\n",
       "[B(u, x, y)          0          1          0]\n",
       "[C(u, x, y)          0          0          1]"
      ]
     },
     "execution_count": 7,
     "metadata": {},
     "output_type": "execute_result"
    }
   ],
   "source": [
    "g[:]"
   ]
  },
  {
   "cell_type": "code",
   "execution_count": 9,
   "id": "9079f2b3",
   "metadata": {},
   "outputs": [
    {
     "data": {
      "text/html": [
       "<html>\\(\\displaystyle \\begin{array}{lcl} \\mathrm{Riem}\\left(g\\right)_{ \\phantom{\\, v} \\, u \\, u \\, x }^{ \\, v \\phantom{\\, u} \\phantom{\\, u} \\phantom{\\, x} } & = & -\\frac{1}{4} \\, B\\left(u, x, y\\right) \\left(\\frac{\\partial\\,B}{\\partial y}\\right)^{2} + \\frac{1}{2} \\, B\\left(u, x, y\\right) \\frac{\\partial\\,B}{\\partial y} \\frac{\\partial\\,C}{\\partial x} - \\frac{1}{4} \\, B\\left(u, x, y\\right) \\frac{\\partial\\,C}{\\partial x}^{2} - B\\left(u, x, y\\right) \\frac{\\partial^2\\,B}{\\partial u\\partial x} - \\frac{1}{2} \\, C\\left(u, x, y\\right) \\frac{\\partial^2\\,B}{\\partial u\\partial y} - \\frac{1}{2} \\, C\\left(u, x, y\\right) \\frac{\\partial^2\\,C}{\\partial u\\partial x} + \\frac{1}{2} \\, B\\left(u, x, y\\right) \\frac{\\partial^2\\,K}{\\partial x ^ 2} + \\frac{1}{2} \\, C\\left(u, x, y\\right) \\frac{\\partial^2\\,K}{\\partial x\\partial y} \\\\ \\mathrm{Riem}\\left(g\\right)_{ \\phantom{\\, v} \\, u \\, u \\, y }^{ \\, v \\phantom{\\, u} \\phantom{\\, u} \\phantom{\\, y} } & = & -\\frac{1}{4} \\, C\\left(u, x, y\\right) \\left(\\frac{\\partial\\,B}{\\partial y}\\right)^{2} + \\frac{1}{2} \\, C\\left(u, x, y\\right) \\frac{\\partial\\,B}{\\partial y} \\frac{\\partial\\,C}{\\partial x} - \\frac{1}{4} \\, C\\left(u, x, y\\right) \\frac{\\partial\\,C}{\\partial x}^{2} - \\frac{1}{2} \\, B\\left(u, x, y\\right) \\frac{\\partial^2\\,B}{\\partial u\\partial y} - \\frac{1}{2} \\, B\\left(u, x, y\\right) \\frac{\\partial^2\\,C}{\\partial u\\partial x} - C\\left(u, x, y\\right) \\frac{\\partial^2\\,C}{\\partial u\\partial y} + \\frac{1}{2} \\, B\\left(u, x, y\\right) \\frac{\\partial^2\\,K}{\\partial x\\partial y} + \\frac{1}{2} \\, C\\left(u, x, y\\right) \\frac{\\partial^2\\,K}{\\partial y ^ 2} \\\\ \\mathrm{Riem}\\left(g\\right)_{ \\phantom{\\, v} \\, u \\, x \\, u }^{ \\, v \\phantom{\\, u} \\phantom{\\, x} \\phantom{\\, u} } & = & \\frac{1}{4} \\, B\\left(u, x, y\\right) \\left(\\frac{\\partial\\,B}{\\partial y}\\right)^{2} - \\frac{1}{2} \\, B\\left(u, x, y\\right) \\frac{\\partial\\,B}{\\partial y} \\frac{\\partial\\,C}{\\partial x} + \\frac{1}{4} \\, B\\left(u, x, y\\right) \\frac{\\partial\\,C}{\\partial x}^{2} + B\\left(u, x, y\\right) \\frac{\\partial^2\\,B}{\\partial u\\partial x} + \\frac{1}{2} \\, C\\left(u, x, y\\right) \\frac{\\partial^2\\,B}{\\partial u\\partial y} + \\frac{1}{2} \\, C\\left(u, x, y\\right) \\frac{\\partial^2\\,C}{\\partial u\\partial x} - \\frac{1}{2} \\, B\\left(u, x, y\\right) \\frac{\\partial^2\\,K}{\\partial x ^ 2} - \\frac{1}{2} \\, C\\left(u, x, y\\right) \\frac{\\partial^2\\,K}{\\partial x\\partial y} \\\\ \\mathrm{Riem}\\left(g\\right)_{ \\phantom{\\, v} \\, u \\, x \\, y }^{ \\, v \\phantom{\\, u} \\phantom{\\, x} \\phantom{\\, y} } & = & \\frac{1}{2} \\, B\\left(u, x, y\\right) \\frac{\\partial^2\\,B}{\\partial x\\partial y} + \\frac{1}{2} \\, C\\left(u, x, y\\right) \\frac{\\partial^2\\,B}{\\partial y ^ 2} - \\frac{1}{2} \\, B\\left(u, x, y\\right) \\frac{\\partial^2\\,C}{\\partial x ^ 2} - \\frac{1}{2} \\, C\\left(u, x, y\\right) \\frac{\\partial^2\\,C}{\\partial x\\partial y} \\\\ \\mathrm{Riem}\\left(g\\right)_{ \\phantom{\\, v} \\, u \\, y \\, u }^{ \\, v \\phantom{\\, u} \\phantom{\\, y} \\phantom{\\, u} } & = & \\frac{1}{4} \\, C\\left(u, x, y\\right) \\left(\\frac{\\partial\\,B}{\\partial y}\\right)^{2} - \\frac{1}{2} \\, C\\left(u, x, y\\right) \\frac{\\partial\\,B}{\\partial y} \\frac{\\partial\\,C}{\\partial x} + \\frac{1}{4} \\, C\\left(u, x, y\\right) \\frac{\\partial\\,C}{\\partial x}^{2} + \\frac{1}{2} \\, B\\left(u, x, y\\right) \\frac{\\partial^2\\,B}{\\partial u\\partial y} + \\frac{1}{2} \\, B\\left(u, x, y\\right) \\frac{\\partial^2\\,C}{\\partial u\\partial x} + C\\left(u, x, y\\right) \\frac{\\partial^2\\,C}{\\partial u\\partial y} - \\frac{1}{2} \\, B\\left(u, x, y\\right) \\frac{\\partial^2\\,K}{\\partial x\\partial y} - \\frac{1}{2} \\, C\\left(u, x, y\\right) \\frac{\\partial^2\\,K}{\\partial y ^ 2} \\\\ \\mathrm{Riem}\\left(g\\right)_{ \\phantom{\\, v} \\, u \\, y \\, x }^{ \\, v \\phantom{\\, u} \\phantom{\\, y} \\phantom{\\, x} } & = & -\\frac{1}{2} \\, B\\left(u, x, y\\right) \\frac{\\partial^2\\,B}{\\partial x\\partial y} - \\frac{1}{2} \\, C\\left(u, x, y\\right) \\frac{\\partial^2\\,B}{\\partial y ^ 2} + \\frac{1}{2} \\, B\\left(u, x, y\\right) \\frac{\\partial^2\\,C}{\\partial x ^ 2} + \\frac{1}{2} \\, C\\left(u, x, y\\right) \\frac{\\partial^2\\,C}{\\partial x\\partial y} \\\\ \\mathrm{Riem}\\left(g\\right)_{ \\phantom{\\, v} \\, x \\, u \\, x }^{ \\, v \\phantom{\\, x} \\phantom{\\, u} \\phantom{\\, x} } & = & \\frac{1}{2} \\, C\\left(u, x, y\\right) \\frac{\\partial^2\\,B}{\\partial x\\partial y} - \\frac{1}{4} \\, \\left(\\frac{\\partial\\,B}{\\partial y}\\right)^{2} + \\frac{1}{2} \\, \\frac{\\partial\\,B}{\\partial y} \\frac{\\partial\\,C}{\\partial x} - \\frac{1}{4} \\, \\frac{\\partial\\,C}{\\partial x}^{2} - \\frac{1}{2} \\, C\\left(u, x, y\\right) \\frac{\\partial^2\\,C}{\\partial x ^ 2} - \\frac{\\partial^2\\,B}{\\partial u\\partial x} + \\frac{1}{2} \\, \\frac{\\partial^2\\,K}{\\partial x ^ 2} \\\\ \\mathrm{Riem}\\left(g\\right)_{ \\phantom{\\, v} \\, x \\, u \\, y }^{ \\, v \\phantom{\\, x} \\phantom{\\, u} \\phantom{\\, y} } & = & \\frac{1}{2} \\, C\\left(u, x, y\\right) \\frac{\\partial^2\\,B}{\\partial y ^ 2} - \\frac{1}{2} \\, C\\left(u, x, y\\right) \\frac{\\partial^2\\,C}{\\partial x\\partial y} - \\frac{1}{2} \\, \\frac{\\partial^2\\,B}{\\partial u\\partial y} - \\frac{1}{2} \\, \\frac{\\partial^2\\,C}{\\partial u\\partial x} + \\frac{1}{2} \\, \\frac{\\partial^2\\,K}{\\partial x\\partial y} \\\\ \\mathrm{Riem}\\left(g\\right)_{ \\phantom{\\, v} \\, x \\, x \\, u }^{ \\, v \\phantom{\\, x} \\phantom{\\, x} \\phantom{\\, u} } & = & -\\frac{1}{2} \\, C\\left(u, x, y\\right) \\frac{\\partial^2\\,B}{\\partial x\\partial y} + \\frac{1}{4} \\, \\left(\\frac{\\partial\\,B}{\\partial y}\\right)^{2} - \\frac{1}{2} \\, \\frac{\\partial\\,B}{\\partial y} \\frac{\\partial\\,C}{\\partial x} + \\frac{1}{4} \\, \\frac{\\partial\\,C}{\\partial x}^{2} + \\frac{1}{2} \\, C\\left(u, x, y\\right) \\frac{\\partial^2\\,C}{\\partial x ^ 2} + \\frac{\\partial^2\\,B}{\\partial u\\partial x} - \\frac{1}{2} \\, \\frac{\\partial^2\\,K}{\\partial x ^ 2} \\\\ \\mathrm{Riem}\\left(g\\right)_{ \\phantom{\\, v} \\, x \\, x \\, y }^{ \\, v \\phantom{\\, x} \\phantom{\\, x} \\phantom{\\, y} } & = & \\frac{1}{2} \\, \\frac{\\partial^2\\,B}{\\partial x\\partial y} - \\frac{1}{2} \\, \\frac{\\partial^2\\,C}{\\partial x ^ 2} \\\\ \\mathrm{Riem}\\left(g\\right)_{ \\phantom{\\, v} \\, x \\, y \\, u }^{ \\, v \\phantom{\\, x} \\phantom{\\, y} \\phantom{\\, u} } & = & -\\frac{1}{2} \\, C\\left(u, x, y\\right) \\frac{\\partial^2\\,B}{\\partial y ^ 2} + \\frac{1}{2} \\, C\\left(u, x, y\\right) \\frac{\\partial^2\\,C}{\\partial x\\partial y} + \\frac{1}{2} \\, \\frac{\\partial^2\\,B}{\\partial u\\partial y} + \\frac{1}{2} \\, \\frac{\\partial^2\\,C}{\\partial u\\partial x} - \\frac{1}{2} \\, \\frac{\\partial^2\\,K}{\\partial x\\partial y} \\\\ \\mathrm{Riem}\\left(g\\right)_{ \\phantom{\\, v} \\, x \\, y \\, x }^{ \\, v \\phantom{\\, x} \\phantom{\\, y} \\phantom{\\, x} } & = & -\\frac{1}{2} \\, \\frac{\\partial^2\\,B}{\\partial x\\partial y} + \\frac{1}{2} \\, \\frac{\\partial^2\\,C}{\\partial x ^ 2} \\\\ \\mathrm{Riem}\\left(g\\right)_{ \\phantom{\\, v} \\, y \\, u \\, x }^{ \\, v \\phantom{\\, y} \\phantom{\\, u} \\phantom{\\, x} } & = & -\\frac{1}{2} \\, B\\left(u, x, y\\right) \\frac{\\partial^2\\,B}{\\partial x\\partial y} + \\frac{1}{2} \\, B\\left(u, x, y\\right) \\frac{\\partial^2\\,C}{\\partial x ^ 2} - \\frac{1}{2} \\, \\frac{\\partial^2\\,B}{\\partial u\\partial y} - \\frac{1}{2} \\, \\frac{\\partial^2\\,C}{\\partial u\\partial x} + \\frac{1}{2} \\, \\frac{\\partial^2\\,K}{\\partial x\\partial y} \\\\ \\mathrm{Riem}\\left(g\\right)_{ \\phantom{\\, v} \\, y \\, u \\, y }^{ \\, v \\phantom{\\, y} \\phantom{\\, u} \\phantom{\\, y} } & = & -\\frac{1}{4} \\, \\left(\\frac{\\partial\\,B}{\\partial y}\\right)^{2} - \\frac{1}{2} \\, B\\left(u, x, y\\right) \\frac{\\partial^2\\,B}{\\partial y ^ 2} + \\frac{1}{2} \\, \\frac{\\partial\\,B}{\\partial y} \\frac{\\partial\\,C}{\\partial x} - \\frac{1}{4} \\, \\frac{\\partial\\,C}{\\partial x}^{2} + \\frac{1}{2} \\, B\\left(u, x, y\\right) \\frac{\\partial^2\\,C}{\\partial x\\partial y} - \\frac{\\partial^2\\,C}{\\partial u\\partial y} + \\frac{1}{2} \\, \\frac{\\partial^2\\,K}{\\partial y ^ 2} \\\\ \\mathrm{Riem}\\left(g\\right)_{ \\phantom{\\, v} \\, y \\, x \\, u }^{ \\, v \\phantom{\\, y} \\phantom{\\, x} \\phantom{\\, u} } & = & \\frac{1}{2} \\, B\\left(u, x, y\\right) \\frac{\\partial^2\\,B}{\\partial x\\partial y} - \\frac{1}{2} \\, B\\left(u, x, y\\right) \\frac{\\partial^2\\,C}{\\partial x ^ 2} + \\frac{1}{2} \\, \\frac{\\partial^2\\,B}{\\partial u\\partial y} + \\frac{1}{2} \\, \\frac{\\partial^2\\,C}{\\partial u\\partial x} - \\frac{1}{2} \\, \\frac{\\partial^2\\,K}{\\partial x\\partial y} \\\\ \\mathrm{Riem}\\left(g\\right)_{ \\phantom{\\, v} \\, y \\, x \\, y }^{ \\, v \\phantom{\\, y} \\phantom{\\, x} \\phantom{\\, y} } & = & \\frac{1}{2} \\, \\frac{\\partial^2\\,B}{\\partial y ^ 2} - \\frac{1}{2} \\, \\frac{\\partial^2\\,C}{\\partial x\\partial y} \\\\ \\mathrm{Riem}\\left(g\\right)_{ \\phantom{\\, v} \\, y \\, y \\, u }^{ \\, v \\phantom{\\, y} \\phantom{\\, y} \\phantom{\\, u} } & = & \\frac{1}{4} \\, \\left(\\frac{\\partial\\,B}{\\partial y}\\right)^{2} + \\frac{1}{2} \\, B\\left(u, x, y\\right) \\frac{\\partial^2\\,B}{\\partial y ^ 2} - \\frac{1}{2} \\, \\frac{\\partial\\,B}{\\partial y} \\frac{\\partial\\,C}{\\partial x} + \\frac{1}{4} \\, \\frac{\\partial\\,C}{\\partial x}^{2} - \\frac{1}{2} \\, B\\left(u, x, y\\right) \\frac{\\partial^2\\,C}{\\partial x\\partial y} + \\frac{\\partial^2\\,C}{\\partial u\\partial y} - \\frac{1}{2} \\, \\frac{\\partial^2\\,K}{\\partial y ^ 2} \\\\ \\mathrm{Riem}\\left(g\\right)_{ \\phantom{\\, v} \\, y \\, y \\, x }^{ \\, v \\phantom{\\, y} \\phantom{\\, y} \\phantom{\\, x} } & = & -\\frac{1}{2} \\, \\frac{\\partial^2\\,B}{\\partial y ^ 2} + \\frac{1}{2} \\, \\frac{\\partial^2\\,C}{\\partial x\\partial y} \\\\ \\mathrm{Riem}\\left(g\\right)_{ \\phantom{\\, x} \\, u \\, u \\, x }^{ \\, x \\phantom{\\, u} \\phantom{\\, u} \\phantom{\\, x} } & = & -\\frac{1}{4} \\, \\left(\\frac{\\partial\\,B}{\\partial y}\\right)^{2} + \\frac{1}{2} \\, \\frac{\\partial\\,B}{\\partial y} \\frac{\\partial\\,C}{\\partial x} - \\frac{1}{4} \\, \\frac{\\partial\\,C}{\\partial x}^{2} - \\frac{\\partial^2\\,B}{\\partial u\\partial x} + \\frac{1}{2} \\, \\frac{\\partial^2\\,K}{\\partial x ^ 2} \\\\ \\mathrm{Riem}\\left(g\\right)_{ \\phantom{\\, x} \\, u \\, u \\, y }^{ \\, x \\phantom{\\, u} \\phantom{\\, u} \\phantom{\\, y} } & = & -\\frac{1}{2} \\, \\frac{\\partial^2\\,B}{\\partial u\\partial y} - \\frac{1}{2} \\, \\frac{\\partial^2\\,C}{\\partial u\\partial x} + \\frac{1}{2} \\, \\frac{\\partial^2\\,K}{\\partial x\\partial y} \\\\ \\mathrm{Riem}\\left(g\\right)_{ \\phantom{\\, x} \\, u \\, x \\, u }^{ \\, x \\phantom{\\, u} \\phantom{\\, x} \\phantom{\\, u} } & = & \\frac{1}{4} \\, \\left(\\frac{\\partial\\,B}{\\partial y}\\right)^{2} - \\frac{1}{2} \\, \\frac{\\partial\\,B}{\\partial y} \\frac{\\partial\\,C}{\\partial x} + \\frac{1}{4} \\, \\frac{\\partial\\,C}{\\partial x}^{2} + \\frac{\\partial^2\\,B}{\\partial u\\partial x} - \\frac{1}{2} \\, \\frac{\\partial^2\\,K}{\\partial x ^ 2} \\\\ \\mathrm{Riem}\\left(g\\right)_{ \\phantom{\\, x} \\, u \\, x \\, y }^{ \\, x \\phantom{\\, u} \\phantom{\\, x} \\phantom{\\, y} } & = & \\frac{1}{2} \\, \\frac{\\partial^2\\,B}{\\partial x\\partial y} - \\frac{1}{2} \\, \\frac{\\partial^2\\,C}{\\partial x ^ 2} \\\\ \\mathrm{Riem}\\left(g\\right)_{ \\phantom{\\, x} \\, u \\, y \\, u }^{ \\, x \\phantom{\\, u} \\phantom{\\, y} \\phantom{\\, u} } & = & \\frac{1}{2} \\, \\frac{\\partial^2\\,B}{\\partial u\\partial y} + \\frac{1}{2} \\, \\frac{\\partial^2\\,C}{\\partial u\\partial x} - \\frac{1}{2} \\, \\frac{\\partial^2\\,K}{\\partial x\\partial y} \\\\ \\mathrm{Riem}\\left(g\\right)_{ \\phantom{\\, x} \\, u \\, y \\, x }^{ \\, x \\phantom{\\, u} \\phantom{\\, y} \\phantom{\\, x} } & = & -\\frac{1}{2} \\, \\frac{\\partial^2\\,B}{\\partial x\\partial y} + \\frac{1}{2} \\, \\frac{\\partial^2\\,C}{\\partial x ^ 2} \\\\ \\mathrm{Riem}\\left(g\\right)_{ \\phantom{\\, x} \\, y \\, u \\, x }^{ \\, x \\phantom{\\, y} \\phantom{\\, u} \\phantom{\\, x} } & = & -\\frac{1}{2} \\, \\frac{\\partial^2\\,B}{\\partial x\\partial y} + \\frac{1}{2} \\, \\frac{\\partial^2\\,C}{\\partial x ^ 2} \\\\ \\mathrm{Riem}\\left(g\\right)_{ \\phantom{\\, x} \\, y \\, u \\, y }^{ \\, x \\phantom{\\, y} \\phantom{\\, u} \\phantom{\\, y} } & = & -\\frac{1}{2} \\, \\frac{\\partial^2\\,B}{\\partial y ^ 2} + \\frac{1}{2} \\, \\frac{\\partial^2\\,C}{\\partial x\\partial y} \\\\ \\mathrm{Riem}\\left(g\\right)_{ \\phantom{\\, x} \\, y \\, x \\, u }^{ \\, x \\phantom{\\, y} \\phantom{\\, x} \\phantom{\\, u} } & = & \\frac{1}{2} \\, \\frac{\\partial^2\\,B}{\\partial x\\partial y} - \\frac{1}{2} \\, \\frac{\\partial^2\\,C}{\\partial x ^ 2} \\\\ \\mathrm{Riem}\\left(g\\right)_{ \\phantom{\\, x} \\, y \\, y \\, u }^{ \\, x \\phantom{\\, y} \\phantom{\\, y} \\phantom{\\, u} } & = & \\frac{1}{2} \\, \\frac{\\partial^2\\,B}{\\partial y ^ 2} - \\frac{1}{2} \\, \\frac{\\partial^2\\,C}{\\partial x\\partial y} \\\\ \\mathrm{Riem}\\left(g\\right)_{ \\phantom{\\, y} \\, u \\, u \\, x }^{ \\, y \\phantom{\\, u} \\phantom{\\, u} \\phantom{\\, x} } & = & -\\frac{1}{2} \\, \\frac{\\partial^2\\,B}{\\partial u\\partial y} - \\frac{1}{2} \\, \\frac{\\partial^2\\,C}{\\partial u\\partial x} + \\frac{1}{2} \\, \\frac{\\partial^2\\,K}{\\partial x\\partial y} \\\\ \\mathrm{Riem}\\left(g\\right)_{ \\phantom{\\, y} \\, u \\, u \\, y }^{ \\, y \\phantom{\\, u} \\phantom{\\, u} \\phantom{\\, y} } & = & -\\frac{1}{4} \\, \\left(\\frac{\\partial\\,B}{\\partial y}\\right)^{2} + \\frac{1}{2} \\, \\frac{\\partial\\,B}{\\partial y} \\frac{\\partial\\,C}{\\partial x} - \\frac{1}{4} \\, \\frac{\\partial\\,C}{\\partial x}^{2} - \\frac{\\partial^2\\,C}{\\partial u\\partial y} + \\frac{1}{2} \\, \\frac{\\partial^2\\,K}{\\partial y ^ 2} \\\\ \\mathrm{Riem}\\left(g\\right)_{ \\phantom{\\, y} \\, u \\, x \\, u }^{ \\, y \\phantom{\\, u} \\phantom{\\, x} \\phantom{\\, u} } & = & \\frac{1}{2} \\, \\frac{\\partial^2\\,B}{\\partial u\\partial y} + \\frac{1}{2} \\, \\frac{\\partial^2\\,C}{\\partial u\\partial x} - \\frac{1}{2} \\, \\frac{\\partial^2\\,K}{\\partial x\\partial y} \\\\ \\mathrm{Riem}\\left(g\\right)_{ \\phantom{\\, y} \\, u \\, x \\, y }^{ \\, y \\phantom{\\, u} \\phantom{\\, x} \\phantom{\\, y} } & = & \\frac{1}{2} \\, \\frac{\\partial^2\\,B}{\\partial y ^ 2} - \\frac{1}{2} \\, \\frac{\\partial^2\\,C}{\\partial x\\partial y} \\\\ \\mathrm{Riem}\\left(g\\right)_{ \\phantom{\\, y} \\, u \\, y \\, u }^{ \\, y \\phantom{\\, u} \\phantom{\\, y} \\phantom{\\, u} } & = & \\frac{1}{4} \\, \\left(\\frac{\\partial\\,B}{\\partial y}\\right)^{2} - \\frac{1}{2} \\, \\frac{\\partial\\,B}{\\partial y} \\frac{\\partial\\,C}{\\partial x} + \\frac{1}{4} \\, \\frac{\\partial\\,C}{\\partial x}^{2} + \\frac{\\partial^2\\,C}{\\partial u\\partial y} - \\frac{1}{2} \\, \\frac{\\partial^2\\,K}{\\partial y ^ 2} \\\\ \\mathrm{Riem}\\left(g\\right)_{ \\phantom{\\, y} \\, u \\, y \\, x }^{ \\, y \\phantom{\\, u} \\phantom{\\, y} \\phantom{\\, x} } & = & -\\frac{1}{2} \\, \\frac{\\partial^2\\,B}{\\partial y ^ 2} + \\frac{1}{2} \\, \\frac{\\partial^2\\,C}{\\partial x\\partial y} \\\\ \\mathrm{Riem}\\left(g\\right)_{ \\phantom{\\, y} \\, x \\, u \\, x }^{ \\, y \\phantom{\\, x} \\phantom{\\, u} \\phantom{\\, x} } & = & \\frac{1}{2} \\, \\frac{\\partial^2\\,B}{\\partial x\\partial y} - \\frac{1}{2} \\, \\frac{\\partial^2\\,C}{\\partial x ^ 2} \\\\ \\mathrm{Riem}\\left(g\\right)_{ \\phantom{\\, y} \\, x \\, u \\, y }^{ \\, y \\phantom{\\, x} \\phantom{\\, u} \\phantom{\\, y} } & = & \\frac{1}{2} \\, \\frac{\\partial^2\\,B}{\\partial y ^ 2} - \\frac{1}{2} \\, \\frac{\\partial^2\\,C}{\\partial x\\partial y} \\\\ \\mathrm{Riem}\\left(g\\right)_{ \\phantom{\\, y} \\, x \\, x \\, u }^{ \\, y \\phantom{\\, x} \\phantom{\\, x} \\phantom{\\, u} } & = & -\\frac{1}{2} \\, \\frac{\\partial^2\\,B}{\\partial x\\partial y} + \\frac{1}{2} \\, \\frac{\\partial^2\\,C}{\\partial x ^ 2} \\\\ \\mathrm{Riem}\\left(g\\right)_{ \\phantom{\\, y} \\, x \\, y \\, u }^{ \\, y \\phantom{\\, x} \\phantom{\\, y} \\phantom{\\, u} } & = & -\\frac{1}{2} \\, \\frac{\\partial^2\\,B}{\\partial y ^ 2} + \\frac{1}{2} \\, \\frac{\\partial^2\\,C}{\\partial x\\partial y} \\end{array}\\)</html>"
      ],
      "text/latex": [
       "$\\displaystyle \\begin{array}{lcl} \\mathrm{Riem}\\left(g\\right)_{ \\phantom{\\, v} \\, u \\, u \\, x }^{ \\, v \\phantom{\\, u} \\phantom{\\, u} \\phantom{\\, x} } & = & -\\frac{1}{4} \\, B\\left(u, x, y\\right) \\left(\\frac{\\partial\\,B}{\\partial y}\\right)^{2} + \\frac{1}{2} \\, B\\left(u, x, y\\right) \\frac{\\partial\\,B}{\\partial y} \\frac{\\partial\\,C}{\\partial x} - \\frac{1}{4} \\, B\\left(u, x, y\\right) \\frac{\\partial\\,C}{\\partial x}^{2} - B\\left(u, x, y\\right) \\frac{\\partial^2\\,B}{\\partial u\\partial x} - \\frac{1}{2} \\, C\\left(u, x, y\\right) \\frac{\\partial^2\\,B}{\\partial u\\partial y} - \\frac{1}{2} \\, C\\left(u, x, y\\right) \\frac{\\partial^2\\,C}{\\partial u\\partial x} + \\frac{1}{2} \\, B\\left(u, x, y\\right) \\frac{\\partial^2\\,K}{\\partial x ^ 2} + \\frac{1}{2} \\, C\\left(u, x, y\\right) \\frac{\\partial^2\\,K}{\\partial x\\partial y} \\\\ \\mathrm{Riem}\\left(g\\right)_{ \\phantom{\\, v} \\, u \\, u \\, y }^{ \\, v \\phantom{\\, u} \\phantom{\\, u} \\phantom{\\, y} } & = & -\\frac{1}{4} \\, C\\left(u, x, y\\right) \\left(\\frac{\\partial\\,B}{\\partial y}\\right)^{2} + \\frac{1}{2} \\, C\\left(u, x, y\\right) \\frac{\\partial\\,B}{\\partial y} \\frac{\\partial\\,C}{\\partial x} - \\frac{1}{4} \\, C\\left(u, x, y\\right) \\frac{\\partial\\,C}{\\partial x}^{2} - \\frac{1}{2} \\, B\\left(u, x, y\\right) \\frac{\\partial^2\\,B}{\\partial u\\partial y} - \\frac{1}{2} \\, B\\left(u, x, y\\right) \\frac{\\partial^2\\,C}{\\partial u\\partial x} - C\\left(u, x, y\\right) \\frac{\\partial^2\\,C}{\\partial u\\partial y} + \\frac{1}{2} \\, B\\left(u, x, y\\right) \\frac{\\partial^2\\,K}{\\partial x\\partial y} + \\frac{1}{2} \\, C\\left(u, x, y\\right) \\frac{\\partial^2\\,K}{\\partial y ^ 2} \\\\ \\mathrm{Riem}\\left(g\\right)_{ \\phantom{\\, v} \\, u \\, x \\, u }^{ \\, v \\phantom{\\, u} \\phantom{\\, x} \\phantom{\\, u} } & = & \\frac{1}{4} \\, B\\left(u, x, y\\right) \\left(\\frac{\\partial\\,B}{\\partial y}\\right)^{2} - \\frac{1}{2} \\, B\\left(u, x, y\\right) \\frac{\\partial\\,B}{\\partial y} \\frac{\\partial\\,C}{\\partial x} + \\frac{1}{4} \\, B\\left(u, x, y\\right) \\frac{\\partial\\,C}{\\partial x}^{2} + B\\left(u, x, y\\right) \\frac{\\partial^2\\,B}{\\partial u\\partial x} + \\frac{1}{2} \\, C\\left(u, x, y\\right) \\frac{\\partial^2\\,B}{\\partial u\\partial y} + \\frac{1}{2} \\, C\\left(u, x, y\\right) \\frac{\\partial^2\\,C}{\\partial u\\partial x} - \\frac{1}{2} \\, B\\left(u, x, y\\right) \\frac{\\partial^2\\,K}{\\partial x ^ 2} - \\frac{1}{2} \\, C\\left(u, x, y\\right) \\frac{\\partial^2\\,K}{\\partial x\\partial y} \\\\ \\mathrm{Riem}\\left(g\\right)_{ \\phantom{\\, v} \\, u \\, x \\, y }^{ \\, v \\phantom{\\, u} \\phantom{\\, x} \\phantom{\\, y} } & = & \\frac{1}{2} \\, B\\left(u, x, y\\right) \\frac{\\partial^2\\,B}{\\partial x\\partial y} + \\frac{1}{2} \\, C\\left(u, x, y\\right) \\frac{\\partial^2\\,B}{\\partial y ^ 2} - \\frac{1}{2} \\, B\\left(u, x, y\\right) \\frac{\\partial^2\\,C}{\\partial x ^ 2} - \\frac{1}{2} \\, C\\left(u, x, y\\right) \\frac{\\partial^2\\,C}{\\partial x\\partial y} \\\\ \\mathrm{Riem}\\left(g\\right)_{ \\phantom{\\, v} \\, u \\, y \\, u }^{ \\, v \\phantom{\\, u} \\phantom{\\, y} \\phantom{\\, u} } & = & \\frac{1}{4} \\, C\\left(u, x, y\\right) \\left(\\frac{\\partial\\,B}{\\partial y}\\right)^{2} - \\frac{1}{2} \\, C\\left(u, x, y\\right) \\frac{\\partial\\,B}{\\partial y} \\frac{\\partial\\,C}{\\partial x} + \\frac{1}{4} \\, C\\left(u, x, y\\right) \\frac{\\partial\\,C}{\\partial x}^{2} + \\frac{1}{2} \\, B\\left(u, x, y\\right) \\frac{\\partial^2\\,B}{\\partial u\\partial y} + \\frac{1}{2} \\, B\\left(u, x, y\\right) \\frac{\\partial^2\\,C}{\\partial u\\partial x} + C\\left(u, x, y\\right) \\frac{\\partial^2\\,C}{\\partial u\\partial y} - \\frac{1}{2} \\, B\\left(u, x, y\\right) \\frac{\\partial^2\\,K}{\\partial x\\partial y} - \\frac{1}{2} \\, C\\left(u, x, y\\right) \\frac{\\partial^2\\,K}{\\partial y ^ 2} \\\\ \\mathrm{Riem}\\left(g\\right)_{ \\phantom{\\, v} \\, u \\, y \\, x }^{ \\, v \\phantom{\\, u} \\phantom{\\, y} \\phantom{\\, x} } & = & -\\frac{1}{2} \\, B\\left(u, x, y\\right) \\frac{\\partial^2\\,B}{\\partial x\\partial y} - \\frac{1}{2} \\, C\\left(u, x, y\\right) \\frac{\\partial^2\\,B}{\\partial y ^ 2} + \\frac{1}{2} \\, B\\left(u, x, y\\right) \\frac{\\partial^2\\,C}{\\partial x ^ 2} + \\frac{1}{2} \\, C\\left(u, x, y\\right) \\frac{\\partial^2\\,C}{\\partial x\\partial y} \\\\ \\mathrm{Riem}\\left(g\\right)_{ \\phantom{\\, v} \\, x \\, u \\, x }^{ \\, v \\phantom{\\, x} \\phantom{\\, u} \\phantom{\\, x} } & = & \\frac{1}{2} \\, C\\left(u, x, y\\right) \\frac{\\partial^2\\,B}{\\partial x\\partial y} - \\frac{1}{4} \\, \\left(\\frac{\\partial\\,B}{\\partial y}\\right)^{2} + \\frac{1}{2} \\, \\frac{\\partial\\,B}{\\partial y} \\frac{\\partial\\,C}{\\partial x} - \\frac{1}{4} \\, \\frac{\\partial\\,C}{\\partial x}^{2} - \\frac{1}{2} \\, C\\left(u, x, y\\right) \\frac{\\partial^2\\,C}{\\partial x ^ 2} - \\frac{\\partial^2\\,B}{\\partial u\\partial x} + \\frac{1}{2} \\, \\frac{\\partial^2\\,K}{\\partial x ^ 2} \\\\ \\mathrm{Riem}\\left(g\\right)_{ \\phantom{\\, v} \\, x \\, u \\, y }^{ \\, v \\phantom{\\, x} \\phantom{\\, u} \\phantom{\\, y} } & = & \\frac{1}{2} \\, C\\left(u, x, y\\right) \\frac{\\partial^2\\,B}{\\partial y ^ 2} - \\frac{1}{2} \\, C\\left(u, x, y\\right) \\frac{\\partial^2\\,C}{\\partial x\\partial y} - \\frac{1}{2} \\, \\frac{\\partial^2\\,B}{\\partial u\\partial y} - \\frac{1}{2} \\, \\frac{\\partial^2\\,C}{\\partial u\\partial x} + \\frac{1}{2} \\, \\frac{\\partial^2\\,K}{\\partial x\\partial y} \\\\ \\mathrm{Riem}\\left(g\\right)_{ \\phantom{\\, v} \\, x \\, x \\, u }^{ \\, v \\phantom{\\, x} \\phantom{\\, x} \\phantom{\\, u} } & = & -\\frac{1}{2} \\, C\\left(u, x, y\\right) \\frac{\\partial^2\\,B}{\\partial x\\partial y} + \\frac{1}{4} \\, \\left(\\frac{\\partial\\,B}{\\partial y}\\right)^{2} - \\frac{1}{2} \\, \\frac{\\partial\\,B}{\\partial y} \\frac{\\partial\\,C}{\\partial x} + \\frac{1}{4} \\, \\frac{\\partial\\,C}{\\partial x}^{2} + \\frac{1}{2} \\, C\\left(u, x, y\\right) \\frac{\\partial^2\\,C}{\\partial x ^ 2} + \\frac{\\partial^2\\,B}{\\partial u\\partial x} - \\frac{1}{2} \\, \\frac{\\partial^2\\,K}{\\partial x ^ 2} \\\\ \\mathrm{Riem}\\left(g\\right)_{ \\phantom{\\, v} \\, x \\, x \\, y }^{ \\, v \\phantom{\\, x} \\phantom{\\, x} \\phantom{\\, y} } & = & \\frac{1}{2} \\, \\frac{\\partial^2\\,B}{\\partial x\\partial y} - \\frac{1}{2} \\, \\frac{\\partial^2\\,C}{\\partial x ^ 2} \\\\ \\mathrm{Riem}\\left(g\\right)_{ \\phantom{\\, v} \\, x \\, y \\, u }^{ \\, v \\phantom{\\, x} \\phantom{\\, y} \\phantom{\\, u} } & = & -\\frac{1}{2} \\, C\\left(u, x, y\\right) \\frac{\\partial^2\\,B}{\\partial y ^ 2} + \\frac{1}{2} \\, C\\left(u, x, y\\right) \\frac{\\partial^2\\,C}{\\partial x\\partial y} + \\frac{1}{2} \\, \\frac{\\partial^2\\,B}{\\partial u\\partial y} + \\frac{1}{2} \\, \\frac{\\partial^2\\,C}{\\partial u\\partial x} - \\frac{1}{2} \\, \\frac{\\partial^2\\,K}{\\partial x\\partial y} \\\\ \\mathrm{Riem}\\left(g\\right)_{ \\phantom{\\, v} \\, x \\, y \\, x }^{ \\, v \\phantom{\\, x} \\phantom{\\, y} \\phantom{\\, x} } & = & -\\frac{1}{2} \\, \\frac{\\partial^2\\,B}{\\partial x\\partial y} + \\frac{1}{2} \\, \\frac{\\partial^2\\,C}{\\partial x ^ 2} \\\\ \\mathrm{Riem}\\left(g\\right)_{ \\phantom{\\, v} \\, y \\, u \\, x }^{ \\, v \\phantom{\\, y} \\phantom{\\, u} \\phantom{\\, x} } & = & -\\frac{1}{2} \\, B\\left(u, x, y\\right) \\frac{\\partial^2\\,B}{\\partial x\\partial y} + \\frac{1}{2} \\, B\\left(u, x, y\\right) \\frac{\\partial^2\\,C}{\\partial x ^ 2} - \\frac{1}{2} \\, \\frac{\\partial^2\\,B}{\\partial u\\partial y} - \\frac{1}{2} \\, \\frac{\\partial^2\\,C}{\\partial u\\partial x} + \\frac{1}{2} \\, \\frac{\\partial^2\\,K}{\\partial x\\partial y} \\\\ \\mathrm{Riem}\\left(g\\right)_{ \\phantom{\\, v} \\, y \\, u \\, y }^{ \\, v \\phantom{\\, y} \\phantom{\\, u} \\phantom{\\, y} } & = & -\\frac{1}{4} \\, \\left(\\frac{\\partial\\,B}{\\partial y}\\right)^{2} - \\frac{1}{2} \\, B\\left(u, x, y\\right) \\frac{\\partial^2\\,B}{\\partial y ^ 2} + \\frac{1}{2} \\, \\frac{\\partial\\,B}{\\partial y} \\frac{\\partial\\,C}{\\partial x} - \\frac{1}{4} \\, \\frac{\\partial\\,C}{\\partial x}^{2} + \\frac{1}{2} \\, B\\left(u, x, y\\right) \\frac{\\partial^2\\,C}{\\partial x\\partial y} - \\frac{\\partial^2\\,C}{\\partial u\\partial y} + \\frac{1}{2} \\, \\frac{\\partial^2\\,K}{\\partial y ^ 2} \\\\ \\mathrm{Riem}\\left(g\\right)_{ \\phantom{\\, v} \\, y \\, x \\, u }^{ \\, v \\phantom{\\, y} \\phantom{\\, x} \\phantom{\\, u} } & = & \\frac{1}{2} \\, B\\left(u, x, y\\right) \\frac{\\partial^2\\,B}{\\partial x\\partial y} - \\frac{1}{2} \\, B\\left(u, x, y\\right) \\frac{\\partial^2\\,C}{\\partial x ^ 2} + \\frac{1}{2} \\, \\frac{\\partial^2\\,B}{\\partial u\\partial y} + \\frac{1}{2} \\, \\frac{\\partial^2\\,C}{\\partial u\\partial x} - \\frac{1}{2} \\, \\frac{\\partial^2\\,K}{\\partial x\\partial y} \\\\ \\mathrm{Riem}\\left(g\\right)_{ \\phantom{\\, v} \\, y \\, x \\, y }^{ \\, v \\phantom{\\, y} \\phantom{\\, x} \\phantom{\\, y} } & = & \\frac{1}{2} \\, \\frac{\\partial^2\\,B}{\\partial y ^ 2} - \\frac{1}{2} \\, \\frac{\\partial^2\\,C}{\\partial x\\partial y} \\\\ \\mathrm{Riem}\\left(g\\right)_{ \\phantom{\\, v} \\, y \\, y \\, u }^{ \\, v \\phantom{\\, y} \\phantom{\\, y} \\phantom{\\, u} } & = & \\frac{1}{4} \\, \\left(\\frac{\\partial\\,B}{\\partial y}\\right)^{2} + \\frac{1}{2} \\, B\\left(u, x, y\\right) \\frac{\\partial^2\\,B}{\\partial y ^ 2} - \\frac{1}{2} \\, \\frac{\\partial\\,B}{\\partial y} \\frac{\\partial\\,C}{\\partial x} + \\frac{1}{4} \\, \\frac{\\partial\\,C}{\\partial x}^{2} - \\frac{1}{2} \\, B\\left(u, x, y\\right) \\frac{\\partial^2\\,C}{\\partial x\\partial y} + \\frac{\\partial^2\\,C}{\\partial u\\partial y} - \\frac{1}{2} \\, \\frac{\\partial^2\\,K}{\\partial y ^ 2} \\\\ \\mathrm{Riem}\\left(g\\right)_{ \\phantom{\\, v} \\, y \\, y \\, x }^{ \\, v \\phantom{\\, y} \\phantom{\\, y} \\phantom{\\, x} } & = & -\\frac{1}{2} \\, \\frac{\\partial^2\\,B}{\\partial y ^ 2} + \\frac{1}{2} \\, \\frac{\\partial^2\\,C}{\\partial x\\partial y} \\\\ \\mathrm{Riem}\\left(g\\right)_{ \\phantom{\\, x} \\, u \\, u \\, x }^{ \\, x \\phantom{\\, u} \\phantom{\\, u} \\phantom{\\, x} } & = & -\\frac{1}{4} \\, \\left(\\frac{\\partial\\,B}{\\partial y}\\right)^{2} + \\frac{1}{2} \\, \\frac{\\partial\\,B}{\\partial y} \\frac{\\partial\\,C}{\\partial x} - \\frac{1}{4} \\, \\frac{\\partial\\,C}{\\partial x}^{2} - \\frac{\\partial^2\\,B}{\\partial u\\partial x} + \\frac{1}{2} \\, \\frac{\\partial^2\\,K}{\\partial x ^ 2} \\\\ \\mathrm{Riem}\\left(g\\right)_{ \\phantom{\\, x} \\, u \\, u \\, y }^{ \\, x \\phantom{\\, u} \\phantom{\\, u} \\phantom{\\, y} } & = & -\\frac{1}{2} \\, \\frac{\\partial^2\\,B}{\\partial u\\partial y} - \\frac{1}{2} \\, \\frac{\\partial^2\\,C}{\\partial u\\partial x} + \\frac{1}{2} \\, \\frac{\\partial^2\\,K}{\\partial x\\partial y} \\\\ \\mathrm{Riem}\\left(g\\right)_{ \\phantom{\\, x} \\, u \\, x \\, u }^{ \\, x \\phantom{\\, u} \\phantom{\\, x} \\phantom{\\, u} } & = & \\frac{1}{4} \\, \\left(\\frac{\\partial\\,B}{\\partial y}\\right)^{2} - \\frac{1}{2} \\, \\frac{\\partial\\,B}{\\partial y} \\frac{\\partial\\,C}{\\partial x} + \\frac{1}{4} \\, \\frac{\\partial\\,C}{\\partial x}^{2} + \\frac{\\partial^2\\,B}{\\partial u\\partial x} - \\frac{1}{2} \\, \\frac{\\partial^2\\,K}{\\partial x ^ 2} \\\\ \\mathrm{Riem}\\left(g\\right)_{ \\phantom{\\, x} \\, u \\, x \\, y }^{ \\, x \\phantom{\\, u} \\phantom{\\, x} \\phantom{\\, y} } & = & \\frac{1}{2} \\, \\frac{\\partial^2\\,B}{\\partial x\\partial y} - \\frac{1}{2} \\, \\frac{\\partial^2\\,C}{\\partial x ^ 2} \\\\ \\mathrm{Riem}\\left(g\\right)_{ \\phantom{\\, x} \\, u \\, y \\, u }^{ \\, x \\phantom{\\, u} \\phantom{\\, y} \\phantom{\\, u} } & = & \\frac{1}{2} \\, \\frac{\\partial^2\\,B}{\\partial u\\partial y} + \\frac{1}{2} \\, \\frac{\\partial^2\\,C}{\\partial u\\partial x} - \\frac{1}{2} \\, \\frac{\\partial^2\\,K}{\\partial x\\partial y} \\\\ \\mathrm{Riem}\\left(g\\right)_{ \\phantom{\\, x} \\, u \\, y \\, x }^{ \\, x \\phantom{\\, u} \\phantom{\\, y} \\phantom{\\, x} } & = & -\\frac{1}{2} \\, \\frac{\\partial^2\\,B}{\\partial x\\partial y} + \\frac{1}{2} \\, \\frac{\\partial^2\\,C}{\\partial x ^ 2} \\\\ \\mathrm{Riem}\\left(g\\right)_{ \\phantom{\\, x} \\, y \\, u \\, x }^{ \\, x \\phantom{\\, y} \\phantom{\\, u} \\phantom{\\, x} } & = & -\\frac{1}{2} \\, \\frac{\\partial^2\\,B}{\\partial x\\partial y} + \\frac{1}{2} \\, \\frac{\\partial^2\\,C}{\\partial x ^ 2} \\\\ \\mathrm{Riem}\\left(g\\right)_{ \\phantom{\\, x} \\, y \\, u \\, y }^{ \\, x \\phantom{\\, y} \\phantom{\\, u} \\phantom{\\, y} } & = & -\\frac{1}{2} \\, \\frac{\\partial^2\\,B}{\\partial y ^ 2} + \\frac{1}{2} \\, \\frac{\\partial^2\\,C}{\\partial x\\partial y} \\\\ \\mathrm{Riem}\\left(g\\right)_{ \\phantom{\\, x} \\, y \\, x \\, u }^{ \\, x \\phantom{\\, y} \\phantom{\\, x} \\phantom{\\, u} } & = & \\frac{1}{2} \\, \\frac{\\partial^2\\,B}{\\partial x\\partial y} - \\frac{1}{2} \\, \\frac{\\partial^2\\,C}{\\partial x ^ 2} \\\\ \\mathrm{Riem}\\left(g\\right)_{ \\phantom{\\, x} \\, y \\, y \\, u }^{ \\, x \\phantom{\\, y} \\phantom{\\, y} \\phantom{\\, u} } & = & \\frac{1}{2} \\, \\frac{\\partial^2\\,B}{\\partial y ^ 2} - \\frac{1}{2} \\, \\frac{\\partial^2\\,C}{\\partial x\\partial y} \\\\ \\mathrm{Riem}\\left(g\\right)_{ \\phantom{\\, y} \\, u \\, u \\, x }^{ \\, y \\phantom{\\, u} \\phantom{\\, u} \\phantom{\\, x} } & = & -\\frac{1}{2} \\, \\frac{\\partial^2\\,B}{\\partial u\\partial y} - \\frac{1}{2} \\, \\frac{\\partial^2\\,C}{\\partial u\\partial x} + \\frac{1}{2} \\, \\frac{\\partial^2\\,K}{\\partial x\\partial y} \\\\ \\mathrm{Riem}\\left(g\\right)_{ \\phantom{\\, y} \\, u \\, u \\, y }^{ \\, y \\phantom{\\, u} \\phantom{\\, u} \\phantom{\\, y} } & = & -\\frac{1}{4} \\, \\left(\\frac{\\partial\\,B}{\\partial y}\\right)^{2} + \\frac{1}{2} \\, \\frac{\\partial\\,B}{\\partial y} \\frac{\\partial\\,C}{\\partial x} - \\frac{1}{4} \\, \\frac{\\partial\\,C}{\\partial x}^{2} - \\frac{\\partial^2\\,C}{\\partial u\\partial y} + \\frac{1}{2} \\, \\frac{\\partial^2\\,K}{\\partial y ^ 2} \\\\ \\mathrm{Riem}\\left(g\\right)_{ \\phantom{\\, y} \\, u \\, x \\, u }^{ \\, y \\phantom{\\, u} \\phantom{\\, x} \\phantom{\\, u} } & = & \\frac{1}{2} \\, \\frac{\\partial^2\\,B}{\\partial u\\partial y} + \\frac{1}{2} \\, \\frac{\\partial^2\\,C}{\\partial u\\partial x} - \\frac{1}{2} \\, \\frac{\\partial^2\\,K}{\\partial x\\partial y} \\\\ \\mathrm{Riem}\\left(g\\right)_{ \\phantom{\\, y} \\, u \\, x \\, y }^{ \\, y \\phantom{\\, u} \\phantom{\\, x} \\phantom{\\, y} } & = & \\frac{1}{2} \\, \\frac{\\partial^2\\,B}{\\partial y ^ 2} - \\frac{1}{2} \\, \\frac{\\partial^2\\,C}{\\partial x\\partial y} \\\\ \\mathrm{Riem}\\left(g\\right)_{ \\phantom{\\, y} \\, u \\, y \\, u }^{ \\, y \\phantom{\\, u} \\phantom{\\, y} \\phantom{\\, u} } & = & \\frac{1}{4} \\, \\left(\\frac{\\partial\\,B}{\\partial y}\\right)^{2} - \\frac{1}{2} \\, \\frac{\\partial\\,B}{\\partial y} \\frac{\\partial\\,C}{\\partial x} + \\frac{1}{4} \\, \\frac{\\partial\\,C}{\\partial x}^{2} + \\frac{\\partial^2\\,C}{\\partial u\\partial y} - \\frac{1}{2} \\, \\frac{\\partial^2\\,K}{\\partial y ^ 2} \\\\ \\mathrm{Riem}\\left(g\\right)_{ \\phantom{\\, y} \\, u \\, y \\, x }^{ \\, y \\phantom{\\, u} \\phantom{\\, y} \\phantom{\\, x} } & = & -\\frac{1}{2} \\, \\frac{\\partial^2\\,B}{\\partial y ^ 2} + \\frac{1}{2} \\, \\frac{\\partial^2\\,C}{\\partial x\\partial y} \\\\ \\mathrm{Riem}\\left(g\\right)_{ \\phantom{\\, y} \\, x \\, u \\, x }^{ \\, y \\phantom{\\, x} \\phantom{\\, u} \\phantom{\\, x} } & = & \\frac{1}{2} \\, \\frac{\\partial^2\\,B}{\\partial x\\partial y} - \\frac{1}{2} \\, \\frac{\\partial^2\\,C}{\\partial x ^ 2} \\\\ \\mathrm{Riem}\\left(g\\right)_{ \\phantom{\\, y} \\, x \\, u \\, y }^{ \\, y \\phantom{\\, x} \\phantom{\\, u} \\phantom{\\, y} } & = & \\frac{1}{2} \\, \\frac{\\partial^2\\,B}{\\partial y ^ 2} - \\frac{1}{2} \\, \\frac{\\partial^2\\,C}{\\partial x\\partial y} \\\\ \\mathrm{Riem}\\left(g\\right)_{ \\phantom{\\, y} \\, x \\, x \\, u }^{ \\, y \\phantom{\\, x} \\phantom{\\, x} \\phantom{\\, u} } & = & -\\frac{1}{2} \\, \\frac{\\partial^2\\,B}{\\partial x\\partial y} + \\frac{1}{2} \\, \\frac{\\partial^2\\,C}{\\partial x ^ 2} \\\\ \\mathrm{Riem}\\left(g\\right)_{ \\phantom{\\, y} \\, x \\, y \\, u }^{ \\, y \\phantom{\\, x} \\phantom{\\, y} \\phantom{\\, u} } & = & -\\frac{1}{2} \\, \\frac{\\partial^2\\,B}{\\partial y ^ 2} + \\frac{1}{2} \\, \\frac{\\partial^2\\,C}{\\partial x\\partial y} \\end{array}$"
      ],
      "text/plain": [
       "Riem(g)^v_uux = -1/4*B(u, x, y)*(d(B)/dy)^2 + 1/2*B(u, x, y)*d(B)/dy*d(C)/dx - 1/4*B(u, x, y)*d(C)/dx^2 - B(u, x, y)*d^2(B)/dudx - 1/2*C(u, x, y)*d^2(B)/dudy - 1/2*C(u, x, y)*d^2(C)/dudx + 1/2*B(u, x, y)*d^2(K)/dx^2 + 1/2*C(u, x, y)*d^2(K)/dxdy \n",
       "Riem(g)^v_uuy = -1/4*C(u, x, y)*(d(B)/dy)^2 + 1/2*C(u, x, y)*d(B)/dy*d(C)/dx - 1/4*C(u, x, y)*d(C)/dx^2 - 1/2*B(u, x, y)*d^2(B)/dudy - 1/2*B(u, x, y)*d^2(C)/dudx - C(u, x, y)*d^2(C)/dudy + 1/2*B(u, x, y)*d^2(K)/dxdy + 1/2*C(u, x, y)*d^2(K)/dy^2 \n",
       "Riem(g)^v_uxu = 1/4*B(u, x, y)*(d(B)/dy)^2 - 1/2*B(u, x, y)*d(B)/dy*d(C)/dx + 1/4*B(u, x, y)*d(C)/dx^2 + B(u, x, y)*d^2(B)/dudx + 1/2*C(u, x, y)*d^2(B)/dudy + 1/2*C(u, x, y)*d^2(C)/dudx - 1/2*B(u, x, y)*d^2(K)/dx^2 - 1/2*C(u, x, y)*d^2(K)/dxdy \n",
       "Riem(g)^v_uxy = 1/2*B(u, x, y)*d^2(B)/dxdy + 1/2*C(u, x, y)*d^2(B)/dy^2 - 1/2*B(u, x, y)*d^2(C)/dx^2 - 1/2*C(u, x, y)*d^2(C)/dxdy \n",
       "Riem(g)^v_uyu = 1/4*C(u, x, y)*(d(B)/dy)^2 - 1/2*C(u, x, y)*d(B)/dy*d(C)/dx + 1/4*C(u, x, y)*d(C)/dx^2 + 1/2*B(u, x, y)*d^2(B)/dudy + 1/2*B(u, x, y)*d^2(C)/dudx + C(u, x, y)*d^2(C)/dudy - 1/2*B(u, x, y)*d^2(K)/dxdy - 1/2*C(u, x, y)*d^2(K)/dy^2 \n",
       "Riem(g)^v_uyx = -1/2*B(u, x, y)*d^2(B)/dxdy - 1/2*C(u, x, y)*d^2(B)/dy^2 + 1/2*B(u, x, y)*d^2(C)/dx^2 + 1/2*C(u, x, y)*d^2(C)/dxdy \n",
       "Riem(g)^v_xux = 1/2*C(u, x, y)*d^2(B)/dxdy - 1/4*(d(B)/dy)^2 + 1/2*d(B)/dy*d(C)/dx - 1/4*d(C)/dx^2 - 1/2*C(u, x, y)*d^2(C)/dx^2 - d^2(B)/dudx + 1/2*d^2(K)/dx^2 \n",
       "Riem(g)^v_xuy = 1/2*C(u, x, y)*d^2(B)/dy^2 - 1/2*C(u, x, y)*d^2(C)/dxdy - 1/2*d^2(B)/dudy - 1/2*d^2(C)/dudx + 1/2*d^2(K)/dxdy \n",
       "Riem(g)^v_xxu = -1/2*C(u, x, y)*d^2(B)/dxdy + 1/4*(d(B)/dy)^2 - 1/2*d(B)/dy*d(C)/dx + 1/4*d(C)/dx^2 + 1/2*C(u, x, y)*d^2(C)/dx^2 + d^2(B)/dudx - 1/2*d^2(K)/dx^2 \n",
       "Riem(g)^v_xxy = 1/2*d^2(B)/dxdy - 1/2*d^2(C)/dx^2 \n",
       "Riem(g)^v_xyu = -1/2*C(u, x, y)*d^2(B)/dy^2 + 1/2*C(u, x, y)*d^2(C)/dxdy + 1/2*d^2(B)/dudy + 1/2*d^2(C)/dudx - 1/2*d^2(K)/dxdy \n",
       "Riem(g)^v_xyx = -1/2*d^2(B)/dxdy + 1/2*d^2(C)/dx^2 \n",
       "Riem(g)^v_yux = -1/2*B(u, x, y)*d^2(B)/dxdy + 1/2*B(u, x, y)*d^2(C)/dx^2 - 1/2*d^2(B)/dudy - 1/2*d^2(C)/dudx + 1/2*d^2(K)/dxdy \n",
       "Riem(g)^v_yuy = -1/4*(d(B)/dy)^2 - 1/2*B(u, x, y)*d^2(B)/dy^2 + 1/2*d(B)/dy*d(C)/dx - 1/4*d(C)/dx^2 + 1/2*B(u, x, y)*d^2(C)/dxdy - d^2(C)/dudy + 1/2*d^2(K)/dy^2 \n",
       "Riem(g)^v_yxu = 1/2*B(u, x, y)*d^2(B)/dxdy - 1/2*B(u, x, y)*d^2(C)/dx^2 + 1/2*d^2(B)/dudy + 1/2*d^2(C)/dudx - 1/2*d^2(K)/dxdy \n",
       "Riem(g)^v_yxy = 1/2*d^2(B)/dy^2 - 1/2*d^2(C)/dxdy \n",
       "Riem(g)^v_yyu = 1/4*(d(B)/dy)^2 + 1/2*B(u, x, y)*d^2(B)/dy^2 - 1/2*d(B)/dy*d(C)/dx + 1/4*d(C)/dx^2 - 1/2*B(u, x, y)*d^2(C)/dxdy + d^2(C)/dudy - 1/2*d^2(K)/dy^2 \n",
       "Riem(g)^v_yyx = -1/2*d^2(B)/dy^2 + 1/2*d^2(C)/dxdy \n",
       "Riem(g)^x_uux = -1/4*(d(B)/dy)^2 + 1/2*d(B)/dy*d(C)/dx - 1/4*d(C)/dx^2 - d^2(B)/dudx + 1/2*d^2(K)/dx^2 \n",
       "Riem(g)^x_uuy = -1/2*d^2(B)/dudy - 1/2*d^2(C)/dudx + 1/2*d^2(K)/dxdy \n",
       "Riem(g)^x_uxu = 1/4*(d(B)/dy)^2 - 1/2*d(B)/dy*d(C)/dx + 1/4*d(C)/dx^2 + d^2(B)/dudx - 1/2*d^2(K)/dx^2 \n",
       "Riem(g)^x_uxy = 1/2*d^2(B)/dxdy - 1/2*d^2(C)/dx^2 \n",
       "Riem(g)^x_uyu = 1/2*d^2(B)/dudy + 1/2*d^2(C)/dudx - 1/2*d^2(K)/dxdy \n",
       "Riem(g)^x_uyx = -1/2*d^2(B)/dxdy + 1/2*d^2(C)/dx^2 \n",
       "Riem(g)^x_yux = -1/2*d^2(B)/dxdy + 1/2*d^2(C)/dx^2 \n",
       "Riem(g)^x_yuy = -1/2*d^2(B)/dy^2 + 1/2*d^2(C)/dxdy \n",
       "Riem(g)^x_yxu = 1/2*d^2(B)/dxdy - 1/2*d^2(C)/dx^2 \n",
       "Riem(g)^x_yyu = 1/2*d^2(B)/dy^2 - 1/2*d^2(C)/dxdy \n",
       "Riem(g)^y_uux = -1/2*d^2(B)/dudy - 1/2*d^2(C)/dudx + 1/2*d^2(K)/dxdy \n",
       "Riem(g)^y_uuy = -1/4*(d(B)/dy)^2 + 1/2*d(B)/dy*d(C)/dx - 1/4*d(C)/dx^2 - d^2(C)/dudy + 1/2*d^2(K)/dy^2 \n",
       "Riem(g)^y_uxu = 1/2*d^2(B)/dudy + 1/2*d^2(C)/dudx - 1/2*d^2(K)/dxdy \n",
       "Riem(g)^y_uxy = 1/2*d^2(B)/dy^2 - 1/2*d^2(C)/dxdy \n",
       "Riem(g)^y_uyu = 1/4*(d(B)/dy)^2 - 1/2*d(B)/dy*d(C)/dx + 1/4*d(C)/dx^2 + d^2(C)/dudy - 1/2*d^2(K)/dy^2 \n",
       "Riem(g)^y_uyx = -1/2*d^2(B)/dy^2 + 1/2*d^2(C)/dxdy \n",
       "Riem(g)^y_xux = 1/2*d^2(B)/dxdy - 1/2*d^2(C)/dx^2 \n",
       "Riem(g)^y_xuy = 1/2*d^2(B)/dy^2 - 1/2*d^2(C)/dxdy \n",
       "Riem(g)^y_xxu = -1/2*d^2(B)/dxdy + 1/2*d^2(C)/dx^2 \n",
       "Riem(g)^y_xyu = -1/2*d^2(B)/dy^2 + 1/2*d^2(C)/dxdy "
      ]
     },
     "execution_count": 9,
     "metadata": {},
     "output_type": "execute_result"
    }
   ],
   "source": [
    "g.riemann().display_comp()"
   ]
  },
  {
   "cell_type": "code",
   "execution_count": 10,
   "id": "be7c732c",
   "metadata": {},
   "outputs": [
    {
     "data": {
      "text/html": [
       "<html>\\(\\displaystyle \\verb|Clearly|\\verb| |\\verb|the|\\verb| |\\verb|only|\\verb| |\\verb|way|\\verb| |\\verb|for|\\verb| |\\verb|Riemann|\\verb| |\\verb|components|\\verb| |\\verb|to|\\verb| |\\verb|be|\\verb| |\\verb|constant|\\verb| |\\verb|on|\\verb| |\\verb|each|\\verb| |\\verb|wavefront|\\verb| |\\verb|(fixed|\\verb| |\\verb|u)|\\verb| |\\verb|is|\\verb| |\\verb|if|\\verb| |\\verb|B|\\verb| |\\verb|=|\\verb| |\\verb|0|\\verb| |\\verb|=|\\verb| |\\verb|C|\\verb| |\\verb|and|\\verb| |\\verb|K|\\verb| |\\verb|is|\\verb| |\\verb|quadratic|\\verb| |\\verb|in|\\verb| |\\verb|x|\\verb| |\\verb|and|\\verb| |\\verb|y|\\)</html>"
      ],
      "text/latex": [
       "$\\displaystyle \\verb|Clearly|\\verb| |\\verb|the|\\verb| |\\verb|only|\\verb| |\\verb|way|\\verb| |\\verb|for|\\verb| |\\verb|Riemann|\\verb| |\\verb|components|\\verb| |\\verb|to|\\verb| |\\verb|be|\\verb| |\\verb|constant|\\verb| |\\verb|on|\\verb| |\\verb|each|\\verb| |\\verb|wavefront|\\verb| |\\verb|(fixed|\\verb| |\\verb|u)|\\verb| |\\verb|is|\\verb| |\\verb|if|\\verb| |\\verb|B|\\verb| |\\verb|=|\\verb| |\\verb|0|\\verb| |\\verb|=|\\verb| |\\verb|C|\\verb| |\\verb|and|\\verb| |\\verb|K|\\verb| |\\verb|is|\\verb| |\\verb|quadratic|\\verb| |\\verb|in|\\verb| |\\verb|x|\\verb| |\\verb|and|\\verb| |\\verb|y|$"
      ],
      "text/plain": [
       "'Clearly the only way for Riemann components to be constant on each wavefront (fixed u) is if B = 0 = C and K is quadratic in x and y'"
      ]
     },
     "execution_count": 10,
     "metadata": {},
     "output_type": "execute_result"
    }
   ],
   "source": [
    "'''Clearly the only way for Riemann components to be constant on each wavefront (fixed u) is if B = 0 = C and K is quadratic in x and y'''"
   ]
  },
  {
   "cell_type": "code",
   "execution_count": null,
   "id": "e39aa2f0",
   "metadata": {},
   "outputs": [],
   "source": []
  }
 ],
 "metadata": {
  "kernelspec": {
   "display_name": "SageMath 9.7",
   "language": "sage",
   "name": "sagemath"
  },
  "language_info": {
   "codemirror_mode": {
    "name": "ipython",
    "version": 3
   },
   "file_extension": ".py",
   "mimetype": "text/x-python",
   "name": "python",
   "nbconvert_exporter": "python",
   "pygments_lexer": "ipython3",
   "version": "3.8.10"
  }
 },
 "nbformat": 4,
 "nbformat_minor": 5
}
