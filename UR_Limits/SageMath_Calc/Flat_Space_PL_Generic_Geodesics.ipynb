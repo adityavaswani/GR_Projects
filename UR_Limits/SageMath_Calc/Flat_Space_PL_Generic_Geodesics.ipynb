{
 "cells": [
  {
   "cell_type": "markdown",
   "id": "5a220088",
   "metadata": {},
   "source": [
    "We would like to explicitly analyse how Killing fields map from the original spacetime into the Penrose limit, as well as how the limiting fields can be lifted back to the full spacetime. Here, we will look at generic timelike geodesics (not necessarily in the equatorial submanifold) of Minkowski spacetime."
   ]
  },
  {
   "cell_type": "code",
   "execution_count": 60,
   "id": "e3e7cf8f",
   "metadata": {},
   "outputs": [],
   "source": [
    "%display latex"
   ]
  },
  {
   "cell_type": "code",
   "execution_count": 61,
   "id": "f7a5a78d",
   "metadata": {},
   "outputs": [
    {
     "data": {
      "text/html": [
       "<html>\\(\\displaystyle \\left(\\begin{array}{rrrr}\n",
       "-1 & 0 & 0 & 0 \\\\\n",
       "0 & 1 & 0 & 0 \\\\\n",
       "0 & 0 & r^{2} & 0 \\\\\n",
       "0 & 0 & 0 & r^{2} \\sin\\left({\\theta}\\right)^{2}\n",
       "\\end{array}\\right)\\)</html>"
      ],
      "text/latex": [
       "$\\displaystyle \\left(\\begin{array}{rrrr}\n",
       "-1 & 0 & 0 & 0 \\\\\n",
       "0 & 1 & 0 & 0 \\\\\n",
       "0 & 0 & r^{2} & 0 \\\\\n",
       "0 & 0 & 0 & r^{2} \\sin\\left({\\theta}\\right)^{2}\n",
       "\\end{array}\\right)$"
      ],
      "text/plain": [
       "[           -1             0             0             0]\n",
       "[            0             1             0             0]\n",
       "[            0             0           r^2             0]\n",
       "[            0             0             0 r^2*sin(th)^2]"
      ]
     },
     "execution_count": 61,
     "metadata": {},
     "output_type": "execute_result"
    }
   ],
   "source": [
    "M = Manifold(4, 'M', structure='Lorentzian')\n",
    "X.<t, r, th, ph> = M.chart(r't:(0,+oo) r:(-oo,+oo) th:(0,pi):\\theta ph:(0,2*pi):\\phi')\n",
    "g = M.metric('g')\n",
    "g[0, 0], g[1, 1], g[2, 2], g[3, 3] = -1, 1, r^2, r^2*sin(th)^2\n",
    "g[:]"
   ]
  },
  {
   "cell_type": "code",
   "execution_count": 62,
   "id": "f7b7c753",
   "metadata": {},
   "outputs": [
    {
     "data": {
      "text/html": [
       "<html>\\(\\displaystyle \\left[\\left[\\left[0, 0, 0, 0\\right], \\left[0, 0, 0, 0\\right], \\left[0, 0, 0, 0\\right], \\left[0, 0, 0, 0\\right]\\right], \\left[\\left[0, 0, 0, 0\\right], \\left[0, 0, 0, 0\\right], \\left[0, 0, -r, 0\\right], \\left[0, 0, 0, -r \\sin\\left({\\theta}\\right)^{2}\\right]\\right], \\left[\\left[0, 0, 0, 0\\right], \\left[0, 0, \\frac{1}{r}, 0\\right], \\left[0, \\frac{1}{r}, 0, 0\\right], \\left[0, 0, 0, -\\cos\\left({\\theta}\\right) \\sin\\left({\\theta}\\right)\\right]\\right], \\left[\\left[0, 0, 0, 0\\right], \\left[0, 0, 0, \\frac{1}{r}\\right], \\left[0, 0, 0, \\frac{\\cos\\left({\\theta}\\right)}{\\sin\\left({\\theta}\\right)}\\right], \\left[0, \\frac{1}{r}, \\frac{\\cos\\left({\\theta}\\right)}{\\sin\\left({\\theta}\\right)}, 0\\right]\\right]\\right]\\)</html>"
      ],
      "text/latex": [
       "$\\displaystyle \\left[\\left[\\left[0, 0, 0, 0\\right], \\left[0, 0, 0, 0\\right], \\left[0, 0, 0, 0\\right], \\left[0, 0, 0, 0\\right]\\right], \\left[\\left[0, 0, 0, 0\\right], \\left[0, 0, 0, 0\\right], \\left[0, 0, -r, 0\\right], \\left[0, 0, 0, -r \\sin\\left({\\theta}\\right)^{2}\\right]\\right], \\left[\\left[0, 0, 0, 0\\right], \\left[0, 0, \\frac{1}{r}, 0\\right], \\left[0, \\frac{1}{r}, 0, 0\\right], \\left[0, 0, 0, -\\cos\\left({\\theta}\\right) \\sin\\left({\\theta}\\right)\\right]\\right], \\left[\\left[0, 0, 0, 0\\right], \\left[0, 0, 0, \\frac{1}{r}\\right], \\left[0, 0, 0, \\frac{\\cos\\left({\\theta}\\right)}{\\sin\\left({\\theta}\\right)}\\right], \\left[0, \\frac{1}{r}, \\frac{\\cos\\left({\\theta}\\right)}{\\sin\\left({\\theta}\\right)}, 0\\right]\\right]\\right]$"
      ],
      "text/plain": [
       "[[[0, 0, 0, 0], [0, 0, 0, 0], [0, 0, 0, 0], [0, 0, 0, 0]],\n",
       " [[0, 0, 0, 0], [0, 0, 0, 0], [0, 0, -r, 0], [0, 0, 0, -r*sin(th)^2]],\n",
       " [[0, 0, 0, 0], [0, 0, 1/r, 0], [0, 1/r, 0, 0], [0, 0, 0, -cos(th)*sin(th)]],\n",
       " [[0, 0, 0, 0],\n",
       "  [0, 0, 0, 1/r],\n",
       "  [0, 0, 0, cos(th)/sin(th)],\n",
       "  [0, 1/r, cos(th)/sin(th), 0]]]"
      ]
     },
     "execution_count": 62,
     "metadata": {},
     "output_type": "execute_result"
    }
   ],
   "source": [
    "Gam = g.christoffel_symbols()\n",
    "nab = M.affine_connection(name=r'\\nabla')\n",
    "nab[:] = Gam[:]\n",
    "nab[:]"
   ]
  },
  {
   "cell_type": "code",
   "execution_count": 63,
   "id": "b57efa53",
   "metadata": {},
   "outputs": [
    {
     "data": {
      "text/html": [
       "<html>\\(\\displaystyle \\)</html>"
      ],
      "text/latex": [
       "$\\displaystyle $"
      ],
      "text/plain": []
     },
     "execution_count": 63,
     "metadata": {},
     "output_type": "execute_result"
    }
   ],
   "source": [
    "riem = g.riemann()\n",
    "riem.display_comp()"
   ]
  },
  {
   "cell_type": "markdown",
   "id": "6bec93b9",
   "metadata": {},
   "source": [
    "The Minkowski metric in spherical coordinates is $ds^2 = - dt^2 + dr^2 + r^2 d \\theta^2 + r^2 \\sin^2(\\theta) d \\phi^2$. If $\\chi^{a'}$ is a Killing vector, then along a timelike geodesic with 4-momentum $p_{a'}$, we have the conserved quantity $p_{a'} \\chi^{a'} = constant$. Now, clearly $\\chi_{(t)}^{a'} = (\\partial_t)^{a'} = (1, 0, 0, 0)$ and $\\chi_{(\\phi)}^{a'} = (\\partial_{\\phi})^{a'} = (0, 0, 0, 1)$ are manifestly Killing. Thus,\n",
    "$\n",
    "p_{a'} \\chi_{(t)}^{a'} = - E \\quad \\implies \\quad p_{t} = - E, \\\\\n",
    "p_{a'} \\chi_{(\\phi)}^{a'} = l \\quad \\implies \\quad p_{\\phi} = l.\n",
    "$\n",
    "\n",
    "Furthermore, the vector corresponding to translations along the $z$ direction is also a Killing vector. In spherical coordinates, this has components $\\chi_{(z)}^{a'} = (0, \\cos(\\theta), -\\sin(\\theta)/r, 0)$. The conserved quantity then becomes\n",
    "$\n",
    "p_{a'} \\chi_{(z)}^{a'} = p_r \\cos(\\theta) - p_{\\theta} \\sin(\\theta)/r = M_{z}, \\\\\n",
    "\\implies \\frac{p_{\\theta}}{r} = \\frac{p_{r} \\cos{\\theta} - M_z}{\\sin{\\theta}}.\n",
    "$\n",
    "\n",
    "Now, the on-shell condition for timelike geodesics implies \n",
    "$\n",
    "p_{a'} p^{a'} = g^{a' b'} p_{a'} p_{b'} = - m^2, \\\\\n",
    "\\implies -(p_t)^2 + (p_r)^2 + r^{-2} (p_{\\theta})^2 + (r \\sin{\\theta})^{-2} (p_{\\phi})^2 = -m^2, \\\\\n",
    "\\implies - E^2 + (p_r)^2 + \\bigg ( \\frac{p_r \\cos{\\theta} - M_z}{\\sin{\\theta}} \\bigg )^2 + \\frac{l^2}{r^2 \\sin^2(\\theta)} = -m^2, \\\\\n",
    "\\implies p_r^2 - 2 M_z p_r \\cos \\theta + M_z^2 - (E^2 + m^2) \\sin^2 \\theta + \\frac{l^2}{r^2} = 0, \\\\\n",
    "\\implies p_r = M_z \\cos \\theta + \\sqrt{(E^2 + m^2 - M_z^2) \\sin^2 \\theta - \\frac{l^2}{r^2}},\n",
    "$\n",
    "where in the last step we have chosen the positive root.\n",
    "\n",
    "The 4-momentum is defined to be $p_{a'} = m g_{a' b'} \\partial_{\\tau} x^{b'}$, where $\\tau$ is the proper time measured along the timelike geodesics.\n",
    "\n",
    "Thus, the components of the tangent vector to the timelike curves are \n",
    "$\n",
    "\\partial_{\\tau} t = \\frac{E}{m}, \\qquad \\partial_{\\tau} \\phi = \\frac{l}{m r^2 \\sin^2 \\theta}, \\\\\n",
    "\\partial_{\\tau} r = \\frac{M_z \\cos \\theta}{m} + \\frac{E}{m} \\sqrt{\\big ( 1 + \\frac{m^2 - M_z^2}{E^2} \\big ) \\sin^2 \\theta - \\frac{l^2}{E^2 r^2}}, \\\\\n",
    "\\partial_{\\tau} \\theta = \\frac{M_z (\\cos \\theta - 1)}{m r \\sin \\theta} + \\frac{E}{m r \\sin \\theta} \\sqrt{\\big ( 1 + \\frac{m^2 - M_z^2}{E^2} \\big ) \\sin^2 \\theta - \\frac{l^2}{E^2 r^2}}.\n",
    "$\n",
    "\n",
    "Introduce the parameters $s, \\epsilon$ where $s = E \\tau$ and $\\epsilon = 1/E$ are the affine parameter along the curve and the Penrose limit expansion parameter respectively. In terms of these parameters, the derivatives of the coordinates become:\n",
    "$\n",
    "\\partial_s t = \\frac{1}{m}, \\qquad \\partial_s \\phi = \\epsilon \\frac{l}{m r^2 \\sin^2 \\theta}, \\\\\n",
    "\\partial_s r = \\epsilon \\frac{M_z \\cos \\theta}{m} + \\frac{1}{m} \\sqrt{\\sin^2 \\theta + \\epsilon^2 \\big ( (m^2 - M_z^2) \\sin^2 \\theta - \\frac{l^2}{r^2} \\big )}, \\\\\n",
    "\\partial_s \\theta = \\epsilon \\frac{M_z (\\cos \\theta - 1)}{m r \\sin \\theta} + \\frac{1}{m r \\sin \\theta} \\sqrt{\\sin^2 \\theta + \\epsilon^2 \\big ( (m^2 - M_z^2) \\sin^2 \\theta - \\frac{l^2}{r^2} \\big )}.\n",
    "$\n",
    "\n",
    "Now, assume that neither the angular momentum $l$ nor the $z$-component of the linear momentum $M_z$ scale with the energy. In this case, taking the ultrarelativistic limit gives:\n",
    "$\n",
    "\\lim_{\\epsilon \\to 0} \\partial_s t = \\frac{1}{m}, \\qquad \\lim_{\\epsilon \\to 0} \\partial_s \\phi = 0, \\\\\n",
    "\\lim_{\\epsilon \\to 0} \\partial_s r = \\frac{\\lvert \\sin \\theta_0 \\rvert}{r_0}, \\qquad \\lim_{\\epsilon \\to 0} \\partial_s \\theta = \\frac{\\lvert \\sin \\theta \\rvert}{m r_0 \\sin \\theta_0},\n",
    "$\n",
    "where the subscript $0$ denotes quantities evaluated at $\\epsilon = 0$.\n",
    "\n",
    "We will now proceed to check if this is indeed tangent to an affinely parametrised null geodesic, and constitutes a valid ultrarelativistic family."
   ]
  },
  {
   "cell_type": "code",
   "execution_count": 64,
   "id": "e86ed0f6",
   "metadata": {},
   "outputs": [
    {
     "data": {
      "text/html": [
       "<html>\\(\\displaystyle \\left(m, l, M_{z}, \\Phi_{0}, \\Theta_{0}, s, \\epsilon\\right)\\)</html>"
      ],
      "text/latex": [
       "$\\displaystyle \\left(m, l, M_{z}, \\Phi_{0}, \\Theta_{0}, s, \\epsilon\\right)$"
      ],
      "text/plain": [
       "(m, l, M_z, Phi_0, Theta_0, s, epsilon)"
      ]
     },
     "execution_count": 64,
     "metadata": {},
     "output_type": "execute_result"
    }
   ],
   "source": [
    "m, l, Mz, ph_init, th_init, s, eps = var('m, l, M_z, Phi_0, Theta_0, s, epsilon')\n",
    "assume(m>0)\n",
    "assume(l>=0)\n",
    "assume(Mz>=0)\n",
    "assume(ph_init>=0)\n",
    "assume(th_init>=0)\n",
    "assume(s>=0)\n",
    "assume(eps>=0)\n",
    "m, l, Mz, ph_init, th_init, s, eps"
   ]
  },
  {
   "cell_type": "code",
   "execution_count": 65,
   "id": "96c1bcdf",
   "metadata": {},
   "outputs": [
    {
     "data": {
      "text/html": [
       "<html>\\(\\displaystyle \\left(\\frac{1}{m}, \\frac{M_{z} \\epsilon \\cos\\left({\\theta}\\right)}{m} + \\frac{\\sqrt{-{\\left({\\left(M_{z}^{2} + m^{2}\\right)} \\sin\\left({\\theta}\\right)^{2} + \\frac{l^{2}}{r^{2}}\\right)} \\epsilon^{2} + \\sin\\left({\\theta}\\right)^{2}}}{m}, -\\frac{M_{z} \\epsilon \\sin\\left({\\theta}\\right)}{m r} + \\frac{\\sqrt{-{\\left({\\left(M_{z}^{2} + m^{2}\\right)} \\sin\\left({\\theta}\\right)^{2} + \\frac{l^{2}}{r^{2}}\\right)} \\epsilon^{2} + \\sin\\left({\\theta}\\right)^{2}} \\cos\\left({\\theta}\\right)}{m r \\sin\\left({\\theta}\\right)}, \\frac{\\epsilon l}{m r^{2} \\sin\\left({\\theta}\\right)^{2}}\\right)\\)</html>"
      ],
      "text/latex": [
       "$\\displaystyle \\left(\\frac{1}{m}, \\frac{M_{z} \\epsilon \\cos\\left({\\theta}\\right)}{m} + \\frac{\\sqrt{-{\\left({\\left(M_{z}^{2} + m^{2}\\right)} \\sin\\left({\\theta}\\right)^{2} + \\frac{l^{2}}{r^{2}}\\right)} \\epsilon^{2} + \\sin\\left({\\theta}\\right)^{2}}}{m}, -\\frac{M_{z} \\epsilon \\sin\\left({\\theta}\\right)}{m r} + \\frac{\\sqrt{-{\\left({\\left(M_{z}^{2} + m^{2}\\right)} \\sin\\left({\\theta}\\right)^{2} + \\frac{l^{2}}{r^{2}}\\right)} \\epsilon^{2} + \\sin\\left({\\theta}\\right)^{2}} \\cos\\left({\\theta}\\right)}{m r \\sin\\left({\\theta}\\right)}, \\frac{\\epsilon l}{m r^{2} \\sin\\left({\\theta}\\right)^{2}}\\right)$"
      ],
      "text/plain": [
       "(1/m,\n",
       " M_z*epsilon*cos(th)/m + sqrt(-((M_z^2 + m^2)*sin(th)^2 + l^2/r^2)*epsilon^2 + sin(th)^2)/m,\n",
       " -M_z*epsilon*sin(th)/(m*r) + sqrt(-((M_z^2 + m^2)*sin(th)^2 + l^2/r^2)*epsilon^2 + sin(th)^2)*cos(th)/(m*r*sin(th)),\n",
       " epsilon*l/(m*r^2*sin(th)^2))"
      ]
     },
     "execution_count": 65,
     "metadata": {},
     "output_type": "execute_result"
    }
   ],
   "source": [
    "dst = 1/m\n",
    "dsr = eps*Mz*cos(th)/m + sqrt(sin(th)^2 - eps^2*((m^2 + Mz^2)*sin(th)^2 + l^2/r^2))/m\n",
    "dsth = -eps*Mz*sin(th)/(m*r) + cos(th)*sqrt(sin(th)^2 - eps^2*((m^2 + Mz^2)*sin(th)^2 \\\n",
    "                                                                    + l^2/r^2))/(m*r*sin(th))\n",
    "dsph = eps*l/(m*r^2*sin(th)^2)\n",
    "dst, dsr, dsth, dsph"
   ]
  },
  {
   "cell_type": "code",
   "execution_count": 66,
   "id": "76ed360f",
   "metadata": {},
   "outputs": [
    {
     "data": {
      "text/html": [
       "<html>\\(\\displaystyle \\left[\\frac{1}{m}, \\frac{M_{z} \\epsilon \\cos\\left({\\theta}\\right)}{m} + \\frac{\\sqrt{-{\\left({\\left(M_{z}^{2} + m^{2}\\right)} \\sin\\left({\\theta}\\right)^{2} + \\frac{l^{2}}{r^{2}}\\right)} \\epsilon^{2} + \\sin\\left({\\theta}\\right)^{2}}}{m}, -\\frac{M_{z} \\epsilon \\sin\\left({\\theta}\\right)}{m r} + \\frac{\\sqrt{-{\\left({\\left(M_{z}^{2} + m^{2}\\right)} \\sin\\left({\\theta}\\right)^{2} + \\frac{l^{2}}{r^{2}}\\right)} \\epsilon^{2} + \\sin\\left({\\theta}\\right)^{2}} \\cos\\left({\\theta}\\right)}{m r \\sin\\left({\\theta}\\right)}, \\frac{\\epsilon l}{m r^{2} \\sin\\left({\\theta}\\right)^{2}}\\right]\\)</html>"
      ],
      "text/latex": [
       "$\\displaystyle \\left[\\frac{1}{m}, \\frac{M_{z} \\epsilon \\cos\\left({\\theta}\\right)}{m} + \\frac{\\sqrt{-{\\left({\\left(M_{z}^{2} + m^{2}\\right)} \\sin\\left({\\theta}\\right)^{2} + \\frac{l^{2}}{r^{2}}\\right)} \\epsilon^{2} + \\sin\\left({\\theta}\\right)^{2}}}{m}, -\\frac{M_{z} \\epsilon \\sin\\left({\\theta}\\right)}{m r} + \\frac{\\sqrt{-{\\left({\\left(M_{z}^{2} + m^{2}\\right)} \\sin\\left({\\theta}\\right)^{2} + \\frac{l^{2}}{r^{2}}\\right)} \\epsilon^{2} + \\sin\\left({\\theta}\\right)^{2}} \\cos\\left({\\theta}\\right)}{m r \\sin\\left({\\theta}\\right)}, \\frac{\\epsilon l}{m r^{2} \\sin\\left({\\theta}\\right)^{2}}\\right]$"
      ],
      "text/plain": [
       "[1/m,\n",
       " M_z*epsilon*cos(th)/m + sqrt(-((M_z^2 + m^2)*sin(th)^2 + l^2/r^2)*epsilon^2 + sin(th)^2)/m,\n",
       " -M_z*epsilon*sin(th)/(m*r) + sqrt(-((M_z^2 + m^2)*sin(th)^2 + l^2/r^2)*epsilon^2 + sin(th)^2)*cos(th)/(m*r*sin(th)),\n",
       " epsilon*l/(m*r^2*sin(th)^2)]"
      ]
     },
     "execution_count": 66,
     "metadata": {},
     "output_type": "execute_result"
    }
   ],
   "source": [
    "dsY = M.vector_field(name=r'\\partial_{s} Y')\n",
    "dsY[:] = [dst, dsr, dsth, dsph]\n",
    "dsY[:]"
   ]
  },
  {
   "cell_type": "code",
   "execution_count": 67,
   "id": "8f90bbc0",
   "metadata": {},
   "outputs": [
    {
     "data": {
      "text/html": [
       "<html>\\(\\displaystyle -\\epsilon^{2}\\)</html>"
      ],
      "text/latex": [
       "$\\displaystyle -\\epsilon^{2}$"
      ],
      "text/plain": [
       "-epsilon^2"
      ]
     },
     "execution_count": 67,
     "metadata": {},
     "output_type": "execute_result"
    }
   ],
   "source": [
    "dsY2 = g(dsY, dsY).expr()\n",
    "dsY2"
   ]
  },
  {
   "cell_type": "code",
   "execution_count": 68,
   "id": "cf25e54a",
   "metadata": {},
   "outputs": [
    {
     "data": {
      "text/html": [
       "<html>\\(\\displaystyle \\left[\\frac{1}{m}, \\frac{{\\left| \\sin\\left({\\theta}\\right) \\right|}}{m}, \\frac{{\\left| \\sin\\left({\\theta}\\right) \\right|} \\cos\\left({\\theta}\\right)}{m r \\sin\\left({\\theta}\\right)}, 0\\right]\\)</html>"
      ],
      "text/latex": [
       "$\\displaystyle \\left[\\frac{1}{m}, \\frac{{\\left| \\sin\\left({\\theta}\\right) \\right|}}{m}, \\frac{{\\left| \\sin\\left({\\theta}\\right) \\right|} \\cos\\left({\\theta}\\right)}{m r \\sin\\left({\\theta}\\right)}, 0\\right]$"
      ],
      "text/plain": [
       "[1/m, abs(sin(th))/m, abs(sin(th))*cos(th)/(m*r*sin(th)), 0]"
      ]
     },
     "execution_count": 68,
     "metadata": {},
     "output_type": "execute_result"
    }
   ],
   "source": [
    "zdot = M.vector_field(r'\\dot{z}')\n",
    "zdot = dsY.copy()\n",
    "zdot.apply_map(lambda tmp: tmp.subs({eps:0}))\n",
    "zdot[:]"
   ]
  },
  {
   "cell_type": "code",
   "execution_count": 69,
   "id": "d536fe4e",
   "metadata": {},
   "outputs": [
    {
     "data": {
      "text/html": [
       "<html>\\(\\displaystyle \\begin{array}{llcl} & M & \\longrightarrow & \\mathbb{R} \\\\ & \\left(t, r, {\\theta}, {\\phi}\\right) & \\longmapsto & 0 \\end{array}\\)</html>"
      ],
      "text/latex": [
       "$\\displaystyle \\begin{array}{llcl} & M & \\longrightarrow & \\mathbb{R} \\\\ & \\left(t, r, {\\theta}, {\\phi}\\right) & \\longmapsto & 0 \\end{array}$"
      ],
      "text/plain": [
       "M → ℝ\n",
       "(t, r, th, ph) ↦ 0"
      ]
     },
     "execution_count": 69,
     "metadata": {},
     "output_type": "execute_result"
    }
   ],
   "source": [
    "g(zdot, zdot).display()"
   ]
  },
  {
   "cell_type": "code",
   "execution_count": 70,
   "id": "03ad8ce2",
   "metadata": {},
   "outputs": [
    {
     "data": {
      "text/html": [
       "<html>\\(\\displaystyle \\left[0, 0, 0, 0\\right]\\)</html>"
      ],
      "text/latex": [
       "$\\displaystyle \\left[0, 0, 0, 0\\right]$"
      ],
      "text/plain": [
       "[0, 0, 0, 0]"
      ]
     },
     "execution_count": 70,
     "metadata": {},
     "output_type": "execute_result"
    }
   ],
   "source": [
    "acc_zdot = nab(zdot).contract(zdot)\n",
    "acc_zdot[:]"
   ]
  },
  {
   "cell_type": "markdown",
   "id": "0c03747f",
   "metadata": {},
   "source": [
    "Clearly, the vector zdot defined above is tangent to an affinely parametrised null geodesic. With this, we can construct the parallel-propagated quasi-null frame along the null geodesic.\n",
    "\n",
    "Note that there seem to be discontinuities in the $\\theta$ component of $\\dot{z}$ for $\\theta = 0, \\pi, 2 \\pi, \\cdots$ since at these points, $\\frac{\\lvert \\sin \\theta \\rvert}{\\sin \\theta}$ switches sign from $+1$ to $-1$.\n",
    "\n",
    "However, the spherical coordinate system is defined so that $0 \\leq \\theta \\leq \\pi$, and in this interval (except at the end points) $\\lvert \\sin \\theta \\rvert = \\sin \\theta$."
   ]
  },
  {
   "cell_type": "code",
   "execution_count": 71,
   "id": "f572b71e",
   "metadata": {},
   "outputs": [
    {
     "data": {
      "text/html": [
       "<html>\\(\\displaystyle \\left[\\frac{1}{m}, \\frac{\\sin\\left({\\theta}\\right)}{m}, \\frac{\\cos\\left({\\theta}\\right)}{m r}, 0\\right]\\)</html>"
      ],
      "text/latex": [
       "$\\displaystyle \\left[\\frac{1}{m}, \\frac{\\sin\\left({\\theta}\\right)}{m}, \\frac{\\cos\\left({\\theta}\\right)}{m r}, 0\\right]$"
      ],
      "text/plain": [
       "[1/m, sin(th)/m, cos(th)/(m*r), 0]"
      ]
     },
     "execution_count": 71,
     "metadata": {},
     "output_type": "execute_result"
    }
   ],
   "source": [
    "zdot[:] = [1/m, sin(th)/m, cos(th)/(m*r), 0]\n",
    "zdot[:]"
   ]
  },
  {
   "cell_type": "markdown",
   "id": "061d8859",
   "metadata": {},
   "source": [
    "See sage file ``Flat_Space_Null_Geodesic_Tetrad'' for details about the computation of the components of the quasi-null parallel-propagated frame $(\\dot{z}, n, e_i)$.\n",
    "\n",
    "Essentially, we find that \n",
    "$\n",
    "\\dot{z}^a = \\bigg ( \\frac{1}{m}, \\frac{\\sin \\theta_0}{m}, \\frac{\\cos \\theta_0}{m r_0}, 0 \\bigg ), \\\\\n",
    "n^a = \\bigg ( \\frac{m}{2}, - \\frac{m \\sin \\theta_0}{2}, - \\frac{m \\cos \\theta_0}{2 r_0}, 0 \\bigg ), \\\\\n",
    "e_1^a = \\bigg ( 0, - \\cos \\theta_0, \\frac{\\sin \\theta_0}{r_0}, 0 \\bigg ), \\\\\n",
    "e_2^a = \\bigg ( 0, 0, 0, \\frac{1}{r_0 \\sin \\theta_0} \\bigg ),\n",
    "$\n",
    "where the subscript $0$ denotes quantities evaluated at $\\epsilon = 0$."
   ]
  },
  {
   "cell_type": "code",
   "execution_count": 75,
   "id": "2318cf14",
   "metadata": {},
   "outputs": [
    {
     "data": {
      "text/html": [
       "<html>\\(\\displaystyle \\left(\\left[\\frac{1}{m}, \\frac{\\sin\\left({\\theta}\\right)}{m}, \\frac{\\cos\\left({\\theta}\\right)}{m r}, 0\\right], \\left[\\frac{1}{2} \\, m, -\\frac{1}{2} \\, m \\sin\\left({\\theta}\\right), -\\frac{m \\cos\\left({\\theta}\\right)}{2 \\, r}, 0\\right], \\left[0, -\\cos\\left({\\theta}\\right), \\frac{\\sin\\left({\\theta}\\right)}{r}, 0\\right], \\left[0, 0, 0, \\frac{1}{r \\sin\\left({\\theta}\\right)}\\right]\\right)\\)</html>"
      ],
      "text/latex": [
       "$\\displaystyle \\left(\\left[\\frac{1}{m}, \\frac{\\sin\\left({\\theta}\\right)}{m}, \\frac{\\cos\\left({\\theta}\\right)}{m r}, 0\\right], \\left[\\frac{1}{2} \\, m, -\\frac{1}{2} \\, m \\sin\\left({\\theta}\\right), -\\frac{m \\cos\\left({\\theta}\\right)}{2 \\, r}, 0\\right], \\left[0, -\\cos\\left({\\theta}\\right), \\frac{\\sin\\left({\\theta}\\right)}{r}, 0\\right], \\left[0, 0, 0, \\frac{1}{r \\sin\\left({\\theta}\\right)}\\right]\\right)$"
      ],
      "text/plain": [
       "([1/m, sin(th)/m, cos(th)/(m*r), 0],\n",
       " [1/2*m, -1/2*m*sin(th), -1/2*m*cos(th)/r, 0],\n",
       " [0, -cos(th), sin(th)/r, 0],\n",
       " [0, 0, 0, 1/(r*sin(th))])"
      ]
     },
     "execution_count": 75,
     "metadata": {},
     "output_type": "execute_result"
    }
   ],
   "source": [
    "n = M.vector_field('n')\n",
    "e1 = M.vector_field('e_1')\n",
    "e2 = M.vector_field('e_2')\n",
    "n[:] = [m/2, -m*sin(th)/2, -m*cos(th)/(2*r), 0]\n",
    "e1[:] = [0, -cos(th), sin(th)/r, 0]\n",
    "e2[:] = [0, 0, 0, 1/(r*sin(th))]\n",
    "zdot[:], n[:], e1[:], e2[:]"
   ]
  },
  {
   "cell_type": "code",
   "execution_count": 73,
   "id": "a4a1d46b",
   "metadata": {},
   "outputs": [
    {
     "data": {
      "text/html": [
       "<html>\\(\\displaystyle \\left(\\begin{array}{llcl} & M & \\longrightarrow & \\mathbb{R} \\\\ & \\left(t, r, {\\theta}, {\\phi}\\right) & \\longmapsto & -1 \\end{array}, \\begin{array}{llcl} & M & \\longrightarrow & \\mathbb{R} \\\\ & \\left(t, r, {\\theta}, {\\phi}\\right) & \\longmapsto & 0 \\end{array}, \\begin{array}{llcl} g\\left(n,n\\right):& M & \\longrightarrow & \\mathbb{R} \\\\ & \\left(t, r, {\\theta}, {\\phi}\\right) & \\longmapsto & 0 \\end{array}, \\begin{array}{llcl} g\\left(n,e_1\\right):& M & \\longrightarrow & \\mathbb{R} \\\\ & \\left(t, r, {\\theta}, {\\phi}\\right) & \\longmapsto & 0 \\end{array}, \\begin{array}{llcl} g\\left(e_2,e_2\\right):& M & \\longrightarrow & \\mathbb{R} \\\\ & \\left(t, r, {\\theta}, {\\phi}\\right) & \\longmapsto & 1 \\end{array}, \\begin{array}{llcl} g\\left(e_1,e_1\\right):& M & \\longrightarrow & \\mathbb{R} \\\\ & \\left(t, r, {\\theta}, {\\phi}\\right) & \\longmapsto & 1 \\end{array}\\right)\\)</html>"
      ],
      "text/latex": [
       "$\\displaystyle \\left(\\begin{array}{llcl} & M & \\longrightarrow & \\mathbb{R} \\\\ & \\left(t, r, {\\theta}, {\\phi}\\right) & \\longmapsto & -1 \\end{array}, \\begin{array}{llcl} & M & \\longrightarrow & \\mathbb{R} \\\\ & \\left(t, r, {\\theta}, {\\phi}\\right) & \\longmapsto & 0 \\end{array}, \\begin{array}{llcl} g\\left(n,n\\right):& M & \\longrightarrow & \\mathbb{R} \\\\ & \\left(t, r, {\\theta}, {\\phi}\\right) & \\longmapsto & 0 \\end{array}, \\begin{array}{llcl} g\\left(n,e_1\\right):& M & \\longrightarrow & \\mathbb{R} \\\\ & \\left(t, r, {\\theta}, {\\phi}\\right) & \\longmapsto & 0 \\end{array}, \\begin{array}{llcl} g\\left(e_2,e_2\\right):& M & \\longrightarrow & \\mathbb{R} \\\\ & \\left(t, r, {\\theta}, {\\phi}\\right) & \\longmapsto & 1 \\end{array}, \\begin{array}{llcl} g\\left(e_1,e_1\\right):& M & \\longrightarrow & \\mathbb{R} \\\\ & \\left(t, r, {\\theta}, {\\phi}\\right) & \\longmapsto & 1 \\end{array}\\right)$"
      ],
      "text/plain": [
       "(M → ℝ\n",
       " (t, r, th, ph) ↦ -1,\n",
       " M → ℝ\n",
       " (t, r, th, ph) ↦ 0,\n",
       " g(n,n): M → ℝ\n",
       "    (t, r, th, ph) ↦ 0,\n",
       " g(n,e_1): M → ℝ\n",
       "    (t, r, th, ph) ↦ 0,\n",
       " g(e_2,e_2): M → ℝ\n",
       "    (t, r, th, ph) ↦ 1,\n",
       " g(e_1,e_1): M → ℝ\n",
       "    (t, r, th, ph) ↦ 1)"
      ]
     },
     "execution_count": 73,
     "metadata": {},
     "output_type": "execute_result"
    }
   ],
   "source": [
    "g(zdot, n).display(), g(zdot, e1).display(), g(n, n).display(), g(n, e1).display(), g(e2, e2).display(), g(e1, e1).display()"
   ]
  },
  {
   "cell_type": "code",
   "execution_count": 74,
   "id": "94e5c07a",
   "metadata": {},
   "outputs": [
    {
     "data": {
      "text/html": [
       "<html>\\(\\displaystyle \\left(\\left[0, 0, 0, 0\\right], \\left[0, 0, 0, 0\\right], \\left[0, 0, 0, 0\\right]\\right)\\)</html>"
      ],
      "text/latex": [
       "$\\displaystyle \\left(\\left[0, 0, 0, 0\\right], \\left[0, 0, 0, 0\\right], \\left[0, 0, 0, 0\\right]\\right)$"
      ],
      "text/plain": [
       "([0, 0, 0, 0], [0, 0, 0, 0], [0, 0, 0, 0])"
      ]
     },
     "execution_count": 74,
     "metadata": {},
     "output_type": "execute_result"
    }
   ],
   "source": [
    "acc_n = nab(n).contract(zdot)\n",
    "acc_e1 = nab(e1).contract(zdot)\n",
    "acc_e2 = nab(e2).contract(zdot)\n",
    "acc_n[:], acc_e1[:], acc_e2[:]"
   ]
  },
  {
   "cell_type": "markdown",
   "id": "ad85e0a3",
   "metadata": {},
   "source": [
    "Clearly, the frame satisfies the inner product relations and is parallel transported along the reference null geodesic."
   ]
  },
  {
   "cell_type": "code",
   "execution_count": 76,
   "id": "06377f12",
   "metadata": {},
   "outputs": [
    {
     "data": {
      "text/html": [
       "<html>\\(\\displaystyle \\frac{s}{m}\\)</html>"
      ],
      "text/latex": [
       "$\\displaystyle \\frac{s}{m}$"
      ],
      "text/plain": [
       "s/m"
      ]
     },
     "execution_count": 76,
     "metadata": {},
     "output_type": "execute_result"
    }
   ],
   "source": [
    "t0_sol = zdot[0].expr().integrate(s)\n",
    "t0_sol"
   ]
  },
  {
   "cell_type": "code",
   "execution_count": 78,
   "id": "b5ff422e",
   "metadata": {},
   "outputs": [
    {
     "data": {
      "text/html": [
       "<html>\\(\\displaystyle \\left(r_{0}\\left(s\\right), \\theta_{0}\\left(s\\right)\\right)\\)</html>"
      ],
      "text/latex": [
       "$\\displaystyle \\left(r_{0}\\left(s\\right), \\theta_{0}\\left(s\\right)\\right)$"
      ],
      "text/plain": [
       "(r_0(s), theta_0(s))"
      ]
     },
     "execution_count": 78,
     "metadata": {},
     "output_type": "execute_result"
    }
   ],
   "source": [
    "r0 = function('r_0')(s)\n",
    "th0 = function('theta_0')(s)\n",
    "r0, th0"
   ]
  },
  {
   "cell_type": "code",
   "execution_count": 95,
   "id": "4acc3768",
   "metadata": {},
   "outputs": [
    {
     "data": {
      "text/html": [
       "<html>\\(\\displaystyle \\left(\\frac{\\partial}{\\partial s}r_{0}\\left(s\\right) = \\frac{\\sin\\left(\\theta_{0}\\left(s\\right)\\right)}{m}, \\frac{\\partial}{\\partial s}\\theta_{0}\\left(s\\right) = \\frac{\\cos\\left(\\theta_{0}\\left(s\\right)\\right)}{m r_{0}\\left(s\\right)}\\right)\\)</html>"
      ],
      "text/latex": [
       "$\\displaystyle \\left(\\frac{\\partial}{\\partial s}r_{0}\\left(s\\right) = \\frac{\\sin\\left(\\theta_{0}\\left(s\\right)\\right)}{m}, \\frac{\\partial}{\\partial s}\\theta_{0}\\left(s\\right) = \\frac{\\cos\\left(\\theta_{0}\\left(s\\right)\\right)}{m r_{0}\\left(s\\right)}\\right)$"
      ],
      "text/plain": [
       "(diff(r_0(s), s) == sin(theta_0(s))/m,\n",
       " diff(theta_0(s), s) == cos(theta_0(s))/(m*r_0(s)))"
      ]
     },
     "execution_count": 95,
     "metadata": {},
     "output_type": "execute_result"
    }
   ],
   "source": [
    "NG_r_eq = r0.diff(s, 1) == sin(th0)/m\n",
    "NG_th_eq = th0.diff(s, 1) == cos(th0)/(m*r0)\n",
    "NG_r_eq, NG_th_eq"
   ]
  },
  {
   "cell_type": "code",
   "execution_count": 96,
   "id": "a165b861",
   "metadata": {},
   "outputs": [
    {
     "data": {
      "text/html": [
       "<html>\\(\\displaystyle -\\frac{\\partial}{\\partial s}r_{0}\\left(s\\right)^{2} + r_{0}\\left(s\\right) \\frac{\\partial^{2}}{(\\partial s)^{2}}r_{0}\\left(s\\right) + \\frac{1}{m^{2}} = 0\\)</html>"
      ],
      "text/latex": [
       "$\\displaystyle -\\frac{\\partial}{\\partial s}r_{0}\\left(s\\right)^{2} + r_{0}\\left(s\\right) \\frac{\\partial^{2}}{(\\partial s)^{2}}r_{0}\\left(s\\right) + \\frac{1}{m^{2}} = 0$"
      ],
      "text/plain": [
       "-diff(r_0(s), s)^2 + r_0(s)*diff(r_0(s), s, s) + 1/m^2 == 0"
      ]
     },
     "execution_count": 96,
     "metadata": {},
     "output_type": "execute_result"
    }
   ],
   "source": [
    "NG_r_eq2 = ((r0.diff(s, 2) - (r0.diff(s, 1))^2/r0 + 1/(m^2*r0) == 0)*r0).expand()\n",
    "NG_r_eq2"
   ]
  },
  {
   "cell_type": "code",
   "execution_count": 97,
   "id": "6068b17d",
   "metadata": {},
   "outputs": [
    {
     "data": {
      "text/html": [
       "<html>\\(\\displaystyle \\frac{\\partial^{2}}{(\\partial s)^{2}}\\theta_{0}\\left(s\\right) = -\\frac{\\sin\\left(\\theta_{0}\\left(s\\right)\\right) \\frac{\\partial}{\\partial s}\\theta_{0}\\left(s\\right)}{m r_{0}\\left(s\\right)} - \\frac{\\cos\\left(\\theta_{0}\\left(s\\right)\\right) \\frac{\\partial}{\\partial s}r_{0}\\left(s\\right)}{m r_{0}\\left(s\\right)^{2}}\\)</html>"
      ],
      "text/latex": [
       "$\\displaystyle \\frac{\\partial^{2}}{(\\partial s)^{2}}\\theta_{0}\\left(s\\right) = -\\frac{\\sin\\left(\\theta_{0}\\left(s\\right)\\right) \\frac{\\partial}{\\partial s}\\theta_{0}\\left(s\\right)}{m r_{0}\\left(s\\right)} - \\frac{\\cos\\left(\\theta_{0}\\left(s\\right)\\right) \\frac{\\partial}{\\partial s}r_{0}\\left(s\\right)}{m r_{0}\\left(s\\right)^{2}}$"
      ],
      "text/plain": [
       "diff(theta_0(s), s, s) == -sin(theta_0(s))*diff(theta_0(s), s)/(m*r_0(s)) - cos(theta_0(s))*diff(r_0(s), s)/(m*r_0(s)^2)"
      ]
     },
     "execution_count": 97,
     "metadata": {},
     "output_type": "execute_result"
    }
   ],
   "source": [
    "NG_th_eq2 = NG_th_eq.diff(s, 1)\n",
    "NG_th_eq2"
   ]
  },
  {
   "cell_type": "code",
   "execution_count": 98,
   "id": "3cad113c",
   "metadata": {},
   "outputs": [
    {
     "data": {
      "text/html": [
       "<html>\\(\\displaystyle \\left(\\frac{\\partial}{\\partial s}\\theta_{0}\\left(s\\right), \\frac{\\partial}{\\partial s}r_{0}\\left(s\\right)\\right)\\)</html>"
      ],
      "text/latex": [
       "$\\displaystyle \\left(\\frac{\\partial}{\\partial s}\\theta_{0}\\left(s\\right), \\frac{\\partial}{\\partial s}r_{0}\\left(s\\right)\\right)$"
      ],
      "text/plain": [
       "(diff(theta_0(s), s), diff(r_0(s), s))"
      ]
     },
     "execution_count": 98,
     "metadata": {},
     "output_type": "execute_result"
    }
   ],
   "source": [
    "dsth0 = th0.diff(s, 1)\n",
    "dsr0 = r0.diff(s, 1)\n",
    "dsth0, dsr0"
   ]
  },
  {
   "cell_type": "code",
   "execution_count": 100,
   "id": "df1f1d93",
   "metadata": {},
   "outputs": [
    {
     "data": {
      "text/html": [
       "<html>\\(\\displaystyle \\frac{\\partial^{2}}{(\\partial s)^{2}}\\theta_{0}\\left(s\\right) = -\\frac{2 \\, \\cos\\left(\\theta_{0}\\left(s\\right)\\right) \\sin\\left(\\theta_{0}\\left(s\\right)\\right)}{m^{2} r_{0}\\left(s\\right)^{2}}\\)</html>"
      ],
      "text/latex": [
       "$\\displaystyle \\frac{\\partial^{2}}{(\\partial s)^{2}}\\theta_{0}\\left(s\\right) = -\\frac{2 \\, \\cos\\left(\\theta_{0}\\left(s\\right)\\right) \\sin\\left(\\theta_{0}\\left(s\\right)\\right)}{m^{2} r_{0}\\left(s\\right)^{2}}$"
      ],
      "text/plain": [
       "diff(theta_0(s), s, s) == -2*cos(theta_0(s))*sin(theta_0(s))/(m^2*r_0(s)^2)"
      ]
     },
     "execution_count": 100,
     "metadata": {},
     "output_type": "execute_result"
    }
   ],
   "source": [
    "NG_th_eq3 = NG_th_eq2.subs({dsth0:NG_th_eq.rhs()}).subs({dsr0:NG_r_eq.rhs()})\n",
    "NG_th_eq3"
   ]
  },
  {
   "cell_type": "code",
   "execution_count": 102,
   "id": "962587b0",
   "metadata": {},
   "outputs": [
    {
     "data": {
      "text/html": [
       "<html>\\(\\displaystyle \\log\\left(\\sec\\left({\\theta}\\right)\\right)\\)</html>"
      ],
      "text/latex": [
       "$\\displaystyle \\log\\left(\\sec\\left({\\theta}\\right)\\right)$"
      ],
      "text/plain": [
       "log(sec(th))"
      ]
     },
     "execution_count": 102,
     "metadata": {},
     "output_type": "execute_result"
    }
   ],
   "source": [
    "k = tan(th)\n",
    "k.integrate(th)"
   ]
  },
  {
   "cell_type": "code",
   "execution_count": 103,
   "id": "f0833726",
   "metadata": {},
   "outputs": [
    {
     "data": {
      "text/html": [
       "<html>\\(\\displaystyle \\frac{\\frac{\\partial}{\\partial s}r_{0}\\left(s\\right)}{\\frac{\\partial}{\\partial s}\\theta_{0}\\left(s\\right)} = \\frac{r_{0}\\left(s\\right) \\sin\\left(\\theta_{0}\\left(s\\right)\\right)}{\\cos\\left(\\theta_{0}\\left(s\\right)\\right)}\\)</html>"
      ],
      "text/latex": [
       "$\\displaystyle \\frac{\\frac{\\partial}{\\partial s}r_{0}\\left(s\\right)}{\\frac{\\partial}{\\partial s}\\theta_{0}\\left(s\\right)} = \\frac{r_{0}\\left(s\\right) \\sin\\left(\\theta_{0}\\left(s\\right)\\right)}{\\cos\\left(\\theta_{0}\\left(s\\right)\\right)}$"
      ],
      "text/plain": [
       "diff(r_0(s), s)/diff(theta_0(s), s) == r_0(s)*sin(theta_0(s))/cos(theta_0(s))"
      ]
     },
     "execution_count": 103,
     "metadata": {},
     "output_type": "execute_result"
    }
   ],
   "source": [
    "NG_r_th = NG_r_eq/NG_th_eq\n",
    "NG_r_th"
   ]
  },
  {
   "cell_type": "code",
   "execution_count": 105,
   "id": "e7cc051b",
   "metadata": {},
   "outputs": [
    {
     "data": {
      "text/html": [
       "<html>\\(\\displaystyle R_{0}\\left(\\Theta_{0}\\right)\\)</html>"
      ],
      "text/latex": [
       "$\\displaystyle R_{0}\\left(\\Theta_{0}\\right)$"
      ],
      "text/plain": [
       "R_0(Theta_0)"
      ]
     },
     "execution_count": 105,
     "metadata": {},
     "output_type": "execute_result"
    }
   ],
   "source": [
    "R0 = function('R_0')(th_init)\n",
    "R0"
   ]
  },
  {
   "cell_type": "code",
   "execution_count": 108,
   "id": "0ddbcced",
   "metadata": {},
   "outputs": [
    {
     "data": {
      "text/html": [
       "<html>\\(\\displaystyle \\frac{\\partial}{\\partial \\Theta_{0}}R_{0}\\left(\\Theta_{0}\\right) = \\frac{R_{0}\\left(\\Theta_{0}\\right) \\sin\\left(\\Theta_{0}\\right)}{\\cos\\left(\\Theta_{0}\\right)}\\)</html>"
      ],
      "text/latex": [
       "$\\displaystyle \\frac{\\partial}{\\partial \\Theta_{0}}R_{0}\\left(\\Theta_{0}\\right) = \\frac{R_{0}\\left(\\Theta_{0}\\right) \\sin\\left(\\Theta_{0}\\right)}{\\cos\\left(\\Theta_{0}\\right)}$"
      ],
      "text/plain": [
       "diff(R_0(Theta_0), Theta_0) == R_0(Theta_0)*sin(Theta_0)/cos(Theta_0)"
      ]
     },
     "execution_count": 108,
     "metadata": {},
     "output_type": "execute_result"
    }
   ],
   "source": [
    "NG_r_th_eq2 = NG_r_th.subs({NG_r_th.lhs():R0.diff(th_init)}).subs({th0:th_init}).subs({r0:R0})\n",
    "NG_r_th_eq2"
   ]
  },
  {
   "cell_type": "code",
   "execution_count": 109,
   "id": "cb3bc963",
   "metadata": {},
   "outputs": [
    {
     "data": {
      "text/html": [
       "<html>\\(\\displaystyle \\frac{C}{\\cos\\left(\\Theta_{0}\\right)}\\)</html>"
      ],
      "text/latex": [
       "$\\displaystyle \\frac{C}{\\cos\\left(\\Theta_{0}\\right)}$"
      ],
      "text/plain": [
       "_C/cos(Theta_0)"
      ]
     },
     "execution_count": 109,
     "metadata": {},
     "output_type": "execute_result"
    }
   ],
   "source": [
    "desolve(NG_r_th_eq2, R0, ivar=th_init)"
   ]
  },
  {
   "cell_type": "code",
   "execution_count": 112,
   "id": "3ec66118",
   "metadata": {},
   "outputs": [
    {
     "data": {
      "text/html": [
       "<html>\\(\\displaystyle \\frac{\\partial}{\\partial s}\\theta_{0}\\left(s\\right) = \\frac{\\cos\\left(\\theta_{0}\\left(s\\right)\\right)^{2}}{C_{r} m}\\)</html>"
      ],
      "text/latex": [
       "$\\displaystyle \\frac{\\partial}{\\partial s}\\theta_{0}\\left(s\\right) = \\frac{\\cos\\left(\\theta_{0}\\left(s\\right)\\right)^{2}}{C_{r} m}$"
      ],
      "text/plain": [
       "diff(theta_0(s), s) == cos(theta_0(s))^2/(C_r*m)"
      ]
     },
     "execution_count": 112,
     "metadata": {},
     "output_type": "execute_result"
    }
   ],
   "source": [
    "Cr = var('C_r')\n",
    "NG_th_eq4 = NG_th_eq.subs({r0:Cr/cos(th0)})\n",
    "NG_th_eq4"
   ]
  },
  {
   "cell_type": "code",
   "execution_count": 113,
   "id": "2d903039",
   "metadata": {},
   "outputs": [
    {
     "data": {
      "text/html": [
       "<html>\\(\\displaystyle C_{r} m \\tan\\left(\\theta_{0}\\left(s\\right)\\right) = C + s\\)</html>"
      ],
      "text/latex": [
       "$\\displaystyle C_{r} m \\tan\\left(\\theta_{0}\\left(s\\right)\\right) = C + s$"
      ],
      "text/plain": [
       "C_r*m*tan(theta_0(s)) == _C + s"
      ]
     },
     "execution_count": 113,
     "metadata": {},
     "output_type": "execute_result"
    }
   ],
   "source": [
    "desolve(NG_th_eq4, th0, ivar=s)"
   ]
  },
  {
   "cell_type": "code",
   "execution_count": null,
   "id": "02a946b7",
   "metadata": {},
   "outputs": [],
   "source": []
  }
 ],
 "metadata": {
  "kernelspec": {
   "display_name": "SageMath 9.7",
   "language": "sage",
   "name": "sagemath"
  },
  "language_info": {
   "codemirror_mode": {
    "name": "ipython",
    "version": 3
   },
   "file_extension": ".py",
   "mimetype": "text/x-python",
   "name": "python",
   "nbconvert_exporter": "python",
   "pygments_lexer": "ipython3",
   "version": "3.8.10"
  }
 },
 "nbformat": 4,
 "nbformat_minor": 5
}
