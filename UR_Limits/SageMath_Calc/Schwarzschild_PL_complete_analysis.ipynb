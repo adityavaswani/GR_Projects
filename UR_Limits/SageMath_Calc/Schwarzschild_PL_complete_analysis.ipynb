{
 "cells": [
  {
   "cell_type": "code",
   "execution_count": 1,
   "id": "5fe7c4fe",
   "metadata": {},
   "outputs": [],
   "source": [
    "%display latex"
   ]
  },
  {
   "cell_type": "markdown",
   "id": "dd7c90c9",
   "metadata": {},
   "source": [
    "Define the manifold to be Lorentzian and the coordinates to be $(t, r, \\theta, \\phi)$.\n",
    "\n",
    "Define the variables $m, l, E$ that correspond to the mass of the Schwarzschild black hole, and the angular momentum and energy of the test particles (on geodesic trajectories). Also define the parameters $s, \\epsilon = 1/E$, which will be the affine parameter along the timelike/null geodesics and the Penrose limit parameter respectively. Also define $\\kappa$, which will be (in case 2 below) the proportionality factor between the angular momentum $l$ and the energy as $l = \\kappa E = \\kappa/\\epsilon$.\n",
    "\n",
    "Furthermore, define the Schwarzschild metric $g_{a b} = diag (-f (r), f(r)^{-1}, r^2, r^2 \\sin ^2 \\theta)$, where $f(r) = 1 - 2m/r$. To specify the equatorial submanifold, set $\\theta = \\pi / 2$."
   ]
  },
  {
   "cell_type": "code",
   "execution_count": 2,
   "id": "707f1b19",
   "metadata": {},
   "outputs": [
    {
     "data": {
      "text/html": [
       "<html>\\(\\displaystyle \\left(M,(t, r, {\\theta}, {\\phi})\\right)\\)</html>"
      ],
      "text/latex": [
       "$\\displaystyle \\left(M,(t, r, {\\theta}, {\\phi})\\right)$"
      ],
      "text/plain": [
       "Chart (M, (t, r, th, ph))"
      ]
     },
     "execution_count": 2,
     "metadata": {},
     "output_type": "execute_result"
    }
   ],
   "source": [
    "M = Manifold(4, 'M', structure='Lorentzian')\n",
    "X.<t, r, th, ph> = M.chart(r't:(0,+oo) r:(0,+oo) th:(0,pi):\\theta ph:(0,2*pi):\\phi')\n",
    "X"
   ]
  },
  {
   "cell_type": "code",
   "execution_count": 134,
   "id": "7b0113a9",
   "metadata": {},
   "outputs": [
    {
     "data": {
      "text/html": [
       "<html>\\(\\displaystyle -\\frac{2 \\, m}{r} + 1\\)</html>"
      ],
      "text/latex": [
       "$\\displaystyle -\\frac{2 \\, m}{r} + 1$"
      ],
      "text/plain": [
       "-2*m/r + 1"
      ]
     },
     "execution_count": 134,
     "metadata": {},
     "output_type": "execute_result"
    }
   ],
   "source": [
    "m, l, s, eps, kap = var('m, l, s, epsilon, kappa')\n",
    "assume(m>0)\n",
    "assume(eps>=0)\n",
    "assume(kappa>0)\n",
    "assume(r>2*m)\n",
    "f = 1 - 2*m/r\n",
    "f"
   ]
  },
  {
   "cell_type": "code",
   "execution_count": 4,
   "id": "40fb2204",
   "metadata": {},
   "outputs": [
    {
     "data": {
      "text/html": [
       "<html>\\(\\displaystyle \\left(\\begin{array}{rrrr}\n",
       "\\frac{2 \\, m}{r} - 1 & 0 & 0 & 0 \\\\\n",
       "0 & -\\frac{1}{\\frac{2 \\, m}{r} - 1} & 0 & 0 \\\\\n",
       "0 & 0 & r^{2} & 0 \\\\\n",
       "0 & 0 & 0 & r^{2} \\sin\\left({\\theta}\\right)^{2}\n",
       "\\end{array}\\right)\\)</html>"
      ],
      "text/latex": [
       "$\\displaystyle \\left(\\begin{array}{rrrr}\n",
       "\\frac{2 \\, m}{r} - 1 & 0 & 0 & 0 \\\\\n",
       "0 & -\\frac{1}{\\frac{2 \\, m}{r} - 1} & 0 & 0 \\\\\n",
       "0 & 0 & r^{2} & 0 \\\\\n",
       "0 & 0 & 0 & r^{2} \\sin\\left({\\theta}\\right)^{2}\n",
       "\\end{array}\\right)$"
      ],
      "text/plain": [
       "[     2*m/r - 1              0              0              0]\n",
       "[             0 -1/(2*m/r - 1)              0              0]\n",
       "[             0              0            r^2              0]\n",
       "[             0              0              0  r^2*sin(th)^2]"
      ]
     },
     "execution_count": 4,
     "metadata": {},
     "output_type": "execute_result"
    }
   ],
   "source": [
    "g = M.metric('g')\n",
    "g[0, 0], g[1, 1], g[2, 2], g[3, 3] = -f, 1/f, r^2, r^2*sin(th)^2\n",
    "g[:]"
   ]
  },
  {
   "cell_type": "code",
   "execution_count": 5,
   "id": "9a62846e",
   "metadata": {},
   "outputs": [
    {
     "data": {
      "text/html": [
       "<html>\\(\\displaystyle \\left(\\begin{array}{rrrr}\n",
       "\\frac{2 \\, m}{r} - 1 & 0 & 0 & 0 \\\\\n",
       "0 & -\\frac{1}{\\frac{2 \\, m}{r} - 1} & 0 & 0 \\\\\n",
       "0 & 0 & r^{2} & 0 \\\\\n",
       "0 & 0 & 0 & r^{2}\n",
       "\\end{array}\\right)\\)</html>"
      ],
      "text/latex": [
       "$\\displaystyle \\left(\\begin{array}{rrrr}\n",
       "\\frac{2 \\, m}{r} - 1 & 0 & 0 & 0 \\\\\n",
       "0 & -\\frac{1}{\\frac{2 \\, m}{r} - 1} & 0 & 0 \\\\\n",
       "0 & 0 & r^{2} & 0 \\\\\n",
       "0 & 0 & 0 & r^{2}\n",
       "\\end{array}\\right)$"
      ],
      "text/plain": [
       "[     2*m/r - 1              0              0              0]\n",
       "[             0 -1/(2*m/r - 1)              0              0]\n",
       "[             0              0            r^2              0]\n",
       "[             0              0              0            r^2]"
      ]
     },
     "execution_count": 5,
     "metadata": {},
     "output_type": "execute_result"
    }
   ],
   "source": [
    "g.apply_map(lambda cmp: cmp.subs({th:pi/2}))\n",
    "g[:]"
   ]
  },
  {
   "cell_type": "markdown",
   "id": "9add169c",
   "metadata": {},
   "source": [
    "Compute the Christoffel symbols and affine connection of the metric, in the $\\theta = \\pi / 2$ submanifold."
   ]
  },
  {
   "cell_type": "code",
   "execution_count": 6,
   "id": "f8501d9d",
   "metadata": {},
   "outputs": [
    {
     "data": {
      "text/html": [
       "<html>\\(\\displaystyle \\left[\\left[\\left[0, -\\frac{m}{2 \\, m r - r^{2}}, 0, 0\\right], \\left[-\\frac{m}{2 \\, m r - r^{2}}, 0, 0, 0\\right], \\left[0, 0, 0, 0\\right], \\left[0, 0, 0, 0\\right]\\right], \\left[\\left[-\\frac{2 \\, m^{2} - m r}{r^{3}}, 0, 0, 0\\right], \\left[0, \\frac{m}{2 \\, m r - r^{2}}, 0, 0\\right], \\left[0, 0, 2 \\, m - r, 0\\right], \\left[0, 0, 0, 2 \\, m - r\\right]\\right], \\left[\\left[0, 0, 0, 0\\right], \\left[0, 0, \\frac{1}{r}, 0\\right], \\left[0, \\frac{1}{r}, 0, 0\\right], \\left[0, 0, 0, 0\\right]\\right], \\left[\\left[0, 0, 0, 0\\right], \\left[0, 0, 0, \\frac{1}{r}\\right], \\left[0, 0, 0, 0\\right], \\left[0, \\frac{1}{r}, 0, 0\\right]\\right]\\right]\\)</html>"
      ],
      "text/latex": [
       "$\\displaystyle \\left[\\left[\\left[0, -\\frac{m}{2 \\, m r - r^{2}}, 0, 0\\right], \\left[-\\frac{m}{2 \\, m r - r^{2}}, 0, 0, 0\\right], \\left[0, 0, 0, 0\\right], \\left[0, 0, 0, 0\\right]\\right], \\left[\\left[-\\frac{2 \\, m^{2} - m r}{r^{3}}, 0, 0, 0\\right], \\left[0, \\frac{m}{2 \\, m r - r^{2}}, 0, 0\\right], \\left[0, 0, 2 \\, m - r, 0\\right], \\left[0, 0, 0, 2 \\, m - r\\right]\\right], \\left[\\left[0, 0, 0, 0\\right], \\left[0, 0, \\frac{1}{r}, 0\\right], \\left[0, \\frac{1}{r}, 0, 0\\right], \\left[0, 0, 0, 0\\right]\\right], \\left[\\left[0, 0, 0, 0\\right], \\left[0, 0, 0, \\frac{1}{r}\\right], \\left[0, 0, 0, 0\\right], \\left[0, \\frac{1}{r}, 0, 0\\right]\\right]\\right]$"
      ],
      "text/plain": [
       "[[[0, -m/(2*m*r - r^2), 0, 0],\n",
       "  [-m/(2*m*r - r^2), 0, 0, 0],\n",
       "  [0, 0, 0, 0],\n",
       "  [0, 0, 0, 0]],\n",
       " [[-(2*m^2 - m*r)/r^3, 0, 0, 0],\n",
       "  [0, m/(2*m*r - r^2), 0, 0],\n",
       "  [0, 0, 2*m - r, 0],\n",
       "  [0, 0, 0, 2*m - r]],\n",
       " [[0, 0, 0, 0], [0, 0, 1/r, 0], [0, 1/r, 0, 0], [0, 0, 0, 0]],\n",
       " [[0, 0, 0, 0], [0, 0, 0, 1/r], [0, 0, 0, 0], [0, 1/r, 0, 0]]]"
      ]
     },
     "execution_count": 6,
     "metadata": {},
     "output_type": "execute_result"
    }
   ],
   "source": [
    "Gam = g.christoffel_symbols()\n",
    "nab = M.affine_connection('nabla', r'\\nabla')\n",
    "nab[:] = Gam[:]\n",
    "nab[:]"
   ]
  },
  {
   "cell_type": "code",
   "execution_count": 7,
   "id": "3bae1063",
   "metadata": {},
   "outputs": [
    {
     "data": {
      "text/html": [
       "<html>\\(\\displaystyle \\begin{array}{lcl} \\mathrm{Riem}\\left(g\\right)_{ \\phantom{\\, t} \\, r \\, t \\, r }^{ \\, t \\phantom{\\, r} \\phantom{\\, t} \\phantom{\\, r} } & = & -\\frac{2 \\, m}{2 \\, m r^{2} - r^{3}} \\\\ \\mathrm{Riem}\\left(g\\right)_{ \\phantom{\\, t} \\, r \\, r \\, t }^{ \\, t \\phantom{\\, r} \\phantom{\\, r} \\phantom{\\, t} } & = & \\frac{2 \\, m}{2 \\, m r^{2} - r^{3}} \\\\ \\mathrm{Riem}\\left(g\\right)_{ \\phantom{\\, t} \\, {\\theta} \\, t \\, {\\theta} }^{ \\, t \\phantom{\\, {\\theta}} \\phantom{\\, t} \\phantom{\\, {\\theta}} } & = & -\\frac{m}{r} \\\\ \\mathrm{Riem}\\left(g\\right)_{ \\phantom{\\, t} \\, {\\theta} \\, {\\theta} \\, t }^{ \\, t \\phantom{\\, {\\theta}} \\phantom{\\, {\\theta}} \\phantom{\\, t} } & = & \\frac{m}{r} \\\\ \\mathrm{Riem}\\left(g\\right)_{ \\phantom{\\, t} \\, {\\phi} \\, t \\, {\\phi} }^{ \\, t \\phantom{\\, {\\phi}} \\phantom{\\, t} \\phantom{\\, {\\phi}} } & = & -\\frac{m}{r} \\\\ \\mathrm{Riem}\\left(g\\right)_{ \\phantom{\\, t} \\, {\\phi} \\, {\\phi} \\, t }^{ \\, t \\phantom{\\, {\\phi}} \\phantom{\\, {\\phi}} \\phantom{\\, t} } & = & \\frac{m}{r} \\\\ \\mathrm{Riem}\\left(g\\right)_{ \\phantom{\\, r} \\, t \\, t \\, r }^{ \\, r \\phantom{\\, t} \\phantom{\\, t} \\phantom{\\, r} } & = & -\\frac{2 \\, {\\left(2 \\, m^{2} - m r\\right)}}{r^{4}} \\\\ \\mathrm{Riem}\\left(g\\right)_{ \\phantom{\\, r} \\, t \\, r \\, t }^{ \\, r \\phantom{\\, t} \\phantom{\\, r} \\phantom{\\, t} } & = & \\frac{2 \\, {\\left(2 \\, m^{2} - m r\\right)}}{r^{4}} \\\\ \\mathrm{Riem}\\left(g\\right)_{ \\phantom{\\, r} \\, {\\theta} \\, r \\, {\\theta} }^{ \\, r \\phantom{\\, {\\theta}} \\phantom{\\, r} \\phantom{\\, {\\theta}} } & = & -\\frac{m}{r} \\\\ \\mathrm{Riem}\\left(g\\right)_{ \\phantom{\\, r} \\, {\\theta} \\, {\\theta} \\, r }^{ \\, r \\phantom{\\, {\\theta}} \\phantom{\\, {\\theta}} \\phantom{\\, r} } & = & \\frac{m}{r} \\\\ \\mathrm{Riem}\\left(g\\right)_{ \\phantom{\\, r} \\, {\\phi} \\, r \\, {\\phi} }^{ \\, r \\phantom{\\, {\\phi}} \\phantom{\\, r} \\phantom{\\, {\\phi}} } & = & -\\frac{m}{r} \\\\ \\mathrm{Riem}\\left(g\\right)_{ \\phantom{\\, r} \\, {\\phi} \\, {\\phi} \\, r }^{ \\, r \\phantom{\\, {\\phi}} \\phantom{\\, {\\phi}} \\phantom{\\, r} } & = & \\frac{m}{r} \\\\ \\mathrm{Riem}\\left(g\\right)_{ \\phantom{\\, {\\theta}} \\, t \\, t \\, {\\theta} }^{ \\, {\\theta} \\phantom{\\, t} \\phantom{\\, t} \\phantom{\\, {\\theta}} } & = & \\frac{2 \\, m^{2} - m r}{r^{4}} \\\\ \\mathrm{Riem}\\left(g\\right)_{ \\phantom{\\, {\\theta}} \\, t \\, {\\theta} \\, t }^{ \\, {\\theta} \\phantom{\\, t} \\phantom{\\, {\\theta}} \\phantom{\\, t} } & = & -\\frac{2 \\, m^{2} - m r}{r^{4}} \\\\ \\mathrm{Riem}\\left(g\\right)_{ \\phantom{\\, {\\theta}} \\, r \\, r \\, {\\theta} }^{ \\, {\\theta} \\phantom{\\, r} \\phantom{\\, r} \\phantom{\\, {\\theta}} } & = & -\\frac{m}{2 \\, m r^{2} - r^{3}} \\\\ \\mathrm{Riem}\\left(g\\right)_{ \\phantom{\\, {\\theta}} \\, r \\, {\\theta} \\, r }^{ \\, {\\theta} \\phantom{\\, r} \\phantom{\\, {\\theta}} \\phantom{\\, r} } & = & \\frac{m}{2 \\, m r^{2} - r^{3}} \\\\ \\mathrm{Riem}\\left(g\\right)_{ \\phantom{\\, {\\theta}} \\, {\\phi} \\, {\\theta} \\, {\\phi} }^{ \\, {\\theta} \\phantom{\\, {\\phi}} \\phantom{\\, {\\theta}} \\phantom{\\, {\\phi}} } & = & \\frac{2 \\, m - r}{r} \\\\ \\mathrm{Riem}\\left(g\\right)_{ \\phantom{\\, {\\theta}} \\, {\\phi} \\, {\\phi} \\, {\\theta} }^{ \\, {\\theta} \\phantom{\\, {\\phi}} \\phantom{\\, {\\phi}} \\phantom{\\, {\\theta}} } & = & -\\frac{2 \\, m - r}{r} \\\\ \\mathrm{Riem}\\left(g\\right)_{ \\phantom{\\, {\\phi}} \\, t \\, t \\, {\\phi} }^{ \\, {\\phi} \\phantom{\\, t} \\phantom{\\, t} \\phantom{\\, {\\phi}} } & = & \\frac{2 \\, m^{2} - m r}{r^{4}} \\\\ \\mathrm{Riem}\\left(g\\right)_{ \\phantom{\\, {\\phi}} \\, t \\, {\\phi} \\, t }^{ \\, {\\phi} \\phantom{\\, t} \\phantom{\\, {\\phi}} \\phantom{\\, t} } & = & -\\frac{2 \\, m^{2} - m r}{r^{4}} \\\\ \\mathrm{Riem}\\left(g\\right)_{ \\phantom{\\, {\\phi}} \\, r \\, r \\, {\\phi} }^{ \\, {\\phi} \\phantom{\\, r} \\phantom{\\, r} \\phantom{\\, {\\phi}} } & = & -\\frac{m}{2 \\, m r^{2} - r^{3}} \\\\ \\mathrm{Riem}\\left(g\\right)_{ \\phantom{\\, {\\phi}} \\, r \\, {\\phi} \\, r }^{ \\, {\\phi} \\phantom{\\, r} \\phantom{\\, {\\phi}} \\phantom{\\, r} } & = & \\frac{m}{2 \\, m r^{2} - r^{3}} \\\\ \\mathrm{Riem}\\left(g\\right)_{ \\phantom{\\, {\\phi}} \\, {\\theta} \\, {\\theta} \\, {\\phi} }^{ \\, {\\phi} \\phantom{\\, {\\theta}} \\phantom{\\, {\\theta}} \\phantom{\\, {\\phi}} } & = & -\\frac{2 \\, m - r}{r} \\\\ \\mathrm{Riem}\\left(g\\right)_{ \\phantom{\\, {\\phi}} \\, {\\theta} \\, {\\phi} \\, {\\theta} }^{ \\, {\\phi} \\phantom{\\, {\\theta}} \\phantom{\\, {\\phi}} \\phantom{\\, {\\theta}} } & = & \\frac{2 \\, m - r}{r} \\end{array}\\)</html>"
      ],
      "text/latex": [
       "$\\displaystyle \\begin{array}{lcl} \\mathrm{Riem}\\left(g\\right)_{ \\phantom{\\, t} \\, r \\, t \\, r }^{ \\, t \\phantom{\\, r} \\phantom{\\, t} \\phantom{\\, r} } & = & -\\frac{2 \\, m}{2 \\, m r^{2} - r^{3}} \\\\ \\mathrm{Riem}\\left(g\\right)_{ \\phantom{\\, t} \\, r \\, r \\, t }^{ \\, t \\phantom{\\, r} \\phantom{\\, r} \\phantom{\\, t} } & = & \\frac{2 \\, m}{2 \\, m r^{2} - r^{3}} \\\\ \\mathrm{Riem}\\left(g\\right)_{ \\phantom{\\, t} \\, {\\theta} \\, t \\, {\\theta} }^{ \\, t \\phantom{\\, {\\theta}} \\phantom{\\, t} \\phantom{\\, {\\theta}} } & = & -\\frac{m}{r} \\\\ \\mathrm{Riem}\\left(g\\right)_{ \\phantom{\\, t} \\, {\\theta} \\, {\\theta} \\, t }^{ \\, t \\phantom{\\, {\\theta}} \\phantom{\\, {\\theta}} \\phantom{\\, t} } & = & \\frac{m}{r} \\\\ \\mathrm{Riem}\\left(g\\right)_{ \\phantom{\\, t} \\, {\\phi} \\, t \\, {\\phi} }^{ \\, t \\phantom{\\, {\\phi}} \\phantom{\\, t} \\phantom{\\, {\\phi}} } & = & -\\frac{m}{r} \\\\ \\mathrm{Riem}\\left(g\\right)_{ \\phantom{\\, t} \\, {\\phi} \\, {\\phi} \\, t }^{ \\, t \\phantom{\\, {\\phi}} \\phantom{\\, {\\phi}} \\phantom{\\, t} } & = & \\frac{m}{r} \\\\ \\mathrm{Riem}\\left(g\\right)_{ \\phantom{\\, r} \\, t \\, t \\, r }^{ \\, r \\phantom{\\, t} \\phantom{\\, t} \\phantom{\\, r} } & = & -\\frac{2 \\, {\\left(2 \\, m^{2} - m r\\right)}}{r^{4}} \\\\ \\mathrm{Riem}\\left(g\\right)_{ \\phantom{\\, r} \\, t \\, r \\, t }^{ \\, r \\phantom{\\, t} \\phantom{\\, r} \\phantom{\\, t} } & = & \\frac{2 \\, {\\left(2 \\, m^{2} - m r\\right)}}{r^{4}} \\\\ \\mathrm{Riem}\\left(g\\right)_{ \\phantom{\\, r} \\, {\\theta} \\, r \\, {\\theta} }^{ \\, r \\phantom{\\, {\\theta}} \\phantom{\\, r} \\phantom{\\, {\\theta}} } & = & -\\frac{m}{r} \\\\ \\mathrm{Riem}\\left(g\\right)_{ \\phantom{\\, r} \\, {\\theta} \\, {\\theta} \\, r }^{ \\, r \\phantom{\\, {\\theta}} \\phantom{\\, {\\theta}} \\phantom{\\, r} } & = & \\frac{m}{r} \\\\ \\mathrm{Riem}\\left(g\\right)_{ \\phantom{\\, r} \\, {\\phi} \\, r \\, {\\phi} }^{ \\, r \\phantom{\\, {\\phi}} \\phantom{\\, r} \\phantom{\\, {\\phi}} } & = & -\\frac{m}{r} \\\\ \\mathrm{Riem}\\left(g\\right)_{ \\phantom{\\, r} \\, {\\phi} \\, {\\phi} \\, r }^{ \\, r \\phantom{\\, {\\phi}} \\phantom{\\, {\\phi}} \\phantom{\\, r} } & = & \\frac{m}{r} \\\\ \\mathrm{Riem}\\left(g\\right)_{ \\phantom{\\, {\\theta}} \\, t \\, t \\, {\\theta} }^{ \\, {\\theta} \\phantom{\\, t} \\phantom{\\, t} \\phantom{\\, {\\theta}} } & = & \\frac{2 \\, m^{2} - m r}{r^{4}} \\\\ \\mathrm{Riem}\\left(g\\right)_{ \\phantom{\\, {\\theta}} \\, t \\, {\\theta} \\, t }^{ \\, {\\theta} \\phantom{\\, t} \\phantom{\\, {\\theta}} \\phantom{\\, t} } & = & -\\frac{2 \\, m^{2} - m r}{r^{4}} \\\\ \\mathrm{Riem}\\left(g\\right)_{ \\phantom{\\, {\\theta}} \\, r \\, r \\, {\\theta} }^{ \\, {\\theta} \\phantom{\\, r} \\phantom{\\, r} \\phantom{\\, {\\theta}} } & = & -\\frac{m}{2 \\, m r^{2} - r^{3}} \\\\ \\mathrm{Riem}\\left(g\\right)_{ \\phantom{\\, {\\theta}} \\, r \\, {\\theta} \\, r }^{ \\, {\\theta} \\phantom{\\, r} \\phantom{\\, {\\theta}} \\phantom{\\, r} } & = & \\frac{m}{2 \\, m r^{2} - r^{3}} \\\\ \\mathrm{Riem}\\left(g\\right)_{ \\phantom{\\, {\\theta}} \\, {\\phi} \\, {\\theta} \\, {\\phi} }^{ \\, {\\theta} \\phantom{\\, {\\phi}} \\phantom{\\, {\\theta}} \\phantom{\\, {\\phi}} } & = & \\frac{2 \\, m - r}{r} \\\\ \\mathrm{Riem}\\left(g\\right)_{ \\phantom{\\, {\\theta}} \\, {\\phi} \\, {\\phi} \\, {\\theta} }^{ \\, {\\theta} \\phantom{\\, {\\phi}} \\phantom{\\, {\\phi}} \\phantom{\\, {\\theta}} } & = & -\\frac{2 \\, m - r}{r} \\\\ \\mathrm{Riem}\\left(g\\right)_{ \\phantom{\\, {\\phi}} \\, t \\, t \\, {\\phi} }^{ \\, {\\phi} \\phantom{\\, t} \\phantom{\\, t} \\phantom{\\, {\\phi}} } & = & \\frac{2 \\, m^{2} - m r}{r^{4}} \\\\ \\mathrm{Riem}\\left(g\\right)_{ \\phantom{\\, {\\phi}} \\, t \\, {\\phi} \\, t }^{ \\, {\\phi} \\phantom{\\, t} \\phantom{\\, {\\phi}} \\phantom{\\, t} } & = & -\\frac{2 \\, m^{2} - m r}{r^{4}} \\\\ \\mathrm{Riem}\\left(g\\right)_{ \\phantom{\\, {\\phi}} \\, r \\, r \\, {\\phi} }^{ \\, {\\phi} \\phantom{\\, r} \\phantom{\\, r} \\phantom{\\, {\\phi}} } & = & -\\frac{m}{2 \\, m r^{2} - r^{3}} \\\\ \\mathrm{Riem}\\left(g\\right)_{ \\phantom{\\, {\\phi}} \\, r \\, {\\phi} \\, r }^{ \\, {\\phi} \\phantom{\\, r} \\phantom{\\, {\\phi}} \\phantom{\\, r} } & = & \\frac{m}{2 \\, m r^{2} - r^{3}} \\\\ \\mathrm{Riem}\\left(g\\right)_{ \\phantom{\\, {\\phi}} \\, {\\theta} \\, {\\theta} \\, {\\phi} }^{ \\, {\\phi} \\phantom{\\, {\\theta}} \\phantom{\\, {\\theta}} \\phantom{\\, {\\phi}} } & = & -\\frac{2 \\, m - r}{r} \\\\ \\mathrm{Riem}\\left(g\\right)_{ \\phantom{\\, {\\phi}} \\, {\\theta} \\, {\\phi} \\, {\\theta} }^{ \\, {\\phi} \\phantom{\\, {\\theta}} \\phantom{\\, {\\phi}} \\phantom{\\, {\\theta}} } & = & \\frac{2 \\, m - r}{r} \\end{array}$"
      ],
      "text/plain": [
       "Riem(g)^t_r,t,r = -2*m/(2*m*r^2 - r^3) \n",
       "Riem(g)^t_r,r,t = 2*m/(2*m*r^2 - r^3) \n",
       "Riem(g)^t_th,t,th = -m/r \n",
       "Riem(g)^t_th,th,t = m/r \n",
       "Riem(g)^t_ph,t,ph = -m/r \n",
       "Riem(g)^t_ph,ph,t = m/r \n",
       "Riem(g)^r_t,t,r = -2*(2*m^2 - m*r)/r^4 \n",
       "Riem(g)^r_t,r,t = 2*(2*m^2 - m*r)/r^4 \n",
       "Riem(g)^r_th,r,th = -m/r \n",
       "Riem(g)^r_th,th,r = m/r \n",
       "Riem(g)^r_ph,r,ph = -m/r \n",
       "Riem(g)^r_ph,ph,r = m/r \n",
       "Riem(g)^th_t,t,th = (2*m^2 - m*r)/r^4 \n",
       "Riem(g)^th_t,th,t = -(2*m^2 - m*r)/r^4 \n",
       "Riem(g)^th_r,r,th = -m/(2*m*r^2 - r^3) \n",
       "Riem(g)^th_r,th,r = m/(2*m*r^2 - r^3) \n",
       "Riem(g)^th_ph,th,ph = (2*m - r)/r \n",
       "Riem(g)^th_ph,ph,th = -(2*m - r)/r \n",
       "Riem(g)^ph_t,t,ph = (2*m^2 - m*r)/r^4 \n",
       "Riem(g)^ph_t,ph,t = -(2*m^2 - m*r)/r^4 \n",
       "Riem(g)^ph_r,r,ph = -m/(2*m*r^2 - r^3) \n",
       "Riem(g)^ph_r,ph,r = m/(2*m*r^2 - r^3) \n",
       "Riem(g)^ph_th,th,ph = -(2*m - r)/r \n",
       "Riem(g)^ph_th,ph,th = (2*m - r)/r "
      ]
     },
     "execution_count": 7,
     "metadata": {},
     "output_type": "execute_result"
    }
   ],
   "source": [
    "riem = g.riemann()\n",
    "riem.display_comp()"
   ]
  },
  {
   "cell_type": "markdown",
   "id": "98f624db",
   "metadata": {},
   "source": [
    "Timelike geodesics in the equatorial submanifold are described by the Lagrangian\n",
    "$2 \\mathcal{L} = - f(r) \\dot{t}^2 + f(r)^{-1} \\dot{r}^2 + r^2 \\dot{\\phi}^2 = -1$, where the overdot represents a derivative with respect to the proper time $\\tau$.\n",
    "\n",
    "Since $t, \\phi$ are cyclic coordinates, we set the corresponding conserved quantities to $-E, l$ respectively. This gives us, $\\dot{t} = E/f(r)$, and $\\dot{\\phi} = l/r^2$. Plugging this into the Lagrangian, $\\dot{r}^2 = E^2 - f(r) \\big ( 1 + \\frac{l^2}{r^2} \\big )$.\n",
    "\n",
    "Introducing the affine parameter $s = E \\tau$, and defining $\\epsilon = 1/E$, we can rewrite the components of the tangent vector to the timelike geodesics $\\partial_s Y^{a'} = ( \\partial_s t, \\partial_s r, 0, \\partial_s \\phi )$ as\n",
    "$\n",
    "\\partial_s t = \\frac{1}{f(r)}, \\\\\n",
    "\\partial_s r = \\sqrt{1 - \\epsilon^2 f(r) \\big ( 1 + \\frac{l^2}{r^2} \\big )}, \\\\\n",
    "\\partial_s \\phi = \\epsilon \\frac{l}{r^2}.\n",
    "$\n",
    "\n",
    "Now two cases follow based on whether or not the angular momentum $l$ scales with the energy $E$ (or $\\epsilon$).\n",
    "\n",
    "Case 1: The angular momentum is independent of the energy of the test particles.\n",
    "In this case, the limiting curve is\n",
    "$\n",
    "\\dot{z}^a = \\lim_{\\epsilon \\to 0} \\partial_s Y^{a'} = \\lim_{\\epsilon \\to 0} ( \\partial_s t, \\partial_s r, 0, \\partial_s \\phi ) = ( 1 / f(r_0), 1, 0, 0 )\n",
    "$, where $r_0 (s) = r(s, \\epsilon = 0)$.\n",
    "\n",
    "Case 2: The angular momentum scales as $l = \\kappa / \\epsilon \\equiv E \\kappa$.\n",
    "In this case, the limiting curve is\n",
    "$\n",
    "\\dot{z}^a = \\lim_{\\epsilon \\to 0} \\partial_s Y^{a'} = \\bigg ( \\frac{1}{f(r_0)}, \\sqrt{1 - f(r_0) \\frac{\\kappa^2}{r_0^2}}, 0, \\frac{\\kappa}{r_0^2} \\bigg )\n",
    "$, where as before, $r_0 (s) = r (s, \\epsilon = 0)$, though the exact form of the function in this case need not be the same as in case 1.\n",
    "\n",
    "We will now proceed to check if the limiting curves in the two cases are indeed affinely parametrised null geodesics."
   ]
  },
  {
   "cell_type": "code",
   "execution_count": 50,
   "id": "b9d342c7",
   "metadata": {},
   "outputs": [
    {
     "data": {
      "text/html": [
       "<html>\\(\\displaystyle \\left[-\\frac{1}{\\frac{2 \\, m}{r} - 1}, \\sqrt{\\epsilon^{2} {\\left(\\frac{l^{2}}{r^{2}} + 1\\right)} {\\left(\\frac{2 \\, m}{r} - 1\\right)} + 1}, 0, \\frac{\\epsilon l}{r^{2}}\\right]\\)</html>"
      ],
      "text/latex": [
       "$\\displaystyle \\left[-\\frac{1}{\\frac{2 \\, m}{r} - 1}, \\sqrt{\\epsilon^{2} {\\left(\\frac{l^{2}}{r^{2}} + 1\\right)} {\\left(\\frac{2 \\, m}{r} - 1\\right)} + 1}, 0, \\frac{\\epsilon l}{r^{2}}\\right]$"
      ],
      "text/plain": [
       "[-1/(2*m/r - 1),\n",
       " sqrt(epsilon^2*(l^2/r^2 + 1)*(2*m/r - 1) + 1),\n",
       " 0,\n",
       " epsilon*l/r^2]"
      ]
     },
     "execution_count": 50,
     "metadata": {},
     "output_type": "execute_result"
    }
   ],
   "source": [
    "dsY = M.vector_field(name=r'\\partial_s Y')\n",
    "dsY[:] = [1/f, sqrt(1 - eps^2 * f*(1 + l^2/r^2)), 0, eps*l/r^2]\n",
    "dsY[:]"
   ]
  },
  {
   "cell_type": "markdown",
   "id": "26cfe19c",
   "metadata": {},
   "source": [
    "Case 1: The angular momentum $l$ is independent of the energy."
   ]
  },
  {
   "cell_type": "code",
   "execution_count": 51,
   "id": "1f33e0aa",
   "metadata": {},
   "outputs": [
    {
     "data": {
      "text/html": [
       "<html>\\(\\displaystyle \\left[-\\frac{1}{\\frac{2 \\, m}{r} - 1}, 1, 0, 0\\right]\\)</html>"
      ],
      "text/latex": [
       "$\\displaystyle \\left[-\\frac{1}{\\frac{2 \\, m}{r} - 1}, 1, 0, 0\\right]$"
      ],
      "text/plain": [
       "[-1/(2*m/r - 1), 1, 0, 0]"
      ]
     },
     "execution_count": 51,
     "metadata": {},
     "output_type": "execute_result"
    }
   ],
   "source": [
    "zdot = M.vector_field(name=r'\\dot{z}')\n",
    "zdot = dsY.copy()\n",
    "zdot.apply_map(lambda cmp: cmp.subs({eps:0}))\n",
    "zdot[:]"
   ]
  },
  {
   "cell_type": "markdown",
   "id": "e134974e",
   "metadata": {},
   "source": [
    "Check if $\\dot{z}$ is null and geodesic."
   ]
  },
  {
   "cell_type": "code",
   "execution_count": 52,
   "id": "a1775d64",
   "metadata": {},
   "outputs": [
    {
     "data": {
      "text/html": [
       "<html>\\(\\displaystyle \\begin{array}{llcl} & M & \\longrightarrow & \\mathbb{R} \\\\ & \\left(t, r, {\\theta}, {\\phi}\\right) & \\longmapsto & 0 \\end{array}\\)</html>"
      ],
      "text/latex": [
       "$\\displaystyle \\begin{array}{llcl} & M & \\longrightarrow & \\mathbb{R} \\\\ & \\left(t, r, {\\theta}, {\\phi}\\right) & \\longmapsto & 0 \\end{array}$"
      ],
      "text/plain": [
       "M → ℝ\n",
       "(t, r, th, ph) ↦ 0"
      ]
     },
     "execution_count": 52,
     "metadata": {},
     "output_type": "execute_result"
    }
   ],
   "source": [
    "g(zdot, zdot).display()"
   ]
  },
  {
   "cell_type": "code",
   "execution_count": 53,
   "id": "98f8e98e",
   "metadata": {},
   "outputs": [
    {
     "data": {
      "text/html": [
       "<html>\\(\\displaystyle \\left[0, 0, 0, 0\\right]\\)</html>"
      ],
      "text/latex": [
       "$\\displaystyle \\left[0, 0, 0, 0\\right]$"
      ],
      "text/plain": [
       "[0, 0, 0, 0]"
      ]
     },
     "execution_count": 53,
     "metadata": {},
     "output_type": "execute_result"
    }
   ],
   "source": [
    "Dzdot = nab(zdot)\n",
    "Ds_zdot = Dzdot.contract(zdot)\n",
    "Ds_zdot[:]"
   ]
  },
  {
   "cell_type": "markdown",
   "id": "8657a2ca",
   "metadata": {},
   "source": [
    "Solve for the coordinates $( t_0(s), r_0(s), \\pi/2, \\phi_0(s) ) = ( s + 2m \\ln (s - 2m), s, \\pi/2, \\Phi_0 )$ where we have set the integration constants for the $t$ and $r$ coordinates to $0$."
   ]
  },
  {
   "cell_type": "code",
   "execution_count": 54,
   "id": "56b24f46",
   "metadata": {},
   "outputs": [
    {
     "data": {
      "text/html": [
       "<html>\\(\\displaystyle s\\)</html>"
      ],
      "text/latex": [
       "$\\displaystyle s$"
      ],
      "text/plain": [
       "s"
      ]
     },
     "execution_count": 54,
     "metadata": {},
     "output_type": "execute_result"
    }
   ],
   "source": [
    "r0_sol = zdot[1].expr().integrate(s)\n",
    "r0_sol"
   ]
  },
  {
   "cell_type": "code",
   "execution_count": 55,
   "id": "3bef4864",
   "metadata": {},
   "outputs": [
    {
     "data": {
      "text/html": [
       "<html>\\(\\displaystyle 2 \\, m \\log\\left(-2 \\, m + s\\right) + s\\)</html>"
      ],
      "text/latex": [
       "$\\displaystyle 2 \\, m \\log\\left(-2 \\, m + s\\right) + s$"
      ],
      "text/plain": [
       "2*m*log(-2*m + s) + s"
      ]
     },
     "execution_count": 55,
     "metadata": {},
     "output_type": "execute_result"
    }
   ],
   "source": [
    "t0_sol = zdot[0].expr().subs({r:r0_sol}).integrate(s)\n",
    "t0_sol"
   ]
  },
  {
   "cell_type": "code",
   "execution_count": 56,
   "id": "dd3e3cbe",
   "metadata": {},
   "outputs": [
    {
     "data": {
      "text/html": [
       "<html>\\(\\displaystyle \\Phi_{0}\\)</html>"
      ],
      "text/latex": [
       "$\\displaystyle \\Phi_{0}$"
      ],
      "text/plain": [
       "Phi_0"
      ]
     },
     "execution_count": 56,
     "metadata": {},
     "output_type": "execute_result"
    }
   ],
   "source": [
    "ph_init = var('Phi_0')\n",
    "assume(ph_init>=0)\n",
    "ph0_sol = ph_init\n",
    "ph0_sol"
   ]
  },
  {
   "cell_type": "markdown",
   "id": "0a9cab4d",
   "metadata": {},
   "source": [
    "Construct the quasi-null frame $(\\dot{z}, n, e^a_i)$ using the relations\n",
    "$\n",
    "g (\\dot{z}, \\dot{z}) = 0, \\qquad g (\\dot{z}, n) = -1, \\qquad g (\\dot{z}, e^a_i) = 0, \\\\\n",
    "g (n, n) = 0, \\qquad g (n, e^a_i) = 0, \\qquad g (e^a_i, e^a_j) = \\delta_{i j}\n",
    "$.\n",
    "\n",
    "Thus $n^a = (1/2) ( 1, -f(r), 0, 0 ), \\qquad e^a_1 = (1/r) (0, 0, 1, 0), \\qquad e^a_2 = (1/r) (0, 0, 0, 1)$.\n",
    "\n",
    "Check if this frame is parallel propagated along the null geodesic."
   ]
  },
  {
   "cell_type": "code",
   "execution_count": 57,
   "id": "70113ef5",
   "metadata": {},
   "outputs": [
    {
     "data": {
      "text/html": [
       "<html>\\(\\displaystyle \\left(\\left[\\frac{1}{2}, \\frac{m}{r} - \\frac{1}{2}, 0, 0\\right], \\left[0, 0, \\frac{1}{r}, 0\\right], \\left[0, 0, 0, \\frac{1}{r}\\right]\\right)\\)</html>"
      ],
      "text/latex": [
       "$\\displaystyle \\left(\\left[\\frac{1}{2}, \\frac{m}{r} - \\frac{1}{2}, 0, 0\\right], \\left[0, 0, \\frac{1}{r}, 0\\right], \\left[0, 0, 0, \\frac{1}{r}\\right]\\right)$"
      ],
      "text/plain": [
       "([1/2, m/r - 1/2, 0, 0], [0, 0, 1/r, 0], [0, 0, 0, 1/r])"
      ]
     },
     "execution_count": 57,
     "metadata": {},
     "output_type": "execute_result"
    }
   ],
   "source": [
    "n = M.vector_field(name='n')\n",
    "e1 = M.vector_field(name='e_1')\n",
    "e2 = M.vector_field(name='e_2')\n",
    "n[:] = [1/2, -f/2, 0, 0]\n",
    "e1[:] = [0, 0, 1/r, 0]\n",
    "e2[:] = [0, 0, 0, 1/r]\n",
    "n[:], e1[:], e2[:]"
   ]
  },
  {
   "cell_type": "code",
   "execution_count": 58,
   "id": "c4230e3a",
   "metadata": {},
   "outputs": [
    {
     "data": {
      "text/html": [
       "<html>\\(\\displaystyle \\left(\\begin{array}{llcl} & M & \\longrightarrow & \\mathbb{R} \\\\ & \\left(t, r, {\\theta}, {\\phi}\\right) & \\longmapsto & -1 \\end{array}, \\begin{array}{llcl} & M & \\longrightarrow & \\mathbb{R} \\\\ & \\left(t, r, {\\theta}, {\\phi}\\right) & \\longmapsto & 0 \\end{array}, \\begin{array}{llcl} & M & \\longrightarrow & \\mathbb{R} \\\\ & \\left(t, r, {\\theta}, {\\phi}\\right) & \\longmapsto & 0 \\end{array}\\right)\\)</html>"
      ],
      "text/latex": [
       "$\\displaystyle \\left(\\begin{array}{llcl} & M & \\longrightarrow & \\mathbb{R} \\\\ & \\left(t, r, {\\theta}, {\\phi}\\right) & \\longmapsto & -1 \\end{array}, \\begin{array}{llcl} & M & \\longrightarrow & \\mathbb{R} \\\\ & \\left(t, r, {\\theta}, {\\phi}\\right) & \\longmapsto & 0 \\end{array}, \\begin{array}{llcl} & M & \\longrightarrow & \\mathbb{R} \\\\ & \\left(t, r, {\\theta}, {\\phi}\\right) & \\longmapsto & 0 \\end{array}\\right)$"
      ],
      "text/plain": [
       "(M → ℝ\n",
       " (t, r, th, ph) ↦ -1,\n",
       " M → ℝ\n",
       " (t, r, th, ph) ↦ 0,\n",
       " M → ℝ\n",
       " (t, r, th, ph) ↦ 0)"
      ]
     },
     "execution_count": 58,
     "metadata": {},
     "output_type": "execute_result"
    }
   ],
   "source": [
    "g(zdot, n).display(), g(zdot, e1).display(), g(zdot, e2).display()"
   ]
  },
  {
   "cell_type": "code",
   "execution_count": 59,
   "id": "3e735566",
   "metadata": {},
   "outputs": [
    {
     "data": {
      "text/html": [
       "<html>\\(\\displaystyle \\left(\\begin{array}{llcl} g\\left(n,n\\right):& M & \\longrightarrow & \\mathbb{R} \\\\ & \\left(t, r, {\\theta}, {\\phi}\\right) & \\longmapsto & 0 \\end{array}, \\begin{array}{llcl} g\\left(n,e_1\\right):& M & \\longrightarrow & \\mathbb{R} \\\\ & \\left(t, r, {\\theta}, {\\phi}\\right) & \\longmapsto & 0 \\end{array}, \\begin{array}{llcl} g\\left(n,e_2\\right):& M & \\longrightarrow & \\mathbb{R} \\\\ & \\left(t, r, {\\theta}, {\\phi}\\right) & \\longmapsto & 0 \\end{array}\\right)\\)</html>"
      ],
      "text/latex": [
       "$\\displaystyle \\left(\\begin{array}{llcl} g\\left(n,n\\right):& M & \\longrightarrow & \\mathbb{R} \\\\ & \\left(t, r, {\\theta}, {\\phi}\\right) & \\longmapsto & 0 \\end{array}, \\begin{array}{llcl} g\\left(n,e_1\\right):& M & \\longrightarrow & \\mathbb{R} \\\\ & \\left(t, r, {\\theta}, {\\phi}\\right) & \\longmapsto & 0 \\end{array}, \\begin{array}{llcl} g\\left(n,e_2\\right):& M & \\longrightarrow & \\mathbb{R} \\\\ & \\left(t, r, {\\theta}, {\\phi}\\right) & \\longmapsto & 0 \\end{array}\\right)$"
      ],
      "text/plain": [
       "(g(n,n): M → ℝ\n",
       "    (t, r, th, ph) ↦ 0,\n",
       " g(n,e_1): M → ℝ\n",
       "    (t, r, th, ph) ↦ 0,\n",
       " g(n,e_2): M → ℝ\n",
       "    (t, r, th, ph) ↦ 0)"
      ]
     },
     "execution_count": 59,
     "metadata": {},
     "output_type": "execute_result"
    }
   ],
   "source": [
    "g(n, n).display(), g(n, e1).display(), g(n, e2).display()"
   ]
  },
  {
   "cell_type": "code",
   "execution_count": 60,
   "id": "4562fc5b",
   "metadata": {},
   "outputs": [
    {
     "data": {
      "text/html": [
       "<html>\\(\\displaystyle \\left(\\begin{array}{llcl} g\\left(e_1,e_1\\right):& M & \\longrightarrow & \\mathbb{R} \\\\ & \\left(t, r, {\\theta}, {\\phi}\\right) & \\longmapsto & 1 \\end{array}, \\begin{array}{llcl} g\\left(e_1,e_2\\right):& M & \\longrightarrow & \\mathbb{R} \\\\ & \\left(t, r, {\\theta}, {\\phi}\\right) & \\longmapsto & 0 \\end{array}, \\begin{array}{llcl} g\\left(e_2,e_2\\right):& M & \\longrightarrow & \\mathbb{R} \\\\ & \\left(t, r, {\\theta}, {\\phi}\\right) & \\longmapsto & 1 \\end{array}\\right)\\)</html>"
      ],
      "text/latex": [
       "$\\displaystyle \\left(\\begin{array}{llcl} g\\left(e_1,e_1\\right):& M & \\longrightarrow & \\mathbb{R} \\\\ & \\left(t, r, {\\theta}, {\\phi}\\right) & \\longmapsto & 1 \\end{array}, \\begin{array}{llcl} g\\left(e_1,e_2\\right):& M & \\longrightarrow & \\mathbb{R} \\\\ & \\left(t, r, {\\theta}, {\\phi}\\right) & \\longmapsto & 0 \\end{array}, \\begin{array}{llcl} g\\left(e_2,e_2\\right):& M & \\longrightarrow & \\mathbb{R} \\\\ & \\left(t, r, {\\theta}, {\\phi}\\right) & \\longmapsto & 1 \\end{array}\\right)$"
      ],
      "text/plain": [
       "(g(e_1,e_1): M → ℝ\n",
       "    (t, r, th, ph) ↦ 1,\n",
       " g(e_1,e_2): M → ℝ\n",
       "    (t, r, th, ph) ↦ 0,\n",
       " g(e_2,e_2): M → ℝ\n",
       "    (t, r, th, ph) ↦ 1)"
      ]
     },
     "execution_count": 60,
     "metadata": {},
     "output_type": "execute_result"
    }
   ],
   "source": [
    "g(e1, e1).display(), g(e1, e2).display(), g(e2, e2).display()"
   ]
  },
  {
   "cell_type": "code",
   "execution_count": 61,
   "id": "4042dcfa",
   "metadata": {},
   "outputs": [
    {
     "data": {
      "text/html": [
       "<html>\\(\\displaystyle \\left(\\left[0, 0, 0, 0\\right], \\left[0, 0, 0, 0\\right], \\left[0, 0, 0, 0\\right]\\right)\\)</html>"
      ],
      "text/latex": [
       "$\\displaystyle \\left(\\left[0, 0, 0, 0\\right], \\left[0, 0, 0, 0\\right], \\left[0, 0, 0, 0\\right]\\right)$"
      ],
      "text/plain": [
       "([0, 0, 0, 0], [0, 0, 0, 0], [0, 0, 0, 0])"
      ]
     },
     "execution_count": 61,
     "metadata": {},
     "output_type": "execute_result"
    }
   ],
   "source": [
    "Ds_n = nab(n).contract(zdot)\n",
    "Ds_e1 = nab(e1).contract(zdot)\n",
    "Ds_e2 = nab(e2).contract(zdot)\n",
    "Ds_n[:], Ds_e1[:], Ds_e2[:]"
   ]
  },
  {
   "cell_type": "markdown",
   "id": "6595b34f",
   "metadata": {},
   "source": [
    "Thus the frame $( \\dot{z}, n, e_i )$ is parallel propagated along the null geodesic."
   ]
  },
  {
   "cell_type": "markdown",
   "id": "3bddf142",
   "metadata": {},
   "source": [
    "Define the deviation vector $\\xi^{a'} = \\partial_{\\epsilon} Y^{a'} = (\\xi^t, \\xi^r, \\xi^{\\theta}, \\xi^{\\phi})$.\n",
    "\n",
    "Since $\\theta = \\pi/2$ is fixed, $\\xi^{\\theta} = \\partial_{\\epsilon} \\theta = 0$."
   ]
  },
  {
   "cell_type": "code",
   "execution_count": 62,
   "id": "2d6da5bd",
   "metadata": {},
   "outputs": [
    {
     "data": {
      "text/html": [
       "<html>\\(\\displaystyle \\left[\\xi_{t}\\left(s, \\epsilon\\right), \\xi_{r}\\left(s, \\epsilon\\right), 0, \\xi_{\\phi}\\left(s, \\epsilon\\right)\\right]\\)</html>"
      ],
      "text/latex": [
       "$\\displaystyle \\left[\\xi_{t}\\left(s, \\epsilon\\right), \\xi_{r}\\left(s, \\epsilon\\right), 0, \\xi_{\\phi}\\left(s, \\epsilon\\right)\\right]$"
      ],
      "text/plain": [
       "[xi_t(s, epsilon), xi_r(s, epsilon), 0, xi_phi(s, epsilon)]"
      ]
     },
     "execution_count": 62,
     "metadata": {},
     "output_type": "execute_result"
    }
   ],
   "source": [
    "xi = M.vector_field(name=r'\\xi')\n",
    "xi_t = function('xi_t')(s, eps)\n",
    "xi_r = function('xi_r')(s, eps)\n",
    "xi_ph = function('xi_phi')(s, eps)\n",
    "xi[:] = [xi_t, xi_r, 0, xi_ph]\n",
    "xi[:]"
   ]
  },
  {
   "cell_type": "markdown",
   "id": "fa451be6",
   "metadata": {},
   "source": [
    "Define the outside-in functions $(U (s, \\epsilon), V (s, \\epsilon), X^i (s, \\epsilon))$, which at $\\epsilon = 0$ become the PW coordinates."
   ]
  },
  {
   "cell_type": "code",
   "execution_count": 63,
   "id": "01e924e0",
   "metadata": {},
   "outputs": [
    {
     "data": {
      "text/html": [
       "<html>\\(\\displaystyle \\left(U\\left(s, \\epsilon\\right), V\\left(s, \\epsilon\\right), X_{1}\\left(s, \\epsilon\\right), X_{2}\\left(s, \\epsilon\\right)\\right)\\)</html>"
      ],
      "text/latex": [
       "$\\displaystyle \\left(U\\left(s, \\epsilon\\right), V\\left(s, \\epsilon\\right), X_{1}\\left(s, \\epsilon\\right), X_{2}\\left(s, \\epsilon\\right)\\right)$"
      ],
      "text/plain": [
       "(U(s, epsilon), V(s, epsilon), X_1(s, epsilon), X_2(s, epsilon))"
      ]
     },
     "execution_count": 63,
     "metadata": {},
     "output_type": "execute_result"
    }
   ],
   "source": [
    "U = function('U')(s,eps)\n",
    "V = function('V')(s,eps)\n",
    "X1 = function('X_1')(s,eps)\n",
    "X2 = function('X_2')(s,eps)\n",
    "U, V, X1, X2"
   ]
  },
  {
   "cell_type": "markdown",
   "id": "44240ce7",
   "metadata": {},
   "source": [
    "The PW spacetime that is the Penrose limit of this system (Schwarzschild metric and the null geodesic $\\dot{z}$) is described by the waveform matrix $A_{i j} = R_{a b c d} \\dot{z}^a e^b_i e^c_j \\dot{z}^d$."
   ]
  },
  {
   "cell_type": "code",
   "execution_count": 64,
   "id": "b02340f2",
   "metadata": {},
   "outputs": [
    {
     "data": {
      "text/html": [
       "<html>\\(\\displaystyle \\left[-1, -\\frac{1}{\\frac{2 \\, m}{r} - 1}, 0, 0\\right]\\)</html>"
      ],
      "text/latex": [
       "$\\displaystyle \\left[-1, -\\frac{1}{\\frac{2 \\, m}{r} - 1}, 0, 0\\right]$"
      ],
      "text/plain": [
       "[-1, -1/(2*m/r - 1), 0, 0]"
      ]
     },
     "execution_count": 64,
     "metadata": {},
     "output_type": "execute_result"
    }
   ],
   "source": [
    "zdot_down = zdot.down(g)\n",
    "zdot_down[:]"
   ]
  },
  {
   "cell_type": "code",
   "execution_count": 65,
   "id": "f6f0ab1d",
   "metadata": {},
   "outputs": [
    {
     "data": {
      "text/html": [
       "<html>\\(\\displaystyle \\left(0, 0, 0\\right)\\)</html>"
      ],
      "text/latex": [
       "$\\displaystyle \\left(0, 0, 0\\right)$"
      ],
      "text/plain": [
       "(0, 0, 0)"
      ]
     },
     "execution_count": 65,
     "metadata": {},
     "output_type": "execute_result"
    }
   ],
   "source": [
    "A11 = riem(zdot_down, e1, e1, zdot).expr()\n",
    "A12 = riem(zdot_down, e1, e2, zdot).expr()\n",
    "A22 = riem(zdot_down, e2, e2, zdot).expr()\n",
    "A11, A12, A22"
   ]
  },
  {
   "cell_type": "markdown",
   "id": "57c5e104",
   "metadata": {},
   "source": [
    "The elements of the waveform matrix all vanish. Thus, the PW spacetime associated with our system is essentially flat space. We will now proceed to the outside-in approach of the formalism."
   ]
  },
  {
   "cell_type": "markdown",
   "id": "08073fe7",
   "metadata": {},
   "source": [
    "From the outside-in approach, we have $[\\xi^{a'}] = \\dot{z}^a [\\partial_{\\epsilon} U] + e^a_i [X^i]$. For $a' = \\theta$, we have described above that $\\xi^{\\theta} = \\partial_{\\epsilon} \\theta = 0$. Thus, $0 = \\dot{z}^{\\theta} [\\partial_{\\epsilon} U] + e^{\\theta}_i [X^i] \\implies [X^1] = 0$."
   ]
  },
  {
   "cell_type": "code",
   "execution_count": 106,
   "id": "069a7266",
   "metadata": {},
   "outputs": [
    {
     "data": {
      "text/html": [
       "<html>\\(\\displaystyle \\left(\\mathrm{D}_{1}\\left(U\\right)\\left(s, 0\\right), \\mathrm{D}_{0}\\left(U\\right)\\left(s, 0\\right), X_{1}\\left(s, 0\\right), X_{2}\\left(s, 0\\right), V\\left(s, 0\\right), \\mathrm{D}_{0}\\left(V\\right)\\left(s, 0\\right)\\right)\\)</html>"
      ],
      "text/latex": [
       "$\\displaystyle \\left(\\mathrm{D}_{1}\\left(U\\right)\\left(s, 0\\right), \\mathrm{D}_{0}\\left(U\\right)\\left(s, 0\\right), X_{1}\\left(s, 0\\right), X_{2}\\left(s, 0\\right), V\\left(s, 0\\right), \\mathrm{D}_{0}\\left(V\\right)\\left(s, 0\\right)\\right)$"
      ],
      "text/plain": [
       "(D[1](U)(s, 0), D[0](U)(s, 0), X_1(s, 0), X_2(s, 0), V(s, 0), D[0](V)(s, 0))"
      ]
     },
     "execution_count": 106,
     "metadata": {},
     "output_type": "execute_result"
    }
   ],
   "source": [
    "depsU0 = U.diff(eps, 1).subs({eps:0})\n",
    "dsU0 = U.diff(s, 1).subs({eps:0})\n",
    "X1_0 = X1.subs({eps:0})\n",
    "X2_0 = X2.subs({eps:0})\n",
    "dsV0 = V.diff(s, 1).subs({eps:0})\n",
    "V0 = V.subs({eps:0})\n",
    "depsU0, dsU0, X1_0, X2_0, V0, dsV0"
   ]
  },
  {
   "cell_type": "code",
   "execution_count": 67,
   "id": "85ae6288",
   "metadata": {},
   "outputs": [
    {
     "data": {
      "text/html": [
       "<html>\\(\\displaystyle \\left[-\\frac{r \\frac{\\partial\\,U}{\\partial 0}}{2 \\, m - r}, \\frac{\\partial\\,U}{\\partial 0}, 0, \\frac{X_{2}\\left(s, 0\\right)}{r}\\right]\\)</html>"
      ],
      "text/latex": [
       "$\\displaystyle \\left[-\\frac{r \\frac{\\partial\\,U}{\\partial 0}}{2 \\, m - r}, \\frac{\\partial\\,U}{\\partial 0}, 0, \\frac{X_{2}\\left(s, 0\\right)}{r}\\right]$"
      ],
      "text/plain": [
       "[-r*d(U)/d0/(2*m - r), d(U)/d0, 0, X_2(s, 0)/r]"
      ]
     },
     "execution_count": 67,
     "metadata": {},
     "output_type": "execute_result"
    }
   ],
   "source": [
    "xi_CL_out_in = zdot*depsU0 + e1*X1_0 + e2*X2_0\n",
    "xi_CL_out_in.apply_map(lambda cmp: cmp.subs({X1_0:0}))\n",
    "xi_CL_out_in[:]"
   ]
  },
  {
   "cell_type": "code",
   "execution_count": 68,
   "id": "bb07d4b1",
   "metadata": {},
   "outputs": [],
   "source": [
    "def D_eps(inp_vec):\n",
    "    D_eps_vec = M.vector_field(name=r'D_{\\epsilon}V')\n",
    "    for i in range(4):\n",
    "        D_eps_vec[i] = inp_vec[i].expr().diff(eps, 1) + nab(inp_vec).contract(xi)[i]\n",
    "    \n",
    "    return D_eps_vec"
   ]
  },
  {
   "cell_type": "markdown",
   "id": "506b9aa1",
   "metadata": {},
   "source": [
    "At leading order in the outside-in approach, we have $[\\partial_s Y^{a'}] = \\dot{z}^a [\\partial_s U]$. But since we have constructed our system such that the two are equal it follows that $U = s + \\mathcal{O} (\\epsilon)$."
   ]
  },
  {
   "cell_type": "code",
   "execution_count": 99,
   "id": "0dcc5629",
   "metadata": {},
   "outputs": [
    {
     "data": {
      "text/html": [
       "<html>\\(\\displaystyle \\left(s, 1, 0\\right)\\)</html>"
      ],
      "text/latex": [
       "$\\displaystyle \\left(s, 1, 0\\right)$"
      ],
      "text/plain": [
       "(s, 1, 0)"
      ]
     },
     "execution_count": 99,
     "metadata": {},
     "output_type": "execute_result"
    }
   ],
   "source": [
    "U_O1 = s\n",
    "dU_O1 = U_O1.diff(s, 1)\n",
    "X1_O1_sol = 0\n",
    "U_O1, dU_O1, X1_O1_sol"
   ]
  },
  {
   "cell_type": "code",
   "execution_count": 70,
   "id": "b5c2b970",
   "metadata": {},
   "outputs": [
    {
     "data": {
      "text/html": [
       "<html>\\(\\displaystyle \\left[-\\frac{m r^{\\frac{5}{2}} \\xi_{r}\\left(s, \\epsilon\\right) + \\sqrt{2 \\, \\epsilon^{2} l^{2} m - \\epsilon^{2} l^{2} r + 2 \\, \\epsilon^{2} m r^{2} - {\\left(\\epsilon^{2} - 1\\right)} r^{3}} {\\left(2 \\, m^{2} - m r\\right)} \\xi_{t}\\left(s, \\epsilon\\right)}{{\\left(4 \\, m^{2} r^{2} - 4 \\, m r^{3} + r^{4}\\right)} \\sqrt{r}}, \\frac{{\\left(4 \\, \\epsilon l^{2} m^{2} r - 4 \\, \\epsilon l^{2} m r^{2} - 4 \\, \\epsilon m r^{4} + \\epsilon r^{5} + {\\left(\\epsilon l^{2} + 4 \\, \\epsilon m^{2}\\right)} r^{3} - {\\left(4 \\, \\epsilon^{2} l^{2} m^{2} - 4 \\, \\epsilon^{2} l^{2} m r + \\epsilon^{2} l^{2} r^{2} - m r^{3}\\right)} \\xi_{r}\\left(s, \\epsilon\\right)\\right)} \\sqrt{2 \\, \\epsilon^{2} l^{2} m - \\epsilon^{2} l^{2} r + 2 \\, \\epsilon^{2} m r^{2} - {\\left(\\epsilon^{2} - 1\\right)} r^{3}} + {\\left({\\left(8 \\, \\epsilon^{3} l^{3} m^{3} - 12 \\, \\epsilon^{3} l^{3} m^{2} r + 2 \\, {\\left(3 \\, \\epsilon^{3} - 2 \\, \\epsilon\\right)} l m r^{4} - {\\left(\\epsilon^{3} - \\epsilon\\right)} l r^{5} - {\\left(\\epsilon^{3} l^{3} + 4 \\, {\\left(3 \\, \\epsilon^{3} - \\epsilon\\right)} l m^{2}\\right)} r^{3} + 2 \\, {\\left(3 \\, \\epsilon^{3} l^{3} m + 4 \\, \\epsilon^{3} l m^{3}\\right)} r^{2}\\right)} \\xi_{\\phi}\\left(s, \\epsilon\\right) + {\\left(4 \\, \\epsilon^{2} l^{2} m^{3} - 4 \\, \\epsilon^{2} l^{2} m^{2} r - 2 \\, {\\left(2 \\, \\epsilon^{2} - 1\\right)} m^{2} r^{3} + {\\left(\\epsilon^{2} - 1\\right)} m r^{4} + {\\left(\\epsilon^{2} l^{2} m + 4 \\, \\epsilon^{2} m^{3}\\right)} r^{2}\\right)} \\xi_{t}\\left(s, \\epsilon\\right)\\right)} \\sqrt{r}}{{\\left(4 \\, \\epsilon^{2} l^{2} m^{2} r^{2} - 4 \\, \\epsilon^{2} l^{2} m r^{3} - 2 \\, {\\left(2 \\, \\epsilon^{2} - 1\\right)} m r^{5} + {\\left(\\epsilon^{2} - 1\\right)} r^{6} + {\\left(\\epsilon^{2} l^{2} + 4 \\, \\epsilon^{2} m^{2}\\right)} r^{4}\\right)} \\sqrt{r}}, 0, -\\frac{\\epsilon l \\xi_{r}\\left(s, \\epsilon\\right) - l r - \\sqrt{2 \\, \\epsilon^{2} l^{2} m - \\epsilon^{2} l^{2} r + 2 \\, \\epsilon^{2} m r^{2} - {\\left(\\epsilon^{2} - 1\\right)} r^{3}} \\sqrt{r} \\xi_{\\phi}\\left(s, \\epsilon\\right)}{r^{3}}\\right]\\)</html>"
      ],
      "text/latex": [
       "$\\displaystyle \\left[-\\frac{m r^{\\frac{5}{2}} \\xi_{r}\\left(s, \\epsilon\\right) + \\sqrt{2 \\, \\epsilon^{2} l^{2} m - \\epsilon^{2} l^{2} r + 2 \\, \\epsilon^{2} m r^{2} - {\\left(\\epsilon^{2} - 1\\right)} r^{3}} {\\left(2 \\, m^{2} - m r\\right)} \\xi_{t}\\left(s, \\epsilon\\right)}{{\\left(4 \\, m^{2} r^{2} - 4 \\, m r^{3} + r^{4}\\right)} \\sqrt{r}}, \\frac{{\\left(4 \\, \\epsilon l^{2} m^{2} r - 4 \\, \\epsilon l^{2} m r^{2} - 4 \\, \\epsilon m r^{4} + \\epsilon r^{5} + {\\left(\\epsilon l^{2} + 4 \\, \\epsilon m^{2}\\right)} r^{3} - {\\left(4 \\, \\epsilon^{2} l^{2} m^{2} - 4 \\, \\epsilon^{2} l^{2} m r + \\epsilon^{2} l^{2} r^{2} - m r^{3}\\right)} \\xi_{r}\\left(s, \\epsilon\\right)\\right)} \\sqrt{2 \\, \\epsilon^{2} l^{2} m - \\epsilon^{2} l^{2} r + 2 \\, \\epsilon^{2} m r^{2} - {\\left(\\epsilon^{2} - 1\\right)} r^{3}} + {\\left({\\left(8 \\, \\epsilon^{3} l^{3} m^{3} - 12 \\, \\epsilon^{3} l^{3} m^{2} r + 2 \\, {\\left(3 \\, \\epsilon^{3} - 2 \\, \\epsilon\\right)} l m r^{4} - {\\left(\\epsilon^{3} - \\epsilon\\right)} l r^{5} - {\\left(\\epsilon^{3} l^{3} + 4 \\, {\\left(3 \\, \\epsilon^{3} - \\epsilon\\right)} l m^{2}\\right)} r^{3} + 2 \\, {\\left(3 \\, \\epsilon^{3} l^{3} m + 4 \\, \\epsilon^{3} l m^{3}\\right)} r^{2}\\right)} \\xi_{\\phi}\\left(s, \\epsilon\\right) + {\\left(4 \\, \\epsilon^{2} l^{2} m^{3} - 4 \\, \\epsilon^{2} l^{2} m^{2} r - 2 \\, {\\left(2 \\, \\epsilon^{2} - 1\\right)} m^{2} r^{3} + {\\left(\\epsilon^{2} - 1\\right)} m r^{4} + {\\left(\\epsilon^{2} l^{2} m + 4 \\, \\epsilon^{2} m^{3}\\right)} r^{2}\\right)} \\xi_{t}\\left(s, \\epsilon\\right)\\right)} \\sqrt{r}}{{\\left(4 \\, \\epsilon^{2} l^{2} m^{2} r^{2} - 4 \\, \\epsilon^{2} l^{2} m r^{3} - 2 \\, {\\left(2 \\, \\epsilon^{2} - 1\\right)} m r^{5} + {\\left(\\epsilon^{2} - 1\\right)} r^{6} + {\\left(\\epsilon^{2} l^{2} + 4 \\, \\epsilon^{2} m^{2}\\right)} r^{4}\\right)} \\sqrt{r}}, 0, -\\frac{\\epsilon l \\xi_{r}\\left(s, \\epsilon\\right) - l r - \\sqrt{2 \\, \\epsilon^{2} l^{2} m - \\epsilon^{2} l^{2} r + 2 \\, \\epsilon^{2} m r^{2} - {\\left(\\epsilon^{2} - 1\\right)} r^{3}} \\sqrt{r} \\xi_{\\phi}\\left(s, \\epsilon\\right)}{r^{3}}\\right]$"
      ],
      "text/plain": [
       "[-(m*r^(5/2)*xi_r(s, epsilon) + sqrt(2*epsilon^2*l^2*m - epsilon^2*l^2*r + 2*epsilon^2*m*r^2 - (epsilon^2 - 1)*r^3)*(2*m^2 - m*r)*xi_t(s, epsilon))/((4*m^2*r^2 - 4*m*r^3 + r^4)*sqrt(r)),\n",
       " ((4*epsilon*l^2*m^2*r - 4*epsilon*l^2*m*r^2 - 4*epsilon*m*r^4 + epsilon*r^5 + (epsilon*l^2 + 4*epsilon*m^2)*r^3 - (4*epsilon^2*l^2*m^2 - 4*epsilon^2*l^2*m*r + epsilon^2*l^2*r^2 - m*r^3)*xi_r(s, epsilon))*sqrt(2*epsilon^2*l^2*m - epsilon^2*l^2*r + 2*epsilon^2*m*r^2 - (epsilon^2 - 1)*r^3) + ((8*epsilon^3*l^3*m^3 - 12*epsilon^3*l^3*m^2*r + 2*(3*epsilon^3 - 2*epsilon)*l*m*r^4 - (epsilon^3 - epsilon)*l*r^5 - (epsilon^3*l^3 + 4*(3*epsilon^3 - epsilon)*l*m^2)*r^3 + 2*(3*epsilon^3*l^3*m + 4*epsilon^3*l*m^3)*r^2)*xi_phi(s, epsilon) + (4*epsilon^2*l^2*m^3 - 4*epsilon^2*l^2*m^2*r - 2*(2*epsilon^2 - 1)*m^2*r^3 + (epsilon^2 - 1)*m*r^4 + (epsilon^2*l^2*m + 4*epsilon^2*m^3)*r^2)*xi_t(s, epsilon))*sqrt(r))/((4*epsilon^2*l^2*m^2*r^2 - 4*epsilon^2*l^2*m*r^3 - 2*(2*epsilon^2 - 1)*m*r^5 + (epsilon^2 - 1)*r^6 + (epsilon^2*l^2 + 4*epsilon^2*m^2)*r^4)*sqrt(r)),\n",
       " 0,\n",
       " -(epsilon*l*xi_r(s, epsilon) - l*r - sqrt(2*epsilon^2*l^2*m - epsilon^2*l^2*r + 2*epsilon^2*m*r^2 - (epsilon^2 - 1)*r^3)*sqrt(r)*xi_phi(s, epsilon))/r^3]"
      ]
     },
     "execution_count": 70,
     "metadata": {},
     "output_type": "execute_result"
    }
   ],
   "source": [
    "Deps_dsY = D_eps(dsY)\n",
    "Deps_dsY[:]"
   ]
  },
  {
   "cell_type": "code",
   "execution_count": 71,
   "id": "dc804515",
   "metadata": {},
   "outputs": [
    {
     "data": {
      "text/html": [
       "<html>\\(\\displaystyle \\left[-\\frac{m r^{\\frac{5}{2}} \\xi_{r}\\left(s, 0\\right) + {\\left(2 \\, m^{2} - m r\\right)} r^{\\frac{3}{2}} \\xi_{t}\\left(s, 0\\right)}{{\\left(4 \\, m^{2} r^{2} - 4 \\, m r^{3} + r^{4}\\right)} \\sqrt{r}}, \\frac{m r^{\\frac{9}{2}} \\xi_{r}\\left(s, 0\\right) + {\\left(2 \\, m^{2} r^{3} - m r^{4}\\right)} \\sqrt{r} \\xi_{t}\\left(s, 0\\right)}{{\\left(2 \\, m r^{5} - r^{6}\\right)} \\sqrt{r}}, 0, \\frac{r^{2} \\xi_{\\phi}\\left(s, 0\\right) + l r}{r^{3}}\\right]\\)</html>"
      ],
      "text/latex": [
       "$\\displaystyle \\left[-\\frac{m r^{\\frac{5}{2}} \\xi_{r}\\left(s, 0\\right) + {\\left(2 \\, m^{2} - m r\\right)} r^{\\frac{3}{2}} \\xi_{t}\\left(s, 0\\right)}{{\\left(4 \\, m^{2} r^{2} - 4 \\, m r^{3} + r^{4}\\right)} \\sqrt{r}}, \\frac{m r^{\\frac{9}{2}} \\xi_{r}\\left(s, 0\\right) + {\\left(2 \\, m^{2} r^{3} - m r^{4}\\right)} \\sqrt{r} \\xi_{t}\\left(s, 0\\right)}{{\\left(2 \\, m r^{5} - r^{6}\\right)} \\sqrt{r}}, 0, \\frac{r^{2} \\xi_{\\phi}\\left(s, 0\\right) + l r}{r^{3}}\\right]$"
      ],
      "text/plain": [
       "[-(m*r^(5/2)*xi_r(s, 0) + (2*m^2 - m*r)*r^(3/2)*xi_t(s, 0))/((4*m^2*r^2 - 4*m*r^3 + r^4)*sqrt(r)),\n",
       " (m*r^(9/2)*xi_r(s, 0) + (2*m^2*r^3 - m*r^4)*sqrt(r)*xi_t(s, 0))/((2*m*r^5 - r^6)*sqrt(r)),\n",
       " 0,\n",
       " (r^2*xi_phi(s, 0) + l*r)/r^3]"
      ]
     },
     "execution_count": 71,
     "metadata": {},
     "output_type": "execute_result"
    }
   ],
   "source": [
    "Deps_dsY0 = Deps_dsY.copy()\n",
    "Deps_dsY0.apply_map(lambda x: x.subs({eps:0}))\n",
    "Deps_dsY0[:]"
   ]
  },
  {
   "cell_type": "code",
   "execution_count": 109,
   "id": "a36d60f1",
   "metadata": {},
   "outputs": [
    {
     "data": {
      "text/html": [
       "<html>\\(\\displaystyle \\left(\\mathrm{D}_{0, 1}\\left(U\\right)\\left(s, 0\\right), \\mathrm{D}_{0}\\left(X_{1}\\right)\\left(s, 0\\right), \\mathrm{D}_{0}\\left(X_{2}\\right)\\left(s, 0\\right)\\right)\\)</html>"
      ],
      "text/latex": [
       "$\\displaystyle \\left(\\mathrm{D}_{0, 1}\\left(U\\right)\\left(s, 0\\right), \\mathrm{D}_{0}\\left(X_{1}\\right)\\left(s, 0\\right), \\mathrm{D}_{0}\\left(X_{2}\\right)\\left(s, 0\\right)\\right)$"
      ],
      "text/plain": [
       "(D[0, 1](U)(s, 0), D[0](X_1)(s, 0), D[0](X_2)(s, 0))"
      ]
     },
     "execution_count": 109,
     "metadata": {},
     "output_type": "execute_result"
    }
   ],
   "source": [
    "deps_dsU0 = U.diff(s, 1).diff(eps, 1).subs({eps:0})\n",
    "dsX1_0 = X1.diff(s, 1).subs({eps:0})\n",
    "dsX2_0 = X2.diff(s, 1).subs({eps:0})\n",
    "dsV0 = V.diff(s, 1).subs({eps:0})\n",
    "deps_dsU0, dsX1_0, dsX2_0"
   ]
  },
  {
   "cell_type": "markdown",
   "id": "5f87d06b",
   "metadata": {},
   "source": [
    "Define the vector field that is the coincidence limit of the $\\epsilon$-derivative of the tangent vector, $[D_{\\epsilon s} Y^{a'}] = \\dot{z}^a [\\partial_{\\epsilon s} U] + e^a_i [\\partial_s X^i]$."
   ]
  },
  {
   "cell_type": "code",
   "execution_count": 73,
   "id": "8ab5cfba",
   "metadata": {},
   "outputs": [
    {
     "data": {
      "text/html": [
       "<html>\\(\\displaystyle \\left[-\\frac{r \\frac{\\partial^2\\,U}{\\partial s\\partial 0}}{2 \\, m - r}, \\frac{\\partial^2\\,U}{\\partial s\\partial 0}, 0, \\frac{\\frac{\\partial\\,X_{2}}{\\partial s}}{r}\\right]\\)</html>"
      ],
      "text/latex": [
       "$\\displaystyle \\left[-\\frac{r \\frac{\\partial^2\\,U}{\\partial s\\partial 0}}{2 \\, m - r}, \\frac{\\partial^2\\,U}{\\partial s\\partial 0}, 0, \\frac{\\frac{\\partial\\,X_{2}}{\\partial s}}{r}\\right]$"
      ],
      "text/plain": [
       "[-r*d^2(U)/dsd0/(2*m - r), d^2(U)/dsd0, 0, d(X_2)/ds/r]"
      ]
     },
     "execution_count": 73,
     "metadata": {},
     "output_type": "execute_result"
    }
   ],
   "source": [
    "Deps_dsY_CL_out_in = M.vector_field(name=r'D_{\\epsilon s} Y_0')\n",
    "Deps_dsY_CL_out_in = zdot*deps_dsU0 + e1*dsX1_0 + e2*dsX2_0\n",
    "Deps_dsY_CL_out_in.apply_map(lambda cmp: cmp.subs({dsX1_0:0}))\n",
    "Deps_dsY_CL_out_in[:]"
   ]
  },
  {
   "cell_type": "markdown",
   "id": "9a6148f9",
   "metadata": {},
   "source": [
    "First, we compare the LHS and RHS of the coincidence limit of the deviation vector $[\\xi^{a'}] = \\dot{z}^a [\\partial_{\\epsilon} U] + e^a_i [X^i]$. Also define the quantities $\\xi_t (s, 0), \\xi_r (x, 0), \\cdots$ for easy substitution later."
   ]
  },
  {
   "cell_type": "code",
   "execution_count": 74,
   "id": "2347778f",
   "metadata": {},
   "outputs": [
    {
     "data": {
      "text/html": [
       "<html>\\(\\displaystyle \\xi_{t}\\left(s, 0\\right) = -\\frac{s \\mathrm{D}_{1}\\left(U\\right)\\left(s, 0\\right)}{2 \\, m - s}\\)</html>"
      ],
      "text/latex": [
       "$\\displaystyle \\xi_{t}\\left(s, 0\\right) = -\\frac{s \\mathrm{D}_{1}\\left(U\\right)\\left(s, 0\\right)}{2 \\, m - s}$"
      ],
      "text/plain": [
       "xi_t(s, 0) == -s*D[1](U)(s, 0)/(2*m - s)"
      ]
     },
     "execution_count": 74,
     "metadata": {},
     "output_type": "execute_result"
    }
   ],
   "source": [
    "xi_comp_t_eq1 = xi[0].expr().subs({eps:0}).subs({r:r0_sol}) == xi_CL_out_in[0].expr().subs({r:r0_sol})\n",
    "xi_comp_t_eq1"
   ]
  },
  {
   "cell_type": "code",
   "execution_count": 75,
   "id": "f5cba7f5",
   "metadata": {},
   "outputs": [
    {
     "data": {
      "text/html": [
       "<html>\\(\\displaystyle \\xi_{r}\\left(s, 0\\right) = \\mathrm{D}_{1}\\left(U\\right)\\left(s, 0\\right)\\)</html>"
      ],
      "text/latex": [
       "$\\displaystyle \\xi_{r}\\left(s, 0\\right) = \\mathrm{D}_{1}\\left(U\\right)\\left(s, 0\\right)$"
      ],
      "text/plain": [
       "xi_r(s, 0) == D[1](U)(s, 0)"
      ]
     },
     "execution_count": 75,
     "metadata": {},
     "output_type": "execute_result"
    }
   ],
   "source": [
    "xi_comp_r_eq1 = xi[1].expr().subs({eps:0}).subs({r:r0_sol}) == xi_CL_out_in[1].expr().subs({r:r0_sol})\n",
    "xi_comp_r_eq1"
   ]
  },
  {
   "cell_type": "code",
   "execution_count": 76,
   "id": "99cbc150",
   "metadata": {},
   "outputs": [
    {
     "data": {
      "text/html": [
       "<html>\\(\\displaystyle 0 = 0\\)</html>"
      ],
      "text/latex": [
       "$\\displaystyle 0 = 0$"
      ],
      "text/plain": [
       "0 == 0"
      ]
     },
     "execution_count": 76,
     "metadata": {},
     "output_type": "execute_result"
    }
   ],
   "source": [
    "xi_comp_th_eq1 = xi[2].expr().subs({eps:0}).subs({r:r0_sol}) == xi_CL_out_in[2].expr().subs({r:r0_sol})\n",
    "xi_comp_th_eq1"
   ]
  },
  {
   "cell_type": "code",
   "execution_count": 77,
   "id": "d114a36b",
   "metadata": {},
   "outputs": [
    {
     "data": {
      "text/html": [
       "<html>\\(\\displaystyle \\xi_{\\phi}\\left(s, 0\\right) = \\frac{X_{2}\\left(s, 0\\right)}{s}\\)</html>"
      ],
      "text/latex": [
       "$\\displaystyle \\xi_{\\phi}\\left(s, 0\\right) = \\frac{X_{2}\\left(s, 0\\right)}{s}$"
      ],
      "text/plain": [
       "xi_phi(s, 0) == X_2(s, 0)/s"
      ]
     },
     "execution_count": 77,
     "metadata": {},
     "output_type": "execute_result"
    }
   ],
   "source": [
    "xi_comp_ph_eq1 = xi[3].expr().subs({eps:0}).subs({r:r0_sol}) == xi_CL_out_in[3].expr().subs({r:r0_sol})\n",
    "xi_comp_ph_eq1"
   ]
  },
  {
   "cell_type": "code",
   "execution_count": 78,
   "id": "bb5f0ba7",
   "metadata": {},
   "outputs": [
    {
     "data": {
      "text/html": [
       "<html>\\(\\displaystyle \\left(\\xi_{t}\\left(s, 0\\right), \\xi_{r}\\left(s, 0\\right), \\xi_{\\phi}\\left(s, 0\\right)\\right)\\)</html>"
      ],
      "text/latex": [
       "$\\displaystyle \\left(\\xi_{t}\\left(s, 0\\right), \\xi_{r}\\left(s, 0\\right), \\xi_{\\phi}\\left(s, 0\\right)\\right)$"
      ],
      "text/plain": [
       "(xi_t(s, 0), xi_r(s, 0), xi_phi(s, 0))"
      ]
     },
     "execution_count": 78,
     "metadata": {},
     "output_type": "execute_result"
    }
   ],
   "source": [
    "xi_t_0 = xi_t.subs({eps:0})\n",
    "xi_r_0 = xi_r.subs({eps:0})\n",
    "xi_ph_0 = xi_ph.subs({eps:0})\n",
    "xi_t_0, xi_r_0, xi_ph_0"
   ]
  },
  {
   "cell_type": "markdown",
   "id": "45a9db61",
   "metadata": {},
   "source": [
    "We now compare components of the LHS and RHS of $[D_{\\epsilon s} Y^{a'}] = \\dot{z}^a [\\partial_{\\epsilon s} U] + e^a_i [\\partial_s X^i]$ to derive the form of the functions $(U, V, X^1, X^2)$ at the leading order."
   ]
  },
  {
   "cell_type": "code",
   "execution_count": 79,
   "id": "a59cbd1f",
   "metadata": {},
   "outputs": [
    {
     "data": {
      "text/html": [
       "<html>\\(\\displaystyle \\frac{{\\left(s \\xi_{r}\\left(s, 0\\right) + 2 \\, m \\xi_{t}\\left(s, 0\\right) - s \\xi_{t}\\left(s, 0\\right)\\right)} m}{{\\left(2 \\, m - s\\right)} s^{2}} = \\mathrm{D}_{0, 1}\\left(U\\right)\\left(s, 0\\right)\\)</html>"
      ],
      "text/latex": [
       "$\\displaystyle \\frac{{\\left(s \\xi_{r}\\left(s, 0\\right) + 2 \\, m \\xi_{t}\\left(s, 0\\right) - s \\xi_{t}\\left(s, 0\\right)\\right)} m}{{\\left(2 \\, m - s\\right)} s^{2}} = \\mathrm{D}_{0, 1}\\left(U\\right)\\left(s, 0\\right)$"
      ],
      "text/plain": [
       "(s*xi_r(s, 0) + 2*m*xi_t(s, 0) - s*xi_t(s, 0))*m/((2*m - s)*s^2) == D[0, 1](U)(s, 0)"
      ]
     },
     "execution_count": 79,
     "metadata": {},
     "output_type": "execute_result"
    }
   ],
   "source": [
    "O1_t_eq1 = (Deps_dsY0[0].expr().subs({r:r0_sol}) == Deps_dsY_CL_out_in[0].expr().subs({r:r0_sol})).factor()\n",
    "O1_t_eq2 = O1_t_eq1*(-1)*(2*m - s)/s\n",
    "O1_t_eq2"
   ]
  },
  {
   "cell_type": "code",
   "execution_count": 80,
   "id": "cba45823",
   "metadata": {},
   "outputs": [
    {
     "data": {
      "text/html": [
       "<html>\\(\\displaystyle \\frac{{\\left(s \\xi_{r}\\left(s, 0\\right) + 2 \\, m \\xi_{t}\\left(s, 0\\right) - s \\xi_{t}\\left(s, 0\\right)\\right)} m}{{\\left(2 \\, m - s\\right)} s^{2}} = \\mathrm{D}_{0, 1}\\left(U\\right)\\left(s, 0\\right)\\)</html>"
      ],
      "text/latex": [
       "$\\displaystyle \\frac{{\\left(s \\xi_{r}\\left(s, 0\\right) + 2 \\, m \\xi_{t}\\left(s, 0\\right) - s \\xi_{t}\\left(s, 0\\right)\\right)} m}{{\\left(2 \\, m - s\\right)} s^{2}} = \\mathrm{D}_{0, 1}\\left(U\\right)\\left(s, 0\\right)$"
      ],
      "text/plain": [
       "(s*xi_r(s, 0) + 2*m*xi_t(s, 0) - s*xi_t(s, 0))*m/((2*m - s)*s^2) == D[0, 1](U)(s, 0)"
      ]
     },
     "execution_count": 80,
     "metadata": {},
     "output_type": "execute_result"
    }
   ],
   "source": [
    "O1_r_eq1 = (Deps_dsY0[1].expr() == Deps_dsY_CL_out_in[1].expr()).subs({r:r0_sol}).factor()\n",
    "O1_r_eq1"
   ]
  },
  {
   "cell_type": "markdown",
   "id": "04b34465",
   "metadata": {},
   "source": [
    "The $a' = t, r$ equations obtained from computing $[D_{\\epsilon s} Y^{a'}] = \\dot{z}^a [\\partial_{\\epsilon s} U] + e^a_i [\\partial_s X^i]$ are identical."
   ]
  },
  {
   "cell_type": "code",
   "execution_count": 81,
   "id": "2e58082c",
   "metadata": {},
   "outputs": [
    {
     "data": {
      "text/html": [
       "<html>\\(\\displaystyle \\frac{r^{2} \\xi_{\\phi}\\left(s, 0\\right) + l r}{r^{3}} = \\frac{\\mathrm{D}_{0}\\left(X_{2}\\right)\\left(s, 0\\right)}{r}\\)</html>"
      ],
      "text/latex": [
       "$\\displaystyle \\frac{r^{2} \\xi_{\\phi}\\left(s, 0\\right) + l r}{r^{3}} = \\frac{\\mathrm{D}_{0}\\left(X_{2}\\right)\\left(s, 0\\right)}{r}$"
      ],
      "text/plain": [
       "(r^2*xi_phi(s, 0) + l*r)/r^3 == D[0](X_2)(s, 0)/r"
      ]
     },
     "execution_count": 81,
     "metadata": {},
     "output_type": "execute_result"
    }
   ],
   "source": [
    "O1_ph_eq1 = Deps_dsY0[3].expr() == Deps_dsY_CL_out_in[3].expr()\n",
    "O1_ph_eq1"
   ]
  },
  {
   "cell_type": "markdown",
   "id": "0cfb87c3",
   "metadata": {},
   "source": [
    "We can solve for $[X^2]$ using the $a' = \\phi$ components of the $[\\xi^{a'}]$ and $[D_{\\epsilon s} Y^{a'}]$ equations computed above."
   ]
  },
  {
   "cell_type": "code",
   "execution_count": 82,
   "id": "08c6fe7a",
   "metadata": {},
   "outputs": [
    {
     "data": {
      "text/html": [
       "<html>\\(\\displaystyle \\frac{l + X_{2}\\left(s, 0\\right)}{s} = \\mathrm{D}_{0}\\left(X_{2}\\right)\\left(s, 0\\right)\\)</html>"
      ],
      "text/latex": [
       "$\\displaystyle \\frac{l + X_{2}\\left(s, 0\\right)}{s} = \\mathrm{D}_{0}\\left(X_{2}\\right)\\left(s, 0\\right)$"
      ],
      "text/plain": [
       "(l + X_2(s, 0))/s == D[0](X_2)(s, 0)"
      ]
     },
     "execution_count": 82,
     "metadata": {},
     "output_type": "execute_result"
    }
   ],
   "source": [
    "O1_ph_eq2 = O1_ph_eq1.subs({xi_ph_0:xi_comp_ph_eq1.rhs()}).subs({r:r0_sol}).simplify_full()\n",
    "O1_ph_eq3 = O1_ph_eq2*s\n",
    "O1_ph_eq3"
   ]
  },
  {
   "cell_type": "code",
   "execution_count": 83,
   "id": "b461d16b",
   "metadata": {},
   "outputs": [
    {
     "data": {
      "text/html": [
       "<html>\\(\\displaystyle \\left(k_{1}\\left(s\\right), \\frac{\\partial}{\\partial s}k_{1}\\left(s\\right)\\right)\\)</html>"
      ],
      "text/latex": [
       "$\\displaystyle \\left(k_{1}\\left(s\\right), \\frac{\\partial}{\\partial s}k_{1}\\left(s\\right)\\right)$"
      ],
      "text/plain": [
       "(k_1(s), diff(k_1(s), s))"
      ]
     },
     "execution_count": 83,
     "metadata": {},
     "output_type": "execute_result"
    }
   ],
   "source": [
    "k1 = function('k_1')(s)\n",
    "dk1 = k1.diff(s)\n",
    "k1, dk1"
   ]
  },
  {
   "cell_type": "code",
   "execution_count": 84,
   "id": "ffd0502b",
   "metadata": {},
   "outputs": [
    {
     "data": {
      "text/html": [
       "<html>\\(\\displaystyle \\frac{l + k_{1}\\left(s\\right)}{s} = \\frac{\\partial}{\\partial s}k_{1}\\left(s\\right)\\)</html>"
      ],
      "text/latex": [
       "$\\displaystyle \\frac{l + k_{1}\\left(s\\right)}{s} = \\frac{\\partial}{\\partial s}k_{1}\\left(s\\right)$"
      ],
      "text/plain": [
       "(l + k_1(s))/s == diff(k_1(s), s)"
      ]
     },
     "execution_count": 84,
     "metadata": {},
     "output_type": "execute_result"
    }
   ],
   "source": [
    "O1_ph_eq4 = O1_ph_eq3.subs({X2_0:k1}).subs({dsX2_0:dk1})\n",
    "O1_ph_eq4"
   ]
  },
  {
   "cell_type": "code",
   "execution_count": 85,
   "id": "6dfb4f92",
   "metadata": {},
   "outputs": [
    {
     "data": {
      "text/html": [
       "<html>\\(\\displaystyle {\\left(C - \\frac{l}{s}\\right)} s\\)</html>"
      ],
      "text/latex": [
       "$\\displaystyle {\\left(C - \\frac{l}{s}\\right)} s$"
      ],
      "text/plain": [
       "(_C - l/s)*s"
      ]
     },
     "execution_count": 85,
     "metadata": {},
     "output_type": "execute_result"
    }
   ],
   "source": [
    "desolve(O1_ph_eq4, k1, ivar=s)"
   ]
  },
  {
   "cell_type": "code",
   "execution_count": 86,
   "id": "d87d8193",
   "metadata": {},
   "outputs": [
    {
     "data": {
      "text/html": [
       "<html>\\(\\displaystyle C_{2} s - l\\)</html>"
      ],
      "text/latex": [
       "$\\displaystyle C_{2} s - l$"
      ],
      "text/plain": [
       "C_2*s - l"
      ]
     },
     "execution_count": 86,
     "metadata": {},
     "output_type": "execute_result"
    }
   ],
   "source": [
    "C2 = var('C_2')\n",
    "X2_O1_sol = C2*s - l\n",
    "X2_O1_sol"
   ]
  },
  {
   "cell_type": "markdown",
   "id": "78d0227b",
   "metadata": {},
   "source": [
    "Thus we find that $[X^2] = C_2 s - l$, for some constant $C_2$."
   ]
  },
  {
   "cell_type": "markdown",
   "id": "32178d75",
   "metadata": {},
   "source": [
    "Next, we substitute the values of $[\\xi^t]$ and $[\\xi^r]$ from the coincidence limit $[\\xi^{a'}]$ in the $a' = t$ (or equivalently $r$) expression of $[D_{\\epsilon s} Y^{a'}]$. "
   ]
  },
  {
   "cell_type": "code",
   "execution_count": 87,
   "id": "31d5f9a3",
   "metadata": {},
   "outputs": [
    {
     "data": {
      "text/html": [
       "<html>\\(\\displaystyle 0 = \\mathrm{D}_{0, 1}\\left(U\\right)\\left(s, 0\\right)\\)</html>"
      ],
      "text/latex": [
       "$\\displaystyle 0 = \\mathrm{D}_{0, 1}\\left(U\\right)\\left(s, 0\\right)$"
      ],
      "text/plain": [
       "0 == D[0, 1](U)(s, 0)"
      ]
     },
     "execution_count": 87,
     "metadata": {},
     "output_type": "execute_result"
    }
   ],
   "source": [
    "O1_t_eq3 = O1_t_eq2.subs({xi_t_0:xi_comp_t_eq1.rhs()}).subs({xi_r_0:xi_comp_r_eq1.rhs()}).factor()\n",
    "O1_t_eq3"
   ]
  },
  {
   "cell_type": "code",
   "execution_count": 88,
   "id": "594f7aa4",
   "metadata": {},
   "outputs": [
    {
     "data": {
      "text/html": [
       "<html>\\(\\displaystyle C_{U} \\epsilon + s\\)</html>"
      ],
      "text/latex": [
       "$\\displaystyle C_{U} \\epsilon + s$"
      ],
      "text/plain": [
       "C_U*epsilon + s"
      ]
     },
     "execution_count": 88,
     "metadata": {},
     "output_type": "execute_result"
    }
   ],
   "source": [
    "CU = var('C_U')\n",
    "U_Oeps_sol = s + eps*CU\n",
    "U_Oeps_sol"
   ]
  },
  {
   "cell_type": "markdown",
   "id": "45b9f876",
   "metadata": {},
   "source": [
    "Thus, upto $\\mathcal{O} (\\epsilon)$, we have $U (s, \\epsilon) = s + \\epsilon C_U$, for some numerical constant $C_U$."
   ]
  },
  {
   "cell_type": "markdown",
   "id": "bef03769",
   "metadata": {},
   "source": [
    "Thus, from the first order equation $[D_{\\epsilon s} Y]$, we have determined that\n",
    "$\n",
    "U (s, \\epsilon) = s + \\epsilon C_U + \\mathcal{O} (\\epsilon^2), \\\\\n",
    "X^1 (s, \\epsilon) = 0 + \\mathcal{O} (\\epsilon), \\\\\n",
    "X^2 (s, \\epsilon) = C_2 s - l + \\mathcal{O} (\\epsilon),\n",
    "$ for some numerical constants (i.e. not functions of $s$ or $\\epsilon$) $C_U, C_2$. Presumably, we can set $C_U = 0$ since there is no dynamics occuring at this order in $U$.\n",
    "\n",
    "To derive the form of $V (s, \\epsilon)$ at leading, we simply plug in the above expressions for $(U, X^i)$ into the leading order expression for the line element\n",
    "$\n",
    "\\partial_s Y^{a'} \\partial_s Y_{a'} = \\epsilon^2 ( -2 [\\partial_s U \\partial_s V] + [\\partial_s X^i \\partial_s X_i] ) + \\mathcal{O} (\\epsilon^3),\n",
    "$ \n",
    "where we have used the fact that the PW waveform matrix is identically zero for this case."
   ]
  },
  {
   "cell_type": "code",
   "execution_count": 147,
   "id": "99074184",
   "metadata": {},
   "outputs": [
    {
     "data": {
      "text/html": [
       "<html>\\(\\displaystyle -\\epsilon^{2}\\)</html>"
      ],
      "text/latex": [
       "$\\displaystyle -\\epsilon^{2}$"
      ],
      "text/plain": [
       "-epsilon^2"
      ]
     },
     "execution_count": 147,
     "metadata": {},
     "output_type": "execute_result"
    }
   ],
   "source": [
    "dsY2 = g(dsY, dsY).expr()\n",
    "dsY2"
   ]
  },
  {
   "cell_type": "code",
   "execution_count": 148,
   "id": "5826e2ba",
   "metadata": {},
   "outputs": [
    {
     "data": {
      "text/html": [
       "<html>\\(\\displaystyle -2 \\, \\mathrm{D}_{0}\\left(U\\right)\\left(s, 0\\right) \\mathrm{D}_{0}\\left(V\\right)\\left(s, 0\\right) + \\mathrm{D}_{0}\\left(X_{1}\\right)\\left(s, 0\\right)^{2} + \\mathrm{D}_{0}\\left(X_{2}\\right)\\left(s, 0\\right)^{2}\\)</html>"
      ],
      "text/latex": [
       "$\\displaystyle -2 \\, \\mathrm{D}_{0}\\left(U\\right)\\left(s, 0\\right) \\mathrm{D}_{0}\\left(V\\right)\\left(s, 0\\right) + \\mathrm{D}_{0}\\left(X_{1}\\right)\\left(s, 0\\right)^{2} + \\mathrm{D}_{0}\\left(X_{2}\\right)\\left(s, 0\\right)^{2}$"
      ],
      "text/plain": [
       "-2*D[0](U)(s, 0)*D[0](V)(s, 0) + D[0](X_1)(s, 0)^2 + D[0](X_2)(s, 0)^2"
      ]
     },
     "execution_count": 148,
     "metadata": {},
     "output_type": "execute_result"
    }
   ],
   "source": [
    "line_el_out_in_LO = -2*dsU0*dsV0 + dsX1_0*dsX1_0 + dsX2_0*dsX2_0\n",
    "line_el_out_in_LO"
   ]
  },
  {
   "cell_type": "code",
   "execution_count": 149,
   "id": "8b346b9e",
   "metadata": {},
   "outputs": [
    {
     "data": {
      "text/html": [
       "<html>\\(\\displaystyle -\\epsilon^{2} = -{\\left(2 \\, \\mathrm{D}_{0}\\left(U\\right)\\left(s, 0\\right) \\mathrm{D}_{0}\\left(V\\right)\\left(s, 0\\right) - \\mathrm{D}_{0}\\left(X_{1}\\right)\\left(s, 0\\right)^{2} - \\mathrm{D}_{0}\\left(X_{2}\\right)\\left(s, 0\\right)^{2}\\right)} \\epsilon^{2}\\)</html>"
      ],
      "text/latex": [
       "$\\displaystyle -\\epsilon^{2} = -{\\left(2 \\, \\mathrm{D}_{0}\\left(U\\right)\\left(s, 0\\right) \\mathrm{D}_{0}\\left(V\\right)\\left(s, 0\\right) - \\mathrm{D}_{0}\\left(X_{1}\\right)\\left(s, 0\\right)^{2} - \\mathrm{D}_{0}\\left(X_{2}\\right)\\left(s, 0\\right)^{2}\\right)} \\epsilon^{2}$"
      ],
      "text/plain": [
       "-epsilon^2 == -(2*D[0](U)(s, 0)*D[0](V)(s, 0) - D[0](X_1)(s, 0)^2 - D[0](X_2)(s, 0)^2)*epsilon^2"
      ]
     },
     "execution_count": 149,
     "metadata": {},
     "output_type": "execute_result"
    }
   ],
   "source": [
    "Oeps2_line_el_eq1 = dsY2 == eps^2*line_el_out_in_LO\n",
    "Oeps2_line_el_eq1"
   ]
  },
  {
   "cell_type": "code",
   "execution_count": 150,
   "id": "3c30d484",
   "metadata": {},
   "outputs": [
    {
     "data": {
      "text/html": [
       "<html>\\(\\displaystyle \\left(1, C_{2}\\right)\\)</html>"
      ],
      "text/latex": [
       "$\\displaystyle \\left(1, C_{2}\\right)$"
      ],
      "text/plain": [
       "(1, C_2)"
      ]
     },
     "execution_count": 150,
     "metadata": {},
     "output_type": "execute_result"
    }
   ],
   "source": [
    "dsU0_Oeps = U_Oeps_sol.diff(s, 1).subs({eps:0})\n",
    "dsX2_0_sol = X2_O1_sol.diff(s, 1)\n",
    "dsU0_Oeps, dsX2_0_sol"
   ]
  },
  {
   "cell_type": "code",
   "execution_count": 151,
   "id": "71ccaa05",
   "metadata": {},
   "outputs": [
    {
     "data": {
      "text/html": [
       "<html>\\(\\displaystyle 1 = -C_{2}^{2} + 2 \\, \\mathrm{D}_{0}\\left(V\\right)\\left(s, 0\\right)\\)</html>"
      ],
      "text/latex": [
       "$\\displaystyle 1 = -C_{2}^{2} + 2 \\, \\mathrm{D}_{0}\\left(V\\right)\\left(s, 0\\right)$"
      ],
      "text/plain": [
       "1 == -C_2^2 + 2*D[0](V)(s, 0)"
      ]
     },
     "execution_count": 151,
     "metadata": {},
     "output_type": "execute_result"
    }
   ],
   "source": [
    "Oeps2_line_el_eq2 = (Oeps2_line_el_eq1/(-eps^2)).subs({dsU0:dsU0_Oeps}).subs({dsX1_0:0}).subs({dsX2_0:dsX2_0_sol})\n",
    "Oeps2_line_el_eq2"
   ]
  },
  {
   "cell_type": "code",
   "execution_count": 152,
   "id": "a8d05264",
   "metadata": {},
   "outputs": [
    {
     "data": {
      "text/html": [
       "<html>\\(\\displaystyle \\frac{1}{2} \\, C_{2}^{2} + \\frac{1}{2} = \\mathrm{D}_{0}\\left(V\\right)\\left(s, 0\\right)\\)</html>"
      ],
      "text/latex": [
       "$\\displaystyle \\frac{1}{2} \\, C_{2}^{2} + \\frac{1}{2} = \\mathrm{D}_{0}\\left(V\\right)\\left(s, 0\\right)$"
      ],
      "text/plain": [
       "1/2*C_2^2 + 1/2 == D[0](V)(s, 0)"
      ]
     },
     "execution_count": 152,
     "metadata": {},
     "output_type": "execute_result"
    }
   ],
   "source": [
    "Oeps2_line_el_eq3 = (Oeps2_line_el_eq2 + C2^2)/2\n",
    "Oeps2_line_el_eq3"
   ]
  },
  {
   "cell_type": "code",
   "execution_count": 153,
   "id": "6a6f1d1d",
   "metadata": {},
   "outputs": [
    {
     "data": {
      "text/html": [
       "<html>\\(\\displaystyle \\left(k_{v}\\left(s\\right), \\frac{\\partial}{\\partial s}k_{v}\\left(s\\right)\\right)\\)</html>"
      ],
      "text/latex": [
       "$\\displaystyle \\left(k_{v}\\left(s\\right), \\frac{\\partial}{\\partial s}k_{v}\\left(s\\right)\\right)$"
      ],
      "text/plain": [
       "(k_v(s), diff(k_v(s), s))"
      ]
     },
     "execution_count": 153,
     "metadata": {},
     "output_type": "execute_result"
    }
   ],
   "source": [
    "kv = function('k_v')(s)\n",
    "dkv = kv.diff(s)\n",
    "kv, dkv"
   ]
  },
  {
   "cell_type": "code",
   "execution_count": 154,
   "id": "d34c0d38",
   "metadata": {},
   "outputs": [
    {
     "data": {
      "text/html": [
       "<html>\\(\\displaystyle \\frac{1}{2} \\, C_{2}^{2} + \\frac{1}{2} = \\frac{\\partial}{\\partial s}k_{v}\\left(s\\right)\\)</html>"
      ],
      "text/latex": [
       "$\\displaystyle \\frac{1}{2} \\, C_{2}^{2} + \\frac{1}{2} = \\frac{\\partial}{\\partial s}k_{v}\\left(s\\right)$"
      ],
      "text/plain": [
       "1/2*C_2^2 + 1/2 == diff(k_v(s), s)"
      ]
     },
     "execution_count": 154,
     "metadata": {},
     "output_type": "execute_result"
    }
   ],
   "source": [
    "Oeps2_line_el_eq4 = Oeps2_line_el_eq3.subs({dsV0:dkv})\n",
    "Oeps2_line_el_eq4"
   ]
  },
  {
   "cell_type": "code",
   "execution_count": 155,
   "id": "52d7e30a",
   "metadata": {},
   "outputs": [
    {
     "data": {
      "text/html": [
       "<html>\\(\\displaystyle \\frac{1}{2} \\, {\\left(C_{2}^{2} + 1\\right)} s + C\\)</html>"
      ],
      "text/latex": [
       "$\\displaystyle \\frac{1}{2} \\, {\\left(C_{2}^{2} + 1\\right)} s + C$"
      ],
      "text/plain": [
       "1/2*(C_2^2 + 1)*s + _C"
      ]
     },
     "execution_count": 155,
     "metadata": {},
     "output_type": "execute_result"
    }
   ],
   "source": [
    "desolve(Oeps2_line_el_eq4, kv, ivar=s)"
   ]
  },
  {
   "cell_type": "code",
   "execution_count": 156,
   "id": "be763cc0",
   "metadata": {},
   "outputs": [
    {
     "data": {
      "text/html": [
       "<html>\\(\\displaystyle \\frac{1}{2} \\, {\\left(C_{2}^{2} + 1\\right)} s + C_{V}\\)</html>"
      ],
      "text/latex": [
       "$\\displaystyle \\frac{1}{2} \\, {\\left(C_{2}^{2} + 1\\right)} s + C_{V}$"
      ],
      "text/plain": [
       "1/2*(C_2^2 + 1)*s + C_V"
      ]
     },
     "execution_count": 156,
     "metadata": {},
     "output_type": "execute_result"
    }
   ],
   "source": [
    "CV = var('C_V')\n",
    "V_O1_sol = (1/2)*(C2^2 + 1)*s + CV\n",
    "V_O1_sol"
   ]
  },
  {
   "cell_type": "markdown",
   "id": "851b28c0",
   "metadata": {},
   "source": [
    "Thus, we have the following solutions to the outside-in functions\n",
    "$\n",
    "U (s, \\epsilon) = s + \\epsilon C_U + \\mathcal{O} (\\epsilon^2), \\\\\n",
    "V (s, \\epsilon) = \\frac{s}{2} (C_2^2 + 1) + C_V, \\\\\n",
    "X^1 (s, \\epsilon) = 0 + \\mathcal{O} (\\epsilon), \\\\\n",
    "X^2 (s, \\epsilon) = C_2 s - l + \\mathcal{O} (\\epsilon),\n",
    "$ "
   ]
  },
  {
   "cell_type": "code",
   "execution_count": 157,
   "id": "72755990",
   "metadata": {},
   "outputs": [
    {
     "data": {
      "text/html": [
       "<html>\\(\\displaystyle C_{U}\\)</html>"
      ],
      "text/latex": [
       "$\\displaystyle C_{U}$"
      ],
      "text/plain": [
       "C_U"
      ]
     },
     "execution_count": 157,
     "metadata": {},
     "output_type": "execute_result"
    }
   ],
   "source": [
    "depsU0_sol = U_Oeps_sol.diff(eps, 1).subs({eps:0})\n",
    "depsU0_sol"
   ]
  },
  {
   "cell_type": "code",
   "execution_count": 158,
   "id": "830fdea8",
   "metadata": {},
   "outputs": [
    {
     "data": {
      "text/html": [
       "<html>\\(\\displaystyle -\\frac{C_{U} s}{2 \\, m - s}\\)</html>"
      ],
      "text/latex": [
       "$\\displaystyle -\\frac{C_{U} s}{2 \\, m - s}$"
      ],
      "text/plain": [
       "-C_U*s/(2*m - s)"
      ]
     },
     "execution_count": 158,
     "metadata": {},
     "output_type": "execute_result"
    }
   ],
   "source": [
    "Oeps_t_corr1 = xi_CL_out_in[0].expr().subs({r:r0_sol}).subs({depsU0:depsU0_sol})\n",
    "Oeps_t_corr1"
   ]
  },
  {
   "cell_type": "code",
   "execution_count": 159,
   "id": "eae0b0ce",
   "metadata": {},
   "outputs": [
    {
     "data": {
      "text/html": [
       "<html>\\(\\displaystyle C_{U}\\)</html>"
      ],
      "text/latex": [
       "$\\displaystyle C_{U}$"
      ],
      "text/plain": [
       "C_U"
      ]
     },
     "execution_count": 159,
     "metadata": {},
     "output_type": "execute_result"
    }
   ],
   "source": [
    "Oeps_r_corr1 = xi_CL_out_in[1].expr().subs({r:r0_sol}).subs({depsU0:depsU0_sol})\n",
    "Oeps_r_corr1"
   ]
  },
  {
   "cell_type": "code",
   "execution_count": 160,
   "id": "1edea88b",
   "metadata": {},
   "outputs": [
    {
     "data": {
      "text/html": [
       "<html>\\(\\displaystyle \\frac{C_{2} s - l}{s}\\)</html>"
      ],
      "text/latex": [
       "$\\displaystyle \\frac{C_{2} s - l}{s}$"
      ],
      "text/plain": [
       "(C_2*s - l)/s"
      ]
     },
     "execution_count": 160,
     "metadata": {},
     "output_type": "execute_result"
    }
   ],
   "source": [
    "Oeps_ph_corr1 = xi_CL_out_in[3].expr().subs({r:r0_sol}).subs({X2_0:X2_O1_sol})\n",
    "Oeps_ph_corr1"
   ]
  },
  {
   "cell_type": "code",
   "execution_count": 161,
   "id": "b2fb2c7f",
   "metadata": {},
   "outputs": [
    {
     "data": {
      "text/html": [
       "<html>\\(\\displaystyle \\left(-\\frac{C_{U} \\epsilon s}{2 \\, m - s} + 2 \\, m \\log\\left(-2 \\, m + s\\right) + s, C_{U} \\epsilon + s, \\Phi_{0} + \\frac{{\\left(C_{2} s - l\\right)} \\epsilon}{s}\\right)\\)</html>"
      ],
      "text/latex": [
       "$\\displaystyle \\left(-\\frac{C_{U} \\epsilon s}{2 \\, m - s} + 2 \\, m \\log\\left(-2 \\, m + s\\right) + s, C_{U} \\epsilon + s, \\Phi_{0} + \\frac{{\\left(C_{2} s - l\\right)} \\epsilon}{s}\\right)$"
      ],
      "text/plain": [
       "(-C_U*epsilon*s/(2*m - s) + 2*m*log(-2*m + s) + s,\n",
       " C_U*epsilon + s,\n",
       " Phi_0 + (C_2*s - l)*epsilon/s)"
      ]
     },
     "execution_count": 161,
     "metadata": {},
     "output_type": "execute_result"
    }
   ],
   "source": [
    "t_Oeps_sol = t0_sol + eps*Oeps_t_corr1\n",
    "r_Oeps_sol = r0_sol + eps*Oeps_r_corr1\n",
    "ph_Oeps_sol = ph0_sol + eps*Oeps_ph_corr1\n",
    "t_Oeps_sol, r_Oeps_sol, ph_Oeps_sol"
   ]
  },
  {
   "cell_type": "markdown",
   "id": "994880d2",
   "metadata": {},
   "source": [
    "Thus we have determined the first order corrections to the coordinates,\n",
    "$\n",
    "t (s, \\epsilon) = s + 2m \\ln(s - 2m) + \\epsilon \\frac{C_U s}{s - 2m} + \\mathcal{O} (\\epsilon^2), \\\\\n",
    "r (s, \\epsilon) = s + \\epsilon C_U + \\mathcal{O} (\\epsilon^2), \\\\\n",
    "\\theta (s, \\epsilon) = \\frac{\\pi}{2}, \\\\\n",
    "\\phi (s, \\epsilon) = \\Phi_0 + \\epsilon \\frac{C_2 s - l}{s},\n",
    "$\n",
    "where, as before, the integration constants $C_U, C_2$ are pure numbers.\n",
    "\n",
    "If we set $C_U = 0$, then the first order corrections to $t, r$ vanish and we get\n",
    "$\n",
    "t (s, \\epsilon) = s + 2m \\ln(s - 2m) + \\mathcal{O} (\\epsilon^2), \\\\\n",
    "r (s, \\epsilon) = s + \\mathcal{O} (\\epsilon^2), \\\\\n",
    "\\theta (s, \\epsilon) = \\frac{\\pi}{2}, \\\\\n",
    "\\phi (s, \\epsilon) = \\Phi_0 + \\epsilon \\frac{C_2 s - l}{s}.\n",
    "$\n",
    "\n",
    "Lastly, if the timelike geodesics and the reference null geodesic are all radial, then the numerical values of the initial angle and the angular momentum are zero, i.e. $\\Phi_0 = 0 = l$, which gives $\\phi (s, \\epsilon) = \\epsilon C_2$."
   ]
  },
  {
   "cell_type": "markdown",
   "id": "daf839d5",
   "metadata": {},
   "source": [
    "We will now proceed to carry out an analogous analysis of case 2, i.e. when the angular momentum scales with the energy as $l = \\kappa E = \\frac{\\kappa}{\\epsilon}$. In this case, the tangent vector to the timelike geodesics has the components\n",
    "$\n",
    "\\partial_U t = 1/f(r), \\qquad \\partial_U \\phi = \\frac{\\kappa}{r^2}, \\\\\n",
    "\\partial_U r = \\sqrt{1 - f(r) \\frac{\\kappa^2}{r^2} - \\epsilon^2 f(r)}, \\qquad \\partial_U \\theta = 0.\n",
    "$\n",
    "\n",
    "In the $\\epsilon \\to 0$ limit, this results in the tangent vector $\\dot{Z}^a = \\bigg ( \\frac{1}{f(r_0)}, \\sqrt{1 - f(r_0) \\frac{\\kappa^2}{r_0^2}}, 0, \\frac{\\kappa}{r_0^2} \\bigg )$, where $r_0 (s) = r (s, \\epsilon = 0)$. We need to check that this is tangent to an affinely parametrised null geodesic. Note that we denote the null geodesic by $Z^a (s)$ to distinguish it from the reference null geodesic in case 1, which was denoted by $z^a (s)$. At times when confusion might arise about the notation in the two cases, we use the subscript \"c2\" to denote the quantities from case 2."
   ]
  },
  {
   "cell_type": "code",
   "execution_count": 184,
   "id": "2fcd1923",
   "metadata": {},
   "outputs": [
    {
     "data": {
      "text/html": [
       "<html>\\(\\displaystyle \\left[-\\frac{1}{\\frac{2 \\, m}{r} - 1}, \\sqrt{\\epsilon^{2} {\\left(\\frac{2 \\, m}{r} - 1\\right)} {\\left(\\frac{\\kappa^{2}}{\\epsilon^{2} r^{2}} + 1\\right)} + 1}, 0, \\frac{\\kappa}{r^{2}}\\right]\\)</html>"
      ],
      "text/latex": [
       "$\\displaystyle \\left[-\\frac{1}{\\frac{2 \\, m}{r} - 1}, \\sqrt{\\epsilon^{2} {\\left(\\frac{2 \\, m}{r} - 1\\right)} {\\left(\\frac{\\kappa^{2}}{\\epsilon^{2} r^{2}} + 1\\right)} + 1}, 0, \\frac{\\kappa}{r^{2}}\\right]$"
      ],
      "text/plain": [
       "[-1/(2*m/r - 1),\n",
       " sqrt(epsilon^2*(2*m/r - 1)*(kappa^2/(epsilon^2*r^2) + 1) + 1),\n",
       " 0,\n",
       " kappa/r^2]"
      ]
     },
     "execution_count": 184,
     "metadata": {},
     "output_type": "execute_result"
    }
   ],
   "source": [
    "dsY_c2 = dsY.copy()\n",
    "dsY_c2.apply_map(lambda cmp: cmp.subs({l:kap/eps}))\n",
    "dsY_c2[:]"
   ]
  },
  {
   "cell_type": "code",
   "execution_count": 185,
   "id": "9bc65ddb",
   "metadata": {},
   "outputs": [
    {
     "data": {
      "text/html": [
       "<html>\\(\\displaystyle \\sqrt{\\epsilon^{2} {\\left(\\frac{2 \\, m}{r} - 1\\right)} {\\left(\\frac{\\kappa^{2}}{\\epsilon^{2} r^{2}} + 1\\right)} + 1}\\)</html>"
      ],
      "text/latex": [
       "$\\displaystyle \\sqrt{\\epsilon^{2} {\\left(\\frac{2 \\, m}{r} - 1\\right)} {\\left(\\frac{\\kappa^{2}}{\\epsilon^{2} r^{2}} + 1\\right)} + 1}$"
      ],
      "text/plain": [
       "sqrt(epsilon^2*(2*m/r - 1)*(kappa^2/(epsilon^2*r^2) + 1) + 1)"
      ]
     },
     "execution_count": 185,
     "metadata": {},
     "output_type": "execute_result"
    }
   ],
   "source": [
    "dsY_c2[1].expr()"
   ]
  },
  {
   "cell_type": "markdown",
   "id": "f88f2ec4",
   "metadata": {},
   "source": [
    "We can simplify this component as $\\sqrt{1 - f(r)\\frac{\\kappa^2}{r^2} - \\epsilon^2 f(r)}$, where $r$ is evaluated at $\\epsilon = 0$."
   ]
  },
  {
   "cell_type": "code",
   "execution_count": 186,
   "id": "379d7681",
   "metadata": {},
   "outputs": [
    {
     "data": {
      "text/html": [
       "<html>\\(\\displaystyle \\sqrt{\\epsilon^{2} {\\left(\\frac{2 \\, m}{r} - 1\\right)} + \\frac{\\kappa^{2} {\\left(\\frac{2 \\, m}{r} - 1\\right)}}{r^{2}} + 1}\\)</html>"
      ],
      "text/latex": [
       "$\\displaystyle \\sqrt{\\epsilon^{2} {\\left(\\frac{2 \\, m}{r} - 1\\right)} + \\frac{\\kappa^{2} {\\left(\\frac{2 \\, m}{r} - 1\\right)}}{r^{2}} + 1}$"
      ],
      "text/plain": [
       "sqrt(epsilon^2*(2*m/r - 1) + kappa^2*(2*m/r - 1)/r^2 + 1)"
      ]
     },
     "execution_count": 186,
     "metadata": {},
     "output_type": "execute_result"
    }
   ],
   "source": [
    "dsY_c2[1] = sqrt(1 - f*kap^2/r^2 - eps^2*f)\n",
    "dsY_c2[1]"
   ]
  },
  {
   "cell_type": "code",
   "execution_count": 187,
   "id": "08840d00",
   "metadata": {},
   "outputs": [
    {
     "data": {
      "text/html": [
       "<html>\\(\\displaystyle \\left[-\\frac{1}{\\frac{2 \\, m}{r} - 1}, \\sqrt{\\epsilon^{2} {\\left(\\frac{2 \\, m}{r} - 1\\right)} + \\frac{\\kappa^{2} {\\left(\\frac{2 \\, m}{r} - 1\\right)}}{r^{2}} + 1}, 0, \\frac{\\kappa}{r^{2}}\\right]\\)</html>"
      ],
      "text/latex": [
       "$\\displaystyle \\left[-\\frac{1}{\\frac{2 \\, m}{r} - 1}, \\sqrt{\\epsilon^{2} {\\left(\\frac{2 \\, m}{r} - 1\\right)} + \\frac{\\kappa^{2} {\\left(\\frac{2 \\, m}{r} - 1\\right)}}{r^{2}} + 1}, 0, \\frac{\\kappa}{r^{2}}\\right]$"
      ],
      "text/plain": [
       "[-1/(2*m/r - 1),\n",
       " sqrt(epsilon^2*(2*m/r - 1) + kappa^2*(2*m/r - 1)/r^2 + 1),\n",
       " 0,\n",
       " kappa/r^2]"
      ]
     },
     "execution_count": 187,
     "metadata": {},
     "output_type": "execute_result"
    }
   ],
   "source": [
    "dsY_c2[:]"
   ]
  },
  {
   "cell_type": "code",
   "execution_count": 188,
   "id": "f4039bf4",
   "metadata": {},
   "outputs": [
    {
     "data": {
      "text/html": [
       "<html>\\(\\displaystyle \\left[-\\frac{1}{\\frac{2 \\, m}{r} - 1}, \\sqrt{\\frac{\\kappa^{2} {\\left(\\frac{2 \\, m}{r} - 1\\right)}}{r^{2}} + 1}, 0, \\frac{\\kappa}{r^{2}}\\right]\\)</html>"
      ],
      "text/latex": [
       "$\\displaystyle \\left[-\\frac{1}{\\frac{2 \\, m}{r} - 1}, \\sqrt{\\frac{\\kappa^{2} {\\left(\\frac{2 \\, m}{r} - 1\\right)}}{r^{2}} + 1}, 0, \\frac{\\kappa}{r^{2}}\\right]$"
      ],
      "text/plain": [
       "[-1/(2*m/r - 1), sqrt(kappa^2*(2*m/r - 1)/r^2 + 1), 0, kappa/r^2]"
      ]
     },
     "execution_count": 188,
     "metadata": {},
     "output_type": "execute_result"
    }
   ],
   "source": [
    "Zdot = dsY_c2.copy()\n",
    "Zdot.apply_map(lambda cmp: cmp.subs({eps:0}))\n",
    "Zdot[:]"
   ]
  },
  {
   "cell_type": "code",
   "execution_count": 189,
   "id": "8543f2b7",
   "metadata": {},
   "outputs": [
    {
     "data": {
      "text/html": [
       "<html>\\(\\displaystyle \\begin{array}{llcl} & M & \\longrightarrow & \\mathbb{R} \\\\ & \\left(t, r, {\\theta}, {\\phi}\\right) & \\longmapsto & 0 \\end{array}\\)</html>"
      ],
      "text/latex": [
       "$\\displaystyle \\begin{array}{llcl} & M & \\longrightarrow & \\mathbb{R} \\\\ & \\left(t, r, {\\theta}, {\\phi}\\right) & \\longmapsto & 0 \\end{array}$"
      ],
      "text/plain": [
       "M → ℝ\n",
       "(t, r, th, ph) ↦ 0"
      ]
     },
     "execution_count": 189,
     "metadata": {},
     "output_type": "execute_result"
    }
   ],
   "source": [
    "g(Zdot, Zdot).display()"
   ]
  },
  {
   "cell_type": "code",
   "execution_count": 190,
   "id": "c9e1bd79",
   "metadata": {},
   "outputs": [
    {
     "data": {
      "text/html": [
       "<html>\\(\\displaystyle \\left[0, 0, 0, 0\\right]\\)</html>"
      ],
      "text/latex": [
       "$\\displaystyle \\left[0, 0, 0, 0\\right]$"
      ],
      "text/plain": [
       "[0, 0, 0, 0]"
      ]
     },
     "execution_count": 190,
     "metadata": {},
     "output_type": "execute_result"
    }
   ],
   "source": [
    "Ds_Zdot = nab(zdot_case2).contract(zdot_case2)\n",
    "Ds_Zdot[:]"
   ]
  },
  {
   "cell_type": "markdown",
   "id": "f4d22807",
   "metadata": {},
   "source": [
    "Thus, the limiting curve is indeed an affinely parametrised null geodesic. \n",
    "\n",
    "The next step is to construct the quasi-null frame $( \\dot{Z}, N, E_i )$, through the algebraic relations $g (\\dot{Z}, N) = -1, \\quad g(E_i, E_j) = \\delta_{i j}$, with all other inner products vanishing."
   ]
  },
  {
   "cell_type": "code",
   "execution_count": 191,
   "id": "a4dfd3e0",
   "metadata": {},
   "outputs": [
    {
     "data": {
      "text/html": [
       "<html>\\(\\displaystyle \\left[\\frac{1}{2}, -\\frac{1}{2} \\, \\sqrt{\\frac{\\kappa^{2} {\\left(\\frac{2 \\, m}{r} - 1\\right)}}{r^{2}} + 1}, 0, -\\frac{\\kappa^{2}}{r^{2}}\\right]\\)</html>"
      ],
      "text/latex": [
       "$\\displaystyle \\left[\\frac{1}{2}, -\\frac{1}{2} \\, \\sqrt{\\frac{\\kappa^{2} {\\left(\\frac{2 \\, m}{r} - 1\\right)}}{r^{2}} + 1}, 0, -\\frac{\\kappa^{2}}{r^{2}}\\right]$"
      ],
      "text/plain": [
       "[1/2, -1/2*sqrt(kappa^2*(2*m/r - 1)/r^2 + 1), 0, -kappa^2/r^2]"
      ]
     },
     "execution_count": 191,
     "metadata": {},
     "output_type": "execute_result"
    }
   ],
   "source": [
    "N = M.vector_field(name='N')\n",
    "N[:] = [1/2, -(1/2)*sqrt(1 - f*kap^2/r^2), 0, -kap^2/r^2]\n",
    "N[:]"
   ]
  },
  {
   "cell_type": "code",
   "execution_count": null,
   "id": "4800c052",
   "metadata": {},
   "outputs": [],
   "source": []
  }
 ],
 "metadata": {
  "kernelspec": {
   "display_name": "SageMath 9.7",
   "language": "sage",
   "name": "sagemath"
  },
  "language_info": {
   "codemirror_mode": {
    "name": "ipython",
    "version": 3
   },
   "file_extension": ".py",
   "mimetype": "text/x-python",
   "name": "python",
   "nbconvert_exporter": "python",
   "pygments_lexer": "ipython3",
   "version": "3.8.10"
  }
 },
 "nbformat": 4,
 "nbformat_minor": 5
}
