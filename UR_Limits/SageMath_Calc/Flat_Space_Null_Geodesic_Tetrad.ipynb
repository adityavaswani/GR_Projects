{
 "cells": [
  {
   "cell_type": "markdown",
   "id": "2a3bfc88",
   "metadata": {},
   "source": [
    "In this file, we compute the quasi-null parallel-propagated tetrad along the null geodesic (this is a companion to the file ``Flat_SpacePL_Generic_Geodesics'', where we saw that the tangent to the affinely parametrised null geodesic (reference geodesic for the ultrarelativistic family in the context of that computation) had the form $\\dot{z}^a = \\bigg ( \\frac{1}{m}, \\frac{ \\lvert \\sin \\theta \\rvert }{m}, \\frac{\\cos \\theta \\lvert \\sin \\theta \\rvert}{m r \\sin \\theta}, 0 \\bigg )$"
   ]
  },
  {
   "cell_type": "code",
   "execution_count": 1,
   "id": "c8463fef",
   "metadata": {},
   "outputs": [],
   "source": [
    "%display latex"
   ]
  },
  {
   "cell_type": "code",
   "execution_count": 2,
   "id": "14130cab",
   "metadata": {},
   "outputs": [
    {
     "data": {
      "text/html": [
       "<html>\\(\\displaystyle \\left(\\begin{array}{rrrr}\n",
       "-1 & 0 & 0 & 0 \\\\\n",
       "0 & 1 & 0 & 0 \\\\\n",
       "0 & 0 & r^{2} & 0 \\\\\n",
       "0 & 0 & 0 & r^{2} \\sin\\left({\\theta}\\right)^{2}\n",
       "\\end{array}\\right)\\)</html>"
      ],
      "text/latex": [
       "$\\displaystyle \\left(\\begin{array}{rrrr}\n",
       "-1 & 0 & 0 & 0 \\\\\n",
       "0 & 1 & 0 & 0 \\\\\n",
       "0 & 0 & r^{2} & 0 \\\\\n",
       "0 & 0 & 0 & r^{2} \\sin\\left({\\theta}\\right)^{2}\n",
       "\\end{array}\\right)$"
      ],
      "text/plain": [
       "[           -1             0             0             0]\n",
       "[            0             1             0             0]\n",
       "[            0             0           r^2             0]\n",
       "[            0             0             0 r^2*sin(th)^2]"
      ]
     },
     "execution_count": 2,
     "metadata": {},
     "output_type": "execute_result"
    }
   ],
   "source": [
    "M = Manifold(4, 'M', structure='Lorentzian')\n",
    "X.<t, r, th, ph> = M.chart(r't:(0,+oo) r:(-oo,+oo) th:(0,pi):\\theta ph:(0,2*pi):\\phi')\n",
    "g = M.metric('g')\n",
    "g[0, 0], g[1, 1], g[2, 2], g[3, 3] = -1, 1, r^2, r^2*sin(th)^2\n",
    "g[:]"
   ]
  },
  {
   "cell_type": "code",
   "execution_count": 3,
   "id": "f5124708",
   "metadata": {},
   "outputs": [
    {
     "data": {
      "text/html": [
       "<html>\\(\\displaystyle \\left[\\left[\\left[0, 0, 0, 0\\right], \\left[0, 0, 0, 0\\right], \\left[0, 0, 0, 0\\right], \\left[0, 0, 0, 0\\right]\\right], \\left[\\left[0, 0, 0, 0\\right], \\left[0, 0, 0, 0\\right], \\left[0, 0, -r, 0\\right], \\left[0, 0, 0, -r \\sin\\left({\\theta}\\right)^{2}\\right]\\right], \\left[\\left[0, 0, 0, 0\\right], \\left[0, 0, \\frac{1}{r}, 0\\right], \\left[0, \\frac{1}{r}, 0, 0\\right], \\left[0, 0, 0, -\\cos\\left({\\theta}\\right) \\sin\\left({\\theta}\\right)\\right]\\right], \\left[\\left[0, 0, 0, 0\\right], \\left[0, 0, 0, \\frac{1}{r}\\right], \\left[0, 0, 0, \\frac{\\cos\\left({\\theta}\\right)}{\\sin\\left({\\theta}\\right)}\\right], \\left[0, \\frac{1}{r}, \\frac{\\cos\\left({\\theta}\\right)}{\\sin\\left({\\theta}\\right)}, 0\\right]\\right]\\right]\\)</html>"
      ],
      "text/latex": [
       "$\\displaystyle \\left[\\left[\\left[0, 0, 0, 0\\right], \\left[0, 0, 0, 0\\right], \\left[0, 0, 0, 0\\right], \\left[0, 0, 0, 0\\right]\\right], \\left[\\left[0, 0, 0, 0\\right], \\left[0, 0, 0, 0\\right], \\left[0, 0, -r, 0\\right], \\left[0, 0, 0, -r \\sin\\left({\\theta}\\right)^{2}\\right]\\right], \\left[\\left[0, 0, 0, 0\\right], \\left[0, 0, \\frac{1}{r}, 0\\right], \\left[0, \\frac{1}{r}, 0, 0\\right], \\left[0, 0, 0, -\\cos\\left({\\theta}\\right) \\sin\\left({\\theta}\\right)\\right]\\right], \\left[\\left[0, 0, 0, 0\\right], \\left[0, 0, 0, \\frac{1}{r}\\right], \\left[0, 0, 0, \\frac{\\cos\\left({\\theta}\\right)}{\\sin\\left({\\theta}\\right)}\\right], \\left[0, \\frac{1}{r}, \\frac{\\cos\\left({\\theta}\\right)}{\\sin\\left({\\theta}\\right)}, 0\\right]\\right]\\right]$"
      ],
      "text/plain": [
       "[[[0, 0, 0, 0], [0, 0, 0, 0], [0, 0, 0, 0], [0, 0, 0, 0]],\n",
       " [[0, 0, 0, 0], [0, 0, 0, 0], [0, 0, -r, 0], [0, 0, 0, -r*sin(th)^2]],\n",
       " [[0, 0, 0, 0], [0, 0, 1/r, 0], [0, 1/r, 0, 0], [0, 0, 0, -cos(th)*sin(th)]],\n",
       " [[0, 0, 0, 0],\n",
       "  [0, 0, 0, 1/r],\n",
       "  [0, 0, 0, cos(th)/sin(th)],\n",
       "  [0, 1/r, cos(th)/sin(th), 0]]]"
      ]
     },
     "execution_count": 3,
     "metadata": {},
     "output_type": "execute_result"
    }
   ],
   "source": [
    "Gam = g.christoffel_symbols()\n",
    "nab = M.affine_connection(name=r'\\nabla')\n",
    "nab[:] = Gam[:]\n",
    "nab[:]"
   ]
  },
  {
   "cell_type": "code",
   "execution_count": 4,
   "id": "b2abaf87",
   "metadata": {},
   "outputs": [
    {
     "data": {
      "text/html": [
       "<html>\\(\\displaystyle \\left(m, l, M_{z}, \\Phi_{0}, \\Theta_{0}, s, \\epsilon\\right)\\)</html>"
      ],
      "text/latex": [
       "$\\displaystyle \\left(m, l, M_{z}, \\Phi_{0}, \\Theta_{0}, s, \\epsilon\\right)$"
      ],
      "text/plain": [
       "(m, l, M_z, Phi_0, Theta_0, s, epsilon)"
      ]
     },
     "execution_count": 4,
     "metadata": {},
     "output_type": "execute_result"
    }
   ],
   "source": [
    "m, l, Mz, ph_init, th_init, s, eps = var('m, l, M_z, Phi_0, Theta_0, s, epsilon')\n",
    "assume(m>0)\n",
    "assume(l>=0)\n",
    "assume(Mz>=0)\n",
    "assume(ph_init>=0)\n",
    "assume(th_init>=0)\n",
    "assume(s>=0)\n",
    "assume(eps>=0)\n",
    "m, l, Mz, ph_init, th_init, s, eps"
   ]
  },
  {
   "cell_type": "code",
   "execution_count": 28,
   "id": "ea17412b",
   "metadata": {},
   "outputs": [
    {
     "data": {
      "text/html": [
       "<html>\\(\\displaystyle \\left(\\left[\\frac{1}{m}, \\frac{\\sin\\left({\\theta}\\right)}{m}, \\frac{\\cos\\left({\\theta}\\right)}{m r}, 0\\right], \\left[0, 0, 0, \\frac{1}{r \\sin\\left({\\theta}\\right)}\\right]\\right)\\)</html>"
      ],
      "text/latex": [
       "$\\displaystyle \\left(\\left[\\frac{1}{m}, \\frac{\\sin\\left({\\theta}\\right)}{m}, \\frac{\\cos\\left({\\theta}\\right)}{m r}, 0\\right], \\left[0, 0, 0, \\frac{1}{r \\sin\\left({\\theta}\\right)}\\right]\\right)$"
      ],
      "text/plain": [
       "([1/m, sin(th)/m, cos(th)/(m*r), 0], [0, 0, 0, 1/(r*sin(th))])"
      ]
     },
     "execution_count": 28,
     "metadata": {},
     "output_type": "execute_result"
    }
   ],
   "source": [
    "zdot = M.vector_field(r'\\dot{z}')\n",
    "e2 = M.vector_field('e_2')\n",
    "zdot[:] = [1/m, sin(th)/m, cos(th)/(m*r), 0]\n",
    "e2[:] = [0, 0, 0, 1/(r*sin(th))]\n",
    "zdot[:], e2[:]"
   ]
  },
  {
   "cell_type": "code",
   "execution_count": 29,
   "id": "ef333b04",
   "metadata": {},
   "outputs": [
    {
     "data": {
      "text/html": [
       "<html>\\(\\displaystyle \\left(0, 1, 0, \\left[0, 0, 0, 0\\right], \\left[0, 0, 0, 0\\right]\\right)\\)</html>"
      ],
      "text/latex": [
       "$\\displaystyle \\left(0, 1, 0, \\left[0, 0, 0, 0\\right], \\left[0, 0, 0, 0\\right]\\right)$"
      ],
      "text/plain": [
       "(0, 1, 0, [0, 0, 0, 0], [0, 0, 0, 0])"
      ]
     },
     "execution_count": 29,
     "metadata": {},
     "output_type": "execute_result"
    }
   ],
   "source": [
    "zdot2 = g(zdot, zdot).expr()\n",
    "e2e2 = g(e2, e2).expr()\n",
    "zdote2 = g(zdot, e2).expr()\n",
    "acc_zdot = nab(zdot).contract(zdot)\n",
    "acc_e2 = nab(e2).contract(zdot)\n",
    "zdot2, e2e2, zdote2, acc_zdot[:], acc_e2[:]"
   ]
  },
  {
   "cell_type": "markdown",
   "id": "60c55843",
   "metadata": {},
   "source": [
    "Clearly, $e_2 = (0, 0, 0, 1/r \\sin \\theta)$ satisfies the inner product relations with $\\dot{z}$ and is parallel transported along the null geodesic."
   ]
  },
  {
   "cell_type": "code",
   "execution_count": 30,
   "id": "79c0649f",
   "metadata": {},
   "outputs": [
    {
     "data": {
      "text/html": [
       "<html>\\(\\displaystyle \\left(\\left[a_{n}, b_{n}, c_{n}, 0\\right], \\left[a_{1}, b_{1}, c_{1}, 0\\right]\\right)\\)</html>"
      ],
      "text/latex": [
       "$\\displaystyle \\left(\\left[a_{n}, b_{n}, c_{n}, 0\\right], \\left[a_{1}, b_{1}, c_{1}, 0\\right]\\right)$"
      ],
      "text/plain": [
       "([a_n, b_n, c_n, 0], [a_1, b_1, c_1, 0])"
      ]
     },
     "execution_count": 30,
     "metadata": {},
     "output_type": "execute_result"
    }
   ],
   "source": [
    "n = M.vector_field('n')\n",
    "e1 = M.vector_field('e_1')\n",
    "an , bn, cn, a1, b1, c1 = var('a_n, b_n, c_n, a_1, b_1, c_1')\n",
    "n[:] = [an, bn, cn, 0]\n",
    "e1[:] = [a1, b1, c1, 0]\n",
    "n[:], e1[:]"
   ]
  },
  {
   "cell_type": "code",
   "execution_count": 33,
   "id": "e1ccead8",
   "metadata": {},
   "outputs": [
    {
     "data": {
      "text/html": [
       "<html>\\(\\displaystyle \\left(\\frac{c_{n} r \\cos\\left({\\theta}\\right) + b_{n} \\sin\\left({\\theta}\\right) - a_{n}}{m}, \\frac{c_{1} r \\cos\\left({\\theta}\\right) + b_{1} \\sin\\left({\\theta}\\right) - a_{1}}{m}, c_{n}^{2} r^{2} - a_{n}^{2} + b_{n}^{2}, c_{1} c_{n} r^{2} - a_{1} a_{n} + b_{1} b_{n}, c_{1}^{2} r^{2} - a_{1}^{2} + b_{1}^{2}\\right)\\)</html>"
      ],
      "text/latex": [
       "$\\displaystyle \\left(\\frac{c_{n} r \\cos\\left({\\theta}\\right) + b_{n} \\sin\\left({\\theta}\\right) - a_{n}}{m}, \\frac{c_{1} r \\cos\\left({\\theta}\\right) + b_{1} \\sin\\left({\\theta}\\right) - a_{1}}{m}, c_{n}^{2} r^{2} - a_{n}^{2} + b_{n}^{2}, c_{1} c_{n} r^{2} - a_{1} a_{n} + b_{1} b_{n}, c_{1}^{2} r^{2} - a_{1}^{2} + b_{1}^{2}\\right)$"
      ],
      "text/plain": [
       "((c_n*r*cos(th) + b_n*sin(th) - a_n)/m,\n",
       " (c_1*r*cos(th) + b_1*sin(th) - a_1)/m,\n",
       " c_n^2*r^2 - a_n^2 + b_n^2,\n",
       " c_1*c_n*r^2 - a_1*a_n + b_1*b_n,\n",
       " c_1^2*r^2 - a_1^2 + b_1^2)"
      ]
     },
     "execution_count": 33,
     "metadata": {},
     "output_type": "execute_result"
    }
   ],
   "source": [
    "zdotn = g(zdot, n).expr()\n",
    "zdote1 = g(zdot, e1).expr()\n",
    "n2 = g(n, n).expr()\n",
    "ne1 = g(n, e1).expr()\n",
    "e1e1 = g(e1, e1).expr()\n",
    "zdotn, zdote1, n2, ne1, e1e1"
   ]
  },
  {
   "cell_type": "code",
   "execution_count": 35,
   "id": "15c21d8a",
   "metadata": {},
   "outputs": [
    {
     "data": {
      "text/html": [
       "<html>\\(\\displaystyle \\left(\\frac{c_{n} r \\cos\\left({\\theta}\\right) + b_{n} \\sin\\left({\\theta}\\right) - a_{n}}{m} = \\left(-1\\right), \\frac{c_{1} r \\cos\\left({\\theta}\\right) + b_{1} \\sin\\left({\\theta}\\right) - a_{1}}{m} = 0, \\frac{c_{2} r \\cos\\left({\\theta}\\right) + b_{2} \\sin\\left({\\theta}\\right) - a_{2}}{m} = 0, c_{n}^{2} r^{2} - a_{n}^{2} + b_{n}^{2} = 0, c_{1} c_{n} r^{2} - a_{1} a_{n} + b_{1} b_{n} = 0, c_{1}^{2} r^{2} - a_{1}^{2} + b_{1}^{2} = 1\\right)\\)</html>"
      ],
      "text/latex": [
       "$\\displaystyle \\left(\\frac{c_{n} r \\cos\\left({\\theta}\\right) + b_{n} \\sin\\left({\\theta}\\right) - a_{n}}{m} = \\left(-1\\right), \\frac{c_{1} r \\cos\\left({\\theta}\\right) + b_{1} \\sin\\left({\\theta}\\right) - a_{1}}{m} = 0, \\frac{c_{2} r \\cos\\left({\\theta}\\right) + b_{2} \\sin\\left({\\theta}\\right) - a_{2}}{m} = 0, c_{n}^{2} r^{2} - a_{n}^{2} + b_{n}^{2} = 0, c_{1} c_{n} r^{2} - a_{1} a_{n} + b_{1} b_{n} = 0, c_{1}^{2} r^{2} - a_{1}^{2} + b_{1}^{2} = 1\\right)$"
      ],
      "text/plain": [
       "((c_n*r*cos(th) + b_n*sin(th) - a_n)/m == -1,\n",
       " (c_1*r*cos(th) + b_1*sin(th) - a_1)/m == 0,\n",
       " (c_2*r*cos(th) + b_2*sin(th) - a_2)/m == 0,\n",
       " c_n^2*r^2 - a_n^2 + b_n^2 == 0,\n",
       " c_1*c_n*r^2 - a_1*a_n + b_1*b_n == 0,\n",
       " c_1^2*r^2 - a_1^2 + b_1^2 == 1)"
      ]
     },
     "execution_count": 35,
     "metadata": {},
     "output_type": "execute_result"
    }
   ],
   "source": [
    "eq_zdot_n = zdotn == -1\n",
    "eq_zdot_e1 = zdote1 == 0\n",
    "eq_n2 = n2 == 0\n",
    "eq_n_e1 = ne1 == 0\n",
    "eq_e1_e1 = e1e1 == 1\n",
    "eq_zdot_n, eq_zdot_e1, eq_zdot_e2, eq_n2, eq_n_e1, eq_e1_e1"
   ]
  },
  {
   "cell_type": "code",
   "execution_count": 36,
   "id": "2aa4e6f6",
   "metadata": {},
   "outputs": [
    {
     "data": {
      "text/html": [
       "<html>\\(\\displaystyle \\left[\\left[a_{n} = r_{1}, b_{n} = -\\frac{{\\left(m - r_{1}\\right)} \\sin\\left({\\theta}\\right) + \\sqrt{r_{1}^{2} \\cos\\left({\\theta}\\right)^{2} + r_{1}^{2} \\sin\\left({\\theta}\\right)^{2} - m^{2} + 2 \\, m r_{1} - r_{1}^{2}} \\cos\\left({\\theta}\\right)}{\\cos\\left({\\theta}\\right)^{2} + \\sin\\left({\\theta}\\right)^{2}}, c_{n} = -\\frac{{\\left(m - r_{1}\\right)} \\cos\\left({\\theta}\\right) - \\sqrt{r_{1}^{2} \\cos\\left({\\theta}\\right)^{2} + r_{1}^{2} \\sin\\left({\\theta}\\right)^{2} - m^{2} + 2 \\, m r_{1} - r_{1}^{2}} \\sin\\left({\\theta}\\right)}{r \\cos\\left({\\theta}\\right)^{2} + r \\sin\\left({\\theta}\\right)^{2}}, a_{1} = \\frac{\\sqrt{r_{1}^{2} \\cos\\left({\\theta}\\right)^{2} + r_{1}^{2} \\sin\\left({\\theta}\\right)^{2} - m^{2} + 2 \\, m r_{1} - r_{1}^{2}}}{m}, b_{1} = -\\frac{r_{1} \\cos\\left({\\theta}\\right)^{3} + r_{1} \\cos\\left({\\theta}\\right) \\sin\\left({\\theta}\\right)^{2} + {\\left(m - r_{1}\\right)} \\cos\\left({\\theta}\\right) - \\sqrt{r_{1}^{2} \\cos\\left({\\theta}\\right)^{2} + r_{1}^{2} \\sin\\left({\\theta}\\right)^{2} - m^{2} + 2 \\, m r_{1} - r_{1}^{2}} \\sin\\left({\\theta}\\right)}{m \\cos\\left({\\theta}\\right)^{2} + m \\sin\\left({\\theta}\\right)^{2}}, c_{1} = \\frac{r_{1} \\sin\\left({\\theta}\\right)^{3} + {\\left(r_{1} \\cos\\left({\\theta}\\right)^{2} + m - r_{1}\\right)} \\sin\\left({\\theta}\\right) + \\sqrt{r_{1}^{2} \\cos\\left({\\theta}\\right)^{2} + r_{1}^{2} \\sin\\left({\\theta}\\right)^{2} - m^{2} + 2 \\, m r_{1} - r_{1}^{2}} \\cos\\left({\\theta}\\right)}{m r \\cos\\left({\\theta}\\right)^{2} + m r \\sin\\left({\\theta}\\right)^{2}}\\right], \\left[a_{n} = r_{2}, b_{n} = -\\frac{{\\left(m - r_{2}\\right)} \\sin\\left({\\theta}\\right) - \\sqrt{r_{2}^{2} \\cos\\left({\\theta}\\right)^{2} + r_{2}^{2} \\sin\\left({\\theta}\\right)^{2} - m^{2} + 2 \\, m r_{2} - r_{2}^{2}} \\cos\\left({\\theta}\\right)}{\\cos\\left({\\theta}\\right)^{2} + \\sin\\left({\\theta}\\right)^{2}}, c_{n} = -\\frac{{\\left(m - r_{2}\\right)} \\cos\\left({\\theta}\\right) + \\sqrt{r_{2}^{2} \\cos\\left({\\theta}\\right)^{2} + r_{2}^{2} \\sin\\left({\\theta}\\right)^{2} - m^{2} + 2 \\, m r_{2} - r_{2}^{2}} \\sin\\left({\\theta}\\right)}{r \\cos\\left({\\theta}\\right)^{2} + r \\sin\\left({\\theta}\\right)^{2}}, a_{1} = \\frac{\\sqrt{r_{2}^{2} \\cos\\left({\\theta}\\right)^{2} + r_{2}^{2} \\sin\\left({\\theta}\\right)^{2} - m^{2} + 2 \\, m r_{2} - r_{2}^{2}}}{m}, b_{1} = \\frac{r_{2} \\cos\\left({\\theta}\\right)^{3} + r_{2} \\cos\\left({\\theta}\\right) \\sin\\left({\\theta}\\right)^{2} + {\\left(m - r_{2}\\right)} \\cos\\left({\\theta}\\right) + \\sqrt{r_{2}^{2} \\cos\\left({\\theta}\\right)^{2} + r_{2}^{2} \\sin\\left({\\theta}\\right)^{2} - m^{2} + 2 \\, m r_{2} - r_{2}^{2}} \\sin\\left({\\theta}\\right)}{m \\cos\\left({\\theta}\\right)^{2} + m \\sin\\left({\\theta}\\right)^{2}}, c_{1} = -\\frac{r_{2} \\sin\\left({\\theta}\\right)^{3} + {\\left(r_{2} \\cos\\left({\\theta}\\right)^{2} + m - r_{2}\\right)} \\sin\\left({\\theta}\\right) - \\sqrt{r_{2}^{2} \\cos\\left({\\theta}\\right)^{2} + r_{2}^{2} \\sin\\left({\\theta}\\right)^{2} - m^{2} + 2 \\, m r_{2} - r_{2}^{2}} \\cos\\left({\\theta}\\right)}{m r \\cos\\left({\\theta}\\right)^{2} + m r \\sin\\left({\\theta}\\right)^{2}}\\right], \\left[a_{n} = r_{3}, b_{n} = -\\frac{{\\left(m - r_{3}\\right)} \\sin\\left({\\theta}\\right) - \\sqrt{r_{3}^{2} \\cos\\left({\\theta}\\right)^{2} + r_{3}^{2} \\sin\\left({\\theta}\\right)^{2} - m^{2} + 2 \\, m r_{3} - r_{3}^{2}} \\cos\\left({\\theta}\\right)}{\\cos\\left({\\theta}\\right)^{2} + \\sin\\left({\\theta}\\right)^{2}}, c_{n} = -\\frac{{\\left(m - r_{3}\\right)} \\cos\\left({\\theta}\\right) + \\sqrt{r_{3}^{2} \\cos\\left({\\theta}\\right)^{2} + r_{3}^{2} \\sin\\left({\\theta}\\right)^{2} - m^{2} + 2 \\, m r_{3} - r_{3}^{2}} \\sin\\left({\\theta}\\right)}{r \\cos\\left({\\theta}\\right)^{2} + r \\sin\\left({\\theta}\\right)^{2}}, a_{1} = -\\frac{\\sqrt{r_{3}^{2} \\cos\\left({\\theta}\\right)^{2} + r_{3}^{2} \\sin\\left({\\theta}\\right)^{2} - m^{2} + 2 \\, m r_{3} - r_{3}^{2}}}{m}, b_{1} = -\\frac{r_{3} \\cos\\left({\\theta}\\right)^{3} + r_{3} \\cos\\left({\\theta}\\right) \\sin\\left({\\theta}\\right)^{2} + {\\left(m - r_{3}\\right)} \\cos\\left({\\theta}\\right) + \\sqrt{r_{3}^{2} \\cos\\left({\\theta}\\right)^{2} + r_{3}^{2} \\sin\\left({\\theta}\\right)^{2} - m^{2} + 2 \\, m r_{3} - r_{3}^{2}} \\sin\\left({\\theta}\\right)}{m \\cos\\left({\\theta}\\right)^{2} + m \\sin\\left({\\theta}\\right)^{2}}, c_{1} = \\frac{r_{3} \\sin\\left({\\theta}\\right)^{3} + {\\left(r_{3} \\cos\\left({\\theta}\\right)^{2} + m - r_{3}\\right)} \\sin\\left({\\theta}\\right) - \\sqrt{r_{3}^{2} \\cos\\left({\\theta}\\right)^{2} + r_{3}^{2} \\sin\\left({\\theta}\\right)^{2} - m^{2} + 2 \\, m r_{3} - r_{3}^{2}} \\cos\\left({\\theta}\\right)}{m r \\cos\\left({\\theta}\\right)^{2} + m r \\sin\\left({\\theta}\\right)^{2}}\\right], \\left[a_{n} = r_{4}, b_{n} = -\\frac{{\\left(m - r_{4}\\right)} \\sin\\left({\\theta}\\right) + \\sqrt{r_{4}^{2} \\cos\\left({\\theta}\\right)^{2} + r_{4}^{2} \\sin\\left({\\theta}\\right)^{2} - m^{2} + 2 \\, m r_{4} - r_{4}^{2}} \\cos\\left({\\theta}\\right)}{\\cos\\left({\\theta}\\right)^{2} + \\sin\\left({\\theta}\\right)^{2}}, c_{n} = -\\frac{{\\left(m - r_{4}\\right)} \\cos\\left({\\theta}\\right) - \\sqrt{r_{4}^{2} \\cos\\left({\\theta}\\right)^{2} + r_{4}^{2} \\sin\\left({\\theta}\\right)^{2} - m^{2} + 2 \\, m r_{4} - r_{4}^{2}} \\sin\\left({\\theta}\\right)}{r \\cos\\left({\\theta}\\right)^{2} + r \\sin\\left({\\theta}\\right)^{2}}, a_{1} = -\\frac{\\sqrt{r_{4}^{2} \\cos\\left({\\theta}\\right)^{2} + r_{4}^{2} \\sin\\left({\\theta}\\right)^{2} - m^{2} + 2 \\, m r_{4} - r_{4}^{2}}}{m}, b_{1} = \\frac{r_{4} \\cos\\left({\\theta}\\right)^{3} + r_{4} \\cos\\left({\\theta}\\right) \\sin\\left({\\theta}\\right)^{2} + {\\left(m - r_{4}\\right)} \\cos\\left({\\theta}\\right) - \\sqrt{r_{4}^{2} \\cos\\left({\\theta}\\right)^{2} + r_{4}^{2} \\sin\\left({\\theta}\\right)^{2} - m^{2} + 2 \\, m r_{4} - r_{4}^{2}} \\sin\\left({\\theta}\\right)}{m \\cos\\left({\\theta}\\right)^{2} + m \\sin\\left({\\theta}\\right)^{2}}, c_{1} = -\\frac{r_{4} \\sin\\left({\\theta}\\right)^{3} + {\\left(r_{4} \\cos\\left({\\theta}\\right)^{2} + m - r_{4}\\right)} \\sin\\left({\\theta}\\right) + \\sqrt{r_{4}^{2} \\cos\\left({\\theta}\\right)^{2} + r_{4}^{2} \\sin\\left({\\theta}\\right)^{2} - m^{2} + 2 \\, m r_{4} - r_{4}^{2}} \\cos\\left({\\theta}\\right)}{m r \\cos\\left({\\theta}\\right)^{2} + m r \\sin\\left({\\theta}\\right)^{2}}\\right], \\left[a_{n} = -\\frac{m}{\\cos\\left({\\theta}\\right)^{2} + \\sin\\left({\\theta}\\right)^{2} - 1}, b_{n} = -\\frac{m \\cos\\left({\\theta}\\right)^{2} \\sin\\left({\\theta}\\right) + m \\sin\\left({\\theta}\\right)^{3} - \\sqrt{-\\cos\\left({\\theta}\\right)^{4} - \\sin\\left({\\theta}\\right)^{4} - {\\left(2 \\, \\cos\\left({\\theta}\\right)^{2} - 1\\right)} \\sin\\left({\\theta}\\right)^{2} + \\cos\\left({\\theta}\\right)^{2}} m \\cos\\left({\\theta}\\right)}{\\cos\\left({\\theta}\\right)^{4} + \\sin\\left({\\theta}\\right)^{4} + {\\left(2 \\, \\cos\\left({\\theta}\\right)^{2} - 1\\right)} \\sin\\left({\\theta}\\right)^{2} - \\cos\\left({\\theta}\\right)^{2}}, c_{n} = -\\frac{m \\cos\\left({\\theta}\\right)^{3} + m \\cos\\left({\\theta}\\right) \\sin\\left({\\theta}\\right)^{2} + \\sqrt{-\\cos\\left({\\theta}\\right)^{4} - \\sin\\left({\\theta}\\right)^{4} - {\\left(2 \\, \\cos\\left({\\theta}\\right)^{2} - 1\\right)} \\sin\\left({\\theta}\\right)^{2} + \\cos\\left({\\theta}\\right)^{2}} m \\sin\\left({\\theta}\\right)}{r \\cos\\left({\\theta}\\right)^{4} + r \\sin\\left({\\theta}\\right)^{4} - r \\cos\\left({\\theta}\\right)^{2} + {\\left(2 \\, r \\cos\\left({\\theta}\\right)^{2} - r\\right)} \\sin\\left({\\theta}\\right)^{2}}, a_{1} = \\frac{\\sqrt{-m^{2} + \\frac{m^{2} \\cos\\left({\\theta}\\right)^{2}}{{\\left(\\cos\\left({\\theta}\\right)^{2} + \\sin\\left({\\theta}\\right)^{2} - 1\\right)}^{2}} + \\frac{m^{2} \\sin\\left({\\theta}\\right)^{2}}{{\\left(\\cos\\left({\\theta}\\right)^{2} + \\sin\\left({\\theta}\\right)^{2} - 1\\right)}^{2}} - \\frac{2 \\, m^{2}}{\\cos\\left({\\theta}\\right)^{2} + \\sin\\left({\\theta}\\right)^{2} - 1} - \\frac{m^{2}}{{\\left(\\cos\\left({\\theta}\\right)^{2} + \\sin\\left({\\theta}\\right)^{2} - 1\\right)}^{2}}}}{m}, b_{1} = \\frac{\\frac{m \\cos\\left({\\theta}\\right)^{3}}{\\cos\\left({\\theta}\\right)^{2} + \\sin\\left({\\theta}\\right)^{2} - 1} + \\frac{m \\cos\\left({\\theta}\\right) \\sin\\left({\\theta}\\right)^{2}}{\\cos\\left({\\theta}\\right)^{2} + \\sin\\left({\\theta}\\right)^{2} - 1} - {\\left(m + \\frac{m}{\\cos\\left({\\theta}\\right)^{2} + \\sin\\left({\\theta}\\right)^{2} - 1}\\right)} \\cos\\left({\\theta}\\right) + \\sqrt{-m^{2} + \\frac{m^{2} \\cos\\left({\\theta}\\right)^{2}}{{\\left(\\cos\\left({\\theta}\\right)^{2} + \\sin\\left({\\theta}\\right)^{2} - 1\\right)}^{2}} + \\frac{m^{2} \\sin\\left({\\theta}\\right)^{2}}{{\\left(\\cos\\left({\\theta}\\right)^{2} + \\sin\\left({\\theta}\\right)^{2} - 1\\right)}^{2}} - \\frac{2 \\, m^{2}}{\\cos\\left({\\theta}\\right)^{2} + \\sin\\left({\\theta}\\right)^{2} - 1} - \\frac{m^{2}}{{\\left(\\cos\\left({\\theta}\\right)^{2} + \\sin\\left({\\theta}\\right)^{2} - 1\\right)}^{2}}} \\sin\\left({\\theta}\\right)}{m \\cos\\left({\\theta}\\right)^{2} + m \\sin\\left({\\theta}\\right)^{2}}, c_{1} = \\frac{\\sqrt{-\\frac{m^{2} \\cos\\left({\\theta}\\right)^{2} + m^{2} \\sin\\left({\\theta}\\right)^{2}}{\\cos\\left({\\theta}\\right)^{2} + \\sin\\left({\\theta}\\right)^{2} - 1}} \\cos\\left({\\theta}\\right)}{m r \\cos\\left({\\theta}\\right)^{2} + m r \\sin\\left({\\theta}\\right)^{2}}\\right], \\left[a_{n} = -\\frac{m}{\\cos\\left({\\theta}\\right)^{2} + \\sin\\left({\\theta}\\right)^{2} - 1}, b_{n} = -\\frac{m \\cos\\left({\\theta}\\right)^{2} \\sin\\left({\\theta}\\right) + m \\sin\\left({\\theta}\\right)^{3} + \\sqrt{-\\cos\\left({\\theta}\\right)^{4} - \\sin\\left({\\theta}\\right)^{4} - {\\left(2 \\, \\cos\\left({\\theta}\\right)^{2} - 1\\right)} \\sin\\left({\\theta}\\right)^{2} + \\cos\\left({\\theta}\\right)^{2}} m \\cos\\left({\\theta}\\right)}{\\cos\\left({\\theta}\\right)^{4} + \\sin\\left({\\theta}\\right)^{4} + {\\left(2 \\, \\cos\\left({\\theta}\\right)^{2} - 1\\right)} \\sin\\left({\\theta}\\right)^{2} - \\cos\\left({\\theta}\\right)^{2}}, c_{n} = -\\frac{m \\cos\\left({\\theta}\\right)^{3} + m \\cos\\left({\\theta}\\right) \\sin\\left({\\theta}\\right)^{2} - \\sqrt{-\\cos\\left({\\theta}\\right)^{4} - \\sin\\left({\\theta}\\right)^{4} - {\\left(2 \\, \\cos\\left({\\theta}\\right)^{2} - 1\\right)} \\sin\\left({\\theta}\\right)^{2} + \\cos\\left({\\theta}\\right)^{2}} m \\sin\\left({\\theta}\\right)}{r \\cos\\left({\\theta}\\right)^{4} + r \\sin\\left({\\theta}\\right)^{4} - r \\cos\\left({\\theta}\\right)^{2} + {\\left(2 \\, r \\cos\\left({\\theta}\\right)^{2} - r\\right)} \\sin\\left({\\theta}\\right)^{2}}, a_{1} = \\frac{\\sqrt{-m^{2} + \\frac{m^{2} \\cos\\left({\\theta}\\right)^{2}}{{\\left(\\cos\\left({\\theta}\\right)^{2} + \\sin\\left({\\theta}\\right)^{2} - 1\\right)}^{2}} + \\frac{m^{2} \\sin\\left({\\theta}\\right)^{2}}{{\\left(\\cos\\left({\\theta}\\right)^{2} + \\sin\\left({\\theta}\\right)^{2} - 1\\right)}^{2}} - \\frac{2 \\, m^{2}}{\\cos\\left({\\theta}\\right)^{2} + \\sin\\left({\\theta}\\right)^{2} - 1} - \\frac{m^{2}}{{\\left(\\cos\\left({\\theta}\\right)^{2} + \\sin\\left({\\theta}\\right)^{2} - 1\\right)}^{2}}}}{m}, b_{1} = \\frac{\\frac{m \\cos\\left({\\theta}\\right)^{3}}{\\cos\\left({\\theta}\\right)^{2} + \\sin\\left({\\theta}\\right)^{2} - 1} + \\frac{m \\cos\\left({\\theta}\\right) \\sin\\left({\\theta}\\right)^{2}}{\\cos\\left({\\theta}\\right)^{2} + \\sin\\left({\\theta}\\right)^{2} - 1} - {\\left(m + \\frac{m}{\\cos\\left({\\theta}\\right)^{2} + \\sin\\left({\\theta}\\right)^{2} - 1}\\right)} \\cos\\left({\\theta}\\right) + \\sqrt{-m^{2} + \\frac{m^{2} \\cos\\left({\\theta}\\right)^{2}}{{\\left(\\cos\\left({\\theta}\\right)^{2} + \\sin\\left({\\theta}\\right)^{2} - 1\\right)}^{2}} + \\frac{m^{2} \\sin\\left({\\theta}\\right)^{2}}{{\\left(\\cos\\left({\\theta}\\right)^{2} + \\sin\\left({\\theta}\\right)^{2} - 1\\right)}^{2}} - \\frac{2 \\, m^{2}}{\\cos\\left({\\theta}\\right)^{2} + \\sin\\left({\\theta}\\right)^{2} - 1} - \\frac{m^{2}}{{\\left(\\cos\\left({\\theta}\\right)^{2} + \\sin\\left({\\theta}\\right)^{2} - 1\\right)}^{2}}} \\sin\\left({\\theta}\\right)}{m \\cos\\left({\\theta}\\right)^{2} + m \\sin\\left({\\theta}\\right)^{2}}, c_{1} = \\frac{\\sqrt{-\\frac{m^{2} \\cos\\left({\\theta}\\right)^{2} + m^{2} \\sin\\left({\\theta}\\right)^{2}}{\\cos\\left({\\theta}\\right)^{2} + \\sin\\left({\\theta}\\right)^{2} - 1}} \\cos\\left({\\theta}\\right)}{m r \\cos\\left({\\theta}\\right)^{2} + m r \\sin\\left({\\theta}\\right)^{2}}\\right], \\left[a_{n} = -\\frac{m}{\\cos\\left({\\theta}\\right)^{2} + \\sin\\left({\\theta}\\right)^{2} - 1}, b_{n} = -\\frac{m \\cos\\left({\\theta}\\right)^{2} \\sin\\left({\\theta}\\right) + m \\sin\\left({\\theta}\\right)^{3} - \\sqrt{-\\cos\\left({\\theta}\\right)^{4} - \\sin\\left({\\theta}\\right)^{4} - {\\left(2 \\, \\cos\\left({\\theta}\\right)^{2} - 1\\right)} \\sin\\left({\\theta}\\right)^{2} + \\cos\\left({\\theta}\\right)^{2}} m \\cos\\left({\\theta}\\right)}{\\cos\\left({\\theta}\\right)^{4} + \\sin\\left({\\theta}\\right)^{4} + {\\left(2 \\, \\cos\\left({\\theta}\\right)^{2} - 1\\right)} \\sin\\left({\\theta}\\right)^{2} - \\cos\\left({\\theta}\\right)^{2}}, c_{n} = -\\frac{m \\cos\\left({\\theta}\\right)^{3} + m \\cos\\left({\\theta}\\right) \\sin\\left({\\theta}\\right)^{2} + \\sqrt{-\\cos\\left({\\theta}\\right)^{4} - \\sin\\left({\\theta}\\right)^{4} - {\\left(2 \\, \\cos\\left({\\theta}\\right)^{2} - 1\\right)} \\sin\\left({\\theta}\\right)^{2} + \\cos\\left({\\theta}\\right)^{2}} m \\sin\\left({\\theta}\\right)}{r \\cos\\left({\\theta}\\right)^{4} + r \\sin\\left({\\theta}\\right)^{4} - r \\cos\\left({\\theta}\\right)^{2} + {\\left(2 \\, r \\cos\\left({\\theta}\\right)^{2} - r\\right)} \\sin\\left({\\theta}\\right)^{2}}, a_{1} = \\frac{\\sqrt{-m^{2} + \\frac{m^{2} \\cos\\left({\\theta}\\right)^{2}}{{\\left(\\cos\\left({\\theta}\\right)^{2} + \\sin\\left({\\theta}\\right)^{2} - 1\\right)}^{2}} + \\frac{m^{2} \\sin\\left({\\theta}\\right)^{2}}{{\\left(\\cos\\left({\\theta}\\right)^{2} + \\sin\\left({\\theta}\\right)^{2} - 1\\right)}^{2}} - \\frac{2 \\, m^{2}}{\\cos\\left({\\theta}\\right)^{2} + \\sin\\left({\\theta}\\right)^{2} - 1} - \\frac{m^{2}}{{\\left(\\cos\\left({\\theta}\\right)^{2} + \\sin\\left({\\theta}\\right)^{2} - 1\\right)}^{2}}}}{m}, b_{1} = -\\frac{\\frac{m \\cos\\left({\\theta}\\right)^{3}}{\\cos\\left({\\theta}\\right)^{2} + \\sin\\left({\\theta}\\right)^{2} - 1} + \\frac{m \\cos\\left({\\theta}\\right) \\sin\\left({\\theta}\\right)^{2}}{\\cos\\left({\\theta}\\right)^{2} + \\sin\\left({\\theta}\\right)^{2} - 1} - {\\left(m + \\frac{m}{\\cos\\left({\\theta}\\right)^{2} + \\sin\\left({\\theta}\\right)^{2} - 1}\\right)} \\cos\\left({\\theta}\\right) - \\sqrt{-m^{2} + \\frac{m^{2} \\cos\\left({\\theta}\\right)^{2}}{{\\left(\\cos\\left({\\theta}\\right)^{2} + \\sin\\left({\\theta}\\right)^{2} - 1\\right)}^{2}} + \\frac{m^{2} \\sin\\left({\\theta}\\right)^{2}}{{\\left(\\cos\\left({\\theta}\\right)^{2} + \\sin\\left({\\theta}\\right)^{2} - 1\\right)}^{2}} - \\frac{2 \\, m^{2}}{\\cos\\left({\\theta}\\right)^{2} + \\sin\\left({\\theta}\\right)^{2} - 1} - \\frac{m^{2}}{{\\left(\\cos\\left({\\theta}\\right)^{2} + \\sin\\left({\\theta}\\right)^{2} - 1\\right)}^{2}}} \\sin\\left({\\theta}\\right)}{m \\cos\\left({\\theta}\\right)^{2} + m \\sin\\left({\\theta}\\right)^{2}}, c_{1} = \\frac{\\sqrt{-\\frac{m^{2} \\cos\\left({\\theta}\\right)^{2} + m^{2} \\sin\\left({\\theta}\\right)^{2}}{\\cos\\left({\\theta}\\right)^{2} + \\sin\\left({\\theta}\\right)^{2} - 1}} \\cos\\left({\\theta}\\right)}{m r \\cos\\left({\\theta}\\right)^{2} + m r \\sin\\left({\\theta}\\right)^{2}}\\right], \\left[a_{n} = -\\frac{m}{\\cos\\left({\\theta}\\right)^{2} + \\sin\\left({\\theta}\\right)^{2} - 1}, b_{n} = -\\frac{m \\cos\\left({\\theta}\\right)^{2} \\sin\\left({\\theta}\\right) + m \\sin\\left({\\theta}\\right)^{3} + \\sqrt{-\\cos\\left({\\theta}\\right)^{4} - \\sin\\left({\\theta}\\right)^{4} - {\\left(2 \\, \\cos\\left({\\theta}\\right)^{2} - 1\\right)} \\sin\\left({\\theta}\\right)^{2} + \\cos\\left({\\theta}\\right)^{2}} m \\cos\\left({\\theta}\\right)}{\\cos\\left({\\theta}\\right)^{4} + \\sin\\left({\\theta}\\right)^{4} + {\\left(2 \\, \\cos\\left({\\theta}\\right)^{2} - 1\\right)} \\sin\\left({\\theta}\\right)^{2} - \\cos\\left({\\theta}\\right)^{2}}, c_{n} = -\\frac{m \\cos\\left({\\theta}\\right)^{3} + m \\cos\\left({\\theta}\\right) \\sin\\left({\\theta}\\right)^{2} - \\sqrt{-\\cos\\left({\\theta}\\right)^{4} - \\sin\\left({\\theta}\\right)^{4} - {\\left(2 \\, \\cos\\left({\\theta}\\right)^{2} - 1\\right)} \\sin\\left({\\theta}\\right)^{2} + \\cos\\left({\\theta}\\right)^{2}} m \\sin\\left({\\theta}\\right)}{r \\cos\\left({\\theta}\\right)^{4} + r \\sin\\left({\\theta}\\right)^{4} - r \\cos\\left({\\theta}\\right)^{2} + {\\left(2 \\, r \\cos\\left({\\theta}\\right)^{2} - r\\right)} \\sin\\left({\\theta}\\right)^{2}}, a_{1} = \\frac{\\sqrt{-m^{2} + \\frac{m^{2} \\cos\\left({\\theta}\\right)^{2}}{{\\left(\\cos\\left({\\theta}\\right)^{2} + \\sin\\left({\\theta}\\right)^{2} - 1\\right)}^{2}} + \\frac{m^{2} \\sin\\left({\\theta}\\right)^{2}}{{\\left(\\cos\\left({\\theta}\\right)^{2} + \\sin\\left({\\theta}\\right)^{2} - 1\\right)}^{2}} - \\frac{2 \\, m^{2}}{\\cos\\left({\\theta}\\right)^{2} + \\sin\\left({\\theta}\\right)^{2} - 1} - \\frac{m^{2}}{{\\left(\\cos\\left({\\theta}\\right)^{2} + \\sin\\left({\\theta}\\right)^{2} - 1\\right)}^{2}}}}{m}, b_{1} = -\\frac{\\frac{m \\cos\\left({\\theta}\\right)^{3}}{\\cos\\left({\\theta}\\right)^{2} + \\sin\\left({\\theta}\\right)^{2} - 1} + \\frac{m \\cos\\left({\\theta}\\right) \\sin\\left({\\theta}\\right)^{2}}{\\cos\\left({\\theta}\\right)^{2} + \\sin\\left({\\theta}\\right)^{2} - 1} - {\\left(m + \\frac{m}{\\cos\\left({\\theta}\\right)^{2} + \\sin\\left({\\theta}\\right)^{2} - 1}\\right)} \\cos\\left({\\theta}\\right) - \\sqrt{-m^{2} + \\frac{m^{2} \\cos\\left({\\theta}\\right)^{2}}{{\\left(\\cos\\left({\\theta}\\right)^{2} + \\sin\\left({\\theta}\\right)^{2} - 1\\right)}^{2}} + \\frac{m^{2} \\sin\\left({\\theta}\\right)^{2}}{{\\left(\\cos\\left({\\theta}\\right)^{2} + \\sin\\left({\\theta}\\right)^{2} - 1\\right)}^{2}} - \\frac{2 \\, m^{2}}{\\cos\\left({\\theta}\\right)^{2} + \\sin\\left({\\theta}\\right)^{2} - 1} - \\frac{m^{2}}{{\\left(\\cos\\left({\\theta}\\right)^{2} + \\sin\\left({\\theta}\\right)^{2} - 1\\right)}^{2}}} \\sin\\left({\\theta}\\right)}{m \\cos\\left({\\theta}\\right)^{2} + m \\sin\\left({\\theta}\\right)^{2}}, c_{1} = \\frac{\\sqrt{-\\frac{m^{2} \\cos\\left({\\theta}\\right)^{2} + m^{2} \\sin\\left({\\theta}\\right)^{2}}{\\cos\\left({\\theta}\\right)^{2} + \\sin\\left({\\theta}\\right)^{2} - 1}} \\cos\\left({\\theta}\\right)}{m r \\cos\\left({\\theta}\\right)^{2} + m r \\sin\\left({\\theta}\\right)^{2}}\\right], \\left[a_{n} = -\\frac{m}{\\cos\\left({\\theta}\\right)^{2} + \\sin\\left({\\theta}\\right)^{2} - 1}, b_{n} = -\\frac{m \\cos\\left({\\theta}\\right)^{2} \\sin\\left({\\theta}\\right) + m \\sin\\left({\\theta}\\right)^{3} - \\sqrt{-\\cos\\left({\\theta}\\right)^{4} - \\sin\\left({\\theta}\\right)^{4} - {\\left(2 \\, \\cos\\left({\\theta}\\right)^{2} - 1\\right)} \\sin\\left({\\theta}\\right)^{2} + \\cos\\left({\\theta}\\right)^{2}} m \\cos\\left({\\theta}\\right)}{\\cos\\left({\\theta}\\right)^{4} + \\sin\\left({\\theta}\\right)^{4} + {\\left(2 \\, \\cos\\left({\\theta}\\right)^{2} - 1\\right)} \\sin\\left({\\theta}\\right)^{2} - \\cos\\left({\\theta}\\right)^{2}}, c_{n} = -\\frac{m \\cos\\left({\\theta}\\right)^{3} + m \\cos\\left({\\theta}\\right) \\sin\\left({\\theta}\\right)^{2} + \\sqrt{-\\cos\\left({\\theta}\\right)^{4} - \\sin\\left({\\theta}\\right)^{4} - {\\left(2 \\, \\cos\\left({\\theta}\\right)^{2} - 1\\right)} \\sin\\left({\\theta}\\right)^{2} + \\cos\\left({\\theta}\\right)^{2}} m \\sin\\left({\\theta}\\right)}{r \\cos\\left({\\theta}\\right)^{4} + r \\sin\\left({\\theta}\\right)^{4} - r \\cos\\left({\\theta}\\right)^{2} + {\\left(2 \\, r \\cos\\left({\\theta}\\right)^{2} - r\\right)} \\sin\\left({\\theta}\\right)^{2}}, a_{1} = -\\frac{\\sqrt{-m^{2} + \\frac{m^{2} \\cos\\left({\\theta}\\right)^{2}}{{\\left(\\cos\\left({\\theta}\\right)^{2} + \\sin\\left({\\theta}\\right)^{2} - 1\\right)}^{2}} + \\frac{m^{2} \\sin\\left({\\theta}\\right)^{2}}{{\\left(\\cos\\left({\\theta}\\right)^{2} + \\sin\\left({\\theta}\\right)^{2} - 1\\right)}^{2}} - \\frac{2 \\, m^{2}}{\\cos\\left({\\theta}\\right)^{2} + \\sin\\left({\\theta}\\right)^{2} - 1} - \\frac{m^{2}}{{\\left(\\cos\\left({\\theta}\\right)^{2} + \\sin\\left({\\theta}\\right)^{2} - 1\\right)}^{2}}}}{m}, b_{1} = \\frac{\\frac{m \\cos\\left({\\theta}\\right)^{3}}{\\cos\\left({\\theta}\\right)^{2} + \\sin\\left({\\theta}\\right)^{2} - 1} + \\frac{m \\cos\\left({\\theta}\\right) \\sin\\left({\\theta}\\right)^{2}}{\\cos\\left({\\theta}\\right)^{2} + \\sin\\left({\\theta}\\right)^{2} - 1} - {\\left(m + \\frac{m}{\\cos\\left({\\theta}\\right)^{2} + \\sin\\left({\\theta}\\right)^{2} - 1}\\right)} \\cos\\left({\\theta}\\right) - \\sqrt{-m^{2} + \\frac{m^{2} \\cos\\left({\\theta}\\right)^{2}}{{\\left(\\cos\\left({\\theta}\\right)^{2} + \\sin\\left({\\theta}\\right)^{2} - 1\\right)}^{2}} + \\frac{m^{2} \\sin\\left({\\theta}\\right)^{2}}{{\\left(\\cos\\left({\\theta}\\right)^{2} + \\sin\\left({\\theta}\\right)^{2} - 1\\right)}^{2}} - \\frac{2 \\, m^{2}}{\\cos\\left({\\theta}\\right)^{2} + \\sin\\left({\\theta}\\right)^{2} - 1} - \\frac{m^{2}}{{\\left(\\cos\\left({\\theta}\\right)^{2} + \\sin\\left({\\theta}\\right)^{2} - 1\\right)}^{2}}} \\sin\\left({\\theta}\\right)}{m \\cos\\left({\\theta}\\right)^{2} + m \\sin\\left({\\theta}\\right)^{2}}, c_{1} = -\\frac{\\sqrt{-\\frac{m^{2} \\cos\\left({\\theta}\\right)^{2} + m^{2} \\sin\\left({\\theta}\\right)^{2}}{\\cos\\left({\\theta}\\right)^{2} + \\sin\\left({\\theta}\\right)^{2} - 1}} \\cos\\left({\\theta}\\right)}{m r \\cos\\left({\\theta}\\right)^{2} + m r \\sin\\left({\\theta}\\right)^{2}}\\right], \\left[a_{n} = -\\frac{m}{\\cos\\left({\\theta}\\right)^{2} + \\sin\\left({\\theta}\\right)^{2} - 1}, b_{n} = -\\frac{m \\cos\\left({\\theta}\\right)^{2} \\sin\\left({\\theta}\\right) + m \\sin\\left({\\theta}\\right)^{3} + \\sqrt{-\\cos\\left({\\theta}\\right)^{4} - \\sin\\left({\\theta}\\right)^{4} - {\\left(2 \\, \\cos\\left({\\theta}\\right)^{2} - 1\\right)} \\sin\\left({\\theta}\\right)^{2} + \\cos\\left({\\theta}\\right)^{2}} m \\cos\\left({\\theta}\\right)}{\\cos\\left({\\theta}\\right)^{4} + \\sin\\left({\\theta}\\right)^{4} + {\\left(2 \\, \\cos\\left({\\theta}\\right)^{2} - 1\\right)} \\sin\\left({\\theta}\\right)^{2} - \\cos\\left({\\theta}\\right)^{2}}, c_{n} = -\\frac{m \\cos\\left({\\theta}\\right)^{3} + m \\cos\\left({\\theta}\\right) \\sin\\left({\\theta}\\right)^{2} - \\sqrt{-\\cos\\left({\\theta}\\right)^{4} - \\sin\\left({\\theta}\\right)^{4} - {\\left(2 \\, \\cos\\left({\\theta}\\right)^{2} - 1\\right)} \\sin\\left({\\theta}\\right)^{2} + \\cos\\left({\\theta}\\right)^{2}} m \\sin\\left({\\theta}\\right)}{r \\cos\\left({\\theta}\\right)^{4} + r \\sin\\left({\\theta}\\right)^{4} - r \\cos\\left({\\theta}\\right)^{2} + {\\left(2 \\, r \\cos\\left({\\theta}\\right)^{2} - r\\right)} \\sin\\left({\\theta}\\right)^{2}}, a_{1} = -\\frac{\\sqrt{-m^{2} + \\frac{m^{2} \\cos\\left({\\theta}\\right)^{2}}{{\\left(\\cos\\left({\\theta}\\right)^{2} + \\sin\\left({\\theta}\\right)^{2} - 1\\right)}^{2}} + \\frac{m^{2} \\sin\\left({\\theta}\\right)^{2}}{{\\left(\\cos\\left({\\theta}\\right)^{2} + \\sin\\left({\\theta}\\right)^{2} - 1\\right)}^{2}} - \\frac{2 \\, m^{2}}{\\cos\\left({\\theta}\\right)^{2} + \\sin\\left({\\theta}\\right)^{2} - 1} - \\frac{m^{2}}{{\\left(\\cos\\left({\\theta}\\right)^{2} + \\sin\\left({\\theta}\\right)^{2} - 1\\right)}^{2}}}}{m}, b_{1} = \\frac{\\frac{m \\cos\\left({\\theta}\\right)^{3}}{\\cos\\left({\\theta}\\right)^{2} + \\sin\\left({\\theta}\\right)^{2} - 1} + \\frac{m \\cos\\left({\\theta}\\right) \\sin\\left({\\theta}\\right)^{2}}{\\cos\\left({\\theta}\\right)^{2} + \\sin\\left({\\theta}\\right)^{2} - 1} - {\\left(m + \\frac{m}{\\cos\\left({\\theta}\\right)^{2} + \\sin\\left({\\theta}\\right)^{2} - 1}\\right)} \\cos\\left({\\theta}\\right) - \\sqrt{-m^{2} + \\frac{m^{2} \\cos\\left({\\theta}\\right)^{2}}{{\\left(\\cos\\left({\\theta}\\right)^{2} + \\sin\\left({\\theta}\\right)^{2} - 1\\right)}^{2}} + \\frac{m^{2} \\sin\\left({\\theta}\\right)^{2}}{{\\left(\\cos\\left({\\theta}\\right)^{2} + \\sin\\left({\\theta}\\right)^{2} - 1\\right)}^{2}} - \\frac{2 \\, m^{2}}{\\cos\\left({\\theta}\\right)^{2} + \\sin\\left({\\theta}\\right)^{2} - 1} - \\frac{m^{2}}{{\\left(\\cos\\left({\\theta}\\right)^{2} + \\sin\\left({\\theta}\\right)^{2} - 1\\right)}^{2}}} \\sin\\left({\\theta}\\right)}{m \\cos\\left({\\theta}\\right)^{2} + m \\sin\\left({\\theta}\\right)^{2}}, c_{1} = -\\frac{\\sqrt{-\\frac{m^{2} \\cos\\left({\\theta}\\right)^{2} + m^{2} \\sin\\left({\\theta}\\right)^{2}}{\\cos\\left({\\theta}\\right)^{2} + \\sin\\left({\\theta}\\right)^{2} - 1}} \\cos\\left({\\theta}\\right)}{m r \\cos\\left({\\theta}\\right)^{2} + m r \\sin\\left({\\theta}\\right)^{2}}\\right], \\left[a_{n} = -\\frac{m}{\\cos\\left({\\theta}\\right)^{2} + \\sin\\left({\\theta}\\right)^{2} - 1}, b_{n} = -\\frac{m \\cos\\left({\\theta}\\right)^{2} \\sin\\left({\\theta}\\right) + m \\sin\\left({\\theta}\\right)^{3} - \\sqrt{-\\cos\\left({\\theta}\\right)^{4} - \\sin\\left({\\theta}\\right)^{4} - {\\left(2 \\, \\cos\\left({\\theta}\\right)^{2} - 1\\right)} \\sin\\left({\\theta}\\right)^{2} + \\cos\\left({\\theta}\\right)^{2}} m \\cos\\left({\\theta}\\right)}{\\cos\\left({\\theta}\\right)^{4} + \\sin\\left({\\theta}\\right)^{4} + {\\left(2 \\, \\cos\\left({\\theta}\\right)^{2} - 1\\right)} \\sin\\left({\\theta}\\right)^{2} - \\cos\\left({\\theta}\\right)^{2}}, c_{n} = -\\frac{m \\cos\\left({\\theta}\\right)^{3} + m \\cos\\left({\\theta}\\right) \\sin\\left({\\theta}\\right)^{2} + \\sqrt{-\\cos\\left({\\theta}\\right)^{4} - \\sin\\left({\\theta}\\right)^{4} - {\\left(2 \\, \\cos\\left({\\theta}\\right)^{2} - 1\\right)} \\sin\\left({\\theta}\\right)^{2} + \\cos\\left({\\theta}\\right)^{2}} m \\sin\\left({\\theta}\\right)}{r \\cos\\left({\\theta}\\right)^{4} + r \\sin\\left({\\theta}\\right)^{4} - r \\cos\\left({\\theta}\\right)^{2} + {\\left(2 \\, r \\cos\\left({\\theta}\\right)^{2} - r\\right)} \\sin\\left({\\theta}\\right)^{2}}, a_{1} = -\\frac{\\sqrt{-m^{2} + \\frac{m^{2} \\cos\\left({\\theta}\\right)^{2}}{{\\left(\\cos\\left({\\theta}\\right)^{2} + \\sin\\left({\\theta}\\right)^{2} - 1\\right)}^{2}} + \\frac{m^{2} \\sin\\left({\\theta}\\right)^{2}}{{\\left(\\cos\\left({\\theta}\\right)^{2} + \\sin\\left({\\theta}\\right)^{2} - 1\\right)}^{2}} - \\frac{2 \\, m^{2}}{\\cos\\left({\\theta}\\right)^{2} + \\sin\\left({\\theta}\\right)^{2} - 1} - \\frac{m^{2}}{{\\left(\\cos\\left({\\theta}\\right)^{2} + \\sin\\left({\\theta}\\right)^{2} - 1\\right)}^{2}}}}{m}, b_{1} = -\\frac{\\frac{m \\cos\\left({\\theta}\\right)^{3}}{\\cos\\left({\\theta}\\right)^{2} + \\sin\\left({\\theta}\\right)^{2} - 1} + \\frac{m \\cos\\left({\\theta}\\right) \\sin\\left({\\theta}\\right)^{2}}{\\cos\\left({\\theta}\\right)^{2} + \\sin\\left({\\theta}\\right)^{2} - 1} - {\\left(m + \\frac{m}{\\cos\\left({\\theta}\\right)^{2} + \\sin\\left({\\theta}\\right)^{2} - 1}\\right)} \\cos\\left({\\theta}\\right) + \\sqrt{-m^{2} + \\frac{m^{2} \\cos\\left({\\theta}\\right)^{2}}{{\\left(\\cos\\left({\\theta}\\right)^{2} + \\sin\\left({\\theta}\\right)^{2} - 1\\right)}^{2}} + \\frac{m^{2} \\sin\\left({\\theta}\\right)^{2}}{{\\left(\\cos\\left({\\theta}\\right)^{2} + \\sin\\left({\\theta}\\right)^{2} - 1\\right)}^{2}} - \\frac{2 \\, m^{2}}{\\cos\\left({\\theta}\\right)^{2} + \\sin\\left({\\theta}\\right)^{2} - 1} - \\frac{m^{2}}{{\\left(\\cos\\left({\\theta}\\right)^{2} + \\sin\\left({\\theta}\\right)^{2} - 1\\right)}^{2}}} \\sin\\left({\\theta}\\right)}{m \\cos\\left({\\theta}\\right)^{2} + m \\sin\\left({\\theta}\\right)^{2}}, c_{1} = -\\frac{\\sqrt{-\\frac{m^{2} \\cos\\left({\\theta}\\right)^{2} + m^{2} \\sin\\left({\\theta}\\right)^{2}}{\\cos\\left({\\theta}\\right)^{2} + \\sin\\left({\\theta}\\right)^{2} - 1}} \\cos\\left({\\theta}\\right)}{m r \\cos\\left({\\theta}\\right)^{2} + m r \\sin\\left({\\theta}\\right)^{2}}\\right], \\left[a_{n} = -\\frac{m}{\\cos\\left({\\theta}\\right)^{2} + \\sin\\left({\\theta}\\right)^{2} - 1}, b_{n} = -\\frac{m \\cos\\left({\\theta}\\right)^{2} \\sin\\left({\\theta}\\right) + m \\sin\\left({\\theta}\\right)^{3} + \\sqrt{-\\cos\\left({\\theta}\\right)^{4} - \\sin\\left({\\theta}\\right)^{4} - {\\left(2 \\, \\cos\\left({\\theta}\\right)^{2} - 1\\right)} \\sin\\left({\\theta}\\right)^{2} + \\cos\\left({\\theta}\\right)^{2}} m \\cos\\left({\\theta}\\right)}{\\cos\\left({\\theta}\\right)^{4} + \\sin\\left({\\theta}\\right)^{4} + {\\left(2 \\, \\cos\\left({\\theta}\\right)^{2} - 1\\right)} \\sin\\left({\\theta}\\right)^{2} - \\cos\\left({\\theta}\\right)^{2}}, c_{n} = -\\frac{m \\cos\\left({\\theta}\\right)^{3} + m \\cos\\left({\\theta}\\right) \\sin\\left({\\theta}\\right)^{2} - \\sqrt{-\\cos\\left({\\theta}\\right)^{4} - \\sin\\left({\\theta}\\right)^{4} - {\\left(2 \\, \\cos\\left({\\theta}\\right)^{2} - 1\\right)} \\sin\\left({\\theta}\\right)^{2} + \\cos\\left({\\theta}\\right)^{2}} m \\sin\\left({\\theta}\\right)}{r \\cos\\left({\\theta}\\right)^{4} + r \\sin\\left({\\theta}\\right)^{4} - r \\cos\\left({\\theta}\\right)^{2} + {\\left(2 \\, r \\cos\\left({\\theta}\\right)^{2} - r\\right)} \\sin\\left({\\theta}\\right)^{2}}, a_{1} = -\\frac{\\sqrt{-m^{2} + \\frac{m^{2} \\cos\\left({\\theta}\\right)^{2}}{{\\left(\\cos\\left({\\theta}\\right)^{2} + \\sin\\left({\\theta}\\right)^{2} - 1\\right)}^{2}} + \\frac{m^{2} \\sin\\left({\\theta}\\right)^{2}}{{\\left(\\cos\\left({\\theta}\\right)^{2} + \\sin\\left({\\theta}\\right)^{2} - 1\\right)}^{2}} - \\frac{2 \\, m^{2}}{\\cos\\left({\\theta}\\right)^{2} + \\sin\\left({\\theta}\\right)^{2} - 1} - \\frac{m^{2}}{{\\left(\\cos\\left({\\theta}\\right)^{2} + \\sin\\left({\\theta}\\right)^{2} - 1\\right)}^{2}}}}{m}, b_{1} = -\\frac{\\frac{m \\cos\\left({\\theta}\\right)^{3}}{\\cos\\left({\\theta}\\right)^{2} + \\sin\\left({\\theta}\\right)^{2} - 1} + \\frac{m \\cos\\left({\\theta}\\right) \\sin\\left({\\theta}\\right)^{2}}{\\cos\\left({\\theta}\\right)^{2} + \\sin\\left({\\theta}\\right)^{2} - 1} - {\\left(m + \\frac{m}{\\cos\\left({\\theta}\\right)^{2} + \\sin\\left({\\theta}\\right)^{2} - 1}\\right)} \\cos\\left({\\theta}\\right) + \\sqrt{-m^{2} + \\frac{m^{2} \\cos\\left({\\theta}\\right)^{2}}{{\\left(\\cos\\left({\\theta}\\right)^{2} + \\sin\\left({\\theta}\\right)^{2} - 1\\right)}^{2}} + \\frac{m^{2} \\sin\\left({\\theta}\\right)^{2}}{{\\left(\\cos\\left({\\theta}\\right)^{2} + \\sin\\left({\\theta}\\right)^{2} - 1\\right)}^{2}} - \\frac{2 \\, m^{2}}{\\cos\\left({\\theta}\\right)^{2} + \\sin\\left({\\theta}\\right)^{2} - 1} - \\frac{m^{2}}{{\\left(\\cos\\left({\\theta}\\right)^{2} + \\sin\\left({\\theta}\\right)^{2} - 1\\right)}^{2}}} \\sin\\left({\\theta}\\right)}{m \\cos\\left({\\theta}\\right)^{2} + m \\sin\\left({\\theta}\\right)^{2}}, c_{1} = -\\frac{\\sqrt{-\\frac{m^{2} \\cos\\left({\\theta}\\right)^{2} + m^{2} \\sin\\left({\\theta}\\right)^{2}}{\\cos\\left({\\theta}\\right)^{2} + \\sin\\left({\\theta}\\right)^{2} - 1}} \\cos\\left({\\theta}\\right)}{m r \\cos\\left({\\theta}\\right)^{2} + m r \\sin\\left({\\theta}\\right)^{2}}\\right]\\right]\\)</html>"
      ],
      "text/latex": [
       "$\\displaystyle \\left[\\left[a_{n} = r_{1}, b_{n} = -\\frac{{\\left(m - r_{1}\\right)} \\sin\\left({\\theta}\\right) + \\sqrt{r_{1}^{2} \\cos\\left({\\theta}\\right)^{2} + r_{1}^{2} \\sin\\left({\\theta}\\right)^{2} - m^{2} + 2 \\, m r_{1} - r_{1}^{2}} \\cos\\left({\\theta}\\right)}{\\cos\\left({\\theta}\\right)^{2} + \\sin\\left({\\theta}\\right)^{2}}, c_{n} = -\\frac{{\\left(m - r_{1}\\right)} \\cos\\left({\\theta}\\right) - \\sqrt{r_{1}^{2} \\cos\\left({\\theta}\\right)^{2} + r_{1}^{2} \\sin\\left({\\theta}\\right)^{2} - m^{2} + 2 \\, m r_{1} - r_{1}^{2}} \\sin\\left({\\theta}\\right)}{r \\cos\\left({\\theta}\\right)^{2} + r \\sin\\left({\\theta}\\right)^{2}}, a_{1} = \\frac{\\sqrt{r_{1}^{2} \\cos\\left({\\theta}\\right)^{2} + r_{1}^{2} \\sin\\left({\\theta}\\right)^{2} - m^{2} + 2 \\, m r_{1} - r_{1}^{2}}}{m}, b_{1} = -\\frac{r_{1} \\cos\\left({\\theta}\\right)^{3} + r_{1} \\cos\\left({\\theta}\\right) \\sin\\left({\\theta}\\right)^{2} + {\\left(m - r_{1}\\right)} \\cos\\left({\\theta}\\right) - \\sqrt{r_{1}^{2} \\cos\\left({\\theta}\\right)^{2} + r_{1}^{2} \\sin\\left({\\theta}\\right)^{2} - m^{2} + 2 \\, m r_{1} - r_{1}^{2}} \\sin\\left({\\theta}\\right)}{m \\cos\\left({\\theta}\\right)^{2} + m \\sin\\left({\\theta}\\right)^{2}}, c_{1} = \\frac{r_{1} \\sin\\left({\\theta}\\right)^{3} + {\\left(r_{1} \\cos\\left({\\theta}\\right)^{2} + m - r_{1}\\right)} \\sin\\left({\\theta}\\right) + \\sqrt{r_{1}^{2} \\cos\\left({\\theta}\\right)^{2} + r_{1}^{2} \\sin\\left({\\theta}\\right)^{2} - m^{2} + 2 \\, m r_{1} - r_{1}^{2}} \\cos\\left({\\theta}\\right)}{m r \\cos\\left({\\theta}\\right)^{2} + m r \\sin\\left({\\theta}\\right)^{2}}\\right], \\left[a_{n} = r_{2}, b_{n} = -\\frac{{\\left(m - r_{2}\\right)} \\sin\\left({\\theta}\\right) - \\sqrt{r_{2}^{2} \\cos\\left({\\theta}\\right)^{2} + r_{2}^{2} \\sin\\left({\\theta}\\right)^{2} - m^{2} + 2 \\, m r_{2} - r_{2}^{2}} \\cos\\left({\\theta}\\right)}{\\cos\\left({\\theta}\\right)^{2} + \\sin\\left({\\theta}\\right)^{2}}, c_{n} = -\\frac{{\\left(m - r_{2}\\right)} \\cos\\left({\\theta}\\right) + \\sqrt{r_{2}^{2} \\cos\\left({\\theta}\\right)^{2} + r_{2}^{2} \\sin\\left({\\theta}\\right)^{2} - m^{2} + 2 \\, m r_{2} - r_{2}^{2}} \\sin\\left({\\theta}\\right)}{r \\cos\\left({\\theta}\\right)^{2} + r \\sin\\left({\\theta}\\right)^{2}}, a_{1} = \\frac{\\sqrt{r_{2}^{2} \\cos\\left({\\theta}\\right)^{2} + r_{2}^{2} \\sin\\left({\\theta}\\right)^{2} - m^{2} + 2 \\, m r_{2} - r_{2}^{2}}}{m}, b_{1} = \\frac{r_{2} \\cos\\left({\\theta}\\right)^{3} + r_{2} \\cos\\left({\\theta}\\right) \\sin\\left({\\theta}\\right)^{2} + {\\left(m - r_{2}\\right)} \\cos\\left({\\theta}\\right) + \\sqrt{r_{2}^{2} \\cos\\left({\\theta}\\right)^{2} + r_{2}^{2} \\sin\\left({\\theta}\\right)^{2} - m^{2} + 2 \\, m r_{2} - r_{2}^{2}} \\sin\\left({\\theta}\\right)}{m \\cos\\left({\\theta}\\right)^{2} + m \\sin\\left({\\theta}\\right)^{2}}, c_{1} = -\\frac{r_{2} \\sin\\left({\\theta}\\right)^{3} + {\\left(r_{2} \\cos\\left({\\theta}\\right)^{2} + m - r_{2}\\right)} \\sin\\left({\\theta}\\right) - \\sqrt{r_{2}^{2} \\cos\\left({\\theta}\\right)^{2} + r_{2}^{2} \\sin\\left({\\theta}\\right)^{2} - m^{2} + 2 \\, m r_{2} - r_{2}^{2}} \\cos\\left({\\theta}\\right)}{m r \\cos\\left({\\theta}\\right)^{2} + m r \\sin\\left({\\theta}\\right)^{2}}\\right], \\left[a_{n} = r_{3}, b_{n} = -\\frac{{\\left(m - r_{3}\\right)} \\sin\\left({\\theta}\\right) - \\sqrt{r_{3}^{2} \\cos\\left({\\theta}\\right)^{2} + r_{3}^{2} \\sin\\left({\\theta}\\right)^{2} - m^{2} + 2 \\, m r_{3} - r_{3}^{2}} \\cos\\left({\\theta}\\right)}{\\cos\\left({\\theta}\\right)^{2} + \\sin\\left({\\theta}\\right)^{2}}, c_{n} = -\\frac{{\\left(m - r_{3}\\right)} \\cos\\left({\\theta}\\right) + \\sqrt{r_{3}^{2} \\cos\\left({\\theta}\\right)^{2} + r_{3}^{2} \\sin\\left({\\theta}\\right)^{2} - m^{2} + 2 \\, m r_{3} - r_{3}^{2}} \\sin\\left({\\theta}\\right)}{r \\cos\\left({\\theta}\\right)^{2} + r \\sin\\left({\\theta}\\right)^{2}}, a_{1} = -\\frac{\\sqrt{r_{3}^{2} \\cos\\left({\\theta}\\right)^{2} + r_{3}^{2} \\sin\\left({\\theta}\\right)^{2} - m^{2} + 2 \\, m r_{3} - r_{3}^{2}}}{m}, b_{1} = -\\frac{r_{3} \\cos\\left({\\theta}\\right)^{3} + r_{3} \\cos\\left({\\theta}\\right) \\sin\\left({\\theta}\\right)^{2} + {\\left(m - r_{3}\\right)} \\cos\\left({\\theta}\\right) + \\sqrt{r_{3}^{2} \\cos\\left({\\theta}\\right)^{2} + r_{3}^{2} \\sin\\left({\\theta}\\right)^{2} - m^{2} + 2 \\, m r_{3} - r_{3}^{2}} \\sin\\left({\\theta}\\right)}{m \\cos\\left({\\theta}\\right)^{2} + m \\sin\\left({\\theta}\\right)^{2}}, c_{1} = \\frac{r_{3} \\sin\\left({\\theta}\\right)^{3} + {\\left(r_{3} \\cos\\left({\\theta}\\right)^{2} + m - r_{3}\\right)} \\sin\\left({\\theta}\\right) - \\sqrt{r_{3}^{2} \\cos\\left({\\theta}\\right)^{2} + r_{3}^{2} \\sin\\left({\\theta}\\right)^{2} - m^{2} + 2 \\, m r_{3} - r_{3}^{2}} \\cos\\left({\\theta}\\right)}{m r \\cos\\left({\\theta}\\right)^{2} + m r \\sin\\left({\\theta}\\right)^{2}}\\right], \\left[a_{n} = r_{4}, b_{n} = -\\frac{{\\left(m - r_{4}\\right)} \\sin\\left({\\theta}\\right) + \\sqrt{r_{4}^{2} \\cos\\left({\\theta}\\right)^{2} + r_{4}^{2} \\sin\\left({\\theta}\\right)^{2} - m^{2} + 2 \\, m r_{4} - r_{4}^{2}} \\cos\\left({\\theta}\\right)}{\\cos\\left({\\theta}\\right)^{2} + \\sin\\left({\\theta}\\right)^{2}}, c_{n} = -\\frac{{\\left(m - r_{4}\\right)} \\cos\\left({\\theta}\\right) - \\sqrt{r_{4}^{2} \\cos\\left({\\theta}\\right)^{2} + r_{4}^{2} \\sin\\left({\\theta}\\right)^{2} - m^{2} + 2 \\, m r_{4} - r_{4}^{2}} \\sin\\left({\\theta}\\right)}{r \\cos\\left({\\theta}\\right)^{2} + r \\sin\\left({\\theta}\\right)^{2}}, a_{1} = -\\frac{\\sqrt{r_{4}^{2} \\cos\\left({\\theta}\\right)^{2} + r_{4}^{2} \\sin\\left({\\theta}\\right)^{2} - m^{2} + 2 \\, m r_{4} - r_{4}^{2}}}{m}, b_{1} = \\frac{r_{4} \\cos\\left({\\theta}\\right)^{3} + r_{4} \\cos\\left({\\theta}\\right) \\sin\\left({\\theta}\\right)^{2} + {\\left(m - r_{4}\\right)} \\cos\\left({\\theta}\\right) - \\sqrt{r_{4}^{2} \\cos\\left({\\theta}\\right)^{2} + r_{4}^{2} \\sin\\left({\\theta}\\right)^{2} - m^{2} + 2 \\, m r_{4} - r_{4}^{2}} \\sin\\left({\\theta}\\right)}{m \\cos\\left({\\theta}\\right)^{2} + m \\sin\\left({\\theta}\\right)^{2}}, c_{1} = -\\frac{r_{4} \\sin\\left({\\theta}\\right)^{3} + {\\left(r_{4} \\cos\\left({\\theta}\\right)^{2} + m - r_{4}\\right)} \\sin\\left({\\theta}\\right) + \\sqrt{r_{4}^{2} \\cos\\left({\\theta}\\right)^{2} + r_{4}^{2} \\sin\\left({\\theta}\\right)^{2} - m^{2} + 2 \\, m r_{4} - r_{4}^{2}} \\cos\\left({\\theta}\\right)}{m r \\cos\\left({\\theta}\\right)^{2} + m r \\sin\\left({\\theta}\\right)^{2}}\\right], \\left[a_{n} = -\\frac{m}{\\cos\\left({\\theta}\\right)^{2} + \\sin\\left({\\theta}\\right)^{2} - 1}, b_{n} = -\\frac{m \\cos\\left({\\theta}\\right)^{2} \\sin\\left({\\theta}\\right) + m \\sin\\left({\\theta}\\right)^{3} - \\sqrt{-\\cos\\left({\\theta}\\right)^{4} - \\sin\\left({\\theta}\\right)^{4} - {\\left(2 \\, \\cos\\left({\\theta}\\right)^{2} - 1\\right)} \\sin\\left({\\theta}\\right)^{2} + \\cos\\left({\\theta}\\right)^{2}} m \\cos\\left({\\theta}\\right)}{\\cos\\left({\\theta}\\right)^{4} + \\sin\\left({\\theta}\\right)^{4} + {\\left(2 \\, \\cos\\left({\\theta}\\right)^{2} - 1\\right)} \\sin\\left({\\theta}\\right)^{2} - \\cos\\left({\\theta}\\right)^{2}}, c_{n} = -\\frac{m \\cos\\left({\\theta}\\right)^{3} + m \\cos\\left({\\theta}\\right) \\sin\\left({\\theta}\\right)^{2} + \\sqrt{-\\cos\\left({\\theta}\\right)^{4} - \\sin\\left({\\theta}\\right)^{4} - {\\left(2 \\, \\cos\\left({\\theta}\\right)^{2} - 1\\right)} \\sin\\left({\\theta}\\right)^{2} + \\cos\\left({\\theta}\\right)^{2}} m \\sin\\left({\\theta}\\right)}{r \\cos\\left({\\theta}\\right)^{4} + r \\sin\\left({\\theta}\\right)^{4} - r \\cos\\left({\\theta}\\right)^{2} + {\\left(2 \\, r \\cos\\left({\\theta}\\right)^{2} - r\\right)} \\sin\\left({\\theta}\\right)^{2}}, a_{1} = \\frac{\\sqrt{-m^{2} + \\frac{m^{2} \\cos\\left({\\theta}\\right)^{2}}{{\\left(\\cos\\left({\\theta}\\right)^{2} + \\sin\\left({\\theta}\\right)^{2} - 1\\right)}^{2}} + \\frac{m^{2} \\sin\\left({\\theta}\\right)^{2}}{{\\left(\\cos\\left({\\theta}\\right)^{2} + \\sin\\left({\\theta}\\right)^{2} - 1\\right)}^{2}} - \\frac{2 \\, m^{2}}{\\cos\\left({\\theta}\\right)^{2} + \\sin\\left({\\theta}\\right)^{2} - 1} - \\frac{m^{2}}{{\\left(\\cos\\left({\\theta}\\right)^{2} + \\sin\\left({\\theta}\\right)^{2} - 1\\right)}^{2}}}}{m}, b_{1} = \\frac{\\frac{m \\cos\\left({\\theta}\\right)^{3}}{\\cos\\left({\\theta}\\right)^{2} + \\sin\\left({\\theta}\\right)^{2} - 1} + \\frac{m \\cos\\left({\\theta}\\right) \\sin\\left({\\theta}\\right)^{2}}{\\cos\\left({\\theta}\\right)^{2} + \\sin\\left({\\theta}\\right)^{2} - 1} - {\\left(m + \\frac{m}{\\cos\\left({\\theta}\\right)^{2} + \\sin\\left({\\theta}\\right)^{2} - 1}\\right)} \\cos\\left({\\theta}\\right) + \\sqrt{-m^{2} + \\frac{m^{2} \\cos\\left({\\theta}\\right)^{2}}{{\\left(\\cos\\left({\\theta}\\right)^{2} + \\sin\\left({\\theta}\\right)^{2} - 1\\right)}^{2}} + \\frac{m^{2} \\sin\\left({\\theta}\\right)^{2}}{{\\left(\\cos\\left({\\theta}\\right)^{2} + \\sin\\left({\\theta}\\right)^{2} - 1\\right)}^{2}} - \\frac{2 \\, m^{2}}{\\cos\\left({\\theta}\\right)^{2} + \\sin\\left({\\theta}\\right)^{2} - 1} - \\frac{m^{2}}{{\\left(\\cos\\left({\\theta}\\right)^{2} + \\sin\\left({\\theta}\\right)^{2} - 1\\right)}^{2}}} \\sin\\left({\\theta}\\right)}{m \\cos\\left({\\theta}\\right)^{2} + m \\sin\\left({\\theta}\\right)^{2}}, c_{1} = \\frac{\\sqrt{-\\frac{m^{2} \\cos\\left({\\theta}\\right)^{2} + m^{2} \\sin\\left({\\theta}\\right)^{2}}{\\cos\\left({\\theta}\\right)^{2} + \\sin\\left({\\theta}\\right)^{2} - 1}} \\cos\\left({\\theta}\\right)}{m r \\cos\\left({\\theta}\\right)^{2} + m r \\sin\\left({\\theta}\\right)^{2}}\\right], \\left[a_{n} = -\\frac{m}{\\cos\\left({\\theta}\\right)^{2} + \\sin\\left({\\theta}\\right)^{2} - 1}, b_{n} = -\\frac{m \\cos\\left({\\theta}\\right)^{2} \\sin\\left({\\theta}\\right) + m \\sin\\left({\\theta}\\right)^{3} + \\sqrt{-\\cos\\left({\\theta}\\right)^{4} - \\sin\\left({\\theta}\\right)^{4} - {\\left(2 \\, \\cos\\left({\\theta}\\right)^{2} - 1\\right)} \\sin\\left({\\theta}\\right)^{2} + \\cos\\left({\\theta}\\right)^{2}} m \\cos\\left({\\theta}\\right)}{\\cos\\left({\\theta}\\right)^{4} + \\sin\\left({\\theta}\\right)^{4} + {\\left(2 \\, \\cos\\left({\\theta}\\right)^{2} - 1\\right)} \\sin\\left({\\theta}\\right)^{2} - \\cos\\left({\\theta}\\right)^{2}}, c_{n} = -\\frac{m \\cos\\left({\\theta}\\right)^{3} + m \\cos\\left({\\theta}\\right) \\sin\\left({\\theta}\\right)^{2} - \\sqrt{-\\cos\\left({\\theta}\\right)^{4} - \\sin\\left({\\theta}\\right)^{4} - {\\left(2 \\, \\cos\\left({\\theta}\\right)^{2} - 1\\right)} \\sin\\left({\\theta}\\right)^{2} + \\cos\\left({\\theta}\\right)^{2}} m \\sin\\left({\\theta}\\right)}{r \\cos\\left({\\theta}\\right)^{4} + r \\sin\\left({\\theta}\\right)^{4} - r \\cos\\left({\\theta}\\right)^{2} + {\\left(2 \\, r \\cos\\left({\\theta}\\right)^{2} - r\\right)} \\sin\\left({\\theta}\\right)^{2}}, a_{1} = \\frac{\\sqrt{-m^{2} + \\frac{m^{2} \\cos\\left({\\theta}\\right)^{2}}{{\\left(\\cos\\left({\\theta}\\right)^{2} + \\sin\\left({\\theta}\\right)^{2} - 1\\right)}^{2}} + \\frac{m^{2} \\sin\\left({\\theta}\\right)^{2}}{{\\left(\\cos\\left({\\theta}\\right)^{2} + \\sin\\left({\\theta}\\right)^{2} - 1\\right)}^{2}} - \\frac{2 \\, m^{2}}{\\cos\\left({\\theta}\\right)^{2} + \\sin\\left({\\theta}\\right)^{2} - 1} - \\frac{m^{2}}{{\\left(\\cos\\left({\\theta}\\right)^{2} + \\sin\\left({\\theta}\\right)^{2} - 1\\right)}^{2}}}}{m}, b_{1} = \\frac{\\frac{m \\cos\\left({\\theta}\\right)^{3}}{\\cos\\left({\\theta}\\right)^{2} + \\sin\\left({\\theta}\\right)^{2} - 1} + \\frac{m \\cos\\left({\\theta}\\right) \\sin\\left({\\theta}\\right)^{2}}{\\cos\\left({\\theta}\\right)^{2} + \\sin\\left({\\theta}\\right)^{2} - 1} - {\\left(m + \\frac{m}{\\cos\\left({\\theta}\\right)^{2} + \\sin\\left({\\theta}\\right)^{2} - 1}\\right)} \\cos\\left({\\theta}\\right) + \\sqrt{-m^{2} + \\frac{m^{2} \\cos\\left({\\theta}\\right)^{2}}{{\\left(\\cos\\left({\\theta}\\right)^{2} + \\sin\\left({\\theta}\\right)^{2} - 1\\right)}^{2}} + \\frac{m^{2} \\sin\\left({\\theta}\\right)^{2}}{{\\left(\\cos\\left({\\theta}\\right)^{2} + \\sin\\left({\\theta}\\right)^{2} - 1\\right)}^{2}} - \\frac{2 \\, m^{2}}{\\cos\\left({\\theta}\\right)^{2} + \\sin\\left({\\theta}\\right)^{2} - 1} - \\frac{m^{2}}{{\\left(\\cos\\left({\\theta}\\right)^{2} + \\sin\\left({\\theta}\\right)^{2} - 1\\right)}^{2}}} \\sin\\left({\\theta}\\right)}{m \\cos\\left({\\theta}\\right)^{2} + m \\sin\\left({\\theta}\\right)^{2}}, c_{1} = \\frac{\\sqrt{-\\frac{m^{2} \\cos\\left({\\theta}\\right)^{2} + m^{2} \\sin\\left({\\theta}\\right)^{2}}{\\cos\\left({\\theta}\\right)^{2} + \\sin\\left({\\theta}\\right)^{2} - 1}} \\cos\\left({\\theta}\\right)}{m r \\cos\\left({\\theta}\\right)^{2} + m r \\sin\\left({\\theta}\\right)^{2}}\\right], \\left[a_{n} = -\\frac{m}{\\cos\\left({\\theta}\\right)^{2} + \\sin\\left({\\theta}\\right)^{2} - 1}, b_{n} = -\\frac{m \\cos\\left({\\theta}\\right)^{2} \\sin\\left({\\theta}\\right) + m \\sin\\left({\\theta}\\right)^{3} - \\sqrt{-\\cos\\left({\\theta}\\right)^{4} - \\sin\\left({\\theta}\\right)^{4} - {\\left(2 \\, \\cos\\left({\\theta}\\right)^{2} - 1\\right)} \\sin\\left({\\theta}\\right)^{2} + \\cos\\left({\\theta}\\right)^{2}} m \\cos\\left({\\theta}\\right)}{\\cos\\left({\\theta}\\right)^{4} + \\sin\\left({\\theta}\\right)^{4} + {\\left(2 \\, \\cos\\left({\\theta}\\right)^{2} - 1\\right)} \\sin\\left({\\theta}\\right)^{2} - \\cos\\left({\\theta}\\right)^{2}}, c_{n} = -\\frac{m \\cos\\left({\\theta}\\right)^{3} + m \\cos\\left({\\theta}\\right) \\sin\\left({\\theta}\\right)^{2} + \\sqrt{-\\cos\\left({\\theta}\\right)^{4} - \\sin\\left({\\theta}\\right)^{4} - {\\left(2 \\, \\cos\\left({\\theta}\\right)^{2} - 1\\right)} \\sin\\left({\\theta}\\right)^{2} + \\cos\\left({\\theta}\\right)^{2}} m \\sin\\left({\\theta}\\right)}{r \\cos\\left({\\theta}\\right)^{4} + r \\sin\\left({\\theta}\\right)^{4} - r \\cos\\left({\\theta}\\right)^{2} + {\\left(2 \\, r \\cos\\left({\\theta}\\right)^{2} - r\\right)} \\sin\\left({\\theta}\\right)^{2}}, a_{1} = \\frac{\\sqrt{-m^{2} + \\frac{m^{2} \\cos\\left({\\theta}\\right)^{2}}{{\\left(\\cos\\left({\\theta}\\right)^{2} + \\sin\\left({\\theta}\\right)^{2} - 1\\right)}^{2}} + \\frac{m^{2} \\sin\\left({\\theta}\\right)^{2}}{{\\left(\\cos\\left({\\theta}\\right)^{2} + \\sin\\left({\\theta}\\right)^{2} - 1\\right)}^{2}} - \\frac{2 \\, m^{2}}{\\cos\\left({\\theta}\\right)^{2} + \\sin\\left({\\theta}\\right)^{2} - 1} - \\frac{m^{2}}{{\\left(\\cos\\left({\\theta}\\right)^{2} + \\sin\\left({\\theta}\\right)^{2} - 1\\right)}^{2}}}}{m}, b_{1} = -\\frac{\\frac{m \\cos\\left({\\theta}\\right)^{3}}{\\cos\\left({\\theta}\\right)^{2} + \\sin\\left({\\theta}\\right)^{2} - 1} + \\frac{m \\cos\\left({\\theta}\\right) \\sin\\left({\\theta}\\right)^{2}}{\\cos\\left({\\theta}\\right)^{2} + \\sin\\left({\\theta}\\right)^{2} - 1} - {\\left(m + \\frac{m}{\\cos\\left({\\theta}\\right)^{2} + \\sin\\left({\\theta}\\right)^{2} - 1}\\right)} \\cos\\left({\\theta}\\right) - \\sqrt{-m^{2} + \\frac{m^{2} \\cos\\left({\\theta}\\right)^{2}}{{\\left(\\cos\\left({\\theta}\\right)^{2} + \\sin\\left({\\theta}\\right)^{2} - 1\\right)}^{2}} + \\frac{m^{2} \\sin\\left({\\theta}\\right)^{2}}{{\\left(\\cos\\left({\\theta}\\right)^{2} + \\sin\\left({\\theta}\\right)^{2} - 1\\right)}^{2}} - \\frac{2 \\, m^{2}}{\\cos\\left({\\theta}\\right)^{2} + \\sin\\left({\\theta}\\right)^{2} - 1} - \\frac{m^{2}}{{\\left(\\cos\\left({\\theta}\\right)^{2} + \\sin\\left({\\theta}\\right)^{2} - 1\\right)}^{2}}} \\sin\\left({\\theta}\\right)}{m \\cos\\left({\\theta}\\right)^{2} + m \\sin\\left({\\theta}\\right)^{2}}, c_{1} = \\frac{\\sqrt{-\\frac{m^{2} \\cos\\left({\\theta}\\right)^{2} + m^{2} \\sin\\left({\\theta}\\right)^{2}}{\\cos\\left({\\theta}\\right)^{2} + \\sin\\left({\\theta}\\right)^{2} - 1}} \\cos\\left({\\theta}\\right)}{m r \\cos\\left({\\theta}\\right)^{2} + m r \\sin\\left({\\theta}\\right)^{2}}\\right], \\left[a_{n} = -\\frac{m}{\\cos\\left({\\theta}\\right)^{2} + \\sin\\left({\\theta}\\right)^{2} - 1}, b_{n} = -\\frac{m \\cos\\left({\\theta}\\right)^{2} \\sin\\left({\\theta}\\right) + m \\sin\\left({\\theta}\\right)^{3} + \\sqrt{-\\cos\\left({\\theta}\\right)^{4} - \\sin\\left({\\theta}\\right)^{4} - {\\left(2 \\, \\cos\\left({\\theta}\\right)^{2} - 1\\right)} \\sin\\left({\\theta}\\right)^{2} + \\cos\\left({\\theta}\\right)^{2}} m \\cos\\left({\\theta}\\right)}{\\cos\\left({\\theta}\\right)^{4} + \\sin\\left({\\theta}\\right)^{4} + {\\left(2 \\, \\cos\\left({\\theta}\\right)^{2} - 1\\right)} \\sin\\left({\\theta}\\right)^{2} - \\cos\\left({\\theta}\\right)^{2}}, c_{n} = -\\frac{m \\cos\\left({\\theta}\\right)^{3} + m \\cos\\left({\\theta}\\right) \\sin\\left({\\theta}\\right)^{2} - \\sqrt{-\\cos\\left({\\theta}\\right)^{4} - \\sin\\left({\\theta}\\right)^{4} - {\\left(2 \\, \\cos\\left({\\theta}\\right)^{2} - 1\\right)} \\sin\\left({\\theta}\\right)^{2} + \\cos\\left({\\theta}\\right)^{2}} m \\sin\\left({\\theta}\\right)}{r \\cos\\left({\\theta}\\right)^{4} + r \\sin\\left({\\theta}\\right)^{4} - r \\cos\\left({\\theta}\\right)^{2} + {\\left(2 \\, r \\cos\\left({\\theta}\\right)^{2} - r\\right)} \\sin\\left({\\theta}\\right)^{2}}, a_{1} = \\frac{\\sqrt{-m^{2} + \\frac{m^{2} \\cos\\left({\\theta}\\right)^{2}}{{\\left(\\cos\\left({\\theta}\\right)^{2} + \\sin\\left({\\theta}\\right)^{2} - 1\\right)}^{2}} + \\frac{m^{2} \\sin\\left({\\theta}\\right)^{2}}{{\\left(\\cos\\left({\\theta}\\right)^{2} + \\sin\\left({\\theta}\\right)^{2} - 1\\right)}^{2}} - \\frac{2 \\, m^{2}}{\\cos\\left({\\theta}\\right)^{2} + \\sin\\left({\\theta}\\right)^{2} - 1} - \\frac{m^{2}}{{\\left(\\cos\\left({\\theta}\\right)^{2} + \\sin\\left({\\theta}\\right)^{2} - 1\\right)}^{2}}}}{m}, b_{1} = -\\frac{\\frac{m \\cos\\left({\\theta}\\right)^{3}}{\\cos\\left({\\theta}\\right)^{2} + \\sin\\left({\\theta}\\right)^{2} - 1} + \\frac{m \\cos\\left({\\theta}\\right) \\sin\\left({\\theta}\\right)^{2}}{\\cos\\left({\\theta}\\right)^{2} + \\sin\\left({\\theta}\\right)^{2} - 1} - {\\left(m + \\frac{m}{\\cos\\left({\\theta}\\right)^{2} + \\sin\\left({\\theta}\\right)^{2} - 1}\\right)} \\cos\\left({\\theta}\\right) - \\sqrt{-m^{2} + \\frac{m^{2} \\cos\\left({\\theta}\\right)^{2}}{{\\left(\\cos\\left({\\theta}\\right)^{2} + \\sin\\left({\\theta}\\right)^{2} - 1\\right)}^{2}} + \\frac{m^{2} \\sin\\left({\\theta}\\right)^{2}}{{\\left(\\cos\\left({\\theta}\\right)^{2} + \\sin\\left({\\theta}\\right)^{2} - 1\\right)}^{2}} - \\frac{2 \\, m^{2}}{\\cos\\left({\\theta}\\right)^{2} + \\sin\\left({\\theta}\\right)^{2} - 1} - \\frac{m^{2}}{{\\left(\\cos\\left({\\theta}\\right)^{2} + \\sin\\left({\\theta}\\right)^{2} - 1\\right)}^{2}}} \\sin\\left({\\theta}\\right)}{m \\cos\\left({\\theta}\\right)^{2} + m \\sin\\left({\\theta}\\right)^{2}}, c_{1} = \\frac{\\sqrt{-\\frac{m^{2} \\cos\\left({\\theta}\\right)^{2} + m^{2} \\sin\\left({\\theta}\\right)^{2}}{\\cos\\left({\\theta}\\right)^{2} + \\sin\\left({\\theta}\\right)^{2} - 1}} \\cos\\left({\\theta}\\right)}{m r \\cos\\left({\\theta}\\right)^{2} + m r \\sin\\left({\\theta}\\right)^{2}}\\right], \\left[a_{n} = -\\frac{m}{\\cos\\left({\\theta}\\right)^{2} + \\sin\\left({\\theta}\\right)^{2} - 1}, b_{n} = -\\frac{m \\cos\\left({\\theta}\\right)^{2} \\sin\\left({\\theta}\\right) + m \\sin\\left({\\theta}\\right)^{3} - \\sqrt{-\\cos\\left({\\theta}\\right)^{4} - \\sin\\left({\\theta}\\right)^{4} - {\\left(2 \\, \\cos\\left({\\theta}\\right)^{2} - 1\\right)} \\sin\\left({\\theta}\\right)^{2} + \\cos\\left({\\theta}\\right)^{2}} m \\cos\\left({\\theta}\\right)}{\\cos\\left({\\theta}\\right)^{4} + \\sin\\left({\\theta}\\right)^{4} + {\\left(2 \\, \\cos\\left({\\theta}\\right)^{2} - 1\\right)} \\sin\\left({\\theta}\\right)^{2} - \\cos\\left({\\theta}\\right)^{2}}, c_{n} = -\\frac{m \\cos\\left({\\theta}\\right)^{3} + m \\cos\\left({\\theta}\\right) \\sin\\left({\\theta}\\right)^{2} + \\sqrt{-\\cos\\left({\\theta}\\right)^{4} - \\sin\\left({\\theta}\\right)^{4} - {\\left(2 \\, \\cos\\left({\\theta}\\right)^{2} - 1\\right)} \\sin\\left({\\theta}\\right)^{2} + \\cos\\left({\\theta}\\right)^{2}} m \\sin\\left({\\theta}\\right)}{r \\cos\\left({\\theta}\\right)^{4} + r \\sin\\left({\\theta}\\right)^{4} - r \\cos\\left({\\theta}\\right)^{2} + {\\left(2 \\, r \\cos\\left({\\theta}\\right)^{2} - r\\right)} \\sin\\left({\\theta}\\right)^{2}}, a_{1} = -\\frac{\\sqrt{-m^{2} + \\frac{m^{2} \\cos\\left({\\theta}\\right)^{2}}{{\\left(\\cos\\left({\\theta}\\right)^{2} + \\sin\\left({\\theta}\\right)^{2} - 1\\right)}^{2}} + \\frac{m^{2} \\sin\\left({\\theta}\\right)^{2}}{{\\left(\\cos\\left({\\theta}\\right)^{2} + \\sin\\left({\\theta}\\right)^{2} - 1\\right)}^{2}} - \\frac{2 \\, m^{2}}{\\cos\\left({\\theta}\\right)^{2} + \\sin\\left({\\theta}\\right)^{2} - 1} - \\frac{m^{2}}{{\\left(\\cos\\left({\\theta}\\right)^{2} + \\sin\\left({\\theta}\\right)^{2} - 1\\right)}^{2}}}}{m}, b_{1} = \\frac{\\frac{m \\cos\\left({\\theta}\\right)^{3}}{\\cos\\left({\\theta}\\right)^{2} + \\sin\\left({\\theta}\\right)^{2} - 1} + \\frac{m \\cos\\left({\\theta}\\right) \\sin\\left({\\theta}\\right)^{2}}{\\cos\\left({\\theta}\\right)^{2} + \\sin\\left({\\theta}\\right)^{2} - 1} - {\\left(m + \\frac{m}{\\cos\\left({\\theta}\\right)^{2} + \\sin\\left({\\theta}\\right)^{2} - 1}\\right)} \\cos\\left({\\theta}\\right) - \\sqrt{-m^{2} + \\frac{m^{2} \\cos\\left({\\theta}\\right)^{2}}{{\\left(\\cos\\left({\\theta}\\right)^{2} + \\sin\\left({\\theta}\\right)^{2} - 1\\right)}^{2}} + \\frac{m^{2} \\sin\\left({\\theta}\\right)^{2}}{{\\left(\\cos\\left({\\theta}\\right)^{2} + \\sin\\left({\\theta}\\right)^{2} - 1\\right)}^{2}} - \\frac{2 \\, m^{2}}{\\cos\\left({\\theta}\\right)^{2} + \\sin\\left({\\theta}\\right)^{2} - 1} - \\frac{m^{2}}{{\\left(\\cos\\left({\\theta}\\right)^{2} + \\sin\\left({\\theta}\\right)^{2} - 1\\right)}^{2}}} \\sin\\left({\\theta}\\right)}{m \\cos\\left({\\theta}\\right)^{2} + m \\sin\\left({\\theta}\\right)^{2}}, c_{1} = -\\frac{\\sqrt{-\\frac{m^{2} \\cos\\left({\\theta}\\right)^{2} + m^{2} \\sin\\left({\\theta}\\right)^{2}}{\\cos\\left({\\theta}\\right)^{2} + \\sin\\left({\\theta}\\right)^{2} - 1}} \\cos\\left({\\theta}\\right)}{m r \\cos\\left({\\theta}\\right)^{2} + m r \\sin\\left({\\theta}\\right)^{2}}\\right], \\left[a_{n} = -\\frac{m}{\\cos\\left({\\theta}\\right)^{2} + \\sin\\left({\\theta}\\right)^{2} - 1}, b_{n} = -\\frac{m \\cos\\left({\\theta}\\right)^{2} \\sin\\left({\\theta}\\right) + m \\sin\\left({\\theta}\\right)^{3} + \\sqrt{-\\cos\\left({\\theta}\\right)^{4} - \\sin\\left({\\theta}\\right)^{4} - {\\left(2 \\, \\cos\\left({\\theta}\\right)^{2} - 1\\right)} \\sin\\left({\\theta}\\right)^{2} + \\cos\\left({\\theta}\\right)^{2}} m \\cos\\left({\\theta}\\right)}{\\cos\\left({\\theta}\\right)^{4} + \\sin\\left({\\theta}\\right)^{4} + {\\left(2 \\, \\cos\\left({\\theta}\\right)^{2} - 1\\right)} \\sin\\left({\\theta}\\right)^{2} - \\cos\\left({\\theta}\\right)^{2}}, c_{n} = -\\frac{m \\cos\\left({\\theta}\\right)^{3} + m \\cos\\left({\\theta}\\right) \\sin\\left({\\theta}\\right)^{2} - \\sqrt{-\\cos\\left({\\theta}\\right)^{4} - \\sin\\left({\\theta}\\right)^{4} - {\\left(2 \\, \\cos\\left({\\theta}\\right)^{2} - 1\\right)} \\sin\\left({\\theta}\\right)^{2} + \\cos\\left({\\theta}\\right)^{2}} m \\sin\\left({\\theta}\\right)}{r \\cos\\left({\\theta}\\right)^{4} + r \\sin\\left({\\theta}\\right)^{4} - r \\cos\\left({\\theta}\\right)^{2} + {\\left(2 \\, r \\cos\\left({\\theta}\\right)^{2} - r\\right)} \\sin\\left({\\theta}\\right)^{2}}, a_{1} = -\\frac{\\sqrt{-m^{2} + \\frac{m^{2} \\cos\\left({\\theta}\\right)^{2}}{{\\left(\\cos\\left({\\theta}\\right)^{2} + \\sin\\left({\\theta}\\right)^{2} - 1\\right)}^{2}} + \\frac{m^{2} \\sin\\left({\\theta}\\right)^{2}}{{\\left(\\cos\\left({\\theta}\\right)^{2} + \\sin\\left({\\theta}\\right)^{2} - 1\\right)}^{2}} - \\frac{2 \\, m^{2}}{\\cos\\left({\\theta}\\right)^{2} + \\sin\\left({\\theta}\\right)^{2} - 1} - \\frac{m^{2}}{{\\left(\\cos\\left({\\theta}\\right)^{2} + \\sin\\left({\\theta}\\right)^{2} - 1\\right)}^{2}}}}{m}, b_{1} = \\frac{\\frac{m \\cos\\left({\\theta}\\right)^{3}}{\\cos\\left({\\theta}\\right)^{2} + \\sin\\left({\\theta}\\right)^{2} - 1} + \\frac{m \\cos\\left({\\theta}\\right) \\sin\\left({\\theta}\\right)^{2}}{\\cos\\left({\\theta}\\right)^{2} + \\sin\\left({\\theta}\\right)^{2} - 1} - {\\left(m + \\frac{m}{\\cos\\left({\\theta}\\right)^{2} + \\sin\\left({\\theta}\\right)^{2} - 1}\\right)} \\cos\\left({\\theta}\\right) - \\sqrt{-m^{2} + \\frac{m^{2} \\cos\\left({\\theta}\\right)^{2}}{{\\left(\\cos\\left({\\theta}\\right)^{2} + \\sin\\left({\\theta}\\right)^{2} - 1\\right)}^{2}} + \\frac{m^{2} \\sin\\left({\\theta}\\right)^{2}}{{\\left(\\cos\\left({\\theta}\\right)^{2} + \\sin\\left({\\theta}\\right)^{2} - 1\\right)}^{2}} - \\frac{2 \\, m^{2}}{\\cos\\left({\\theta}\\right)^{2} + \\sin\\left({\\theta}\\right)^{2} - 1} - \\frac{m^{2}}{{\\left(\\cos\\left({\\theta}\\right)^{2} + \\sin\\left({\\theta}\\right)^{2} - 1\\right)}^{2}}} \\sin\\left({\\theta}\\right)}{m \\cos\\left({\\theta}\\right)^{2} + m \\sin\\left({\\theta}\\right)^{2}}, c_{1} = -\\frac{\\sqrt{-\\frac{m^{2} \\cos\\left({\\theta}\\right)^{2} + m^{2} \\sin\\left({\\theta}\\right)^{2}}{\\cos\\left({\\theta}\\right)^{2} + \\sin\\left({\\theta}\\right)^{2} - 1}} \\cos\\left({\\theta}\\right)}{m r \\cos\\left({\\theta}\\right)^{2} + m r \\sin\\left({\\theta}\\right)^{2}}\\right], \\left[a_{n} = -\\frac{m}{\\cos\\left({\\theta}\\right)^{2} + \\sin\\left({\\theta}\\right)^{2} - 1}, b_{n} = -\\frac{m \\cos\\left({\\theta}\\right)^{2} \\sin\\left({\\theta}\\right) + m \\sin\\left({\\theta}\\right)^{3} - \\sqrt{-\\cos\\left({\\theta}\\right)^{4} - \\sin\\left({\\theta}\\right)^{4} - {\\left(2 \\, \\cos\\left({\\theta}\\right)^{2} - 1\\right)} \\sin\\left({\\theta}\\right)^{2} + \\cos\\left({\\theta}\\right)^{2}} m \\cos\\left({\\theta}\\right)}{\\cos\\left({\\theta}\\right)^{4} + \\sin\\left({\\theta}\\right)^{4} + {\\left(2 \\, \\cos\\left({\\theta}\\right)^{2} - 1\\right)} \\sin\\left({\\theta}\\right)^{2} - \\cos\\left({\\theta}\\right)^{2}}, c_{n} = -\\frac{m \\cos\\left({\\theta}\\right)^{3} + m \\cos\\left({\\theta}\\right) \\sin\\left({\\theta}\\right)^{2} + \\sqrt{-\\cos\\left({\\theta}\\right)^{4} - \\sin\\left({\\theta}\\right)^{4} - {\\left(2 \\, \\cos\\left({\\theta}\\right)^{2} - 1\\right)} \\sin\\left({\\theta}\\right)^{2} + \\cos\\left({\\theta}\\right)^{2}} m \\sin\\left({\\theta}\\right)}{r \\cos\\left({\\theta}\\right)^{4} + r \\sin\\left({\\theta}\\right)^{4} - r \\cos\\left({\\theta}\\right)^{2} + {\\left(2 \\, r \\cos\\left({\\theta}\\right)^{2} - r\\right)} \\sin\\left({\\theta}\\right)^{2}}, a_{1} = -\\frac{\\sqrt{-m^{2} + \\frac{m^{2} \\cos\\left({\\theta}\\right)^{2}}{{\\left(\\cos\\left({\\theta}\\right)^{2} + \\sin\\left({\\theta}\\right)^{2} - 1\\right)}^{2}} + \\frac{m^{2} \\sin\\left({\\theta}\\right)^{2}}{{\\left(\\cos\\left({\\theta}\\right)^{2} + \\sin\\left({\\theta}\\right)^{2} - 1\\right)}^{2}} - \\frac{2 \\, m^{2}}{\\cos\\left({\\theta}\\right)^{2} + \\sin\\left({\\theta}\\right)^{2} - 1} - \\frac{m^{2}}{{\\left(\\cos\\left({\\theta}\\right)^{2} + \\sin\\left({\\theta}\\right)^{2} - 1\\right)}^{2}}}}{m}, b_{1} = -\\frac{\\frac{m \\cos\\left({\\theta}\\right)^{3}}{\\cos\\left({\\theta}\\right)^{2} + \\sin\\left({\\theta}\\right)^{2} - 1} + \\frac{m \\cos\\left({\\theta}\\right) \\sin\\left({\\theta}\\right)^{2}}{\\cos\\left({\\theta}\\right)^{2} + \\sin\\left({\\theta}\\right)^{2} - 1} - {\\left(m + \\frac{m}{\\cos\\left({\\theta}\\right)^{2} + \\sin\\left({\\theta}\\right)^{2} - 1}\\right)} \\cos\\left({\\theta}\\right) + \\sqrt{-m^{2} + \\frac{m^{2} \\cos\\left({\\theta}\\right)^{2}}{{\\left(\\cos\\left({\\theta}\\right)^{2} + \\sin\\left({\\theta}\\right)^{2} - 1\\right)}^{2}} + \\frac{m^{2} \\sin\\left({\\theta}\\right)^{2}}{{\\left(\\cos\\left({\\theta}\\right)^{2} + \\sin\\left({\\theta}\\right)^{2} - 1\\right)}^{2}} - \\frac{2 \\, m^{2}}{\\cos\\left({\\theta}\\right)^{2} + \\sin\\left({\\theta}\\right)^{2} - 1} - \\frac{m^{2}}{{\\left(\\cos\\left({\\theta}\\right)^{2} + \\sin\\left({\\theta}\\right)^{2} - 1\\right)}^{2}}} \\sin\\left({\\theta}\\right)}{m \\cos\\left({\\theta}\\right)^{2} + m \\sin\\left({\\theta}\\right)^{2}}, c_{1} = -\\frac{\\sqrt{-\\frac{m^{2} \\cos\\left({\\theta}\\right)^{2} + m^{2} \\sin\\left({\\theta}\\right)^{2}}{\\cos\\left({\\theta}\\right)^{2} + \\sin\\left({\\theta}\\right)^{2} - 1}} \\cos\\left({\\theta}\\right)}{m r \\cos\\left({\\theta}\\right)^{2} + m r \\sin\\left({\\theta}\\right)^{2}}\\right], \\left[a_{n} = -\\frac{m}{\\cos\\left({\\theta}\\right)^{2} + \\sin\\left({\\theta}\\right)^{2} - 1}, b_{n} = -\\frac{m \\cos\\left({\\theta}\\right)^{2} \\sin\\left({\\theta}\\right) + m \\sin\\left({\\theta}\\right)^{3} + \\sqrt{-\\cos\\left({\\theta}\\right)^{4} - \\sin\\left({\\theta}\\right)^{4} - {\\left(2 \\, \\cos\\left({\\theta}\\right)^{2} - 1\\right)} \\sin\\left({\\theta}\\right)^{2} + \\cos\\left({\\theta}\\right)^{2}} m \\cos\\left({\\theta}\\right)}{\\cos\\left({\\theta}\\right)^{4} + \\sin\\left({\\theta}\\right)^{4} + {\\left(2 \\, \\cos\\left({\\theta}\\right)^{2} - 1\\right)} \\sin\\left({\\theta}\\right)^{2} - \\cos\\left({\\theta}\\right)^{2}}, c_{n} = -\\frac{m \\cos\\left({\\theta}\\right)^{3} + m \\cos\\left({\\theta}\\right) \\sin\\left({\\theta}\\right)^{2} - \\sqrt{-\\cos\\left({\\theta}\\right)^{4} - \\sin\\left({\\theta}\\right)^{4} - {\\left(2 \\, \\cos\\left({\\theta}\\right)^{2} - 1\\right)} \\sin\\left({\\theta}\\right)^{2} + \\cos\\left({\\theta}\\right)^{2}} m \\sin\\left({\\theta}\\right)}{r \\cos\\left({\\theta}\\right)^{4} + r \\sin\\left({\\theta}\\right)^{4} - r \\cos\\left({\\theta}\\right)^{2} + {\\left(2 \\, r \\cos\\left({\\theta}\\right)^{2} - r\\right)} \\sin\\left({\\theta}\\right)^{2}}, a_{1} = -\\frac{\\sqrt{-m^{2} + \\frac{m^{2} \\cos\\left({\\theta}\\right)^{2}}{{\\left(\\cos\\left({\\theta}\\right)^{2} + \\sin\\left({\\theta}\\right)^{2} - 1\\right)}^{2}} + \\frac{m^{2} \\sin\\left({\\theta}\\right)^{2}}{{\\left(\\cos\\left({\\theta}\\right)^{2} + \\sin\\left({\\theta}\\right)^{2} - 1\\right)}^{2}} - \\frac{2 \\, m^{2}}{\\cos\\left({\\theta}\\right)^{2} + \\sin\\left({\\theta}\\right)^{2} - 1} - \\frac{m^{2}}{{\\left(\\cos\\left({\\theta}\\right)^{2} + \\sin\\left({\\theta}\\right)^{2} - 1\\right)}^{2}}}}{m}, b_{1} = -\\frac{\\frac{m \\cos\\left({\\theta}\\right)^{3}}{\\cos\\left({\\theta}\\right)^{2} + \\sin\\left({\\theta}\\right)^{2} - 1} + \\frac{m \\cos\\left({\\theta}\\right) \\sin\\left({\\theta}\\right)^{2}}{\\cos\\left({\\theta}\\right)^{2} + \\sin\\left({\\theta}\\right)^{2} - 1} - {\\left(m + \\frac{m}{\\cos\\left({\\theta}\\right)^{2} + \\sin\\left({\\theta}\\right)^{2} - 1}\\right)} \\cos\\left({\\theta}\\right) + \\sqrt{-m^{2} + \\frac{m^{2} \\cos\\left({\\theta}\\right)^{2}}{{\\left(\\cos\\left({\\theta}\\right)^{2} + \\sin\\left({\\theta}\\right)^{2} - 1\\right)}^{2}} + \\frac{m^{2} \\sin\\left({\\theta}\\right)^{2}}{{\\left(\\cos\\left({\\theta}\\right)^{2} + \\sin\\left({\\theta}\\right)^{2} - 1\\right)}^{2}} - \\frac{2 \\, m^{2}}{\\cos\\left({\\theta}\\right)^{2} + \\sin\\left({\\theta}\\right)^{2} - 1} - \\frac{m^{2}}{{\\left(\\cos\\left({\\theta}\\right)^{2} + \\sin\\left({\\theta}\\right)^{2} - 1\\right)}^{2}}} \\sin\\left({\\theta}\\right)}{m \\cos\\left({\\theta}\\right)^{2} + m \\sin\\left({\\theta}\\right)^{2}}, c_{1} = -\\frac{\\sqrt{-\\frac{m^{2} \\cos\\left({\\theta}\\right)^{2} + m^{2} \\sin\\left({\\theta}\\right)^{2}}{\\cos\\left({\\theta}\\right)^{2} + \\sin\\left({\\theta}\\right)^{2} - 1}} \\cos\\left({\\theta}\\right)}{m r \\cos\\left({\\theta}\\right)^{2} + m r \\sin\\left({\\theta}\\right)^{2}}\\right]\\right]$"
      ],
      "text/plain": [
       "[[a_n == r1, b_n == -((m - r1)*sin(th) + sqrt(r1^2*cos(th)^2 + r1^2*sin(th)^2 - m^2 + 2*m*r1 - r1^2)*cos(th))/(cos(th)^2 + sin(th)^2), c_n == -((m - r1)*cos(th) - sqrt(r1^2*cos(th)^2 + r1^2*sin(th)^2 - m^2 + 2*m*r1 - r1^2)*sin(th))/(r*cos(th)^2 + r*sin(th)^2), a_1 == sqrt(r1^2*cos(th)^2 + r1^2*sin(th)^2 - m^2 + 2*m*r1 - r1^2)/m, b_1 == -(r1*cos(th)^3 + r1*cos(th)*sin(th)^2 + (m - r1)*cos(th) - sqrt(r1^2*cos(th)^2 + r1^2*sin(th)^2 - m^2 + 2*m*r1 - r1^2)*sin(th))/(m*cos(th)^2 + m*sin(th)^2), c_1 == (r1*sin(th)^3 + (r1*cos(th)^2 + m - r1)*sin(th) + sqrt(r1^2*cos(th)^2 + r1^2*sin(th)^2 - m^2 + 2*m*r1 - r1^2)*cos(th))/(m*r*cos(th)^2 + m*r*sin(th)^2)], [a_n == r2, b_n == -((m - r2)*sin(th) - sqrt(r2^2*cos(th)^2 + r2^2*sin(th)^2 - m^2 + 2*m*r2 - r2^2)*cos(th))/(cos(th)^2 + sin(th)^2), c_n == -((m - r2)*cos(th) + sqrt(r2^2*cos(th)^2 + r2^2*sin(th)^2 - m^2 + 2*m*r2 - r2^2)*sin(th))/(r*cos(th)^2 + r*sin(th)^2), a_1 == sqrt(r2^2*cos(th)^2 + r2^2*sin(th)^2 - m^2 + 2*m*r2 - r2^2)/m, b_1 == (r2*cos(th)^3 + r2*cos(th)*sin(th)^2 + (m - r2)*cos(th) + sqrt(r2^2*cos(th)^2 + r2^2*sin(th)^2 - m^2 + 2*m*r2 - r2^2)*sin(th))/(m*cos(th)^2 + m*sin(th)^2), c_1 == -(r2*sin(th)^3 + (r2*cos(th)^2 + m - r2)*sin(th) - sqrt(r2^2*cos(th)^2 + r2^2*sin(th)^2 - m^2 + 2*m*r2 - r2^2)*cos(th))/(m*r*cos(th)^2 + m*r*sin(th)^2)], [a_n == r3, b_n == -((m - r3)*sin(th) - sqrt(r3^2*cos(th)^2 + r3^2*sin(th)^2 - m^2 + 2*m*r3 - r3^2)*cos(th))/(cos(th)^2 + sin(th)^2), c_n == -((m - r3)*cos(th) + sqrt(r3^2*cos(th)^2 + r3^2*sin(th)^2 - m^2 + 2*m*r3 - r3^2)*sin(th))/(r*cos(th)^2 + r*sin(th)^2), a_1 == -sqrt(r3^2*cos(th)^2 + r3^2*sin(th)^2 - m^2 + 2*m*r3 - r3^2)/m, b_1 == -(r3*cos(th)^3 + r3*cos(th)*sin(th)^2 + (m - r3)*cos(th) + sqrt(r3^2*cos(th)^2 + r3^2*sin(th)^2 - m^2 + 2*m*r3 - r3^2)*sin(th))/(m*cos(th)^2 + m*sin(th)^2), c_1 == (r3*sin(th)^3 + (r3*cos(th)^2 + m - r3)*sin(th) - sqrt(r3^2*cos(th)^2 + r3^2*sin(th)^2 - m^2 + 2*m*r3 - r3^2)*cos(th))/(m*r*cos(th)^2 + m*r*sin(th)^2)], [a_n == r4, b_n == -((m - r4)*sin(th) + sqrt(r4^2*cos(th)^2 + r4^2*sin(th)^2 - m^2 + 2*m*r4 - r4^2)*cos(th))/(cos(th)^2 + sin(th)^2), c_n == -((m - r4)*cos(th) - sqrt(r4^2*cos(th)^2 + r4^2*sin(th)^2 - m^2 + 2*m*r4 - r4^2)*sin(th))/(r*cos(th)^2 + r*sin(th)^2), a_1 == -sqrt(r4^2*cos(th)^2 + r4^2*sin(th)^2 - m^2 + 2*m*r4 - r4^2)/m, b_1 == (r4*cos(th)^3 + r4*cos(th)*sin(th)^2 + (m - r4)*cos(th) - sqrt(r4^2*cos(th)^2 + r4^2*sin(th)^2 - m^2 + 2*m*r4 - r4^2)*sin(th))/(m*cos(th)^2 + m*sin(th)^2), c_1 == -(r4*sin(th)^3 + (r4*cos(th)^2 + m - r4)*sin(th) + sqrt(r4^2*cos(th)^2 + r4^2*sin(th)^2 - m^2 + 2*m*r4 - r4^2)*cos(th))/(m*r*cos(th)^2 + m*r*sin(th)^2)], [a_n == -m/(cos(th)^2 + sin(th)^2 - 1), b_n == -(m*cos(th)^2*sin(th) + m*sin(th)^3 - sqrt(-cos(th)^4 - sin(th)^4 - (2*cos(th)^2 - 1)*sin(th)^2 + cos(th)^2)*m*cos(th))/(cos(th)^4 + sin(th)^4 + (2*cos(th)^2 - 1)*sin(th)^2 - cos(th)^2), c_n == -(m*cos(th)^3 + m*cos(th)*sin(th)^2 + sqrt(-cos(th)^4 - sin(th)^4 - (2*cos(th)^2 - 1)*sin(th)^2 + cos(th)^2)*m*sin(th))/(r*cos(th)^4 + r*sin(th)^4 - r*cos(th)^2 + (2*r*cos(th)^2 - r)*sin(th)^2), a_1 == sqrt(-m^2 + m^2*cos(th)^2/(cos(th)^2 + sin(th)^2 - 1)^2 + m^2*sin(th)^2/(cos(th)^2 + sin(th)^2 - 1)^2 - 2*m^2/(cos(th)^2 + sin(th)^2 - 1) - m^2/(cos(th)^2 + sin(th)^2 - 1)^2)/m, b_1 == (m*cos(th)^3/(cos(th)^2 + sin(th)^2 - 1) + m*cos(th)*sin(th)^2/(cos(th)^2 + sin(th)^2 - 1) - (m + m/(cos(th)^2 + sin(th)^2 - 1))*cos(th) + sqrt(-m^2 + m^2*cos(th)^2/(cos(th)^2 + sin(th)^2 - 1)^2 + m^2*sin(th)^2/(cos(th)^2 + sin(th)^2 - 1)^2 - 2*m^2/(cos(th)^2 + sin(th)^2 - 1) - m^2/(cos(th)^2 + sin(th)^2 - 1)^2)*sin(th))/(m*cos(th)^2 + m*sin(th)^2), c_1 == sqrt(-(m^2*cos(th)^2 + m^2*sin(th)^2)/(cos(th)^2 + sin(th)^2 - 1))*cos(th)/(m*r*cos(th)^2 + m*r*sin(th)^2)], [a_n == -m/(cos(th)^2 + sin(th)^2 - 1), b_n == -(m*cos(th)^2*sin(th) + m*sin(th)^3 + sqrt(-cos(th)^4 - sin(th)^4 - (2*cos(th)^2 - 1)*sin(th)^2 + cos(th)^2)*m*cos(th))/(cos(th)^4 + sin(th)^4 + (2*cos(th)^2 - 1)*sin(th)^2 - cos(th)^2), c_n == -(m*cos(th)^3 + m*cos(th)*sin(th)^2 - sqrt(-cos(th)^4 - sin(th)^4 - (2*cos(th)^2 - 1)*sin(th)^2 + cos(th)^2)*m*sin(th))/(r*cos(th)^4 + r*sin(th)^4 - r*cos(th)^2 + (2*r*cos(th)^2 - r)*sin(th)^2), a_1 == sqrt(-m^2 + m^2*cos(th)^2/(cos(th)^2 + sin(th)^2 - 1)^2 + m^2*sin(th)^2/(cos(th)^2 + sin(th)^2 - 1)^2 - 2*m^2/(cos(th)^2 + sin(th)^2 - 1) - m^2/(cos(th)^2 + sin(th)^2 - 1)^2)/m, b_1 == (m*cos(th)^3/(cos(th)^2 + sin(th)^2 - 1) + m*cos(th)*sin(th)^2/(cos(th)^2 + sin(th)^2 - 1) - (m + m/(cos(th)^2 + sin(th)^2 - 1))*cos(th) + sqrt(-m^2 + m^2*cos(th)^2/(cos(th)^2 + sin(th)^2 - 1)^2 + m^2*sin(th)^2/(cos(th)^2 + sin(th)^2 - 1)^2 - 2*m^2/(cos(th)^2 + sin(th)^2 - 1) - m^2/(cos(th)^2 + sin(th)^2 - 1)^2)*sin(th))/(m*cos(th)^2 + m*sin(th)^2), c_1 == sqrt(-(m^2*cos(th)^2 + m^2*sin(th)^2)/(cos(th)^2 + sin(th)^2 - 1))*cos(th)/(m*r*cos(th)^2 + m*r*sin(th)^2)], [a_n == -m/(cos(th)^2 + sin(th)^2 - 1), b_n == -(m*cos(th)^2*sin(th) + m*sin(th)^3 - sqrt(-cos(th)^4 - sin(th)^4 - (2*cos(th)^2 - 1)*sin(th)^2 + cos(th)^2)*m*cos(th))/(cos(th)^4 + sin(th)^4 + (2*cos(th)^2 - 1)*sin(th)^2 - cos(th)^2), c_n == -(m*cos(th)^3 + m*cos(th)*sin(th)^2 + sqrt(-cos(th)^4 - sin(th)^4 - (2*cos(th)^2 - 1)*sin(th)^2 + cos(th)^2)*m*sin(th))/(r*cos(th)^4 + r*sin(th)^4 - r*cos(th)^2 + (2*r*cos(th)^2 - r)*sin(th)^2), a_1 == sqrt(-m^2 + m^2*cos(th)^2/(cos(th)^2 + sin(th)^2 - 1)^2 + m^2*sin(th)^2/(cos(th)^2 + sin(th)^2 - 1)^2 - 2*m^2/(cos(th)^2 + sin(th)^2 - 1) - m^2/(cos(th)^2 + sin(th)^2 - 1)^2)/m, b_1 == -(m*cos(th)^3/(cos(th)^2 + sin(th)^2 - 1) + m*cos(th)*sin(th)^2/(cos(th)^2 + sin(th)^2 - 1) - (m + m/(cos(th)^2 + sin(th)^2 - 1))*cos(th) - sqrt(-m^2 + m^2*cos(th)^2/(cos(th)^2 + sin(th)^2 - 1)^2 + m^2*sin(th)^2/(cos(th)^2 + sin(th)^2 - 1)^2 - 2*m^2/(cos(th)^2 + sin(th)^2 - 1) - m^2/(cos(th)^2 + sin(th)^2 - 1)^2)*sin(th))/(m*cos(th)^2 + m*sin(th)^2), c_1 == sqrt(-(m^2*cos(th)^2 + m^2*sin(th)^2)/(cos(th)^2 + sin(th)^2 - 1))*cos(th)/(m*r*cos(th)^2 + m*r*sin(th)^2)], [a_n == -m/(cos(th)^2 + sin(th)^2 - 1), b_n == -(m*cos(th)^2*sin(th) + m*sin(th)^3 + sqrt(-cos(th)^4 - sin(th)^4 - (2*cos(th)^2 - 1)*sin(th)^2 + cos(th)^2)*m*cos(th))/(cos(th)^4 + sin(th)^4 + (2*cos(th)^2 - 1)*sin(th)^2 - cos(th)^2), c_n == -(m*cos(th)^3 + m*cos(th)*sin(th)^2 - sqrt(-cos(th)^4 - sin(th)^4 - (2*cos(th)^2 - 1)*sin(th)^2 + cos(th)^2)*m*sin(th))/(r*cos(th)^4 + r*sin(th)^4 - r*cos(th)^2 + (2*r*cos(th)^2 - r)*sin(th)^2), a_1 == sqrt(-m^2 + m^2*cos(th)^2/(cos(th)^2 + sin(th)^2 - 1)^2 + m^2*sin(th)^2/(cos(th)^2 + sin(th)^2 - 1)^2 - 2*m^2/(cos(th)^2 + sin(th)^2 - 1) - m^2/(cos(th)^2 + sin(th)^2 - 1)^2)/m, b_1 == -(m*cos(th)^3/(cos(th)^2 + sin(th)^2 - 1) + m*cos(th)*sin(th)^2/(cos(th)^2 + sin(th)^2 - 1) - (m + m/(cos(th)^2 + sin(th)^2 - 1))*cos(th) - sqrt(-m^2 + m^2*cos(th)^2/(cos(th)^2 + sin(th)^2 - 1)^2 + m^2*sin(th)^2/(cos(th)^2 + sin(th)^2 - 1)^2 - 2*m^2/(cos(th)^2 + sin(th)^2 - 1) - m^2/(cos(th)^2 + sin(th)^2 - 1)^2)*sin(th))/(m*cos(th)^2 + m*sin(th)^2), c_1 == sqrt(-(m^2*cos(th)^2 + m^2*sin(th)^2)/(cos(th)^2 + sin(th)^2 - 1))*cos(th)/(m*r*cos(th)^2 + m*r*sin(th)^2)], [a_n == -m/(cos(th)^2 + sin(th)^2 - 1), b_n == -(m*cos(th)^2*sin(th) + m*sin(th)^3 - sqrt(-cos(th)^4 - sin(th)^4 - (2*cos(th)^2 - 1)*sin(th)^2 + cos(th)^2)*m*cos(th))/(cos(th)^4 + sin(th)^4 + (2*cos(th)^2 - 1)*sin(th)^2 - cos(th)^2), c_n == -(m*cos(th)^3 + m*cos(th)*sin(th)^2 + sqrt(-cos(th)^4 - sin(th)^4 - (2*cos(th)^2 - 1)*sin(th)^2 + cos(th)^2)*m*sin(th))/(r*cos(th)^4 + r*sin(th)^4 - r*cos(th)^2 + (2*r*cos(th)^2 - r)*sin(th)^2), a_1 == -sqrt(-m^2 + m^2*cos(th)^2/(cos(th)^2 + sin(th)^2 - 1)^2 + m^2*sin(th)^2/(cos(th)^2 + sin(th)^2 - 1)^2 - 2*m^2/(cos(th)^2 + sin(th)^2 - 1) - m^2/(cos(th)^2 + sin(th)^2 - 1)^2)/m, b_1 == (m*cos(th)^3/(cos(th)^2 + sin(th)^2 - 1) + m*cos(th)*sin(th)^2/(cos(th)^2 + sin(th)^2 - 1) - (m + m/(cos(th)^2 + sin(th)^2 - 1))*cos(th) - sqrt(-m^2 + m^2*cos(th)^2/(cos(th)^2 + sin(th)^2 - 1)^2 + m^2*sin(th)^2/(cos(th)^2 + sin(th)^2 - 1)^2 - 2*m^2/(cos(th)^2 + sin(th)^2 - 1) - m^2/(cos(th)^2 + sin(th)^2 - 1)^2)*sin(th))/(m*cos(th)^2 + m*sin(th)^2), c_1 == -sqrt(-(m^2*cos(th)^2 + m^2*sin(th)^2)/(cos(th)^2 + sin(th)^2 - 1))*cos(th)/(m*r*cos(th)^2 + m*r*sin(th)^2)], [a_n == -m/(cos(th)^2 + sin(th)^2 - 1), b_n == -(m*cos(th)^2*sin(th) + m*sin(th)^3 + sqrt(-cos(th)^4 - sin(th)^4 - (2*cos(th)^2 - 1)*sin(th)^2 + cos(th)^2)*m*cos(th))/(cos(th)^4 + sin(th)^4 + (2*cos(th)^2 - 1)*sin(th)^2 - cos(th)^2), c_n == -(m*cos(th)^3 + m*cos(th)*sin(th)^2 - sqrt(-cos(th)^4 - sin(th)^4 - (2*cos(th)^2 - 1)*sin(th)^2 + cos(th)^2)*m*sin(th))/(r*cos(th)^4 + r*sin(th)^4 - r*cos(th)^2 + (2*r*cos(th)^2 - r)*sin(th)^2), a_1 == -sqrt(-m^2 + m^2*cos(th)^2/(cos(th)^2 + sin(th)^2 - 1)^2 + m^2*sin(th)^2/(cos(th)^2 + sin(th)^2 - 1)^2 - 2*m^2/(cos(th)^2 + sin(th)^2 - 1) - m^2/(cos(th)^2 + sin(th)^2 - 1)^2)/m, b_1 == (m*cos(th)^3/(cos(th)^2 + sin(th)^2 - 1) + m*cos(th)*sin(th)^2/(cos(th)^2 + sin(th)^2 - 1) - (m + m/(cos(th)^2 + sin(th)^2 - 1))*cos(th) - sqrt(-m^2 + m^2*cos(th)^2/(cos(th)^2 + sin(th)^2 - 1)^2 + m^2*sin(th)^2/(cos(th)^2 + sin(th)^2 - 1)^2 - 2*m^2/(cos(th)^2 + sin(th)^2 - 1) - m^2/(cos(th)^2 + sin(th)^2 - 1)^2)*sin(th))/(m*cos(th)^2 + m*sin(th)^2), c_1 == -sqrt(-(m^2*cos(th)^2 + m^2*sin(th)^2)/(cos(th)^2 + sin(th)^2 - 1))*cos(th)/(m*r*cos(th)^2 + m*r*sin(th)^2)], [a_n == -m/(cos(th)^2 + sin(th)^2 - 1), b_n == -(m*cos(th)^2*sin(th) + m*sin(th)^3 - sqrt(-cos(th)^4 - sin(th)^4 - (2*cos(th)^2 - 1)*sin(th)^2 + cos(th)^2)*m*cos(th))/(cos(th)^4 + sin(th)^4 + (2*cos(th)^2 - 1)*sin(th)^2 - cos(th)^2), c_n == -(m*cos(th)^3 + m*cos(th)*sin(th)^2 + sqrt(-cos(th)^4 - sin(th)^4 - (2*cos(th)^2 - 1)*sin(th)^2 + cos(th)^2)*m*sin(th))/(r*cos(th)^4 + r*sin(th)^4 - r*cos(th)^2 + (2*r*cos(th)^2 - r)*sin(th)^2), a_1 == -sqrt(-m^2 + m^2*cos(th)^2/(cos(th)^2 + sin(th)^2 - 1)^2 + m^2*sin(th)^2/(cos(th)^2 + sin(th)^2 - 1)^2 - 2*m^2/(cos(th)^2 + sin(th)^2 - 1) - m^2/(cos(th)^2 + sin(th)^2 - 1)^2)/m, b_1 == -(m*cos(th)^3/(cos(th)^2 + sin(th)^2 - 1) + m*cos(th)*sin(th)^2/(cos(th)^2 + sin(th)^2 - 1) - (m + m/(cos(th)^2 + sin(th)^2 - 1))*cos(th) + sqrt(-m^2 + m^2*cos(th)^2/(cos(th)^2 + sin(th)^2 - 1)^2 + m^2*sin(th)^2/(cos(th)^2 + sin(th)^2 - 1)^2 - 2*m^2/(cos(th)^2 + sin(th)^2 - 1) - m^2/(cos(th)^2 + sin(th)^2 - 1)^2)*sin(th))/(m*cos(th)^2 + m*sin(th)^2), c_1 == -sqrt(-(m^2*cos(th)^2 + m^2*sin(th)^2)/(cos(th)^2 + sin(th)^2 - 1))*cos(th)/(m*r*cos(th)^2 + m*r*sin(th)^2)], [a_n == -m/(cos(th)^2 + sin(th)^2 - 1), b_n == -(m*cos(th)^2*sin(th) + m*sin(th)^3 + sqrt(-cos(th)^4 - sin(th)^4 - (2*cos(th)^2 - 1)*sin(th)^2 + cos(th)^2)*m*cos(th))/(cos(th)^4 + sin(th)^4 + (2*cos(th)^2 - 1)*sin(th)^2 - cos(th)^2), c_n == -(m*cos(th)^3 + m*cos(th)*sin(th)^2 - sqrt(-cos(th)^4 - sin(th)^4 - (2*cos(th)^2 - 1)*sin(th)^2 + cos(th)^2)*m*sin(th))/(r*cos(th)^4 + r*sin(th)^4 - r*cos(th)^2 + (2*r*cos(th)^2 - r)*sin(th)^2), a_1 == -sqrt(-m^2 + m^2*cos(th)^2/(cos(th)^2 + sin(th)^2 - 1)^2 + m^2*sin(th)^2/(cos(th)^2 + sin(th)^2 - 1)^2 - 2*m^2/(cos(th)^2 + sin(th)^2 - 1) - m^2/(cos(th)^2 + sin(th)^2 - 1)^2)/m, b_1 == -(m*cos(th)^3/(cos(th)^2 + sin(th)^2 - 1) + m*cos(th)*sin(th)^2/(cos(th)^2 + sin(th)^2 - 1) - (m + m/(cos(th)^2 + sin(th)^2 - 1))*cos(th) + sqrt(-m^2 + m^2*cos(th)^2/(cos(th)^2 + sin(th)^2 - 1)^2 + m^2*sin(th)^2/(cos(th)^2 + sin(th)^2 - 1)^2 - 2*m^2/(cos(th)^2 + sin(th)^2 - 1) - m^2/(cos(th)^2 + sin(th)^2 - 1)^2)*sin(th))/(m*cos(th)^2 + m*sin(th)^2), c_1 == -sqrt(-(m^2*cos(th)^2 + m^2*sin(th)^2)/(cos(th)^2 + sin(th)^2 - 1))*cos(th)/(m*r*cos(th)^2 + m*r*sin(th)^2)]]"
      ]
     },
     "execution_count": 36,
     "metadata": {},
     "output_type": "execute_result"
    }
   ],
   "source": [
    "sol = solve([eq_zdot_n,eq_zdot_e1,eq_n2,eq_n_e1,eq_e1_e1], [an,bn,cn,a1,b1,c1])\n",
    "sol"
   ]
  },
  {
   "cell_type": "code",
   "execution_count": 50,
   "id": "b47a003d",
   "metadata": {},
   "outputs": [
    {
     "data": {
      "text/html": [
       "<html>\\(\\displaystyle \\left(p\\left(t, r, {\\theta}, {\\phi}\\right), r_{1}\\right)\\)</html>"
      ],
      "text/latex": [
       "$\\displaystyle \\left(p\\left(t, r, {\\theta}, {\\phi}\\right), r_{1}\\right)$"
      ],
      "text/plain": [
       "(p(t, r, th, ph), r_1)"
      ]
     },
     "execution_count": 50,
     "metadata": {},
     "output_type": "execute_result"
    }
   ],
   "source": [
    "p = function('p')(t, r, th, ph)\n",
    "r1 = var('r_1')\n",
    "p, r1"
   ]
  },
  {
   "cell_type": "code",
   "execution_count": 65,
   "id": "03f8f6a2",
   "metadata": {},
   "outputs": [
    {
     "data": {
      "text/html": [
       "<html>\\(\\displaystyle \\left(\\left[r_{1}, -{\\left(m - r_{1}\\right)} \\sin\\left({\\theta}\\right) - \\sqrt{-m^{2} + 2 \\, m r_{1}} \\cos\\left({\\theta}\\right), -\\frac{{\\left(m - r_{1}\\right)} \\cos\\left({\\theta}\\right) - \\sqrt{-m^{2} + 2 \\, m r_{1}} \\sin\\left({\\theta}\\right)}{r}, 0\\right], \\left[\\frac{\\sqrt{-m^{2} + 2 \\, m r_{1}}}{m}, -\\frac{m \\cos\\left({\\theta}\\right) - \\sqrt{-m^{2} + 2 \\, m r_{1}} \\sin\\left({\\theta}\\right)}{m}, \\frac{m \\sin\\left({\\theta}\\right) + \\sqrt{-m^{2} + 2 \\, m r_{1}} \\cos\\left({\\theta}\\right)}{m r}, 0\\right]\\right)\\)</html>"
      ],
      "text/latex": [
       "$\\displaystyle \\left(\\left[r_{1}, -{\\left(m - r_{1}\\right)} \\sin\\left({\\theta}\\right) - \\sqrt{-m^{2} + 2 \\, m r_{1}} \\cos\\left({\\theta}\\right), -\\frac{{\\left(m - r_{1}\\right)} \\cos\\left({\\theta}\\right) - \\sqrt{-m^{2} + 2 \\, m r_{1}} \\sin\\left({\\theta}\\right)}{r}, 0\\right], \\left[\\frac{\\sqrt{-m^{2} + 2 \\, m r_{1}}}{m}, -\\frac{m \\cos\\left({\\theta}\\right) - \\sqrt{-m^{2} + 2 \\, m r_{1}} \\sin\\left({\\theta}\\right)}{m}, \\frac{m \\sin\\left({\\theta}\\right) + \\sqrt{-m^{2} + 2 \\, m r_{1}} \\cos\\left({\\theta}\\right)}{m r}, 0\\right]\\right)$"
      ],
      "text/plain": [
       "([r1,\n",
       "  -(m - r1)*sin(th) - sqrt(-m^2 + 2*m*r1)*cos(th),\n",
       "  -((m - r1)*cos(th) - sqrt(-m^2 + 2*m*r1)*sin(th))/r,\n",
       "  0],\n",
       " [sqrt(-m^2 + 2*m*r1)/m,\n",
       "  -(m*cos(th) - sqrt(-m^2 + 2*m*r1)*sin(th))/m,\n",
       "  (m*sin(th) + sqrt(-m^2 + 2*m*r1)*cos(th))/(m*r),\n",
       "  0])"
      ]
     },
     "execution_count": 65,
     "metadata": {},
     "output_type": "execute_result"
    }
   ],
   "source": [
    "for i in range(3):\n",
    "    n[i] = sol[0][i].rhs().simplify_trig()\n",
    "    e1[i] = sol[0][i+3].rhs().simplify_trig()\n",
    "n[:], e1[:]"
   ]
  },
  {
   "cell_type": "code",
   "execution_count": 91,
   "id": "a91f6fa5",
   "metadata": {},
   "outputs": [
    {
     "data": {
      "text/html": [
       "<html>\\(\\displaystyle \\left(\\left[p\\left(t, r, {\\theta}, {\\phi}\\right), -{\\left(m - p\\left(t, r, {\\theta}, {\\phi}\\right)\\right)} \\sin\\left({\\theta}\\right) - \\sqrt{-m^{2} + 2 \\, m p\\left(t, r, {\\theta}, {\\phi}\\right)} \\cos\\left({\\theta}\\right), -\\frac{{\\left(m - p\\left(t, r, {\\theta}, {\\phi}\\right)\\right)} \\cos\\left({\\theta}\\right) - \\sqrt{-m^{2} + 2 \\, m p\\left(t, r, {\\theta}, {\\phi}\\right)} \\sin\\left({\\theta}\\right)}{r}, 0\\right], \\left[\\frac{\\sqrt{-m^{2} + 2 \\, m p\\left(t, r, {\\theta}, {\\phi}\\right)}}{m}, -\\frac{m \\cos\\left({\\theta}\\right) - \\sqrt{-m^{2} + 2 \\, m p\\left(t, r, {\\theta}, {\\phi}\\right)} \\sin\\left({\\theta}\\right)}{m}, \\frac{m \\sin\\left({\\theta}\\right) + \\sqrt{-m^{2} + 2 \\, m p\\left(t, r, {\\theta}, {\\phi}\\right)} \\cos\\left({\\theta}\\right)}{m r}, 0\\right]\\right)\\)</html>"
      ],
      "text/latex": [
       "$\\displaystyle \\left(\\left[p\\left(t, r, {\\theta}, {\\phi}\\right), -{\\left(m - p\\left(t, r, {\\theta}, {\\phi}\\right)\\right)} \\sin\\left({\\theta}\\right) - \\sqrt{-m^{2} + 2 \\, m p\\left(t, r, {\\theta}, {\\phi}\\right)} \\cos\\left({\\theta}\\right), -\\frac{{\\left(m - p\\left(t, r, {\\theta}, {\\phi}\\right)\\right)} \\cos\\left({\\theta}\\right) - \\sqrt{-m^{2} + 2 \\, m p\\left(t, r, {\\theta}, {\\phi}\\right)} \\sin\\left({\\theta}\\right)}{r}, 0\\right], \\left[\\frac{\\sqrt{-m^{2} + 2 \\, m p\\left(t, r, {\\theta}, {\\phi}\\right)}}{m}, -\\frac{m \\cos\\left({\\theta}\\right) - \\sqrt{-m^{2} + 2 \\, m p\\left(t, r, {\\theta}, {\\phi}\\right)} \\sin\\left({\\theta}\\right)}{m}, \\frac{m \\sin\\left({\\theta}\\right) + \\sqrt{-m^{2} + 2 \\, m p\\left(t, r, {\\theta}, {\\phi}\\right)} \\cos\\left({\\theta}\\right)}{m r}, 0\\right]\\right)$"
      ],
      "text/plain": [
       "([p(t, r, th, ph),\n",
       "  -(m - p(t, r, th, ph))*sin(th) - sqrt(-m^2 + 2*m*p(t, r, th, ph))*cos(th),\n",
       "  -((m - p(t, r, th, ph))*cos(th) - sqrt(-m^2 + 2*m*p(t, r, th, ph))*sin(th))/r,\n",
       "  0],\n",
       " [sqrt(-m^2 + 2*m*p(t, r, th, ph))/m,\n",
       "  -(m*cos(th) - sqrt(-m^2 + 2*m*p(t, r, th, ph))*sin(th))/m,\n",
       "  (m*sin(th) + sqrt(-m^2 + 2*m*p(t, r, th, ph))*cos(th))/(m*r),\n",
       "  0])"
      ]
     },
     "execution_count": 91,
     "metadata": {},
     "output_type": "execute_result"
    }
   ],
   "source": [
    "n[:] = [p, (p - m)*sin(th) - sqrt(2*m*p - m^2)*cos(th), ((p - m)*cos(th) + sqrt(2*m*p - m^2)*sin(th))/r, 0]\n",
    "e1[:] = [sqrt(2*m*p - m^2)/m, (-m*cos(th) + sqrt(2*m*p - m^2)*sin(th))/m, \\\n",
    "         (m*sin(th) + sqrt(2*m*p - m^2)*cos(th))/(m*r), 0]\n",
    "n[:], e1[:]"
   ]
  },
  {
   "cell_type": "code",
   "execution_count": 73,
   "id": "da04db25",
   "metadata": {},
   "outputs": [
    {
     "data": {
      "text/html": [
       "<html>\\(\\displaystyle \\left(\\begin{array}{llcl} g\\left(n,n\\right):& M & \\longrightarrow & \\mathbb{R} \\\\ & \\left(t, r, {\\theta}, {\\phi}\\right) & \\longmapsto & 0 \\end{array}, \\begin{array}{llcl} g\\left(n,e_1\\right):& M & \\longrightarrow & \\mathbb{R} \\\\ & \\left(t, r, {\\theta}, {\\phi}\\right) & \\longmapsto & 0 \\end{array}, \\begin{array}{llcl} g\\left(e_1,e_1\\right):& M & \\longrightarrow & \\mathbb{R} \\\\ & \\left(t, r, {\\theta}, {\\phi}\\right) & \\longmapsto & 1 \\end{array}, \\begin{array}{llcl} g\\left(n,\\dot{z}\\right):& M & \\longrightarrow & \\mathbb{R} \\\\ & \\left(t, r, {\\theta}, {\\phi}\\right) & \\longmapsto & -1 \\end{array}, \\begin{array}{llcl} g\\left(\\dot{z},e_1\\right):& M & \\longrightarrow & \\mathbb{R} \\\\ & \\left(t, r, {\\theta}, {\\phi}\\right) & \\longmapsto & 0 \\end{array}\\right)\\)</html>"
      ],
      "text/latex": [
       "$\\displaystyle \\left(\\begin{array}{llcl} g\\left(n,n\\right):& M & \\longrightarrow & \\mathbb{R} \\\\ & \\left(t, r, {\\theta}, {\\phi}\\right) & \\longmapsto & 0 \\end{array}, \\begin{array}{llcl} g\\left(n,e_1\\right):& M & \\longrightarrow & \\mathbb{R} \\\\ & \\left(t, r, {\\theta}, {\\phi}\\right) & \\longmapsto & 0 \\end{array}, \\begin{array}{llcl} g\\left(e_1,e_1\\right):& M & \\longrightarrow & \\mathbb{R} \\\\ & \\left(t, r, {\\theta}, {\\phi}\\right) & \\longmapsto & 1 \\end{array}, \\begin{array}{llcl} g\\left(n,\\dot{z}\\right):& M & \\longrightarrow & \\mathbb{R} \\\\ & \\left(t, r, {\\theta}, {\\phi}\\right) & \\longmapsto & -1 \\end{array}, \\begin{array}{llcl} g\\left(\\dot{z},e_1\\right):& M & \\longrightarrow & \\mathbb{R} \\\\ & \\left(t, r, {\\theta}, {\\phi}\\right) & \\longmapsto & 0 \\end{array}\\right)$"
      ],
      "text/plain": [
       "(g(n,n): M → ℝ\n",
       "    (t, r, th, ph) ↦ 0,\n",
       " g(n,e_1): M → ℝ\n",
       "    (t, r, th, ph) ↦ 0,\n",
       " g(e_1,e_1): M → ℝ\n",
       "    (t, r, th, ph) ↦ 1,\n",
       " g(n,\\dot{z}): M → ℝ\n",
       "    (t, r, th, ph) ↦ -1,\n",
       " g(\\dot{z},e_1): M → ℝ\n",
       "    (t, r, th, ph) ↦ 0)"
      ]
     },
     "execution_count": 73,
     "metadata": {},
     "output_type": "execute_result"
    }
   ],
   "source": [
    "g(n, n).display(), g(n, e1).display(), g(e1, e1).display(), g(n, zdot).display(), g(zdot, e1).display()"
   ]
  },
  {
   "cell_type": "code",
   "execution_count": 75,
   "id": "6231e147",
   "metadata": {},
   "outputs": [
    {
     "data": {
      "text/html": [
       "<html>\\(\\displaystyle \\left(\\left[\\frac{r \\sin\\left({\\theta}\\right) \\frac{\\partial\\,p}{\\partial r} + r \\frac{\\partial\\,p}{\\partial t} + \\cos\\left({\\theta}\\right) \\frac{\\partial\\,p}{\\partial {\\theta}}}{m r}, -\\frac{{\\left(r \\cos\\left({\\theta}\\right) \\sin\\left({\\theta}\\right) \\frac{\\partial\\,p}{\\partial r} + r \\cos\\left({\\theta}\\right) \\frac{\\partial\\,p}{\\partial t} + \\cos\\left({\\theta}\\right)^{2} \\frac{\\partial\\,p}{\\partial {\\theta}}\\right)} \\sqrt{m} - {\\left(r \\sin\\left({\\theta}\\right)^{2} \\frac{\\partial\\,p}{\\partial r} + {\\left(r \\frac{\\partial\\,p}{\\partial t} + \\cos\\left({\\theta}\\right) \\frac{\\partial\\,p}{\\partial {\\theta}}\\right)} \\sin\\left({\\theta}\\right)\\right)} \\sqrt{-m + 2 \\, p\\left(t, r, {\\theta}, {\\phi}\\right)}}{m \\sqrt{-m + 2 \\, p\\left(t, r, {\\theta}, {\\phi}\\right)} r}, \\frac{{\\left(r \\sin\\left({\\theta}\\right)^{2} \\frac{\\partial\\,p}{\\partial r} + {\\left(r \\frac{\\partial\\,p}{\\partial t} + \\cos\\left({\\theta}\\right) \\frac{\\partial\\,p}{\\partial {\\theta}}\\right)} \\sin\\left({\\theta}\\right)\\right)} \\sqrt{m} + {\\left(r \\cos\\left({\\theta}\\right) \\sin\\left({\\theta}\\right) \\frac{\\partial\\,p}{\\partial r} + r \\cos\\left({\\theta}\\right) \\frac{\\partial\\,p}{\\partial t} + \\cos\\left({\\theta}\\right)^{2} \\frac{\\partial\\,p}{\\partial {\\theta}}\\right)} \\sqrt{-m + 2 \\, p\\left(t, r, {\\theta}, {\\phi}\\right)}}{m \\sqrt{-m + 2 \\, p\\left(t, r, {\\theta}, {\\phi}\\right)} r^{2}}, 0\\right], \\left[\\frac{r \\sin\\left({\\theta}\\right) \\frac{\\partial\\,p}{\\partial r} + r \\frac{\\partial\\,p}{\\partial t} + \\cos\\left({\\theta}\\right) \\frac{\\partial\\,p}{\\partial {\\theta}}}{m^{\\frac{3}{2}} \\sqrt{-m + 2 \\, p\\left(t, r, {\\theta}, {\\phi}\\right)} r}, \\frac{r \\sin\\left({\\theta}\\right)^{2} \\frac{\\partial\\,p}{\\partial r} + {\\left(r \\frac{\\partial\\,p}{\\partial t} + \\cos\\left({\\theta}\\right) \\frac{\\partial\\,p}{\\partial {\\theta}}\\right)} \\sin\\left({\\theta}\\right)}{m^{\\frac{3}{2}} \\sqrt{-m + 2 \\, p\\left(t, r, {\\theta}, {\\phi}\\right)} r}, \\frac{r \\cos\\left({\\theta}\\right) \\sin\\left({\\theta}\\right) \\frac{\\partial\\,p}{\\partial r} + r \\cos\\left({\\theta}\\right) \\frac{\\partial\\,p}{\\partial t} + \\cos\\left({\\theta}\\right)^{2} \\frac{\\partial\\,p}{\\partial {\\theta}}}{m^{\\frac{3}{2}} \\sqrt{-m + 2 \\, p\\left(t, r, {\\theta}, {\\phi}\\right)} r^{2}}, 0\\right]\\right)\\)</html>"
      ],
      "text/latex": [
       "$\\displaystyle \\left(\\left[\\frac{r \\sin\\left({\\theta}\\right) \\frac{\\partial\\,p}{\\partial r} + r \\frac{\\partial\\,p}{\\partial t} + \\cos\\left({\\theta}\\right) \\frac{\\partial\\,p}{\\partial {\\theta}}}{m r}, -\\frac{{\\left(r \\cos\\left({\\theta}\\right) \\sin\\left({\\theta}\\right) \\frac{\\partial\\,p}{\\partial r} + r \\cos\\left({\\theta}\\right) \\frac{\\partial\\,p}{\\partial t} + \\cos\\left({\\theta}\\right)^{2} \\frac{\\partial\\,p}{\\partial {\\theta}}\\right)} \\sqrt{m} - {\\left(r \\sin\\left({\\theta}\\right)^{2} \\frac{\\partial\\,p}{\\partial r} + {\\left(r \\frac{\\partial\\,p}{\\partial t} + \\cos\\left({\\theta}\\right) \\frac{\\partial\\,p}{\\partial {\\theta}}\\right)} \\sin\\left({\\theta}\\right)\\right)} \\sqrt{-m + 2 \\, p\\left(t, r, {\\theta}, {\\phi}\\right)}}{m \\sqrt{-m + 2 \\, p\\left(t, r, {\\theta}, {\\phi}\\right)} r}, \\frac{{\\left(r \\sin\\left({\\theta}\\right)^{2} \\frac{\\partial\\,p}{\\partial r} + {\\left(r \\frac{\\partial\\,p}{\\partial t} + \\cos\\left({\\theta}\\right) \\frac{\\partial\\,p}{\\partial {\\theta}}\\right)} \\sin\\left({\\theta}\\right)\\right)} \\sqrt{m} + {\\left(r \\cos\\left({\\theta}\\right) \\sin\\left({\\theta}\\right) \\frac{\\partial\\,p}{\\partial r} + r \\cos\\left({\\theta}\\right) \\frac{\\partial\\,p}{\\partial t} + \\cos\\left({\\theta}\\right)^{2} \\frac{\\partial\\,p}{\\partial {\\theta}}\\right)} \\sqrt{-m + 2 \\, p\\left(t, r, {\\theta}, {\\phi}\\right)}}{m \\sqrt{-m + 2 \\, p\\left(t, r, {\\theta}, {\\phi}\\right)} r^{2}}, 0\\right], \\left[\\frac{r \\sin\\left({\\theta}\\right) \\frac{\\partial\\,p}{\\partial r} + r \\frac{\\partial\\,p}{\\partial t} + \\cos\\left({\\theta}\\right) \\frac{\\partial\\,p}{\\partial {\\theta}}}{m^{\\frac{3}{2}} \\sqrt{-m + 2 \\, p\\left(t, r, {\\theta}, {\\phi}\\right)} r}, \\frac{r \\sin\\left({\\theta}\\right)^{2} \\frac{\\partial\\,p}{\\partial r} + {\\left(r \\frac{\\partial\\,p}{\\partial t} + \\cos\\left({\\theta}\\right) \\frac{\\partial\\,p}{\\partial {\\theta}}\\right)} \\sin\\left({\\theta}\\right)}{m^{\\frac{3}{2}} \\sqrt{-m + 2 \\, p\\left(t, r, {\\theta}, {\\phi}\\right)} r}, \\frac{r \\cos\\left({\\theta}\\right) \\sin\\left({\\theta}\\right) \\frac{\\partial\\,p}{\\partial r} + r \\cos\\left({\\theta}\\right) \\frac{\\partial\\,p}{\\partial t} + \\cos\\left({\\theta}\\right)^{2} \\frac{\\partial\\,p}{\\partial {\\theta}}}{m^{\\frac{3}{2}} \\sqrt{-m + 2 \\, p\\left(t, r, {\\theta}, {\\phi}\\right)} r^{2}}, 0\\right]\\right)$"
      ],
      "text/plain": [
       "([(r*sin(th)*d(p)/dr + r*d(p)/dt + cos(th)*d(p)/dth)/(m*r),\n",
       "  -((r*cos(th)*sin(th)*d(p)/dr + r*cos(th)*d(p)/dt + cos(th)^2*d(p)/dth)*sqrt(m) - (r*sin(th)^2*d(p)/dr + (r*d(p)/dt + cos(th)*d(p)/dth)*sin(th))*sqrt(-m + 2*p(t, r, th, ph)))/(m*sqrt(-m + 2*p(t, r, th, ph))*r),\n",
       "  ((r*sin(th)^2*d(p)/dr + (r*d(p)/dt + cos(th)*d(p)/dth)*sin(th))*sqrt(m) + (r*cos(th)*sin(th)*d(p)/dr + r*cos(th)*d(p)/dt + cos(th)^2*d(p)/dth)*sqrt(-m + 2*p(t, r, th, ph)))/(m*sqrt(-m + 2*p(t, r, th, ph))*r^2),\n",
       "  0],\n",
       " [(r*sin(th)*d(p)/dr + r*d(p)/dt + cos(th)*d(p)/dth)/(m^(3/2)*sqrt(-m + 2*p(t, r, th, ph))*r),\n",
       "  (r*sin(th)^2*d(p)/dr + (r*d(p)/dt + cos(th)*d(p)/dth)*sin(th))/(m^(3/2)*sqrt(-m + 2*p(t, r, th, ph))*r),\n",
       "  (r*cos(th)*sin(th)*d(p)/dr + r*cos(th)*d(p)/dt + cos(th)^2*d(p)/dth)/(m^(3/2)*sqrt(-m + 2*p(t, r, th, ph))*r^2),\n",
       "  0])"
      ]
     },
     "execution_count": 75,
     "metadata": {},
     "output_type": "execute_result"
    }
   ],
   "source": [
    "acc_n = nab(n).contract(zdot)\n",
    "acc_e1 = nab(e1).contract(zdot)\n",
    "acc_n[:], acc_e1[:]"
   ]
  },
  {
   "cell_type": "code",
   "execution_count": 80,
   "id": "3217bfa2",
   "metadata": {},
   "outputs": [
    {
     "data": {
      "text/html": [
       "<html>\\(\\displaystyle \\left(r \\sin\\left({\\theta}\\right) \\frac{\\partial}{\\partial r}p\\left(t, r, {\\theta}, {\\phi}\\right) + r \\frac{\\partial}{\\partial t}p\\left(t, r, {\\theta}, {\\phi}\\right) + \\cos\\left({\\theta}\\right) \\frac{\\partial}{\\partial {\\theta}}p\\left(t, r, {\\theta}, {\\phi}\\right) = 0, -{\\left(r \\cos\\left({\\theta}\\right) \\sin\\left({\\theta}\\right) \\frac{\\partial}{\\partial r}p\\left(t, r, {\\theta}, {\\phi}\\right) + r \\cos\\left({\\theta}\\right) \\frac{\\partial}{\\partial t}p\\left(t, r, {\\theta}, {\\phi}\\right) + \\cos\\left({\\theta}\\right)^{2} \\frac{\\partial}{\\partial {\\theta}}p\\left(t, r, {\\theta}, {\\phi}\\right)\\right)} \\sqrt{m} + {\\left(r \\sin\\left({\\theta}\\right)^{2} \\frac{\\partial}{\\partial r}p\\left(t, r, {\\theta}, {\\phi}\\right) + {\\left(r \\frac{\\partial}{\\partial t}p\\left(t, r, {\\theta}, {\\phi}\\right) + \\cos\\left({\\theta}\\right) \\frac{\\partial}{\\partial {\\theta}}p\\left(t, r, {\\theta}, {\\phi}\\right)\\right)} \\sin\\left({\\theta}\\right)\\right)} \\sqrt{-m + 2 \\, p\\left(t, r, {\\theta}, {\\phi}\\right)} = 0, {\\left(r \\sin\\left({\\theta}\\right)^{2} \\frac{\\partial}{\\partial r}p\\left(t, r, {\\theta}, {\\phi}\\right) + {\\left(r \\frac{\\partial}{\\partial t}p\\left(t, r, {\\theta}, {\\phi}\\right) + \\cos\\left({\\theta}\\right) \\frac{\\partial}{\\partial {\\theta}}p\\left(t, r, {\\theta}, {\\phi}\\right)\\right)} \\sin\\left({\\theta}\\right)\\right)} \\sqrt{m} + {\\left(r \\cos\\left({\\theta}\\right) \\sin\\left({\\theta}\\right) \\frac{\\partial}{\\partial r}p\\left(t, r, {\\theta}, {\\phi}\\right) + r \\cos\\left({\\theta}\\right) \\frac{\\partial}{\\partial t}p\\left(t, r, {\\theta}, {\\phi}\\right) + \\cos\\left({\\theta}\\right)^{2} \\frac{\\partial}{\\partial {\\theta}}p\\left(t, r, {\\theta}, {\\phi}\\right)\\right)} \\sqrt{-m + 2 \\, p\\left(t, r, {\\theta}, {\\phi}\\right)} = 0\\right)\\)</html>"
      ],
      "text/latex": [
       "$\\displaystyle \\left(r \\sin\\left({\\theta}\\right) \\frac{\\partial}{\\partial r}p\\left(t, r, {\\theta}, {\\phi}\\right) + r \\frac{\\partial}{\\partial t}p\\left(t, r, {\\theta}, {\\phi}\\right) + \\cos\\left({\\theta}\\right) \\frac{\\partial}{\\partial {\\theta}}p\\left(t, r, {\\theta}, {\\phi}\\right) = 0, -{\\left(r \\cos\\left({\\theta}\\right) \\sin\\left({\\theta}\\right) \\frac{\\partial}{\\partial r}p\\left(t, r, {\\theta}, {\\phi}\\right) + r \\cos\\left({\\theta}\\right) \\frac{\\partial}{\\partial t}p\\left(t, r, {\\theta}, {\\phi}\\right) + \\cos\\left({\\theta}\\right)^{2} \\frac{\\partial}{\\partial {\\theta}}p\\left(t, r, {\\theta}, {\\phi}\\right)\\right)} \\sqrt{m} + {\\left(r \\sin\\left({\\theta}\\right)^{2} \\frac{\\partial}{\\partial r}p\\left(t, r, {\\theta}, {\\phi}\\right) + {\\left(r \\frac{\\partial}{\\partial t}p\\left(t, r, {\\theta}, {\\phi}\\right) + \\cos\\left({\\theta}\\right) \\frac{\\partial}{\\partial {\\theta}}p\\left(t, r, {\\theta}, {\\phi}\\right)\\right)} \\sin\\left({\\theta}\\right)\\right)} \\sqrt{-m + 2 \\, p\\left(t, r, {\\theta}, {\\phi}\\right)} = 0, {\\left(r \\sin\\left({\\theta}\\right)^{2} \\frac{\\partial}{\\partial r}p\\left(t, r, {\\theta}, {\\phi}\\right) + {\\left(r \\frac{\\partial}{\\partial t}p\\left(t, r, {\\theta}, {\\phi}\\right) + \\cos\\left({\\theta}\\right) \\frac{\\partial}{\\partial {\\theta}}p\\left(t, r, {\\theta}, {\\phi}\\right)\\right)} \\sin\\left({\\theta}\\right)\\right)} \\sqrt{m} + {\\left(r \\cos\\left({\\theta}\\right) \\sin\\left({\\theta}\\right) \\frac{\\partial}{\\partial r}p\\left(t, r, {\\theta}, {\\phi}\\right) + r \\cos\\left({\\theta}\\right) \\frac{\\partial}{\\partial t}p\\left(t, r, {\\theta}, {\\phi}\\right) + \\cos\\left({\\theta}\\right)^{2} \\frac{\\partial}{\\partial {\\theta}}p\\left(t, r, {\\theta}, {\\phi}\\right)\\right)} \\sqrt{-m + 2 \\, p\\left(t, r, {\\theta}, {\\phi}\\right)} = 0\\right)$"
      ],
      "text/plain": [
       "(r*sin(th)*diff(p(t, r, th, ph), r) + r*diff(p(t, r, th, ph), t) + cos(th)*diff(p(t, r, th, ph), th) == 0,\n",
       " -(r*cos(th)*sin(th)*diff(p(t, r, th, ph), r) + r*cos(th)*diff(p(t, r, th, ph), t) + cos(th)^2*diff(p(t, r, th, ph), th))*sqrt(m) + (r*sin(th)^2*diff(p(t, r, th, ph), r) + (r*diff(p(t, r, th, ph), t) + cos(th)*diff(p(t, r, th, ph), th))*sin(th))*sqrt(-m + 2*p(t, r, th, ph)) == 0,\n",
       " (r*sin(th)^2*diff(p(t, r, th, ph), r) + (r*diff(p(t, r, th, ph), t) + cos(th)*diff(p(t, r, th, ph), th))*sin(th))*sqrt(m) + (r*cos(th)*sin(th)*diff(p(t, r, th, ph), r) + r*cos(th)*diff(p(t, r, th, ph), t) + cos(th)^2*diff(p(t, r, th, ph), th))*sqrt(-m + 2*p(t, r, th, ph)) == 0)"
      ]
     },
     "execution_count": 80,
     "metadata": {},
     "output_type": "execute_result"
    }
   ],
   "source": [
    "acc_n_eq0 = (acc_n[0].expr() == 0)*acc_n[0].expr().denominator()\n",
    "acc_n_eq1 = (acc_n[1].expr() == 0)*acc_n[1].expr().denominator()\n",
    "acc_n_eq2 = (acc_n[2].expr() == 0)*acc_n[2].expr().denominator()\n",
    "acc_n_eq0, acc_n_eq1, acc_n_eq2"
   ]
  },
  {
   "cell_type": "code",
   "execution_count": 82,
   "id": "50d380e4",
   "metadata": {},
   "outputs": [
    {
     "data": {
      "text/html": [
       "<html>\\(\\displaystyle -r \\sin\\left({\\theta}\\right) \\frac{\\partial}{\\partial r}p\\left(t, r, {\\theta}, {\\phi}\\right) - r \\frac{\\partial}{\\partial t}p\\left(t, r, {\\theta}, {\\phi}\\right) = \\cos\\left({\\theta}\\right) \\frac{\\partial}{\\partial {\\theta}}p\\left(t, r, {\\theta}, {\\phi}\\right)\\)</html>"
      ],
      "text/latex": [
       "$\\displaystyle -r \\sin\\left({\\theta}\\right) \\frac{\\partial}{\\partial r}p\\left(t, r, {\\theta}, {\\phi}\\right) - r \\frac{\\partial}{\\partial t}p\\left(t, r, {\\theta}, {\\phi}\\right) = \\cos\\left({\\theta}\\right) \\frac{\\partial}{\\partial {\\theta}}p\\left(t, r, {\\theta}, {\\phi}\\right)$"
      ],
      "text/plain": [
       "-r*sin(th)*diff(p(t, r, th, ph), r) - r*diff(p(t, r, th, ph), t) == cos(th)*diff(p(t, r, th, ph), th)"
      ]
     },
     "execution_count": 82,
     "metadata": {},
     "output_type": "execute_result"
    }
   ],
   "source": [
    "acc_n_eq01 = (acc_n_eq0 - cos(th)*p.diff(th, 1))*(-1)\n",
    "acc_n_eq01"
   ]
  },
  {
   "cell_type": "code",
   "execution_count": 84,
   "id": "0dacbded",
   "metadata": {},
   "outputs": [
    {
     "data": {
      "text/html": [
       "<html>\\(\\displaystyle -{\\left(r \\sin\\left({\\theta}\\right) \\frac{\\partial}{\\partial r}p\\left(t, r, {\\theta}, {\\phi}\\right) + r \\frac{\\partial}{\\partial t}p\\left(t, r, {\\theta}, {\\phi}\\right) + \\cos\\left({\\theta}\\right) \\frac{\\partial}{\\partial {\\theta}}p\\left(t, r, {\\theta}, {\\phi}\\right)\\right)} {\\left(\\sqrt{m} \\cos\\left({\\theta}\\right) - \\sqrt{-m + 2 \\, p\\left(t, r, {\\theta}, {\\phi}\\right)} \\sin\\left({\\theta}\\right)\\right)} = 0\\)</html>"
      ],
      "text/latex": [
       "$\\displaystyle -{\\left(r \\sin\\left({\\theta}\\right) \\frac{\\partial}{\\partial r}p\\left(t, r, {\\theta}, {\\phi}\\right) + r \\frac{\\partial}{\\partial t}p\\left(t, r, {\\theta}, {\\phi}\\right) + \\cos\\left({\\theta}\\right) \\frac{\\partial}{\\partial {\\theta}}p\\left(t, r, {\\theta}, {\\phi}\\right)\\right)} {\\left(\\sqrt{m} \\cos\\left({\\theta}\\right) - \\sqrt{-m + 2 \\, p\\left(t, r, {\\theta}, {\\phi}\\right)} \\sin\\left({\\theta}\\right)\\right)} = 0$"
      ],
      "text/plain": [
       "-(r*sin(th)*diff(p(t, r, th, ph), r) + r*diff(p(t, r, th, ph), t) + cos(th)*diff(p(t, r, th, ph), th))*(sqrt(m)*cos(th) - sqrt(-m + 2*p(t, r, th, ph))*sin(th)) == 0"
      ]
     },
     "execution_count": 84,
     "metadata": {},
     "output_type": "execute_result"
    }
   ],
   "source": [
    "acc_n_eq1.factor()"
   ]
  },
  {
   "cell_type": "code",
   "execution_count": 86,
   "id": "ed585b6e",
   "metadata": {},
   "outputs": [
    {
     "data": {
      "text/html": [
       "<html>\\(\\displaystyle 0 = 0\\)</html>"
      ],
      "text/latex": [
       "$\\displaystyle 0 = 0$"
      ],
      "text/plain": [
       "0 == 0"
      ]
     },
     "execution_count": 86,
     "metadata": {},
     "output_type": "execute_result"
    }
   ],
   "source": [
    "acc_n_eq12 = acc_n_eq1.factor().subs({acc_n_eq0.lhs():acc_n_eq0.rhs()})\n",
    "acc_n_eq12"
   ]
  },
  {
   "cell_type": "code",
   "execution_count": 88,
   "id": "5fe2dcc5",
   "metadata": {},
   "outputs": [
    {
     "data": {
      "text/html": [
       "<html>\\(\\displaystyle {\\left(r \\sin\\left({\\theta}\\right) \\frac{\\partial}{\\partial r}p\\left(t, r, {\\theta}, {\\phi}\\right) + r \\frac{\\partial}{\\partial t}p\\left(t, r, {\\theta}, {\\phi}\\right) + \\cos\\left({\\theta}\\right) \\frac{\\partial}{\\partial {\\theta}}p\\left(t, r, {\\theta}, {\\phi}\\right)\\right)} {\\left(\\sqrt{-m + 2 \\, p\\left(t, r, {\\theta}, {\\phi}\\right)} \\cos\\left({\\theta}\\right) + \\sqrt{m} \\sin\\left({\\theta}\\right)\\right)} = 0\\)</html>"
      ],
      "text/latex": [
       "$\\displaystyle {\\left(r \\sin\\left({\\theta}\\right) \\frac{\\partial}{\\partial r}p\\left(t, r, {\\theta}, {\\phi}\\right) + r \\frac{\\partial}{\\partial t}p\\left(t, r, {\\theta}, {\\phi}\\right) + \\cos\\left({\\theta}\\right) \\frac{\\partial}{\\partial {\\theta}}p\\left(t, r, {\\theta}, {\\phi}\\right)\\right)} {\\left(\\sqrt{-m + 2 \\, p\\left(t, r, {\\theta}, {\\phi}\\right)} \\cos\\left({\\theta}\\right) + \\sqrt{m} \\sin\\left({\\theta}\\right)\\right)} = 0$"
      ],
      "text/plain": [
       "(r*sin(th)*diff(p(t, r, th, ph), r) + r*diff(p(t, r, th, ph), t) + cos(th)*diff(p(t, r, th, ph), th))*(sqrt(-m + 2*p(t, r, th, ph))*cos(th) + sqrt(m)*sin(th)) == 0"
      ]
     },
     "execution_count": 88,
     "metadata": {},
     "output_type": "execute_result"
    }
   ],
   "source": [
    "acc_n_eq2.factor()"
   ]
  },
  {
   "cell_type": "code",
   "execution_count": 89,
   "id": "11f609fa",
   "metadata": {},
   "outputs": [
    {
     "data": {
      "text/html": [
       "<html>\\(\\displaystyle 0 = 0\\)</html>"
      ],
      "text/latex": [
       "$\\displaystyle 0 = 0$"
      ],
      "text/plain": [
       "0 == 0"
      ]
     },
     "execution_count": 89,
     "metadata": {},
     "output_type": "execute_result"
    }
   ],
   "source": [
    "acc_n_eq21 = acc_n_eq2.factor().subs({acc_n_eq0.lhs():acc_n_eq0.rhs()})\n",
    "acc_n_eq21"
   ]
  },
  {
   "cell_type": "markdown",
   "id": "b58c1256",
   "metadata": {},
   "source": [
    "Thus if we require that the zeroth component of the acceleration of $n$ vanishes, then it automatically follows that the other components vanish. Thus we find that for $n$ to be parallel propagated along the null geodesic, we need to satisfy\n",
    "$r \\sin \\theta \\partial_r p + r \\partial_t p + \\cos \\theta \\partial_{\\theta} p = 0$.\n",
    "\n",
    "Any function $p$ that satisfies the above equation will keep the vector field $n$ parallel transported along the null geodesic. However, we cannot set $p = 0$ since the expression under the square root $\\sqrt{-m^2 + 2 m p}$ becomes imaginary. Thus, we choose $p = m/2$."
   ]
  },
  {
   "cell_type": "code",
   "execution_count": 101,
   "id": "3e5626de",
   "metadata": {},
   "outputs": [
    {
     "data": {
      "text/html": [
       "<html>\\(\\displaystyle \\left[\\frac{1}{2} \\, m, -\\frac{1}{2} \\, m \\sin\\left({\\theta}\\right), -\\frac{m \\cos\\left({\\theta}\\right)}{2 \\, r}, 0\\right]\\)</html>"
      ],
      "text/latex": [
       "$\\displaystyle \\left[\\frac{1}{2} \\, m, -\\frac{1}{2} \\, m \\sin\\left({\\theta}\\right), -\\frac{m \\cos\\left({\\theta}\\right)}{2 \\, r}, 0\\right]$"
      ],
      "text/plain": [
       "[1/2*m, -1/2*m*sin(th), -1/2*m*cos(th)/r, 0]"
      ]
     },
     "execution_count": 101,
     "metadata": {},
     "output_type": "execute_result"
    }
   ],
   "source": [
    "n.apply_map(lambda tmp: tmp.subs({p:m/2}))\n",
    "n[:]"
   ]
  },
  {
   "cell_type": "code",
   "execution_count": 102,
   "id": "9d8d9f97",
   "metadata": {},
   "outputs": [
    {
     "data": {
      "text/html": [
       "<html>\\(\\displaystyle r \\sin\\left({\\theta}\\right) \\frac{\\partial}{\\partial r}p\\left(t, r, {\\theta}, {\\phi}\\right) + r \\frac{\\partial}{\\partial t}p\\left(t, r, {\\theta}, {\\phi}\\right) + \\cos\\left({\\theta}\\right) \\frac{\\partial}{\\partial {\\theta}}p\\left(t, r, {\\theta}, {\\phi}\\right) = 0\\)</html>"
      ],
      "text/latex": [
       "$\\displaystyle r \\sin\\left({\\theta}\\right) \\frac{\\partial}{\\partial r}p\\left(t, r, {\\theta}, {\\phi}\\right) + r \\frac{\\partial}{\\partial t}p\\left(t, r, {\\theta}, {\\phi}\\right) + \\cos\\left({\\theta}\\right) \\frac{\\partial}{\\partial {\\theta}}p\\left(t, r, {\\theta}, {\\phi}\\right) = 0$"
      ],
      "text/plain": [
       "r*sin(th)*diff(p(t, r, th, ph), r) + r*diff(p(t, r, th, ph), t) + cos(th)*diff(p(t, r, th, ph), th) == 0"
      ]
     },
     "execution_count": 102,
     "metadata": {},
     "output_type": "execute_result"
    }
   ],
   "source": [
    "acc_e1_eq0 = (acc_e1[0].expr() == 0)*acc_e1[0].expr().denominator()\n",
    "acc_e1_eq0"
   ]
  },
  {
   "cell_type": "code",
   "execution_count": 103,
   "id": "c474b4be",
   "metadata": {},
   "outputs": [
    {
     "data": {
      "text/html": [
       "<html>\\(\\displaystyle {\\left(r \\sin\\left({\\theta}\\right) \\frac{\\partial}{\\partial r}p\\left(t, r, {\\theta}, {\\phi}\\right) + r \\frac{\\partial}{\\partial t}p\\left(t, r, {\\theta}, {\\phi}\\right) + \\cos\\left({\\theta}\\right) \\frac{\\partial}{\\partial {\\theta}}p\\left(t, r, {\\theta}, {\\phi}\\right)\\right)} \\sin\\left({\\theta}\\right) = 0\\)</html>"
      ],
      "text/latex": [
       "$\\displaystyle {\\left(r \\sin\\left({\\theta}\\right) \\frac{\\partial}{\\partial r}p\\left(t, r, {\\theta}, {\\phi}\\right) + r \\frac{\\partial}{\\partial t}p\\left(t, r, {\\theta}, {\\phi}\\right) + \\cos\\left({\\theta}\\right) \\frac{\\partial}{\\partial {\\theta}}p\\left(t, r, {\\theta}, {\\phi}\\right)\\right)} \\sin\\left({\\theta}\\right) = 0$"
      ],
      "text/plain": [
       "(r*sin(th)*diff(p(t, r, th, ph), r) + r*diff(p(t, r, th, ph), t) + cos(th)*diff(p(t, r, th, ph), th))*sin(th) == 0"
      ]
     },
     "execution_count": 103,
     "metadata": {},
     "output_type": "execute_result"
    }
   ],
   "source": [
    "acc_e1_eq1 = ((acc_e1[1].expr() == 0)*acc_e1[1].expr().denominator()).factor()\n",
    "acc_e1_eq1"
   ]
  },
  {
   "cell_type": "code",
   "execution_count": 104,
   "id": "f3b9030e",
   "metadata": {},
   "outputs": [
    {
     "data": {
      "text/html": [
       "<html>\\(\\displaystyle {\\left(r \\sin\\left({\\theta}\\right) \\frac{\\partial}{\\partial r}p\\left(t, r, {\\theta}, {\\phi}\\right) + r \\frac{\\partial}{\\partial t}p\\left(t, r, {\\theta}, {\\phi}\\right) + \\cos\\left({\\theta}\\right) \\frac{\\partial}{\\partial {\\theta}}p\\left(t, r, {\\theta}, {\\phi}\\right)\\right)} \\cos\\left({\\theta}\\right) = 0\\)</html>"
      ],
      "text/latex": [
       "$\\displaystyle {\\left(r \\sin\\left({\\theta}\\right) \\frac{\\partial}{\\partial r}p\\left(t, r, {\\theta}, {\\phi}\\right) + r \\frac{\\partial}{\\partial t}p\\left(t, r, {\\theta}, {\\phi}\\right) + \\cos\\left({\\theta}\\right) \\frac{\\partial}{\\partial {\\theta}}p\\left(t, r, {\\theta}, {\\phi}\\right)\\right)} \\cos\\left({\\theta}\\right) = 0$"
      ],
      "text/plain": [
       "(r*sin(th)*diff(p(t, r, th, ph), r) + r*diff(p(t, r, th, ph), t) + cos(th)*diff(p(t, r, th, ph), th))*cos(th) == 0"
      ]
     },
     "execution_count": 104,
     "metadata": {},
     "output_type": "execute_result"
    }
   ],
   "source": [
    "acc_e1_eq2 = ((acc_e1[2].expr() == 0)*acc_e1[2].expr().denominator()).factor()\n",
    "acc_e1_eq2"
   ]
  },
  {
   "cell_type": "markdown",
   "id": "19a83845",
   "metadata": {},
   "source": [
    "Clearly requiring that $e_1$ be parallel transported introduces no new constraints on the function $p$. Thus the same choice of $p = m/2$ also works in this case."
   ]
  },
  {
   "cell_type": "code",
   "execution_count": 105,
   "id": "30370fa8",
   "metadata": {},
   "outputs": [
    {
     "data": {
      "text/html": [
       "<html>\\(\\displaystyle \\left[0, -\\cos\\left({\\theta}\\right), \\frac{\\sin\\left({\\theta}\\right)}{r}, 0\\right]\\)</html>"
      ],
      "text/latex": [
       "$\\displaystyle \\left[0, -\\cos\\left({\\theta}\\right), \\frac{\\sin\\left({\\theta}\\right)}{r}, 0\\right]$"
      ],
      "text/plain": [
       "[0, -cos(th), sin(th)/r, 0]"
      ]
     },
     "execution_count": 105,
     "metadata": {},
     "output_type": "execute_result"
    }
   ],
   "source": [
    "e1.apply_map(lambda tmp: tmp.subs({p:m/2}))\n",
    "e1[:]"
   ]
  },
  {
   "cell_type": "code",
   "execution_count": 110,
   "id": "b858c0af",
   "metadata": {},
   "outputs": [
    {
     "data": {
      "text/html": [
       "<html>\\(\\displaystyle \\left(\\begin{array}{llcl} g\\left(n,e_1\\right):& M & \\longrightarrow & \\mathbb{R} \\\\ & \\left(t, r, {\\theta}, {\\phi}\\right) & \\longmapsto & 0 \\end{array}, \\begin{array}{llcl} g\\left(n,n\\right):& M & \\longrightarrow & \\mathbb{R} \\\\ & \\left(t, r, {\\theta}, {\\phi}\\right) & \\longmapsto & 0 \\end{array}, \\begin{array}{llcl} g\\left(\\dot{z},n\\right):& M & \\longrightarrow & \\mathbb{R} \\\\ & \\left(t, r, {\\theta}, {\\phi}\\right) & \\longmapsto & -1 \\end{array}, \\begin{array}{llcl} g\\left(\\dot{z},e_1\\right):& M & \\longrightarrow & \\mathbb{R} \\\\ & \\left(t, r, {\\theta}, {\\phi}\\right) & \\longmapsto & 0 \\end{array}, \\begin{array}{llcl} g\\left(e_1,e_1\\right):& M & \\longrightarrow & \\mathbb{R} \\\\ & \\left(t, r, {\\theta}, {\\phi}\\right) & \\longmapsto & 1 \\end{array}\\right)\\)</html>"
      ],
      "text/latex": [
       "$\\displaystyle \\left(\\begin{array}{llcl} g\\left(n,e_1\\right):& M & \\longrightarrow & \\mathbb{R} \\\\ & \\left(t, r, {\\theta}, {\\phi}\\right) & \\longmapsto & 0 \\end{array}, \\begin{array}{llcl} g\\left(n,n\\right):& M & \\longrightarrow & \\mathbb{R} \\\\ & \\left(t, r, {\\theta}, {\\phi}\\right) & \\longmapsto & 0 \\end{array}, \\begin{array}{llcl} g\\left(\\dot{z},n\\right):& M & \\longrightarrow & \\mathbb{R} \\\\ & \\left(t, r, {\\theta}, {\\phi}\\right) & \\longmapsto & -1 \\end{array}, \\begin{array}{llcl} g\\left(\\dot{z},e_1\\right):& M & \\longrightarrow & \\mathbb{R} \\\\ & \\left(t, r, {\\theta}, {\\phi}\\right) & \\longmapsto & 0 \\end{array}, \\begin{array}{llcl} g\\left(e_1,e_1\\right):& M & \\longrightarrow & \\mathbb{R} \\\\ & \\left(t, r, {\\theta}, {\\phi}\\right) & \\longmapsto & 1 \\end{array}\\right)$"
      ],
      "text/plain": [
       "(g(n,e_1): M → ℝ\n",
       "    (t, r, th, ph) ↦ 0,\n",
       " g(n,n): M → ℝ\n",
       "    (t, r, th, ph) ↦ 0,\n",
       " g(\\dot{z},n): M → ℝ\n",
       "    (t, r, th, ph) ↦ -1,\n",
       " g(\\dot{z},e_1): M → ℝ\n",
       "    (t, r, th, ph) ↦ 0,\n",
       " g(e_1,e_1): M → ℝ\n",
       "    (t, r, th, ph) ↦ 1)"
      ]
     },
     "execution_count": 110,
     "metadata": {},
     "output_type": "execute_result"
    }
   ],
   "source": [
    "g(n, e1).display(), g(n, n).display(), g(zdot, n).display(), g(zdot, e1).display(), g(e1, e1).display()"
   ]
  },
  {
   "cell_type": "code",
   "execution_count": null,
   "id": "e890acdf",
   "metadata": {},
   "outputs": [],
   "source": []
  }
 ],
 "metadata": {
  "kernelspec": {
   "display_name": "SageMath 9.7",
   "language": "sage",
   "name": "sagemath"
  },
  "language_info": {
   "codemirror_mode": {
    "name": "ipython",
    "version": 3
   },
   "file_extension": ".py",
   "mimetype": "text/x-python",
   "name": "python",
   "nbconvert_exporter": "python",
   "pygments_lexer": "ipython3",
   "version": "3.8.10"
  }
 },
 "nbformat": 4,
 "nbformat_minor": 5
}
