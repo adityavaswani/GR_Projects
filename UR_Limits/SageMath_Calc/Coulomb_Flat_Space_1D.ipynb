{
 "cells": [
  {
   "cell_type": "code",
   "execution_count": 49,
   "id": "443890c9",
   "metadata": {},
   "outputs": [],
   "source": [
    "%display latex"
   ]
  },
  {
   "cell_type": "markdown",
   "id": "17bdcb24",
   "metadata": {},
   "source": [
    "In this file, we look at ultrarelativistic charged particle motion in a Coulomb field in flat space. We restrict the motion to 1 spatial direction and perturbatively integrate the equations of motion (without any explicit reference to bitensors or the Penrose limit). This will serve as an easily-followed motivation in the paper.\n",
    "\n",
    "We begin by defining the our spacetime as Minkowski coordinatised by inertial coordinates $(t, x, y, z)$."
   ]
  },
  {
   "cell_type": "code",
   "execution_count": 50,
   "id": "d2ed2e85",
   "metadata": {},
   "outputs": [
    {
     "data": {
      "text/html": [
       "<html>\\(\\displaystyle \\left(\\begin{array}{rrrr}\n",
       "-1 & 0 & 0 & 0 \\\\\n",
       "0 & 1 & 0 & 0 \\\\\n",
       "0 & 0 & 1 & 0 \\\\\n",
       "0 & 0 & 0 & 1\n",
       "\\end{array}\\right)\\)</html>"
      ],
      "text/latex": [
       "$\\displaystyle \\left(\\begin{array}{rrrr}\n",
       "-1 & 0 & 0 & 0 \\\\\n",
       "0 & 1 & 0 & 0 \\\\\n",
       "0 & 0 & 1 & 0 \\\\\n",
       "0 & 0 & 0 & 1\n",
       "\\end{array}\\right)$"
      ],
      "text/plain": [
       "[-1  0  0  0]\n",
       "[ 0  1  0  0]\n",
       "[ 0  0  1  0]\n",
       "[ 0  0  0  1]"
      ]
     },
     "execution_count": 50,
     "metadata": {},
     "output_type": "execute_result"
    }
   ],
   "source": [
    "M = Manifold(4, 'M', structure='Lorentzian')\n",
    "X.<t, r, th, ph> = M.chart(r't x:(-oo,+oo) y:(-oo,+oo) z:(-oo,+oo)')\n",
    "g = M.metric('g')\n",
    "g[0, 0], g[1, 1], g[2, 2], g[3, 3] = -1, 1, 1, 1\n",
    "g[:]"
   ]
  },
  {
   "cell_type": "markdown",
   "id": "84dc522c",
   "metadata": {},
   "source": [
    "Define the variables $s, q, Q, m$, as respectively the parameter along the curves, the test charge, the source charge, and the test mass. Also define the variables $\\epsilon, \\kappa, \\Phi_0$ as respectively the ultrarelativistic parameter, the angular momentum proportionality factor $l = \\kappa/\\epsilon$, and the initial azimuthal angle. Also define the ``outside-in'' functions $(U, V, X^1, X^2)$ which at $\\epsilon = 0$ become the PW coordinates. "
   ]
  },
  {
   "cell_type": "code",
   "execution_count": 51,
   "id": "cd1bfaa1",
   "metadata": {},
   "outputs": [
    {
     "data": {
      "text/html": [
       "<html>\\(\\displaystyle \\left(s, \\epsilon, \\kappa\\right)\\)</html>"
      ],
      "text/latex": [
       "$\\displaystyle \\left(s, \\epsilon, \\kappa\\right)$"
      ],
      "text/plain": [
       "(s, epsilon, kappa)"
      ]
     },
     "execution_count": 51,
     "metadata": {},
     "output_type": "execute_result"
    }
   ],
   "source": [
    "s, q, Q, m = var('s, q, Q, m')\n",
    "eps, kap, phi_init = var('epsilon, kappa, Phi_0')\n",
    "assume(eps>=0)\n",
    "assume(s>=0)\n",
    "assume(kap>0)\n",
    "assume(m>0)\n",
    "s, eps, kap"
   ]
  },
  {
   "cell_type": "code",
   "execution_count": 52,
   "id": "e24c25f5",
   "metadata": {},
   "outputs": [
    {
     "data": {
      "text/html": [
       "<html>\\(\\displaystyle \\left(U\\left(s, \\epsilon\\right), V\\left(s, \\epsilon\\right), X_{1}\\left(s, \\epsilon\\right), X_{2}\\left(s, \\epsilon\\right)\\right)\\)</html>"
      ],
      "text/latex": [
       "$\\displaystyle \\left(U\\left(s, \\epsilon\\right), V\\left(s, \\epsilon\\right), X_{1}\\left(s, \\epsilon\\right), X_{2}\\left(s, \\epsilon\\right)\\right)$"
      ],
      "text/plain": [
       "(U(s, epsilon), V(s, epsilon), X_1(s, epsilon), X_2(s, epsilon))"
      ]
     },
     "execution_count": 52,
     "metadata": {},
     "output_type": "execute_result"
    }
   ],
   "source": [
    "U = function('U', nargs=2)(s, eps)\n",
    "V = function('V', nargs=2)(s, eps)\n",
    "X1 = function('X_1', nargs=2)(s, eps)\n",
    "X2 = function('X_2', nargs=2)(s, eps)\n",
    "U, V, X1, X2"
   ]
  },
  {
   "cell_type": "markdown",
   "id": "c3ff79eb",
   "metadata": {},
   "source": [
    "Define the tangent and deviation vectors respectively $\\partial_U Y^{a'}$ and $\\xi^{a'} \\equiv \\partial_{\\epsilon} Y^{a'}$. The tangent vector has components $\\partial_U Y^{a'} = (\\partial_U t, \\partial_U x, 0, 0)$ where we have considered motion restricted to the $t-x$ submanifold. Further, $\\partial_U t = \\frac{1}{m} \\bigg ( 1 + \\epsilon \\frac{q Q}{x} \\bigg ), \\\\\n",
    "\\partial_U x = \\frac{1}{m} \\sqrt{1 + \\epsilon \\frac{2 q Q}{x} + \\epsilon^2 \\bigg ( \\frac{q^2 Q^2}{x^2} - m^2 \\bigg )}$.\n",
    "\n",
    "and the deviation vector has components $\\xi^{a'} = (\\xi^t, \\xi^r, \\xi^{\\theta}, \\xi^{\\phi}) = (\\partial_{\\epsilon} t, \\partial_{\\epsilon} x, 0, 0)$."
   ]
  },
  {
   "cell_type": "code",
   "execution_count": 53,
   "id": "dd6a8937",
   "metadata": {},
   "outputs": [
    {
     "data": {
      "text/html": [
       "<html>\\(\\displaystyle \\left(\\partial_s Y, \\xi\\right)\\)</html>"
      ],
      "text/latex": [
       "$\\displaystyle \\left(\\partial_s Y, \\xi\\right)$"
      ],
      "text/plain": [
       "(Vector field \\partial_s Y on the 4-dimensional Lorentzian manifold M,\n",
       " Vector field \\xi on the 4-dimensional Lorentzian manifold M)"
      ]
     },
     "execution_count": 53,
     "metadata": {},
     "output_type": "execute_result"
    }
   ],
   "source": [
    "dsY = M.vector_field(name=r'\\partial_s Y')\n",
    "xi = M.vector_field(name=r'\\xi')\n",
    "dsY, xi"
   ]
  },
  {
   "cell_type": "code",
   "execution_count": 54,
   "id": "f414c75c",
   "metadata": {},
   "outputs": [
    {
     "data": {
      "text/html": [
       "<html>\\(\\displaystyle \\left(\\frac{\\frac{Q \\epsilon q}{x} + 1}{m}, \\frac{\\sqrt{-{\\left(m^{2} - \\frac{Q^{2} q^{2}}{x^{2}}\\right)} \\epsilon^{2} + \\frac{2 \\, Q \\epsilon q}{x} + 1}}{m}\\right)\\)</html>"
      ],
      "text/latex": [
       "$\\displaystyle \\left(\\frac{\\frac{Q \\epsilon q}{x} + 1}{m}, \\frac{\\sqrt{-{\\left(m^{2} - \\frac{Q^{2} q^{2}}{x^{2}}\\right)} \\epsilon^{2} + \\frac{2 \\, Q \\epsilon q}{x} + 1}}{m}\\right)$"
      ],
      "text/plain": [
       "((Q*epsilon*q/x + 1)/m,\n",
       " sqrt(-(m^2 - Q^2*q^2/x^2)*epsilon^2 + 2*Q*epsilon*q/x + 1)/m)"
      ]
     },
     "execution_count": 54,
     "metadata": {},
     "output_type": "execute_result"
    }
   ],
   "source": [
    "ds_t = 1/m*(1 + eps*q*Q/x)\n",
    "ds_x = 1/m*sqrt(1 + eps*2*q*Q/x + eps^2*(q^2*Q^2/x^2 - m^2))\n",
    "ds_t, ds_x"
   ]
  },
  {
   "cell_type": "code",
   "execution_count": 55,
   "id": "c02658aa",
   "metadata": {},
   "outputs": [
    {
     "data": {
      "text/html": [
       "<html>\\(\\displaystyle \\left(\\left[\\frac{\\frac{Q \\epsilon q}{x} + 1}{m}, \\frac{\\sqrt{-{\\left(m^{2} - \\frac{Q^{2} q^{2}}{x^{2}}\\right)} \\epsilon^{2} + \\frac{2 \\, Q \\epsilon q}{x} + 1}}{m}, 0, 0\\right], \\left[\\xi_{t}\\left(s, \\epsilon\\right), \\xi_{x}\\left(s, \\epsilon\\right), 0, 0\\right]\\right)\\)</html>"
      ],
      "text/latex": [
       "$\\displaystyle \\left(\\left[\\frac{\\frac{Q \\epsilon q}{x} + 1}{m}, \\frac{\\sqrt{-{\\left(m^{2} - \\frac{Q^{2} q^{2}}{x^{2}}\\right)} \\epsilon^{2} + \\frac{2 \\, Q \\epsilon q}{x} + 1}}{m}, 0, 0\\right], \\left[\\xi_{t}\\left(s, \\epsilon\\right), \\xi_{x}\\left(s, \\epsilon\\right), 0, 0\\right]\\right)$"
      ],
      "text/plain": [
       "([(Q*epsilon*q/x + 1)/m,\n",
       "  sqrt(-(m^2 - Q^2*q^2/x^2)*epsilon^2 + 2*Q*epsilon*q/x + 1)/m,\n",
       "  0,\n",
       "  0],\n",
       " [xi_t(s, epsilon), xi_x(s, epsilon), 0, 0])"
      ]
     },
     "execution_count": 55,
     "metadata": {},
     "output_type": "execute_result"
    }
   ],
   "source": [
    "xi_t = function('xi_t')(s, eps)\n",
    "xi_x = function('xi_x')(s, eps)\n",
    "dsY[:] = [ds_t, ds_x, 0, 0]\n",
    "xi[:] = [xi_t, xi_x, 0, 0]\n",
    "dsY[:], xi[:]"
   ]
  },
  {
   "cell_type": "markdown",
   "id": "11e0bc0e",
   "metadata": {},
   "source": [
    "The leading order solution (the equation of the reference null geodesic) can be obtained by setting $\\epsilon = 0$ and integrating the components of the tangent vector."
   ]
  },
  {
   "cell_type": "code",
   "execution_count": 56,
   "id": "bbe24c0e",
   "metadata": {},
   "outputs": [
    {
     "data": {
      "text/html": [
       "<html>\\(\\displaystyle \\left(\\left[\\frac{1}{m}, \\frac{1}{m}, 0, 0\\right], \\left[\\frac{\\frac{Q \\epsilon q}{x} + 1}{m}, \\frac{\\sqrt{-{\\left(m^{2} - \\frac{Q^{2} q^{2}}{x^{2}}\\right)} \\epsilon^{2} + \\frac{2 \\, Q \\epsilon q}{x} + 1}}{m}, 0, 0\\right]\\right)\\)</html>"
      ],
      "text/latex": [
       "$\\displaystyle \\left(\\left[\\frac{1}{m}, \\frac{1}{m}, 0, 0\\right], \\left[\\frac{\\frac{Q \\epsilon q}{x} + 1}{m}, \\frac{\\sqrt{-{\\left(m^{2} - \\frac{Q^{2} q^{2}}{x^{2}}\\right)} \\epsilon^{2} + \\frac{2 \\, Q \\epsilon q}{x} + 1}}{m}, 0, 0\\right]\\right)$"
      ],
      "text/plain": [
       "([1/m, 1/m, 0, 0],\n",
       " [(Q*epsilon*q/x + 1)/m,\n",
       "  sqrt(-(m^2 - Q^2*q^2/x^2)*epsilon^2 + 2*Q*epsilon*q/x + 1)/m,\n",
       "  0,\n",
       "  0])"
      ]
     },
     "execution_count": 56,
     "metadata": {},
     "output_type": "execute_result"
    }
   ],
   "source": [
    "ds_Y0 = dsY.copy()\n",
    "ds_Y0.apply_map(lambda x: x.subs({eps:0}))\n",
    "ds_Y0[:], dsY[:]"
   ]
  },
  {
   "cell_type": "code",
   "execution_count": 57,
   "id": "37f6c59b",
   "metadata": {},
   "outputs": [
    {
     "data": {
      "text/html": [
       "<html>\\(\\displaystyle \\left(\\frac{s}{m}, \\frac{s}{m}\\right)\\)</html>"
      ],
      "text/latex": [
       "$\\displaystyle \\left(\\frac{s}{m}, \\frac{s}{m}\\right)$"
      ],
      "text/plain": [
       "(s/m, s/m)"
      ]
     },
     "execution_count": 57,
     "metadata": {},
     "output_type": "execute_result"
    }
   ],
   "source": [
    "t0_sol = ds_Y0[0].expr().integrate(s)\n",
    "x0_sol = ds_Y0[1].expr().integrate(s)\n",
    "t0_sol, x0_sol"
   ]
  },
  {
   "cell_type": "code",
   "execution_count": 58,
   "id": "87393365",
   "metadata": {},
   "outputs": [
    {
     "data": {
      "text/html": [
       "<html>\\(\\displaystyle \\left(\\left[\\frac{1}{m}, \\frac{1}{m}, 0, 0\\right], \\left[\\frac{1}{2} \\, m, -\\frac{1}{2} \\, m, 0, 0\\right], \\left[0, 0, 1, 0\\right], \\left[0, 0, 0, 1\\right]\\right)\\)</html>"
      ],
      "text/latex": [
       "$\\displaystyle \\left(\\left[\\frac{1}{m}, \\frac{1}{m}, 0, 0\\right], \\left[\\frac{1}{2} \\, m, -\\frac{1}{2} \\, m, 0, 0\\right], \\left[0, 0, 1, 0\\right], \\left[0, 0, 0, 1\\right]\\right)$"
      ],
      "text/plain": [
       "([1/m, 1/m, 0, 0], [1/2*m, -1/2*m, 0, 0], [0, 0, 1, 0], [0, 0, 0, 1])"
      ]
     },
     "execution_count": 58,
     "metadata": {},
     "output_type": "execute_result"
    }
   ],
   "source": [
    "zdot = M.vector_field(name=r'\\dot{z}')\n",
    "n = M.vector_field(name='n')\n",
    "e1 = M.vector_field(name='e_1')\n",
    "e2 = M.vector_field(name='e_2')\n",
    "zdot[:] = [1/m, 1/m, 0, 0]\n",
    "n[:] = [m/2, -m/2, 0, 0]\n",
    "e1[:] = [0, 0, 1, 0]\n",
    "e2[:] = [0, 0, 0, 1]\n",
    "zdot[:], n[:], e1[:], e2[:]"
   ]
  },
  {
   "cell_type": "code",
   "execution_count": 59,
   "id": "b2032c29",
   "metadata": {},
   "outputs": [
    {
     "data": {
      "text/html": [
       "<html>\\(\\displaystyle \\left(\\begin{array}{llcl} g\\left(\\dot{z},\\dot{z}\\right):& M & \\longrightarrow & \\mathbb{R} \\\\ & \\left(t, x, y, z\\right) & \\longmapsto & 0 \\end{array}, \\begin{array}{llcl} g\\left(\\dot{z},n\\right):& M & \\longrightarrow & \\mathbb{R} \\\\ & \\left(t, x, y, z\\right) & \\longmapsto & -1 \\end{array}, \\begin{array}{llcl} g\\left(n,n\\right):& M & \\longrightarrow & \\mathbb{R} \\\\ & \\left(t, x, y, z\\right) & \\longmapsto & 0 \\end{array}\\right)\\)</html>"
      ],
      "text/latex": [
       "$\\displaystyle \\left(\\begin{array}{llcl} g\\left(\\dot{z},\\dot{z}\\right):& M & \\longrightarrow & \\mathbb{R} \\\\ & \\left(t, x, y, z\\right) & \\longmapsto & 0 \\end{array}, \\begin{array}{llcl} g\\left(\\dot{z},n\\right):& M & \\longrightarrow & \\mathbb{R} \\\\ & \\left(t, x, y, z\\right) & \\longmapsto & -1 \\end{array}, \\begin{array}{llcl} g\\left(n,n\\right):& M & \\longrightarrow & \\mathbb{R} \\\\ & \\left(t, x, y, z\\right) & \\longmapsto & 0 \\end{array}\\right)$"
      ],
      "text/plain": [
       "(g(\\dot{z},\\dot{z}): M → ℝ\n",
       "    (t, x, y, z) ↦ 0,\n",
       " g(\\dot{z},n): M → ℝ\n",
       "    (t, x, y, z) ↦ -1,\n",
       " g(n,n): M → ℝ\n",
       "    (t, x, y, z) ↦ 0)"
      ]
     },
     "execution_count": 59,
     "metadata": {},
     "output_type": "execute_result"
    }
   ],
   "source": [
    "g(zdot, zdot).display(), g(zdot, n).display(), g(n, n).display()"
   ]
  },
  {
   "cell_type": "code",
   "execution_count": 60,
   "id": "8bf1be48",
   "metadata": {},
   "outputs": [
    {
     "data": {
      "text/html": [
       "<html>\\(\\displaystyle X\\left(s, \\epsilon\\right)\\)</html>"
      ],
      "text/latex": [
       "$\\displaystyle X\\left(s, \\epsilon\\right)$"
      ],
      "text/plain": [
       "X(s, epsilon)"
      ]
     },
     "execution_count": 60,
     "metadata": {},
     "output_type": "execute_result"
    }
   ],
   "source": [
    "X = function('X')(s, eps)\n",
    "X"
   ]
  },
  {
   "cell_type": "code",
   "execution_count": 61,
   "id": "07c05cb1",
   "metadata": {},
   "outputs": [
    {
     "data": {
      "text/html": [
       "<html>\\(\\displaystyle \\left[\\frac{\\frac{Q \\epsilon q}{x} + 1}{m}, \\frac{\\sqrt{-{\\left(m^{2} - \\frac{Q^{2} q^{2}}{x^{2}}\\right)} \\epsilon^{2} + \\frac{2 \\, Q \\epsilon q}{x} + 1}}{m}, 0, 0\\right]\\)</html>"
      ],
      "text/latex": [
       "$\\displaystyle \\left[\\frac{\\frac{Q \\epsilon q}{x} + 1}{m}, \\frac{\\sqrt{-{\\left(m^{2} - \\frac{Q^{2} q^{2}}{x^{2}}\\right)} \\epsilon^{2} + \\frac{2 \\, Q \\epsilon q}{x} + 1}}{m}, 0, 0\\right]$"
      ],
      "text/plain": [
       "[(Q*epsilon*q/x + 1)/m,\n",
       " sqrt(-(m^2 - Q^2*q^2/x^2)*epsilon^2 + 2*Q*epsilon*q/x + 1)/m,\n",
       " 0,\n",
       " 0]"
      ]
     },
     "execution_count": 61,
     "metadata": {},
     "output_type": "execute_result"
    }
   ],
   "source": [
    "dsY[:]"
   ]
  },
  {
   "cell_type": "code",
   "execution_count": 63,
   "id": "5087ee1d",
   "metadata": {},
   "outputs": [
    {
     "data": {
      "text/html": [
       "<html>\\(\\displaystyle \\left(\\frac{\\frac{Q \\epsilon q}{X\\left(s, \\epsilon\\right)} + 1}{m}, \\frac{\\sqrt{-{\\left(m^{2} - \\frac{Q^{2} q^{2}}{X\\left(s, \\epsilon\\right)^{2}}\\right)} \\epsilon^{2} + \\frac{2 \\, Q \\epsilon q}{X\\left(s, \\epsilon\\right)} + 1}}{m}\\right)\\)</html>"
      ],
      "text/latex": [
       "$\\displaystyle \\left(\\frac{\\frac{Q \\epsilon q}{X\\left(s, \\epsilon\\right)} + 1}{m}, \\frac{\\sqrt{-{\\left(m^{2} - \\frac{Q^{2} q^{2}}{X\\left(s, \\epsilon\\right)^{2}}\\right)} \\epsilon^{2} + \\frac{2 \\, Q \\epsilon q}{X\\left(s, \\epsilon\\right)} + 1}}{m}\\right)$"
      ],
      "text/plain": [
       "((Q*epsilon*q/X(s, epsilon) + 1)/m,\n",
       " sqrt(-(m^2 - Q^2*q^2/X(s, epsilon)^2)*epsilon^2 + 2*Q*epsilon*q/X(s, epsilon) + 1)/m)"
      ]
     },
     "execution_count": 63,
     "metadata": {},
     "output_type": "execute_result"
    }
   ],
   "source": [
    "dst = 1/m*(1 + eps*q*Q/X)\n",
    "dsx = 1/m*sqrt(1 + eps*2*q*Q/X + eps^2*(q^2*Q^2/X^2 - m^2))\n",
    "dst, dsx"
   ]
  },
  {
   "cell_type": "code",
   "execution_count": 64,
   "id": "a6bbd238",
   "metadata": {},
   "outputs": [
    {
     "data": {
      "text/html": [
       "<html>\\(\\displaystyle -\\frac{Q \\epsilon^{2} q \\mathrm{D}_{1}\\left(X\\right)\\left(s, 0\\right)}{m X\\left(s, 0\\right)^{2}} + \\frac{Q \\epsilon q}{m X\\left(s, 0\\right)} + \\frac{1}{m}\\)</html>"
      ],
      "text/latex": [
       "$\\displaystyle -\\frac{Q \\epsilon^{2} q \\mathrm{D}_{1}\\left(X\\right)\\left(s, 0\\right)}{m X\\left(s, 0\\right)^{2}} + \\frac{Q \\epsilon q}{m X\\left(s, 0\\right)} + \\frac{1}{m}$"
      ],
      "text/plain": [
       "-Q*epsilon^2*q*D[1](X)(s, 0)/(m*X(s, 0)^2) + Q*epsilon*q/(m*X(s, 0)) + 1/m"
      ]
     },
     "execution_count": 64,
     "metadata": {},
     "output_type": "execute_result"
    }
   ],
   "source": [
    "dst.taylor(eps, 0, 2)"
   ]
  },
  {
   "cell_type": "code",
   "execution_count": 65,
   "id": "3b32308a",
   "metadata": {},
   "outputs": [
    {
     "data": {
      "text/html": [
       "<html>\\(\\displaystyle \\frac{Q \\epsilon q}{m X\\left(s, 0\\right)} - \\frac{{\\left(m^{2} X\\left(s, 0\\right)^{2} + 2 \\, Q q \\mathrm{D}_{1}\\left(X\\right)\\left(s, 0\\right)\\right)} \\epsilon^{2}}{2 \\, m X\\left(s, 0\\right)^{2}} + \\frac{1}{m}\\)</html>"
      ],
      "text/latex": [
       "$\\displaystyle \\frac{Q \\epsilon q}{m X\\left(s, 0\\right)} - \\frac{{\\left(m^{2} X\\left(s, 0\\right)^{2} + 2 \\, Q q \\mathrm{D}_{1}\\left(X\\right)\\left(s, 0\\right)\\right)} \\epsilon^{2}}{2 \\, m X\\left(s, 0\\right)^{2}} + \\frac{1}{m}$"
      ],
      "text/plain": [
       "Q*epsilon*q/(m*X(s, 0)) - 1/2*(m^2*X(s, 0)^2 + 2*Q*q*D[1](X)(s, 0))*epsilon^2/(m*X(s, 0)^2) + 1/m"
      ]
     },
     "execution_count": 65,
     "metadata": {},
     "output_type": "execute_result"
    }
   ],
   "source": [
    "dsx.taylor(eps, 0, 2)"
   ]
  },
  {
   "cell_type": "code",
   "execution_count": 66,
   "id": "9a529adc",
   "metadata": {},
   "outputs": [
    {
     "data": {
      "text/html": [
       "<html>\\(\\displaystyle \\left(X\\left(s, 0\\right), \\mathrm{D}_{1}\\left(X\\right)\\left(s, 0\\right)\\right)\\)</html>"
      ],
      "text/latex": [
       "$\\displaystyle \\left(X\\left(s, 0\\right), \\mathrm{D}_{1}\\left(X\\right)\\left(s, 0\\right)\\right)$"
      ],
      "text/plain": [
       "(X(s, 0), D[1](X)(s, 0))"
      ]
     },
     "execution_count": 66,
     "metadata": {},
     "output_type": "execute_result"
    }
   ],
   "source": [
    "X0 = X.subs({eps:0})\n",
    "depsX0 = X.diff(eps, 1).subs({eps:0})\n",
    "X0, depsX0"
   ]
  },
  {
   "cell_type": "code",
   "execution_count": 67,
   "id": "0dc3fc3b",
   "metadata": {},
   "outputs": [
    {
     "data": {
      "text/html": [
       "<html>\\(\\displaystyle -\\frac{{\\left(2 \\, Q^{2} q^{2} \\log\\left(s\\right) + s^{2}\\right)} m}{s^{2}}\\)</html>"
      ],
      "text/latex": [
       "$\\displaystyle -\\frac{{\\left(2 \\, Q^{2} q^{2} \\log\\left(s\\right) + s^{2}\\right)} m}{s^{2}}$"
      ],
      "text/plain": [
       "-(2*Q^2*q^2*log(s) + s^2)*m/s^2"
      ]
     },
     "execution_count": 67,
     "metadata": {},
     "output_type": "execute_result"
    }
   ],
   "source": [
    "dsx.taylor(eps, 0, 2).diff(eps, 2).subs({X0:x0_sol}).subs({depsX0:q*Q*ln(s)})"
   ]
  },
  {
   "cell_type": "code",
   "execution_count": 68,
   "id": "9e2497cf",
   "metadata": {},
   "outputs": [
    {
     "data": {
      "text/html": [
       "<html>\\(\\displaystyle {\\left(2 \\, Q^{2} q^{2} {\\left(\\frac{\\log\\left(s\\right)}{s} + \\frac{1}{s}\\right)} - s\\right)} m\\)</html>"
      ],
      "text/latex": [
       "$\\displaystyle {\\left(2 \\, Q^{2} q^{2} {\\left(\\frac{\\log\\left(s\\right)}{s} + \\frac{1}{s}\\right)} - s\\right)} m$"
      ],
      "text/plain": [
       "(2*Q^2*q^2*(log(s)/s + 1/s) - s)*m"
      ]
     },
     "execution_count": 68,
     "metadata": {},
     "output_type": "execute_result"
    }
   ],
   "source": [
    "dsx.taylor(eps, 0, 2).diff(eps, 2).subs({X0:x0_sol}).subs({depsX0:q*Q*ln(s)}).integrate(s)"
   ]
  },
  {
   "cell_type": "code",
   "execution_count": 69,
   "id": "88235c78",
   "metadata": {},
   "outputs": [
    {
     "data": {
      "text/html": [
       "<html>\\(\\displaystyle 2 \\, Q^{2} m q^{2} {\\left(\\frac{\\log\\left(s\\right)}{s} + \\frac{1}{s}\\right)}\\)</html>"
      ],
      "text/latex": [
       "$\\displaystyle 2 \\, Q^{2} m q^{2} {\\left(\\frac{\\log\\left(s\\right)}{s} + \\frac{1}{s}\\right)}$"
      ],
      "text/plain": [
       "2*Q^2*m*q^2*(log(s)/s + 1/s)"
      ]
     },
     "execution_count": 69,
     "metadata": {},
     "output_type": "execute_result"
    }
   ],
   "source": [
    "dst.taylor(eps, 0, 2).diff(eps, 2).subs({X0:x0_sol}).subs({depsX0:q*Q*ln(s)}).integrate(s)"
   ]
  },
  {
   "cell_type": "code",
   "execution_count": 70,
   "id": "a1ac1137",
   "metadata": {},
   "outputs": [
    {
     "data": {
      "text/html": [
       "<html>\\(\\displaystyle \\frac{Q^{2} \\epsilon^{2} m q^{2} {\\left(\\log\\left(s\\right) + 1\\right)}}{s} + Q \\epsilon q \\log\\left(s\\right) + \\frac{s}{m}\\)</html>"
      ],
      "text/latex": [
       "$\\displaystyle \\frac{Q^{2} \\epsilon^{2} m q^{2} {\\left(\\log\\left(s\\right) + 1\\right)}}{s} + Q \\epsilon q \\log\\left(s\\right) + \\frac{s}{m}$"
      ],
      "text/plain": [
       "Q^2*epsilon^2*m*q^2*(log(s) + 1)/s + Q*epsilon*q*log(s) + s/m"
      ]
     },
     "execution_count": 70,
     "metadata": {},
     "output_type": "execute_result"
    }
   ],
   "source": [
    "tOeps2 = s/m + eps*q*Q*ln(s) + eps^2*m*q^2*Q^2*(ln(s) + 1)/s\n",
    "tOeps2"
   ]
  },
  {
   "cell_type": "code",
   "execution_count": 71,
   "id": "9255c08a",
   "metadata": {},
   "outputs": [
    {
     "data": {
      "text/html": [
       "<html>\\(\\displaystyle \\frac{1}{2} \\, {\\left(\\frac{2 \\, Q^{2} q^{2} {\\left(\\log\\left(s\\right) + 1\\right)}}{s} - s\\right)} \\epsilon^{2} m + Q \\epsilon q \\log\\left(s\\right) + \\frac{s}{m}\\)</html>"
      ],
      "text/latex": [
       "$\\displaystyle \\frac{1}{2} \\, {\\left(\\frac{2 \\, Q^{2} q^{2} {\\left(\\log\\left(s\\right) + 1\\right)}}{s} - s\\right)} \\epsilon^{2} m + Q \\epsilon q \\log\\left(s\\right) + \\frac{s}{m}$"
      ],
      "text/plain": [
       "1/2*(2*Q^2*q^2*(log(s) + 1)/s - s)*epsilon^2*m + Q*epsilon*q*log(s) + s/m"
      ]
     },
     "execution_count": 71,
     "metadata": {},
     "output_type": "execute_result"
    }
   ],
   "source": [
    "xOeps2 = s/m + eps*q*Q*ln(s) + eps^2*m*(2*q^2*Q^2*(ln(s) + 1)/s - s)/2\n",
    "xOeps2"
   ]
  },
  {
   "cell_type": "markdown",
   "id": "b72369cd",
   "metadata": {},
   "source": [
    "Check that the above expressions are indeed correct by subtracting their first derivatives from the known expressions for $\\partial_s t$ and $\\partial_s x$."
   ]
  },
  {
   "cell_type": "code",
   "execution_count": 72,
   "id": "de6b2160",
   "metadata": {},
   "outputs": [
    {
     "data": {
      "text/html": [
       "<html>\\(\\displaystyle 0\\)</html>"
      ],
      "text/latex": [
       "$\\displaystyle 0$"
      ],
      "text/plain": [
       "0"
      ]
     },
     "execution_count": 72,
     "metadata": {},
     "output_type": "execute_result"
    }
   ],
   "source": [
    "(tOeps2.diff(s, 1) - dst.taylor(eps, 0, 2).subs({X0:x0_sol}).subs({depsX0:q*Q*ln(s)})).simplify_full()"
   ]
  },
  {
   "cell_type": "code",
   "execution_count": 73,
   "id": "451bb0af",
   "metadata": {},
   "outputs": [
    {
     "data": {
      "text/html": [
       "<html>\\(\\displaystyle 0\\)</html>"
      ],
      "text/latex": [
       "$\\displaystyle 0$"
      ],
      "text/plain": [
       "0"
      ]
     },
     "execution_count": 73,
     "metadata": {},
     "output_type": "execute_result"
    }
   ],
   "source": [
    "(xOeps2.diff(s, 1) - dsx.taylor(eps, 0, 2).subs({X0:x0_sol}).subs({depsX0:q*Q*ln(s)})).simplify_full()"
   ]
  },
  {
   "cell_type": "code",
   "execution_count": 74,
   "id": "04e39afd",
   "metadata": {},
   "outputs": [
    {
     "data": {
      "text/html": [
       "<html>\\(\\displaystyle \\frac{1}{4} \\, {\\left(\\frac{2 \\, Q^{2} \\epsilon^{2} m q^{2} {\\left(\\log\\left(s\\right) + 1\\right)}}{s} + {\\left(\\frac{2 \\, Q^{2} q^{2} {\\left(\\log\\left(s\\right) + 1\\right)}}{s} - s\\right)} \\epsilon^{2} m + 4 \\, Q \\epsilon q \\log\\left(s\\right) + \\frac{4 \\, s}{m}\\right)} m\\)</html>"
      ],
      "text/latex": [
       "$\\displaystyle \\frac{1}{4} \\, {\\left(\\frac{2 \\, Q^{2} \\epsilon^{2} m q^{2} {\\left(\\log\\left(s\\right) + 1\\right)}}{s} + {\\left(\\frac{2 \\, Q^{2} q^{2} {\\left(\\log\\left(s\\right) + 1\\right)}}{s} - s\\right)} \\epsilon^{2} m + 4 \\, Q \\epsilon q \\log\\left(s\\right) + \\frac{4 \\, s}{m}\\right)} m$"
      ],
      "text/plain": [
       "1/4*(2*Q^2*epsilon^2*m*q^2*(log(s) + 1)/s + (2*Q^2*q^2*(log(s) + 1)/s - s)*epsilon^2*m + 4*Q*epsilon*q*log(s) + 4*s/m)*m"
      ]
     },
     "execution_count": 74,
     "metadata": {},
     "output_type": "execute_result"
    }
   ],
   "source": [
    "U = m*(tOeps2 + xOeps2)/2\n",
    "U"
   ]
  },
  {
   "cell_type": "code",
   "execution_count": 75,
   "id": "bc982a66",
   "metadata": {},
   "outputs": [
    {
     "data": {
      "text/html": [
       "<html>\\(\\displaystyle Q \\epsilon m q \\log\\left(s\\right) + \\frac{1}{4} \\, {\\left(\\frac{4 \\, Q^{2} m^{2} q^{2} \\log\\left(s\\right)}{s} + \\frac{4 \\, Q^{2} m^{2} q^{2}}{s} - m^{2} s\\right)} \\epsilon^{2} + s\\)</html>"
      ],
      "text/latex": [
       "$\\displaystyle Q \\epsilon m q \\log\\left(s\\right) + \\frac{1}{4} \\, {\\left(\\frac{4 \\, Q^{2} m^{2} q^{2} \\log\\left(s\\right)}{s} + \\frac{4 \\, Q^{2} m^{2} q^{2}}{s} - m^{2} s\\right)} \\epsilon^{2} + s$"
      ],
      "text/plain": [
       "Q*epsilon*m*q*log(s) + 1/4*(4*Q^2*m^2*q^2*log(s)/s + 4*Q^2*m^2*q^2/s - m^2*s)*epsilon^2 + s"
      ]
     },
     "execution_count": 75,
     "metadata": {},
     "output_type": "execute_result"
    }
   ],
   "source": [
    "U.collect(eps)"
   ]
  },
  {
   "cell_type": "code",
   "execution_count": 76,
   "id": "3d7d1c7d",
   "metadata": {},
   "outputs": [
    {
     "data": {
      "text/html": [
       "<html>\\(\\displaystyle \\frac{1}{2} \\, \\epsilon^{2} s\\)</html>"
      ],
      "text/latex": [
       "$\\displaystyle \\frac{1}{2} \\, \\epsilon^{2} s$"
      ],
      "text/plain": [
       "1/2*epsilon^2*s"
      ]
     },
     "execution_count": 76,
     "metadata": {},
     "output_type": "execute_result"
    }
   ],
   "source": [
    "V = ((1/m)*(tOeps2 - xOeps2)).simplify_full()\n",
    "V"
   ]
  },
  {
   "cell_type": "code",
   "execution_count": 77,
   "id": "d2f166c2",
   "metadata": {},
   "outputs": [
    {
     "data": {
      "text/html": [
       "<html>\\(\\displaystyle \\left[-\\frac{Q^{2} \\epsilon^{2} m^{2} q^{2} \\log\\left(s\\right) - Q \\epsilon m q s - s^{2}}{m s^{2}}, -\\frac{2 \\, Q^{2} \\epsilon^{2} m^{2} q^{2} \\log\\left(s\\right) - 2 \\, Q \\epsilon m q s + {\\left(\\epsilon^{2} m^{2} - 2\\right)} s^{2}}{2 \\, m s^{2}}, 0, 0\\right]\\)</html>"
      ],
      "text/latex": [
       "$\\displaystyle \\left[-\\frac{Q^{2} \\epsilon^{2} m^{2} q^{2} \\log\\left(s\\right) - Q \\epsilon m q s - s^{2}}{m s^{2}}, -\\frac{2 \\, Q^{2} \\epsilon^{2} m^{2} q^{2} \\log\\left(s\\right) - 2 \\, Q \\epsilon m q s + {\\left(\\epsilon^{2} m^{2} - 2\\right)} s^{2}}{2 \\, m s^{2}}, 0, 0\\right]$"
      ],
      "text/plain": [
       "[-(Q^2*epsilon^2*m^2*q^2*log(s) - Q*epsilon*m*q*s - s^2)/(m*s^2),\n",
       " -1/2*(2*Q^2*epsilon^2*m^2*q^2*log(s) - 2*Q*epsilon*m*q*s + (epsilon^2*m^2 - 2)*s^2)/(m*s^2),\n",
       " 0,\n",
       " 0]"
      ]
     },
     "execution_count": 77,
     "metadata": {},
     "output_type": "execute_result"
    }
   ],
   "source": [
    "dsYnew = M.vector_field()\n",
    "dsYnew = zdot*U.diff(s, 1) + n*V.diff(s, 1)\n",
    "dsYnew[:]"
   ]
  },
  {
   "cell_type": "code",
   "execution_count": 81,
   "id": "798f0453",
   "metadata": {},
   "outputs": [
    {
     "data": {
      "text/html": [
       "<html>\\(\\displaystyle -1\\)</html>"
      ],
      "text/latex": [
       "$\\displaystyle -1$"
      ],
      "text/plain": [
       "-1"
      ]
     },
     "execution_count": 81,
     "metadata": {},
     "output_type": "execute_result"
    }
   ],
   "source": [
    "((g(dsYnew, dsYnew).expr())/eps^2).factor().subs({eps:0})"
   ]
  },
  {
   "cell_type": "code",
   "execution_count": 39,
   "id": "6f4864f5",
   "metadata": {},
   "outputs": [
    {
     "data": {
      "text/html": [
       "<html>\\(\\displaystyle \\frac{4 \\, Q^{2} \\epsilon^{4} m^{2} q^{2} \\log\\left(s\\right) - 4 \\, Q \\epsilon^{3} m q s + {\\left(\\epsilon^{4} m^{2} - 4 \\, \\epsilon^{2}\\right)} s^{2}}{4 \\, s^{2}}\\)</html>"
      ],
      "text/latex": [
       "$\\displaystyle \\frac{4 \\, Q^{2} \\epsilon^{4} m^{2} q^{2} \\log\\left(s\\right) - 4 \\, Q \\epsilon^{3} m q s + {\\left(\\epsilon^{4} m^{2} - 4 \\, \\epsilon^{2}\\right)} s^{2}}{4 \\, s^{2}}$"
      ],
      "text/plain": [
       "1/4*(4*Q^2*epsilon^4*m^2*q^2*log(s) - 4*Q*epsilon^3*m*q*s + (epsilon^4*m^2 - 4*epsilon^2)*s^2)/s^2"
      ]
     },
     "execution_count": 39,
     "metadata": {},
     "output_type": "execute_result"
    }
   ],
   "source": [
    "(-2*U.diff(s, 1)*V.diff(s, 1)).simplify_full()"
   ]
  },
  {
   "cell_type": "code",
   "execution_count": 40,
   "id": "ac122920",
   "metadata": {},
   "outputs": [
    {
     "data": {
      "text/html": [
       "<html>\\(\\displaystyle \\begin{array}{llcl} g\\left(\\partial_s Y,\\partial_s Y\\right):& M & \\longrightarrow & \\mathbb{R} \\\\ & \\left(t, x, y, z\\right) & \\longmapsto & -\\epsilon^{2} \\end{array}\\)</html>"
      ],
      "text/latex": [
       "$\\displaystyle \\begin{array}{llcl} g\\left(\\partial_s Y,\\partial_s Y\\right):& M & \\longrightarrow & \\mathbb{R} \\\\ & \\left(t, x, y, z\\right) & \\longmapsto & -\\epsilon^{2} \\end{array}$"
      ],
      "text/plain": [
       "g(\\partial_s Y,\\partial_s Y): M → ℝ\n",
       "   (t, x, y, z) ↦ -epsilon^2"
      ]
     },
     "execution_count": 40,
     "metadata": {},
     "output_type": "execute_result"
    }
   ],
   "source": [
    "g(dsY, dsY).display()"
   ]
  },
  {
   "cell_type": "code",
   "execution_count": 42,
   "id": "297a9a04",
   "metadata": {},
   "outputs": [
    {
     "data": {
      "text/html": [
       "<html>\\(\\displaystyle \\left(\\left[\\frac{1}{m}, \\frac{1}{m}, 0, 0\\right], \\left[\\frac{1}{2} \\, m, -\\frac{1}{2} \\, m, 0, 0\\right]\\right)\\)</html>"
      ],
      "text/latex": [
       "$\\displaystyle \\left(\\left[\\frac{1}{m}, \\frac{1}{m}, 0, 0\\right], \\left[\\frac{1}{2} \\, m, -\\frac{1}{2} \\, m, 0, 0\\right]\\right)$"
      ],
      "text/plain": [
       "([1/m, 1/m, 0, 0], [1/2*m, -1/2*m, 0, 0])"
      ]
     },
     "execution_count": 42,
     "metadata": {},
     "output_type": "execute_result"
    }
   ],
   "source": [
    "zdot[:], n[:]"
   ]
  },
  {
   "cell_type": "code",
   "execution_count": 47,
   "id": "d3cd2a11",
   "metadata": {},
   "outputs": [
    {
     "data": {
      "text/html": [
       "<html>\\(\\displaystyle \\frac{\\frac{Q \\epsilon q}{x} + 1}{m}\\)</html>"
      ],
      "text/latex": [
       "$\\displaystyle \\frac{\\frac{Q \\epsilon q}{x} + 1}{m}$"
      ],
      "text/plain": [
       "(Q*epsilon*q/x + 1)/m"
      ]
     },
     "execution_count": 47,
     "metadata": {},
     "output_type": "execute_result"
    }
   ],
   "source": []
  },
  {
   "cell_type": "code",
   "execution_count": null,
   "id": "05cc5612",
   "metadata": {},
   "outputs": [],
   "source": []
  }
 ],
 "metadata": {
  "kernelspec": {
   "display_name": "SageMath 9.7",
   "language": "sage",
   "name": "sagemath"
  },
  "language_info": {
   "codemirror_mode": {
    "name": "ipython",
    "version": 3
   },
   "file_extension": ".py",
   "mimetype": "text/x-python",
   "name": "python",
   "nbconvert_exporter": "python",
   "pygments_lexer": "ipython3",
   "version": "3.8.10"
  }
 },
 "nbformat": 4,
 "nbformat_minor": 5
}
