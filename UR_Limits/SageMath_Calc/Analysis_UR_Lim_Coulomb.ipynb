{
 "cells": [
  {
   "cell_type": "code",
   "execution_count": 1,
   "id": "69c01565",
   "metadata": {},
   "outputs": [],
   "source": [
    "%display latex"
   ]
  },
  {
   "cell_type": "code",
   "execution_count": 2,
   "id": "c33e2139",
   "metadata": {},
   "outputs": [
    {
     "data": {
      "text/html": [
       "<html>\\(\\displaystyle \\verb|real|\\)</html>"
      ],
      "text/latex": [
       "$\\displaystyle \\verb|real|$"
      ],
      "text/plain": [
       "'real'"
      ]
     },
     "execution_count": 2,
     "metadata": {},
     "output_type": "execute_result"
    }
   ],
   "source": [
    "sage: maxima_calculus.eval('domain:real')\n",
    "'real'"
   ]
  },
  {
   "cell_type": "code",
   "execution_count": 3,
   "id": "45dcd70f",
   "metadata": {},
   "outputs": [
    {
     "data": {
      "text/html": [
       "<html>\\(\\displaystyle \\left(\\begin{array}{rrrr}\n",
       "-1 & 0 & 0 & 0 \\\\\n",
       "0 & 1 & 0 & 0 \\\\\n",
       "0 & 0 & r^{2} & 0 \\\\\n",
       "0 & 0 & 0 & r^{2} \\sin\\left({\\theta}\\right)^{2}\n",
       "\\end{array}\\right)\\)</html>"
      ],
      "text/latex": [
       "$\\displaystyle \\left(\\begin{array}{rrrr}\n",
       "-1 & 0 & 0 & 0 \\\\\n",
       "0 & 1 & 0 & 0 \\\\\n",
       "0 & 0 & r^{2} & 0 \\\\\n",
       "0 & 0 & 0 & r^{2} \\sin\\left({\\theta}\\right)^{2}\n",
       "\\end{array}\\right)$"
      ],
      "text/plain": [
       "[           -1             0             0             0]\n",
       "[            0             1             0             0]\n",
       "[            0             0           r^2             0]\n",
       "[            0             0             0 r^2*sin(th)^2]"
      ]
     },
     "execution_count": 3,
     "metadata": {},
     "output_type": "execute_result"
    }
   ],
   "source": [
    "M = Manifold(4, 'M', structure='Lorentzian')\n",
    "X.<t, r, th, ph> = M.chart(r't r:(0,+oo) th:(0,pi):\\theta ph:(0,2*pi):\\phi')\n",
    "g = M.metric('g')\n",
    "g[0, 0], g[1, 1], g[2, 2], g[3, 3] = -1, 1, r^2, r^2*sin(th)^2\n",
    "g[:]"
   ]
  },
  {
   "cell_type": "markdown",
   "id": "d9b47590",
   "metadata": {},
   "source": [
    "Restrict the metric to the equatorial plane $\\theta = \\pi/2$"
   ]
  },
  {
   "cell_type": "code",
   "execution_count": 4,
   "id": "6d22ba20",
   "metadata": {},
   "outputs": [
    {
     "data": {
      "text/html": [
       "<html>\\(\\displaystyle \\left(\\begin{array}{rrrr}\n",
       "-1 & 0 & 0 & 0 \\\\\n",
       "0 & 1 & 0 & 0 \\\\\n",
       "0 & 0 & r^{2} & 0 \\\\\n",
       "0 & 0 & 0 & r^{2}\n",
       "\\end{array}\\right)\\)</html>"
      ],
      "text/latex": [
       "$\\displaystyle \\left(\\begin{array}{rrrr}\n",
       "-1 & 0 & 0 & 0 \\\\\n",
       "0 & 1 & 0 & 0 \\\\\n",
       "0 & 0 & r^{2} & 0 \\\\\n",
       "0 & 0 & 0 & r^{2}\n",
       "\\end{array}\\right)$"
      ],
      "text/plain": [
       "[ -1   0   0   0]\n",
       "[  0   1   0   0]\n",
       "[  0   0 r^2   0]\n",
       "[  0   0   0 r^2]"
      ]
     },
     "execution_count": 4,
     "metadata": {},
     "output_type": "execute_result"
    }
   ],
   "source": [
    "g.apply_map(lambda x: x.subs({th:pi/2}))\n",
    "g[:]"
   ]
  },
  {
   "cell_type": "code",
   "execution_count": 5,
   "id": "b083b073",
   "metadata": {},
   "outputs": [
    {
     "data": {
      "text/html": [
       "<html>\\(\\displaystyle \\left[\\left[\\left[0, 0, 0, 0\\right], \\left[0, 0, 0, 0\\right], \\left[0, 0, 0, 0\\right], \\left[0, 0, 0, 0\\right]\\right], \\left[\\left[0, 0, 0, 0\\right], \\left[0, 0, 0, 0\\right], \\left[0, 0, -r, 0\\right], \\left[0, 0, 0, -r\\right]\\right], \\left[\\left[0, 0, 0, 0\\right], \\left[0, 0, \\frac{1}{r}, 0\\right], \\left[0, \\frac{1}{r}, 0, 0\\right], \\left[0, 0, 0, 0\\right]\\right], \\left[\\left[0, 0, 0, 0\\right], \\left[0, 0, 0, \\frac{1}{r}\\right], \\left[0, 0, 0, 0\\right], \\left[0, \\frac{1}{r}, 0, 0\\right]\\right]\\right]\\)</html>"
      ],
      "text/latex": [
       "$\\displaystyle \\left[\\left[\\left[0, 0, 0, 0\\right], \\left[0, 0, 0, 0\\right], \\left[0, 0, 0, 0\\right], \\left[0, 0, 0, 0\\right]\\right], \\left[\\left[0, 0, 0, 0\\right], \\left[0, 0, 0, 0\\right], \\left[0, 0, -r, 0\\right], \\left[0, 0, 0, -r\\right]\\right], \\left[\\left[0, 0, 0, 0\\right], \\left[0, 0, \\frac{1}{r}, 0\\right], \\left[0, \\frac{1}{r}, 0, 0\\right], \\left[0, 0, 0, 0\\right]\\right], \\left[\\left[0, 0, 0, 0\\right], \\left[0, 0, 0, \\frac{1}{r}\\right], \\left[0, 0, 0, 0\\right], \\left[0, \\frac{1}{r}, 0, 0\\right]\\right]\\right]$"
      ],
      "text/plain": [
       "[[[0, 0, 0, 0], [0, 0, 0, 0], [0, 0, 0, 0], [0, 0, 0, 0]],\n",
       " [[0, 0, 0, 0], [0, 0, 0, 0], [0, 0, -r, 0], [0, 0, 0, -r]],\n",
       " [[0, 0, 0, 0], [0, 0, 1/r, 0], [0, 1/r, 0, 0], [0, 0, 0, 0]],\n",
       " [[0, 0, 0, 0], [0, 0, 0, 1/r], [0, 0, 0, 0], [0, 1/r, 0, 0]]]"
      ]
     },
     "execution_count": 5,
     "metadata": {},
     "output_type": "execute_result"
    }
   ],
   "source": [
    "Gam = g.christoffel_symbols()\n",
    "nab = M.affine_connection('nabla', r'\\nabla')\n",
    "nab[:] = Gam[:]\n",
    "nab[:]"
   ]
  },
  {
   "cell_type": "code",
   "execution_count": 49,
   "id": "084c5eff",
   "metadata": {},
   "outputs": [
    {
     "data": {
      "text/html": [
       "<html>\\(\\displaystyle \\begin{array}{lcl} \\Gamma_{ \\phantom{\\, r} \\, {\\theta} \\, {\\theta} }^{ \\, r \\phantom{\\, {\\theta}} \\phantom{\\, {\\theta}} } & = & -r \\\\ \\Gamma_{ \\phantom{\\, r} \\, {\\phi} \\, {\\phi} }^{ \\, r \\phantom{\\, {\\phi}} \\phantom{\\, {\\phi}} } & = & -r \\\\ \\Gamma_{ \\phantom{\\, {\\theta}} \\, r \\, {\\theta} }^{ \\, {\\theta} \\phantom{\\, r} \\phantom{\\, {\\theta}} } & = & \\frac{1}{r} \\\\ \\Gamma_{ \\phantom{\\, {\\theta}} \\, {\\theta} \\, r }^{ \\, {\\theta} \\phantom{\\, {\\theta}} \\phantom{\\, r} } & = & \\frac{1}{r} \\\\ \\Gamma_{ \\phantom{\\, {\\phi}} \\, r \\, {\\phi} }^{ \\, {\\phi} \\phantom{\\, r} \\phantom{\\, {\\phi}} } & = & \\frac{1}{r} \\\\ \\Gamma_{ \\phantom{\\, {\\phi}} \\, {\\phi} \\, r }^{ \\, {\\phi} \\phantom{\\, {\\phi}} \\phantom{\\, r} } & = & \\frac{1}{r} \\end{array}\\)</html>"
      ],
      "text/latex": [
       "$\\displaystyle \\begin{array}{lcl} \\Gamma_{ \\phantom{\\, r} \\, {\\theta} \\, {\\theta} }^{ \\, r \\phantom{\\, {\\theta}} \\phantom{\\, {\\theta}} } & = & -r \\\\ \\Gamma_{ \\phantom{\\, r} \\, {\\phi} \\, {\\phi} }^{ \\, r \\phantom{\\, {\\phi}} \\phantom{\\, {\\phi}} } & = & -r \\\\ \\Gamma_{ \\phantom{\\, {\\theta}} \\, r \\, {\\theta} }^{ \\, {\\theta} \\phantom{\\, r} \\phantom{\\, {\\theta}} } & = & \\frac{1}{r} \\\\ \\Gamma_{ \\phantom{\\, {\\theta}} \\, {\\theta} \\, r }^{ \\, {\\theta} \\phantom{\\, {\\theta}} \\phantom{\\, r} } & = & \\frac{1}{r} \\\\ \\Gamma_{ \\phantom{\\, {\\phi}} \\, r \\, {\\phi} }^{ \\, {\\phi} \\phantom{\\, r} \\phantom{\\, {\\phi}} } & = & \\frac{1}{r} \\\\ \\Gamma_{ \\phantom{\\, {\\phi}} \\, {\\phi} \\, r }^{ \\, {\\phi} \\phantom{\\, {\\phi}} \\phantom{\\, r} } & = & \\frac{1}{r} \\end{array}$"
      ],
      "text/plain": [
       "Gam^r_th,th = -r \n",
       "Gam^r_ph,ph = -r \n",
       "Gam^th_r,th = 1/r \n",
       "Gam^th_th,r = 1/r \n",
       "Gam^ph_r,ph = 1/r \n",
       "Gam^ph_ph,r = 1/r "
      ]
     },
     "execution_count": 49,
     "metadata": {},
     "output_type": "execute_result"
    }
   ],
   "source": [
    "nab.display()"
   ]
  },
  {
   "cell_type": "markdown",
   "id": "0469e7ac",
   "metadata": {},
   "source": [
    "Define the parameters $s, \\epsilon$ and the constants $q, Q, m, \\kappa, \\Phi_0$. Also define the coordinates $\\mathcal{U}, \\mathcal{V}, \\mathcal{X}^i$, which at coincidence are the coordinates in the limiting plane wave spacetime."
   ]
  },
  {
   "cell_type": "code",
   "execution_count": 50,
   "id": "c9d2c4d2",
   "metadata": {},
   "outputs": [
    {
     "data": {
      "text/html": [
       "<html>\\(\\displaystyle \\left(s, \\epsilon, \\kappa, m, q, Q\\right)\\)</html>"
      ],
      "text/latex": [
       "$\\displaystyle \\left(s, \\epsilon, \\kappa, m, q, Q\\right)$"
      ],
      "text/plain": [
       "(s, epsilon, kappa, m, q, Q)"
      ]
     },
     "execution_count": 50,
     "metadata": {},
     "output_type": "execute_result"
    }
   ],
   "source": [
    "s, q, Q, m = var('s, q, Q, m')\n",
    "eps, kap, phi_init = var('epsilon, kappa, Phi_0')\n",
    "assume(eps>=0)\n",
    "assume(s>=0)\n",
    "assume(kap>0)\n",
    "assume(m>0)\n",
    "s, eps, kap, m, q, Q"
   ]
  },
  {
   "cell_type": "code",
   "execution_count": 51,
   "id": "5be30ce8",
   "metadata": {},
   "outputs": [
    {
     "data": {
      "text/html": [
       "<html>\\(\\displaystyle \\left(U\\left(s, \\epsilon\\right), V\\left(s, \\epsilon\\right), X_{1}\\left(s, \\epsilon\\right), X_{2}\\left(s, \\epsilon\\right)\\right)\\)</html>"
      ],
      "text/latex": [
       "$\\displaystyle \\left(U\\left(s, \\epsilon\\right), V\\left(s, \\epsilon\\right), X_{1}\\left(s, \\epsilon\\right), X_{2}\\left(s, \\epsilon\\right)\\right)$"
      ],
      "text/plain": [
       "(U(s, epsilon), V(s, epsilon), X_1(s, epsilon), X_2(s, epsilon))"
      ]
     },
     "execution_count": 51,
     "metadata": {},
     "output_type": "execute_result"
    }
   ],
   "source": [
    "U = function('U', nargs=2)(s, eps)\n",
    "V = function('V', nargs=2)(s, eps)\n",
    "X1 = function('X_1', nargs=2)(s, eps)\n",
    "X2 = function('X_2', nargs=2)(s, eps)\n",
    "U, V, X1, X2"
   ]
  },
  {
   "cell_type": "markdown",
   "id": "4b079e9d",
   "metadata": {},
   "source": [
    "Define the parallel propagated tetrad $(\\dot{z}, n, e_1, e_2)$ on the null geodesic. See the sage file ``Flat space Coulomb tetrad'' for details on computing the form of the tetrad. Check that these vectors satisfy the quasi null orthogonality relations as well the parallel transport condition (that their acceleration vanishes)."
   ]
  },
  {
   "cell_type": "code",
   "execution_count": 9,
   "id": "5d73e117",
   "metadata": {},
   "outputs": [
    {
     "data": {
      "text/html": [
       "<html>\\(\\displaystyle \\left(\\left[\\frac{1}{m}, \\frac{\\sqrt{-\\frac{\\kappa^{2}}{r^{2}} + 1}}{m}, 0, \\frac{\\kappa}{m r^{2}}\\right], \\left[\\frac{1}{2} \\, m, -\\frac{1}{2} \\, m \\sqrt{-\\frac{\\kappa^{2}}{r^{2}} + 1}, 0, -\\frac{\\kappa m}{2 \\, r^{2}}\\right], \\left[0, 0, \\frac{1}{r}, 0\\right], \\left[0, -\\frac{\\kappa}{r}, 0, \\frac{\\sqrt{-\\frac{\\kappa^{2}}{r^{2}} + 1}}{r}\\right]\\right)\\)</html>"
      ],
      "text/latex": [
       "$\\displaystyle \\left(\\left[\\frac{1}{m}, \\frac{\\sqrt{-\\frac{\\kappa^{2}}{r^{2}} + 1}}{m}, 0, \\frac{\\kappa}{m r^{2}}\\right], \\left[\\frac{1}{2} \\, m, -\\frac{1}{2} \\, m \\sqrt{-\\frac{\\kappa^{2}}{r^{2}} + 1}, 0, -\\frac{\\kappa m}{2 \\, r^{2}}\\right], \\left[0, 0, \\frac{1}{r}, 0\\right], \\left[0, -\\frac{\\kappa}{r}, 0, \\frac{\\sqrt{-\\frac{\\kappa^{2}}{r^{2}} + 1}}{r}\\right]\\right)$"
      ],
      "text/plain": [
       "([1/m, sqrt(-kappa^2/r^2 + 1)/m, 0, kappa/(m*r^2)],\n",
       " [1/2*m, -1/2*m*sqrt(-kappa^2/r^2 + 1), 0, -1/2*kappa*m/r^2],\n",
       " [0, 0, 1/r, 0],\n",
       " [0, -kappa/r, 0, sqrt(-kappa^2/r^2 + 1)/r])"
      ]
     },
     "execution_count": 9,
     "metadata": {},
     "output_type": "execute_result"
    }
   ],
   "source": [
    "zdot = M.vector_field(name=r'\\dot{z}')\n",
    "n = M.vector_field(name='n')\n",
    "e1 = M.vector_field(name='e_1')\n",
    "e2 = M.vector_field(name='e_2')\n",
    "zdot[:] = [1/m, 1/m*sqrt(1 - kap^2/r^2), 0, kap/(m*r^2)]\n",
    "n[:] = [m/2, -m/2*sqrt(1 - kap^2/r^2), 0, -kap*m/(2*r^2)]\n",
    "e1[:] = [0, 0, 1/r, 0]\n",
    "e2[:] = [0, -kap/r, 0, 1/r*sqrt(1 - kap^2/r^2)]\n",
    "zdot[:], n[:], e1[:], e2[:]"
   ]
  },
  {
   "cell_type": "code",
   "execution_count": 10,
   "id": "0ecab7af",
   "metadata": {},
   "outputs": [
    {
     "data": {
      "text/html": [
       "<html>\\(\\displaystyle \\left(\\begin{array}{llcl} g\\left(\\dot{z},\\dot{z}\\right):& M & \\longrightarrow & \\mathbb{R} \\\\ & \\left(t, r, {\\theta}, {\\phi}\\right) & \\longmapsto & 0 \\end{array}, \\begin{array}{llcl} g\\left(\\dot{z},n\\right):& M & \\longrightarrow & \\mathbb{R} \\\\ & \\left(t, r, {\\theta}, {\\phi}\\right) & \\longmapsto & -1 \\end{array}, \\begin{array}{llcl} g\\left(\\dot{z},e_1\\right):& M & \\longrightarrow & \\mathbb{R} \\\\ & \\left(t, r, {\\theta}, {\\phi}\\right) & \\longmapsto & 0 \\end{array}, \\begin{array}{llcl} g\\left(\\dot{z},e_2\\right):& M & \\longrightarrow & \\mathbb{R} \\\\ & \\left(t, r, {\\theta}, {\\phi}\\right) & \\longmapsto & 0 \\end{array}\\right)\\)</html>"
      ],
      "text/latex": [
       "$\\displaystyle \\left(\\begin{array}{llcl} g\\left(\\dot{z},\\dot{z}\\right):& M & \\longrightarrow & \\mathbb{R} \\\\ & \\left(t, r, {\\theta}, {\\phi}\\right) & \\longmapsto & 0 \\end{array}, \\begin{array}{llcl} g\\left(\\dot{z},n\\right):& M & \\longrightarrow & \\mathbb{R} \\\\ & \\left(t, r, {\\theta}, {\\phi}\\right) & \\longmapsto & -1 \\end{array}, \\begin{array}{llcl} g\\left(\\dot{z},e_1\\right):& M & \\longrightarrow & \\mathbb{R} \\\\ & \\left(t, r, {\\theta}, {\\phi}\\right) & \\longmapsto & 0 \\end{array}, \\begin{array}{llcl} g\\left(\\dot{z},e_2\\right):& M & \\longrightarrow & \\mathbb{R} \\\\ & \\left(t, r, {\\theta}, {\\phi}\\right) & \\longmapsto & 0 \\end{array}\\right)$"
      ],
      "text/plain": [
       "(g(\\dot{z},\\dot{z}): M → ℝ\n",
       "    (t, r, th, ph) ↦ 0,\n",
       " g(\\dot{z},n): M → ℝ\n",
       "    (t, r, th, ph) ↦ -1,\n",
       " g(\\dot{z},e_1): M → ℝ\n",
       "    (t, r, th, ph) ↦ 0,\n",
       " g(\\dot{z},e_2): M → ℝ\n",
       "    (t, r, th, ph) ↦ 0)"
      ]
     },
     "execution_count": 10,
     "metadata": {},
     "output_type": "execute_result"
    }
   ],
   "source": [
    "g(zdot, zdot).display(), g(zdot, n).display(), g(zdot, e1).display(), g(zdot, e2).display()"
   ]
  },
  {
   "cell_type": "code",
   "execution_count": 11,
   "id": "109b3605",
   "metadata": {},
   "outputs": [
    {
     "data": {
      "text/html": [
       "<html>\\(\\displaystyle \\left(\\begin{array}{llcl} g\\left(n,n\\right):& M & \\longrightarrow & \\mathbb{R} \\\\ & \\left(t, r, {\\theta}, {\\phi}\\right) & \\longmapsto & 0 \\end{array}, \\begin{array}{llcl} g\\left(n,e_1\\right):& M & \\longrightarrow & \\mathbb{R} \\\\ & \\left(t, r, {\\theta}, {\\phi}\\right) & \\longmapsto & 0 \\end{array}, \\begin{array}{llcl} g\\left(n,e_2\\right):& M & \\longrightarrow & \\mathbb{R} \\\\ & \\left(t, r, {\\theta}, {\\phi}\\right) & \\longmapsto & 0 \\end{array}\\right)\\)</html>"
      ],
      "text/latex": [
       "$\\displaystyle \\left(\\begin{array}{llcl} g\\left(n,n\\right):& M & \\longrightarrow & \\mathbb{R} \\\\ & \\left(t, r, {\\theta}, {\\phi}\\right) & \\longmapsto & 0 \\end{array}, \\begin{array}{llcl} g\\left(n,e_1\\right):& M & \\longrightarrow & \\mathbb{R} \\\\ & \\left(t, r, {\\theta}, {\\phi}\\right) & \\longmapsto & 0 \\end{array}, \\begin{array}{llcl} g\\left(n,e_2\\right):& M & \\longrightarrow & \\mathbb{R} \\\\ & \\left(t, r, {\\theta}, {\\phi}\\right) & \\longmapsto & 0 \\end{array}\\right)$"
      ],
      "text/plain": [
       "(g(n,n): M → ℝ\n",
       "    (t, r, th, ph) ↦ 0,\n",
       " g(n,e_1): M → ℝ\n",
       "    (t, r, th, ph) ↦ 0,\n",
       " g(n,e_2): M → ℝ\n",
       "    (t, r, th, ph) ↦ 0)"
      ]
     },
     "execution_count": 11,
     "metadata": {},
     "output_type": "execute_result"
    }
   ],
   "source": [
    "g(n, n).display(), g(n, e1).display(), g(n, e2).display()"
   ]
  },
  {
   "cell_type": "code",
   "execution_count": 12,
   "id": "34fefdb2",
   "metadata": {},
   "outputs": [
    {
     "data": {
      "text/html": [
       "<html>\\(\\displaystyle \\left(\\begin{array}{llcl} g\\left(e_1,e_1\\right):& M & \\longrightarrow & \\mathbb{R} \\\\ & \\left(t, r, {\\theta}, {\\phi}\\right) & \\longmapsto & 1 \\end{array}, \\begin{array}{llcl} g\\left(e_1,e_2\\right):& M & \\longrightarrow & \\mathbb{R} \\\\ & \\left(t, r, {\\theta}, {\\phi}\\right) & \\longmapsto & 0 \\end{array}, \\begin{array}{llcl} g\\left(e_2,e_2\\right):& M & \\longrightarrow & \\mathbb{R} \\\\ & \\left(t, r, {\\theta}, {\\phi}\\right) & \\longmapsto & 1 \\end{array}\\right)\\)</html>"
      ],
      "text/latex": [
       "$\\displaystyle \\left(\\begin{array}{llcl} g\\left(e_1,e_1\\right):& M & \\longrightarrow & \\mathbb{R} \\\\ & \\left(t, r, {\\theta}, {\\phi}\\right) & \\longmapsto & 1 \\end{array}, \\begin{array}{llcl} g\\left(e_1,e_2\\right):& M & \\longrightarrow & \\mathbb{R} \\\\ & \\left(t, r, {\\theta}, {\\phi}\\right) & \\longmapsto & 0 \\end{array}, \\begin{array}{llcl} g\\left(e_2,e_2\\right):& M & \\longrightarrow & \\mathbb{R} \\\\ & \\left(t, r, {\\theta}, {\\phi}\\right) & \\longmapsto & 1 \\end{array}\\right)$"
      ],
      "text/plain": [
       "(g(e_1,e_1): M → ℝ\n",
       "    (t, r, th, ph) ↦ 1,\n",
       " g(e_1,e_2): M → ℝ\n",
       "    (t, r, th, ph) ↦ 0,\n",
       " g(e_2,e_2): M → ℝ\n",
       "    (t, r, th, ph) ↦ 1)"
      ]
     },
     "execution_count": 12,
     "metadata": {},
     "output_type": "execute_result"
    }
   ],
   "source": [
    "g(e1, e1).display(), g(e1, e2).display(), g(e2, e2).display()"
   ]
  },
  {
   "cell_type": "code",
   "execution_count": 13,
   "id": "bc721740",
   "metadata": {},
   "outputs": [
    {
     "data": {
      "text/html": [
       "<html>\\(\\displaystyle \\left(\\left[0, 0, 0, 0\\right], \\left[0, 0, 0, 0\\right], \\left[0, 0, 0, 0\\right], \\left[0, 0, 0, 0\\right]\\right)\\)</html>"
      ],
      "text/latex": [
       "$\\displaystyle \\left(\\left[0, 0, 0, 0\\right], \\left[0, 0, 0, 0\\right], \\left[0, 0, 0, 0\\right], \\left[0, 0, 0, 0\\right]\\right)$"
      ],
      "text/plain": [
       "([0, 0, 0, 0], [0, 0, 0, 0], [0, 0, 0, 0], [0, 0, 0, 0])"
      ]
     },
     "execution_count": 13,
     "metadata": {},
     "output_type": "execute_result"
    }
   ],
   "source": [
    "acc_z = nab(zdot).contract(zdot)\n",
    "acc_n = nab(n).contract(zdot)\n",
    "acc_e1 = nab(e1).contract(zdot)\n",
    "acc_e2 = nab(e2).contract(zdot)\n",
    "acc_z[:], acc_n[:], acc_e1[:], acc_e2[:]"
   ]
  },
  {
   "cell_type": "markdown",
   "id": "7b8e7496",
   "metadata": {},
   "source": [
    "Analysis of timelike curves limiting to a null geodesic ($\\epsilon \\to 0$) in flat space in the presence of a Coulomb field sourced by a charge Q at the origin. The timelike curves can be thought to represent test particles of mass m and charge q. assume the curves have an angular momentum $l = \\frac{\\kappa}{\\epsilon}$ where the parameter $\\epsilon$ is the related to the energy $E$ as $E = 1/\\epsilon$.\n",
    "\n",
    "The governing ODEs are (in terms of affine parameter s):\n",
    "$\n",
    "\\frac{dt}{ds} = \\frac{1}{m} \\bigg ( 1 + \\frac{\\epsilon q Q}{r} \\bigg ) \\\\\n",
    "\\frac{d \\phi}{ds} = \\frac{\\kappa}{m r^2} \\\\\n",
    "\\frac{dr}{ds} = \\pm \\frac{1}{m} \\bigg ( 1 - \\frac{\\kappa^2}{r^2} + \\epsilon \\frac{2 q Q}{r} + \\epsilon^2 \\big( \\frac{q^2 Q^2}{r^2} - m^2 \\big ) \\bigg )^{1/2}\n",
    "$\n",
    "\n",
    "As $\\epsilon \\rightarrow 0$, these timelike curves limit to the non-radial null geodesic.\n",
    "\n",
    "Now define the tangent vector to the ultrarelativistic family $\\partial_s Y^{a'} = ( \\partial_s t, \\partial_s r, \\partial_s \\theta, \\partial_s \\phi)$, and the deviation vector $\\xi^{a'} = \\partial_{\\epsilon} Y^{a'} = ( \\xi^t, \\xi^r, \\xi^{\\theta}, \\xi^{\\phi} )$."
   ]
  },
  {
   "cell_type": "code",
   "execution_count": 14,
   "id": "3e4ef423",
   "metadata": {},
   "outputs": [
    {
     "data": {
      "text/html": [
       "<html>\\(\\displaystyle \\left[\\frac{\\frac{Q \\epsilon q}{r} + 1}{m}, \\frac{\\sqrt{-{\\left(m^{2} - \\frac{Q^{2} q^{2}}{r^{2}}\\right)} \\epsilon^{2} + \\frac{2 \\, Q \\epsilon q}{r} - \\frac{\\kappa^{2}}{r^{2}} + 1}}{m}, 0, \\frac{\\kappa}{m r^{2}}\\right]\\)</html>"
      ],
      "text/latex": [
       "$\\displaystyle \\left[\\frac{\\frac{Q \\epsilon q}{r} + 1}{m}, \\frac{\\sqrt{-{\\left(m^{2} - \\frac{Q^{2} q^{2}}{r^{2}}\\right)} \\epsilon^{2} + \\frac{2 \\, Q \\epsilon q}{r} - \\frac{\\kappa^{2}}{r^{2}} + 1}}{m}, 0, \\frac{\\kappa}{m r^{2}}\\right]$"
      ],
      "text/plain": [
       "[(Q*epsilon*q/r + 1)/m,\n",
       " sqrt(-(m^2 - Q^2*q^2/r^2)*epsilon^2 + 2*Q*epsilon*q/r - kappa^2/r^2 + 1)/m,\n",
       " 0,\n",
       " kappa/(m*r^2)]"
      ]
     },
     "execution_count": 14,
     "metadata": {},
     "output_type": "execute_result"
    }
   ],
   "source": [
    "dsY = M.vector_field(name=r'\\partial_s Y')\n",
    "dsY[:] = [1/m*(1 + eps*q*Q/r), 1/m*sqrt(1 + eps*2*q*Q/r + eps^2*(q^2*Q^2/r^2 - m^2) - kap^2/r^2), 0, kap/(m * r^2)]\n",
    "dsY[:]"
   ]
  },
  {
   "cell_type": "code",
   "execution_count": 23,
   "id": "c0467af0",
   "metadata": {},
   "outputs": [
    {
     "data": {
      "text/html": [
       "<html>\\(\\displaystyle \\left[{\\rm \\xi^t}\\left(s, \\epsilon\\right), {\\rm \\xi^{r}}\\left(s, \\epsilon\\right), {\\rm \\xi^{\\theta}}\\left(s, \\epsilon\\right), {\\rm \\xi^{\\phi}}\\left(s, \\epsilon\\right)\\right]\\)</html>"
      ],
      "text/latex": [
       "$\\displaystyle \\left[{\\rm \\xi^t}\\left(s, \\epsilon\\right), {\\rm \\xi^{r}}\\left(s, \\epsilon\\right), {\\rm \\xi^{\\theta}}\\left(s, \\epsilon\\right), {\\rm \\xi^{\\phi}}\\left(s, \\epsilon\\right)\\right]$"
      ],
      "text/plain": [
       "[\\xi^t(s, epsilon),\n",
       " \\xi^{r}(s, epsilon),\n",
       " \\xi^{\\theta}(s, epsilon),\n",
       " \\xi^{\\phi}(s, epsilon)]"
      ]
     },
     "execution_count": 23,
     "metadata": {},
     "output_type": "execute_result"
    }
   ],
   "source": [
    "xi = M.vector_field(name=r'\\xi')\n",
    "xi_t = function(r'\\xi^t', nargs=2)(s, eps)\n",
    "xi_r = function(r'\\xi^{r}', nargs=2)(s, eps)\n",
    "xi_th = function(r'\\xi^{\\theta}', nargs=2)(s, eps)\n",
    "xi_ph = function(r'\\xi^{\\phi}', nargs=2)(s, eps)\n",
    "xi[:] = [xi_t, xi_r, xi_th, xi_ph]\n",
    "xi[:]"
   ]
  },
  {
   "cell_type": "code",
   "execution_count": 25,
   "id": "c315642f",
   "metadata": {},
   "outputs": [
    {
     "data": {
      "text/html": [
       "<html>\\(\\displaystyle \\left[{\\rm K^t}\\left(s, \\epsilon\\right), {\\rm K^r}\\left(s, \\epsilon\\right), {\\rm K^{\\theta}}\\left(s, \\epsilon\\right), {\\rm K^{\\phi}}\\left(s, \\epsilon\\right)\\right]\\)</html>"
      ],
      "text/latex": [
       "$\\displaystyle \\left[{\\rm K^t}\\left(s, \\epsilon\\right), {\\rm K^r}\\left(s, \\epsilon\\right), {\\rm K^{\\theta}}\\left(s, \\epsilon\\right), {\\rm K^{\\phi}}\\left(s, \\epsilon\\right)\\right]$"
      ],
      "text/plain": [
       "[K^t(s, epsilon),\n",
       " K^r(s, epsilon),\n",
       " K^{\\theta}(s, epsilon),\n",
       " K^{\\phi}(s, epsilon)]"
      ]
     },
     "execution_count": 25,
     "metadata": {},
     "output_type": "execute_result"
    }
   ],
   "source": [
    "K = M.vector_field(name='K')\n",
    "K_t = function(r'K^t', nargs=2)(s, eps)\n",
    "K_r = function(r'K^r', nargs=2)(s, eps)\n",
    "K_th = function(r'K^{\\theta}', nargs=2)(s, eps)\n",
    "K_ph = function(r'K^{\\phi}', nargs=2)(s, eps)\n",
    "K[:] = [K_t, K_r, K_th, K_ph]\n",
    "K[:]"
   ]
  },
  {
   "cell_type": "code",
   "execution_count": 27,
   "id": "7fedee8d",
   "metadata": {},
   "outputs": [
    {
     "data": {
      "text/html": [
       "<html>\\(\\displaystyle \\xi = {\\rm \\xi^t}\\left(s, \\epsilon\\right) \\frac{\\partial}{\\partial t } + {\\rm \\xi^{r}}\\left(s, \\epsilon\\right) \\frac{\\partial}{\\partial r } + {\\rm \\xi^{\\theta}}\\left(s, \\epsilon\\right) \\frac{\\partial}{\\partial {\\theta} } + {\\rm \\xi^{\\phi}}\\left(s, \\epsilon\\right) \\frac{\\partial}{\\partial {\\phi} }\\)</html>"
      ],
      "text/latex": [
       "$\\displaystyle \\xi = {\\rm \\xi^t}\\left(s, \\epsilon\\right) \\frac{\\partial}{\\partial t } + {\\rm \\xi^{r}}\\left(s, \\epsilon\\right) \\frac{\\partial}{\\partial r } + {\\rm \\xi^{\\theta}}\\left(s, \\epsilon\\right) \\frac{\\partial}{\\partial {\\theta} } + {\\rm \\xi^{\\phi}}\\left(s, \\epsilon\\right) \\frac{\\partial}{\\partial {\\phi} }$"
      ],
      "text/plain": [
       "\\xi = \\xi^t(s, epsilon) ∂/∂t + \\xi^{r}(s, epsilon) ∂/∂r + \\xi^{\\theta}(s, epsilon) ∂/∂th + \\xi^{\\phi}(s, epsilon) ∂/∂ph"
      ]
     },
     "execution_count": 27,
     "metadata": {},
     "output_type": "execute_result"
    }
   ],
   "source": [
    "xi.display()"
   ]
  },
  {
   "cell_type": "code",
   "execution_count": 39,
   "id": "69e956d6",
   "metadata": {},
   "outputs": [
    {
     "data": {
      "text/html": [
       "<html>\\(\\displaystyle \\left[s, \\epsilon s^{2} + \\sin\\left(s\\right), 0, \\epsilon + 2 \\, s\\right]\\)</html>"
      ],
      "text/latex": [
       "$\\displaystyle \\left[s, \\epsilon s^{2} + \\sin\\left(s\\right), 0, \\epsilon + 2 \\, s\\right]$"
      ],
      "text/plain": [
       "[s, epsilon*s^2 + sin(s), 0, epsilon + 2*s]"
      ]
     },
     "execution_count": 39,
     "metadata": {},
     "output_type": "execute_result"
    }
   ],
   "source": [
    "H = M.vector_field(name='H')\n",
    "H[:] = [s, eps*s^2 + sin(s), 0, 2*s + eps]\n",
    "H[:]"
   ]
  },
  {
   "cell_type": "code",
   "execution_count": 43,
   "id": "5e0afa3e",
   "metadata": {},
   "outputs": [
    {
     "name": "stderr",
     "output_type": "stream",
     "text": [
      "R[write to console]: Error in is.finite() : 0 arguments passed to 'is.finite' which requires 1\n",
      "\n"
     ]
    },
    {
     "ename": "RRuntimeError",
     "evalue": "Error in is.finite() : 0 arguments passed to 'is.finite' which requires 1\n",
     "output_type": "error",
     "traceback": [
      "\u001b[0;31m---------------------------------------------------------------------------\u001b[0m",
      "\u001b[0;31mKeyError\u001b[0m                                  Traceback (most recent call last)",
      "File \u001b[0;32m~/sage/sage-9.7/src/sage/misc/parser.pyx:1096\u001b[0m, in \u001b[0;36msage.misc.parser.LookupNameMaker.__call__\u001b[0;34m()\u001b[0m\n\u001b[1;32m   1095\u001b[0m try:\n\u001b[0;32m-> 1096\u001b[0m     return self.names[name]\n\u001b[1;32m   1097\u001b[0m except KeyError:\n",
      "\u001b[0;31mKeyError\u001b[0m: 'r'",
      "\nDuring handling of the above exception, another exception occurred:\n",
      "\u001b[0;31mRRuntimeError\u001b[0m                             Traceback (most recent call last)",
      "Input \u001b[0;32mIn [43]\u001b[0m, in \u001b[0;36m<cell line: 1>\u001b[0;34m()\u001b[0m\n\u001b[0;32m----> 1\u001b[0m \u001b[43mg\u001b[49m\u001b[43m(\u001b[49m\u001b[43mdsY\u001b[49m\u001b[43m,\u001b[49m\u001b[43m \u001b[49m\u001b[43mK\u001b[49m\u001b[43m)\u001b[49m\u001b[38;5;241m.\u001b[39mdisplay()\n",
      "File \u001b[0;32m~/sage/sage-9.7/src/sage/manifolds/differentiable/tensorfield_paral.py:1751\u001b[0m, in \u001b[0;36mTensorFieldParal.__call__\u001b[0;34m(self, *args)\u001b[0m\n\u001b[1;32m   1749\u001b[0m args_r \u001b[38;5;241m=\u001b[39m [args[i]\u001b[38;5;241m.\u001b[39mrestrict(dom_resu) \u001b[38;5;28;01mfor\u001b[39;00m i \u001b[38;5;129;01min\u001b[39;00m \u001b[38;5;28mrange\u001b[39m(p)]\n\u001b[1;32m   1750\u001b[0m \u001b[38;5;66;03m# Call of the FreeModuleTensor version\u001b[39;00m\n\u001b[0;32m-> 1751\u001b[0m \u001b[38;5;28;01mreturn\u001b[39;00m \u001b[43mFreeModuleTensor\u001b[49m\u001b[38;5;241;43m.\u001b[39;49m\u001b[38;5;21;43m__call__\u001b[39;49m\u001b[43m(\u001b[49m\u001b[43mself_r\u001b[49m\u001b[43m,\u001b[49m\u001b[43m \u001b[49m\u001b[38;5;241;43m*\u001b[39;49m\u001b[43margs_r\u001b[49m\u001b[43m)\u001b[49m\n",
      "File \u001b[0;32m~/sage/sage-9.7/src/sage/tensor/modules/free_module_tensor.py:2434\u001b[0m, in \u001b[0;36mFreeModuleTensor.__call__\u001b[0;34m(self, *args)\u001b[0m\n\u001b[1;32m   2432\u001b[0m     prod \u001b[38;5;241m=\u001b[39m t[[ind]]\n\u001b[1;32m   2433\u001b[0m     \u001b[38;5;28;01mfor\u001b[39;00m i \u001b[38;5;129;01min\u001b[39;00m \u001b[38;5;28mrange\u001b[39m(p):\n\u001b[0;32m-> 2434\u001b[0m         prod \u001b[38;5;241m*\u001b[39m\u001b[38;5;241m=\u001b[39m v[i][[ind[i]]]\n\u001b[1;32m   2435\u001b[0m     res \u001b[38;5;241m+\u001b[39m\u001b[38;5;241m=\u001b[39m prod\n\u001b[1;32m   2436\u001b[0m \u001b[38;5;66;03m# Name of the output:\u001b[39;00m\n",
      "File \u001b[0;32m~/sage/sage-9.7/src/sage/structure/element.pyx:1514\u001b[0m, in \u001b[0;36msage.structure.element.Element.__mul__\u001b[0;34m()\u001b[0m\n\u001b[1;32m   1512\u001b[0m cdef int cl = classify_elements(left, right)\n\u001b[1;32m   1513\u001b[0m if HAVE_SAME_PARENT(cl):\n\u001b[0;32m-> 1514\u001b[0m     return (<Element>left)._mul_(right)\n\u001b[1;32m   1515\u001b[0m if BOTH_ARE_ELEMENT(cl):\n\u001b[1;32m   1516\u001b[0m     return coercion_model.bin_op(left, right, mul)\n",
      "File \u001b[0;32m~/sage/sage-9.7/src/sage/structure/element.pyx:1560\u001b[0m, in \u001b[0;36msage.structure.element.Element._mul_\u001b[0;34m()\u001b[0m\n\u001b[1;32m   1558\u001b[0m         raise bin_op_exception('*', self, other)\n\u001b[1;32m   1559\u001b[0m     else:\n\u001b[0;32m-> 1560\u001b[0m         return python_op(other)\n\u001b[1;32m   1561\u001b[0m \n\u001b[1;32m   1562\u001b[0m cdef _mul_long(self, long n):\n",
      "File \u001b[0;32m~/sage/sage-9.7/src/sage/manifolds/scalarfield.py:2806\u001b[0m, in \u001b[0;36mScalarField._mul_\u001b[0;34m(self, other)\u001b[0m\n\u001b[1;32m   2803\u001b[0m result \u001b[38;5;241m=\u001b[39m \u001b[38;5;28mtype\u001b[39m(\u001b[38;5;28mself\u001b[39m)(\u001b[38;5;28mself\u001b[39m\u001b[38;5;241m.\u001b[39mparent())\n\u001b[1;32m   2804\u001b[0m \u001b[38;5;28;01mfor\u001b[39;00m chart \u001b[38;5;129;01min\u001b[39;00m com_charts:\n\u001b[1;32m   2805\u001b[0m     \u001b[38;5;66;03m# ChartFunction multiplication:\u001b[39;00m\n\u001b[0;32m-> 2806\u001b[0m     result\u001b[38;5;241m.\u001b[39m_express[chart] \u001b[38;5;241m=\u001b[39m \u001b[38;5;28;43mself\u001b[39;49m\u001b[38;5;241;43m.\u001b[39;49m\u001b[43m_express\u001b[49m\u001b[43m[\u001b[49m\u001b[43mchart\u001b[49m\u001b[43m]\u001b[49m\u001b[43m \u001b[49m\u001b[38;5;241;43m*\u001b[39;49m\u001b[43m \u001b[49m\u001b[43mother\u001b[49m\u001b[38;5;241;43m.\u001b[39;49m\u001b[43m_express\u001b[49m\u001b[43m[\u001b[49m\u001b[43mchart\u001b[49m\u001b[43m]\u001b[49m\n\u001b[1;32m   2807\u001b[0m result\u001b[38;5;241m.\u001b[39m_name \u001b[38;5;241m=\u001b[39m format_mul_txt(\u001b[38;5;28mself\u001b[39m\u001b[38;5;241m.\u001b[39m_name, \u001b[38;5;124m'\u001b[39m\u001b[38;5;124m*\u001b[39m\u001b[38;5;124m'\u001b[39m, other\u001b[38;5;241m.\u001b[39m_name)\n\u001b[1;32m   2808\u001b[0m result\u001b[38;5;241m.\u001b[39m_latex_name \u001b[38;5;241m=\u001b[39m format_mul_latex(\u001b[38;5;28mself\u001b[39m\u001b[38;5;241m.\u001b[39m_latex_name, \u001b[38;5;124mr\u001b[39m\u001b[38;5;124m'\u001b[39m\u001b[38;5;124m \u001b[39m\u001b[38;5;124m\\\u001b[39m\u001b[38;5;124mcdot \u001b[39m\u001b[38;5;124m'\u001b[39m,\n\u001b[1;32m   2809\u001b[0m                                      other\u001b[38;5;241m.\u001b[39m_latex_name)\n",
      "File \u001b[0;32m~/sage/sage-9.7/src/sage/structure/element.pyx:1514\u001b[0m, in \u001b[0;36msage.structure.element.Element.__mul__\u001b[0;34m()\u001b[0m\n\u001b[1;32m   1512\u001b[0m cdef int cl = classify_elements(left, right)\n\u001b[1;32m   1513\u001b[0m if HAVE_SAME_PARENT(cl):\n\u001b[0;32m-> 1514\u001b[0m     return (<Element>left)._mul_(right)\n\u001b[1;32m   1515\u001b[0m if BOTH_ARE_ELEMENT(cl):\n\u001b[1;32m   1516\u001b[0m     return coercion_model.bin_op(left, right, mul)\n",
      "File \u001b[0;32m~/sage/sage-9.7/src/sage/structure/element.pyx:1560\u001b[0m, in \u001b[0;36msage.structure.element.Element._mul_\u001b[0;34m()\u001b[0m\n\u001b[1;32m   1558\u001b[0m         raise bin_op_exception('*', self, other)\n\u001b[1;32m   1559\u001b[0m     else:\n\u001b[0;32m-> 1560\u001b[0m         return python_op(other)\n\u001b[1;32m   1561\u001b[0m \n\u001b[1;32m   1562\u001b[0m cdef _mul_long(self, long n):\n",
      "File \u001b[0;32m~/sage/sage-9.7/src/sage/manifolds/chart_func.py:1446\u001b[0m, in \u001b[0;36mChartFunction._mul_\u001b[0;34m(self, other)\u001b[0m\n\u001b[1;32m   1444\u001b[0m     res \u001b[38;5;241m=\u001b[39m other\u001b[38;5;241m.\u001b[39m_simplify(\u001b[38;5;28mself\u001b[39m\u001b[38;5;241m.\u001b[39mexpr() \u001b[38;5;241m*\u001b[39m other\u001b[38;5;241m.\u001b[39mexpr())\n\u001b[1;32m   1445\u001b[0m \u001b[38;5;28;01melse\u001b[39;00m:\n\u001b[0;32m-> 1446\u001b[0m     res \u001b[38;5;241m=\u001b[39m \u001b[38;5;28;43mself\u001b[39;49m\u001b[38;5;241;43m.\u001b[39;49m\u001b[43m_simplify\u001b[49m\u001b[43m(\u001b[49m\u001b[38;5;28;43mself\u001b[39;49m\u001b[38;5;241;43m.\u001b[39;49m\u001b[43mexpr\u001b[49m\u001b[43m(\u001b[49m\u001b[43m)\u001b[49m\u001b[43m \u001b[49m\u001b[38;5;241;43m*\u001b[39;49m\u001b[43m \u001b[49m\u001b[43mother\u001b[49m\u001b[38;5;241;43m.\u001b[39;49m\u001b[43mexpr\u001b[49m\u001b[43m(\u001b[49m\u001b[43m)\u001b[49m\u001b[43m)\u001b[49m\n\u001b[1;32m   1447\u001b[0m \u001b[38;5;28;01mif\u001b[39;00m curr \u001b[38;5;241m==\u001b[39m \u001b[38;5;124m'\u001b[39m\u001b[38;5;124mSR\u001b[39m\u001b[38;5;124m'\u001b[39m \u001b[38;5;129;01mand\u001b[39;00m res\u001b[38;5;241m.\u001b[39mis_trivial_zero():\n\u001b[1;32m   1448\u001b[0m     \u001b[38;5;66;03m# NB: \"if res == 0\" would be too expensive (cf. #22859)\u001b[39;00m\n\u001b[1;32m   1449\u001b[0m     \u001b[38;5;28;01mreturn\u001b[39;00m \u001b[38;5;28mself\u001b[39m\u001b[38;5;241m.\u001b[39mparent()\u001b[38;5;241m.\u001b[39mzero()\n",
      "File \u001b[0;32m~/sage/sage-9.7/src/sage/manifolds/chart_func.py:402\u001b[0m, in \u001b[0;36mChartFunction._simplify\u001b[0;34m(self, expr)\u001b[0m\n\u001b[1;32m    378\u001b[0m \u001b[38;5;28;01mdef\u001b[39;00m \u001b[38;5;21m_simplify\u001b[39m(\u001b[38;5;28mself\u001b[39m, expr):\n\u001b[1;32m    379\u001b[0m     \u001b[38;5;124;03m\"\"\"\u001b[39;00m\n\u001b[1;32m    380\u001b[0m \u001b[38;5;124;03m    Simplify the expression `expr` using `self._calc_method.simplify`.\u001b[39;00m\n\u001b[1;32m    381\u001b[0m \n\u001b[0;32m   (...)\u001b[0m\n\u001b[1;32m    400\u001b[0m \n\u001b[1;32m    401\u001b[0m \u001b[38;5;124;03m    \"\"\"\u001b[39;00m\n\u001b[0;32m--> 402\u001b[0m     res \u001b[38;5;241m=\u001b[39m \u001b[38;5;28;43mself\u001b[39;49m\u001b[38;5;241;43m.\u001b[39;49m\u001b[43m_calc_method\u001b[49m\u001b[38;5;241;43m.\u001b[39;49m\u001b[43msimplify\u001b[49m\u001b[43m(\u001b[49m\u001b[43mexpr\u001b[49m\u001b[43m)\u001b[49m\n\u001b[1;32m    403\u001b[0m     \u001b[38;5;28;01mif\u001b[39;00m (\u001b[38;5;28mself\u001b[39m\u001b[38;5;241m.\u001b[39m_expansion_symbol \u001b[38;5;129;01mis\u001b[39;00m \u001b[38;5;129;01mnot\u001b[39;00m \u001b[38;5;28;01mNone\u001b[39;00m \u001b[38;5;129;01mand\u001b[39;00m\n\u001b[1;32m    404\u001b[0m         \u001b[38;5;28mself\u001b[39m\u001b[38;5;241m.\u001b[39m_calc_method\u001b[38;5;241m.\u001b[39m_current \u001b[38;5;241m==\u001b[39m \u001b[38;5;124m'\u001b[39m\u001b[38;5;124mSR\u001b[39m\u001b[38;5;124m'\u001b[39m):\n\u001b[1;32m    405\u001b[0m         res \u001b[38;5;241m=\u001b[39m res\u001b[38;5;241m.\u001b[39mseries(\u001b[38;5;28mself\u001b[39m\u001b[38;5;241m.\u001b[39m_expansion_symbol, \u001b[38;5;28mself\u001b[39m\u001b[38;5;241m.\u001b[39m_order\u001b[38;5;241m+\u001b[39m\u001b[38;5;241m1\u001b[39m)\u001b[38;5;241m.\u001b[39mtruncate()\n",
      "File \u001b[0;32m~/sage/sage-9.7/src/sage/manifolds/calculus_method.py:276\u001b[0m, in \u001b[0;36mCalculusMethod.simplify\u001b[0;34m(self, expression, method)\u001b[0m\n\u001b[1;32m    274\u001b[0m \u001b[38;5;28;01mif\u001b[39;00m method \u001b[38;5;129;01mis\u001b[39;00m \u001b[38;5;28;01mNone\u001b[39;00m:\n\u001b[1;32m    275\u001b[0m     method \u001b[38;5;241m=\u001b[39m \u001b[38;5;28mself\u001b[39m\u001b[38;5;241m.\u001b[39m_current\n\u001b[0;32m--> 276\u001b[0m \u001b[38;5;28;01mreturn\u001b[39;00m \u001b[38;5;28;43mself\u001b[39;49m\u001b[38;5;241;43m.\u001b[39;49m\u001b[43m_simplify_dict\u001b[49m\u001b[43m[\u001b[49m\u001b[43mmethod\u001b[49m\u001b[43m]\u001b[49m\u001b[43m(\u001b[49m\u001b[43mexpression\u001b[49m\u001b[43m)\u001b[49m\n",
      "File \u001b[0;32m~/sage/sage-9.7/src/sage/manifolds/utilities.py:601\u001b[0m, in \u001b[0;36msimplify_chain_real\u001b[0;34m(expr)\u001b[0m\n\u001b[1;32m    599\u001b[0m \u001b[38;5;28;01mif\u001b[39;00m expr\u001b[38;5;241m.\u001b[39mnumber_of_operands() \u001b[38;5;241m==\u001b[39m \u001b[38;5;241m0\u001b[39m:\n\u001b[1;32m    600\u001b[0m     \u001b[38;5;28;01mreturn\u001b[39;00m expr\n\u001b[0;32m--> 601\u001b[0m expr \u001b[38;5;241m=\u001b[39m \u001b[43mexpr\u001b[49m\u001b[38;5;241;43m.\u001b[39;49m\u001b[43msimplify_factorial\u001b[49m\u001b[43m(\u001b[49m\u001b[43m)\u001b[49m\n\u001b[1;32m    602\u001b[0m expr \u001b[38;5;241m=\u001b[39m expr\u001b[38;5;241m.\u001b[39msimplify_trig()\n\u001b[1;32m    603\u001b[0m expr \u001b[38;5;241m=\u001b[39m expr\u001b[38;5;241m.\u001b[39msimplify_rational()\n",
      "File \u001b[0;32m~/sage/sage-9.7/src/sage/symbolic/expression.pyx:11186\u001b[0m, in \u001b[0;36msage.symbolic.expression.Expression.simplify_factorial\u001b[0;34m()\u001b[0m\n\u001b[1;32m  11184\u001b[0m \n\u001b[1;32m  11185\u001b[0m         \"\"\"\n\u001b[0;32m> 11186\u001b[0m         return self.parent()(self._maxima_().makefact().factcomb().minfactorial())\n\u001b[1;32m  11187\u001b[0m \n\u001b[1;32m  11188\u001b[0m     factorial_simplify = simplify_factorial\n",
      "File \u001b[0;32m~/sage/sage-9.7/src/sage/structure/parent.pyx:897\u001b[0m, in \u001b[0;36msage.structure.parent.Parent.__call__\u001b[0;34m()\u001b[0m\n\u001b[1;32m    895\u001b[0m if mor is not None:\n\u001b[1;32m    896\u001b[0m     if no_extra_args:\n\u001b[0;32m--> 897\u001b[0m         return mor._call_(x)\n\u001b[1;32m    898\u001b[0m     else:\n\u001b[1;32m    899\u001b[0m         return mor._call_with_args(x, args, kwds)\n",
      "File \u001b[0;32m~/sage/sage-9.7/src/sage/structure/coerce_maps.pyx:161\u001b[0m, in \u001b[0;36msage.structure.coerce_maps.DefaultConvertMap_unique._call_\u001b[0;34m()\u001b[0m\n\u001b[1;32m    159\u001b[0m             print(type(C), C)\n\u001b[1;32m    160\u001b[0m             print(type(C._element_constructor), C._element_constructor)\n\u001b[0;32m--> 161\u001b[0m         raise\n\u001b[1;32m    162\u001b[0m \n\u001b[1;32m    163\u001b[0m cpdef Element _call_with_args(self, x, args=(), kwds={}):\n",
      "File \u001b[0;32m~/sage/sage-9.7/src/sage/structure/coerce_maps.pyx:156\u001b[0m, in \u001b[0;36msage.structure.coerce_maps.DefaultConvertMap_unique._call_\u001b[0;34m()\u001b[0m\n\u001b[1;32m    154\u001b[0m cdef Parent C = self._codomain\n\u001b[1;32m    155\u001b[0m try:\n\u001b[0;32m--> 156\u001b[0m     return C._element_constructor(x)\n\u001b[1;32m    157\u001b[0m except Exception:\n\u001b[1;32m    158\u001b[0m     if print_warnings:\n",
      "File \u001b[0;32m~/sage/sage-9.7/src/sage/symbolic/ring.pyx:384\u001b[0m, in \u001b[0;36msage.symbolic.ring.SymbolicRing._element_constructor_\u001b[0;34m()\u001b[0m\n\u001b[1;32m    382\u001b[0m         TypeError: Malformed expression: λ + * !!!  1\n\u001b[1;32m    383\u001b[0m     \"\"\"\n\u001b[0;32m--> 384\u001b[0m     return new_Expression(self, x)\n\u001b[1;32m    385\u001b[0m \n\u001b[1;32m    386\u001b[0m def _force_pyobject(self, x, bint force=False, bint recursive=True):\n",
      "File \u001b[0;32m~/sage/sage-9.7/src/sage/symbolic/expression.pyx:13696\u001b[0m, in \u001b[0;36msage.symbolic.expression.new_Expression\u001b[0;34m()\u001b[0m\n\u001b[1;32m  13694\u001b[0m     return new_Expression_from_GEx(parent, (<Expression>x)._gobj)\n\u001b[1;32m  13695\u001b[0m if hasattr(x, '_symbolic_'):\n\u001b[0;32m> 13696\u001b[0m     return x._symbolic_(parent)\n\u001b[1;32m  13697\u001b[0m elif isinstance(x, str):\n\u001b[1;32m  13698\u001b[0m     try:\n",
      "File \u001b[0;32m~/sage/sage-9.7/src/sage/interfaces/maxima_abstract.py:1283\u001b[0m, in \u001b[0;36mMaximaAbstractElement._symbolic_\u001b[0;34m(self, R)\u001b[0m\n\u001b[1;32m   1260\u001b[0m \u001b[38;5;28;01mdef\u001b[39;00m \u001b[38;5;21m_symbolic_\u001b[39m(\u001b[38;5;28mself\u001b[39m, R):\n\u001b[1;32m   1261\u001b[0m     \u001b[38;5;124;03m\"\"\"\u001b[39;00m\n\u001b[1;32m   1262\u001b[0m \u001b[38;5;124;03m    Return a symbolic expression equivalent to this Maxima object.\u001b[39;00m\n\u001b[1;32m   1263\u001b[0m \n\u001b[0;32m   (...)\u001b[0m\n\u001b[1;32m   1281\u001b[0m \u001b[38;5;124;03m        sqrt(2)\u001b[39;00m\n\u001b[1;32m   1282\u001b[0m \u001b[38;5;124;03m    \"\"\"\u001b[39;00m\n\u001b[0;32m-> 1283\u001b[0m     \u001b[38;5;28;01mreturn\u001b[39;00m R(\u001b[38;5;28;43mself\u001b[39;49m\u001b[38;5;241;43m.\u001b[39;49m\u001b[43m_sage_\u001b[49m\u001b[43m(\u001b[49m\u001b[43m)\u001b[49m)\n",
      "File \u001b[0;32m~/sage/sage-9.7/src/sage/interfaces/maxima_abstract.py:1257\u001b[0m, in \u001b[0;36mMaximaAbstractElement._sage_\u001b[0;34m(self)\u001b[0m\n\u001b[1;32m   1202\u001b[0m \u001b[38;5;124;03m\"\"\"\u001b[39;00m\n\u001b[1;32m   1203\u001b[0m \u001b[38;5;124;03mAttempt to make a native Sage object out of this Maxima object.\u001b[39;00m\n\u001b[1;32m   1204\u001b[0m \u001b[38;5;124;03mThis is useful for automatic coercions in addition to other\u001b[39;00m\n\u001b[0;32m   (...)\u001b[0m\n\u001b[1;32m   1254\u001b[0m \u001b[38;5;124;03m    (True, False)\u001b[39;00m\n\u001b[1;32m   1255\u001b[0m \u001b[38;5;124;03m\"\"\"\u001b[39;00m\n\u001b[1;32m   1256\u001b[0m \u001b[38;5;28;01mimport\u001b[39;00m \u001b[38;5;21;01msage\u001b[39;00m\u001b[38;5;21;01m.\u001b[39;00m\u001b[38;5;21;01mcalculus\u001b[39;00m\u001b[38;5;21;01m.\u001b[39;00m\u001b[38;5;21;01mcalculus\u001b[39;00m \u001b[38;5;28;01mas\u001b[39;00m \u001b[38;5;21;01mcalculus\u001b[39;00m\n\u001b[0;32m-> 1257\u001b[0m \u001b[38;5;28;01mreturn\u001b[39;00m \u001b[43mcalculus\u001b[49m\u001b[38;5;241;43m.\u001b[39;49m\u001b[43msymbolic_expression_from_maxima_string\u001b[49m\u001b[43m(\u001b[49m\u001b[38;5;28;43mself\u001b[39;49m\u001b[38;5;241;43m.\u001b[39;49m\u001b[43mname\u001b[49m\u001b[43m(\u001b[49m\u001b[43m)\u001b[49m\u001b[43m,\u001b[49m\n\u001b[1;32m   1258\u001b[0m \u001b[43m        \u001b[49m\u001b[43mmaxima\u001b[49m\u001b[38;5;241;43m=\u001b[39;49m\u001b[38;5;28;43mself\u001b[39;49m\u001b[38;5;241;43m.\u001b[39;49m\u001b[43mparent\u001b[49m\u001b[43m(\u001b[49m\u001b[43m)\u001b[49m\u001b[43m)\u001b[49m\n",
      "File \u001b[0;32m~/sage/sage-9.7/src/sage/calculus/calculus.py:2387\u001b[0m, in \u001b[0;36msymbolic_expression_from_maxima_string\u001b[0;34m(x, equals_sub, maxima)\u001b[0m\n\u001b[1;32m   2385\u001b[0m     SRM_parser\u001b[38;5;241m.\u001b[39m_variable_constructor()\u001b[38;5;241m.\u001b[39mset_names(var_syms)\n\u001b[1;32m   2386\u001b[0m     SRM_parser\u001b[38;5;241m.\u001b[39m_callable_constructor()\u001b[38;5;241m.\u001b[39mset_names(function_syms)\n\u001b[0;32m-> 2387\u001b[0m     \u001b[38;5;28;01mreturn\u001b[39;00m \u001b[43mSRM_parser\u001b[49m\u001b[38;5;241;43m.\u001b[39;49m\u001b[43mparse_sequence\u001b[49m\u001b[43m(\u001b[49m\u001b[43ms\u001b[49m\u001b[43m)\u001b[49m\n\u001b[1;32m   2388\u001b[0m \u001b[38;5;28;01mexcept\u001b[39;00m \u001b[38;5;167;01mSyntaxError\u001b[39;00m:\n\u001b[1;32m   2389\u001b[0m     \u001b[38;5;28;01mraise\u001b[39;00m \u001b[38;5;167;01mTypeError\u001b[39;00m(\u001b[38;5;124m\"\u001b[39m\u001b[38;5;124munable to make sense of Maxima expression \u001b[39m\u001b[38;5;124m'\u001b[39m\u001b[38;5;132;01m%s\u001b[39;00m\u001b[38;5;124m'\u001b[39m\u001b[38;5;124m in Sage\u001b[39m\u001b[38;5;124m\"\u001b[39m \u001b[38;5;241m%\u001b[39m s)\n",
      "File \u001b[0;32m~/sage/sage-9.7/src/sage/misc/parser.pyx:575\u001b[0m, in \u001b[0;36msage.misc.parser.Parser.parse_sequence\u001b[0;34m()\u001b[0m\n\u001b[1;32m    573\u001b[0m     return expr\n\u001b[1;32m    574\u001b[0m \n\u001b[0;32m--> 575\u001b[0m cpdef parse_sequence(self, s):\n\u001b[1;32m    576\u001b[0m     \"\"\"\n\u001b[1;32m    577\u001b[0m     Parse a (possibly nested) set of lists and tuples.\n",
      "File \u001b[0;32m~/sage/sage-9.7/src/sage/misc/parser.pyx:591\u001b[0m, in \u001b[0;36msage.misc.parser.Parser.parse_sequence\u001b[0;34m()\u001b[0m\n\u001b[1;32m    589\u001b[0m \"\"\"\n\u001b[1;32m    590\u001b[0m cdef Tokenizer tokens = Tokenizer(s)\n\u001b[0;32m--> 591\u001b[0m all = self.p_sequence(tokens)\n\u001b[1;32m    592\u001b[0m if tokens.next() != EOS:\n\u001b[1;32m    593\u001b[0m     self.parse_error(tokens)\n",
      "File \u001b[0;32m~/sage/sage-9.7/src/sage/misc/parser.pyx:657\u001b[0m, in \u001b[0;36msage.misc.parser.Parser.p_sequence\u001b[0;34m()\u001b[0m\n\u001b[1;32m    655\u001b[0m     obj = self.p_list(tokens)\n\u001b[1;32m    656\u001b[0m elif token == c'(':\n\u001b[0;32m--> 657\u001b[0m     obj = self.p_tuple(tokens)\n\u001b[1;32m    658\u001b[0m elif token == EOS:\n\u001b[1;32m    659\u001b[0m     return all\n",
      "File \u001b[0;32m~/sage/sage-9.7/src/sage/misc/parser.pyx:709\u001b[0m, in \u001b[0;36msage.misc.parser.Parser.p_tuple\u001b[0;34m()\u001b[0m\n\u001b[1;32m    707\u001b[0m if token != c'(':\n\u001b[1;32m    708\u001b[0m     self.parse_error(tokens, \"Malformed tuple\")\n\u001b[0;32m--> 709\u001b[0m all = self.p_sequence(tokens)\n\u001b[1;32m    710\u001b[0m if len(all) == 1:\n\u001b[1;32m    711\u001b[0m     if tokens.last() != c',':\n",
      "File \u001b[0;32m~/sage/sage-9.7/src/sage/misc/parser.pyx:664\u001b[0m, in \u001b[0;36msage.misc.parser.Parser.p_sequence\u001b[0;34m()\u001b[0m\n\u001b[1;32m    662\u001b[0m     return all\n\u001b[1;32m    663\u001b[0m else:\n\u001b[0;32m--> 664\u001b[0m     obj = self.p_eqn(tokens)\n\u001b[1;32m    665\u001b[0m PyList_Append(all, obj)\n\u001b[1;32m    666\u001b[0m token = tokens.next()\n",
      "File \u001b[0;32m~/sage/sage-9.7/src/sage/misc/parser.pyx:754\u001b[0m, in \u001b[0;36msage.misc.parser.Parser.p_eqn\u001b[0;34m()\u001b[0m\n\u001b[1;32m    752\u001b[0m     a != b\n\u001b[1;32m    753\u001b[0m \"\"\"\n\u001b[0;32m--> 754\u001b[0m lhs = self.p_expr(tokens)\n\u001b[1;32m    755\u001b[0m cdef int op = tokens.next()\n\u001b[1;32m    756\u001b[0m if op == c'=':\n",
      "File \u001b[0;32m~/sage/sage-9.7/src/sage/misc/parser.pyx:794\u001b[0m, in \u001b[0;36msage.misc.parser.Parser.p_expr\u001b[0;34m()\u001b[0m\n\u001b[1;32m    792\u001b[0m # Note: this is left-recursive, so we can't just recurse\n\u001b[1;32m    793\u001b[0m cdef int op\n\u001b[0;32m--> 794\u001b[0m operand1 = self.p_term(tokens)\n\u001b[1;32m    795\u001b[0m op = tokens.next()\n\u001b[1;32m    796\u001b[0m while op == c'+' or op == c'-':\n",
      "File \u001b[0;32m~/sage/sage-9.7/src/sage/misc/parser.pyx:828\u001b[0m, in \u001b[0;36msage.misc.parser.Parser.p_term\u001b[0;34m()\u001b[0m\n\u001b[1;32m    826\u001b[0m # Note: this is left-recursive, so we can't just recurse\n\u001b[1;32m    827\u001b[0m cdef int op\n\u001b[0;32m--> 828\u001b[0m operand1 = self.p_factor(tokens)\n\u001b[1;32m    829\u001b[0m op = tokens.next()\n\u001b[1;32m    830\u001b[0m if op == NAME and self.implicit_multiplication:\n",
      "File \u001b[0;32m~/sage/sage-9.7/src/sage/misc/parser.pyx:871\u001b[0m, in \u001b[0;36msage.misc.parser.Parser.p_factor\u001b[0;34m()\u001b[0m\n\u001b[1;32m    869\u001b[0m         else:\n\u001b[1;32m    870\u001b[0m             tokens.backtrack()\n\u001b[0;32m--> 871\u001b[0m             return self.p_power(tokens)\n\u001b[1;32m    872\u001b[0m \n\u001b[1;32m    873\u001b[0m # power ::=  (atom | atom!) ^ factor | atom | atom!\n",
      "File \u001b[0;32m~/sage/sage-9.7/src/sage/misc/parser.pyx:902\u001b[0m, in \u001b[0;36msage.misc.parser.Parser.p_power\u001b[0;34m()\u001b[0m\n\u001b[1;32m    900\u001b[0m cdef int token = tokens.next()\n\u001b[1;32m    901\u001b[0m if token == c'^':\n\u001b[0;32m--> 902\u001b[0m     operand2 = self.p_factor(tokens)\n\u001b[1;32m    903\u001b[0m     return operand1 ** operand2\n\u001b[1;32m    904\u001b[0m elif token == c\"!\":\n",
      "File \u001b[0;32m~/sage/sage-9.7/src/sage/misc/parser.pyx:871\u001b[0m, in \u001b[0;36msage.misc.parser.Parser.p_factor\u001b[0;34m()\u001b[0m\n\u001b[1;32m    869\u001b[0m         else:\n\u001b[1;32m    870\u001b[0m             tokens.backtrack()\n\u001b[0;32m--> 871\u001b[0m             return self.p_power(tokens)\n\u001b[1;32m    872\u001b[0m \n\u001b[1;32m    873\u001b[0m # power ::=  (atom | atom!) ^ factor | atom | atom!\n",
      "File \u001b[0;32m~/sage/sage-9.7/src/sage/misc/parser.pyx:899\u001b[0m, in \u001b[0;36msage.misc.parser.Parser.p_power\u001b[0;34m()\u001b[0m\n\u001b[1;32m    897\u001b[0m \n\u001b[1;32m    898\u001b[0m         \"\"\"\n\u001b[0;32m--> 899\u001b[0m         operand1 = self.p_atom(tokens)\n\u001b[1;32m    900\u001b[0m         cdef int token = tokens.next()\n\u001b[1;32m    901\u001b[0m         if token == c'^':\n",
      "File \u001b[0;32m~/sage/sage-9.7/src/sage/misc/parser.pyx:953\u001b[0m, in \u001b[0;36msage.misc.parser.Parser.p_atom\u001b[0;34m()\u001b[0m\n\u001b[1;32m    951\u001b[0m token = tokens.next()\n\u001b[1;32m    952\u001b[0m if token == c'(':\n\u001b[0;32m--> 953\u001b[0m     func = self.callable_constructor(name)\n\u001b[1;32m    954\u001b[0m     args, kwds = self.p_args(tokens)\n\u001b[1;32m    955\u001b[0m     token = tokens.next()\n",
      "File \u001b[0;32m~/sage/sage-9.7/src/sage/misc/parser.pyx:1099\u001b[0m, in \u001b[0;36msage.misc.parser.LookupNameMaker.__call__\u001b[0;34m()\u001b[0m\n\u001b[1;32m   1097\u001b[0m except KeyError:\n\u001b[1;32m   1098\u001b[0m     if self.fallback is not None:\n\u001b[0;32m-> 1099\u001b[0m         return self.fallback(name)\n\u001b[1;32m   1100\u001b[0m     raise NameError(\"Unknown variable: '{}'\".format(name))\n\u001b[1;32m   1101\u001b[0m \n",
      "File \u001b[0;32m~/sage/sage-9.7/src/sage/calculus/calculus.py:2509\u001b[0m, in \u001b[0;36m_find_func\u001b[0;34m(name, create_when_missing)\u001b[0m\n\u001b[1;32m   2507\u001b[0m \u001b[38;5;28;01mimport\u001b[39;00m \u001b[38;5;21;01msage\u001b[39;00m\u001b[38;5;21;01m.\u001b[39;00m\u001b[38;5;21;01mall\u001b[39;00m\n\u001b[1;32m   2508\u001b[0m \u001b[38;5;28;01mtry\u001b[39;00m:\n\u001b[0;32m-> 2509\u001b[0m     f \u001b[38;5;241m=\u001b[39m \u001b[43mSR\u001b[49m\u001b[43m(\u001b[49m\u001b[43msage\u001b[49m\u001b[38;5;241;43m.\u001b[39;49m\u001b[43mall\u001b[49m\u001b[38;5;241;43m.\u001b[39;49m\u001b[38;5;18;43m__dict__\u001b[39;49m\u001b[43m[\u001b[49m\u001b[43mname\u001b[49m\u001b[43m]\u001b[49m\u001b[43m)\u001b[49m\n\u001b[1;32m   2510\u001b[0m     \u001b[38;5;28;01mif\u001b[39;00m \u001b[38;5;129;01mnot\u001b[39;00m \u001b[38;5;28misinstance\u001b[39m(f, Expression):\n\u001b[1;32m   2511\u001b[0m         \u001b[38;5;28;01mreturn\u001b[39;00m f\n",
      "File \u001b[0;32m~/sage/sage-9.7/src/sage/structure/parent.pyx:897\u001b[0m, in \u001b[0;36msage.structure.parent.Parent.__call__\u001b[0;34m()\u001b[0m\n\u001b[1;32m    895\u001b[0m if mor is not None:\n\u001b[1;32m    896\u001b[0m     if no_extra_args:\n\u001b[0;32m--> 897\u001b[0m         return mor._call_(x)\n\u001b[1;32m    898\u001b[0m     else:\n\u001b[1;32m    899\u001b[0m         return mor._call_with_args(x, args, kwds)\n",
      "File \u001b[0;32m~/sage/sage-9.7/src/sage/structure/coerce_maps.pyx:161\u001b[0m, in \u001b[0;36msage.structure.coerce_maps.DefaultConvertMap_unique._call_\u001b[0;34m()\u001b[0m\n\u001b[1;32m    159\u001b[0m             print(type(C), C)\n\u001b[1;32m    160\u001b[0m             print(type(C._element_constructor), C._element_constructor)\n\u001b[0;32m--> 161\u001b[0m         raise\n\u001b[1;32m    162\u001b[0m \n\u001b[1;32m    163\u001b[0m cpdef Element _call_with_args(self, x, args=(), kwds={}):\n",
      "File \u001b[0;32m~/sage/sage-9.7/src/sage/structure/coerce_maps.pyx:156\u001b[0m, in \u001b[0;36msage.structure.coerce_maps.DefaultConvertMap_unique._call_\u001b[0;34m()\u001b[0m\n\u001b[1;32m    154\u001b[0m cdef Parent C = self._codomain\n\u001b[1;32m    155\u001b[0m try:\n\u001b[0;32m--> 156\u001b[0m     return C._element_constructor(x)\n\u001b[1;32m    157\u001b[0m except Exception:\n\u001b[1;32m    158\u001b[0m     if print_warnings:\n",
      "File \u001b[0;32m~/sage/sage-9.7/src/sage/symbolic/ring.pyx:384\u001b[0m, in \u001b[0;36msage.symbolic.ring.SymbolicRing._element_constructor_\u001b[0;34m()\u001b[0m\n\u001b[1;32m    382\u001b[0m         TypeError: Malformed expression: λ + * !!!  1\n\u001b[1;32m    383\u001b[0m     \"\"\"\n\u001b[0;32m--> 384\u001b[0m     return new_Expression(self, x)\n\u001b[1;32m    385\u001b[0m \n\u001b[1;32m    386\u001b[0m def _force_pyobject(self, x, bint force=False, bint recursive=True):\n",
      "File \u001b[0;32m~/sage/sage-9.7/src/sage/symbolic/expression.pyx:13743\u001b[0m, in \u001b[0;36msage.symbolic.expression.new_Expression\u001b[0;34m()\u001b[0m\n\u001b[1;32m  13741\u001b[0m from sage.rings.semirings.non_negative_integer_semiring import NN\n\u001b[1;32m  13742\u001b[0m from sage.sets.real_set import RealSet\n\u001b[0;32m> 13743\u001b[0m if (x.is_finite() or x in (NN, ZZ, QQ, AA)\n\u001b[1;32m  13744\u001b[0m         or isinstance(x, RealSet)):\n\u001b[1;32m  13745\u001b[0m     exp = x\n",
      "File \u001b[0;32m~/sage/sage-9.7/src/sage/interfaces/r.py:1990\u001b[0m, in \u001b[0;36mRFunction.__call__\u001b[0;34m(self, *args, **kwds)\u001b[0m\n\u001b[1;32m   1982\u001b[0m \u001b[38;5;28;01mdef\u001b[39;00m \u001b[38;5;21m__call__\u001b[39m(\u001b[38;5;28mself\u001b[39m, \u001b[38;5;241m*\u001b[39margs, \u001b[38;5;241m*\u001b[39m\u001b[38;5;241m*\u001b[39mkwds):\n\u001b[1;32m   1983\u001b[0m     \u001b[38;5;124;03m\"\"\"\u001b[39;00m\n\u001b[1;32m   1984\u001b[0m \u001b[38;5;124;03m    EXAMPLES::\u001b[39;00m\n\u001b[1;32m   1985\u001b[0m \n\u001b[0;32m   (...)\u001b[0m\n\u001b[1;32m   1988\u001b[0m \u001b[38;5;124;03m        [1] 3\u001b[39;00m\n\u001b[1;32m   1989\u001b[0m \u001b[38;5;124;03m    \"\"\"\u001b[39;00m\n\u001b[0;32m-> 1990\u001b[0m     \u001b[38;5;28;01mreturn\u001b[39;00m \u001b[38;5;28;43mself\u001b[39;49m\u001b[38;5;241;43m.\u001b[39;49m\u001b[43m_parent\u001b[49m\u001b[38;5;241;43m.\u001b[39;49m\u001b[43mfunction_call\u001b[49m\u001b[43m(\u001b[49m\u001b[38;5;28;43mself\u001b[39;49m\u001b[38;5;241;43m.\u001b[39;49m\u001b[43m_name\u001b[49m\u001b[43m,\u001b[49m\u001b[43m \u001b[49m\u001b[43margs\u001b[49m\u001b[38;5;241;43m=\u001b[39;49m\u001b[38;5;28;43mlist\u001b[39;49m\u001b[43m(\u001b[49m\u001b[43margs\u001b[49m\u001b[43m)\u001b[49m\u001b[43m,\u001b[49m\u001b[43m \u001b[49m\u001b[43mkwds\u001b[49m\u001b[38;5;241;43m=\u001b[39;49m\u001b[43mkwds\u001b[49m\u001b[43m)\u001b[49m\n",
      "File \u001b[0;32m~/sage/sage-9.7/src/sage/interfaces/r.py:1063\u001b[0m, in \u001b[0;36mR.function_call\u001b[0;34m(self, function, args, kwds)\u001b[0m\n\u001b[1;32m   1061\u001b[0m args, kwds \u001b[38;5;241m=\u001b[39m \u001b[38;5;28mself\u001b[39m\u001b[38;5;241m.\u001b[39m_convert_args_kwds(args, kwds)\n\u001b[1;32m   1062\u001b[0m \u001b[38;5;28mself\u001b[39m\u001b[38;5;241m.\u001b[39m_check_valid_function_name(function)\n\u001b[0;32m-> 1063\u001b[0m \u001b[38;5;28;01mreturn\u001b[39;00m \u001b[38;5;28;43mself\u001b[39;49m\u001b[38;5;241;43m.\u001b[39;49m\u001b[43mnew\u001b[49m\u001b[43m(\u001b[49m\u001b[38;5;124;43m\"\u001b[39;49m\u001b[38;5;132;43;01m%s\u001b[39;49;00m\u001b[38;5;124;43m(\u001b[39;49m\u001b[38;5;132;43;01m%s\u001b[39;49;00m\u001b[38;5;124;43m)\u001b[39;49m\u001b[38;5;124;43m\"\u001b[39;49m\u001b[38;5;241;43m%\u001b[39;49m\u001b[43m(\u001b[49m\u001b[43mfunction\u001b[49m\u001b[43m,\u001b[49m\u001b[43m \u001b[49m\u001b[38;5;124;43m\"\u001b[39;49m\u001b[38;5;124;43m,\u001b[39;49m\u001b[38;5;124;43m\"\u001b[39;49m\u001b[38;5;241;43m.\u001b[39;49m\u001b[43mjoin\u001b[49m\u001b[43m(\u001b[49m\u001b[43m[\u001b[49m\u001b[43ms\u001b[49m\u001b[38;5;241;43m.\u001b[39;49m\u001b[43mname\u001b[49m\u001b[43m(\u001b[49m\u001b[43m)\u001b[49m\u001b[43m \u001b[49m\u001b[38;5;28;43;01mfor\u001b[39;49;00m\u001b[43m \u001b[49m\u001b[43ms\u001b[49m\u001b[43m \u001b[49m\u001b[38;5;129;43;01min\u001b[39;49;00m\u001b[43m \u001b[49m\u001b[43margs\u001b[49m\u001b[43m]\u001b[49m\u001b[43m \u001b[49m\u001b[38;5;241;43m+\u001b[39;49m\n\u001b[1;32m   1064\u001b[0m \u001b[43m                                             \u001b[49m\u001b[43m[\u001b[49m\u001b[38;5;28;43mself\u001b[39;49m\u001b[38;5;241;43m.\u001b[39;49m\u001b[43m_sage_to_r_name\u001b[49m\u001b[43m(\u001b[49m\u001b[43mkey\u001b[49m\u001b[43m)\u001b[49m\u001b[38;5;241;43m+\u001b[39;49m\u001b[38;5;124;43m'\u001b[39;49m\u001b[38;5;124;43m=\u001b[39;49m\u001b[38;5;124;43m'\u001b[39;49m\u001b[38;5;241;43m+\u001b[39;49m\u001b[43mkwds\u001b[49m\u001b[43m[\u001b[49m\u001b[43mkey\u001b[49m\u001b[43m]\u001b[49m\u001b[38;5;241;43m.\u001b[39;49m\u001b[43mname\u001b[49m\u001b[43m(\u001b[49m\u001b[43m)\u001b[49m\u001b[43m \u001b[49m\u001b[38;5;28;43;01mfor\u001b[39;49;00m\u001b[43m \u001b[49m\u001b[43mkey\u001b[49m\u001b[43m \u001b[49m\u001b[38;5;129;43;01min\u001b[39;49;00m\u001b[43m \u001b[49m\u001b[43mkwds\u001b[49m\u001b[43m \u001b[49m\u001b[43m]\u001b[49m\u001b[43m \u001b[49m\u001b[43m)\u001b[49m\u001b[43m)\u001b[49m\u001b[43m)\u001b[49m\n",
      "File \u001b[0;32m~/sage/sage-9.7/src/sage/interfaces/interface.py:383\u001b[0m, in \u001b[0;36mInterface.new\u001b[0;34m(self, code)\u001b[0m\n\u001b[1;32m    382\u001b[0m \u001b[38;5;28;01mdef\u001b[39;00m \u001b[38;5;21mnew\u001b[39m(\u001b[38;5;28mself\u001b[39m, code):\n\u001b[0;32m--> 383\u001b[0m     \u001b[38;5;28;01mreturn\u001b[39;00m \u001b[38;5;28;43mself\u001b[39;49m\u001b[43m(\u001b[49m\u001b[43mcode\u001b[49m\u001b[43m)\u001b[49m\n",
      "File \u001b[0;32m~/sage/sage-9.7/src/sage/interfaces/interface.py:296\u001b[0m, in \u001b[0;36mInterface.__call__\u001b[0;34m(self, x, name)\u001b[0m\n\u001b[1;32m    293\u001b[0m         \u001b[38;5;28;01mpass\u001b[39;00m\n\u001b[1;32m    295\u001b[0m \u001b[38;5;28;01mif\u001b[39;00m \u001b[38;5;28misinstance\u001b[39m(x, \u001b[38;5;28mstr\u001b[39m):\n\u001b[0;32m--> 296\u001b[0m     \u001b[38;5;28;01mreturn\u001b[39;00m \u001b[38;5;28;43mcls\u001b[39;49m\u001b[43m(\u001b[49m\u001b[38;5;28;43mself\u001b[39;49m\u001b[43m,\u001b[49m\u001b[43m \u001b[49m\u001b[43mx\u001b[49m\u001b[43m,\u001b[49m\u001b[43m \u001b[49m\u001b[43mname\u001b[49m\u001b[38;5;241;43m=\u001b[39;49m\u001b[43mname\u001b[49m\u001b[43m)\u001b[49m\n\u001b[1;32m    297\u001b[0m \u001b[38;5;28;01mtry\u001b[39;00m:\n\u001b[1;32m    298\u001b[0m     \u001b[38;5;66;03m# Special methods do not and should not have an option to\u001b[39;00m\n\u001b[1;32m    299\u001b[0m     \u001b[38;5;66;03m# set the name directly, as the identifier assigned by the\u001b[39;00m\n\u001b[1;32m    300\u001b[0m     \u001b[38;5;66;03m# interface should stay consistent. An identifier with a\u001b[39;00m\n\u001b[1;32m    301\u001b[0m     \u001b[38;5;66;03m# user-assigned name might change its value, so we return a\u001b[39;00m\n\u001b[1;32m    302\u001b[0m     \u001b[38;5;66;03m# new element.\u001b[39;00m\n\u001b[1;32m    303\u001b[0m     result \u001b[38;5;241m=\u001b[39m \u001b[38;5;28mself\u001b[39m\u001b[38;5;241m.\u001b[39m_coerce_from_special_method(x)\n",
      "File \u001b[0;32m~/sage/sage-9.7/src/sage/interfaces/interface.py:733\u001b[0m, in \u001b[0;36mInterfaceElement.__init__\u001b[0;34m(self, parent, value, is_name, name)\u001b[0m\n\u001b[1;32m    731\u001b[0m \u001b[38;5;28;01melse\u001b[39;00m:\n\u001b[1;32m    732\u001b[0m     \u001b[38;5;28;01mtry\u001b[39;00m:\n\u001b[0;32m--> 733\u001b[0m         \u001b[38;5;28mself\u001b[39m\u001b[38;5;241m.\u001b[39m_name \u001b[38;5;241m=\u001b[39m \u001b[43mparent\u001b[49m\u001b[38;5;241;43m.\u001b[39;49m\u001b[43m_create\u001b[49m\u001b[43m(\u001b[49m\u001b[43mvalue\u001b[49m\u001b[43m,\u001b[49m\u001b[43m \u001b[49m\u001b[43mname\u001b[49m\u001b[38;5;241;43m=\u001b[39;49m\u001b[43mname\u001b[49m\u001b[43m)\u001b[49m\n\u001b[1;32m    734\u001b[0m     \u001b[38;5;28;01mexcept\u001b[39;00m (\u001b[38;5;167;01mTypeError\u001b[39;00m, \u001b[38;5;167;01mRuntimeError\u001b[39;00m, \u001b[38;5;167;01mValueError\u001b[39;00m) \u001b[38;5;28;01mas\u001b[39;00m x:\n\u001b[1;32m    735\u001b[0m         \u001b[38;5;28;01mraise\u001b[39;00m \u001b[38;5;167;01mTypeError\u001b[39;00m(x)\n",
      "File \u001b[0;32m~/sage/sage-9.7/src/sage/interfaces/interface.py:514\u001b[0m, in \u001b[0;36mInterface._create\u001b[0;34m(self, value, name)\u001b[0m\n\u001b[1;32m    512\u001b[0m \u001b[38;5;28;01mdef\u001b[39;00m \u001b[38;5;21m_create\u001b[39m(\u001b[38;5;28mself\u001b[39m, value, name\u001b[38;5;241m=\u001b[39m\u001b[38;5;28;01mNone\u001b[39;00m):\n\u001b[1;32m    513\u001b[0m     name \u001b[38;5;241m=\u001b[39m \u001b[38;5;28mself\u001b[39m\u001b[38;5;241m.\u001b[39m_next_var_name() \u001b[38;5;28;01mif\u001b[39;00m name \u001b[38;5;129;01mis\u001b[39;00m \u001b[38;5;28;01mNone\u001b[39;00m \u001b[38;5;28;01melse\u001b[39;00m name\n\u001b[0;32m--> 514\u001b[0m     \u001b[38;5;28;43mself\u001b[39;49m\u001b[38;5;241;43m.\u001b[39;49m\u001b[43mset\u001b[49m\u001b[43m(\u001b[49m\u001b[43mname\u001b[49m\u001b[43m,\u001b[49m\u001b[43m \u001b[49m\u001b[43mvalue\u001b[49m\u001b[43m)\u001b[49m\n\u001b[1;32m    515\u001b[0m     \u001b[38;5;28;01mreturn\u001b[39;00m name\n",
      "File \u001b[0;32m~/sage/sage-9.7/src/sage/interfaces/r.py:1110\u001b[0m, in \u001b[0;36mR.set\u001b[0;34m(self, var, value)\u001b[0m\n\u001b[1;32m   1094\u001b[0m \u001b[38;5;124;03m\"\"\"\u001b[39;00m\n\u001b[1;32m   1095\u001b[0m \u001b[38;5;124;03mSet the variable var in R to what the string value evaluates to in R.\u001b[39;00m\n\u001b[1;32m   1096\u001b[0m \n\u001b[0;32m   (...)\u001b[0m\n\u001b[1;32m   1107\u001b[0m \n\u001b[1;32m   1108\u001b[0m \u001b[38;5;124;03m\"\"\"\u001b[39;00m\n\u001b[1;32m   1109\u001b[0m cmd \u001b[38;5;241m=\u001b[39m \u001b[38;5;124m'\u001b[39m\u001b[38;5;132;01m%s\u001b[39;00m\u001b[38;5;124m <- \u001b[39m\u001b[38;5;132;01m%s\u001b[39;00m\u001b[38;5;124m'\u001b[39m\u001b[38;5;241m%\u001b[39m(var,value)\n\u001b[0;32m-> 1110\u001b[0m out \u001b[38;5;241m=\u001b[39m \u001b[38;5;28;43mself\u001b[39;49m\u001b[38;5;241;43m.\u001b[39;49m\u001b[43meval\u001b[49m\u001b[43m(\u001b[49m\u001b[43mcmd\u001b[49m\u001b[43m)\u001b[49m\n",
      "File \u001b[0;32m~/sage/sage-9.7/src/sage/interfaces/r.py:1325\u001b[0m, in \u001b[0;36mR.eval\u001b[0;34m(self, code, *args, **kwds)\u001b[0m\n\u001b[1;32m   1315\u001b[0m \u001b[38;5;124;03m\"\"\"\u001b[39;00m\n\u001b[1;32m   1316\u001b[0m \u001b[38;5;124;03mEvaluates a command inside the R interpreter and returns the output\u001b[39;00m\n\u001b[1;32m   1317\u001b[0m \u001b[38;5;124;03mas a string.\u001b[39;00m\n\u001b[0;32m   (...)\u001b[0m\n\u001b[1;32m   1322\u001b[0m \u001b[38;5;124;03m    '[1] 2'\u001b[39;00m\n\u001b[1;32m   1323\u001b[0m \u001b[38;5;124;03m\"\"\"\u001b[39;00m\n\u001b[1;32m   1324\u001b[0m \u001b[38;5;28mself\u001b[39m\u001b[38;5;241m.\u001b[39m_lazy_init()\n\u001b[0;32m-> 1325\u001b[0m \u001b[38;5;28;01mreturn\u001b[39;00m \u001b[38;5;28mstr\u001b[39m(\u001b[43mrobjects\u001b[49m\u001b[38;5;241;43m.\u001b[39;49m\u001b[43mr\u001b[49m\u001b[43m(\u001b[49m\u001b[43mcode\u001b[49m\u001b[43m)\u001b[49m)\u001b[38;5;241m.\u001b[39mrstrip()\n",
      "File \u001b[0;32m~/sage/sage-9.7/local/var/lib/sage/venv-python3.8/lib/python3.8/site-packages/rpy2/robjects/__init__.py:416\u001b[0m, in \u001b[0;36mR.__call__\u001b[0;34m(self, string)\u001b[0m\n\u001b[1;32m    414\u001b[0m \u001b[38;5;28;01mdef\u001b[39;00m \u001b[38;5;21m__call__\u001b[39m(\u001b[38;5;28mself\u001b[39m, string):\n\u001b[1;32m    415\u001b[0m     p \u001b[38;5;241m=\u001b[39m rinterface\u001b[38;5;241m.\u001b[39mparse(string)\n\u001b[0;32m--> 416\u001b[0m     res \u001b[38;5;241m=\u001b[39m \u001b[38;5;28;43mself\u001b[39;49m\u001b[38;5;241;43m.\u001b[39;49m\u001b[43meval\u001b[49m\u001b[43m(\u001b[49m\u001b[43mp\u001b[49m\u001b[43m)\u001b[49m\n\u001b[1;32m    417\u001b[0m     \u001b[38;5;28;01mreturn\u001b[39;00m conversion\u001b[38;5;241m.\u001b[39mrpy2py(res)\n",
      "File \u001b[0;32m~/sage/sage-9.7/local/var/lib/sage/venv-python3.8/lib/python3.8/site-packages/rpy2/robjects/functions.py:197\u001b[0m, in \u001b[0;36mSignatureTranslatedFunction.__call__\u001b[0;34m(self, *args, **kwargs)\u001b[0m\n\u001b[1;32m    195\u001b[0m         v \u001b[38;5;241m=\u001b[39m kwargs\u001b[38;5;241m.\u001b[39mpop(k)\n\u001b[1;32m    196\u001b[0m         kwargs[r_k] \u001b[38;5;241m=\u001b[39m v\n\u001b[0;32m--> 197\u001b[0m \u001b[38;5;28;01mreturn\u001b[39;00m (\u001b[38;5;28;43msuper\u001b[39;49m\u001b[43m(\u001b[49m\u001b[43mSignatureTranslatedFunction\u001b[49m\u001b[43m,\u001b[49m\u001b[43m \u001b[49m\u001b[38;5;28;43mself\u001b[39;49m\u001b[43m)\u001b[49m\n\u001b[1;32m    198\u001b[0m \u001b[43m        \u001b[49m\u001b[38;5;241;43m.\u001b[39;49m\u001b[38;5;21;43m__call__\u001b[39;49m\u001b[43m(\u001b[49m\u001b[38;5;241;43m*\u001b[39;49m\u001b[43margs\u001b[49m\u001b[43m,\u001b[49m\u001b[43m \u001b[49m\u001b[38;5;241;43m*\u001b[39;49m\u001b[38;5;241;43m*\u001b[39;49m\u001b[43mkwargs\u001b[49m\u001b[43m)\u001b[49m)\n",
      "File \u001b[0;32m~/sage/sage-9.7/local/var/lib/sage/venv-python3.8/lib/python3.8/site-packages/rpy2/robjects/functions.py:125\u001b[0m, in \u001b[0;36mFunction.__call__\u001b[0;34m(self, *args, **kwargs)\u001b[0m\n\u001b[1;32m    123\u001b[0m     \u001b[38;5;28;01melse\u001b[39;00m:\n\u001b[1;32m    124\u001b[0m         new_kwargs[k] \u001b[38;5;241m=\u001b[39m conversion\u001b[38;5;241m.\u001b[39mpy2rpy(v)\n\u001b[0;32m--> 125\u001b[0m res \u001b[38;5;241m=\u001b[39m \u001b[38;5;28;43msuper\u001b[39;49m\u001b[43m(\u001b[49m\u001b[43mFunction\u001b[49m\u001b[43m,\u001b[49m\u001b[43m \u001b[49m\u001b[38;5;28;43mself\u001b[39;49m\u001b[43m)\u001b[49m\u001b[38;5;241;43m.\u001b[39;49m\u001b[38;5;21;43m__call__\u001b[39;49m\u001b[43m(\u001b[49m\u001b[38;5;241;43m*\u001b[39;49m\u001b[43mnew_args\u001b[49m\u001b[43m,\u001b[49m\u001b[43m \u001b[49m\u001b[38;5;241;43m*\u001b[39;49m\u001b[38;5;241;43m*\u001b[39;49m\u001b[43mnew_kwargs\u001b[49m\u001b[43m)\u001b[49m\n\u001b[1;32m    126\u001b[0m res \u001b[38;5;241m=\u001b[39m conversion\u001b[38;5;241m.\u001b[39mrpy2py(res)\n\u001b[1;32m    127\u001b[0m \u001b[38;5;28;01mreturn\u001b[39;00m res\n",
      "File \u001b[0;32m~/sage/sage-9.7/local/var/lib/sage/venv-python3.8/lib/python3.8/site-packages/rpy2/rinterface_lib/conversion.py:44\u001b[0m, in \u001b[0;36m_cdata_res_to_rinterface.<locals>._\u001b[0;34m(*args, **kwargs)\u001b[0m\n\u001b[1;32m     43\u001b[0m \u001b[38;5;28;01mdef\u001b[39;00m \u001b[38;5;21m_\u001b[39m(\u001b[38;5;241m*\u001b[39margs, \u001b[38;5;241m*\u001b[39m\u001b[38;5;241m*\u001b[39mkwargs):\n\u001b[0;32m---> 44\u001b[0m     cdata \u001b[38;5;241m=\u001b[39m \u001b[43mfunction\u001b[49m\u001b[43m(\u001b[49m\u001b[38;5;241;43m*\u001b[39;49m\u001b[43margs\u001b[49m\u001b[43m,\u001b[49m\u001b[43m \u001b[49m\u001b[38;5;241;43m*\u001b[39;49m\u001b[38;5;241;43m*\u001b[39;49m\u001b[43mkwargs\u001b[49m\u001b[43m)\u001b[49m\n\u001b[1;32m     45\u001b[0m     \u001b[38;5;66;03m# TODO: test cdata is of the expected CType\u001b[39;00m\n\u001b[1;32m     46\u001b[0m     \u001b[38;5;28;01mreturn\u001b[39;00m _cdata_to_rinterface(cdata)\n",
      "File \u001b[0;32m~/sage/sage-9.7/local/var/lib/sage/venv-python3.8/lib/python3.8/site-packages/rpy2/rinterface.py:624\u001b[0m, in \u001b[0;36mSexpClosure.__call__\u001b[0;34m(self, *args, **kwargs)\u001b[0m\n\u001b[1;32m    618\u001b[0m     res \u001b[38;5;241m=\u001b[39m rmemory\u001b[38;5;241m.\u001b[39mprotect(\n\u001b[1;32m    619\u001b[0m         openrlib\u001b[38;5;241m.\u001b[39mrlib\u001b[38;5;241m.\u001b[39mR_tryEval(\n\u001b[1;32m    620\u001b[0m             call_r,\n\u001b[1;32m    621\u001b[0m             globalenv\u001b[38;5;241m.\u001b[39m__sexp__\u001b[38;5;241m.\u001b[39m_cdata,\n\u001b[1;32m    622\u001b[0m             error_occured))\n\u001b[1;32m    623\u001b[0m     \u001b[38;5;28;01mif\u001b[39;00m error_occured[\u001b[38;5;241m0\u001b[39m]:\n\u001b[0;32m--> 624\u001b[0m         \u001b[38;5;28;01mraise\u001b[39;00m embedded\u001b[38;5;241m.\u001b[39mRRuntimeError(_rinterface\u001b[38;5;241m.\u001b[39m_geterrmessage())\n\u001b[1;32m    625\u001b[0m \u001b[38;5;28;01mreturn\u001b[39;00m res\n",
      "\u001b[0;31mRRuntimeError\u001b[0m: Error in is.finite() : 0 arguments passed to 'is.finite' which requires 1\n"
     ]
    }
   ],
   "source": [
    "g(dsY, K).display()"
   ]
  },
  {
   "cell_type": "markdown",
   "id": "0e141ad0",
   "metadata": {},
   "source": [
    "From EOM analysis the radial coordinates $t, r, \\phi$ satisfy the differential equations below. Taylor expanding that up to $\\mathcal{O} (\\epsilon^2)$"
   ]
  },
  {
   "cell_type": "code",
   "execution_count": 196,
   "id": "87e28980",
   "metadata": {},
   "outputs": [
    {
     "data": {
      "text/html": [
       "<html>\\(\\displaystyle \\left(\\frac{\\sqrt{-{\\left(m^{2} - \\frac{Q^{2} q^{2}}{{\\left(\\epsilon^{2} r_{2}\\left(s\\right) + \\epsilon r_{1}\\left(s\\right) + r_{0}\\left(s\\right)\\right)}^{2}}\\right)} \\epsilon^{2} + \\frac{2 \\, Q \\epsilon q}{\\epsilon^{2} r_{2}\\left(s\\right) + \\epsilon r_{1}\\left(s\\right) + r_{0}\\left(s\\right)} - \\frac{\\kappa^{2}}{{\\left(\\epsilon^{2} r_{2}\\left(s\\right) + \\epsilon r_{1}\\left(s\\right) + r_{0}\\left(s\\right)\\right)}^{2}} + 1}}{m}, \\frac{\\frac{Q \\epsilon q}{\\epsilon^{2} r_{2}\\left(s\\right) + \\epsilon r_{1}\\left(s\\right) + r_{0}\\left(s\\right)} + 1}{m}, \\frac{\\kappa}{{\\left(\\epsilon^{2} r_{2}\\left(s\\right) + \\epsilon r_{1}\\left(s\\right) + r_{0}\\left(s\\right)\\right)}^{2} m}\\right)\\)</html>"
      ],
      "text/latex": [
       "$\\displaystyle \\left(\\frac{\\sqrt{-{\\left(m^{2} - \\frac{Q^{2} q^{2}}{{\\left(\\epsilon^{2} r_{2}\\left(s\\right) + \\epsilon r_{1}\\left(s\\right) + r_{0}\\left(s\\right)\\right)}^{2}}\\right)} \\epsilon^{2} + \\frac{2 \\, Q \\epsilon q}{\\epsilon^{2} r_{2}\\left(s\\right) + \\epsilon r_{1}\\left(s\\right) + r_{0}\\left(s\\right)} - \\frac{\\kappa^{2}}{{\\left(\\epsilon^{2} r_{2}\\left(s\\right) + \\epsilon r_{1}\\left(s\\right) + r_{0}\\left(s\\right)\\right)}^{2}} + 1}}{m}, \\frac{\\frac{Q \\epsilon q}{\\epsilon^{2} r_{2}\\left(s\\right) + \\epsilon r_{1}\\left(s\\right) + r_{0}\\left(s\\right)} + 1}{m}, \\frac{\\kappa}{{\\left(\\epsilon^{2} r_{2}\\left(s\\right) + \\epsilon r_{1}\\left(s\\right) + r_{0}\\left(s\\right)\\right)}^{2} m}\\right)$"
      ],
      "text/plain": [
       "(sqrt(-(m^2 - Q^2*q^2/(epsilon^2*r_2(s) + epsilon*r_1(s) + r_0(s))^2)*epsilon^2 + 2*Q*epsilon*q/(epsilon^2*r_2(s) + epsilon*r_1(s) + r_0(s)) - kappa^2/(epsilon^2*r_2(s) + epsilon*r_1(s) + r_0(s))^2 + 1)/m,\n",
       " (Q*epsilon*q/(epsilon^2*r_2(s) + epsilon*r_1(s) + r_0(s)) + 1)/m,\n",
       " kappa/((epsilon^2*r_2(s) + epsilon*r_1(s) + r_0(s))^2*m))"
      ]
     },
     "execution_count": 196,
     "metadata": {},
     "output_type": "execute_result"
    }
   ],
   "source": [
    "dsr = 1/m*sqrt(1 + eps*2*q*Q/r + eps^2*(q^2*Q^2/r^2 - m^2) - kap^2/r^2)\n",
    "dst = 1/m*(1 + eps*q*Q/r)\n",
    "dsphi = kap/(m * r^2)\n",
    "dsr, dst, dsphi"
   ]
  },
  {
   "cell_type": "code",
   "execution_count": 197,
   "id": "2f2f25d0",
   "metadata": {},
   "outputs": [
    {
     "data": {
      "text/html": [
       "<html>\\(\\displaystyle \\left(\\frac{\\sqrt{-\\frac{\\kappa^{2}}{r_{0}\\left(s\\right)^{2}} + 1}}{m}, \\frac{\\frac{Q q}{r_{0}\\left(s\\right)} + \\frac{\\kappa^{2} r_{1}\\left(s\\right)}{r_{0}\\left(s\\right)^{3}}}{m \\sqrt{-\\frac{\\kappa^{2}}{r_{0}\\left(s\\right)^{2}} + 1}}, -\\frac{{\\left(\\frac{Q q}{r_{0}\\left(s\\right)} + \\frac{\\kappa^{2} r_{1}\\left(s\\right)}{r_{0}\\left(s\\right)^{3}}\\right)}^{2}}{m {\\left(-\\frac{\\kappa^{2}}{r_{0}\\left(s\\right)^{2}} + 1\\right)}^{\\frac{3}{2}}} - \\frac{m^{2} - \\frac{Q^{2} q^{2}}{r_{0}\\left(s\\right)^{2}} + \\frac{2 \\, Q q r_{1}\\left(s\\right)}{r_{0}\\left(s\\right)^{2}} + \\frac{3 \\, \\kappa^{2} r_{1}\\left(s\\right)^{2}}{r_{0}\\left(s\\right)^{4}} - \\frac{2 \\, \\kappa^{2} r_{2}\\left(s\\right)}{r_{0}\\left(s\\right)^{3}}}{m \\sqrt{-\\frac{\\kappa^{2}}{r_{0}\\left(s\\right)^{2}} + 1}}\\right)\\)</html>"
      ],
      "text/latex": [
       "$\\displaystyle \\left(\\frac{\\sqrt{-\\frac{\\kappa^{2}}{r_{0}\\left(s\\right)^{2}} + 1}}{m}, \\frac{\\frac{Q q}{r_{0}\\left(s\\right)} + \\frac{\\kappa^{2} r_{1}\\left(s\\right)}{r_{0}\\left(s\\right)^{3}}}{m \\sqrt{-\\frac{\\kappa^{2}}{r_{0}\\left(s\\right)^{2}} + 1}}, -\\frac{{\\left(\\frac{Q q}{r_{0}\\left(s\\right)} + \\frac{\\kappa^{2} r_{1}\\left(s\\right)}{r_{0}\\left(s\\right)^{3}}\\right)}^{2}}{m {\\left(-\\frac{\\kappa^{2}}{r_{0}\\left(s\\right)^{2}} + 1\\right)}^{\\frac{3}{2}}} - \\frac{m^{2} - \\frac{Q^{2} q^{2}}{r_{0}\\left(s\\right)^{2}} + \\frac{2 \\, Q q r_{1}\\left(s\\right)}{r_{0}\\left(s\\right)^{2}} + \\frac{3 \\, \\kappa^{2} r_{1}\\left(s\\right)^{2}}{r_{0}\\left(s\\right)^{4}} - \\frac{2 \\, \\kappa^{2} r_{2}\\left(s\\right)}{r_{0}\\left(s\\right)^{3}}}{m \\sqrt{-\\frac{\\kappa^{2}}{r_{0}\\left(s\\right)^{2}} + 1}}\\right)$"
      ],
      "text/plain": [
       "(sqrt(-kappa^2/r_0(s)^2 + 1)/m,\n",
       " (Q*q/r_0(s) + kappa^2*r_1(s)/r_0(s)^3)/(m*sqrt(-kappa^2/r_0(s)^2 + 1)),\n",
       " -(Q*q/r_0(s) + kappa^2*r_1(s)/r_0(s)^3)^2/(m*(-kappa^2/r_0(s)^2 + 1)^(3/2)) - (m^2 - Q^2*q^2/r_0(s)^2 + 2*Q*q*r_1(s)/r_0(s)^2 + 3*kappa^2*r_1(s)^2/r_0(s)^4 - 2*kappa^2*r_2(s)/r_0(s)^3)/(m*sqrt(-kappa^2/r_0(s)^2 + 1)))"
      ]
     },
     "execution_count": 197,
     "metadata": {},
     "output_type": "execute_result"
    }
   ],
   "source": [
    "deps_dsr = dsr.diff(eps, 1)\n",
    "deps2_dsr = dsr.diff(eps, 2)\n",
    "dsr.subs({eps:0}), deps_dsr.subs({eps:0}), deps2_dsr.subs({eps:0})"
   ]
  },
  {
   "cell_type": "code",
   "execution_count": 198,
   "id": "f3a62f1a",
   "metadata": {},
   "outputs": [
    {
     "data": {
      "text/html": [
       "<html>\\(\\displaystyle \\left(\\frac{1}{m}, \\frac{Q q}{m r_{0}\\left(s\\right)}, -\\frac{2 \\, Q q r_{1}\\left(s\\right)}{m r_{0}\\left(s\\right)^{2}}\\right)\\)</html>"
      ],
      "text/latex": [
       "$\\displaystyle \\left(\\frac{1}{m}, \\frac{Q q}{m r_{0}\\left(s\\right)}, -\\frac{2 \\, Q q r_{1}\\left(s\\right)}{m r_{0}\\left(s\\right)^{2}}\\right)$"
      ],
      "text/plain": [
       "(1/m, Q*q/(m*r_0(s)), -2*Q*q*r_1(s)/(m*r_0(s)^2))"
      ]
     },
     "execution_count": 198,
     "metadata": {},
     "output_type": "execute_result"
    }
   ],
   "source": [
    "deps_dst = dst.diff(eps, 1)\n",
    "deps2_dst = dst.diff(eps, 2)\n",
    "dst.subs({eps:0}), deps_dst.subs({eps:0}), deps2_dst.subs({eps:0})"
   ]
  },
  {
   "cell_type": "code",
   "execution_count": 199,
   "id": "7df16818",
   "metadata": {},
   "outputs": [
    {
     "data": {
      "text/html": [
       "<html>\\(\\displaystyle \\left(\\frac{\\kappa}{m r_{0}\\left(s\\right)^{2}}, -\\frac{2 \\, \\kappa r_{1}\\left(s\\right)}{m r_{0}\\left(s\\right)^{3}}, \\frac{6 \\, \\kappa r_{1}\\left(s\\right)^{2}}{m r_{0}\\left(s\\right)^{4}} - \\frac{4 \\, \\kappa r_{2}\\left(s\\right)}{m r_{0}\\left(s\\right)^{3}}\\right)\\)</html>"
      ],
      "text/latex": [
       "$\\displaystyle \\left(\\frac{\\kappa}{m r_{0}\\left(s\\right)^{2}}, -\\frac{2 \\, \\kappa r_{1}\\left(s\\right)}{m r_{0}\\left(s\\right)^{3}}, \\frac{6 \\, \\kappa r_{1}\\left(s\\right)^{2}}{m r_{0}\\left(s\\right)^{4}} - \\frac{4 \\, \\kappa r_{2}\\left(s\\right)}{m r_{0}\\left(s\\right)^{3}}\\right)$"
      ],
      "text/plain": [
       "(kappa/(m*r_0(s)^2),\n",
       " -2*kappa*r_1(s)/(m*r_0(s)^3),\n",
       " 6*kappa*r_1(s)^2/(m*r_0(s)^4) - 4*kappa*r_2(s)/(m*r_0(s)^3))"
      ]
     },
     "execution_count": 199,
     "metadata": {},
     "output_type": "execute_result"
    }
   ],
   "source": [
    "deps_dsphi = dsphi.diff(eps, 1)\n",
    "deps2_dsphi = dsphi.diff(eps, 2)\n",
    "dsphi.subs({eps:0}), deps_dsphi.subs({eps:0}), deps2_dsphi.subs({eps:0})"
   ]
  },
  {
   "cell_type": "markdown",
   "id": "1cedb4ab",
   "metadata": {},
   "source": [
    "From the general theory, we know that at first order, $[ D_{\\epsilon s} Y^a ] = \\dot{z}^a [ \\partial_{\\epsilon s} \\mathcal{U} ] + e^a_i [ \\partial_U \\mathcal{X}^i ]$. This implies $\\dot{z}_a [ D_{\\epsilon s} Y^a ] = 0$."
   ]
  },
  {
   "cell_type": "code",
   "execution_count": 200,
   "id": "047b0313",
   "metadata": {},
   "outputs": [
    {
     "data": {
      "text/html": [
       "<html>\\(\\displaystyle \\left[\\frac{\\frac{Q \\epsilon q}{\\epsilon^{2} r_{2}\\left(s\\right) + \\epsilon r_{1}\\left(s\\right) + r_{0}\\left(s\\right)} + 1}{m}, \\frac{\\sqrt{-{\\left(m^{2} - \\frac{Q^{2} q^{2}}{{\\left(\\epsilon^{2} r_{2}\\left(s\\right) + \\epsilon r_{1}\\left(s\\right) + r_{0}\\left(s\\right)\\right)}^{2}}\\right)} \\epsilon^{2} + \\frac{2 \\, Q \\epsilon q}{\\epsilon^{2} r_{2}\\left(s\\right) + \\epsilon r_{1}\\left(s\\right) + r_{0}\\left(s\\right)} - \\frac{\\kappa^{2}}{{\\left(\\epsilon^{2} r_{2}\\left(s\\right) + \\epsilon r_{1}\\left(s\\right) + r_{0}\\left(s\\right)\\right)}^{2}} + 1}}{m}, 0, \\frac{\\kappa}{{\\left(\\epsilon^{2} r_{2}\\left(s\\right) + \\epsilon r_{1}\\left(s\\right) + r_{0}\\left(s\\right)\\right)}^{2} m}\\right]\\)</html>"
      ],
      "text/latex": [
       "$\\displaystyle \\left[\\frac{\\frac{Q \\epsilon q}{\\epsilon^{2} r_{2}\\left(s\\right) + \\epsilon r_{1}\\left(s\\right) + r_{0}\\left(s\\right)} + 1}{m}, \\frac{\\sqrt{-{\\left(m^{2} - \\frac{Q^{2} q^{2}}{{\\left(\\epsilon^{2} r_{2}\\left(s\\right) + \\epsilon r_{1}\\left(s\\right) + r_{0}\\left(s\\right)\\right)}^{2}}\\right)} \\epsilon^{2} + \\frac{2 \\, Q \\epsilon q}{\\epsilon^{2} r_{2}\\left(s\\right) + \\epsilon r_{1}\\left(s\\right) + r_{0}\\left(s\\right)} - \\frac{\\kappa^{2}}{{\\left(\\epsilon^{2} r_{2}\\left(s\\right) + \\epsilon r_{1}\\left(s\\right) + r_{0}\\left(s\\right)\\right)}^{2}} + 1}}{m}, 0, \\frac{\\kappa}{{\\left(\\epsilon^{2} r_{2}\\left(s\\right) + \\epsilon r_{1}\\left(s\\right) + r_{0}\\left(s\\right)\\right)}^{2} m}\\right]$"
      ],
      "text/plain": [
       "[(Q*epsilon*q/(epsilon^2*r_2(s) + epsilon*r_1(s) + r_0(s)) + 1)/m,\n",
       " sqrt(-(m^2 - Q^2*q^2/(epsilon^2*r_2(s) + epsilon*r_1(s) + r_0(s))^2)*epsilon^2 + 2*Q*epsilon*q/(epsilon^2*r_2(s) + epsilon*r_1(s) + r_0(s)) - kappa^2/(epsilon^2*r_2(s) + epsilon*r_1(s) + r_0(s))^2 + 1)/m,\n",
       " 0,\n",
       " kappa/((epsilon^2*r_2(s) + epsilon*r_1(s) + r_0(s))^2*m)]"
      ]
     },
     "execution_count": 200,
     "metadata": {},
     "output_type": "execute_result"
    }
   ],
   "source": [
    "dsY = M.vector_field(name=r'\\partial_s Y')\n",
    "dsY[:] = [dst, dsr, 0, dsphi]\n",
    "dsY[:]"
   ]
  },
  {
   "cell_type": "code",
   "execution_count": 202,
   "id": "93c4d789",
   "metadata": {},
   "outputs": [
    {
     "data": {
      "text/html": [
       "<html>\\(\\displaystyle \\left[Q q \\operatorname{arsinh}\\left(\\sqrt{\\frac{r_{0}\\left(s\\right)^{2}}{\\kappa^{2}} - 1}\\right), Q q \\sqrt{-\\frac{\\kappa^{2}}{r_{0}\\left(s\\right)^{2}} + 1} \\operatorname{arsinh}\\left(\\sqrt{\\frac{r_{0}\\left(s\\right)^{2}}{\\kappa^{2}} - 1}\\right) - \\frac{\\kappa X_{2}\\left(s, \\epsilon\\right)}{r_{0}\\left(s\\right)}, \\frac{X_{1}\\left(s, \\epsilon\\right)}{r_{0}\\left(s\\right)}, \\frac{Q \\kappa q \\operatorname{arsinh}\\left(\\sqrt{\\frac{r_{0}\\left(s\\right)^{2}}{\\kappa^{2}} - 1}\\right)}{r_{0}\\left(s\\right)^{2}} + \\frac{\\sqrt{-\\frac{\\kappa^{2}}{r_{0}\\left(s\\right)^{2}} + 1} X_{2}\\left(s, \\epsilon\\right)}{r_{0}\\left(s\\right)}\\right]\\)</html>"
      ],
      "text/latex": [
       "$\\displaystyle \\left[Q q \\operatorname{arsinh}\\left(\\sqrt{\\frac{r_{0}\\left(s\\right)^{2}}{\\kappa^{2}} - 1}\\right), Q q \\sqrt{-\\frac{\\kappa^{2}}{r_{0}\\left(s\\right)^{2}} + 1} \\operatorname{arsinh}\\left(\\sqrt{\\frac{r_{0}\\left(s\\right)^{2}}{\\kappa^{2}} - 1}\\right) - \\frac{\\kappa X_{2}\\left(s, \\epsilon\\right)}{r_{0}\\left(s\\right)}, \\frac{X_{1}\\left(s, \\epsilon\\right)}{r_{0}\\left(s\\right)}, \\frac{Q \\kappa q \\operatorname{arsinh}\\left(\\sqrt{\\frac{r_{0}\\left(s\\right)^{2}}{\\kappa^{2}} - 1}\\right)}{r_{0}\\left(s\\right)^{2}} + \\frac{\\sqrt{-\\frac{\\kappa^{2}}{r_{0}\\left(s\\right)^{2}} + 1} X_{2}\\left(s, \\epsilon\\right)}{r_{0}\\left(s\\right)}\\right]$"
      ],
      "text/plain": [
       "[Q*q*arcsinh(sqrt(r_0(s)^2/kappa^2 - 1)),\n",
       " Q*q*sqrt(-kappa^2/r_0(s)^2 + 1)*arcsinh(sqrt(r_0(s)^2/kappa^2 - 1)) - kappa*X_2(s, epsilon)/r_0(s),\n",
       " X_1(s, epsilon)/r_0(s),\n",
       " Q*kappa*q*arcsinh(sqrt(r_0(s)^2/kappa^2 - 1))/r_0(s)^2 + sqrt(-kappa^2/r_0(s)^2 + 1)*X_2(s, epsilon)/r_0(s)]"
      ]
     },
     "execution_count": 202,
     "metadata": {},
     "output_type": "execute_result"
    }
   ],
   "source": [
    "xi = M.vector_field(name=r'\\xi')\n",
    "xi[:] = [q*Q*asinh(sqrt(r0^2/kap^2 - 1)), (q*Q*sqrt(1 - kap^2/r0^2)*asinh(sqrt(r0^2/kap^2 - 1)) - X2*kap/r0), X1/r0, kap*q*Q*asinh(sqrt(r0^2/kap^2 - 1))/r0^2 + sqrt(1 - kap^2/r0^2)*X2/r0]\n",
    "xi[:]"
   ]
  },
  {
   "cell_type": "code",
   "execution_count": 222,
   "id": "ebca590f",
   "metadata": {},
   "outputs": [
    {
     "data": {
      "text/html": [
       "<html>\\(\\displaystyle \\left[0, -\\frac{Q \\kappa^{2} q \\operatorname{arsinh}\\left(\\frac{\\sqrt{\\kappa + r_{0}\\left(s\\right)} \\sqrt{-\\kappa + r_{0}\\left(s\\right)}}{\\kappa}\\right) r_{0}\\left(s\\right) + \\sqrt{\\kappa + r_{0}\\left(s\\right)} \\kappa \\sqrt{-\\kappa + r_{0}\\left(s\\right)} X_{2}\\left(s, 0\\right) r_{0}\\left(s\\right)}{m r_{0}\\left(s\\right)^{4}}, \\frac{i \\, \\sqrt{\\kappa^{2} - r_{0}\\left(s\\right)^{2}} X_{1}\\left(s, 0\\right)}{m {\\left| r_{0}\\left(s\\right) \\right|} r_{0}\\left(s\\right)^{2}}, \\frac{Q \\sqrt{\\kappa + r_{0}\\left(s\\right)} \\kappa \\sqrt{-\\kappa + r_{0}\\left(s\\right)} q {\\left| r_{0}\\left(s\\right) \\right|} \\operatorname{arsinh}\\left(\\frac{\\sqrt{\\kappa + r_{0}\\left(s\\right)} \\sqrt{-\\kappa + r_{0}\\left(s\\right)}}{\\kappa}\\right) r_{0}\\left(s\\right) - \\kappa^{2} X_{2}\\left(s, 0\\right) {\\left| r_{0}\\left(s\\right) \\right|} r_{0}\\left(s\\right) + {\\left(i \\, Q \\kappa q \\operatorname{arsinh}\\left(\\frac{\\sqrt{\\kappa + r_{0}\\left(s\\right)} \\sqrt{-\\kappa + r_{0}\\left(s\\right)}}{\\kappa}\\right) r_{0}\\left(s\\right)^{2} + i \\, \\sqrt{\\kappa + r_{0}\\left(s\\right)} \\sqrt{-\\kappa + r_{0}\\left(s\\right)} X_{2}\\left(s, 0\\right) r_{0}\\left(s\\right)^{2}\\right)} \\sqrt{\\kappa^{2} - r_{0}\\left(s\\right)^{2}}}{m {\\left| r_{0}\\left(s\\right) \\right|} r_{0}\\left(s\\right)^{5}}\\right]\\)</html>"
      ],
      "text/latex": [
       "$\\displaystyle \\left[0, -\\frac{Q \\kappa^{2} q \\operatorname{arsinh}\\left(\\frac{\\sqrt{\\kappa + r_{0}\\left(s\\right)} \\sqrt{-\\kappa + r_{0}\\left(s\\right)}}{\\kappa}\\right) r_{0}\\left(s\\right) + \\sqrt{\\kappa + r_{0}\\left(s\\right)} \\kappa \\sqrt{-\\kappa + r_{0}\\left(s\\right)} X_{2}\\left(s, 0\\right) r_{0}\\left(s\\right)}{m r_{0}\\left(s\\right)^{4}}, \\frac{i \\, \\sqrt{\\kappa^{2} - r_{0}\\left(s\\right)^{2}} X_{1}\\left(s, 0\\right)}{m {\\left| r_{0}\\left(s\\right) \\right|} r_{0}\\left(s\\right)^{2}}, \\frac{Q \\sqrt{\\kappa + r_{0}\\left(s\\right)} \\kappa \\sqrt{-\\kappa + r_{0}\\left(s\\right)} q {\\left| r_{0}\\left(s\\right) \\right|} \\operatorname{arsinh}\\left(\\frac{\\sqrt{\\kappa + r_{0}\\left(s\\right)} \\sqrt{-\\kappa + r_{0}\\left(s\\right)}}{\\kappa}\\right) r_{0}\\left(s\\right) - \\kappa^{2} X_{2}\\left(s, 0\\right) {\\left| r_{0}\\left(s\\right) \\right|} r_{0}\\left(s\\right) + {\\left(i \\, Q \\kappa q \\operatorname{arsinh}\\left(\\frac{\\sqrt{\\kappa + r_{0}\\left(s\\right)} \\sqrt{-\\kappa + r_{0}\\left(s\\right)}}{\\kappa}\\right) r_{0}\\left(s\\right)^{2} + i \\, \\sqrt{\\kappa + r_{0}\\left(s\\right)} \\sqrt{-\\kappa + r_{0}\\left(s\\right)} X_{2}\\left(s, 0\\right) r_{0}\\left(s\\right)^{2}\\right)} \\sqrt{\\kappa^{2} - r_{0}\\left(s\\right)^{2}}}{m {\\left| r_{0}\\left(s\\right) \\right|} r_{0}\\left(s\\right)^{5}}\\right]$"
      ],
      "text/plain": [
       "[0,\n",
       " -(Q*kappa^2*q*arcsinh(sqrt(kappa + r_0(s))*sqrt(-kappa + r_0(s))/kappa)*r_0(s) + sqrt(kappa + r_0(s))*kappa*sqrt(-kappa + r_0(s))*X_2(s, 0)*r_0(s))/(m*r_0(s)^4),\n",
       " I*sqrt(kappa^2 - r_0(s)^2)*X_1(s, 0)/(m*abs(r_0(s))*r_0(s)^2),\n",
       " (Q*sqrt(kappa + r_0(s))*kappa*sqrt(-kappa + r_0(s))*q*abs(r_0(s))*arcsinh(sqrt(kappa + r_0(s))*sqrt(-kappa + r_0(s))/kappa)*r_0(s) - kappa^2*X_2(s, 0)*abs(r_0(s))*r_0(s) + (I*Q*kappa*q*arcsinh(sqrt(kappa + r_0(s))*sqrt(-kappa + r_0(s))/kappa)*r_0(s)^2 + I*sqrt(kappa + r_0(s))*sqrt(-kappa + r_0(s))*X_2(s, 0)*r_0(s)^2)*sqrt(kappa^2 - r_0(s)^2))/(m*abs(r_0(s))*r_0(s)^5)]"
      ]
     },
     "execution_count": 222,
     "metadata": {},
     "output_type": "execute_result"
    }
   ],
   "source": [
    "DdsY = nab(dsY)\n",
    "intvec = DdsY.contract(xi)\n",
    "intvec.apply_map(lambda x: x.subs({th:pi/2}))\n",
    "intvec.apply_map(lambda y: y.subs({R:r0}))\n",
    "intvec.apply_map(lambda y: y.subs({eps:0}))\n",
    "intvec[:]"
   ]
  },
  {
   "cell_type": "code",
   "execution_count": 63,
   "id": "712819b0",
   "metadata": {},
   "outputs": [
    {
     "data": {
      "text/html": [
       "<html>\\(\\displaystyle \\left[\\frac{Q q}{m r_{0}\\left(s\\right)}, \\frac{\\frac{Q q}{r_{0}\\left(s\\right)} - \\frac{\\kappa_{0} \\kappa_{1}}{r_{0}\\left(s\\right)^{2}} + \\frac{\\kappa_{0}^{2} r_{1}\\left(s\\right)}{r_{0}\\left(s\\right)^{3}}}{m \\sqrt{-\\frac{\\kappa_{0}^{2}}{r_{0}\\left(s\\right)^{2}} + 1}}, 0, \\frac{\\kappa_{1}}{m r_{0}\\left(s\\right)^{2}} - \\frac{2 \\, \\kappa_{0} r_{1}\\left(s\\right)}{m r_{0}\\left(s\\right)^{3}}\\right]\\)</html>"
      ],
      "text/latex": [
       "$\\displaystyle \\left[\\frac{Q q}{m r_{0}\\left(s\\right)}, \\frac{\\frac{Q q}{r_{0}\\left(s\\right)} - \\frac{\\kappa_{0} \\kappa_{1}}{r_{0}\\left(s\\right)^{2}} + \\frac{\\kappa_{0}^{2} r_{1}\\left(s\\right)}{r_{0}\\left(s\\right)^{3}}}{m \\sqrt{-\\frac{\\kappa_{0}^{2}}{r_{0}\\left(s\\right)^{2}} + 1}}, 0, \\frac{\\kappa_{1}}{m r_{0}\\left(s\\right)^{2}} - \\frac{2 \\, \\kappa_{0} r_{1}\\left(s\\right)}{m r_{0}\\left(s\\right)^{3}}\\right]$"
      ],
      "text/plain": [
       "[Q*q/(m*r_0(s)),\n",
       " (Q*q/r_0(s) - kappa_0*kappa_1/r_0(s)^2 + kappa_0^2*r_1(s)/r_0(s)^3)/(m*sqrt(-kappa_0^2/r_0(s)^2 + 1)),\n",
       " 0,\n",
       " kappa_1/(m*r_0(s)^2) - 2*kappa_0*r_1(s)/(m*r_0(s)^3)]"
      ]
     },
     "execution_count": 63,
     "metadata": {},
     "output_type": "execute_result"
    }
   ],
   "source": [
    "depssY = M.vector_field(name=r'D_{\\epsilon s} Y')\n",
    "depssY[:] = [deps_dst.subs({eps:0}), deps_dsr.subs({eps:0}), 0, deps_dsphi.subs({eps:0})]\n",
    "depssY[:]"
   ]
  },
  {
   "cell_type": "code",
   "execution_count": 64,
   "id": "55086a97",
   "metadata": {},
   "outputs": [
    {
     "data": {
      "text/html": [
       "<html>\\(\\displaystyle \\begin{array}{llcl} g\\left(\\dot{z},D_{\\epsilon s} Y\\right):& M & \\longrightarrow & \\mathbb{R} \\\\ & \\left(t, R, {\\theta}, {\\phi}\\right) & \\longmapsto & -\\frac{\\kappa_{0}^{2} r_{1}\\left(s\\right)}{m^{2} r_{0}\\left(s\\right)^{3}} \\end{array}\\)</html>"
      ],
      "text/latex": [
       "$\\displaystyle \\begin{array}{llcl} g\\left(\\dot{z},D_{\\epsilon s} Y\\right):& M & \\longrightarrow & \\mathbb{R} \\\\ & \\left(t, R, {\\theta}, {\\phi}\\right) & \\longmapsto & -\\frac{\\kappa_{0}^{2} r_{1}\\left(s\\right)}{m^{2} r_{0}\\left(s\\right)^{3}} \\end{array}$"
      ],
      "text/plain": [
       "g(\\dot{z},D_{\\epsilon s} Y): M → ℝ\n",
       "   (t, R, th, ph) ↦ -kappa_0^2*r_1(s)/(m^2*r_0(s)^3)"
      ]
     },
     "execution_count": 64,
     "metadata": {},
     "output_type": "execute_result"
    }
   ],
   "source": [
    "g.apply_map(lambda x: x.subs({th:pi/2}))\n",
    "g.apply_map(lambda x: x.subs({R:r0}))\n",
    "zdot.apply_map(lambda x: x.subs({R:r0}))\n",
    "g(zdot, depssY).display()"
   ]
  },
  {
   "cell_type": "code",
   "execution_count": 391,
   "id": "938e0273",
   "metadata": {},
   "outputs": [
    {
     "data": {
      "text/html": [
       "<html>\\(\\displaystyle \\left(Q q \\operatorname{arsinh}\\left(\\frac{\\kappa m}{s}\\right), Q q \\operatorname{artanh}\\left(\\frac{\\sqrt{κ^{2} + \\frac{s^{2}}{m^{2}}}}{κ}\\right)\\right)\\)</html>"
      ],
      "text/latex": [
       "$\\displaystyle \\left(Q q \\operatorname{arsinh}\\left(\\frac{\\kappa m}{s}\\right), Q q \\operatorname{artanh}\\left(\\frac{\\sqrt{κ^{2} + \\frac{s^{2}}{m^{2}}}}{κ}\\right)\\right)$"
      ],
      "text/plain": [
       "(Q*q*arcsinh(kappa*m/s), Q*q*arctanh(sqrt(κ^2 + s^2/m^2)/κ))"
      ]
     },
     "execution_count": 391,
     "metadata": {},
     "output_type": "execute_result"
    }
   ],
   "source": [
    "l = -kap*q*Q/(s*sqrt(kap^2 + s^2/m^2))\n",
    "l.integral(s), l.integral(s, algorithm='mathematica_free')"
   ]
  },
  {
   "cell_type": "code",
   "execution_count": 399,
   "id": "cacbe1e6",
   "metadata": {},
   "outputs": [
    {
     "data": {
      "text/html": [
       "<html>\\(\\displaystyle \\left(Q q \\operatorname{arsinh}\\left(\\frac{\\kappa m}{s}\\right), Q q \\operatorname{arsinh}\\left(\\frac{\\kappa m}{s}\\right), \\frac{1}{2} \\, Q \\kappa m q {\\left(\\frac{\\log\\left(\\kappa m + \\sqrt{\\kappa^{2} m^{2} + s^{2}}\\right)}{\\kappa m} - \\frac{\\log\\left(-\\kappa m + \\sqrt{\\kappa^{2} m^{2} + s^{2}}\\right)}{\\kappa m}\\right)}\\right)\\)</html>"
      ],
      "text/latex": [
       "$\\displaystyle \\left(Q q \\operatorname{arsinh}\\left(\\frac{\\kappa m}{s}\\right), Q q \\operatorname{arsinh}\\left(\\frac{\\kappa m}{s}\\right), \\frac{1}{2} \\, Q \\kappa m q {\\left(\\frac{\\log\\left(\\kappa m + \\sqrt{\\kappa^{2} m^{2} + s^{2}}\\right)}{\\kappa m} - \\frac{\\log\\left(-\\kappa m + \\sqrt{\\kappa^{2} m^{2} + s^{2}}\\right)}{\\kappa m}\\right)}\\right)$"
      ],
      "text/plain": [
       "(Q*q*arcsinh(kappa*m/s),\n",
       " Q*q*arcsinh(kappa*m/s),\n",
       " 1/2*Q*kappa*m*q*(log(kappa*m + sqrt(kappa^2*m^2 + s^2))/(kappa*m) - log(-kappa*m + sqrt(kappa^2*m^2 + s^2))/(kappa*m)))"
      ]
     },
     "execution_count": 399,
     "metadata": {},
     "output_type": "execute_result"
    }
   ],
   "source": [
    "l.integral(s, algorithm='maxima'), l.integral(s, algorithm='sympy'), l.integral(s, algorithm='giac')"
   ]
  },
  {
   "cell_type": "code",
   "execution_count": 402,
   "id": "343c3d0c",
   "metadata": {},
   "outputs": [
    {
     "data": {
      "image/png": "[encoded data removed]",
      "text/plain": [
       "Graphics object consisting of 1 graphics primitive"
      ]
     },
     "execution_count": 402,
     "metadata": {},
     "output_type": "execute_result"
    }
   ],
   "source": [
    "plot(asinh(1/s), s, 0, 3)"
   ]
  },
  {
   "cell_type": "markdown",
   "id": "5b52764c",
   "metadata": {},
   "source": [
    "Now the tangent vector in the outside-in part is $\\partial_s Y^a = \\dot{z}^a \\partial_s \\mathcal{U} + \\lambda e^a_i \\partial_s \\mathcal{X}^i + \\lambda^2 n^a \\partial_s \\mathcal{V}$. At coincidence, $\\dot{z}^a = \\dot{z}^a [\\partial_s \\mathcal{U}] \\implies \\mathcal{U} = s + \\mathcal{O} (\\lambda)$."
   ]
  },
  {
   "cell_type": "markdown",
   "id": "0df98949",
   "metadata": {},
   "source": [
    "Solve the ODEs at each order. The zeroth order equation gives"
   ]
  },
  {
   "cell_type": "code",
   "execution_count": 303,
   "id": "93250a02",
   "metadata": {},
   "outputs": [
    {
     "data": {
      "text/html": [
       "<html>\\(\\displaystyle \\sqrt{-\\kappa^{2} + r_{0}\\left(s\\right)^{2}} m = C + s\\)</html>"
      ],
      "text/latex": [
       "$\\displaystyle \\sqrt{-\\kappa^{2} + r_{0}\\left(s\\right)^{2}} m = C + s$"
      ],
      "text/plain": [
       "sqrt(-kappa^2 + r_0(s)^2)*m == _C + s"
      ]
     },
     "execution_count": 303,
     "metadata": {},
     "output_type": "execute_result"
    }
   ],
   "source": [
    "r0_tempsol = desolve(r0.diff(s, 1) - dsr.subs({eps:0}), r0, ivar=s)\n",
    "r0_tempsol"
   ]
  },
  {
   "cell_type": "markdown",
   "id": "9b97b354",
   "metadata": {},
   "source": [
    "For some initial value of the independent variable $s = 0$, choose $r_0 (s = 0) = \\kappa$, so that $r_0 (s) = \\sqrt{\\kappa^2 + s^2/m^2}$"
   ]
  },
  {
   "cell_type": "code",
   "execution_count": 305,
   "id": "d9394dff",
   "metadata": {},
   "outputs": [
    {
     "data": {
      "text/html": [
       "<html>\\(\\displaystyle \\sqrt{\\kappa^{2} + \\frac{s^{2}}{m^{2}}}\\)</html>"
      ],
      "text/latex": [
       "$\\displaystyle \\sqrt{\\kappa^{2} + \\frac{s^{2}}{m^{2}}}$"
      ],
      "text/plain": [
       "sqrt(kappa^2 + s^2/m^2)"
      ]
     },
     "execution_count": 305,
     "metadata": {},
     "output_type": "execute_result"
    }
   ],
   "source": [
    "r0_sol = sqrt(kap^2 + s^2/m^2)\n",
    "r0_sol"
   ]
  },
  {
   "cell_type": "code",
   "execution_count": 306,
   "id": "25d0f7aa",
   "metadata": {},
   "outputs": [
    {
     "data": {
      "text/html": [
       "<html>\\(\\displaystyle C + \\frac{s}{m}\\)</html>"
      ],
      "text/latex": [
       "$\\displaystyle C + \\frac{s}{m}$"
      ],
      "text/plain": [
       "_C + s/m"
      ]
     },
     "execution_count": 306,
     "metadata": {},
     "output_type": "execute_result"
    }
   ],
   "source": [
    "t0_tempsol = desolve(t0.diff(s, 1) - dst.subs({eps:0}), t0, ivar=s)\n",
    "t0_tempsol"
   ]
  },
  {
   "cell_type": "code",
   "execution_count": 307,
   "id": "d11ff488",
   "metadata": {},
   "outputs": [
    {
     "data": {
      "text/html": [
       "<html>\\(\\displaystyle \\frac{s}{m}\\)</html>"
      ],
      "text/latex": [
       "$\\displaystyle \\frac{s}{m}$"
      ],
      "text/plain": [
       "s/m"
      ]
     },
     "execution_count": 307,
     "metadata": {},
     "output_type": "execute_result"
    }
   ],
   "source": [
    "t0_sol = s/m\n",
    "t0_sol"
   ]
  },
  {
   "cell_type": "code",
   "execution_count": 308,
   "id": "79e07e3a",
   "metadata": {},
   "outputs": [
    {
     "data": {
      "text/html": [
       "<html>\\(\\displaystyle C + \\arctan\\left(\\frac{s}{\\kappa m}\\right)\\)</html>"
      ],
      "text/latex": [
       "$\\displaystyle C + \\arctan\\left(\\frac{s}{\\kappa m}\\right)$"
      ],
      "text/plain": [
       "_C + arctan(s/(kappa*m))"
      ]
     },
     "execution_count": 308,
     "metadata": {},
     "output_type": "execute_result"
    }
   ],
   "source": [
    "dsphi_int = dsphi.subs({eps:0}).subs({r0:r0_sol})\n",
    "dsphi_int\n",
    "dsphi_tempsol = desolve(phi0.diff(s, 1) - dsphi_int, phi0, ivar=s)\n",
    "dsphi_tempsol"
   ]
  },
  {
   "cell_type": "code",
   "execution_count": 309,
   "id": "47b1d89d",
   "metadata": {},
   "outputs": [
    {
     "data": {
      "text/html": [
       "<html>\\(\\displaystyle \\Phi_{0} + \\arctan\\left(\\frac{s}{\\kappa m}\\right)\\)</html>"
      ],
      "text/latex": [
       "$\\displaystyle \\Phi_{0} + \\arctan\\left(\\frac{s}{\\kappa m}\\right)$"
      ],
      "text/plain": [
       "Phi_0 + arctan(s/(kappa*m))"
      ]
     },
     "execution_count": 309,
     "metadata": {},
     "output_type": "execute_result"
    }
   ],
   "source": [
    "phi0 = phi_init + atan(s/(kap*m))\n",
    "phi0"
   ]
  },
  {
   "cell_type": "markdown",
   "id": "2f718d28",
   "metadata": {},
   "source": [
    "The zeroth order solution is the solution for the null geodesic. At next order, we need to use the first $\\epsilon$ derivatives of the components of the tangent vector."
   ]
  },
  {
   "cell_type": "code",
   "execution_count": 310,
   "id": "aede65aa",
   "metadata": {},
   "outputs": [
    {
     "data": {
      "text/html": [
       "<html>\\(\\displaystyle Q q \\operatorname{arsinh}\\left(\\frac{s}{\\kappa m}\\right) + C\\)</html>"
      ],
      "text/latex": [
       "$\\displaystyle Q q \\operatorname{arsinh}\\left(\\frac{s}{\\kappa m}\\right) + C$"
      ],
      "text/plain": [
       "Q*q*arcsinh(s/(kappa*m)) + _C"
      ]
     },
     "execution_count": 310,
     "metadata": {},
     "output_type": "execute_result"
    }
   ],
   "source": [
    "depsdst_int = depsdst.subs({eps:0}).subs({r0:r0_sol})\n",
    "t1_tempsol = desolve(t1.diff(s, 1) - depsdst_int, t1, ivar=s)\n",
    "t1_tempsol"
   ]
  },
  {
   "cell_type": "markdown",
   "id": "39976337",
   "metadata": {},
   "source": [
    "The tangent vector to the UR family in flat space is $\\partial_s Y^a = \\dot{z}^a \\partial_s \\mathcal{U} + \\epsilon e^a_i \\partial_s \\mathcal{X}^i + \\epsilon^2 n^a \\partial_s \\mathcal{V}$"
   ]
  },
  {
   "cell_type": "code",
   "execution_count": 312,
   "id": "74aae49d",
   "metadata": {},
   "outputs": [
    {
     "data": {
      "text/html": [
       "<html>\\(\\displaystyle \\operatorname{arsinh}\\left(\\frac{s}{\\kappa m}\\right)\\)</html>"
      ],
      "text/latex": [
       "$\\displaystyle \\operatorname{arsinh}\\left(\\frac{s}{\\kappa m}\\right)$"
      ],
      "text/plain": [
       "arcsinh(s/(kappa*m))"
      ]
     },
     "execution_count": 312,
     "metadata": {},
     "output_type": "execute_result"
    }
   ],
   "source": [
    "K = 1/sqrt(m^2*kap^2 + s^2)\n",
    "K.integral(s)"
   ]
  },
  {
   "cell_type": "code",
   "execution_count": 244,
   "id": "2227d29f",
   "metadata": {},
   "outputs": [
    {
     "data": {
      "text/html": [
       "<html>\\(\\displaystyle \\left(U\\left(s, \\epsilon\\right), V\\left(s, \\epsilon\\right), X_{1}\\left(s, \\epsilon\\right), X_{2}\\left(s, \\epsilon\\right)\\right)\\)</html>"
      ],
      "text/latex": [
       "$\\displaystyle \\left(U\\left(s, \\epsilon\\right), V\\left(s, \\epsilon\\right), X_{1}\\left(s, \\epsilon\\right), X_{2}\\left(s, \\epsilon\\right)\\right)$"
      ],
      "text/plain": [
       "(U(s, epsilon), V(s, epsilon), X_1(s, epsilon), X_2(s, epsilon))"
      ]
     },
     "execution_count": 244,
     "metadata": {},
     "output_type": "execute_result"
    }
   ],
   "source": [
    "Upw = function('U', nargs=2)(s, eps)\n",
    "Vpw = function('V', nargs=2)(s, eps)\n",
    "X1pw = function('X_1', nargs=2)(s, eps)\n",
    "X2pw = function('X_2', nargs=2)(s, eps)\n",
    "Upw, Vpw, X1pw, X2pw"
   ]
  },
  {
   "cell_type": "code",
   "execution_count": 252,
   "id": "5081e355",
   "metadata": {},
   "outputs": [
    {
     "data": {
      "text/html": [
       "<html>\\(\\displaystyle \\left( \\frac{\\epsilon^{2} m^{2} V\\left(s, \\epsilon\\right) + 2 \\, \\frac{\\partial\\,U}{\\partial s}}{2 \\, m} \\right) \\frac{\\partial}{\\partial t } + \\left( -\\frac{2 \\, \\epsilon \\kappa m X_{2}\\left(s, \\epsilon\\right) - {\\left(-i \\, \\epsilon^{2} m^{2} V\\left(s, \\epsilon\\right) + 2 i \\, \\frac{\\partial\\,U}{\\partial s}\\right)} \\sqrt{R + \\kappa} \\sqrt{-R + \\kappa}}{2 \\, R m} \\right) \\frac{\\partial}{\\partial R } + \\frac{\\epsilon X_{1}\\left(s, \\epsilon\\right)}{R} \\frac{\\partial}{\\partial {\\theta} } + \\left( -\\frac{\\epsilon^{2} \\kappa m^{2} V\\left(s, \\epsilon\\right) - 2 i \\, \\sqrt{R + \\kappa} \\sqrt{-R + \\kappa} \\epsilon m X_{2}\\left(s, \\epsilon\\right) - 2 \\, \\kappa \\frac{\\partial\\,U}{\\partial s}}{2 \\, R^{2} m} \\right) \\frac{\\partial}{\\partial {\\phi} }\\)</html>"
      ],
      "text/latex": [
       "$\\displaystyle \\left( \\frac{\\epsilon^{2} m^{2} V\\left(s, \\epsilon\\right) + 2 \\, \\frac{\\partial\\,U}{\\partial s}}{2 \\, m} \\right) \\frac{\\partial}{\\partial t } + \\left( -\\frac{2 \\, \\epsilon \\kappa m X_{2}\\left(s, \\epsilon\\right) - {\\left(-i \\, \\epsilon^{2} m^{2} V\\left(s, \\epsilon\\right) + 2 i \\, \\frac{\\partial\\,U}{\\partial s}\\right)} \\sqrt{R + \\kappa} \\sqrt{-R + \\kappa}}{2 \\, R m} \\right) \\frac{\\partial}{\\partial R } + \\frac{\\epsilon X_{1}\\left(s, \\epsilon\\right)}{R} \\frac{\\partial}{\\partial {\\theta} } + \\left( -\\frac{\\epsilon^{2} \\kappa m^{2} V\\left(s, \\epsilon\\right) - 2 i \\, \\sqrt{R + \\kappa} \\sqrt{-R + \\kappa} \\epsilon m X_{2}\\left(s, \\epsilon\\right) - 2 \\, \\kappa \\frac{\\partial\\,U}{\\partial s}}{2 \\, R^{2} m} \\right) \\frac{\\partial}{\\partial {\\phi} }$"
      ],
      "text/plain": [
       "1/2*(epsilon^2*m^2*V(s, epsilon) + 2*d(U)/ds)/m ∂/∂t - 1/2*(2*epsilon*kappa*m*X_2(s, epsilon) - (-I*epsilon^2*m^2*V(s, epsilon) + 2*I*d(U)/ds)*sqrt(R + kappa)*sqrt(-R + kappa))/(R*m) ∂/∂R + epsilon*X_1(s, epsilon)/R ∂/∂th - 1/2*(epsilon^2*kappa*m^2*V(s, epsilon) - 2*I*sqrt(R + kappa)*sqrt(-R + kappa)*epsilon*m*X_2(s, epsilon) - 2*kappa*d(U)/ds)/(R^2*m) ∂/∂ph"
      ]
     },
     "execution_count": 252,
     "metadata": {},
     "output_type": "execute_result"
    }
   ],
   "source": [
    "dsY = M.vector_field(name=r'\\partial_s Y')\n",
    "dsY = zdot*Upw.diff(s, 1) + eps*e1*X1pw + eps*e2*X2pw + eps^2*n*Vpw\n",
    "dsY.display()"
   ]
  },
  {
   "cell_type": "code",
   "execution_count": 889,
   "id": "4f9eb639",
   "metadata": {},
   "outputs": [
    {
     "data": {
      "text/html": [
       "<html>\\(\\displaystyle \\frac{{\\left(Q R_{0}^{2} m^{2} q + 2 \\, Q \\sqrt{R_{0} + \\kappa} \\sqrt{R_{0} - \\kappa} m q s + \\kappa^{2} m^{2} r_{1}\\left(s\\right) + Q q s^{2}\\right)} \\sqrt{{\\left(R_{0}^{2} - \\kappa^{2}\\right)} m^{2} + 2 \\, \\sqrt{R_{0} + \\kappa} \\sqrt{R_{0} - \\kappa} m s + s^{2}}}{{\\left(R_{0}^{4} - R_{0}^{2} \\kappa^{2}\\right)} m^{4} + {\\left(6 \\, R_{0}^{2} - 5 \\, \\kappa^{2}\\right)} m^{2} s^{2} + s^{4} + 2 \\, {\\left({\\left(2 \\, R_{0}^{2} - \\kappa^{2}\\right)} m^{3} s + 2 \\, m s^{3}\\right)} \\sqrt{R_{0} + \\kappa} \\sqrt{R_{0} - \\kappa}}\\)</html>"
      ],
      "text/latex": [
       "$\\displaystyle \\frac{{\\left(Q R_{0}^{2} m^{2} q + 2 \\, Q \\sqrt{R_{0} + \\kappa} \\sqrt{R_{0} - \\kappa} m q s + \\kappa^{2} m^{2} r_{1}\\left(s\\right) + Q q s^{2}\\right)} \\sqrt{{\\left(R_{0}^{2} - \\kappa^{2}\\right)} m^{2} + 2 \\, \\sqrt{R_{0} + \\kappa} \\sqrt{R_{0} - \\kappa} m s + s^{2}}}{{\\left(R_{0}^{4} - R_{0}^{2} \\kappa^{2}\\right)} m^{4} + {\\left(6 \\, R_{0}^{2} - 5 \\, \\kappa^{2}\\right)} m^{2} s^{2} + s^{4} + 2 \\, {\\left({\\left(2 \\, R_{0}^{2} - \\kappa^{2}\\right)} m^{3} s + 2 \\, m s^{3}\\right)} \\sqrt{R_{0} + \\kappa} \\sqrt{R_{0} - \\kappa}}$"
      ],
      "text/plain": [
       "(Q*R_0^2*m^2*q + 2*Q*sqrt(R_0 + kappa)*sqrt(R_0 - kappa)*m*q*s + kappa^2*m^2*r_1(s) + Q*q*s^2)*sqrt((R_0^2 - kappa^2)*m^2 + 2*sqrt(R_0 + kappa)*sqrt(R_0 - kappa)*m*s + s^2)/((R_0^4 - R_0^2*kappa^2)*m^4 + (6*R_0^2 - 5*kappa^2)*m^2*s^2 + s^4 + 2*((2*R_0^2 - kappa^2)*m^3*s + 2*m*s^3)*sqrt(R_0 + kappa)*sqrt(R_0 - kappa))"
      ]
     },
     "execution_count": 889,
     "metadata": {},
     "output_type": "execute_result"
    }
   ],
   "source": [
    "#Substitute zeroth order solution and simplify the radical\n",
    "Oeps_termint2 = Oeps_termint1.substitute_function({r0:r0_sol}).rhs()\n",
    "Oeps_termfinal = Oeps_termint2.canonicalize_radical()\n",
    "Oeps_termfinal"
   ]
  },
  {
   "cell_type": "code",
   "execution_count": 287,
   "id": "1bab537e",
   "metadata": {},
   "outputs": [
    {
     "data": {
      "text/html": [
       "<html>\\(\\displaystyle \\operatorname{arsinh}\\left(\\frac{s}{\\kappa m}\\right)\\)</html>"
      ],
      "text/latex": [
       "$\\displaystyle \\operatorname{arsinh}\\left(\\frac{s}{\\kappa m}\\right)$"
      ],
      "text/plain": [
       "arcsinh(s/(kappa*m))"
      ]
     },
     "execution_count": 287,
     "metadata": {},
     "output_type": "execute_result"
    }
   ],
   "source": [
    "integrate(1/sqrt(m^2*kap^2 + s^2), s)"
   ]
  },
  {
   "cell_type": "code",
   "execution_count": 284,
   "id": "1b3259eb",
   "metadata": {},
   "outputs": [
    {
     "data": {
      "text/html": [
       "<html>\\(\\displaystyle -\\operatorname{arsinh}\\left(\\frac{\\kappa m}{s - s_{0}}\\right)\\)</html>"
      ],
      "text/latex": [
       "$\\displaystyle -\\operatorname{arsinh}\\left(\\frac{\\kappa m}{s - s_{0}}\\right)$"
      ],
      "text/plain": [
       "-arcsinh(kappa*m/(s - s_0))"
      ]
     },
     "execution_count": 284,
     "metadata": {},
     "output_type": "execute_result"
    }
   ],
   "source": [
    "S = var('S')\n",
    "assume(S > s0)\n",
    "integrate(1/((s - s0)*sqrt(1 + (s - s0)^2/(m^2*kap^2))), s)"
   ]
  },
  {
   "cell_type": "code",
   "execution_count": 286,
   "id": "de9ec3ce",
   "metadata": {},
   "outputs": [
    {
     "data": {
      "image/png": "[encoded data removed]",
      "text/plain": [
       "Graphics object consisting of 1 graphics primitive"
      ]
     },
     "execution_count": 286,
     "metadata": {},
     "output_type": "execute_result"
    }
   ],
   "source": [
    "plot(-asinh(1/x), x, -5, 5)"
   ]
  },
  {
   "cell_type": "markdown",
   "id": "d7751213",
   "metadata": {},
   "source": [
    "Solving the first order ODE:"
   ]
  },
  {
   "cell_type": "code",
   "execution_count": 890,
   "id": "69733329",
   "metadata": {},
   "outputs": [
    {
     "data": {
      "text/html": [
       "<html>\\(\\displaystyle {\\left(C + \\int \\frac{{\\left({\\left(Q R_{0}^{6} - Q R_{0}^{4} \\kappa^{2}\\right)} m^{6} q + {\\left(15 \\, Q R_{0}^{4} - 18 \\, Q R_{0}^{2} \\kappa^{2} + 4 \\, Q \\kappa^{4}\\right)} m^{4} q s^{2} + {\\left(15 \\, Q R_{0}^{2} - 13 \\, Q \\kappa^{2}\\right)} m^{2} q s^{4} + Q q s^{6} + 2 \\, {\\left({\\left(3 \\, Q R_{0}^{4} - 2 \\, Q R_{0}^{2} \\kappa^{2}\\right)} m^{5} q s + 2 \\, {\\left(5 \\, Q R_{0}^{2} - 3 \\, Q \\kappa^{2}\\right)} m^{3} q s^{3} + 3 \\, Q m q s^{5}\\right)} \\sqrt{R_{0} + \\kappa} \\sqrt{R_{0} - \\kappa}\\right)} \\sqrt{{\\left(R_{0}^{2} - \\kappa^{2}\\right)} m^{2} + 2 \\, \\sqrt{R_{0} + \\kappa} \\sqrt{R_{0} - \\kappa} m s + s^{2}} e^{\\left(-\\kappa^{2} m^{2} \\int \\frac{\\sqrt{R_{0}^{2} m^{2} - \\kappa^{2} m^{2} + 2 \\, \\sqrt{R_{0} + \\kappa} \\sqrt{R_{0} - \\kappa} m s + s^{2}}}{2 \\, {\\left(2 \\, \\sqrt{R_{0} - \\kappa} R_{0}^{2} - \\sqrt{R_{0} - \\kappa} \\kappa^{2}\\right)} \\sqrt{R_{0} + \\kappa} m^{3} s + {\\left(R_{0}^{4} - R_{0}^{2} \\kappa^{2}\\right)} m^{4} + {\\left(6 \\, R_{0}^{2} - 5 \\, \\kappa^{2}\\right)} m^{2} s^{2} + 4 \\, \\sqrt{R_{0} + \\kappa} \\sqrt{R_{0} - \\kappa} m s^{3} + s^{4}}\\,{d s}\\right)}}{{\\left(R_{0}^{8} - 2 \\, R_{0}^{6} \\kappa^{2} + R_{0}^{4} \\kappa^{4}\\right)} m^{8} + 2 \\, {\\left(14 \\, R_{0}^{6} - 27 \\, R_{0}^{4} \\kappa^{2} + 15 \\, R_{0}^{2} \\kappa^{4} - 2 \\, \\kappa^{6}\\right)} m^{6} s^{2} + {\\left(70 \\, R_{0}^{4} - 110 \\, R_{0}^{2} \\kappa^{2} + 41 \\, \\kappa^{4}\\right)} m^{4} s^{4} + 2 \\, {\\left(14 \\, R_{0}^{2} - 13 \\, \\kappa^{2}\\right)} m^{2} s^{6} + s^{8} + 4 \\, {\\left({\\left(2 \\, R_{0}^{6} - 3 \\, R_{0}^{4} \\kappa^{2} + R_{0}^{2} \\kappa^{4}\\right)} m^{7} s + {\\left(14 \\, R_{0}^{4} - 18 \\, R_{0}^{2} \\kappa^{2} + 5 \\, \\kappa^{4}\\right)} m^{5} s^{3} + {\\left(14 \\, R_{0}^{2} - 11 \\, \\kappa^{2}\\right)} m^{3} s^{5} + 2 \\, m s^{7}\\right)} \\sqrt{R_{0} + \\kappa} \\sqrt{R_{0} - \\kappa}}\\,{d s}\\right)} e^{\\left(\\kappa^{2} m^{2} \\int \\frac{\\sqrt{R_{0}^{2} m^{2} - \\kappa^{2} m^{2} + 2 \\, \\sqrt{R_{0} + \\kappa} \\sqrt{R_{0} - \\kappa} m s + s^{2}}}{2 \\, {\\left(2 \\, \\sqrt{R_{0} - \\kappa} R_{0}^{2} - \\sqrt{R_{0} - \\kappa} \\kappa^{2}\\right)} \\sqrt{R_{0} + \\kappa} m^{3} s + {\\left(R_{0}^{4} - R_{0}^{2} \\kappa^{2}\\right)} m^{4} + {\\left(6 \\, R_{0}^{2} - 5 \\, \\kappa^{2}\\right)} m^{2} s^{2} + 4 \\, \\sqrt{R_{0} + \\kappa} \\sqrt{R_{0} - \\kappa} m s^{3} + s^{4}}\\,{d s}\\right)}\\)</html>"
      ],
      "text/latex": [
       "$\\displaystyle {\\left(C + \\int \\frac{{\\left({\\left(Q R_{0}^{6} - Q R_{0}^{4} \\kappa^{2}\\right)} m^{6} q + {\\left(15 \\, Q R_{0}^{4} - 18 \\, Q R_{0}^{2} \\kappa^{2} + 4 \\, Q \\kappa^{4}\\right)} m^{4} q s^{2} + {\\left(15 \\, Q R_{0}^{2} - 13 \\, Q \\kappa^{2}\\right)} m^{2} q s^{4} + Q q s^{6} + 2 \\, {\\left({\\left(3 \\, Q R_{0}^{4} - 2 \\, Q R_{0}^{2} \\kappa^{2}\\right)} m^{5} q s + 2 \\, {\\left(5 \\, Q R_{0}^{2} - 3 \\, Q \\kappa^{2}\\right)} m^{3} q s^{3} + 3 \\, Q m q s^{5}\\right)} \\sqrt{R_{0} + \\kappa} \\sqrt{R_{0} - \\kappa}\\right)} \\sqrt{{\\left(R_{0}^{2} - \\kappa^{2}\\right)} m^{2} + 2 \\, \\sqrt{R_{0} + \\kappa} \\sqrt{R_{0} - \\kappa} m s + s^{2}} e^{\\left(-\\kappa^{2} m^{2} \\int \\frac{\\sqrt{R_{0}^{2} m^{2} - \\kappa^{2} m^{2} + 2 \\, \\sqrt{R_{0} + \\kappa} \\sqrt{R_{0} - \\kappa} m s + s^{2}}}{2 \\, {\\left(2 \\, \\sqrt{R_{0} - \\kappa} R_{0}^{2} - \\sqrt{R_{0} - \\kappa} \\kappa^{2}\\right)} \\sqrt{R_{0} + \\kappa} m^{3} s + {\\left(R_{0}^{4} - R_{0}^{2} \\kappa^{2}\\right)} m^{4} + {\\left(6 \\, R_{0}^{2} - 5 \\, \\kappa^{2}\\right)} m^{2} s^{2} + 4 \\, \\sqrt{R_{0} + \\kappa} \\sqrt{R_{0} - \\kappa} m s^{3} + s^{4}}\\,{d s}\\right)}}{{\\left(R_{0}^{8} - 2 \\, R_{0}^{6} \\kappa^{2} + R_{0}^{4} \\kappa^{4}\\right)} m^{8} + 2 \\, {\\left(14 \\, R_{0}^{6} - 27 \\, R_{0}^{4} \\kappa^{2} + 15 \\, R_{0}^{2} \\kappa^{4} - 2 \\, \\kappa^{6}\\right)} m^{6} s^{2} + {\\left(70 \\, R_{0}^{4} - 110 \\, R_{0}^{2} \\kappa^{2} + 41 \\, \\kappa^{4}\\right)} m^{4} s^{4} + 2 \\, {\\left(14 \\, R_{0}^{2} - 13 \\, \\kappa^{2}\\right)} m^{2} s^{6} + s^{8} + 4 \\, {\\left({\\left(2 \\, R_{0}^{6} - 3 \\, R_{0}^{4} \\kappa^{2} + R_{0}^{2} \\kappa^{4}\\right)} m^{7} s + {\\left(14 \\, R_{0}^{4} - 18 \\, R_{0}^{2} \\kappa^{2} + 5 \\, \\kappa^{4}\\right)} m^{5} s^{3} + {\\left(14 \\, R_{0}^{2} - 11 \\, \\kappa^{2}\\right)} m^{3} s^{5} + 2 \\, m s^{7}\\right)} \\sqrt{R_{0} + \\kappa} \\sqrt{R_{0} - \\kappa}}\\,{d s}\\right)} e^{\\left(\\kappa^{2} m^{2} \\int \\frac{\\sqrt{R_{0}^{2} m^{2} - \\kappa^{2} m^{2} + 2 \\, \\sqrt{R_{0} + \\kappa} \\sqrt{R_{0} - \\kappa} m s + s^{2}}}{2 \\, {\\left(2 \\, \\sqrt{R_{0} - \\kappa} R_{0}^{2} - \\sqrt{R_{0} - \\kappa} \\kappa^{2}\\right)} \\sqrt{R_{0} + \\kappa} m^{3} s + {\\left(R_{0}^{4} - R_{0}^{2} \\kappa^{2}\\right)} m^{4} + {\\left(6 \\, R_{0}^{2} - 5 \\, \\kappa^{2}\\right)} m^{2} s^{2} + 4 \\, \\sqrt{R_{0} + \\kappa} \\sqrt{R_{0} - \\kappa} m s^{3} + s^{4}}\\,{d s}\\right)}$"
      ],
      "text/plain": [
       "(_C + integrate(((Q*R_0^6 - Q*R_0^4*kappa^2)*m^6*q + (15*Q*R_0^4 - 18*Q*R_0^2*kappa^2 + 4*Q*kappa^4)*m^4*q*s^2 + (15*Q*R_0^2 - 13*Q*kappa^2)*m^2*q*s^4 + Q*q*s^6 + 2*((3*Q*R_0^4 - 2*Q*R_0^2*kappa^2)*m^5*q*s + 2*(5*Q*R_0^2 - 3*Q*kappa^2)*m^3*q*s^3 + 3*Q*m*q*s^5)*sqrt(R_0 + kappa)*sqrt(R_0 - kappa))*sqrt((R_0^2 - kappa^2)*m^2 + 2*sqrt(R_0 + kappa)*sqrt(R_0 - kappa)*m*s + s^2)*e^(-kappa^2*m^2*integrate(sqrt(R_0^2*m^2 - kappa^2*m^2 + 2*sqrt(R_0 + kappa)*sqrt(R_0 - kappa)*m*s + s^2)/(2*(2*sqrt(R_0 - kappa)*R_0^2 - sqrt(R_0 - kappa)*kappa^2)*sqrt(R_0 + kappa)*m^3*s + (R_0^4 - R_0^2*kappa^2)*m^4 + (6*R_0^2 - 5*kappa^2)*m^2*s^2 + 4*sqrt(R_0 + kappa)*sqrt(R_0 - kappa)*m*s^3 + s^4), s))/((R_0^8 - 2*R_0^6*kappa^2 + R_0^4*kappa^4)*m^8 + 2*(14*R_0^6 - 27*R_0^4*kappa^2 + 15*R_0^2*kappa^4 - 2*kappa^6)*m^6*s^2 + (70*R_0^4 - 110*R_0^2*kappa^2 + 41*kappa^4)*m^4*s^4 + 2*(14*R_0^2 - 13*kappa^2)*m^2*s^6 + s^8 + 4*((2*R_0^6 - 3*R_0^4*kappa^2 + R_0^2*kappa^4)*m^7*s + (14*R_0^4 - 18*R_0^2*kappa^2 + 5*kappa^4)*m^5*s^3 + (14*R_0^2 - 11*kappa^2)*m^3*s^5 + 2*m*s^7)*sqrt(R_0 + kappa)*sqrt(R_0 - kappa)), s))*e^(kappa^2*m^2*integrate(sqrt(R_0^2*m^2 - kappa^2*m^2 + 2*sqrt(R_0 + kappa)*sqrt(R_0 - kappa)*m*s + s^2)/(2*(2*sqrt(R_0 - kappa)*R_0^2 - sqrt(R_0 - kappa)*kappa^2)*sqrt(R_0 + kappa)*m^3*s + (R_0^4 - R_0^2*kappa^2)*m^4 + (6*R_0^2 - 5*kappa^2)*m^2*s^2 + 4*sqrt(R_0 + kappa)*sqrt(R_0 - kappa)*m*s^3 + s^4), s))"
      ]
     },
     "execution_count": 890,
     "metadata": {},
     "output_type": "execute_result"
    }
   ],
   "source": [
    "assume(kappa>0)\n",
    "assume(R0>kap)\n",
    "assume(m>0)\n",
    "r1_sol = desolve(r1.derivative(s, 1) - Oeps_termfinal, r1, ivar=s)\n",
    "r1_sol"
   ]
  },
  {
   "cell_type": "code",
   "execution_count": 891,
   "id": "7dcd1094",
   "metadata": {},
   "outputs": [],
   "source": [
    "#plot(r1_sol(q=1, Q=1, kappa=4, C_r=3), (s, 0, 4))"
   ]
  },
  {
   "cell_type": "markdown",
   "id": "22de94fb",
   "metadata": {},
   "source": [
    "We now proceed to extract the second order coefficient from the Taylor expansion and substitute the zeroth and first order solutions in it."
   ]
  },
  {
   "cell_type": "code",
   "execution_count": 892,
   "id": "1794eadc",
   "metadata": {},
   "outputs": [],
   "source": [
    "# Oeps2_termint1 = dsr.taylor(eps, 0, 2).coefficient(eps, 2)\n",
    "# Oeps2_termint2 = Oeps2_termint1.substitute_function({r0:r0_sol}).rhs()\n",
    "# Oeps2_termint3 = Oeps2_termint2.substitute_function({r1:r1_sol})\n",
    "# Oeps2_termfinal = Oeps2_termint3.canonicalize_radical()\n",
    "# Oeps2_termfinal"
   ]
  },
  {
   "cell_type": "code",
   "execution_count": 893,
   "id": "194a9bd8",
   "metadata": {},
   "outputs": [],
   "source": [
    "# r2_sol = desolve(r2.derivative(s, 1) - Oeps2_termfinal, r2, ivar=s)\n",
    "# r2_sol"
   ]
  },
  {
   "cell_type": "markdown",
   "id": "52025a7e",
   "metadata": {},
   "source": [
    "Analysis of $t (s, \\epsilon)$: assume $t (s, \\epsilon) = t_0 (s) + \\epsilon t_1 (s) + \\epsilon^2 t_2 (s)$. Using the EoM $\\frac{dt}{ds} = 1 + \\epsilon \\frac{qQ}{r}$."
   ]
  },
  {
   "cell_type": "code",
   "execution_count": 894,
   "id": "eb963107",
   "metadata": {},
   "outputs": [
    {
     "data": {
      "text/html": [
       "<html>\\(\\displaystyle \\epsilon^{2} t_{2}\\left(1\\right) + \\epsilon t_{1}\\left(1\\right) + t_{0}\\left(1\\right)\\)</html>"
      ],
      "text/latex": [
       "$\\displaystyle \\epsilon^{2} t_{2}\\left(1\\right) + \\epsilon t_{1}\\left(1\\right) + t_{0}\\left(1\\right)$"
      ],
      "text/plain": [
       "epsilon^2*t_2(1) + epsilon*t_1(1) + t_0(1)"
      ]
     },
     "execution_count": 894,
     "metadata": {},
     "output_type": "execute_result"
    }
   ],
   "source": [
    "t0 = function('t_0', nargs=1)(s)\n",
    "t1 = function('t_1', nargs=1)(s)\n",
    "t2 = function('t_2', nargs=1)(s)\n",
    "t = function('t', nargs=2)(s, eps)\n",
    "t = t0 + eps * t1 + eps^2 * t2\n",
    "t(s=1, eps=0)"
   ]
  },
  {
   "cell_type": "code",
   "execution_count": 895,
   "id": "9e72456c",
   "metadata": {},
   "outputs": [
    {
     "data": {
      "text/html": [
       "<html>\\(\\displaystyle \\frac{\\frac{Q \\epsilon q}{\\epsilon^{2} r_{2}\\left(s\\right) + \\epsilon r_{1}\\left(s\\right) + r_{0}\\left(s\\right)} + 1}{m}\\)</html>"
      ],
      "text/latex": [
       "$\\displaystyle \\frac{\\frac{Q \\epsilon q}{\\epsilon^{2} r_{2}\\left(s\\right) + \\epsilon r_{1}\\left(s\\right) + r_{0}\\left(s\\right)} + 1}{m}$"
      ],
      "text/plain": [
       "(Q*epsilon*q/(epsilon^2*r_2(s) + epsilon*r_1(s) + r_0(s)) + 1)/m"
      ]
     },
     "execution_count": 895,
     "metadata": {},
     "output_type": "execute_result"
    }
   ],
   "source": [
    "dst = function(r'\\dot{t}', nargs=2)(s, eps)\n",
    "dst = 1/m*(1 + eps*q*Q/r)\n",
    "dst"
   ]
  },
  {
   "cell_type": "code",
   "execution_count": 896,
   "id": "a5cfa001",
   "metadata": {},
   "outputs": [
    {
     "data": {
      "text/html": [
       "<html>\\(\\displaystyle -\\frac{Q \\epsilon^{2} q r_{1}\\left(s\\right)}{m r_{0}\\left(s\\right)^{2}} + \\frac{Q \\epsilon q}{m r_{0}\\left(s\\right)} + \\frac{1}{m}\\)</html>"
      ],
      "text/latex": [
       "$\\displaystyle -\\frac{Q \\epsilon^{2} q r_{1}\\left(s\\right)}{m r_{0}\\left(s\\right)^{2}} + \\frac{Q \\epsilon q}{m r_{0}\\left(s\\right)} + \\frac{1}{m}$"
      ],
      "text/plain": [
       "-Q*epsilon^2*q*r_1(s)/(m*r_0(s)^2) + Q*epsilon*q/(m*r_0(s)) + 1/m"
      ]
     },
     "execution_count": 896,
     "metadata": {},
     "output_type": "execute_result"
    }
   ],
   "source": [
    "dst_taylor = dst.taylor(eps, 0, 2)\n",
    "dst_taylor"
   ]
  },
  {
   "cell_type": "markdown",
   "id": "87bb3e54",
   "metadata": {},
   "source": [
    "Analysis of $\\phi (s, \\epsilon)$: assume $\\phi (s, \\epsilon) = \\phi_0 (s) + \\epsilon \\phi_1 (s) + \\epsilon^2 \\phi_2 (s)$. Using the EoM $\\frac{d \\phi}{ds} = \\frac{\\kappa}{m r^2}$."
   ]
  },
  {
   "cell_type": "code",
   "execution_count": 897,
   "id": "3ee454a9",
   "metadata": {},
   "outputs": [
    {
     "data": {
      "text/html": [
       "<html>\\(\\displaystyle \\epsilon^{2} \\phi_{2}\\left(s\\right) + \\epsilon \\phi_{1}\\left(s\\right) + \\phi_{0}\\left(s\\right)\\)</html>"
      ],
      "text/latex": [
       "$\\displaystyle \\epsilon^{2} \\phi_{2}\\left(s\\right) + \\epsilon \\phi_{1}\\left(s\\right) + \\phi_{0}\\left(s\\right)$"
      ],
      "text/plain": [
       "epsilon^2*phi_2(s) + epsilon*phi_1(s) + phi_0(s)"
      ]
     },
     "execution_count": 897,
     "metadata": {},
     "output_type": "execute_result"
    }
   ],
   "source": [
    "phi0 = function('phi_0', nargs=1)(s)\n",
    "phi1 = function('phi_1', nargs=1)(s)\n",
    "phi2 = function('phi_2', nargs=1)(s)\n",
    "phi = phi0 + eps * phi1 + eps^2 * phi2\n",
    "phi"
   ]
  },
  {
   "cell_type": "code",
   "execution_count": 898,
   "id": "1e2a521d",
   "metadata": {},
   "outputs": [
    {
     "data": {
      "text/html": [
       "<html>\\(\\displaystyle \\frac{\\kappa}{{\\left(\\epsilon^{2} r_{2}\\left(s\\right) + \\epsilon r_{1}\\left(s\\right) + r_{0}\\left(s\\right)\\right)}^{2} m}\\)</html>"
      ],
      "text/latex": [
       "$\\displaystyle \\frac{\\kappa}{{\\left(\\epsilon^{2} r_{2}\\left(s\\right) + \\epsilon r_{1}\\left(s\\right) + r_{0}\\left(s\\right)\\right)}^{2} m}$"
      ],
      "text/plain": [
       "kappa/((epsilon^2*r_2(s) + epsilon*r_1(s) + r_0(s))^2*m)"
      ]
     },
     "execution_count": 898,
     "metadata": {},
     "output_type": "execute_result"
    }
   ],
   "source": [
    "dsphi = kap/(m*r^2)\n",
    "dsphi"
   ]
  },
  {
   "cell_type": "code",
   "execution_count": 899,
   "id": "a1883159",
   "metadata": {},
   "outputs": [
    {
     "data": {
      "text/html": [
       "<html>\\(\\displaystyle -\\frac{2 \\, \\epsilon \\kappa r_{1}\\left(s\\right)}{m r_{0}\\left(s\\right)^{3}} + \\frac{{\\left(3 \\, \\kappa r_{1}\\left(s\\right)^{2} - 2 \\, \\kappa r_{0}\\left(s\\right) r_{2}\\left(s\\right)\\right)} \\epsilon^{2}}{m r_{0}\\left(s\\right)^{4}} + \\frac{\\kappa}{m r_{0}\\left(s\\right)^{2}}\\)</html>"
      ],
      "text/latex": [
       "$\\displaystyle -\\frac{2 \\, \\epsilon \\kappa r_{1}\\left(s\\right)}{m r_{0}\\left(s\\right)^{3}} + \\frac{{\\left(3 \\, \\kappa r_{1}\\left(s\\right)^{2} - 2 \\, \\kappa r_{0}\\left(s\\right) r_{2}\\left(s\\right)\\right)} \\epsilon^{2}}{m r_{0}\\left(s\\right)^{4}} + \\frac{\\kappa}{m r_{0}\\left(s\\right)^{2}}$"
      ],
      "text/plain": [
       "-2*epsilon*kappa*r_1(s)/(m*r_0(s)^3) + (3*kappa*r_1(s)^2 - 2*kappa*r_0(s)*r_2(s))*epsilon^2/(m*r_0(s)^4) + kappa/(m*r_0(s)^2)"
      ]
     },
     "execution_count": 899,
     "metadata": {},
     "output_type": "execute_result"
    }
   ],
   "source": [
    "dsphi_taylor = dsphi.taylor(eps, 0, 2)\n",
    "dsphi_taylor"
   ]
  },
  {
   "cell_type": "markdown",
   "id": "6e6bd37d",
   "metadata": {},
   "source": [
    "The tangent vector to the family $Y (U, \\epsilon)$ is $\\dot{Y} = (\\partial_s t, \\partial_s r, \\partial_s , \\theta, \\partial_s \\phi)$. It limits to $\\dot{z} = \\lim_{\\epsilon \\to 0} \\dot{Y}$. Check that $\\dot{z}$ is the tangent to an affinely parametrised null geodesic."
   ]
  },
  {
   "cell_type": "code",
   "execution_count": 900,
   "id": "289be307",
   "metadata": {},
   "outputs": [
    {
     "data": {
      "text/html": [
       "<html>\\(\\displaystyle \\left[\\frac{\\frac{Q \\epsilon q}{\\epsilon^{2} r_{2}\\left(s\\right) + \\epsilon r_{1}\\left(s\\right) + r_{0}\\left(s\\right)} + 1}{m}, \\frac{\\sqrt{-{\\left(m^{2} - \\frac{Q^{2} q^{2}}{{\\left(\\epsilon^{2} r_{2}\\left(s\\right) + \\epsilon r_{1}\\left(s\\right) + r_{0}\\left(s\\right)\\right)}^{2}}\\right)} \\epsilon^{2} + \\frac{2 \\, Q \\epsilon q}{\\epsilon^{2} r_{2}\\left(s\\right) + \\epsilon r_{1}\\left(s\\right) + r_{0}\\left(s\\right)} - \\frac{\\kappa^{2}}{{\\left(\\epsilon^{2} r_{2}\\left(s\\right) + \\epsilon r_{1}\\left(s\\right) + r_{0}\\left(s\\right)\\right)}^{2}} + 1}}{m}, 0, \\frac{\\kappa}{{\\left(\\epsilon^{2} r_{2}\\left(s\\right) + \\epsilon r_{1}\\left(s\\right) + r_{0}\\left(s\\right)\\right)}^{2} m}\\right]\\)</html>"
      ],
      "text/latex": [
       "$\\displaystyle \\left[\\frac{\\frac{Q \\epsilon q}{\\epsilon^{2} r_{2}\\left(s\\right) + \\epsilon r_{1}\\left(s\\right) + r_{0}\\left(s\\right)} + 1}{m}, \\frac{\\sqrt{-{\\left(m^{2} - \\frac{Q^{2} q^{2}}{{\\left(\\epsilon^{2} r_{2}\\left(s\\right) + \\epsilon r_{1}\\left(s\\right) + r_{0}\\left(s\\right)\\right)}^{2}}\\right)} \\epsilon^{2} + \\frac{2 \\, Q \\epsilon q}{\\epsilon^{2} r_{2}\\left(s\\right) + \\epsilon r_{1}\\left(s\\right) + r_{0}\\left(s\\right)} - \\frac{\\kappa^{2}}{{\\left(\\epsilon^{2} r_{2}\\left(s\\right) + \\epsilon r_{1}\\left(s\\right) + r_{0}\\left(s\\right)\\right)}^{2}} + 1}}{m}, 0, \\frac{\\kappa}{{\\left(\\epsilon^{2} r_{2}\\left(s\\right) + \\epsilon r_{1}\\left(s\\right) + r_{0}\\left(s\\right)\\right)}^{2} m}\\right]$"
      ],
      "text/plain": [
       "[(Q*epsilon*q/(epsilon^2*r_2(s) + epsilon*r_1(s) + r_0(s)) + 1)/m,\n",
       " sqrt(-(m^2 - Q^2*q^2/(epsilon^2*r_2(s) + epsilon*r_1(s) + r_0(s))^2)*epsilon^2 + 2*Q*epsilon*q/(epsilon^2*r_2(s) + epsilon*r_1(s) + r_0(s)) - kappa^2/(epsilon^2*r_2(s) + epsilon*r_1(s) + r_0(s))^2 + 1)/m,\n",
       " 0,\n",
       " kappa/((epsilon^2*r_2(s) + epsilon*r_1(s) + r_0(s))^2*m)]"
      ]
     },
     "execution_count": 900,
     "metadata": {},
     "output_type": "execute_result"
    }
   ],
   "source": [
    "dsY = M.vector_field(name=r'\\dot{Y}')\n",
    "zdot = M.vector_field(name=r'\\dot{z}')\n",
    "dsY[:] = [dst, dsr, 0, dsphi]\n",
    "dsY[:]"
   ]
  },
  {
   "cell_type": "code",
   "execution_count": 901,
   "id": "cea53309",
   "metadata": {},
   "outputs": [
    {
     "data": {
      "text/html": [
       "<html>\\(\\displaystyle \\left[\\frac{1}{m}, \\frac{\\sqrt{-\\frac{\\kappa^{2}}{R^{2}} + 1}}{m}, 0, \\frac{\\kappa}{R^{2} m}\\right]\\)</html>"
      ],
      "text/latex": [
       "$\\displaystyle \\left[\\frac{1}{m}, \\frac{\\sqrt{-\\frac{\\kappa^{2}}{R^{2}} + 1}}{m}, 0, \\frac{\\kappa}{R^{2} m}\\right]$"
      ],
      "text/plain": [
       "[1/m, sqrt(-kappa^2/R^2 + 1)/m, 0, kappa/(R^2*m)]"
      ]
     },
     "execution_count": 901,
     "metadata": {},
     "output_type": "execute_result"
    }
   ],
   "source": [
    "zdot[:] = [1/m, 1/m*sqrt(1 - kap^2/R^2), 0, kap/(m*R^2)]\n",
    "zdot[:]"
   ]
  },
  {
   "cell_type": "markdown",
   "id": "2a644274",
   "metadata": {},
   "source": [
    "To check if this is a null vector, we need to compute its norm."
   ]
  },
  {
   "cell_type": "code",
   "execution_count": 902,
   "id": "4a0d48ee",
   "metadata": {},
   "outputs": [
    {
     "data": {
      "text/html": [
       "<html>\\(\\displaystyle \\begin{array}{llcl} g\\left(\\dot{z},\\dot{z}\\right):& M & \\longrightarrow & \\mathbb{R} \\\\ & \\left(t, R, {\\theta}, {\\phi}\\right) & \\longmapsto & 0 \\end{array}\\)</html>"
      ],
      "text/latex": [
       "$\\displaystyle \\begin{array}{llcl} g\\left(\\dot{z},\\dot{z}\\right):& M & \\longrightarrow & \\mathbb{R} \\\\ & \\left(t, R, {\\theta}, {\\phi}\\right) & \\longmapsto & 0 \\end{array}$"
      ],
      "text/plain": [
       "g(\\dot{z},\\dot{z}): M → ℝ\n",
       "   (t, R, th, ph) ↦ 0"
      ]
     },
     "execution_count": 902,
     "metadata": {},
     "output_type": "execute_result"
    }
   ],
   "source": [
    "assume(kap<R)\n",
    "g(zdot, zdot).display()"
   ]
  },
  {
   "cell_type": "markdown",
   "id": "ce9e29ce",
   "metadata": {},
   "source": [
    "Compute its acceleration $D_U \\dot{z} = ( \\dot{z} \\cdot \\nabla ) \\dot{z}$. To check parallel transport, we need to compute $g_{bc} \\dot{z}^b \\nabla^c \\dot{z}^a$."
   ]
  },
  {
   "cell_type": "code",
   "execution_count": 903,
   "id": "587cfdd4",
   "metadata": {},
   "outputs": [
    {
     "data": {
      "text/html": [
       "<html>\\(\\displaystyle \\left[0, 0, 0, 0\\right]\\)</html>"
      ],
      "text/latex": [
       "$\\displaystyle \\left[0, 0, 0, 0\\right]$"
      ],
      "text/plain": [
       "[0, 0, 0, 0]"
      ]
     },
     "execution_count": 903,
     "metadata": {},
     "output_type": "execute_result"
    }
   ],
   "source": [
    "Dzdot = nab(zdot)\n",
    "Dzdot.apply_map(lambda cmp: cmp.subs({th:pi/2}))\n",
    "Dzdot.contract(zdot)[:]"
   ]
  },
  {
   "cell_type": "markdown",
   "id": "63984d18",
   "metadata": {},
   "source": [
    "$\\dot{z}$ is only the first element of the quasi-null frame $(\\dot{z}, n, e_i)$. We need to compute the other elements using the orthogonality relations $\\dot{z} \\cdot n = -1$, $\\dot{z} \\cdot e_i = 0$, $n \\cdot n = 0$, $e_i \\cdot e_j = \\delta_{ij}$, and $n \\cdot \\dot{z} = 0$. See the file \"Flat_Space_Coulomb_tetrad\" for the calculation of the components of this frame."
   ]
  },
  {
   "cell_type": "code",
   "execution_count": 904,
   "id": "ec9caf1f",
   "metadata": {},
   "outputs": [
    {
     "data": {
      "text/html": [
       "<html>\\(\\displaystyle \\left(\\left[\\frac{1}{2} \\, m, -\\frac{1}{2} \\, m \\sqrt{-\\frac{\\kappa^{2}}{R^{2}} + 1}, 0, -\\frac{\\kappa m}{2 \\, R^{2}}\\right], \\left[0, 0, \\frac{1}{R}, 0\\right], \\left[0, -\\frac{\\kappa}{R}, 0, \\frac{\\sqrt{-\\frac{\\kappa^{2}}{R^{2}} + 1}}{R}\\right]\\right)\\)</html>"
      ],
      "text/latex": [
       "$\\displaystyle \\left(\\left[\\frac{1}{2} \\, m, -\\frac{1}{2} \\, m \\sqrt{-\\frac{\\kappa^{2}}{R^{2}} + 1}, 0, -\\frac{\\kappa m}{2 \\, R^{2}}\\right], \\left[0, 0, \\frac{1}{R}, 0\\right], \\left[0, -\\frac{\\kappa}{R}, 0, \\frac{\\sqrt{-\\frac{\\kappa^{2}}{R^{2}} + 1}}{R}\\right]\\right)$"
      ],
      "text/plain": [
       "([1/2*m, -1/2*m*sqrt(-kappa^2/R^2 + 1), 0, -1/2*kappa*m/R^2],\n",
       " [0, 0, 1/R, 0],\n",
       " [0, -kappa/R, 0, sqrt(-kappa^2/R^2 + 1)/R])"
      ]
     },
     "execution_count": 904,
     "metadata": {},
     "output_type": "execute_result"
    }
   ],
   "source": [
    "# assume(kap^2/R^2<1)\n",
    "n = M.vector_field(name='n')\n",
    "e1 = M.vector_field(name='e_1')\n",
    "e2 = M.vector_field(name='e_2')\n",
    "n[:] = [m/2, -m/2*sqrt(1 - kap^2/R^2), 0, -kap*m/(2*R^2)]\n",
    "e1[:] = [0, 0, 1/R, 0]\n",
    "e2[:] = [0, -kap/R, 0, 1/R*(1 - kap^2/R^2)^(1/2)]\n",
    "n[:], e1[:], e2[:]"
   ]
  },
  {
   "cell_type": "code",
   "execution_count": 905,
   "id": "e211a4dd",
   "metadata": {},
   "outputs": [
    {
     "data": {
      "text/html": [
       "<html>\\(\\displaystyle \\left(\\begin{array}{llcl} g\\left(e_1,e_1\\right):& M & \\longrightarrow & \\mathbb{R} \\\\ & \\left(t, R, {\\theta}, {\\phi}\\right) & \\longmapsto & 1 \\end{array}, \\begin{array}{llcl} g\\left(\\dot{z},e_1\\right):& M & \\longrightarrow & \\mathbb{R} \\\\ & \\left(t, R, {\\theta}, {\\phi}\\right) & \\longmapsto & 0 \\end{array}\\right)\\)</html>"
      ],
      "text/latex": [
       "$\\displaystyle \\left(\\begin{array}{llcl} g\\left(e_1,e_1\\right):& M & \\longrightarrow & \\mathbb{R} \\\\ & \\left(t, R, {\\theta}, {\\phi}\\right) & \\longmapsto & 1 \\end{array}, \\begin{array}{llcl} g\\left(\\dot{z},e_1\\right):& M & \\longrightarrow & \\mathbb{R} \\\\ & \\left(t, R, {\\theta}, {\\phi}\\right) & \\longmapsto & 0 \\end{array}\\right)$"
      ],
      "text/plain": [
       "(g(e_1,e_1): M → ℝ\n",
       "    (t, R, th, ph) ↦ 1,\n",
       " g(\\dot{z},e_1): M → ℝ\n",
       "    (t, R, th, ph) ↦ 0)"
      ]
     },
     "execution_count": 905,
     "metadata": {},
     "output_type": "execute_result"
    }
   ],
   "source": [
    "g(e1, e1).display(), g(zdot, e1).display()    #e1 is purely spacelike"
   ]
  },
  {
   "cell_type": "code",
   "execution_count": 906,
   "id": "7b0e3d0b",
   "metadata": {},
   "outputs": [
    {
     "data": {
      "text/html": [
       "<html>\\(\\displaystyle \\left(\\begin{array}{llcl} g\\left(\\dot{z},n\\right):& M & \\longrightarrow & \\mathbb{R} \\\\ & \\left(t, R, {\\theta}, {\\phi}\\right) & \\longmapsto & -1 \\end{array}, \\begin{array}{llcl} g\\left(n,e_2\\right):& M & \\longrightarrow & \\mathbb{R} \\\\ & \\left(t, R, {\\theta}, {\\phi}\\right) & \\longmapsto & 0 \\end{array}, \\begin{array}{llcl} g\\left(e_2,e_2\\right):& M & \\longrightarrow & \\mathbb{R} \\\\ & \\left(t, R, {\\theta}, {\\phi}\\right) & \\longmapsto & -\\frac{R^{2} - 2 \\, \\kappa^{2}}{R^{2}} \\end{array}\\right)\\)</html>"
      ],
      "text/latex": [
       "$\\displaystyle \\left(\\begin{array}{llcl} g\\left(\\dot{z},n\\right):& M & \\longrightarrow & \\mathbb{R} \\\\ & \\left(t, R, {\\theta}, {\\phi}\\right) & \\longmapsto & -1 \\end{array}, \\begin{array}{llcl} g\\left(n,e_2\\right):& M & \\longrightarrow & \\mathbb{R} \\\\ & \\left(t, R, {\\theta}, {\\phi}\\right) & \\longmapsto & 0 \\end{array}, \\begin{array}{llcl} g\\left(e_2,e_2\\right):& M & \\longrightarrow & \\mathbb{R} \\\\ & \\left(t, R, {\\theta}, {\\phi}\\right) & \\longmapsto & -\\frac{R^{2} - 2 \\, \\kappa^{2}}{R^{2}} \\end{array}\\right)$"
      ],
      "text/plain": [
       "(g(\\dot{z},n): M → ℝ\n",
       "    (t, R, th, ph) ↦ -1,\n",
       " g(n,e_2): M → ℝ\n",
       "    (t, R, th, ph) ↦ 0,\n",
       " g(e_2,e_2): M → ℝ\n",
       "    (t, R, th, ph) ↦ -(R^2 - 2*kappa^2)/R^2)"
      ]
     },
     "execution_count": 906,
     "metadata": {},
     "output_type": "execute_result"
    }
   ],
   "source": [
    "g(zdot, n).display(), g(n, e2).display(), g(e2, e2).display()"
   ]
  },
  {
   "cell_type": "code",
   "execution_count": 907,
   "id": "efbf710b",
   "metadata": {},
   "outputs": [
    {
     "data": {
      "text/html": [
       "<html>\\(\\displaystyle \\left[0, -\\frac{\\kappa}{R}, 0, i \\, \\sqrt{R + \\kappa} \\sqrt{R - \\kappa}\\right]\\)</html>"
      ],
      "text/latex": [
       "$\\displaystyle \\left[0, -\\frac{\\kappa}{R}, 0, i \\, \\sqrt{R + \\kappa} \\sqrt{R - \\kappa}\\right]$"
      ],
      "text/plain": [
       "[0, -kappa/R, 0, I*sqrt(R + kappa)*sqrt(R - kappa)]"
      ]
     },
     "execution_count": 907,
     "metadata": {},
     "output_type": "execute_result"
    }
   ],
   "source": [
    "e2.down(g)[:]"
   ]
  },
  {
   "cell_type": "code",
   "execution_count": 771,
   "id": "aa53aad3",
   "metadata": {},
   "outputs": [
    {
     "data": {
      "text/html": [
       "<html>\\(\\displaystyle \\begin{array}{llcl} & M & \\longrightarrow & \\mathbb{R} \\\\ & \\left(t, R, {\\theta}, {\\phi}\\right) & \\longmapsto & -\\frac{R^{2} - 2 \\, \\kappa^{2}}{R^{2}} \\end{array}\\)</html>"
      ],
      "text/latex": [
       "$\\displaystyle \\begin{array}{llcl} & M & \\longrightarrow & \\mathbb{R} \\\\ & \\left(t, R, {\\theta}, {\\phi}\\right) & \\longmapsto & -\\frac{R^{2} - 2 \\, \\kappa^{2}}{R^{2}} \\end{array}$"
      ],
      "text/plain": [
       "M → ℝ\n",
       "(t, R, th, ph) ↦ -(R^2 - 2*kappa^2)/R^2"
      ]
     },
     "execution_count": 771,
     "metadata": {},
     "output_type": "execute_result"
    }
   ],
   "source": [
    "e3 = e2.contract(e2.down(g))\n",
    "e3.display()"
   ]
  },
  {
   "cell_type": "code",
   "execution_count": null,
   "id": "bdc25c2d",
   "metadata": {},
   "outputs": [],
   "source": []
  },
  {
   "cell_type": "code",
   "execution_count": 909,
   "id": "394585d6",
   "metadata": {},
   "outputs": [
    {
     "data": {
      "text/html": [
       "<html>\\(\\displaystyle \\left[0, 0, 0, 0\\right]\\)</html>"
      ],
      "text/latex": [
       "$\\displaystyle \\left[0, 0, 0, 0\\right]$"
      ],
      "text/plain": [
       "[0, 0, 0, 0]"
      ]
     },
     "execution_count": 909,
     "metadata": {},
     "output_type": "execute_result"
    }
   ],
   "source": [
    "De1 = nab(e1)\n",
    "De1.apply_map(lambda x: x.subs({th:pi/2}))\n",
    "De1.contract(zdot)[:]    # e1 is parallel transported."
   ]
  },
  {
   "cell_type": "markdown",
   "id": "cbf91691",
   "metadata": {},
   "source": [
    "Use the inner product algebraic relations to get conditions on the components of $n$ and $e_2$."
   ]
  },
  {
   "cell_type": "code",
   "execution_count": 910,
   "id": "f8e6cd47",
   "metadata": {},
   "outputs": [
    {
     "data": {
      "text/html": [
       "<html>\\(\\displaystyle \\left(\\begin{array}{llcl} g\\left(n,n\\right):& M & \\longrightarrow & \\mathbb{R} \\\\ & \\left(t, R, {\\theta}, {\\phi}\\right) & \\longmapsto & 0 \\end{array}, \\begin{array}{llcl} g\\left(n,e_2\\right):& M & \\longrightarrow & \\mathbb{R} \\\\ & \\left(t, R, {\\theta}, {\\phi}\\right) & \\longmapsto & 0 \\end{array}, \\begin{array}{llcl} g\\left(n,\\dot{z}\\right):& M & \\longrightarrow & \\mathbb{R} \\\\ & \\left(t, R, {\\theta}, {\\phi}\\right) & \\longmapsto & -1 \\end{array}\\right)\\)</html>"
      ],
      "text/latex": [
       "$\\displaystyle \\left(\\begin{array}{llcl} g\\left(n,n\\right):& M & \\longrightarrow & \\mathbb{R} \\\\ & \\left(t, R, {\\theta}, {\\phi}\\right) & \\longmapsto & 0 \\end{array}, \\begin{array}{llcl} g\\left(n,e_2\\right):& M & \\longrightarrow & \\mathbb{R} \\\\ & \\left(t, R, {\\theta}, {\\phi}\\right) & \\longmapsto & 0 \\end{array}, \\begin{array}{llcl} g\\left(n,\\dot{z}\\right):& M & \\longrightarrow & \\mathbb{R} \\\\ & \\left(t, R, {\\theta}, {\\phi}\\right) & \\longmapsto & -1 \\end{array}\\right)$"
      ],
      "text/plain": [
       "(g(n,n): M → ℝ\n",
       "    (t, R, th, ph) ↦ 0,\n",
       " g(n,e_2): M → ℝ\n",
       "    (t, R, th, ph) ↦ 0,\n",
       " g(n,\\dot{z}): M → ℝ\n",
       "    (t, R, th, ph) ↦ -1)"
      ]
     },
     "execution_count": 910,
     "metadata": {},
     "output_type": "execute_result"
    }
   ],
   "source": [
    "g(n, n).display(), g(n, e2).display(), g(n, zdot).display()"
   ]
  },
  {
   "cell_type": "code",
   "execution_count": 911,
   "id": "1b7537ca",
   "metadata": {},
   "outputs": [
    {
     "data": {
      "text/html": [
       "<html>\\(\\displaystyle \\left(\\begin{array}{llcl} g\\left(e_2,\\dot{z}\\right):& M & \\longrightarrow & \\mathbb{R} \\\\ & \\left(t, R, {\\theta}, {\\phi}\\right) & \\longmapsto & 0 \\end{array}, \\begin{array}{llcl} g\\left(e_2,e_2\\right):& M & \\longrightarrow & \\mathbb{R} \\\\ & \\left(t, R, {\\theta}, {\\phi}\\right) & \\longmapsto & -\\frac{R^{2} - 2 \\, \\kappa^{2}}{R^{2}} \\end{array}\\right)\\)</html>"
      ],
      "text/latex": [
       "$\\displaystyle \\left(\\begin{array}{llcl} g\\left(e_2,\\dot{z}\\right):& M & \\longrightarrow & \\mathbb{R} \\\\ & \\left(t, R, {\\theta}, {\\phi}\\right) & \\longmapsto & 0 \\end{array}, \\begin{array}{llcl} g\\left(e_2,e_2\\right):& M & \\longrightarrow & \\mathbb{R} \\\\ & \\left(t, R, {\\theta}, {\\phi}\\right) & \\longmapsto & -\\frac{R^{2} - 2 \\, \\kappa^{2}}{R^{2}} \\end{array}\\right)$"
      ],
      "text/plain": [
       "(g(e_2,\\dot{z}): M → ℝ\n",
       "    (t, R, th, ph) ↦ 0,\n",
       " g(e_2,e_2): M → ℝ\n",
       "    (t, R, th, ph) ↦ -(R^2 - 2*kappa^2)/R^2)"
      ]
     },
     "execution_count": 911,
     "metadata": {},
     "output_type": "execute_result"
    }
   ],
   "source": [
    "g(e2, zdot).display(), g(e2, e2).display()"
   ]
  },
  {
   "cell_type": "code",
   "execution_count": 912,
   "id": "ec478d47",
   "metadata": {},
   "outputs": [
    {
     "data": {
      "text/html": [
       "<html>\\(\\displaystyle \\left[0, 0, 0, 0\\right]\\)</html>"
      ],
      "text/latex": [
       "$\\displaystyle \\left[0, 0, 0, 0\\right]$"
      ],
      "text/plain": [
       "[0, 0, 0, 0]"
      ]
     },
     "execution_count": 912,
     "metadata": {},
     "output_type": "execute_result"
    }
   ],
   "source": [
    "Dn = nab(n)\n",
    "Dn.apply_map(lambda x: x.subs({th:pi/2}))\n",
    "Dn.contract(zdot)[:]"
   ]
  },
  {
   "cell_type": "code",
   "execution_count": 913,
   "id": "8894b236",
   "metadata": {},
   "outputs": [
    {
     "data": {
      "text/html": [
       "<html>\\(\\displaystyle \\left[0, 0, 0, -\\frac{2 \\, {\\left(R^{2} - \\kappa^{2}\\right)}}{R^{4} m}\\right]\\)</html>"
      ],
      "text/latex": [
       "$\\displaystyle \\left[0, 0, 0, -\\frac{2 \\, {\\left(R^{2} - \\kappa^{2}\\right)}}{R^{4} m}\\right]$"
      ],
      "text/plain": [
       "[0, 0, 0, -2*(R^2 - kappa^2)/(R^4*m)]"
      ]
     },
     "execution_count": 913,
     "metadata": {},
     "output_type": "execute_result"
    }
   ],
   "source": [
    "De2 = nab(e2)\n",
    "De2.apply_map(lambda x: x.subs({th:pi/2}))\n",
    "De2.contract(zdot)[:]"
   ]
  },
  {
   "cell_type": "code",
   "execution_count": null,
   "id": "a55948cf",
   "metadata": {},
   "outputs": [],
   "source": []
  }
 ],
 "metadata": {
  "kernelspec": {
   "display_name": "SageMath 9.7",
   "language": "sage",
   "name": "sagemath"
  },
  "language_info": {
   "codemirror_mode": {
    "name": "ipython",
    "version": 3
   },
   "file_extension": ".py",
   "mimetype": "text/x-python",
   "name": "python",
   "nbconvert_exporter": "python",
   "pygments_lexer": "ipython3",
   "version": "3.8.10"
  }
 },
 "nbformat": 4,
 "nbformat_minor": 5
}
