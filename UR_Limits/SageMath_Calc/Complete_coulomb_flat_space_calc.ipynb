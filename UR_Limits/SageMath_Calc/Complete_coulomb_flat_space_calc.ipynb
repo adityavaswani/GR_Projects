{
 "cells": [
  {
   "cell_type": "code",
   "execution_count": 7,
   "id": "0942ab69",
   "metadata": {},
   "outputs": [],
   "source": [
    "%display latex"
   ]
  },
  {
   "cell_type": "code",
   "execution_count": 8,
   "id": "b6710bba",
   "metadata": {},
   "outputs": [
    {
     "data": {
      "text/html": [
       "<html>\\(\\displaystyle \\verb|real|\\)</html>"
      ],
      "text/latex": [
       "$\\displaystyle \\verb|real|$"
      ],
      "text/plain": [
       "'real'"
      ]
     },
     "execution_count": 8,
     "metadata": {},
     "output_type": "execute_result"
    }
   ],
   "source": [
    "sage: maxima_calculus.eval('domain:real')\n",
    "'real'"
   ]
  },
  {
   "cell_type": "markdown",
   "id": "9bd2ddaa",
   "metadata": {},
   "source": [
    "Define the manifold $M$ with coordinates $(t, r, \\theta, \\phi)$ and metric $g_{a' b'} = diag(-1, 1, r^2, r^2 \\sin^2 \\theta)$, and set $\\theta = \\pi/2$. Compute Christoffel symbols for this metric."
   ]
  },
  {
   "cell_type": "code",
   "execution_count": 9,
   "id": "f77d5e9b",
   "metadata": {},
   "outputs": [
    {
     "data": {
      "text/html": [
       "<html>\\(\\displaystyle \\left(\\begin{array}{rrrr}\n",
       "-1 & 0 & 0 & 0 \\\\\n",
       "0 & 1 & 0 & 0 \\\\\n",
       "0 & 0 & r^{2} & 0 \\\\\n",
       "0 & 0 & 0 & r^{2} \\sin\\left({\\theta}\\right)^{2}\n",
       "\\end{array}\\right)\\)</html>"
      ],
      "text/latex": [
       "$\\displaystyle \\left(\\begin{array}{rrrr}\n",
       "-1 & 0 & 0 & 0 \\\\\n",
       "0 & 1 & 0 & 0 \\\\\n",
       "0 & 0 & r^{2} & 0 \\\\\n",
       "0 & 0 & 0 & r^{2} \\sin\\left({\\theta}\\right)^{2}\n",
       "\\end{array}\\right)$"
      ],
      "text/plain": [
       "[           -1             0             0             0]\n",
       "[            0             1             0             0]\n",
       "[            0             0           r^2             0]\n",
       "[            0             0             0 r^2*sin(th)^2]"
      ]
     },
     "execution_count": 9,
     "metadata": {},
     "output_type": "execute_result"
    }
   ],
   "source": [
    "M = Manifold(4, 'M', structure='Lorentzian')\n",
    "X.<t, r, th, ph> = M.chart(r't r:(0,+oo) th:(0,pi):\\theta ph:(0,2*pi):\\phi')\n",
    "g = M.metric('g')\n",
    "g[0, 0], g[1, 1], g[2, 2], g[3, 3] = -1, 1, r^2, r^2*sin(th)^2\n",
    "g[:]"
   ]
  },
  {
   "cell_type": "code",
   "execution_count": 10,
   "id": "9f2fdfa6",
   "metadata": {},
   "outputs": [
    {
     "data": {
      "text/html": [
       "<html>\\(\\displaystyle \\left(\\begin{array}{rrrr}\n",
       "-1 & 0 & 0 & 0 \\\\\n",
       "0 & 1 & 0 & 0 \\\\\n",
       "0 & 0 & r^{2} & 0 \\\\\n",
       "0 & 0 & 0 & r^{2}\n",
       "\\end{array}\\right)\\)</html>"
      ],
      "text/latex": [
       "$\\displaystyle \\left(\\begin{array}{rrrr}\n",
       "-1 & 0 & 0 & 0 \\\\\n",
       "0 & 1 & 0 & 0 \\\\\n",
       "0 & 0 & r^{2} & 0 \\\\\n",
       "0 & 0 & 0 & r^{2}\n",
       "\\end{array}\\right)$"
      ],
      "text/plain": [
       "[ -1   0   0   0]\n",
       "[  0   1   0   0]\n",
       "[  0   0 r^2   0]\n",
       "[  0   0   0 r^2]"
      ]
     },
     "execution_count": 10,
     "metadata": {},
     "output_type": "execute_result"
    }
   ],
   "source": [
    "g.apply_map(lambda x: x.subs({th:pi/2}))\n",
    "g[:]"
   ]
  },
  {
   "cell_type": "code",
   "execution_count": 11,
   "id": "771cf89e",
   "metadata": {},
   "outputs": [
    {
     "data": {
      "text/html": [
       "<html>\\(\\displaystyle \\left[\\left[\\left[0, 0, 0, 0\\right], \\left[0, 0, 0, 0\\right], \\left[0, 0, 0, 0\\right], \\left[0, 0, 0, 0\\right]\\right], \\left[\\left[0, 0, 0, 0\\right], \\left[0, 0, 0, 0\\right], \\left[0, 0, -r, 0\\right], \\left[0, 0, 0, -r\\right]\\right], \\left[\\left[0, 0, 0, 0\\right], \\left[0, 0, \\frac{1}{r}, 0\\right], \\left[0, \\frac{1}{r}, 0, 0\\right], \\left[0, 0, 0, 0\\right]\\right], \\left[\\left[0, 0, 0, 0\\right], \\left[0, 0, 0, \\frac{1}{r}\\right], \\left[0, 0, 0, 0\\right], \\left[0, \\frac{1}{r}, 0, 0\\right]\\right]\\right]\\)</html>"
      ],
      "text/latex": [
       "$\\displaystyle \\left[\\left[\\left[0, 0, 0, 0\\right], \\left[0, 0, 0, 0\\right], \\left[0, 0, 0, 0\\right], \\left[0, 0, 0, 0\\right]\\right], \\left[\\left[0, 0, 0, 0\\right], \\left[0, 0, 0, 0\\right], \\left[0, 0, -r, 0\\right], \\left[0, 0, 0, -r\\right]\\right], \\left[\\left[0, 0, 0, 0\\right], \\left[0, 0, \\frac{1}{r}, 0\\right], \\left[0, \\frac{1}{r}, 0, 0\\right], \\left[0, 0, 0, 0\\right]\\right], \\left[\\left[0, 0, 0, 0\\right], \\left[0, 0, 0, \\frac{1}{r}\\right], \\left[0, 0, 0, 0\\right], \\left[0, \\frac{1}{r}, 0, 0\\right]\\right]\\right]$"
      ],
      "text/plain": [
       "[[[0, 0, 0, 0], [0, 0, 0, 0], [0, 0, 0, 0], [0, 0, 0, 0]],\n",
       " [[0, 0, 0, 0], [0, 0, 0, 0], [0, 0, -r, 0], [0, 0, 0, -r]],\n",
       " [[0, 0, 0, 0], [0, 0, 1/r, 0], [0, 1/r, 0, 0], [0, 0, 0, 0]],\n",
       " [[0, 0, 0, 0], [0, 0, 0, 1/r], [0, 0, 0, 0], [0, 1/r, 0, 0]]]"
      ]
     },
     "execution_count": 11,
     "metadata": {},
     "output_type": "execute_result"
    }
   ],
   "source": [
    "Gam = g.christoffel_symbols()\n",
    "nab = M.affine_connection('nabla', r'\\nabla')\n",
    "nab[:] = Gam[:]\n",
    "nab[:]"
   ]
  },
  {
   "cell_type": "code",
   "execution_count": 12,
   "id": "5493cb86",
   "metadata": {},
   "outputs": [
    {
     "data": {
      "text/html": [
       "<html>\\(\\displaystyle \\begin{array}{lcl} \\Gamma_{ \\phantom{\\, r} \\, {\\theta} \\, {\\theta} }^{ \\, r \\phantom{\\, {\\theta}} \\phantom{\\, {\\theta}} } & = & -r \\\\ \\Gamma_{ \\phantom{\\, r} \\, {\\phi} \\, {\\phi} }^{ \\, r \\phantom{\\, {\\phi}} \\phantom{\\, {\\phi}} } & = & -r \\\\ \\Gamma_{ \\phantom{\\, {\\theta}} \\, r \\, {\\theta} }^{ \\, {\\theta} \\phantom{\\, r} \\phantom{\\, {\\theta}} } & = & \\frac{1}{r} \\\\ \\Gamma_{ \\phantom{\\, {\\theta}} \\, {\\theta} \\, r }^{ \\, {\\theta} \\phantom{\\, {\\theta}} \\phantom{\\, r} } & = & \\frac{1}{r} \\\\ \\Gamma_{ \\phantom{\\, {\\phi}} \\, r \\, {\\phi} }^{ \\, {\\phi} \\phantom{\\, r} \\phantom{\\, {\\phi}} } & = & \\frac{1}{r} \\\\ \\Gamma_{ \\phantom{\\, {\\phi}} \\, {\\phi} \\, r }^{ \\, {\\phi} \\phantom{\\, {\\phi}} \\phantom{\\, r} } & = & \\frac{1}{r} \\end{array}\\)</html>"
      ],
      "text/latex": [
       "$\\displaystyle \\begin{array}{lcl} \\Gamma_{ \\phantom{\\, r} \\, {\\theta} \\, {\\theta} }^{ \\, r \\phantom{\\, {\\theta}} \\phantom{\\, {\\theta}} } & = & -r \\\\ \\Gamma_{ \\phantom{\\, r} \\, {\\phi} \\, {\\phi} }^{ \\, r \\phantom{\\, {\\phi}} \\phantom{\\, {\\phi}} } & = & -r \\\\ \\Gamma_{ \\phantom{\\, {\\theta}} \\, r \\, {\\theta} }^{ \\, {\\theta} \\phantom{\\, r} \\phantom{\\, {\\theta}} } & = & \\frac{1}{r} \\\\ \\Gamma_{ \\phantom{\\, {\\theta}} \\, {\\theta} \\, r }^{ \\, {\\theta} \\phantom{\\, {\\theta}} \\phantom{\\, r} } & = & \\frac{1}{r} \\\\ \\Gamma_{ \\phantom{\\, {\\phi}} \\, r \\, {\\phi} }^{ \\, {\\phi} \\phantom{\\, r} \\phantom{\\, {\\phi}} } & = & \\frac{1}{r} \\\\ \\Gamma_{ \\phantom{\\, {\\phi}} \\, {\\phi} \\, r }^{ \\, {\\phi} \\phantom{\\, {\\phi}} \\phantom{\\, r} } & = & \\frac{1}{r} \\end{array}$"
      ],
      "text/plain": [
       "Gam^r_th,th = -r \n",
       "Gam^r_ph,ph = -r \n",
       "Gam^th_r,th = 1/r \n",
       "Gam^th_th,r = 1/r \n",
       "Gam^ph_r,ph = 1/r \n",
       "Gam^ph_ph,r = 1/r "
      ]
     },
     "execution_count": 12,
     "metadata": {},
     "output_type": "execute_result"
    }
   ],
   "source": [
    "nab.display()"
   ]
  },
  {
   "cell_type": "markdown",
   "id": "a2ca34c3",
   "metadata": {},
   "source": [
    "Define the variables $s, q, Q, m$, as respectively the parameter along the curves, the test charge, the source charge, and the test mass. Also define the variables $\\epsilon, \\kappa, \\Phi_0$ as respectively the ultrarelativistic parameter, the angular momentum proportionality factor $l = \\kappa/\\epsilon$, and the initial azimuthal angle. Also define the ``outside-in'' functions $(U, V, X^1, X^2)$ which at $\\epsilon = 0$ become the PW coordinates. "
   ]
  },
  {
   "cell_type": "code",
   "execution_count": 13,
   "id": "00d1543a",
   "metadata": {},
   "outputs": [
    {
     "data": {
      "text/html": [
       "<html>\\(\\displaystyle \\left(s, \\epsilon, \\kappa\\right)\\)</html>"
      ],
      "text/latex": [
       "$\\displaystyle \\left(s, \\epsilon, \\kappa\\right)$"
      ],
      "text/plain": [
       "(s, epsilon, kappa)"
      ]
     },
     "execution_count": 13,
     "metadata": {},
     "output_type": "execute_result"
    }
   ],
   "source": [
    "s, q, Q, m = var('s, q, Q, m')\n",
    "eps, kap, phi_init = var('epsilon, kappa, Phi_0')\n",
    "assume(eps>=0)\n",
    "assume(s>=0)\n",
    "assume(kap>0)\n",
    "assume(m>0)\n",
    "s, eps, kap"
   ]
  },
  {
   "cell_type": "code",
   "execution_count": 14,
   "id": "7c783e53",
   "metadata": {},
   "outputs": [
    {
     "data": {
      "text/html": [
       "<html>\\(\\displaystyle \\left(U\\left(s, \\epsilon\\right), V\\left(s, \\epsilon\\right), X_{1}\\left(s, \\epsilon\\right), X_{2}\\left(s, \\epsilon\\right)\\right)\\)</html>"
      ],
      "text/latex": [
       "$\\displaystyle \\left(U\\left(s, \\epsilon\\right), V\\left(s, \\epsilon\\right), X_{1}\\left(s, \\epsilon\\right), X_{2}\\left(s, \\epsilon\\right)\\right)$"
      ],
      "text/plain": [
       "(U(s, epsilon), V(s, epsilon), X_1(s, epsilon), X_2(s, epsilon))"
      ]
     },
     "execution_count": 14,
     "metadata": {},
     "output_type": "execute_result"
    }
   ],
   "source": [
    "U = function('U', nargs=2)(s, eps)\n",
    "V = function('V', nargs=2)(s, eps)\n",
    "X1 = function('X_1', nargs=2)(s, eps)\n",
    "X2 = function('X_2', nargs=2)(s, eps)\n",
    "U, V, X1, X2"
   ]
  },
  {
   "cell_type": "markdown",
   "id": "8438a722",
   "metadata": {},
   "source": [
    "Define the tangent and deviation vectors respectively $\\partial_U Y^{a'}$ and $\\xi^{a'} \\equiv \\partial_{\\epsilon} Y^{a'}$. The tangent vector has components $\\partial_U Y^{a'} = (\\partial_U t, \\partial_U r, 0, \\partial_U \\phi)$ where $\\partial_U t = \\frac{1}{m} \\bigg ( 1 + \\epsilon \\frac{q Q}{r} \\bigg ), \\\\\n",
    "\\partial_U r = \\frac{1}{m} \\sqrt{1 - \\frac{\\kappa^2}{r^2} + \\epsilon \\frac{2 q Q}{r} + \\epsilon^2 \\bigg ( \\frac{q^2 Q^2}{r^2} - m^2 \\bigg )}, \\\\\n",
    "\\partial_U \\phi = \\frac{\\kappa}{m r^2}$.\n",
    "\n",
    "and the deviation vector has components $\\xi^{a'} = (\\xi^t, \\xi^r, \\xi^{\\theta}, \\xi^{\\phi}) = (\\partial_{\\epsilon} t, \\partial_{\\epsilon} r, 0, \\partial_{\\epsilon} \\phi)$. Note that since $\\theta = \\pi/2$ is fixed, $\\xi^{\\theta} = \\partial_{\\epsilon} \\theta = 0$."
   ]
  },
  {
   "cell_type": "code",
   "execution_count": 15,
   "id": "bbaf47be",
   "metadata": {},
   "outputs": [
    {
     "data": {
      "text/html": [
       "<html>\\(\\displaystyle \\left(\\partial_s Y, \\xi\\right)\\)</html>"
      ],
      "text/latex": [
       "$\\displaystyle \\left(\\partial_s Y, \\xi\\right)$"
      ],
      "text/plain": [
       "(Vector field \\partial_s Y on the 4-dimensional Lorentzian manifold M,\n",
       " Vector field \\xi on the 4-dimensional Lorentzian manifold M)"
      ]
     },
     "execution_count": 15,
     "metadata": {},
     "output_type": "execute_result"
    }
   ],
   "source": [
    "dsY = M.vector_field(name=r'\\partial_s Y')\n",
    "xi = M.vector_field(name=r'\\xi')\n",
    "dsY, xi"
   ]
  },
  {
   "cell_type": "code",
   "execution_count": 16,
   "id": "b7245ba9",
   "metadata": {},
   "outputs": [
    {
     "data": {
      "text/html": [
       "<html>\\(\\displaystyle \\left(\\frac{\\frac{Q \\epsilon q}{r} + 1}{m}, \\frac{\\sqrt{-{\\left(m^{2} - \\frac{Q^{2} q^{2}}{r^{2}}\\right)} \\epsilon^{2} + \\frac{2 \\, Q \\epsilon q}{r} - \\frac{\\kappa^{2}}{r^{2}} + 1}}{m}, \\frac{\\kappa}{m r^{2}}\\right)\\)</html>"
      ],
      "text/latex": [
       "$\\displaystyle \\left(\\frac{\\frac{Q \\epsilon q}{r} + 1}{m}, \\frac{\\sqrt{-{\\left(m^{2} - \\frac{Q^{2} q^{2}}{r^{2}}\\right)} \\epsilon^{2} + \\frac{2 \\, Q \\epsilon q}{r} - \\frac{\\kappa^{2}}{r^{2}} + 1}}{m}, \\frac{\\kappa}{m r^{2}}\\right)$"
      ],
      "text/plain": [
       "((Q*epsilon*q/r + 1)/m,\n",
       " sqrt(-(m^2 - Q^2*q^2/r^2)*epsilon^2 + 2*Q*epsilon*q/r - kappa^2/r^2 + 1)/m,\n",
       " kappa/(m*r^2))"
      ]
     },
     "execution_count": 16,
     "metadata": {},
     "output_type": "execute_result"
    }
   ],
   "source": [
    "ds_t = 1/m*(1 + eps*q*Q/r)\n",
    "ds_r = 1/m*sqrt(1 - kap^2/r^2 + eps*2*q*Q/r + eps^2*(q^2*Q^2/r^2 - m^2))\n",
    "ds_ph = kap/(m * r^2)\n",
    "ds_t, ds_r, ds_ph"
   ]
  },
  {
   "cell_type": "code",
   "execution_count": 17,
   "id": "4c354981",
   "metadata": {
    "scrolled": true
   },
   "outputs": [
    {
     "data": {
      "text/html": [
       "<html>\\(\\displaystyle \\left(\\left[\\frac{\\frac{Q \\epsilon q}{r} + 1}{m}, \\frac{\\sqrt{-{\\left(m^{2} - \\frac{Q^{2} q^{2}}{r^{2}}\\right)} \\epsilon^{2} + \\frac{2 \\, Q \\epsilon q}{r} - \\frac{\\kappa^{2}}{r^{2}} + 1}}{m}, 0, \\frac{\\kappa}{m r^{2}}\\right], \\left[\\xi_{t}\\left(s, \\epsilon\\right), \\xi_{r}\\left(s, \\epsilon\\right), 0, \\xi_{{\\rm ph}}\\left(s, \\epsilon\\right)\\right]\\right)\\)</html>"
      ],
      "text/latex": [
       "$\\displaystyle \\left(\\left[\\frac{\\frac{Q \\epsilon q}{r} + 1}{m}, \\frac{\\sqrt{-{\\left(m^{2} - \\frac{Q^{2} q^{2}}{r^{2}}\\right)} \\epsilon^{2} + \\frac{2 \\, Q \\epsilon q}{r} - \\frac{\\kappa^{2}}{r^{2}} + 1}}{m}, 0, \\frac{\\kappa}{m r^{2}}\\right], \\left[\\xi_{t}\\left(s, \\epsilon\\right), \\xi_{r}\\left(s, \\epsilon\\right), 0, \\xi_{{\\rm ph}}\\left(s, \\epsilon\\right)\\right]\\right)$"
      ],
      "text/plain": [
       "([(Q*epsilon*q/r + 1)/m,\n",
       "  sqrt(-(m^2 - Q^2*q^2/r^2)*epsilon^2 + 2*Q*epsilon*q/r - kappa^2/r^2 + 1)/m,\n",
       "  0,\n",
       "  kappa/(m*r^2)],\n",
       " [xi_t(s, epsilon), xi_r(s, epsilon), 0, xi_ph(s, epsilon)])"
      ]
     },
     "execution_count": 17,
     "metadata": {},
     "output_type": "execute_result"
    }
   ],
   "source": [
    "xi_t = function('xi_t')(s, eps)\n",
    "xi_r = function('xi_r')(s, eps)\n",
    "xi_ph = function('xi_ph')(s, eps)\n",
    "dsY[:] = [ds_t, ds_r, 0, ds_ph]\n",
    "xi[:] = [xi_t, xi_r, 0, xi_ph]\n",
    "dsY[:], xi[:]"
   ]
  },
  {
   "cell_type": "markdown",
   "id": "29a7d2e8",
   "metadata": {},
   "source": [
    "The leading order solution (the equation of the reference null geodesic) can be obtained by setting $\\epsilon = 0$ and integrating the components of the tangent vector."
   ]
  },
  {
   "cell_type": "code",
   "execution_count": 18,
   "id": "a5e0bd99",
   "metadata": {},
   "outputs": [
    {
     "data": {
      "text/html": [
       "<html>\\(\\displaystyle \\left(\\left[\\frac{1}{m}, \\frac{\\sqrt{-\\frac{\\kappa^{2}}{r^{2}} + 1}}{m}, 0, \\frac{\\kappa}{m r^{2}}\\right], \\left[\\frac{\\frac{Q \\epsilon q}{r} + 1}{m}, \\frac{\\sqrt{-{\\left(m^{2} - \\frac{Q^{2} q^{2}}{r^{2}}\\right)} \\epsilon^{2} + \\frac{2 \\, Q \\epsilon q}{r} - \\frac{\\kappa^{2}}{r^{2}} + 1}}{m}, 0, \\frac{\\kappa}{m r^{2}}\\right]\\right)\\)</html>"
      ],
      "text/latex": [
       "$\\displaystyle \\left(\\left[\\frac{1}{m}, \\frac{\\sqrt{-\\frac{\\kappa^{2}}{r^{2}} + 1}}{m}, 0, \\frac{\\kappa}{m r^{2}}\\right], \\left[\\frac{\\frac{Q \\epsilon q}{r} + 1}{m}, \\frac{\\sqrt{-{\\left(m^{2} - \\frac{Q^{2} q^{2}}{r^{2}}\\right)} \\epsilon^{2} + \\frac{2 \\, Q \\epsilon q}{r} - \\frac{\\kappa^{2}}{r^{2}} + 1}}{m}, 0, \\frac{\\kappa}{m r^{2}}\\right]\\right)$"
      ],
      "text/plain": [
       "([1/m, sqrt(-kappa^2/r^2 + 1)/m, 0, kappa/(m*r^2)],\n",
       " [(Q*epsilon*q/r + 1)/m,\n",
       "  sqrt(-(m^2 - Q^2*q^2/r^2)*epsilon^2 + 2*Q*epsilon*q/r - kappa^2/r^2 + 1)/m,\n",
       "  0,\n",
       "  kappa/(m*r^2)])"
      ]
     },
     "execution_count": 18,
     "metadata": {},
     "output_type": "execute_result"
    }
   ],
   "source": [
    "ds_Y0 = dsY.copy()\n",
    "ds_Y0.apply_map(lambda x: x.subs({eps:0}))\n",
    "ds_Y0[:], dsY[:]"
   ]
  },
  {
   "cell_type": "code",
   "execution_count": 19,
   "id": "ba8cd6f0",
   "metadata": {},
   "outputs": [
    {
     "data": {
      "text/html": [
       "<html>\\(\\displaystyle \\frac{s}{m}\\)</html>"
      ],
      "text/latex": [
       "$\\displaystyle \\frac{s}{m}$"
      ],
      "text/plain": [
       "s/m"
      ]
     },
     "execution_count": 19,
     "metadata": {},
     "output_type": "execute_result"
    }
   ],
   "source": [
    "t0_sol = ds_Y0[0].expr().integrate(s)\n",
    "t0_sol"
   ]
  },
  {
   "cell_type": "markdown",
   "id": "35a910ea",
   "metadata": {},
   "source": [
    "To integrate the $r$ EoM, introduce the new function $R(s) = r(s, \\epsilon = 0)$, the differential equation then becomes an ODE as shown below."
   ]
  },
  {
   "cell_type": "code",
   "execution_count": 20,
   "id": "99adc036",
   "metadata": {},
   "outputs": [
    {
     "data": {
      "text/html": [
       "<html>\\(\\displaystyle \\frac{\\partial}{\\partial s}R\\left(s\\right) = \\frac{\\sqrt{-\\frac{\\kappa^{2}}{R\\left(s\\right)^{2}} + 1}}{m}\\)</html>"
      ],
      "text/latex": [
       "$\\displaystyle \\frac{\\partial}{\\partial s}R\\left(s\\right) = \\frac{\\sqrt{-\\frac{\\kappa^{2}}{R\\left(s\\right)^{2}} + 1}}{m}$"
      ],
      "text/plain": [
       "diff(R(s), s) == sqrt(-kappa^2/R(s)^2 + 1)/m"
      ]
     },
     "execution_count": 20,
     "metadata": {},
     "output_type": "execute_result"
    }
   ],
   "source": [
    "R = function('R')(s)\n",
    "assume(R>0)\n",
    "dR = R.diff(s, 1)\n",
    "dR_rhs = ds_Y0[1].expr().subs({r:R})\n",
    "ode_r0 = dR == dR_rhs\n",
    "ode_r0"
   ]
  },
  {
   "cell_type": "code",
   "execution_count": 21,
   "id": "bc362396",
   "metadata": {},
   "outputs": [
    {
     "data": {
      "text/html": [
       "<html>\\(\\displaystyle m \\int \\frac{R\\left(s\\right)}{\\sqrt{-\\kappa^{2} + R\\left(s\\right)^{2}}}\\,{d \\left(R\\left(s\\right)\\right)} = C + s\\)</html>"
      ],
      "text/latex": [
       "$\\displaystyle m \\int \\frac{R\\left(s\\right)}{\\sqrt{-\\kappa^{2} + R\\left(s\\right)^{2}}}\\,{d \\left(R\\left(s\\right)\\right)} = C + s$"
      ],
      "text/plain": [
       "m*integrate(R(s)/sqrt(-kappa^2 + R(s)^2), R(s)) == _C + s"
      ]
     },
     "execution_count": 21,
     "metadata": {},
     "output_type": "execute_result"
    }
   ],
   "source": [
    "r0_tempsol = desolve(ode_r0, R, ivar=s)\n",
    "r0_tempsol"
   ]
  },
  {
   "cell_type": "code",
   "execution_count": 22,
   "id": "fb0d7257",
   "metadata": {
    "scrolled": true
   },
   "outputs": [
    {
     "data": {
      "text/html": [
       "<html>\\(\\displaystyle \\sqrt{-\\kappa^{2} + R\\left(s\\right)^{2}} m\\)</html>"
      ],
      "text/latex": [
       "$\\displaystyle \\sqrt{-\\kappa^{2} + R\\left(s\\right)^{2}} m$"
      ],
      "text/plain": [
       "sqrt(-kappa^2 + R(s)^2)*m"
      ]
     },
     "execution_count": 22,
     "metadata": {},
     "output_type": "execute_result"
    }
   ],
   "source": [
    "r0_tempsol.lhs().simplify()"
   ]
  },
  {
   "cell_type": "markdown",
   "id": "a78596a7",
   "metadata": {},
   "source": [
    "We can now set the integration constant to vanish by choosing $R(s = 0) = \\kappa$. Thus $r (s, \\epsilon = 0) = R (s) = \\sqrt{\\kappa^2 + s^2/m^2}$"
   ]
  },
  {
   "cell_type": "code",
   "execution_count": 23,
   "id": "89074d86",
   "metadata": {},
   "outputs": [
    {
     "data": {
      "text/html": [
       "<html>\\(\\displaystyle \\sqrt{\\kappa^{2} + \\frac{s^{2}}{m^{2}}}\\)</html>"
      ],
      "text/latex": [
       "$\\displaystyle \\sqrt{\\kappa^{2} + \\frac{s^{2}}{m^{2}}}$"
      ],
      "text/plain": [
       "sqrt(kappa^2 + s^2/m^2)"
      ]
     },
     "execution_count": 23,
     "metadata": {},
     "output_type": "execute_result"
    }
   ],
   "source": [
    "r0_sol = sqrt(kap^2 + s^2/m^2)\n",
    "r0_sol"
   ]
  },
  {
   "cell_type": "code",
   "execution_count": 24,
   "id": "4a95a2e8",
   "metadata": {
    "scrolled": true
   },
   "outputs": [
    {
     "data": {
      "text/html": [
       "<html>\\(\\displaystyle \\arctan\\left(\\frac{s}{\\kappa m}\\right)\\)</html>"
      ],
      "text/latex": [
       "$\\displaystyle \\arctan\\left(\\frac{s}{\\kappa m}\\right)$"
      ],
      "text/plain": [
       "arctan(s/(kappa*m))"
      ]
     },
     "execution_count": 24,
     "metadata": {},
     "output_type": "execute_result"
    }
   ],
   "source": [
    "ph0_tempsol = ds_Y0[3].expr().subs({r:r0_sol}).integrate(s)\n",
    "ph0_tempsol"
   ]
  },
  {
   "cell_type": "markdown",
   "id": "21321c3f",
   "metadata": {},
   "source": [
    "Keeping in mind that the initial azimuthal angle is $\\phi (s = 0, \\epsilon = 0) = \\Phi_0$, we need to add this as the integration constant to our existing solution."
   ]
  },
  {
   "cell_type": "code",
   "execution_count": 25,
   "id": "1c9d3a0f",
   "metadata": {
    "scrolled": true
   },
   "outputs": [
    {
     "data": {
      "text/html": [
       "<html>\\(\\displaystyle \\Phi_{0} + \\arctan\\left(\\frac{s}{\\kappa m}\\right)\\)</html>"
      ],
      "text/latex": [
       "$\\displaystyle \\Phi_{0} + \\arctan\\left(\\frac{s}{\\kappa m}\\right)$"
      ],
      "text/plain": [
       "Phi_0 + arctan(s/(kappa*m))"
      ]
     },
     "execution_count": 25,
     "metadata": {},
     "output_type": "execute_result"
    }
   ],
   "source": [
    "ph0_sol = ph0_tempsol + phi_init\n",
    "ph0_sol"
   ]
  },
  {
   "cell_type": "markdown",
   "id": "2adc0f6d",
   "metadata": {},
   "source": [
    "The leading order solution (essentially the reference null geodesic) is thus described by\n",
    "$z (s) = \\bigg ( \\frac{s}{m}, \\sqrt{\\kappa^2 + \\frac{s^2}{m^2}}, \\frac{\\pi}{2}, \\arctan{\\big ( \\frac{s}{\\kappa m} \\big ) + \\Phi_0 \\bigg )}$."
   ]
  },
  {
   "cell_type": "code",
   "execution_count": 26,
   "id": "1f0fb82c",
   "metadata": {},
   "outputs": [
    {
     "data": {
      "text/html": [
       "<html>\\(\\displaystyle \\begin{array}{llcl} z:& \\left(0, +\\infty\\right) & \\longrightarrow & M \\\\ & s & \\longmapsto & \\left(t, r, {\\theta}, {\\phi}\\right) = \\left(\\frac{s}{m}, \\sqrt{\\kappa^{2} + \\frac{s^{2}}{m^{2}}}, \\frac{1}{2} \\, \\pi, \\Phi_{0} + \\arctan\\left(\\frac{s}{\\kappa m}\\right)\\right) \\end{array}\\)</html>"
      ],
      "text/latex": [
       "$\\displaystyle \\begin{array}{llcl} z:& \\left(0, +\\infty\\right) & \\longrightarrow & M \\\\ & s & \\longmapsto & \\left(t, r, {\\theta}, {\\phi}\\right) = \\left(\\frac{s}{m}, \\sqrt{\\kappa^{2} + \\frac{s^{2}}{m^{2}}}, \\frac{1}{2} \\, \\pi, \\Phi_{0} + \\arctan\\left(\\frac{s}{\\kappa m}\\right)\\right) \\end{array}$"
      ],
      "text/plain": [
       "z: (0, +Infinity) → M\n",
       "   s ↦ (t, r, th, ph) = (s/m, sqrt(kappa^2 + s^2/m^2), 1/2*pi, Phi_0 + arctan(s/(kappa*m)))"
      ]
     },
     "execution_count": 26,
     "metadata": {},
     "output_type": "execute_result"
    }
   ],
   "source": [
    "z_ng = M.curve({X: [t0_sol, r0_sol, pi/2, ph0_sol]}, (s, 0, oo), name='z')\n",
    "z_ng.display()"
   ]
  },
  {
   "cell_type": "markdown",
   "id": "42c98452",
   "metadata": {},
   "source": [
    "Define the parallel propagated tetrad $(\\dot{z}, n, e_1, e_2)$ on the null geodesic. See the sage file ``Flat space Coulomb tetrad'' for details on computing the form of the tetrad. Check that these vectors satisfy the quasi null orthogonality relations as well the parallel transport condition (that their acceleration vanishes)."
   ]
  },
  {
   "cell_type": "code",
   "execution_count": 27,
   "id": "c81bb43d",
   "metadata": {},
   "outputs": [
    {
     "data": {
      "text/html": [
       "<html>\\(\\displaystyle \\left(\\left[\\frac{1}{m}, \\frac{\\sqrt{-\\frac{\\kappa^{2}}{r^{2}} + 1}}{m}, 0, \\frac{\\kappa}{m r^{2}}\\right], \\left[\\frac{1}{2} \\, m, -\\frac{1}{2} \\, m \\sqrt{-\\frac{\\kappa^{2}}{r^{2}} + 1}, 0, -\\frac{\\kappa m}{2 \\, r^{2}}\\right], \\left[0, 0, \\frac{1}{r}, 0\\right], \\left[0, -\\frac{\\kappa}{r}, 0, \\frac{\\sqrt{-\\frac{\\kappa^{2}}{r^{2}} + 1}}{r}\\right]\\right)\\)</html>"
      ],
      "text/latex": [
       "$\\displaystyle \\left(\\left[\\frac{1}{m}, \\frac{\\sqrt{-\\frac{\\kappa^{2}}{r^{2}} + 1}}{m}, 0, \\frac{\\kappa}{m r^{2}}\\right], \\left[\\frac{1}{2} \\, m, -\\frac{1}{2} \\, m \\sqrt{-\\frac{\\kappa^{2}}{r^{2}} + 1}, 0, -\\frac{\\kappa m}{2 \\, r^{2}}\\right], \\left[0, 0, \\frac{1}{r}, 0\\right], \\left[0, -\\frac{\\kappa}{r}, 0, \\frac{\\sqrt{-\\frac{\\kappa^{2}}{r^{2}} + 1}}{r}\\right]\\right)$"
      ],
      "text/plain": [
       "([1/m, sqrt(-kappa^2/r^2 + 1)/m, 0, kappa/(m*r^2)],\n",
       " [1/2*m, -1/2*m*sqrt(-kappa^2/r^2 + 1), 0, -1/2*kappa*m/r^2],\n",
       " [0, 0, 1/r, 0],\n",
       " [0, -kappa/r, 0, sqrt(-kappa^2/r^2 + 1)/r])"
      ]
     },
     "execution_count": 27,
     "metadata": {},
     "output_type": "execute_result"
    }
   ],
   "source": [
    "zdot = M.vector_field(name=r'\\dot{z}')\n",
    "n = M.vector_field(name='n')\n",
    "e1 = M.vector_field(name='e_1')\n",
    "e2 = M.vector_field(name='e_2')\n",
    "zdot[:] = [1/m, 1/m*sqrt(1 - kap^2/r^2), 0, kap/(m*r^2)]\n",
    "n[:] = [m/2, -m/2*sqrt(1 - kap^2/r^2), 0, -kap*m/(2*r^2)]\n",
    "e1[:] = [0, 0, 1/r, 0]\n",
    "e2[:] = [0, -kap/r, 0, 1/r*sqrt(1 - kap^2/r^2)]\n",
    "zdot[:], n[:], e1[:], e2[:]"
   ]
  },
  {
   "cell_type": "code",
   "execution_count": 28,
   "id": "7ae8bfce",
   "metadata": {},
   "outputs": [
    {
     "data": {
      "text/html": [
       "<html>\\(\\displaystyle \\left(\\begin{array}{llcl} g\\left(\\dot{z},\\dot{z}\\right):& M & \\longrightarrow & \\mathbb{R} \\\\ & \\left(t, r, {\\theta}, {\\phi}\\right) & \\longmapsto & 0 \\end{array}, \\begin{array}{llcl} g\\left(\\dot{z},n\\right):& M & \\longrightarrow & \\mathbb{R} \\\\ & \\left(t, r, {\\theta}, {\\phi}\\right) & \\longmapsto & -1 \\end{array}, \\begin{array}{llcl} g\\left(\\dot{z},e_1\\right):& M & \\longrightarrow & \\mathbb{R} \\\\ & \\left(t, r, {\\theta}, {\\phi}\\right) & \\longmapsto & 0 \\end{array}, \\begin{array}{llcl} g\\left(\\dot{z},e_2\\right):& M & \\longrightarrow & \\mathbb{R} \\\\ & \\left(t, r, {\\theta}, {\\phi}\\right) & \\longmapsto & 0 \\end{array}\\right)\\)</html>"
      ],
      "text/latex": [
       "$\\displaystyle \\left(\\begin{array}{llcl} g\\left(\\dot{z},\\dot{z}\\right):& M & \\longrightarrow & \\mathbb{R} \\\\ & \\left(t, r, {\\theta}, {\\phi}\\right) & \\longmapsto & 0 \\end{array}, \\begin{array}{llcl} g\\left(\\dot{z},n\\right):& M & \\longrightarrow & \\mathbb{R} \\\\ & \\left(t, r, {\\theta}, {\\phi}\\right) & \\longmapsto & -1 \\end{array}, \\begin{array}{llcl} g\\left(\\dot{z},e_1\\right):& M & \\longrightarrow & \\mathbb{R} \\\\ & \\left(t, r, {\\theta}, {\\phi}\\right) & \\longmapsto & 0 \\end{array}, \\begin{array}{llcl} g\\left(\\dot{z},e_2\\right):& M & \\longrightarrow & \\mathbb{R} \\\\ & \\left(t, r, {\\theta}, {\\phi}\\right) & \\longmapsto & 0 \\end{array}\\right)$"
      ],
      "text/plain": [
       "(g(\\dot{z},\\dot{z}): M → ℝ\n",
       "    (t, r, th, ph) ↦ 0,\n",
       " g(\\dot{z},n): M → ℝ\n",
       "    (t, r, th, ph) ↦ -1,\n",
       " g(\\dot{z},e_1): M → ℝ\n",
       "    (t, r, th, ph) ↦ 0,\n",
       " g(\\dot{z},e_2): M → ℝ\n",
       "    (t, r, th, ph) ↦ 0)"
      ]
     },
     "execution_count": 28,
     "metadata": {},
     "output_type": "execute_result"
    }
   ],
   "source": [
    "g(zdot, zdot).display(), g(zdot, n).display(), g(zdot, e1).display(), g(zdot, e2).display()"
   ]
  },
  {
   "cell_type": "code",
   "execution_count": 29,
   "id": "371c4f7d",
   "metadata": {},
   "outputs": [
    {
     "data": {
      "text/html": [
       "<html>\\(\\displaystyle \\left(\\begin{array}{llcl} g\\left(n,n\\right):& M & \\longrightarrow & \\mathbb{R} \\\\ & \\left(t, r, {\\theta}, {\\phi}\\right) & \\longmapsto & 0 \\end{array}, \\begin{array}{llcl} g\\left(n,e_1\\right):& M & \\longrightarrow & \\mathbb{R} \\\\ & \\left(t, r, {\\theta}, {\\phi}\\right) & \\longmapsto & 0 \\end{array}, \\begin{array}{llcl} g\\left(n,e_2\\right):& M & \\longrightarrow & \\mathbb{R} \\\\ & \\left(t, r, {\\theta}, {\\phi}\\right) & \\longmapsto & 0 \\end{array}\\right)\\)</html>"
      ],
      "text/latex": [
       "$\\displaystyle \\left(\\begin{array}{llcl} g\\left(n,n\\right):& M & \\longrightarrow & \\mathbb{R} \\\\ & \\left(t, r, {\\theta}, {\\phi}\\right) & \\longmapsto & 0 \\end{array}, \\begin{array}{llcl} g\\left(n,e_1\\right):& M & \\longrightarrow & \\mathbb{R} \\\\ & \\left(t, r, {\\theta}, {\\phi}\\right) & \\longmapsto & 0 \\end{array}, \\begin{array}{llcl} g\\left(n,e_2\\right):& M & \\longrightarrow & \\mathbb{R} \\\\ & \\left(t, r, {\\theta}, {\\phi}\\right) & \\longmapsto & 0 \\end{array}\\right)$"
      ],
      "text/plain": [
       "(g(n,n): M → ℝ\n",
       "    (t, r, th, ph) ↦ 0,\n",
       " g(n,e_1): M → ℝ\n",
       "    (t, r, th, ph) ↦ 0,\n",
       " g(n,e_2): M → ℝ\n",
       "    (t, r, th, ph) ↦ 0)"
      ]
     },
     "execution_count": 29,
     "metadata": {},
     "output_type": "execute_result"
    }
   ],
   "source": [
    "g(n, n).display(), g(n, e1).display(), g(n, e2).display()"
   ]
  },
  {
   "cell_type": "code",
   "execution_count": 30,
   "id": "f906fbc2",
   "metadata": {},
   "outputs": [
    {
     "data": {
      "text/html": [
       "<html>\\(\\displaystyle \\left(\\begin{array}{llcl} g\\left(e_1,e_1\\right):& M & \\longrightarrow & \\mathbb{R} \\\\ & \\left(t, r, {\\theta}, {\\phi}\\right) & \\longmapsto & 1 \\end{array}, \\begin{array}{llcl} g\\left(e_1,e_2\\right):& M & \\longrightarrow & \\mathbb{R} \\\\ & \\left(t, r, {\\theta}, {\\phi}\\right) & \\longmapsto & 0 \\end{array}, \\begin{array}{llcl} g\\left(e_2,e_2\\right):& M & \\longrightarrow & \\mathbb{R} \\\\ & \\left(t, r, {\\theta}, {\\phi}\\right) & \\longmapsto & 1 \\end{array}\\right)\\)</html>"
      ],
      "text/latex": [
       "$\\displaystyle \\left(\\begin{array}{llcl} g\\left(e_1,e_1\\right):& M & \\longrightarrow & \\mathbb{R} \\\\ & \\left(t, r, {\\theta}, {\\phi}\\right) & \\longmapsto & 1 \\end{array}, \\begin{array}{llcl} g\\left(e_1,e_2\\right):& M & \\longrightarrow & \\mathbb{R} \\\\ & \\left(t, r, {\\theta}, {\\phi}\\right) & \\longmapsto & 0 \\end{array}, \\begin{array}{llcl} g\\left(e_2,e_2\\right):& M & \\longrightarrow & \\mathbb{R} \\\\ & \\left(t, r, {\\theta}, {\\phi}\\right) & \\longmapsto & 1 \\end{array}\\right)$"
      ],
      "text/plain": [
       "(g(e_1,e_1): M → ℝ\n",
       "    (t, r, th, ph) ↦ 1,\n",
       " g(e_1,e_2): M → ℝ\n",
       "    (t, r, th, ph) ↦ 0,\n",
       " g(e_2,e_2): M → ℝ\n",
       "    (t, r, th, ph) ↦ 1)"
      ]
     },
     "execution_count": 30,
     "metadata": {},
     "output_type": "execute_result"
    }
   ],
   "source": [
    "g(e1, e1).display(), g(e1, e2).display(), g(e2, e2).display()"
   ]
  },
  {
   "cell_type": "code",
   "execution_count": 31,
   "id": "b9804ce0",
   "metadata": {},
   "outputs": [
    {
     "data": {
      "text/html": [
       "<html>\\(\\displaystyle \\left(\\left[0, 0, 0, 0\\right], \\left[0, 0, 0, 0\\right], \\left[0, 0, 0, 0\\right], \\left[0, 0, 0, 0\\right]\\right)\\)</html>"
      ],
      "text/latex": [
       "$\\displaystyle \\left(\\left[0, 0, 0, 0\\right], \\left[0, 0, 0, 0\\right], \\left[0, 0, 0, 0\\right], \\left[0, 0, 0, 0\\right]\\right)$"
      ],
      "text/plain": [
       "([0, 0, 0, 0], [0, 0, 0, 0], [0, 0, 0, 0], [0, 0, 0, 0])"
      ]
     },
     "execution_count": 31,
     "metadata": {},
     "output_type": "execute_result"
    }
   ],
   "source": [
    "acc_z = nab(zdot).contract(zdot)\n",
    "acc_n = nab(n).contract(zdot)\n",
    "acc_e1 = nab(e1).contract(zdot)\n",
    "acc_e2 = nab(e2).contract(zdot)\n",
    "acc_z[:], acc_n[:], acc_e1[:], acc_e2[:]"
   ]
  },
  {
   "cell_type": "markdown",
   "id": "fae83605",
   "metadata": {},
   "source": [
    "Using the outside-in approach, the deviation vector at coincidence has the form $[\\xi^{a'}] = \\dot{z}^a [\\partial_{\\epsilon} U] + e^a_i [X^i]$. But from our above analysis, we know that the $\\theta$ component of this vanishes. Thus $[\\xi^{\\theta}] = \\dot{z}^{\\theta} [\\partial_{\\epsilon} U] + e^{\\theta}_i [X^i] = 0$, from which it follows that $[X^1] = 0$."
   ]
  },
  {
   "cell_type": "code",
   "execution_count": 32,
   "id": "168826e3",
   "metadata": {},
   "outputs": [
    {
     "data": {
      "text/html": [
       "<html>\\(\\displaystyle \\left(\\mathrm{D}_{1}\\left(U\\right)\\left(s, 0\\right), \\mathrm{D}_{0}\\left(U\\right)\\left(s, 0\\right), X_{1}\\left(s, 0\\right), X_{2}\\left(s, 0\\right), V\\left(s, 0\\right), \\mathrm{D}_{0}\\left(V\\right)\\left(s, 0\\right)\\right)\\)</html>"
      ],
      "text/latex": [
       "$\\displaystyle \\left(\\mathrm{D}_{1}\\left(U\\right)\\left(s, 0\\right), \\mathrm{D}_{0}\\left(U\\right)\\left(s, 0\\right), X_{1}\\left(s, 0\\right), X_{2}\\left(s, 0\\right), V\\left(s, 0\\right), \\mathrm{D}_{0}\\left(V\\right)\\left(s, 0\\right)\\right)$"
      ],
      "text/plain": [
       "(D[1](U)(s, 0), D[0](U)(s, 0), X_1(s, 0), X_2(s, 0), V(s, 0), D[0](V)(s, 0))"
      ]
     },
     "execution_count": 32,
     "metadata": {},
     "output_type": "execute_result"
    }
   ],
   "source": [
    "depsU0 = U.diff(eps, 1).subs({eps:0})\n",
    "dsU0 = U.diff(s, 1).subs({eps:0})\n",
    "X1_0 = X1.subs({eps:0})\n",
    "X2_0 = X2.subs({eps:0})\n",
    "dsV0 = V.diff(s, 1).subs({eps:0})\n",
    "V0 = V.subs({eps:0})\n",
    "depsU0, dsU0, X1_0, X2_0, V0, dsV0"
   ]
  },
  {
   "cell_type": "code",
   "execution_count": 33,
   "id": "8f2acced",
   "metadata": {},
   "outputs": [
    {
     "data": {
      "text/html": [
       "<html>\\(\\displaystyle \\left[\\frac{\\frac{\\partial\\,U}{\\partial 0}}{m}, -\\frac{\\kappa m X_{2}\\left(s, 0\\right) - \\sqrt{\\kappa + r} \\sqrt{-\\kappa + r} \\frac{\\partial\\,U}{\\partial 0}}{m r}, \\frac{X_{1}\\left(s, 0\\right)}{r}, \\frac{\\sqrt{\\kappa + r} \\sqrt{-\\kappa + r} m X_{2}\\left(s, 0\\right) + \\kappa \\frac{\\partial\\,U}{\\partial 0}}{m r^{2}}\\right]\\)</html>"
      ],
      "text/latex": [
       "$\\displaystyle \\left[\\frac{\\frac{\\partial\\,U}{\\partial 0}}{m}, -\\frac{\\kappa m X_{2}\\left(s, 0\\right) - \\sqrt{\\kappa + r} \\sqrt{-\\kappa + r} \\frac{\\partial\\,U}{\\partial 0}}{m r}, \\frac{X_{1}\\left(s, 0\\right)}{r}, \\frac{\\sqrt{\\kappa + r} \\sqrt{-\\kappa + r} m X_{2}\\left(s, 0\\right) + \\kappa \\frac{\\partial\\,U}{\\partial 0}}{m r^{2}}\\right]$"
      ],
      "text/plain": [
       "[d(U)/d0/m,\n",
       " -(kappa*m*X_2(s, 0) - sqrt(kappa + r)*sqrt(-kappa + r)*d(U)/d0)/(m*r),\n",
       " X_1(s, 0)/r,\n",
       " (sqrt(kappa + r)*sqrt(-kappa + r)*m*X_2(s, 0) + kappa*d(U)/d0)/(m*r^2)]"
      ]
     },
     "execution_count": 33,
     "metadata": {},
     "output_type": "execute_result"
    }
   ],
   "source": [
    "xi_CL_out_in = zdot*depsU0 + e1*X1_0 + e2*X2_0\n",
    "xi_CL_out_in[:]"
   ]
  },
  {
   "cell_type": "markdown",
   "id": "6419e3f0",
   "metadata": {},
   "source": [
    "Now the covariant $\\epsilon$-derivative of the tangent vector $\\partial_s Y$ calculated in the outside-in approach has the coincidence limit $[D_{\\epsilon s} Y^{a'}] = \\dot{z}^a [\\partial_{\\epsilon s} U] + e^a_i [\\partial_s X^i]$. Furthermore, since we know the form of the tangent vector explicitly (in terms of the coordinates and the parameters), we can compute the covariant derivatives through the standard algorithm $D_{\\epsilon} \\partial_s Y^{a'} = \\xi^{b'} \\nabla_{b'} (\\partial_s Y^{a'}) = \\partial_{\\epsilon} (\\partial_s Y^{a'}) + \\Gamma^{a'}{}_{b' c'} \\partial_s Y^{c'} \\xi^{b'}$. We can compute the covariant derivatives and plug the result into the LHS of the outside-in expression mentioned above to arrive at a system of ODEs involving the plane wave coordinate functions. By equating the two equations, we get\n",
    "$[ \\partial_{\\epsilon} (\\partial_s Y^{a'}) + \\Gamma^{a'}{}_{b' c'} \\partial_s Y^{c'} \\xi^{b'} ] = \\dot{z}^a [\\partial_{\\epsilon s} U] + e^a_i [\\partial_s X^i]$.\n",
    "\n",
    "Below, we first compute the covariant deriavtives, and then derive the relevant expressions for the outside-in approach.\n",
    "\n",
    "Define a function that computes the covariant $\\epsilon$-derivative of the input vectors. Note the following: \n",
    "1. the input vector depends on $\\epsilon$ through scalar factors as well as implicitly in the coordinates, for e.g. the $t$-component of the tangent vector $\\partial_U t = \\frac{1}{m} \\bigg ( 1 + \\epsilon \\frac{q Q}{r} \\bigg )$ contains $\\epsilon$ explicitly as well as implicitly (through the coordinate $r$).\n",
    "\n",
    "2. Sage computes covariant derivatives through coordinate derivatives, where the coordinates are independent of parameters. Essentially, Sage computes $\\nabla_{b'} \\chi^{a'} = \\partial_{b'} \\chi^{a'} + \\Gamma^{a'}{}_{b' c'} \\chi^{c'}$. If we naively use the idea that $D_{\\epsilon} = \\xi^{b'} \\nabla_{b'}$, then we miss differentiating scalar factors of $\\epsilon$ that might appear in the components of $\\chi^{a'}$.\n",
    "\n",
    "Thus to account for scalar factors of $\\epsilon$, we compute these separately and add them to the covariant derivative computed by Sage. Thus we consider that the coordinates $Y^{a'}$ are independent of the parameter $\\epsilon$ and then\n",
    "$D_{\\epsilon} \\chi^{a'} = \\partial_{\\epsilon} \\chi^{a'} + \\xi^{b'} \\nabla_{b'} \\chi^{a'}$, where the first term only differentiates explicit factors of $\\epsilon$."
   ]
  },
  {
   "cell_type": "code",
   "execution_count": 34,
   "id": "a84322e7",
   "metadata": {},
   "outputs": [],
   "source": [
    "def D_eps(inp_vec):\n",
    "    D_eps_vec = M.vector_field(name=r'D_{\\epsilon}V')\n",
    "    for i in range(4):\n",
    "        D_eps_vec[i] = inp_vec[i].expr().diff(eps, 1) + nab(inp_vec).contract(xi)[i]\n",
    "    \n",
    "    return D_eps_vec"
   ]
  },
  {
   "cell_type": "markdown",
   "id": "7056caef",
   "metadata": {},
   "source": [
    "At leading order in the outside-in approach, we have $[\\partial_s Y^{a'}] = \\dot{z}^a [\\partial_s U]$. But since we have constructed our system such that the two are equal it follows that $U = s + \\mathcal{O} (\\epsilon)$."
   ]
  },
  {
   "cell_type": "code",
   "execution_count": 35,
   "id": "03222e6e",
   "metadata": {},
   "outputs": [
    {
     "data": {
      "text/html": [
       "<html>\\(\\displaystyle \\left(s, 1\\right)\\)</html>"
      ],
      "text/latex": [
       "$\\displaystyle \\left(s, 1\\right)$"
      ],
      "text/plain": [
       "(s, 1)"
      ]
     },
     "execution_count": 35,
     "metadata": {},
     "output_type": "execute_result"
    }
   ],
   "source": [
    "U_O1 = s\n",
    "dU_O1 = U_O1.diff(s, 1)\n",
    "U_O1, dU_O1"
   ]
  },
  {
   "cell_type": "code",
   "execution_count": 36,
   "id": "e1ff8cad",
   "metadata": {},
   "outputs": [
    {
     "data": {
      "text/html": [
       "<html>\\(\\displaystyle \\left[-\\frac{Q \\epsilon q \\xi_{r}\\left(s, \\epsilon\\right) - Q q r}{m r^{2}}, -\\frac{{\\left(2 \\, Q \\epsilon \\kappa q r^{2} - {\\left(\\epsilon^{2} \\kappa m^{2} - \\kappa\\right)} r^{3} + {\\left(Q^{2} \\epsilon^{2} \\kappa q^{2} - \\kappa^{3}\\right)} r\\right)} \\xi_{{\\rm ph}}\\left(s, \\epsilon\\right) - \\sqrt{Q^{2} \\epsilon^{2} q^{2} + 2 \\, Q \\epsilon q r - {\\left(\\epsilon^{2} m^{2} - 1\\right)} r^{2} - \\kappa^{2}} {\\left(Q^{2} \\epsilon q^{2} r - \\epsilon m^{2} r^{3} + Q q r^{2} - {\\left(Q^{2} \\epsilon^{2} q^{2} + Q \\epsilon q r - \\kappa^{2}\\right)} \\xi_{r}\\left(s, \\epsilon\\right)\\right)}}{2 \\, Q \\epsilon m q r^{3} - {\\left(\\epsilon^{2} m^{3} - m\\right)} r^{4} + {\\left(Q^{2} \\epsilon^{2} m q^{2} - \\kappa^{2} m\\right)} r^{2}}, 0, \\frac{\\sqrt{Q^{2} \\epsilon^{2} q^{2} + 2 \\, Q \\epsilon q r - {\\left(\\epsilon^{2} m^{2} - 1\\right)} r^{2} - \\kappa^{2}} r \\xi_{{\\rm ph}}\\left(s, \\epsilon\\right) - \\kappa \\xi_{r}\\left(s, \\epsilon\\right)}{m r^{3}}\\right]\\)</html>"
      ],
      "text/latex": [
       "$\\displaystyle \\left[-\\frac{Q \\epsilon q \\xi_{r}\\left(s, \\epsilon\\right) - Q q r}{m r^{2}}, -\\frac{{\\left(2 \\, Q \\epsilon \\kappa q r^{2} - {\\left(\\epsilon^{2} \\kappa m^{2} - \\kappa\\right)} r^{3} + {\\left(Q^{2} \\epsilon^{2} \\kappa q^{2} - \\kappa^{3}\\right)} r\\right)} \\xi_{{\\rm ph}}\\left(s, \\epsilon\\right) - \\sqrt{Q^{2} \\epsilon^{2} q^{2} + 2 \\, Q \\epsilon q r - {\\left(\\epsilon^{2} m^{2} - 1\\right)} r^{2} - \\kappa^{2}} {\\left(Q^{2} \\epsilon q^{2} r - \\epsilon m^{2} r^{3} + Q q r^{2} - {\\left(Q^{2} \\epsilon^{2} q^{2} + Q \\epsilon q r - \\kappa^{2}\\right)} \\xi_{r}\\left(s, \\epsilon\\right)\\right)}}{2 \\, Q \\epsilon m q r^{3} - {\\left(\\epsilon^{2} m^{3} - m\\right)} r^{4} + {\\left(Q^{2} \\epsilon^{2} m q^{2} - \\kappa^{2} m\\right)} r^{2}}, 0, \\frac{\\sqrt{Q^{2} \\epsilon^{2} q^{2} + 2 \\, Q \\epsilon q r - {\\left(\\epsilon^{2} m^{2} - 1\\right)} r^{2} - \\kappa^{2}} r \\xi_{{\\rm ph}}\\left(s, \\epsilon\\right) - \\kappa \\xi_{r}\\left(s, \\epsilon\\right)}{m r^{3}}\\right]$"
      ],
      "text/plain": [
       "[-(Q*epsilon*q*xi_r(s, epsilon) - Q*q*r)/(m*r^2),\n",
       " -((2*Q*epsilon*kappa*q*r^2 - (epsilon^2*kappa*m^2 - kappa)*r^3 + (Q^2*epsilon^2*kappa*q^2 - kappa^3)*r)*xi_ph(s, epsilon) - sqrt(Q^2*epsilon^2*q^2 + 2*Q*epsilon*q*r - (epsilon^2*m^2 - 1)*r^2 - kappa^2)*(Q^2*epsilon*q^2*r - epsilon*m^2*r^3 + Q*q*r^2 - (Q^2*epsilon^2*q^2 + Q*epsilon*q*r - kappa^2)*xi_r(s, epsilon)))/(2*Q*epsilon*m*q*r^3 - (epsilon^2*m^3 - m)*r^4 + (Q^2*epsilon^2*m*q^2 - kappa^2*m)*r^2),\n",
       " 0,\n",
       " (sqrt(Q^2*epsilon^2*q^2 + 2*Q*epsilon*q*r - (epsilon^2*m^2 - 1)*r^2 - kappa^2)*r*xi_ph(s, epsilon) - kappa*xi_r(s, epsilon))/(m*r^3)]"
      ]
     },
     "execution_count": 36,
     "metadata": {},
     "output_type": "execute_result"
    }
   ],
   "source": [
    "Deps_dsY = D_eps(dsY)\n",
    "Deps_dsY[:]"
   ]
  },
  {
   "cell_type": "code",
   "execution_count": 37,
   "id": "af992ea4",
   "metadata": {},
   "outputs": [
    {
     "data": {
      "text/html": [
       "<html>\\(\\displaystyle \\left[\\frac{Q q}{m r}, -\\frac{{\\left(\\kappa^{3} r - \\kappa r^{3}\\right)} \\xi_{{\\rm ph}}\\left(s, 0\\right) + {\\left(Q q r^{2} + \\kappa^{2} \\xi_{r}\\left(s, 0\\right)\\right)} \\sqrt{-\\kappa^{2} + r^{2}}}{\\kappa^{2} m r^{2} - m r^{4}}, 0, \\frac{\\sqrt{-\\kappa^{2} + r^{2}} r \\xi_{{\\rm ph}}\\left(s, 0\\right) - \\kappa \\xi_{r}\\left(s, 0\\right)}{m r^{3}}\\right]\\)</html>"
      ],
      "text/latex": [
       "$\\displaystyle \\left[\\frac{Q q}{m r}, -\\frac{{\\left(\\kappa^{3} r - \\kappa r^{3}\\right)} \\xi_{{\\rm ph}}\\left(s, 0\\right) + {\\left(Q q r^{2} + \\kappa^{2} \\xi_{r}\\left(s, 0\\right)\\right)} \\sqrt{-\\kappa^{2} + r^{2}}}{\\kappa^{2} m r^{2} - m r^{4}}, 0, \\frac{\\sqrt{-\\kappa^{2} + r^{2}} r \\xi_{{\\rm ph}}\\left(s, 0\\right) - \\kappa \\xi_{r}\\left(s, 0\\right)}{m r^{3}}\\right]$"
      ],
      "text/plain": [
       "[Q*q/(m*r),\n",
       " -((kappa^3*r - kappa*r^3)*xi_ph(s, 0) + (Q*q*r^2 + kappa^2*xi_r(s, 0))*sqrt(-kappa^2 + r^2))/(kappa^2*m*r^2 - m*r^4),\n",
       " 0,\n",
       " (sqrt(-kappa^2 + r^2)*r*xi_ph(s, 0) - kappa*xi_r(s, 0))/(m*r^3)]"
      ]
     },
     "execution_count": 37,
     "metadata": {},
     "output_type": "execute_result"
    }
   ],
   "source": [
    "Deps_dsY0 = Deps_dsY.copy()\n",
    "Deps_dsY0.apply_map(lambda x: x.subs({eps:0}))\n",
    "Deps_dsY0[:]"
   ]
  },
  {
   "cell_type": "code",
   "execution_count": 38,
   "id": "94f2784e",
   "metadata": {},
   "outputs": [
    {
     "data": {
      "text/html": [
       "<html>\\(\\displaystyle \\left(\\mathrm{D}_{0, 1}\\left(U\\right)\\left(s, 0\\right), \\mathrm{D}_{0}\\left(X_{1}\\right)\\left(s, 0\\right), \\mathrm{D}_{0}\\left(X_{2}\\right)\\left(s, 0\\right)\\right)\\)</html>"
      ],
      "text/latex": [
       "$\\displaystyle \\left(\\mathrm{D}_{0, 1}\\left(U\\right)\\left(s, 0\\right), \\mathrm{D}_{0}\\left(X_{1}\\right)\\left(s, 0\\right), \\mathrm{D}_{0}\\left(X_{2}\\right)\\left(s, 0\\right)\\right)$"
      ],
      "text/plain": [
       "(D[0, 1](U)(s, 0), D[0](X_1)(s, 0), D[0](X_2)(s, 0))"
      ]
     },
     "execution_count": 38,
     "metadata": {},
     "output_type": "execute_result"
    }
   ],
   "source": [
    "deps_dsU0 = U.diff(s, 1).diff(eps, 1).subs({eps:0})\n",
    "dsX1_0 = X1.diff(s, 1).subs({eps:0})\n",
    "dsX2_0 = X2.diff(s, 1).subs({eps:0})\n",
    "dsV0 = V.diff(s, 1).subs({eps:0})\n",
    "deps_dsU0, dsX1_0, dsX2_0"
   ]
  },
  {
   "cell_type": "markdown",
   "id": "8c776392",
   "metadata": {},
   "source": [
    "Define the vector field that is the coincidence limit of the $\\epsilon$-derivative of the tangent vector, $[D_{\\epsilon s} Y^{a'}] = \\dot{z}^a [\\partial_{\\epsilon s} U] + e^a_i [\\partial_s X^i]$."
   ]
  },
  {
   "cell_type": "code",
   "execution_count": 39,
   "id": "8a049715",
   "metadata": {},
   "outputs": [
    {
     "data": {
      "text/html": [
       "<html>\\(\\displaystyle \\left[\\frac{\\frac{\\partial^2\\,U}{\\partial s\\partial 0}}{m}, -\\frac{\\kappa m \\frac{\\partial\\,X_{2}}{\\partial s} - \\sqrt{\\kappa + r} \\sqrt{-\\kappa + r} \\frac{\\partial^2\\,U}{\\partial s\\partial 0}}{m r}, \\frac{\\frac{\\partial\\,X_{1}}{\\partial s}}{r}, \\frac{\\sqrt{\\kappa + r} \\sqrt{-\\kappa + r} m \\frac{\\partial\\,X_{2}}{\\partial s} + \\kappa \\frac{\\partial^2\\,U}{\\partial s\\partial 0}}{m r^{2}}\\right]\\)</html>"
      ],
      "text/latex": [
       "$\\displaystyle \\left[\\frac{\\frac{\\partial^2\\,U}{\\partial s\\partial 0}}{m}, -\\frac{\\kappa m \\frac{\\partial\\,X_{2}}{\\partial s} - \\sqrt{\\kappa + r} \\sqrt{-\\kappa + r} \\frac{\\partial^2\\,U}{\\partial s\\partial 0}}{m r}, \\frac{\\frac{\\partial\\,X_{1}}{\\partial s}}{r}, \\frac{\\sqrt{\\kappa + r} \\sqrt{-\\kappa + r} m \\frac{\\partial\\,X_{2}}{\\partial s} + \\kappa \\frac{\\partial^2\\,U}{\\partial s\\partial 0}}{m r^{2}}\\right]$"
      ],
      "text/plain": [
       "[d^2(U)/dsd0/m,\n",
       " -(kappa*m*d(X_2)/ds - sqrt(kappa + r)*sqrt(-kappa + r)*d^2(U)/dsd0)/(m*r),\n",
       " d(X_1)/ds/r,\n",
       " (sqrt(kappa + r)*sqrt(-kappa + r)*m*d(X_2)/ds + kappa*d^2(U)/dsd0)/(m*r^2)]"
      ]
     },
     "execution_count": 39,
     "metadata": {},
     "output_type": "execute_result"
    }
   ],
   "source": [
    "Deps_dsY_CL_out_in = M.vector_field(name=r'D_{\\epsilon s} Y_0')\n",
    "Deps_dsY_CL_out_in = zdot*deps_dsU0 + e1*dsX1_0 + e2*dsX2_0\n",
    "Deps_dsY_CL_out_in[:]"
   ]
  },
  {
   "cell_type": "markdown",
   "id": "1edb6224",
   "metadata": {},
   "source": [
    "We now compare components of the above two expressions to derive the form of the functions $(U, V, X^1, X^2)$ at the next order. First comparing the $a' = t$ component, we get"
   ]
  },
  {
   "cell_type": "code",
   "execution_count": 40,
   "id": "fa683419",
   "metadata": {},
   "outputs": [
    {
     "data": {
      "text/html": [
       "<html>\\(\\displaystyle \\frac{Q q}{m r} = \\frac{\\mathrm{D}_{0, 1}\\left(U\\right)\\left(s, 0\\right)}{m}\\)</html>"
      ],
      "text/latex": [
       "$\\displaystyle \\frac{Q q}{m r} = \\frac{\\mathrm{D}_{0, 1}\\left(U\\right)\\left(s, 0\\right)}{m}$"
      ],
      "text/plain": [
       "Q*q/(m*r) == D[0, 1](U)(s, 0)/m"
      ]
     },
     "execution_count": 40,
     "metadata": {},
     "output_type": "execute_result"
    }
   ],
   "source": [
    "O1_t_eq1 = Deps_dsY0[0].expr() == Deps_dsY_CL_out_in[0].expr()\n",
    "O1_t_eq1"
   ]
  },
  {
   "cell_type": "markdown",
   "id": "b5eca705",
   "metadata": {},
   "source": [
    "To solve this DE, substitute the function $f_U (s) \\equiv \\partial_{\\epsilon} U$, and consequently $\\partial_s f_U = \\partial_{\\epsilon s} U$. Keep in mind that Sage uses the notation $\\partial_s U (s, \\epsilon) = D_0 (U) (s, \\epsilon)$ and $\\partial_{\\epsilon} U (s, \\epsilon) = D_1 (U) (s, \\epsilon)$, where the function $U$ takes input $(s, \\epsilon)$, i.e. $s$ occupies entry number $0$ in the list $(s, \\epsilon)$ and thus $\\partial_s \\equiv D_0$."
   ]
  },
  {
   "cell_type": "code",
   "execution_count": 41,
   "id": "2c0ee111",
   "metadata": {},
   "outputs": [
    {
     "data": {
      "text/html": [
       "<html>\\(\\displaystyle \\left(f_{U}\\left(s\\right), \\frac{\\partial}{\\partial s}f_{U}\\left(s\\right)\\right)\\)</html>"
      ],
      "text/latex": [
       "$\\displaystyle \\left(f_{U}\\left(s\\right), \\frac{\\partial}{\\partial s}f_{U}\\left(s\\right)\\right)$"
      ],
      "text/plain": [
       "(f_U(s), diff(f_U(s), s))"
      ]
     },
     "execution_count": 41,
     "metadata": {},
     "output_type": "execute_result"
    }
   ],
   "source": [
    "fU = function('f_U')(s)\n",
    "dfU = fU.diff(s, 1)\n",
    "fU, dfU"
   ]
  },
  {
   "cell_type": "code",
   "execution_count": 42,
   "id": "113a2ced",
   "metadata": {},
   "outputs": [
    {
     "data": {
      "text/html": [
       "<html>\\(\\displaystyle \\frac{Q q}{\\sqrt{\\kappa^{2} + \\frac{s^{2}}{m^{2}}} m} = \\frac{\\frac{\\partial}{\\partial s}f_{U}\\left(s\\right)}{m}\\)</html>"
      ],
      "text/latex": [
       "$\\displaystyle \\frac{Q q}{\\sqrt{\\kappa^{2} + \\frac{s^{2}}{m^{2}}} m} = \\frac{\\frac{\\partial}{\\partial s}f_{U}\\left(s\\right)}{m}$"
      ],
      "text/plain": [
       "Q*q/(sqrt(kappa^2 + s^2/m^2)*m) == diff(f_U(s), s)/m"
      ]
     },
     "execution_count": 42,
     "metadata": {},
     "output_type": "execute_result"
    }
   ],
   "source": [
    "O1_t_eq2 = O1_t_eq1.lhs().subs({r:r0_sol}) == O1_t_eq1.rhs().subs({deps_dsU0:dfU})\n",
    "O1_t_eq2"
   ]
  },
  {
   "cell_type": "code",
   "execution_count": 43,
   "id": "0713dbf0",
   "metadata": {},
   "outputs": [
    {
     "data": {
      "text/html": [
       "<html>\\(\\displaystyle Q m q \\operatorname{arsinh}\\left(\\frac{s}{\\kappa m}\\right) + C\\)</html>"
      ],
      "text/latex": [
       "$\\displaystyle Q m q \\operatorname{arsinh}\\left(\\frac{s}{\\kappa m}\\right) + C$"
      ],
      "text/plain": [
       "Q*m*q*arcsinh(s/(kappa*m)) + _C"
      ]
     },
     "execution_count": 43,
     "metadata": {},
     "output_type": "execute_result"
    }
   ],
   "source": [
    "desolve(O1_t_eq2, fU, ivar=s)"
   ]
  },
  {
   "cell_type": "markdown",
   "id": "7e52498a",
   "metadata": {},
   "source": [
    "Thus the first order correction gives $U (s, \\epsilon) = s + \\epsilon m q Q arcsinh \\big (\\frac{s}{\\kappa m} \\big) + \\mathcal{O} (\\epsilon^2)$. We next compare the $a' = r$ component of the covariant derivative expressions."
   ]
  },
  {
   "cell_type": "code",
   "execution_count": 44,
   "id": "5ce6cc58",
   "metadata": {},
   "outputs": [
    {
     "data": {
      "text/html": [
       "<html>\\(\\displaystyle \\left(Q \\epsilon m q \\operatorname{arsinh}\\left(\\frac{s}{\\kappa m}\\right) + s, 1, Q m q \\operatorname{arsinh}\\left(\\frac{s}{\\kappa m}\\right), \\frac{Q q}{\\kappa \\sqrt{\\frac{s^{2}}{\\kappa^{2} m^{2}} + 1}}\\right)\\)</html>"
      ],
      "text/latex": [
       "$\\displaystyle \\left(Q \\epsilon m q \\operatorname{arsinh}\\left(\\frac{s}{\\kappa m}\\right) + s, 1, Q m q \\operatorname{arsinh}\\left(\\frac{s}{\\kappa m}\\right), \\frac{Q q}{\\kappa \\sqrt{\\frac{s^{2}}{\\kappa^{2} m^{2}} + 1}}\\right)$"
      ],
      "text/plain": [
       "(Q*epsilon*m*q*arcsinh(s/(kappa*m)) + s,\n",
       " 1,\n",
       " Q*m*q*arcsinh(s/(kappa*m)),\n",
       " Q*q/(kappa*sqrt(s^2/(kappa^2*m^2) + 1)))"
      ]
     },
     "execution_count": 44,
     "metadata": {},
     "output_type": "execute_result"
    }
   ],
   "source": [
    "U_Oeps = s + eps*m*q*Q*asinh(s/(kap*m))\n",
    "dsU_Oeps_0 = U_Oeps.diff(s, 1).subs({eps:0})\n",
    "deps_U_Oeps_0 = U_Oeps.diff(eps, 1).subs({eps:0})\n",
    "deps_dsU_Oeps = U_Oeps.diff(s, 1).diff(eps, 1).subs({eps:0})\n",
    "U_Oeps, dsU_Oeps_0, deps_U_Oeps_0, deps_dsU_Oeps"
   ]
  },
  {
   "cell_type": "code",
   "execution_count": 45,
   "id": "f9e499b2",
   "metadata": {},
   "outputs": [
    {
     "data": {
      "text/html": [
       "<html>\\(\\displaystyle -\\frac{{\\left(\\kappa^{3} r - \\kappa r^{3}\\right)} \\xi_{{\\rm ph}}\\left(s, 0\\right) + {\\left(Q q r^{2} + \\kappa^{2} \\xi_{r}\\left(s, 0\\right)\\right)} \\sqrt{-\\kappa^{2} + r^{2}}}{\\kappa^{2} m r^{2} - m r^{4}} = -\\frac{\\kappa m \\mathrm{D}_{0}\\left(X_{2}\\right)\\left(s, 0\\right) - \\sqrt{\\kappa + r} \\sqrt{-\\kappa + r} \\mathrm{D}_{0, 1}\\left(U\\right)\\left(s, 0\\right)}{m r}\\)</html>"
      ],
      "text/latex": [
       "$\\displaystyle -\\frac{{\\left(\\kappa^{3} r - \\kappa r^{3}\\right)} \\xi_{{\\rm ph}}\\left(s, 0\\right) + {\\left(Q q r^{2} + \\kappa^{2} \\xi_{r}\\left(s, 0\\right)\\right)} \\sqrt{-\\kappa^{2} + r^{2}}}{\\kappa^{2} m r^{2} - m r^{4}} = -\\frac{\\kappa m \\mathrm{D}_{0}\\left(X_{2}\\right)\\left(s, 0\\right) - \\sqrt{\\kappa + r} \\sqrt{-\\kappa + r} \\mathrm{D}_{0, 1}\\left(U\\right)\\left(s, 0\\right)}{m r}$"
      ],
      "text/plain": [
       "-((kappa^3*r - kappa*r^3)*xi_ph(s, 0) + (Q*q*r^2 + kappa^2*xi_r(s, 0))*sqrt(-kappa^2 + r^2))/(kappa^2*m*r^2 - m*r^4) == -(kappa*m*D[0](X_2)(s, 0) - sqrt(kappa + r)*sqrt(-kappa + r)*D[0, 1](U)(s, 0))/(m*r)"
      ]
     },
     "execution_count": 45,
     "metadata": {},
     "output_type": "execute_result"
    }
   ],
   "source": [
    "O1_r_eq1 = Deps_dsY0[1].expr() == Deps_dsY_CL_out_in[1].expr()\n",
    "O1_r_eq1"
   ]
  },
  {
   "cell_type": "code",
   "execution_count": 46,
   "id": "97f52d80",
   "metadata": {},
   "outputs": [
    {
     "data": {
      "text/html": [
       "<html>\\(\\displaystyle \\left(\\xi_{r}\\left(s, 0\\right), \\xi_{{\\rm ph}}\\left(s, 0\\right)\\right)\\)</html>"
      ],
      "text/latex": [
       "$\\displaystyle \\left(\\xi_{r}\\left(s, 0\\right), \\xi_{{\\rm ph}}\\left(s, 0\\right)\\right)$"
      ],
      "text/plain": [
       "(xi_r(s, 0), xi_ph(s, 0))"
      ]
     },
     "execution_count": 46,
     "metadata": {},
     "output_type": "execute_result"
    }
   ],
   "source": [
    "xi_r0 = xi_r.subs({eps:0})\n",
    "xi_ph0 = xi_ph.subs({eps:0})\n",
    "xi_r0, xi_ph0"
   ]
  },
  {
   "cell_type": "code",
   "execution_count": 47,
   "id": "c14ae381",
   "metadata": {},
   "outputs": [
    {
     "data": {
      "text/html": [
       "<html>\\(\\displaystyle -\\frac{\\kappa m X_{2}\\left(s, 0\\right)}{\\sqrt{\\kappa^{2} m^{2} + s^{2}} s} + \\frac{Q q}{s}\\)</html>"
      ],
      "text/latex": [
       "$\\displaystyle -\\frac{\\kappa m X_{2}\\left(s, 0\\right)}{\\sqrt{\\kappa^{2} m^{2} + s^{2}} s} + \\frac{Q q}{s}$"
      ],
      "text/plain": [
       "-kappa*m*X_2(s, 0)/(sqrt(kappa^2*m^2 + s^2)*s) + Q*q/s"
      ]
     },
     "execution_count": 47,
     "metadata": {},
     "output_type": "execute_result"
    }
   ],
   "source": [
    "O1_r_eq1_simp_lhs = O1_r_eq1.lhs().subs({xi_r0:xi_CL_out_in[1].expr()}).subs({xi_ph0:xi_CL_out_in[3].expr()})\\\n",
    ".subs({r:r0_sol}).maxima_methods().rootscontract().canonicalize_radical().expand()\n",
    "O1_r_eq1_simp_lhs"
   ]
  },
  {
   "cell_type": "code",
   "execution_count": 48,
   "id": "56061f4f",
   "metadata": {},
   "outputs": [
    {
     "data": {
      "text/html": [
       "<html>\\(\\displaystyle -\\frac{\\kappa m \\mathrm{D}_{0}\\left(X_{2}\\right)\\left(s, 0\\right)}{\\sqrt{\\kappa^{2} m^{2} + s^{2}}} + \\frac{Q q s}{\\kappa^{2} m^{2} + s^{2}}\\)</html>"
      ],
      "text/latex": [
       "$\\displaystyle -\\frac{\\kappa m \\mathrm{D}_{0}\\left(X_{2}\\right)\\left(s, 0\\right)}{\\sqrt{\\kappa^{2} m^{2} + s^{2}}} + \\frac{Q q s}{\\kappa^{2} m^{2} + s^{2}}$"
      ],
      "text/plain": [
       "-kappa*m*D[0](X_2)(s, 0)/sqrt(kappa^2*m^2 + s^2) + Q*q*s/(kappa^2*m^2 + s^2)"
      ]
     },
     "execution_count": 48,
     "metadata": {},
     "output_type": "execute_result"
    }
   ],
   "source": [
    "O1_r_eq1_simp_rhs = O1_r_eq1.rhs().subs({deps_dsU0:deps_dsU_Oeps}).subs({r:r0_sol}).maxima_methods()\\\n",
    ".rootscontract().canonicalize_radical().expand()\n",
    "O1_r_eq1_simp_rhs"
   ]
  },
  {
   "cell_type": "code",
   "execution_count": 49,
   "id": "23ef35bd",
   "metadata": {},
   "outputs": [
    {
     "data": {
      "text/html": [
       "<html>\\(\\displaystyle -\\frac{\\kappa m X_{2}\\left(s, 0\\right)}{\\sqrt{\\kappa^{2} m^{2} + s^{2}} s} + \\frac{Q q}{s} = -\\frac{\\kappa m \\mathrm{D}_{0}\\left(X_{2}\\right)\\left(s, 0\\right)}{\\sqrt{\\kappa^{2} m^{2} + s^{2}}} + \\frac{Q q s}{\\kappa^{2} m^{2} + s^{2}}\\)</html>"
      ],
      "text/latex": [
       "$\\displaystyle -\\frac{\\kappa m X_{2}\\left(s, 0\\right)}{\\sqrt{\\kappa^{2} m^{2} + s^{2}} s} + \\frac{Q q}{s} = -\\frac{\\kappa m \\mathrm{D}_{0}\\left(X_{2}\\right)\\left(s, 0\\right)}{\\sqrt{\\kappa^{2} m^{2} + s^{2}}} + \\frac{Q q s}{\\kappa^{2} m^{2} + s^{2}}$"
      ],
      "text/plain": [
       "-kappa*m*X_2(s, 0)/(sqrt(kappa^2*m^2 + s^2)*s) + Q*q/s == -kappa*m*D[0](X_2)(s, 0)/sqrt(kappa^2*m^2 + s^2) + Q*q*s/(kappa^2*m^2 + s^2)"
      ]
     },
     "execution_count": 49,
     "metadata": {},
     "output_type": "execute_result"
    }
   ],
   "source": [
    "O1_r_eq2 = O1_r_eq1_simp_lhs == O1_r_eq1_simp_rhs\n",
    "O1_r_eq2"
   ]
  },
  {
   "cell_type": "markdown",
   "id": "769bf49e",
   "metadata": {},
   "source": [
    "To reduce this to an ODE, introduce the function $f_2 (s) \\equiv X^2 (s, \\epsilon = 0)$, so that $D_0 (X^2) (s, 0) = \\partial_s f_2$."
   ]
  },
  {
   "cell_type": "code",
   "execution_count": 50,
   "id": "350a37a8",
   "metadata": {},
   "outputs": [
    {
     "data": {
      "text/html": [
       "<html>\\(\\displaystyle \\left(f_{2}\\left(s\\right), \\frac{\\partial}{\\partial s}f_{2}\\left(s\\right)\\right)\\)</html>"
      ],
      "text/latex": [
       "$\\displaystyle \\left(f_{2}\\left(s\\right), \\frac{\\partial}{\\partial s}f_{2}\\left(s\\right)\\right)$"
      ],
      "text/plain": [
       "(f_2(s), diff(f_2(s), s))"
      ]
     },
     "execution_count": 50,
     "metadata": {},
     "output_type": "execute_result"
    }
   ],
   "source": [
    "f2 = function('f_2')(s)\n",
    "df2 = f2.diff(s, 1)\n",
    "f2, df2"
   ]
  },
  {
   "cell_type": "code",
   "execution_count": 51,
   "id": "7b3c8d8e",
   "metadata": {},
   "outputs": [
    {
     "data": {
      "text/html": [
       "<html>\\(\\displaystyle -\\frac{\\kappa m f_{2}\\left(s\\right)}{\\sqrt{\\kappa^{2} m^{2} + s^{2}} s} + \\frac{Q q}{s} = -\\frac{\\kappa m \\frac{\\partial}{\\partial s}f_{2}\\left(s\\right)}{\\sqrt{\\kappa^{2} m^{2} + s^{2}}} + \\frac{Q q s}{\\kappa^{2} m^{2} + s^{2}}\\)</html>"
      ],
      "text/latex": [
       "$\\displaystyle -\\frac{\\kappa m f_{2}\\left(s\\right)}{\\sqrt{\\kappa^{2} m^{2} + s^{2}} s} + \\frac{Q q}{s} = -\\frac{\\kappa m \\frac{\\partial}{\\partial s}f_{2}\\left(s\\right)}{\\sqrt{\\kappa^{2} m^{2} + s^{2}}} + \\frac{Q q s}{\\kappa^{2} m^{2} + s^{2}}$"
      ],
      "text/plain": [
       "-kappa*m*f_2(s)/(sqrt(kappa^2*m^2 + s^2)*s) + Q*q/s == -kappa*m*diff(f_2(s), s)/sqrt(kappa^2*m^2 + s^2) + Q*q*s/(kappa^2*m^2 + s^2)"
      ]
     },
     "execution_count": 51,
     "metadata": {},
     "output_type": "execute_result"
    }
   ],
   "source": [
    "O1_r_eq3 = O1_r_eq2.subs({X2.subs({eps:0}):f2}).subs({dsX2_0:df2})\n",
    "O1_r_eq3"
   ]
  },
  {
   "cell_type": "code",
   "execution_count": 52,
   "id": "24d71403",
   "metadata": {},
   "outputs": [
    {
     "data": {
      "text/html": [
       "<html>\\(\\displaystyle {\\left(C + \\frac{\\sqrt{\\kappa^{2} m^{2} + s^{2}} Q q}{\\kappa m s}\\right)} s\\)</html>"
      ],
      "text/latex": [
       "$\\displaystyle {\\left(C + \\frac{\\sqrt{\\kappa^{2} m^{2} + s^{2}} Q q}{\\kappa m s}\\right)} s$"
      ],
      "text/plain": [
       "(_C + sqrt(kappa^2*m^2 + s^2)*Q*q/(kappa*m*s))*s"
      ]
     },
     "execution_count": 52,
     "metadata": {},
     "output_type": "execute_result"
    }
   ],
   "source": [
    "f2_sol = desolve(O1_r_eq3, f2, ivar=s)\n",
    "f2_sol"
   ]
  },
  {
   "cell_type": "markdown",
   "id": "3a30d311",
   "metadata": {},
   "source": [
    "Thus the leading order form of the coordinate $X^2$ is $X^2 (s, \\epsilon) = C_2 s + \\frac{qQ}{\\kappa m} \\sqrt{\\kappa^2 m^2 + s^2}$, where the constant $C_2$ is to be determined by choosing appropriate initial conditions for the timelike curves."
   ]
  },
  {
   "cell_type": "code",
   "execution_count": 53,
   "id": "e32955ac",
   "metadata": {},
   "outputs": [
    {
     "data": {
      "text/html": [
       "<html>\\(\\displaystyle C_{2} s + \\frac{\\sqrt{\\kappa^{2} m^{2} + s^{2}} Q q}{\\kappa m}\\)</html>"
      ],
      "text/latex": [
       "$\\displaystyle C_{2} s + \\frac{\\sqrt{\\kappa^{2} m^{2} + s^{2}} Q q}{\\kappa m}$"
      ],
      "text/plain": [
       "C_2*s + sqrt(kappa^2*m^2 + s^2)*Q*q/(kappa*m)"
      ]
     },
     "execution_count": 53,
     "metadata": {},
     "output_type": "execute_result"
    }
   ],
   "source": [
    "C2 = var('C_2')\n",
    "X2_O1 = C2*s + q*Q*sqrt(kap^2*m^2 + s^2)/(kap*m)\n",
    "X2_O1"
   ]
  },
  {
   "cell_type": "markdown",
   "id": "1cab6b1b",
   "metadata": {},
   "source": [
    "Next, we compare the $a' = \\theta$ component of the covariant derivative expressions."
   ]
  },
  {
   "cell_type": "code",
   "execution_count": 54,
   "id": "1af1f045",
   "metadata": {},
   "outputs": [
    {
     "data": {
      "text/html": [
       "<html>\\(\\displaystyle 0 = \\frac{\\mathrm{D}_{0}\\left(X_{1}\\right)\\left(s, 0\\right)}{r}\\)</html>"
      ],
      "text/latex": [
       "$\\displaystyle 0 = \\frac{\\mathrm{D}_{0}\\left(X_{1}\\right)\\left(s, 0\\right)}{r}$"
      ],
      "text/plain": [
       "0 == D[0](X_1)(s, 0)/r"
      ]
     },
     "execution_count": 54,
     "metadata": {},
     "output_type": "execute_result"
    }
   ],
   "source": [
    "O1_th_eq1 = Deps_dsY0[2].expr() == Deps_dsY_CL_out_in[2].expr()\n",
    "O1_th_eq1"
   ]
  },
  {
   "cell_type": "markdown",
   "id": "82d6b8e2",
   "metadata": {},
   "source": [
    "This clearly implies that $X^1 (s, \\epsilon) = C_1 + \\mathcal{O} (\\epsilon)$, for some constant $C_1$. However, the $\\theta$ component of the deviation vector $\\xi^{\\theta} = \\partial_{\\epsilon} \\theta = 0$ since $\\theta = \\pi/2$ is fixed. But from the outside-in coincidence limit, this corresponds to $[X^1] = X^1 (s, \\epsilon = 0) = 0$."
   ]
  },
  {
   "cell_type": "code",
   "execution_count": 55,
   "id": "5bdea7ce",
   "metadata": {},
   "outputs": [
    {
     "data": {
      "text/html": [
       "<html>\\(\\displaystyle 0\\)</html>"
      ],
      "text/latex": [
       "$\\displaystyle 0$"
      ],
      "text/plain": [
       "0"
      ]
     },
     "execution_count": 55,
     "metadata": {},
     "output_type": "execute_result"
    }
   ],
   "source": [
    "X1_O1 = 0\n",
    "X1_O1"
   ]
  },
  {
   "cell_type": "markdown",
   "id": "9e2772a0",
   "metadata": {},
   "source": [
    "Note that we have obtained $U$ at $\\mathcal{O} (\\epsilon)$ and the spatial coordinates $X^i$ at $\\mathcal{O} (1)$. This is all the information we can obtain from the first order results (since the first contribution of $V$ only appears at $\\mathcal{}O (\\epsilon^2)$). Just to check, we will compare the $a' = \\phi$ component of the covariant derivative expressions."
   ]
  },
  {
   "cell_type": "code",
   "execution_count": 56,
   "id": "89bd0d36",
   "metadata": {},
   "outputs": [
    {
     "data": {
      "text/html": [
       "<html>\\(\\displaystyle \\frac{\\sqrt{-\\kappa^{2} + r^{2}} r \\xi_{{\\rm ph}}\\left(s, 0\\right) - \\kappa \\xi_{r}\\left(s, 0\\right)}{m r^{3}} = \\frac{\\sqrt{\\kappa + r} \\sqrt{-\\kappa + r} m \\mathrm{D}_{0}\\left(X_{2}\\right)\\left(s, 0\\right) + \\kappa \\mathrm{D}_{0, 1}\\left(U\\right)\\left(s, 0\\right)}{m r^{2}}\\)</html>"
      ],
      "text/latex": [
       "$\\displaystyle \\frac{\\sqrt{-\\kappa^{2} + r^{2}} r \\xi_{{\\rm ph}}\\left(s, 0\\right) - \\kappa \\xi_{r}\\left(s, 0\\right)}{m r^{3}} = \\frac{\\sqrt{\\kappa + r} \\sqrt{-\\kappa + r} m \\mathrm{D}_{0}\\left(X_{2}\\right)\\left(s, 0\\right) + \\kappa \\mathrm{D}_{0, 1}\\left(U\\right)\\left(s, 0\\right)}{m r^{2}}$"
      ],
      "text/plain": [
       "(sqrt(-kappa^2 + r^2)*r*xi_ph(s, 0) - kappa*xi_r(s, 0))/(m*r^3) == (sqrt(kappa + r)*sqrt(-kappa + r)*m*D[0](X_2)(s, 0) + kappa*D[0, 1](U)(s, 0))/(m*r^2)"
      ]
     },
     "execution_count": 56,
     "metadata": {},
     "output_type": "execute_result"
    }
   ],
   "source": [
    "O1_ph_eq1 = Deps_dsY0[3].expr() == Deps_dsY_CL_out_in[3].expr()\n",
    "O1_ph_eq1"
   ]
  },
  {
   "cell_type": "code",
   "execution_count": 57,
   "id": "5b2d6112",
   "metadata": {},
   "outputs": [
    {
     "data": {
      "text/html": [
       "<html>\\(\\displaystyle \\frac{m X_{2}\\left(s, 0\\right)}{\\kappa^{2} m^{2} + s^{2}}\\)</html>"
      ],
      "text/latex": [
       "$\\displaystyle \\frac{m X_{2}\\left(s, 0\\right)}{\\kappa^{2} m^{2} + s^{2}}$"
      ],
      "text/plain": [
       "m*X_2(s, 0)/(kappa^2*m^2 + s^2)"
      ]
     },
     "execution_count": 57,
     "metadata": {},
     "output_type": "execute_result"
    }
   ],
   "source": [
    "O1_ph_eq1_simp_lhs = O1_ph_eq1.lhs().subs({xi_r0:xi_CL_out_in[1].expr()}).subs({xi_ph0:xi_CL_out_in[3].expr()})\\\n",
    ".subs({r:r0_sol}).maxima_methods().rootscontract().canonicalize_radical().expand()\n",
    "O1_ph_eq1_simp_lhs"
   ]
  },
  {
   "cell_type": "code",
   "execution_count": 58,
   "id": "59971d6f",
   "metadata": {},
   "outputs": [
    {
     "data": {
      "text/html": [
       "<html>\\(\\displaystyle \\frac{Q \\kappa m^{2} q}{{\\left(\\kappa^{2} m^{2} + s^{2}\\right)}^{\\frac{3}{2}}} + \\frac{m s \\mathrm{D}_{0}\\left(X_{2}\\right)\\left(s, 0\\right)}{\\kappa^{2} m^{2} + s^{2}}\\)</html>"
      ],
      "text/latex": [
       "$\\displaystyle \\frac{Q \\kappa m^{2} q}{{\\left(\\kappa^{2} m^{2} + s^{2}\\right)}^{\\frac{3}{2}}} + \\frac{m s \\mathrm{D}_{0}\\left(X_{2}\\right)\\left(s, 0\\right)}{\\kappa^{2} m^{2} + s^{2}}$"
      ],
      "text/plain": [
       "Q*kappa*m^2*q/(kappa^2*m^2 + s^2)^(3/2) + m*s*D[0](X_2)(s, 0)/(kappa^2*m^2 + s^2)"
      ]
     },
     "execution_count": 58,
     "metadata": {},
     "output_type": "execute_result"
    }
   ],
   "source": [
    "O1_ph_eq1_simp_rhs = O1_ph_eq1.rhs().subs({deps_dsU0:deps_dsU_Oeps}).subs({r:r0_sol}).maxima_methods()\\\n",
    ".rootscontract().canonicalize_radical().expand()\n",
    "O1_ph_eq1_simp_rhs"
   ]
  },
  {
   "cell_type": "code",
   "execution_count": 59,
   "id": "56252d6d",
   "metadata": {},
   "outputs": [
    {
     "data": {
      "text/html": [
       "<html>\\(\\displaystyle \\frac{m X_{2}\\left(s, 0\\right)}{\\kappa^{2} m^{2} + s^{2}} = \\frac{Q \\kappa m^{2} q}{{\\left(\\kappa^{2} m^{2} + s^{2}\\right)}^{\\frac{3}{2}}} + \\frac{m s \\mathrm{D}_{0}\\left(X_{2}\\right)\\left(s, 0\\right)}{\\kappa^{2} m^{2} + s^{2}}\\)</html>"
      ],
      "text/latex": [
       "$\\displaystyle \\frac{m X_{2}\\left(s, 0\\right)}{\\kappa^{2} m^{2} + s^{2}} = \\frac{Q \\kappa m^{2} q}{{\\left(\\kappa^{2} m^{2} + s^{2}\\right)}^{\\frac{3}{2}}} + \\frac{m s \\mathrm{D}_{0}\\left(X_{2}\\right)\\left(s, 0\\right)}{\\kappa^{2} m^{2} + s^{2}}$"
      ],
      "text/plain": [
       "m*X_2(s, 0)/(kappa^2*m^2 + s^2) == Q*kappa*m^2*q/(kappa^2*m^2 + s^2)^(3/2) + m*s*D[0](X_2)(s, 0)/(kappa^2*m^2 + s^2)"
      ]
     },
     "execution_count": 59,
     "metadata": {},
     "output_type": "execute_result"
    }
   ],
   "source": [
    "O1_ph_eq2 = O1_ph_eq1_simp_lhs == O1_ph_eq1_simp_rhs\n",
    "O1_ph_eq2"
   ]
  },
  {
   "cell_type": "code",
   "execution_count": 60,
   "id": "c46e6918",
   "metadata": {},
   "outputs": [
    {
     "data": {
      "text/html": [
       "<html>\\(\\displaystyle \\frac{m f_{2}\\left(s\\right)}{\\kappa^{2} m^{2} + s^{2}} = \\frac{Q \\kappa m^{2} q}{{\\left(\\kappa^{2} m^{2} + s^{2}\\right)}^{\\frac{3}{2}}} + \\frac{m s \\frac{\\partial}{\\partial s}f_{2}\\left(s\\right)}{\\kappa^{2} m^{2} + s^{2}}\\)</html>"
      ],
      "text/latex": [
       "$\\displaystyle \\frac{m f_{2}\\left(s\\right)}{\\kappa^{2} m^{2} + s^{2}} = \\frac{Q \\kappa m^{2} q}{{\\left(\\kappa^{2} m^{2} + s^{2}\\right)}^{\\frac{3}{2}}} + \\frac{m s \\frac{\\partial}{\\partial s}f_{2}\\left(s\\right)}{\\kappa^{2} m^{2} + s^{2}}$"
      ],
      "text/plain": [
       "m*f_2(s)/(kappa^2*m^2 + s^2) == Q*kappa*m^2*q/(kappa^2*m^2 + s^2)^(3/2) + m*s*diff(f_2(s), s)/(kappa^2*m^2 + s^2)"
      ]
     },
     "execution_count": 60,
     "metadata": {},
     "output_type": "execute_result"
    }
   ],
   "source": [
    "O1_ph_eq3 = O1_ph_eq2.subs({X2_0:f2}).subs({dsX2_0:df2})\n",
    "O1_ph_eq3"
   ]
  },
  {
   "cell_type": "code",
   "execution_count": 61,
   "id": "96569afd",
   "metadata": {},
   "outputs": [
    {
     "data": {
      "text/html": [
       "<html>\\(\\displaystyle {\\left(C + \\frac{\\sqrt{\\kappa^{2} m^{2} + s^{2}} Q q}{\\kappa m s}\\right)} s\\)</html>"
      ],
      "text/latex": [
       "$\\displaystyle {\\left(C + \\frac{\\sqrt{\\kappa^{2} m^{2} + s^{2}} Q q}{\\kappa m s}\\right)} s$"
      ],
      "text/plain": [
       "(_C + sqrt(kappa^2*m^2 + s^2)*Q*q/(kappa*m*s))*s"
      ]
     },
     "execution_count": 61,
     "metadata": {},
     "output_type": "execute_result"
    }
   ],
   "source": [
    "desolve(O1_ph_eq3, f2, ivar=s)"
   ]
  },
  {
   "cell_type": "markdown",
   "id": "d512e94f",
   "metadata": {},
   "source": [
    "This is exactly what we derived from comparing the $a' = r$ component above."
   ]
  },
  {
   "cell_type": "markdown",
   "id": "8b685077",
   "metadata": {},
   "source": [
    "Thus from the first order results, we find that\n",
    "$U = s + \\epsilon m q Q arcsinh \\big ( \\frac{s}{\\kappa m} \\big ), \\\\\n",
    "X^1 = 0, \\\\\n",
    "X^2 = C_2 s + \\frac{qQ}{\\kappa m} \\sqrt{\\kappa^2 m^2 + s^2}$."
   ]
  },
  {
   "cell_type": "markdown",
   "id": "c0af4432",
   "metadata": {},
   "source": [
    "To derive the form of $V$, rather than using the second order derivative of the tangent vector, we instead consider the leading order expression for the line element in the outside-in approach. We have\n",
    "\n",
    "$\\partial_s Y^{a'} \\partial_s Y_{a'} = \\epsilon^2 \\big ( -2 [\\partial_s U \\partial_s V] + [\\partial_s X^i \\partial_s X_i] \\big )$"
   ]
  },
  {
   "cell_type": "code",
   "execution_count": 62,
   "id": "486cff1f",
   "metadata": {},
   "outputs": [
    {
     "data": {
      "text/html": [
       "<html>\\(\\displaystyle -\\epsilon^{2}\\)</html>"
      ],
      "text/latex": [
       "$\\displaystyle -\\epsilon^{2}$"
      ],
      "text/plain": [
       "-epsilon^2"
      ]
     },
     "execution_count": 62,
     "metadata": {},
     "output_type": "execute_result"
    }
   ],
   "source": [
    "dsY2 = g(dsY,dsY)\n",
    "dsY2.expr()"
   ]
  },
  {
   "cell_type": "code",
   "execution_count": 63,
   "id": "97f92274",
   "metadata": {},
   "outputs": [
    {
     "data": {
      "text/html": [
       "<html>\\(\\displaystyle -2 \\, \\mathrm{D}_{0}\\left(U\\right)\\left(s, 0\\right) \\mathrm{D}_{0}\\left(V\\right)\\left(s, 0\\right) + \\mathrm{D}_{0}\\left(X_{1}\\right)\\left(s, 0\\right)^{2} + \\mathrm{D}_{0}\\left(X_{2}\\right)\\left(s, 0\\right)^{2}\\)</html>"
      ],
      "text/latex": [
       "$\\displaystyle -2 \\, \\mathrm{D}_{0}\\left(U\\right)\\left(s, 0\\right) \\mathrm{D}_{0}\\left(V\\right)\\left(s, 0\\right) + \\mathrm{D}_{0}\\left(X_{1}\\right)\\left(s, 0\\right)^{2} + \\mathrm{D}_{0}\\left(X_{2}\\right)\\left(s, 0\\right)^{2}$"
      ],
      "text/plain": [
       "-2*D[0](U)(s, 0)*D[0](V)(s, 0) + D[0](X_1)(s, 0)^2 + D[0](X_2)(s, 0)^2"
      ]
     },
     "execution_count": 63,
     "metadata": {},
     "output_type": "execute_result"
    }
   ],
   "source": [
    "line_el_out_in_LO = -2*dsU0*dsV0 + dsX1_0*dsX1_0 + dsX2_0*dsX2_0\n",
    "line_el_out_in_LO"
   ]
  },
  {
   "cell_type": "code",
   "execution_count": 64,
   "id": "dbe6ba45",
   "metadata": {},
   "outputs": [
    {
     "data": {
      "text/html": [
       "<html>\\(\\displaystyle -\\epsilon^{2} = -{\\left(2 \\, \\mathrm{D}_{0}\\left(U\\right)\\left(s, 0\\right) \\mathrm{D}_{0}\\left(V\\right)\\left(s, 0\\right) - \\mathrm{D}_{0}\\left(X_{1}\\right)\\left(s, 0\\right)^{2} - \\mathrm{D}_{0}\\left(X_{2}\\right)\\left(s, 0\\right)^{2}\\right)} \\epsilon^{2}\\)</html>"
      ],
      "text/latex": [
       "$\\displaystyle -\\epsilon^{2} = -{\\left(2 \\, \\mathrm{D}_{0}\\left(U\\right)\\left(s, 0\\right) \\mathrm{D}_{0}\\left(V\\right)\\left(s, 0\\right) - \\mathrm{D}_{0}\\left(X_{1}\\right)\\left(s, 0\\right)^{2} - \\mathrm{D}_{0}\\left(X_{2}\\right)\\left(s, 0\\right)^{2}\\right)} \\epsilon^{2}$"
      ],
      "text/plain": [
       "-epsilon^2 == -(2*D[0](U)(s, 0)*D[0](V)(s, 0) - D[0](X_1)(s, 0)^2 - D[0](X_2)(s, 0)^2)*epsilon^2"
      ]
     },
     "execution_count": 64,
     "metadata": {},
     "output_type": "execute_result"
    }
   ],
   "source": [
    "Oeps2_line_el = dsY2.expr() == eps^2*line_el_out_in_LO\n",
    "Oeps2_line_el"
   ]
  },
  {
   "cell_type": "code",
   "execution_count": 65,
   "id": "4459708f",
   "metadata": {},
   "outputs": [
    {
     "data": {
      "text/html": [
       "<html>\\(\\displaystyle \\left(-1\\right) = {\\left(C_{2} + \\frac{Q q s}{\\sqrt{\\kappa^{2} m^{2} + s^{2}} \\kappa m}\\right)}^{2} - 2 \\, \\mathrm{D}_{0}\\left(V\\right)\\left(s, 0\\right)\\)</html>"
      ],
      "text/latex": [
       "$\\displaystyle \\left(-1\\right) = {\\left(C_{2} + \\frac{Q q s}{\\sqrt{\\kappa^{2} m^{2} + s^{2}} \\kappa m}\\right)}^{2} - 2 \\, \\mathrm{D}_{0}\\left(V\\right)\\left(s, 0\\right)$"
      ],
      "text/plain": [
       "-1 == (C_2 + Q*q*s/(sqrt(kappa^2*m^2 + s^2)*kappa*m))^2 - 2*D[0](V)(s, 0)"
      ]
     },
     "execution_count": 65,
     "metadata": {},
     "output_type": "execute_result"
    }
   ],
   "source": [
    "Oeps2_line_el_2 = (Oeps2_line_el/(eps^2)).subs({dsU0:dsU_Oeps_0}).subs({dsX1_0:0})\\\n",
    ".subs({dsX2_0:X2_O1.diff(s, 1)})\n",
    "Oeps2_line_el_2"
   ]
  },
  {
   "cell_type": "code",
   "execution_count": 66,
   "id": "a28898c4",
   "metadata": {},
   "outputs": [
    {
     "data": {
      "text/html": [
       "<html>\\(\\displaystyle \\left[{\\left(C_{2} + \\frac{Q q s}{\\sqrt{\\kappa^{2} m^{2} + s^{2}} \\kappa m}\\right)}^{2}, -2 \\, \\mathrm{D}_{0}\\left(V\\right)\\left(s, 0\\right)\\right]\\)</html>"
      ],
      "text/latex": [
       "$\\displaystyle \\left[{\\left(C_{2} + \\frac{Q q s}{\\sqrt{\\kappa^{2} m^{2} + s^{2}} \\kappa m}\\right)}^{2}, -2 \\, \\mathrm{D}_{0}\\left(V\\right)\\left(s, 0\\right)\\right]$"
      ],
      "text/plain": [
       "[(C_2 + Q*q*s/(sqrt(kappa^2*m^2 + s^2)*kappa*m))^2, -2*D[0](V)(s, 0)]"
      ]
     },
     "execution_count": 66,
     "metadata": {},
     "output_type": "execute_result"
    }
   ],
   "source": [
    "Oeps2_line_el_2.rhs().operands()[:]"
   ]
  },
  {
   "cell_type": "code",
   "execution_count": 67,
   "id": "b02cae7a",
   "metadata": {},
   "outputs": [
    {
     "data": {
      "text/html": [
       "<html>\\(\\displaystyle \\mathrm{D}_{0}\\left(V\\right)\\left(s, 0\\right) = \\frac{1}{2} \\, {\\left(C_{2} + \\frac{Q q s}{\\sqrt{\\kappa^{2} m^{2} + s^{2}} \\kappa m}\\right)}^{2} + \\frac{1}{2}\\)</html>"
      ],
      "text/latex": [
       "$\\displaystyle \\mathrm{D}_{0}\\left(V\\right)\\left(s, 0\\right) = \\frac{1}{2} \\, {\\left(C_{2} + \\frac{Q q s}{\\sqrt{\\kappa^{2} m^{2} + s^{2}} \\kappa m}\\right)}^{2} + \\frac{1}{2}$"
      ],
      "text/plain": [
       "D[0](V)(s, 0) == 1/2*(C_2 + Q*q*s/(sqrt(kappa^2*m^2 + s^2)*kappa*m))^2 + 1/2"
      ]
     },
     "execution_count": 67,
     "metadata": {},
     "output_type": "execute_result"
    }
   ],
   "source": [
    "Oeps2_line_el_3 = (Oeps2_line_el_2 - Oeps2_line_el_2.lhs() - Oeps2_line_el_2.rhs().operands()[1])/2\n",
    "Oeps2_line_el_3"
   ]
  },
  {
   "cell_type": "code",
   "execution_count": 68,
   "id": "6700a5f3",
   "metadata": {},
   "outputs": [
    {
     "data": {
      "text/html": [
       "<html>\\(\\displaystyle \\left(f_{v}\\left(s\\right), \\frac{\\partial}{\\partial s}f_{v}\\left(s\\right)\\right)\\)</html>"
      ],
      "text/latex": [
       "$\\displaystyle \\left(f_{v}\\left(s\\right), \\frac{\\partial}{\\partial s}f_{v}\\left(s\\right)\\right)$"
      ],
      "text/plain": [
       "(f_v(s), diff(f_v(s), s))"
      ]
     },
     "execution_count": 68,
     "metadata": {},
     "output_type": "execute_result"
    }
   ],
   "source": [
    "fv = function('f_v')(s)\n",
    "dfv = fv.diff(s, 1)\n",
    "fv, dfv"
   ]
  },
  {
   "cell_type": "code",
   "execution_count": 69,
   "id": "28d90101",
   "metadata": {},
   "outputs": [
    {
     "data": {
      "text/html": [
       "<html>\\(\\displaystyle \\frac{\\partial}{\\partial s}f_{v}\\left(s\\right) = \\frac{1}{2} \\, {\\left(C_{2} + \\frac{Q q s}{\\sqrt{\\kappa^{2} m^{2} + s^{2}} \\kappa m}\\right)}^{2} + \\frac{1}{2}\\)</html>"
      ],
      "text/latex": [
       "$\\displaystyle \\frac{\\partial}{\\partial s}f_{v}\\left(s\\right) = \\frac{1}{2} \\, {\\left(C_{2} + \\frac{Q q s}{\\sqrt{\\kappa^{2} m^{2} + s^{2}} \\kappa m}\\right)}^{2} + \\frac{1}{2}$"
      ],
      "text/plain": [
       "diff(f_v(s), s) == 1/2*(C_2 + Q*q*s/(sqrt(kappa^2*m^2 + s^2)*kappa*m))^2 + 1/2"
      ]
     },
     "execution_count": 69,
     "metadata": {},
     "output_type": "execute_result"
    }
   ],
   "source": [
    "Oeps2_line_el_4 = Oeps2_line_el_3.subs({dsV0:dfv})\n",
    "Oeps2_line_el_4"
   ]
  },
  {
   "cell_type": "code",
   "execution_count": 70,
   "id": "245ee2ae",
   "metadata": {},
   "outputs": [
    {
     "data": {
      "text/html": [
       "<html>\\(\\displaystyle -\\frac{Q^{2} q^{2} \\arctan\\left(\\frac{s}{\\kappa m}\\right)}{2 \\, \\kappa m} + \\frac{1}{2} \\, {\\left(C_{2}^{2} + \\frac{Q^{2} q^{2}}{\\kappa^{2} m^{2}} + 1\\right)} s + \\frac{\\sqrt{\\kappa^{2} m^{2} + s^{2}} C_{2} Q q}{\\kappa m} + C\\)</html>"
      ],
      "text/latex": [
       "$\\displaystyle -\\frac{Q^{2} q^{2} \\arctan\\left(\\frac{s}{\\kappa m}\\right)}{2 \\, \\kappa m} + \\frac{1}{2} \\, {\\left(C_{2}^{2} + \\frac{Q^{2} q^{2}}{\\kappa^{2} m^{2}} + 1\\right)} s + \\frac{\\sqrt{\\kappa^{2} m^{2} + s^{2}} C_{2} Q q}{\\kappa m} + C$"
      ],
      "text/plain": [
       "-1/2*Q^2*q^2*arctan(s/(kappa*m))/(kappa*m) + 1/2*(C_2^2 + Q^2*q^2/(kappa^2*m^2) + 1)*s + sqrt(kappa^2*m^2 + s^2)*C_2*Q*q/(kappa*m) + _C"
      ]
     },
     "execution_count": 70,
     "metadata": {},
     "output_type": "execute_result"
    }
   ],
   "source": [
    "V0_O1 = desolve(Oeps2_line_el_4, fv, ivar=s).simplify_full().expand().collect(s)\n",
    "V0_O1"
   ]
  },
  {
   "cell_type": "markdown",
   "id": "58e6dd42",
   "metadata": {},
   "source": [
    "We would now like to plug these reults into the expression for the coincidence limit of the deviation vector in order to derive the correction to the original coordinates."
   ]
  },
  {
   "cell_type": "code",
   "execution_count": 71,
   "id": "8b928eca",
   "metadata": {},
   "outputs": [
    {
     "data": {
      "text/html": [
       "<html>\\(\\displaystyle \\frac{\\mathrm{D}_{1}\\left(U\\right)\\left(s, 0\\right)}{m}\\)</html>"
      ],
      "text/latex": [
       "$\\displaystyle \\frac{\\mathrm{D}_{1}\\left(U\\right)\\left(s, 0\\right)}{m}$"
      ],
      "text/plain": [
       "D[1](U)(s, 0)/m"
      ]
     },
     "execution_count": 71,
     "metadata": {},
     "output_type": "execute_result"
    }
   ],
   "source": [
    "Oeps_t_corr1 = xi_CL_out_in[0].expr()\n",
    "Oeps_t_corr1"
   ]
  },
  {
   "cell_type": "code",
   "execution_count": 72,
   "id": "b798d238",
   "metadata": {},
   "outputs": [
    {
     "data": {
      "text/html": [
       "<html>\\(\\displaystyle Q q \\operatorname{arsinh}\\left(\\frac{s}{\\kappa m}\\right)\\)</html>"
      ],
      "text/latex": [
       "$\\displaystyle Q q \\operatorname{arsinh}\\left(\\frac{s}{\\kappa m}\\right)$"
      ],
      "text/plain": [
       "Q*q*arcsinh(s/(kappa*m))"
      ]
     },
     "execution_count": 72,
     "metadata": {},
     "output_type": "execute_result"
    }
   ],
   "source": [
    "Oeps_t_corr2 = Oeps_t_corr1.subs({depsU0:deps_U_Oeps_0})\n",
    "Oeps_t_corr2"
   ]
  },
  {
   "cell_type": "code",
   "execution_count": 73,
   "id": "31aa41c4",
   "metadata": {},
   "outputs": [
    {
     "data": {
      "text/html": [
       "<html>\\(\\displaystyle -\\frac{\\kappa m X_{2}\\left(s, 0\\right) - \\sqrt{\\kappa + r} \\sqrt{-\\kappa + r} \\mathrm{D}_{1}\\left(U\\right)\\left(s, 0\\right)}{m r}\\)</html>"
      ],
      "text/latex": [
       "$\\displaystyle -\\frac{\\kappa m X_{2}\\left(s, 0\\right) - \\sqrt{\\kappa + r} \\sqrt{-\\kappa + r} \\mathrm{D}_{1}\\left(U\\right)\\left(s, 0\\right)}{m r}$"
      ],
      "text/plain": [
       "-(kappa*m*X_2(s, 0) - sqrt(kappa + r)*sqrt(-kappa + r)*D[1](U)(s, 0))/(m*r)"
      ]
     },
     "execution_count": 73,
     "metadata": {},
     "output_type": "execute_result"
    }
   ],
   "source": [
    "Oeps_r_corr1 = xi_CL_out_in[1].expr()\n",
    "Oeps_r_corr1"
   ]
  },
  {
   "cell_type": "code",
   "execution_count": 74,
   "id": "ff4d4269",
   "metadata": {},
   "outputs": [
    {
     "data": {
      "text/html": [
       "<html>\\(\\displaystyle -\\frac{C_{2} \\kappa m s}{\\sqrt{\\kappa^{2} m^{2} + s^{2}}} + \\frac{Q q s \\operatorname{arsinh}\\left(\\frac{s}{\\kappa m}\\right)}{\\sqrt{\\kappa^{2} m^{2} + s^{2}}} - Q q\\)</html>"
      ],
      "text/latex": [
       "$\\displaystyle -\\frac{C_{2} \\kappa m s}{\\sqrt{\\kappa^{2} m^{2} + s^{2}}} + \\frac{Q q s \\operatorname{arsinh}\\left(\\frac{s}{\\kappa m}\\right)}{\\sqrt{\\kappa^{2} m^{2} + s^{2}}} - Q q$"
      ],
      "text/plain": [
       "-C_2*kappa*m*s/sqrt(kappa^2*m^2 + s^2) + Q*q*s*arcsinh(s/(kappa*m))/sqrt(kappa^2*m^2 + s^2) - Q*q"
      ]
     },
     "execution_count": 74,
     "metadata": {},
     "output_type": "execute_result"
    }
   ],
   "source": [
    "Oeps_r_corr2 = Oeps_r_corr1.subs({X2_0:X2_O1}).subs({depsU0:deps_U_Oeps_0}).subs({r:r0_sol}).maxima_methods()\\\n",
    ".rootscontract().canonicalize_radical().expand()\n",
    "Oeps_r_corr2"
   ]
  },
  {
   "cell_type": "code",
   "execution_count": 75,
   "id": "7efa4882",
   "metadata": {},
   "outputs": [
    {
     "data": {
      "text/html": [
       "<html>\\(\\displaystyle \\frac{\\sqrt{\\kappa + r} \\sqrt{-\\kappa + r} m X_{2}\\left(s, 0\\right) + \\kappa \\mathrm{D}_{1}\\left(U\\right)\\left(s, 0\\right)}{m r^{2}}\\)</html>"
      ],
      "text/latex": [
       "$\\displaystyle \\frac{\\sqrt{\\kappa + r} \\sqrt{-\\kappa + r} m X_{2}\\left(s, 0\\right) + \\kappa \\mathrm{D}_{1}\\left(U\\right)\\left(s, 0\\right)}{m r^{2}}$"
      ],
      "text/plain": [
       "(sqrt(kappa + r)*sqrt(-kappa + r)*m*X_2(s, 0) + kappa*D[1](U)(s, 0))/(m*r^2)"
      ]
     },
     "execution_count": 75,
     "metadata": {},
     "output_type": "execute_result"
    }
   ],
   "source": [
    "Oeps_ph_corr1 = xi_CL_out_in[3].expr()\n",
    "Oeps_ph_corr1"
   ]
  },
  {
   "cell_type": "code",
   "execution_count": 76,
   "id": "c309be5f",
   "metadata": {},
   "outputs": [
    {
     "data": {
      "text/html": [
       "<html>\\(\\displaystyle \\frac{Q \\kappa^{2} m^{2} q \\operatorname{arsinh}\\left(\\frac{s}{\\kappa m}\\right)}{\\kappa^{3} m^{2} + \\kappa s^{2}} + \\frac{C_{2} \\kappa m s^{2}}{\\kappa^{3} m^{2} + \\kappa s^{2}} + \\frac{\\sqrt{\\kappa^{2} m^{2} + s^{2}} Q q s}{\\kappa^{3} m^{2} + \\kappa s^{2}}\\)</html>"
      ],
      "text/latex": [
       "$\\displaystyle \\frac{Q \\kappa^{2} m^{2} q \\operatorname{arsinh}\\left(\\frac{s}{\\kappa m}\\right)}{\\kappa^{3} m^{2} + \\kappa s^{2}} + \\frac{C_{2} \\kappa m s^{2}}{\\kappa^{3} m^{2} + \\kappa s^{2}} + \\frac{\\sqrt{\\kappa^{2} m^{2} + s^{2}} Q q s}{\\kappa^{3} m^{2} + \\kappa s^{2}}$"
      ],
      "text/plain": [
       "Q*kappa^2*m^2*q*arcsinh(s/(kappa*m))/(kappa^3*m^2 + kappa*s^2) + C_2*kappa*m*s^2/(kappa^3*m^2 + kappa*s^2) + sqrt(kappa^2*m^2 + s^2)*Q*q*s/(kappa^3*m^2 + kappa*s^2)"
      ]
     },
     "execution_count": 76,
     "metadata": {},
     "output_type": "execute_result"
    }
   ],
   "source": [
    "Oeps_ph_corr2 = Oeps_ph_corr1.subs({X2_0:X2_O1}).subs({depsU0:deps_U_Oeps_0}).subs({r:r0_sol})\\\n",
    ".maxima_methods().rootscontract().canonicalize_radical().expand()\n",
    "Oeps_ph_corr2"
   ]
  },
  {
   "cell_type": "code",
   "execution_count": 77,
   "id": "d5f20ba7",
   "metadata": {},
   "outputs": [
    {
     "data": {
      "text/html": [
       "<html>\\(\\displaystyle \\left[\\frac{Q \\kappa^{2} m^{2} q \\operatorname{arsinh}\\left(\\frac{s}{\\kappa m}\\right)}{\\kappa^{3} m^{2} + \\kappa s^{2}}, \\frac{C_{2} \\kappa m s^{2}}{\\kappa^{3} m^{2} + \\kappa s^{2}}, \\frac{\\sqrt{\\kappa^{2} m^{2} + s^{2}} Q q s}{\\kappa^{3} m^{2} + \\kappa s^{2}}\\right]\\)</html>"
      ],
      "text/latex": [
       "$\\displaystyle \\left[\\frac{Q \\kappa^{2} m^{2} q \\operatorname{arsinh}\\left(\\frac{s}{\\kappa m}\\right)}{\\kappa^{3} m^{2} + \\kappa s^{2}}, \\frac{C_{2} \\kappa m s^{2}}{\\kappa^{3} m^{2} + \\kappa s^{2}}, \\frac{\\sqrt{\\kappa^{2} m^{2} + s^{2}} Q q s}{\\kappa^{3} m^{2} + \\kappa s^{2}}\\right]$"
      ],
      "text/plain": [
       "[Q*kappa^2*m^2*q*arcsinh(s/(kappa*m))/(kappa^3*m^2 + kappa*s^2),\n",
       " C_2*kappa*m*s^2/(kappa^3*m^2 + kappa*s^2),\n",
       " sqrt(kappa^2*m^2 + s^2)*Q*q*s/(kappa^3*m^2 + kappa*s^2)]"
      ]
     },
     "execution_count": 77,
     "metadata": {},
     "output_type": "execute_result"
    }
   ],
   "source": [
    "Oeps_ph_corr2.operands()[:]"
   ]
  },
  {
   "cell_type": "code",
   "execution_count": 78,
   "id": "ac002503",
   "metadata": {},
   "outputs": [
    {
     "data": {
      "text/html": [
       "<html>\\(\\displaystyle \\left(\\frac{Q \\kappa m^{2} q \\operatorname{arsinh}\\left(\\frac{s}{\\kappa m}\\right)}{\\kappa^{2} m^{2} + s^{2}}, \\frac{C_{2} m s^{2}}{\\kappa^{2} m^{2} + s^{2}}, \\frac{Q q s}{\\sqrt{\\kappa^{2} m^{2} + s^{2}} \\kappa}\\right)\\)</html>"
      ],
      "text/latex": [
       "$\\displaystyle \\left(\\frac{Q \\kappa m^{2} q \\operatorname{arsinh}\\left(\\frac{s}{\\kappa m}\\right)}{\\kappa^{2} m^{2} + s^{2}}, \\frac{C_{2} m s^{2}}{\\kappa^{2} m^{2} + s^{2}}, \\frac{Q q s}{\\sqrt{\\kappa^{2} m^{2} + s^{2}} \\kappa}\\right)$"
      ],
      "text/plain": [
       "(Q*kappa*m^2*q*arcsinh(s/(kappa*m))/(kappa^2*m^2 + s^2),\n",
       " C_2*m*s^2/(kappa^2*m^2 + s^2),\n",
       " Q*q*s/(sqrt(kappa^2*m^2 + s^2)*kappa))"
      ]
     },
     "execution_count": 78,
     "metadata": {},
     "output_type": "execute_result"
    }
   ],
   "source": [
    "Oeps_ph_corr2.operands()[0].simplify_full(), Oeps_ph_corr2.operands()[1].simplify_full(),\\\n",
    "Oeps_ph_corr2.operands()[2].factor()"
   ]
  },
  {
   "cell_type": "code",
   "execution_count": 79,
   "id": "8b7d9e27",
   "metadata": {},
   "outputs": [
    {
     "data": {
      "text/html": [
       "<html>\\(\\displaystyle \\frac{Q \\kappa m^{2} q \\operatorname{arsinh}\\left(\\frac{s}{\\kappa m}\\right)}{\\kappa^{2} m^{2} + s^{2}} + \\frac{C_{2} m s^{2}}{\\kappa^{2} m^{2} + s^{2}} + \\frac{Q q s}{\\sqrt{\\kappa^{2} m^{2} + s^{2}} \\kappa}\\)</html>"
      ],
      "text/latex": [
       "$\\displaystyle \\frac{Q \\kappa m^{2} q \\operatorname{arsinh}\\left(\\frac{s}{\\kappa m}\\right)}{\\kappa^{2} m^{2} + s^{2}} + \\frac{C_{2} m s^{2}}{\\kappa^{2} m^{2} + s^{2}} + \\frac{Q q s}{\\sqrt{\\kappa^{2} m^{2} + s^{2}} \\kappa}$"
      ],
      "text/plain": [
       "Q*kappa*m^2*q*arcsinh(s/(kappa*m))/(kappa^2*m^2 + s^2) + C_2*m*s^2/(kappa^2*m^2 + s^2) + Q*q*s/(sqrt(kappa^2*m^2 + s^2)*kappa)"
      ]
     },
     "execution_count": 79,
     "metadata": {},
     "output_type": "execute_result"
    }
   ],
   "source": [
    "Oeps_ph_corr3 = Oeps_ph_corr2\\\n",
    ".subs({Oeps_ph_corr2.operands()[0]:Oeps_ph_corr2.operands()[0].simplify_full()})\\\n",
    ".subs({Oeps_ph_corr2.operands()[1]:Oeps_ph_corr2.operands()[1].simplify_full()})\\\n",
    ".subs({Oeps_ph_corr2.operands()[2]:Oeps_ph_corr2.operands()[2].factor()})\n",
    "Oeps_ph_corr3"
   ]
  },
  {
   "cell_type": "markdown",
   "id": "708a38a5",
   "metadata": {},
   "source": [
    "Thus the first order corrections to the original coordinates $(t, r, \\theta, \\phi)$ are\n",
    "\n",
    "$\n",
    "t (s, \\epsilon) = \\frac{s}{m} + \\epsilon q Q arcsinh \\big ( \\frac{s}{\\kappa m} \\big ) + \\mathcal{O} (\\epsilon^2), \\\\\n",
    "r (s, \\epsilon) = \\sqrt{\\kappa^2 + \\frac{s^2}{m^2}} + \\epsilon \\bigg \\{ - qQ - \\frac{C_2 \\kappa m s}{\\sqrt{\\kappa^2 m^2 + s^2}} + \\frac{q Q s}{\\sqrt{\\kappa^2 m^2 + s^2}} arcsinh{ \\big ( \\frac{s}{\\kappa m} \\big ) } \\bigg \\} + \\mathcal{O} (\\epsilon^2), \\\\\n",
    "\\theta (s, \\epsilon) = \\frac{\\pi}{2}, \\\\\n",
    "\\phi (s, \\epsilon) = \\Phi_0 + \\arctan{\\big ( \\frac{s}{\\kappa m} \\big )} + \\epsilon \\bigg \\{ \\frac{q Q s}{\\kappa \\sqrt{\\kappa^2 m^2 + s^2}} + \\frac{C_2 m s^2}{\\kappa^2 m^2 + s^2} + \\frac{q Q \\kappa m^2}{\\kappa^2 m^2 + s^2} arcsinh{ \\big ( \\frac{s}{\\kappa m} \\big ) } \\bigg \\} + \\mathcal{O} (\\epsilon^2)\n",
    "$"
   ]
  },
  {
   "cell_type": "code",
   "execution_count": 80,
   "id": "e05fab04",
   "metadata": {},
   "outputs": [
    {
     "data": {
      "text/html": [
       "<html>\\(\\displaystyle \\left(Q \\epsilon q \\operatorname{arsinh}\\left(\\frac{s}{\\kappa m}\\right) + \\frac{s}{m}, -{\\left(\\frac{C_{2} \\kappa m s}{\\sqrt{\\kappa^{2} m^{2} + s^{2}}} - \\frac{Q q s \\operatorname{arsinh}\\left(\\frac{s}{\\kappa m}\\right)}{\\sqrt{\\kappa^{2} m^{2} + s^{2}}} + Q q\\right)} \\epsilon + \\sqrt{\\kappa^{2} + \\frac{s^{2}}{m^{2}}}, {\\left(\\frac{Q \\kappa m^{2} q \\operatorname{arsinh}\\left(\\frac{s}{\\kappa m}\\right)}{\\kappa^{2} m^{2} + s^{2}} + \\frac{C_{2} m s^{2}}{\\kappa^{2} m^{2} + s^{2}} + \\frac{Q q s}{\\sqrt{\\kappa^{2} m^{2} + s^{2}} \\kappa}\\right)} \\epsilon + \\Phi_{0} + \\arctan\\left(\\frac{s}{\\kappa m}\\right)\\right)\\)</html>"
      ],
      "text/latex": [
       "$\\displaystyle \\left(Q \\epsilon q \\operatorname{arsinh}\\left(\\frac{s}{\\kappa m}\\right) + \\frac{s}{m}, -{\\left(\\frac{C_{2} \\kappa m s}{\\sqrt{\\kappa^{2} m^{2} + s^{2}}} - \\frac{Q q s \\operatorname{arsinh}\\left(\\frac{s}{\\kappa m}\\right)}{\\sqrt{\\kappa^{2} m^{2} + s^{2}}} + Q q\\right)} \\epsilon + \\sqrt{\\kappa^{2} + \\frac{s^{2}}{m^{2}}}, {\\left(\\frac{Q \\kappa m^{2} q \\operatorname{arsinh}\\left(\\frac{s}{\\kappa m}\\right)}{\\kappa^{2} m^{2} + s^{2}} + \\frac{C_{2} m s^{2}}{\\kappa^{2} m^{2} + s^{2}} + \\frac{Q q s}{\\sqrt{\\kappa^{2} m^{2} + s^{2}} \\kappa}\\right)} \\epsilon + \\Phi_{0} + \\arctan\\left(\\frac{s}{\\kappa m}\\right)\\right)$"
      ],
      "text/plain": [
       "(Q*epsilon*q*arcsinh(s/(kappa*m)) + s/m,\n",
       " -(C_2*kappa*m*s/sqrt(kappa^2*m^2 + s^2) - Q*q*s*arcsinh(s/(kappa*m))/sqrt(kappa^2*m^2 + s^2) + Q*q)*epsilon + sqrt(kappa^2 + s^2/m^2),\n",
       " (Q*kappa*m^2*q*arcsinh(s/(kappa*m))/(kappa^2*m^2 + s^2) + C_2*m*s^2/(kappa^2*m^2 + s^2) + Q*q*s/(sqrt(kappa^2*m^2 + s^2)*kappa))*epsilon + Phi_0 + arctan(s/(kappa*m)))"
      ]
     },
     "execution_count": 80,
     "metadata": {},
     "output_type": "execute_result"
    }
   ],
   "source": [
    "t_Oeps = t0_sol + eps*Oeps_t_corr2\n",
    "r_Oeps = r0_sol + eps*Oeps_r_corr2\n",
    "ph_Oeps = ph0_sol + eps*Oeps_ph_corr3\n",
    "t_Oeps, r_Oeps, ph_Oeps"
   ]
  },
  {
   "cell_type": "code",
   "execution_count": 81,
   "id": "e213941b",
   "metadata": {},
   "outputs": [
    {
     "data": {
      "text/html": [
       "<html>\\(\\displaystyle \\left(\\frac{Q \\epsilon q}{\\kappa m \\sqrt{\\frac{s^{2}}{\\kappa^{2} m^{2}} + 1}} + \\frac{1}{m}, {\\left(\\frac{C_{2} \\kappa m s^{2}}{{\\left(\\kappa^{2} m^{2} + s^{2}\\right)}^{\\frac{3}{2}}} - \\frac{Q q s^{2} \\operatorname{arsinh}\\left(\\frac{s}{\\kappa m}\\right)}{{\\left(\\kappa^{2} m^{2} + s^{2}\\right)}^{\\frac{3}{2}}} - \\frac{C_{2} \\kappa m}{\\sqrt{\\kappa^{2} m^{2} + s^{2}}} + \\frac{Q q \\operatorname{arsinh}\\left(\\frac{s}{\\kappa m}\\right)}{\\sqrt{\\kappa^{2} m^{2} + s^{2}}} + \\frac{Q q s}{\\sqrt{\\kappa^{2} m^{2} + s^{2}} \\kappa m \\sqrt{\\frac{s^{2}}{\\kappa^{2} m^{2}} + 1}}\\right)} \\epsilon + \\frac{s}{\\sqrt{\\kappa^{2} + \\frac{s^{2}}{m^{2}}} m^{2}}, -{\\left(\\frac{2 \\, Q \\kappa m^{2} q s \\operatorname{arsinh}\\left(\\frac{s}{\\kappa m}\\right)}{{\\left(\\kappa^{2} m^{2} + s^{2}\\right)}^{2}} + \\frac{2 \\, C_{2} m s^{3}}{{\\left(\\kappa^{2} m^{2} + s^{2}\\right)}^{2}} - \\frac{2 \\, C_{2} m s}{\\kappa^{2} m^{2} + s^{2}} + \\frac{Q q s^{2}}{{\\left(\\kappa^{2} m^{2} + s^{2}\\right)}^{\\frac{3}{2}} \\kappa} - \\frac{Q m q}{{\\left(\\kappa^{2} m^{2} + s^{2}\\right)} \\sqrt{\\frac{s^{2}}{\\kappa^{2} m^{2}} + 1}} - \\frac{Q q}{\\sqrt{\\kappa^{2} m^{2} + s^{2}} \\kappa}\\right)} \\epsilon + \\frac{1}{\\kappa m {\\left(\\frac{s^{2}}{\\kappa^{2} m^{2}} + 1\\right)}}\\right)\\)</html>"
      ],
      "text/latex": [
       "$\\displaystyle \\left(\\frac{Q \\epsilon q}{\\kappa m \\sqrt{\\frac{s^{2}}{\\kappa^{2} m^{2}} + 1}} + \\frac{1}{m}, {\\left(\\frac{C_{2} \\kappa m s^{2}}{{\\left(\\kappa^{2} m^{2} + s^{2}\\right)}^{\\frac{3}{2}}} - \\frac{Q q s^{2} \\operatorname{arsinh}\\left(\\frac{s}{\\kappa m}\\right)}{{\\left(\\kappa^{2} m^{2} + s^{2}\\right)}^{\\frac{3}{2}}} - \\frac{C_{2} \\kappa m}{\\sqrt{\\kappa^{2} m^{2} + s^{2}}} + \\frac{Q q \\operatorname{arsinh}\\left(\\frac{s}{\\kappa m}\\right)}{\\sqrt{\\kappa^{2} m^{2} + s^{2}}} + \\frac{Q q s}{\\sqrt{\\kappa^{2} m^{2} + s^{2}} \\kappa m \\sqrt{\\frac{s^{2}}{\\kappa^{2} m^{2}} + 1}}\\right)} \\epsilon + \\frac{s}{\\sqrt{\\kappa^{2} + \\frac{s^{2}}{m^{2}}} m^{2}}, -{\\left(\\frac{2 \\, Q \\kappa m^{2} q s \\operatorname{arsinh}\\left(\\frac{s}{\\kappa m}\\right)}{{\\left(\\kappa^{2} m^{2} + s^{2}\\right)}^{2}} + \\frac{2 \\, C_{2} m s^{3}}{{\\left(\\kappa^{2} m^{2} + s^{2}\\right)}^{2}} - \\frac{2 \\, C_{2} m s}{\\kappa^{2} m^{2} + s^{2}} + \\frac{Q q s^{2}}{{\\left(\\kappa^{2} m^{2} + s^{2}\\right)}^{\\frac{3}{2}} \\kappa} - \\frac{Q m q}{{\\left(\\kappa^{2} m^{2} + s^{2}\\right)} \\sqrt{\\frac{s^{2}}{\\kappa^{2} m^{2}} + 1}} - \\frac{Q q}{\\sqrt{\\kappa^{2} m^{2} + s^{2}} \\kappa}\\right)} \\epsilon + \\frac{1}{\\kappa m {\\left(\\frac{s^{2}}{\\kappa^{2} m^{2}} + 1\\right)}}\\right)$"
      ],
      "text/plain": [
       "(Q*epsilon*q/(kappa*m*sqrt(s^2/(kappa^2*m^2) + 1)) + 1/m,\n",
       " (C_2*kappa*m*s^2/(kappa^2*m^2 + s^2)^(3/2) - Q*q*s^2*arcsinh(s/(kappa*m))/(kappa^2*m^2 + s^2)^(3/2) - C_2*kappa*m/sqrt(kappa^2*m^2 + s^2) + Q*q*arcsinh(s/(kappa*m))/sqrt(kappa^2*m^2 + s^2) + Q*q*s/(sqrt(kappa^2*m^2 + s^2)*kappa*m*sqrt(s^2/(kappa^2*m^2) + 1)))*epsilon + s/(sqrt(kappa^2 + s^2/m^2)*m^2),\n",
       " -(2*Q*kappa*m^2*q*s*arcsinh(s/(kappa*m))/(kappa^2*m^2 + s^2)^2 + 2*C_2*m*s^3/(kappa^2*m^2 + s^2)^2 - 2*C_2*m*s/(kappa^2*m^2 + s^2) + Q*q*s^2/((kappa^2*m^2 + s^2)^(3/2)*kappa) - Q*m*q/((kappa^2*m^2 + s^2)*sqrt(s^2/(kappa^2*m^2) + 1)) - Q*q/(sqrt(kappa^2*m^2 + s^2)*kappa))*epsilon + 1/(kappa*m*(s^2/(kappa^2*m^2) + 1)))"
      ]
     },
     "execution_count": 81,
     "metadata": {},
     "output_type": "execute_result"
    }
   ],
   "source": [
    "dt_Oeps = t_Oeps.diff(s, 1)\n",
    "dr_Oeps = r_Oeps.diff(s, 1)\n",
    "dph_Oeps = ph_Oeps.diff(s, 1)\n",
    "dt_Oeps, dr_Oeps, dph_Oeps"
   ]
  },
  {
   "cell_type": "markdown",
   "id": "86b891eb",
   "metadata": {},
   "source": [
    "Define a function to compute the covariant $s$-derivative of a vector, and check if these curves have $0$ acceleration when the test particles are uncharged, i.e. $q = 0$."
   ]
  },
  {
   "cell_type": "code",
   "execution_count": 85,
   "id": "41926b4a",
   "metadata": {},
   "outputs": [],
   "source": [
    "def D_s(inp_vec):\n",
    "    D_s_vec = M.vector_field(name=r'D_{s}V')\n",
    "    for i in range(4):\n",
    "        D_s_vec[i] = nab(inp_vec).contract(dsY)[i]\n",
    "    \n",
    "    return D_s_vec"
   ]
  },
  {
   "cell_type": "code",
   "execution_count": 86,
   "id": "ba45614a",
   "metadata": {},
   "outputs": [
    {
     "data": {
      "text/html": [
       "<html>\\(\\displaystyle \\left[-\\frac{\\sqrt{Q^{2} \\epsilon^{2} q^{2} + 2 \\, Q \\epsilon q r - {\\left(\\epsilon^{2} m^{2} - 1\\right)} r^{2} - \\kappa^{2}} Q \\epsilon q}{m^{2} r^{3}}, -\\frac{Q^{2} \\epsilon^{2} q^{2} + Q \\epsilon q r}{m^{2} r^{3}}, 0, 0\\right]\\)</html>"
      ],
      "text/latex": [
       "$\\displaystyle \\left[-\\frac{\\sqrt{Q^{2} \\epsilon^{2} q^{2} + 2 \\, Q \\epsilon q r - {\\left(\\epsilon^{2} m^{2} - 1\\right)} r^{2} - \\kappa^{2}} Q \\epsilon q}{m^{2} r^{3}}, -\\frac{Q^{2} \\epsilon^{2} q^{2} + Q \\epsilon q r}{m^{2} r^{3}}, 0, 0\\right]$"
      ],
      "text/plain": [
       "[-sqrt(Q^2*epsilon^2*q^2 + 2*Q*epsilon*q*r - (epsilon^2*m^2 - 1)*r^2 - kappa^2)*Q*epsilon*q/(m^2*r^3),\n",
       " -(Q^2*epsilon^2*q^2 + Q*epsilon*q*r)/(m^2*r^3),\n",
       " 0,\n",
       " 0]"
      ]
     },
     "execution_count": 86,
     "metadata": {},
     "output_type": "execute_result"
    }
   ],
   "source": [
    "Ds2Y = nab(dsY).contract(dsY)\n",
    "Ds2Y[:]"
   ]
  },
  {
   "cell_type": "code",
   "execution_count": 87,
   "id": "7e109ec7",
   "metadata": {},
   "outputs": [
    {
     "data": {
      "text/html": [
       "<html>\\(\\displaystyle \\left[-\\frac{{\\left(3 \\, Q^{2} \\epsilon q^{2} r^{2} - {\\left(2 \\, Q \\epsilon^{2} m^{2} - Q\\right)} q r^{3} + {\\left(2 \\, Q^{3} \\epsilon^{2} q^{3} - Q \\kappa^{2} q\\right)} r - {\\left(3 \\, Q^{3} \\epsilon^{3} q^{3} + 5 \\, Q^{2} \\epsilon^{2} q^{2} r - 3 \\, Q \\epsilon \\kappa^{2} q - 2 \\, {\\left(Q \\epsilon^{3} m^{2} - Q \\epsilon\\right)} q r^{2}\\right)} \\xi_{r}\\left(s, \\epsilon\\right)\\right)} \\sqrt{Q^{2} \\epsilon^{2} q^{2} + 2 \\, Q \\epsilon q r - {\\left(\\epsilon^{2} m^{2} - 1\\right)} r^{2} - \\kappa^{2}}}{2 \\, Q \\epsilon m^{2} q r^{5} - {\\left(\\epsilon^{2} m^{4} - m^{2}\\right)} r^{6} + {\\left(Q^{2} \\epsilon^{2} m^{2} q^{2} - \\kappa^{2} m^{2}\\right)} r^{4}}, -\\frac{2 \\, Q^{2} \\epsilon q^{2} r + Q q r^{2} - {\\left(3 \\, Q^{2} \\epsilon^{2} q^{2} + 2 \\, Q \\epsilon q r\\right)} \\xi_{r}\\left(s, \\epsilon\\right)}{m^{2} r^{4}}, 0, -\\frac{{\\left(Q^{2} \\epsilon^{2} q^{2} + Q \\epsilon q r\\right)} \\xi_{{\\rm ph}}\\left(s, \\epsilon\\right)}{m^{2} r^{4}}\\right]\\)</html>"
      ],
      "text/latex": [
       "$\\displaystyle \\left[-\\frac{{\\left(3 \\, Q^{2} \\epsilon q^{2} r^{2} - {\\left(2 \\, Q \\epsilon^{2} m^{2} - Q\\right)} q r^{3} + {\\left(2 \\, Q^{3} \\epsilon^{2} q^{3} - Q \\kappa^{2} q\\right)} r - {\\left(3 \\, Q^{3} \\epsilon^{3} q^{3} + 5 \\, Q^{2} \\epsilon^{2} q^{2} r - 3 \\, Q \\epsilon \\kappa^{2} q - 2 \\, {\\left(Q \\epsilon^{3} m^{2} - Q \\epsilon\\right)} q r^{2}\\right)} \\xi_{r}\\left(s, \\epsilon\\right)\\right)} \\sqrt{Q^{2} \\epsilon^{2} q^{2} + 2 \\, Q \\epsilon q r - {\\left(\\epsilon^{2} m^{2} - 1\\right)} r^{2} - \\kappa^{2}}}{2 \\, Q \\epsilon m^{2} q r^{5} - {\\left(\\epsilon^{2} m^{4} - m^{2}\\right)} r^{6} + {\\left(Q^{2} \\epsilon^{2} m^{2} q^{2} - \\kappa^{2} m^{2}\\right)} r^{4}}, -\\frac{2 \\, Q^{2} \\epsilon q^{2} r + Q q r^{2} - {\\left(3 \\, Q^{2} \\epsilon^{2} q^{2} + 2 \\, Q \\epsilon q r\\right)} \\xi_{r}\\left(s, \\epsilon\\right)}{m^{2} r^{4}}, 0, -\\frac{{\\left(Q^{2} \\epsilon^{2} q^{2} + Q \\epsilon q r\\right)} \\xi_{{\\rm ph}}\\left(s, \\epsilon\\right)}{m^{2} r^{4}}\\right]$"
      ],
      "text/plain": [
       "[-(3*Q^2*epsilon*q^2*r^2 - (2*Q*epsilon^2*m^2 - Q)*q*r^3 + (2*Q^3*epsilon^2*q^3 - Q*kappa^2*q)*r - (3*Q^3*epsilon^3*q^3 + 5*Q^2*epsilon^2*q^2*r - 3*Q*epsilon*kappa^2*q - 2*(Q*epsilon^3*m^2 - Q*epsilon)*q*r^2)*xi_r(s, epsilon))*sqrt(Q^2*epsilon^2*q^2 + 2*Q*epsilon*q*r - (epsilon^2*m^2 - 1)*r^2 - kappa^2)/(2*Q*epsilon*m^2*q*r^5 - (epsilon^2*m^4 - m^2)*r^6 + (Q^2*epsilon^2*m^2*q^2 - kappa^2*m^2)*r^4),\n",
       " -(2*Q^2*epsilon*q^2*r + Q*q*r^2 - (3*Q^2*epsilon^2*q^2 + 2*Q*epsilon*q*r)*xi_r(s, epsilon))/(m^2*r^4),\n",
       " 0,\n",
       " -(Q^2*epsilon^2*q^2 + Q*epsilon*q*r)*xi_ph(s, epsilon)/(m^2*r^4)]"
      ]
     },
     "execution_count": 87,
     "metadata": {},
     "output_type": "execute_result"
    }
   ],
   "source": [
    "Deps_Ds2Y = D_eps(Ds2Y)\n",
    "Deps_Ds2Y[:]"
   ]
  },
  {
   "cell_type": "code",
   "execution_count": 88,
   "id": "5aab0509",
   "metadata": {},
   "outputs": [
    {
     "data": {
      "text/html": [
       "<html>\\(\\displaystyle -\\frac{{\\left(3 \\, Q^{2} \\epsilon q^{2} r^{2} - {\\left(2 \\, Q \\epsilon^{2} m^{2} - Q\\right)} q r^{3} + {\\left(2 \\, Q^{3} \\epsilon^{2} q^{3} - Q \\kappa^{2} q\\right)} r - {\\left(3 \\, Q^{3} \\epsilon^{3} q^{3} + 5 \\, Q^{2} \\epsilon^{2} q^{2} r - 3 \\, Q \\epsilon \\kappa^{2} q - 2 \\, {\\left(Q \\epsilon^{3} m^{2} - Q \\epsilon\\right)} q r^{2}\\right)} \\xi_{r}\\left(s, \\epsilon\\right)\\right)} \\sqrt{Q^{2} \\epsilon^{2} q^{2} + 2 \\, Q \\epsilon q r - {\\left(\\epsilon^{2} m^{2} - 1\\right)} r^{2} - \\kappa^{2}}}{2 \\, Q \\epsilon m^{2} q r^{5} - {\\left(\\epsilon^{2} m^{4} - m^{2}\\right)} r^{6} + {\\left(Q^{2} \\epsilon^{2} m^{2} q^{2} - \\kappa^{2} m^{2}\\right)} r^{4}}\\)</html>"
      ],
      "text/latex": [
       "$\\displaystyle -\\frac{{\\left(3 \\, Q^{2} \\epsilon q^{2} r^{2} - {\\left(2 \\, Q \\epsilon^{2} m^{2} - Q\\right)} q r^{3} + {\\left(2 \\, Q^{3} \\epsilon^{2} q^{3} - Q \\kappa^{2} q\\right)} r - {\\left(3 \\, Q^{3} \\epsilon^{3} q^{3} + 5 \\, Q^{2} \\epsilon^{2} q^{2} r - 3 \\, Q \\epsilon \\kappa^{2} q - 2 \\, {\\left(Q \\epsilon^{3} m^{2} - Q \\epsilon\\right)} q r^{2}\\right)} \\xi_{r}\\left(s, \\epsilon\\right)\\right)} \\sqrt{Q^{2} \\epsilon^{2} q^{2} + 2 \\, Q \\epsilon q r - {\\left(\\epsilon^{2} m^{2} - 1\\right)} r^{2} - \\kappa^{2}}}{2 \\, Q \\epsilon m^{2} q r^{5} - {\\left(\\epsilon^{2} m^{4} - m^{2}\\right)} r^{6} + {\\left(Q^{2} \\epsilon^{2} m^{2} q^{2} - \\kappa^{2} m^{2}\\right)} r^{4}}$"
      ],
      "text/plain": [
       "-(3*Q^2*epsilon*q^2*r^2 - (2*Q*epsilon^2*m^2 - Q)*q*r^3 + (2*Q^3*epsilon^2*q^3 - Q*kappa^2*q)*r - (3*Q^3*epsilon^3*q^3 + 5*Q^2*epsilon^2*q^2*r - 3*Q*epsilon*kappa^2*q - 2*(Q*epsilon^3*m^2 - Q*epsilon)*q*r^2)*xi_r(s, epsilon))*sqrt(Q^2*epsilon^2*q^2 + 2*Q*epsilon*q*r - (epsilon^2*m^2 - 1)*r^2 - kappa^2)/(2*Q*epsilon*m^2*q*r^5 - (epsilon^2*m^4 - m^2)*r^6 + (Q^2*epsilon^2*m^2*q^2 - kappa^2*m^2)*r^4)"
      ]
     },
     "execution_count": 88,
     "metadata": {},
     "output_type": "execute_result"
    }
   ],
   "source": [
    "term_t_q0_1 = Deps_Ds2Y[0].expr()\n",
    "term_t_q0_1"
   ]
  },
  {
   "cell_type": "code",
   "execution_count": 89,
   "id": "0f59afb7",
   "metadata": {},
   "outputs": [
    {
     "data": {
      "text/html": [
       "<html>\\(\\displaystyle 0\\)</html>"
      ],
      "text/latex": [
       "$\\displaystyle 0$"
      ],
      "text/plain": [
       "0"
      ]
     },
     "execution_count": 89,
     "metadata": {},
     "output_type": "execute_result"
    }
   ],
   "source": [
    "term_t_q0_2 = term_t_q0_1.subs({r:r_Oeps}).subs({q:0})\n",
    "term_t_q0_2"
   ]
  },
  {
   "cell_type": "code",
   "execution_count": 90,
   "id": "16993261",
   "metadata": {},
   "outputs": [
    {
     "data": {
      "text/html": [
       "<html>\\(\\displaystyle -\\frac{2 \\, Q^{2} \\epsilon q^{2} r + Q q r^{2} - {\\left(3 \\, Q^{2} \\epsilon^{2} q^{2} + 2 \\, Q \\epsilon q r\\right)} \\xi_{r}\\left(s, \\epsilon\\right)}{m^{2} r^{4}}\\)</html>"
      ],
      "text/latex": [
       "$\\displaystyle -\\frac{2 \\, Q^{2} \\epsilon q^{2} r + Q q r^{2} - {\\left(3 \\, Q^{2} \\epsilon^{2} q^{2} + 2 \\, Q \\epsilon q r\\right)} \\xi_{r}\\left(s, \\epsilon\\right)}{m^{2} r^{4}}$"
      ],
      "text/plain": [
       "-(2*Q^2*epsilon*q^2*r + Q*q*r^2 - (3*Q^2*epsilon^2*q^2 + 2*Q*epsilon*q*r)*xi_r(s, epsilon))/(m^2*r^4)"
      ]
     },
     "execution_count": 90,
     "metadata": {},
     "output_type": "execute_result"
    }
   ],
   "source": [
    "term_r_q0_1 = Deps_Ds2Y[1].expr()\n",
    "term_r_q0_1"
   ]
  },
  {
   "cell_type": "code",
   "execution_count": 91,
   "id": "97adddf5",
   "metadata": {},
   "outputs": [
    {
     "data": {
      "text/html": [
       "<html>\\(\\displaystyle 0\\)</html>"
      ],
      "text/latex": [
       "$\\displaystyle 0$"
      ],
      "text/plain": [
       "0"
      ]
     },
     "execution_count": 91,
     "metadata": {},
     "output_type": "execute_result"
    }
   ],
   "source": [
    "term_r_q0_2 = term_r_q0_1.subs({r:r_Oeps}).subs({q:0})\n",
    "term_r_q0_2"
   ]
  },
  {
   "cell_type": "code",
   "execution_count": 92,
   "id": "63ddf15e",
   "metadata": {},
   "outputs": [
    {
     "data": {
      "text/html": [
       "<html>\\(\\displaystyle -\\frac{2 \\, Q^{2} \\epsilon q^{2} r + Q q r^{2} - {\\left(3 \\, Q^{2} \\epsilon^{2} q^{2} + 2 \\, Q \\epsilon q r\\right)} \\xi_{r}\\left(s, \\epsilon\\right)}{m^{2} r^{4}}\\)</html>"
      ],
      "text/latex": [
       "$\\displaystyle -\\frac{2 \\, Q^{2} \\epsilon q^{2} r + Q q r^{2} - {\\left(3 \\, Q^{2} \\epsilon^{2} q^{2} + 2 \\, Q \\epsilon q r\\right)} \\xi_{r}\\left(s, \\epsilon\\right)}{m^{2} r^{4}}$"
      ],
      "text/plain": [
       "-(2*Q^2*epsilon*q^2*r + Q*q*r^2 - (3*Q^2*epsilon^2*q^2 + 2*Q*epsilon*q*r)*xi_r(s, epsilon))/(m^2*r^4)"
      ]
     },
     "execution_count": 92,
     "metadata": {},
     "output_type": "execute_result"
    }
   ],
   "source": [
    "term_ph_q0_1 = Deps_Ds2Y[1].expr()\n",
    "term_ph_q0_1"
   ]
  },
  {
   "cell_type": "code",
   "execution_count": 93,
   "id": "94e067a0",
   "metadata": {},
   "outputs": [
    {
     "data": {
      "text/html": [
       "<html>\\(\\displaystyle 0\\)</html>"
      ],
      "text/latex": [
       "$\\displaystyle 0$"
      ],
      "text/plain": [
       "0"
      ]
     },
     "execution_count": 93,
     "metadata": {},
     "output_type": "execute_result"
    }
   ],
   "source": [
    "term_ph_q0_2 = term_ph_q0_1.subs({r:r_Oeps})\n",
    "term_ph_q0_2.subs({q:0})"
   ]
  },
  {
   "cell_type": "code",
   "execution_count": 94,
   "id": "2a697f66",
   "metadata": {},
   "outputs": [
    {
     "data": {
      "text/html": [
       "<html>\\(\\displaystyle -\\frac{Q \\epsilon q s}{{\\left(\\kappa^{2} m^{2} + s^{2}\\right)}^{\\frac{3}{2}}}\\)</html>"
      ],
      "text/latex": [
       "$\\displaystyle -\\frac{Q \\epsilon q s}{{\\left(\\kappa^{2} m^{2} + s^{2}\\right)}^{\\frac{3}{2}}}$"
      ],
      "text/plain": [
       "-Q*epsilon*q*s/(kappa^2*m^2 + s^2)^(3/2)"
      ]
     },
     "execution_count": 94,
     "metadata": {},
     "output_type": "execute_result"
    }
   ],
   "source": [
    "ds2t = t_Oeps.diff(s, 2)\n",
    "ds2t.simplify_full()"
   ]
  },
  {
   "cell_type": "code",
   "execution_count": 95,
   "id": "0b6096fb",
   "metadata": {},
   "outputs": [
    {
     "data": {
      "text/html": [
       "<html>\\(\\displaystyle -{\\left(\\frac{3 \\, C_{2} \\kappa m s^{3}}{{\\left(\\kappa^{2} m^{2} + s^{2}\\right)}^{\\frac{5}{2}}} - \\frac{3 \\, Q q s^{3} \\operatorname{arsinh}\\left(\\frac{s}{\\kappa m}\\right)}{{\\left(\\kappa^{2} m^{2} + s^{2}\\right)}^{\\frac{5}{2}}} - \\frac{3 \\, C_{2} \\kappa m s}{{\\left(\\kappa^{2} m^{2} + s^{2}\\right)}^{\\frac{3}{2}}} + \\frac{3 \\, Q q s \\operatorname{arsinh}\\left(\\frac{s}{\\kappa m}\\right)}{{\\left(\\kappa^{2} m^{2} + s^{2}\\right)}^{\\frac{3}{2}}} + \\frac{2 \\, Q q s^{2}}{{\\left(\\kappa^{2} m^{2} + s^{2}\\right)}^{\\frac{3}{2}} \\kappa m \\sqrt{\\frac{s^{2}}{\\kappa^{2} m^{2}} + 1}} - \\frac{2 \\, Q q}{\\sqrt{\\kappa^{2} m^{2} + s^{2}} \\kappa m \\sqrt{\\frac{s^{2}}{\\kappa^{2} m^{2}} + 1}} + \\frac{Q q s^{2}}{\\sqrt{\\kappa^{2} m^{2} + s^{2}} \\kappa^{3} m^{3} {\\left(\\frac{s^{2}}{\\kappa^{2} m^{2}} + 1\\right)}^{\\frac{3}{2}}}\\right)} \\epsilon + \\frac{1}{\\sqrt{\\kappa^{2} + \\frac{s^{2}}{m^{2}}} m^{2}} + \\frac{\\kappa^{2}}{{\\left({\\left(\\frac{C_{2} \\kappa m s}{\\sqrt{\\kappa^{2} m^{2} + s^{2}}} - \\frac{Q q s \\operatorname{arsinh}\\left(\\frac{s}{\\kappa m}\\right)}{\\sqrt{\\kappa^{2} m^{2} + s^{2}}} + Q q\\right)} \\epsilon - \\sqrt{\\kappa^{2} + \\frac{s^{2}}{m^{2}}}\\right)}^{3} m^{2}} - \\frac{s^{2}}{{\\left(\\kappa^{2} + \\frac{s^{2}}{m^{2}}\\right)}^{\\frac{3}{2}} m^{4}}\\)</html>"
      ],
      "text/latex": [
       "$\\displaystyle -{\\left(\\frac{3 \\, C_{2} \\kappa m s^{3}}{{\\left(\\kappa^{2} m^{2} + s^{2}\\right)}^{\\frac{5}{2}}} - \\frac{3 \\, Q q s^{3} \\operatorname{arsinh}\\left(\\frac{s}{\\kappa m}\\right)}{{\\left(\\kappa^{2} m^{2} + s^{2}\\right)}^{\\frac{5}{2}}} - \\frac{3 \\, C_{2} \\kappa m s}{{\\left(\\kappa^{2} m^{2} + s^{2}\\right)}^{\\frac{3}{2}}} + \\frac{3 \\, Q q s \\operatorname{arsinh}\\left(\\frac{s}{\\kappa m}\\right)}{{\\left(\\kappa^{2} m^{2} + s^{2}\\right)}^{\\frac{3}{2}}} + \\frac{2 \\, Q q s^{2}}{{\\left(\\kappa^{2} m^{2} + s^{2}\\right)}^{\\frac{3}{2}} \\kappa m \\sqrt{\\frac{s^{2}}{\\kappa^{2} m^{2}} + 1}} - \\frac{2 \\, Q q}{\\sqrt{\\kappa^{2} m^{2} + s^{2}} \\kappa m \\sqrt{\\frac{s^{2}}{\\kappa^{2} m^{2}} + 1}} + \\frac{Q q s^{2}}{\\sqrt{\\kappa^{2} m^{2} + s^{2}} \\kappa^{3} m^{3} {\\left(\\frac{s^{2}}{\\kappa^{2} m^{2}} + 1\\right)}^{\\frac{3}{2}}}\\right)} \\epsilon + \\frac{1}{\\sqrt{\\kappa^{2} + \\frac{s^{2}}{m^{2}}} m^{2}} + \\frac{\\kappa^{2}}{{\\left({\\left(\\frac{C_{2} \\kappa m s}{\\sqrt{\\kappa^{2} m^{2} + s^{2}}} - \\frac{Q q s \\operatorname{arsinh}\\left(\\frac{s}{\\kappa m}\\right)}{\\sqrt{\\kappa^{2} m^{2} + s^{2}}} + Q q\\right)} \\epsilon - \\sqrt{\\kappa^{2} + \\frac{s^{2}}{m^{2}}}\\right)}^{3} m^{2}} - \\frac{s^{2}}{{\\left(\\kappa^{2} + \\frac{s^{2}}{m^{2}}\\right)}^{\\frac{3}{2}} m^{4}}$"
      ],
      "text/plain": [
       "-(3*C_2*kappa*m*s^3/(kappa^2*m^2 + s^2)^(5/2) - 3*Q*q*s^3*arcsinh(s/(kappa*m))/(kappa^2*m^2 + s^2)^(5/2) - 3*C_2*kappa*m*s/(kappa^2*m^2 + s^2)^(3/2) + 3*Q*q*s*arcsinh(s/(kappa*m))/(kappa^2*m^2 + s^2)^(3/2) + 2*Q*q*s^2/((kappa^2*m^2 + s^2)^(3/2)*kappa*m*sqrt(s^2/(kappa^2*m^2) + 1)) - 2*Q*q/(sqrt(kappa^2*m^2 + s^2)*kappa*m*sqrt(s^2/(kappa^2*m^2) + 1)) + Q*q*s^2/(sqrt(kappa^2*m^2 + s^2)*kappa^3*m^3*(s^2/(kappa^2*m^2) + 1)^(3/2)))*epsilon + 1/(sqrt(kappa^2 + s^2/m^2)*m^2) + kappa^2/(((C_2*kappa*m*s/sqrt(kappa^2*m^2 + s^2) - Q*q*s*arcsinh(s/(kappa*m))/sqrt(kappa^2*m^2 + s^2) + Q*q)*epsilon - sqrt(kappa^2 + s^2/m^2))^3*m^2) - s^2/((kappa^2 + s^2/m^2)^(3/2)*m^4)"
      ]
     },
     "execution_count": 95,
     "metadata": {},
     "output_type": "execute_result"
    }
   ],
   "source": [
    "Ds2_r = r_Oeps.diff(s, 2) - (kap^2/(m^2*r^3)).subs({r:r_Oeps})\n",
    "Ds2_r"
   ]
  },
  {
   "cell_type": "code",
   "execution_count": 96,
   "id": "fcec6d6c",
   "metadata": {},
   "outputs": [
    {
     "data": {
      "text/html": [
       "<html>\\(\\displaystyle {\\left(\\frac{8 \\, Q \\kappa m^{2} q s^{2} \\operatorname{arsinh}\\left(\\frac{s}{\\kappa m}\\right)}{{\\left(\\kappa^{2} m^{2} + s^{2}\\right)}^{3}} - \\frac{2 \\, Q \\kappa m^{2} q \\operatorname{arsinh}\\left(\\frac{s}{\\kappa m}\\right)}{{\\left(\\kappa^{2} m^{2} + s^{2}\\right)}^{2}} + \\frac{8 \\, C_{2} m s^{4}}{{\\left(\\kappa^{2} m^{2} + s^{2}\\right)}^{3}} - \\frac{10 \\, C_{2} m s^{2}}{{\\left(\\kappa^{2} m^{2} + s^{2}\\right)}^{2}} + \\frac{3 \\, Q q s^{3}}{{\\left(\\kappa^{2} m^{2} + s^{2}\\right)}^{\\frac{5}{2}} \\kappa} - \\frac{4 \\, Q m q s}{{\\left(\\kappa^{2} m^{2} + s^{2}\\right)}^{2} \\sqrt{\\frac{s^{2}}{\\kappa^{2} m^{2}} + 1}} + \\frac{2 \\, C_{2} m}{\\kappa^{2} m^{2} + s^{2}} - \\frac{3 \\, Q q s}{{\\left(\\kappa^{2} m^{2} + s^{2}\\right)}^{\\frac{3}{2}} \\kappa} - \\frac{Q q s}{{\\left(\\kappa^{2} m^{2} + s^{2}\\right)} \\kappa^{2} m {\\left(\\frac{s^{2}}{\\kappa^{2} m^{2}} + 1\\right)}^{\\frac{3}{2}}}\\right)} \\epsilon - \\frac{2 \\, \\sqrt{-{\\left(m^{2} - \\frac{Q^{2} q^{2}}{{\\left({\\left(\\frac{C_{2} \\kappa m s}{\\sqrt{\\kappa^{2} m^{2} + s^{2}}} - \\frac{Q q s \\operatorname{arsinh}\\left(\\frac{s}{\\kappa m}\\right)}{\\sqrt{\\kappa^{2} m^{2} + s^{2}}} + Q q\\right)} \\epsilon - \\sqrt{\\kappa^{2} + \\frac{s^{2}}{m^{2}}}\\right)}^{2}}\\right)} \\epsilon^{2} - \\frac{2 \\, Q \\epsilon q}{{\\left(\\frac{C_{2} \\kappa m s}{\\sqrt{\\kappa^{2} m^{2} + s^{2}}} - \\frac{Q q s \\operatorname{arsinh}\\left(\\frac{s}{\\kappa m}\\right)}{\\sqrt{\\kappa^{2} m^{2} + s^{2}}} + Q q\\right)} \\epsilon - \\sqrt{\\kappa^{2} + \\frac{s^{2}}{m^{2}}}} - \\frac{\\kappa^{2}}{{\\left({\\left(\\frac{C_{2} \\kappa m s}{\\sqrt{\\kappa^{2} m^{2} + s^{2}}} - \\frac{Q q s \\operatorname{arsinh}\\left(\\frac{s}{\\kappa m}\\right)}{\\sqrt{\\kappa^{2} m^{2} + s^{2}}} + Q q\\right)} \\epsilon - \\sqrt{\\kappa^{2} + \\frac{s^{2}}{m^{2}}}\\right)}^{2}} + 1} \\kappa}{{\\left({\\left(\\frac{C_{2} \\kappa m s}{\\sqrt{\\kappa^{2} m^{2} + s^{2}}} - \\frac{Q q s \\operatorname{arsinh}\\left(\\frac{s}{\\kappa m}\\right)}{\\sqrt{\\kappa^{2} m^{2} + s^{2}}} + Q q\\right)} \\epsilon - \\sqrt{\\kappa^{2} + \\frac{s^{2}}{m^{2}}}\\right)}^{3} m^{2}} - \\frac{2 \\, s}{\\kappa^{3} m^{3} {\\left(\\frac{s^{2}}{\\kappa^{2} m^{2}} + 1\\right)}^{2}}\\)</html>"
      ],
      "text/latex": [
       "$\\displaystyle {\\left(\\frac{8 \\, Q \\kappa m^{2} q s^{2} \\operatorname{arsinh}\\left(\\frac{s}{\\kappa m}\\right)}{{\\left(\\kappa^{2} m^{2} + s^{2}\\right)}^{3}} - \\frac{2 \\, Q \\kappa m^{2} q \\operatorname{arsinh}\\left(\\frac{s}{\\kappa m}\\right)}{{\\left(\\kappa^{2} m^{2} + s^{2}\\right)}^{2}} + \\frac{8 \\, C_{2} m s^{4}}{{\\left(\\kappa^{2} m^{2} + s^{2}\\right)}^{3}} - \\frac{10 \\, C_{2} m s^{2}}{{\\left(\\kappa^{2} m^{2} + s^{2}\\right)}^{2}} + \\frac{3 \\, Q q s^{3}}{{\\left(\\kappa^{2} m^{2} + s^{2}\\right)}^{\\frac{5}{2}} \\kappa} - \\frac{4 \\, Q m q s}{{\\left(\\kappa^{2} m^{2} + s^{2}\\right)}^{2} \\sqrt{\\frac{s^{2}}{\\kappa^{2} m^{2}} + 1}} + \\frac{2 \\, C_{2} m}{\\kappa^{2} m^{2} + s^{2}} - \\frac{3 \\, Q q s}{{\\left(\\kappa^{2} m^{2} + s^{2}\\right)}^{\\frac{3}{2}} \\kappa} - \\frac{Q q s}{{\\left(\\kappa^{2} m^{2} + s^{2}\\right)} \\kappa^{2} m {\\left(\\frac{s^{2}}{\\kappa^{2} m^{2}} + 1\\right)}^{\\frac{3}{2}}}\\right)} \\epsilon - \\frac{2 \\, \\sqrt{-{\\left(m^{2} - \\frac{Q^{2} q^{2}}{{\\left({\\left(\\frac{C_{2} \\kappa m s}{\\sqrt{\\kappa^{2} m^{2} + s^{2}}} - \\frac{Q q s \\operatorname{arsinh}\\left(\\frac{s}{\\kappa m}\\right)}{\\sqrt{\\kappa^{2} m^{2} + s^{2}}} + Q q\\right)} \\epsilon - \\sqrt{\\kappa^{2} + \\frac{s^{2}}{m^{2}}}\\right)}^{2}}\\right)} \\epsilon^{2} - \\frac{2 \\, Q \\epsilon q}{{\\left(\\frac{C_{2} \\kappa m s}{\\sqrt{\\kappa^{2} m^{2} + s^{2}}} - \\frac{Q q s \\operatorname{arsinh}\\left(\\frac{s}{\\kappa m}\\right)}{\\sqrt{\\kappa^{2} m^{2} + s^{2}}} + Q q\\right)} \\epsilon - \\sqrt{\\kappa^{2} + \\frac{s^{2}}{m^{2}}}} - \\frac{\\kappa^{2}}{{\\left({\\left(\\frac{C_{2} \\kappa m s}{\\sqrt{\\kappa^{2} m^{2} + s^{2}}} - \\frac{Q q s \\operatorname{arsinh}\\left(\\frac{s}{\\kappa m}\\right)}{\\sqrt{\\kappa^{2} m^{2} + s^{2}}} + Q q\\right)} \\epsilon - \\sqrt{\\kappa^{2} + \\frac{s^{2}}{m^{2}}}\\right)}^{2}} + 1} \\kappa}{{\\left({\\left(\\frac{C_{2} \\kappa m s}{\\sqrt{\\kappa^{2} m^{2} + s^{2}}} - \\frac{Q q s \\operatorname{arsinh}\\left(\\frac{s}{\\kappa m}\\right)}{\\sqrt{\\kappa^{2} m^{2} + s^{2}}} + Q q\\right)} \\epsilon - \\sqrt{\\kappa^{2} + \\frac{s^{2}}{m^{2}}}\\right)}^{3} m^{2}} - \\frac{2 \\, s}{\\kappa^{3} m^{3} {\\left(\\frac{s^{2}}{\\kappa^{2} m^{2}} + 1\\right)}^{2}}$"
      ],
      "text/plain": [
       "(8*Q*kappa*m^2*q*s^2*arcsinh(s/(kappa*m))/(kappa^2*m^2 + s^2)^3 - 2*Q*kappa*m^2*q*arcsinh(s/(kappa*m))/(kappa^2*m^2 + s^2)^2 + 8*C_2*m*s^4/(kappa^2*m^2 + s^2)^3 - 10*C_2*m*s^2/(kappa^2*m^2 + s^2)^2 + 3*Q*q*s^3/((kappa^2*m^2 + s^2)^(5/2)*kappa) - 4*Q*m*q*s/((kappa^2*m^2 + s^2)^2*sqrt(s^2/(kappa^2*m^2) + 1)) + 2*C_2*m/(kappa^2*m^2 + s^2) - 3*Q*q*s/((kappa^2*m^2 + s^2)^(3/2)*kappa) - Q*q*s/((kappa^2*m^2 + s^2)*kappa^2*m*(s^2/(kappa^2*m^2) + 1)^(3/2)))*epsilon - 2*sqrt(-(m^2 - Q^2*q^2/((C_2*kappa*m*s/sqrt(kappa^2*m^2 + s^2) - Q*q*s*arcsinh(s/(kappa*m))/sqrt(kappa^2*m^2 + s^2) + Q*q)*epsilon - sqrt(kappa^2 + s^2/m^2))^2)*epsilon^2 - 2*Q*epsilon*q/((C_2*kappa*m*s/sqrt(kappa^2*m^2 + s^2) - Q*q*s*arcsinh(s/(kappa*m))/sqrt(kappa^2*m^2 + s^2) + Q*q)*epsilon - sqrt(kappa^2 + s^2/m^2)) - kappa^2/((C_2*kappa*m*s/sqrt(kappa^2*m^2 + s^2) - Q*q*s*arcsinh(s/(kappa*m))/sqrt(kappa^2*m^2 + s^2) + Q*q)*epsilon - sqrt(kappa^2 + s^2/m^2))^2 + 1)*kappa/(((C_2*kappa*m*s/sqrt(kappa^2*m^2 + s^2) - Q*q*s*arcsinh(s/(kappa*m))/sqrt(kappa^2*m^2 + s^2) + Q*q)*epsilon - sqrt(kappa^2 + s^2/m^2))^3*m^2) - 2*s/(kappa^3*m^3*(s^2/(kappa^2*m^2) + 1)^2)"
      ]
     },
     "execution_count": 96,
     "metadata": {},
     "output_type": "execute_result"
    }
   ],
   "source": [
    "Ds2_ph = ph_Oeps.diff(s, 2) + ((2/r)*ds_ph*ds_r).subs({r:r_Oeps})\n",
    "Ds2_ph"
   ]
  },
  {
   "cell_type": "code",
   "execution_count": 97,
   "id": "d2ec002a",
   "metadata": {},
   "outputs": [
    {
     "data": {
      "text/html": [
       "<html>\\(\\displaystyle 0\\)</html>"
      ],
      "text/latex": [
       "$\\displaystyle 0$"
      ],
      "text/plain": [
       "0"
      ]
     },
     "execution_count": 97,
     "metadata": {},
     "output_type": "execute_result"
    }
   ],
   "source": [
    "Ds2_ph.subs({eps:0}).simplify_full()"
   ]
  },
  {
   "cell_type": "code",
   "execution_count": 98,
   "id": "9c33b7e9",
   "metadata": {},
   "outputs": [
    {
     "data": {
      "text/html": [
       "<html>\\(\\displaystyle -\\frac{3 \\, C_{2} \\kappa m s^{3}}{{\\left(\\kappa^{2} m^{2} + s^{2}\\right)}^{\\frac{5}{2}}} + \\frac{3 \\, C_{2} \\kappa m s}{{\\left(\\kappa^{2} m^{2} + s^{2}\\right)}^{\\frac{3}{2}}} - \\frac{3 \\, C_{2} \\kappa^{3} s}{\\sqrt{\\kappa^{2} m^{2} + s^{2}} {\\left(\\kappa^{2} + \\frac{s^{2}}{m^{2}}\\right)}^{2} m}\\)</html>"
      ],
      "text/latex": [
       "$\\displaystyle -\\frac{3 \\, C_{2} \\kappa m s^{3}}{{\\left(\\kappa^{2} m^{2} + s^{2}\\right)}^{\\frac{5}{2}}} + \\frac{3 \\, C_{2} \\kappa m s}{{\\left(\\kappa^{2} m^{2} + s^{2}\\right)}^{\\frac{3}{2}}} - \\frac{3 \\, C_{2} \\kappa^{3} s}{\\sqrt{\\kappa^{2} m^{2} + s^{2}} {\\left(\\kappa^{2} + \\frac{s^{2}}{m^{2}}\\right)}^{2} m}$"
      ],
      "text/plain": [
       "-3*C_2*kappa*m*s^3/(kappa^2*m^2 + s^2)^(5/2) + 3*C_2*kappa*m*s/(kappa^2*m^2 + s^2)^(3/2) - 3*C_2*kappa^3*s/(sqrt(kappa^2*m^2 + s^2)*(kappa^2 + s^2/m^2)^2*m)"
      ]
     },
     "execution_count": 98,
     "metadata": {},
     "output_type": "execute_result"
    }
   ],
   "source": [
    "Ds2_r.diff(eps, 1).subs({eps:0}).subs({q:0})"
   ]
  },
  {
   "cell_type": "code",
   "execution_count": 99,
   "id": "4551c191",
   "metadata": {},
   "outputs": [
    {
     "data": {
      "text/html": [
       "<html>\\(\\displaystyle 0\\)</html>"
      ],
      "text/latex": [
       "$\\displaystyle 0$"
      ],
      "text/plain": [
       "0"
      ]
     },
     "execution_count": 99,
     "metadata": {},
     "output_type": "execute_result"
    }
   ],
   "source": [
    "Ds2_ph.diff(eps, 1).subs({eps:0}).subs({q:0}).simplify_full()"
   ]
  },
  {
   "cell_type": "markdown",
   "id": "7fef4507",
   "metadata": {},
   "source": [
    "Clearly the relevant components of the 4-acceleration vanish, implying that the curves are geodesic when $q = 0$, for all values of $C_2$. But this constant can be used to fix the $s$ value at which the timelike curves attain the minimum radius."
   ]
  },
  {
   "cell_type": "code",
   "execution_count": 100,
   "id": "ce7d16b6",
   "metadata": {},
   "outputs": [
    {
     "data": {
      "text/html": [
       "<html>\\(\\displaystyle {\\left(\\frac{C_{2} \\kappa m s^{2}}{{\\left(\\kappa^{2} m^{2} + s^{2}\\right)}^{\\frac{3}{2}}} - \\frac{Q q s^{2} \\operatorname{arsinh}\\left(\\frac{s}{\\kappa m}\\right)}{{\\left(\\kappa^{2} m^{2} + s^{2}\\right)}^{\\frac{3}{2}}} - \\frac{C_{2} \\kappa m}{\\sqrt{\\kappa^{2} m^{2} + s^{2}}} + \\frac{Q q \\operatorname{arsinh}\\left(\\frac{s}{\\kappa m}\\right)}{\\sqrt{\\kappa^{2} m^{2} + s^{2}}} + \\frac{Q q s}{\\sqrt{\\kappa^{2} m^{2} + s^{2}} \\kappa m \\sqrt{\\frac{s^{2}}{\\kappa^{2} m^{2}} + 1}}\\right)} \\epsilon + \\frac{s}{\\sqrt{\\kappa^{2} + \\frac{s^{2}}{m^{2}}} m^{2}}\\)</html>"
      ],
      "text/latex": [
       "$\\displaystyle {\\left(\\frac{C_{2} \\kappa m s^{2}}{{\\left(\\kappa^{2} m^{2} + s^{2}\\right)}^{\\frac{3}{2}}} - \\frac{Q q s^{2} \\operatorname{arsinh}\\left(\\frac{s}{\\kappa m}\\right)}{{\\left(\\kappa^{2} m^{2} + s^{2}\\right)}^{\\frac{3}{2}}} - \\frac{C_{2} \\kappa m}{\\sqrt{\\kappa^{2} m^{2} + s^{2}}} + \\frac{Q q \\operatorname{arsinh}\\left(\\frac{s}{\\kappa m}\\right)}{\\sqrt{\\kappa^{2} m^{2} + s^{2}}} + \\frac{Q q s}{\\sqrt{\\kappa^{2} m^{2} + s^{2}} \\kappa m \\sqrt{\\frac{s^{2}}{\\kappa^{2} m^{2}} + 1}}\\right)} \\epsilon + \\frac{s}{\\sqrt{\\kappa^{2} + \\frac{s^{2}}{m^{2}}} m^{2}}$"
      ],
      "text/plain": [
       "(C_2*kappa*m*s^2/(kappa^2*m^2 + s^2)^(3/2) - Q*q*s^2*arcsinh(s/(kappa*m))/(kappa^2*m^2 + s^2)^(3/2) - C_2*kappa*m/sqrt(kappa^2*m^2 + s^2) + Q*q*arcsinh(s/(kappa*m))/sqrt(kappa^2*m^2 + s^2) + Q*q*s/(sqrt(kappa^2*m^2 + s^2)*kappa*m*sqrt(s^2/(kappa^2*m^2) + 1)))*epsilon + s/(sqrt(kappa^2 + s^2/m^2)*m^2)"
      ]
     },
     "execution_count": 100,
     "metadata": {},
     "output_type": "execute_result"
    }
   ],
   "source": [
    "dsr_Oeps = r_Oeps.diff(s, 1)\n",
    "dsr_Oeps"
   ]
  },
  {
   "cell_type": "code",
   "execution_count": 101,
   "id": "b096c549",
   "metadata": {},
   "outputs": [
    {
     "data": {
      "text/html": [
       "<html>\\(\\displaystyle -C_{2} \\epsilon \\kappa^{3} m^{4} + Q \\epsilon \\kappa^{2} m^{3} q \\operatorname{arsinh}\\left(\\frac{s}{\\kappa m}\\right) + \\sqrt{\\kappa^{2} m^{2} + s^{2}} Q \\epsilon m q s + \\kappa^{2} m^{2} s + s^{3} = 0\\)</html>"
      ],
      "text/latex": [
       "$\\displaystyle -C_{2} \\epsilon \\kappa^{3} m^{4} + Q \\epsilon \\kappa^{2} m^{3} q \\operatorname{arsinh}\\left(\\frac{s}{\\kappa m}\\right) + \\sqrt{\\kappa^{2} m^{2} + s^{2}} Q \\epsilon m q s + \\kappa^{2} m^{2} s + s^{3} = 0$"
      ],
      "text/plain": [
       "-C_2*epsilon*kappa^3*m^4 + Q*epsilon*kappa^2*m^3*q*arcsinh(s/(kappa*m)) + sqrt(kappa^2*m^2 + s^2)*Q*epsilon*m*q*s + kappa^2*m^2*s + s^3 == 0"
      ]
     },
     "execution_count": 101,
     "metadata": {},
     "output_type": "execute_result"
    }
   ],
   "source": [
    "rmin_eq1 = dsr_Oeps == 0\n",
    "rmin_eq2 = rmin_eq1.factor()\n",
    "rmin_eq3 = rmin_eq2*(rmin_eq2.lhs().denominator())\n",
    "rmin_eq3.factor()"
   ]
  },
  {
   "cell_type": "code",
   "execution_count": 117,
   "id": "2db3f553",
   "metadata": {},
   "outputs": [
    {
     "data": {
      "text/html": [
       "<html>\\(\\displaystyle \\frac{Q q \\operatorname{arsinh}\\left(\\frac{s}{\\kappa m}\\right)}{\\kappa m} + \\frac{\\sqrt{\\kappa^{2} m^{2} + s^{2}} Q q s}{\\kappa^{3} m^{3}} + \\frac{s}{\\epsilon \\kappa m^{2}} + \\frac{s^{3}}{\\epsilon \\kappa^{3} m^{4}} = C_{2}\\)</html>"
      ],
      "text/latex": [
       "$\\displaystyle \\frac{Q q \\operatorname{arsinh}\\left(\\frac{s}{\\kappa m}\\right)}{\\kappa m} + \\frac{\\sqrt{\\kappa^{2} m^{2} + s^{2}} Q q s}{\\kappa^{3} m^{3}} + \\frac{s}{\\epsilon \\kappa m^{2}} + \\frac{s^{3}}{\\epsilon \\kappa^{3} m^{4}} = C_{2}$"
      ],
      "text/plain": [
       "Q*q*arcsinh(s/(kappa*m))/(kappa*m) + sqrt(kappa^2*m^2 + s^2)*Q*q*s/(kappa^3*m^3) + s/(epsilon*kappa*m^2) + s^3/(epsilon*kappa^3*m^4) == C_2"
      ]
     },
     "execution_count": 117,
     "metadata": {},
     "output_type": "execute_result"
    }
   ],
   "source": [
    "rmin_eq4 = rmin_eq3 - rmin_eq3.lhs().operands()[0]\n",
    "rmin_eq5 = (rmin_eq4/(eps*kap^3*m^4)).expand()\n",
    "rmin_eq5"
   ]
  },
  {
   "cell_type": "markdown",
   "id": "947e6100",
   "metadata": {},
   "source": [
    "The leading order solution $r_0 = \\sqrt{\\kappa^2 + s^2/m^2}$ has a minima at $s = 0$, corresponding to $r_0 = \\kappa$. Thus we assume that the timelike curves attain their minimal $r$ value close to $s = 0$. For simplicity, let us assume $s \\sim \\mathcal{O} (\\epsilon)$, and Taylor expand the above LHS around $s = 0$. Since $s$ is close to $0$, we drop terms of order $\\mathcal{O} (s^3)$."
   ]
  },
  {
   "cell_type": "code",
   "execution_count": 123,
   "id": "4a0c598a",
   "metadata": {},
   "outputs": [
    {
     "data": {
      "text/html": [
       "<html>\\(\\displaystyle \\frac{{\\left(2 \\, Q \\epsilon q + \\kappa\\right)} s}{\\epsilon \\kappa^{2} m^{2}} = C_{2}\\)</html>"
      ],
      "text/latex": [
       "$\\displaystyle \\frac{{\\left(2 \\, Q \\epsilon q + \\kappa\\right)} s}{\\epsilon \\kappa^{2} m^{2}} = C_{2}$"
      ],
      "text/plain": [
       "(2*Q*epsilon*q + kappa)*s/(epsilon*kappa^2*m^2) == C_2"
      ]
     },
     "execution_count": 123,
     "metadata": {},
     "output_type": "execute_result"
    }
   ],
   "source": [
    "rmin_eq6 = rmin_eq5.lhs().taylor(s, 0, 2) == rmin_eq5.rhs()\n",
    "rmin_eq6"
   ]
  },
  {
   "cell_type": "code",
   "execution_count": 125,
   "id": "4e33fbdd",
   "metadata": {},
   "outputs": [
    {
     "data": {
      "text/html": [
       "<html>\\(\\displaystyle s = \\frac{C_{2} \\epsilon \\kappa^{2} m^{2}}{2 \\, Q \\epsilon q + \\kappa}\\)</html>"
      ],
      "text/latex": [
       "$\\displaystyle s = \\frac{C_{2} \\epsilon \\kappa^{2} m^{2}}{2 \\, Q \\epsilon q + \\kappa}$"
      ],
      "text/plain": [
       "s == C_2*epsilon*kappa^2*m^2/(2*Q*epsilon*q + kappa)"
      ]
     },
     "execution_count": 125,
     "metadata": {},
     "output_type": "execute_result"
    }
   ],
   "source": [
    "rmin_eq7 = rmin_eq6*rmin_eq6.lhs().denominator()/(2*eps*q*Q + kap)\n",
    "rmin_eq7"
   ]
  },
  {
   "cell_type": "markdown",
   "id": "8bc3e6b2",
   "metadata": {},
   "source": [
    "Thus at leading order, the timelike curves attain their minimal radial value at $s = \\frac{\\epsilon C_2 \\kappa^2 m^2}{\\kappa + 2 \\epsilon q Q}$."
   ]
  },
  {
   "cell_type": "code",
   "execution_count": 126,
   "id": "50ca734d",
   "metadata": {},
   "outputs": [
    {
     "data": {
      "text/html": [
       "<html>\\(\\displaystyle \\frac{C_{2} \\epsilon \\kappa^{2} m^{2}}{2 \\, Q \\epsilon q + \\kappa}\\)</html>"
      ],
      "text/latex": [
       "$\\displaystyle \\frac{C_{2} \\epsilon \\kappa^{2} m^{2}}{2 \\, Q \\epsilon q + \\kappa}$"
      ],
      "text/plain": [
       "C_2*epsilon*kappa^2*m^2/(2*Q*epsilon*q + kappa)"
      ]
     },
     "execution_count": 126,
     "metadata": {},
     "output_type": "execute_result"
    }
   ],
   "source": [
    "smin_Oeps = eps*C2*kap^2*m^2/(kap + 2*eps*q*Q)\n",
    "smin_Oeps"
   ]
  },
  {
   "cell_type": "code",
   "execution_count": 129,
   "id": "d00e2589",
   "metadata": {},
   "outputs": [
    {
     "data": {
      "text/html": [
       "<html>\\(\\displaystyle -\\frac{1}{2} \\, C_{2}^{2} \\epsilon^{2} \\kappa m^{2} - Q \\epsilon q + \\kappa\\)</html>"
      ],
      "text/latex": [
       "$\\displaystyle -\\frac{1}{2} \\, C_{2}^{2} \\epsilon^{2} \\kappa m^{2} - Q \\epsilon q + \\kappa$"
      ],
      "text/plain": [
       "-1/2*C_2^2*epsilon^2*kappa*m^2 - Q*epsilon*q + kappa"
      ]
     },
     "execution_count": 129,
     "metadata": {},
     "output_type": "execute_result"
    }
   ],
   "source": [
    "rmin_val = (r_Oeps(s=smin_Oeps)).taylor(eps, 0, 2)\n",
    "rmin_val"
   ]
  },
  {
   "cell_type": "markdown",
   "id": "71371b39",
   "metadata": {},
   "source": [
    "Thus the leading order minima of the radial function for the timelike curves is $r_{\\text{min}} = \\kappa - \\epsilon q Q - \\frac{1}{2} C_2^2 \\epsilon^2 \\kappa m^2$."
   ]
  },
  {
   "cell_type": "markdown",
   "id": "4ecc2094",
   "metadata": {},
   "source": [
    "We would like to check if this is also the $s$-value at which the angle $\\phi$ is minimised."
   ]
  },
  {
   "cell_type": "code",
   "execution_count": 130,
   "id": "8d64fc82",
   "metadata": {},
   "outputs": [
    {
     "data": {
      "text/html": [
       "<html>\\(\\displaystyle -{\\left(\\frac{2 \\, Q \\kappa m^{2} q s \\operatorname{arsinh}\\left(\\frac{s}{\\kappa m}\\right)}{{\\left(\\kappa^{2} m^{2} + s^{2}\\right)}^{2}} + \\frac{2 \\, C_{2} m s^{3}}{{\\left(\\kappa^{2} m^{2} + s^{2}\\right)}^{2}} - \\frac{2 \\, C_{2} m s}{\\kappa^{2} m^{2} + s^{2}} + \\frac{Q q s^{2}}{{\\left(\\kappa^{2} m^{2} + s^{2}\\right)}^{\\frac{3}{2}} \\kappa} - \\frac{Q m q}{{\\left(\\kappa^{2} m^{2} + s^{2}\\right)} \\sqrt{\\frac{s^{2}}{\\kappa^{2} m^{2}} + 1}} - \\frac{Q q}{\\sqrt{\\kappa^{2} m^{2} + s^{2}} \\kappa}\\right)} \\epsilon + \\frac{1}{\\kappa m {\\left(\\frac{s^{2}}{\\kappa^{2} m^{2}} + 1\\right)}}\\)</html>"
      ],
      "text/latex": [
       "$\\displaystyle -{\\left(\\frac{2 \\, Q \\kappa m^{2} q s \\operatorname{arsinh}\\left(\\frac{s}{\\kappa m}\\right)}{{\\left(\\kappa^{2} m^{2} + s^{2}\\right)}^{2}} + \\frac{2 \\, C_{2} m s^{3}}{{\\left(\\kappa^{2} m^{2} + s^{2}\\right)}^{2}} - \\frac{2 \\, C_{2} m s}{\\kappa^{2} m^{2} + s^{2}} + \\frac{Q q s^{2}}{{\\left(\\kappa^{2} m^{2} + s^{2}\\right)}^{\\frac{3}{2}} \\kappa} - \\frac{Q m q}{{\\left(\\kappa^{2} m^{2} + s^{2}\\right)} \\sqrt{\\frac{s^{2}}{\\kappa^{2} m^{2}} + 1}} - \\frac{Q q}{\\sqrt{\\kappa^{2} m^{2} + s^{2}} \\kappa}\\right)} \\epsilon + \\frac{1}{\\kappa m {\\left(\\frac{s^{2}}{\\kappa^{2} m^{2}} + 1\\right)}}$"
      ],
      "text/plain": [
       "-(2*Q*kappa*m^2*q*s*arcsinh(s/(kappa*m))/(kappa^2*m^2 + s^2)^2 + 2*C_2*m*s^3/(kappa^2*m^2 + s^2)^2 - 2*C_2*m*s/(kappa^2*m^2 + s^2) + Q*q*s^2/((kappa^2*m^2 + s^2)^(3/2)*kappa) - Q*m*q/((kappa^2*m^2 + s^2)*sqrt(s^2/(kappa^2*m^2) + 1)) - Q*q/(sqrt(kappa^2*m^2 + s^2)*kappa))*epsilon + 1/(kappa*m*(s^2/(kappa^2*m^2) + 1))"
      ]
     },
     "execution_count": 130,
     "metadata": {},
     "output_type": "execute_result"
    }
   ],
   "source": [
    "dsph_Oeps = ph_Oeps.diff(s, 1)\n",
    "dsph_Oeps"
   ]
  },
  {
   "cell_type": "code",
   "execution_count": 131,
   "id": "6cadb7f4",
   "metadata": {},
   "outputs": [
    {
     "data": {
      "text/html": [
       "<html>\\(\\displaystyle 2 \\, Q \\epsilon \\kappa^{2} m^{3} q + 2 \\, \\sqrt{\\kappa^{2} m^{2} + s^{2}} C_{2} \\epsilon \\kappa m^{2} s - 2 \\, \\sqrt{\\kappa^{2} m^{2} + s^{2}} Q \\epsilon m q s \\operatorname{arsinh}\\left(\\frac{s}{\\kappa m}\\right) + 2 \\, Q \\epsilon m q s^{2} + \\sqrt{\\kappa^{2} m^{2} + s^{2}} \\kappa^{2} m^{2} + \\sqrt{\\kappa^{2} m^{2} + s^{2}} s^{2} = 0\\)</html>"
      ],
      "text/latex": [
       "$\\displaystyle 2 \\, Q \\epsilon \\kappa^{2} m^{3} q + 2 \\, \\sqrt{\\kappa^{2} m^{2} + s^{2}} C_{2} \\epsilon \\kappa m^{2} s - 2 \\, \\sqrt{\\kappa^{2} m^{2} + s^{2}} Q \\epsilon m q s \\operatorname{arsinh}\\left(\\frac{s}{\\kappa m}\\right) + 2 \\, Q \\epsilon m q s^{2} + \\sqrt{\\kappa^{2} m^{2} + s^{2}} \\kappa^{2} m^{2} + \\sqrt{\\kappa^{2} m^{2} + s^{2}} s^{2} = 0$"
      ],
      "text/plain": [
       "2*Q*epsilon*kappa^2*m^3*q + 2*sqrt(kappa^2*m^2 + s^2)*C_2*epsilon*kappa*m^2*s - 2*sqrt(kappa^2*m^2 + s^2)*Q*epsilon*m*q*s*arcsinh(s/(kappa*m)) + 2*Q*epsilon*m*q*s^2 + sqrt(kappa^2*m^2 + s^2)*kappa^2*m^2 + sqrt(kappa^2*m^2 + s^2)*s^2 == 0"
      ]
     },
     "execution_count": 131,
     "metadata": {},
     "output_type": "execute_result"
    }
   ],
   "source": [
    "phmin_eq1 = (dsph_Oeps).factor() == 0\n",
    "phmin_eq2 = phmin_eq1*phmin_eq1.lhs().denominator()/(kap*m)\n",
    "phmin_eq2"
   ]
  },
  {
   "cell_type": "code",
   "execution_count": 134,
   "id": "b520eba3",
   "metadata": {},
   "outputs": [
    {
     "data": {
      "text/html": [
       "<html>\\(\\displaystyle 2 \\, Q \\epsilon \\kappa^{2} m^{3} q + \\kappa^{3} m^{3} + \\frac{3}{2} \\, \\kappa m s^{2} + {\\left(2 \\, \\epsilon \\kappa^{2} m^{3} s + \\epsilon m s^{3}\\right)} C_{2} = 0\\)</html>"
      ],
      "text/latex": [
       "$\\displaystyle 2 \\, Q \\epsilon \\kappa^{2} m^{3} q + \\kappa^{3} m^{3} + \\frac{3}{2} \\, \\kappa m s^{2} + {\\left(2 \\, \\epsilon \\kappa^{2} m^{3} s + \\epsilon m s^{3}\\right)} C_{2} = 0$"
      ],
      "text/plain": [
       "2*Q*epsilon*kappa^2*m^3*q + kappa^3*m^3 + 3/2*kappa*m*s^2 + (2*epsilon*kappa^2*m^3*s + epsilon*m*s^3)*C_2 == 0"
      ]
     },
     "execution_count": 134,
     "metadata": {},
     "output_type": "execute_result"
    }
   ],
   "source": [
    "phmin_eq3 = phmin_eq2.lhs().taylor(s, 0, 3).collect(C2) == phmin_eq2.rhs()\n",
    "phmin_eq3"
   ]
  },
  {
   "cell_type": "code",
   "execution_count": 135,
   "id": "9151c405",
   "metadata": {},
   "outputs": [
    {
     "data": {
      "text/html": [
       "<html>\\(\\displaystyle \\left[2 \\, Q \\epsilon \\kappa^{2} m^{3} q, \\kappa^{3} m^{3}, \\frac{3}{2} \\, \\kappa m s^{2}, {\\left(2 \\, \\epsilon \\kappa^{2} m^{3} s + \\epsilon m s^{3}\\right)} C_{2}\\right]\\)</html>"
      ],
      "text/latex": [
       "$\\displaystyle \\left[2 \\, Q \\epsilon \\kappa^{2} m^{3} q, \\kappa^{3} m^{3}, \\frac{3}{2} \\, \\kappa m s^{2}, {\\left(2 \\, \\epsilon \\kappa^{2} m^{3} s + \\epsilon m s^{3}\\right)} C_{2}\\right]$"
      ],
      "text/plain": [
       "[2*Q*epsilon*kappa^2*m^3*q,\n",
       " kappa^3*m^3,\n",
       " 3/2*kappa*m*s^2,\n",
       " (2*epsilon*kappa^2*m^3*s + epsilon*m*s^3)*C_2]"
      ]
     },
     "execution_count": 135,
     "metadata": {},
     "output_type": "execute_result"
    }
   ],
   "source": [
    "phmin_eq3.lhs().operands()[:]"
   ]
  },
  {
   "cell_type": "code",
   "execution_count": 136,
   "id": "4d15dc14",
   "metadata": {},
   "outputs": [
    {
     "data": {
      "text/html": [
       "<html>\\(\\displaystyle 2 \\, Q \\epsilon \\kappa^{2} m^{3} q + \\kappa^{3} m^{3} + \\frac{3}{2} \\, \\kappa m s^{2} = -{\\left(2 \\, \\epsilon \\kappa^{2} m^{3} s + \\epsilon m s^{3}\\right)} C_{2}\\)</html>"
      ],
      "text/latex": [
       "$\\displaystyle 2 \\, Q \\epsilon \\kappa^{2} m^{3} q + \\kappa^{3} m^{3} + \\frac{3}{2} \\, \\kappa m s^{2} = -{\\left(2 \\, \\epsilon \\kappa^{2} m^{3} s + \\epsilon m s^{3}\\right)} C_{2}$"
      ],
      "text/plain": [
       "2*Q*epsilon*kappa^2*m^3*q + kappa^3*m^3 + 3/2*kappa*m*s^2 == -(2*epsilon*kappa^2*m^3*s + epsilon*m*s^3)*C_2"
      ]
     },
     "execution_count": 136,
     "metadata": {},
     "output_type": "execute_result"
    }
   ],
   "source": [
    "phmin_eq4 = phmin_eq3 - phmin_eq3.lhs().operands()[3]\n",
    "phmin_eq4"
   ]
  },
  {
   "cell_type": "code",
   "execution_count": 139,
   "id": "1f2f9ad3",
   "metadata": {},
   "outputs": [
    {
     "data": {
      "text/html": [
       "<html>\\(\\displaystyle -\\frac{5 \\, C_{2}^{2} Q \\epsilon^{3} m q}{\\kappa^{2}} + \\frac{C_{2}^{2} \\epsilon^{2} m}{\\kappa} + \\frac{2 \\, Q \\epsilon q}{\\kappa^{2} m} + \\frac{1}{\\kappa m}\\)</html>"
      ],
      "text/latex": [
       "$\\displaystyle -\\frac{5 \\, C_{2}^{2} Q \\epsilon^{3} m q}{\\kappa^{2}} + \\frac{C_{2}^{2} \\epsilon^{2} m}{\\kappa} + \\frac{2 \\, Q \\epsilon q}{\\kappa^{2} m} + \\frac{1}{\\kappa m}$"
      ],
      "text/plain": [
       "-5*C_2^2*Q*epsilon^3*m*q/kappa^2 + C_2^2*epsilon^2*m/kappa + 2*Q*epsilon*q/(kappa^2*m) + 1/(kappa*m)"
      ]
     },
     "execution_count": 139,
     "metadata": {},
     "output_type": "execute_result"
    }
   ],
   "source": [
    "dsph_Oeps(s = smin_Oeps).taylor(eps, 0, 3)"
   ]
  },
  {
   "cell_type": "code",
   "execution_count": 142,
   "id": "85fd9123",
   "metadata": {},
   "outputs": [
    {
     "data": {
      "text/html": [
       "<html>\\(\\displaystyle \\frac{2}{3} \\, C_{2}^{3} \\epsilon^{3} m^{3} + C_{2} \\epsilon m + \\Phi_{0}\\)</html>"
      ],
      "text/latex": [
       "$\\displaystyle \\frac{2}{3} \\, C_{2}^{3} \\epsilon^{3} m^{3} + C_{2} \\epsilon m + \\Phi_{0}$"
      ],
      "text/plain": [
       "2/3*C_2^3*epsilon^3*m^3 + C_2*epsilon*m + Phi_0"
      ]
     },
     "execution_count": 142,
     "metadata": {},
     "output_type": "execute_result"
    }
   ],
   "source": [
    "ph_Oeps(s = smin_Oeps).taylor(eps, 0, 3)"
   ]
  },
  {
   "cell_type": "code",
   "execution_count": 143,
   "id": "5491cc87",
   "metadata": {},
   "outputs": [
    {
     "data": {
      "text/html": [
       "<html>\\(\\displaystyle {\\left(\\frac{Q \\kappa m^{2} q \\operatorname{arsinh}\\left(\\frac{s}{\\kappa m}\\right)}{\\kappa^{2} m^{2} + s^{2}} + \\frac{C_{2} m s^{2}}{\\kappa^{2} m^{2} + s^{2}} + \\frac{Q q s}{\\sqrt{\\kappa^{2} m^{2} + s^{2}} \\kappa}\\right)} \\epsilon + \\Phi_{0} + \\arctan\\left(\\frac{s}{\\kappa m}\\right)\\)</html>"
      ],
      "text/latex": [
       "$\\displaystyle {\\left(\\frac{Q \\kappa m^{2} q \\operatorname{arsinh}\\left(\\frac{s}{\\kappa m}\\right)}{\\kappa^{2} m^{2} + s^{2}} + \\frac{C_{2} m s^{2}}{\\kappa^{2} m^{2} + s^{2}} + \\frac{Q q s}{\\sqrt{\\kappa^{2} m^{2} + s^{2}} \\kappa}\\right)} \\epsilon + \\Phi_{0} + \\arctan\\left(\\frac{s}{\\kappa m}\\right)$"
      ],
      "text/plain": [
       "(Q*kappa*m^2*q*arcsinh(s/(kappa*m))/(kappa^2*m^2 + s^2) + C_2*m*s^2/(kappa^2*m^2 + s^2) + Q*q*s/(sqrt(kappa^2*m^2 + s^2)*kappa))*epsilon + Phi_0 + arctan(s/(kappa*m))"
      ]
     },
     "execution_count": 143,
     "metadata": {},
     "output_type": "execute_result"
    }
   ],
   "source": [
    "ph_Oeps"
   ]
  },
  {
   "cell_type": "code",
   "execution_count": null,
   "id": "abe7759f",
   "metadata": {},
   "outputs": [],
   "source": []
  }
 ],
 "metadata": {
  "kernelspec": {
   "display_name": "SageMath 9.7",
   "language": "sage",
   "name": "sagemath"
  },
  "language_info": {
   "codemirror_mode": {
    "name": "ipython",
    "version": 3
   },
   "file_extension": ".py",
   "mimetype": "text/x-python",
   "name": "python",
   "nbconvert_exporter": "python",
   "pygments_lexer": "ipython3",
   "version": "3.8.10"
  }
 },
 "nbformat": 4,
 "nbformat_minor": 5
}
