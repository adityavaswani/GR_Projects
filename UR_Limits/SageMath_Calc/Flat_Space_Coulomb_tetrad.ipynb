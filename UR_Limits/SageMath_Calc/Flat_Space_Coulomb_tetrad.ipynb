{
 "cells": [
  {
   "cell_type": "code",
   "execution_count": 1,
   "id": "0be69cd0",
   "metadata": {},
   "outputs": [],
   "source": [
    "%display latex"
   ]
  },
  {
   "cell_type": "markdown",
   "id": "165aa39a",
   "metadata": {},
   "source": [
    "Define the manifold and coordinates $(t, r, \\theta, \\phi)$"
   ]
  },
  {
   "cell_type": "code",
   "execution_count": 2,
   "id": "3ce62a52",
   "metadata": {},
   "outputs": [
    {
     "data": {
      "text/html": [
       "<html>\\(\\displaystyle \\left(M,(t, r, {\\theta}, {\\phi})\\right)\\)</html>"
      ],
      "text/latex": [
       "$\\displaystyle \\left(M,(t, r, {\\theta}, {\\phi})\\right)$"
      ],
      "text/plain": [
       "Chart (M, (t, r, th, ph))"
      ]
     },
     "execution_count": 2,
     "metadata": {},
     "output_type": "execute_result"
    }
   ],
   "source": [
    "M = Manifold(4, 'M', structure='Lorentzian')\n",
    "X.<t, r, th, ph> = M.chart(r't r:(0,+oo) th:(0,pi):\\theta ph:(0,2*pi):\\phi')\n",
    "X"
   ]
  },
  {
   "cell_type": "markdown",
   "id": "90f028d1",
   "metadata": {},
   "source": [
    "Introduce the variables that will be used."
   ]
  },
  {
   "cell_type": "code",
   "execution_count": 3,
   "id": "87ed5b74",
   "metadata": {},
   "outputs": [
    {
     "data": {
      "text/html": [
       "<html>\\(\\displaystyle \\left(s, R_{0}, \\kappa, \\sqrt{R_{0}^{2} - \\kappa^{2}}\\right)\\)</html>"
      ],
      "text/latex": [
       "$\\displaystyle \\left(s, R_{0}, \\kappa, \\sqrt{R_{0}^{2} - \\kappa^{2}}\\right)$"
      ],
      "text/plain": [
       "(s, R_0, kappa, sqrt(R_0^2 - kappa^2))"
      ]
     },
     "execution_count": 3,
     "metadata": {},
     "output_type": "execute_result"
    }
   ],
   "source": [
    "s = var('s')\n",
    "q, Q, m = var('q, Q, m')\n",
    "kap = var('kappa')\n",
    "R0 = var('R_0')\n",
    "u = function('u')(s)\n",
    "assume(s>0)\n",
    "assume(kap>0)\n",
    "assume(R0>kap)\n",
    "assume(q>0)\n",
    "assume(Q>0)\n",
    "assume(m>0)\n",
    "Cr = sqrt(R_0^2 - kap^2)\n",
    "s, R0, kap, Cr"
   ]
  },
  {
   "cell_type": "markdown",
   "id": "69355474",
   "metadata": {},
   "source": [
    "Define the metric for flat space in spherical polar coordinates, compute the Christoffel symbols, and define the affine connection for the manifold."
   ]
  },
  {
   "cell_type": "code",
   "execution_count": 4,
   "id": "31ee02db",
   "metadata": {},
   "outputs": [
    {
     "data": {
      "text/html": [
       "<html>\\(\\displaystyle \\left(\\begin{array}{rrrr}\n",
       "-1 & 0 & 0 & 0 \\\\\n",
       "0 & 1 & 0 & 0 \\\\\n",
       "0 & 0 & r^{2} & 0 \\\\\n",
       "0 & 0 & 0 & r^{2} \\sin\\left({\\theta}\\right)^{2}\n",
       "\\end{array}\\right)\\)</html>"
      ],
      "text/latex": [
       "$\\displaystyle \\left(\\begin{array}{rrrr}\n",
       "-1 & 0 & 0 & 0 \\\\\n",
       "0 & 1 & 0 & 0 \\\\\n",
       "0 & 0 & r^{2} & 0 \\\\\n",
       "0 & 0 & 0 & r^{2} \\sin\\left({\\theta}\\right)^{2}\n",
       "\\end{array}\\right)$"
      ],
      "text/plain": [
       "[           -1             0             0             0]\n",
       "[            0             1             0             0]\n",
       "[            0             0           r^2             0]\n",
       "[            0             0             0 r^2*sin(th)^2]"
      ]
     },
     "execution_count": 4,
     "metadata": {},
     "output_type": "execute_result"
    }
   ],
   "source": [
    "g = M.metric('g')\n",
    "g[0, 0], g[1, 1], g[2, 2], g[3, 3] = -1, 1, r^2, r^2*sin(th)^2\n",
    "g[:]"
   ]
  },
  {
   "cell_type": "code",
   "execution_count": 5,
   "id": "136fb2f9",
   "metadata": {},
   "outputs": [
    {
     "data": {
      "text/html": [
       "<html>\\(\\displaystyle \\left[\\left[\\left[0, 0, 0, 0\\right], \\left[0, 0, 0, 0\\right], \\left[0, 0, 0, 0\\right], \\left[0, 0, 0, 0\\right]\\right], \\left[\\left[0, 0, 0, 0\\right], \\left[0, 0, 0, 0\\right], \\left[0, 0, -r, 0\\right], \\left[0, 0, 0, -r \\sin\\left({\\theta}\\right)^{2}\\right]\\right], \\left[\\left[0, 0, 0, 0\\right], \\left[0, 0, \\frac{1}{r}, 0\\right], \\left[0, \\frac{1}{r}, 0, 0\\right], \\left[0, 0, 0, -\\cos\\left({\\theta}\\right) \\sin\\left({\\theta}\\right)\\right]\\right], \\left[\\left[0, 0, 0, 0\\right], \\left[0, 0, 0, \\frac{1}{r}\\right], \\left[0, 0, 0, \\frac{\\cos\\left({\\theta}\\right)}{\\sin\\left({\\theta}\\right)}\\right], \\left[0, \\frac{1}{r}, \\frac{\\cos\\left({\\theta}\\right)}{\\sin\\left({\\theta}\\right)}, 0\\right]\\right]\\right]\\)</html>"
      ],
      "text/latex": [
       "$\\displaystyle \\left[\\left[\\left[0, 0, 0, 0\\right], \\left[0, 0, 0, 0\\right], \\left[0, 0, 0, 0\\right], \\left[0, 0, 0, 0\\right]\\right], \\left[\\left[0, 0, 0, 0\\right], \\left[0, 0, 0, 0\\right], \\left[0, 0, -r, 0\\right], \\left[0, 0, 0, -r \\sin\\left({\\theta}\\right)^{2}\\right]\\right], \\left[\\left[0, 0, 0, 0\\right], \\left[0, 0, \\frac{1}{r}, 0\\right], \\left[0, \\frac{1}{r}, 0, 0\\right], \\left[0, 0, 0, -\\cos\\left({\\theta}\\right) \\sin\\left({\\theta}\\right)\\right]\\right], \\left[\\left[0, 0, 0, 0\\right], \\left[0, 0, 0, \\frac{1}{r}\\right], \\left[0, 0, 0, \\frac{\\cos\\left({\\theta}\\right)}{\\sin\\left({\\theta}\\right)}\\right], \\left[0, \\frac{1}{r}, \\frac{\\cos\\left({\\theta}\\right)}{\\sin\\left({\\theta}\\right)}, 0\\right]\\right]\\right]$"
      ],
      "text/plain": [
       "[[[0, 0, 0, 0], [0, 0, 0, 0], [0, 0, 0, 0], [0, 0, 0, 0]],\n",
       " [[0, 0, 0, 0], [0, 0, 0, 0], [0, 0, -r, 0], [0, 0, 0, -r*sin(th)^2]],\n",
       " [[0, 0, 0, 0], [0, 0, 1/r, 0], [0, 1/r, 0, 0], [0, 0, 0, -cos(th)*sin(th)]],\n",
       " [[0, 0, 0, 0],\n",
       "  [0, 0, 0, 1/r],\n",
       "  [0, 0, 0, cos(th)/sin(th)],\n",
       "  [0, 1/r, cos(th)/sin(th), 0]]]"
      ]
     },
     "execution_count": 5,
     "metadata": {},
     "output_type": "execute_result"
    }
   ],
   "source": [
    "Gam = g.christoffel_symbols()\n",
    "nab = M.affine_connection('nabla', r'\\nabla')\n",
    "nab[:] = Gam[:]\n",
    "nab[:]"
   ]
  },
  {
   "cell_type": "markdown",
   "id": "6e9ba6be",
   "metadata": {},
   "source": [
    "Restrict to the equatorial region $\\theta = \\pi/2$."
   ]
  },
  {
   "cell_type": "code",
   "execution_count": 6,
   "id": "5e3eeec1",
   "metadata": {},
   "outputs": [
    {
     "data": {
      "text/html": [
       "<html>\\(\\displaystyle \\left(\\begin{array}{rrrr}\n",
       "-1 & 0 & 0 & 0 \\\\\n",
       "0 & 1 & 0 & 0 \\\\\n",
       "0 & 0 & r^{2} & 0 \\\\\n",
       "0 & 0 & 0 & r^{2}\n",
       "\\end{array}\\right)\\)</html>"
      ],
      "text/latex": [
       "$\\displaystyle \\left(\\begin{array}{rrrr}\n",
       "-1 & 0 & 0 & 0 \\\\\n",
       "0 & 1 & 0 & 0 \\\\\n",
       "0 & 0 & r^{2} & 0 \\\\\n",
       "0 & 0 & 0 & r^{2}\n",
       "\\end{array}\\right)$"
      ],
      "text/plain": [
       "[ -1   0   0   0]\n",
       "[  0   1   0   0]\n",
       "[  0   0 r^2   0]\n",
       "[  0   0   0 r^2]"
      ]
     },
     "execution_count": 6,
     "metadata": {},
     "output_type": "execute_result"
    }
   ],
   "source": [
    "g.apply_map(lambda x: x.subs({th:pi/2}))\n",
    "g[:]"
   ]
  },
  {
   "cell_type": "markdown",
   "id": "86bf1e02",
   "metadata": {},
   "source": [
    "Define the elements of the quasi-null parallel propagated tetrad $(\\dot{z}, n, e_i)$. The tangent vector to the null geodesic is $\\dot{z}$, while $e_1$ is the normalised unit vector in the $\\hat{\\theta}$ direction. See the sage script titled ``Analysis_UR_Lim_coulomb'' for details about deriving $\\dot{z}$."
   ]
  },
  {
   "cell_type": "code",
   "execution_count": 7,
   "id": "b8d53b8f",
   "metadata": {},
   "outputs": [
    {
     "data": {
      "text/html": [
       "<html>\\(\\displaystyle \\left(\\left[\\frac{1}{m}, \\frac{\\sqrt{-\\frac{\\kappa^{2}}{r^{2}} + 1}}{m}, 0, \\frac{\\kappa}{m r^{2}}\\right], \\left[0, 0, \\frac{1}{r}, 0\\right]\\right)\\)</html>"
      ],
      "text/latex": [
       "$\\displaystyle \\left(\\left[\\frac{1}{m}, \\frac{\\sqrt{-\\frac{\\kappa^{2}}{r^{2}} + 1}}{m}, 0, \\frac{\\kappa}{m r^{2}}\\right], \\left[0, 0, \\frac{1}{r}, 0\\right]\\right)$"
      ],
      "text/plain": [
       "([1/m, sqrt(-kappa^2/r^2 + 1)/m, 0, kappa/(m*r^2)], [0, 0, 1/r, 0])"
      ]
     },
     "execution_count": 7,
     "metadata": {},
     "output_type": "execute_result"
    }
   ],
   "source": [
    "zdot = M.vector_field(name=r'\\dot{z}')\n",
    "n = M.vector_field(name='n')\n",
    "e1 = M.vector_field(name='e_1')\n",
    "e2 = M.vector_field(name='e_2')\n",
    "zdot[:] = [1/m, 1/m*sqrt(1 - kap^2/r^2), 0, kap/(m*r^2)]\n",
    "e1[:] = [0, 0, 1/r, 0]\n",
    "zdot[:], e1[:]"
   ]
  },
  {
   "cell_type": "markdown",
   "id": "8fc6f305",
   "metadata": {},
   "source": [
    "Check that the inner products between $\\dot{z}$ and $e_1$ are satisfied, as well the fact that they are parallel transported along the null geodesic."
   ]
  },
  {
   "cell_type": "code",
   "execution_count": 8,
   "id": "70873dc3",
   "metadata": {},
   "outputs": [
    {
     "data": {
      "text/html": [
       "<html>\\(\\displaystyle \\left(\\begin{array}{llcl} g\\left(\\dot{z},\\dot{z}\\right):& M & \\longrightarrow & \\mathbb{R} \\\\ & \\left(t, r, {\\theta}, {\\phi}\\right) & \\longmapsto & 0 \\end{array}, \\begin{array}{llcl} g\\left(\\dot{z},e_1\\right):& M & \\longrightarrow & \\mathbb{R} \\\\ & \\left(t, r, {\\theta}, {\\phi}\\right) & \\longmapsto & 0 \\end{array}, \\begin{array}{llcl} g\\left(e_1,e_1\\right):& M & \\longrightarrow & \\mathbb{R} \\\\ & \\left(t, r, {\\theta}, {\\phi}\\right) & \\longmapsto & 1 \\end{array}\\right)\\)</html>"
      ],
      "text/latex": [
       "$\\displaystyle \\left(\\begin{array}{llcl} g\\left(\\dot{z},\\dot{z}\\right):& M & \\longrightarrow & \\mathbb{R} \\\\ & \\left(t, r, {\\theta}, {\\phi}\\right) & \\longmapsto & 0 \\end{array}, \\begin{array}{llcl} g\\left(\\dot{z},e_1\\right):& M & \\longrightarrow & \\mathbb{R} \\\\ & \\left(t, r, {\\theta}, {\\phi}\\right) & \\longmapsto & 0 \\end{array}, \\begin{array}{llcl} g\\left(e_1,e_1\\right):& M & \\longrightarrow & \\mathbb{R} \\\\ & \\left(t, r, {\\theta}, {\\phi}\\right) & \\longmapsto & 1 \\end{array}\\right)$"
      ],
      "text/plain": [
       "(g(\\dot{z},\\dot{z}): M → ℝ\n",
       "    (t, r, th, ph) ↦ 0,\n",
       " g(\\dot{z},e_1): M → ℝ\n",
       "    (t, r, th, ph) ↦ 0,\n",
       " g(e_1,e_1): M → ℝ\n",
       "    (t, r, th, ph) ↦ 1)"
      ]
     },
     "execution_count": 8,
     "metadata": {},
     "output_type": "execute_result"
    }
   ],
   "source": [
    "g(zdot, zdot).display(), g(zdot, e1).display(), g(e1, e1).display()"
   ]
  },
  {
   "cell_type": "markdown",
   "id": "b56990b2",
   "metadata": {},
   "source": [
    "To check parallel transport, we need to substitute $\\theta = \\pi / 2$ in the affine connection."
   ]
  },
  {
   "cell_type": "code",
   "execution_count": 9,
   "id": "ac9719fb",
   "metadata": {},
   "outputs": [
    {
     "data": {
      "text/html": [
       "<html>\\(\\displaystyle \\left(\\left[0, 0, 0, 0\\right], \\left[0, 0, 0, 0\\right]\\right)\\)</html>"
      ],
      "text/latex": [
       "$\\displaystyle \\left(\\left[0, 0, 0, 0\\right], \\left[0, 0, 0, 0\\right]\\right)$"
      ],
      "text/plain": [
       "([0, 0, 0, 0], [0, 0, 0, 0])"
      ]
     },
     "execution_count": 9,
     "metadata": {},
     "output_type": "execute_result"
    }
   ],
   "source": [
    "Dzdot = nab(zdot)\n",
    "De1 = nab(e1)\n",
    "Dzdot.apply_map(lambda x: x.subs({th:pi/2}))\n",
    "De1.apply_map(lambda x: x.subs({th:pi/2}))\n",
    "Dzdot.contract(zdot)[:], De1.contract(zdot)[:]"
   ]
  },
  {
   "cell_type": "markdown",
   "id": "e02b8159",
   "metadata": {},
   "source": [
    "Define the variables $a_n,b_n, c_n$ that are the components of the vector $n^a$, and similarly for the components of $e_2$. Using the inner product relations, generate a set of equations that the components must satisfy."
   ]
  },
  {
   "cell_type": "code",
   "execution_count": 10,
   "id": "0f5c324a",
   "metadata": {},
   "outputs": [
    {
     "data": {
      "text/html": [
       "<html>\\(\\displaystyle \\left(\\left[a_{n}, b_{n}, 0, c_{n}\\right], \\left[a_{2}, b_{2}, 0, c_{2}\\right]\\right)\\)</html>"
      ],
      "text/latex": [
       "$\\displaystyle \\left(\\left[a_{n}, b_{n}, 0, c_{n}\\right], \\left[a_{2}, b_{2}, 0, c_{2}\\right]\\right)$"
      ],
      "text/plain": [
       "([a_n, b_n, 0, c_n], [a_2, b_2, 0, c_2])"
      ]
     },
     "execution_count": 10,
     "metadata": {},
     "output_type": "execute_result"
    }
   ],
   "source": [
    "an, bn, cn, a2, b2, c2 = var('a_n, b_n, c_n, a_2, b_2, c_2')\n",
    "n[:] = [an, bn, 0, cn]\n",
    "e2[:] = [a2, b2, 0, c2]\n",
    "n[:], e2[:]"
   ]
  },
  {
   "cell_type": "code",
   "execution_count": 11,
   "id": "27a8c729",
   "metadata": {},
   "outputs": [
    {
     "data": {
      "text/html": [
       "<html>\\(\\displaystyle \\left(\\begin{array}{llcl} g\\left(n,\\dot{z}\\right):& M & \\longrightarrow & \\mathbb{R} \\\\ & \\left(t, r, {\\theta}, {\\phi}\\right) & \\longmapsto & \\frac{b_{n} \\sqrt{\\kappa + r} \\sqrt{-\\kappa + r} + {\\left(c_{n} \\kappa - a_{n}\\right)} r}{m r} \\end{array}, \\begin{array}{llcl} g\\left(n,n\\right):& M & \\longrightarrow & \\mathbb{R} \\\\ & \\left(t, r, {\\theta}, {\\phi}\\right) & \\longmapsto & c_{n}^{2} r^{2} - a_{n}^{2} + b_{n}^{2} \\end{array}, \\begin{array}{llcl} g\\left(n,e_2\\right):& M & \\longrightarrow & \\mathbb{R} \\\\ & \\left(t, r, {\\theta}, {\\phi}\\right) & \\longmapsto & c_{2} c_{n} r^{2} - a_{2} a_{n} + b_{2} b_{n} \\end{array}\\right)\\)</html>"
      ],
      "text/latex": [
       "$\\displaystyle \\left(\\begin{array}{llcl} g\\left(n,\\dot{z}\\right):& M & \\longrightarrow & \\mathbb{R} \\\\ & \\left(t, r, {\\theta}, {\\phi}\\right) & \\longmapsto & \\frac{b_{n} \\sqrt{\\kappa + r} \\sqrt{-\\kappa + r} + {\\left(c_{n} \\kappa - a_{n}\\right)} r}{m r} \\end{array}, \\begin{array}{llcl} g\\left(n,n\\right):& M & \\longrightarrow & \\mathbb{R} \\\\ & \\left(t, r, {\\theta}, {\\phi}\\right) & \\longmapsto & c_{n}^{2} r^{2} - a_{n}^{2} + b_{n}^{2} \\end{array}, \\begin{array}{llcl} g\\left(n,e_2\\right):& M & \\longrightarrow & \\mathbb{R} \\\\ & \\left(t, r, {\\theta}, {\\phi}\\right) & \\longmapsto & c_{2} c_{n} r^{2} - a_{2} a_{n} + b_{2} b_{n} \\end{array}\\right)$"
      ],
      "text/plain": [
       "(g(n,\\dot{z}): M → ℝ\n",
       "    (t, r, th, ph) ↦ (b_n*sqrt(kappa + r)*sqrt(-kappa + r) + (c_n*kappa - a_n)*r)/(m*r),\n",
       " g(n,n): M → ℝ\n",
       "    (t, r, th, ph) ↦ c_n^2*r^2 - a_n^2 + b_n^2,\n",
       " g(n,e_2): M → ℝ\n",
       "    (t, r, th, ph) ↦ c_2*c_n*r^2 - a_2*a_n + b_2*b_n)"
      ]
     },
     "execution_count": 11,
     "metadata": {},
     "output_type": "execute_result"
    }
   ],
   "source": [
    "g(n, zdot).display(), g(n, n).display(), g(n, e2).display()"
   ]
  },
  {
   "cell_type": "code",
   "execution_count": 12,
   "id": "b4c4278f",
   "metadata": {},
   "outputs": [
    {
     "data": {
      "text/html": [
       "<html>\\(\\displaystyle \\left(\\begin{array}{llcl} g\\left(e_2,\\dot{z}\\right):& M & \\longrightarrow & \\mathbb{R} \\\\ & \\left(t, r, {\\theta}, {\\phi}\\right) & \\longmapsto & \\frac{b_{2} \\sqrt{\\kappa + r} \\sqrt{-\\kappa + r} + {\\left(c_{2} \\kappa - a_{2}\\right)} r}{m r} \\end{array}, \\begin{array}{llcl} g\\left(e_2,e_2\\right):& M & \\longrightarrow & \\mathbb{R} \\\\ & \\left(t, r, {\\theta}, {\\phi}\\right) & \\longmapsto & c_{2}^{2} r^{2} - a_{2}^{2} + b_{2}^{2} \\end{array}\\right)\\)</html>"
      ],
      "text/latex": [
       "$\\displaystyle \\left(\\begin{array}{llcl} g\\left(e_2,\\dot{z}\\right):& M & \\longrightarrow & \\mathbb{R} \\\\ & \\left(t, r, {\\theta}, {\\phi}\\right) & \\longmapsto & \\frac{b_{2} \\sqrt{\\kappa + r} \\sqrt{-\\kappa + r} + {\\left(c_{2} \\kappa - a_{2}\\right)} r}{m r} \\end{array}, \\begin{array}{llcl} g\\left(e_2,e_2\\right):& M & \\longrightarrow & \\mathbb{R} \\\\ & \\left(t, r, {\\theta}, {\\phi}\\right) & \\longmapsto & c_{2}^{2} r^{2} - a_{2}^{2} + b_{2}^{2} \\end{array}\\right)$"
      ],
      "text/plain": [
       "(g(e_2,\\dot{z}): M → ℝ\n",
       "    (t, r, th, ph) ↦ (b_2*sqrt(kappa + r)*sqrt(-kappa + r) + (c_2*kappa - a_2)*r)/(m*r),\n",
       " g(e_2,e_2): M → ℝ\n",
       "    (t, r, th, ph) ↦ c_2^2*r^2 - a_2^2 + b_2^2)"
      ]
     },
     "execution_count": 12,
     "metadata": {},
     "output_type": "execute_result"
    }
   ],
   "source": [
    "g(e2, zdot).display(), g(e2, e2).display()"
   ]
  },
  {
   "cell_type": "code",
   "execution_count": 13,
   "id": "9b953937",
   "metadata": {},
   "outputs": [
    {
     "data": {
      "text/html": [
       "<html>\\(\\displaystyle \\frac{c_{n} \\kappa + b_{n} \\sqrt{-\\frac{\\kappa^{2}}{r^{2}} + 1} - a_{n}}{m} = \\left(-1\\right)\\)</html>"
      ],
      "text/latex": [
       "$\\displaystyle \\frac{c_{n} \\kappa + b_{n} \\sqrt{-\\frac{\\kappa^{2}}{r^{2}} + 1} - a_{n}}{m} = \\left(-1\\right)$"
      ],
      "text/plain": [
       "(c_n*kappa + b_n*sqrt(-kappa^2/r^2 + 1) - a_n)/m == -1"
      ]
     },
     "execution_count": 13,
     "metadata": {},
     "output_type": "execute_result"
    }
   ],
   "source": [
    "assume(kap<r)\n",
    "eq1 = (bn*sqrt(1 - kap^2/r^2) + (cn*kap - an))/(m) == -1\n",
    "eq2 = cn^2*r^2 - an^2 + bn^2 == 0\n",
    "eq3 = c2*cn*r^2 - a2*an + b2*bn == 0\n",
    "eq4 = b2*sqrt(1 - kap^2/r^2) + c2*kap - a2 == 0\n",
    "eq5 = c2^2*r^2 - a2^2 + b2^2 == 1\n",
    "eq1"
   ]
  },
  {
   "cell_type": "code",
   "execution_count": 14,
   "id": "3c4ea1bd",
   "metadata": {},
   "outputs": [
    {
     "data": {
      "text/html": [
       "<html>\\(\\displaystyle \\left[\\left[a_{n} = \\frac{1}{2} \\, {\\left(r_{1}^{2} + 1\\right)} m, b_{n} = \\frac{{\\left(r_{1}^{2} - 1\\right)} m r \\sqrt{-\\frac{\\kappa^{2} - r^{2}}{r^{2}}} + 2 \\, \\kappa m r_{1}}{2 \\, r}, c_{n} = -\\frac{2 \\, m r r_{1} \\sqrt{-\\frac{\\kappa^{2} - r^{2}}{r^{2}}} - {\\left(r_{1}^{2} - 1\\right)} \\kappa m}{2 \\, r^{2}}, a_{2} = r_{1}, b_{2} = \\frac{r r_{1} \\sqrt{-\\frac{\\kappa^{2} - r^{2}}{r^{2}}} + \\kappa}{r}, c_{2} = \\frac{\\kappa r_{1} - r \\sqrt{-\\frac{\\kappa^{2} - r^{2}}{r^{2}}}}{r^{2}}\\right], \\left[a_{n} = \\frac{1}{2} \\, {\\left(r_{2}^{2} + 1\\right)} m, b_{n} = \\frac{{\\left(r_{2}^{2} - 1\\right)} m r \\sqrt{-\\frac{\\kappa^{2} - r^{2}}{r^{2}}} - 2 \\, \\kappa m r_{2}}{2 \\, r}, c_{n} = \\frac{2 \\, m r r_{2} \\sqrt{-\\frac{\\kappa^{2} - r^{2}}{r^{2}}} + {\\left(r_{2}^{2} - 1\\right)} \\kappa m}{2 \\, r^{2}}, a_{2} = r_{2}, b_{2} = \\frac{r r_{2} \\sqrt{-\\frac{\\kappa^{2} - r^{2}}{r^{2}}} - \\kappa}{r}, c_{2} = \\frac{\\kappa r_{2} + r \\sqrt{-\\frac{\\kappa^{2} - r^{2}}{r^{2}}}}{r^{2}}\\right], \\left[a_{n} = \\frac{1}{2} \\, m, b_{n} = -\\frac{1}{2} \\, m \\sqrt{-\\frac{\\kappa^{2} - r^{2}}{r^{2}}}, c_{n} = -\\frac{\\kappa m}{2 \\, r^{2}}, a_{2} = 0, b_{2} = \\frac{\\kappa}{r}, c_{2} = -\\frac{\\sqrt{-\\frac{\\kappa^{2} - r^{2}}{r^{2}}}}{r}\\right], \\left[a_{n} = \\frac{1}{2} \\, m, b_{n} = -\\frac{1}{2} \\, m \\sqrt{-\\frac{\\kappa^{2} - r^{2}}{r^{2}}}, c_{n} = -\\frac{\\kappa m}{2 \\, r^{2}}, a_{2} = 0, b_{2} = -\\frac{\\kappa}{r}, c_{2} = \\frac{\\sqrt{-\\frac{\\kappa^{2} - r^{2}}{r^{2}}}}{r}\\right]\\right]\\)</html>"
      ],
      "text/latex": [
       "$\\displaystyle \\left[\\left[a_{n} = \\frac{1}{2} \\, {\\left(r_{1}^{2} + 1\\right)} m, b_{n} = \\frac{{\\left(r_{1}^{2} - 1\\right)} m r \\sqrt{-\\frac{\\kappa^{2} - r^{2}}{r^{2}}} + 2 \\, \\kappa m r_{1}}{2 \\, r}, c_{n} = -\\frac{2 \\, m r r_{1} \\sqrt{-\\frac{\\kappa^{2} - r^{2}}{r^{2}}} - {\\left(r_{1}^{2} - 1\\right)} \\kappa m}{2 \\, r^{2}}, a_{2} = r_{1}, b_{2} = \\frac{r r_{1} \\sqrt{-\\frac{\\kappa^{2} - r^{2}}{r^{2}}} + \\kappa}{r}, c_{2} = \\frac{\\kappa r_{1} - r \\sqrt{-\\frac{\\kappa^{2} - r^{2}}{r^{2}}}}{r^{2}}\\right], \\left[a_{n} = \\frac{1}{2} \\, {\\left(r_{2}^{2} + 1\\right)} m, b_{n} = \\frac{{\\left(r_{2}^{2} - 1\\right)} m r \\sqrt{-\\frac{\\kappa^{2} - r^{2}}{r^{2}}} - 2 \\, \\kappa m r_{2}}{2 \\, r}, c_{n} = \\frac{2 \\, m r r_{2} \\sqrt{-\\frac{\\kappa^{2} - r^{2}}{r^{2}}} + {\\left(r_{2}^{2} - 1\\right)} \\kappa m}{2 \\, r^{2}}, a_{2} = r_{2}, b_{2} = \\frac{r r_{2} \\sqrt{-\\frac{\\kappa^{2} - r^{2}}{r^{2}}} - \\kappa}{r}, c_{2} = \\frac{\\kappa r_{2} + r \\sqrt{-\\frac{\\kappa^{2} - r^{2}}{r^{2}}}}{r^{2}}\\right], \\left[a_{n} = \\frac{1}{2} \\, m, b_{n} = -\\frac{1}{2} \\, m \\sqrt{-\\frac{\\kappa^{2} - r^{2}}{r^{2}}}, c_{n} = -\\frac{\\kappa m}{2 \\, r^{2}}, a_{2} = 0, b_{2} = \\frac{\\kappa}{r}, c_{2} = -\\frac{\\sqrt{-\\frac{\\kappa^{2} - r^{2}}{r^{2}}}}{r}\\right], \\left[a_{n} = \\frac{1}{2} \\, m, b_{n} = -\\frac{1}{2} \\, m \\sqrt{-\\frac{\\kappa^{2} - r^{2}}{r^{2}}}, c_{n} = -\\frac{\\kappa m}{2 \\, r^{2}}, a_{2} = 0, b_{2} = -\\frac{\\kappa}{r}, c_{2} = \\frac{\\sqrt{-\\frac{\\kappa^{2} - r^{2}}{r^{2}}}}{r}\\right]\\right]$"
      ],
      "text/plain": [
       "[[a_n == 1/2*(r1^2 + 1)*m, b_n == 1/2*((r1^2 - 1)*m*r*sqrt(-(kappa^2 - r^2)/r^2) + 2*kappa*m*r1)/r, c_n == -1/2*(2*m*r*r1*sqrt(-(kappa^2 - r^2)/r^2) - (r1^2 - 1)*kappa*m)/r^2, a_2 == r1, b_2 == (r*r1*sqrt(-(kappa^2 - r^2)/r^2) + kappa)/r, c_2 == (kappa*r1 - r*sqrt(-(kappa^2 - r^2)/r^2))/r^2], [a_n == 1/2*(r2^2 + 1)*m, b_n == 1/2*((r2^2 - 1)*m*r*sqrt(-(kappa^2 - r^2)/r^2) - 2*kappa*m*r2)/r, c_n == 1/2*(2*m*r*r2*sqrt(-(kappa^2 - r^2)/r^2) + (r2^2 - 1)*kappa*m)/r^2, a_2 == r2, b_2 == (r*r2*sqrt(-(kappa^2 - r^2)/r^2) - kappa)/r, c_2 == (kappa*r2 + r*sqrt(-(kappa^2 - r^2)/r^2))/r^2], [a_n == 1/2*m, b_n == -1/2*m*sqrt(-(kappa^2 - r^2)/r^2), c_n == -1/2*kappa*m/r^2, a_2 == 0, b_2 == kappa/r, c_2 == -sqrt(-(kappa^2 - r^2)/r^2)/r], [a_n == 1/2*m, b_n == -1/2*m*sqrt(-(kappa^2 - r^2)/r^2), c_n == -1/2*kappa*m/r^2, a_2 == 0, b_2 == -kappa/r, c_2 == sqrt(-(kappa^2 - r^2)/r^2)/r]]"
      ]
     },
     "execution_count": 14,
     "metadata": {},
     "output_type": "execute_result"
    }
   ],
   "source": [
    "solve([eq1, eq2, eq3, eq4, eq5], an, bn, cn, a2, b2, c2)"
   ]
  },
  {
   "cell_type": "markdown",
   "id": "e26927db",
   "metadata": {},
   "source": [
    "Solving the algebraic system generated by the different inner products, the solutions above are in terms of an unknown quantity $r_k, k \\in \\mathbb{Z}$. To resolve this, we need to impose the parallel transport constraint. Note that $r_k$ could in principle depend on the radial coordinate $r$. To avoid confusion, we denote this by the function $p(r)$. Furthermore, we will see that only the last solution is valid, i.e. $a_n = m/2, a_2 = 0$ and so on."
   ]
  },
  {
   "cell_type": "code",
   "execution_count": 23,
   "id": "62283c20",
   "metadata": {},
   "outputs": [
    {
     "data": {
      "text/html": [
       "<html>\\(\\displaystyle \\left(\\left[\\frac{1}{2} \\, {\\left(p\\left(r\\right)^{2} + 1\\right)} m, \\frac{{\\left(p\\left(r\\right)^{2} - 1\\right)} m r \\sqrt{-\\frac{\\kappa^{2}}{r^{2}} + 1} - 2 \\, \\kappa m p\\left(r\\right)}{2 \\, r}, 0, \\frac{2 \\, m r \\sqrt{-\\frac{\\kappa^{2}}{r^{2}} + 1} p\\left(r\\right) - {\\left(p\\left(r\\right)^{2} - 1\\right)} \\kappa m}{2 \\, r^{2}}\\right], \\left[p\\left(r\\right), \\frac{r \\sqrt{-\\frac{\\kappa^{2}}{r^{2}} + 1} p\\left(r\\right) - \\kappa}{r}, 0, \\frac{\\kappa p\\left(r\\right) + r \\sqrt{-\\frac{\\kappa^{2}}{r^{2}} + 1}}{r^{2}}\\right]\\right)\\)</html>"
      ],
      "text/latex": [
       "$\\displaystyle \\left(\\left[\\frac{1}{2} \\, {\\left(p\\left(r\\right)^{2} + 1\\right)} m, \\frac{{\\left(p\\left(r\\right)^{2} - 1\\right)} m r \\sqrt{-\\frac{\\kappa^{2}}{r^{2}} + 1} - 2 \\, \\kappa m p\\left(r\\right)}{2 \\, r}, 0, \\frac{2 \\, m r \\sqrt{-\\frac{\\kappa^{2}}{r^{2}} + 1} p\\left(r\\right) - {\\left(p\\left(r\\right)^{2} - 1\\right)} \\kappa m}{2 \\, r^{2}}\\right], \\left[p\\left(r\\right), \\frac{r \\sqrt{-\\frac{\\kappa^{2}}{r^{2}} + 1} p\\left(r\\right) - \\kappa}{r}, 0, \\frac{\\kappa p\\left(r\\right) + r \\sqrt{-\\frac{\\kappa^{2}}{r^{2}} + 1}}{r^{2}}\\right]\\right)$"
      ],
      "text/plain": [
       "([1/2*(p(r)^2 + 1)*m,\n",
       "  1/2*((p(r)^2 - 1)*m*r*sqrt(-kappa^2/r^2 + 1) - 2*kappa*m*p(r))/r,\n",
       "  0,\n",
       "  1/2*(2*m*r*sqrt(-kappa^2/r^2 + 1)*p(r) - (p(r)^2 - 1)*kappa*m)/r^2],\n",
       " [p(r),\n",
       "  (r*sqrt(-kappa^2/r^2 + 1)*p(r) - kappa)/r,\n",
       "  0,\n",
       "  (kappa*p(r) + r*sqrt(-kappa^2/r^2 + 1))/r^2])"
      ]
     },
     "execution_count": 23,
     "metadata": {},
     "output_type": "execute_result"
    }
   ],
   "source": [
    "p = function('p')(r)\n",
    "n[:] = [m/2*(p^2 + 1), ((p^2 - 1)*m*r*sqrt(1 - kap^2/r^2) - 2*kap*m*p)/(2*r), 0, (2*m*r*p*sqrt(1 - kap^2/r^2) - kap*m*(p^2 - 1))/(2*r^2)]\n",
    "e2[:] = [p, (r*p*sqrt(1 - kap^2/r^2) - kap)/r, 0, (kap*p + r*sqrt(1 - kap^2/r^2))/r^2]\n",
    "n[:], e2[:]"
   ]
  },
  {
   "cell_type": "code",
   "execution_count": 24,
   "id": "e7d46f62",
   "metadata": {},
   "outputs": [
    {
     "data": {
      "text/html": [
       "<html>\\(\\displaystyle \\left(\\begin{array}{llcl} g\\left(n,n\\right):& M & \\longrightarrow & \\mathbb{R} \\\\ & \\left(t, r, {\\theta}, {\\phi}\\right) & \\longmapsto & -\\frac{2 \\, {\\left(\\kappa m^{2} p\\left(r\\right)^{3} - \\kappa m^{2} p\\left(r\\right)\\right)} \\sqrt{\\kappa + r} \\sqrt{-\\kappa + r}}{r^{2}} \\end{array}, \\begin{array}{llcl} g\\left(n,\\dot{z}\\right):& M & \\longrightarrow & \\mathbb{R} \\\\ & \\left(t, r, {\\theta}, {\\phi}\\right) & \\longmapsto & -\\frac{\\kappa^{2} p\\left(r\\right)^{2} - \\kappa^{2} + r^{2}}{r^{2}} \\end{array}, \\begin{array}{llcl} g\\left(n,e_2\\right):& M & \\longrightarrow & \\mathbb{R} \\\\ & \\left(t, r, {\\theta}, {\\phi}\\right) & \\longmapsto & -\\frac{\\kappa^{2} m p\\left(r\\right)^{3} - \\kappa^{2} m p\\left(r\\right) + {\\left(\\kappa m p\\left(r\\right)^{2} - \\kappa m\\right)} \\sqrt{\\kappa + r} \\sqrt{-\\kappa + r}}{r^{2}} \\end{array}\\right)\\)</html>"
      ],
      "text/latex": [
       "$\\displaystyle \\left(\\begin{array}{llcl} g\\left(n,n\\right):& M & \\longrightarrow & \\mathbb{R} \\\\ & \\left(t, r, {\\theta}, {\\phi}\\right) & \\longmapsto & -\\frac{2 \\, {\\left(\\kappa m^{2} p\\left(r\\right)^{3} - \\kappa m^{2} p\\left(r\\right)\\right)} \\sqrt{\\kappa + r} \\sqrt{-\\kappa + r}}{r^{2}} \\end{array}, \\begin{array}{llcl} g\\left(n,\\dot{z}\\right):& M & \\longrightarrow & \\mathbb{R} \\\\ & \\left(t, r, {\\theta}, {\\phi}\\right) & \\longmapsto & -\\frac{\\kappa^{2} p\\left(r\\right)^{2} - \\kappa^{2} + r^{2}}{r^{2}} \\end{array}, \\begin{array}{llcl} g\\left(n,e_2\\right):& M & \\longrightarrow & \\mathbb{R} \\\\ & \\left(t, r, {\\theta}, {\\phi}\\right) & \\longmapsto & -\\frac{\\kappa^{2} m p\\left(r\\right)^{3} - \\kappa^{2} m p\\left(r\\right) + {\\left(\\kappa m p\\left(r\\right)^{2} - \\kappa m\\right)} \\sqrt{\\kappa + r} \\sqrt{-\\kappa + r}}{r^{2}} \\end{array}\\right)$"
      ],
      "text/plain": [
       "(g(n,n): M → ℝ\n",
       "    (t, r, th, ph) ↦ -2*(kappa*m^2*p(r)^3 - kappa*m^2*p(r))*sqrt(kappa + r)*sqrt(-kappa + r)/r^2,\n",
       " g(n,\\dot{z}): M → ℝ\n",
       "    (t, r, th, ph) ↦ -(kappa^2*p(r)^2 - kappa^2 + r^2)/r^2,\n",
       " g(n,e_2): M → ℝ\n",
       "    (t, r, th, ph) ↦ -(kappa^2*m*p(r)^3 - kappa^2*m*p(r) + (kappa*m*p(r)^2 - kappa*m)*sqrt(kappa + r)*sqrt(-kappa + r))/r^2)"
      ]
     },
     "execution_count": 24,
     "metadata": {},
     "output_type": "execute_result"
    }
   ],
   "source": [
    "g(n, n).display(), g(n, zdot).display(), g(n, e2).display()"
   ]
  },
  {
   "cell_type": "code",
   "execution_count": 25,
   "id": "b010c0bb",
   "metadata": {},
   "outputs": [
    {
     "data": {
      "text/html": [
       "<html>\\(\\displaystyle \\left(\\begin{array}{llcl} g\\left(e_2,e_2\\right):& M & \\longrightarrow & \\mathbb{R} \\\\ & \\left(t, r, {\\theta}, {\\phi}\\right) & \\longmapsto & 1 \\end{array}, \\begin{array}{llcl} g\\left(e_2,\\dot{z}\\right):& M & \\longrightarrow & \\mathbb{R} \\\\ & \\left(t, r, {\\theta}, {\\phi}\\right) & \\longmapsto & 0 \\end{array}\\right)\\)</html>"
      ],
      "text/latex": [
       "$\\displaystyle \\left(\\begin{array}{llcl} g\\left(e_2,e_2\\right):& M & \\longrightarrow & \\mathbb{R} \\\\ & \\left(t, r, {\\theta}, {\\phi}\\right) & \\longmapsto & 1 \\end{array}, \\begin{array}{llcl} g\\left(e_2,\\dot{z}\\right):& M & \\longrightarrow & \\mathbb{R} \\\\ & \\left(t, r, {\\theta}, {\\phi}\\right) & \\longmapsto & 0 \\end{array}\\right)$"
      ],
      "text/plain": [
       "(g(e_2,e_2): M → ℝ\n",
       "    (t, r, th, ph) ↦ 1,\n",
       " g(e_2,\\dot{z}): M → ℝ\n",
       "    (t, r, th, ph) ↦ 0)"
      ]
     },
     "execution_count": 25,
     "metadata": {},
     "output_type": "execute_result"
    }
   ],
   "source": [
    "g(e2, e2).display(), g(e2, zdot).display()"
   ]
  },
  {
   "cell_type": "markdown",
   "id": "a3e0915b",
   "metadata": {},
   "source": [
    "Clearly $g(e_2, n) = 0$ only if $p(r) = 0$. Also check this satisfies parallel transport."
   ]
  },
  {
   "cell_type": "code",
   "execution_count": 26,
   "id": "8bd458b5",
   "metadata": {},
   "outputs": [
    {
     "data": {
      "text/html": [
       "<html>\\(\\displaystyle \\left(\\left[\\frac{\\sqrt{\\kappa + r} \\sqrt{-\\kappa + r} p\\left(r\\right) \\frac{\\partial\\,p}{\\partial r}}{r}, \\frac{{\\left(\\kappa^{2} p\\left(r\\right)^{2} - {\\left(\\kappa^{2} r - r^{3}\\right)} p\\left(r\\right) \\frac{\\partial\\,p}{\\partial r} - \\kappa^{2}\\right)} \\sqrt{\\kappa + r} \\sqrt{-\\kappa + r} + {\\left(\\kappa^{3} r - \\kappa r^{3}\\right)} \\frac{\\partial\\,p}{\\partial r}}{\\sqrt{\\kappa + r} \\sqrt{-\\kappa + r} r^{3}}, 0, \\frac{\\kappa^{3} - \\kappa r^{2} - {\\left(\\kappa^{3} - \\kappa r^{2}\\right)} p\\left(r\\right)^{2} - {\\left(\\kappa^{2} r - r^{3}\\right)} \\sqrt{\\kappa + r} \\sqrt{-\\kappa + r} \\frac{\\partial\\,p}{\\partial r} + {\\left(\\kappa^{3} r - \\kappa r^{3}\\right)} p\\left(r\\right) \\frac{\\partial\\,p}{\\partial r}}{\\sqrt{\\kappa + r} \\sqrt{-\\kappa + r} r^{4}}\\right], \\left[\\frac{\\sqrt{\\kappa + r} \\sqrt{-\\kappa + r} \\frac{\\partial\\,p}{\\partial r}}{m r}, -\\frac{{\\left(\\kappa^{2} r - r^{3}\\right)} \\frac{\\partial\\,p}{\\partial r}}{m r^{3}}, 0, -\\frac{{\\left(\\kappa^{3} - \\kappa r^{2}\\right)} \\frac{\\partial\\,p}{\\partial r}}{\\sqrt{\\kappa + r} \\sqrt{-\\kappa + r} m r^{3}}\\right]\\right)\\)</html>"
      ],
      "text/latex": [
       "$\\displaystyle \\left(\\left[\\frac{\\sqrt{\\kappa + r} \\sqrt{-\\kappa + r} p\\left(r\\right) \\frac{\\partial\\,p}{\\partial r}}{r}, \\frac{{\\left(\\kappa^{2} p\\left(r\\right)^{2} - {\\left(\\kappa^{2} r - r^{3}\\right)} p\\left(r\\right) \\frac{\\partial\\,p}{\\partial r} - \\kappa^{2}\\right)} \\sqrt{\\kappa + r} \\sqrt{-\\kappa + r} + {\\left(\\kappa^{3} r - \\kappa r^{3}\\right)} \\frac{\\partial\\,p}{\\partial r}}{\\sqrt{\\kappa + r} \\sqrt{-\\kappa + r} r^{3}}, 0, \\frac{\\kappa^{3} - \\kappa r^{2} - {\\left(\\kappa^{3} - \\kappa r^{2}\\right)} p\\left(r\\right)^{2} - {\\left(\\kappa^{2} r - r^{3}\\right)} \\sqrt{\\kappa + r} \\sqrt{-\\kappa + r} \\frac{\\partial\\,p}{\\partial r} + {\\left(\\kappa^{3} r - \\kappa r^{3}\\right)} p\\left(r\\right) \\frac{\\partial\\,p}{\\partial r}}{\\sqrt{\\kappa + r} \\sqrt{-\\kappa + r} r^{4}}\\right], \\left[\\frac{\\sqrt{\\kappa + r} \\sqrt{-\\kappa + r} \\frac{\\partial\\,p}{\\partial r}}{m r}, -\\frac{{\\left(\\kappa^{2} r - r^{3}\\right)} \\frac{\\partial\\,p}{\\partial r}}{m r^{3}}, 0, -\\frac{{\\left(\\kappa^{3} - \\kappa r^{2}\\right)} \\frac{\\partial\\,p}{\\partial r}}{\\sqrt{\\kappa + r} \\sqrt{-\\kappa + r} m r^{3}}\\right]\\right)$"
      ],
      "text/plain": [
       "([sqrt(kappa + r)*sqrt(-kappa + r)*p(r)*d(p)/dr/r,\n",
       "  ((kappa^2*p(r)^2 - (kappa^2*r - r^3)*p(r)*d(p)/dr - kappa^2)*sqrt(kappa + r)*sqrt(-kappa + r) + (kappa^3*r - kappa*r^3)*d(p)/dr)/(sqrt(kappa + r)*sqrt(-kappa + r)*r^3),\n",
       "  0,\n",
       "  (kappa^3 - kappa*r^2 - (kappa^3 - kappa*r^2)*p(r)^2 - (kappa^2*r - r^3)*sqrt(kappa + r)*sqrt(-kappa + r)*d(p)/dr + (kappa^3*r - kappa*r^3)*p(r)*d(p)/dr)/(sqrt(kappa + r)*sqrt(-kappa + r)*r^4)],\n",
       " [sqrt(kappa + r)*sqrt(-kappa + r)*d(p)/dr/(m*r),\n",
       "  -(kappa^2*r - r^3)*d(p)/dr/(m*r^3),\n",
       "  0,\n",
       "  -(kappa^3 - kappa*r^2)*d(p)/dr/(sqrt(kappa + r)*sqrt(-kappa + r)*m*r^3)])"
      ]
     },
     "execution_count": 26,
     "metadata": {},
     "output_type": "execute_result"
    }
   ],
   "source": [
    "Dn = nab(n)\n",
    "De2 = nab(e2)\n",
    "acc_n = Dn.contract(zdot)\n",
    "acc_e2 = De2.contract(zdot)\n",
    "acc_n.apply_map(lambda x: x.subs({th:pi/2}))\n",
    "acc_e2.apply_map(lambda x: x.subs({th:pi/2}))\n",
    "acc_n[:], acc_e2[:]"
   ]
  },
  {
   "cell_type": "markdown",
   "id": "b466481e",
   "metadata": {},
   "source": [
    "The parallel transport condition is met only for $p(r) = constant$. Furthermore, $g(n, n) = 0$ implies $p = 0, \\pm 1$. Choose $p=0$."
   ]
  },
  {
   "cell_type": "code",
   "execution_count": 27,
   "id": "fd866181",
   "metadata": {},
   "outputs": [
    {
     "data": {
      "text/html": [
       "<html>\\(\\displaystyle \\left(\\left[\\frac{1}{2} \\, m, -\\frac{1}{2} \\, m \\sqrt{-\\frac{\\kappa^{2}}{r^{2}} + 1}, 0, -\\frac{\\kappa m}{2 \\, r^{2}}\\right], \\left[0, -\\frac{\\kappa}{r}, 0, \\frac{\\sqrt{-\\frac{\\kappa^{2}}{r^{2}} + 1}}{r}\\right]\\right)\\)</html>"
      ],
      "text/latex": [
       "$\\displaystyle \\left(\\left[\\frac{1}{2} \\, m, -\\frac{1}{2} \\, m \\sqrt{-\\frac{\\kappa^{2}}{r^{2}} + 1}, 0, -\\frac{\\kappa m}{2 \\, r^{2}}\\right], \\left[0, -\\frac{\\kappa}{r}, 0, \\frac{\\sqrt{-\\frac{\\kappa^{2}}{r^{2}} + 1}}{r}\\right]\\right)$"
      ],
      "text/plain": [
       "([1/2*m, -1/2*m*sqrt(-kappa^2/r^2 + 1), 0, -1/2*kappa*m/r^2],\n",
       " [0, -kappa/r, 0, sqrt(-kappa^2/r^2 + 1)/r])"
      ]
     },
     "execution_count": 27,
     "metadata": {},
     "output_type": "execute_result"
    }
   ],
   "source": [
    "n[:] = [m/2, -m/2*sqrt(1 - kap^2/r^2), 0, -kap*m/(2*r^2)]\n",
    "e2[:] = [0, -kap/r, 0, 1/r*sqrt(1 - kap^2/r^2)]\n",
    "n[:], e2[:]"
   ]
  },
  {
   "cell_type": "code",
   "execution_count": 28,
   "id": "a4fe16e1",
   "metadata": {},
   "outputs": [
    {
     "data": {
      "text/html": [
       "<html>\\(\\displaystyle \\left(\\begin{array}{llcl} g\\left(n,n\\right):& M & \\longrightarrow & \\mathbb{R} \\\\ & \\left(t, r, {\\theta}, {\\phi}\\right) & \\longmapsto & 0 \\end{array}, \\begin{array}{llcl} g\\left(n,\\dot{z}\\right):& M & \\longrightarrow & \\mathbb{R} \\\\ & \\left(t, r, {\\theta}, {\\phi}\\right) & \\longmapsto & -1 \\end{array}, \\begin{array}{llcl} g\\left(n,e_2\\right):& M & \\longrightarrow & \\mathbb{R} \\\\ & \\left(t, r, {\\theta}, {\\phi}\\right) & \\longmapsto & 0 \\end{array}\\right)\\)</html>"
      ],
      "text/latex": [
       "$\\displaystyle \\left(\\begin{array}{llcl} g\\left(n,n\\right):& M & \\longrightarrow & \\mathbb{R} \\\\ & \\left(t, r, {\\theta}, {\\phi}\\right) & \\longmapsto & 0 \\end{array}, \\begin{array}{llcl} g\\left(n,\\dot{z}\\right):& M & \\longrightarrow & \\mathbb{R} \\\\ & \\left(t, r, {\\theta}, {\\phi}\\right) & \\longmapsto & -1 \\end{array}, \\begin{array}{llcl} g\\left(n,e_2\\right):& M & \\longrightarrow & \\mathbb{R} \\\\ & \\left(t, r, {\\theta}, {\\phi}\\right) & \\longmapsto & 0 \\end{array}\\right)$"
      ],
      "text/plain": [
       "(g(n,n): M → ℝ\n",
       "    (t, r, th, ph) ↦ 0,\n",
       " g(n,\\dot{z}): M → ℝ\n",
       "    (t, r, th, ph) ↦ -1,\n",
       " g(n,e_2): M → ℝ\n",
       "    (t, r, th, ph) ↦ 0)"
      ]
     },
     "execution_count": 28,
     "metadata": {},
     "output_type": "execute_result"
    }
   ],
   "source": [
    "g(n, n).display(), g(n, zdot).display(), g(n, e2).display()"
   ]
  },
  {
   "cell_type": "code",
   "execution_count": 29,
   "id": "c500ca29",
   "metadata": {},
   "outputs": [
    {
     "data": {
      "text/html": [
       "<html>\\(\\displaystyle \\left(\\begin{array}{llcl} g\\left(e_2,e_2\\right):& M & \\longrightarrow & \\mathbb{R} \\\\ & \\left(t, r, {\\theta}, {\\phi}\\right) & \\longmapsto & 1 \\end{array}, \\begin{array}{llcl} g\\left(e_2,\\dot{z}\\right):& M & \\longrightarrow & \\mathbb{R} \\\\ & \\left(t, r, {\\theta}, {\\phi}\\right) & \\longmapsto & 0 \\end{array}\\right)\\)</html>"
      ],
      "text/latex": [
       "$\\displaystyle \\left(\\begin{array}{llcl} g\\left(e_2,e_2\\right):& M & \\longrightarrow & \\mathbb{R} \\\\ & \\left(t, r, {\\theta}, {\\phi}\\right) & \\longmapsto & 1 \\end{array}, \\begin{array}{llcl} g\\left(e_2,\\dot{z}\\right):& M & \\longrightarrow & \\mathbb{R} \\\\ & \\left(t, r, {\\theta}, {\\phi}\\right) & \\longmapsto & 0 \\end{array}\\right)$"
      ],
      "text/plain": [
       "(g(e_2,e_2): M → ℝ\n",
       "    (t, r, th, ph) ↦ 1,\n",
       " g(e_2,\\dot{z}): M → ℝ\n",
       "    (t, r, th, ph) ↦ 0)"
      ]
     },
     "execution_count": 29,
     "metadata": {},
     "output_type": "execute_result"
    }
   ],
   "source": [
    "g(e2, e2).display(), g(e2, zdot).display()"
   ]
  },
  {
   "cell_type": "code",
   "execution_count": 30,
   "id": "f555f0be",
   "metadata": {},
   "outputs": [
    {
     "data": {
      "text/html": [
       "<html>\\(\\displaystyle \\left(\\left[0, 0, 0, 0\\right], \\left[0, 0, 0, 0\\right]\\right)\\)</html>"
      ],
      "text/latex": [
       "$\\displaystyle \\left(\\left[0, 0, 0, 0\\right], \\left[0, 0, 0, 0\\right]\\right)$"
      ],
      "text/plain": [
       "([0, 0, 0, 0], [0, 0, 0, 0])"
      ]
     },
     "execution_count": 30,
     "metadata": {},
     "output_type": "execute_result"
    }
   ],
   "source": [
    "Dn = nab(n)\n",
    "De2 = nab(e2)\n",
    "Dn.apply_map(lambda x: x.subs({th:pi/2}))\n",
    "De2.apply_map(lambda x: x.subs({th:pi/2}))\n",
    "Dn.contract(zdot)[:], De2.contract(zdot)[:]"
   ]
  },
  {
   "cell_type": "markdown",
   "id": "98b3c5ad",
   "metadata": {},
   "source": [
    "Clearly $n$ and $e_2$ defined this way satisfy the required conditions, and with this, we know the exact form of the quasi-null tetrad along the reference null geodesic. Essentially,\n",
    "\\begin{align}\n",
    "\\dot{z}^a &= \\frac{1}{m} \\bigg ( 1, \\sqrt{1 - \\frac{\\kappa^2}{r^2}}, 0, \\frac{\\kappa}{r^2} \\bigg ) \\\\\n",
    "n^a &= \\frac{m}{2} \\bigg ( 1, - \\sqrt{1 - \\frac{\\kappa^2}{r^2}}, 0, -\\frac{\\kappa}{r^2} \\bigg ) \\\\\n",
    "e^a_1 &= \\bigg ( 0, 0, \\frac{1}{r}, 0 \\bigg ) \\\\\n",
    "e^a_2 &= \\bigg ( 0, -\\frac{\\kappa}{r}, 0, \\frac{1}{r} \\sqrt{1 - \\frac{\\kappa^2}{r^2}} \\bigg )\n",
    "\\end{align}"
   ]
  },
  {
   "cell_type": "code",
   "execution_count": null,
   "id": "068dab5a",
   "metadata": {},
   "outputs": [],
   "source": []
  }
 ],
 "metadata": {
  "kernelspec": {
   "display_name": "SageMath 9.7",
   "language": "sage",
   "name": "sagemath"
  },
  "language_info": {
   "codemirror_mode": {
    "name": "ipython",
    "version": 3
   },
   "file_extension": ".py",
   "mimetype": "text/x-python",
   "name": "python",
   "nbconvert_exporter": "python",
   "pygments_lexer": "ipython3",
   "version": "3.8.10"
  }
 },
 "nbformat": 4,
 "nbformat_minor": 5
}
