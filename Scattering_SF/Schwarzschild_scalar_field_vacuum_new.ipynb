{
 "cells": [
  {
   "cell_type": "code",
   "execution_count": 61,
   "id": "445f1708-2a1d-43c0-95be-6b4203780b85",
   "metadata": {},
   "outputs": [
    {
     "data": {
      "text/plain": [
       "\"Script to solve scalar wave equation on Schwarzschild spacetime. Practice for the gravitational scattering case. The detailed physical setup is described by Barack & Burko (2000) (https://arxiv.org/abs/gr-qc/0007033)]. Essentially, we consider a scalar charge q plunging into a Schwarzschild Black Hole of mass M and calculate the first order self-force correction to the small object's motion as a perturbation to motion on the Schwarzschild background.\""
      ]
     },
     "execution_count": 61,
     "metadata": {},
     "output_type": "execute_result"
    }
   ],
   "source": [
    "\"\"\"Script to solve scalar wave equation on Schwarzschild spacetime. Practice for the gravitational scattering case. The detailed \\\n",
    "physical setup is described by Barack & Burko (2000) (https://arxiv.org/abs/gr-qc/0007033)]. Essentially, we consider a scalar charge \\\n",
    "q plunging into a Schwarzschild Black Hole of mass M and calculate the first order self-force correction to the small object's motion \\\n",
    "as a perturbation to motion on the Schwarzschild background.\"\"\""
   ]
  },
  {
   "cell_type": "code",
   "execution_count": 62,
   "id": "5f2d5572-9b5e-420d-a7fc-80b5d6dead1d",
   "metadata": {},
   "outputs": [],
   "source": [
    "import time\n",
    "from datetime import timedelta\n",
    "import numpy as np\n",
    "import scipy.special as scsp\n",
    "import matplotlib.pyplot as plt\n",
    "from matplotlib import cm\n",
    "from mpl_toolkits.mplot3d import axes3d"
   ]
  },
  {
   "cell_type": "code",
   "execution_count": 63,
   "id": "c36aab3f-a489-4d57-b986-bffaf89ddeb5",
   "metadata": {},
   "outputs": [],
   "source": [
    "%matplotlib widget"
   ]
  },
  {
   "cell_type": "code",
   "execution_count": 64,
   "id": "3e4d8016-acb0-495a-b757-8c1cd9fcc346",
   "metadata": {},
   "outputs": [],
   "source": [
    "# For the first part of the problem, we simply analyse how a perturbation to the initial field configuration evolves by scattering off the \n",
    "# Schwarzschild background in a vacuum region of the spacetime. In particular, we find that the initial perturbation, and accompanying junk \n",
    "# radiation both decay exponentially in vacuum over time."
   ]
  },
  {
   "cell_type": "code",
   "execution_count": 65,
   "id": "068fb47d-8085-49fe-adae-81ee97dd06b1",
   "metadata": {},
   "outputs": [],
   "source": [
    "class scalar_field:\n",
    "    \"\"\"A class for the initialisation and evolution of a scalar field on a Schwarzschild background, given some initial radial coordinate r_in\n",
    "    and some maximal radial coordinate r_max along with the step size.\"\"\"\n",
    "\n",
    "    def tort_coord(self, r):\n",
    "        \"\"\"Return of the tortoise coordinate for a given input radial coordinate and Schwarzschild BH mass\"\"\"\n",
    "        M = self.BH_mass\n",
    "        return r + 2*M*np.log(r/(2*M) - 1)\n",
    "    \n",
    "    def __init__(self, r_in, r_max, h):\n",
    "        \"\"\"Instantiate the scalar field with the initial and maximal radial coordinates, the mass of the background Schwarzschild BH, initial and \n",
    "        maximal tortoise coordinates, maximal time coordinate, and the number of steps used to construct the grid.\"\"\"\n",
    "        M = 1.0\n",
    "        self.BH_mass = M\n",
    "        self.r_init = r_in\n",
    "        self.r_max = r_max\n",
    "        self.step_size = h\n",
    "\n",
    "        # Calculate the initial and maximal values of the tortoise coordinates.\n",
    "        self.tort_init = self.tort_coord(r_in)\n",
    "        self.tort_max = self.tort_coord(r_max)\n",
    "\n",
    "        # Calculate the maximal value of the time coordinate. For a square (v, u) grid, this amounts to t_max - t_min = tort_max - tort_min, where\n",
    "        # we choose t_min = 0 by convention. Use this to calculate the number of steps required to go from 0 to t_max (this is because numpy's \n",
    "        # arange is unstable when the endpoints with large separation, so we use linspace instead, which requires num_step instead of step_size. \n",
    "        # On the other hand, the initial data specifies step_size since this is a more physically relevant parameter to control, for e.g. when \n",
    "        # carrying out convergence tests).\n",
    "        self.t_max = self.tort_max - self.tort_init\n",
    "        self.num_step = 1 + int(self.t_max/self.step_size)\n",
    "\n",
    "    def time_array(self):\n",
    "        \"\"\"Return the array of time instants, taking t_in = 0.\"\"\"\n",
    "        t_max = self.t_max\n",
    "        num_step = self.num_step\n",
    "\n",
    "        return np.linspace(0, t_max, num_step)\n",
    "\n",
    "    def v_u_coord(self):\n",
    "        \"\"\"Return the arrays describing the v and u axes.\"\"\"\n",
    "        num_step = self.num_step\n",
    "        v_in = self.tort_init\n",
    "        u_in = -self.tort_init\n",
    "        v_max = self.t_max + self.tort_init\n",
    "        u_max = self.t_max - self.tort_init\n",
    "\n",
    "        v_arr = np.linspace(v_in, v_max, num_step)\n",
    "        u_arr = np.linspace(u_in, u_max, num_step)\n",
    "\n",
    "        return v_arr, u_arr\n",
    "\n",
    "    def rad_val_arr(self, v_arr, u_arr):\n",
    "        \"\"\"Computes the values of the radial coordinate r (not tortoise!) corresponding to each (v, u) point, which can then be fed into \n",
    "        the effective potential. Since the grid is square in v & u, and since the null coordinates are monotonic functions of t and r, the \n",
    "        diagonals of the (v, u) square grid correspond to lines of constant t and constant r. For instance, the line connecting \n",
    "        (v_in, u_in) and (v_max, u_max) is a line of constant r, with only t increasing. Thus from the v and u axes, we can construct an r \n",
    "        axis, which is a 1D array (instead of a 2D array computing r for each (v, u)) of 2*(len(u))-1 elements encoding the various radial\n",
    "        values needed for the computation.\"\"\"\n",
    "        M = self.BH_mass\n",
    "        num_step = self.num_step\n",
    "        tort_init = self.tort_init\n",
    "        tort_max = self.tort_max\n",
    "        r_arr = np.zeros(2*len(u_arr) - 1)\n",
    "\n",
    "        # The first half of r_arr can be computed by fixing v = v[0] and varying u over the range of its values. The second half can be computed\n",
    "        # by fixing u = u[0] and varying v, this time from v[1] (to avoid double counting the r element corresponding to (u[0], v[0])).\n",
    "        for i in range(len(u_arr)):\n",
    "            v0 = v_arr[0]\n",
    "            u0 = u_arr[0]\n",
    "            r_arr[len(u_arr) - 1 - i] = 2*M*(np.real(scsp.lambertw(np.exp(-1 + (v0 - u_arr[i])/(4*M)))) + 1)\n",
    "            r_arr[len(u_arr) - 1 + i] = 2*M*(np.real(scsp.lambertw(np.exp(-1 + (v_arr[i] - u0)/(4*M)))) + 1)\n",
    "\n",
    "        return r_arr\n",
    "\n",
    "    def field_evo(self):\n",
    "        v_arr, u_arr = self.v_u_coord()\n",
    "        field = np.zeros((len(v_arr), len(u_arr)))\n",
    "\n",
    "        return field"
   ]
  },
  {
   "cell_type": "code",
   "execution_count": 66,
   "id": "86017043-4e7c-4c1a-b009-d57b15855ab2",
   "metadata": {},
   "outputs": [],
   "source": [
    "r_in = 20.0\n",
    "r_max = 1000.0\n",
    "h = 2\n",
    "psi = scalar_field(r_in, r_max, h)"
   ]
  },
  {
   "cell_type": "code",
   "execution_count": 67,
   "id": "2ea3f07b-2ec0-4da6-b27d-b4b9aebc92c1",
   "metadata": {},
   "outputs": [
    {
     "data": {
      "text/plain": [
       "(1.0, 20.0, 1000.0, 2)"
      ]
     },
     "execution_count": 67,
     "metadata": {},
     "output_type": "execute_result"
    }
   ],
   "source": [
    "psi.BH_mass, psi.r_init, psi.r_max, psi.step_size"
   ]
  },
  {
   "cell_type": "code",
   "execution_count": 68,
   "id": "1bd496da-f91a-4aa0-a399-5924e82a26a5",
   "metadata": {},
   "outputs": [
    {
     "data": {
      "text/plain": [
       "(np.float64(24.39444915467244),\n",
       " np.float64(1012.4252121915031),\n",
       " np.float64(988.0307630368306),\n",
       " 495)"
      ]
     },
     "execution_count": 68,
     "metadata": {},
     "output_type": "execute_result"
    }
   ],
   "source": [
    "psi.tort_init, psi.tort_max, psi.t_max, psi.num_step"
   ]
  },
  {
   "cell_type": "code",
   "execution_count": 69,
   "id": "578b5e00-a72b-40f6-82ff-cd70a627bac5",
   "metadata": {},
   "outputs": [],
   "source": [
    "v_range, u_range = psi.v_u_coord()"
   ]
  },
  {
   "cell_type": "code",
   "execution_count": 70,
   "id": "0c5a58e5-09bd-4724-920e-fb2e082d80b5",
   "metadata": {},
   "outputs": [
    {
     "data": {
      "text/plain": [
       "(495, 495)"
      ]
     },
     "execution_count": 70,
     "metadata": {},
     "output_type": "execute_result"
    }
   ],
   "source": [
    "len(v_range), len(u_range)"
   ]
  },
  {
   "cell_type": "code",
   "execution_count": 71,
   "id": "589d31f1-ca2c-4f26-b1d4-08873d323021",
   "metadata": {},
   "outputs": [
    {
     "data": {
      "text/plain": [
       "989"
      ]
     },
     "execution_count": 71,
     "metadata": {},
     "output_type": "execute_result"
    }
   ],
   "source": [
    "rad_arr = psi.rad_val_arr(v_range, u_range)\n",
    "len(rad_arr)"
   ]
  },
  {
   "cell_type": "code",
   "execution_count": 72,
   "id": "cc27ed42-c6b8-4414-b036-32a53e25753a",
   "metadata": {},
   "outputs": [
    {
     "data": {
      "text/plain": [
       "array([  2.        ,   2.        ,   2.        ,   2.        ,\n",
       "         2.        ,   2.        ,   2.        ,   2.        ,\n",
       "         2.        ,   2.        ,   2.        ,   2.        ,\n",
       "         2.        ,   2.        ,   2.        ,   2.        ,\n",
       "         2.        ,   2.        ,   2.        ,   2.        ,\n",
       "         2.        ,   2.        ,   2.        ,   2.        ,\n",
       "         2.        ,   2.        ,   2.        ,   2.        ,\n",
       "         2.        ,   2.        ,   2.        ,   2.        ,\n",
       "         2.        ,   2.        ,   2.        ,   2.        ,\n",
       "         2.        ,   2.        ,   2.        ,   2.        ,\n",
       "         2.        ,   2.        ,   2.        ,   2.        ,\n",
       "         2.        ,   2.        ,   2.        ,   2.        ,\n",
       "         2.        ,   2.        ,   2.        ,   2.        ,\n",
       "         2.        ,   2.        ,   2.        ,   2.        ,\n",
       "         2.        ,   2.        ,   2.        ,   2.        ,\n",
       "         2.        ,   2.        ,   2.        ,   2.        ,\n",
       "         2.        ,   2.        ,   2.        ,   2.        ,\n",
       "         2.        ,   2.        ,   2.        ,   2.        ,\n",
       "         2.        ,   2.        ,   2.        ,   2.        ,\n",
       "         2.        ,   2.        ,   2.        ,   2.        ,\n",
       "         2.        ,   2.        ,   2.        ,   2.        ,\n",
       "         2.        ,   2.        ,   2.        ,   2.        ,\n",
       "         2.        ,   2.        ,   2.        ,   2.        ,\n",
       "         2.        ,   2.        ,   2.        ,   2.        ,\n",
       "         2.        ,   2.        ,   2.        ,   2.        ,\n",
       "         2.        ,   2.        ,   2.        ,   2.        ,\n",
       "         2.        ,   2.        ,   2.        ,   2.        ,\n",
       "         2.        ,   2.        ,   2.        ,   2.        ,\n",
       "         2.        ,   2.        ,   2.        ,   2.        ,\n",
       "         2.        ,   2.        ,   2.        ,   2.        ,\n",
       "         2.        ,   2.        ,   2.        ,   2.        ,\n",
       "         2.        ,   2.        ,   2.        ,   2.        ,\n",
       "         2.        ,   2.        ,   2.        ,   2.        ,\n",
       "         2.        ,   2.        ,   2.        ,   2.        ,\n",
       "         2.        ,   2.        ,   2.        ,   2.        ,\n",
       "         2.        ,   2.        ,   2.        ,   2.        ,\n",
       "         2.        ,   2.        ,   2.        ,   2.        ,\n",
       "         2.        ,   2.        ,   2.        ,   2.        ,\n",
       "         2.        ,   2.        ,   2.        ,   2.        ,\n",
       "         2.        ,   2.        ,   2.        ,   2.        ,\n",
       "         2.        ,   2.        ,   2.        ,   2.        ,\n",
       "         2.        ,   2.        ,   2.        ,   2.        ,\n",
       "         2.        ,   2.        ,   2.        ,   2.        ,\n",
       "         2.        ,   2.        ,   2.        ,   2.        ,\n",
       "         2.        ,   2.        ,   2.        ,   2.        ,\n",
       "         2.        ,   2.        ,   2.        ,   2.        ,\n",
       "         2.        ,   2.        ,   2.        ,   2.        ,\n",
       "         2.        ,   2.        ,   2.        ,   2.        ,\n",
       "         2.        ,   2.        ,   2.        ,   2.        ,\n",
       "         2.        ,   2.        ,   2.        ,   2.        ,\n",
       "         2.        ,   2.        ,   2.        ,   2.        ,\n",
       "         2.        ,   2.        ,   2.        ,   2.        ,\n",
       "         2.        ,   2.        ,   2.        ,   2.        ,\n",
       "         2.        ,   2.        ,   2.        ,   2.        ,\n",
       "         2.        ,   2.        ,   2.        ,   2.        ,\n",
       "         2.        ,   2.        ,   2.        ,   2.        ,\n",
       "         2.        ,   2.        ,   2.        ,   2.        ,\n",
       "         2.        ,   2.        ,   2.        ,   2.        ,\n",
       "         2.        ,   2.        ,   2.        ,   2.        ,\n",
       "         2.        ,   2.        ,   2.        ,   2.        ,\n",
       "         2.        ,   2.        ,   2.        ,   2.        ,\n",
       "         2.        ,   2.        ,   2.        ,   2.        ,\n",
       "         2.        ,   2.        ,   2.        ,   2.        ,\n",
       "         2.        ,   2.        ,   2.        ,   2.        ,\n",
       "         2.        ,   2.        ,   2.        ,   2.        ,\n",
       "         2.        ,   2.        ,   2.        ,   2.        ,\n",
       "         2.        ,   2.        ,   2.        ,   2.        ,\n",
       "         2.        ,   2.        ,   2.        ,   2.        ,\n",
       "         2.        ,   2.        ,   2.        ,   2.        ,\n",
       "         2.        ,   2.        ,   2.        ,   2.        ,\n",
       "         2.        ,   2.        ,   2.        ,   2.        ,\n",
       "         2.        ,   2.        ,   2.        ,   2.        ,\n",
       "         2.        ,   2.        ,   2.        ,   2.        ,\n",
       "         2.        ,   2.        ,   2.        ,   2.        ,\n",
       "         2.        ,   2.        ,   2.        ,   2.        ,\n",
       "         2.        ,   2.        ,   2.        ,   2.        ,\n",
       "         2.        ,   2.        ,   2.        ,   2.        ,\n",
       "         2.        ,   2.        ,   2.        ,   2.        ,\n",
       "         2.        ,   2.        ,   2.        ,   2.        ,\n",
       "         2.        ,   2.        ,   2.        ,   2.        ,\n",
       "         2.        ,   2.        ,   2.        ,   2.        ,\n",
       "         2.        ,   2.        ,   2.        ,   2.        ,\n",
       "         2.        ,   2.        ,   2.        ,   2.        ,\n",
       "         2.        ,   2.        ,   2.        ,   2.        ,\n",
       "         2.        ,   2.        ,   2.        ,   2.        ,\n",
       "         2.        ,   2.        ,   2.        ,   2.        ,\n",
       "         2.        ,   2.        ,   2.        ,   2.        ,\n",
       "         2.        ,   2.        ,   2.        ,   2.        ,\n",
       "         2.        ,   2.        ,   2.        ,   2.        ,\n",
       "         2.        ,   2.        ,   2.        ,   2.        ,\n",
       "         2.        ,   2.        ,   2.        ,   2.        ,\n",
       "         2.        ,   2.        ,   2.        ,   2.        ,\n",
       "         2.        ,   2.        ,   2.        ,   2.        ,\n",
       "         2.        ,   2.        ,   2.        ,   2.        ,\n",
       "         2.        ,   2.        ,   2.        ,   2.        ,\n",
       "         2.        ,   2.        ,   2.        ,   2.        ,\n",
       "         2.        ,   2.        ,   2.        ,   2.        ,\n",
       "         2.        ,   2.        ,   2.        ,   2.        ,\n",
       "         2.        ,   2.        ,   2.        ,   2.        ,\n",
       "         2.        ,   2.        ,   2.        ,   2.        ,\n",
       "         2.        ,   2.        ,   2.        ,   2.        ,\n",
       "         2.        ,   2.        ,   2.        ,   2.        ,\n",
       "         2.        ,   2.        ,   2.        ,   2.        ,\n",
       "         2.        ,   2.        ,   2.        ,   2.        ,\n",
       "         2.        ,   2.        ,   2.        ,   2.        ,\n",
       "         2.        ,   2.        ,   2.        ,   2.        ,\n",
       "         2.        ,   2.        ,   2.        ,   2.        ,\n",
       "         2.        ,   2.        ,   2.        ,   2.        ,\n",
       "         2.00000001,   2.00000001,   2.00000001,   2.00000002,\n",
       "         2.00000004,   2.00000006,   2.0000001 ,   2.00000017,\n",
       "         2.00000027,   2.00000045,   2.00000074,   2.00000123,\n",
       "         2.00000202,   2.00000334,   2.0000055 ,   2.00000907,\n",
       "         2.00001496,   2.00002466,   2.00004066,   2.00006703,\n",
       "         2.00011052,   2.00018221,   2.0003004 ,   2.00049523,\n",
       "         2.00081638,   2.00134565,   2.00221767,   2.00365375,\n",
       "         2.006017  ,   2.00990127,   2.01627276,   2.02669028,\n",
       "         2.04363427,   2.07096543,   2.11448552,   2.18245092,\n",
       "         2.28568249,   2.43675067,   2.6479328 ,   2.9284674 ,\n",
       "         3.28247496,   3.70866496,   4.20167967,   4.75402498,\n",
       "         5.35768159,   6.00508472,   6.68956547,   7.40545807,\n",
       "         8.14804071,   8.91341212,   9.69835622,  10.50021751,\n",
       "        11.31679482,  12.14625412,  12.9870583 ,  13.83791117,\n",
       "        14.69771291,  15.5655246 ,  16.44053992,  17.32206253,\n",
       "        18.20948777,  19.10228788,  20.        ,  20.90221629,\n",
       "        21.80857585,  22.71875798,  23.6324766 ,  24.54947558,\n",
       "        25.46952481,  26.39241687,  27.31796422,  28.2459968 ,\n",
       "        29.17635993,  30.10891262,  31.04352596,  31.98008185,\n",
       "        32.91847183,  33.85859609,  34.80036256,  35.74368619,\n",
       "        36.68848822,  37.6346956 ,  38.58224047,  39.53105969,\n",
       "        40.48109439,  41.43228963,  42.38459404,  43.33795954,\n",
       "        44.29234106,  45.24769627,  46.20398544,  47.16117114,\n",
       "        48.11921813,  49.07809319,  50.03776495,  50.99820375,\n",
       "        51.95938155,  52.9212718 ,  53.88384933,  54.84709026,\n",
       "        55.81097194,  56.77547281,  57.7405724 ,  58.70625121,\n",
       "        59.67249067,  60.63927307,  61.60658154,  62.57439994,\n",
       "        63.5427129 ,  64.51150568,  65.48076421,  66.45047501,\n",
       "        67.42062519,  68.39120238,  69.36219472,  70.33359084,\n",
       "        71.30537983,  72.27755119,  73.25009487,  74.22300116,\n",
       "        75.19626077,  76.16986472,  77.14380438,  78.11807144,\n",
       "        79.09265789,  80.06755602,  81.04275836,  82.01825774,\n",
       "        82.99404721,  83.97012009,  84.94646989,  85.92309037,\n",
       "        86.89997547,  87.87711936,  88.85451637,  89.83216103,\n",
       "        90.81004804,  91.78817226,  92.76652872,  93.74511261,\n",
       "        94.72391924,  95.70294409,  96.68218277,  97.66163101,\n",
       "        98.64128467,  99.62113973, 100.60119229, 101.58143856,\n",
       "       102.56187485, 103.54249759, 104.5233033 , 105.50428859,\n",
       "       106.48545016, 107.46678482, 108.44828945, 109.42996101,\n",
       "       110.41179655, 111.39379319, 112.37594814, 113.35825865,\n",
       "       114.34072208, 115.32333582, 116.30609735, 117.28900421,\n",
       "       118.27205398, 119.25524433, 120.23857295, 121.22203763,\n",
       "       122.20563618, 123.18936647, 124.17322642, 125.15721401,\n",
       "       126.14132725, 127.12556419, 128.10992296, 129.0944017 ,\n",
       "       130.0789986 , 131.06371189, 132.04853984, 133.03348077,\n",
       "       134.01853301, 135.00369496, 135.98896503, 136.97434166,\n",
       "       137.95982334, 138.94540859, 139.93109595, 140.91688401,\n",
       "       141.90277136, 142.88875664, 143.87483851, 144.86101567,\n",
       "       145.84728683, 146.83365073, 147.82010613, 148.80665184,\n",
       "       149.79328666, 150.78000943, 151.76681901, 152.75371429,\n",
       "       153.74069417, 154.72775757, 155.71490343, 156.70213073,\n",
       "       157.68943844, 158.67682556, 159.66429113, 160.65183418,\n",
       "       161.63945375, 162.62714894, 163.61491882, 164.60276251,\n",
       "       165.59067912, 166.57866779, 167.56672769, 168.55485796,\n",
       "       169.5430578 , 170.53132641, 171.51966299, 172.50806676,\n",
       "       173.49653696, 174.48507285, 175.47367368, 176.46233873,\n",
       "       177.45106729, 178.43985865, 179.42871212, 180.41762702,\n",
       "       181.4066027 , 182.39563848, 183.38473373, 184.3738878 ,\n",
       "       185.36310007, 186.35236993, 187.34169676, 188.33107998,\n",
       "       189.32051899, 190.31001321, 191.29956208, 192.28916503,\n",
       "       193.27882152, 194.26853099, 195.25829292, 196.24810677,\n",
       "       197.23797202, 198.22788817, 199.21785471, 200.20787113,\n",
       "       201.19793696, 202.18805171, 203.1782149 , 204.16842606,\n",
       "       205.15868474, 206.14899048, 207.13934282, 208.12974133,\n",
       "       209.12018557, 210.11067511, 211.10120952, 212.0917884 ,\n",
       "       213.08241131, 214.07307787, 215.06378766, 216.0545403 ,\n",
       "       217.04533539, 218.03617254, 219.02705138, 220.01797154,\n",
       "       221.00893264, 221.99993431, 222.99097621, 223.98205796,\n",
       "       224.97317923, 225.96433967, 226.95553894, 227.94677669,\n",
       "       228.9380526 , 229.92936633, 230.92071757, 231.912106  ,\n",
       "       232.90353129, 233.89499314, 234.88649124, 235.87802528,\n",
       "       236.86959497, 237.8612    , 238.85284009, 239.84451494,\n",
       "       240.83622428, 241.82796781, 242.81974526, 243.81155635,\n",
       "       244.80340082, 245.79527839, 246.78718879, 247.77913177,\n",
       "       248.77110707, 249.76311442, 250.75515358, 251.7472243 ,\n",
       "       252.73932633, 253.73145942, 254.72362333, 255.71581783,\n",
       "       256.70804267, 257.70029764, 258.69258248, 259.68489698,\n",
       "       260.67724092, 261.66961406, 262.66201619, 263.65444709,\n",
       "       264.64690655, 265.63939434, 266.63191027, 267.62445413,\n",
       "       268.6170257 , 269.60962478, 270.60225117, 271.59490468,\n",
       "       272.58758511, 273.58029225, 274.57302593, 275.56578594,\n",
       "       276.55857209, 277.55138421, 278.54422211, 279.5370856 ,\n",
       "       280.52997451, 281.52288865, 282.51582784, 283.50879192,\n",
       "       284.50178071, 285.49479404, 286.48783173, 287.48089362,\n",
       "       288.47397954, 289.46708934, 290.46022284, 291.45337988,\n",
       "       292.44656031, 293.43976396, 294.43299069, 295.42624033,\n",
       "       296.41951273, 297.41280774, 298.40612521, 299.399465  ,\n",
       "       300.39282695, 301.38621091, 302.37961675, 303.37304432,\n",
       "       304.36649348, 305.35996409, 306.353456  , 307.34696909,\n",
       "       308.34050322, 309.33405825, 310.32763404, 311.32123047,\n",
       "       312.31484741, 313.30848472, 314.30214227, 315.29581994,\n",
       "       316.28951761, 317.28323514, 318.27697242, 319.27072931,\n",
       "       320.26450571, 321.25830148, 322.25211651, 323.24595069,\n",
       "       324.23980388, 325.23367599, 326.22756689, 327.22147646,\n",
       "       328.21540461, 329.2093512 , 330.20331614, 331.19729931,\n",
       "       332.19130061, 333.18531992, 334.17935714, 335.17341217,\n",
       "       336.16748489, 337.1615752 , 338.15568301, 339.1498082 ,\n",
       "       340.14395068, 341.13811035, 342.1322871 , 343.12648084,\n",
       "       344.12069147, 345.11491889, 346.10916301, 347.10342373,\n",
       "       348.09770095, 349.09199458, 350.08630454, 351.08063072,\n",
       "       352.07497303, 353.06933139, 354.0637057 , 355.05809588,\n",
       "       356.05250183, 357.04692348, 358.04136072, 359.03581348,\n",
       "       360.03028167, 361.0247652 , 362.019264  , 363.01377797,\n",
       "       364.00830703, 365.00285111, 365.99741012, 366.99198398,\n",
       "       367.98657261, 368.98117593, 369.97579386, 370.97042632,\n",
       "       371.96507324, 372.95973453, 373.95441013, 374.94909996,\n",
       "       375.94380393, 376.93852199, 377.93325404, 378.92800003,\n",
       "       379.92275987, 380.91753349, 381.91232083, 382.90712181,\n",
       "       383.90193636, 384.89676441, 385.89160589, 386.88646073,\n",
       "       387.88132886, 388.87621023, 389.87110475, 390.86601236,\n",
       "       391.86093299, 392.85586659, 393.85081308, 394.84577239,\n",
       "       395.84074447, 396.83572926, 397.83072668, 398.82573667,\n",
       "       399.82075917, 400.81579413, 401.81084147, 402.80590114,\n",
       "       403.80097307, 404.79605721, 405.7911535 , 406.78626187,\n",
       "       407.78138227, 408.77651464, 409.77165892, 410.76681506,\n",
       "       411.76198299, 412.75716266, 413.75235401, 414.747557  ,\n",
       "       415.74277155, 416.73799762, 417.73323515, 418.72848409,\n",
       "       419.72374438, 420.71901597, 421.7142988 , 422.70959283,\n",
       "       423.704898  , 424.70021426, 425.69554156, 426.69087984,\n",
       "       427.68622905, 428.68158915, 429.67696008, 430.6723418 ,\n",
       "       431.66773425, 432.66313738, 433.65855115, 434.65397551,\n",
       "       435.6494104 , 436.64485578, 437.64031161, 438.63577783,\n",
       "       439.6312544 , 440.62674127, 441.6222384 , 442.61774573,\n",
       "       443.61326323, 444.60879085, 445.60432853, 446.59987625,\n",
       "       447.59543395, 448.59100159, 449.58657912, 450.58216651,\n",
       "       451.5777637 , 452.57337066, 453.56898734, 454.5646137 ,\n",
       "       455.5602497 , 456.55589529, 457.55155043, 458.54721509,\n",
       "       459.54288922, 460.53857278, 461.53426573, 462.52996802,\n",
       "       463.52567963, 464.5214005 , 465.51713061, 466.5128699 ,\n",
       "       467.50861835, 468.5043759 , 469.50014253, 470.4959182 ,\n",
       "       471.49170286, 472.48749648, 473.48329903, 474.47911045,\n",
       "       475.47493073, 476.47075981, 477.46659767, 478.46244426,\n",
       "       479.45829956, 480.45416352, 481.4500361 , 482.44591728,\n",
       "       483.44180702, 484.43770528, 485.43361203, 486.42952723,\n",
       "       487.42545085, 488.42138286, 489.41732321, 490.41327188,\n",
       "       491.40922883, 492.40519403, 493.40116745, 494.39714905,\n",
       "       495.3931388 , 496.38913666, 497.38514262, 498.38115662,\n",
       "       499.37717864, 500.37320865, 501.36924662, 502.36529252,\n",
       "       503.36134631, 504.35740796, 505.35347744, 506.34955472,\n",
       "       507.34563977])"
      ]
     },
     "execution_count": 72,
     "metadata": {},
     "output_type": "execute_result"
    }
   ],
   "source": [
    "rad_arr[:]"
   ]
  },
  {
   "cell_type": "code",
   "execution_count": 73,
   "id": "14a10ff6-0b53-4ace-94a5-f3c08196beed",
   "metadata": {},
   "outputs": [
    {
     "data": {
      "text/plain": [
       "(np.float64(24.39444915467244), np.float64(-24.39444915467244))"
      ]
     },
     "execution_count": 73,
     "metadata": {},
     "output_type": "execute_result"
    }
   ],
   "source": [
    "v_range[0], u_range[0]"
   ]
  },
  {
   "cell_type": "code",
   "execution_count": 74,
   "id": "a1d30803-e1cc-4640-90da-362106ee330a",
   "metadata": {},
   "outputs": [
    {
     "data": {
      "text/plain": [
       "np.float64(2.0)"
      ]
     },
     "execution_count": 74,
     "metadata": {},
     "output_type": "execute_result"
    }
   ],
   "source": [
    "rad_arr[0]"
   ]
  },
  {
   "cell_type": "code",
   "execution_count": 75,
   "id": "1251e06d-daca-41e1-b32e-c18fa6289f6b",
   "metadata": {},
   "outputs": [
    {
     "data": {
      "text/plain": [
       "np.float64(963.6363138821582)"
      ]
     },
     "execution_count": 75,
     "metadata": {},
     "output_type": "execute_result"
    }
   ],
   "source": [
    "umax = u_range[-1]\n",
    "umax"
   ]
  },
  {
   "cell_type": "code",
   "execution_count": 76,
   "id": "3b799066-3b6d-4180-8495-c940bf5bae05",
   "metadata": {},
   "outputs": [
    {
     "data": {
      "text/plain": [
       "np.float64(2.0)"
      ]
     },
     "execution_count": 76,
     "metadata": {},
     "output_type": "execute_result"
    }
   ],
   "source": [
    "rmin = 2*(np.real(scsp.lambertw(np.exp(-1 + (v_range[0] - umax)/4))) + 1)\n",
    "rmin"
   ]
  },
  {
   "cell_type": "code",
   "execution_count": 79,
   "id": "2b06c1f9-230d-47b6-9dc5-179ea434d415",
   "metadata": {},
   "outputs": [
    {
     "data": {
      "text/plain": [
       "np.float64(1012.4252121915031)"
      ]
     },
     "execution_count": 79,
     "metadata": {},
     "output_type": "execute_result"
    }
   ],
   "source": [
    "vmax = np.max(v_range)\n",
    "vmax"
   ]
  },
  {
   "cell_type": "code",
   "execution_count": 80,
   "id": "2f8e1500-fd8b-413e-818c-ff817fd28179",
   "metadata": {},
   "outputs": [
    {
     "data": {
      "text/plain": [
       "np.float64(963.6363138821582)"
      ]
     },
     "execution_count": 80,
     "metadata": {},
     "output_type": "execute_result"
    }
   ],
   "source": [
    "umax = np.max(u_range)\n",
    "umax"
   ]
  },
  {
   "cell_type": "code",
   "execution_count": 81,
   "id": "1c9e5c29-5b89-42f6-b603-6d518467145d",
   "metadata": {},
   "outputs": [
    {
     "data": {
      "text/plain": [
       "np.float64(19.999999999999993)"
      ]
     },
     "execution_count": 81,
     "metadata": {},
     "output_type": "execute_result"
    }
   ],
   "source": [
    "ruvmax = 2*(np.real(scsp.lambertw(np.exp(-1 + (vmax - umax)/4))) + 1)\n",
    "ruvmax"
   ]
  },
  {
   "cell_type": "code",
   "execution_count": 82,
   "id": "a90492a3-06b2-4dce-896d-d174777fda30",
   "metadata": {},
   "outputs": [
    {
     "data": {
      "text/plain": [
       "np.float64(507.34563977350473)"
      ]
     },
     "execution_count": 82,
     "metadata": {},
     "output_type": "execute_result"
    }
   ],
   "source": [
    "rout = 2*(np.real(scsp.lambertw(np.exp(-1 + (vmax - u_range[0])/4))) + 1)\n",
    "rout"
   ]
  },
  {
   "cell_type": "code",
   "execution_count": 83,
   "id": "6fe8f3c2-2fd5-47ea-bba3-705cfb0c867a",
   "metadata": {},
   "outputs": [
    {
     "data": {
      "text/plain": [
       "np.float64(507.34563977350473)"
      ]
     },
     "execution_count": 83,
     "metadata": {},
     "output_type": "execute_result"
    }
   ],
   "source": [
    "np.max(rad_arr)"
   ]
  },
  {
   "cell_type": "code",
   "execution_count": 85,
   "id": "549c1b83-7acc-472f-afb1-f35ac2f06a68",
   "metadata": {},
   "outputs": [
    {
     "data": {
      "text/plain": [
       "np.float64(-24.39444915467244)"
      ]
     },
     "execution_count": 85,
     "metadata": {},
     "output_type": "execute_result"
    }
   ],
   "source": [
    "u0 = u_range[0]\n",
    "u0"
   ]
  },
  {
   "cell_type": "code",
   "execution_count": null,
   "id": "5ee37f82-c024-4afb-9554-0c142450af8c",
   "metadata": {},
   "outputs": [],
   "source": []
  }
 ],
 "metadata": {
  "kernelspec": {
   "display_name": "Python [conda env:sfenv] *",
   "language": "python",
   "name": "conda-env-sfenv-py"
  },
  "language_info": {
   "codemirror_mode": {
    "name": "ipython",
    "version": 3
   },
   "file_extension": ".py",
   "mimetype": "text/x-python",
   "name": "python",
   "nbconvert_exporter": "python",
   "pygments_lexer": "ipython3",
   "version": "3.12.4"
  }
 },
 "nbformat": 4,
 "nbformat_minor": 5
}
