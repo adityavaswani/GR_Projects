{
 "cells": [
  {
   "cell_type": "code",
   "execution_count": 121,
   "id": "445f1708-2a1d-43c0-95be-6b4203780b85",
   "metadata": {},
   "outputs": [
    {
     "data": {
      "text/plain": [
       "\"Script to solve scalar wave equation on Schwarzschild spacetime. Practice for the gravitational scattering case. The detailed physical setup is described by Barack & Burko (2000) (https://arxiv.org/abs/gr-qc/0007033)]. Essentially, we consider a scalar charge q plunging into a Schwarzschild Black Hole of mass M and calculate the first order self-force correction to the small object's motion as a perturbation to motion on the Schwarzschild background.\""
      ]
     },
     "execution_count": 121,
     "metadata": {},
     "output_type": "execute_result"
    }
   ],
   "source": [
    "\"\"\"Script to solve scalar wave equation on Schwarzschild spacetime. Practice for the gravitational scattering case. The detailed \\\n",
    "physical setup is described by Barack & Burko (2000) (https://arxiv.org/abs/gr-qc/0007033)]. Essentially, we consider a scalar charge \\\n",
    "q plunging into a Schwarzschild Black Hole of mass M and calculate the first order self-force correction to the small object's motion \\\n",
    "as a perturbation to motion on the Schwarzschild background.\"\"\""
   ]
  },
  {
   "cell_type": "code",
   "execution_count": 122,
   "id": "5f2d5572-9b5e-420d-a7fc-80b5d6dead1d",
   "metadata": {},
   "outputs": [],
   "source": [
    "import time\n",
    "from datetime import timedelta\n",
    "import numpy as np\n",
    "import scipy.special as scsp\n",
    "import matplotlib.pyplot as plt\n",
    "from matplotlib import cm\n",
    "from mpl_toolkits.mplot3d import axes3d"
   ]
  },
  {
   "cell_type": "code",
   "execution_count": 123,
   "id": "c36aab3f-a489-4d57-b986-bffaf89ddeb5",
   "metadata": {},
   "outputs": [],
   "source": [
    "%matplotlib widget"
   ]
  },
  {
   "cell_type": "code",
   "execution_count": 124,
   "id": "3e4d8016-acb0-495a-b757-8c1cd9fcc346",
   "metadata": {},
   "outputs": [],
   "source": [
    "# For the first part of the problem, we simply analyse how a perturbation to the initial field configuration evolves by scattering off the \n",
    "# Schwarzschild background in a vacuum region of the spacetime. In particular, we find that the initial perturbation, and accompanying junk \n",
    "# radiation both decay exponentially in vacuum over time."
   ]
  },
  {
   "cell_type": "code",
   "execution_count": 125,
   "id": "068fb47d-8085-49fe-adae-81ee97dd06b1",
   "metadata": {},
   "outputs": [],
   "source": [
    "class scalar_field:\n",
    "    \"\"\"A class for the initialisation and evolution of a scalar field on a Schwarzschild background, given some initial radial coordinate r_in\n",
    "    and some maximal radial coordinate r_max along with the step size.\"\"\"\n",
    "\n",
    "    def tort_coord(self, r):\n",
    "        \"\"\"Return of the tortoise coordinate for a given input radial coordinate and Schwarzschild BH mass\"\"\"\n",
    "        M = self.BH_mass\n",
    "        return r + 2*M*np.log(r/(2*M) - 1)\n",
    "\n",
    "    def __init__(self, r_in, r_max, h):\n",
    "        \"\"\"Instantiate the scalar field with the initial and maximal radial coordinates, the mass of the background Schwarzschild BH, initial and \n",
    "        maximal tortoise coordinates, maximal time coordinate, and the number of steps used to construct the grid.\"\"\"\n",
    "        M = 1.0\n",
    "        self.BH_mass = M\n",
    "        self.r_init = r_in\n",
    "        self.r_max = r_max\n",
    "        self.step_size = h\n",
    "\n",
    "        # Calculate the initial and maximal values of the tortoise coordinates.\n",
    "        self.tort_init = self.tort_coord(r_in)\n",
    "        self.tort_max = self.tort_coord(r_max)\n",
    "\n",
    "        # Calculate the maximal value of the time coordinate. For a square (v, u) grid, this amounts to t_max - t_min = tort_max - tort_min, where\n",
    "        # we choose t_min = 0 by convention. Use this to calculate the number of steps required to go from 0 to t_max (this is because numpy's \n",
    "        # arange is unstable when the endpoints with large separation, so we use linspace instead, which requires num_step instead of step_size. \n",
    "        # On the other hand, the initial data specifies step_size since this is a more physically relevant parameter to control, for e.g. when \n",
    "        # carrying out convergence tests).\n",
    "        self.t_max = self.tort_max - self.tort_init\n",
    "        self.num_step = 1 + int(self.t_max/self.step_size)\n",
    "\n",
    "    def time_array(self):\n",
    "        \"\"\"Return the array of time instants, taking t_in = 0.\"\"\"\n",
    "        t_max = self.t_max\n",
    "        num_step = self.num_step\n",
    "\n",
    "        return np.linspace(0, t_max, num_step)\n",
    "\n",
    "    def v_u_coord(self):\n",
    "        \"\"\"Return the arrays describing the v and u axes.\"\"\"\n",
    "        num_step = self.num_step\n",
    "        v_in = self.tort_init\n",
    "        u_in = -self.tort_init\n",
    "        v_max = self.t_max + self.tort_init\n",
    "        u_max = self.t_max - self.tort_init\n",
    "\n",
    "        v_arr = np.linspace(v_in, v_max, num_step)\n",
    "        u_arr = np.linspace(u_in, u_max, num_step)\n",
    "\n",
    "        return v_arr, u_arr\n",
    "\n",
    "    def rad_val_grid(self):\n",
    "        \"\"\"Computes the values of the radial coordinate r (not tortoise!) corresponding to each (v, u) point, which can then be fed into the \n",
    "        effective potential. Since the grid is square in v & u, and since the null coordinates are monotonic functions of t and r, the diagonals\n",
    "        of the (v, u) square grid correspond to lines of constant t and constant r. For instance, the line connecting (v_in, u_in) and\n",
    "        (v_max, u_max) is a line of constant r, with only t increasing. Thus from the v and u axes, we can construct an r axis, which is a 1D array\n",
    "        (instead of a 2D array computing r for each (v, u)) with the relevant radial coordinate details.\"\"\"\n",
    "        num_step = self.num_step\n",
    "        tort_init = self.tort_init\n",
    "        tort_max = self.tort_max\n",
    "        rad_arr = np.linspace()\n",
    "\n",
    "    def field_evo(self):\n",
    "        v_arr, u_arr = self.v_u_coord()\n",
    "        field = np.zeros((len(v_arr), len(u_arr)))\n",
    "\n",
    "        return field"
   ]
  },
  {
   "cell_type": "code",
   "execution_count": 126,
   "id": "86017043-4e7c-4c1a-b009-d57b15855ab2",
   "metadata": {},
   "outputs": [],
   "source": [
    "r_in = 20.0\n",
    "r_max = 1000.0\n",
    "h = 2\n",
    "psi = scalar_field(r_in, r_max, h)"
   ]
  },
  {
   "cell_type": "code",
   "execution_count": 127,
   "id": "2ea3f07b-2ec0-4da6-b27d-b4b9aebc92c1",
   "metadata": {},
   "outputs": [
    {
     "data": {
      "text/plain": [
       "(1.0, 20.0, 1000.0, 2)"
      ]
     },
     "execution_count": 127,
     "metadata": {},
     "output_type": "execute_result"
    }
   ],
   "source": [
    "psi.BH_mass, psi.r_init, psi.r_max, psi.step_size"
   ]
  },
  {
   "cell_type": "code",
   "execution_count": 128,
   "id": "1bd496da-f91a-4aa0-a399-5924e82a26a5",
   "metadata": {},
   "outputs": [
    {
     "data": {
      "text/plain": [
       "(np.float64(24.39444915467244),\n",
       " np.float64(1012.4252121915031),\n",
       " np.float64(988.0307630368306),\n",
       " 495)"
      ]
     },
     "execution_count": 128,
     "metadata": {},
     "output_type": "execute_result"
    }
   ],
   "source": [
    "psi.tort_init, psi.tort_max, psi.t_max, psi.num_step"
   ]
  },
  {
   "cell_type": "code",
   "execution_count": 129,
   "id": "578b5e00-a72b-40f6-82ff-cd70a627bac5",
   "metadata": {},
   "outputs": [],
   "source": [
    "v_range, u_range = psi.v_u_coord()"
   ]
  },
  {
   "cell_type": "code",
   "execution_count": 130,
   "id": "0c5a58e5-09bd-4724-920e-fb2e082d80b5",
   "metadata": {},
   "outputs": [
    {
     "data": {
      "text/plain": [
       "(495, 495)"
      ]
     },
     "execution_count": 130,
     "metadata": {},
     "output_type": "execute_result"
    }
   ],
   "source": [
    "len(v_range), len(u_range)"
   ]
  },
  {
   "cell_type": "code",
   "execution_count": 131,
   "id": "cc27ed42-c6b8-4414-b036-32a53e25753a",
   "metadata": {},
   "outputs": [
    {
     "data": {
      "text/plain": [
       "(495, 495)"
      ]
     },
     "execution_count": 131,
     "metadata": {},
     "output_type": "execute_result"
    }
   ],
   "source": [
    "psi_val = psi.field_evo()\n",
    "np.shape(psi_val)"
   ]
  },
  {
   "cell_type": "code",
   "execution_count": 132,
   "id": "14a10ff6-0b53-4ace-94a5-f3c08196beed",
   "metadata": {},
   "outputs": [
    {
     "data": {
      "text/plain": [
       "array([[0., 1., 0., ..., 0., 0., 0.],\n",
       "       [0., 0., 0., ..., 0., 0., 0.],\n",
       "       [0., 0., 0., ..., 0., 0., 0.],\n",
       "       ...,\n",
       "       [0., 0., 0., ..., 0., 0., 0.],\n",
       "       [0., 0., 0., ..., 0., 0., 0.],\n",
       "       [0., 0., 0., ..., 0., 0., 0.]])"
      ]
     },
     "execution_count": 132,
     "metadata": {},
     "output_type": "execute_result"
    }
   ],
   "source": [
    "psi_val[0, 1] = 1\n",
    "psi_val"
   ]
  },
  {
   "cell_type": "code",
   "execution_count": null,
   "id": "a72b4b8d-e9a6-428b-bf0c-952d5a279795",
   "metadata": {},
   "outputs": [],
   "source": []
  }
 ],
 "metadata": {
  "kernelspec": {
   "display_name": "Python [conda env:sfenv] *",
   "language": "python",
   "name": "conda-env-sfenv-py"
  },
  "language_info": {
   "codemirror_mode": {
    "name": "ipython",
    "version": 3
   },
   "file_extension": ".py",
   "mimetype": "text/x-python",
   "name": "python",
   "nbconvert_exporter": "python",
   "pygments_lexer": "ipython3",
   "version": "3.12.4"
  }
 },
 "nbformat": 4,
 "nbformat_minor": 5
}
